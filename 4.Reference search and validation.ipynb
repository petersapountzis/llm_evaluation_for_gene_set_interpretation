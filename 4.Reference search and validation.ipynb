{
 "cells": [
  {
   "cell_type": "markdown",
   "metadata": {},
   "source": [
    "# Notebook for running literature search and validation "
   ]
  },
  {
   "cell_type": "code",
   "execution_count": 1,
   "metadata": {},
   "outputs": [],
   "source": [
    "import os\n",
    "import pandas as pd\n",
    "import json \n",
    "from Bio import Entrez\n",
    "import openai\n",
    "from utils.reference_checker import get_references_for_paragraphs\n",
    "import pickle"
   ]
  },
  {
   "cell_type": "code",
   "execution_count": 2,
   "metadata": {},
   "outputs": [],
   "source": [
    "runVersion = 'initial'"
   ]
  },
  {
   "cell_type": "code",
   "execution_count": 3,
   "metadata": {},
   "outputs": [],
   "source": [
    "dataType = \"Omics\""
   ]
  },
  {
   "cell_type": "code",
   "execution_count": 9,
   "metadata": {},
   "outputs": [],
   "source": [
    "if dataType == \"Omics\":\n",
    "    LLM_analysisFilePath  = 'data/omics_LLM_Enrichr_simVals_DF.tsv'\n",
    "    toSaveFilePath = 'data/omics_LLM_Enrichr_simVals_refs_DF.tsv'\n",
    "    nameCol = 'GeneSetName'\n",
    "    \n",
    "\n",
    "elif dataType == \"GO_sets\":\n",
    "    LLM_analysisFilePath = 'data/GO_term_analysis/simrank_LLM_processed_selected_1000_go_terms.tsv'\n",
    "    toSaveFilePath = 'data/GO_term_analysis/simrank_LLM_processed_selected_1000_go_terms_refs.tsv'\n",
    "    jsonFilePath = 'reference_checking_task1.json'\n",
    "    examplesTORun = [\"GO:0019433\"] \n",
    "    nameCol = 'GO'\n",
    "    \n",
    "else:\n",
    "    print(\"Not implemented for dataType\")\n",
    "    "
   ]
  },
  {
   "cell_type": "code",
   "execution_count": 10,
   "metadata": {},
   "outputs": [],
   "source": [
    "jsonFilePath = 'jsonFiles/reference_checking_revision.json'"
   ]
  },
  {
   "cell_type": "code",
   "execution_count": 11,
   "metadata": {},
   "outputs": [],
   "source": [
    "with open(jsonFilePath) as json_file:\n",
    "    config = json.load(json_file)\n",
    "\n",
    "openai.api_key = os.environ[\"OPENAI_API_KEY\"]\n",
    "email = config['EMAIL']\n",
    "\n",
    " # save the paragraph with corresponding keywords and references to a json file \n",
    "savejsonPath = 'paragraph_ref_data_revision' #this is the default, change to your own json file name (no need to add '.json') \n",
    "\n",
    "openai.api_key = os.environ[\"OPENAI_API_KEY\"] # Environment variable"
   ]
  },
  {
   "cell_type": "code",
   "execution_count": 12,
   "metadata": {},
   "outputs": [],
   "source": [
    "MarkedParagraphs = []"
   ]
  },
  {
   "cell_type": "code",
   "execution_count": 13,
   "metadata": {
    "tags": []
   },
   "outputs": [],
   "source": [
    "## Read in the LLM analysis file\n",
    "df = pd.read_csv(LLM_analysisFilePath, sep='\\t', keep_default_na=False, na_values=['NaN'])\n",
    "df = df.replace({'None':None})"
   ]
  },
  {
   "cell_type": "code",
   "execution_count": 14,
   "metadata": {
    "tags": []
   },
   "outputs": [],
   "source": [
    "if (runVersion == \"initial\") or (runVersion == \"rerun\") or (runVersion == \"test\"):\n",
    "    df['References'] = None"
   ]
  },
  {
   "cell_type": "code",
   "execution_count": null,
   "metadata": {
    "tags": []
   },
   "outputs": [],
   "source": [
    "for i, row in df.iterrows():\n",
    "#for i in range(startRow, df.shape[0]):\n",
    "#    row = df.iloc[i]\n",
    "  #  if runOnlyExamples: # Only run examples\n",
    "  #      if df.iloc[i][nameCol] not in examplesTORun: \n",
    "  #          continue\n",
    "\n",
    "    \n",
    "    if runVersion == \"initial\":\n",
    "        if df.iloc[i]['References'] is not None:\n",
    "            continue\n",
    "    if runVersion == \"additional\":\n",
    "        if not (df.iloc[i]['References'] == ''):\n",
    "            continue # skip this row because already done\n",
    "    \n",
    "    print('=========================================')\n",
    "\n",
    "    print(['dataframe row', i])\n",
    "    # check out the llm analysis \n",
    "    example_analysis = df.iloc[i]['LLM Analysis']\n",
    "    paragraphs = list(filter(lambda p: len(p.split()) > 5, example_analysis.split(\"\\n\")))\n",
    "    \n",
    "    try:\n",
    "        references = get_references_for_paragraphs(paragraphs, email = email, config =config, n=3, verbose=True, MarkedParagraphs = MarkedParagraphs, saveto=savejsonPath)\n",
    "        print(['Cannot get references for row', i])\n",
    "    except:\n",
    "        references = ''\n",
    "        \n",
    "    references.replace( '\\n', '')\n",
    "        \n",
    "    df.loc[i, 'References'] = references\n",
    "    if i%5==0:\n",
    "        df.to_csv(toSaveFilePath, sep = '\\t')\n",
    "        \n",
    "if not runOnlyExamples:\n",
    "    if MarkedParagraphs:\n",
    "        with open('data/marked_paragraph_reference.json', 'w') as fp:\n",
    "            json.dump(MarkedParagraphs, fp)\n",
    "if not runOnlyExamples: \n",
    "    df.to_csv(toSaveFilePath, sep = '\\t')"
   ]
  },
  {
   "cell_type": "code",
   "execution_count": null,
   "metadata": {},
   "outputs": [],
   "source": [
    "# save MarkedParagraphs\n",
    "with open('data/MarkedParagraphs.pickle', 'wb') as f:\n",
    "    pickle.dump(MarkedParagraphs, f)"
   ]
  },
  {
   "cell_type": "code",
   "execution_count": null,
   "metadata": {},
   "outputs": [],
   "source": [
    "df.to_csv(toSaveFilePath, sep = '\\t')"
   ]
  },
  {
   "cell_type": "code",
   "execution_count": 15,
   "metadata": {},
   "outputs": [],
   "source": [
    "i =1"
   ]
  },
  {
   "cell_type": "code",
   "execution_count": 16,
   "metadata": {},
   "outputs": [],
   "source": [
    "row = df.iloc[1]"
   ]
  },
  {
   "cell_type": "code",
   "execution_count": 17,
   "metadata": {},
   "outputs": [
    {
     "data": {
      "text/plain": [
       "Unnamed: 0.2                                                               1\n",
       "Unnamed: 0.1                                                               1\n",
       "index                                                                  97309\n",
       "Unnamed: 0                                                                 0\n",
       "Source                                                               Disease\n",
       "GeneSetName                                       Aortic valve calcification\n",
       "GeneList                         NOTCH1 TP53 GATA5 NKX2-5 SMAD6 AKT1 SLC20A1\n",
       "n_Genes                                                                    7\n",
       "LLM Name                   Regulation of Cardiogenesis and Cellular Growt...\n",
       "LLM Analysis               1. NOTCH1 is a transmembrane receptor involved...\n",
       "Score                                                                   0.92\n",
       "Rank                                                                       0\n",
       "Overlap                                                               Apr-37\n",
       "P-value                                                                  0.0\n",
       "Adjusted P-value                                                         0.0\n",
       "Genes                                              NOTCH1;GATA5;NKX2-5;SMAD6\n",
       "GO term                                          Aortic Valve Morphogenesis \n",
       "GO ID                                                             GO:0003180\n",
       "LLM_name_human_name_sim                                             0.323249\n",
       "GO_term_human_name_sim                                              0.647106\n",
       "winner                                                                    GO\n",
       "References                                                              None\n",
       "Name: 1, dtype: object"
      ]
     },
     "execution_count": 17,
     "metadata": {},
     "output_type": "execute_result"
    }
   ],
   "source": [
    "row"
   ]
  },
  {
   "cell_type": "code",
   "execution_count": 18,
   "metadata": {},
   "outputs": [],
   "source": [
    "example_analysis = df.iloc[i]['LLM Analysis']\n"
   ]
  },
  {
   "cell_type": "code",
   "execution_count": 19,
   "metadata": {},
   "outputs": [],
   "source": [
    "paragraphs = list(filter(lambda p: len(p.split()) > 5, example_analysis.split(\"\\n\")))\n"
   ]
  },
  {
   "cell_type": "code",
   "execution_count": 20,
   "metadata": {
    "tags": []
   },
   "outputs": [
    {
     "name": "stdout",
     "output_type": "stream",
     "text": [
      "Extracting keywords from paragraph\n",
      "Paragraph:\n",
      "1. NOTCH1 is a transmembrane receptor involved in the Notch signaling pathway, which plays a critical role in cardiac development, particularly in the differentiation of cardiac progenitor cells and the formation of the heart valves. It also influences cell fate decisions and promotes endothelial-to-mesenchymal transition (EndMT), a process essential for heart development.\n",
      "===========================================================================\n",
      "208\n",
      "Query:\n",
      " \n",
      "I have a paragraph\n",
      "Paragraph:\n",
      "1. NOTCH1 is a transmembrane receptor involved in the Notch signaling pathway, which plays a critical role in cardiac development, particularly in the differentiation of cardiac progenitor cells and the formation of the heart valves. It also influences cell fate decisions and promotes endothelial-to-mesenchymal transition (EndMT), a process essential for heart development.\n",
      "\n",
      "I would like to search PubMed to find supporting evidence for the statements in this paragraph. Give me a list of gene symbols from the paragraph. Please only include genes. Return the genes as a comma separated list without spacing, if there are no genes in the statements, please return \"Unknown\" \n",
      "Result:\n",
      "NOTCH1\n",
      "319\n",
      "Query:\n",
      "\n",
      "I would like to search PubMed to find supporting evidence for the statements in a paragraph. Give me a maximum of 3 keywords related to the protein functions or biological processes in the statements. \n",
      "\n",
      "Example paragraph:  Involvement of pattern recognition receptors: TLR1, TLR2, and TLR3 are part of the Toll-like receptor family, which recognize pathogen-associated molecular patterns and initiate innate immune responses. NOD2 and NLRP3 are intracellular sensors that also contribute to immune activation.\n",
      "Example response: immune response,receptors,pathogen\n",
      "\n",
      "Please don't include gene symbols. Please order keywords by their importance in the paragraph, from high importance to low importance. Return the keywords as a comma separated list without spaces. If there are no keywords matching the criteria, return \"Unknown\" \n",
      "\n",
      "Please find keywords for this paragraph:\n",
      "1. NOTCH1 is a transmembrane receptor involved in the Notch signaling pathway, which plays a critical role in cardiac development, particularly in the differentiation of cardiac progenitor cells and the formation of the heart valves. It also influences cell fate decisions and promotes endothelial-to-mesenchymal transition (EndMT), a process essential for heart development.\n",
      "    \n",
      "Result:\n",
      "Notch signaling,cardiac development,EndMT\n",
      "PubMed Keywords:  (\"NOTCH1\") AND (\"Notch signaling\" OR \"cardiac development\" OR \"EndMT\") AND (hasabstract[text])\n",
      "Serching paper with keywords...\n",
      "In paragraph 1, 99 references are queried\n",
      "The number of title matching paper: 0\n",
      "In paragraph 1, 0 references are matched\n",
      "\n",
      "\n",
      "Extracting keywords from paragraph\n",
      "Paragraph:\n",
      "2. TP53, commonly known as p53, is a tumor suppressor protein that regulates the cell cycle and thus functions as a regulator of cell proliferation. In the context of heart development, p53 has been implicated in the control of oxidative stress and the prevention of cardiac hypertrophy. It also plays a role in DNA repair and apoptosis in cardiomyocytes.\n",
      "===========================================================================\n",
      "207\n",
      "Query:\n",
      " \n",
      "I have a paragraph\n",
      "Paragraph:\n",
      "2. TP53, commonly known as p53, is a tumor suppressor protein that regulates the cell cycle and thus functions as a regulator of cell proliferation. In the context of heart development, p53 has been implicated in the control of oxidative stress and the prevention of cardiac hypertrophy. It also plays a role in DNA repair and apoptosis in cardiomyocytes.\n",
      "\n",
      "I would like to search PubMed to find supporting evidence for the statements in this paragraph. Give me a list of gene symbols from the paragraph. Please only include genes. Return the genes as a comma separated list without spacing, if there are no genes in the statements, please return \"Unknown\" \n",
      "Result:\n",
      "TP53\n",
      "320\n",
      "Query:\n",
      "\n",
      "I would like to search PubMed to find supporting evidence for the statements in a paragraph. Give me a maximum of 3 keywords related to the protein functions or biological processes in the statements. \n",
      "\n",
      "Example paragraph:  Involvement of pattern recognition receptors: TLR1, TLR2, and TLR3 are part of the Toll-like receptor family, which recognize pathogen-associated molecular patterns and initiate innate immune responses. NOD2 and NLRP3 are intracellular sensors that also contribute to immune activation.\n",
      "Example response: immune response,receptors,pathogen\n",
      "\n",
      "Please don't include gene symbols. Please order keywords by their importance in the paragraph, from high importance to low importance. Return the keywords as a comma separated list without spaces. If there are no keywords matching the criteria, return \"Unknown\" \n",
      "\n",
      "Please find keywords for this paragraph:\n",
      "2. TP53, commonly known as p53, is a tumor suppressor protein that regulates the cell cycle and thus functions as a regulator of cell proliferation. In the context of heart development, p53 has been implicated in the control of oxidative stress and the prevention of cardiac hypertrophy. It also plays a role in DNA repair and apoptosis in cardiomyocytes.\n",
      "    \n",
      "Result:\n",
      "cell cycle,oxidative stress,cardiac hypertrophy\n",
      "PubMed Keywords:  (\"TP53\") AND (\"cell cycle\" OR \"oxidative stress\" OR \"cardiac hypertrophy\") AND (hasabstract[text])\n",
      "Serching paper with keywords...\n",
      "In paragraph 2, 100 references are queried\n",
      "The number of title matching paper: 0\n",
      "In paragraph 2, 0 references are matched\n",
      "\n",
      "\n",
      "Extracting keywords from paragraph\n",
      "Paragraph:\n",
      "3. GATA5 is a member of the GATA family of zinc-finger transcription factors, which are known to be crucial for heart formation and function. GATA5, in particular, is involved in the regulation of cardiac morphogenesis and differentiation, as well as in the development of the endocardium and heart valves.\n",
      "===========================================================================\n",
      "201\n",
      "Query:\n",
      " \n",
      "I have a paragraph\n",
      "Paragraph:\n",
      "3. GATA5 is a member of the GATA family of zinc-finger transcription factors, which are known to be crucial for heart formation and function. GATA5, in particular, is involved in the regulation of cardiac morphogenesis and differentiation, as well as in the development of the endocardium and heart valves.\n",
      "\n",
      "I would like to search PubMed to find supporting evidence for the statements in this paragraph. Give me a list of gene symbols from the paragraph. Please only include genes. Return the genes as a comma separated list without spacing, if there are no genes in the statements, please return \"Unknown\" \n",
      "Result:\n",
      "GATA5\n",
      "312\n",
      "Query:\n",
      "\n",
      "I would like to search PubMed to find supporting evidence for the statements in a paragraph. Give me a maximum of 3 keywords related to the protein functions or biological processes in the statements. \n",
      "\n",
      "Example paragraph:  Involvement of pattern recognition receptors: TLR1, TLR2, and TLR3 are part of the Toll-like receptor family, which recognize pathogen-associated molecular patterns and initiate innate immune responses. NOD2 and NLRP3 are intracellular sensors that also contribute to immune activation.\n",
      "Example response: immune response,receptors,pathogen\n",
      "\n",
      "Please don't include gene symbols. Please order keywords by their importance in the paragraph, from high importance to low importance. Return the keywords as a comma separated list without spaces. If there are no keywords matching the criteria, return \"Unknown\" \n",
      "\n",
      "Please find keywords for this paragraph:\n",
      "3. GATA5 is a member of the GATA family of zinc-finger transcription factors, which are known to be crucial for heart formation and function. GATA5, in particular, is involved in the regulation of cardiac morphogenesis and differentiation, as well as in the development of the endocardium and heart valves.\n",
      "    \n",
      "Result:\n",
      "cardiac development,transcription factors,heart valves\n",
      "PubMed Keywords:  (\"GATA5\") AND (\"cardiac development\" OR \"transcription factors\" OR \"heart valves\") AND (hasabstract[text])\n",
      "Serching paper with keywords...\n",
      "In paragraph 3, 99 references are queried\n",
      "The number of title matching paper: 0\n",
      "In paragraph 3, 0 references are matched\n",
      "\n",
      "\n",
      "Extracting keywords from paragraph\n",
      "Paragraph:\n",
      "4. NKX2-5 is a homeobox transcription factor that is essential for heart development. It is involved in the early specification of cardiac progenitors, heart tube formation, and the development of the conduction system of the heart. Mutations in NKX2-5 are associated with congenital heart defects.\n",
      "===========================================================================\n",
      "201\n",
      "Query:\n",
      " \n",
      "I have a paragraph\n",
      "Paragraph:\n",
      "4. NKX2-5 is a homeobox transcription factor that is essential for heart development. It is involved in the early specification of cardiac progenitors, heart tube formation, and the development of the conduction system of the heart. Mutations in NKX2-5 are associated with congenital heart defects.\n",
      "\n",
      "I would like to search PubMed to find supporting evidence for the statements in this paragraph. Give me a list of gene symbols from the paragraph. Please only include genes. Return the genes as a comma separated list without spacing, if there are no genes in the statements, please return \"Unknown\" \n",
      "Result:\n",
      "NKX2-5\n",
      "312\n",
      "Query:\n",
      "\n",
      "I would like to search PubMed to find supporting evidence for the statements in a paragraph. Give me a maximum of 3 keywords related to the protein functions or biological processes in the statements. \n",
      "\n",
      "Example paragraph:  Involvement of pattern recognition receptors: TLR1, TLR2, and TLR3 are part of the Toll-like receptor family, which recognize pathogen-associated molecular patterns and initiate innate immune responses. NOD2 and NLRP3 are intracellular sensors that also contribute to immune activation.\n",
      "Example response: immune response,receptors,pathogen\n",
      "\n",
      "Please don't include gene symbols. Please order keywords by their importance in the paragraph, from high importance to low importance. Return the keywords as a comma separated list without spaces. If there are no keywords matching the criteria, return \"Unknown\" \n",
      "\n",
      "Please find keywords for this paragraph:\n",
      "4. NKX2-5 is a homeobox transcription factor that is essential for heart development. It is involved in the early specification of cardiac progenitors, heart tube formation, and the development of the conduction system of the heart. Mutations in NKX2-5 are associated with congenital heart defects.\n",
      "    \n",
      "Result:\n",
      "heart development,transcription factor,congenital heart defects\n",
      "PubMed Keywords:  (\"NKX2-5\") AND (\"heart development\" OR \"transcription factor\" OR \"congenital heart defects\") AND (hasabstract[text])\n",
      "Serching paper with keywords...\n",
      "In paragraph 4, 100 references are queried\n",
      "The number of title matching paper: 0\n",
      "In paragraph 4, 0 references are matched\n",
      "\n",
      "\n",
      "Extracting keywords from paragraph\n",
      "Paragraph:\n",
      "5. SMAD6 is an inhibitory SMAD protein that negatively regulates the TGF-β/BMP signaling pathways. In the context of heart development, SMAD6 is involved in modulating the signaling that controls the differentiation of cardiac cells and the formation of the extracellular matrix, which is important for heart valve development.\n",
      "===========================================================================\n",
      "207\n",
      "Query:\n",
      " \n",
      "I have a paragraph\n",
      "Paragraph:\n",
      "5. SMAD6 is an inhibitory SMAD protein that negatively regulates the TGF-β/BMP signaling pathways. In the context of heart development, SMAD6 is involved in modulating the signaling that controls the differentiation of cardiac cells and the formation of the extracellular matrix, which is important for heart valve development.\n",
      "\n",
      "I would like to search PubMed to find supporting evidence for the statements in this paragraph. Give me a list of gene symbols from the paragraph. Please only include genes. Return the genes as a comma separated list without spacing, if there are no genes in the statements, please return \"Unknown\" \n",
      "Result:\n",
      "SMAD6,TGF-β,BMP\n",
      "316\n",
      "Query:\n",
      "\n",
      "I would like to search PubMed to find supporting evidence for the statements in a paragraph. Give me a maximum of 3 keywords related to the protein functions or biological processes in the statements. \n",
      "\n",
      "Example paragraph:  Involvement of pattern recognition receptors: TLR1, TLR2, and TLR3 are part of the Toll-like receptor family, which recognize pathogen-associated molecular patterns and initiate innate immune responses. NOD2 and NLRP3 are intracellular sensors that also contribute to immune activation.\n",
      "Example response: immune response,receptors,pathogen\n",
      "\n",
      "Please don't include gene symbols. Please order keywords by their importance in the paragraph, from high importance to low importance. Return the keywords as a comma separated list without spaces. If there are no keywords matching the criteria, return \"Unknown\" \n",
      "\n",
      "Please find keywords for this paragraph:\n",
      "5. SMAD6 is an inhibitory SMAD protein that negatively regulates the TGF-β/BMP signaling pathways. In the context of heart development, SMAD6 is involved in modulating the signaling that controls the differentiation of cardiac cells and the formation of the extracellular matrix, which is important for heart valve development.\n",
      "    \n",
      "Result:\n",
      "TGF-β/BMP signaling,heart development,extracellular matrix\n",
      "PubMed Keywords:  (\"SMAD6\" OR \"TGF-β\" OR \"BMP\") AND (\"TGF-β/BMP signaling\" OR \"heart development\" OR \"extracellular matrix\") AND (hasabstract[text])\n",
      "Serching paper with keywords...\n",
      "In paragraph 5, 99 references are queried\n",
      "192\n",
      "187\n",
      "185\n",
      "179\n",
      "192\n",
      "191\n",
      "182\n",
      "191\n",
      "181\n",
      "186\n",
      "195\n",
      "194\n",
      "192\n",
      "191\n",
      "185\n",
      "184\n",
      "174\n",
      "179\n",
      "176\n",
      "180\n",
      "178\n",
      "181\n",
      "185\n",
      "171\n",
      "188\n",
      "175\n",
      "181\n",
      "176\n",
      "176\n",
      "185\n",
      "174\n",
      "179\n",
      "184\n",
      "175\n",
      "170\n",
      "173\n",
      "184\n",
      "180\n",
      "186\n",
      "176\n",
      "187\n",
      "175\n",
      "178\n",
      "The number of title matching paper: 10\n",
      "541\n",
      "Query:  \n",
      "I have a paragraph\n",
      "Paragraph:\n",
      "5. SMAD6 is an inhibitory SMAD protein that negatively regulates the TGF-β/BMP signaling pathways. In the context of heart development, SMAD6 is involved in modulating the signaling that controls the differentiation of cardiac cells and the formation of the extracellular matrix, which is important for heart valve development.\n",
      "\n",
      "and an abstract.\n",
      "Abstract:\n",
      "Bone morphogenetic proteins (BMPs), glycoproteins secreted by some cells, are members of the TGF-β superfamily that have been implicated in a wide variety of roles. Currently, about 20 different BMPs have been identified and grouped into subfamilies, according to similarities with respect to their amino acid sequences. It has been shown that BMPs are secreted growth factors involved in mesenchymal stem cell differentiation, also being reported to control the differentiation of cancer stem cells. BMPs initiate signaling from the cell surface by binding to two different receptors (R: Type I and II). The heterodimeric formation of type I R and II R may occur before or after BMP binding, inducing signal transduction pathways through SMADs. BMPs may also signal through SMAD-independent pathways via mitogen-activated protein kinases (ERK, p38MAPKs, JNK). BMPs may act in an autocrine or paracrine manner, being regulated by specific antagonists, namely: noggin and chordin. Genetic engineering allows the production of large amounts of BMPs for clinical use, and clinical trials have shown the benefits of FDA-approved recombinant human BMPs 2 and 7. Several materials from synthetic to natural sources have been tested as BMP carriers, ranging from hydroxyapatite, and organic polymers to collagen. Bioactive membranes doped with BMPs are promising options, acting to accelerate and enhance osteointegration. The development of smart materials, mainly based on biopolymers and bone-like calcium phosphates, appears to provide an attractive alternative for delivering BMPs in an adequately controlled fashion. BMPs have revealed a promising future for the fields of Bioengineering and Regenerative Medicine. In this chapter, we review and discuss the data on BMP structure, mechanisms of action, and possible clinical applications.\n",
      "\n",
      "Does this abstract support paragraph? Please tell me yes or no\n",
      "        \n",
      "Result:  Yes.\n",
      "TGF-β and BMP signaling in osteoblast differentiation and bone formation.\n",
      "TGF-β and BMP signaling in osteoblast differentiation and bone formation.\n",
      "463\n",
      "Query:  \n",
      "I have a paragraph\n",
      "Paragraph:\n",
      "5. SMAD6 is an inhibitory SMAD protein that negatively regulates the TGF-β/BMP signaling pathways. In the context of heart development, SMAD6 is involved in modulating the signaling that controls the differentiation of cardiac cells and the formation of the extracellular matrix, which is important for heart valve development.\n",
      "\n",
      "and an abstract.\n",
      "Abstract:\n",
      "The bone morphogenetic proteins (BMPs) and the growth and differentiation factors comprise a single family of some 20 homologous, dimeric cytokines which share the cystine-knot domain typical of the TGF-β superfamily. They control the differentiation and activity of a range of cell types, including many outside bone and cartilage. They serve as developmental morphogens, but are also important in chronic pathologies, including tissue fibrosis and cancer. One mechanism for enabling tight spatiotemporal control of their activities is through a number of antagonist proteins, including Noggin, Follistatin, Chordin, Twisted gastrulation (TSG), and the seven members of the Cerberus and Dan family. These antagonists are secreted proteins that bind selectively to particular BMPs with high affinity, thereby blocking receptor engagement and signaling. Most of these antagonists also possess a TGF-β cystine-knot domain. Here, we discuss current knowledge and understanding of the structures and activities of the BMPs and their antagonists, with a particular focus on the latter proteins. Recent advances in structural biology of BMP antagonists have begun the process of elucidating the molecular basis of their activity, displaying a surprising variety between the modes of action of these closely related proteins. We also discuss the interactions of the antagonists with the glycosaminoglycan heparan sulfate, which is found ubiquitously on cell surfaces and in the extracellular matrix.\n",
      "\n",
      "Does this abstract support paragraph? Please tell me yes or no\n",
      "        \n",
      "Result:  Yes.\n",
      "471\n",
      "Query:  \n",
      "I have a paragraph\n",
      "Paragraph:\n",
      "5. SMAD6 is an inhibitory SMAD protein that negatively regulates the TGF-β/BMP signaling pathways. In the context of heart development, SMAD6 is involved in modulating the signaling that controls the differentiation of cardiac cells and the formation of the extracellular matrix, which is important for heart valve development.\n",
      "\n",
      "and an abstract.\n",
      "Abstract:\n",
      "Today, cardiovascular diseases remain a leading cause of morbidity and mortality worldwide. Endothelial to mesenchymal transition (EndMT) does not only play a major role in the course of development but also contributes to several cardiovascular diseases in adulthood. EndMT is characterized by down-regulation of the endothelial proteins and highly up-regulated fibrotic specific genes and extracellular matrix-forming proteins. EndMT is also a transforming growth factor- β-driven (TGF-β) process in which endothelial cells lose their endothelial characteristics and acquire a mesenchymal phenotype with expression of α-smooth muscle actin (α-SMA), fibroblastspecific protein 1, etc. EndMT is a vital process during cardiac development, thus disrupted EndMT gives rise to the congenital heart diseases, namely septal defects and valve abnormalities. In this review, we have discussed the main signaling pathways and mechanisms participating in the process of EndMT such as TGF-β and Bone morphogenetic protein (BMP), Wnt#, and Notch signaling pathway and also studied the role of EndMT in physiological cardiovascular development and pathological conditions including myocardial infarction, pulmonary arterial hypertension, congenital heart defects, cardiac fibrosis, and atherosclerosis. As a perspective view, having a clear understanding of involving cellular and molecular mechanisms in EndMT and conducting Randomized controlled trials (RCTs) with a large number of samples for involving pharmacological agents may guide us into novel therapeutic approaches of congenital disorders and heart diseases.\n",
      "\n",
      "Does this abstract support paragraph? Please tell me yes or no\n",
      "        \n",
      "Result:  Yes.\n",
      "341\n",
      "Query:  \n",
      "I have a paragraph\n",
      "Paragraph:\n",
      "5. SMAD6 is an inhibitory SMAD protein that negatively regulates the TGF-β/BMP signaling pathways. In the context of heart development, SMAD6 is involved in modulating the signaling that controls the differentiation of cardiac cells and the formation of the extracellular matrix, which is important for heart valve development.\n",
      "\n",
      "and an abstract.\n",
      "Abstract:\n",
      "The transforming growth factor β (TGF-β) superfamily participates in tumour proliferation, apoptosis, differentiation, migration, invasion, immune evasion and extracellular matrix remodelling. Genetic deficiency in distinct components of TGF-β and BMP-induced signalling pathways or their excessive activation has been reported to regulate the development and progression of some cancers. As more in-depth studies about this superfamily have been conducted, more evidence suggests that the TGF-β and BMP pathways play an opposing role. The cross-talk of these 2 pathways has been widely studied in kidney disease and bone formation, and the opposing effects have also been observed in some cancers. However, the antagonistic mechanisms are still insufficiently investigated in cancer. In this review, we aim to display more evidences and possible mechanisms accounting for the antagonism between these 2 pathways, which might provide some clues for further study in cancer.\n",
      "\n",
      "Does this abstract support paragraph? Please tell me yes or no\n",
      "        \n",
      "Result:  Yes.\n",
      "406\n",
      "Query:  \n",
      "I have a paragraph\n",
      "Paragraph:\n",
      "5. SMAD6 is an inhibitory SMAD protein that negatively regulates the TGF-β/BMP signaling pathways. In the context of heart development, SMAD6 is involved in modulating the signaling that controls the differentiation of cardiac cells and the formation of the extracellular matrix, which is important for heart valve development.\n",
      "\n",
      "and an abstract.\n",
      "Abstract:\n",
      "Transforming growth factor-β (TGF-β) is a driving force of renal fibrosis, which may lead to chronic kidney diseases and even end stage renal diseases. By activating canonical and non-canonical signaling pathways, TGF-β promotes the synthesis of extracellular matrix while preventing their degradation. In the injured kidney, TGF-β induces apoptosis, proliferation and fibrotic response of renal cells including epithelial cells, endothelial cells, podocytes, fibroblasts, pericytes and macrophages, and it also promotes transdifferentiation, activation and proliferation of myofibroblasts. Additionally, TGF-β exerts profibrotic effects by interplaying with other signaling pathways like BMP-7, Wnt/β-catenin and MAP kinase. Smad3 is the central pathological gene in renal fibrosis, and epigenetic regulation of TGF-β/Smad3 is a hot topic in kidney field. Although direct targeting TGF-β may cause side effects including tumorigenesis and immune diseases, the therapeutic strategies targeting the balance of downstream Smad3 and Smad7 may prevent or delay the progression of fibrotic kidney disease.\n",
      "\n",
      "Does this abstract support paragraph? Please tell me yes or no\n",
      "        \n",
      "Result:  No.\n",
      "375\n",
      "Query:  \n",
      "I have a paragraph\n",
      "Paragraph:\n",
      "5. SMAD6 is an inhibitory SMAD protein that negatively regulates the TGF-β/BMP signaling pathways. In the context of heart development, SMAD6 is involved in modulating the signaling that controls the differentiation of cardiac cells and the formation of the extracellular matrix, which is important for heart valve development.\n",
      "\n",
      "and an abstract.\n",
      "Abstract:\n",
      "Bone morphogenetic proteins (BMPs) belong to the TGF-β superfamily of signaling ligands which comprise a family of pluripotent cytokines regulating a multitude of cellular events. Although BMPs were originally discovered as potent factors extractable from bone matrix that are capable to induce ectopic bone formation in soft tissues, their mode of action has been mostly studied as soluble ligands in absence of the physiologically relevant cellular microenvironment. This micro milieu is defined by supramolecular networks of extracellular matrix (ECM) proteins that specifically target BMP ligands, present them to their cellular receptors, and allow their controlled release. Here we focus on functional interactions and mechanisms that were described to control BMP bioavailability in a spatio-temporal manner within the respective tissue context. Structural disturbance of the ECM architecture due to mutations in ECM proteins leads to dysregulated BMP signaling as underlying cause for connective tissue disease pathways. We will provide an overview about current mechanistic concepts of how aberrant BMP signaling drives connective tissue destruction in inherited and chronic diseases.\n",
      "\n",
      "Does this abstract support paragraph? Please tell me yes or no\n",
      "        \n",
      "Result:  Yes.\n",
      "465\n",
      "Query:  \n",
      "I have a paragraph\n",
      "Paragraph:\n",
      "5. SMAD6 is an inhibitory SMAD protein that negatively regulates the TGF-β/BMP signaling pathways. In the context of heart development, SMAD6 is involved in modulating the signaling that controls the differentiation of cardiac cells and the formation of the extracellular matrix, which is important for heart valve development.\n",
      "\n",
      "and an abstract.\n",
      "Abstract:\n",
      "Transforming growth factor-beta (TGF-β)/bone morphogenetic protein (BMP) plays a fundamental role in the regulation of bone organogenesis through the activation of receptor serine/threonine kinases. Perturbations of TGF-β/BMP activity are almost invariably linked to a wide variety of clinical outcomes, i.e., skeletal, extra skeletal anomalies, autoimmune, cancer, and cardiovascular diseases. Phosphorylation of TGF-β (I/II) or BMP receptors activates intracellular downstream Smads, the transducer of TGF-β/BMP signals. This signaling is modulated by various factors and pathways, including transcription factor Runx2. The signaling network in skeletal development and bone formation is overwhelmingly complex and highly time and space specific. Additive, positive, negative, or synergistic effects are observed when TGF-β/BMP interacts with the pathways of MAPK, Wnt, Hedgehog (Hh), Notch, Akt/mTOR, and miRNA to regulate the effects of BMP-induced signaling in bone dynamics. Accumulating evidence indicates that Runx2 is the key integrator, whereas Hh is a possible modulator, miRNAs are regulators, and β-catenin is a mediator/regulator within the extensive intracellular network. This review focuses on the activation of BMP signaling and interaction with other regulatory components and pathways highlighting the molecular mechanisms regarding TGF-β/BMP function and regulation that could allow understanding the complexity of bone tissue dynamics.\n",
      "\n",
      "Does this abstract support paragraph? Please tell me yes or no\n",
      "        \n",
      "Result:  Yes.\n",
      "415\n",
      "Query:  \n",
      "I have a paragraph\n",
      "Paragraph:\n",
      "5. SMAD6 is an inhibitory SMAD protein that negatively regulates the TGF-β/BMP signaling pathways. In the context of heart development, SMAD6 is involved in modulating the signaling that controls the differentiation of cardiac cells and the formation of the extracellular matrix, which is important for heart valve development.\n",
      "\n",
      "and an abstract.\n",
      "Abstract:\n",
      "Correct organization of the vascular tree requires the balanced activities of several signaling pathways that regulate tubulogenesis and vascular branching, elongation, and pruning. When this balance is lost, the vessels can be malformed and fragile, and they can lose arteriovenous differentiation. In this review, we concentrate on the transforming growth factor (TGF)-β/bone morphogenetic protein (BMP) pathway, which is one of the most important and complex signaling systems in vascular development. Inactivation of these pathways can lead to altered vascular organization in the embryo. In addition, many vascular malformations are related to deregulation of TGF-β/BMP signaling. Here, we focus on two of the most studied vascular malformations that are induced by deregulation of TGF-β/BMP signaling: hereditary hemorrhagic telangiectasia (HHT) and cerebral cavernous malformation (CCM). The first of these is related to loss-of-function mutation of the TGF-β/BMP receptor complex and the second to increased signaling sensitivity to TGF-β/BMP. In this review, we discuss the potential therapeutic targets against these vascular malformations identified so far, as well as their basis in general mechanisms of vascular development and stability.\n",
      "\n",
      "Does this abstract support paragraph? Please tell me yes or no\n",
      "        \n",
      "Result:  No.\n",
      "287\n",
      "Query:  \n",
      "I have a paragraph\n",
      "Paragraph:\n",
      "5. SMAD6 is an inhibitory SMAD protein that negatively regulates the TGF-β/BMP signaling pathways. In the context of heart development, SMAD6 is involved in modulating the signaling that controls the differentiation of cardiac cells and the formation of the extracellular matrix, which is important for heart valve development.\n",
      "\n",
      "and an abstract.\n",
      "Abstract:\n",
      "The transforming growth factor β (TGF-β) superfamily plays key roles in development and tissue homeostasis, controlling the maintenance and regeneration of mature tissues. Cytokines belonging to this family can be multifunctional (TGF-β and bone morphogenetic proteins, BMPs) or develop highly specialized functions (anti-Müllerian hormone, AMH, or growth differentiation factor 8, myostatin, GDF8) and they control a variety of cellular processes such as proliferation, differentiation, cell death, adhesion and movement, metabolism, pluripotency and stemness. (...).\n",
      "\n",
      "Does this abstract support paragraph? Please tell me yes or no\n",
      "        \n",
      "Result:  Yes.\n",
      "476\n",
      "Query:  \n",
      "I have a paragraph\n",
      "Paragraph:\n",
      "5. SMAD6 is an inhibitory SMAD protein that negatively regulates the TGF-β/BMP signaling pathways. In the context of heart development, SMAD6 is involved in modulating the signaling that controls the differentiation of cardiac cells and the formation of the extracellular matrix, which is important for heart valve development.\n",
      "\n",
      "and an abstract.\n",
      "Abstract:\n",
      "Transforming growth factor-beta (TGF-β)/bone morphogenic protein (BMP) signaling is involved in a vast majority of cellular processes and is fundamentally important throughout life. TGF-β/BMPs have widely recognized roles in bone formation during mammalian development and exhibit versatile regulatory functions in the body. Signaling transduction by TGF-β/BMPs is specifically through both canonical Smad-dependent pathways (TGF-β/BMP ligands, receptors and Smads) and non-canonical Smad-independent signaling pathway (e.g. p38 mitogen-activated protein kinase pathway, MAPK). Following TGF-β/BMP induction, both the Smad and p38 MAPK pathways converge at the Runx2 gene to control mesenchymal precursor cell differentiation. The coordinated activity of Runx2 and TGF-β/BMP-activated Smads is critical for formation of the skeleton. Recent advances in molecular and genetic studies using gene targeting in mice enable a better understanding of TGF-β/BMP signaling in bone and in the signaling networks underlying osteoblast differentiation and bone formation. This review summarizes the recent advances in our understanding of TGF-β/BMP signaling in bone from studies of genetic mouse models and human diseases caused by the disruption of TGF-β/BMP signaling. This review also highlights the different modes of cross-talk between TGF-β/BMP signaling and the signaling pathways of MAPK, Wnt, Hedgehog, Notch, and FGF in osteoblast differentiation and bone formation.\n",
      "\n",
      "Does this abstract support paragraph? Please tell me yes or no\n",
      "        \n",
      "Result:  Yes.\n",
      "In paragraph 5, 1 references are matched\n",
      "\n",
      "\n",
      "Extracting keywords from paragraph\n",
      "Paragraph:\n",
      "6. AKT1 is a serine/threonine kinase that is a key regulator of cell growth, proliferation, and survival. In cardiomyocytes, AKT1 signaling promotes cell survival and growth, and it has been implicated in the protection against ischemic injury and the regulation of cardiac hypertrophy.\n",
      "===========================================================================\n",
      "197\n",
      "Query:\n",
      " \n",
      "I have a paragraph\n",
      "Paragraph:\n",
      "6. AKT1 is a serine/threonine kinase that is a key regulator of cell growth, proliferation, and survival. In cardiomyocytes, AKT1 signaling promotes cell survival and growth, and it has been implicated in the protection against ischemic injury and the regulation of cardiac hypertrophy.\n",
      "\n",
      "I would like to search PubMed to find supporting evidence for the statements in this paragraph. Give me a list of gene symbols from the paragraph. Please only include genes. Return the genes as a comma separated list without spacing, if there are no genes in the statements, please return \"Unknown\" \n",
      "Result:\n",
      "AKT1\n",
      "309\n",
      "Query:\n",
      "\n",
      "I would like to search PubMed to find supporting evidence for the statements in a paragraph. Give me a maximum of 3 keywords related to the protein functions or biological processes in the statements. \n",
      "\n",
      "Example paragraph:  Involvement of pattern recognition receptors: TLR1, TLR2, and TLR3 are part of the Toll-like receptor family, which recognize pathogen-associated molecular patterns and initiate innate immune responses. NOD2 and NLRP3 are intracellular sensors that also contribute to immune activation.\n",
      "Example response: immune response,receptors,pathogen\n",
      "\n",
      "Please don't include gene symbols. Please order keywords by their importance in the paragraph, from high importance to low importance. Return the keywords as a comma separated list without spaces. If there are no keywords matching the criteria, return \"Unknown\" \n",
      "\n",
      "Please find keywords for this paragraph:\n",
      "6. AKT1 is a serine/threonine kinase that is a key regulator of cell growth, proliferation, and survival. In cardiomyocytes, AKT1 signaling promotes cell survival and growth, and it has been implicated in the protection against ischemic injury and the regulation of cardiac hypertrophy.\n",
      "    \n",
      "Result:\n",
      "cell survival,cardiomyocytes,ischemic injury\n",
      "PubMed Keywords:  (\"AKT1\") AND (\"cell survival\" OR \"cardiomyocytes\" OR \"ischemic injury\") AND (hasabstract[text])\n",
      "Serching paper with keywords...\n",
      "In paragraph 6, 100 references are queried\n",
      "The number of title matching paper: 0\n",
      "In paragraph 6, 0 references are matched\n",
      "\n",
      "\n",
      "Extracting keywords from paragraph\n",
      "Paragraph:\n",
      "7. SLC20A1, also known as Pit-1, is a sodium-dependent phosphate transporter. While its direct role in heart development is less clear, phosphate homeostasis is important for energy metabolism and may indirectly influence cardiac function and development.\n",
      "===========================================================================\n",
      "188\n",
      "Query:\n",
      " \n",
      "I have a paragraph\n",
      "Paragraph:\n",
      "7. SLC20A1, also known as Pit-1, is a sodium-dependent phosphate transporter. While its direct role in heart development is less clear, phosphate homeostasis is important for energy metabolism and may indirectly influence cardiac function and development.\n",
      "\n",
      "I would like to search PubMed to find supporting evidence for the statements in this paragraph. Give me a list of gene symbols from the paragraph. Please only include genes. Return the genes as a comma separated list without spacing, if there are no genes in the statements, please return \"Unknown\" \n",
      "Result:\n",
      "SLC20A1\n",
      "297\n",
      "Query:\n",
      "\n",
      "I would like to search PubMed to find supporting evidence for the statements in a paragraph. Give me a maximum of 3 keywords related to the protein functions or biological processes in the statements. \n",
      "\n",
      "Example paragraph:  Involvement of pattern recognition receptors: TLR1, TLR2, and TLR3 are part of the Toll-like receptor family, which recognize pathogen-associated molecular patterns and initiate innate immune responses. NOD2 and NLRP3 are intracellular sensors that also contribute to immune activation.\n",
      "Example response: immune response,receptors,pathogen\n",
      "\n",
      "Please don't include gene symbols. Please order keywords by their importance in the paragraph, from high importance to low importance. Return the keywords as a comma separated list without spaces. If there are no keywords matching the criteria, return \"Unknown\" \n",
      "\n",
      "Please find keywords for this paragraph:\n",
      "7. SLC20A1, also known as Pit-1, is a sodium-dependent phosphate transporter. While its direct role in heart development is less clear, phosphate homeostasis is important for energy metabolism and may indirectly influence cardiac function and development.\n",
      "    \n",
      "Result:\n",
      "phosphate transport,energy metabolism,cardiac development\n",
      "PubMed Keywords:  (\"SLC20A1\") AND (\"phosphate transport\" OR \"energy metabolism\" OR \"cardiac development\") AND (hasabstract[text])\n",
      "Serching paper with keywords...\n",
      "In paragraph 7, 33 references are queried\n",
      "The number of title matching paper: 0\n",
      "In paragraph 7, 0 references are matched\n",
      "\n",
      "\n",
      "Extracting keywords from paragraph\n",
      "Paragraph:\n",
      "To summarize, the proteins in this set are involved in the regulation of heart development and cardiogenesis, with overlapping roles in cellular growth and survival signaling pathways. The majority of these proteins are transcription factors or signaling molecules that directly contribute to the development and function of the heart, while others play supportive roles in cellular metabolism and stress responses. The interactions between these proteins suggest a coordinated network that ensures proper heart formation and adaptation to physiological demands.\n",
      "===========================================================================\n",
      "219\n",
      "Query:\n",
      " \n",
      "I have a paragraph\n",
      "Paragraph:\n",
      "To summarize, the proteins in this set are involved in the regulation of heart development and cardiogenesis, with overlapping roles in cellular growth and survival signaling pathways. The majority of these proteins are transcription factors or signaling molecules that directly contribute to the development and function of the heart, while others play supportive roles in cellular metabolism and stress responses. The interactions between these proteins suggest a coordinated network that ensures proper heart formation and adaptation to physiological demands.\n",
      "\n",
      "I would like to search PubMed to find supporting evidence for the statements in this paragraph. Give me a list of gene symbols from the paragraph. Please only include genes. Return the genes as a comma separated list without spacing, if there are no genes in the statements, please return \"Unknown\" \n",
      "Result:\n",
      "Unknown\n",
      "332\n",
      "Query:\n",
      "\n",
      "I would like to search PubMed to find supporting evidence for the statements in a paragraph. Give me a maximum of 3 keywords related to the protein functions or biological processes in the statements. \n",
      "\n",
      "Example paragraph:  Involvement of pattern recognition receptors: TLR1, TLR2, and TLR3 are part of the Toll-like receptor family, which recognize pathogen-associated molecular patterns and initiate innate immune responses. NOD2 and NLRP3 are intracellular sensors that also contribute to immune activation.\n",
      "Example response: immune response,receptors,pathogen\n",
      "\n",
      "Please don't include gene symbols. Please order keywords by their importance in the paragraph, from high importance to low importance. Return the keywords as a comma separated list without spaces. If there are no keywords matching the criteria, return \"Unknown\" \n",
      "\n",
      "Please find keywords for this paragraph:\n",
      "To summarize, the proteins in this set are involved in the regulation of heart development and cardiogenesis, with overlapping roles in cellular growth and survival signaling pathways. The majority of these proteins are transcription factors or signaling molecules that directly contribute to the development and function of the heart, while others play supportive roles in cellular metabolism and stress responses. The interactions between these proteins suggest a coordinated network that ensures proper heart formation and adaptation to physiological demands.\n",
      "    \n",
      "Result:\n",
      "heart development,cardiogenesis,cellular growth\n"
     ]
    },
    {
     "ename": "ValueError",
     "evalue": "not enough values to unpack (expected 4, got 2)",
     "output_type": "error",
     "traceback": [
      "\u001b[0;31m---------------------------------------------------------------------------\u001b[0m",
      "\u001b[0;31mValueError\u001b[0m                                Traceback (most recent call last)",
      "Cell \u001b[0;32mIn[20], line 1\u001b[0m\n\u001b[0;32m----> 1\u001b[0m references \u001b[38;5;241m=\u001b[39m get_references_for_paragraphs(paragraphs, email \u001b[38;5;241m=\u001b[39m email, config \u001b[38;5;241m=\u001b[39mconfig, n\u001b[38;5;241m=\u001b[39m\u001b[38;5;241m3\u001b[39m, verbose\u001b[38;5;241m=\u001b[39m\u001b[38;5;28;01mTrue\u001b[39;00m, MarkedParagraphs \u001b[38;5;241m=\u001b[39m MarkedParagraphs, saveto\u001b[38;5;241m=\u001b[39msavejsonPath)\n",
      "File \u001b[0;32m~/Desktop/projects/llm_evaluation_for_gene_set_interpretation/utils/reference_checker.py:402\u001b[0m, in \u001b[0;36mget_references_for_paragraphs\u001b[0;34m(paragraphs, email, config, n, verbose, MarkedParagraphs, saveto)\u001b[0m\n\u001b[1;32m    400\u001b[0m     \u001b[38;5;28mprint\u001b[39m(\u001b[38;5;124m\"\"\"\u001b[39m\u001b[38;5;124mExtracting keywords from paragraph\u001b[39m\u001b[38;5;130;01m\\n\u001b[39;00m\u001b[38;5;124mParagraph:\u001b[39m\u001b[38;5;130;01m\\n\u001b[39;00m\u001b[38;5;132;01m%s\u001b[39;00m\u001b[38;5;124m\"\"\"\u001b[39m\u001b[38;5;241m%\u001b[39mparagraph)\n\u001b[1;32m    401\u001b[0m     \u001b[38;5;28mprint\u001b[39m(\u001b[38;5;124m\"\u001b[39m\u001b[38;5;124m=\u001b[39m\u001b[38;5;124m\"\u001b[39m\u001b[38;5;241m*\u001b[39m\u001b[38;5;241m75\u001b[39m)\n\u001b[0;32m--> 402\u001b[0m keywords, genes, functions, flag_working \u001b[38;5;241m=\u001b[39m get_keywords_combinations(paragraph, config\u001b[38;5;241m=\u001b[39mconfig, verbose\u001b[38;5;241m=\u001b[39mverbose) \u001b[38;5;66;03m# SA: modified\u001b[39;00m\n\u001b[1;32m    403\u001b[0m \u001b[38;5;28;01mif\u001b[39;00m verbose:\n\u001b[1;32m    404\u001b[0m     \u001b[38;5;28mprint\u001b[39m(\u001b[38;5;124m\"\u001b[39m\u001b[38;5;124mPubMed Keywords: \u001b[39m\u001b[38;5;124m\"\u001b[39m, keywords)\n",
      "\u001b[0;31mValueError\u001b[0m: not enough values to unpack (expected 4, got 2)"
     ]
    }
   ],
   "source": [
    "references = get_references_for_paragraphs(paragraphs, email = email, config =config, n=3, verbose=True, MarkedParagraphs = MarkedParagraphs, saveto=savejsonPath)\n"
   ]
  },
  {
   "cell_type": "code",
   "execution_count": 21,
   "metadata": {},
   "outputs": [
    {
     "ename": "NameError",
     "evalue": "name 'references' is not defined",
     "output_type": "error",
     "traceback": [
      "\u001b[0;31m---------------------------------------------------------------------------\u001b[0m",
      "\u001b[0;31mNameError\u001b[0m                                 Traceback (most recent call last)",
      "Cell \u001b[0;32mIn[21], line 1\u001b[0m\n\u001b[0;32m----> 1\u001b[0m references\n",
      "\u001b[0;31mNameError\u001b[0m: name 'references' is not defined"
     ]
    }
   ],
   "source": [
    "references"
   ]
  },
  {
   "cell_type": "code",
   "execution_count": 23,
   "metadata": {},
   "outputs": [
    {
     "data": {
      "text/plain": [
       "8"
      ]
     },
     "execution_count": 23,
     "metadata": {},
     "output_type": "execute_result"
    }
   ],
   "source": [
    "len(paragraphs)"
   ]
  },
  {
   "cell_type": "code",
   "execution_count": 22,
   "metadata": {},
   "outputs": [],
   "source": [
    "from utils.reference_checker import get_keywords_combinations\n"
   ]
  },
  {
   "cell_type": "code",
   "execution_count": 25,
   "metadata": {},
   "outputs": [
    {
     "name": "stdout",
     "output_type": "stream",
     "text": [
      "208\n",
      "319\n"
     ]
    }
   ],
   "source": [
    "keywords, genes, functions, flag_working = get_keywords_combinations(paragraphs[0], config, verbose=False)"
   ]
  },
  {
   "cell_type": "code",
   "execution_count": 32,
   "metadata": {},
   "outputs": [
    {
     "name": "stdout",
     "output_type": "stream",
     "text": [
      "188\n",
      "297\n"
     ]
    }
   ],
   "source": [
    "keywords6, genes6, functions6, flag_working6 = get_keywords_combinations(paragraphs[6], config, verbose=False)"
   ]
  },
  {
   "cell_type": "code",
   "execution_count": 34,
   "metadata": {},
   "outputs": [
    {
     "data": {
      "text/plain": [
       "'7. SLC20A1, also known as Pit-1, is a sodium-dependent phosphate transporter. While its direct role in heart development is less clear, phosphate homeostasis is important for energy metabolism and may indirectly influence cardiac function and development.'"
      ]
     },
     "execution_count": 34,
     "metadata": {},
     "output_type": "execute_result"
    }
   ],
   "source": [
    "paragraphs[6]"
   ]
  },
  {
   "cell_type": "code",
   "execution_count": 33,
   "metadata": {},
   "outputs": [
    {
     "data": {
      "text/plain": [
       "('(\"SLC20A1\") AND (\"phosphate transport\" OR \"energy metabolism\" OR \"cardiac development\") AND (hasabstract[text])',\n",
       " ['SLC20A1'],\n",
       " ['phosphate transport', 'energy metabolism', 'cardiac development'],\n",
       " False)"
      ]
     },
     "execution_count": 33,
     "metadata": {},
     "output_type": "execute_result"
    }
   ],
   "source": [
    "keywords6, genes6, functions6, flag_working6 "
   ]
  },
  {
   "cell_type": "code",
   "execution_count": 31,
   "metadata": {},
   "outputs": [
    {
     "name": "stdout",
     "output_type": "stream",
     "text": [
      "219\n",
      "332\n"
     ]
    },
    {
     "ename": "ValueError",
     "evalue": "not enough values to unpack (expected 4, got 2)",
     "output_type": "error",
     "traceback": [
      "\u001b[0;31m---------------------------------------------------------------------------\u001b[0m",
      "\u001b[0;31mValueError\u001b[0m                                Traceback (most recent call last)",
      "Cell \u001b[0;32mIn[31], line 1\u001b[0m\n\u001b[0;32m----> 1\u001b[0m keywords7, genes7, functions7, flag_working7 \u001b[38;5;241m=\u001b[39m get_keywords_combinations(paragraphs[\u001b[38;5;241m7\u001b[39m], config, verbose\u001b[38;5;241m=\u001b[39m\u001b[38;5;28;01mFalse\u001b[39;00m)\n",
      "\u001b[0;31mValueError\u001b[0m: not enough values to unpack (expected 4, got 2)"
     ]
    }
   ],
   "source": [
    "keywords7, genes7, functions7, flag_working7 = get_keywords_combinations(paragraphs[7], config, verbose=False)"
   ]
  },
  {
   "cell_type": "code",
   "execution_count": 30,
   "metadata": {},
   "outputs": [
    {
     "ename": "NameError",
     "evalue": "name 'keywords7' is not defined",
     "output_type": "error",
     "traceback": [
      "\u001b[0;31m---------------------------------------------------------------------------\u001b[0m",
      "\u001b[0;31mNameError\u001b[0m                                 Traceback (most recent call last)",
      "Cell \u001b[0;32mIn[30], line 1\u001b[0m\n\u001b[0;32m----> 1\u001b[0m keywords7, genes7, functions7, flag_working7\n",
      "\u001b[0;31mNameError\u001b[0m: name 'keywords7' is not defined"
     ]
    }
   ],
   "source": [
    "[keywords7, genes7, functions7, flag_working7"
   ]
  },
  {
   "cell_type": "code",
   "execution_count": 28,
   "metadata": {},
   "outputs": [
    {
     "name": "stdout",
     "output_type": "stream",
     "text": [
      "219\n",
      "332\n"
     ]
    },
    {
     "data": {
      "text/plain": [
       "([], False)"
      ]
     },
     "execution_count": 28,
     "metadata": {},
     "output_type": "execute_result"
    }
   ],
   "source": [
    "get_keywords_combinations(paragraphs[7], config, verbose=False)"
   ]
  },
  {
   "cell_type": "code",
   "execution_count": 29,
   "metadata": {},
   "outputs": [
    {
     "data": {
      "text/plain": [
       "'To summarize, the proteins in this set are involved in the regulation of heart development and cardiogenesis, with overlapping roles in cellular growth and survival signaling pathways. The majority of these proteins are transcription factors or signaling molecules that directly contribute to the development and function of the heart, while others play supportive roles in cellular metabolism and stress responses. The interactions between these proteins suggest a coordinated network that ensures proper heart formation and adaptation to physiological demands.'"
      ]
     },
     "execution_count": 29,
     "metadata": {},
     "output_type": "execute_result"
    }
   ],
   "source": [
    "paragraphs[7]"
   ]
  },
  {
   "cell_type": "code",
   "execution_count": null,
   "metadata": {},
   "outputs": [],
   "source": [
    "\n",
    "    references.replace( '\\n', '')\n",
    "        \n",
    "    df.loc[i, 'References'] = references\n",
    "    if i%5==0:\n",
    "        df.to_csv(toSaveFilePath, sep = '\\t')"
   ]
  }
 ],
 "metadata": {
  "kernelspec": {
   "display_name": "llm_go_evaluation",
   "language": "python",
   "name": "llm_go_evaluation"
  },
  "language_info": {
   "codemirror_mode": {
    "name": "ipython",
    "version": 3
   },
   "file_extension": ".py",
   "mimetype": "text/x-python",
   "name": "python",
   "nbconvert_exporter": "python",
   "pygments_lexer": "ipython3",
   "version": "3.11.3"
  }
 },
 "nbformat": 4,
 "nbformat_minor": 4
}
