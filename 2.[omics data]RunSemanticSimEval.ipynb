{
 "cells": [
  {
   "cell_type": "markdown",
   "id": "868ff655-a99c-4ca3-a155-879408026cb6",
   "metadata": {},
   "source": [
    "This notebook takes in a table of GO term, LLM name, and human curated name and obtains a the semantic sentence similarity between each pair\n"
   ]
  },
  {
   "cell_type": "markdown",
   "id": "b9e09515-9fd5-4d11-8147-ac949a93c2ea",
   "metadata": {},
   "source": [
    "Run separately for NeST and MSigDB"
   ]
  },
  {
   "cell_type": "code",
   "execution_count": 1,
   "id": "349f771e-85d4-46d8-bb0d-e52d714ca0be",
   "metadata": {},
   "outputs": [],
   "source": [
    "from transformers import AutoTokenizer, AutoModel\n",
    "from semanticSimFunctions import getSentenceEmbedding, getSentenceSimilarity, getNameSimilarities"
   ]
  },
  {
   "cell_type": "code",
   "execution_count": 2,
   "id": "85b50445-bb50-4468-a17d-2a921a377adb",
   "metadata": {},
   "outputs": [],
   "source": [
    "SapBERT_tokenizer = AutoTokenizer.from_pretrained('cambridgeltl/SapBERT-from-PubMedBERT-fulltext')\n",
    "SapBERT_model = AutoModel.from_pretrained('cambridgeltl/SapBERT-from-PubMedBERT-fulltext')"
   ]
  },
  {
   "cell_type": "code",
   "execution_count": 3,
   "id": "476cd121-98be-40fe-b9ea-fe6ac946a694",
   "metadata": {},
   "outputs": [],
   "source": [
    "import pandas as pd"
   ]
  },
  {
   "cell_type": "code",
   "execution_count": null,
   "id": "5515ca27-dd01-49c2-b411-11f3caa216ff",
   "metadata": {},
   "outputs": [],
   "source": []
  },
  {
   "cell_type": "code",
   "execution_count": 4,
   "id": "8b94f9c8-ceca-42df-868e-7a0b44e0cca4",
   "metadata": {},
   "outputs": [],
   "source": [
    "# Edit these parameters\n",
    "dataType = \"MSigDB\"\n",
    "runVersion = \"test\""
   ]
  },
  {
   "cell_type": "code",
   "execution_count": 5,
   "id": "1aa307a3-a7db-48c4-94d2-d1bf836607b8",
   "metadata": {},
   "outputs": [],
   "source": [
    "if runVersion == \"test\":\n",
    "    infix = '_subset'\n",
    "else: \n",
    "    infix = ''"
   ]
  },
  {
   "cell_type": "code",
   "execution_count": 12,
   "id": "873c1d64-9647-4f21-95e1-59b18068f039",
   "metadata": {},
   "outputs": [],
   "source": [
    "if dataType == \"MSigDB\":\n",
    "    geneSetID = 'Name'\n",
    "    humanNameCol = 'Name'\n",
    "    \n",
    "elif dataType == \"NeST\":\n",
    "    geneSetID = 'NEST ID'\n",
    "    humanNameCol = 'name_new'\n",
    "else:\n",
    "    print(\"Data type not implemented yet\")"
   ]
  },
  {
   "cell_type": "code",
   "execution_count": 13,
   "id": "b7f2206c-5a53-4647-99a3-f69bad75605d",
   "metadata": {},
   "outputs": [],
   "source": [
    "inputFile = 'data/' + dataType + '_table' + infix + '_LLM_Enrichr_DF.tsv' "
   ]
  },
  {
   "cell_type": "code",
   "execution_count": 15,
   "id": "98bb6798-e581-49cf-a290-6d0a4c56df5d",
   "metadata": {
    "tags": []
   },
   "outputs": [],
   "source": [
    "expanded_LLM_genes_geneSetDF = pd.read_csv(inputFile, sep = \"\\t\") "
   ]
  },
  {
   "cell_type": "code",
   "execution_count": 16,
   "id": "1ba544d0-2a7b-4663-8009-bdaf200990df",
   "metadata": {},
   "outputs": [],
   "source": [
    "reduced_LLM_genes_DF = expanded_LLM_genes_geneSetDF.loc[expanded_LLM_genes_geneSetDF.reset_index().groupby(geneSetID)['Adjusted P-value'].idxmin()]"
   ]
  },
  {
   "cell_type": "code",
   "execution_count": 17,
   "id": "fbf02de2-99a2-41b0-83ed-86bea99b4257",
   "metadata": {},
   "outputs": [],
   "source": [
    "reduced_LLM_genes_DF = reduced_LLM_genes_DF.reset_index()"
   ]
  },
  {
   "cell_type": "code",
   "execution_count": 18,
   "id": "3952c52d-ae67-430d-9b50-0097a28d30ec",
   "metadata": {
    "tags": []
   },
   "outputs": [
    {
     "data": {
      "text/plain": [
       "Index(['index', 'Unnamed: 0', 'Name', 'Genes', 'Genes.1', 'LLM Name',\n",
       "       'LLM Analysis', 'Rank', 'Overlap', 'P-value', 'Adjusted P-value',\n",
       "       'Genes.2', 'Genes.3', 'GO term', 'GO ID'],\n",
       "      dtype='object')"
      ]
     },
     "execution_count": 18,
     "metadata": {},
     "output_type": "execute_result"
    }
   ],
   "source": [
    "reduced_LLM_genes_DF.columns"
   ]
  },
  {
   "cell_type": "code",
   "execution_count": 19,
   "id": "20588b21-5c14-42b5-a891-72a0c3cb5fd9",
   "metadata": {
    "tags": []
   },
   "outputs": [
    {
     "data": {
      "text/plain": [
       "(3, 15)"
      ]
     },
     "execution_count": 19,
     "metadata": {},
     "output_type": "execute_result"
    }
   ],
   "source": [
    "reduced_LLM_genes_DF.shape"
   ]
  },
  {
   "cell_type": "code",
   "execution_count": 20,
   "id": "3c5396d9-32e9-4340-b2d4-5a52a3b3ad8e",
   "metadata": {
    "tags": []
   },
   "outputs": [
    {
     "name": "stderr",
     "output_type": "stream",
     "text": [
      "Asking to truncate to max_length but no maximum length is provided and the model has no predefined maximum length. Default to no truncation.\n"
     ]
    },
    {
     "name": "stdout",
     "output_type": "stream",
     "text": [
      "0\n",
      "1\n",
      "2\n"
     ]
    }
   ],
   "source": [
    "names_DF = getNameSimilarities(reduced_LLM_genes_DF, 'LLM Name', 'GO term', humanNameCol, SapBERT_tokenizer, SapBERT_model, \"cosine_similarity\")"
   ]
  },
  {
   "cell_type": "code",
   "execution_count": 21,
   "id": "b04c2ded-27a4-48f0-bf08-e64385d9b8e0",
   "metadata": {},
   "outputs": [],
   "source": [
    "outputFile = 'data/' + dataType + '_table' + infix + '_LLM_Enrichr_simVals_DF.tsv' "
   ]
  },
  {
   "cell_type": "code",
   "execution_count": 22,
   "id": "d8ae376c-0f61-4340-a103-1a929673efe9",
   "metadata": {},
   "outputs": [],
   "source": [
    "names_DF.to_csv(outputFile, sep = \"\\t\")"
   ]
  },
  {
   "cell_type": "markdown",
   "id": "4ce14248-219e-416f-90fe-59338c538eed",
   "metadata": {},
   "source": [
    "## Get performance measure"
   ]
  },
  {
   "cell_type": "code",
   "execution_count": 23,
   "id": "740cd3e5-57df-4a62-b48b-d1c99fc9551f",
   "metadata": {},
   "outputs": [
    {
     "data": {
      "text/plain": [
       "Tied    1\n",
       "LLM     1\n",
       "GO      1\n",
       "Name: winner, dtype: int64"
      ]
     },
     "execution_count": 23,
     "metadata": {},
     "output_type": "execute_result"
    }
   ],
   "source": [
    "# What percentage of systems have LLM_name_human_name_sim > GO_term_human_name_sim\n",
    "names_DF.winner.value_counts()"
   ]
  },
  {
   "cell_type": "code",
   "execution_count": 24,
   "id": "147b9ec5-01b9-451f-94e0-984e8386c5cc",
   "metadata": {},
   "outputs": [
    {
     "data": {
      "text/plain": [
       "(3, 18)"
      ]
     },
     "execution_count": 24,
     "metadata": {},
     "output_type": "execute_result"
    }
   ],
   "source": [
    "names_DF.shape"
   ]
  },
  {
   "cell_type": "code",
   "execution_count": null,
   "id": "61b18f66-28a9-4c6f-a975-723189bd501a",
   "metadata": {},
   "outputs": [],
   "source": []
  }
 ],
 "metadata": {
  "kernelspec": {
   "display_name": "llm_go_evaluation",
   "language": "python",
   "name": "llm_go_evaluation"
  },
  "language_info": {
   "codemirror_mode": {
    "name": "ipython",
    "version": 3
   },
   "file_extension": ".py",
   "mimetype": "text/x-python",
   "name": "python",
   "nbconvert_exporter": "python",
   "pygments_lexer": "ipython3",
   "version": "3.11.3"
  }
 },
 "nbformat": 4,
 "nbformat_minor": 5
}
