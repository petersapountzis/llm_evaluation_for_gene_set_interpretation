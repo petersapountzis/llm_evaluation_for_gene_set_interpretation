{
 "cells": [
  {
   "cell_type": "code",
   "execution_count": 9,
   "metadata": {},
   "outputs": [
    {
     "name": "stdout",
     "output_type": "stream",
     "text": [
      "['GO:0006641', 'GO:0006639', 'GO:0006638', 'GO:0044255', 'GO:0044237', 'GO:0009987', 'GO:0008150', 'GO:0008152', 'GO:0008150', 'GO:0006629', 'GO:0044238', 'GO:0008152', 'GO:0008150', 'GO:0071704', 'GO:0008152', 'GO:0008150', 'GO:0046486', 'GO:0044255', 'GO:0044237', 'GO:0009987', 'GO:0008150', 'GO:0008152', 'GO:0008150', 'GO:0006629', 'GO:0044238', 'GO:0008152', 'GO:0008150', 'GO:0071704', 'GO:0008152', 'GO:0008150', 'GO:0046464', 'GO:0006638', 'GO:0044255', 'GO:0044237', 'GO:0009987', 'GO:0008150', 'GO:0008152', 'GO:0008150', 'GO:0006629', 'GO:0044238', 'GO:0008152', 'GO:0008150', 'GO:0071704', 'GO:0008152', 'GO:0008150', 'GO:0006639', 'GO:0006638', 'GO:0044255', 'GO:0044237', 'GO:0009987', 'GO:0008150', 'GO:0008152', 'GO:0008150', 'GO:0006629', 'GO:0044238', 'GO:0008152', 'GO:0008150', 'GO:0071704', 'GO:0008152', 'GO:0008150', 'GO:0046486', 'GO:0044255', 'GO:0044237', 'GO:0009987', 'GO:0008150', 'GO:0008152', 'GO:0008150', 'GO:0006629', 'GO:0044238', 'GO:0008152', 'GO:0008150', 'GO:0071704', 'GO:0008152', 'GO:0008150', 'GO:0044242', 'GO:0044255', 'GO:0044237', 'GO:0009987', 'GO:0008150', 'GO:0008152', 'GO:0008150', 'GO:0006629', 'GO:0044238', 'GO:0008152', 'GO:0008150', 'GO:0071704', 'GO:0008152', 'GO:0008150', 'GO:0016042', 'GO:1901575', 'GO:0071704', 'GO:0008152', 'GO:0008150', 'GO:0009056', 'GO:0008152', 'GO:0008150', 'GO:0006629', 'GO:0044238', 'GO:0008152', 'GO:0008150', 'GO:0071704', 'GO:0008152', 'GO:0008150', 'GO:0044248', 'GO:0044237', 'GO:0009987', 'GO:0008150', 'GO:0008152', 'GO:0008150', 'GO:0009056', 'GO:0008152', 'GO:0008150', 'GO:0046503', 'GO:0046486', 'GO:0044255', 'GO:0044237', 'GO:0009987', 'GO:0008150', 'GO:0008152', 'GO:0008150', 'GO:0006629', 'GO:0044238', 'GO:0008152', 'GO:0008150', 'GO:0071704', 'GO:0008152', 'GO:0008150', 'GO:0044242', 'GO:0044255', 'GO:0044237', 'GO:0009987', 'GO:0008150', 'GO:0008152', 'GO:0008150', 'GO:0006629', 'GO:0044238', 'GO:0008152', 'GO:0008150', 'GO:0071704', 'GO:0008152', 'GO:0008150', 'GO:0016042', 'GO:1901575', 'GO:0071704', 'GO:0008152', 'GO:0008150', 'GO:0009056', 'GO:0008152', 'GO:0008150', 'GO:0006629', 'GO:0044238', 'GO:0008152', 'GO:0008150', 'GO:0071704', 'GO:0008152', 'GO:0008150', 'GO:0044248', 'GO:0044237', 'GO:0009987', 'GO:0008150', 'GO:0008152', 'GO:0008150', 'GO:0009056', 'GO:0008152', 'GO:0008150']\n",
      "165\n"
     ]
    }
   ],
   "source": [
    "## find all parents of GO:0010898, and the lineage all the way to the root \n",
    "# load a sif network, where showing child-parent relationship\n",
    "import pandas as pd\n",
    "\n",
    "def load_ont(filename):\n",
    "    data = []\n",
    "    with open(filename, 'r') as f:\n",
    "        for line in f:\n",
    "            columns = line.strip().split('\\t')  # tab-separated values\n",
    "            if len(columns) >= 3:\n",
    "                parent = columns[0] # based on collapsed_go.symbol, the first column is parent\n",
    "                child = columns[1] # second column is child\n",
    "                interaction = columns[2] # third column is interaction type\n",
    "                if interaction == 'default':\n",
    "                    data.append({'child': child, 'parent': parent}) # Add child and parent to a dataframe\n",
    "    df = pd.DataFrame(data)\n",
    "    return df\n",
    "             \n",
    "\n",
    "def get_ancestors(child_node, edges):\n",
    "    ancestors = []\n",
    "    # Find the parents of the current node. In the 'edges' DataFrame, \n",
    "    # this is done by looking up rows where the 'child' column matches \n",
    "    # the current node, and then getting the corresponding values in the 'parent' column.\n",
    "    parents = edges.loc[edges['child'] == child_node, 'parent'].values\n",
    "\n",
    "    for parent in parents:\n",
    "        if parent not in ancestors:  # Check if the parent is already in the ancestors list\n",
    "            ancestors.append(parent)  # If not, add it to the list\n",
    "            ancestors.extend(get_ancestors(parent, edges))  # Recursively find the parent's ancestors\n",
    "\n",
    "    return ancestors\n",
    "\n",
    "\n",
    "if __name__ == '__main__':\n",
    "    GO_ID = 'GO:0019433'\n",
    "    go_network = load_ont('./data/GO_BP/collapsed_go.symbol')\n",
    "    ancestors = get_ancestors(GO_ID, go_network)\n",
    "    print(ancestors)\n",
    "    print(len(ancestors))\n",
    "    filtered_network = go_network[(go_network['child'].isin(ancestors+[GO_ID]))]\n",
    "    GO_ID_name = GO_ID.replace(':', '_')\n",
    "    filtered_network.to_csv(f'./data/GO_term_analysis/{GO_ID_name}_subhierarchy.txt', sep= '\\t', index=False)\n"
   ]
  },
  {
   "cell_type": "code",
   "execution_count": 10,
   "metadata": {},
   "outputs": [
    {
     "name": "stdout",
     "output_type": "stream",
     "text": [
      "33 19\n"
     ]
    }
   ],
   "source": [
    "print(len(filtered_network), len(set(ancestors)))"
   ]
  },
  {
   "cell_type": "code",
   "execution_count": 11,
   "metadata": {},
   "outputs": [
    {
     "name": "stdout",
     "output_type": "stream",
     "text": [
      "(20, 4)\n"
     ]
    }
   ],
   "source": [
    "# make a nodes attribute table for all nodes in the subnetwork\n",
    "GO_ID = 'GO:0019433'\n",
    "GO_ID_name = GO_ID.replace(':', '_')\n",
    "# load the GO term annotation file\n",
    "import pandas as pd\n",
    "df_csv = pd.read_csv('./data/go_terms.csv', index_col=0)\n",
    "\n",
    "terms_in_subnetwork = set(filtered_network['child'].tolist() + filtered_network['parent'].tolist())\n",
    "\n",
    "sub_nodes = df_csv.loc[df_csv['GO'].isin(terms_in_subnetwork), :]\n",
    "\n",
    "# sub_nodes.head()\n",
    "print(sub_nodes.shape)\n",
    "\n",
    "sub_nodes.to_csv(f'./data/GO_term_analysis/{GO_ID_name}_subhierarchy_nodes.txt', sep='\\t', index=False)"
   ]
  },
  {
   "cell_type": "code",
   "execution_count": 12,
   "metadata": {},
   "outputs": [
    {
     "data": {
      "text/html": [
       "<div>\n",
       "<style scoped>\n",
       "    .dataframe tbody tr th:only-of-type {\n",
       "        vertical-align: middle;\n",
       "    }\n",
       "\n",
       "    .dataframe tbody tr th {\n",
       "        vertical-align: top;\n",
       "    }\n",
       "\n",
       "    .dataframe thead th {\n",
       "        text-align: right;\n",
       "    }\n",
       "</style>\n",
       "<table border=\"1\" class=\"dataframe\">\n",
       "  <thead>\n",
       "    <tr style=\"text-align: right;\">\n",
       "      <th></th>\n",
       "      <th>GO</th>\n",
       "      <th>Genes</th>\n",
       "      <th>Gene_Count</th>\n",
       "      <th>Term_Description</th>\n",
       "    </tr>\n",
       "  </thead>\n",
       "  <tbody>\n",
       "    <tr>\n",
       "      <th>547</th>\n",
       "      <td>GO:0006639</td>\n",
       "      <td>PNPLA3 APOA2 FGF21 LPGAT1 CYP2E1 INSIG2 FITM2 ...</td>\n",
       "      <td>130</td>\n",
       "      <td>acylglycerol metabolic process</td>\n",
       "    </tr>\n",
       "    <tr>\n",
       "      <th>1220</th>\n",
       "      <td>GO:0071704</td>\n",
       "      <td>ALG14 PTPN1 FIGNL1 SNRPB OCRL USP16 CUL1 MYLK2...</td>\n",
       "      <td>10633</td>\n",
       "      <td>organic substance metabolic process</td>\n",
       "    </tr>\n",
       "    <tr>\n",
       "      <th>1327</th>\n",
       "      <td>GO:0019433</td>\n",
       "      <td>PNPLA3 FGF21 PNPLA4 PNPLA1 PLIN5 CPS1 APOA4 PN...</td>\n",
       "      <td>31</td>\n",
       "      <td>triglyceride catabolic process</td>\n",
       "    </tr>\n",
       "    <tr>\n",
       "      <th>1463</th>\n",
       "      <td>GO:0006629</td>\n",
       "      <td>ALG14 ACOT7 SERINC2 MBOAT1 OCRL LEPR LPIN1 PTP...</td>\n",
       "      <td>1396</td>\n",
       "      <td>lipid metabolic process</td>\n",
       "    </tr>\n",
       "    <tr>\n",
       "      <th>2025</th>\n",
       "      <td>GO:0046486</td>\n",
       "      <td>ABHD8 INPP5J SERINC2 CYP2E1 MBOAT1 OCRL RAB38 ...</td>\n",
       "      <td>396</td>\n",
       "      <td>glycerolipid metabolic process</td>\n",
       "    </tr>\n",
       "  </tbody>\n",
       "</table>\n",
       "</div>"
      ],
      "text/plain": [
       "              GO                                              Genes  \\\n",
       "547   GO:0006639  PNPLA3 APOA2 FGF21 LPGAT1 CYP2E1 INSIG2 FITM2 ...   \n",
       "1220  GO:0071704  ALG14 PTPN1 FIGNL1 SNRPB OCRL USP16 CUL1 MYLK2...   \n",
       "1327  GO:0019433  PNPLA3 FGF21 PNPLA4 PNPLA1 PLIN5 CPS1 APOA4 PN...   \n",
       "1463  GO:0006629  ALG14 ACOT7 SERINC2 MBOAT1 OCRL LEPR LPIN1 PTP...   \n",
       "2025  GO:0046486  ABHD8 INPP5J SERINC2 CYP2E1 MBOAT1 OCRL RAB38 ...   \n",
       "\n",
       "      Gene_Count                     Term_Description  \n",
       "547          130       acylglycerol metabolic process  \n",
       "1220       10633  organic substance metabolic process  \n",
       "1327          31       triglyceride catabolic process  \n",
       "1463        1396              lipid metabolic process  \n",
       "2025         396       glycerolipid metabolic process  "
      ]
     },
     "execution_count": 12,
     "metadata": {},
     "output_type": "execute_result"
    }
   ],
   "source": [
    "sub_nodes.head()"
   ]
  },
  {
   "cell_type": "code",
   "execution_count": null,
   "metadata": {},
   "outputs": [],
   "source": []
  }
 ],
 "metadata": {
  "kernelspec": {
   "display_name": "llm",
   "language": "python",
   "name": "python3"
  },
  "language_info": {
   "codemirror_mode": {
    "name": "ipython",
    "version": 3
   },
   "file_extension": ".py",
   "mimetype": "text/x-python",
   "name": "python",
   "nbconvert_exporter": "python",
   "pygments_lexer": "ipython3",
   "version": "3.7.10"
  },
  "orig_nbformat": 4
 },
 "nbformat": 4,
 "nbformat_minor": 2
}
