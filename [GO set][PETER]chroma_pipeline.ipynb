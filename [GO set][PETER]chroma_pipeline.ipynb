{
 "cells": [
  {
   "cell_type": "code",
   "id": "initial_id",
   "metadata": {
    "collapsed": true,
    "ExecuteTime": {
     "end_time": "2025-04-09T21:22:25.507721Z",
     "start_time": "2025-04-09T21:22:24.204466Z"
    }
   },
   "source": [
    "from chromadb import PersistentClient #TODO: check if can run on Linux and/or windows --> it can\n",
    "from sentence_transformers import SentenceTransformer\n",
    "\n",
    "client = PersistentClient(path=\"./chroma_db\")\n",
    "collection = client.get_or_create_collection(\"go_terms_sorted\")\n",
    "\n",
    "model = SentenceTransformer(\"all-MiniLM-L6-v2\")"
   ],
   "outputs": [],
   "execution_count": 2
  },
  {
   "cell_type": "markdown",
   "id": "d4d097a99105be87",
   "metadata": {},
   "source": [
    "## Load and embed GO terms"
   ]
  },
  {
   "cell_type": "code",
   "id": "82f390534ef1b296",
   "metadata": {
    "ExecuteTime": {
     "end_time": "2025-04-09T21:29:22.612779Z",
     "start_time": "2025-04-09T21:23:01.557429Z"
    }
   },
   "source": [
    "import pandas as pd\n",
    "from sentence_transformers import SentenceTransformer\n",
    "\n",
    "# Load GO terms\n",
    "df = pd.read_csv(\"data/go_terms.csv\")  # columns: GO, Term_Description, Genes\n",
    "\n",
    "# Sort gene lists alphabetically\n",
    "def sort_genes(gene_str):\n",
    "    genes = gene_str.split()\n",
    "    return \" \".join(sorted(genes))\n",
    "\n",
    "df[\"Sorted_Genes\"] = df[\"Genes\"].apply(sort_genes)\n",
    "\n",
    "# Format text for embedding (now uses sorted genes)\n",
    "df[\"text\"] = df.apply(\n",
    "    lambda row: f\"{row['GO']}: {row['Term_Description']} | Genes: {row['Sorted_Genes']}\",\n",
    "    axis=1\n",
    ")\n",
    "\n",
    "# Load embedding model\n",
    "model = SentenceTransformer(\"all-MiniLM-L6-v2\")\n",
    "\n",
    "# Embed texts\n",
    "df[\"embedding\"] = df[\"text\"].apply(lambda x: model.encode(x).tolist())\n",
    "\n",
    "df.head(2)\n"
   ],
   "outputs": [
    {
     "data": {
      "text/plain": [
       "   Unnamed: 0          GO                                              Genes  \\\n",
       "0           0  GO:0006311                                 TEX11 PRDM9 RNF212   \n",
       "1           1  GO:0006855  ABCB11 ABCC4 ABCC3 SLC29A2 SLC37A3 SLC19A1 SLC...   \n",
       "\n",
       "   Gene_Count                    Term_Description  \\\n",
       "0           3             meiotic gene conversion   \n",
       "1          16  xenobiotic transmembrane transport   \n",
       "\n",
       "                                        Sorted_Genes  \\\n",
       "0                                 PRDM9 RNF212 TEX11   \n",
       "1  ABCA3 ABCB11 ABCC2 ABCC3 ABCC4 ABCC5 ATP8B1 AT...   \n",
       "\n",
       "                                                text  \\\n",
       "0  GO:0006311: meiotic gene conversion | Genes: P...   \n",
       "1  GO:0006855: xenobiotic transmembrane transport...   \n",
       "\n",
       "                                           embedding  \n",
       "0  [-0.06553520262241364, 0.007277282886207104, -...  \n",
       "1  [-0.06345071643590927, -0.0534319169819355, -0...  "
      ],
      "text/html": [
       "<div>\n",
       "<style scoped>\n",
       "    .dataframe tbody tr th:only-of-type {\n",
       "        vertical-align: middle;\n",
       "    }\n",
       "\n",
       "    .dataframe tbody tr th {\n",
       "        vertical-align: top;\n",
       "    }\n",
       "\n",
       "    .dataframe thead th {\n",
       "        text-align: right;\n",
       "    }\n",
       "</style>\n",
       "<table border=\"1\" class=\"dataframe\">\n",
       "  <thead>\n",
       "    <tr style=\"text-align: right;\">\n",
       "      <th></th>\n",
       "      <th>Unnamed: 0</th>\n",
       "      <th>GO</th>\n",
       "      <th>Genes</th>\n",
       "      <th>Gene_Count</th>\n",
       "      <th>Term_Description</th>\n",
       "      <th>Sorted_Genes</th>\n",
       "      <th>text</th>\n",
       "      <th>embedding</th>\n",
       "    </tr>\n",
       "  </thead>\n",
       "  <tbody>\n",
       "    <tr>\n",
       "      <th>0</th>\n",
       "      <td>0</td>\n",
       "      <td>GO:0006311</td>\n",
       "      <td>TEX11 PRDM9 RNF212</td>\n",
       "      <td>3</td>\n",
       "      <td>meiotic gene conversion</td>\n",
       "      <td>PRDM9 RNF212 TEX11</td>\n",
       "      <td>GO:0006311: meiotic gene conversion | Genes: P...</td>\n",
       "      <td>[-0.06553520262241364, 0.007277282886207104, -...</td>\n",
       "    </tr>\n",
       "    <tr>\n",
       "      <th>1</th>\n",
       "      <td>1</td>\n",
       "      <td>GO:0006855</td>\n",
       "      <td>ABCB11 ABCC4 ABCC3 SLC29A2 SLC37A3 SLC19A1 SLC...</td>\n",
       "      <td>16</td>\n",
       "      <td>xenobiotic transmembrane transport</td>\n",
       "      <td>ABCA3 ABCB11 ABCC2 ABCC3 ABCC4 ABCC5 ATP8B1 AT...</td>\n",
       "      <td>GO:0006855: xenobiotic transmembrane transport...</td>\n",
       "      <td>[-0.06345071643590927, -0.0534319169819355, -0...</td>\n",
       "    </tr>\n",
       "  </tbody>\n",
       "</table>\n",
       "</div>"
      ]
     },
     "execution_count": 3,
     "metadata": {},
     "output_type": "execute_result"
    }
   ],
   "execution_count": 3
  },
  {
   "cell_type": "code",
   "id": "a2728b4b64f44255",
   "metadata": {
    "ExecuteTime": {
     "end_time": "2025-04-09T21:30:59.410686Z",
     "start_time": "2025-04-09T21:30:53.245863Z"
    }
   },
   "source": [
    "# Upload only if collection is empty\n",
    "if collection.count() == 0:\n",
    "    print(\"Uploading GO terms to Chroma...\")\n",
    "    collection.add(\n",
    "        documents=df[\"text\"].tolist(),\n",
    "        embeddings=df[\"embedding\"].tolist(),\n",
    "        ids=df[\"GO\"].astype(str).tolist()\n",
    "    )\n",
    "else:\n",
    "    print(f\"{collection.count()} items already exist in Chroma.\")"
   ],
   "outputs": [
    {
     "name": "stdout",
     "output_type": "stream",
     "text": [
      "Uploading GO terms to Chroma...\n"
     ]
    }
   ],
   "execution_count": 4
  },
  {
   "cell_type": "code",
   "id": "3e53b6f383e3552b",
   "metadata": {
    "ExecuteTime": {
     "end_time": "2025-04-09T21:44:17.374217Z",
     "start_time": "2025-04-09T21:44:17.328154Z"
    }
   },
   "source": [
    "# Define gene list (you can later make this dynamic)\n",
    "gene_list = ['ABCB11', 'ABCC4', 'ABCC3']\n",
    "# TODO: look into effects by ordering genes prior to search\n",
    "query = \"Tell me everything about\" + str(', '.join(gene_list))\n",
    "\n",
    "# Embed query\n",
    "query_embedding = model.encode(query).tolist()\n",
    "\n",
    "# Search Chroma for top-K relevant GO entries\n",
    "results = collection.query(query_embeddings=[query_embedding], n_results=5)\n",
    "\n",
    "# Print the retrieved GO context\n",
    "top_context = \"\\n\".join(results['documents'][0])\n",
    "print(\"Top GO context:\\n\", top_context)\n",
    "\n",
    "# TODO: LookupError: unknown encoding: Tell me everything about ARCN1"
   ],
   "outputs": [
    {
     "ename": "LookupError",
     "evalue": "unknown encoding: Tell me everything aboutABCB11, ABCC4, ABCC3",
     "output_type": "error",
     "traceback": [
      "\u001B[0;31m---------------------------------------------------------------------------\u001B[0m",
      "\u001B[0;31mLookupError\u001B[0m                               Traceback (most recent call last)",
      "Cell \u001B[0;32mIn[13], line 7\u001B[0m\n\u001B[1;32m      4\u001B[0m query \u001B[38;5;241m=\u001B[39m \u001B[38;5;124m\"\u001B[39m\u001B[38;5;124mTell me everything about\u001B[39m\u001B[38;5;124m\"\u001B[39m \u001B[38;5;241m+\u001B[39m \u001B[38;5;28mstr\u001B[39m(\u001B[38;5;124m'\u001B[39m\u001B[38;5;124m, \u001B[39m\u001B[38;5;124m'\u001B[39m\u001B[38;5;241m.\u001B[39mjoin(gene_list))\n\u001B[1;32m      6\u001B[0m \u001B[38;5;66;03m# Embed query\u001B[39;00m\n\u001B[0;32m----> 7\u001B[0m query_embedding \u001B[38;5;241m=\u001B[39m \u001B[43mmodel\u001B[49m\u001B[38;5;241;43m.\u001B[39;49m\u001B[43mencode\u001B[49m\u001B[43m(\u001B[49m\u001B[43mquery\u001B[49m\u001B[43m)\u001B[49m\u001B[38;5;241m.\u001B[39mtolist()\n\u001B[1;32m      9\u001B[0m \u001B[38;5;66;03m# Search Chroma for top-K relevant GO entries\u001B[39;00m\n\u001B[1;32m     10\u001B[0m results \u001B[38;5;241m=\u001B[39m collection\u001B[38;5;241m.\u001B[39mquery(query_embeddings\u001B[38;5;241m=\u001B[39m[query_embedding], n_results\u001B[38;5;241m=\u001B[39m\u001B[38;5;241m5\u001B[39m)\n",
      "\u001B[0;31mLookupError\u001B[0m: unknown encoding: Tell me everything aboutABCB11, ABCC4, ABCC3"
     ]
    }
   ],
   "execution_count": 13
  },
  {
   "cell_type": "code",
   "id": "309338d5f36c0e70",
   "metadata": {
    "ExecuteTime": {
     "end_time": "2025-04-09T21:33:03.495088Z",
     "start_time": "2025-04-09T21:33:02.310226Z"
    }
   },
   "source": [
    "import sys\n",
    "sys.path.append(\"utils\") \n",
    "\n",
    "from openai_query import openai_chat\n",
    "from prompt_factory import make_user_prompt_with_score"
   ],
   "outputs": [],
   "execution_count": 6
  },
  {
   "cell_type": "code",
   "id": "dcb0dcb9f8b80d69",
   "metadata": {
    "ExecuteTime": {
     "end_time": "2025-04-09T21:34:34.310549Z",
     "start_time": "2025-04-09T21:34:34.307763Z"
    }
   },
   "source": [
    "# Context and prompt setup\n",
    "context = f\"\"\"You are an efficient and insightful assistant to a molecular biologist.\n",
    "You should give the true answer that is supported by the references. If you do not have a clear answer, you will respond with \"Unknown\".\n",
    "\n",
    "Important context for these genes can be found here:\n",
    "{top_context}\n",
    "# \"\"\"\n",
    "# \n",
    "# prompt = f\"\"\"The following GO terms describe gene functions:\n",
    "# \n",
    "# {top_context}\n",
    "# \n",
    "# Given the gene list: TP53, BAX, CASP3, what biological process do they most likely share?\n",
    "# \"\"\"\n",
    "gene_list = ['ARCN1'] # \"TP53\", \"BAX\", \"CASP3\"\n",
    "prompt = make_user_prompt_with_score(genes=gene_list)\n",
    "\n",
    "# Query params\n",
    "model = \"gpt-3.5-turbo\"\n",
    "temperature = 0 #TODO: test different temperature parameters (0.1, 0.2, 0.3, 0.5, 0.7, 0.9)\n",
    "max_tokens = 500\n",
    "rate_per_token = 0.0005\n",
    "LOG_FILE = \"logs/test_openai_log.json\"\n",
    "DOLLAR_LIMIT = 1.00\n"
   ],
   "outputs": [],
   "execution_count": 10
  },
  {
   "cell_type": "code",
   "id": "6a2ce7c5c63757c4",
   "metadata": {
    "ExecuteTime": {
     "end_time": "2025-04-09T21:34:37.618417Z",
     "start_time": "2025-04-09T21:34:35.564255Z"
    }
   },
   "source": [
    "response_text, fingerprint = openai_chat(\n",
    "    context=context,\n",
    "    prompt=prompt,\n",
    "    model=model,\n",
    "    temperature=temperature,\n",
    "    max_tokens=max_tokens,\n",
    "    rate_per_token=rate_per_token,\n",
    "    LOG_FILE=LOG_FILE,\n",
    "    DOLLAR_LIMIT=40.0,\n",
    "    seed=42\n",
    ")\n",
    "\n",
    "print(\"GPT Response:\\n\", response_text)"
   ],
   "outputs": [
    {
     "name": "stdout",
     "output_type": "stream",
     "text": [
      "1423\n",
      "GPT Response:\n",
      " Process: Cerebellar development and interleukin-1-mediated signaling (0.85)\n",
      "\n",
      "1. ARCN1 is involved in cerebellar cortex and Purkinje cell layer maturation, as indicated by its association with genes like CEND1 and RERE. These processes are crucial for the proper development and function of the cerebellum.\n",
      "\n",
      "2. Additionally, ARCN1 is part of the interleukin-1-mediated signaling pathway, interacting with various genes such as IL1B, IL1R1, and IL6. This pathway plays a significant role in immune response regulation and inflammation.\n",
      "\n",
      "In summary, the proteins in this system play a dual role in cerebellar development and interleukin-1-mediated signaling, indicating their involvement in both neurodevelopmental processes and immune response modulation. The confidence score reflects the significant contribution of these proteins to the identified processes.\n"
     ]
    }
   ],
   "execution_count": 11
  },
  {
   "cell_type": "code",
   "execution_count": null,
   "id": "3b9fa05661d47b4",
   "metadata": {},
   "outputs": [],
   "source": [
    "# TODO: incorporate into existing pipeline\n",
    "# TODO: test results between RAG system and traditional workflow"
   ]
  }
 ],
 "metadata": {
  "kernelspec": {
   "display_name": "Python 3",
   "language": "python",
   "name": "python3"
  },
  "language_info": {
   "codemirror_mode": {
    "name": "ipython",
    "version": 3
   },
   "file_extension": ".py",
   "mimetype": "text/x-python",
   "name": "python",
   "nbconvert_exporter": "python",
   "pygments_lexer": "ipython3",
   "version": "3.11.11"
  }
 },
 "nbformat": 4,
 "nbformat_minor": 5
}
