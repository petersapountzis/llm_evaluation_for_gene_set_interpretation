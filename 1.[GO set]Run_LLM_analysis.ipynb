{
 "cells": [
  {
   "cell_type": "markdown",
   "metadata": {},
   "source": [
    "## Query GPT-4 for name and analysis using a toy example\n",
    "\n",
    "#### This uses an improved version of the original prompt that includes instructions to generate an LLM Confidence Score.\n",
    "\n",
    "#### The prompt also includes an example analysis to help the LLM in its task.\n",
    "\n",
    "#### The LLM Score has its own column in the output TSV file.\n",
    "\n",
    "#### The JSON config file is updated to use \"GPT-4_1106-preview\" build.\n",
    "\n",
    "Update 12-21-2023\n",
    "\n",
    "new available models through api: https://api.llm.ideker.ucsd.edu/api/chat\n",
    "\n",
    "available models:\n",
    "\n",
    "| NAME           | ID           | SIZE   |\n",
    "|----------------|--------------|--------|\n",
    "| llama2:70b     | c3a7af098300 | 38 GB  |\n",
    "| llama2:7b      | fe938a131f40 | 3.8 GB |\n",
    "| llama2:latest  | fe938a131f40 | 3.8 GB |\n",
    "| mistral:7b     | 4d9f4b269c33 | 4.1 GB |\n",
    "| mixtral:latest | 99a9202f8a7a | 26 GB  |"
   ]
  },
  {
   "cell_type": "code",
   "execution_count": null,
   "metadata": {},
   "outputs": [],
   "source": [
    "import pandas as pd\n",
    "import json \n",
    "from utils.openai_query import openai_chat\n",
    "from utils.prompt_factory import make_user_prompt_with_score\n",
    "from utils.server_model_query import server_model_chat\n",
    "from utils.llm_analysis_utils import process_analysis, save_progress\n",
    "from tqdm import tqdm\n",
    "import openai\n",
    "import os\n",
    "import logging\n",
    "import re\n",
    "%load_ext autoreload\n",
    "%autoreload 2\n"
   ]
  },
  {
   "cell_type": "markdown",
   "metadata": {},
   "source": [
    "**Default run is using GPT4**"
   ]
  },
  {
   "cell_type": "code",
   "execution_count": 11,
   "metadata": {},
   "outputs": [],
   "source": [
    "## load variables\n",
    "initialize = True # if True, then initialize the input table with llm names, analysis and score to None \n",
    "# Replace with your actual values\n",
    "config_file = './jsonFiles/toyexample.json'  # replace with your actual config file \n",
    "input_file = 'data/GO_term_analysis/toy_example_w_contaminated.csv' # replace with your actual input file\n",
    "input_sep = ','  # replace with the separator\n",
    "set_index = 'GO'  # replace with your column name that you want to set as index or None\n",
    "gene_column = 'Genes'  # replace with your actual column name for the gene list\n",
    "gene_sep = ' '  # replace with your actual separator\n",
    "gene_features = None  # replace with your path to the gene features or None if you don't want to include in the prompt\n",
    "direct = False # if True, then the prompt will be a direct sentence asking for a name and analysis from the gene set, otherwise default or customized prompt\n",
    "out_file = 'data/GO_term_analysis/LLM_processed_toy_example_w_contamination_gpt4'  # replace with your actual output file name\n",
    "\n",
    "customized_prompt = False # if True, then the prompt will be the custom prompt, if False, then the prompt will use default\n",
    "\n",
    "# load the config file\n",
    "with open(config_file) as json_file:\n",
    "    config = json.load(json_file)\n",
    "\n",
    "if customized_prompt:\n",
    "    # make sure the file exist \n",
    "    if os.path.isfile(config['CUSTOM_PROMPT_FILE']):\n",
    "        with open(config['CUSTOM_PROMPT_FILE'], 'r') as f: # replace with your actual customized prompt file\n",
    "            customized_prompt = f.read()\n",
    "            assert len(customized_prompt) > 1, \"Customized prompt is empty\"\n",
    "    else:\n",
    "        print(\"Customized prompt file does not exist\")\n",
    "        customized_prompt = None\n",
    "else:\n",
    "    customized_prompt = None\n",
    "\n",
    "# Load OpenAI key, context, and model used \n",
    "openai.api_key = os.environ[\"OPENAI_API_KEY\"]\n",
    "\n",
    "context = config['CONTEXT']\n",
    "model = config['MODEL']\n",
    "temperature = config['TEMP']\n",
    "max_tokens = config['MAX_TOKENS']\n",
    "if model.startswith('gpt'):\n",
    "    rate_per_token = config['RATE_PER_TOKEN']\n",
    "    DOLLAR_LIMIT = config['DOLLAR_LIMIT']\n",
    "LOG_FILE = config['LOG_NAME']+'_log.json'\n",
    "\n",
    "SEED = 42\n",
    "column_prefix = model.split('-')[0]"
   ]
  },
  {
   "cell_type": "code",
   "execution_count": 12,
   "metadata": {},
   "outputs": [],
   "source": [
    "# handel the logger so it create a new one for each model run\n",
    "def get_logger(filename):\n",
    "    logger = logging.getLogger(filename)\n",
    "    logger.setLevel(logging.INFO)\n",
    "    if not logger.handlers:\n",
    "        file_handler = logging.FileHandler(filename)\n",
    "        formatter = logging.Formatter('%(asctime)s - %(levelname)s - %(message)s')\n",
    "        file_handler.setFormatter(formatter)\n",
    "        logger.addHandler(file_handler)\n",
    "    return logger\n",
    "\n",
    "\n",
    "def main(df):\n",
    "    analysis_dict  = {}\n",
    "\n",
    "    logger = get_logger(f'{out_file}.log')\n",
    "\n",
    "    i = 0 #used for track progress and saving the file\n",
    "    for idx, row in tqdm(df.iterrows(), total=df.shape[0]):\n",
    "        #only process None rows \n",
    "        if row[f'{column_prefix} Analysis'] is not None:\n",
    "            continue\n",
    "        \n",
    "        gene_data = row[gene_column]\n",
    "        # if gene_data is not a string, then skip\n",
    "        if type(gene_data) != str:\n",
    "            \n",
    "            logger.warning(f'Gene set {idx} is not a string, skipping')\n",
    "            continue\n",
    "        genes = gene_data.split(gene_sep)\n",
    "        \n",
    "        if len(genes) >1000:\n",
    "            logger.warning(f'Gene set {idx} is too big, skipping')\n",
    "            continue\n",
    "\n",
    "        try:\n",
    "            prompt = make_user_prompt_with_score(genes)\n",
    "            # print(prompt)\n",
    "            finger_print = None\n",
    "            if model.startswith('gpt'):\n",
    "                print(\"Accessing OpenAI API\")\n",
    "                analysis, finger_print = openai_chat(context, prompt, model, temperature, max_tokens, rate_per_token, LOG_FILE, DOLLAR_LIMIT, SEED)\n",
    "            else:\n",
    "                print(\"Using server model\")\n",
    "                analysis, error_message= server_model_chat(context, prompt, model, temperature, max_tokens,LOG_FILE, SEED)\n",
    "\n",
    "            \n",
    "            if analysis:\n",
    "                # print(analysis)\n",
    "                llm_name, llm_score, llm_analysis = process_analysis(analysis)\n",
    "                # clean up the score and return float\n",
    "                llm_score =  float(re.sub(\"[^0-9.-]\", \"\", llm_score))\n",
    "                \n",
    "                df.loc[idx, f'{column_prefix} Name'] = llm_name\n",
    "                df.loc[idx, f'{column_prefix} Analysis'] = llm_analysis\n",
    "                df.loc[idx, f'{column_prefix} Score'] = llm_score\n",
    "                analysis_dict[f'{idx}_{column_prefix}'] = analysis\n",
    "                # Log success with fingerprint\n",
    "                logger.info(f'Success for {idx} {column_prefix}.')\n",
    "                if finger_print:\n",
    "                    logger.info(f'GPT_Fingerprint for {idx}: {finger_print}')\n",
    "                    \n",
    "            else:\n",
    "                logger.error(f'Error for query gene set {idx}: {error_message}')\n",
    "\n",
    "        except Exception as e:\n",
    "            logger.error(f'Error for {idx}: {e}')\n",
    "            continue\n",
    "        i += 1\n",
    "        if i % 10 == 0:\n",
    "            save_progress(df, analysis_dict, out_file)\n",
    "            # df.to_csv(f'{out_file}.tsv', sep='\\t', index=True)\n",
    "            print(f\"Saved progress for {i} genesets\")\n",
    "    "
   ]
  },
  {
   "cell_type": "code",
   "execution_count": 13,
   "metadata": {},
   "outputs": [
    {
     "name": "stderr",
     "output_type": "stream",
     "text": [
      "  0%|          | 0/10 [00:00<?, ?it/s]"
     ]
    },
    {
     "name": "stdout",
     "output_type": "stream",
     "text": [
      "Accessing OpenAI API\n"
     ]
    },
    {
     "name": "stderr",
     "output_type": "stream",
     "text": [
      " 10%|█         | 1/10 [00:59<08:56, 59.62s/it]"
     ]
    },
    {
     "name": "stdout",
     "output_type": "stream",
     "text": [
      "2003\n",
      "Accessing OpenAI API\n"
     ]
    },
    {
     "name": "stderr",
     "output_type": "stream",
     "text": [
      " 20%|██        | 2/10 [01:39<06:25, 48.25s/it]"
     ]
    },
    {
     "name": "stdout",
     "output_type": "stream",
     "text": [
      "1605\n",
      "Accessing OpenAI API\n"
     ]
    },
    {
     "name": "stderr",
     "output_type": "stream",
     "text": [
      " 30%|███       | 3/10 [03:07<07:43, 66.16s/it]"
     ]
    },
    {
     "name": "stdout",
     "output_type": "stream",
     "text": [
      "1833\n",
      "Accessing OpenAI API\n"
     ]
    },
    {
     "name": "stderr",
     "output_type": "stream",
     "text": [
      " 40%|████      | 4/10 [03:51<05:43, 57.32s/it]"
     ]
    },
    {
     "name": "stdout",
     "output_type": "stream",
     "text": [
      "1746\n",
      "Accessing OpenAI API\n"
     ]
    },
    {
     "name": "stderr",
     "output_type": "stream",
     "text": [
      " 50%|█████     | 5/10 [04:51<04:52, 58.57s/it]"
     ]
    },
    {
     "name": "stdout",
     "output_type": "stream",
     "text": [
      "2107\n",
      "Accessing OpenAI API\n"
     ]
    },
    {
     "name": "stderr",
     "output_type": "stream",
     "text": [
      " 60%|██████    | 6/10 [06:11<04:23, 65.80s/it]"
     ]
    },
    {
     "name": "stdout",
     "output_type": "stream",
     "text": [
      "2092\n",
      "Accessing OpenAI API\n"
     ]
    },
    {
     "name": "stderr",
     "output_type": "stream",
     "text": [
      " 70%|███████   | 7/10 [06:54<02:54, 58.26s/it]"
     ]
    },
    {
     "name": "stdout",
     "output_type": "stream",
     "text": [
      "1909\n",
      "Accessing OpenAI API\n"
     ]
    },
    {
     "name": "stderr",
     "output_type": "stream",
     "text": [
      " 80%|████████  | 8/10 [07:12<01:30, 45.37s/it]"
     ]
    },
    {
     "name": "stdout",
     "output_type": "stream",
     "text": [
      "1277\n",
      "Accessing OpenAI API\n"
     ]
    },
    {
     "name": "stderr",
     "output_type": "stream",
     "text": [
      " 90%|█████████ | 9/10 [08:17<00:51, 51.45s/it]"
     ]
    },
    {
     "name": "stdout",
     "output_type": "stream",
     "text": [
      "1572\n",
      "Accessing OpenAI API\n"
     ]
    },
    {
     "name": "stderr",
     "output_type": "stream",
     "text": [
      "100%|██████████| 10/10 [08:34<00:00, 51.44s/it]\n"
     ]
    },
    {
     "name": "stdout",
     "output_type": "stream",
     "text": [
      "1270\n",
      "Saved progress for 10 genesets\n",
      "gpt_50perc_contaminated\n"
     ]
    },
    {
     "name": "stderr",
     "output_type": "stream",
     "text": [
      "  0%|          | 0/10 [00:00<?, ?it/s]"
     ]
    },
    {
     "name": "stdout",
     "output_type": "stream",
     "text": [
      "Accessing OpenAI API\n"
     ]
    },
    {
     "name": "stderr",
     "output_type": "stream",
     "text": [
      " 10%|█         | 1/10 [00:49<07:24, 49.35s/it]"
     ]
    },
    {
     "name": "stdout",
     "output_type": "stream",
     "text": [
      "1910\n",
      "Accessing OpenAI API\n"
     ]
    },
    {
     "name": "stderr",
     "output_type": "stream",
     "text": [
      " 20%|██        | 2/10 [01:57<08:01, 60.23s/it]"
     ]
    },
    {
     "name": "stdout",
     "output_type": "stream",
     "text": [
      "1615\n",
      "Accessing OpenAI API\n"
     ]
    },
    {
     "name": "stderr",
     "output_type": "stream",
     "text": [
      " 30%|███       | 3/10 [03:08<07:36, 65.23s/it]"
     ]
    },
    {
     "name": "stdout",
     "output_type": "stream",
     "text": [
      "1559\n",
      "Accessing OpenAI API\n"
     ]
    },
    {
     "name": "stderr",
     "output_type": "stream",
     "text": [
      " 40%|████      | 4/10 [04:04<06:08, 61.47s/it]"
     ]
    },
    {
     "name": "stdout",
     "output_type": "stream",
     "text": [
      "1586\n",
      "Accessing OpenAI API\n"
     ]
    },
    {
     "name": "stderr",
     "output_type": "stream",
     "text": [
      " 50%|█████     | 5/10 [05:10<05:16, 63.28s/it]"
     ]
    },
    {
     "name": "stdout",
     "output_type": "stream",
     "text": [
      "1902\n",
      "Accessing OpenAI API\n"
     ]
    },
    {
     "name": "stderr",
     "output_type": "stream",
     "text": [
      " 60%|██████    | 6/10 [06:13<04:12, 63.13s/it]"
     ]
    },
    {
     "name": "stdout",
     "output_type": "stream",
     "text": [
      "1897\n",
      "Accessing OpenAI API\n"
     ]
    },
    {
     "name": "stderr",
     "output_type": "stream",
     "text": [
      " 70%|███████   | 7/10 [07:08<03:01, 60.45s/it]"
     ]
    },
    {
     "name": "stdout",
     "output_type": "stream",
     "text": [
      "1903\n",
      "Accessing OpenAI API\n"
     ]
    },
    {
     "name": "stderr",
     "output_type": "stream",
     "text": [
      " 80%|████████  | 8/10 [07:33<01:38, 49.18s/it]"
     ]
    },
    {
     "name": "stdout",
     "output_type": "stream",
     "text": [
      "1344\n",
      "Accessing OpenAI API\n"
     ]
    },
    {
     "name": "stderr",
     "output_type": "stream",
     "text": [
      " 90%|█████████ | 9/10 [08:12<00:45, 45.89s/it]"
     ]
    },
    {
     "name": "stdout",
     "output_type": "stream",
     "text": [
      "1599\n",
      "Accessing OpenAI API\n"
     ]
    },
    {
     "name": "stderr",
     "output_type": "stream",
     "text": [
      "100%|██████████| 10/10 [08:37<00:00, 51.78s/it]\n"
     ]
    },
    {
     "name": "stdout",
     "output_type": "stream",
     "text": [
      "1265\n",
      "Saved progress for 10 genesets\n",
      "gpt_100perc_contaminated\n"
     ]
    },
    {
     "name": "stderr",
     "output_type": "stream",
     "text": [
      "  0%|          | 0/10 [00:00<?, ?it/s]"
     ]
    },
    {
     "name": "stdout",
     "output_type": "stream",
     "text": [
      "Accessing OpenAI API\n"
     ]
    },
    {
     "name": "stderr",
     "output_type": "stream",
     "text": [
      " 10%|█         | 1/10 [00:35<05:21, 35.71s/it]"
     ]
    },
    {
     "name": "stdout",
     "output_type": "stream",
     "text": [
      "1698\n",
      "Accessing OpenAI API\n"
     ]
    },
    {
     "name": "stderr",
     "output_type": "stream",
     "text": [
      " 20%|██        | 2/10 [01:17<05:12, 39.06s/it]"
     ]
    },
    {
     "name": "stdout",
     "output_type": "stream",
     "text": [
      "1418\n",
      "Accessing OpenAI API\n"
     ]
    },
    {
     "name": "stderr",
     "output_type": "stream",
     "text": [
      " 30%|███       | 3/10 [02:28<06:16, 53.86s/it]"
     ]
    },
    {
     "name": "stdout",
     "output_type": "stream",
     "text": [
      "1861\n",
      "Accessing OpenAI API\n"
     ]
    },
    {
     "name": "stderr",
     "output_type": "stream",
     "text": [
      " 40%|████      | 4/10 [03:53<06:36, 66.11s/it]"
     ]
    },
    {
     "name": "stdout",
     "output_type": "stream",
     "text": [
      "1817\n",
      "Accessing OpenAI API\n"
     ]
    },
    {
     "name": "stderr",
     "output_type": "stream",
     "text": [
      " 50%|█████     | 5/10 [04:26<04:31, 54.27s/it]"
     ]
    },
    {
     "name": "stdout",
     "output_type": "stream",
     "text": [
      "1744\n",
      "Accessing OpenAI API\n"
     ]
    },
    {
     "name": "stderr",
     "output_type": "stream",
     "text": [
      " 60%|██████    | 6/10 [04:55<03:01, 45.47s/it]"
     ]
    },
    {
     "name": "stdout",
     "output_type": "stream",
     "text": [
      "1641\n",
      "Accessing OpenAI API\n"
     ]
    },
    {
     "name": "stderr",
     "output_type": "stream",
     "text": [
      " 70%|███████   | 7/10 [05:41<02:16, 45.62s/it]"
     ]
    },
    {
     "name": "stdout",
     "output_type": "stream",
     "text": [
      "1849\n",
      "Accessing OpenAI API\n"
     ]
    },
    {
     "name": "stderr",
     "output_type": "stream",
     "text": [
      " 80%|████████  | 8/10 [06:10<01:21, 40.54s/it]"
     ]
    },
    {
     "name": "stdout",
     "output_type": "stream",
     "text": [
      "1409\n",
      "Accessing OpenAI API\n"
     ]
    },
    {
     "name": "stderr",
     "output_type": "stream",
     "text": [
      " 90%|█████████ | 9/10 [06:33<00:34, 34.86s/it]"
     ]
    },
    {
     "name": "stdout",
     "output_type": "stream",
     "text": [
      "1439\n",
      "Accessing OpenAI API\n"
     ]
    },
    {
     "name": "stderr",
     "output_type": "stream",
     "text": [
      "100%|██████████| 10/10 [06:51<00:00, 41.20s/it]"
     ]
    },
    {
     "name": "stdout",
     "output_type": "stream",
     "text": [
      "1320\n",
      "Saved progress for 10 genesets\n"
     ]
    },
    {
     "name": "stderr",
     "output_type": "stream",
     "text": [
      "\n"
     ]
    }
   ],
   "source": [
    "#Define your own loop for running the pipeline\n",
    "## 12-18-2023: this loop is for run the default gene set and the contaminated gene sets \n",
    "## can modify this loop for different models or only run on default gene set\n",
    "\n",
    "if __name__ == \"__main__\":\n",
    "    \n",
    "    df = pd.read_csv(input_file, sep=input_sep, index_col=set_index)\n",
    "    \n",
    "    column_prefix = model.split('-')[0] + '_default' #this is default\n",
    "    \n",
    "    if initialize:\n",
    "        # initialize the input file with llm names, analysis and score to None\n",
    "        df[f'{column_prefix} Name'] = None\n",
    "        df[f'{column_prefix} Analysis'] = None\n",
    "        df[f'{column_prefix} Score'] = None\n",
    "    main(df)  ## run with the real set \n",
    "    \n",
    "    ## run the pipeline for contaiminated gene sets \n",
    "    contaminated_columns = [col for col in df.columns if col.endswith('contaminated_Genes')]\n",
    "    # print(contaminated_columns)\n",
    "    for col in contaminated_columns:\n",
    "        gene_column = col ## Note need to change the gene_column to the contaminated column\n",
    "        contam_prefix = '_'.join(col.split('_')[0:2])\n",
    "        column_prefix = model.split('-')[0] + '_' +contam_prefix\n",
    "        print(column_prefix)\n",
    "\n",
    "        if initialize:\n",
    "            # initialize the input file with llm names, analysis and score to None\n",
    "            df[f'{column_prefix} Name'] = None\n",
    "            df[f'{column_prefix} Analysis'] = None\n",
    "            df[f'{column_prefix} Score'] = None\n",
    "        main(df)\n",
    "    # df.head()\n"
   ]
  },
  {
   "cell_type": "code",
   "execution_count": 15,
   "metadata": {},
   "outputs": [
    {
     "name": "stdout",
     "output_type": "stream",
     "text": [
      "mistral_7b_default\n"
     ]
    },
    {
     "name": "stderr",
     "output_type": "stream",
     "text": [
      "  0%|          | 0/10 [00:00<?, ?it/s]"
     ]
    },
    {
     "name": "stdout",
     "output_type": "stream",
     "text": [
      "Using server model\n"
     ]
    },
    {
     "name": "stderr",
     "output_type": "stream",
     "text": [
      " 10%|█         | 1/10 [00:42<06:22, 42.45s/it]"
     ]
    },
    {
     "name": "stdout",
     "output_type": "stream",
     "text": [
      "Using server model\n"
     ]
    },
    {
     "name": "stderr",
     "output_type": "stream",
     "text": [
      " 20%|██        | 2/10 [01:02<03:51, 28.99s/it]"
     ]
    },
    {
     "name": "stdout",
     "output_type": "stream",
     "text": [
      "Using server model\n"
     ]
    },
    {
     "name": "stderr",
     "output_type": "stream",
     "text": [
      " 30%|███       | 3/10 [01:26<03:07, 26.81s/it]"
     ]
    },
    {
     "name": "stdout",
     "output_type": "stream",
     "text": [
      "Using server model\n"
     ]
    },
    {
     "name": "stderr",
     "output_type": "stream",
     "text": [
      " 40%|████      | 4/10 [01:42<02:15, 22.56s/it]"
     ]
    },
    {
     "name": "stdout",
     "output_type": "stream",
     "text": [
      "Using server model\n"
     ]
    },
    {
     "name": "stderr",
     "output_type": "stream",
     "text": [
      " 50%|█████     | 5/10 [02:10<02:02, 24.57s/it]"
     ]
    },
    {
     "name": "stdout",
     "output_type": "stream",
     "text": [
      "Using server model\n"
     ]
    },
    {
     "name": "stderr",
     "output_type": "stream",
     "text": [
      " 60%|██████    | 6/10 [02:37<01:41, 25.44s/it]"
     ]
    },
    {
     "name": "stdout",
     "output_type": "stream",
     "text": [
      "Using server model\n"
     ]
    },
    {
     "name": "stderr",
     "output_type": "stream",
     "text": [
      " 70%|███████   | 7/10 [03:02<01:16, 25.40s/it]"
     ]
    },
    {
     "name": "stdout",
     "output_type": "stream",
     "text": [
      "Using server model\n"
     ]
    },
    {
     "name": "stderr",
     "output_type": "stream",
     "text": [
      " 80%|████████  | 8/10 [03:12<00:40, 20.23s/it]"
     ]
    },
    {
     "name": "stdout",
     "output_type": "stream",
     "text": [
      "Using server model\n"
     ]
    },
    {
     "name": "stderr",
     "output_type": "stream",
     "text": [
      " 90%|█████████ | 9/10 [03:30<00:19, 19.55s/it]"
     ]
    },
    {
     "name": "stdout",
     "output_type": "stream",
     "text": [
      "Using server model\n"
     ]
    },
    {
     "name": "stderr",
     "output_type": "stream",
     "text": [
      "100%|██████████| 10/10 [03:39<00:00, 21.95s/it]\n"
     ]
    },
    {
     "name": "stdout",
     "output_type": "stream",
     "text": [
      "Saved progress for 10 genesets\n",
      "mistral_7b_50perc_contaminated\n"
     ]
    },
    {
     "name": "stderr",
     "output_type": "stream",
     "text": [
      "  0%|          | 0/10 [00:00<?, ?it/s]"
     ]
    },
    {
     "name": "stdout",
     "output_type": "stream",
     "text": [
      "Using server model\n"
     ]
    },
    {
     "name": "stderr",
     "output_type": "stream",
     "text": [
      " 10%|█         | 1/10 [00:26<04:00, 26.73s/it]"
     ]
    },
    {
     "name": "stdout",
     "output_type": "stream",
     "text": [
      "Using server model\n"
     ]
    },
    {
     "name": "stderr",
     "output_type": "stream",
     "text": [
      " 20%|██        | 2/10 [00:46<02:59, 22.42s/it]"
     ]
    },
    {
     "name": "stdout",
     "output_type": "stream",
     "text": [
      "Using server model\n"
     ]
    },
    {
     "name": "stderr",
     "output_type": "stream",
     "text": [
      " 30%|███       | 3/10 [01:10<02:42, 23.24s/it]"
     ]
    },
    {
     "name": "stdout",
     "output_type": "stream",
     "text": [
      "Using server model\n"
     ]
    },
    {
     "name": "stderr",
     "output_type": "stream",
     "text": [
      " 40%|████      | 4/10 [01:26<02:03, 20.63s/it]"
     ]
    },
    {
     "name": "stdout",
     "output_type": "stream",
     "text": [
      "Using server model\n"
     ]
    },
    {
     "name": "stderr",
     "output_type": "stream",
     "text": [
      " 50%|█████     | 5/10 [01:54<01:55, 23.02s/it]"
     ]
    },
    {
     "name": "stdout",
     "output_type": "stream",
     "text": [
      "Using server model\n"
     ]
    },
    {
     "name": "stderr",
     "output_type": "stream",
     "text": [
      " 60%|██████    | 6/10 [02:22<01:38, 24.66s/it]"
     ]
    },
    {
     "name": "stdout",
     "output_type": "stream",
     "text": [
      "Using server model\n"
     ]
    },
    {
     "name": "stderr",
     "output_type": "stream",
     "text": [
      " 70%|███████   | 7/10 [02:48<01:16, 25.38s/it]"
     ]
    },
    {
     "name": "stdout",
     "output_type": "stream",
     "text": [
      "Using server model\n"
     ]
    },
    {
     "name": "stderr",
     "output_type": "stream",
     "text": [
      " 80%|████████  | 8/10 [02:58<00:40, 20.22s/it]"
     ]
    },
    {
     "name": "stdout",
     "output_type": "stream",
     "text": [
      "Using server model\n"
     ]
    },
    {
     "name": "stderr",
     "output_type": "stream",
     "text": [
      " 90%|█████████ | 9/10 [03:15<00:19, 19.38s/it]"
     ]
    },
    {
     "name": "stdout",
     "output_type": "stream",
     "text": [
      "Using server model\n"
     ]
    },
    {
     "name": "stderr",
     "output_type": "stream",
     "text": [
      "100%|██████████| 10/10 [03:25<00:00, 20.51s/it]\n"
     ]
    },
    {
     "name": "stdout",
     "output_type": "stream",
     "text": [
      "Saved progress for 10 genesets\n",
      "mistral_7b_100perc_contaminated\n"
     ]
    },
    {
     "name": "stderr",
     "output_type": "stream",
     "text": [
      "  0%|          | 0/10 [00:00<?, ?it/s]"
     ]
    },
    {
     "name": "stdout",
     "output_type": "stream",
     "text": [
      "Using server model\n"
     ]
    },
    {
     "name": "stderr",
     "output_type": "stream",
     "text": [
      " 10%|█         | 1/10 [00:27<04:07, 27.48s/it]"
     ]
    },
    {
     "name": "stdout",
     "output_type": "stream",
     "text": [
      "Using server model\n"
     ]
    },
    {
     "name": "stderr",
     "output_type": "stream",
     "text": [
      " 20%|██        | 2/10 [00:46<02:58, 22.31s/it]"
     ]
    },
    {
     "name": "stdout",
     "output_type": "stream",
     "text": [
      "Using server model\n"
     ]
    },
    {
     "name": "stderr",
     "output_type": "stream",
     "text": [
      " 30%|███       | 3/10 [01:13<02:52, 24.61s/it]"
     ]
    },
    {
     "name": "stdout",
     "output_type": "stream",
     "text": [
      "Using server model\n"
     ]
    },
    {
     "name": "stderr",
     "output_type": "stream",
     "text": [
      " 40%|████      | 4/10 [01:40<02:32, 25.44s/it]"
     ]
    },
    {
     "name": "stdout",
     "output_type": "stream",
     "text": [
      "Using server model\n"
     ]
    },
    {
     "name": "stderr",
     "output_type": "stream",
     "text": [
      " 50%|█████     | 5/10 [02:00<01:57, 23.59s/it]"
     ]
    },
    {
     "name": "stdout",
     "output_type": "stream",
     "text": [
      "Using server model\n"
     ]
    },
    {
     "name": "stderr",
     "output_type": "stream",
     "text": [
      " 60%|██████    | 6/10 [02:27<01:39, 24.80s/it]"
     ]
    },
    {
     "name": "stdout",
     "output_type": "stream",
     "text": [
      "Using server model\n"
     ]
    },
    {
     "name": "stderr",
     "output_type": "stream",
     "text": [
      " 70%|███████   | 7/10 [02:54<01:16, 25.59s/it]"
     ]
    },
    {
     "name": "stdout",
     "output_type": "stream",
     "text": [
      "Using server model\n"
     ]
    },
    {
     "name": "stderr",
     "output_type": "stream",
     "text": [
      " 80%|████████  | 8/10 [03:03<00:40, 20.26s/it]"
     ]
    },
    {
     "name": "stdout",
     "output_type": "stream",
     "text": [
      "Using server model\n"
     ]
    },
    {
     "name": "stderr",
     "output_type": "stream",
     "text": [
      " 90%|█████████ | 9/10 [03:25<00:20, 20.77s/it]"
     ]
    },
    {
     "name": "stdout",
     "output_type": "stream",
     "text": [
      "Using server model\n"
     ]
    },
    {
     "name": "stderr",
     "output_type": "stream",
     "text": [
      "100%|██████████| 10/10 [03:34<00:00, 21.42s/it]\n"
     ]
    },
    {
     "name": "stdout",
     "output_type": "stream",
     "text": [
      "Saved progress for 10 genesets\n",
      "mixtral_latest_default\n"
     ]
    },
    {
     "name": "stderr",
     "output_type": "stream",
     "text": [
      "  0%|          | 0/10 [00:00<?, ?it/s]"
     ]
    },
    {
     "name": "stdout",
     "output_type": "stream",
     "text": [
      "Using server model\n",
      "Encountering server issue. Retrying in  10  seconds\n",
      "Encountering server issue. Retrying in  20  seconds\n",
      "Encountering server issue. Retrying in  40  seconds\n",
      "Encountering server issue. Retrying in  80  seconds\n",
      "Encountering server issue. Retrying in  160  seconds\n",
      "Encountering server issue. Retrying in  320  seconds\n"
     ]
    },
    {
     "name": "stderr",
     "output_type": "stream",
     "text": [
      " 10%|█         | 1/10 [16:30<2:28:34, 990.54s/it]"
     ]
    },
    {
     "name": "stdout",
     "output_type": "stream",
     "text": [
      "Using server model\n"
     ]
    },
    {
     "name": "stderr",
     "output_type": "stream",
     "text": [
      " 20%|██        | 2/10 [17:27<58:49, 441.24s/it]  "
     ]
    },
    {
     "name": "stdout",
     "output_type": "stream",
     "text": [
      "Using server model\n"
     ]
    },
    {
     "name": "stderr",
     "output_type": "stream",
     "text": [
      " 30%|███       | 3/10 [18:15<30:33, 261.89s/it]"
     ]
    },
    {
     "name": "stdout",
     "output_type": "stream",
     "text": [
      "Using server model\n"
     ]
    },
    {
     "name": "stderr",
     "output_type": "stream",
     "text": [
      " 40%|████      | 4/10 [18:59<17:34, 175.82s/it]"
     ]
    },
    {
     "name": "stdout",
     "output_type": "stream",
     "text": [
      "Using server model\n"
     ]
    },
    {
     "name": "stderr",
     "output_type": "stream",
     "text": [
      " 50%|█████     | 5/10 [19:48<10:50, 130.08s/it]"
     ]
    },
    {
     "name": "stdout",
     "output_type": "stream",
     "text": [
      "Using server model\n"
     ]
    },
    {
     "name": "stderr",
     "output_type": "stream",
     "text": [
      " 60%|██████    | 6/10 [20:44<06:59, 104.81s/it]"
     ]
    },
    {
     "name": "stdout",
     "output_type": "stream",
     "text": [
      "Using server model\n"
     ]
    },
    {
     "name": "stderr",
     "output_type": "stream",
     "text": [
      " 70%|███████   | 7/10 [21:39<04:26, 88.70s/it] "
     ]
    },
    {
     "name": "stdout",
     "output_type": "stream",
     "text": [
      "Using server model\n"
     ]
    },
    {
     "name": "stderr",
     "output_type": "stream",
     "text": [
      " 80%|████████  | 8/10 [22:15<02:23, 71.84s/it]"
     ]
    },
    {
     "name": "stdout",
     "output_type": "stream",
     "text": [
      "Using server model\n"
     ]
    },
    {
     "name": "stderr",
     "output_type": "stream",
     "text": [
      " 90%|█████████ | 9/10 [23:03<01:04, 64.26s/it]"
     ]
    },
    {
     "name": "stdout",
     "output_type": "stream",
     "text": [
      "Using server model\n"
     ]
    },
    {
     "name": "stderr",
     "output_type": "stream",
     "text": [
      "100%|██████████| 10/10 [23:39<00:00, 142.00s/it]\n"
     ]
    },
    {
     "name": "stdout",
     "output_type": "stream",
     "text": [
      "Saved progress for 10 genesets\n",
      "mixtral_latest_50perc_contaminated\n"
     ]
    },
    {
     "name": "stderr",
     "output_type": "stream",
     "text": [
      "  0%|          | 0/10 [00:00<?, ?it/s]"
     ]
    },
    {
     "name": "stdout",
     "output_type": "stream",
     "text": [
      "Using server model\n",
      "Encountering server issue. Retrying in  10  seconds\n",
      "Encountering server issue. Retrying in  20  seconds\n",
      "Encountering server issue. Retrying in  40  seconds\n",
      "Encountering server issue. Retrying in  80  seconds\n",
      "Encountering server issue. Retrying in  160  seconds\n",
      "Encountering server issue. Retrying in  320  seconds\n"
     ]
    },
    {
     "name": "stderr",
     "output_type": "stream",
     "text": [
      " 10%|█         | 1/10 [16:30<2:28:34, 990.49s/it]"
     ]
    },
    {
     "name": "stdout",
     "output_type": "stream",
     "text": [
      "Using server model\n"
     ]
    },
    {
     "name": "stderr",
     "output_type": "stream",
     "text": [
      " 20%|██        | 2/10 [17:30<59:03, 442.95s/it]  "
     ]
    },
    {
     "name": "stdout",
     "output_type": "stream",
     "text": [
      "Using server model\n"
     ]
    },
    {
     "name": "stderr",
     "output_type": "stream",
     "text": [
      " 30%|███       | 3/10 [18:29<31:15, 267.92s/it]"
     ]
    },
    {
     "name": "stdout",
     "output_type": "stream",
     "text": [
      "Using server model\n"
     ]
    },
    {
     "name": "stderr",
     "output_type": "stream",
     "text": [
      " 40%|████      | 4/10 [19:10<17:50, 178.39s/it]"
     ]
    },
    {
     "name": "stdout",
     "output_type": "stream",
     "text": [
      "Using server model\n"
     ]
    },
    {
     "name": "stderr",
     "output_type": "stream",
     "text": [
      " 50%|█████     | 5/10 [20:09<11:15, 135.01s/it]"
     ]
    },
    {
     "name": "stdout",
     "output_type": "stream",
     "text": [
      "Using server model\n"
     ]
    },
    {
     "name": "stderr",
     "output_type": "stream",
     "text": [
      " 60%|██████    | 6/10 [21:03<07:10, 107.69s/it]"
     ]
    },
    {
     "name": "stdout",
     "output_type": "stream",
     "text": [
      "Using server model\n",
      "Encountering server issue. Retrying in  10  seconds\n",
      "Encountering server issue. Retrying in  20  seconds\n",
      "Encountering server issue. Retrying in  40  seconds\n",
      "Encountering server issue. Retrying in  80  seconds\n",
      "Encountering server issue. Retrying in  160  seconds\n",
      "Encountering server issue. Retrying in  320  seconds\n"
     ]
    },
    {
     "name": "stderr",
     "output_type": "stream",
     "text": [
      " 70%|███████   | 7/10 [37:34<19:48, 396.33s/it]"
     ]
    },
    {
     "name": "stdout",
     "output_type": "stream",
     "text": [
      "Using server model\n"
     ]
    },
    {
     "name": "stderr",
     "output_type": "stream",
     "text": [
      " 80%|████████  | 8/10 [38:23<09:31, 285.92s/it]"
     ]
    },
    {
     "name": "stdout",
     "output_type": "stream",
     "text": [
      "Using server model\n"
     ]
    },
    {
     "name": "stderr",
     "output_type": "stream",
     "text": [
      " 90%|█████████ | 9/10 [39:06<03:29, 210.00s/it]"
     ]
    },
    {
     "name": "stdout",
     "output_type": "stream",
     "text": [
      "Using server model\n"
     ]
    },
    {
     "name": "stderr",
     "output_type": "stream",
     "text": [
      "100%|██████████| 10/10 [39:40<00:00, 238.10s/it]\n"
     ]
    },
    {
     "name": "stdout",
     "output_type": "stream",
     "text": [
      "Saved progress for 10 genesets\n",
      "mixtral_latest_100perc_contaminated\n"
     ]
    },
    {
     "name": "stderr",
     "output_type": "stream",
     "text": [
      "  0%|          | 0/10 [00:00<?, ?it/s]"
     ]
    },
    {
     "name": "stdout",
     "output_type": "stream",
     "text": [
      "Using server model\n",
      "Encountering server issue. Retrying in  10  seconds\n",
      "Encountering server issue. Retrying in  20  seconds\n",
      "Encountering server issue. Retrying in  40  seconds\n",
      "Encountering server issue. Retrying in  80  seconds\n",
      "Encountering server issue. Retrying in  160  seconds\n"
     ]
    }
   ],
   "source": [
    "# change to use mistral and llama2\n",
    "SEED = 42\n",
    "model_options = ['mistral:7b', 'mixtral:latest', 'llama2:7b', 'llama2:70b']\n",
    "\n",
    "\n",
    "if __name__ == \"__main__\":\n",
    "    for m in model_options:\n",
    "        \n",
    "        model = m\n",
    "        name_fix = '_'.join(model.split(':'))\n",
    "        # same input but change output for different models to avoid overwriting\n",
    "        out_file = f'data/GO_term_analysis/LLM_processed_toy_example_w_contamination_{name_fix}'  # save to the same file name as the input file\n",
    "        LOG_FILE = config['LOG_NAME']+f'_{name_fix}'+'_log.json'\n",
    "\n",
    "        df = pd.read_csv(input_file, sep=input_sep, index_col=set_index)\n",
    "        \n",
    "        # print(df.head())\n",
    "        column_prefix = name_fix + '_default' #this is default\n",
    "        print(column_prefix)\n",
    "        if initialize:\n",
    "            # initialize the input file with llm names, analysis and score to None\n",
    "            df[f'{column_prefix} Name'] = None\n",
    "            df[f'{column_prefix} Analysis'] = None\n",
    "            df[f'{column_prefix} Score'] = None\n",
    "        main(df)  ## run with the real set \n",
    "        \n",
    "        ## run the pipeline for contaiminated gene sets \n",
    "        contaminated_columns = [col for col in df.columns if col.endswith('contaminated_Genes')]\n",
    "        # print(contaminated_columns)\n",
    "        for col in contaminated_columns:\n",
    "            gene_column = col ## Note need to change the gene_column to the contaminated column\n",
    "            contam_prefix = '_'.join(col.split('_')[0:2])\n",
    "            column_prefix = name_fix + '_' +contam_prefix\n",
    "            print(column_prefix)\n",
    "\n",
    "            if initialize:\n",
    "                # initialize the input file with llm names, analysis and score to None\n",
    "                df[f'{column_prefix} Name'] = None\n",
    "                df[f'{column_prefix} Analysis'] = None\n",
    "                df[f'{column_prefix} Score'] = None\n",
    "            main(df)\n",
    "            \n",
    "print(\"Done\")"
   ]
  },
  {
   "cell_type": "code",
   "execution_count": 6,
   "metadata": {},
   "outputs": [
    {
     "data": {
      "text/html": [
       "<div>\n",
       "<style scoped>\n",
       "    .dataframe tbody tr th:only-of-type {\n",
       "        vertical-align: middle;\n",
       "    }\n",
       "\n",
       "    .dataframe tbody tr th {\n",
       "        vertical-align: top;\n",
       "    }\n",
       "\n",
       "    .dataframe thead th {\n",
       "        text-align: right;\n",
       "    }\n",
       "</style>\n",
       "<table border=\"1\" class=\"dataframe\">\n",
       "  <thead>\n",
       "    <tr style=\"text-align: right;\">\n",
       "      <th></th>\n",
       "      <th>GO</th>\n",
       "      <th>Genes</th>\n",
       "      <th>Gene_Count</th>\n",
       "      <th>Term_Description</th>\n",
       "      <th>50perc_contaminated_Genes</th>\n",
       "      <th>100perc_contaminated_Genes</th>\n",
       "      <th>gpt_default Name</th>\n",
       "      <th>gpt_default Analysis</th>\n",
       "      <th>gpt_default Score</th>\n",
       "      <th>gpt_50perc_contaminated Name</th>\n",
       "      <th>gpt_50perc_contaminated Analysis</th>\n",
       "      <th>gpt_50perc_contaminated Score</th>\n",
       "      <th>gpt_100perc_contaminated Name</th>\n",
       "      <th>gpt_100perc_contaminated Analysis</th>\n",
       "      <th>gpt_100perc_contaminated Score</th>\n",
       "    </tr>\n",
       "  </thead>\n",
       "  <tbody>\n",
       "    <tr>\n",
       "      <th>0</th>\n",
       "      <td>GO:0070350</td>\n",
       "      <td>FGF10 FTO VSTM2A</td>\n",
       "      <td>3</td>\n",
       "      <td>regulation of white fat cell proliferation</td>\n",
       "      <td>FGF10 INPP5J STXBP5</td>\n",
       "      <td>BCORL1 DEFB1 SS18L2</td>\n",
       "      <td>Regulation of Developmental Growth and Energy ...</td>\n",
       "      <td>1. FGF10 (Fibroblast Growth Factor 10) is a me...</td>\n",
       "      <td>0.85</td>\n",
       "      <td>Regulation of Cellular Growth and Vesicular Tr...</td>\n",
       "      <td>1. FGF10 (Fibroblast Growth Factor 10) is a me...</td>\n",
       "      <td>0.85</td>\n",
       "      <td>System of unrelated proteins</td>\n",
       "      <td>1. BCORL1 (BCL6 corepressor-like 1) is a trans...</td>\n",
       "      <td>0.00</td>\n",
       "    </tr>\n",
       "    <tr>\n",
       "      <th>1</th>\n",
       "      <td>GO:0051936</td>\n",
       "      <td>SLC6A12 SLC6A11 SLC6A1 SLC6A13</td>\n",
       "      <td>4</td>\n",
       "      <td>gamma-aminobutyric acid reuptake</td>\n",
       "      <td>SLC6A11 SLC6A1 ENDOD1 LGALS7B</td>\n",
       "      <td>CSRNP3 ZNF572 RPL10 EXOSC4</td>\n",
       "      <td>Neurotransmitter Transport and Regulation</td>\n",
       "      <td>1. SLC6A12, also known as the betaine/GABA tra...</td>\n",
       "      <td>0.95</td>\n",
       "      <td>Neurotransmitter Transport and Glycoprotein Mo...</td>\n",
       "      <td>1. SLC6A11, also known as GAT3, is a GABA tran...</td>\n",
       "      <td>0.85</td>\n",
       "      <td>System of unrelated proteins</td>\n",
       "      <td>1. CSRNP3 (Cysteine and Serine Rich Nuclear Pr...</td>\n",
       "      <td>0.00</td>\n",
       "    </tr>\n",
       "    <tr>\n",
       "      <th>2</th>\n",
       "      <td>GO:0070646</td>\n",
       "      <td>USP17L10 USP29 TNIP1 USP17L3 USP20 USP5 USP18 ...</td>\n",
       "      <td>135</td>\n",
       "      <td>protein modification by small protein removal</td>\n",
       "      <td>TNIP1 USP17L20 ABRAXAS1 USP38 USP17L21 USP14 U...</td>\n",
       "      <td>RPS27 PSMA3 EDC3 KLK13 TRIB2 PLA2G4E SLU7 UBLC...</td>\n",
       "      <td>Ubiquitin-Proteasome System Regulation and Deu...</td>\n",
       "      <td>1. The majority of the proteins listed, includ...</td>\n",
       "      <td>0.98</td>\n",
       "      <td>Ubiquitin-Proteasome System Regulation and Deu...</td>\n",
       "      <td>1. The majority of the proteins listed, such a...</td>\n",
       "      <td>0.92</td>\n",
       "      <td>System of unrelated proteins</td>\n",
       "      <td>The provided list of interacting proteins enco...</td>\n",
       "      <td>0.00</td>\n",
       "    </tr>\n",
       "    <tr>\n",
       "      <th>3</th>\n",
       "      <td>GO:0071318</td>\n",
       "      <td>P2RY2 P2RY4 CIB2 PTGS2 P2RX7 TRPM4 SSH1 TAF1 P...</td>\n",
       "      <td>18</td>\n",
       "      <td>cellular response to ATP</td>\n",
       "      <td>PDXP P2RY4 TRPM4 TOP2B RYR3 P2RY1 HSP90B1 P2RY...</td>\n",
       "      <td>TDRP NAA30 SEPTIN6 HVCN1 SLC24A2 ZNF397 OR6C65...</td>\n",
       "      <td>Purinergic Signaling and Associated Cellular R...</td>\n",
       "      <td>1. P2RY2 and P2RY4 are G-protein-coupled recep...</td>\n",
       "      <td>0.88</td>\n",
       "      <td>System of unrelated proteins</td>\n",
       "      <td>1. PDXP, also known as pyridoxal phosphatase, ...</td>\n",
       "      <td>0.00</td>\n",
       "      <td>System of unrelated proteins</td>\n",
       "      <td>1. TDRP (Testis Development Related Protein) i...</td>\n",
       "      <td>0.00</td>\n",
       "    </tr>\n",
       "    <tr>\n",
       "      <th>4</th>\n",
       "      <td>GO:0038183</td>\n",
       "      <td>ABCB11 ABCG5 CYP8B1 ABCG8 NR1H4 PRKAA1 CIDEB V...</td>\n",
       "      <td>11</td>\n",
       "      <td>bile acid signaling pathway</td>\n",
       "      <td>CYP8B1 GPBAR1 VDR ABCG8 CYP7A1 CMTR1 SNX1 SLC2...</td>\n",
       "      <td>SYT10 NOPCHAP1 CLIP4 P3R3URF MAGOH SLC43A2 GLI...</td>\n",
       "      <td>Bile Acid Synthesis and Regulation</td>\n",
       "      <td>1. ABCB11, also known as the bile salt export ...</td>\n",
       "      <td>0.95</td>\n",
       "      <td>Bile Acid Synthesis and Regulation</td>\n",
       "      <td>1. CYP7A1 is a key enzyme in the cholesterol c...</td>\n",
       "      <td>0.85</td>\n",
       "      <td>System of unrelated proteins</td>\n",
       "      <td>1. SYT10 (Synaptotagmin-10) is a member of the...</td>\n",
       "      <td>0.00</td>\n",
       "    </tr>\n",
       "    <tr>\n",
       "      <th>5</th>\n",
       "      <td>GO:0001973</td>\n",
       "      <td>NECAB2 ADA ADORA3 ACP3 P2RY12 ADORA1 GNAI2 ADO...</td>\n",
       "      <td>11</td>\n",
       "      <td>G protein-coupled adenosine receptor signaling...</td>\n",
       "      <td>ADORA1 P2RY12 ADCY5 ADA GNAI2 OSCP1 RCL1 ZMYND...</td>\n",
       "      <td>EHF GCOM1 MAP7D2 KRT13 ENAM NKAIN4 HAUS6 TUBD1...</td>\n",
       "      <td>Purinergic Signaling in Neurotransmission and ...</td>\n",
       "      <td>1. NECAB2 (N-terminal EF-hand calcium-binding ...</td>\n",
       "      <td>0.92</td>\n",
       "      <td>Purinergic Signaling and Adenosine Metabolism</td>\n",
       "      <td>1. ADORA1 is the adenosine A1 receptor, which ...</td>\n",
       "      <td>0.85</td>\n",
       "      <td>System of unrelated proteins</td>\n",
       "      <td>1. EHF (Ets homologous factor) is a transcript...</td>\n",
       "      <td>0.00</td>\n",
       "    </tr>\n",
       "    <tr>\n",
       "      <th>6</th>\n",
       "      <td>GO:0051349</td>\n",
       "      <td>RAF1 NF1 ADORA3 EDNRA ADCYAP1 FSHR LINC02210-C...</td>\n",
       "      <td>40</td>\n",
       "      <td>positive regulation of lyase activity</td>\n",
       "      <td>CACNA1D ADORA3 TSHR PARK7 ADORA2B DRD1 RXFP1 C...</td>\n",
       "      <td>KRT79 PPP1R3A MLXIPL NR1H4 SPACA3 ZIK1 PPP1R2 ...</td>\n",
       "      <td>G-Protein Coupled Receptor (GPCR) Signaling an...</td>\n",
       "      <td>1. RAF1 is a serine/threonine kinase that play...</td>\n",
       "      <td>0.92</td>\n",
       "      <td>G-protein coupled receptor signaling and cellu...</td>\n",
       "      <td>1. CACNA1D encodes a voltage-dependent L-type ...</td>\n",
       "      <td>0.85</td>\n",
       "      <td>System of unrelated proteins</td>\n",
       "      <td>1. KRT79 is a type II keratin found in the inn...</td>\n",
       "      <td>0.00</td>\n",
       "    </tr>\n",
       "    <tr>\n",
       "      <th>7</th>\n",
       "      <td>GO:0009698</td>\n",
       "      <td>CYP2A7 UGT1A7 CYP2A13 UGT1A8 CYP2A6 CYP1A1 CYP2D6</td>\n",
       "      <td>7</td>\n",
       "      <td>phenylpropanoid metabolic process</td>\n",
       "      <td>CYP1A1 CYP2A6 UGT1A8 RNF126 KLHDC10 ARHGEF4 VRK3</td>\n",
       "      <td>RPL27A MAN2A2 KIF5C CRHR1 ZNF385A NEDD9 TBC1D13</td>\n",
       "      <td>Xenobiotic Metabolism and Detoxification</td>\n",
       "      <td>1. CYP2A7 is a member of the cytochrome P450 s...</td>\n",
       "      <td>0.92</td>\n",
       "      <td>Xenobiotic Metabolism and Protein Ubiquitination</td>\n",
       "      <td>1. CYP1A1 is a member of the cytochrome P450 s...</td>\n",
       "      <td>0.85</td>\n",
       "      <td>System of unrelated proteins</td>\n",
       "      <td>1. RPL27A is a component of the 60S subunit of...</td>\n",
       "      <td>0.00</td>\n",
       "    </tr>\n",
       "    <tr>\n",
       "      <th>8</th>\n",
       "      <td>GO:0046654</td>\n",
       "      <td>DHFR GCH1 GART ATIC DHFR2</td>\n",
       "      <td>5</td>\n",
       "      <td>tetrahydrofolate biosynthetic process</td>\n",
       "      <td>DHFR2 GART ZNF669 MYLK HTT</td>\n",
       "      <td>METTL16 PSPC1 PRXL2C UAP1 CTDSPL2</td>\n",
       "      <td>Purine Biosynthesis and Folate Metabolism</td>\n",
       "      <td>1. DHFR, or dihydrofolate reductase, is a key ...</td>\n",
       "      <td>0.95</td>\n",
       "      <td>Purine biosynthesis and cellular signaling mod...</td>\n",
       "      <td>1. DHFR2, also known as dihydrofolate reductas...</td>\n",
       "      <td>0.75</td>\n",
       "      <td>RNA Metabolism and Modification</td>\n",
       "      <td>1. METTL16 is an S-adenosylmethionine (SAM)-de...</td>\n",
       "      <td>0.85</td>\n",
       "    </tr>\n",
       "    <tr>\n",
       "      <th>9</th>\n",
       "      <td>GO:2000773</td>\n",
       "      <td>MIF SIRT1 TWIST1 AKT3 TERF2 SIRT6 FBXO5 TBX2 T...</td>\n",
       "      <td>21</td>\n",
       "      <td>negative regulation of cellular senescence</td>\n",
       "      <td>CDK6 MIF FBXO5 MAP3K3 TWIST1 SIRT1 ABL1 TERF2 ...</td>\n",
       "      <td>SLC25A34 ZNF10 FOXR2 WDR41 SNAP23 ULBP1 RSU1 J...</td>\n",
       "      <td>Regulation of Cell Cycle and Oncogenesis</td>\n",
       "      <td>1. MIF (Macrophage Migration Inhibitory Factor...</td>\n",
       "      <td>0.85</td>\n",
       "      <td>Cell Cycle Regulation and Signal Transduction</td>\n",
       "      <td>1. CDK6 (Cyclin-Dependent Kinase 6) is a membe...</td>\n",
       "      <td>0.85</td>\n",
       "      <td>System of unrelated proteins</td>\n",
       "      <td>1. SLC25A34 is a solute carrier protein that i...</td>\n",
       "      <td>0.00</td>\n",
       "    </tr>\n",
       "  </tbody>\n",
       "</table>\n",
       "</div>"
      ],
      "text/plain": [
       "           GO                                              Genes  Gene_Count  \\\n",
       "0  GO:0070350                                   FGF10 FTO VSTM2A           3   \n",
       "1  GO:0051936                     SLC6A12 SLC6A11 SLC6A1 SLC6A13           4   \n",
       "2  GO:0070646  USP17L10 USP29 TNIP1 USP17L3 USP20 USP5 USP18 ...         135   \n",
       "3  GO:0071318  P2RY2 P2RY4 CIB2 PTGS2 P2RX7 TRPM4 SSH1 TAF1 P...          18   \n",
       "4  GO:0038183  ABCB11 ABCG5 CYP8B1 ABCG8 NR1H4 PRKAA1 CIDEB V...          11   \n",
       "5  GO:0001973  NECAB2 ADA ADORA3 ACP3 P2RY12 ADORA1 GNAI2 ADO...          11   \n",
       "6  GO:0051349  RAF1 NF1 ADORA3 EDNRA ADCYAP1 FSHR LINC02210-C...          40   \n",
       "7  GO:0009698  CYP2A7 UGT1A7 CYP2A13 UGT1A8 CYP2A6 CYP1A1 CYP2D6           7   \n",
       "8  GO:0046654                          DHFR GCH1 GART ATIC DHFR2           5   \n",
       "9  GO:2000773  MIF SIRT1 TWIST1 AKT3 TERF2 SIRT6 FBXO5 TBX2 T...          21   \n",
       "\n",
       "                                    Term_Description  \\\n",
       "0         regulation of white fat cell proliferation   \n",
       "1                   gamma-aminobutyric acid reuptake   \n",
       "2      protein modification by small protein removal   \n",
       "3                           cellular response to ATP   \n",
       "4                        bile acid signaling pathway   \n",
       "5  G protein-coupled adenosine receptor signaling...   \n",
       "6              positive regulation of lyase activity   \n",
       "7                  phenylpropanoid metabolic process   \n",
       "8              tetrahydrofolate biosynthetic process   \n",
       "9         negative regulation of cellular senescence   \n",
       "\n",
       "                           50perc_contaminated_Genes  \\\n",
       "0                                FGF10 INPP5J STXBP5   \n",
       "1                      SLC6A11 SLC6A1 ENDOD1 LGALS7B   \n",
       "2  TNIP1 USP17L20 ABRAXAS1 USP38 USP17L21 USP14 U...   \n",
       "3  PDXP P2RY4 TRPM4 TOP2B RYR3 P2RY1 HSP90B1 P2RY...   \n",
       "4  CYP8B1 GPBAR1 VDR ABCG8 CYP7A1 CMTR1 SNX1 SLC2...   \n",
       "5  ADORA1 P2RY12 ADCY5 ADA GNAI2 OSCP1 RCL1 ZMYND...   \n",
       "6  CACNA1D ADORA3 TSHR PARK7 ADORA2B DRD1 RXFP1 C...   \n",
       "7   CYP1A1 CYP2A6 UGT1A8 RNF126 KLHDC10 ARHGEF4 VRK3   \n",
       "8                         DHFR2 GART ZNF669 MYLK HTT   \n",
       "9  CDK6 MIF FBXO5 MAP3K3 TWIST1 SIRT1 ABL1 TERF2 ...   \n",
       "\n",
       "                          100perc_contaminated_Genes  \\\n",
       "0                                BCORL1 DEFB1 SS18L2   \n",
       "1                         CSRNP3 ZNF572 RPL10 EXOSC4   \n",
       "2  RPS27 PSMA3 EDC3 KLK13 TRIB2 PLA2G4E SLU7 UBLC...   \n",
       "3  TDRP NAA30 SEPTIN6 HVCN1 SLC24A2 ZNF397 OR6C65...   \n",
       "4  SYT10 NOPCHAP1 CLIP4 P3R3URF MAGOH SLC43A2 GLI...   \n",
       "5  EHF GCOM1 MAP7D2 KRT13 ENAM NKAIN4 HAUS6 TUBD1...   \n",
       "6  KRT79 PPP1R3A MLXIPL NR1H4 SPACA3 ZIK1 PPP1R2 ...   \n",
       "7    RPL27A MAN2A2 KIF5C CRHR1 ZNF385A NEDD9 TBC1D13   \n",
       "8                  METTL16 PSPC1 PRXL2C UAP1 CTDSPL2   \n",
       "9  SLC25A34 ZNF10 FOXR2 WDR41 SNAP23 ULBP1 RSU1 J...   \n",
       "\n",
       "                                    gpt_default Name  \\\n",
       "0  Regulation of Developmental Growth and Energy ...   \n",
       "1          Neurotransmitter Transport and Regulation   \n",
       "2  Ubiquitin-Proteasome System Regulation and Deu...   \n",
       "3  Purinergic Signaling and Associated Cellular R...   \n",
       "4                 Bile Acid Synthesis and Regulation   \n",
       "5  Purinergic Signaling in Neurotransmission and ...   \n",
       "6  G-Protein Coupled Receptor (GPCR) Signaling an...   \n",
       "7           Xenobiotic Metabolism and Detoxification   \n",
       "8          Purine Biosynthesis and Folate Metabolism   \n",
       "9           Regulation of Cell Cycle and Oncogenesis   \n",
       "\n",
       "                                gpt_default Analysis  gpt_default Score  \\\n",
       "0  1. FGF10 (Fibroblast Growth Factor 10) is a me...               0.85   \n",
       "1  1. SLC6A12, also known as the betaine/GABA tra...               0.95   \n",
       "2  1. The majority of the proteins listed, includ...               0.98   \n",
       "3  1. P2RY2 and P2RY4 are G-protein-coupled recep...               0.88   \n",
       "4  1. ABCB11, also known as the bile salt export ...               0.95   \n",
       "5  1. NECAB2 (N-terminal EF-hand calcium-binding ...               0.92   \n",
       "6  1. RAF1 is a serine/threonine kinase that play...               0.92   \n",
       "7  1. CYP2A7 is a member of the cytochrome P450 s...               0.92   \n",
       "8  1. DHFR, or dihydrofolate reductase, is a key ...               0.95   \n",
       "9  1. MIF (Macrophage Migration Inhibitory Factor...               0.85   \n",
       "\n",
       "                        gpt_50perc_contaminated Name  \\\n",
       "0  Regulation of Cellular Growth and Vesicular Tr...   \n",
       "1  Neurotransmitter Transport and Glycoprotein Mo...   \n",
       "2  Ubiquitin-Proteasome System Regulation and Deu...   \n",
       "3                       System of unrelated proteins   \n",
       "4                 Bile Acid Synthesis and Regulation   \n",
       "5      Purinergic Signaling and Adenosine Metabolism   \n",
       "6  G-protein coupled receptor signaling and cellu...   \n",
       "7   Xenobiotic Metabolism and Protein Ubiquitination   \n",
       "8  Purine biosynthesis and cellular signaling mod...   \n",
       "9      Cell Cycle Regulation and Signal Transduction   \n",
       "\n",
       "                    gpt_50perc_contaminated Analysis  \\\n",
       "0  1. FGF10 (Fibroblast Growth Factor 10) is a me...   \n",
       "1  1. SLC6A11, also known as GAT3, is a GABA tran...   \n",
       "2  1. The majority of the proteins listed, such a...   \n",
       "3  1. PDXP, also known as pyridoxal phosphatase, ...   \n",
       "4  1. CYP7A1 is a key enzyme in the cholesterol c...   \n",
       "5  1. ADORA1 is the adenosine A1 receptor, which ...   \n",
       "6  1. CACNA1D encodes a voltage-dependent L-type ...   \n",
       "7  1. CYP1A1 is a member of the cytochrome P450 s...   \n",
       "8  1. DHFR2, also known as dihydrofolate reductas...   \n",
       "9  1. CDK6 (Cyclin-Dependent Kinase 6) is a membe...   \n",
       "\n",
       "   gpt_50perc_contaminated Score    gpt_100perc_contaminated Name  \\\n",
       "0                           0.85     System of unrelated proteins   \n",
       "1                           0.85     System of unrelated proteins   \n",
       "2                           0.92     System of unrelated proteins   \n",
       "3                           0.00     System of unrelated proteins   \n",
       "4                           0.85     System of unrelated proteins   \n",
       "5                           0.85     System of unrelated proteins   \n",
       "6                           0.85     System of unrelated proteins   \n",
       "7                           0.85     System of unrelated proteins   \n",
       "8                           0.75  RNA Metabolism and Modification   \n",
       "9                           0.85     System of unrelated proteins   \n",
       "\n",
       "                   gpt_100perc_contaminated Analysis  \\\n",
       "0  1. BCORL1 (BCL6 corepressor-like 1) is a trans...   \n",
       "1  1. CSRNP3 (Cysteine and Serine Rich Nuclear Pr...   \n",
       "2  The provided list of interacting proteins enco...   \n",
       "3  1. TDRP (Testis Development Related Protein) i...   \n",
       "4  1. SYT10 (Synaptotagmin-10) is a member of the...   \n",
       "5  1. EHF (Ets homologous factor) is a transcript...   \n",
       "6  1. KRT79 is a type II keratin found in the inn...   \n",
       "7  1. RPL27A is a component of the 60S subunit of...   \n",
       "8  1. METTL16 is an S-adenosylmethionine (SAM)-de...   \n",
       "9  1. SLC25A34 is a solute carrier protein that i...   \n",
       "\n",
       "   gpt_100perc_contaminated Score  \n",
       "0                            0.00  \n",
       "1                            0.00  \n",
       "2                            0.00  \n",
       "3                            0.00  \n",
       "4                            0.00  \n",
       "5                            0.00  \n",
       "6                            0.00  \n",
       "7                            0.00  \n",
       "8                            0.85  \n",
       "9                            0.00  "
      ]
     },
     "execution_count": 6,
     "metadata": {},
     "output_type": "execute_result"
    }
   ],
   "source": [
    "import pandas as pd \n",
    "score_df = pd.read_csv(f'{out_file}.tsv', sep = '\\t')\n",
    "score_df"
   ]
  },
  {
   "cell_type": "code",
   "execution_count": 7,
   "metadata": {},
   "outputs": [
    {
     "name": "stderr",
     "output_type": "stream",
     "text": [
      "/tmp/ipykernel_226048/1712979539.py:31: MatplotlibDeprecationWarning: Unable to determine Axes to steal space for Colorbar. Using gca(), but will raise in the future. Either provide the *cax* argument to use as the Axes for the Colorbar, provide the *ax* argument to steal space from it, or add *mappable* to an Axes.\n",
      "  plt.colorbar(sm, label='Gene Count')\n"
     ]
    },
    {
     "data": {
      "image/png": "[encoded data removed]",
      "text/plain": [
       "<Figure size 1000x1000 with 2 Axes>"
      ]
     },
     "metadata": {},
     "output_type": "display_data"
    }
   ],
   "source": [
    "import matplotlib.pyplot as plt\n",
    "import seaborn as sns\n",
    "import numpy as np\n",
    "sns.set_context('talk')\n",
    "plt.figure(figsize=(10, 10))\n",
    "columns_score = [col for col in score_df.columns if col.endswith('Score')]\n",
    "\n",
    "filtered_score_df = score_df[['GO', 'Gene_Count']+columns_score]\n",
    "long_scores = filtered_score_df.melt(id_vars=['GO', 'Gene_Count'], var_name='Score Type', value_name='Score')\n",
    "\n",
    "long_scores.head()\n",
    "long_scores.Score = long_scores.Score.astype(float)\n",
    "sns.swarmplot(x='Score Type', y='Score', data=long_scores, size=10, hue='Gene_Count', palette='viridis', edgecolor='none', legend=False, alpha=1)\n",
    "\n",
    "# # Draw lines between points with the same 'GO'\n",
    "# for name, group in long_scores.groupby('GO'):\n",
    "#     if len(group) > 1:\n",
    "#         plt.plot(group['Score Type'], group['Score'], marker='', color='grey', linewidth=1, alpha=0.5)\n",
    "\n",
    "plt.xticks(ticks=np.arange(len(long_scores['Score Type'].unique())),labels=['Real', 'Contaminated', 'Random'], rotation=45)\n",
    "\n",
    "plt.xlabel('')\n",
    "plt.ylabel('Confidence score [0,1]')\n",
    "\n",
    "# Create a colorbar for the continuous hue\n",
    "norm = plt.Normalize(long_scores['Gene_Count'].min(), long_scores['Gene_Count'].max())\n",
    "sm = plt.cm.ScalarMappable(cmap=\"viridis\", norm=norm)\n",
    "sm.set_array([])\n",
    "\n",
    "# Add the colorbar to the plot\n",
    "plt.colorbar(sm, label='Gene Count')\n",
    "\n",
    "plt.show()\n"
   ]
  },
  {
   "cell_type": "code",
   "execution_count": null,
   "metadata": {},
   "outputs": [],
   "source": [
    "# test the script for batch run\n",
    "\n",
    "input_file = 'data/GO_term_analysis/toy_example.csv'\n",
    "config = './jsonFiles/GOLLMrun_config.json'\n",
    "%run query_llm_for_analysis.py --input $input_file --start 0 --end 1 --config $config"
   ]
  },
  {
   "cell_type": "markdown",
   "metadata": {},
   "source": [
    "## Checkout and combine the output from the batch run "
   ]
  },
  {
   "cell_type": "code",
   "execution_count": null,
   "metadata": {},
   "outputs": [],
   "source": [
    "from glob import glob\n",
    "import pandas as pd\n",
    "import json\n",
    "\n",
    "### sanity check code along the way\n",
    "processed_files = glob('data/GO_term_analysis/LLM_processed_selected_go_terms*.tsv')\n",
    "\n",
    "for file in processed_files:\n",
    "    df = pd.read_csv(file, sep='\\t')\n",
    "    df.set_index('GO', inplace=True)\n",
    "    ranges = file.split('/')[-1].split('.')[0].split('_')[5:7]\n",
    "    with open(f'data/GO_term_analysis/LLM_response_go_terms_{ranges[0]}_{ranges[1]}.json') as fp:\n",
    "        llm_response_dict = json.load(fp)\n",
    "    for go_term, row in df.iterrows():\n",
    "        if llm_response_dict[go_term] == 'NO ANALYSIS':\n",
    "            print(file.split('/')[-1])\n",
    "            print(f'No analysis for {go_term}')\n",
    "            continue\n",
    "        else:\n",
    "            llm_analysis = llm_response_dict[go_term].split('\\n', 2)[2]\n",
    "            if df.loc[go_term, 'LLM Analysis'] != llm_analysis:\n",
    "                print(f'LLM analysis for {go_term} is different')\n",
    "            \n",
    "    df.reset_index(inplace=True)\n",
    "#     # print(ranges)\n",
    "    print(df.shape)\n",
    "\n",
    "    \n",
    "combined_df = pd.concat([pd.read_csv(f, sep = '\\t') for f in processed_files])\n",
    "print(combined_df.shape)\n",
    "print('Any duplicated GO: ',combined_df['GO'].duplicated().sum())\n",
    "print('Any NAs in the LLM res: ', combined_df['LLM Name'].isna().sum())\n",
    "print('Any duplicated LLM analysis: ', combined_df['LLM Analysis'].duplicated(keep=False).sum())\n",
    "\n",
    "combined_df.to_csv('data/GO_term_analysis/LLM_processed_selected_1000_go_terms.tsv', index=False, sep='\\t')"
   ]
  },
  {
   "cell_type": "code",
   "execution_count": null,
   "metadata": {},
   "outputs": [],
   "source": []
  },
  {
   "cell_type": "code",
   "execution_count": null,
   "metadata": {},
   "outputs": [],
   "source": []
  }
 ],
 "metadata": {
  "kernelspec": {
   "display_name": "Python 3 (ipykernel)",
   "language": "python",
   "name": "python3"
  },
  "language_info": {
   "codemirror_mode": {
    "name": "ipython",
    "version": 3
   },
   "file_extension": ".py",
   "mimetype": "text/x-python",
   "name": "python",
   "nbconvert_exporter": "python",
   "pygments_lexer": "ipython3",
   "version": "3.11.5"
  }
 },
 "nbformat": 4,
 "nbformat_minor": 4
}
