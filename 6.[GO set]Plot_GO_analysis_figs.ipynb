{
 "cells": [
  {
   "cell_type": "markdown",
   "metadata": {},
   "source": [
    "# Notebook for the figures generated in Workflow1"
   ]
  },
  {
   "cell_type": "code",
   "metadata": {
    "ExecuteTime": {
     "end_time": "2025-02-27T14:30:14.800667Z",
     "start_time": "2025-02-27T14:30:14.726846Z"
    }
   },
   "source": [
    "import pandas as pd\n",
    "import numpy as np\n",
    "import matplotlib.pyplot as plt\n",
    "\n",
    "import seaborn as sns\n",
    "from glob import glob\n",
    "import re\n",
    "from scipy.stats import wilcoxon, mannwhitneyu\n",
    "\n",
    "# Set default configuration for all plots\n",
    "plt.rcParams['svg.fonttype'] = 'none'\n",
    "plt.rcParams['pdf.fonttype'] = 42\n",
    "plt.rcParams.update({'font.size': 7, 'font.family': 'sans-serif'})\n",
    "plt.rcParams['xtick.labelsize'] = 6\n",
    "plt.rcParams['ytick.labelsize'] = 6\n",
    "plt.rcParams['axes.labelsize'] = 7\n",
    "plt.rcParams['axes.titlesize'] = 7\n",
    "plt.rcParams['axes.linewidth'] = 0.5\n",
    "plt.rcParams['hatch.linewidth'] = 0.5\n",
    "plt.rcParams['xtick.major.width'] = 0.4\n",
    "plt.rcParams['ytick.major.width'] = 0.4\n",
    "plt.rcParams['xtick.minor.width'] = 0.3\n",
    "plt.rcParams['ytick.minor.width'] = 0.3\n",
    "plt.rcParams['legend.frameon'] = False\n",
    "plt.rcParams['xtick.major.size'] = 3\n",
    "plt.rcParams['ytick.major.size'] = 3\n",
    "plt.rcParams['xtick.minor.size'] = 2\n",
    "plt.rcParams['ytick.minor.size'] = 2\n",
    "plt.rcParams['xtick.major.pad'] = 1\n",
    "plt.rcParams['ytick.major.pad'] = 1\n",
    "plt.rcParams['axes.labelpad'] = 1\n",
    "plt.rcParams['patch.linewidth'] = 0.25\n",
    "plt.rcParams[\"axes.unicode_minus\"] = True\n",
    "plt.figsize = (2,2)    \n",
    "\n",
    "%load_ext autoreload\n",
    "%autoreload 2\n",
    "%matplotlib inline"
   ],
   "outputs": [],
   "execution_count": 1
  },
  {
   "cell_type": "code",
   "metadata": {
    "ExecuteTime": {
     "end_time": "2025-02-27T14:30:19.958770Z",
     "start_time": "2025-02-27T14:30:19.863540Z"
    }
   },
   "source": [
    "## save the final result data to the supplemntary table\n",
    "import pandas as pd\n",
    "df = pd.read_csv('./data/GO_term_analysis/simrank_pval_LLM_processed_selected_1000_go_terms.tsv', sep='\\t')\n",
    "# check if there is any NA \n",
    "df.isna().sum()\n",
    "\n",
    "df.to_csv('./supplementary_information/Supplementary Table 2', sep='\\t', index=False)"
   ],
   "outputs": [],
   "execution_count": 2
  },
  {
   "cell_type": "markdown",
   "metadata": {},
   "source": [
    "### Extendend data fig 1\n",
    "\n",
    "GO term size distribution "
   ]
  },
  {
   "cell_type": "code",
   "metadata": {
    "ExecuteTime": {
     "end_time": "2025-02-27T14:30:23.101892Z",
     "start_time": "2025-02-27T14:30:22.361036Z"
    }
   },
   "source": [
    "## distribution of original go term sizes\n",
    "import pandas as pd \n",
    "import matplotlib.pyplot as plt\n",
    "import seaborn as sns\n",
    "import numpy as np\n",
    "\n",
    "go_terms = pd.read_csv('data/go_terms.csv', sep = ',',index_col=0)\n",
    "# only show go terms from 3-100\n",
    "filtered_go_terms = go_terms[(go_terms['Gene_Count']>=3) & (go_terms['Gene_Count']<=100)]\n",
    "\n",
    "input_file = 'data/GO_term_analysis/1000_selected_go_terms.csv'\n",
    "thousand_GO = pd.read_csv(input_file, sep = ',')\n",
    "\n",
    "\n",
    "fig, ax = plt.subplots(nrows=1, ncols=2, figsize=(8,3))\n",
    "# Apply log transformation to the 'Gene_Count' column\n",
    "# go_terms['log_Gene_Count'] = np.log2(go_terms['Gene_Count'])\n",
    "ax[0].set_yscale(\"log\")\n",
    "ax[1].set_yscale(\"log\")\n",
    "# Plotting the distribution of the log-transformed data\n",
    "sns.histplot(filtered_go_terms['Gene_Count'], bins=100, edgecolor='black',color='white', linewidth=0.5, rasterized=True, ax=ax[0])\n",
    "sns.histplot(thousand_GO['Gene_Count'], bins=100, edgecolor='black',color='white', linewidth=0.5, rasterized=True, ax=ax[1])\n",
    "\n",
    "plt.xlabel('Gene Count')\n",
    "ax[0].set_ylabel('Log10(Number of GO terms)')\n",
    "ax[1].set_ylabel('Log10(Number of selected GO terms)')\n",
    "sns.despine()\n",
    "plt.savefig('figures/GO_BP_size_distribution.svg', bbox_inches='tight')\n",
    "plt.show()\n"
   ],
   "outputs": [
    {
     "data": {
      "text/plain": [
       "<Figure size 800x300 with 2 Axes>"
      ],
      "image/png": "[encoded data removed]"
     },
     "metadata": {},
     "output_type": "display_data"
    }
   ],
   "execution_count": 3
  },
  {
   "attachments": {},
   "cell_type": "markdown",
   "metadata": {},
   "source": [
    "### Fig. 2 \n",
    "### Panel b: CDF of the similarity quantile with random curve\n",
    "random similarity from picking a random GO from the thousand GO terms"
   ]
  },
  {
   "cell_type": "code",
   "metadata": {
    "ExecuteTime": {
     "end_time": "2025-02-27T14:30:25.074174Z",
     "start_time": "2025-02-27T14:30:24.946798Z"
    }
   },
   "source": [
    "df = pd.read_csv('data/GO_term_analysis/simrank_LLM_processed_selected_1000_go_terms.tsv', sep='\\t')\n",
    "\n",
    "fig, ax = plt.subplots(figsize=(3,3))\n",
    "\n",
    "\n",
    "# Calculate the cumulative counts\n",
    "df_sorted = df[\"true_GO_term_sim_percentile\"].sort_values(ascending=False)\n",
    "cumulative_counts = np.arange(1, len(df_sorted) + 1)\n",
    "\n",
    "# Draw the ECDF with raw counts on the y-axis\n",
    "# x axis be the percentage not the raw fraction\n",
    "#66C5CC,#F6CF71,#F89C74,#DCB0F2,#87C55F,#9EB9F3,#FE88B1,#C9DB74,#8BE0A4,#B497E7,#D3B484,#B3B3B3\n",
    "ax.plot([perc*100 for perc in df_sorted], cumulative_counts, color='#4f75ad', linewidth=1, label='Assigned GO')\n",
    "\n",
    "rand_percentiles = df['random_sim_percentile'].sort_values(ascending=False)\n",
    "cumulative_counts_random = np.arange(1, len(rand_percentiles) + 1)\n",
    "ax.plot([perc*100 for perc in rand_percentiles], cumulative_counts_random, color='#818181', linewidth=0.5, linestyle='--', label='Random GO')\n",
    "\n",
    "\n",
    "# find the sim percentile at count_cutoff\n",
    "for sim_percentile_cutoff in [0.95]:\n",
    "    \n",
    "    count_cutoff = df_sorted[df_sorted >= sim_percentile_cutoff].count()\n",
    "    print(f'Count cutoff at similarity percentile {sim_percentile_cutoff*100:.2f}%: {count_cutoff}')\n",
    "\n",
    "    # print(f'Similarity percentile at count cutoff {count_cutoff}: {sim_percentile_at_count_cutoff*100:.2f}%')\n",
    "\n",
    "    ax.plot([103, sim_percentile_cutoff*100, sim_percentile_cutoff*100], [count_cutoff, count_cutoff, 0], color='red', linestyle=':', alpha= 0.8,linewidth=1)\n",
    "\n",
    "    \n",
    "\n",
    "    # Set ticks on the x-axis and y-axis\n",
    "    ax.set_xticks(list(ax.get_xticks()) + [sim_percentile_cutoff*100])\n",
    "    ax.set_yticks(list(ax.get_yticks()) + [count_cutoff] )\n",
    "\n",
    "    # Get the tick labels\n",
    "    xticklabels = ax.get_xticklabels()\n",
    "    yticklabels = ax.get_yticklabels()\n",
    "\n",
    "\n",
    "    # Modify specific tick label color on x-axis\n",
    "    xticklabels[-1].set_color('red')\n",
    "    xticklabels[-1].set_alpha(0.8)\n",
    "\n",
    "    # Modify specific tick label color on y-axis\n",
    "    yticklabels[-1].set_color('red')\n",
    "    yticklabels[-1].set_alpha(0.8)\n",
    "\n",
    "# invert x axis\n",
    "plt.gca().invert_xaxis()\n",
    "\n",
    "        \n",
    "ax.set_xlim(103, -1)\n",
    "ax.set_ylim(0, 1010)\n",
    "ax.set_xlabel('Similarity threshold\\n(Percent of GO terms less similar)')\n",
    "plt.ylabel('Cumulative counts of GPT-4 names')\n",
    "# ax.text(0.12, percentage_at_0_01, 'True GO in the top 1%', horizontalalignment='left', verticalalignment='bottom', \n",
    "#          transform=ax.transAxes, fontsize=14, color='red', alpha=0.8)\n",
    "\n",
    "sns.despine()\n",
    "plt.savefig(f\"figures/LLM_name_GO_term_percentile_CDF_w_random_95_perc_cutoff.svg\", bbox_inches='tight')\n",
    "plt.show()\n"
   ],
   "outputs": [
    {
     "name": "stdout",
     "output_type": "stream",
     "text": [
      "Count cutoff at similarity percentile 95.00%: 603\n"
     ]
    },
    {
     "data": {
      "text/plain": [
       "<Figure size 300x300 with 1 Axes>"
      ],
      "image/png": "[encoded data removed]"
     },
     "metadata": {},
     "output_type": "display_data"
    }
   ],
   "execution_count": 4
  },
  {
   "cell_type": "markdown",
   "metadata": {},
   "source": [
    "## Extended Data Figure 3"
   ]
  },
  {
   "cell_type": "code",
   "metadata": {
    "ExecuteTime": {
     "end_time": "2025-02-27T14:31:19.949721Z",
     "start_time": "2025-02-27T14:31:19.610326Z"
    }
   },
   "source": [
    "\n",
    "fig, axes = plt.subplots(nrows=1, ncols=2, figsize=(6, 3))\n",
    "\n",
    "branches = ['CC', 'MF']\n",
    "\n",
    "for idx, branch in enumerate(branches):\n",
    "    ax = axes[idx]\n",
    "    \n",
    "    # Load the dataset\n",
    "    df = pd.read_csv(f'data/GO_term_analysis/CC_MF_branch/sim_rank_LLM_processed_selected_1000_go_{branch}terms.tsv', sep='\\t')\n",
    "    \n",
    "    # Calculate the cumulative counts\n",
    "    df_sorted = df[\"true_GO_term_sim_percentile\"].sort_values(ascending=False)\n",
    "    cumulative_counts = np.arange(1, len(df_sorted) + 1)\n",
    "    \n",
    "    # Plot for Assigned GO\n",
    "    ax.plot([perc*100 for perc in df_sorted], cumulative_counts, color='#4f75ad', linewidth=1, label='Assigned GO')\n",
    "    \n",
    "    # Plot for Random GO\n",
    "    rand_percentiles = df['random_sim_percentile'].sort_values(ascending=False)\n",
    "    cumulative_counts_random = np.arange(1, len(rand_percentiles) + 1)\n",
    "    ax.plot([perc*100 for perc in rand_percentiles], cumulative_counts_random, color='#818181', linewidth=0.5, linestyle='--', label='Random GO')\n",
    "\n",
    "    # Set cutoff based on true_GO_term_sim_percentile == 0.98\n",
    "    cutoff_percentile = 0.95\n",
    "    # Find the index closest to the cutoff percentile\n",
    "    cutoff_index = (np.abs(df_sorted - cutoff_percentile)).argmin()\n",
    "    cutoff_count = cumulative_counts[cutoff_index]\n",
    "    print(f'{branch}: Counts at similarity percentile cutoff {cutoff_percentile*100:.2f}%: {cutoff_count}')\n",
    "    # Plot the cutoff line\n",
    "    ax.plot([103, cutoff_percentile*100, cutoff_percentile*100], [cutoff_count, cutoff_count, 0], color='red', linestyle=':', alpha=0.8, linewidth=0.5)\n",
    "    ax.set_xticks(list(ax.get_xticks()) + [cutoff_percentile*100])\n",
    "    ax.set_yticks(list(ax.get_yticks()) + [cutoff_count])\n",
    "    ax.get_xticklabels()[-1].set_color('red')\n",
    "    ax.get_xticklabels()[-1].set_alpha(0.8)\n",
    "    ax.get_yticklabels()[-1].set_color('red')\n",
    "    ax.get_yticklabels()[-1].set_alpha(0.8)\n",
    "    \n",
    "    # Invert x axis and set limits and labels\n",
    "    ax.invert_xaxis()\n",
    "    ax.set_xlim(103, -1)\n",
    "    ax.set_ylim(0, 1010)\n",
    "    ax.set_xlabel(f'Similarity threshold\\n(Percent of {branch} terms less similar)')\n",
    "    ax.set_ylabel(f'Cumulative {branch} term counts of GPT-4 names')\n",
    "    ax.legend()\n",
    "\n",
    "    sns.despine()\n",
    "\n",
    "# Adjust layout\n",
    "plt.tight_layout()\n",
    "\n",
    "# Save the figure\n",
    "plt.savefig(\"figures/LLM_name_GO_CC_MF_term_percentile_CDF_w_random_combined_95_cutoff.svg\", bbox_inches='tight')\n",
    "plt.show()\n"
   ],
   "outputs": [
    {
     "name": "stdout",
     "output_type": "stream",
     "text": [
      "CC: Counts at similarity percentile cutoff 95.00%: 642\n",
      "MF: Counts at similarity percentile cutoff 95.00%: 757\n"
     ]
    },
    {
     "data": {
      "text/plain": [
       "<Figure size 600x300 with 2 Axes>"
      ],
      "image/png": "[encoded data removed]"
     },
     "metadata": {},
     "output_type": "display_data"
    }
   ],
   "execution_count": 5
  },
  {
   "cell_type": "code",
   "metadata": {
    "ExecuteTime": {
     "end_time": "2025-02-27T14:31:21.600909Z",
     "start_time": "2025-02-27T14:31:21.585147Z"
    }
   },
   "source": [
    "print(f\"median of the similarity scores: {df['LLM_name_GO_term_sim'].median()}\")\n",
    "print(f\"mean of the similarity scores: {df['LLM_name_GO_term_sim'].mean()}\")\n",
    "print(f\"std of the similarity scores: {df['LLM_name_GO_term_sim'].std()}\")\n",
    "\n",
    "\n",
    "print(f\"median of the quantile scores: {df['true_GO_term_sim_percentile'].median()}\")\n",
    "print(f\"mean of the quantile scores: {df['true_GO_term_sim_percentile'].mean()}\")\n",
    "print(f\"std of the quantile scores: {df['true_GO_term_sim_percentile'].std()}\")\n"
   ],
   "outputs": [
    {
     "name": "stdout",
     "output_type": "stream",
     "text": [
      "median of the similarity scores: 0.49230277499999997\n",
      "mean of the similarity scores: 0.5031715170300001\n",
      "std of the similarity scores: 0.14984452792953595\n",
      "median of the quantile scores: 0.990438364224772\n",
      "mean of the quantile scores: 0.9259176228302443\n",
      "std of the quantile scores: 0.16589387402712472\n"
     ]
    }
   ],
   "execution_count": 6
  },
  {
   "cell_type": "code",
   "metadata": {
    "ExecuteTime": {
     "end_time": "2025-02-27T14:31:22.521016Z",
     "start_time": "2025-02-27T14:31:22.507221Z"
    }
   },
   "source": [
    "print('median +sd', df['true_GO_term_sim_percentile'].median()+df['true_GO_term_sim_percentile'].std())\n",
    "print('number of terms with quantile within median + std', sum((df['true_GO_term_sim_percentile'] <= df['true_GO_term_sim_percentile'].median()+df['true_GO_term_sim_percentile'].std())))"
   ],
   "outputs": [
    {
     "name": "stdout",
     "output_type": "stream",
     "text": [
      "median +sd 1.1563322382518968\n",
      "number of terms with quantile within median + std 1000\n"
     ]
    }
   ],
   "execution_count": 7
  },
  {
   "cell_type": "markdown",
   "metadata": {},
   "source": [
    "## Fig. 2c: example GO term for conversion between similarity to percentile ranking\n",
    "\n",
    "randomly select a term and convers semantic similarity to percentile score"
   ]
  },
  {
   "cell_type": "code",
   "metadata": {
    "ExecuteTime": {
     "end_time": "2025-02-27T14:31:24.007180Z",
     "start_time": "2025-02-27T14:31:23.836045Z"
    }
   },
   "source": [
    "import numpy as np\n",
    "import random \n",
    "import pandas as pd\n",
    "\n",
    "df = pd.read_csv('data/GO_term_analysis/simrank_LLM_processed_selected_1000_go_terms.tsv', sep='\\t')\n",
    "# load the list of all go term similarities\n",
    "with open (\"data/GO_term_analysis/all_go_sim_scores_gpt4.txt\", \"r\") as f:\n",
    "    all_go_sim_list = [float(line.strip()) for line in f]\n",
    "binsize = len(all_go_sim_list)//1000\n",
    "start = 0 \n",
    "end = binsize\n",
    "\n",
    "\n",
    "# get a random index\n",
    "random.seed(42)\n",
    "random_index = random.randint(0, len(df)-1)\n",
    "\n",
    "go_term = df.loc[random_index, 'Term_Description']\n",
    "gpt4_name = df.loc[random_index, 'gpt_4_default Name']\n",
    "sim = df.loc[df['Term_Description'] == go_term, 'LLM_name_GO_term_sim'].values[0]\n",
    "\n",
    "\n",
    "print(go_term, sim)\n",
    "print('gpt4name: ', gpt4_name)\n",
    "\n",
    "# Select a distribution related to the random GO term\n",
    "random_distribution = all_go_sim_list[random_index * binsize: (random_index+1) * binsize]\n",
    "\n",
    "# Plot histogram for counts\n",
    "plt.figure(figsize=(3,3))\n",
    "sns.histplot(random_distribution, bins=30, color='grey', kde=True, stat='count', element='poly')\n",
    "\n",
    "\n",
    "# Highlight the specific value of `sim` on the plot\n",
    "plt.axvline(x=sim, color='#457135', linestyle='-', linewidth=1)\n",
    "\n",
    "# Plot the 95th percentile in the distribution\n",
    "percentile_95 = np.percentile(random_distribution, 95)\n",
    "plt.axvline(x=percentile_95, color='red', linestyle=':', linewidth=1, label='95th Percentile')\n",
    "\n",
    "# Annotate the similarity score\n",
    "plt.text(sim+0.02, plt.ylim()[1]*0.15, f'semantic similarity between\\nassigned GO term and\\nGPT-4 name: {sim:.2f}', color='#457135', ha='left')\n",
    "# set x lim \n",
    "plt.xlim(0, max(random_distribution))\n",
    "plt.xlabel('Semantic similarity with GPT-4 name')\n",
    "plt.ylabel('Count of GO names')\n",
    "plt.legend(loc='upper left', bbox_to_anchor=(0.65, 0.95))\n",
    "sns.despine()\n",
    "\n",
    "plt.savefig(f\"figures/LLM_name_GO_term_sim_against_random_count_kde_{go_term}.svg\", bbox_inches='tight')\n",
    "plt.show()\n"
   ],
   "outputs": [
    {
     "ename": "FileNotFoundError",
     "evalue": "[Errno 2] No such file or directory: 'data/GO_term_analysis/all_go_sim_scores_gpt4.txt'",
     "output_type": "error",
     "traceback": [
      "\u001B[0;31m---------------------------------------------------------------------------\u001B[0m",
      "\u001B[0;31mFileNotFoundError\u001B[0m                         Traceback (most recent call last)",
      "Cell \u001B[0;32mIn[8], line 7\u001B[0m\n\u001B[1;32m      5\u001B[0m df \u001B[38;5;241m=\u001B[39m pd\u001B[38;5;241m.\u001B[39mread_csv(\u001B[38;5;124m'\u001B[39m\u001B[38;5;124mdata/GO_term_analysis/simrank_LLM_processed_selected_1000_go_terms.tsv\u001B[39m\u001B[38;5;124m'\u001B[39m, sep\u001B[38;5;241m=\u001B[39m\u001B[38;5;124m'\u001B[39m\u001B[38;5;130;01m\\t\u001B[39;00m\u001B[38;5;124m'\u001B[39m)\n\u001B[1;32m      6\u001B[0m \u001B[38;5;66;03m# load the list of all go term similarities\u001B[39;00m\n\u001B[0;32m----> 7\u001B[0m \u001B[38;5;28;01mwith\u001B[39;00m \u001B[38;5;28;43mopen\u001B[39;49m\u001B[43m \u001B[49m\u001B[43m(\u001B[49m\u001B[38;5;124;43m\"\u001B[39;49m\u001B[38;5;124;43mdata/GO_term_analysis/all_go_sim_scores_gpt4.txt\u001B[39;49m\u001B[38;5;124;43m\"\u001B[39;49m\u001B[43m,\u001B[49m\u001B[43m \u001B[49m\u001B[38;5;124;43m\"\u001B[39;49m\u001B[38;5;124;43mr\u001B[39;49m\u001B[38;5;124;43m\"\u001B[39;49m\u001B[43m)\u001B[49m \u001B[38;5;28;01mas\u001B[39;00m f:\n\u001B[1;32m      8\u001B[0m     all_go_sim_list \u001B[38;5;241m=\u001B[39m [\u001B[38;5;28mfloat\u001B[39m(line\u001B[38;5;241m.\u001B[39mstrip()) \u001B[38;5;28;01mfor\u001B[39;00m line \u001B[38;5;129;01min\u001B[39;00m f]\n\u001B[1;32m      9\u001B[0m binsize \u001B[38;5;241m=\u001B[39m \u001B[38;5;28mlen\u001B[39m(all_go_sim_list)\u001B[38;5;241m/\u001B[39m\u001B[38;5;241m/\u001B[39m\u001B[38;5;241m1000\u001B[39m\n",
      "File \u001B[0;32m/opt/miniconda3/envs/llm_eval/lib/python3.11/site-packages/IPython/core/interactiveshell.py:324\u001B[0m, in \u001B[0;36m_modified_open\u001B[0;34m(file, *args, **kwargs)\u001B[0m\n\u001B[1;32m    317\u001B[0m \u001B[38;5;28;01mif\u001B[39;00m file \u001B[38;5;129;01min\u001B[39;00m {\u001B[38;5;241m0\u001B[39m, \u001B[38;5;241m1\u001B[39m, \u001B[38;5;241m2\u001B[39m}:\n\u001B[1;32m    318\u001B[0m     \u001B[38;5;28;01mraise\u001B[39;00m \u001B[38;5;167;01mValueError\u001B[39;00m(\n\u001B[1;32m    319\u001B[0m         \u001B[38;5;124mf\u001B[39m\u001B[38;5;124m\"\u001B[39m\u001B[38;5;124mIPython won\u001B[39m\u001B[38;5;124m'\u001B[39m\u001B[38;5;124mt let you open fd=\u001B[39m\u001B[38;5;132;01m{\u001B[39;00mfile\u001B[38;5;132;01m}\u001B[39;00m\u001B[38;5;124m by default \u001B[39m\u001B[38;5;124m\"\u001B[39m\n\u001B[1;32m    320\u001B[0m         \u001B[38;5;124m\"\u001B[39m\u001B[38;5;124mas it is likely to crash IPython. If you know what you are doing, \u001B[39m\u001B[38;5;124m\"\u001B[39m\n\u001B[1;32m    321\u001B[0m         \u001B[38;5;124m\"\u001B[39m\u001B[38;5;124myou can use builtins\u001B[39m\u001B[38;5;124m'\u001B[39m\u001B[38;5;124m open.\u001B[39m\u001B[38;5;124m\"\u001B[39m\n\u001B[1;32m    322\u001B[0m     )\n\u001B[0;32m--> 324\u001B[0m \u001B[38;5;28;01mreturn\u001B[39;00m \u001B[43mio_open\u001B[49m\u001B[43m(\u001B[49m\u001B[43mfile\u001B[49m\u001B[43m,\u001B[49m\u001B[43m \u001B[49m\u001B[38;5;241;43m*\u001B[39;49m\u001B[43margs\u001B[49m\u001B[43m,\u001B[49m\u001B[43m \u001B[49m\u001B[38;5;241;43m*\u001B[39;49m\u001B[38;5;241;43m*\u001B[39;49m\u001B[43mkwargs\u001B[49m\u001B[43m)\u001B[49m\n",
      "\u001B[0;31mFileNotFoundError\u001B[0m: [Errno 2] No such file or directory: 'data/GO_term_analysis/all_go_sim_scores_gpt4.txt'"
     ]
    }
   ],
   "execution_count": 8
  },
  {
   "cell_type": "markdown",
   "metadata": {},
   "source": [
    "### Fig.3b Confidence score distribution between real contaminated and random gene sets\n",
    "\n",
    "Among 5 models + functional enrichment analysis"
   ]
  },
  {
   "cell_type": "code",
   "metadata": {
    "ExecuteTime": {
     "end_time": "2025-02-27T14:31:26.780516Z",
     "start_time": "2025-02-27T14:31:26.753634Z"
    }
   },
   "source": [
    "## check the go term enrichment analysis result \n",
    "import pandas as pd\n",
    "enrichr_res = pd.read_csv('./data/GO_term_analysis/100_GO_terms_enricher_res.tsv', sep='\\t')\n",
    "genes_col = [col for col in enrichr_res.columns if col.endswith('Genes')]\n",
    "# create the count table\n",
    "\n",
    "p_cutoff = 0.05\n",
    "count_table = pd.DataFrame(columns=['Gene set type','Unassigned GO terms', 'Assigned GO terms'])\n",
    "\n",
    "for col in genes_col: \n",
    "    num_enriched = sum(enrichr_res[f'{col} adj p-value'] <= p_cutoff)\n",
    "    num_unassigned = sum(enrichr_res[f'{col} adj p-value'] > p_cutoff)\n",
    "    count_row = pd.DataFrame({'Gene set type': col, 'Unassigned GO terms': num_unassigned, 'Assigned GO terms': num_enriched}, index=[0])\n",
    "    count_table = pd.concat([count_table, count_row], ignore_index=True)\n",
    "\n",
    "count_table\n"
   ],
   "outputs": [
    {
     "data": {
      "text/plain": [
       "                Gene set type Unassigned GO terms Assigned GO terms\n",
       "0                       Genes                   0               100\n",
       "1   50perc_contaminated_Genes                   3                97\n",
       "2  100perc_contaminated_Genes                  85                15"
      ],
      "text/html": [
       "<div>\n",
       "<style scoped>\n",
       "    .dataframe tbody tr th:only-of-type {\n",
       "        vertical-align: middle;\n",
       "    }\n",
       "\n",
       "    .dataframe tbody tr th {\n",
       "        vertical-align: top;\n",
       "    }\n",
       "\n",
       "    .dataframe thead th {\n",
       "        text-align: right;\n",
       "    }\n",
       "</style>\n",
       "<table border=\"1\" class=\"dataframe\">\n",
       "  <thead>\n",
       "    <tr style=\"text-align: right;\">\n",
       "      <th></th>\n",
       "      <th>Gene set type</th>\n",
       "      <th>Unassigned GO terms</th>\n",
       "      <th>Assigned GO terms</th>\n",
       "    </tr>\n",
       "  </thead>\n",
       "  <tbody>\n",
       "    <tr>\n",
       "      <th>0</th>\n",
       "      <td>Genes</td>\n",
       "      <td>0</td>\n",
       "      <td>100</td>\n",
       "    </tr>\n",
       "    <tr>\n",
       "      <th>1</th>\n",
       "      <td>50perc_contaminated_Genes</td>\n",
       "      <td>3</td>\n",
       "      <td>97</td>\n",
       "    </tr>\n",
       "    <tr>\n",
       "      <th>2</th>\n",
       "      <td>100perc_contaminated_Genes</td>\n",
       "      <td>85</td>\n",
       "      <td>15</td>\n",
       "    </tr>\n",
       "  </tbody>\n",
       "</table>\n",
       "</div>"
      ]
     },
     "execution_count": 9,
     "metadata": {},
     "output_type": "execute_result"
    }
   ],
   "execution_count": 9
  },
  {
   "cell_type": "code",
   "metadata": {
    "ExecuteTime": {
     "end_time": "2025-02-27T14:31:28.131718Z",
     "start_time": "2025-02-27T14:31:28.021439Z"
    }
   },
   "source": [
    "# Defining the custom order for Score Types and Models\n",
    "score_type_order = ['Real', 'Contaminated', 'Random']\n",
    "model_order = ['GPT-4', 'Gemini Pro', 'GPT-3.5', 'Mixtral Instruct', 'Llama2 70b']\n",
    "score_bin_order =[ 'Name not assigned', 'Low Confidence', 'Medium Confidence', 'High Confidence']\n",
    "color_palette = ['#A5AA99','#e39cc5','#af549e', '#6c2167']\n",
    "\n",
    "combine_df = pd.read_csv('./data/GO_term_analysis/model_compare/combined_scores_df.tsv', sep='\\t')\n",
    "# Creating a categorical type for ordering\n",
    "combine_df['Score Type'] = pd.Categorical(combine_df['Score Type'], categories=score_type_order, ordered=True)\n",
    "combine_df['Model'] = pd.Categorical(combine_df['Model'], categories=model_order, ordered=True)\n",
    "combine_df['Score Bin'] = pd.Categorical(combine_df['Score Bin'], categories=score_bin_order, ordered=True)\n",
    "\n",
    "# Grouping and stacking data \n",
    "stacked_bins_data_option2 = combine_df.groupby(['Model', 'Score Type', 'Score Bin']).size().unstack().fillna(0)\n",
    "\n",
    "# Modify the layout to include an additional subplot\n",
    "fig, axes = plt.subplots(1, len(model_order) + 1, figsize=(8,3), sharey=True)\n",
    "\n",
    "# Plotting for each model (existing code)\n",
    "for i, model in enumerate(model_order):\n",
    "    model_data = stacked_bins_data_option2.loc[model]\n",
    "    model_data.plot(kind='bar', stacked=True, ax=axes[i], width=0.8, legend=False, color=color_palette)\n",
    "    axes[i].set_xlabel(model)\n",
    "    axes[i].set_xticklabels(['Real', '50/50 Mix', 'Random'], rotation=45)\n",
    "    if i == 0:\n",
    "        axes[i].set_ylabel('Counts')\n",
    "    else:\n",
    "        axes[i].yaxis.set_visible(False)\n",
    "\n",
    "# Plotting the new stacked bar plot\n",
    "count_table.plot(kind='bar', stacked=True, ax=axes[-1], x='Gene set type',y=['Unassigned GO terms', 'Assigned GO terms'], color=['#A5AA99','#6c2167'], width=0.8, legend=False)\n",
    "axes[-1].set_xticklabels(['Real', '50/50 Mix', 'Random'], rotation=45)\n",
    "axes[-1].set_xlabel('Functional Enrichment')\n",
    "axes[-1].yaxis.set_visible(False)\n",
    "\n",
    "# Adjusting the layout for the new plot\n",
    "for i, ax in enumerate(axes):\n",
    "    if i != 0:\n",
    "        sns.despine(ax=ax, left=True)\n",
    "    else:\n",
    "        sns.despine(ax=ax)\n",
    "        \n",
    "plt.tight_layout()\n",
    "\n",
    "handles, labels = axes[0].get_legend_handles_labels()\n",
    "\n",
    "fig.legend(handles, labels, title='Score Bin', loc='upper left', bbox_to_anchor=(1, 1), fontsize=6)\n",
    "\n",
    "# Saving the figure\n",
    "plt.savefig('./figures/model_compare/combined_scores_bin_counts_by_models_with_enrichr.svg', bbox_inches='tight')\n",
    "plt.show()\n"
   ],
   "outputs": [
    {
     "ename": "FileNotFoundError",
     "evalue": "[Errno 2] No such file or directory: './data/GO_term_analysis/model_compare/combined_scores_df.tsv'",
     "output_type": "error",
     "traceback": [
      "\u001B[0;31m---------------------------------------------------------------------------\u001B[0m",
      "\u001B[0;31mFileNotFoundError\u001B[0m                         Traceback (most recent call last)",
      "Cell \u001B[0;32mIn[10], line 7\u001B[0m\n\u001B[1;32m      4\u001B[0m score_bin_order \u001B[38;5;241m=\u001B[39m[ \u001B[38;5;124m'\u001B[39m\u001B[38;5;124mName not assigned\u001B[39m\u001B[38;5;124m'\u001B[39m, \u001B[38;5;124m'\u001B[39m\u001B[38;5;124mLow Confidence\u001B[39m\u001B[38;5;124m'\u001B[39m, \u001B[38;5;124m'\u001B[39m\u001B[38;5;124mMedium Confidence\u001B[39m\u001B[38;5;124m'\u001B[39m, \u001B[38;5;124m'\u001B[39m\u001B[38;5;124mHigh Confidence\u001B[39m\u001B[38;5;124m'\u001B[39m]\n\u001B[1;32m      5\u001B[0m color_palette \u001B[38;5;241m=\u001B[39m [\u001B[38;5;124m'\u001B[39m\u001B[38;5;124m#A5AA99\u001B[39m\u001B[38;5;124m'\u001B[39m,\u001B[38;5;124m'\u001B[39m\u001B[38;5;124m#e39cc5\u001B[39m\u001B[38;5;124m'\u001B[39m,\u001B[38;5;124m'\u001B[39m\u001B[38;5;124m#af549e\u001B[39m\u001B[38;5;124m'\u001B[39m, \u001B[38;5;124m'\u001B[39m\u001B[38;5;124m#6c2167\u001B[39m\u001B[38;5;124m'\u001B[39m]\n\u001B[0;32m----> 7\u001B[0m combine_df \u001B[38;5;241m=\u001B[39m \u001B[43mpd\u001B[49m\u001B[38;5;241;43m.\u001B[39;49m\u001B[43mread_csv\u001B[49m\u001B[43m(\u001B[49m\u001B[38;5;124;43m'\u001B[39;49m\u001B[38;5;124;43m./data/GO_term_analysis/model_compare/combined_scores_df.tsv\u001B[39;49m\u001B[38;5;124;43m'\u001B[39;49m\u001B[43m,\u001B[49m\u001B[43m \u001B[49m\u001B[43msep\u001B[49m\u001B[38;5;241;43m=\u001B[39;49m\u001B[38;5;124;43m'\u001B[39;49m\u001B[38;5;130;43;01m\\t\u001B[39;49;00m\u001B[38;5;124;43m'\u001B[39;49m\u001B[43m)\u001B[49m\n\u001B[1;32m      8\u001B[0m \u001B[38;5;66;03m# Creating a categorical type for ordering\u001B[39;00m\n\u001B[1;32m      9\u001B[0m combine_df[\u001B[38;5;124m'\u001B[39m\u001B[38;5;124mScore Type\u001B[39m\u001B[38;5;124m'\u001B[39m] \u001B[38;5;241m=\u001B[39m pd\u001B[38;5;241m.\u001B[39mCategorical(combine_df[\u001B[38;5;124m'\u001B[39m\u001B[38;5;124mScore Type\u001B[39m\u001B[38;5;124m'\u001B[39m], categories\u001B[38;5;241m=\u001B[39mscore_type_order, ordered\u001B[38;5;241m=\u001B[39m\u001B[38;5;28;01mTrue\u001B[39;00m)\n",
      "File \u001B[0;32m/opt/miniconda3/envs/llm_eval/lib/python3.11/site-packages/pandas/util/_decorators.py:211\u001B[0m, in \u001B[0;36mdeprecate_kwarg.<locals>._deprecate_kwarg.<locals>.wrapper\u001B[0;34m(*args, **kwargs)\u001B[0m\n\u001B[1;32m    209\u001B[0m     \u001B[38;5;28;01melse\u001B[39;00m:\n\u001B[1;32m    210\u001B[0m         kwargs[new_arg_name] \u001B[38;5;241m=\u001B[39m new_arg_value\n\u001B[0;32m--> 211\u001B[0m \u001B[38;5;28;01mreturn\u001B[39;00m \u001B[43mfunc\u001B[49m\u001B[43m(\u001B[49m\u001B[38;5;241;43m*\u001B[39;49m\u001B[43margs\u001B[49m\u001B[43m,\u001B[49m\u001B[43m \u001B[49m\u001B[38;5;241;43m*\u001B[39;49m\u001B[38;5;241;43m*\u001B[39;49m\u001B[43mkwargs\u001B[49m\u001B[43m)\u001B[49m\n",
      "File \u001B[0;32m/opt/miniconda3/envs/llm_eval/lib/python3.11/site-packages/pandas/util/_decorators.py:331\u001B[0m, in \u001B[0;36mdeprecate_nonkeyword_arguments.<locals>.decorate.<locals>.wrapper\u001B[0;34m(*args, **kwargs)\u001B[0m\n\u001B[1;32m    325\u001B[0m \u001B[38;5;28;01mif\u001B[39;00m \u001B[38;5;28mlen\u001B[39m(args) \u001B[38;5;241m>\u001B[39m num_allow_args:\n\u001B[1;32m    326\u001B[0m     warnings\u001B[38;5;241m.\u001B[39mwarn(\n\u001B[1;32m    327\u001B[0m         msg\u001B[38;5;241m.\u001B[39mformat(arguments\u001B[38;5;241m=\u001B[39m_format_argument_list(allow_args)),\n\u001B[1;32m    328\u001B[0m         \u001B[38;5;167;01mFutureWarning\u001B[39;00m,\n\u001B[1;32m    329\u001B[0m         stacklevel\u001B[38;5;241m=\u001B[39mfind_stack_level(),\n\u001B[1;32m    330\u001B[0m     )\n\u001B[0;32m--> 331\u001B[0m \u001B[38;5;28;01mreturn\u001B[39;00m \u001B[43mfunc\u001B[49m\u001B[43m(\u001B[49m\u001B[38;5;241;43m*\u001B[39;49m\u001B[43margs\u001B[49m\u001B[43m,\u001B[49m\u001B[43m \u001B[49m\u001B[38;5;241;43m*\u001B[39;49m\u001B[38;5;241;43m*\u001B[39;49m\u001B[43mkwargs\u001B[49m\u001B[43m)\u001B[49m\n",
      "File \u001B[0;32m/opt/miniconda3/envs/llm_eval/lib/python3.11/site-packages/pandas/io/parsers/readers.py:950\u001B[0m, in \u001B[0;36mread_csv\u001B[0;34m(filepath_or_buffer, sep, delimiter, header, names, index_col, usecols, squeeze, prefix, mangle_dupe_cols, dtype, engine, converters, true_values, false_values, skipinitialspace, skiprows, skipfooter, nrows, na_values, keep_default_na, na_filter, verbose, skip_blank_lines, parse_dates, infer_datetime_format, keep_date_col, date_parser, dayfirst, cache_dates, iterator, chunksize, compression, thousands, decimal, lineterminator, quotechar, quoting, doublequote, escapechar, comment, encoding, encoding_errors, dialect, error_bad_lines, warn_bad_lines, on_bad_lines, delim_whitespace, low_memory, memory_map, float_precision, storage_options)\u001B[0m\n\u001B[1;32m    935\u001B[0m kwds_defaults \u001B[38;5;241m=\u001B[39m _refine_defaults_read(\n\u001B[1;32m    936\u001B[0m     dialect,\n\u001B[1;32m    937\u001B[0m     delimiter,\n\u001B[0;32m   (...)\u001B[0m\n\u001B[1;32m    946\u001B[0m     defaults\u001B[38;5;241m=\u001B[39m{\u001B[38;5;124m\"\u001B[39m\u001B[38;5;124mdelimiter\u001B[39m\u001B[38;5;124m\"\u001B[39m: \u001B[38;5;124m\"\u001B[39m\u001B[38;5;124m,\u001B[39m\u001B[38;5;124m\"\u001B[39m},\n\u001B[1;32m    947\u001B[0m )\n\u001B[1;32m    948\u001B[0m kwds\u001B[38;5;241m.\u001B[39mupdate(kwds_defaults)\n\u001B[0;32m--> 950\u001B[0m \u001B[38;5;28;01mreturn\u001B[39;00m \u001B[43m_read\u001B[49m\u001B[43m(\u001B[49m\u001B[43mfilepath_or_buffer\u001B[49m\u001B[43m,\u001B[49m\u001B[43m \u001B[49m\u001B[43mkwds\u001B[49m\u001B[43m)\u001B[49m\n",
      "File \u001B[0;32m/opt/miniconda3/envs/llm_eval/lib/python3.11/site-packages/pandas/io/parsers/readers.py:605\u001B[0m, in \u001B[0;36m_read\u001B[0;34m(filepath_or_buffer, kwds)\u001B[0m\n\u001B[1;32m    602\u001B[0m _validate_names(kwds\u001B[38;5;241m.\u001B[39mget(\u001B[38;5;124m\"\u001B[39m\u001B[38;5;124mnames\u001B[39m\u001B[38;5;124m\"\u001B[39m, \u001B[38;5;28;01mNone\u001B[39;00m))\n\u001B[1;32m    604\u001B[0m \u001B[38;5;66;03m# Create the parser.\u001B[39;00m\n\u001B[0;32m--> 605\u001B[0m parser \u001B[38;5;241m=\u001B[39m \u001B[43mTextFileReader\u001B[49m\u001B[43m(\u001B[49m\u001B[43mfilepath_or_buffer\u001B[49m\u001B[43m,\u001B[49m\u001B[43m \u001B[49m\u001B[38;5;241;43m*\u001B[39;49m\u001B[38;5;241;43m*\u001B[39;49m\u001B[43mkwds\u001B[49m\u001B[43m)\u001B[49m\n\u001B[1;32m    607\u001B[0m \u001B[38;5;28;01mif\u001B[39;00m chunksize \u001B[38;5;129;01mor\u001B[39;00m iterator:\n\u001B[1;32m    608\u001B[0m     \u001B[38;5;28;01mreturn\u001B[39;00m parser\n",
      "File \u001B[0;32m/opt/miniconda3/envs/llm_eval/lib/python3.11/site-packages/pandas/io/parsers/readers.py:1442\u001B[0m, in \u001B[0;36mTextFileReader.__init__\u001B[0;34m(self, f, engine, **kwds)\u001B[0m\n\u001B[1;32m   1439\u001B[0m     \u001B[38;5;28mself\u001B[39m\u001B[38;5;241m.\u001B[39moptions[\u001B[38;5;124m\"\u001B[39m\u001B[38;5;124mhas_index_names\u001B[39m\u001B[38;5;124m\"\u001B[39m] \u001B[38;5;241m=\u001B[39m kwds[\u001B[38;5;124m\"\u001B[39m\u001B[38;5;124mhas_index_names\u001B[39m\u001B[38;5;124m\"\u001B[39m]\n\u001B[1;32m   1441\u001B[0m \u001B[38;5;28mself\u001B[39m\u001B[38;5;241m.\u001B[39mhandles: IOHandles \u001B[38;5;241m|\u001B[39m \u001B[38;5;28;01mNone\u001B[39;00m \u001B[38;5;241m=\u001B[39m \u001B[38;5;28;01mNone\u001B[39;00m\n\u001B[0;32m-> 1442\u001B[0m \u001B[38;5;28mself\u001B[39m\u001B[38;5;241m.\u001B[39m_engine \u001B[38;5;241m=\u001B[39m \u001B[38;5;28;43mself\u001B[39;49m\u001B[38;5;241;43m.\u001B[39;49m\u001B[43m_make_engine\u001B[49m\u001B[43m(\u001B[49m\u001B[43mf\u001B[49m\u001B[43m,\u001B[49m\u001B[43m \u001B[49m\u001B[38;5;28;43mself\u001B[39;49m\u001B[38;5;241;43m.\u001B[39;49m\u001B[43mengine\u001B[49m\u001B[43m)\u001B[49m\n",
      "File \u001B[0;32m/opt/miniconda3/envs/llm_eval/lib/python3.11/site-packages/pandas/io/parsers/readers.py:1735\u001B[0m, in \u001B[0;36mTextFileReader._make_engine\u001B[0;34m(self, f, engine)\u001B[0m\n\u001B[1;32m   1733\u001B[0m     \u001B[38;5;28;01mif\u001B[39;00m \u001B[38;5;124m\"\u001B[39m\u001B[38;5;124mb\u001B[39m\u001B[38;5;124m\"\u001B[39m \u001B[38;5;129;01mnot\u001B[39;00m \u001B[38;5;129;01min\u001B[39;00m mode:\n\u001B[1;32m   1734\u001B[0m         mode \u001B[38;5;241m+\u001B[39m\u001B[38;5;241m=\u001B[39m \u001B[38;5;124m\"\u001B[39m\u001B[38;5;124mb\u001B[39m\u001B[38;5;124m\"\u001B[39m\n\u001B[0;32m-> 1735\u001B[0m \u001B[38;5;28mself\u001B[39m\u001B[38;5;241m.\u001B[39mhandles \u001B[38;5;241m=\u001B[39m \u001B[43mget_handle\u001B[49m\u001B[43m(\u001B[49m\n\u001B[1;32m   1736\u001B[0m \u001B[43m    \u001B[49m\u001B[43mf\u001B[49m\u001B[43m,\u001B[49m\n\u001B[1;32m   1737\u001B[0m \u001B[43m    \u001B[49m\u001B[43mmode\u001B[49m\u001B[43m,\u001B[49m\n\u001B[1;32m   1738\u001B[0m \u001B[43m    \u001B[49m\u001B[43mencoding\u001B[49m\u001B[38;5;241;43m=\u001B[39;49m\u001B[38;5;28;43mself\u001B[39;49m\u001B[38;5;241;43m.\u001B[39;49m\u001B[43moptions\u001B[49m\u001B[38;5;241;43m.\u001B[39;49m\u001B[43mget\u001B[49m\u001B[43m(\u001B[49m\u001B[38;5;124;43m\"\u001B[39;49m\u001B[38;5;124;43mencoding\u001B[39;49m\u001B[38;5;124;43m\"\u001B[39;49m\u001B[43m,\u001B[49m\u001B[43m \u001B[49m\u001B[38;5;28;43;01mNone\u001B[39;49;00m\u001B[43m)\u001B[49m\u001B[43m,\u001B[49m\n\u001B[1;32m   1739\u001B[0m \u001B[43m    \u001B[49m\u001B[43mcompression\u001B[49m\u001B[38;5;241;43m=\u001B[39;49m\u001B[38;5;28;43mself\u001B[39;49m\u001B[38;5;241;43m.\u001B[39;49m\u001B[43moptions\u001B[49m\u001B[38;5;241;43m.\u001B[39;49m\u001B[43mget\u001B[49m\u001B[43m(\u001B[49m\u001B[38;5;124;43m\"\u001B[39;49m\u001B[38;5;124;43mcompression\u001B[39;49m\u001B[38;5;124;43m\"\u001B[39;49m\u001B[43m,\u001B[49m\u001B[43m \u001B[49m\u001B[38;5;28;43;01mNone\u001B[39;49;00m\u001B[43m)\u001B[49m\u001B[43m,\u001B[49m\n\u001B[1;32m   1740\u001B[0m \u001B[43m    \u001B[49m\u001B[43mmemory_map\u001B[49m\u001B[38;5;241;43m=\u001B[39;49m\u001B[38;5;28;43mself\u001B[39;49m\u001B[38;5;241;43m.\u001B[39;49m\u001B[43moptions\u001B[49m\u001B[38;5;241;43m.\u001B[39;49m\u001B[43mget\u001B[49m\u001B[43m(\u001B[49m\u001B[38;5;124;43m\"\u001B[39;49m\u001B[38;5;124;43mmemory_map\u001B[39;49m\u001B[38;5;124;43m\"\u001B[39;49m\u001B[43m,\u001B[49m\u001B[43m \u001B[49m\u001B[38;5;28;43;01mFalse\u001B[39;49;00m\u001B[43m)\u001B[49m\u001B[43m,\u001B[49m\n\u001B[1;32m   1741\u001B[0m \u001B[43m    \u001B[49m\u001B[43mis_text\u001B[49m\u001B[38;5;241;43m=\u001B[39;49m\u001B[43mis_text\u001B[49m\u001B[43m,\u001B[49m\n\u001B[1;32m   1742\u001B[0m \u001B[43m    \u001B[49m\u001B[43merrors\u001B[49m\u001B[38;5;241;43m=\u001B[39;49m\u001B[38;5;28;43mself\u001B[39;49m\u001B[38;5;241;43m.\u001B[39;49m\u001B[43moptions\u001B[49m\u001B[38;5;241;43m.\u001B[39;49m\u001B[43mget\u001B[49m\u001B[43m(\u001B[49m\u001B[38;5;124;43m\"\u001B[39;49m\u001B[38;5;124;43mencoding_errors\u001B[39;49m\u001B[38;5;124;43m\"\u001B[39;49m\u001B[43m,\u001B[49m\u001B[43m \u001B[49m\u001B[38;5;124;43m\"\u001B[39;49m\u001B[38;5;124;43mstrict\u001B[39;49m\u001B[38;5;124;43m\"\u001B[39;49m\u001B[43m)\u001B[49m\u001B[43m,\u001B[49m\n\u001B[1;32m   1743\u001B[0m \u001B[43m    \u001B[49m\u001B[43mstorage_options\u001B[49m\u001B[38;5;241;43m=\u001B[39;49m\u001B[38;5;28;43mself\u001B[39;49m\u001B[38;5;241;43m.\u001B[39;49m\u001B[43moptions\u001B[49m\u001B[38;5;241;43m.\u001B[39;49m\u001B[43mget\u001B[49m\u001B[43m(\u001B[49m\u001B[38;5;124;43m\"\u001B[39;49m\u001B[38;5;124;43mstorage_options\u001B[39;49m\u001B[38;5;124;43m\"\u001B[39;49m\u001B[43m,\u001B[49m\u001B[43m \u001B[49m\u001B[38;5;28;43;01mNone\u001B[39;49;00m\u001B[43m)\u001B[49m\u001B[43m,\u001B[49m\n\u001B[1;32m   1744\u001B[0m \u001B[43m\u001B[49m\u001B[43m)\u001B[49m\n\u001B[1;32m   1745\u001B[0m \u001B[38;5;28;01massert\u001B[39;00m \u001B[38;5;28mself\u001B[39m\u001B[38;5;241m.\u001B[39mhandles \u001B[38;5;129;01mis\u001B[39;00m \u001B[38;5;129;01mnot\u001B[39;00m \u001B[38;5;28;01mNone\u001B[39;00m\n\u001B[1;32m   1746\u001B[0m f \u001B[38;5;241m=\u001B[39m \u001B[38;5;28mself\u001B[39m\u001B[38;5;241m.\u001B[39mhandles\u001B[38;5;241m.\u001B[39mhandle\n",
      "File \u001B[0;32m/opt/miniconda3/envs/llm_eval/lib/python3.11/site-packages/pandas/io/common.py:856\u001B[0m, in \u001B[0;36mget_handle\u001B[0;34m(path_or_buf, mode, encoding, compression, memory_map, is_text, errors, storage_options)\u001B[0m\n\u001B[1;32m    851\u001B[0m \u001B[38;5;28;01melif\u001B[39;00m \u001B[38;5;28misinstance\u001B[39m(handle, \u001B[38;5;28mstr\u001B[39m):\n\u001B[1;32m    852\u001B[0m     \u001B[38;5;66;03m# Check whether the filename is to be opened in binary mode.\u001B[39;00m\n\u001B[1;32m    853\u001B[0m     \u001B[38;5;66;03m# Binary mode does not support 'encoding' and 'newline'.\u001B[39;00m\n\u001B[1;32m    854\u001B[0m     \u001B[38;5;28;01mif\u001B[39;00m ioargs\u001B[38;5;241m.\u001B[39mencoding \u001B[38;5;129;01mand\u001B[39;00m \u001B[38;5;124m\"\u001B[39m\u001B[38;5;124mb\u001B[39m\u001B[38;5;124m\"\u001B[39m \u001B[38;5;129;01mnot\u001B[39;00m \u001B[38;5;129;01min\u001B[39;00m ioargs\u001B[38;5;241m.\u001B[39mmode:\n\u001B[1;32m    855\u001B[0m         \u001B[38;5;66;03m# Encoding\u001B[39;00m\n\u001B[0;32m--> 856\u001B[0m         handle \u001B[38;5;241m=\u001B[39m \u001B[38;5;28mopen\u001B[39m(\n\u001B[1;32m    857\u001B[0m             handle,\n\u001B[1;32m    858\u001B[0m             ioargs\u001B[38;5;241m.\u001B[39mmode,\n\u001B[1;32m    859\u001B[0m             encoding\u001B[38;5;241m=\u001B[39mioargs\u001B[38;5;241m.\u001B[39mencoding,\n\u001B[1;32m    860\u001B[0m             errors\u001B[38;5;241m=\u001B[39merrors,\n\u001B[1;32m    861\u001B[0m             newline\u001B[38;5;241m=\u001B[39m\u001B[38;5;124m\"\u001B[39m\u001B[38;5;124m\"\u001B[39m,\n\u001B[1;32m    862\u001B[0m         )\n\u001B[1;32m    863\u001B[0m     \u001B[38;5;28;01melse\u001B[39;00m:\n\u001B[1;32m    864\u001B[0m         \u001B[38;5;66;03m# Binary mode\u001B[39;00m\n\u001B[1;32m    865\u001B[0m         handle \u001B[38;5;241m=\u001B[39m \u001B[38;5;28mopen\u001B[39m(handle, ioargs\u001B[38;5;241m.\u001B[39mmode)\n",
      "\u001B[0;31mFileNotFoundError\u001B[0m: [Errno 2] No such file or directory: './data/GO_term_analysis/model_compare/combined_scores_df.tsv'"
     ]
    }
   ],
   "execution_count": 10
  },
  {
   "cell_type": "code",
   "execution_count": null,
   "metadata": {},
   "outputs": [],
   "source": []
  }
 ],
 "metadata": {
  "kernelspec": {
   "display_name": "llm",
   "language": "python",
   "name": "python3"
  },
  "language_info": {
   "codemirror_mode": {
    "name": "ipython",
    "version": 3
   },
   "file_extension": ".py",
   "mimetype": "text/x-python",
   "name": "python",
   "nbconvert_exporter": "python",
   "pygments_lexer": "ipython3",
   "version": "3.11.5"
  },
  "orig_nbformat": 4
 },
 "nbformat": 4,
 "nbformat_minor": 2
}
