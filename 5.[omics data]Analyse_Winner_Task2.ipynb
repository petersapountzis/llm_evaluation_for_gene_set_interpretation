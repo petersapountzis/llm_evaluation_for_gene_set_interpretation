{
 "cells": [
  {
   "cell_type": "raw",
   "id": "07021c8a-1e83-476a-8369-ea4516afc070",
   "metadata": {},
   "source": [
    "separate into two scripts\n",
    "1) Analyse LLM_enrichr analyses\n",
    "2) Analyse human consensus\n",
    "\n",
    "put before reference finder"
   ]
  },
  {
   "cell_type": "code",
   "execution_count": null,
   "id": "84d5c835-41b7-4e9b-8ff7-727510b7ca73",
   "metadata": {},
   "outputs": [],
   "source": [
    "Evaluates the human consensus and merges files and adds descriptive columns\n",
    "Requires blinded human determination from panel"
   ]
  },
  {
   "cell_type": "code",
   "execution_count": 4,
   "id": "9080a477-75d1-4a83-948a-6c94b2e1b20c",
   "metadata": {},
   "outputs": [
    {
     "data": {
      "text/plain": [
       "               _                           \n",
       "platform       x86_64-apple-darwin17.0     \n",
       "arch           x86_64                      \n",
       "os             darwin17.0                  \n",
       "system         x86_64, darwin17.0          \n",
       "status                                     \n",
       "major          4                           \n",
       "minor          2.2                         \n",
       "year           2022                        \n",
       "month          10                          \n",
       "day            31                          \n",
       "svn rev        83211                       \n",
       "language       R                           \n",
       "version.string R version 4.2.2 (2022-10-31)\n",
       "nickname       Innocent and Trusting       "
      ]
     },
     "metadata": {},
     "output_type": "display_data"
    }
   ],
   "source": [
    "version"
   ]
  },
  {
   "cell_type": "code",
   "execution_count": null,
   "id": "f235cbd6-60dd-4ce6-b18b-fbefdd5a721c",
   "metadata": {},
   "outputs": [],
   "source": []
  },
  {
   "cell_type": "code",
   "execution_count": 1,
   "id": "7137472c-c5a5-4f67-8852-fb33674ef685",
   "metadata": {
    "tags": [],
    "vscode": {
     "languageId": "r"
    }
   },
   "outputs": [
    {
     "name": "stderr",
     "output_type": "stream",
     "text": [
      "── \u001b[1mAttaching core tidyverse packages\u001b[22m ─────────────────────────────────────────────────────────────────────────────────────────────────────────────── tidyverse 2.0.0 ──\n",
      "\u001b[32m✔\u001b[39m \u001b[34mdplyr    \u001b[39m 1.1.2     \u001b[32m✔\u001b[39m \u001b[34mreadr    \u001b[39m 2.1.4\n",
      "\u001b[32m✔\u001b[39m \u001b[34mforcats  \u001b[39m 1.0.0     \u001b[32m✔\u001b[39m \u001b[34mstringr  \u001b[39m 1.5.0\n",
      "\u001b[32m✔\u001b[39m \u001b[34mggplot2  \u001b[39m 3.4.2     \u001b[32m✔\u001b[39m \u001b[34mtibble   \u001b[39m 3.2.1\n",
      "\u001b[32m✔\u001b[39m \u001b[34mlubridate\u001b[39m 1.9.2     \u001b[32m✔\u001b[39m \u001b[34mtidyr    \u001b[39m 1.3.0\n",
      "\u001b[32m✔\u001b[39m \u001b[34mpurrr    \u001b[39m 1.0.1     \n",
      "── \u001b[1mConflicts\u001b[22m ───────────────────────────────────────────────────────────────────────────────────────────────────────────────────────────────── tidyverse_conflicts() ──\n",
      "\u001b[31m✖\u001b[39m \u001b[34mdplyr\u001b[39m::\u001b[32marrange()\u001b[39m   masks \u001b[34mplyr\u001b[39m::arrange()\n",
      "\u001b[31m✖\u001b[39m \u001b[34mpurrr\u001b[39m::\u001b[32mcompact()\u001b[39m   masks \u001b[34mplyr\u001b[39m::compact()\n",
      "\u001b[31m✖\u001b[39m \u001b[34mdplyr\u001b[39m::\u001b[32mcount()\u001b[39m     masks \u001b[34mplyr\u001b[39m::count()\n",
      "\u001b[31m✖\u001b[39m \u001b[34mdplyr\u001b[39m::\u001b[32mdesc()\u001b[39m      masks \u001b[34mplyr\u001b[39m::desc()\n",
      "\u001b[31m✖\u001b[39m \u001b[34mdplyr\u001b[39m::\u001b[32mfailwith()\u001b[39m  masks \u001b[34mplyr\u001b[39m::failwith()\n",
      "\u001b[31m✖\u001b[39m \u001b[34mdplyr\u001b[39m::\u001b[32mfilter()\u001b[39m    masks \u001b[34mstats\u001b[39m::filter()\n",
      "\u001b[31m✖\u001b[39m \u001b[34mdplyr\u001b[39m::\u001b[32mid()\u001b[39m        masks \u001b[34mplyr\u001b[39m::id()\n",
      "\u001b[31m✖\u001b[39m \u001b[34mdplyr\u001b[39m::\u001b[32mlag()\u001b[39m       masks \u001b[34mstats\u001b[39m::lag()\n",
      "\u001b[31m✖\u001b[39m \u001b[34mdplyr\u001b[39m::\u001b[32mmutate()\u001b[39m    masks \u001b[34mplyr\u001b[39m::mutate()\n",
      "\u001b[31m✖\u001b[39m \u001b[34mdplyr\u001b[39m::\u001b[32mrename()\u001b[39m    masks \u001b[34mplyr\u001b[39m::rename()\n",
      "\u001b[31m✖\u001b[39m \u001b[34mdplyr\u001b[39m::\u001b[32msummarise()\u001b[39m masks \u001b[34mplyr\u001b[39m::summarise()\n",
      "\u001b[31m✖\u001b[39m \u001b[34mdplyr\u001b[39m::\u001b[32msummarize()\u001b[39m masks \u001b[34mplyr\u001b[39m::summarize()\n",
      "\u001b[36mℹ\u001b[39m Use the conflicted package (\u001b[3m\u001b[34m<http://conflicted.r-lib.org/>\u001b[39m\u001b[23m) to force all conflicts to become errors\n",
      "\n",
      "Attaching package: ‘ggpubr’\n",
      "\n",
      "\n",
      "The following object is masked from ‘package:plyr’:\n",
      "\n",
      "    mutate\n",
      "\n",
      "\n"
     ]
    }
   ],
   "source": [
    "library(plyr)\n",
    "library(tidyverse)\n",
    "library(readxl)\n",
    "library(ggpubr)"
   ]
  },
  {
   "cell_type": "code",
   "execution_count": 2,
   "id": "031a4695-5dfb-4ab4-ae7e-b9aa6fdb3842",
   "metadata": {
    "tags": [],
    "vscode": {
     "languageId": "r"
    }
   },
   "outputs": [],
   "source": [
    "`%notin%` <- Negate(`%in%`)"
   ]
  },
  {
   "cell_type": "code",
   "execution_count": null,
   "id": "819995fb-daff-4bfe-b668-0c43b9fcc2fd",
   "metadata": {},
   "outputs": [],
   "source": [
    "runVersion = \"test\""
   ]
  },
  {
   "cell_type": "code",
   "execution_count": null,
   "id": "973ab4a2-2da1-4440-a637-b00c8613611a",
   "metadata": {
    "tags": [],
    "vscode": {
     "languageId": "r"
    }
   },
   "outputs": [],
   "source": [
    "MSigDB_unmaskingDict <- c(\"Name A\"=\"LLM\", \"Name B\"= \"GO\", \"Neither\" = \"Neither\", \"Tied\" = \"Tied\")"
   ]
  },
  {
   "cell_type": "code",
   "execution_count": null,
   "id": "dbfc0a76-09c3-49be-889a-61a289d1d2a6",
   "metadata": {
    "tags": [],
    "vscode": {
     "languageId": "r"
    }
   },
   "outputs": [],
   "source": [
    "NeST_unmaskingDict <- c(\"Name B\"=\"LLM\", \"Name A\"= \"GO\",  \"Neither\" = \"Neither\", \"Tied\" = \"Tied\")"
   ]
  },
  {
   "cell_type": "code",
   "execution_count": null,
   "id": "776685f3-9cfd-4844-b6ed-f13b764b98f7",
   "metadata": {
    "vscode": {
     "languageId": "r"
    }
   },
   "outputs": [],
   "source": [
    "## read in answers from google sheet - human input"
   ]
  },
  {
   "cell_type": "code",
   "execution_count": null,
   "id": "156a2b49-5b0a-4ade-9f87-ab93f42571c0",
   "metadata": {
    "tags": [],
    "vscode": {
     "languageId": "r"
    }
   },
   "outputs": [],
   "source": [
    "getHumanConsensus = function(Winner_human1,Winner_human2,  Winner_human3, OverridingDecision = NaN ){\n",
    "  # dataframe row \n",
    "  if (!is.na(OverridingDecision)){\n",
    "    humanConsensus = OverridingDecision\n",
    "  } else {\n",
    "    winnerList =  c(Winner_human1, Winner_human2,Winner_human3 )\n",
    "    sortedCounts = sort(table(winnerList), decreasing = TRUE)\n",
    "    if  (sortedCounts[1] ==1){\n",
    "      # all are tied\n",
    "        if ((\"Tied\" %in% winnerList) & (\"Neither\" %in% winnerList) ){\n",
    "            humanConsensus = \"Neither\" # Neither is stronger than Tied\n",
    "      } else if (\"Tied\" %in% winnerList){\n",
    "        humanConsensus = \"Tied\"\n",
    "      } else if (\"Neither\" %in% winnerList){\n",
    "        humanConsensus = \"Neither\"\n",
    "      } else {\n",
    "        humanConsensus = \"need help\"\n",
    "      }\n",
    "      \n",
    "    } else {\n",
    "      \n",
    "   # print(sortedCounts)\n",
    "      humanConsensus = names(sortedCounts[1] )\n",
    "      \n",
    "    }\n",
    "  }\n",
    "  \n",
    "  return(humanConsensus)\n",
    "}\n"
   ]
  },
  {
   "cell_type": "code",
   "execution_count": null,
   "id": "985532a7-072f-48fc-9300-30f1e09b4fa6",
   "metadata": {
    "vscode": {
     "languageId": "r"
    }
   },
   "outputs": [],
   "source": [
    "getSetSize = function(genesStr){\n",
    "    geneList = str_split(string = genesStr, pattern = \"[, ]\")[[1]]\n",
    "    return(length(geneList))\n",
    "}"
   ]
  },
  {
   "cell_type": "markdown",
   "id": "fa56d4eb-23e6-4001-a03a-6eb2d26a1ae9",
   "metadata": {},
   "source": [
    "#### NeST"
   ]
  },
  {
   "cell_type": "code",
   "execution_count": null,
   "id": "141cfbef-879e-4b7c-a090-9c742f2b06af",
   "metadata": {
    "tags": [],
    "vscode": {
     "languageId": "r"
    }
   },
   "outputs": [],
   "source": [
    "LLM_human_NeST = read_xlsx(path = 'data/NeST blinded.xlsx', sheet = 'Sheet1')\n"
   ]
  },
  {
   "cell_type": "code",
   "execution_count": null,
   "id": "ef10820b-e642-4640-b1bf-383061362c4c",
   "metadata": {
    "vscode": {
     "languageId": "r"
    }
   },
   "outputs": [],
   "source": [
    "LLM_human_NeST = LLM_human_NeST %>% \n",
    "mutate(DataSet = \"NeST\") %>%\n",
    "rowwise() %>%\n",
    "mutate(humanConsensusMasked = getHumanConsensus(Winner_human1,Winner_human2,  Winner_human3, OverridingDecision )) %>%\n",
    "mutate(humanConsensus = NeST_unmaskingDict[ humanConsensusMasked])"
   ]
  },
  {
   "cell_type": "code",
   "execution_count": null,
   "id": "d10b9e85-8238-431f-9989-d4b281c10d0e",
   "metadata": {
    "vscode": {
     "languageId": "r"
    }
   },
   "outputs": [],
   "source": [
    "table(LLM_human_NeST$humanConsensus)"
   ]
  },
  {
   "cell_type": "code",
   "execution_count": null,
   "id": "3fc0a7bf-6e9a-47ce-a590-2990776e5ac7",
   "metadata": {},
   "outputs": [],
   "source": []
  },
  {
   "cell_type": "markdown",
   "id": "69d9d53b-b5b9-42b2-ab5c-967932fff4dc",
   "metadata": {
    "tags": []
   },
   "source": [
    "#### MSigDB"
   ]
  },
  {
   "cell_type": "code",
   "execution_count": null,
   "id": "b84c9214-9f64-46b5-8355-d107d66b8d54",
   "metadata": {
    "vscode": {
     "languageId": "r"
    }
   },
   "outputs": [],
   "source": [
    "LLM_human_MSigDB = read_xlsx(path = 'data/MSigDB blinded.xlsx', sheet = 'Sheet1') \n"
   ]
  },
  {
   "cell_type": "code",
   "execution_count": null,
   "id": "da4b8f0f-a0c9-4d75-b163-80ca13e7b753",
   "metadata": {
    "vscode": {
     "languageId": "r"
    }
   },
   "outputs": [],
   "source": [
    "dim(LLM_human_MSigDB)"
   ]
  },
  {
   "cell_type": "code",
   "execution_count": null,
   "id": "78ae375b-0b59-4d40-adce-2ddcf480a67d",
   "metadata": {
    "tags": [],
    "vscode": {
     "languageId": "r"
    }
   },
   "outputs": [],
   "source": [
    "LLM_human_MSigDB = LLM_human_MSigDB %>% \n",
    "mutate(DataSet = \"MSigDB\") %>%\n",
    "rowwise() %>%\n",
    "mutate(humanConsensusMasked = getHumanConsensus(Winner_human1,Winner_human2,  Winner_human3 )) %>%\n",
    "mutate(humanConsensus = MSigDB_unmaskingDict[ humanConsensusMasked])"
   ]
  },
  {
   "cell_type": "code",
   "execution_count": null,
   "id": "198d1689-86c5-4a2a-b4ed-2e47ca2c1e65",
   "metadata": {
    "tags": [],
    "vscode": {
     "languageId": "r"
    }
   },
   "outputs": [],
   "source": [
    "table(LLM_human_MSigDB$humanConsensus)"
   ]
  },
  {
   "cell_type": "markdown",
   "id": "6dfed48a-a7d2-4fa5-aae2-d0203d018464",
   "metadata": {
    "tags": []
   },
   "source": [
    "runVersion### Read in the semantic analyses"
   ]
  },
  {
   "cell_type": "code",
   "execution_count": null,
   "id": "092ee045-d232-48f6-8846-39912cf4f8b7",
   "metadata": {},
   "outputs": [],
   "source": [
    "runVersion"
   ]
  },
  {
   "cell_type": "code",
   "execution_count": null,
   "id": "c1efc6fa-44a9-4350-a296-f505a7a12b9d",
   "metadata": {
    "tags": []
   },
   "outputs": [],
   "source": [
    "MSigDB_table_sub_LLM_Enrichr_simVals_DF = read_delim(\"data/MSigDB_table_subset_LLM_Enrichr_simVals_refs_DF.txt\", delim = \"\\t\")\n"
   ]
  },
  {
   "cell_type": "code",
   "execution_count": null,
   "id": "248f2c1a-12d6-4e19-b657-aaa0db83cfa8",
   "metadata": {
    "tags": []
   },
   "outputs": [],
   "source": [
    "if (runVersion == \"test\"){\n",
    "    MSigDB_table_sub_LLM_Enrichr_simVals_DF = read_delim(\"data/MSigDB_table_subset_LLM_Enrichr_simVals_refs_DF.txt\", delim = \"\\t\")\n",
    "} else {\n",
    "    MSigDB_table_sub_LLM_Enrichr_simVals_DF = read_delim(\"data/MSigDB_table_LLM_Enrichr_simVals_refs_DF.txt\", delim = \"\\t\")\n",
    "    }"
   ]
  },
  {
   "cell_type": "code",
   "execution_count": null,
   "id": "bcff5eb4-0d14-4e36-9389-7898705d4976",
   "metadata": {
    "tags": [],
    "vscode": {
     "languageId": "r"
    }
   },
   "outputs": [],
   "source": [
    "MSigDB_table_sub_LLM_Enrichr_simVals_DF = rename(MSigDB_table_sub_LLM_Enrichr_simVals_DF, \n",
    "                                               c(\"Human Name\" =\"Name\",\n",
    "                                                \"Enrichr genes\" = \"Genes.1\"))"
   ]
  },
  {
   "cell_type": "code",
   "execution_count": null,
   "id": "8fb1fffc-4c30-47cb-93f6-db1160ef3a0b",
   "metadata": {
    "vscode": {
     "languageId": "r"
    }
   },
   "outputs": [],
   "source": [
    "MSigDB_table_sub_LLM_Enrichr_simVals_DF = MSigDB_table_sub_LLM_Enrichr_simVals_DF %>%\n",
    "rowwise() %>%\n",
    "mutate(n_Genes = getSetSize(`Genes`),\n",
    "      log2_n_Genes = log2(n_Genes))"
   ]
  },
  {
   "cell_type": "markdown",
   "id": "3e9d72af-32a5-466c-b37f-83561444f26c",
   "metadata": {
    "vscode": {
     "languageId": "r"
    }
   },
   "source": [
    "#### NeST"
   ]
  },
  {
   "cell_type": "code",
   "execution_count": null,
   "id": "d34be00b-6363-42b9-a416-97580f78fdf4",
   "metadata": {
    "tags": []
   },
   "outputs": [],
   "source": [
    "if (runVersion == \"test\"){\n",
    "    NeST_table_sub_LLM_Enrichr_simVals_DF = read_delim(\"data/NeST_table_subset_LLM_Enrichr_simVals_refs_DF.txt\", delim = \"\\t\")\n",
    "} else {\n",
    "    NeST_table_sub_LLM_Enrichr_simVals_DF = read_delim(\"data/NeST_table_LLM_Enrichr_simVals_refs_DF.txt\", delim = \"\\t\")\n",
    "    }"
   ]
  },
  {
   "cell_type": "code",
   "execution_count": null,
   "id": "44053d08-4fef-45a8-b704-41f12602b71d",
   "metadata": {},
   "outputs": [],
   "source": [
    "NeST_table_sub_LLM_Enrichr_simVals_DF = rename(NeST_table_sub_LLM_Enrichr_simVals_DF, \n",
    "                                            c( \"Enrichr genes\" = \"Genes.1\"))"
   ]
  },
  {
   "cell_type": "code",
   "execution_count": null,
   "id": "8a659a3c-3d1c-49eb-82f2-f1f87e26b226",
   "metadata": {
    "vscode": {
     "languageId": "r"
    }
   },
   "outputs": [],
   "source": [
    "NeST_table_sub_LLM_Enrichr_simVals_DF = NeST_table_sub_LLM_Enrichr_simVals_DF %>%\n",
    "rowwise() %>%\n",
    "mutate(n_Genes = getSetSize(`Genes`),\n",
    "      log2_n_Genes = log2(n_Genes))"
   ]
  },
  {
   "cell_type": "markdown",
   "id": "97552ad4-f087-4a7d-b255-9983174637da",
   "metadata": {},
   "source": [
    "### Join the dataframe together"
   ]
  },
  {
   "cell_type": "code",
   "execution_count": null,
   "id": "1a7034a3-94f1-46e3-b8ac-60e737b7ac97",
   "metadata": {
    "vscode": {
     "languageId": "r"
    }
   },
   "outputs": [],
   "source": [
    "NeST_analysis_DF = inner_join(x = NeST_table_sub_LLM_Enrichr_simVals_DF[,c(\"NEST ID\", \"Genes\", \"LLM Name\", \"LLM Analysis\", \"References\",\n",
    "                                      \"GO term\", \"GO ID\", \"Enrichr genes\", \"Overlap\", \"P-value\", \"Adjusted P-value\", \n",
    "                                      \"LLM_name_human_name_sim\", \"GO_term_human_name_sim\", \"winner\", \n",
    "                                      \"n_Genes\", \"log2_n_Genes\")],\n",
    "                              y = LLM_human_NeST[,c(\"NEST ID\", \"Human Name\", \"humanConsensus\", \"OverridingDecision\", \"DataSet\")],\n",
    "                              by = \"NEST ID\")\n",
    "                                  "
   ]
  },
  {
   "cell_type": "code",
   "execution_count": null,
   "id": "0378825f-7e72-45fc-9fb8-693fcc00c8bf",
   "metadata": {
    "tags": [],
    "vscode": {
     "languageId": "r"
    }
   },
   "outputs": [],
   "source": [
    "MSigDB_analysis_DF = inner_join(x = MSigDB_table_sub_LLM_Enrichr_simVals_DF[,c(\"Human Name\", \"Genes\", \"LLM Name\", \"LLM Analysis\", \"References\",\n",
    "                                      \"GO term\", \"GO ID\", \"Enrichr genes\", \"Overlap\", \"P-value\", \"Adjusted P-value\", \n",
    "                                      \"LLM_name_human_name_sim\", \"GO_term_human_name_sim\", \"winner\", \n",
    "                                      \"n_Genes\", \"log2_n_Genes\")],\n",
    "                              y = LLM_human_MSigDB[,c(\"Human Name\", \"humanConsensus\", \"DataSet\")],\n",
    "                                 by =  \"Human Name\")\n",
    "                                  "
   ]
  },
  {
   "cell_type": "code",
   "execution_count": null,
   "id": "21eec8dc-ec01-44be-8ebb-9d9c6c84574e",
   "metadata": {
    "vscode": {
     "languageId": "r"
    }
   },
   "outputs": [],
   "source": [
    "merged_analysis_DF = rbind.fill(NeST_analysis_DF,MSigDB_analysis_DF)"
   ]
  },
  {
   "cell_type": "code",
   "execution_count": null,
   "id": "92fe4622-f1c0-416f-ab41-01f2ad92fccf",
   "metadata": {
    "vscode": {
     "languageId": "r"
    }
   },
   "outputs": [],
   "source": [
    "merged_analysis_DF = merged_analysis_DF %>%\n",
    "rowwise() %>%\n",
    "mutate(log2_rat_LLM_GO = log2(LLM_name_human_name_sim/GO_term_human_name_sim),\n",
    "       diff_LLM_GO = LLM_name_human_name_sim - GO_term_human_name_sim)"
   ]
  },
  {
   "cell_type": "code",
   "execution_count": null,
   "id": "07809655-8030-4d1c-b91c-9328c7ccdf0e",
   "metadata": {
    "vscode": {
     "languageId": "r"
    }
   },
   "outputs": [],
   "source": [
    "merged_analysis_DF$humanConsensus <- factor(merged_analysis_DF$humanConsensus, levels=c(\"LLM\", \"GO\", \"Tied\", \"Neither\"))\n"
   ]
  },
  {
   "cell_type": "code",
   "execution_count": null,
   "id": "d809d61a-3969-4d9b-99f9-2918d83758f3",
   "metadata": {
    "vscode": {
     "languageId": "r"
    }
   },
   "outputs": [],
   "source": [
    "merged_analysis_DF$winner <- factor(merged_analysis_DF$winner, levels=c(\"LLM\", \"GO\", \"Tied\", \"Neither\"))\n"
   ]
  },
  {
   "cell_type": "code",
   "execution_count": null,
   "id": "2aaab816-298b-4a7e-a45f-95093c9d42be",
   "metadata": {},
   "outputs": [],
   "source": [
    "if (runVersion == \"test\"){\n",
    "    mergedFile = \"data/merged_subset_LLM_Enrichr_simVals_refs.txt\"\n",
    "} else {\n",
    "    mergedFile = \"data/merged_LLM_Enrichr_simVals_refs.txt\"\n",
    "}\n",
    "\n",
    "    \n",
    "    \n"
   ]
  },
  {
   "cell_type": "code",
   "execution_count": null,
   "id": "b5f10c1c-86ea-41ba-abb6-360be5ce6013",
   "metadata": {
    "vscode": {
     "languageId": "r"
    }
   },
   "outputs": [],
   "source": [
    "write_delim(x = merged_analysis_DF[,c('DataSet','Human Name', 'NEST ID', 'Genes', 'n_Genes', 'log2_n_Genes',\n",
    "                                     'GO term','GO ID','Enrichr genes', 'Overlap','P-value','Adjusted P-value',\n",
    "                                     'LLM Name','LLM Analysis','References',\n",
    "                                      'LLM_name_human_name_sim', 'GO_term_human_name_sim',\n",
    "                                      'winner','humanConsensus', 'OverridingDecision')],\n",
    "            file = mergedFile, delim = \"\\t\")\n"
   ]
  },
  {
   "cell_type": "code",
   "execution_count": null,
   "id": "a8fdc9bb-0a7b-4b58-b64b-bdcf4e649dea",
   "metadata": {
    "vscode": {
     "languageId": "r"
    }
   },
   "outputs": [],
   "source": [
    "merged_analysis_DF$DataSet"
   ]
  },
  {
   "cell_type": "markdown",
   "id": "888238ab-04ef-4cf0-983d-c61e8a8d3d5f",
   "metadata": {},
   "source": [
    "### Get percentage of genes used in each of LLM and Enrichr"
   ]
  },
  {
   "cell_type": "code",
   "execution_count": null,
   "id": "8ef6507c-bff4-4ebd-8e2c-730027b845d4",
   "metadata": {
    "vscode": {
     "languageId": "r"
    }
   },
   "outputs": [],
   "source": [
    "library(comprehenr)\n"
   ]
  },
  {
   "cell_type": "code",
   "execution_count": null,
   "id": "b4727194-9091-4a61-9d76-7e61fc69fbd2",
   "metadata": {
    "vscode": {
     "languageId": "r"
    }
   },
   "outputs": [],
   "source": [
    "getEnrichrGeneCount = function(systemGenes, Enrichr_Genes){\n",
    "    systemGenesList = str_split(string = systemGenes, pattern = \" \")[[1]];\n",
    "    Enrichr_GenesList = str_split(string = Enrichr_Genes, pattern = \";\")[[1]];\n",
    "    return(length(intersect(systemGenesList, Enrichr_GenesList)))\n",
    "    }\n",
    "    "
   ]
  },
  {
   "cell_type": "code",
   "execution_count": null,
   "id": "c0c81098-a13f-4972-ba70-83282db73579",
   "metadata": {
    "vscode": {
     "languageId": "r"
    }
   },
   "outputs": [],
   "source": [
    "getLLMGeneCount  = function(GenesFixed, LLM_Analysis){\n",
    "    systemGenesList = str_split(string = GenesFixed, pattern = \" \")[[1]];\n",
    "    \n",
    "    n_LLMGenes = to_vec(for(systemGene in systemGenesList) str_detect(string = LLM_Analysis, pattern = systemGene)) %>%\n",
    "           sum()\n",
    "        \n",
    "    return(n_LLMGenes)\n",
    "\n",
    "\n",
    "    }"
   ]
  },
  {
   "cell_type": "code",
   "execution_count": null,
   "id": "b08b930a-aa04-45d9-bc75-dec02948242c",
   "metadata": {
    "tags": [],
    "vscode": {
     "languageId": "r"
    }
   },
   "outputs": [],
   "source": [
    "merged_analysis_DF = merged_analysis_DF %>% \n",
    "rowwise() %>%\n",
    "mutate(GenesFixed = str_replace_all(string = `Genes`, pattern = \",\", replacement = \" \"),\n",
    "      n_overlap_Enrichr = getEnrichrGeneCount(`GenesFixed`, `Enrichr genes`),\n",
    "      perc_overlap_Enrichr = 100*(n_overlap_Enrichr/n_Genes),\n",
    "      n_overlap_LLM = getLLMGeneCount(`GenesFixed`, `LLM Analysis`),\n",
    "      perc_overlap_LLM = 100*(n_overlap_LLM/n_Genes))\n",
    "  "
   ]
  },
  {
   "cell_type": "code",
   "execution_count": null,
   "id": "315ee151-86ca-40a1-ba0e-812f5e90efc5",
   "metadata": {
    "vscode": {
     "languageId": "r"
    }
   },
   "outputs": [],
   "source": [
    "write_delim(x = merged_analysis_DF[,c('DataSet','Human Name', 'NEST ID', 'GenesFixed', 'n_Genes', 'log2_n_Genes',\n",
    "                                     'GO term','GO ID','Enrichr genes', 'n_overlap_Enrichr', 'perc_overlap_Enrichr','P-value','Adjusted P-value',\n",
    "                                     'LLM Name','LLM Analysis','n_overlap_LLM','perc_overlap_LLM', 'References',\n",
    "                                      'LLM_name_human_name_sim', 'GO_term_human_name_sim',\n",
    "                                      'winner','humanConsensus', 'OverridingDecision')],\n",
    "            file = mergedFile, delim = \"\\t\")"
   ]
  },
  {
   "cell_type": "code",
   "execution_count": null,
   "id": "37d7f0f3-a3ba-44b1-ad49-cd4690f36462",
   "metadata": {},
   "outputs": [],
   "source": []
  }
 ],
 "metadata": {
  "kernelspec": {
   "display_name": "R",
   "language": "R",
   "name": "ir"
  },
  "language_info": {
   "codemirror_mode": "r",
   "file_extension": ".r",
   "mimetype": "text/x-r-source",
   "name": "R",
   "pygments_lexer": "r",
   "version": "4.2.2"
  }
 },
 "nbformat": 4,
 "nbformat_minor": 5
}
