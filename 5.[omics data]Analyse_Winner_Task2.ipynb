{
 "cells": [
  {
   "cell_type": "raw",
   "id": "07021c8a-1e83-476a-8369-ea4516afc070",
   "metadata": {},
   "source": [
    "Evaluates the human consensus and merges files and adds descriptive columns\n",
    "Requires blinded human determination from panel"
   ]
  },
  {
   "cell_type": "code",
   "execution_count": 1,
   "id": "7137472c-c5a5-4f67-8852-fb33674ef685",
   "metadata": {
    "tags": [],
    "vscode": {
     "languageId": "r"
    }
   },
   "outputs": [
    {
     "name": "stderr",
     "output_type": "stream",
     "text": [
      "── \u001b[1mAttaching core tidyverse packages\u001b[22m ────────────────────────────────────────── tidyverse 2.0.0 ──\n",
      "\u001b[32m✔\u001b[39m \u001b[34mdplyr    \u001b[39m 1.1.2     \u001b[32m✔\u001b[39m \u001b[34mreadr    \u001b[39m 2.1.4\n",
      "\u001b[32m✔\u001b[39m \u001b[34mforcats  \u001b[39m 1.0.0     \u001b[32m✔\u001b[39m \u001b[34mstringr  \u001b[39m 1.5.0\n",
      "\u001b[32m✔\u001b[39m \u001b[34mggplot2  \u001b[39m 3.4.2     \u001b[32m✔\u001b[39m \u001b[34mtibble   \u001b[39m 3.2.1\n",
      "\u001b[32m✔\u001b[39m \u001b[34mlubridate\u001b[39m 1.9.2     \u001b[32m✔\u001b[39m \u001b[34mtidyr    \u001b[39m 1.3.0\n",
      "\u001b[32m✔\u001b[39m \u001b[34mpurrr    \u001b[39m 1.0.1     \n",
      "── \u001b[1mConflicts\u001b[22m ──────────────────────────────────────────────────────────── tidyverse_conflicts() ──\n",
      "\u001b[31m✖\u001b[39m \u001b[34mdplyr\u001b[39m::\u001b[32marrange()\u001b[39m   masks \u001b[34mplyr\u001b[39m::arrange()\n",
      "\u001b[31m✖\u001b[39m \u001b[34mpurrr\u001b[39m::\u001b[32mcompact()\u001b[39m   masks \u001b[34mplyr\u001b[39m::compact()\n",
      "\u001b[31m✖\u001b[39m \u001b[34mdplyr\u001b[39m::\u001b[32mcount()\u001b[39m     masks \u001b[34mplyr\u001b[39m::count()\n",
      "\u001b[31m✖\u001b[39m \u001b[34mdplyr\u001b[39m::\u001b[32mdesc()\u001b[39m      masks \u001b[34mplyr\u001b[39m::desc()\n",
      "\u001b[31m✖\u001b[39m \u001b[34mdplyr\u001b[39m::\u001b[32mfailwith()\u001b[39m  masks \u001b[34mplyr\u001b[39m::failwith()\n",
      "\u001b[31m✖\u001b[39m \u001b[34mdplyr\u001b[39m::\u001b[32mfilter()\u001b[39m    masks \u001b[34mstats\u001b[39m::filter()\n",
      "\u001b[31m✖\u001b[39m \u001b[34mdplyr\u001b[39m::\u001b[32mid()\u001b[39m        masks \u001b[34mplyr\u001b[39m::id()\n",
      "\u001b[31m✖\u001b[39m \u001b[34mdplyr\u001b[39m::\u001b[32mlag()\u001b[39m       masks \u001b[34mstats\u001b[39m::lag()\n",
      "\u001b[31m✖\u001b[39m \u001b[34mdplyr\u001b[39m::\u001b[32mmutate()\u001b[39m    masks \u001b[34mplyr\u001b[39m::mutate()\n",
      "\u001b[31m✖\u001b[39m \u001b[34mdplyr\u001b[39m::\u001b[32mrename()\u001b[39m    masks \u001b[34mplyr\u001b[39m::rename()\n",
      "\u001b[31m✖\u001b[39m \u001b[34mdplyr\u001b[39m::\u001b[32msummarise()\u001b[39m masks \u001b[34mplyr\u001b[39m::summarise()\n",
      "\u001b[31m✖\u001b[39m \u001b[34mdplyr\u001b[39m::\u001b[32msummarize()\u001b[39m masks \u001b[34mplyr\u001b[39m::summarize()\n",
      "\u001b[36mℹ\u001b[39m Use the conflicted package (\u001b[3m\u001b[34m<http://conflicted.r-lib.org/>\u001b[39m\u001b[23m) to force all conflicts to become errors\n",
      "\n",
      "Attaching package: ‘ggpubr’\n",
      "\n",
      "\n",
      "The following object is masked from ‘package:plyr’:\n",
      "\n",
      "    mutate\n",
      "\n",
      "\n"
     ]
    }
   ],
   "source": [
    "library(plyr)\n",
    "library(tidyverse)\n",
    "library(readxl)\n",
    "library(ggpubr)"
   ]
  },
  {
   "cell_type": "code",
   "execution_count": 2,
   "id": "031a4695-5dfb-4ab4-ae7e-b9aa6fdb3842",
   "metadata": {
    "tags": [],
    "vscode": {
     "languageId": "r"
    }
   },
   "outputs": [],
   "source": [
    "`%notin%` <- Negate(`%in%`)"
   ]
  },
  {
   "cell_type": "code",
   "execution_count": 3,
   "id": "819995fb-daff-4bfe-b668-0c43b9fcc2fd",
   "metadata": {},
   "outputs": [],
   "source": [
    "runVersion = \"test\""
   ]
  },
  {
   "cell_type": "code",
   "execution_count": 4,
   "id": "973ab4a2-2da1-4440-a637-b00c8613611a",
   "metadata": {
    "tags": [],
    "vscode": {
     "languageId": "r"
    }
   },
   "outputs": [],
   "source": [
    "MSigDB_unmaskingDict <- c(\"Name A\"=\"LLM\", \"Name B\"= \"GO\", \"Neither\" = \"Neither\", \"Tied\" = \"Tied\")"
   ]
  },
  {
   "cell_type": "code",
   "execution_count": 5,
   "id": "dbfc0a76-09c3-49be-889a-61a289d1d2a6",
   "metadata": {
    "vscode": {
     "languageId": "r"
    }
   },
   "outputs": [],
   "source": [
    "NeST_unmaskingDict <- c(\"Name B\"=\"LLM\", \"Name A\"= \"GO\",  \"Neither\" = \"Neither\", \"Tied\" = \"Tied\")"
   ]
  },
  {
   "cell_type": "code",
   "execution_count": 6,
   "id": "776685f3-9cfd-4844-b6ed-f13b764b98f7",
   "metadata": {
    "vscode": {
     "languageId": "r"
    }
   },
   "outputs": [],
   "source": [
    "## read in answers from google sheet - human input"
   ]
  },
  {
   "cell_type": "code",
   "execution_count": 7,
   "id": "156a2b49-5b0a-4ade-9f87-ab93f42571c0",
   "metadata": {
    "tags": [],
    "vscode": {
     "languageId": "r"
    }
   },
   "outputs": [],
   "source": [
    "getHumanConsensus = function(Winner_human1,Winner_human2,  Winner_human3, OverridingDecision = NaN ){\n",
    "  # dataframe row \n",
    "  if (!is.na(OverridingDecision)){\n",
    "    humanConsensus = OverridingDecision\n",
    "  } else {\n",
    "    winnerList =  c(Winner_human1, Winner_human2,Winner_human3 )\n",
    "    sortedCounts = sort(table(winnerList), decreasing = TRUE)\n",
    "    if  (sortedCounts[1] ==1){\n",
    "      # all are tied\n",
    "        if ((\"Tied\" %in% winnerList) & (\"Neither\" %in% winnerList) ){\n",
    "            humanConsensus = \"Neither\" # Neither is stronger than Tied\n",
    "      } else if (\"Tied\" %in% winnerList){\n",
    "        humanConsensus = \"Tied\"\n",
    "      } else if (\"Neither\" %in% winnerList){\n",
    "        humanConsensus = \"Neither\"\n",
    "      } else {\n",
    "        humanConsensus = \"need help\"\n",
    "      }\n",
    "      \n",
    "    } else {\n",
    "      \n",
    "   # print(sortedCounts)\n",
    "      humanConsensus = names(sortedCounts[1] )\n",
    "      \n",
    "    }\n",
    "  }\n",
    "  \n",
    "  return(humanConsensus)\n",
    "}\n"
   ]
  },
  {
   "cell_type": "code",
   "execution_count": 8,
   "id": "985532a7-072f-48fc-9300-30f1e09b4fa6",
   "metadata": {
    "vscode": {
     "languageId": "r"
    }
   },
   "outputs": [],
   "source": [
    "getSetSize = function(genesStr){\n",
    "    geneList = str_split(string = genesStr, pattern = \"[, ]\")[[1]]\n",
    "    return(length(geneList))\n",
    "}"
   ]
  },
  {
   "cell_type": "markdown",
   "id": "fa56d4eb-23e6-4001-a03a-6eb2d26a1ae9",
   "metadata": {},
   "source": [
    "#### NeST"
   ]
  },
  {
   "cell_type": "code",
   "execution_count": 9,
   "id": "141cfbef-879e-4b7c-a090-9c742f2b06af",
   "metadata": {
    "tags": [],
    "vscode": {
     "languageId": "r"
    }
   },
   "outputs": [],
   "source": [
    "LLM_human_NeST = read_xlsx(path = 'data/NeST blinded.xlsx', sheet = 'Sheet1')\n"
   ]
  },
  {
   "cell_type": "code",
   "execution_count": 10,
   "id": "ef10820b-e642-4640-b1bf-383061362c4c",
   "metadata": {
    "vscode": {
     "languageId": "r"
    }
   },
   "outputs": [],
   "source": [
    "LLM_human_NeST = LLM_human_NeST %>% \n",
    "mutate(DataSet = \"NeST\") %>%\n",
    "rowwise() %>%\n",
    "mutate(humanConsensusMasked = getHumanConsensus(Winner_human1,Winner_human2,  Winner_human3, OverridingDecision )) %>%\n",
    "mutate(humanConsensus = NeST_unmaskingDict[ humanConsensusMasked])"
   ]
  },
  {
   "cell_type": "code",
   "execution_count": 11,
   "id": "d10b9e85-8238-431f-9989-d4b281c10d0e",
   "metadata": {
    "vscode": {
     "languageId": "r"
    }
   },
   "outputs": [
    {
     "data": {
      "text/plain": [
       "\n",
       "     GO     LLM Neither    Tied \n",
       "     13      18      13       6 "
      ]
     },
     "metadata": {},
     "output_type": "display_data"
    }
   ],
   "source": [
    "table(LLM_human_NeST$humanConsensus)"
   ]
  },
  {
   "cell_type": "code",
   "execution_count": null,
   "id": "3fc0a7bf-6e9a-47ce-a590-2990776e5ac7",
   "metadata": {},
   "outputs": [],
   "source": []
  },
  {
   "cell_type": "markdown",
   "id": "69d9d53b-b5b9-42b2-ab5c-967932fff4dc",
   "metadata": {
    "tags": []
   },
   "source": [
    "#### MSigDB"
   ]
  },
  {
   "cell_type": "code",
   "execution_count": 12,
   "id": "b84c9214-9f64-46b5-8355-d107d66b8d54",
   "metadata": {
    "vscode": {
     "languageId": "r"
    }
   },
   "outputs": [],
   "source": [
    "LLM_human_MSigDB = read_xlsx(path = 'data/MSigDB blinded.xlsx', sheet = 'Sheet1') \n"
   ]
  },
  {
   "cell_type": "code",
   "execution_count": 13,
   "id": "da4b8f0f-a0c9-4d75-b163-80ca13e7b753",
   "metadata": {
    "vscode": {
     "languageId": "r"
    }
   },
   "outputs": [
    {
     "data": {
      "text/html": [
       "<style>\n",
       ".list-inline {list-style: none; margin:0; padding: 0}\n",
       ".list-inline>li {display: inline-block}\n",
       ".list-inline>li:not(:last-child)::after {content: \"\\00b7\"; padding: 0 .5ex}\n",
       "</style>\n",
       "<ol class=list-inline><li>50</li><li>6</li></ol>\n"
      ],
      "text/latex": [
       "\\begin{enumerate*}\n",
       "\\item 50\n",
       "\\item 6\n",
       "\\end{enumerate*}\n"
      ],
      "text/markdown": [
       "1. 50\n",
       "2. 6\n",
       "\n",
       "\n"
      ],
      "text/plain": [
       "[1] 50  6"
      ]
     },
     "metadata": {},
     "output_type": "display_data"
    }
   ],
   "source": [
    "dim(LLM_human_MSigDB)"
   ]
  },
  {
   "cell_type": "code",
   "execution_count": 14,
   "id": "78ae375b-0b59-4d40-adce-2ddcf480a67d",
   "metadata": {
    "tags": [],
    "vscode": {
     "languageId": "r"
    }
   },
   "outputs": [],
   "source": [
    "LLM_human_MSigDB = LLM_human_MSigDB %>% \n",
    "mutate(DataSet = \"MSigDB\") %>%\n",
    "rowwise() %>%\n",
    "mutate(humanConsensusMasked = getHumanConsensus(Winner_human1,Winner_human2,  Winner_human3 )) %>%\n",
    "mutate(humanConsensus = MSigDB_unmaskingDict[ humanConsensusMasked])"
   ]
  },
  {
   "cell_type": "code",
   "execution_count": 15,
   "id": "198d1689-86c5-4a2a-b4ed-2e47ca2c1e65",
   "metadata": {
    "tags": [],
    "vscode": {
     "languageId": "r"
    }
   },
   "outputs": [
    {
     "data": {
      "text/plain": [
       "\n",
       "     GO     LLM Neither    Tied \n",
       "      7      24      10       9 "
      ]
     },
     "metadata": {},
     "output_type": "display_data"
    }
   ],
   "source": [
    "table(LLM_human_MSigDB$humanConsensus)"
   ]
  },
  {
   "cell_type": "markdown",
   "id": "6dfed48a-a7d2-4fa5-aae2-d0203d018464",
   "metadata": {
    "tags": []
   },
   "source": [
    "runVersion### Read in the semantic analyses"
   ]
  },
  {
   "cell_type": "code",
   "execution_count": 16,
   "id": "092ee045-d232-48f6-8846-39912cf4f8b7",
   "metadata": {},
   "outputs": [
    {
     "data": {
      "text/html": [
       "'test'"
      ],
      "text/latex": [
       "'test'"
      ],
      "text/markdown": [
       "'test'"
      ],
      "text/plain": [
       "[1] \"test\""
      ]
     },
     "metadata": {},
     "output_type": "display_data"
    }
   ],
   "source": [
    "runVersion"
   ]
  },
  {
   "cell_type": "code",
   "execution_count": 17,
   "id": "c1efc6fa-44a9-4350-a296-f505a7a12b9d",
   "metadata": {
    "tags": []
   },
   "outputs": [
    {
     "name": "stderr",
     "output_type": "stream",
     "text": [
      "\u001b[1m\u001b[22mNew names:\n",
      "\u001b[36m•\u001b[39m `` -> `...1`\n",
      "\u001b[1mRows: \u001b[22m\u001b[34m3\u001b[39m \u001b[1mColumns: \u001b[22m\u001b[34m21\u001b[39m\n",
      "\u001b[36m──\u001b[39m \u001b[1mColumn specification\u001b[22m \u001b[36m──────────────────────────────────────────────────────────────────────────\u001b[39m\n",
      "\u001b[1mDelimiter:\u001b[22m \"\\t\"\n",
      "\u001b[31mchr\u001b[39m (12): Name, Genes, Genes.1, LLM Name, LLM Analysis, Overlap, Genes.2, Ge...\n",
      "\u001b[32mdbl\u001b[39m  (9): ...1, Unnamed: 0.1, index, Unnamed: 0, Rank, P-value, Adjusted P-v...\n",
      "\n",
      "\u001b[36mℹ\u001b[39m Use `spec()` to retrieve the full column specification for this data.\n",
      "\u001b[36mℹ\u001b[39m Specify the column types or set `show_col_types = FALSE` to quiet this message.\n"
     ]
    }
   ],
   "source": [
    "MSigDB_table_sub_LLM_GSEA_simVals_DF = read_delim(\"data/MSigDB_table_subset_LLM_GSEA_simVals_refs_DF.tsv\", delim = \"\\t\")\n"
   ]
  },
  {
   "cell_type": "code",
   "execution_count": 18,
   "id": "248f2c1a-12d6-4e19-b657-aaa0db83cfa8",
   "metadata": {
    "tags": []
   },
   "outputs": [
    {
     "name": "stderr",
     "output_type": "stream",
     "text": [
      "\u001b[1m\u001b[22mNew names:\n",
      "\u001b[36m•\u001b[39m `` -> `...1`\n",
      "\u001b[1mRows: \u001b[22m\u001b[34m3\u001b[39m \u001b[1mColumns: \u001b[22m\u001b[34m21\u001b[39m\n",
      "\u001b[36m──\u001b[39m \u001b[1mColumn specification\u001b[22m \u001b[36m──────────────────────────────────────────────────────────────────────────\u001b[39m\n",
      "\u001b[1mDelimiter:\u001b[22m \"\\t\"\n",
      "\u001b[31mchr\u001b[39m (12): Name, Genes, Genes.1, LLM Name, LLM Analysis, Overlap, Genes.2, Ge...\n",
      "\u001b[32mdbl\u001b[39m  (9): ...1, Unnamed: 0.1, index, Unnamed: 0, Rank, P-value, Adjusted P-v...\n",
      "\n",
      "\u001b[36mℹ\u001b[39m Use `spec()` to retrieve the full column specification for this data.\n",
      "\u001b[36mℹ\u001b[39m Specify the column types or set `show_col_types = FALSE` to quiet this message.\n"
     ]
    }
   ],
   "source": [
    "if (runVersion == \"test\"){\n",
    "    MSigDB_table_sub_LLM_GSEA_simVals_DF = read_delim(\"data/MSigDB_table_subset_LLM_GSEA_simVals_refs_DF.tsv\", delim = \"\\t\")\n",
    "} else {\n",
    "    MSigDB_table_sub_LLM_GSEA_simVals_DF = read_delim(\"data/MSigDB_table_LLM_GSEA_simVals_refs_DF.tsv\", delim = \"\\t\")\n",
    "    }"
   ]
  },
  {
   "cell_type": "code",
   "execution_count": 19,
   "id": "bcff5eb4-0d14-4e36-9389-7898705d4976",
   "metadata": {
    "tags": [],
    "vscode": {
     "languageId": "r"
    }
   },
   "outputs": [],
   "source": [
    "MSigDB_table_sub_LLM_GSEA_simVals_DF = rename(MSigDB_table_sub_LLM_GSEA_simVals_DF, \n",
    "                                               c(\"Human Name\" =\"Name\",\n",
    "                                                \"GSEA genes\" = \"Genes.1\"))"
   ]
  },
  {
   "cell_type": "code",
   "execution_count": 20,
   "id": "8fb1fffc-4c30-47cb-93f6-db1160ef3a0b",
   "metadata": {
    "vscode": {
     "languageId": "r"
    }
   },
   "outputs": [],
   "source": [
    "MSigDB_table_sub_LLM_GSEA_simVals_DF = MSigDB_table_sub_LLM_GSEA_simVals_DF %>%\n",
    "rowwise() %>%\n",
    "mutate(n_Genes = getSetSize(`Genes`),\n",
    "      log2_n_Genes = log2(n_Genes))"
   ]
  },
  {
   "cell_type": "markdown",
   "id": "3e9d72af-32a5-466c-b37f-83561444f26c",
   "metadata": {
    "vscode": {
     "languageId": "r"
    }
   },
   "source": [
    "#### NeST"
   ]
  },
  {
   "cell_type": "code",
   "execution_count": 21,
   "id": "d34be00b-6363-42b9-a416-97580f78fdf4",
   "metadata": {
    "tags": []
   },
   "outputs": [
    {
     "name": "stderr",
     "output_type": "stream",
     "text": [
      "\u001b[1m\u001b[22mNew names:\n",
      "\u001b[36m•\u001b[39m `` -> `...1`\n",
      "\u001b[1mRows: \u001b[22m\u001b[34m3\u001b[39m \u001b[1mColumns: \u001b[22m\u001b[34m22\u001b[39m\n",
      "\u001b[36m──\u001b[39m \u001b[1mColumn specification\u001b[22m \u001b[36m──────────────────────────────────────────────────────────────────────────\u001b[39m\n",
      "\u001b[1mDelimiter:\u001b[22m \"\\t\"\n",
      "\u001b[31mchr\u001b[39m (13): NEST ID, name_new, Genes, Genes.1, LLM Name, LLM Analysis, Overlap...\n",
      "\u001b[32mdbl\u001b[39m  (9): ...1, Unnamed: 0.1, index, Unnamed: 0, Rank, P-value, Adjusted P-v...\n",
      "\n",
      "\u001b[36mℹ\u001b[39m Use `spec()` to retrieve the full column specification for this data.\n",
      "\u001b[36mℹ\u001b[39m Specify the column types or set `show_col_types = FALSE` to quiet this message.\n"
     ]
    }
   ],
   "source": [
    "if (runVersion == \"test\"){\n",
    "    NeST_table_sub_LLM_GSEA_simVals_DF = read_delim(\"data/NeST_table_subset_LLM_GSEA_simVals_refs_DF.tsv\", delim = \"\\t\")\n",
    "} else {\n",
    "    NeST_table_sub_LLM_GSEA_simVals_DF = read_delim(\"data/NeST_table_LLM_GSEA_simVals_refs_DF.tsv\", delim = \"\\t\")\n",
    "    }"
   ]
  },
  {
   "cell_type": "code",
   "execution_count": 22,
   "id": "ae41ab9f-1594-4a6a-88a2-eb7451390fd3",
   "metadata": {
    "collapsed": true,
    "jupyter": {
     "outputs_hidden": true
    },
    "tags": []
   },
   "outputs": [
    {
     "data": {
      "text/html": [
       "<table class=\"dataframe\">\n",
       "<caption>A spec_tbl_df: 3 × 22</caption>\n",
       "<thead>\n",
       "\t<tr><th scope=col>...1</th><th scope=col>Unnamed: 0.1</th><th scope=col>index</th><th scope=col>Unnamed: 0</th><th scope=col>NEST ID</th><th scope=col>name_new</th><th scope=col>Genes</th><th scope=col>Genes.1</th><th scope=col>LLM Name</th><th scope=col>LLM Analysis</th><th scope=col>⋯</th><th scope=col>P-value</th><th scope=col>Adjusted P-value</th><th scope=col>Genes.2</th><th scope=col>Genes.3</th><th scope=col>GO term</th><th scope=col>GO ID</th><th scope=col>LLM_name_human_name_sim</th><th scope=col>GO_term_human_name_sim</th><th scope=col>winner</th><th scope=col>References</th></tr>\n",
       "\t<tr><th scope=col>&lt;dbl&gt;</th><th scope=col>&lt;dbl&gt;</th><th scope=col>&lt;dbl&gt;</th><th scope=col>&lt;dbl&gt;</th><th scope=col>&lt;chr&gt;</th><th scope=col>&lt;chr&gt;</th><th scope=col>&lt;chr&gt;</th><th scope=col>&lt;chr&gt;</th><th scope=col>&lt;chr&gt;</th><th scope=col>&lt;chr&gt;</th><th scope=col>⋯</th><th scope=col>&lt;dbl&gt;</th><th scope=col>&lt;dbl&gt;</th><th scope=col>&lt;chr&gt;</th><th scope=col>&lt;chr&gt;</th><th scope=col>&lt;chr&gt;</th><th scope=col>&lt;chr&gt;</th><th scope=col>&lt;dbl&gt;</th><th scope=col>&lt;dbl&gt;</th><th scope=col>&lt;chr&gt;</th><th scope=col>&lt;chr&gt;</th></tr>\n",
       "</thead>\n",
       "<tbody>\n",
       "\t<tr><td>0</td><td>0</td><td>420</td><td>0</td><td>NEST:125</td><td>Extended mismatch repair complex</td><td>ERCC1,ERCC4,MLH1,MLH3,MSH2,MSH3,MSH6,PMS1,PMS2,SLX4</td><td>MSH6;MSH2;MSH3;PMS2;MLH1;MLH3;PMS1</td><td>DNA Mismatch Repair and Excision Repair</td><td>The primary biological process performed by this system of interacting proteins is DNA mismatch repair and excision repair. These processes are crucial for maintaining genomic stability and preventing mutations.\n",
       "\n",
       "1. ERCC1 and ERCC4: These proteins form a heterodimeric endonuclease complex involved in nucleotide excision repair (NER). ERCC1 is responsible for DNA damage recognition, while ERCC4 provides the catalytic activity for DNA incision. Together, they remove DNA lesions caused by UV radiation and other genotoxic agents, preventing mutations and maintaining genomic stability.\n",
       "\n",
       "2. MLH1, MLH3, PMS1, and PMS2: These proteins are part of the MutL family and play essential roles in DNA mismatch repair (MMR). MLH1 forms heterodimers with PMS2 (MutLα), MLH3 (MutLγ), and PMS1 (MutLβ). MutLα is the primary complex involved in MMR, while MutLγ and MutLβ have specialized roles in meiotic recombination and mutation avoidance, respectively. These complexes coordinate with MutS family proteins (MSH2, MSH3, and MSH6) to recognize and repair DNA mismatches, insertions, and deletions, ensuring accurate DNA replication and preventing mutations.\n",
       "\n",
       "3. MSH2, MSH3, MSH6: These proteins belong to the MutS family and are involved in DNA mismatch repair (MMR). MSH2 forms heterodimers with MSH6 (MutSα) and MSH3 (MutSβ). MutSα recognizes base mismatches and small insertion/deletion loops, while MutSβ recognizes larger insertion/deletion loops. These complexes initiate the MMR process by binding to DNA mismatches and recruiting MutL family proteins to repair the errors.\n",
       "\n",
       "4. SLX4: This protein acts as a scaffold for multiple structure-specific endonucleases, including ERCC1-ERCC4, and is involved in the repair of DNA interstrand crosslinks, double-strand breaks, and replication fork collapse. SLX4 interacts with ERCC1 and ERCC4, coordinating their activities in nucleotide excision repair and ensuring the efficient removal of DNA lesions.\n",
       "\n",
       "In conclusion, the primary biological process performed by this system of interacting proteins is DNA mismatch repair and excision repair, which are essential for maintaining genomic stability and preventing mutations. The proteins work together in a coordinated manner to recognize and repair DNA errors, ensuring accurate DNA replication and preventing the accumulation of mutations that could lead to diseases such as cancer.</td><td>⋯</td><td>2.266332e-19</td><td>1.566032e-17</td><td>ERCC1,ERCC4,MLH1,MLH3,MSH2,MSH3,MSH6,PMS1,PMS2,SLX4</td><td>MSH6;MSH2;MSH3;PMS2;MLH1;MLH3;PMS1</td><td>Mismatch Repair                        </td><td>GO:0006298</td><td>0.7892810</td><td>0.7637749</td><td>Tied</td><td>The primary biological process performed by this system of interacting proteins is DNA mismatch repair and excision repair. These processes are crucial for maintaining genomic stability and preventing mutations.\n",
       "\n",
       "1. ERCC1 and ERCC4: These proteins form a heterodimeric endonuclease complex involved in nucleotide excision repair (NER). ERCC1 is responsible for DNA damage recognition, while ERCC4 provides the catalytic activity for DNA incision. Together, they remove DNA lesions caused by UV radiation and other genotoxic agents, preventing mutations and maintaining genomic stability.[1][2][3]\n",
       "\n",
       "2. MLH1, MLH3, PMS1, and PMS2: These proteins are part of the MutL family and play essential roles in DNA mismatch repair (MMR). MLH1 forms heterodimers with PMS2 (MutLα), MLH3 (MutLγ), and PMS1 (MutLβ). MutLα is the primary complex involved in MMR, while MutLγ and MutLβ have specialized roles in meiotic recombination and mutation avoidance, respectively. These complexes coordinate with MutS family proteins (MSH2, MSH3, and MSH6) to recognize and repair DNA mismatches, insertions, and deletions, ensuring accurate DNA replication and preventing mutations.[4][5][6]\n",
       "\n",
       "3. MSH2, MSH3, MSH6: These proteins belong to the MutS family and are involved in DNA mismatch repair (MMR). MSH2 forms heterodimers with MSH6 (MutSα) and MSH3 (MutSβ). MutSα recognizes base mismatches and small insertion/deletion loops, while MutSβ recognizes larger insertion/deletion loops. These complexes initiate the MMR process by binding to DNA mismatches and recruiting MutL family proteins to repair the errors.[7][8][9]\n",
       "\n",
       "4. SLX4: This protein acts as a scaffold for multiple structure-specific endonucleases, including ERCC1-ERCC4, and is involved in the repair of DNA interstrand crosslinks, double-strand breaks, and replication fork collapse. SLX4 interacts with ERCC1 and ERCC4, coordinating their activities in nucleotide excision repair and ensuring the efficient removal of DNA lesions.[10][11][12]\n",
       "\n",
       "In conclusion, the primary biological process performed by this system of interacting proteins is DNA mismatch repair and excision repair, which are essential for maintaining genomic stability and preventing mutations. The proteins work together in a coordinated manner to recognize and repair DNA errors, ensuring accurate DNA replication and preventing the accumulation of mutations that could lead to diseases such as cancer.\n",
       "\n",
       "========================================================================================================================================================================================================\n",
       "[1] Biggerstaff, M, Szymkowski, D E, Wood, R D. \"Co-correction of the ERCC1, ERCC4 and xeroderma pigmentosum group F DNA repair defects in vitro.\" The EMBO journal, 1993, pp. 3685-92.\n",
       "[2] Jiang, Chunming, Shen, Fang, Du, Jianmin, Wang, Xiaohua, Su, Jin, Liu, Zhanli, Huang, Xianmei. \"DNA repair gene ERCC1 polymorphisms and glioma susceptibility among Chinese population: a meta-analysis.\" International journal of clinical and experimental medicine, 2015, pp. 10248-55.\n",
       "[3] van Vuuren, A J, Appeldoorn, E, Odijk, H, Humbert, S, Moncollin, V, Eker, A P, Jaspers, N G, Egly, J M, Hoeijmakers, J H. \"Partial characterization of the DNA repair protein complex, containing the ERCC1, ERCC4, ERCC11 and XPF correcting activities.\" Mutation research, 1995, pp. 25-39.\n",
       "[4] Rogacheva, Maria V, Manhart, Carol M, Chen, Cheng, Guarne, Alba, Surtees, Jennifer, Alani, Eric. \"Mlh1-Mlh3, a meiotic crossover and DNA mismatch repair factor, is a Msh2-Msh3-stimulated endonuclease.\" The Journal of biological chemistry, 2014, pp. 5664-73.\n",
       "[5] Prolla, T A, Pang, Q, Alani, E, Kolodner, R D, Liskay, R M. \"MLH1, PMS1, and MSH2 interactions during the initiation of DNA mismatch repair in yeast.\" Science (New York, N.Y.), 1994, pp. 1091-3.\n",
       "[6] Al-Sweel, Najla, Raghavan, Vandana, Dutta, Abhishek, Ajith, V P, Di Vietro, Luigi, Khondakar, Nabila, Manhart, Carol M, Surtees, Jennifer A, Nishant, K T, Alani, Eric. \"mlh3 mutations in baker's yeast alter meiotic recombination outcomes by increasing noncrossover events genome-wide.\" PLoS genetics, 2017, pp. e1006974.\n",
       "[7] Edelbrock, Michael A, Kaliyaperumal, Saravanan, Williams, Kandace J. \"Structural, molecular and cellular functions of MSH2 and MSH6 during DNA mismatch repair, damage signaling and other noncanonical activities.\" Mutation research, 2013, pp. 53-66.\n",
       "[8] Stark, Andreas M, Doukas, Alexander, Hugo, Heinz-Herrmann, Hedderich, Jürgen, Hattermann, Kirsten, Maximilian Mehdorn, H, Held-Feindt, Janka. \"Expression of DNA mismatch repair proteins MLH1, MSH2, and MSH6 in recurrent glioblastoma.\" Neurological research, 2015, pp. 95-105.\n",
       "[9] Rogacheva, Maria V, Manhart, Carol M, Chen, Cheng, Guarne, Alba, Surtees, Jennifer, Alani, Eric. \"Mlh1-Mlh3, a meiotic crossover and DNA mismatch repair factor, is a Msh2-Msh3-stimulated endonuclease.\" The Journal of biological chemistry, 2014, pp. 5664-73.\n",
       "[10] Young, Sarah J, West, Stephen C. \"Coordinated roles of SLX4 and MutSβ in DNA repair and the maintenance of genome stability.\" Critical reviews in biochemistry and molecular biology, 2021, pp. 157-177.\n",
       "[11] Biggerstaff, M, Szymkowski, D E, Wood, R D. \"Co-correction of the ERCC1, ERCC4 and xeroderma pigmentosum group F DNA repair defects in vitro.\" The EMBO journal, 1993, pp. 3685-92.\n",
       "[12] van Vuuren, A J, Appeldoorn, E, Odijk, H, Humbert, S, Moncollin, V, Eker, A P, Jaspers, N G, Egly, J M, Hoeijmakers, J H. \"Partial characterization of the DNA repair protein complex, containing the ERCC1, ERCC4, ERCC11 and XPF correcting activities.\" Mutation research, 1995, pp. 25-39.\n",
       "                                                                                                                                                                                                                                                                                                                                                                                                                                                                                                                                                                                                                                                                                                                                                                                                                                                                                                                                                                                                                                                                                                                                                               </td></tr>\n",
       "\t<tr><td>1</td><td>1</td><td>228</td><td>0</td><td>NEST:134</td><td>RPA complex associated proteins </td><td><span style=white-space:pre-wrap>ATM,ATR,BLM,BRCA1,XPA,XPC                          </span></td><td><span style=white-space:pre-wrap>BLM;XPA;ATM;XPC;BRCA1;ATR         </span></td><td><span style=white-space:pre-wrap>DNA Damage Response and Repair         </span></td><td><span style=white-space:pre-wrap>The most prominent biological process performed by this system of interacting proteins is DNA damage response and repair. These proteins play crucial roles in maintaining genomic stability and preventing the accumulation of mutations that can lead to diseases such as cancer.\n",
       "\n",
       "1. ATM and ATR: These proteins are key kinases involved in the DNA damage response. They are activated by different types of DNA damage, such as double-strand breaks (ATM) and replication stress (ATR). Upon activation, they phosphorylate numerous downstream targets, including other proteins in this system, to initiate the appropriate repair pathways.\n",
       "\n",
       "2. BLM: This protein is a RecQ helicase that plays a role in DNA repair, replication, and recombination. BLM is involved in resolving complex DNA structures, such as Holliday junctions, and preventing genome instability. Mutations in BLM can lead to Bloom syndrome, a rare disorder characterized by increased cancer susceptibility.\n",
       "\n",
       "3. BRCA1: This protein is a tumor suppressor involved in multiple DNA repair pathways, including homologous recombination and non-homologous end joining. BRCA1 interacts with several other proteins in this system, such as ATM and ATR, to coordinate the DNA damage response. Mutations in BRCA1 are associated with an increased risk of breast and ovarian cancer.\n",
       "\n",
       "4. XPA and XPC: These proteins are involved in nucleotide excision repair (NER), a pathway that removes bulky DNA lesions, such as those caused by UV radiation. XPC is responsible for damage recognition, while XPA plays a role in damage verification and recruitment of other NER factors. Defects in XPA or XPC can lead to xeroderma pigmentosum, a rare disorder characterized by extreme sensitivity to sunlight and increased skin cancer risk.\n",
       "\n",
       "In conclusion, the interacting proteins ATM, ATR, BLM, BRCA1, XPA, and XPC are essential for maintaining genomic stability by coordinating the DNA damage response and participating in various DNA repair pathways. Their dysfunction can lead to genome instability and increased susceptibility to cancer.                                                                                                                                                                                                                                                                                                                  </span></td><td>⋯</td><td>8.464498e-12</td><td>8.651916e-10</td><td><span style=white-space:pre-wrap>ATM,ATR,BLM,BRCA1,XPA,XPC                          </span></td><td><span style=white-space:pre-wrap>BLM;XPA;ATM;XPC;BRCA1;ATR         </span></td><td><span style=white-space:pre-wrap>DNA Metabolic Process                  </span></td><td>GO:0006259</td><td>0.4103665</td><td>0.2250555</td><td>LLM </td><td><span style=white-space:pre-wrap>The most prominent biological process performed by this system of interacting proteins is DNA damage response and repair. These proteins play crucial roles in maintaining genomic stability and preventing the accumulation of mutations that can lead to diseases such as cancer.\n",
       "\n",
       "1. ATM and ATR: These proteins are key kinases involved in the DNA damage response. They are activated by different types of DNA damage, such as double-strand breaks (ATM) and replication stress (ATR). Upon activation, they phosphorylate numerous downstream targets, including other proteins in this system, to initiate the appropriate repair pathways.[1][2][3]\n",
       "\n",
       "2. BLM: This protein is a RecQ helicase that plays a role in DNA repair, replication, and recombination. BLM is involved in resolving complex DNA structures, such as Holliday junctions, and preventing genome instability. Mutations in BLM can lead to Bloom syndrome, a rare disorder characterized by increased cancer susceptibility.[4][5][6]\n",
       "\n",
       "3. BRCA1: This protein is a tumor suppressor involved in multiple DNA repair pathways, including homologous recombination and non-homologous end joining. BRCA1 interacts with several other proteins in this system, such as ATM and ATR, to coordinate the DNA damage response. Mutations in BRCA1 are associated with an increased risk of breast and ovarian cancer.[7][8][9]\n",
       "\n",
       "4. XPA and XPC: These proteins are involved in nucleotide excision repair (NER), a pathway that removes bulky DNA lesions, such as those caused by UV radiation. XPC is responsible for damage recognition, while XPA plays a role in damage verification and recruitment of other NER factors. Defects in XPA or XPC can lead to xeroderma pigmentosum, a rare disorder characterized by extreme sensitivity to sunlight and increased skin cancer risk.[10][11][12]\n",
       "\n",
       "In conclusion, the interacting proteins ATM, ATR, BLM, BRCA1, XPA, and XPC are essential for maintaining genomic stability by coordinating the DNA damage response and participating in various DNA repair pathways. Their dysfunction can lead to genome instability and increased susceptibility to cancer.[13][14][15]\n",
       "\n",
       "========================================================================================================================================================================================================\n",
       "[1] Blackford, Andrew N, Jackson, Stephen P. \"ATM, ATR, and DNA-PK: The Trinity at the Heart of the DNA Damage Response.\" Molecular cell, 2017, pp. 801-817.\n",
       "[2] Zhang, Jingjing, Wu, Qiong, Zhu, Lucheng, Xie, Shujun, Tu, Linglan, Yang, Yuhong, Wu, Kan, Zhao, Yanyan, Wang, Yuqing, Xu, Yasi, Chen, Xueqin, Ma, Shenglin, Zhang, Shirong. \"SERPINE2/PN-1 regulates the DNA damage response and radioresistance by activating ATM in lung cancer.\" Cancer letters, 2022, pp. 268-283.\n",
       "[3] Lopez-Pelaez, Marta, Young, Lucy, Vazquez-Chantada, Mercedes, Nelson, Nadine, Durant, Steve, Wilkinson, Robert W, Poon, Edmund, Gaspar, Miguel, Valge-Archer, Viia, Smith, Paul, Dovedi, Simon J. \"Targeting DNA damage response components induces enhanced STING-dependent type-I IFN response in ATM deficient cancer cells and drives dendritic cell activation.\" Oncoimmunology, 2022, pp. 2117321.\n",
       "[4] Dhar, Srijita, Brosh, Robert M. \"BLM's balancing act and the involvement of FANCJ in DNA repair.\" Cell cycle (Georgetown, Tex.), 2018, pp. 2207-2220.\n",
       "[5] Bendtsen, Kristian Moss, Jensen, Martin Borch, May, Alfred, Rasmussen, Lene Juel, Trusina, Ala, Bohr, Vilhelm A, Jensen, Mogens H. \"Dynamics of the DNA repair proteins WRN and BLM in the nucleoplasm and nucleoli.\" European biophysics journal : EBJ, 2014, pp. 509-16.\n",
       "[6] Frank, Bernd, Hoffmeister, Michael, Klopp, Norman, Illig, Thomas, Chang-Claude, Jenny, Brenner, Hermann. \"Colorectal cancer and polymorphisms in DNA repair genes WRN, RMI1 and BLM.\" Carcinogenesis, 2010, pp. 442-5.\n",
       "[7] Yoshida, Kiyotsugu, Miki, Yoshio. \"Role of BRCA1 and BRCA2 as regulators of DNA repair, transcription, and cell cycle in response to DNA damage.\" Cancer science, 2004, pp. 866-71.\n",
       "[8] Jin, Mei Hua, Oh, Do-Youn. \"ATM in DNA repair in cancer.\" Pharmacology &amp; therapeutics, 2019, pp. 107391.\n",
       "[9] Tarsounas, Madalena, Sung, Patrick. \"The antitumorigenic roles of BRCA1-BARD1 in DNA repair and replication.\" Nature reviews. Molecular cell biology, 2020, pp. 284-299.\n",
       "[10] Zebian, Abir, Shaito, Abdullah, Mazurier, Frédéric, Rezvani, Hamid Reza, Zibara, Kazem. \"XPC beyond nucleotide excision repair and skin cancers.\" Mutation research. Reviews in mutation research, 2019, pp. 108286.\n",
       "[11] Lindsey-Boltz, Laura A, Yang, Yanyan, Kose, Cansu, Deger, Nazli, Eynullazada, Khagani, Kawara, Hiroaki, Sancar, Aziz. \"Nucleotide excision repair in Human cell lines lacking both XPC and CSB proteins.\" Nucleic acids research, 2023, pp. 6238-6245.\n",
       "[12] Musich, Phillip R, Li, Zhengke, Zou, Yue. \"Xeroderma Pigmentosa Group A (XPA), Nucleotide Excision Repair and Regulation by ATR in Response to Ultraviolet Irradiation.\" Advances in experimental medicine and biology, 2017, pp. 41-54.\n",
       "[13] Blackford, Andrew N, Jackson, Stephen P. \"ATM, ATR, and DNA-PK: The Trinity at the Heart of the DNA Damage Response.\" Molecular cell, 2017, pp. 801-817.\n",
       "[14] Wu, Chenming, Chang, Yiming, Chen, Junliang, Su, Yang, Li, Lei, Chen, Yuping, Li, Yunhui, Wu, Jinhuan, Huang, Jinzhou, Zhao, Fei, Wang, Wenrui, Yin, Hui, Wang, Shunli, Jin, Mingpeng, Lou, Zhenkun, Zhu, Wei-Guo, Luo, Kuntian, Zhang, Jie, Yuan, Jian. \"USP37 regulates DNA damage response through stabilizing and deubiquitinating BLM.\" Nucleic acids research, 2021, pp. 11224-11240.\n",
       "[15] Foo, Tzeh Keong, Xia, Bing. \"BRCA1-Dependent and Independent Recruitment of PALB2-BRCA2-RAD51 in the DNA Damage Response and Cancer.\" Cancer research, 2022, pp. 3191-3197.\n",
       "                                                                                                                                                                                                                                                                                                                                                                                                                                                                                                                                                                                                                                                                                                                                                                                                                                                                                                                                                                                                                                                                    </span></td></tr>\n",
       "\t<tr><td>2</td><td>2</td><td><span style=white-space:pre-wrap>  0</span></td><td>0</td><td>NEST:256</td><td><span style=white-space:pre-wrap>MAPK signaling                  </span></td><td><span style=white-space:pre-wrap>ERBB2,ERBB4,FGFR2,FGFR4,HRAS,KRAS                  </span></td><td>ERBB4;ERBB2;KRAS;FGFR4;HRAS;FGFR2 </td><td><span style=white-space:pre-wrap>Receptor Tyrosine Kinase Signaling     </span></td><td><span style=white-space:pre-wrap>The most prominent biological process performed by the interacting proteins ERBB2, ERBB4, FGFR2, FGFR4, HRAS, and KRAS is receptor tyrosine kinase (RTK) signaling. This process is critical for cellular growth, differentiation, and survival.\n",
       "\n",
       "1. ERBB2 and ERBB4: Both proteins belong to the epidermal growth factor receptor (EGFR) family, which are receptor tyrosine kinases. They play a crucial role in cell proliferation and differentiation by binding to specific ligands, leading to the activation of downstream signaling pathways, such as the MAPK and PI3K/AKT pathways. ERBB2 is known to form heterodimers with other EGFR family members, enhancing the signaling capacity of the receptor complex.\n",
       "\n",
       "2. FGFR2 and FGFR4: These proteins are members of the fibroblast growth factor receptor (FGFR) family, which are also receptor tyrosine kinases. They are involved in various cellular processes, including cell growth, differentiation, and migration. FGFR2 and FGFR4 bind to fibroblast growth factors (FGFs), leading to receptor dimerization and activation of downstream signaling pathways, such as the RAS/MAPK and PI3K/AKT pathways.\n",
       "\n",
       "3. HRAS and KRAS: Both proteins are members of the RAS family of small GTPases, which function as molecular switches in various signaling pathways, including the RTK signaling pathway. They are involved in transmitting signals from activated RTKs to downstream effectors, such as the RAF/MEK/ERK and PI3K/AKT pathways. HRAS and KRAS are known to play a critical role in cell proliferation, differentiation, and survival.\n",
       "\n",
       "In conclusion, the interacting proteins ERBB2, ERBB4, FGFR2, FGFR4, HRAS, and KRAS are involved in the receptor tyrosine kinase signaling pathway, which is essential for cellular growth, differentiation, and survival. This process is initiated by the binding of specific ligands to the receptor tyrosine kinases (ERBB2, ERBB4, FGFR2, and FGFR4), leading to the activation of downstream signaling pathways, such as the RAS/MAPK and PI3K/AKT pathways, mediated by the small GTPases HRAS and KRAS.                                                                                                                                                                                                                                                                                                                                       </span></td><td>⋯</td><td>2.224545e-12</td><td>5.071962e-10</td><td><span style=white-space:pre-wrap>ERBB2,ERBB4,FGFR2,FGFR4,HRAS,KRAS                  </span></td><td>ERBB4;ERBB2;KRAS;FGFR4;HRAS;FGFR2 </td><td>Positive Regulation Of Phosphorylation </td><td>GO:0042327</td><td>0.6257839</td><td>0.3991230</td><td>LLM </td><td>The most prominent biological process performed by the interacting proteins ERBB2, ERBB4, FGFR2, FGFR4, HRAS, and KRAS is receptor tyrosine kinase (RTK) signaling. This process is critical for cellular growth, differentiation, and survival.[1][2][3]\n",
       "\n",
       "1. ERBB2 and ERBB4: Both proteins belong to the epidermal growth factor receptor (EGFR) family, which are receptor tyrosine kinases. They play a crucial role in cell proliferation and differentiation by binding to specific ligands, leading to the activation of downstream signaling pathways, such as the MAPK and PI3K/AKT pathways. ERBB2 is known to form heterodimers with other EGFR family members, enhancing the signaling capacity of the receptor complex.[4][5][6]\n",
       "\n",
       "2. FGFR2 and FGFR4: These proteins are members of the fibroblast growth factor receptor (FGFR) family, which are also receptor tyrosine kinases. They are involved in various cellular processes, including cell growth, differentiation, and migration. FGFR2 and FGFR4 bind to fibroblast growth factors (FGFs), leading to receptor dimerization and activation of downstream signaling pathways, such as the RAS/MAPK and PI3K/AKT pathways.[7][8][9]\n",
       "\n",
       "3. HRAS and KRAS: Both proteins are members of the RAS family of small GTPases, which function as molecular switches in various signaling pathways, including the RTK signaling pathway. They are involved in transmitting signals from activated RTKs to downstream effectors, such as the RAF/MEK/ERK and PI3K/AKT pathways. HRAS and KRAS are known to play a critical role in cell proliferation, differentiation, and survival.[10][11][12]\n",
       "\n",
       "In conclusion, the interacting proteins ERBB2, ERBB4, FGFR2, FGFR4, HRAS, and KRAS are involved in the receptor tyrosine kinase signaling pathway, which is essential for cellular growth, differentiation, and survival. This process is initiated by the binding of specific ligands to the receptor tyrosine kinases (ERBB2, ERBB4, FGFR2, and FGFR4), leading to the activation of downstream signaling pathways, such as the RAS/MAPK and PI3K/AKT pathways, mediated by the small GTPases HRAS and KRAS.[13][14][15]\n",
       "\n",
       "========================================================================================================================================================================================================\n",
       "[1] Hoesl, Christine, Röhrl, Jennifer M, Schneider, Marlon R, Dahlhoff, Maik. \"The receptor tyrosine kinase ERBB4 is expressed in skin keratinocytes and influences epidermal proliferation.\" Biochimica et biophysica acta. General subjects, 2018, pp. 958-966.\n",
       "[2] Canfield, Kaleigh, Li, Jiaqi, Wilkins, Owen M, Morrison, Meghan M, Ung, Matthew, Wells, Wendy, Williams, Charlotte R, Liby, Karen T, Vullhorst, Detlef, Buonanno, Andres, Hu, Huizhong, Schiff, Rachel, Cook, Rebecca S, Kurokawa, Manabu. \"Receptor tyrosine kinase ERBB4 mediates acquired resistance to ERBB2 inhibitors in breast cancer cells.\" Cell cycle (Georgetown, Tex.), 2015, pp. 648-55.\n",
       "[3] Li, W, Shi, Q, Wang, W, Liu, J, Ren, J, Li, Q, Hou, F. \"KRAS status and resistance to epidermal growth factor receptor tyrosine-kinase inhibitor treatment in patients with metastatic colorectal cancer: a meta-analysis.\" Colorectal disease : the official journal of the Association of Coloproctology of Great Britain and Ireland, 2014, pp. O370-8.\n",
       "[4] Wei, Dang, Rui, Bian, Qingquan, Fan, Chen, Cai, Ping, Hu Yun, Xiaoling, Song, Hao, Weng, Jun, Gu. \"KIF11 promotes cell proliferation via ERBB2/PI3K/AKT signaling pathway in gallbladder cancer.\" International journal of biological sciences, 2021, pp. 514-526.\n",
       "[5] Ma, Xuejiao, Chen, Jingruo, Huang, Bohan, Fu, Shiqi, Qu, Shuai, Yu, Rong, Zhao, Yuhua. \"ErbB2-upregulated HK1 and HK2 promote breast cancer cell proliferation, migration and invasion.\" Medical oncology (Northwood, London, England), 2023, pp. 154.\n",
       "[6] Kedashiro, Shin, Kameyama, Takeshi, Mizutani, Kiyohito, Takai, Yoshimi. \"Stimulatory role of nectin-4 and p95-ErbB2 in multilayered T47D cell proliferation.\" Genes to cells : devoted to molecular &amp; cellular mechanisms, 2022, pp. 451-464.\n",
       "[7] Fang, Xianlong, Yang, Dongmei, Luo, Hongping, Wu, Shuai, Dong, Wenjie, Xiao, Jing, Yuan, Sujing, Ni, Aimin, Zhang, Kang-Jian, Liu, Xin-Yuan, Chu, Liang. \"SNORD126 promotes HCC and CRC cell growth by activating the PI3K-AKT pathway through FGFR2.\" Journal of molecular cell biology, 2017, pp. 243-255.\n",
       "[8] Shi, Yuanyuan, Liu, Xuejiao, Fredimoses, Mangaladoss, Song, Mengqiu, Chen, Hanyong, Liu, Kangdong, Lee, Mee-Hyun, Dong, Zigang. \"FGFR2 regulation by picrasidine Q inhibits the cell growth and induces apoptosis in esophageal squamous cell carcinoma.\" Journal of cellular biochemistry, 2018, pp. 2231-2239.\n",
       "[9] Park, Jihyun, Kim, Sun Young, Kim, Ha-Jung, Kim, Kyoung-Mee, Choi, Eun Young, Kang, Myung-Soo. \"A reciprocal regulatory circuit between CD44 and FGFR2 via c-myc controls gastric cancer cell growth.\" Oncotarget, 2016, pp. 28670-83.\n",
       "[10] Ternet, Camille, Kiel, Christina. \"Signaling pathways in intestinal homeostasis and colorectal cancer: KRAS at centre stage.\" Cell communication and signaling : CCS, 2021, pp. 31.\n",
       "[11] Fitzgerald, Timothy L, Lertpiriyapong, Kvin, Cocco, Lucio, Martelli, Alberto M, Libra, Massimo, Candido, Saverio, Montalto, Giuseppe, Cervello, Melchiorre, Steelman, Linda, Abrams, Stephen L, McCubrey, James A. \"Roles of EGFR and KRAS and their downstream signaling pathways in pancreatic cancer and pancreatic cancer stem cells.\" Advances in biological regulation, 2015, pp. 65-81.\n",
       "[12] Liu, Zhonglu, Liu, Feifei, Wang, Fang, Yang, Xin, Guo, Wentao. \"CircZNF609 promotes cell proliferation, migration, invasion, and glycolysis in nasopharyngeal carcinoma through regulating HRAS via miR-338-3p.\" Molecular and cellular biochemistry, 2021, pp. 175-186.\n",
       "[13] Hoesl, Christine, Röhrl, Jennifer M, Schneider, Marlon R, Dahlhoff, Maik. \"The receptor tyrosine kinase ERBB4 is expressed in skin keratinocytes and influences epidermal proliferation.\" Biochimica et biophysica acta. General subjects, 2018, pp. 958-966.\n",
       "[14] Canfield, Kaleigh, Li, Jiaqi, Wilkins, Owen M, Morrison, Meghan M, Ung, Matthew, Wells, Wendy, Williams, Charlotte R, Liby, Karen T, Vullhorst, Detlef, Buonanno, Andres, Hu, Huizhong, Schiff, Rachel, Cook, Rebecca S, Kurokawa, Manabu. \"Receptor tyrosine kinase ERBB4 mediates acquired resistance to ERBB2 inhibitors in breast cancer cells.\" Cell cycle (Georgetown, Tex.), 2015, pp. 648-55.\n",
       "[15] Li, W, Shi, Q, Wang, W, Liu, J, Ren, J, Li, Q, Hou, F. \"KRAS status and resistance to epidermal growth factor receptor tyrosine-kinase inhibitor treatment in patients with metastatic colorectal cancer: a meta-analysis.\" Colorectal disease : the official journal of the Association of Coloproctology of Great Britain and Ireland, 2014, pp. O370-8.\n",
       "</td></tr>\n",
       "</tbody>\n",
       "</table>\n"
      ],
      "text/latex": [
       "A spec\\_tbl\\_df: 3 × 22\n",
       "\\begin{tabular}{lllllllllllllllllllll}\n",
       " ...1 & Unnamed: 0.1 & index & Unnamed: 0 & NEST ID & name\\_new & Genes & Genes.1 & LLM Name & LLM Analysis & ⋯ & P-value & Adjusted P-value & Genes.2 & Genes.3 & GO term & GO ID & LLM\\_name\\_human\\_name\\_sim & GO\\_term\\_human\\_name\\_sim & winner & References\\\\\n",
       " <dbl> & <dbl> & <dbl> & <dbl> & <chr> & <chr> & <chr> & <chr> & <chr> & <chr> & ⋯ & <dbl> & <dbl> & <chr> & <chr> & <chr> & <chr> & <dbl> & <dbl> & <chr> & <chr>\\\\\n",
       "\\hline\n",
       "\t 0 & 0 & 420 & 0 & NEST:125 & Extended mismatch repair complex & ERCC1,ERCC4,MLH1,MLH3,MSH2,MSH3,MSH6,PMS1,PMS2,SLX4 & MSH6;MSH2;MSH3;PMS2;MLH1;MLH3;PMS1 & DNA Mismatch Repair and Excision Repair & The primary biological process performed by this system of interacting proteins is DNA mismatch repair and excision repair. These processes are crucial for maintaining genomic stability and preventing mutations.\n",
       "\n",
       "1. ERCC1 and ERCC4: These proteins form a heterodimeric endonuclease complex involved in nucleotide excision repair (NER). ERCC1 is responsible for DNA damage recognition, while ERCC4 provides the catalytic activity for DNA incision. Together, they remove DNA lesions caused by UV radiation and other genotoxic agents, preventing mutations and maintaining genomic stability.\n",
       "\n",
       "2. MLH1, MLH3, PMS1, and PMS2: These proteins are part of the MutL family and play essential roles in DNA mismatch repair (MMR). MLH1 forms heterodimers with PMS2 (MutLα), MLH3 (MutLγ), and PMS1 (MutLβ). MutLα is the primary complex involved in MMR, while MutLγ and MutLβ have specialized roles in meiotic recombination and mutation avoidance, respectively. These complexes coordinate with MutS family proteins (MSH2, MSH3, and MSH6) to recognize and repair DNA mismatches, insertions, and deletions, ensuring accurate DNA replication and preventing mutations.\n",
       "\n",
       "3. MSH2, MSH3, MSH6: These proteins belong to the MutS family and are involved in DNA mismatch repair (MMR). MSH2 forms heterodimers with MSH6 (MutSα) and MSH3 (MutSβ). MutSα recognizes base mismatches and small insertion/deletion loops, while MutSβ recognizes larger insertion/deletion loops. These complexes initiate the MMR process by binding to DNA mismatches and recruiting MutL family proteins to repair the errors.\n",
       "\n",
       "4. SLX4: This protein acts as a scaffold for multiple structure-specific endonucleases, including ERCC1-ERCC4, and is involved in the repair of DNA interstrand crosslinks, double-strand breaks, and replication fork collapse. SLX4 interacts with ERCC1 and ERCC4, coordinating their activities in nucleotide excision repair and ensuring the efficient removal of DNA lesions.\n",
       "\n",
       "In conclusion, the primary biological process performed by this system of interacting proteins is DNA mismatch repair and excision repair, which are essential for maintaining genomic stability and preventing mutations. The proteins work together in a coordinated manner to recognize and repair DNA errors, ensuring accurate DNA replication and preventing the accumulation of mutations that could lead to diseases such as cancer. & ⋯ & 2.266332e-19 & 1.566032e-17 & ERCC1,ERCC4,MLH1,MLH3,MSH2,MSH3,MSH6,PMS1,PMS2,SLX4 & MSH6;MSH2;MSH3;PMS2;MLH1;MLH3;PMS1 & Mismatch Repair                         & GO:0006298 & 0.7892810 & 0.7637749 & Tied & The primary biological process performed by this system of interacting proteins is DNA mismatch repair and excision repair. These processes are crucial for maintaining genomic stability and preventing mutations.\n",
       "\n",
       "1. ERCC1 and ERCC4: These proteins form a heterodimeric endonuclease complex involved in nucleotide excision repair (NER). ERCC1 is responsible for DNA damage recognition, while ERCC4 provides the catalytic activity for DNA incision. Together, they remove DNA lesions caused by UV radiation and other genotoxic agents, preventing mutations and maintaining genomic stability.{[}1{]}{[}2{]}{[}3{]}\n",
       "\n",
       "2. MLH1, MLH3, PMS1, and PMS2: These proteins are part of the MutL family and play essential roles in DNA mismatch repair (MMR). MLH1 forms heterodimers with PMS2 (MutLα), MLH3 (MutLγ), and PMS1 (MutLβ). MutLα is the primary complex involved in MMR, while MutLγ and MutLβ have specialized roles in meiotic recombination and mutation avoidance, respectively. These complexes coordinate with MutS family proteins (MSH2, MSH3, and MSH6) to recognize and repair DNA mismatches, insertions, and deletions, ensuring accurate DNA replication and preventing mutations.{[}4{]}{[}5{]}{[}6{]}\n",
       "\n",
       "3. MSH2, MSH3, MSH6: These proteins belong to the MutS family and are involved in DNA mismatch repair (MMR). MSH2 forms heterodimers with MSH6 (MutSα) and MSH3 (MutSβ). MutSα recognizes base mismatches and small insertion/deletion loops, while MutSβ recognizes larger insertion/deletion loops. These complexes initiate the MMR process by binding to DNA mismatches and recruiting MutL family proteins to repair the errors.{[}7{]}{[}8{]}{[}9{]}\n",
       "\n",
       "4. SLX4: This protein acts as a scaffold for multiple structure-specific endonucleases, including ERCC1-ERCC4, and is involved in the repair of DNA interstrand crosslinks, double-strand breaks, and replication fork collapse. SLX4 interacts with ERCC1 and ERCC4, coordinating their activities in nucleotide excision repair and ensuring the efficient removal of DNA lesions.{[}10{]}{[}11{]}{[}12{]}\n",
       "\n",
       "In conclusion, the primary biological process performed by this system of interacting proteins is DNA mismatch repair and excision repair, which are essential for maintaining genomic stability and preventing mutations. The proteins work together in a coordinated manner to recognize and repair DNA errors, ensuring accurate DNA replication and preventing the accumulation of mutations that could lead to diseases such as cancer.\n",
       "\n",
       "========================================================================================================================================================================================================\n",
       "{[}1{]} Biggerstaff, M, Szymkowski, D E, Wood, R D. \"Co-correction of the ERCC1, ERCC4 and xeroderma pigmentosum group F DNA repair defects in vitro.\" The EMBO journal, 1993, pp. 3685-92.\n",
       "{[}2{]} Jiang, Chunming, Shen, Fang, Du, Jianmin, Wang, Xiaohua, Su, Jin, Liu, Zhanli, Huang, Xianmei. \"DNA repair gene ERCC1 polymorphisms and glioma susceptibility among Chinese population: a meta-analysis.\" International journal of clinical and experimental medicine, 2015, pp. 10248-55.\n",
       "{[}3{]} van Vuuren, A J, Appeldoorn, E, Odijk, H, Humbert, S, Moncollin, V, Eker, A P, Jaspers, N G, Egly, J M, Hoeijmakers, J H. \"Partial characterization of the DNA repair protein complex, containing the ERCC1, ERCC4, ERCC11 and XPF correcting activities.\" Mutation research, 1995, pp. 25-39.\n",
       "{[}4{]} Rogacheva, Maria V, Manhart, Carol M, Chen, Cheng, Guarne, Alba, Surtees, Jennifer, Alani, Eric. \"Mlh1-Mlh3, a meiotic crossover and DNA mismatch repair factor, is a Msh2-Msh3-stimulated endonuclease.\" The Journal of biological chemistry, 2014, pp. 5664-73.\n",
       "{[}5{]} Prolla, T A, Pang, Q, Alani, E, Kolodner, R D, Liskay, R M. \"MLH1, PMS1, and MSH2 interactions during the initiation of DNA mismatch repair in yeast.\" Science (New York, N.Y.), 1994, pp. 1091-3.\n",
       "{[}6{]} Al-Sweel, Najla, Raghavan, Vandana, Dutta, Abhishek, Ajith, V P, Di Vietro, Luigi, Khondakar, Nabila, Manhart, Carol M, Surtees, Jennifer A, Nishant, K T, Alani, Eric. \"mlh3 mutations in baker's yeast alter meiotic recombination outcomes by increasing noncrossover events genome-wide.\" PLoS genetics, 2017, pp. e1006974.\n",
       "{[}7{]} Edelbrock, Michael A, Kaliyaperumal, Saravanan, Williams, Kandace J. \"Structural, molecular and cellular functions of MSH2 and MSH6 during DNA mismatch repair, damage signaling and other noncanonical activities.\" Mutation research, 2013, pp. 53-66.\n",
       "{[}8{]} Stark, Andreas M, Doukas, Alexander, Hugo, Heinz-Herrmann, Hedderich, Jürgen, Hattermann, Kirsten, Maximilian Mehdorn, H, Held-Feindt, Janka. \"Expression of DNA mismatch repair proteins MLH1, MSH2, and MSH6 in recurrent glioblastoma.\" Neurological research, 2015, pp. 95-105.\n",
       "{[}9{]} Rogacheva, Maria V, Manhart, Carol M, Chen, Cheng, Guarne, Alba, Surtees, Jennifer, Alani, Eric. \"Mlh1-Mlh3, a meiotic crossover and DNA mismatch repair factor, is a Msh2-Msh3-stimulated endonuclease.\" The Journal of biological chemistry, 2014, pp. 5664-73.\n",
       "{[}10{]} Young, Sarah J, West, Stephen C. \"Coordinated roles of SLX4 and MutSβ in DNA repair and the maintenance of genome stability.\" Critical reviews in biochemistry and molecular biology, 2021, pp. 157-177.\n",
       "{[}11{]} Biggerstaff, M, Szymkowski, D E, Wood, R D. \"Co-correction of the ERCC1, ERCC4 and xeroderma pigmentosum group F DNA repair defects in vitro.\" The EMBO journal, 1993, pp. 3685-92.\n",
       "{[}12{]} van Vuuren, A J, Appeldoorn, E, Odijk, H, Humbert, S, Moncollin, V, Eker, A P, Jaspers, N G, Egly, J M, Hoeijmakers, J H. \"Partial characterization of the DNA repair protein complex, containing the ERCC1, ERCC4, ERCC11 and XPF correcting activities.\" Mutation research, 1995, pp. 25-39.\n",
       "                                                                                                                                                                                                                                                                                                                                                                                                                                                                                                                                                                                                                                                                                                                                                                                                                                                                                                                                                                                                                                                                                                                                                               \\\\\n",
       "\t 1 & 1 & 228 & 0 & NEST:134 & RPA complex associated proteins  & ATM,ATR,BLM,BRCA1,XPA,XPC                           & BLM;XPA;ATM;XPC;BRCA1;ATR          & DNA Damage Response and Repair          & The most prominent biological process performed by this system of interacting proteins is DNA damage response and repair. These proteins play crucial roles in maintaining genomic stability and preventing the accumulation of mutations that can lead to diseases such as cancer.\n",
       "\n",
       "1. ATM and ATR: These proteins are key kinases involved in the DNA damage response. They are activated by different types of DNA damage, such as double-strand breaks (ATM) and replication stress (ATR). Upon activation, they phosphorylate numerous downstream targets, including other proteins in this system, to initiate the appropriate repair pathways.\n",
       "\n",
       "2. BLM: This protein is a RecQ helicase that plays a role in DNA repair, replication, and recombination. BLM is involved in resolving complex DNA structures, such as Holliday junctions, and preventing genome instability. Mutations in BLM can lead to Bloom syndrome, a rare disorder characterized by increased cancer susceptibility.\n",
       "\n",
       "3. BRCA1: This protein is a tumor suppressor involved in multiple DNA repair pathways, including homologous recombination and non-homologous end joining. BRCA1 interacts with several other proteins in this system, such as ATM and ATR, to coordinate the DNA damage response. Mutations in BRCA1 are associated with an increased risk of breast and ovarian cancer.\n",
       "\n",
       "4. XPA and XPC: These proteins are involved in nucleotide excision repair (NER), a pathway that removes bulky DNA lesions, such as those caused by UV radiation. XPC is responsible for damage recognition, while XPA plays a role in damage verification and recruitment of other NER factors. Defects in XPA or XPC can lead to xeroderma pigmentosum, a rare disorder characterized by extreme sensitivity to sunlight and increased skin cancer risk.\n",
       "\n",
       "In conclusion, the interacting proteins ATM, ATR, BLM, BRCA1, XPA, and XPC are essential for maintaining genomic stability by coordinating the DNA damage response and participating in various DNA repair pathways. Their dysfunction can lead to genome instability and increased susceptibility to cancer.                                                                                                                                                                                                                                                                                                                   & ⋯ & 8.464498e-12 & 8.651916e-10 & ATM,ATR,BLM,BRCA1,XPA,XPC                           & BLM;XPA;ATM;XPC;BRCA1;ATR          & DNA Metabolic Process                   & GO:0006259 & 0.4103665 & 0.2250555 & LLM  & The most prominent biological process performed by this system of interacting proteins is DNA damage response and repair. These proteins play crucial roles in maintaining genomic stability and preventing the accumulation of mutations that can lead to diseases such as cancer.\n",
       "\n",
       "1. ATM and ATR: These proteins are key kinases involved in the DNA damage response. They are activated by different types of DNA damage, such as double-strand breaks (ATM) and replication stress (ATR). Upon activation, they phosphorylate numerous downstream targets, including other proteins in this system, to initiate the appropriate repair pathways.{[}1{]}{[}2{]}{[}3{]}\n",
       "\n",
       "2. BLM: This protein is a RecQ helicase that plays a role in DNA repair, replication, and recombination. BLM is involved in resolving complex DNA structures, such as Holliday junctions, and preventing genome instability. Mutations in BLM can lead to Bloom syndrome, a rare disorder characterized by increased cancer susceptibility.{[}4{]}{[}5{]}{[}6{]}\n",
       "\n",
       "3. BRCA1: This protein is a tumor suppressor involved in multiple DNA repair pathways, including homologous recombination and non-homologous end joining. BRCA1 interacts with several other proteins in this system, such as ATM and ATR, to coordinate the DNA damage response. Mutations in BRCA1 are associated with an increased risk of breast and ovarian cancer.{[}7{]}{[}8{]}{[}9{]}\n",
       "\n",
       "4. XPA and XPC: These proteins are involved in nucleotide excision repair (NER), a pathway that removes bulky DNA lesions, such as those caused by UV radiation. XPC is responsible for damage recognition, while XPA plays a role in damage verification and recruitment of other NER factors. Defects in XPA or XPC can lead to xeroderma pigmentosum, a rare disorder characterized by extreme sensitivity to sunlight and increased skin cancer risk.{[}10{]}{[}11{]}{[}12{]}\n",
       "\n",
       "In conclusion, the interacting proteins ATM, ATR, BLM, BRCA1, XPA, and XPC are essential for maintaining genomic stability by coordinating the DNA damage response and participating in various DNA repair pathways. Their dysfunction can lead to genome instability and increased susceptibility to cancer.{[}13{]}{[}14{]}{[}15{]}\n",
       "\n",
       "========================================================================================================================================================================================================\n",
       "{[}1{]} Blackford, Andrew N, Jackson, Stephen P. \"ATM, ATR, and DNA-PK: The Trinity at the Heart of the DNA Damage Response.\" Molecular cell, 2017, pp. 801-817.\n",
       "{[}2{]} Zhang, Jingjing, Wu, Qiong, Zhu, Lucheng, Xie, Shujun, Tu, Linglan, Yang, Yuhong, Wu, Kan, Zhao, Yanyan, Wang, Yuqing, Xu, Yasi, Chen, Xueqin, Ma, Shenglin, Zhang, Shirong. \"SERPINE2/PN-1 regulates the DNA damage response and radioresistance by activating ATM in lung cancer.\" Cancer letters, 2022, pp. 268-283.\n",
       "{[}3{]} Lopez-Pelaez, Marta, Young, Lucy, Vazquez-Chantada, Mercedes, Nelson, Nadine, Durant, Steve, Wilkinson, Robert W, Poon, Edmund, Gaspar, Miguel, Valge-Archer, Viia, Smith, Paul, Dovedi, Simon J. \"Targeting DNA damage response components induces enhanced STING-dependent type-I IFN response in ATM deficient cancer cells and drives dendritic cell activation.\" Oncoimmunology, 2022, pp. 2117321.\n",
       "{[}4{]} Dhar, Srijita, Brosh, Robert M. \"BLM's balancing act and the involvement of FANCJ in DNA repair.\" Cell cycle (Georgetown, Tex.), 2018, pp. 2207-2220.\n",
       "{[}5{]} Bendtsen, Kristian Moss, Jensen, Martin Borch, May, Alfred, Rasmussen, Lene Juel, Trusina, Ala, Bohr, Vilhelm A, Jensen, Mogens H. \"Dynamics of the DNA repair proteins WRN and BLM in the nucleoplasm and nucleoli.\" European biophysics journal : EBJ, 2014, pp. 509-16.\n",
       "{[}6{]} Frank, Bernd, Hoffmeister, Michael, Klopp, Norman, Illig, Thomas, Chang-Claude, Jenny, Brenner, Hermann. \"Colorectal cancer and polymorphisms in DNA repair genes WRN, RMI1 and BLM.\" Carcinogenesis, 2010, pp. 442-5.\n",
       "{[}7{]} Yoshida, Kiyotsugu, Miki, Yoshio. \"Role of BRCA1 and BRCA2 as regulators of DNA repair, transcription, and cell cycle in response to DNA damage.\" Cancer science, 2004, pp. 866-71.\n",
       "{[}8{]} Jin, Mei Hua, Oh, Do-Youn. \"ATM in DNA repair in cancer.\" Pharmacology \\& therapeutics, 2019, pp. 107391.\n",
       "{[}9{]} Tarsounas, Madalena, Sung, Patrick. \"The antitumorigenic roles of BRCA1-BARD1 in DNA repair and replication.\" Nature reviews. Molecular cell biology, 2020, pp. 284-299.\n",
       "{[}10{]} Zebian, Abir, Shaito, Abdullah, Mazurier, Frédéric, Rezvani, Hamid Reza, Zibara, Kazem. \"XPC beyond nucleotide excision repair and skin cancers.\" Mutation research. Reviews in mutation research, 2019, pp. 108286.\n",
       "{[}11{]} Lindsey-Boltz, Laura A, Yang, Yanyan, Kose, Cansu, Deger, Nazli, Eynullazada, Khagani, Kawara, Hiroaki, Sancar, Aziz. \"Nucleotide excision repair in Human cell lines lacking both XPC and CSB proteins.\" Nucleic acids research, 2023, pp. 6238-6245.\n",
       "{[}12{]} Musich, Phillip R, Li, Zhengke, Zou, Yue. \"Xeroderma Pigmentosa Group A (XPA), Nucleotide Excision Repair and Regulation by ATR in Response to Ultraviolet Irradiation.\" Advances in experimental medicine and biology, 2017, pp. 41-54.\n",
       "{[}13{]} Blackford, Andrew N, Jackson, Stephen P. \"ATM, ATR, and DNA-PK: The Trinity at the Heart of the DNA Damage Response.\" Molecular cell, 2017, pp. 801-817.\n",
       "{[}14{]} Wu, Chenming, Chang, Yiming, Chen, Junliang, Su, Yang, Li, Lei, Chen, Yuping, Li, Yunhui, Wu, Jinhuan, Huang, Jinzhou, Zhao, Fei, Wang, Wenrui, Yin, Hui, Wang, Shunli, Jin, Mingpeng, Lou, Zhenkun, Zhu, Wei-Guo, Luo, Kuntian, Zhang, Jie, Yuan, Jian. \"USP37 regulates DNA damage response through stabilizing and deubiquitinating BLM.\" Nucleic acids research, 2021, pp. 11224-11240.\n",
       "{[}15{]} Foo, Tzeh Keong, Xia, Bing. \"BRCA1-Dependent and Independent Recruitment of PALB2-BRCA2-RAD51 in the DNA Damage Response and Cancer.\" Cancer research, 2022, pp. 3191-3197.\n",
       "                                                                                                                                                                                                                                                                                                                                                                                                                                                                                                                                                                                                                                                                                                                                                                                                                                                                                                                                                                                                                                                                    \\\\\n",
       "\t 2 & 2 &   0 & 0 & NEST:256 & MAPK signaling                   & ERBB2,ERBB4,FGFR2,FGFR4,HRAS,KRAS                   & ERBB4;ERBB2;KRAS;FGFR4;HRAS;FGFR2  & Receptor Tyrosine Kinase Signaling      & The most prominent biological process performed by the interacting proteins ERBB2, ERBB4, FGFR2, FGFR4, HRAS, and KRAS is receptor tyrosine kinase (RTK) signaling. This process is critical for cellular growth, differentiation, and survival.\n",
       "\n",
       "1. ERBB2 and ERBB4: Both proteins belong to the epidermal growth factor receptor (EGFR) family, which are receptor tyrosine kinases. They play a crucial role in cell proliferation and differentiation by binding to specific ligands, leading to the activation of downstream signaling pathways, such as the MAPK and PI3K/AKT pathways. ERBB2 is known to form heterodimers with other EGFR family members, enhancing the signaling capacity of the receptor complex.\n",
       "\n",
       "2. FGFR2 and FGFR4: These proteins are members of the fibroblast growth factor receptor (FGFR) family, which are also receptor tyrosine kinases. They are involved in various cellular processes, including cell growth, differentiation, and migration. FGFR2 and FGFR4 bind to fibroblast growth factors (FGFs), leading to receptor dimerization and activation of downstream signaling pathways, such as the RAS/MAPK and PI3K/AKT pathways.\n",
       "\n",
       "3. HRAS and KRAS: Both proteins are members of the RAS family of small GTPases, which function as molecular switches in various signaling pathways, including the RTK signaling pathway. They are involved in transmitting signals from activated RTKs to downstream effectors, such as the RAF/MEK/ERK and PI3K/AKT pathways. HRAS and KRAS are known to play a critical role in cell proliferation, differentiation, and survival.\n",
       "\n",
       "In conclusion, the interacting proteins ERBB2, ERBB4, FGFR2, FGFR4, HRAS, and KRAS are involved in the receptor tyrosine kinase signaling pathway, which is essential for cellular growth, differentiation, and survival. This process is initiated by the binding of specific ligands to the receptor tyrosine kinases (ERBB2, ERBB4, FGFR2, and FGFR4), leading to the activation of downstream signaling pathways, such as the RAS/MAPK and PI3K/AKT pathways, mediated by the small GTPases HRAS and KRAS.                                                                                                                                                                                                                                                                                                                                        & ⋯ & 2.224545e-12 & 5.071962e-10 & ERBB2,ERBB4,FGFR2,FGFR4,HRAS,KRAS                   & ERBB4;ERBB2;KRAS;FGFR4;HRAS;FGFR2  & Positive Regulation Of Phosphorylation  & GO:0042327 & 0.6257839 & 0.3991230 & LLM  & The most prominent biological process performed by the interacting proteins ERBB2, ERBB4, FGFR2, FGFR4, HRAS, and KRAS is receptor tyrosine kinase (RTK) signaling. This process is critical for cellular growth, differentiation, and survival.{[}1{]}{[}2{]}{[}3{]}\n",
       "\n",
       "1. ERBB2 and ERBB4: Both proteins belong to the epidermal growth factor receptor (EGFR) family, which are receptor tyrosine kinases. They play a crucial role in cell proliferation and differentiation by binding to specific ligands, leading to the activation of downstream signaling pathways, such as the MAPK and PI3K/AKT pathways. ERBB2 is known to form heterodimers with other EGFR family members, enhancing the signaling capacity of the receptor complex.{[}4{]}{[}5{]}{[}6{]}\n",
       "\n",
       "2. FGFR2 and FGFR4: These proteins are members of the fibroblast growth factor receptor (FGFR) family, which are also receptor tyrosine kinases. They are involved in various cellular processes, including cell growth, differentiation, and migration. FGFR2 and FGFR4 bind to fibroblast growth factors (FGFs), leading to receptor dimerization and activation of downstream signaling pathways, such as the RAS/MAPK and PI3K/AKT pathways.{[}7{]}{[}8{]}{[}9{]}\n",
       "\n",
       "3. HRAS and KRAS: Both proteins are members of the RAS family of small GTPases, which function as molecular switches in various signaling pathways, including the RTK signaling pathway. They are involved in transmitting signals from activated RTKs to downstream effectors, such as the RAF/MEK/ERK and PI3K/AKT pathways. HRAS and KRAS are known to play a critical role in cell proliferation, differentiation, and survival.{[}10{]}{[}11{]}{[}12{]}\n",
       "\n",
       "In conclusion, the interacting proteins ERBB2, ERBB4, FGFR2, FGFR4, HRAS, and KRAS are involved in the receptor tyrosine kinase signaling pathway, which is essential for cellular growth, differentiation, and survival. This process is initiated by the binding of specific ligands to the receptor tyrosine kinases (ERBB2, ERBB4, FGFR2, and FGFR4), leading to the activation of downstream signaling pathways, such as the RAS/MAPK and PI3K/AKT pathways, mediated by the small GTPases HRAS and KRAS.{[}13{]}{[}14{]}{[}15{]}\n",
       "\n",
       "========================================================================================================================================================================================================\n",
       "{[}1{]} Hoesl, Christine, Röhrl, Jennifer M, Schneider, Marlon R, Dahlhoff, Maik. \"The receptor tyrosine kinase ERBB4 is expressed in skin keratinocytes and influences epidermal proliferation.\" Biochimica et biophysica acta. General subjects, 2018, pp. 958-966.\n",
       "{[}2{]} Canfield, Kaleigh, Li, Jiaqi, Wilkins, Owen M, Morrison, Meghan M, Ung, Matthew, Wells, Wendy, Williams, Charlotte R, Liby, Karen T, Vullhorst, Detlef, Buonanno, Andres, Hu, Huizhong, Schiff, Rachel, Cook, Rebecca S, Kurokawa, Manabu. \"Receptor tyrosine kinase ERBB4 mediates acquired resistance to ERBB2 inhibitors in breast cancer cells.\" Cell cycle (Georgetown, Tex.), 2015, pp. 648-55.\n",
       "{[}3{]} Li, W, Shi, Q, Wang, W, Liu, J, Ren, J, Li, Q, Hou, F. \"KRAS status and resistance to epidermal growth factor receptor tyrosine-kinase inhibitor treatment in patients with metastatic colorectal cancer: a meta-analysis.\" Colorectal disease : the official journal of the Association of Coloproctology of Great Britain and Ireland, 2014, pp. O370-8.\n",
       "{[}4{]} Wei, Dang, Rui, Bian, Qingquan, Fan, Chen, Cai, Ping, Hu Yun, Xiaoling, Song, Hao, Weng, Jun, Gu. \"KIF11 promotes cell proliferation via ERBB2/PI3K/AKT signaling pathway in gallbladder cancer.\" International journal of biological sciences, 2021, pp. 514-526.\n",
       "{[}5{]} Ma, Xuejiao, Chen, Jingruo, Huang, Bohan, Fu, Shiqi, Qu, Shuai, Yu, Rong, Zhao, Yuhua. \"ErbB2-upregulated HK1 and HK2 promote breast cancer cell proliferation, migration and invasion.\" Medical oncology (Northwood, London, England), 2023, pp. 154.\n",
       "{[}6{]} Kedashiro, Shin, Kameyama, Takeshi, Mizutani, Kiyohito, Takai, Yoshimi. \"Stimulatory role of nectin-4 and p95-ErbB2 in multilayered T47D cell proliferation.\" Genes to cells : devoted to molecular \\& cellular mechanisms, 2022, pp. 451-464.\n",
       "{[}7{]} Fang, Xianlong, Yang, Dongmei, Luo, Hongping, Wu, Shuai, Dong, Wenjie, Xiao, Jing, Yuan, Sujing, Ni, Aimin, Zhang, Kang-Jian, Liu, Xin-Yuan, Chu, Liang. \"SNORD126 promotes HCC and CRC cell growth by activating the PI3K-AKT pathway through FGFR2.\" Journal of molecular cell biology, 2017, pp. 243-255.\n",
       "{[}8{]} Shi, Yuanyuan, Liu, Xuejiao, Fredimoses, Mangaladoss, Song, Mengqiu, Chen, Hanyong, Liu, Kangdong, Lee, Mee-Hyun, Dong, Zigang. \"FGFR2 regulation by picrasidine Q inhibits the cell growth and induces apoptosis in esophageal squamous cell carcinoma.\" Journal of cellular biochemistry, 2018, pp. 2231-2239.\n",
       "{[}9{]} Park, Jihyun, Kim, Sun Young, Kim, Ha-Jung, Kim, Kyoung-Mee, Choi, Eun Young, Kang, Myung-Soo. \"A reciprocal regulatory circuit between CD44 and FGFR2 via c-myc controls gastric cancer cell growth.\" Oncotarget, 2016, pp. 28670-83.\n",
       "{[}10{]} Ternet, Camille, Kiel, Christina. \"Signaling pathways in intestinal homeostasis and colorectal cancer: KRAS at centre stage.\" Cell communication and signaling : CCS, 2021, pp. 31.\n",
       "{[}11{]} Fitzgerald, Timothy L, Lertpiriyapong, Kvin, Cocco, Lucio, Martelli, Alberto M, Libra, Massimo, Candido, Saverio, Montalto, Giuseppe, Cervello, Melchiorre, Steelman, Linda, Abrams, Stephen L, McCubrey, James A. \"Roles of EGFR and KRAS and their downstream signaling pathways in pancreatic cancer and pancreatic cancer stem cells.\" Advances in biological regulation, 2015, pp. 65-81.\n",
       "{[}12{]} Liu, Zhonglu, Liu, Feifei, Wang, Fang, Yang, Xin, Guo, Wentao. \"CircZNF609 promotes cell proliferation, migration, invasion, and glycolysis in nasopharyngeal carcinoma through regulating HRAS via miR-338-3p.\" Molecular and cellular biochemistry, 2021, pp. 175-186.\n",
       "{[}13{]} Hoesl, Christine, Röhrl, Jennifer M, Schneider, Marlon R, Dahlhoff, Maik. \"The receptor tyrosine kinase ERBB4 is expressed in skin keratinocytes and influences epidermal proliferation.\" Biochimica et biophysica acta. General subjects, 2018, pp. 958-966.\n",
       "{[}14{]} Canfield, Kaleigh, Li, Jiaqi, Wilkins, Owen M, Morrison, Meghan M, Ung, Matthew, Wells, Wendy, Williams, Charlotte R, Liby, Karen T, Vullhorst, Detlef, Buonanno, Andres, Hu, Huizhong, Schiff, Rachel, Cook, Rebecca S, Kurokawa, Manabu. \"Receptor tyrosine kinase ERBB4 mediates acquired resistance to ERBB2 inhibitors in breast cancer cells.\" Cell cycle (Georgetown, Tex.), 2015, pp. 648-55.\n",
       "{[}15{]} Li, W, Shi, Q, Wang, W, Liu, J, Ren, J, Li, Q, Hou, F. \"KRAS status and resistance to epidermal growth factor receptor tyrosine-kinase inhibitor treatment in patients with metastatic colorectal cancer: a meta-analysis.\" Colorectal disease : the official journal of the Association of Coloproctology of Great Britain and Ireland, 2014, pp. O370-8.\n",
       "\\\\\n",
       "\\end{tabular}\n"
      ],
      "text/markdown": [
       "\n",
       "A spec_tbl_df: 3 × 22\n",
       "\n",
       "| ...1 &lt;dbl&gt; | Unnamed: 0.1 &lt;dbl&gt; | index &lt;dbl&gt; | Unnamed: 0 &lt;dbl&gt; | NEST ID &lt;chr&gt; | name_new &lt;chr&gt; | Genes &lt;chr&gt; | Genes.1 &lt;chr&gt; | LLM Name &lt;chr&gt; | LLM Analysis &lt;chr&gt; | ⋯ ⋯ | P-value &lt;dbl&gt; | Adjusted P-value &lt;dbl&gt; | Genes.2 &lt;chr&gt; | Genes.3 &lt;chr&gt; | GO term &lt;chr&gt; | GO ID &lt;chr&gt; | LLM_name_human_name_sim &lt;dbl&gt; | GO_term_human_name_sim &lt;dbl&gt; | winner &lt;chr&gt; | References &lt;chr&gt; |\n",
       "|---|---|---|---|---|---|---|---|---|---|---|---|---|---|---|---|---|---|---|---|---|\n",
       "| 0 | 0 | 420 | 0 | NEST:125 | Extended mismatch repair complex | ERCC1,ERCC4,MLH1,MLH3,MSH2,MSH3,MSH6,PMS1,PMS2,SLX4 | MSH6;MSH2;MSH3;PMS2;MLH1;MLH3;PMS1 | DNA Mismatch Repair and Excision Repair | The primary biological process performed by this system of interacting proteins is DNA mismatch repair and excision repair. These processes are crucial for maintaining genomic stability and preventing mutations.\n",
       "\n",
       "1. ERCC1 and ERCC4: These proteins form a heterodimeric endonuclease complex involved in nucleotide excision repair (NER). ERCC1 is responsible for DNA damage recognition, while ERCC4 provides the catalytic activity for DNA incision. Together, they remove DNA lesions caused by UV radiation and other genotoxic agents, preventing mutations and maintaining genomic stability.\n",
       "\n",
       "2. MLH1, MLH3, PMS1, and PMS2: These proteins are part of the MutL family and play essential roles in DNA mismatch repair (MMR). MLH1 forms heterodimers with PMS2 (MutLα), MLH3 (MutLγ), and PMS1 (MutLβ). MutLα is the primary complex involved in MMR, while MutLγ and MutLβ have specialized roles in meiotic recombination and mutation avoidance, respectively. These complexes coordinate with MutS family proteins (MSH2, MSH3, and MSH6) to recognize and repair DNA mismatches, insertions, and deletions, ensuring accurate DNA replication and preventing mutations.\n",
       "\n",
       "3. MSH2, MSH3, MSH6: These proteins belong to the MutS family and are involved in DNA mismatch repair (MMR). MSH2 forms heterodimers with MSH6 (MutSα) and MSH3 (MutSβ). MutSα recognizes base mismatches and small insertion/deletion loops, while MutSβ recognizes larger insertion/deletion loops. These complexes initiate the MMR process by binding to DNA mismatches and recruiting MutL family proteins to repair the errors.\n",
       "\n",
       "4. SLX4: This protein acts as a scaffold for multiple structure-specific endonucleases, including ERCC1-ERCC4, and is involved in the repair of DNA interstrand crosslinks, double-strand breaks, and replication fork collapse. SLX4 interacts with ERCC1 and ERCC4, coordinating their activities in nucleotide excision repair and ensuring the efficient removal of DNA lesions.\n",
       "\n",
       "In conclusion, the primary biological process performed by this system of interacting proteins is DNA mismatch repair and excision repair, which are essential for maintaining genomic stability and preventing mutations. The proteins work together in a coordinated manner to recognize and repair DNA errors, ensuring accurate DNA replication and preventing the accumulation of mutations that could lead to diseases such as cancer. | ⋯ | 2.266332e-19 | 1.566032e-17 | ERCC1,ERCC4,MLH1,MLH3,MSH2,MSH3,MSH6,PMS1,PMS2,SLX4 | MSH6;MSH2;MSH3;PMS2;MLH1;MLH3;PMS1 | Mismatch Repair                         | GO:0006298 | 0.7892810 | 0.7637749 | Tied | The primary biological process performed by this system of interacting proteins is DNA mismatch repair and excision repair. These processes are crucial for maintaining genomic stability and preventing mutations.\n",
       "\n",
       "1. ERCC1 and ERCC4: These proteins form a heterodimeric endonuclease complex involved in nucleotide excision repair (NER). ERCC1 is responsible for DNA damage recognition, while ERCC4 provides the catalytic activity for DNA incision. Together, they remove DNA lesions caused by UV radiation and other genotoxic agents, preventing mutations and maintaining genomic stability.[1][2][3]\n",
       "\n",
       "2. MLH1, MLH3, PMS1, and PMS2: These proteins are part of the MutL family and play essential roles in DNA mismatch repair (MMR). MLH1 forms heterodimers with PMS2 (MutLα), MLH3 (MutLγ), and PMS1 (MutLβ). MutLα is the primary complex involved in MMR, while MutLγ and MutLβ have specialized roles in meiotic recombination and mutation avoidance, respectively. These complexes coordinate with MutS family proteins (MSH2, MSH3, and MSH6) to recognize and repair DNA mismatches, insertions, and deletions, ensuring accurate DNA replication and preventing mutations.[4][5][6]\n",
       "\n",
       "3. MSH2, MSH3, MSH6: These proteins belong to the MutS family and are involved in DNA mismatch repair (MMR). MSH2 forms heterodimers with MSH6 (MutSα) and MSH3 (MutSβ). MutSα recognizes base mismatches and small insertion/deletion loops, while MutSβ recognizes larger insertion/deletion loops. These complexes initiate the MMR process by binding to DNA mismatches and recruiting MutL family proteins to repair the errors.[7][8][9]\n",
       "\n",
       "4. SLX4: This protein acts as a scaffold for multiple structure-specific endonucleases, including ERCC1-ERCC4, and is involved in the repair of DNA interstrand crosslinks, double-strand breaks, and replication fork collapse. SLX4 interacts with ERCC1 and ERCC4, coordinating their activities in nucleotide excision repair and ensuring the efficient removal of DNA lesions.[10][11][12]\n",
       "\n",
       "In conclusion, the primary biological process performed by this system of interacting proteins is DNA mismatch repair and excision repair, which are essential for maintaining genomic stability and preventing mutations. The proteins work together in a coordinated manner to recognize and repair DNA errors, ensuring accurate DNA replication and preventing the accumulation of mutations that could lead to diseases such as cancer.\n",
       "\n",
       "========================================================================================================================================================================================================\n",
       "[1] Biggerstaff, M, Szymkowski, D E, Wood, R D. \"Co-correction of the ERCC1, ERCC4 and xeroderma pigmentosum group F DNA repair defects in vitro.\" The EMBO journal, 1993, pp. 3685-92.\n",
       "[2] Jiang, Chunming, Shen, Fang, Du, Jianmin, Wang, Xiaohua, Su, Jin, Liu, Zhanli, Huang, Xianmei. \"DNA repair gene ERCC1 polymorphisms and glioma susceptibility among Chinese population: a meta-analysis.\" International journal of clinical and experimental medicine, 2015, pp. 10248-55.\n",
       "[3] van Vuuren, A J, Appeldoorn, E, Odijk, H, Humbert, S, Moncollin, V, Eker, A P, Jaspers, N G, Egly, J M, Hoeijmakers, J H. \"Partial characterization of the DNA repair protein complex, containing the ERCC1, ERCC4, ERCC11 and XPF correcting activities.\" Mutation research, 1995, pp. 25-39.\n",
       "[4] Rogacheva, Maria V, Manhart, Carol M, Chen, Cheng, Guarne, Alba, Surtees, Jennifer, Alani, Eric. \"Mlh1-Mlh3, a meiotic crossover and DNA mismatch repair factor, is a Msh2-Msh3-stimulated endonuclease.\" The Journal of biological chemistry, 2014, pp. 5664-73.\n",
       "[5] Prolla, T A, Pang, Q, Alani, E, Kolodner, R D, Liskay, R M. \"MLH1, PMS1, and MSH2 interactions during the initiation of DNA mismatch repair in yeast.\" Science (New York, N.Y.), 1994, pp. 1091-3.\n",
       "[6] Al-Sweel, Najla, Raghavan, Vandana, Dutta, Abhishek, Ajith, V P, Di Vietro, Luigi, Khondakar, Nabila, Manhart, Carol M, Surtees, Jennifer A, Nishant, K T, Alani, Eric. \"mlh3 mutations in baker's yeast alter meiotic recombination outcomes by increasing noncrossover events genome-wide.\" PLoS genetics, 2017, pp. e1006974.\n",
       "[7] Edelbrock, Michael A, Kaliyaperumal, Saravanan, Williams, Kandace J. \"Structural, molecular and cellular functions of MSH2 and MSH6 during DNA mismatch repair, damage signaling and other noncanonical activities.\" Mutation research, 2013, pp. 53-66.\n",
       "[8] Stark, Andreas M, Doukas, Alexander, Hugo, Heinz-Herrmann, Hedderich, Jürgen, Hattermann, Kirsten, Maximilian Mehdorn, H, Held-Feindt, Janka. \"Expression of DNA mismatch repair proteins MLH1, MSH2, and MSH6 in recurrent glioblastoma.\" Neurological research, 2015, pp. 95-105.\n",
       "[9] Rogacheva, Maria V, Manhart, Carol M, Chen, Cheng, Guarne, Alba, Surtees, Jennifer, Alani, Eric. \"Mlh1-Mlh3, a meiotic crossover and DNA mismatch repair factor, is a Msh2-Msh3-stimulated endonuclease.\" The Journal of biological chemistry, 2014, pp. 5664-73.\n",
       "[10] Young, Sarah J, West, Stephen C. \"Coordinated roles of SLX4 and MutSβ in DNA repair and the maintenance of genome stability.\" Critical reviews in biochemistry and molecular biology, 2021, pp. 157-177.\n",
       "[11] Biggerstaff, M, Szymkowski, D E, Wood, R D. \"Co-correction of the ERCC1, ERCC4 and xeroderma pigmentosum group F DNA repair defects in vitro.\" The EMBO journal, 1993, pp. 3685-92.\n",
       "[12] van Vuuren, A J, Appeldoorn, E, Odijk, H, Humbert, S, Moncollin, V, Eker, A P, Jaspers, N G, Egly, J M, Hoeijmakers, J H. \"Partial characterization of the DNA repair protein complex, containing the ERCC1, ERCC4, ERCC11 and XPF correcting activities.\" Mutation research, 1995, pp. 25-39.\n",
       "                                                                                                                                                                                                                                                                                                                                                                                                                                                                                                                                                                                                                                                                                                                                                                                                                                                                                                                                                                                                                                                                                                                                                                |\n",
       "| 1 | 1 | 228 | 0 | NEST:134 | RPA complex associated proteins  | ATM,ATR,BLM,BRCA1,XPA,XPC                           | BLM;XPA;ATM;XPC;BRCA1;ATR          | DNA Damage Response and Repair          | The most prominent biological process performed by this system of interacting proteins is DNA damage response and repair. These proteins play crucial roles in maintaining genomic stability and preventing the accumulation of mutations that can lead to diseases such as cancer.\n",
       "\n",
       "1. ATM and ATR: These proteins are key kinases involved in the DNA damage response. They are activated by different types of DNA damage, such as double-strand breaks (ATM) and replication stress (ATR). Upon activation, they phosphorylate numerous downstream targets, including other proteins in this system, to initiate the appropriate repair pathways.\n",
       "\n",
       "2. BLM: This protein is a RecQ helicase that plays a role in DNA repair, replication, and recombination. BLM is involved in resolving complex DNA structures, such as Holliday junctions, and preventing genome instability. Mutations in BLM can lead to Bloom syndrome, a rare disorder characterized by increased cancer susceptibility.\n",
       "\n",
       "3. BRCA1: This protein is a tumor suppressor involved in multiple DNA repair pathways, including homologous recombination and non-homologous end joining. BRCA1 interacts with several other proteins in this system, such as ATM and ATR, to coordinate the DNA damage response. Mutations in BRCA1 are associated with an increased risk of breast and ovarian cancer.\n",
       "\n",
       "4. XPA and XPC: These proteins are involved in nucleotide excision repair (NER), a pathway that removes bulky DNA lesions, such as those caused by UV radiation. XPC is responsible for damage recognition, while XPA plays a role in damage verification and recruitment of other NER factors. Defects in XPA or XPC can lead to xeroderma pigmentosum, a rare disorder characterized by extreme sensitivity to sunlight and increased skin cancer risk.\n",
       "\n",
       "In conclusion, the interacting proteins ATM, ATR, BLM, BRCA1, XPA, and XPC are essential for maintaining genomic stability by coordinating the DNA damage response and participating in various DNA repair pathways. Their dysfunction can lead to genome instability and increased susceptibility to cancer.                                                                                                                                                                                                                                                                                                                   | ⋯ | 8.464498e-12 | 8.651916e-10 | ATM,ATR,BLM,BRCA1,XPA,XPC                           | BLM;XPA;ATM;XPC;BRCA1;ATR          | DNA Metabolic Process                   | GO:0006259 | 0.4103665 | 0.2250555 | LLM  | The most prominent biological process performed by this system of interacting proteins is DNA damage response and repair. These proteins play crucial roles in maintaining genomic stability and preventing the accumulation of mutations that can lead to diseases such as cancer.\n",
       "\n",
       "1. ATM and ATR: These proteins are key kinases involved in the DNA damage response. They are activated by different types of DNA damage, such as double-strand breaks (ATM) and replication stress (ATR). Upon activation, they phosphorylate numerous downstream targets, including other proteins in this system, to initiate the appropriate repair pathways.[1][2][3]\n",
       "\n",
       "2. BLM: This protein is a RecQ helicase that plays a role in DNA repair, replication, and recombination. BLM is involved in resolving complex DNA structures, such as Holliday junctions, and preventing genome instability. Mutations in BLM can lead to Bloom syndrome, a rare disorder characterized by increased cancer susceptibility.[4][5][6]\n",
       "\n",
       "3. BRCA1: This protein is a tumor suppressor involved in multiple DNA repair pathways, including homologous recombination and non-homologous end joining. BRCA1 interacts with several other proteins in this system, such as ATM and ATR, to coordinate the DNA damage response. Mutations in BRCA1 are associated with an increased risk of breast and ovarian cancer.[7][8][9]\n",
       "\n",
       "4. XPA and XPC: These proteins are involved in nucleotide excision repair (NER), a pathway that removes bulky DNA lesions, such as those caused by UV radiation. XPC is responsible for damage recognition, while XPA plays a role in damage verification and recruitment of other NER factors. Defects in XPA or XPC can lead to xeroderma pigmentosum, a rare disorder characterized by extreme sensitivity to sunlight and increased skin cancer risk.[10][11][12]\n",
       "\n",
       "In conclusion, the interacting proteins ATM, ATR, BLM, BRCA1, XPA, and XPC are essential for maintaining genomic stability by coordinating the DNA damage response and participating in various DNA repair pathways. Their dysfunction can lead to genome instability and increased susceptibility to cancer.[13][14][15]\n",
       "\n",
       "========================================================================================================================================================================================================\n",
       "[1] Blackford, Andrew N, Jackson, Stephen P. \"ATM, ATR, and DNA-PK: The Trinity at the Heart of the DNA Damage Response.\" Molecular cell, 2017, pp. 801-817.\n",
       "[2] Zhang, Jingjing, Wu, Qiong, Zhu, Lucheng, Xie, Shujun, Tu, Linglan, Yang, Yuhong, Wu, Kan, Zhao, Yanyan, Wang, Yuqing, Xu, Yasi, Chen, Xueqin, Ma, Shenglin, Zhang, Shirong. \"SERPINE2/PN-1 regulates the DNA damage response and radioresistance by activating ATM in lung cancer.\" Cancer letters, 2022, pp. 268-283.\n",
       "[3] Lopez-Pelaez, Marta, Young, Lucy, Vazquez-Chantada, Mercedes, Nelson, Nadine, Durant, Steve, Wilkinson, Robert W, Poon, Edmund, Gaspar, Miguel, Valge-Archer, Viia, Smith, Paul, Dovedi, Simon J. \"Targeting DNA damage response components induces enhanced STING-dependent type-I IFN response in ATM deficient cancer cells and drives dendritic cell activation.\" Oncoimmunology, 2022, pp. 2117321.\n",
       "[4] Dhar, Srijita, Brosh, Robert M. \"BLM's balancing act and the involvement of FANCJ in DNA repair.\" Cell cycle (Georgetown, Tex.), 2018, pp. 2207-2220.\n",
       "[5] Bendtsen, Kristian Moss, Jensen, Martin Borch, May, Alfred, Rasmussen, Lene Juel, Trusina, Ala, Bohr, Vilhelm A, Jensen, Mogens H. \"Dynamics of the DNA repair proteins WRN and BLM in the nucleoplasm and nucleoli.\" European biophysics journal : EBJ, 2014, pp. 509-16.\n",
       "[6] Frank, Bernd, Hoffmeister, Michael, Klopp, Norman, Illig, Thomas, Chang-Claude, Jenny, Brenner, Hermann. \"Colorectal cancer and polymorphisms in DNA repair genes WRN, RMI1 and BLM.\" Carcinogenesis, 2010, pp. 442-5.\n",
       "[7] Yoshida, Kiyotsugu, Miki, Yoshio. \"Role of BRCA1 and BRCA2 as regulators of DNA repair, transcription, and cell cycle in response to DNA damage.\" Cancer science, 2004, pp. 866-71.\n",
       "[8] Jin, Mei Hua, Oh, Do-Youn. \"ATM in DNA repair in cancer.\" Pharmacology &amp; therapeutics, 2019, pp. 107391.\n",
       "[9] Tarsounas, Madalena, Sung, Patrick. \"The antitumorigenic roles of BRCA1-BARD1 in DNA repair and replication.\" Nature reviews. Molecular cell biology, 2020, pp. 284-299.\n",
       "[10] Zebian, Abir, Shaito, Abdullah, Mazurier, Frédéric, Rezvani, Hamid Reza, Zibara, Kazem. \"XPC beyond nucleotide excision repair and skin cancers.\" Mutation research. Reviews in mutation research, 2019, pp. 108286.\n",
       "[11] Lindsey-Boltz, Laura A, Yang, Yanyan, Kose, Cansu, Deger, Nazli, Eynullazada, Khagani, Kawara, Hiroaki, Sancar, Aziz. \"Nucleotide excision repair in Human cell lines lacking both XPC and CSB proteins.\" Nucleic acids research, 2023, pp. 6238-6245.\n",
       "[12] Musich, Phillip R, Li, Zhengke, Zou, Yue. \"Xeroderma Pigmentosa Group A (XPA), Nucleotide Excision Repair and Regulation by ATR in Response to Ultraviolet Irradiation.\" Advances in experimental medicine and biology, 2017, pp. 41-54.\n",
       "[13] Blackford, Andrew N, Jackson, Stephen P. \"ATM, ATR, and DNA-PK: The Trinity at the Heart of the DNA Damage Response.\" Molecular cell, 2017, pp. 801-817.\n",
       "[14] Wu, Chenming, Chang, Yiming, Chen, Junliang, Su, Yang, Li, Lei, Chen, Yuping, Li, Yunhui, Wu, Jinhuan, Huang, Jinzhou, Zhao, Fei, Wang, Wenrui, Yin, Hui, Wang, Shunli, Jin, Mingpeng, Lou, Zhenkun, Zhu, Wei-Guo, Luo, Kuntian, Zhang, Jie, Yuan, Jian. \"USP37 regulates DNA damage response through stabilizing and deubiquitinating BLM.\" Nucleic acids research, 2021, pp. 11224-11240.\n",
       "[15] Foo, Tzeh Keong, Xia, Bing. \"BRCA1-Dependent and Independent Recruitment of PALB2-BRCA2-RAD51 in the DNA Damage Response and Cancer.\" Cancer research, 2022, pp. 3191-3197.\n",
       "                                                                                                                                                                                                                                                                                                                                                                                                                                                                                                                                                                                                                                                                                                                                                                                                                                                                                                                                                                                                                                                                     |\n",
       "| 2 | 2 |   0 | 0 | NEST:256 | MAPK signaling                   | ERBB2,ERBB4,FGFR2,FGFR4,HRAS,KRAS                   | ERBB4;ERBB2;KRAS;FGFR4;HRAS;FGFR2  | Receptor Tyrosine Kinase Signaling      | The most prominent biological process performed by the interacting proteins ERBB2, ERBB4, FGFR2, FGFR4, HRAS, and KRAS is receptor tyrosine kinase (RTK) signaling. This process is critical for cellular growth, differentiation, and survival.\n",
       "\n",
       "1. ERBB2 and ERBB4: Both proteins belong to the epidermal growth factor receptor (EGFR) family, which are receptor tyrosine kinases. They play a crucial role in cell proliferation and differentiation by binding to specific ligands, leading to the activation of downstream signaling pathways, such as the MAPK and PI3K/AKT pathways. ERBB2 is known to form heterodimers with other EGFR family members, enhancing the signaling capacity of the receptor complex.\n",
       "\n",
       "2. FGFR2 and FGFR4: These proteins are members of the fibroblast growth factor receptor (FGFR) family, which are also receptor tyrosine kinases. They are involved in various cellular processes, including cell growth, differentiation, and migration. FGFR2 and FGFR4 bind to fibroblast growth factors (FGFs), leading to receptor dimerization and activation of downstream signaling pathways, such as the RAS/MAPK and PI3K/AKT pathways.\n",
       "\n",
       "3. HRAS and KRAS: Both proteins are members of the RAS family of small GTPases, which function as molecular switches in various signaling pathways, including the RTK signaling pathway. They are involved in transmitting signals from activated RTKs to downstream effectors, such as the RAF/MEK/ERK and PI3K/AKT pathways. HRAS and KRAS are known to play a critical role in cell proliferation, differentiation, and survival.\n",
       "\n",
       "In conclusion, the interacting proteins ERBB2, ERBB4, FGFR2, FGFR4, HRAS, and KRAS are involved in the receptor tyrosine kinase signaling pathway, which is essential for cellular growth, differentiation, and survival. This process is initiated by the binding of specific ligands to the receptor tyrosine kinases (ERBB2, ERBB4, FGFR2, and FGFR4), leading to the activation of downstream signaling pathways, such as the RAS/MAPK and PI3K/AKT pathways, mediated by the small GTPases HRAS and KRAS.                                                                                                                                                                                                                                                                                                                                        | ⋯ | 2.224545e-12 | 5.071962e-10 | ERBB2,ERBB4,FGFR2,FGFR4,HRAS,KRAS                   | ERBB4;ERBB2;KRAS;FGFR4;HRAS;FGFR2  | Positive Regulation Of Phosphorylation  | GO:0042327 | 0.6257839 | 0.3991230 | LLM  | The most prominent biological process performed by the interacting proteins ERBB2, ERBB4, FGFR2, FGFR4, HRAS, and KRAS is receptor tyrosine kinase (RTK) signaling. This process is critical for cellular growth, differentiation, and survival.[1][2][3]\n",
       "\n",
       "1. ERBB2 and ERBB4: Both proteins belong to the epidermal growth factor receptor (EGFR) family, which are receptor tyrosine kinases. They play a crucial role in cell proliferation and differentiation by binding to specific ligands, leading to the activation of downstream signaling pathways, such as the MAPK and PI3K/AKT pathways. ERBB2 is known to form heterodimers with other EGFR family members, enhancing the signaling capacity of the receptor complex.[4][5][6]\n",
       "\n",
       "2. FGFR2 and FGFR4: These proteins are members of the fibroblast growth factor receptor (FGFR) family, which are also receptor tyrosine kinases. They are involved in various cellular processes, including cell growth, differentiation, and migration. FGFR2 and FGFR4 bind to fibroblast growth factors (FGFs), leading to receptor dimerization and activation of downstream signaling pathways, such as the RAS/MAPK and PI3K/AKT pathways.[7][8][9]\n",
       "\n",
       "3. HRAS and KRAS: Both proteins are members of the RAS family of small GTPases, which function as molecular switches in various signaling pathways, including the RTK signaling pathway. They are involved in transmitting signals from activated RTKs to downstream effectors, such as the RAF/MEK/ERK and PI3K/AKT pathways. HRAS and KRAS are known to play a critical role in cell proliferation, differentiation, and survival.[10][11][12]\n",
       "\n",
       "In conclusion, the interacting proteins ERBB2, ERBB4, FGFR2, FGFR4, HRAS, and KRAS are involved in the receptor tyrosine kinase signaling pathway, which is essential for cellular growth, differentiation, and survival. This process is initiated by the binding of specific ligands to the receptor tyrosine kinases (ERBB2, ERBB4, FGFR2, and FGFR4), leading to the activation of downstream signaling pathways, such as the RAS/MAPK and PI3K/AKT pathways, mediated by the small GTPases HRAS and KRAS.[13][14][15]\n",
       "\n",
       "========================================================================================================================================================================================================\n",
       "[1] Hoesl, Christine, Röhrl, Jennifer M, Schneider, Marlon R, Dahlhoff, Maik. \"The receptor tyrosine kinase ERBB4 is expressed in skin keratinocytes and influences epidermal proliferation.\" Biochimica et biophysica acta. General subjects, 2018, pp. 958-966.\n",
       "[2] Canfield, Kaleigh, Li, Jiaqi, Wilkins, Owen M, Morrison, Meghan M, Ung, Matthew, Wells, Wendy, Williams, Charlotte R, Liby, Karen T, Vullhorst, Detlef, Buonanno, Andres, Hu, Huizhong, Schiff, Rachel, Cook, Rebecca S, Kurokawa, Manabu. \"Receptor tyrosine kinase ERBB4 mediates acquired resistance to ERBB2 inhibitors in breast cancer cells.\" Cell cycle (Georgetown, Tex.), 2015, pp. 648-55.\n",
       "[3] Li, W, Shi, Q, Wang, W, Liu, J, Ren, J, Li, Q, Hou, F. \"KRAS status and resistance to epidermal growth factor receptor tyrosine-kinase inhibitor treatment in patients with metastatic colorectal cancer: a meta-analysis.\" Colorectal disease : the official journal of the Association of Coloproctology of Great Britain and Ireland, 2014, pp. O370-8.\n",
       "[4] Wei, Dang, Rui, Bian, Qingquan, Fan, Chen, Cai, Ping, Hu Yun, Xiaoling, Song, Hao, Weng, Jun, Gu. \"KIF11 promotes cell proliferation via ERBB2/PI3K/AKT signaling pathway in gallbladder cancer.\" International journal of biological sciences, 2021, pp. 514-526.\n",
       "[5] Ma, Xuejiao, Chen, Jingruo, Huang, Bohan, Fu, Shiqi, Qu, Shuai, Yu, Rong, Zhao, Yuhua. \"ErbB2-upregulated HK1 and HK2 promote breast cancer cell proliferation, migration and invasion.\" Medical oncology (Northwood, London, England), 2023, pp. 154.\n",
       "[6] Kedashiro, Shin, Kameyama, Takeshi, Mizutani, Kiyohito, Takai, Yoshimi. \"Stimulatory role of nectin-4 and p95-ErbB2 in multilayered T47D cell proliferation.\" Genes to cells : devoted to molecular &amp; cellular mechanisms, 2022, pp. 451-464.\n",
       "[7] Fang, Xianlong, Yang, Dongmei, Luo, Hongping, Wu, Shuai, Dong, Wenjie, Xiao, Jing, Yuan, Sujing, Ni, Aimin, Zhang, Kang-Jian, Liu, Xin-Yuan, Chu, Liang. \"SNORD126 promotes HCC and CRC cell growth by activating the PI3K-AKT pathway through FGFR2.\" Journal of molecular cell biology, 2017, pp. 243-255.\n",
       "[8] Shi, Yuanyuan, Liu, Xuejiao, Fredimoses, Mangaladoss, Song, Mengqiu, Chen, Hanyong, Liu, Kangdong, Lee, Mee-Hyun, Dong, Zigang. \"FGFR2 regulation by picrasidine Q inhibits the cell growth and induces apoptosis in esophageal squamous cell carcinoma.\" Journal of cellular biochemistry, 2018, pp. 2231-2239.\n",
       "[9] Park, Jihyun, Kim, Sun Young, Kim, Ha-Jung, Kim, Kyoung-Mee, Choi, Eun Young, Kang, Myung-Soo. \"A reciprocal regulatory circuit between CD44 and FGFR2 via c-myc controls gastric cancer cell growth.\" Oncotarget, 2016, pp. 28670-83.\n",
       "[10] Ternet, Camille, Kiel, Christina. \"Signaling pathways in intestinal homeostasis and colorectal cancer: KRAS at centre stage.\" Cell communication and signaling : CCS, 2021, pp. 31.\n",
       "[11] Fitzgerald, Timothy L, Lertpiriyapong, Kvin, Cocco, Lucio, Martelli, Alberto M, Libra, Massimo, Candido, Saverio, Montalto, Giuseppe, Cervello, Melchiorre, Steelman, Linda, Abrams, Stephen L, McCubrey, James A. \"Roles of EGFR and KRAS and their downstream signaling pathways in pancreatic cancer and pancreatic cancer stem cells.\" Advances in biological regulation, 2015, pp. 65-81.\n",
       "[12] Liu, Zhonglu, Liu, Feifei, Wang, Fang, Yang, Xin, Guo, Wentao. \"CircZNF609 promotes cell proliferation, migration, invasion, and glycolysis in nasopharyngeal carcinoma through regulating HRAS via miR-338-3p.\" Molecular and cellular biochemistry, 2021, pp. 175-186.\n",
       "[13] Hoesl, Christine, Röhrl, Jennifer M, Schneider, Marlon R, Dahlhoff, Maik. \"The receptor tyrosine kinase ERBB4 is expressed in skin keratinocytes and influences epidermal proliferation.\" Biochimica et biophysica acta. General subjects, 2018, pp. 958-966.\n",
       "[14] Canfield, Kaleigh, Li, Jiaqi, Wilkins, Owen M, Morrison, Meghan M, Ung, Matthew, Wells, Wendy, Williams, Charlotte R, Liby, Karen T, Vullhorst, Detlef, Buonanno, Andres, Hu, Huizhong, Schiff, Rachel, Cook, Rebecca S, Kurokawa, Manabu. \"Receptor tyrosine kinase ERBB4 mediates acquired resistance to ERBB2 inhibitors in breast cancer cells.\" Cell cycle (Georgetown, Tex.), 2015, pp. 648-55.\n",
       "[15] Li, W, Shi, Q, Wang, W, Liu, J, Ren, J, Li, Q, Hou, F. \"KRAS status and resistance to epidermal growth factor receptor tyrosine-kinase inhibitor treatment in patients with metastatic colorectal cancer: a meta-analysis.\" Colorectal disease : the official journal of the Association of Coloproctology of Great Britain and Ireland, 2014, pp. O370-8.\n",
       " |\n",
       "\n"
      ],
      "text/plain": [
       "  ...1 Unnamed: 0.1 index Unnamed: 0 NEST ID  name_new                        \n",
       "1 0    0            420   0          NEST:125 Extended mismatch repair complex\n",
       "2 1    1            228   0          NEST:134 RPA complex associated proteins \n",
       "3 2    2              0   0          NEST:256 MAPK signaling                  \n",
       "  Genes                                              \n",
       "1 ERCC1,ERCC4,MLH1,MLH3,MSH2,MSH3,MSH6,PMS1,PMS2,SLX4\n",
       "2 ATM,ATR,BLM,BRCA1,XPA,XPC                          \n",
       "3 ERBB2,ERBB4,FGFR2,FGFR4,HRAS,KRAS                  \n",
       "  Genes.1                            LLM Name                               \n",
       "1 MSH6;MSH2;MSH3;PMS2;MLH1;MLH3;PMS1 DNA Mismatch Repair and Excision Repair\n",
       "2 BLM;XPA;ATM;XPC;BRCA1;ATR          DNA Damage Response and Repair         \n",
       "3 ERBB4;ERBB2;KRAS;FGFR4;HRAS;FGFR2  Receptor Tyrosine Kinase Signaling     \n",
       "  LLM Analysis                                                                                                                                                                                                                                                                                                                                                                                                                                                                                                                                                                                                                                                                                                                                                                                                                                                                                                                                                                                                                                                                                                                                                                                                                                                                                                                                                                                                                                                                                                                                                                                                                                                                                                                                                                                                                                                                                                                                                                                                                                                                                                                                                                                                                                                                                                                                                                                                                                                                      \n",
       "1 The primary biological process performed by this system of interacting proteins is DNA mismatch repair and excision repair. These processes are crucial for maintaining genomic stability and preventing mutations.\\n\\n1. ERCC1 and ERCC4: These proteins form a heterodimeric endonuclease complex involved in nucleotide excision repair (NER). ERCC1 is responsible for DNA damage recognition, while ERCC4 provides the catalytic activity for DNA incision. Together, they remove DNA lesions caused by UV radiation and other genotoxic agents, preventing mutations and maintaining genomic stability.\\n\\n2. MLH1, MLH3, PMS1, and PMS2: These proteins are part of the MutL family and play essential roles in DNA mismatch repair (MMR). MLH1 forms heterodimers with PMS2 (MutLα), MLH3 (MutLγ), and PMS1 (MutLβ). MutLα is the primary complex involved in MMR, while MutLγ and MutLβ have specialized roles in meiotic recombination and mutation avoidance, respectively. These complexes coordinate with MutS family proteins (MSH2, MSH3, and MSH6) to recognize and repair DNA mismatches, insertions, and deletions, ensuring accurate DNA replication and preventing mutations.\\n\\n3. MSH2, MSH3, MSH6: These proteins belong to the MutS family and are involved in DNA mismatch repair (MMR). MSH2 forms heterodimers with MSH6 (MutSα) and MSH3 (MutSβ). MutSα recognizes base mismatches and small insertion/deletion loops, while MutSβ recognizes larger insertion/deletion loops. These complexes initiate the MMR process by binding to DNA mismatches and recruiting MutL family proteins to repair the errors.\\n\\n4. SLX4: This protein acts as a scaffold for multiple structure-specific endonucleases, including ERCC1-ERCC4, and is involved in the repair of DNA interstrand crosslinks, double-strand breaks, and replication fork collapse. SLX4 interacts with ERCC1 and ERCC4, coordinating their activities in nucleotide excision repair and ensuring the efficient removal of DNA lesions.\\n\\nIn conclusion, the primary biological process performed by this system of interacting proteins is DNA mismatch repair and excision repair, which are essential for maintaining genomic stability and preventing mutations. The proteins work together in a coordinated manner to recognize and repair DNA errors, ensuring accurate DNA replication and preventing the accumulation of mutations that could lead to diseases such as cancer.\n",
       "2 The most prominent biological process performed by this system of interacting proteins is DNA damage response and repair. These proteins play crucial roles in maintaining genomic stability and preventing the accumulation of mutations that can lead to diseases such as cancer.\\n\\n1. ATM and ATR: These proteins are key kinases involved in the DNA damage response. They are activated by different types of DNA damage, such as double-strand breaks (ATM) and replication stress (ATR). Upon activation, they phosphorylate numerous downstream targets, including other proteins in this system, to initiate the appropriate repair pathways.\\n\\n2. BLM: This protein is a RecQ helicase that plays a role in DNA repair, replication, and recombination. BLM is involved in resolving complex DNA structures, such as Holliday junctions, and preventing genome instability. Mutations in BLM can lead to Bloom syndrome, a rare disorder characterized by increased cancer susceptibility.\\n\\n3. BRCA1: This protein is a tumor suppressor involved in multiple DNA repair pathways, including homologous recombination and non-homologous end joining. BRCA1 interacts with several other proteins in this system, such as ATM and ATR, to coordinate the DNA damage response. Mutations in BRCA1 are associated with an increased risk of breast and ovarian cancer.\\n\\n4. XPA and XPC: These proteins are involved in nucleotide excision repair (NER), a pathway that removes bulky DNA lesions, such as those caused by UV radiation. XPC is responsible for damage recognition, while XPA plays a role in damage verification and recruitment of other NER factors. Defects in XPA or XPC can lead to xeroderma pigmentosum, a rare disorder characterized by extreme sensitivity to sunlight and increased skin cancer risk.\\n\\nIn conclusion, the interacting proteins ATM, ATR, BLM, BRCA1, XPA, and XPC are essential for maintaining genomic stability by coordinating the DNA damage response and participating in various DNA repair pathways. Their dysfunction can lead to genome instability and increased susceptibility to cancer.                                                                                                                                                                                                                                                                                                                  \n",
       "3 The most prominent biological process performed by the interacting proteins ERBB2, ERBB4, FGFR2, FGFR4, HRAS, and KRAS is receptor tyrosine kinase (RTK) signaling. This process is critical for cellular growth, differentiation, and survival.\\n\\n1. ERBB2 and ERBB4: Both proteins belong to the epidermal growth factor receptor (EGFR) family, which are receptor tyrosine kinases. They play a crucial role in cell proliferation and differentiation by binding to specific ligands, leading to the activation of downstream signaling pathways, such as the MAPK and PI3K/AKT pathways. ERBB2 is known to form heterodimers with other EGFR family members, enhancing the signaling capacity of the receptor complex.\\n\\n2. FGFR2 and FGFR4: These proteins are members of the fibroblast growth factor receptor (FGFR) family, which are also receptor tyrosine kinases. They are involved in various cellular processes, including cell growth, differentiation, and migration. FGFR2 and FGFR4 bind to fibroblast growth factors (FGFs), leading to receptor dimerization and activation of downstream signaling pathways, such as the RAS/MAPK and PI3K/AKT pathways.\\n\\n3. HRAS and KRAS: Both proteins are members of the RAS family of small GTPases, which function as molecular switches in various signaling pathways, including the RTK signaling pathway. They are involved in transmitting signals from activated RTKs to downstream effectors, such as the RAF/MEK/ERK and PI3K/AKT pathways. HRAS and KRAS are known to play a critical role in cell proliferation, differentiation, and survival.\\n\\nIn conclusion, the interacting proteins ERBB2, ERBB4, FGFR2, FGFR4, HRAS, and KRAS are involved in the receptor tyrosine kinase signaling pathway, which is essential for cellular growth, differentiation, and survival. This process is initiated by the binding of specific ligands to the receptor tyrosine kinases (ERBB2, ERBB4, FGFR2, and FGFR4), leading to the activation of downstream signaling pathways, such as the RAS/MAPK and PI3K/AKT pathways, mediated by the small GTPases HRAS and KRAS.                                                                                                                                                                                                                                                                                                                                       \n",
       "  ⋯ P-value      Adjusted P-value\n",
       "1 ⋯ 2.266332e-19 1.566032e-17    \n",
       "2 ⋯ 8.464498e-12 8.651916e-10    \n",
       "3 ⋯ 2.224545e-12 5.071962e-10    \n",
       "  Genes.2                                            \n",
       "1 ERCC1,ERCC4,MLH1,MLH3,MSH2,MSH3,MSH6,PMS1,PMS2,SLX4\n",
       "2 ATM,ATR,BLM,BRCA1,XPA,XPC                          \n",
       "3 ERBB2,ERBB4,FGFR2,FGFR4,HRAS,KRAS                  \n",
       "  Genes.3                            GO term                                \n",
       "1 MSH6;MSH2;MSH3;PMS2;MLH1;MLH3;PMS1 Mismatch Repair                        \n",
       "2 BLM;XPA;ATM;XPC;BRCA1;ATR          DNA Metabolic Process                  \n",
       "3 ERBB4;ERBB2;KRAS;FGFR4;HRAS;FGFR2  Positive Regulation Of Phosphorylation \n",
       "  GO ID      LLM_name_human_name_sim GO_term_human_name_sim winner\n",
       "1 GO:0006298 0.7892810               0.7637749              Tied  \n",
       "2 GO:0006259 0.4103665               0.2250555              LLM   \n",
       "3 GO:0042327 0.6257839               0.3991230              LLM   \n",
       "  References                                                                                                                                                                                                                                                                                                                                                                                                                                                                                                                                                                                                                                                                                                                                                                                                                                                                                                                                                                                                                                                                                                                                                                                                                                                                                                                                                                                                                                                                                                                                                                                                                                                                                                                                                                                                                                                                                                                                                                                                                                                                                                                                                                                                                                                                                                                                                                                                                                                                                                                                                                                                                                                                                                                                                                                                                                                                                                                                                                                                                                                                                                                                                                                                                                                                                                                                                                                                                                                                                                                                                                                                                                                                                                                                                                                                                                                                                                                                                                                                                                                                                                                                                                                                                                                                                                                                                                                                                                                                                                                                                                                                                                                                                                                                                                                                                                                                                                                                                                                                                                                                                                                                                                                                                                                                                                                                                                                                                                                                                                                                                                                                                                                                                                                                                                                                                                                                                                                                                                                                                                                                                                                                                                                                                                                                                                                                                                                                                                                                                                                                                                                                                                                                                                                                                                                                                                                                                                                                                                                                                                                          \n",
       "1 The primary biological process performed by this system of interacting proteins is DNA mismatch repair and excision repair. These processes are crucial for maintaining genomic stability and preventing mutations.\\n\\n1. ERCC1 and ERCC4: These proteins form a heterodimeric endonuclease complex involved in nucleotide excision repair (NER). ERCC1 is responsible for DNA damage recognition, while ERCC4 provides the catalytic activity for DNA incision. Together, they remove DNA lesions caused by UV radiation and other genotoxic agents, preventing mutations and maintaining genomic stability.[1][2][3]\\n\\n2. MLH1, MLH3, PMS1, and PMS2: These proteins are part of the MutL family and play essential roles in DNA mismatch repair (MMR). MLH1 forms heterodimers with PMS2 (MutLα), MLH3 (MutLγ), and PMS1 (MutLβ). MutLα is the primary complex involved in MMR, while MutLγ and MutLβ have specialized roles in meiotic recombination and mutation avoidance, respectively. These complexes coordinate with MutS family proteins (MSH2, MSH3, and MSH6) to recognize and repair DNA mismatches, insertions, and deletions, ensuring accurate DNA replication and preventing mutations.[4][5][6]\\n\\n3. MSH2, MSH3, MSH6: These proteins belong to the MutS family and are involved in DNA mismatch repair (MMR). MSH2 forms heterodimers with MSH6 (MutSα) and MSH3 (MutSβ). MutSα recognizes base mismatches and small insertion/deletion loops, while MutSβ recognizes larger insertion/deletion loops. These complexes initiate the MMR process by binding to DNA mismatches and recruiting MutL family proteins to repair the errors.[7][8][9]\\n\\n4. SLX4: This protein acts as a scaffold for multiple structure-specific endonucleases, including ERCC1-ERCC4, and is involved in the repair of DNA interstrand crosslinks, double-strand breaks, and replication fork collapse. SLX4 interacts with ERCC1 and ERCC4, coordinating their activities in nucleotide excision repair and ensuring the efficient removal of DNA lesions.[10][11][12]\\n\\nIn conclusion, the primary biological process performed by this system of interacting proteins is DNA mismatch repair and excision repair, which are essential for maintaining genomic stability and preventing mutations. The proteins work together in a coordinated manner to recognize and repair DNA errors, ensuring accurate DNA replication and preventing the accumulation of mutations that could lead to diseases such as cancer.\\n\\n========================================================================================================================================================================================================\\n[1] Biggerstaff, M, Szymkowski, D E, Wood, R D. \"Co-correction of the ERCC1, ERCC4 and xeroderma pigmentosum group F DNA repair defects in vitro.\" The EMBO journal, 1993, pp. 3685-92.\\n[2] Jiang, Chunming, Shen, Fang, Du, Jianmin, Wang, Xiaohua, Su, Jin, Liu, Zhanli, Huang, Xianmei. \"DNA repair gene ERCC1 polymorphisms and glioma susceptibility among Chinese population: a meta-analysis.\" International journal of clinical and experimental medicine, 2015, pp. 10248-55.\\n[3] van Vuuren, A J, Appeldoorn, E, Odijk, H, Humbert, S, Moncollin, V, Eker, A P, Jaspers, N G, Egly, J M, Hoeijmakers, J H. \"Partial characterization of the DNA repair protein complex, containing the ERCC1, ERCC4, ERCC11 and XPF correcting activities.\" Mutation research, 1995, pp. 25-39.\\n[4] Rogacheva, Maria V, Manhart, Carol M, Chen, Cheng, Guarne, Alba, Surtees, Jennifer, Alani, Eric. \"Mlh1-Mlh3, a meiotic crossover and DNA mismatch repair factor, is a Msh2-Msh3-stimulated endonuclease.\" The Journal of biological chemistry, 2014, pp. 5664-73.\\n[5] Prolla, T A, Pang, Q, Alani, E, Kolodner, R D, Liskay, R M. \"MLH1, PMS1, and MSH2 interactions during the initiation of DNA mismatch repair in yeast.\" Science (New York, N.Y.), 1994, pp. 1091-3.\\n[6] Al-Sweel, Najla, Raghavan, Vandana, Dutta, Abhishek, Ajith, V P, Di Vietro, Luigi, Khondakar, Nabila, Manhart, Carol M, Surtees, Jennifer A, Nishant, K T, Alani, Eric. \"mlh3 mutations in baker's yeast alter meiotic recombination outcomes by increasing noncrossover events genome-wide.\" PLoS genetics, 2017, pp. e1006974.\\n[7] Edelbrock, Michael A, Kaliyaperumal, Saravanan, Williams, Kandace J. \"Structural, molecular and cellular functions of MSH2 and MSH6 during DNA mismatch repair, damage signaling and other noncanonical activities.\" Mutation research, 2013, pp. 53-66.\\n[8] Stark, Andreas M, Doukas, Alexander, Hugo, Heinz-Herrmann, Hedderich, Jürgen, Hattermann, Kirsten, Maximilian Mehdorn, H, Held-Feindt, Janka. \"Expression of DNA mismatch repair proteins MLH1, MSH2, and MSH6 in recurrent glioblastoma.\" Neurological research, 2015, pp. 95-105.\\n[9] Rogacheva, Maria V, Manhart, Carol M, Chen, Cheng, Guarne, Alba, Surtees, Jennifer, Alani, Eric. \"Mlh1-Mlh3, a meiotic crossover and DNA mismatch repair factor, is a Msh2-Msh3-stimulated endonuclease.\" The Journal of biological chemistry, 2014, pp. 5664-73.\\n[10] Young, Sarah J, West, Stephen C. \"Coordinated roles of SLX4 and MutSβ in DNA repair and the maintenance of genome stability.\" Critical reviews in biochemistry and molecular biology, 2021, pp. 157-177.\\n[11] Biggerstaff, M, Szymkowski, D E, Wood, R D. \"Co-correction of the ERCC1, ERCC4 and xeroderma pigmentosum group F DNA repair defects in vitro.\" The EMBO journal, 1993, pp. 3685-92.\\n[12] van Vuuren, A J, Appeldoorn, E, Odijk, H, Humbert, S, Moncollin, V, Eker, A P, Jaspers, N G, Egly, J M, Hoeijmakers, J H. \"Partial characterization of the DNA repair protein complex, containing the ERCC1, ERCC4, ERCC11 and XPF correcting activities.\" Mutation research, 1995, pp. 25-39.\\n                                                                                                                                                                                                                                                                                                                                                                                                                                                                                                                                                                                                                                                                                                                                                                                                                                                                                                                                                                                                                                                                                                                                                               \n",
       "2 The most prominent biological process performed by this system of interacting proteins is DNA damage response and repair. These proteins play crucial roles in maintaining genomic stability and preventing the accumulation of mutations that can lead to diseases such as cancer.\\n\\n1. ATM and ATR: These proteins are key kinases involved in the DNA damage response. They are activated by different types of DNA damage, such as double-strand breaks (ATM) and replication stress (ATR). Upon activation, they phosphorylate numerous downstream targets, including other proteins in this system, to initiate the appropriate repair pathways.[1][2][3]\\n\\n2. BLM: This protein is a RecQ helicase that plays a role in DNA repair, replication, and recombination. BLM is involved in resolving complex DNA structures, such as Holliday junctions, and preventing genome instability. Mutations in BLM can lead to Bloom syndrome, a rare disorder characterized by increased cancer susceptibility.[4][5][6]\\n\\n3. BRCA1: This protein is a tumor suppressor involved in multiple DNA repair pathways, including homologous recombination and non-homologous end joining. BRCA1 interacts with several other proteins in this system, such as ATM and ATR, to coordinate the DNA damage response. Mutations in BRCA1 are associated with an increased risk of breast and ovarian cancer.[7][8][9]\\n\\n4. XPA and XPC: These proteins are involved in nucleotide excision repair (NER), a pathway that removes bulky DNA lesions, such as those caused by UV radiation. XPC is responsible for damage recognition, while XPA plays a role in damage verification and recruitment of other NER factors. Defects in XPA or XPC can lead to xeroderma pigmentosum, a rare disorder characterized by extreme sensitivity to sunlight and increased skin cancer risk.[10][11][12]\\n\\nIn conclusion, the interacting proteins ATM, ATR, BLM, BRCA1, XPA, and XPC are essential for maintaining genomic stability by coordinating the DNA damage response and participating in various DNA repair pathways. Their dysfunction can lead to genome instability and increased susceptibility to cancer.[13][14][15]\\n\\n========================================================================================================================================================================================================\\n[1] Blackford, Andrew N, Jackson, Stephen P. \"ATM, ATR, and DNA-PK: The Trinity at the Heart of the DNA Damage Response.\" Molecular cell, 2017, pp. 801-817.\\n[2] Zhang, Jingjing, Wu, Qiong, Zhu, Lucheng, Xie, Shujun, Tu, Linglan, Yang, Yuhong, Wu, Kan, Zhao, Yanyan, Wang, Yuqing, Xu, Yasi, Chen, Xueqin, Ma, Shenglin, Zhang, Shirong. \"SERPINE2/PN-1 regulates the DNA damage response and radioresistance by activating ATM in lung cancer.\" Cancer letters, 2022, pp. 268-283.\\n[3] Lopez-Pelaez, Marta, Young, Lucy, Vazquez-Chantada, Mercedes, Nelson, Nadine, Durant, Steve, Wilkinson, Robert W, Poon, Edmund, Gaspar, Miguel, Valge-Archer, Viia, Smith, Paul, Dovedi, Simon J. \"Targeting DNA damage response components induces enhanced STING-dependent type-I IFN response in ATM deficient cancer cells and drives dendritic cell activation.\" Oncoimmunology, 2022, pp. 2117321.\\n[4] Dhar, Srijita, Brosh, Robert M. \"BLM's balancing act and the involvement of FANCJ in DNA repair.\" Cell cycle (Georgetown, Tex.), 2018, pp. 2207-2220.\\n[5] Bendtsen, Kristian Moss, Jensen, Martin Borch, May, Alfred, Rasmussen, Lene Juel, Trusina, Ala, Bohr, Vilhelm A, Jensen, Mogens H. \"Dynamics of the DNA repair proteins WRN and BLM in the nucleoplasm and nucleoli.\" European biophysics journal : EBJ, 2014, pp. 509-16.\\n[6] Frank, Bernd, Hoffmeister, Michael, Klopp, Norman, Illig, Thomas, Chang-Claude, Jenny, Brenner, Hermann. \"Colorectal cancer and polymorphisms in DNA repair genes WRN, RMI1 and BLM.\" Carcinogenesis, 2010, pp. 442-5.\\n[7] Yoshida, Kiyotsugu, Miki, Yoshio. \"Role of BRCA1 and BRCA2 as regulators of DNA repair, transcription, and cell cycle in response to DNA damage.\" Cancer science, 2004, pp. 866-71.\\n[8] Jin, Mei Hua, Oh, Do-Youn. \"ATM in DNA repair in cancer.\" Pharmacology & therapeutics, 2019, pp. 107391.\\n[9] Tarsounas, Madalena, Sung, Patrick. \"The antitumorigenic roles of BRCA1-BARD1 in DNA repair and replication.\" Nature reviews. Molecular cell biology, 2020, pp. 284-299.\\n[10] Zebian, Abir, Shaito, Abdullah, Mazurier, Frédéric, Rezvani, Hamid Reza, Zibara, Kazem. \"XPC beyond nucleotide excision repair and skin cancers.\" Mutation research. Reviews in mutation research, 2019, pp. 108286.\\n[11] Lindsey-Boltz, Laura A, Yang, Yanyan, Kose, Cansu, Deger, Nazli, Eynullazada, Khagani, Kawara, Hiroaki, Sancar, Aziz. \"Nucleotide excision repair in Human cell lines lacking both XPC and CSB proteins.\" Nucleic acids research, 2023, pp. 6238-6245.\\n[12] Musich, Phillip R, Li, Zhengke, Zou, Yue. \"Xeroderma Pigmentosa Group A (XPA), Nucleotide Excision Repair and Regulation by ATR in Response to Ultraviolet Irradiation.\" Advances in experimental medicine and biology, 2017, pp. 41-54.\\n[13] Blackford, Andrew N, Jackson, Stephen P. \"ATM, ATR, and DNA-PK: The Trinity at the Heart of the DNA Damage Response.\" Molecular cell, 2017, pp. 801-817.\\n[14] Wu, Chenming, Chang, Yiming, Chen, Junliang, Su, Yang, Li, Lei, Chen, Yuping, Li, Yunhui, Wu, Jinhuan, Huang, Jinzhou, Zhao, Fei, Wang, Wenrui, Yin, Hui, Wang, Shunli, Jin, Mingpeng, Lou, Zhenkun, Zhu, Wei-Guo, Luo, Kuntian, Zhang, Jie, Yuan, Jian. \"USP37 regulates DNA damage response through stabilizing and deubiquitinating BLM.\" Nucleic acids research, 2021, pp. 11224-11240.\\n[15] Foo, Tzeh Keong, Xia, Bing. \"BRCA1-Dependent and Independent Recruitment of PALB2-BRCA2-RAD51 in the DNA Damage Response and Cancer.\" Cancer research, 2022, pp. 3191-3197.\\n                                                                                                                                                                                                                                                                                                                                                                                                                                                                                                                                                                                                                                                                                                                                                                                                                                                                                                                                                                                                                                                                    \n",
       "3 The most prominent biological process performed by the interacting proteins ERBB2, ERBB4, FGFR2, FGFR4, HRAS, and KRAS is receptor tyrosine kinase (RTK) signaling. This process is critical for cellular growth, differentiation, and survival.[1][2][3]\\n\\n1. ERBB2 and ERBB4: Both proteins belong to the epidermal growth factor receptor (EGFR) family, which are receptor tyrosine kinases. They play a crucial role in cell proliferation and differentiation by binding to specific ligands, leading to the activation of downstream signaling pathways, such as the MAPK and PI3K/AKT pathways. ERBB2 is known to form heterodimers with other EGFR family members, enhancing the signaling capacity of the receptor complex.[4][5][6]\\n\\n2. FGFR2 and FGFR4: These proteins are members of the fibroblast growth factor receptor (FGFR) family, which are also receptor tyrosine kinases. They are involved in various cellular processes, including cell growth, differentiation, and migration. FGFR2 and FGFR4 bind to fibroblast growth factors (FGFs), leading to receptor dimerization and activation of downstream signaling pathways, such as the RAS/MAPK and PI3K/AKT pathways.[7][8][9]\\n\\n3. HRAS and KRAS: Both proteins are members of the RAS family of small GTPases, which function as molecular switches in various signaling pathways, including the RTK signaling pathway. They are involved in transmitting signals from activated RTKs to downstream effectors, such as the RAF/MEK/ERK and PI3K/AKT pathways. HRAS and KRAS are known to play a critical role in cell proliferation, differentiation, and survival.[10][11][12]\\n\\nIn conclusion, the interacting proteins ERBB2, ERBB4, FGFR2, FGFR4, HRAS, and KRAS are involved in the receptor tyrosine kinase signaling pathway, which is essential for cellular growth, differentiation, and survival. This process is initiated by the binding of specific ligands to the receptor tyrosine kinases (ERBB2, ERBB4, FGFR2, and FGFR4), leading to the activation of downstream signaling pathways, such as the RAS/MAPK and PI3K/AKT pathways, mediated by the small GTPases HRAS and KRAS.[13][14][15]\\n\\n========================================================================================================================================================================================================\\n[1] Hoesl, Christine, Röhrl, Jennifer M, Schneider, Marlon R, Dahlhoff, Maik. \"The receptor tyrosine kinase ERBB4 is expressed in skin keratinocytes and influences epidermal proliferation.\" Biochimica et biophysica acta. General subjects, 2018, pp. 958-966.\\n[2] Canfield, Kaleigh, Li, Jiaqi, Wilkins, Owen M, Morrison, Meghan M, Ung, Matthew, Wells, Wendy, Williams, Charlotte R, Liby, Karen T, Vullhorst, Detlef, Buonanno, Andres, Hu, Huizhong, Schiff, Rachel, Cook, Rebecca S, Kurokawa, Manabu. \"Receptor tyrosine kinase ERBB4 mediates acquired resistance to ERBB2 inhibitors in breast cancer cells.\" Cell cycle (Georgetown, Tex.), 2015, pp. 648-55.\\n[3] Li, W, Shi, Q, Wang, W, Liu, J, Ren, J, Li, Q, Hou, F. \"KRAS status and resistance to epidermal growth factor receptor tyrosine-kinase inhibitor treatment in patients with metastatic colorectal cancer: a meta-analysis.\" Colorectal disease : the official journal of the Association of Coloproctology of Great Britain and Ireland, 2014, pp. O370-8.\\n[4] Wei, Dang, Rui, Bian, Qingquan, Fan, Chen, Cai, Ping, Hu Yun, Xiaoling, Song, Hao, Weng, Jun, Gu. \"KIF11 promotes cell proliferation via ERBB2/PI3K/AKT signaling pathway in gallbladder cancer.\" International journal of biological sciences, 2021, pp. 514-526.\\n[5] Ma, Xuejiao, Chen, Jingruo, Huang, Bohan, Fu, Shiqi, Qu, Shuai, Yu, Rong, Zhao, Yuhua. \"ErbB2-upregulated HK1 and HK2 promote breast cancer cell proliferation, migration and invasion.\" Medical oncology (Northwood, London, England), 2023, pp. 154.\\n[6] Kedashiro, Shin, Kameyama, Takeshi, Mizutani, Kiyohito, Takai, Yoshimi. \"Stimulatory role of nectin-4 and p95-ErbB2 in multilayered T47D cell proliferation.\" Genes to cells : devoted to molecular & cellular mechanisms, 2022, pp. 451-464.\\n[7] Fang, Xianlong, Yang, Dongmei, Luo, Hongping, Wu, Shuai, Dong, Wenjie, Xiao, Jing, Yuan, Sujing, Ni, Aimin, Zhang, Kang-Jian, Liu, Xin-Yuan, Chu, Liang. \"SNORD126 promotes HCC and CRC cell growth by activating the PI3K-AKT pathway through FGFR2.\" Journal of molecular cell biology, 2017, pp. 243-255.\\n[8] Shi, Yuanyuan, Liu, Xuejiao, Fredimoses, Mangaladoss, Song, Mengqiu, Chen, Hanyong, Liu, Kangdong, Lee, Mee-Hyun, Dong, Zigang. \"FGFR2 regulation by picrasidine Q inhibits the cell growth and induces apoptosis in esophageal squamous cell carcinoma.\" Journal of cellular biochemistry, 2018, pp. 2231-2239.\\n[9] Park, Jihyun, Kim, Sun Young, Kim, Ha-Jung, Kim, Kyoung-Mee, Choi, Eun Young, Kang, Myung-Soo. \"A reciprocal regulatory circuit between CD44 and FGFR2 via c-myc controls gastric cancer cell growth.\" Oncotarget, 2016, pp. 28670-83.\\n[10] Ternet, Camille, Kiel, Christina. \"Signaling pathways in intestinal homeostasis and colorectal cancer: KRAS at centre stage.\" Cell communication and signaling : CCS, 2021, pp. 31.\\n[11] Fitzgerald, Timothy L, Lertpiriyapong, Kvin, Cocco, Lucio, Martelli, Alberto M, Libra, Massimo, Candido, Saverio, Montalto, Giuseppe, Cervello, Melchiorre, Steelman, Linda, Abrams, Stephen L, McCubrey, James A. \"Roles of EGFR and KRAS and their downstream signaling pathways in pancreatic cancer and pancreatic cancer stem cells.\" Advances in biological regulation, 2015, pp. 65-81.\\n[12] Liu, Zhonglu, Liu, Feifei, Wang, Fang, Yang, Xin, Guo, Wentao. \"CircZNF609 promotes cell proliferation, migration, invasion, and glycolysis in nasopharyngeal carcinoma through regulating HRAS via miR-338-3p.\" Molecular and cellular biochemistry, 2021, pp. 175-186.\\n[13] Hoesl, Christine, Röhrl, Jennifer M, Schneider, Marlon R, Dahlhoff, Maik. \"The receptor tyrosine kinase ERBB4 is expressed in skin keratinocytes and influences epidermal proliferation.\" Biochimica et biophysica acta. General subjects, 2018, pp. 958-966.\\n[14] Canfield, Kaleigh, Li, Jiaqi, Wilkins, Owen M, Morrison, Meghan M, Ung, Matthew, Wells, Wendy, Williams, Charlotte R, Liby, Karen T, Vullhorst, Detlef, Buonanno, Andres, Hu, Huizhong, Schiff, Rachel, Cook, Rebecca S, Kurokawa, Manabu. \"Receptor tyrosine kinase ERBB4 mediates acquired resistance to ERBB2 inhibitors in breast cancer cells.\" Cell cycle (Georgetown, Tex.), 2015, pp. 648-55.\\n[15] Li, W, Shi, Q, Wang, W, Liu, J, Ren, J, Li, Q, Hou, F. \"KRAS status and resistance to epidermal growth factor receptor tyrosine-kinase inhibitor treatment in patients with metastatic colorectal cancer: a meta-analysis.\" Colorectal disease : the official journal of the Association of Coloproctology of Great Britain and Ireland, 2014, pp. O370-8.\\n"
      ]
     },
     "metadata": {},
     "output_type": "display_data"
    }
   ],
   "source": [
    "NeST_table_sub_LLM_GSEA_simVals_DF"
   ]
  },
  {
   "cell_type": "code",
   "execution_count": 23,
   "id": "44053d08-4fef-45a8-b704-41f12602b71d",
   "metadata": {},
   "outputs": [],
   "source": [
    "NeST_table_sub_LLM_GSEA_simVals_DF = rename(NeST_table_sub_LLM_GSEA_simVals_DF, \n",
    "                                            c( \"GSEA genes\" = \"Genes.1\"))"
   ]
  },
  {
   "cell_type": "code",
   "execution_count": 24,
   "id": "8a659a3c-3d1c-49eb-82f2-f1f87e26b226",
   "metadata": {
    "vscode": {
     "languageId": "r"
    }
   },
   "outputs": [],
   "source": [
    "NeST_table_sub_LLM_GSEA_simVals_DF = NeST_table_sub_LLM_GSEA_simVals_DF %>%\n",
    "rowwise() %>%\n",
    "mutate(n_Genes = getSetSize(`Genes`),\n",
    "      log2_n_Genes = log2(n_Genes))"
   ]
  },
  {
   "cell_type": "markdown",
   "id": "97552ad4-f087-4a7d-b255-9983174637da",
   "metadata": {},
   "source": [
    "### Join the dataframe together"
   ]
  },
  {
   "cell_type": "code",
   "execution_count": 25,
   "id": "1a7034a3-94f1-46e3-b8ac-60e737b7ac97",
   "metadata": {
    "vscode": {
     "languageId": "r"
    }
   },
   "outputs": [],
   "source": [
    "NeST_analysis_DF = inner_join(x = NeST_table_sub_LLM_GSEA_simVals_DF[,c(\"NEST ID\", \"Genes\", \"LLM Name\", \"LLM Analysis\", \"References\",\n",
    "                                      \"GO term\", \"GO ID\", \"GSEA genes\", \"Overlap\", \"P-value\", \"Adjusted P-value\", \n",
    "                                      \"LLM_name_human_name_sim\", \"GO_term_human_name_sim\", \"winner\", \n",
    "                                      \"n_Genes\", \"log2_n_Genes\")],\n",
    "                              y = LLM_human_NeST[,c(\"NEST ID\", \"Human Name\", \"humanConsensus\", \"OverridingDecision\", \"DataSet\")],\n",
    "                              by = \"NEST ID\")\n",
    "                                  "
   ]
  },
  {
   "cell_type": "code",
   "execution_count": 29,
   "id": "0378825f-7e72-45fc-9fb8-693fcc00c8bf",
   "metadata": {
    "tags": [],
    "vscode": {
     "languageId": "r"
    }
   },
   "outputs": [],
   "source": [
    "MSigDB_analysis_DF = inner_join(x = MSigDB_table_sub_LLM_GSEA_simVals_DF[,c(\"Human Name\", \"Genes\", \"LLM Name\", \"LLM Analysis\", \"References\",\n",
    "                                      \"GO term\", \"GO ID\", \"GSEA genes\", \"Overlap\", \"P-value\", \"Adjusted P-value\", \n",
    "                                      \"LLM_name_human_name_sim\", \"GO_term_human_name_sim\", \"winner\", \n",
    "                                      \"n_Genes\", \"log2_n_Genes\")],\n",
    "                              y = LLM_human_MSigDB[,c(\"Human Name\", \"humanConsensus\", \"DataSet\")],\n",
    "                                 by =  \"Human Name\")\n",
    "                                  "
   ]
  },
  {
   "cell_type": "code",
   "execution_count": 30,
   "id": "21eec8dc-ec01-44be-8ebb-9d9c6c84574e",
   "metadata": {
    "vscode": {
     "languageId": "r"
    }
   },
   "outputs": [],
   "source": [
    "merged_analysis_DF = rbind.fill(NeST_analysis_DF,MSigDB_analysis_DF)"
   ]
  },
  {
   "cell_type": "code",
   "execution_count": 31,
   "id": "92fe4622-f1c0-416f-ab41-01f2ad92fccf",
   "metadata": {
    "vscode": {
     "languageId": "r"
    }
   },
   "outputs": [],
   "source": [
    "merged_analysis_DF = merged_analysis_DF %>%\n",
    "rowwise() %>%\n",
    "mutate(log2_rat_LLM_GO = log2(LLM_name_human_name_sim/GO_term_human_name_sim),\n",
    "       diff_LLM_GO = LLM_name_human_name_sim - GO_term_human_name_sim)"
   ]
  },
  {
   "cell_type": "code",
   "execution_count": 32,
   "id": "07809655-8030-4d1c-b91c-9328c7ccdf0e",
   "metadata": {
    "vscode": {
     "languageId": "r"
    }
   },
   "outputs": [],
   "source": [
    "merged_analysis_DF$humanConsensus <- factor(merged_analysis_DF$humanConsensus, levels=c(\"LLM\", \"GO\", \"Tied\", \"Neither\"))\n"
   ]
  },
  {
   "cell_type": "code",
   "execution_count": 33,
   "id": "d809d61a-3969-4d9b-99f9-2918d83758f3",
   "metadata": {
    "vscode": {
     "languageId": "r"
    }
   },
   "outputs": [],
   "source": [
    "merged_analysis_DF$winner <- factor(merged_analysis_DF$winner, levels=c(\"LLM\", \"GO\", \"Tied\", \"Neither\"))\n"
   ]
  },
  {
   "cell_type": "code",
   "execution_count": 34,
   "id": "2aaab816-298b-4a7e-a45f-95093c9d42be",
   "metadata": {},
   "outputs": [],
   "source": [
    "if (runVersion == \"test\"){\n",
    "    mergedFile = \"data/merged_subset_LLM_GSEA_simVals_refs.txt\"\n",
    "} else {\n",
    "    mergedFile = \"data/merged_LLM_GSEA_simVals_refs.txt\"\n",
    "}\n",
    "\n",
    "    \n",
    "    \n"
   ]
  },
  {
   "cell_type": "code",
   "execution_count": 35,
   "id": "b5f10c1c-86ea-41ba-abb6-360be5ce6013",
   "metadata": {
    "vscode": {
     "languageId": "r"
    }
   },
   "outputs": [],
   "source": [
    "write_delim(x = merged_analysis_DF[,c('DataSet','Human Name', 'NEST ID', 'Genes', 'n_Genes', 'log2_n_Genes',\n",
    "                                     'GO term','GO ID','GSEA genes', 'Overlap','P-value','Adjusted P-value',\n",
    "                                     'LLM Name','LLM Analysis','References',\n",
    "                                      'LLM_name_human_name_sim', 'GO_term_human_name_sim',\n",
    "                                      'winner','humanConsensus', 'OverridingDecision')],\n",
    "            file = mergedFile, delim = \"\\t\")\n"
   ]
  },
  {
   "cell_type": "code",
   "execution_count": 36,
   "id": "a8fdc9bb-0a7b-4b58-b64b-bdcf4e649dea",
   "metadata": {
    "vscode": {
     "languageId": "r"
    }
   },
   "outputs": [
    {
     "data": {
      "text/html": [
       "<style>\n",
       ".list-inline {list-style: none; margin:0; padding: 0}\n",
       ".list-inline>li {display: inline-block}\n",
       ".list-inline>li:not(:last-child)::after {content: \"\\00b7\"; padding: 0 .5ex}\n",
       "</style>\n",
       "<ol class=list-inline><li>'NeST'</li><li>'NeST'</li><li>'NeST'</li><li>'MSigDB'</li><li>'MSigDB'</li><li>'MSigDB'</li></ol>\n"
      ],
      "text/latex": [
       "\\begin{enumerate*}\n",
       "\\item 'NeST'\n",
       "\\item 'NeST'\n",
       "\\item 'NeST'\n",
       "\\item 'MSigDB'\n",
       "\\item 'MSigDB'\n",
       "\\item 'MSigDB'\n",
       "\\end{enumerate*}\n"
      ],
      "text/markdown": [
       "1. 'NeST'\n",
       "2. 'NeST'\n",
       "3. 'NeST'\n",
       "4. 'MSigDB'\n",
       "5. 'MSigDB'\n",
       "6. 'MSigDB'\n",
       "\n",
       "\n"
      ],
      "text/plain": [
       "[1] \"NeST\"   \"NeST\"   \"NeST\"   \"MSigDB\" \"MSigDB\" \"MSigDB\""
      ]
     },
     "metadata": {},
     "output_type": "display_data"
    }
   ],
   "source": [
    "merged_analysis_DF$DataSet"
   ]
  },
  {
   "cell_type": "markdown",
   "id": "888238ab-04ef-4cf0-983d-c61e8a8d3d5f",
   "metadata": {},
   "source": [
    "### Get percentage of genes used in each of LLM and GSEA"
   ]
  },
  {
   "cell_type": "code",
   "execution_count": 37,
   "id": "8ef6507c-bff4-4ebd-8e2c-730027b845d4",
   "metadata": {
    "vscode": {
     "languageId": "r"
    }
   },
   "outputs": [],
   "source": [
    "library(comprehenr)\n"
   ]
  },
  {
   "cell_type": "code",
   "execution_count": 38,
   "id": "b4727194-9091-4a61-9d76-7e61fc69fbd2",
   "metadata": {
    "vscode": {
     "languageId": "r"
    }
   },
   "outputs": [],
   "source": [
    "getGSEAGeneCount = function(systemGenes, GSEA_Genes){\n",
    "    systemGenesList = str_split(string = systemGenes, pattern = \" \")[[1]];\n",
    "    GSEA_GenesList = str_split(string = GSEA_Genes, pattern = \";\")[[1]];\n",
    "    return(length(intersect(systemGenesList, GSEA_GenesList)))\n",
    "    }\n",
    "    "
   ]
  },
  {
   "cell_type": "code",
   "execution_count": 39,
   "id": "c0c81098-a13f-4972-ba70-83282db73579",
   "metadata": {
    "vscode": {
     "languageId": "r"
    }
   },
   "outputs": [],
   "source": [
    "getLLMGeneCount  = function(GenesFixed, LLM_Analysis){\n",
    "    systemGenesList = str_split(string = GenesFixed, pattern = \" \")[[1]];\n",
    "    \n",
    "    n_LLMGenes = to_vec(for(systemGene in systemGenesList) str_detect(string = LLM_Analysis, pattern = systemGene)) %>%\n",
    "           sum()\n",
    "        \n",
    "    return(n_LLMGenes)\n",
    "\n",
    "\n",
    "    }"
   ]
  },
  {
   "cell_type": "code",
   "execution_count": 40,
   "id": "b08b930a-aa04-45d9-bc75-dec02948242c",
   "metadata": {
    "tags": [],
    "vscode": {
     "languageId": "r"
    }
   },
   "outputs": [],
   "source": [
    "merged_analysis_DF = merged_analysis_DF %>% \n",
    "rowwise() %>%\n",
    "mutate(GenesFixed = str_replace_all(string = `Genes`, pattern = \",\", replacement = \" \"),\n",
    "      n_overlap_GSEA = getGSEAGeneCount(`GenesFixed`, `GSEA genes`),\n",
    "      perc_overlap_GSEA = 100*(n_overlap_GSEA/n_Genes),\n",
    "      n_overlap_LLM = getLLMGeneCount(`GenesFixed`, `LLM Analysis`),\n",
    "      perc_overlap_LLM = 100*(n_overlap_LLM/n_Genes))\n",
    "  "
   ]
  },
  {
   "cell_type": "code",
   "execution_count": 42,
   "id": "315ee151-86ca-40a1-ba0e-812f5e90efc5",
   "metadata": {
    "vscode": {
     "languageId": "r"
    }
   },
   "outputs": [],
   "source": [
    "write_delim(x = merged_analysis_DF[,c('DataSet','Human Name', 'NEST ID', 'GenesFixed', 'n_Genes', 'log2_n_Genes',\n",
    "                                     'GO term','GO ID','GSEA genes', 'n_overlap_GSEA', 'perc_overlap_GSEA','P-value','Adjusted P-value',\n",
    "                                     'LLM Name','LLM Analysis','n_overlap_LLM','perc_overlap_LLM', 'References',\n",
    "                                      'LLM_name_human_name_sim', 'GO_term_human_name_sim',\n",
    "                                      'winner','humanConsensus', 'OverridingDecision')],\n",
    "            file = mergedFile, delim = \"\\t\")"
   ]
  },
  {
   "cell_type": "code",
   "execution_count": null,
   "id": "37d7f0f3-a3ba-44b1-ad49-cd4690f36462",
   "metadata": {},
   "outputs": [],
   "source": []
  }
 ],
 "metadata": {
  "kernelspec": {
   "display_name": "R",
   "language": "R",
   "name": "ir"
  },
  "language_info": {
   "codemirror_mode": "r",
   "file_extension": ".r",
   "mimetype": "text/x-r-source",
   "name": "R",
   "pygments_lexer": "r",
   "version": "4.2.2"
  }
 },
 "nbformat": 4,
 "nbformat_minor": 5
}
