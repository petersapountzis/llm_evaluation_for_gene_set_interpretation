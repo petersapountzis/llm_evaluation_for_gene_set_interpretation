{
 "cells": [
  {
   "cell_type": "markdown",
   "id": "a3dc8e8d-e232-4d5f-81a8-0a5683e40e0a",
   "metadata": {
    "tags": []
   },
   "source": [
    "Generates extended data fig. 5 (omics input distribution)\n",
    "\n",
    "And Figure 4 (Evaluation of GPT-4 in naming ‘omics gene clusters)"
   ]
  },
  {
   "cell_type": "code",
   "execution_count": 1,
   "id": "ad747381-3584-405f-9314-56005310243a",
   "metadata": {
    "collapsed": true,
    "jupyter": {
     "outputs_hidden": true
    },
    "tags": []
   },
   "source": [
    "import pandas as pd\n",
    "import numpy as np\n",
    "import matplotlib.pyplot as plt\n",
    "import seaborn as sns\n",
    "plt.rcParams['svg.fonttype'] = 'none'\n",
    "plt.rcParams.update({'font.size': 7, 'font.family': 'sans-serif'})\n",
    "plt.rcParams['xtick.labelsize'] = 7\n",
    "plt.rcParams['ytick.labelsize'] = 7\n",
    "plt.rcParams['axes.labelsize'] = 7\n",
    "plt.rcParams['axes.titlesize'] = 7"
   ],
   "outputs": []
  },
  {
   "cell_type": "code",
   "execution_count": 4,
   "id": "f4d384f0-528f-4780-a6a5-9bfa92650864",
   "metadata": {},
   "source": [
    "Omics_analysis_DF = pd.read_csv(\"data/omics_revamped.txt\", sep=\"\\t\")\n",
    "Omics_analysis_DF.head()"
   ],
   "outputs": []
  },
  {
   "cell_type": "markdown",
   "id": "432ad773-a859-4166-b9aa-84693df9f53b",
   "metadata": {},
   "source": [
    "### Plot distribution of number of genes"
   ]
  },
  {
   "cell_type": "code",
   "execution_count": 19,
   "id": "31fb0e28-0f88-436a-90fb-ed7d3aae9f84",
   "metadata": {},
   "source": [
    "plt.figure(figsize=(3,2.5))\n",
    "sns.set_style(\"ticks\")\n",
    "plt.hist(Omics_analysis_DF[\"n_Genes\"], bins=100, edgecolor='black', color='white', linewidth=0.5)\n",
    "\n",
    "plt.xlabel(\"Gene set size (# genes)\")\n",
    "plt.ylabel(\"Count\" )\n",
    "\n",
    "plt.ylim(-0.5, 13)\n",
    "# Remove the grid\n",
    "plt.grid(False)\n",
    "\n",
    "sns.despine()\n",
    "plt.tight_layout()\n",
    "\n",
    "plt.savefig(\"figures/omics_analysis_gene_set_size_histogram.svg\", format=\"svg\", bbox_inches = 'tight')\n",
    "plt.show()"
   ],
   "outputs": []
  },
  {
   "cell_type": "code",
   "execution_count": null,
   "id": "c407e3ce",
   "metadata": {},
   "source": [],
   "outputs": []
  },
  {
   "cell_type": "markdown",
   "id": "395427d0",
   "metadata": {},
   "source": [
    "## Figure 4a \n",
    "\n",
    "The number of omics gene clusters named by GPT-4 or by GO enrichment analysis using g:Profiler versus the gene cluster overlap threshold measured by Jaccard Index"
   ]
  },
  {
   "cell_type": "code",
   "execution_count": 2,
   "id": "0c0362d3-0d8c-4f73-a1b6-bcc23684e40d",
   "metadata": {},
   "source": [
    "import pandas as pd\n",
    "import numpy as np\n",
    "\n",
    "# load the data\n",
    "reduced_LLM_genes_APV_only_DF = pd.read_csv(\"data/omics_revamped_LLM_gprofiler_new_gene_name_DF_APV_only.tsv\", sep=\"\\t\")\n",
    "\n",
    "from utils.analyze_enrichment_utils import plot_thresholding_res\n",
    "%reload_ext autoreload\n",
    "%autoreload 2\n",
    "\n",
    "# set adj p-value threshold and LLM confidence score threshold\n",
    "adj_pval_thresh = 0.05\n",
    "LLM_score_thresh = 0.01\n",
    "\n",
    "save_plot_dir = 'figures/omics_revamped_LLM_gprofiler_new_gene_name_DF_reduce_APV_add_JI_thresh_curve.svg'\n",
    "plot_thresholding_res(reduced_LLM_genes_APV_only_DF, 'gprofiler_JI', 'LLM_JI',coverage_thresh_list = np.arange(0.0, 1.1, 0.05), enrich_adj_pval_thresh = adj_pval_thresh, LLM_score_thresh = LLM_score_thresh, highlight_coverage = [0.0, 0.05, 0.1, 0.2],figsize=(3,3), ax_label_keyword= 'JI', log_scale=True, save_file=save_plot_dir)"
   ],
   "outputs": []
  },
  {
   "cell_type": "markdown",
   "id": "dffd2a18",
   "metadata": {},
   "source": [
    "# Figure 4b \n",
    "Specificity of cluster naming by g:Profiler functional enrichment against the specificity of naming by GPT-4"
   ]
  },
  {
   "cell_type": "code",
   "execution_count": 5,
   "id": "c7ffafd4",
   "metadata": {},
   "source": [
    "df = pd.read_csv(\"data/omics_revamped_LLM_gprofiler_new_gene_name_DF_trimed_name_simVals_max_named.tsv\", sep=\"\\t\")\n",
    "\n",
    "\n",
    "similarity_thre = 0.5\n",
    "\n",
    "# y_field = 'gprofiler_JI'\n",
    "# y_label = 'g:Profiler coverage'\n",
    "# x_field = 'LLM_JI'\n",
    "# x_label = 'GPT-4 coverage'\n",
    "\n",
    "y_field = 'intersection_size'\n",
    "y_label = 'Number of covered genes\\n(g:Profiler)'\n",
    "x_field = 'Supporting Count'\n",
    "x_label = 'Number of covered genes\\n(GPT-4)'\n",
    "\n",
    "\n",
    "# Filter the DataFrame\n",
    "filtered_data_high = df[df['LLM_name_GO_term_sim'] >= similarity_thre]\n",
    "filtered_data_low = df[df['LLM_name_GO_term_sim'] < similarity_thre]\n",
    "print(f'high similarity: {filtered_data_high.shape[0]}', f'\\nin percentage: {filtered_data_high.shape[0]/df.shape[0] *100 :.2f}%')\n",
    "print(f'low similarity: {filtered_data_low.shape[0]}', f'\\nin percentage: {filtered_data_low.shape[0]/df.shape[0] *100 :.2f}%')\n",
    "\n",
    "# further breakdown the high similarity group into high and low JI\n",
    "filtered_data_high_JI_high = filtered_data_high[filtered_data_high[x_field]>filtered_data_high[y_field]]\n",
    "print(f'high similarity high number genes: {filtered_data_high_JI_high.shape[0]}', f'\\nin percentage: {filtered_data_high_JI_high.shape[0]/df.shape[0] *100 :.2f}%')\n",
    "filtered_data_high_JI_low = filtered_data_high[filtered_data_high[x_field]<=filtered_data_high[y_field]]\n",
    "# LLM JI vs gprofiler JI, colored by the similarity with countinuous color\n",
    "plt.figure(figsize=(3,3))\n",
    "\n",
    "# Create the scatter plot using the filtered data with explicit normalization\n",
    "# Here, we switch to using matplotlib directly\n",
    "\n",
    "plt.scatter(\n",
    "    x=filtered_data_high[x_field], \n",
    "    y=filtered_data_high[y_field], \n",
    "    c='#ae2012',\n",
    "    s=8,  # Set the size of the points\n",
    "    label='High similarity'\n",
    ")\n",
    "\n",
    "# plot the low similarity data\n",
    "plt.scatter(\n",
    "    x=filtered_data_low[x_field], \n",
    "    y=filtered_data_low[y_field], \n",
    "    c='#294c60',\n",
    "    s=8,  # Set the size of the points\n",
    "    label='Low similarity'\n",
    ")\n",
    "\n",
    "plt.xlabel(x_label)\n",
    "plt.ylabel(y_label)\n",
    "# plt.axvline(x=JI_thresh, color='black', linestyle='--', label='JI threshold')\n",
    "# plt.axhline(y=JI_thresh, color='black', linestyle='--')\n",
    "plt.xlim(-0.05, 40)\n",
    "plt.ylim(-0.05, 40)\n",
    "# Ensure the x and y ticks are the same\n",
    "ticks = range(0, 41, 10)\n",
    "plt.xticks(ticks)\n",
    "plt.yticks(ticks)\n",
    "# plot diagonal line\n",
    "plt.plot([0, 40], [0, 40], lw=1, color = 'black', linestyle='--')\n",
    "\n",
    "\n",
    "sns.despine()\n",
    "plt.legend()\n",
    "plt.savefig('figures/omics_LLM_genes_vs_gprofiler_genes_sep_similarity.svg', dpi=300)\n",
    "plt.show()"
   ],
   "outputs": []
  },
  {
   "cell_type": "markdown",
   "id": "d7c71537",
   "metadata": {},
   "source": [
    "# Figure 4c \n",
    "\n",
    "heatmap of supporting genes for the names (gprofiler and llm) \n",
    "\n",
    "example L1000  Cluster2-105"
   ]
  },
  {
   "cell_type": "code",
   "execution_count": 6,
   "id": "90c7b253",
   "metadata": {},
   "source": [
    "## input file: LLM analyzed + gProfiler enrichment\n",
    "updated_name_llm_file = 'data/omics_revamped_LLM_gprofiler_new_gene_name_DF.tsv'\n",
    "\n",
    "# Read the TSV file into a Pandas DataFrame\n",
    "LLM_genes_DF = pd.read_csv(updated_name_llm_file, delimiter=\"\\t\")\n",
    "\n",
    "## load the LLM coverage data as a common df to merge\n",
    "llm_coverage_df = pd.read_csv(\"data/omics_revamped_LLM_genecounts_DF.tsv\", sep=\"\\t\")\n",
    "\n",
    "llm_JI_file = 'data/omics_revamped_LLM_w_best_matching_GO_terms_for_JI.tsv'\n",
    "llm_ji_df = pd.read_csv(llm_JI_file, sep=\"\\t\")\n",
    "\n",
    "# merge with the LLM coverage data\n",
    "merged_genes_DF = pd.merge(LLM_genes_DF, llm_coverage_df, on=['Source','GeneSetID','GeneSetName', 'GeneList', 'n_Genes'], how='left')\n",
    "print(merged_genes_DF.shape)\n",
    "# print(merged_genes_DF.columns)\n",
    "\n",
    "# merge with the LLM JI data\n",
    "merged_genes_DF = pd.merge(merged_genes_DF, llm_ji_df, on=['Source','GeneSetID','GeneList','n_Genes', 'LLM Name','Supporting Count'], how='left')\n",
    "print(merged_genes_DF.shape)"
   ],
   "outputs": []
  },
  {
   "cell_type": "code",
   "execution_count": 7,
   "id": "3052a417",
   "metadata": {},
   "source": [
    "# find the GeneSetID: Cluster2-105 from the full table\n",
    "example = merged_genes_DF.loc[\n",
    "merged_genes_DF['GeneSetID'] == 'Cluster2-105'].iloc[[0,2]] # one is the most significant, one is more similar name\n",
    "# example\n",
    "geneList = example['GeneList'].values[0].split(' ')\n",
    "\n",
    "new_cols = ['Name', 'Supporting Genes','Named by']\n",
    "new_df = pd.DataFrame(columns=new_cols)\n",
    "\n",
    "# LLM supporting genes\n",
    "llm_supporting_genes = example['Supporting Genes'].values[0].split(' ')\n",
    "# Join the LLM supporting genes list into a single string\n",
    "llm_supporting_genes_str = ', '.join(llm_supporting_genes)\n",
    "llm_name_row = pd.DataFrame({'Name': [example['LLM Name'].values[0]], 'Supporting Genes': llm_supporting_genes_str, 'Named by': ['GPT-4']})\n",
    "new_df = pd.concat([new_df, llm_name_row], ignore_index=True)\n",
    "\n",
    "for go_term in example['Term'].values:\n",
    "    intersection = example.loc[example['Term'] == go_term, 'intersections'].values[0].split(',')\n",
    "    # Join the intersection list into a single string\n",
    "    intersection_str = ', '.join(intersection)\n",
    "    new_row = pd.DataFrame({'Name': [go_term], 'Supporting Genes': intersection_str, 'Named by': ['g:Profiler']})\n",
    "    new_df = pd.concat([new_df, new_row], ignore_index=True)\n",
    "\n",
    "\n",
    "new_df = new_df.reset_index(drop=True)\n",
    "# new_df\n",
    "# geneList\n",
    "# plot a heatmap, where columns are the genes and rows are the gene sets, heat at the intersections\n",
    "\n",
    "# column is all the genes in the target gene set \n",
    "genes = set(geneList)\n",
    "genes = sorted(genes)\n",
    "\n",
    "# Create a binary matrix\n",
    "matrix = pd.DataFrame(0, index=new_df['Name'], columns=genes)\n",
    "for idx, row in new_df.iterrows():\n",
    "    supporting_genes = row['Supporting Genes'].split(', ')\n",
    "    matrix.loc[row['Name'], supporting_genes] = 1\n",
    "\n",
    "# Calculate appropriate figure size based on the number of genes and gene sets\n",
    "fig_height =len(new_df['Name']) * 0.2\n",
    "fig_width= len(genes) * 0.2\n",
    "\n",
    "# Plot the heatmap with square cells and adjusted figure size\n",
    "plt.figure(figsize=(fig_width, fig_height))\n",
    "ax = sns.heatmap(matrix, cmap=['#c0c0c0', '#ffbd00'], cbar=False, linewidths=.5, annot=False, square=True)\n",
    "# Move the x-axis labels to the top\n",
    "ax.xaxis.set_ticks_position('top')\n",
    "ax.xaxis.set_label_position('top')\n",
    "\n",
    "# Adjust the font size of the labels\n",
    "ax.set_xticklabels(ax.get_xticklabels(), rotation=45, ha='left')\n",
    "ax.set_yticklabels(ax.get_yticklabels(), rotation=0, ha='right')\n",
    "\n",
    "\n",
    "plt.xlabel('')\n",
    "plt.ylabel('')\n",
    "plt.savefig('figures/omics_LLM_gprofiler_CULLIN_example_gene_intersection_heatmap.svg', dpi=300)\n",
    "plt.show()"
   ],
   "outputs": []
  },
  {
   "cell_type": "code",
   "execution_count": null,
   "id": "bf105335",
   "metadata": {},
   "source": [],
   "outputs": []
  }
 ],
 "metadata": {
  "kernelspec": {
   "display_name": "llm_eval",
   "language": "python",
   "name": "python3"
  },
  "language_info": {
   "codemirror_mode": {
    "name": "ipython",
    "version": 3
   },
   "file_extension": ".py",
   "mimetype": "text/x-python",
   "name": "python",
   "nbconvert_exporter": "python",
   "pygments_lexer": "ipython3",
   "version": "3.11.5"
  }
 },
 "nbformat": 4,
 "nbformat_minor": 5
}
