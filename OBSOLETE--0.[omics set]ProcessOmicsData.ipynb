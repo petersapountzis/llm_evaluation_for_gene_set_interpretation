{
 "cells": [
  {
   "cell_type": "code",
   "execution_count": null,
   "id": "9fa86f76-d230-4ce8-a385-ab8dfcc07406",
   "metadata": {
    "tags": []
   },
   "outputs": [],
   "source": [
    "library(plyr, quietly = TRUE)\n",
    "library(tidyverse,  quietly = TRUE)\n",
    "library(tidyjson,  quietly = TRUE)\n",
    "library(readxl)"
   ]
  },
  {
   "cell_type": "code",
   "execution_count": null,
   "id": "1f00ce09-2373-4010-8d0a-aad04a468e78",
   "metadata": {},
   "outputs": [],
   "source": [
    "`%ni%` <- Negate(`%in%`)"
   ]
  },
  {
   "cell_type": "code",
   "execution_count": null,
   "id": "fe317316-8b8b-4c91-b1de-330f3c9e5f6a",
   "metadata": {},
   "outputs": [],
   "source": [
    "# get name genes number  source"
   ]
  },
  {
   "cell_type": "code",
   "execution_count": null,
   "id": "3f9b065c-eb80-437e-86ec-7c7e880fc4e9",
   "metadata": {
    "tags": []
   },
   "outputs": [],
   "source": [
    "genesets_colnames = c(\"Source\", \"GeneSetID\", \"GeneSetName\", \"GeneList\", \"n_Genes\")\n",
    "genesets_MAT = matrix(nrow = 0, ncol = length(genesets_colnames))\n",
    "colnames(genesets_MAT) = genesets_colnames\n",
    "genesets_DF = as_tibble(genesets_MAT) %>%\n",
    "  mutate(across(everything(), as.character))\n",
    "genesets_DF$n_Genes = as.integer(genesets_DF$n_Genes)"
   ]
  },
  {
   "cell_type": "code",
   "execution_count": null,
   "id": "1e1d5b21-6289-4dc9-986d-9808aed54bad",
   "metadata": {},
   "outputs": [],
   "source": [
    "genesets_empty_DF = genesets_DF"
   ]
  },
  {
   "cell_type": "markdown",
   "id": "05d19b89-2fe7-4b6a-a3f2-8004c7c271e8",
   "metadata": {},
   "source": [
    "### MSigDB"
   ]
  },
  {
   "cell_type": "code",
   "execution_count": null,
   "id": "dce7d8e8-5271-41f7-9491-973d7e49e240",
   "metadata": {},
   "outputs": [],
   "source": [
    "msigdb_path = \"data/human_geneSets/\""
   ]
  },
  {
   "cell_type": "code",
   "execution_count": null,
   "id": "b0cf7bb3-ab8c-48df-93af-83f73870669d",
   "metadata": {},
   "outputs": [],
   "source": [
    "# read in the MSigDB .json file\n",
    "MSigDB_hallmark = read_json(\"data/h.all.v2023.1.Hs.json\", format = \"json\")[[2]][[1]]"
   ]
  },
  {
   "cell_type": "code",
   "execution_count": null,
   "id": "48937e73-92c7-44fb-bc9d-1bce1fe5533d",
   "metadata": {},
   "outputs": [],
   "source": [
    "MSigDB_geneSets = names(MSigDB_hallmark)"
   ]
  },
  {
   "cell_type": "code",
   "execution_count": null,
   "id": "17901b42-fd31-478a-b8cb-334d555ae77a",
   "metadata": {},
   "outputs": [],
   "source": [
    "for (MSigDB_geneSet in MSigDB_geneSets){\n",
    "    MSigDB_geneSet_genes = MSigDB_hallmark[[MSigDB_geneSet]]$geneSymbols %>% unlist()\n",
    "    MSigDB_geneSet_n_Genes = length(MSigDB_geneSet_genes)\n",
    "    genesets_DF = genesets_DF %>% \n",
    "    add_row(tibble_row(Source = \"MSigDB\",\n",
    "            GeneSetID = MSigDB_geneSet,           \n",
    "            GeneSetName = MSigDB_geneSet, \n",
    "            GeneList = str_c(MSigDB_geneSet_genes,  collapse = \" \"),\n",
    "            n_Genes = MSigDB_geneSet_n_Genes))\n",
    "    }"
   ]
  },
  {
   "cell_type": "code",
   "execution_count": null,
   "id": "420739cb-9c1c-4ad2-8904-f77e2922fbf5",
   "metadata": {
    "tags": []
   },
   "outputs": [],
   "source": [
    "genesets_DF %>% subset(n_Genes < 200) %>% nrow()"
   ]
  },
  {
   "cell_type": "code",
   "execution_count": null,
   "id": "0410d45f-4616-4d26-b754-1311a1699652",
   "metadata": {},
   "outputs": [],
   "source": [
    "genesets_DF %>% subset(n_Genes <= 100) %>% nrow()"
   ]
  },
  {
   "cell_type": "code",
   "execution_count": null,
   "id": "119c7247-5d71-4fc6-94e2-a831945961b2",
   "metadata": {},
   "outputs": [],
   "source": [
    "dim(genesets_DF)"
   ]
  },
  {
   "cell_type": "code",
   "execution_count": null,
   "id": "c4ab5234-d241-4ab3-9837-d8c245443aff",
   "metadata": {},
   "outputs": [],
   "source": [
    "genesets_DF$n_Genes %>% max()"
   ]
  },
  {
   "cell_type": "markdown",
   "id": "b8594e43-67bf-4fbd-9f15-cfe029c98096",
   "metadata": {},
   "source": [
    "### NeST"
   ]
  },
  {
   "cell_type": "code",
   "execution_count": null,
   "id": "9c04a784-b991-44fb-85de-4886785bc2be",
   "metadata": {},
   "outputs": [],
   "source": [
    "NeST_systems_Orig = read_delim(\"data/NeST_table.txt\", delim = \"\\t\") %>% pull(`NEST ID`)"
   ]
  },
  {
   "cell_type": "code",
   "execution_count": null,
   "id": "86f5f50a-7193-418e-a093-661f48b3f39f",
   "metadata": {},
   "outputs": [],
   "source": [
    "NeST_All_DF = read_delim(file = \"data/NeST_table_All.csv\", delim = \",\" )"
   ]
  },
  {
   "cell_type": "code",
   "execution_count": null,
   "id": "de6c6f8e-bf36-488d-aeaa-87d8008e4c38",
   "metadata": {},
   "outputs": [],
   "source": [
    "NeST_Orig_DF = NeST_All_DF %>%\n",
    "subset(`NEST ID` %in% NeST_systems_Orig) %>%\n",
    "subset(Size_All <= 200)"
   ]
  },
  {
   "cell_type": "code",
   "execution_count": null,
   "id": "0502253b-ee1f-4401-9475-9a2d174b4ed0",
   "metadata": {},
   "outputs": [],
   "source": [
    "setdiff(NeST_systems_Orig, NeST_Orig_DF$`NEST ID`)"
   ]
  },
  {
   "cell_type": "code",
   "execution_count": null,
   "id": "68febf67-6a30-4eb6-9960-c96810718f7c",
   "metadata": {},
   "outputs": [],
   "source": [
    "n_toSample = 50 - nrow(NeST_Orig_DF)"
   ]
  },
  {
   "cell_type": "code",
   "execution_count": null,
   "id": "f7a4b994-272b-44df-a8cf-6542ac0cf68f",
   "metadata": {},
   "outputs": [],
   "source": [
    "NeST_added_DF = NeST_All_DF %>%\n",
    "subset(`NEST ID` %ni% NeST_systems_Orig) %>%\n",
    "subset(Size_All <= 200) %>%\n",
    "subset(str_detect(name_new, \"NEST\", negate = TRUE)) %>%\n",
    "slice_sample(n = n_toSample) "
   ]
  },
  {
   "cell_type": "code",
   "execution_count": null,
   "id": "c1274ecf-5973-4b5d-a775-4a330cb035c2",
   "metadata": {},
   "outputs": [],
   "source": [
    "write_delim(x = NeST_added_DF, file = \"data/NeST_added_DF.txt\", delim = \"\\t\")"
   ]
  },
  {
   "cell_type": "code",
   "execution_count": null,
   "id": "2d6c9d42-907e-495c-87ba-a63cc192aa2e",
   "metadata": {},
   "outputs": [],
   "source": [
    "NeST_added_DF"
   ]
  },
  {
   "cell_type": "code",
   "execution_count": null,
   "id": "30724ae6-e48a-4e39-8aeb-8f8352390854",
   "metadata": {},
   "outputs": [],
   "source": [
    "NeST_toUse_DF = rbind(NeST_Orig_DF, NeST_added_DF) %>%\n",
    "select(c(\"NEST ID\", \"name_new\", \"All_Genes\", \"Size_All\"))  %>%\n",
    "rowwise() %>%\n",
    "mutate(Source  = \"NeST\", \n",
    "       All_Genes = str_replace_all(string = All_Genes, pattern  = \",\", replacement =  \" \")) %>%\n",
    "rename(GeneSetID = `NEST ID`,\n",
    "       GeneSetName = name_new, \n",
    "       GeneList = All_Genes, \n",
    "       n_Genes = Size_All)"
   ]
  },
  {
   "cell_type": "code",
   "execution_count": null,
   "id": "8af1700b-0fca-4c4e-b0fe-9cac02da342b",
   "metadata": {},
   "outputs": [],
   "source": [
    "genesets_DF = genesets_DF %>% rbind(NeST_toUse_DF)"
   ]
  },
  {
   "cell_type": "code",
   "execution_count": null,
   "id": "cbec14ba-1a36-4b40-8566-d79627af9666",
   "metadata": {},
   "outputs": [],
   "source": [
    "dim(genesets_DF)"
   ]
  },
  {
   "cell_type": "code",
   "execution_count": null,
   "id": "d754591f-57e6-4d22-a8b4-da7d2face25f",
   "metadata": {
    "tags": []
   },
   "outputs": [],
   "source": [
    "head(genesets_DF)"
   ]
  },
  {
   "cell_type": "markdown",
   "id": "d2a5ee32-4bf6-4dc2-8aac-b5014579dcc4",
   "metadata": {},
   "source": [
    "### Gene expression"
   ]
  },
  {
   "cell_type": "code",
   "execution_count": null,
   "id": "97f213ff-81cd-486d-bcb5-c12fea9489e5",
   "metadata": {},
   "outputs": [],
   "source": [
    "# https://doi.org/10.1016/j.cell.2022.05.013"
   ]
  },
  {
   "cell_type": "code",
   "execution_count": null,
   "id": "25cd88c5-5091-418f-801b-e59a105d951f",
   "metadata": {},
   "outputs": [],
   "source": [
    "geneExpression_DF = read_xlsx(path = \"data/1-s2.0-S0092867422005979-mmc3.xlsx\", sheet = \"gene expression clusters\")"
   ]
  },
  {
   "cell_type": "code",
   "execution_count": null,
   "id": "05bde802-7cd5-40c4-b4c0-993947348e03",
   "metadata": {},
   "outputs": [],
   "source": [
    "geneExpression_DF = read_xlsx(path = \"data/1-s2.0-S0092867422005979-mmc3.xlsx\", sheet = \"gene expression clusters\") %>%\n",
    "subset(!is.na(manual_annotation))  %>%\n",
    "select(c(\"members\", \"manual_annotation\")) %>%\n",
    "rowwise() %>%\n",
    "mutate(Source  = \"Gene Expression\", \n",
    "       members = str_replace_all(string = members, pattern  = \",\", replacement =  \" \"),\n",
    "       n_Genes = length(str_split(string = members, pattern = \" \")[[1]])) %>%\n",
    "rename(GeneSetName = manual_annotation, \n",
    "       GeneList = members) %>%\n",
    "mutate(GeneSetID =  GeneSetName) %>%\n",
    "subset(n_Genes <= 200)\n"
   ]
  },
  {
   "cell_type": "code",
   "execution_count": null,
   "id": "13320cd9-f741-411e-aa09-4dbf444e8848",
   "metadata": {},
   "outputs": [],
   "source": [
    "dim(genesets_DF)"
   ]
  },
  {
   "cell_type": "code",
   "execution_count": null,
   "id": "bb7fdb0f-e9b0-47a2-bae2-058d6e7394df",
   "metadata": {},
   "outputs": [],
   "source": [
    "genesets_DF = genesets_DF %>% rbind(geneExpression_DF)"
   ]
  },
  {
   "cell_type": "code",
   "execution_count": null,
   "id": "7b100e06-3ec4-4242-a620-d0050504af85",
   "metadata": {},
   "outputs": [],
   "source": [
    "dim(genesets_DF)"
   ]
  },
  {
   "cell_type": "markdown",
   "id": "74798c84-2dc6-46ae-be89-26b39fd46f15",
   "metadata": {},
   "source": [
    "### Perturbation"
   ]
  },
  {
   "cell_type": "code",
   "execution_count": null,
   "id": "5571b5dc-b76a-4db4-b1d8-cb36c5fd77e2",
   "metadata": {},
   "outputs": [],
   "source": [
    "perturbation_DF = read_xlsx(path = \"data/1-s2.0-S0092867422005979-mmc3.xlsx\", sheet = \"perturbation clusters\") %>%\n",
    "subset(!is.na(manual_annotation))  %>%\n",
    "select(c(\"members\", \"manual_annotation\")) %>%\n",
    "rowwise() %>%\n",
    "mutate(Source  = \"Perturbation\", \n",
    "       members = str_replace_all(string = members, pattern  = \",\", replacement =  \" \"),\n",
    "       n_Genes = length(str_split(string = members, pattern = \" \")[[1]])) %>%\n",
    "rename(GeneSetName = manual_annotation, \n",
    "       GeneList = members)%>%\n",
    "mutate(GeneSetID =  GeneSetName) %>%\n",
    "subset(n_Genes <= 200)"
   ]
  },
  {
   "cell_type": "code",
   "execution_count": null,
   "id": "c6885c9c-6818-4382-a8bd-8bec24f6a414",
   "metadata": {},
   "outputs": [],
   "source": [
    "dim(perturbation_DF)"
   ]
  },
  {
   "cell_type": "code",
   "execution_count": null,
   "id": "4766359b-cd88-400b-9c8c-ecff2ab70833",
   "metadata": {},
   "outputs": [],
   "source": [
    "genesets_DF = genesets_DF %>% rbind(perturbation_DF)"
   ]
  },
  {
   "cell_type": "code",
   "execution_count": null,
   "id": "5c9ed194-6ff7-4aee-bfa5-9d1b0fe3173d",
   "metadata": {},
   "outputs": [],
   "source": [
    "dim(genesets_DF)"
   ]
  },
  {
   "cell_type": "code",
   "execution_count": null,
   "id": "6b6039a2-3083-4a12-beb8-b5b2c0418e64",
   "metadata": {},
   "outputs": [],
   "source": [
    "250 - 173 "
   ]
  },
  {
   "cell_type": "markdown",
   "id": "4e149766-71c7-4f20-b9db-ea05a78cbd4f",
   "metadata": {},
   "source": [
    "### Disease"
   ]
  },
  {
   "cell_type": "code",
   "execution_count": null,
   "id": "5965bda8-967e-43ff-bae9-f73f6618cd10",
   "metadata": {
    "tags": []
   },
   "outputs": [],
   "source": [
    "library(disgenet2r)\n",
    "library(getPass)"
   ]
  },
  {
   "cell_type": "code",
   "execution_count": null,
   "id": "54421556-c77f-479b-898e-c56d8e35ace9",
   "metadata": {},
   "outputs": [],
   "source": [
    "pass = getPass::getPass(\"Enter the password: \")"
   ]
  },
  {
   "cell_type": "code",
   "execution_count": null,
   "id": "7f5753a9-d0fb-4625-a82b-60d093c71c63",
   "metadata": {
    "tags": []
   },
   "outputs": [],
   "source": [
    "disgenet_api_key <- get_disgenet_api_key(\n",
    "                  email = \"salkhairy@ucsd.edu\", \n",
    "                  password = pass )"
   ]
  },
  {
   "cell_type": "code",
   "execution_count": null,
   "id": "bb67f98f-3539-48d8-b66c-003eb178674e",
   "metadata": {},
   "outputs": [],
   "source": [
    "Sys.setenv(DISGENET_API_KEY= disgenet_api_key)"
   ]
  },
  {
   "cell_type": "code",
   "execution_count": null,
   "id": "2fe64f9c-0441-4b70-aaf4-1c61aa59c1ce",
   "metadata": {},
   "outputs": [],
   "source": [
    "diseaseId_All_DF = read_delim(\"data/disease_associations.tsv\", delim = \"\\t\")\n"
   ]
  },
  {
   "cell_type": "code",
   "execution_count": null,
   "id": "67105c81-d236-46b3-9f94-a518545423fe",
   "metadata": {},
   "outputs": [],
   "source": [
    "diseaseId_All_list_names = diseaseId_All_DF$diseaseName\n",
    "names(diseaseId_All_list_names) = diseaseId_All_DF$diseaseId"
   ]
  },
  {
   "cell_type": "code",
   "execution_count": null,
   "id": "e41b9dd2-791d-4282-8f72-387ceeacf3aa",
   "metadata": {},
   "outputs": [],
   "source": [
    "diseaseId_All_list_names[1:4]"
   ]
  },
  {
   "cell_type": "code",
   "execution_count": null,
   "id": "cf1b5857-4a57-44d8-8703-e5c958903bfa",
   "metadata": {},
   "outputs": [],
   "source": [
    "# Read disease list\n",
    "diseaseId_All_list = diseaseId_All_DF %>%\n",
    "subset(diseaseType == \"disease\") %>%\n",
    "subset(between(x = NofGenes, left = 3, right = 100)) %>%\n",
    "subset(NofPmids > 1) %>%\n",
    "pull(diseaseId)"
   ]
  },
  {
   "cell_type": "code",
   "execution_count": null,
   "id": "debcc17e-95d0-453f-93a6-0dfcbfa60efe",
   "metadata": {},
   "outputs": [],
   "source": [
    "diseaseId_All_DF %>% subset(diseaseId %in% diseaseId_All_list) %>% pull(\"NofGenes\") %>% range()"
   ]
  },
  {
   "cell_type": "code",
   "execution_count": null,
   "id": "ffce4014-7b1c-4167-907c-ba697c3c2a9e",
   "metadata": {
    "tags": []
   },
   "outputs": [],
   "source": [
    "?disease2gene"
   ]
  },
  {
   "cell_type": "code",
   "execution_count": null,
   "id": "5997f25c-2324-4dd9-85b4-8cad4c52e8f5",
   "metadata": {},
   "outputs": [],
   "source": [
    "# 'GWASCAT' to use the NHGRI-EBI GWAS Catalog; "
   ]
  },
  {
   "cell_type": "code",
   "execution_count": null,
   "id": "e4ea5767-4581-4910-8ddc-ca3e39c4e8a0",
   "metadata": {},
   "outputs": [],
   "source": [
    "# Sample \n",
    "diseaseId_list = sample(x = diseaseId_All_list, size = 500, replace = FALSE) # not all of them are successful in getting gene list"
   ]
  },
  {
   "cell_type": "code",
   "execution_count": null,
   "id": "674a1fad-213f-47c1-8e3f-c50ed683a0ad",
   "metadata": {},
   "outputs": [],
   "source": [
    "disease_DF = genesets_empty_DF\n",
    "an.error.occured <- FALSE\n"
   ]
  },
  {
   "cell_type": "code",
   "execution_count": null,
   "id": "95708990-0802-474b-b09e-66a3811f26ca",
   "metadata": {
    "tags": []
   },
   "outputs": [],
   "source": [
    "?disease2gene"
   ]
  },
  {
   "cell_type": "code",
   "execution_count": null,
   "id": "b2854b5e-569f-41ad-aef9-b9509678017e",
   "metadata": {
    "tags": []
   },
   "outputs": [],
   "source": [
    "for (diseaseId_ind in c(1:length(diseaseIbetween))){\n",
    "    print(diseaseId_ind)\n",
    "    diseaseId = diseaseId_list[diseaseId_ind]\n",
    "    diseaseName = diseaseId_All_list_names[diseaseId]\n",
    "    \n",
    "    tryCatch( { dis_res <- disease2gene( diseaseId_list[diseaseId_ind], database = \"MGD\" ) } #CURATED\n",
    "          , error = function(e) {an.error.occured <<- TRUE} )\n",
    "    \n",
    "    if (class(dis_res) == 'character'){next}\n",
    "        \n",
    "    geneList = dis_res@qresult %>% pull(gene_symbol)\n",
    "    \n",
    "    disease_DF = disease_DF %>% \n",
    "    add_row(tibble_row(Source = \"Disease\",\n",
    "            GeneSetID = diseaseId,\n",
    "            GeneSetName = diseaseName, \n",
    "            GeneList = str_c(geneList,  collapse = \" \"),\n",
    "            n_Genes = length(geneList)))\n",
    "    }"
   ]
  },
  {
   "cell_type": "code",
   "execution_count": null,
   "id": "073b57d8-b716-4aa5-8a14-10b4a4705a4d",
   "metadata": {
    "tags": []
   },
   "outputs": [],
   "source": [
    "diseaseId_All_list_names['C0000727']"
   ]
  },
  {
   "cell_type": "code",
   "execution_count": null,
   "id": "f8368b01-ec5c-4df6-9c5a-aca2d2f52901",
   "metadata": {},
   "outputs": [],
   "source": [
    "diseaseId"
   ]
  },
  {
   "cell_type": "code",
   "execution_count": null,
   "id": "55271619-a5cd-4bcd-9397-124f546de72b",
   "metadata": {},
   "outputs": [],
   "source": [
    "nrow(disease_DF)"
   ]
  },
  {
   "cell_type": "code",
   "execution_count": null,
   "id": "ba391f2e-117f-4e0d-823b-211e939c1102",
   "metadata": {},
   "outputs": [],
   "source": [
    "disease_toUse_DF = disease_DF %>% \n",
    "subset(between(x = n_Genes, left = 3, right = 100)) %>%\n",
    "head(n = 60)"
   ]
  },
  {
   "cell_type": "code",
   "execution_count": null,
   "id": "aa604a7d-9ef2-4cce-8974-bbeea0b7fa9b",
   "metadata": {
    "tags": []
   },
   "outputs": [],
   "source": [
    "disease_toUse_DF"
   ]
  },
  {
   "cell_type": "code",
   "execution_count": null,
   "id": "0c3b7915-a933-48cb-82d7-20540db42a88",
   "metadata": {
    "tags": []
   },
   "outputs": [],
   "source": [
    "write_delim(x = disease_toUse_DF,file = \"data/disease_toUse_DF.txt\" , delim = \"\\t\")"
   ]
  },
  {
   "cell_type": "code",
   "execution_count": null,
   "id": "13885508-61a9-4256-9cd5-9d5773026831",
   "metadata": {},
   "outputs": [],
   "source": [
    "dim(disease_toUse_DF)"
   ]
  },
  {
   "cell_type": "code",
   "execution_count": null,
   "id": "335c6bc6-457a-4392-a52f-175ca1b27062",
   "metadata": {},
   "outputs": [],
   "source": [
    "genesets_DF = genesets_DF %>% rbind(disease_toUse_DF)"
   ]
  },
  {
   "cell_type": "code",
   "execution_count": null,
   "id": "534f0d7b-79c7-42d6-82f2-319914e5ba16",
   "metadata": {},
   "outputs": [],
   "source": [
    "dim(disease_toUse_DF)"
   ]
  },
  {
   "cell_type": "code",
   "execution_count": null,
   "id": "2533f5a5-fc5e-42ff-8517-0193b5cb1d3b",
   "metadata": {},
   "outputs": [],
   "source": [
    "dim(genesets_DF)"
   ]
  },
  {
   "cell_type": "code",
   "execution_count": null,
   "id": "a8436818-01c0-485b-92d5-fbf5518af3be",
   "metadata": {},
   "outputs": [],
   "source": [
    "write_delim(x = genesets_DF,file = \"data/omics.txt\" , delim = \"\\t\")"
   ]
  },
  {
   "cell_type": "markdown",
   "id": "d5c40a1a-3a62-4127-a920-bc40ed7052db",
   "metadata": {},
   "source": [
    "## Fixing disease names"
   ]
  },
  {
   "cell_type": "code",
   "execution_count": null,
   "id": "7e79b486-f731-4210-b974-05d3839210cc",
   "metadata": {},
   "outputs": [],
   "source": [
    "genesets_fixed_DF  = read_delim(file = \"data/omics.txt\" , delim = \"\\t\")"
   ]
  },
  {
   "cell_type": "code",
   "execution_count": null,
   "id": "efe9a3ac-fc0c-448d-843a-93ca85de5eef",
   "metadata": {},
   "outputs": [],
   "source": [
    "genesets_fixed_DF = genesets_fixed_DF %>%\n",
    "rowwise() %>%\n",
    "mutate(GeneSetName = ifelse(Source == \"Disease\", diseaseId_All_list_names[GeneSetID], GeneSetName))"
   ]
  },
  {
   "cell_type": "code",
   "execution_count": null,
   "id": "68b98b16-520d-4764-ab60-ac51bf5727d0",
   "metadata": {},
   "outputs": [],
   "source": [
    "write_delim(x = genesets_fixed_DF,file = \"data/omics.txt\" , delim = \"\\t\")"
   ]
  },
  {
   "cell_type": "code",
   "execution_count": null,
   "id": "6d5fcb51-1608-4ec6-87ec-8b1b3c1bb455",
   "metadata": {},
   "outputs": [],
   "source": []
  },
  {
   "cell_type": "code",
   "execution_count": null,
   "id": "c6d45936-c367-40f7-be14-dc6d24f07ffe",
   "metadata": {},
   "outputs": [],
   "source": [
    "genesets_LLM_fixed_DF  = read_delim(file = \"data/omics_LLM_DF.tsv\" , delim = \"\\t\")"
   ]
  },
  {
   "cell_type": "code",
   "execution_count": null,
   "id": "7f287ecc-880e-49b3-92b7-cf448dcc5a4e",
   "metadata": {},
   "outputs": [],
   "source": [
    "genesets_LLM_fixed_DF = genesets_LLM_fixed_DF %>%\n",
    "rowwise() %>%\n",
    "mutate(GeneSetName = ifelse(Source == \"Disease\", diseaseId_All_list_names[GeneSetID], GeneSetName))"
   ]
  },
  {
   "cell_type": "code",
   "execution_count": null,
   "id": "3460f08a-5c13-4410-90bc-ef1de6aa1aba",
   "metadata": {},
   "outputs": [],
   "source": [
    "write_delim(x = genesets_LLM_fixed_DF,file = \"data/omics_LLM_DF.tsv\" , delim = \"\\t\")"
   ]
  },
  {
   "cell_type": "code",
   "execution_count": null,
   "id": "fc91d644-31d7-453d-ae86-f48b29ad2f75",
   "metadata": {},
   "outputs": [],
   "source": []
  },
  {
   "cell_type": "code",
   "execution_count": null,
   "id": "39546409-7385-44a7-941a-bb4862bfbcbf",
   "metadata": {},
   "outputs": [],
   "source": []
  },
  {
   "cell_type": "markdown",
   "id": "2f1576b8-864f-40fd-9913-de02b959e1a9",
   "metadata": {},
   "source": [
    "### Add additional disease gene sets that are from animal models"
   ]
  },
  {
   "cell_type": "code",
   "execution_count": null,
   "id": "cf74820f-b6f8-4d90-9639-69e26006bb28",
   "metadata": {},
   "outputs": [],
   "source": []
  }
 ],
 "metadata": {
  "kernelspec": {
   "display_name": "R",
   "language": "R",
   "name": "ir"
  },
  "language_info": {
   "codemirror_mode": "r",
   "file_extension": ".r",
   "mimetype": "text/x-r-source",
   "name": "R",
   "pygments_lexer": "r",
   "version": "4.3.2"
  }
 },
 "nbformat": 4,
 "nbformat_minor": 5
}
