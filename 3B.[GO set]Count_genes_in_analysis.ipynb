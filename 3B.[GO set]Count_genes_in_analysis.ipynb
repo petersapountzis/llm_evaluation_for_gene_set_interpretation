{
 "cells": [
  {
   "cell_type": "markdown",
   "metadata": {},
   "source": [
    "## This Notebook calculates the number of genes mentioned in the GPT 4 analysis paragraph "
   ]
  },
  {
   "cell_type": "code",
   "execution_count": 2,
   "metadata": {},
   "outputs": [],
   "source": [
    "def get_LLM_gene_count(genes_fixed, LLM_analysis):\n",
    "    system_genes_set = set(genes_fixed.split(\" \"))\n",
    "    # Count the number of genes in the set that are mentioned in the LLM analysis\n",
    "    overlaps = sum(1 for system_gene in system_genes_set if system_gene in LLM_analysis) \n",
    "    return overlaps"
   ]
  },
  {
   "cell_type": "code",
   "execution_count": 3,
   "metadata": {},
   "outputs": [],
   "source": [
    "import pandas as pd\n",
    "df = pd.read_csv('./data/GO_term_analysis/simrank_pval_LLM_processed_selected_1000_go_terms.tsv', sep='\\t')\n",
    "\n",
    "perc_gene_mentioned = []\n",
    "counts = []\n",
    "for ind, row in df.iterrows():\n",
    "    genes = row['Genes']\n",
    "    genecount = float(row['Gene_Count'])\n",
    "    assert genecount == len(genes.split(\" \")) # make sure the gene count is correct\n",
    "    \n",
    "    analysis = row['LLM Analysis']\n",
    "    overlap_counts = get_LLM_gene_count(genes, analysis)\n",
    "    counts.append(overlap_counts)\n",
    "    perc_gene_mentioned.append(overlap_counts/genecount)\n",
    "\n",
    "df['num_gene_mentioned'] = counts\n",
    "df['perc_gene_mentioned'] = perc_gene_mentioned\n",
    "\n",
    "df.to_csv('./data/GO_term_analysis/simrank_pval_LLM_processed_selected_1000_go_terms.tsv', sep='\\t', index=False)"
   ]
  },
  {
   "cell_type": "code",
   "execution_count": 4,
   "metadata": {},
   "outputs": [
    {
     "data": {
      "text/plain": [
       "count    1000.000000\n",
       "mean        0.811926\n",
       "std         0.302239\n",
       "min         0.015487\n",
       "25%         0.638369\n",
       "50%         1.000000\n",
       "75%         1.000000\n",
       "max         1.000000\n",
       "Name: perc_gene_mentioned, dtype: float64"
      ]
     },
     "execution_count": 4,
     "metadata": {},
     "output_type": "execute_result"
    }
   ],
   "source": [
    "df['perc_gene_mentioned'].describe()"
   ]
  },
  {
   "cell_type": "code",
   "execution_count": 5,
   "metadata": {},
   "outputs": [
    {
     "name": "stdout",
     "output_type": "stream",
     "text": [
      "Number of GO terms that cover at least 90% of the genes: 691\n",
      "Number of GO terms that cover at least 50% of the genes: 796\n"
     ]
    }
   ],
   "source": [
    "# find the number of times that covers at least 90% of the genes\n",
    "\n",
    "print(\"Number of GO terms that cover at least 90% of the genes: {}\".format(sum(1 for i in perc_gene_mentioned if i >= 0.9)))\n",
    "print(\"Number of GO terms that cover at least 50% of the genes: {}\".format(sum(1 for i in perc_gene_mentioned if i >= 0.5)))"
   ]
  },
  {
   "cell_type": "code",
   "execution_count": 6,
   "metadata": {},
   "outputs": [
    {
     "name": "stdout",
     "output_type": "stream",
     "text": [
      "lower bound: 0.09592245989304826\n",
      "Number of outliers: 27\n"
     ]
    },
    {
     "data": {
      "text/plain": [
       "count     27.000000\n",
       "mean     281.703704\n",
       "std      109.846682\n",
       "min       69.000000\n",
       "25%      184.000000\n",
       "50%      303.000000\n",
       "75%      362.000000\n",
       "max      456.000000\n",
       "Name: Gene_Count, dtype: float64"
      ]
     },
     "execution_count": 6,
     "metadata": {},
     "output_type": "execute_result"
    }
   ],
   "source": [
    "#check the size of the GO terms for outliers\n",
    "import numpy as np\n",
    "\n",
    "# Calculate quartiles and IQR\n",
    "q1 = np.percentile(df['perc_gene_mentioned'], 25)\n",
    "q3 = np.percentile(df['perc_gene_mentioned'], 75)\n",
    "iqr = q3 - q1\n",
    "\n",
    "# Calculate the upper and lower bounds for outliers\n",
    "lower_bound = q1 - 1.5 * iqr\n",
    "upper_bound = q3 + 1.5 * iqr\n",
    "\n",
    "# Extract the outliers from the DataFrame\n",
    "outliers = df[(df['perc_gene_mentioned'] < lower_bound) | (df['perc_gene_mentioned'] > upper_bound)]\n",
    "print('lower bound: {}'.format(lower_bound))\n",
    "print(\"Number of outliers: {}\".format(len(outliers)))\n",
    "# outliers size distribution\n",
    "outliers['Gene_Count'].describe()"
   ]
  },
  {
   "cell_type": "code",
   "execution_count": 7,
   "metadata": {},
   "outputs": [
    {
     "data": {
      "image/png": "[encoded data removed]",
      "text/plain": [
       "<Figure size 576x576 with 1 Axes>"
      ]
     },
     "metadata": {
      "needs_background": "light"
     },
     "output_type": "display_data"
    }
   ],
   "source": [
    "## plot a box plot \n",
    "import matplotlib.pyplot as plt\n",
    "import seaborn as sns\n",
    "import pandas as pd\n",
    "df = pd.read_csv('./data/GO_term_analysis/simrank_pval_LLM_processed_selected_1000_go_terms.tsv', sep='\\t')\n",
    "perc_gene_mentioned = df['perc_gene_mentioned'].tolist()\n",
    "sns.set_context(\"paper\", font_scale=2)\n",
    "plt.rcParams['pdf.fonttype'] = 42\n",
    "fig,ax = plt.subplots(figsize=(8,8))\n",
    "\n",
    "box_plot = sns.boxplot(y=[frac *100 for frac in perc_gene_mentioned], ax=ax, color='white', linewidth=2)\n",
    "\n",
    "# changing color and linewidth of the median line\n",
    "median_line = box_plot.get_lines()[4] # get the median line\n",
    "median_line.set_color('black') # change the color\n",
    "median_line.set_linewidth(2) # change the linewidth\n",
    "\n",
    "ax.set_ylabel(\"Percentage of genes mentioned (%)\")\n",
    "ax.set_xlabel(\"GPT-4 analysis of GO terms\")\n",
    "\n",
    "# plt.savefig('./figures/LLM_gene_mention_percentage.pdf', dpi = 300,bbox_inches='tight')\n",
    "plt.show()"
   ]
  },
  {
   "cell_type": "code",
   "execution_count": null,
   "metadata": {},
   "outputs": [],
   "source": []
  }
 ],
 "metadata": {
  "kernelspec": {
   "display_name": "Python 3 (ipykernel)",
   "language": "python",
   "name": "python3"
  },
  "language_info": {
   "codemirror_mode": {
    "name": "ipython",
    "version": 3
   },
   "file_extension": ".py",
   "mimetype": "text/x-python",
   "name": "python",
   "nbconvert_exporter": "python",
   "pygments_lexer": "ipython3",
   "version": "3.7.10"
  }
 },
 "nbformat": 4,
 "nbformat_minor": 4
}
