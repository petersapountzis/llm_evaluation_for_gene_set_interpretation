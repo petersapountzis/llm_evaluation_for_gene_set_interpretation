{
 "cells": [
  {
   "cell_type": "raw",
   "metadata": {
    "tags": []
   },
   "source": [
    "This notebook queries GPT-4 and formats its response to obtain a succint name for each of the 'omics gene sets "
   ]
  },
  {
   "cell_type": "code",
   "execution_count": 1,
   "metadata": {},
   "outputs": [],
   "source": [
    "import os\n",
    "import pandas as pd\n",
    "import json \n",
    "import openai"
   ]
  },
  {
   "cell_type": "code",
   "execution_count": 2,
   "metadata": {},
   "outputs": [],
   "source": [
    "from utils.openai_query import openai_chat\n",
    "from utils.prompt_factory import make_user_prompt_with_score\n",
    "from utils.llm_analysis_utils import process_analysis, save_progress"
   ]
  },
  {
   "cell_type": "code",
   "execution_count": 3,
   "metadata": {},
   "outputs": [],
   "source": [
    "openai.api_key = os.environ[\"OPENAI_API_KEY\"] # Environment variable"
   ]
  },
  {
   "cell_type": "code",
   "execution_count": null,
   "metadata": {},
   "outputs": [],
   "source": []
  },
  {
   "cell_type": "code",
   "execution_count": 4,
   "metadata": {},
   "outputs": [],
   "source": [
    "geneSep = \" \"\n",
    "inputFilePath = \"data/omics.txt\"\n",
    "jsonFilePath = \"jsonFiles/OmicsRunLLM.json\"\n",
    "genesCol = \"GeneList\"\n",
    "nameCol  = \"GeneSetName\"\n",
    "outputFilePath = \"data/omics_LLM_DF.tsv\""
   ]
  },
  {
   "cell_type": "code",
   "execution_count": 5,
   "metadata": {},
   "outputs": [],
   "source": [
    "with open(jsonFilePath) as json_file:\n",
    "    config = json.load(json_file)\n",
    "    \n",
    "context = config['CONTEXT']\n",
    "gpt_model = config['GPT_MODEL']\n",
    "temperature = config['TEMP']\n",
    "max_tokens = config['MAX_TOKENS']\n",
    "rate_per_token = config['RATE_PER_TOKEN']\n",
    "LOG_FILE = config['LOG_NAME'] + 'log.json'\n",
    "DOLLAR_LIMIT = config['DOLLAR_LIMIT']"
   ]
  },
  {
   "cell_type": "code",
   "execution_count": 6,
   "metadata": {},
   "outputs": [],
   "source": [
    "SEED = 42"
   ]
  },
  {
   "cell_type": "code",
   "execution_count": 7,
   "metadata": {},
   "outputs": [
    {
     "data": {
      "text/plain": [
       "'gpt-4-1106-preview'"
      ]
     },
     "execution_count": 7,
     "metadata": {},
     "output_type": "execute_result"
    }
   ],
   "source": [
    "gpt_model"
   ]
  },
  {
   "cell_type": "markdown",
   "metadata": {},
   "source": [
    "### Run GPT-4 query pipeline for NeST gene sets"
   ]
  },
  {
   "cell_type": "code",
   "execution_count": 8,
   "metadata": {},
   "outputs": [],
   "source": [
    "df = pd.read_csv(inputFilePath, sep = \"\\t\"); \n",
    "\n",
    "df['LLM Name'] = None\n",
    "df['LLM Analysis'] = None\n",
    "df['Score'] = None"
   ]
  },
  {
   "cell_type": "code",
   "execution_count": null,
   "metadata": {
    "tags": []
   },
   "outputs": [
    {
     "name": "stdout",
     "output_type": "stream",
     "text": [
      "2520\n",
      "2373\n",
      "1\n",
      "1914\n",
      "1612\n",
      "2305\n",
      "1521\n",
      "2114\n",
      "2158\n",
      "1837\n",
      "2130\n",
      "2207\n",
      "2524\n",
      "11\n",
      "2528\n",
      "2288\n",
      "2174\n",
      "2191\n",
      "2283\n",
      "2651\n",
      "2199\n",
      "2050\n",
      "2317\n",
      "2561\n",
      "21\n",
      "2295\n",
      "2127\n",
      "2381\n",
      "2040\n",
      "2688\n",
      "2331\n",
      "2375\n",
      "2413\n",
      "2749\n",
      "2744\n",
      "31\n",
      "2147\n",
      "2355\n",
      "1784\n",
      "2431\n",
      "2617\n",
      "1962\n",
      "1950\n",
      "2095\n",
      "2077\n",
      "1882\n",
      "41\n",
      "2253\n",
      "1821\n",
      "2371\n",
      "2038\n",
      "2115\n",
      "2304\n",
      "2075\n",
      "2593\n",
      "1350\n",
      "1630\n",
      "51\n",
      "1562\n",
      "2415\n",
      "1440\n",
      "1712\n",
      "1572\n",
      "1676\n",
      "1910\n",
      "1591\n",
      "1515\n",
      "1402\n",
      "61\n",
      "1576\n",
      "1354\n",
      "1279\n",
      "1622\n",
      "1399\n",
      "1876\n",
      "1531\n",
      "2219\n",
      "1541\n",
      "1471\n",
      "71\n",
      "1523\n",
      "1682\n",
      "1943\n",
      "1478\n",
      "1756\n",
      "1583\n",
      "1478\n",
      "2335\n",
      "1716\n",
      "1707\n",
      "81\n",
      "1526\n",
      "1343\n",
      "1584\n",
      "1567\n",
      "1549\n",
      "1651\n",
      "1504\n",
      "1509\n",
      "1609\n",
      "1560\n",
      "91\n",
      "1661\n",
      "1505\n",
      "1698\n",
      "1996\n",
      "1494\n",
      "1426\n",
      "1469\n",
      "1294\n",
      "1464\n",
      "1656\n",
      "101\n",
      "1800\n",
      "1409\n"
     ]
    }
   ],
   "source": [
    "for i, row in df.iterrows():\n",
    "    term_genes = row[genesCol]\n",
    "    genes = term_genes.split(geneSep) \n",
    "    \n",
    "    prompt = make_user_prompt_with_score(genes)\n",
    "\n",
    "    analysis, finger_print = openai_chat(context, prompt, gpt_model, temperature, max_tokens, rate_per_token, LOG_FILE, DOLLAR_LIMIT, SEED)\n",
    "\n",
    "    if analysis:\n",
    "        llm_name, llm_score, llm_analysis = process_analysis(analysis)\n",
    "        df.loc[i, 'LLM Name'] = llm_name\n",
    "        df.loc[i, 'LLM Analysis'] = llm_analysis\n",
    "        df.loc[i, 'Score'] = float(llm_score)\n",
    "\n",
    "    else:\n",
    "        #go_term = row['GO']\n",
    "        name = row[nameCol]\n",
    "        print(f'No analysis for {name}')\n",
    "        df.loc[i, 'LLM Name'] = None\n",
    "        df.loc[i, 'LLM Analysis'] = None\n",
    "        \n",
    "    # Keep on saving to not loose data if something happens\n",
    "    if (i%10 == 1):\n",
    "        print(i)\n",
    "        df.to_csv(outputFilePath, sep = \"\\t\",  index=False)\n",
    "    "
   ]
  },
  {
   "cell_type": "code",
   "execution_count": null,
   "metadata": {},
   "outputs": [],
   "source": [
    "df.to_csv(outputFilePath, sep= '\\t', index=False)\n"
   ]
  },
  {
   "cell_type": "code",
   "execution_count": null,
   "metadata": {},
   "outputs": [],
   "source": []
  },
  {
   "cell_type": "code",
   "execution_count": null,
   "metadata": {},
   "outputs": [],
   "source": []
  }
 ],
 "metadata": {
  "kernelspec": {
   "display_name": "llm_go_evaluation",
   "language": "python",
   "name": "llm_go_evaluation"
  },
  "language_info": {
   "codemirror_mode": {
    "name": "ipython",
    "version": 3
   },
   "file_extension": ".py",
   "mimetype": "text/x-python",
   "name": "python",
   "nbconvert_exporter": "python",
   "pygments_lexer": "ipython3",
   "version": "3.11.3"
  }
 },
 "nbformat": 4,
 "nbformat_minor": 4
}
