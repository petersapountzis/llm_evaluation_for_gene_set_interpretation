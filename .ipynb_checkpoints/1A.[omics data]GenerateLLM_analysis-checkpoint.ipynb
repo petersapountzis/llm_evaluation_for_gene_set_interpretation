{
 "cells": [
  {
   "cell_type": "raw",
   "metadata": {
    "tags": []
   },
   "source": [
    "This notebook queries GPT-4 and formats its response to obtain a succint name for each of the 'omics gene sets "
   ]
  },
  {
   "cell_type": "code",
   "execution_count": 1,
   "metadata": {},
   "outputs": [],
   "source": [
    "import os\n",
    "import pandas as pd\n",
    "import json \n",
    "import openai"
   ]
  },
  {
   "cell_type": "code",
   "execution_count": 2,
   "metadata": {},
   "outputs": [],
   "source": [
    "from utils.openai_query import openai_chat\n",
    "from utils.prompt_factory import make_user_prompt_with_score\n",
    "from utils.llm_analysis_utils import process_analysis, save_progress"
   ]
  },
  {
   "cell_type": "code",
   "execution_count": 3,
   "metadata": {},
   "outputs": [],
   "source": [
    "openai.api_key = os.environ[\"OPENAI_API_KEY\"] # Environment variable"
   ]
  },
  {
   "cell_type": "code",
   "execution_count": null,
   "metadata": {},
   "outputs": [],
   "source": []
  },
  {
   "cell_type": "code",
   "execution_count": 4,
   "metadata": {},
   "outputs": [],
   "source": [
    "geneSep = \" \"\n",
    "inputFilePath = \"data/omics.txt\"\n",
    "jsonFilePath = \"jsonFiles/OmicsRunLLM.json\"\n",
    "genesCol = \"GeneList\"\n",
    "nameCol  = \"GeneSetName\"\n",
    "outputFilePath = \"data/omics_LLM_DF.tsv\""
   ]
  },
  {
   "cell_type": "code",
   "execution_count": 5,
   "metadata": {},
   "outputs": [],
   "source": [
    "with open(jsonFilePath) as json_file:\n",
    "    config = json.load(json_file)\n",
    "    \n",
    "context = config['CONTEXT']\n",
    "gpt_model = config['GPT_MODEL']\n",
    "temperature = config['TEMP']\n",
    "max_tokens = config['MAX_TOKENS']\n",
    "rate_per_token = config['RATE_PER_TOKEN']\n",
    "LOG_FILE = config['LOG_NAME'] + 'log.json'\n",
    "DOLLAR_LIMIT = config['DOLLAR_LIMIT']"
   ]
  },
  {
   "cell_type": "code",
   "execution_count": 6,
   "metadata": {},
   "outputs": [],
   "source": [
    "SEED = 42"
   ]
  },
  {
   "cell_type": "code",
   "execution_count": 7,
   "metadata": {},
   "outputs": [
    {
     "data": {
      "text/plain": [
       "'gpt-4-1106-preview'"
      ]
     },
     "execution_count": 7,
     "metadata": {},
     "output_type": "execute_result"
    }
   ],
   "source": [
    "gpt_model"
   ]
  },
  {
   "cell_type": "markdown",
   "metadata": {},
   "source": [
    "### Run GPT-4 query pipeline for NeST gene sets"
   ]
  },
  {
   "cell_type": "code",
   "execution_count": 8,
   "metadata": {},
   "outputs": [],
   "source": [
    "df = pd.read_csv(inputFilePath, sep = \"\\t\"); \n",
    "\n",
    "df['LLM Name'] = None\n",
    "df['LLM Analysis'] = None\n",
    "df['Score'] = None"
   ]
  },
  {
   "cell_type": "code",
   "execution_count": null,
   "metadata": {
    "collapsed": true,
    "jupyter": {
     "outputs_hidden": true
    },
    "tags": []
   },
   "outputs": [
    {
     "name": "stdout",
     "output_type": "stream",
     "text": [
      "2338\n",
      "2678\n",
      "1\n",
      "1883\n",
      "1793\n",
      "2292\n",
      "1715\n",
      "2267\n",
      "2098\n",
      "1895\n",
      "2143\n",
      "2288\n",
      "2252\n",
      "11\n",
      "2472\n",
      "2236\n",
      "2215\n",
      "2087\n",
      "2109\n",
      "2683\n",
      "2236\n",
      "2050\n",
      "2404\n",
      "2540\n",
      "21\n",
      "2167\n",
      "2264\n",
      "2512\n",
      "1997\n",
      "2727\n",
      "2346\n",
      "2306\n",
      "2274\n",
      "2463\n",
      "2744\n",
      "31\n",
      "2147\n",
      "2496\n",
      "1823\n",
      "2492\n",
      "2558\n",
      "2066\n",
      "1962\n",
      "2253\n",
      "2250\n",
      "1869\n",
      "41\n",
      "2029\n",
      "2083\n",
      "2736\n",
      "2199\n",
      "2006\n",
      "2214\n",
      "2075\n",
      "2392\n",
      "1406\n",
      "1415\n",
      "51\n",
      "1515\n",
      "2335\n",
      "1373\n",
      "1780\n",
      "2437\n",
      "1430\n",
      "1667\n",
      "1793\n",
      "2034\n",
      "2362\n",
      "61\n",
      "1531\n",
      "1536\n",
      "1330\n",
      "1472\n",
      "1731\n",
      "1626\n",
      "1572\n",
      "1629\n",
      "1929\n",
      "1591\n",
      "71\n",
      "1536\n",
      "1676\n",
      "1656\n",
      "1315\n",
      "1824\n",
      "1665\n",
      "1986\n",
      "1719\n",
      "1380\n",
      "1384\n",
      "81\n",
      "1602\n",
      "1475\n",
      "1508\n",
      "1436\n",
      "1535\n",
      "1729\n",
      "1575\n",
      "1464\n",
      "2122\n",
      "1447\n",
      "91\n",
      "1723\n",
      "1543\n",
      "2023\n",
      "1996\n",
      "2019\n",
      "1845\n",
      "2012\n"
     ]
    }
   ],
   "source": [
    "for i, row in df.iterrows():\n",
    "    term_genes = row[genesCol]\n",
    "    genes = term_genes.split(geneSep) \n",
    "    \n",
    "    prompt = make_user_prompt_with_score(genes)\n",
    "\n",
    "    analysis, finger_print = openai_chat(context, prompt, gpt_model, temperature, max_tokens, rate_per_token, LOG_FILE, DOLLAR_LIMIT, SEED)\n",
    "\n",
    "    if analysis:\n",
    "        llm_name, llm_score, llm_analysis = process_analysis(analysis)\n",
    "        df.loc[i, 'LLM Name'] = llm_name\n",
    "        df.loc[i, 'LLM Analysis'] = llm_analysis\n",
    "        df.loc[i, 'Score'] = float(llm_score)\n",
    "\n",
    "    else:\n",
    "        #go_term = row['GO']\n",
    "        name = row[nameCol]\n",
    "        print(f'No analysis for {name}')\n",
    "        df.loc[i, 'LLM Name'] = None\n",
    "        df.loc[i, 'LLM Analysis'] = None\n",
    "        \n",
    "    # Keep on saving to not loose data if something happens\n",
    "    if (i%10 == 1):\n",
    "        print(i)\n",
    "        df.to_csv(outputFilePath, sep = \"\\t\",  index=False)\n",
    "    "
   ]
  },
  {
   "cell_type": "code",
   "execution_count": null,
   "metadata": {},
   "outputs": [],
   "source": [
    "df.to_csv(outputFilePath, sep= '\\t', index=False)\n"
   ]
  },
  {
   "cell_type": "code",
   "execution_count": null,
   "metadata": {},
   "outputs": [],
   "source": []
  },
  {
   "cell_type": "code",
   "execution_count": null,
   "metadata": {},
   "outputs": [],
   "source": []
  }
 ],
 "metadata": {
  "kernelspec": {
   "display_name": "llm_go_evaluation",
   "language": "python",
   "name": "llm_go_evaluation"
  },
  "language_info": {
   "codemirror_mode": {
    "name": "ipython",
    "version": 3
   },
   "file_extension": ".py",
   "mimetype": "text/x-python",
   "name": "python",
   "nbconvert_exporter": "python",
   "pygments_lexer": "ipython3",
   "version": "3.11.3"
  }
 },
 "nbformat": 4,
 "nbformat_minor": 4
}
