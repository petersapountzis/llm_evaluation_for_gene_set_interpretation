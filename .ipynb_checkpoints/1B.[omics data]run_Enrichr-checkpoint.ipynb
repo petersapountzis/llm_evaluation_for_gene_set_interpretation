{
 "cells": [
  {
   "cell_type": "raw",
   "id": "c64a0bfd-4de3-44dd-a77c-a72c7b47f645",
   "metadata": {},
   "source": [
    "runs Enrichr for each 'omics gene set\n",
    "\n",
    "run separately for NeST and MSigDB by editing \"dataType\""
   ]
  },
  {
   "cell_type": "code",
   "execution_count": 1,
   "id": "c155029f-b60c-44f3-a7a0-b64253493a2c",
   "metadata": {},
   "outputs": [],
   "source": [
    "# https://gseapy.readthedocs.io/en/latest/gseapy_example.html"
   ]
  },
  {
   "cell_type": "code",
   "execution_count": 2,
   "id": "96571de6-823d-4010-9b5c-949615ba060a",
   "metadata": {},
   "outputs": [],
   "source": [
    "%load_ext autoreload\n",
    "%autoreload 2\n",
    "import pandas as pd\n",
    "import gseapy as gp"
   ]
  },
  {
   "cell_type": "code",
   "execution_count": 3,
   "id": "5467d3a5-6097-4a81-a0cd-a58b609bf5fb",
   "metadata": {},
   "outputs": [],
   "source": [
    "pd.set_option('display.max_columns', None)"
   ]
  },
  {
   "cell_type": "code",
   "execution_count": 4,
   "id": "08f1ef55-04a1-4ba9-9331-34ace90805c1",
   "metadata": {},
   "outputs": [],
   "source": [
    "dbs = gp.get_library_name()\n"
   ]
  },
  {
   "cell_type": "markdown",
   "id": "c4006f12-345b-48b7-8880-4b54e8d9f8b5",
   "metadata": {},
   "source": [
    "## Read in naming file"
   ]
  },
  {
   "cell_type": "code",
   "execution_count": 5,
   "id": "7111f86e-d3b5-4424-ab64-926e4a707e5d",
   "metadata": {},
   "outputs": [],
   "source": [
    "inputFile = 'data/omics_LLM_DF.tsv'"
   ]
  },
  {
   "cell_type": "code",
   "execution_count": 6,
   "id": "671d9293-4553-4ed4-9799-114961eb5cbf",
   "metadata": {},
   "outputs": [],
   "source": [
    "genesets_LLM = pd.read_csv(inputFile, sep = \"\\t\") "
   ]
  },
  {
   "cell_type": "code",
   "execution_count": null,
   "id": "b0a289a3-3eb3-44db-b8d4-b4bdd281d136",
   "metadata": {},
   "outputs": [],
   "source": []
  },
  {
   "cell_type": "code",
   "execution_count": 7,
   "id": "6f4be3c8-0fdc-4b59-895b-d1016ba7db52",
   "metadata": {},
   "outputs": [],
   "source": [
    "# Remove \"HALLMARK_\" prefix for MSigDB gene sets\n",
    "genesets_LLM['GeneSetName'] = genesets_LLM['GeneSetName'].str.removeprefix(\"HALLMARK_\").str.replace('_', ' ')\n"
   ]
  },
  {
   "cell_type": "code",
   "execution_count": 8,
   "id": "81f8bf60-6404-49e6-85d0-b92122add457",
   "metadata": {},
   "outputs": [
    {
     "data": {
      "text/plain": [
       "Index(['Source', 'GeneSetID', 'GeneSetName', 'GeneList', 'n_Genes', 'LLM Name',\n",
       "       'LLM Analysis', 'Score'],\n",
       "      dtype='object')"
      ]
     },
     "execution_count": 8,
     "metadata": {},
     "output_type": "execute_result"
    }
   ],
   "source": [
    "genesets_LLM.columns"
   ]
  },
  {
   "cell_type": "code",
   "execution_count": 9,
   "id": "c5663eb2-4ebe-45ef-8d58-bbf155d8a9e8",
   "metadata": {},
   "outputs": [],
   "source": [
    "columnsToKeep = ['Source', 'GeneSetID', 'GeneSetName', 'GeneList', 'n_Genes', 'LLM Name',\n",
    "       'LLM Analysis', 'Score']\n",
    "geneSeparator = \" \""
   ]
  },
  {
   "cell_type": "code",
   "execution_count": 10,
   "id": "44cbc132-9812-4652-a2d4-ad2c313fcfeb",
   "metadata": {},
   "outputs": [],
   "source": [
    "LLM_DF = genesets_LLM"
   ]
  },
  {
   "cell_type": "code",
   "execution_count": 11,
   "id": "aaaf87a1-171f-4b94-a7f1-70a75b3cea17",
   "metadata": {},
   "outputs": [],
   "source": [
    "nGeneSets = LLM_DF.shape[0]"
   ]
  },
  {
   "cell_type": "code",
   "execution_count": 12,
   "id": "952674b2-20ec-4231-860b-dfd713dad935",
   "metadata": {},
   "outputs": [
    {
     "data": {
      "text/plain": [
       "250"
      ]
     },
     "execution_count": 12,
     "metadata": {},
     "output_type": "execute_result"
    }
   ],
   "source": [
    "nGeneSets"
   ]
  },
  {
   "cell_type": "markdown",
   "id": "f66485e2-8b7e-4feb-b638-d5c893b92f46",
   "metadata": {},
   "source": [
    "## Go through each system and run Enrichr "
   ]
  },
  {
   "cell_type": "code",
   "execution_count": null,
   "id": "ea2d86be-1de9-4019-8e4f-a5269a4b851f",
   "metadata": {},
   "outputs": [],
   "source": [
    "# Each system will have multiple rows"
   ]
  },
  {
   "cell_type": "code",
   "execution_count": 13,
   "id": "4536e230-bab3-433d-a0d1-33969a9d4e3e",
   "metadata": {},
   "outputs": [],
   "source": [
    "additionalCols = ['Rank', 'Overlap', 'P-value', 'Adjusted P-value', 'Genes', 'GO term', 'GO ID' ]"
   ]
  },
  {
   "cell_type": "code",
   "execution_count": 14,
   "id": "f8897f4d-be79-401d-826c-63173909dba9",
   "metadata": {},
   "outputs": [],
   "source": [
    "expandedColumnsToKeep =columnsToKeep;\n",
    "expandedColumnsToKeep.extend(additionalCols)"
   ]
  },
  {
   "cell_type": "code",
   "execution_count": 15,
   "id": "63805a5e-982a-4ff4-8011-1cec7684452f",
   "metadata": {},
   "outputs": [],
   "source": [
    "expanded_LLM_genes_DF = pd.DataFrame(columns=expandedColumnsToKeep)"
   ]
  },
  {
   "cell_type": "code",
   "execution_count": 16,
   "id": "1bcc2bdc-42f9-44fa-bca3-9c39076e1c8f",
   "metadata": {},
   "outputs": [],
   "source": [
    "genesCol = 'GeneList'"
   ]
  },
  {
   "cell_type": "code",
   "execution_count": null,
   "id": "9368f41a-5b50-461a-8f2d-10214e61d92f",
   "metadata": {
    "tags": []
   },
   "outputs": [
    {
     "name": "stdout",
     "output_type": "stream",
     "text": [
      "0\n",
      "1\n",
      "2\n",
      "3\n",
      "4\n",
      "5\n",
      "6\n",
      "7\n",
      "8\n",
      "9\n",
      "10\n",
      "11\n",
      "12\n",
      "13\n",
      "14\n",
      "15\n",
      "16\n",
      "17\n",
      "18\n",
      "19\n",
      "20\n"
     ]
    }
   ],
   "source": [
    "for geneSetInd in range(nGeneSets):\n",
    "    print(geneSetInd)\n",
    "    geneSetRow = LLM_DF.iloc[geneSetInd]\n",
    "    geneSetGenes = geneSetRow[genesCol].split(geneSeparator)\n",
    "\n",
    "    # Perform enrichment analysis\n",
    "    enr = gp.enrichr(gene_list=geneSetGenes, # or \"./tests/data/gene_list.txt\",\n",
    "                 gene_sets=['GO_Biological_Process_2023'],\n",
    "                 organism='human', # don't forget to set organism to the one you desired! e.g. Yeast\n",
    "                 outdir=None, # don't write to disk\n",
    "                )\n",
    "    \n",
    "    # threshold\n",
    "    # sigRes_DF =  enr.results.loc[enr.results['Adjusted P-value'] <=0.1]\n",
    "    sigRes_DF = enr.results # remove thresholding, because want a name for each one\n",
    "    sigRes_DF = sigRes_DF.sort_values('Adjusted P-value')\n",
    "    if sigRes_DF.shape[0] == 0:\n",
    "        \n",
    "        print([geneSetInd, ' has not enirchment'])\n",
    "        #continue # skip to next gene set\n",
    "        sigRes_DF.loc[0, ['GO term', 'GO ID', 'nothing']] = 'NaN'\n",
    "        sigRes_DF.loc[0, ['Rank']]  = 1\n",
    "        sigRes_DF.loc[0, ['Overlap']]  = 0\n",
    "        sigRes_DF.loc[0, ['P-value']]  = 1\n",
    "        sigRes_DF.loc[0, ['Adjusted P-value']]  = 1\n",
    "        sigRes_DF.loc[0, ['Genes']]  = ''\n",
    "        \n",
    "    else:\n",
    "        expandedCols = sigRes_DF[\"Term\"].str.split('(', expand = True)\n",
    "        \n",
    "        if expandedCols.shape[1] == 3:\n",
    "            sigRes_DF[['GO term', 'GO ID', 'nothing']] = expandedCols\n",
    "        else: # ==2\n",
    "            sigRes_DF[['GO term', 'GO ID']] = expandedCols\n",
    "\n",
    "        sigRes_DF[['GO ID', 'nothing']] = sigRes_DF[\"GO ID\"].str.split(')', expand = True)\n",
    "\n",
    "        # Get ranking of enriched GO terms\n",
    "        sigRes_DF['Rank'] = sigRes_DF.reset_index().index\n",
    "\n",
    "    \n",
    "    # Doing what should be a simple colbind \n",
    "    geneSetRow_DF = geneSetRow.to_frame().T\n",
    "    geneSetRow_repeated_DF = geneSetRow_DF.loc[geneSetRow_DF.index.repeat(sigRes_DF.shape[0])]\n",
    "    geneSetRow_repeated_DF = geneSetRow_repeated_DF.reset_index()\n",
    "    \n",
    "    # system_Row_sigRes = systemRow_repeated_DF.join(sigRes_DF)\n",
    "    geneSetRowRow_sigRes = pd.concat([geneSetRow_repeated_DF, sigRes_DF],axis=1)\n",
    "    \n",
    "    # Doing what should be a simple  rowbind\n",
    "    if expanded_LLM_genes_DF.shape[0] == 0:\n",
    "        expanded_LLM_genes_DF = geneSetRowRow_sigRes[expandedColumnsToKeep]\n",
    "    else:\n",
    "        expanded_LLM_genes_DF =  pd.concat([expanded_LLM_genes_DF, geneSetRowRow_sigRes[expandedColumnsToKeep]],axis=0)\n",
    "    "
   ]
  },
  {
   "cell_type": "code",
   "execution_count": null,
   "id": "ecd6e098-8c7b-4a76-a48b-c1c5238b7c0f",
   "metadata": {
    "tags": []
   },
   "outputs": [],
   "source": [
    "expanded_LLM_genes_DF.shape"
   ]
  },
  {
   "cell_type": "code",
   "execution_count": null,
   "id": "191f0505-f379-4bd5-8198-b37de839d12d",
   "metadata": {},
   "outputs": [],
   "source": [
    "# outputFile = 'data/omics_LLM_Enrichr_DF.tsv' "
   ]
  },
  {
   "cell_type": "code",
   "execution_count": null,
   "id": "0390f34d-f3c1-4957-a556-7c7c4525d616",
   "metadata": {},
   "outputs": [],
   "source": [
    "# expanded_LLM_genes_DF.to_csv(outputFile, sep = \"\\t\") # Too large "
   ]
  },
  {
   "cell_type": "code",
   "execution_count": null,
   "id": "d03ba6ff-8c90-49ad-a684-92b1320952fd",
   "metadata": {},
   "outputs": [],
   "source": [
    "reduced_LLM_genes_DF = expanded_LLM_genes_geneSetDF.loc[expanded_LLM_genes_geneSetDF.reset_index().groupby(['Source', 'GeneSetID', 'GeneSetName', 'GeneList'])['Adjusted P-value'].idxmin()]"
   ]
  },
  {
   "cell_type": "code",
   "execution_count": null,
   "id": "b5637a5b-4d12-40e8-a41b-1881fd90b68e",
   "metadata": {},
   "outputs": [],
   "source": [
    "reduced_LLM_genes_DF = reduced_LLM_genes_DF.reset_index()"
   ]
  },
  {
   "cell_type": "code",
   "execution_count": null,
   "id": "378a746c-44f2-4f6d-885a-4e704251a0e7",
   "metadata": {},
   "outputs": [],
   "source": [
    "reduced_LLM_genes_DF.to_csv('data/omics_LLM_Enrichr_reduced_DF.tsv' , sep = \"\\t\")"
   ]
  },
  {
   "cell_type": "code",
   "execution_count": null,
   "id": "6baac4ca-be7e-405c-ad71-21352906dfe7",
   "metadata": {},
   "outputs": [],
   "source": []
  }
 ],
 "metadata": {
  "kernelspec": {
   "display_name": "llm_go_evaluation",
   "language": "python",
   "name": "llm_go_evaluation"
  },
  "language_info": {
   "codemirror_mode": {
    "name": "ipython",
    "version": 3
   },
   "file_extension": ".py",
   "mimetype": "text/x-python",
   "name": "python",
   "nbconvert_exporter": "python",
   "pygments_lexer": "ipython3",
   "version": "3.11.3"
  }
 },
 "nbformat": 4,
 "nbformat_minor": 5
}
