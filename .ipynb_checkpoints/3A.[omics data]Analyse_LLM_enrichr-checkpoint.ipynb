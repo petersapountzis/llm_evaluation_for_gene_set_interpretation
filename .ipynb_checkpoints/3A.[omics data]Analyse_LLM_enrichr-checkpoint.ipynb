{
 "cells": [
  {
   "cell_type": "raw",
   "id": "07021c8a-1e83-476a-8369-ea4516afc070",
   "metadata": {},
   "source": [
    "separate into two scripts\n",
    "1) Analyse LLM_enrichr analyses\n",
    "2) Analyse human consensus\n",
    "\n",
    "put before reference finder"
   ]
  },
  {
   "cell_type": "code",
   "execution_count": null,
   "id": "f235cbd6-60dd-4ce6-b18b-fbefdd5a721c",
   "metadata": {},
   "outputs": [],
   "source": []
  },
  {
   "cell_type": "code",
   "execution_count": 1,
   "id": "7137472c-c5a5-4f67-8852-fb33674ef685",
   "metadata": {
    "tags": [],
    "vscode": {
     "languageId": "r"
    }
   },
   "outputs": [
    {
     "name": "stderr",
     "output_type": "stream",
     "text": [
      "── \u001b[1mAttaching core tidyverse packages\u001b[22m ────────────────────────────────────────────────────────────────────────── tidyverse 2.0.0 ──\n",
      "\u001b[32m✔\u001b[39m \u001b[34mdplyr    \u001b[39m 1.1.4     \u001b[32m✔\u001b[39m \u001b[34mreadr    \u001b[39m 2.1.4\n",
      "\u001b[32m✔\u001b[39m \u001b[34mforcats  \u001b[39m 1.0.0     \u001b[32m✔\u001b[39m \u001b[34mstringr  \u001b[39m 1.5.1\n",
      "\u001b[32m✔\u001b[39m \u001b[34mggplot2  \u001b[39m 3.4.4     \u001b[32m✔\u001b[39m \u001b[34mtibble   \u001b[39m 3.2.1\n",
      "\u001b[32m✔\u001b[39m \u001b[34mlubridate\u001b[39m 1.9.3     \u001b[32m✔\u001b[39m \u001b[34mtidyr    \u001b[39m 1.3.0\n",
      "\u001b[32m✔\u001b[39m \u001b[34mpurrr    \u001b[39m 1.0.2     \n",
      "── \u001b[1mConflicts\u001b[22m ──────────────────────────────────────────────────────────────────────────────────────────── tidyverse_conflicts() ──\n",
      "\u001b[31m✖\u001b[39m \u001b[34mdplyr\u001b[39m::\u001b[32marrange()\u001b[39m   masks \u001b[34mplyr\u001b[39m::arrange()\n",
      "\u001b[31m✖\u001b[39m \u001b[34mpurrr\u001b[39m::\u001b[32mcompact()\u001b[39m   masks \u001b[34mplyr\u001b[39m::compact()\n",
      "\u001b[31m✖\u001b[39m \u001b[34mdplyr\u001b[39m::\u001b[32mcount()\u001b[39m     masks \u001b[34mplyr\u001b[39m::count()\n",
      "\u001b[31m✖\u001b[39m \u001b[34mdplyr\u001b[39m::\u001b[32mdesc()\u001b[39m      masks \u001b[34mplyr\u001b[39m::desc()\n",
      "\u001b[31m✖\u001b[39m \u001b[34mdplyr\u001b[39m::\u001b[32mfailwith()\u001b[39m  masks \u001b[34mplyr\u001b[39m::failwith()\n",
      "\u001b[31m✖\u001b[39m \u001b[34mdplyr\u001b[39m::\u001b[32mfilter()\u001b[39m    masks \u001b[34mstats\u001b[39m::filter()\n",
      "\u001b[31m✖\u001b[39m \u001b[34mdplyr\u001b[39m::\u001b[32mid()\u001b[39m        masks \u001b[34mplyr\u001b[39m::id()\n",
      "\u001b[31m✖\u001b[39m \u001b[34mdplyr\u001b[39m::\u001b[32mlag()\u001b[39m       masks \u001b[34mstats\u001b[39m::lag()\n",
      "\u001b[31m✖\u001b[39m \u001b[34mdplyr\u001b[39m::\u001b[32mmutate()\u001b[39m    masks \u001b[34mplyr\u001b[39m::mutate()\n",
      "\u001b[31m✖\u001b[39m \u001b[34mdplyr\u001b[39m::\u001b[32mrename()\u001b[39m    masks \u001b[34mplyr\u001b[39m::rename()\n",
      "\u001b[31m✖\u001b[39m \u001b[34mdplyr\u001b[39m::\u001b[32msummarise()\u001b[39m masks \u001b[34mplyr\u001b[39m::summarise()\n",
      "\u001b[31m✖\u001b[39m \u001b[34mdplyr\u001b[39m::\u001b[32msummarize()\u001b[39m masks \u001b[34mplyr\u001b[39m::summarize()\n",
      "\u001b[36mℹ\u001b[39m Use the conflicted package (\u001b[3m\u001b[34m<http://conflicted.r-lib.org/>\u001b[39m\u001b[23m) to force all conflicts to become errors\n",
      "\n",
      "Attaching package: ‘ggpubr’\n",
      "\n",
      "\n",
      "The following object is masked from ‘package:plyr’:\n",
      "\n",
      "    mutate\n",
      "\n",
      "\n"
     ]
    }
   ],
   "source": [
    "library(plyr)\n",
    "library(tidyverse)\n",
    "library(readxl)\n",
    "library(ggpubr)\n",
    "library(comprehenr)"
   ]
  },
  {
   "cell_type": "code",
   "execution_count": 2,
   "id": "7463cbde-23de-40ca-9c8f-ac2a8c74affb",
   "metadata": {},
   "outputs": [],
   "source": [
    "`%notin%` <- Negate(`%in%`)"
   ]
  },
  {
   "cell_type": "code",
   "execution_count": 3,
   "id": "6440ddf4-c3c3-415e-8a3a-41c2dd65dac3",
   "metadata": {},
   "outputs": [],
   "source": [
    "source(\"utils/Task2_helperFunctions.r\")"
   ]
  },
  {
   "cell_type": "code",
   "execution_count": 4,
   "id": "51645cd6-7dd8-4196-a07c-d4cef34d9760",
   "metadata": {},
   "outputs": [],
   "source": [
    "inputFile = 'data/omics_LLM_Enrichr_simVals_DF.tsv' "
   ]
  },
  {
   "cell_type": "code",
   "execution_count": 5,
   "id": "b23a8f13-f162-4ab6-a9d6-bbd2032fe6b5",
   "metadata": {
    "tags": []
   },
   "outputs": [
    {
     "name": "stderr",
     "output_type": "stream",
     "text": [
      "\u001b[1m\u001b[22mNew names:\n",
      "\u001b[36m•\u001b[39m `` -> `...1`\n",
      "\u001b[1mRows: \u001b[22m\u001b[34m250\u001b[39m \u001b[1mColumns: \u001b[22m\u001b[34m21\u001b[39m\n",
      "\u001b[36m──\u001b[39m \u001b[1mColumn specification\u001b[22m \u001b[36m──────────────────────────────────────────────────────────────────────────────────────────────────────────\u001b[39m\n",
      "\u001b[1mDelimiter:\u001b[22m \"\\t\"\n",
      "\u001b[31mchr\u001b[39m (11): Source, GeneSetID, GeneSetName, GeneList, LLM Name, LLM Analysis, ...\n",
      "\u001b[32mdbl\u001b[39m (10): ...1, index, n_Genes, Score, Rank, P-value, Adjusted P-value, Orig...\n",
      "\n",
      "\u001b[36mℹ\u001b[39m Use `spec()` to retrieve the full column specification for this data.\n",
      "\u001b[36mℹ\u001b[39m Specify the column types or set `show_col_types = FALSE` to quiet this message.\n"
     ]
    }
   ],
   "source": [
    "Omics_DF = read_delim(file = inputFile, delim = \"\\t\")"
   ]
  },
  {
   "cell_type": "code",
   "execution_count": 6,
   "id": "62a9c223-9809-4a42-98c2-a67d0c5236bd",
   "metadata": {},
   "outputs": [
    {
     "data": {
      "text/html": [
       "<style>\n",
       ".list-inline {list-style: none; margin:0; padding: 0}\n",
       ".list-inline>li {display: inline-block}\n",
       ".list-inline>li:not(:last-child)::after {content: \"\\00b7\"; padding: 0 .5ex}\n",
       "</style>\n",
       "<ol class=list-inline><li>'...1'</li><li>'index'</li><li>'Source'</li><li>'GeneSetID'</li><li>'GeneSetName'</li><li>'GeneList'</li><li>'n_Genes'</li><li>'LLM Name'</li><li>'LLM Analysis'</li><li>'Score'</li><li>'Rank'</li><li>'Overlap'</li><li>'P-value'</li><li>'Adjusted P-value'</li><li>'Genes'</li><li>'GO term'</li><li>'GO ID'</li><li>'OriginalIndex'</li><li>'LLM_name_human_name_sim'</li><li>'GO_term_human_name_sim'</li><li>'winner'</li></ol>\n"
      ],
      "text/latex": [
       "\\begin{enumerate*}\n",
       "\\item '...1'\n",
       "\\item 'index'\n",
       "\\item 'Source'\n",
       "\\item 'GeneSetID'\n",
       "\\item 'GeneSetName'\n",
       "\\item 'GeneList'\n",
       "\\item 'n\\_Genes'\n",
       "\\item 'LLM Name'\n",
       "\\item 'LLM Analysis'\n",
       "\\item 'Score'\n",
       "\\item 'Rank'\n",
       "\\item 'Overlap'\n",
       "\\item 'P-value'\n",
       "\\item 'Adjusted P-value'\n",
       "\\item 'Genes'\n",
       "\\item 'GO term'\n",
       "\\item 'GO ID'\n",
       "\\item 'OriginalIndex'\n",
       "\\item 'LLM\\_name\\_human\\_name\\_sim'\n",
       "\\item 'GO\\_term\\_human\\_name\\_sim'\n",
       "\\item 'winner'\n",
       "\\end{enumerate*}\n"
      ],
      "text/markdown": [
       "1. '...1'\n",
       "2. 'index'\n",
       "3. 'Source'\n",
       "4. 'GeneSetID'\n",
       "5. 'GeneSetName'\n",
       "6. 'GeneList'\n",
       "7. 'n_Genes'\n",
       "8. 'LLM Name'\n",
       "9. 'LLM Analysis'\n",
       "10. 'Score'\n",
       "11. 'Rank'\n",
       "12. 'Overlap'\n",
       "13. 'P-value'\n",
       "14. 'Adjusted P-value'\n",
       "15. 'Genes'\n",
       "16. 'GO term'\n",
       "17. 'GO ID'\n",
       "18. 'OriginalIndex'\n",
       "19. 'LLM_name_human_name_sim'\n",
       "20. 'GO_term_human_name_sim'\n",
       "21. 'winner'\n",
       "\n",
       "\n"
      ],
      "text/plain": [
       " [1] \"...1\"                    \"index\"                  \n",
       " [3] \"Source\"                  \"GeneSetID\"              \n",
       " [5] \"GeneSetName\"             \"GeneList\"               \n",
       " [7] \"n_Genes\"                 \"LLM Name\"               \n",
       " [9] \"LLM Analysis\"            \"Score\"                  \n",
       "[11] \"Rank\"                    \"Overlap\"                \n",
       "[13] \"P-value\"                 \"Adjusted P-value\"       \n",
       "[15] \"Genes\"                   \"GO term\"                \n",
       "[17] \"GO ID\"                   \"OriginalIndex\"          \n",
       "[19] \"LLM_name_human_name_sim\" \"GO_term_human_name_sim\" \n",
       "[21] \"winner\"                 "
      ]
     },
     "metadata": {},
     "output_type": "display_data"
    }
   ],
   "source": [
    "colnames(Omics_DF)"
   ]
  },
  {
   "cell_type": "code",
   "execution_count": 7,
   "id": "031a4695-5dfb-4ab4-ae7e-b9aa6fdb3842",
   "metadata": {
    "tags": [],
    "vscode": {
     "languageId": "r"
    }
   },
   "outputs": [],
   "source": [
    "Omics_analyses_DF = Omics_DF %>%\n",
    "mutate(log2_n_Genes = log2(n_Genes)) %>%\n",
    "rename(c( \"Enrichr genes\" = \"Genes\")) %>%\n",
    "rowwise() %>%\n",
    "mutate(log2_rat_LLM_GO = log2(LLM_name_human_name_sim/GO_term_human_name_sim),\n",
    "       diff_LLM_GO = LLM_name_human_name_sim - GO_term_human_name_sim,\n",
    "       n_overlap_Enrichr = getEnrichrGeneCount(`GeneList`, `Enrichr genes`),\n",
    "       perc_overlap_Enrichr = 100*(n_overlap_Enrichr/n_Genes),\n",
    "       n_overlap_LLM = getLLMGeneCount(`GeneList`, `LLM Analysis`),\n",
    "       perc_overlap_LLM = 100*(n_overlap_LLM/n_Genes))\n",
    "\n"
   ]
  },
  {
   "cell_type": "code",
   "execution_count": null,
   "id": "8ef6507c-bff4-4ebd-8e2c-730027b845d4",
   "metadata": {
    "vscode": {
     "languageId": "r"
    }
   },
   "outputs": [],
   "source": []
  },
  {
   "cell_type": "code",
   "execution_count": 9,
   "id": "315ee151-86ca-40a1-ba0e-812f5e90efc5",
   "metadata": {
    "vscode": {
     "languageId": "r"
    }
   },
   "outputs": [],
   "source": [
    "write_delim(x = Omics_analyses_DF,\n",
    "            file =  'data/omics_LLM_Enrichr_simVals_analyses_DF.tsv',\n",
    "            delim = \"\\t\")"
   ]
  },
  {
   "cell_type": "code",
   "execution_count": null,
   "id": "37d7f0f3-a3ba-44b1-ad49-cd4690f36462",
   "metadata": {},
   "outputs": [],
   "source": []
  }
 ],
 "metadata": {
  "kernelspec": {
   "display_name": "R",
   "language": "R",
   "name": "ir"
  },
  "language_info": {
   "codemirror_mode": "r",
   "file_extension": ".r",
   "mimetype": "text/x-r-source",
   "name": "R",
   "pygments_lexer": "r",
   "version": "4.2.2"
  }
 },
 "nbformat": 4,
 "nbformat_minor": 5
}
