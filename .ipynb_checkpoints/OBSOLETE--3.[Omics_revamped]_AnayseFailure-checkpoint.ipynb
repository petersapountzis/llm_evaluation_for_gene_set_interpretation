{
 "cells": [
  {
   "cell_type": "code",
   "execution_count": 1,
   "id": "fa27e593-6e05-43b5-af14-5cdcbd477fc7",
   "metadata": {
    "collapsed": true,
    "jupyter": {
     "outputs_hidden": true
    },
    "tags": []
   },
   "source": [
    "library(plyr, quietly = TRUE)\n",
    "library(tidyverse, quietly = TRUE)"
   ],
   "outputs": []
  },
  {
   "cell_type": "code",
   "execution_count": 2,
   "id": "ad6b72ff-10d3-4929-ae41-7177f4952a9c",
   "metadata": {},
   "source": [
    "LLM_score_thresh = 0.8\n",
    "enrichr_adj_pval_thresh = 0.05\n",
    "enrichr_JI_thresh = 0.2"
   ],
   "outputs": []
  },
  {
   "cell_type": "code",
   "execution_count": 3,
   "id": "ca5c0967-332d-4a2a-85c6-a8c93df69014",
   "metadata": {},
   "source": [
    "reduced_LLM_genes_DF = read_delim(file = \"data/omics_test_revamped_LLM_Enrichr_simVals_DF.tsv\", delim = \"\\t\")"
   ],
   "outputs": []
  },
  {
   "cell_type": "code",
   "execution_count": 4,
   "id": "de7fa0db-9bd5-4a98-b787-cfcc47c8248b",
   "metadata": {},
   "source": [
    "get_JI = function(GeneList, enrichr_genes){\n",
    "    # assume separation is the same\n",
    "    geneSetGenes = str_split(string = GeneList, pattern = \" \")[[1]]\n",
    "    enrichRGenes =  str_split(string = enrichr_genes, pattern = \";\")[[1]]\n",
    "    JI = length(intersect(geneSetGenes, enrichRGenes))/ length(union(geneSetGenes, enrichRGenes))\n",
    "    \n",
    "    return(JI)\n",
    "    }\n",
    "    "
   ],
   "outputs": []
  },
  {
   "cell_type": "code",
   "execution_count": 5,
   "id": "37bddf44-5cee-4122-a002-a94cb79cb001",
   "metadata": {},
   "source": [
    "reduced_LLM_genes_DF = reduced_LLM_genes_DF %>%\n",
    "rowwise() %>%\n",
    "mutate(enrichr_JI = get_JI(GeneList, Genes)) %>%\n",
    "mutate(LLM_success_TF = ifelse(Score < 0.8, FALSE, TRUE),\n",
    "       enrichr_success_TF = ifelse(((`Adjusted P-value` > enrichr_adj_pval_thresh) | (enrichr_JI < enrichr_JI_thresh)), FALSE, TRUE))"
   ],
   "outputs": []
  },
  {
   "cell_type": "code",
   "execution_count": 6,
   "id": "4ced32b0-687e-4c4a-8956-c11ef3954faf",
   "metadata": {},
   "source": [
    "table(reduced_LLM_genes_DF[,c(\"LLM_success_TF\", \"enrichr_success_TF\")])"
   ],
   "outputs": []
  },
  {
   "cell_type": "code",
   "execution_count": 7,
   "id": "18b58612-2d04-4dab-90e6-27e66a66c9fd",
   "metadata": {},
   "source": [
    "15/26"
   ],
   "outputs": []
  },
  {
   "cell_type": "code",
   "execution_count": 10,
   "id": "b70ac5af-2fa9-4393-872c-45a17254bd87",
   "metadata": {},
   "source": [
    "a = reduced_LLM_genes_DF %>%\n",
    "subset((LLM_success_TF == FALSE) & (enrichr_success_TF == TRUE))"
   ],
   "outputs": []
  },
  {
   "cell_type": "code",
   "execution_count": 12,
   "id": "4e0d8d6e-f1ec-4242-8b6e-f66013d5d3d9",
   "metadata": {},
   "source": [
    "a %>% select(-\"LLM Analysis\")"
   ],
   "outputs": []
  },
  {
   "cell_type": "code",
   "execution_count": null,
   "id": "2138ea58-704e-4d1c-8a8a-fd152886d6c0",
   "metadata": {
    "tags": []
   },
   "source": [
    "colnames(reduced_LLM_genes_DF)"
   ],
   "outputs": []
  },
  {
   "cell_type": "code",
   "execution_count": 13,
   "id": "bc344cc8-33b0-4b89-90b0-78d6232aa059",
   "metadata": {},
   "source": [
    "both_success_DF = reduced_LLM_genes_DF %>%\n",
    "subset((LLM_success_TF == TRUE) & (enrichr_success_TF == TRUE))"
   ],
   "outputs": []
  },
  {
   "cell_type": "code",
   "execution_count": 14,
   "id": "bdfea45c-1f5c-4bc8-bf1d-adc09aa805fc",
   "metadata": {
    "collapsed": true,
    "jupyter": {
     "outputs_hidden": true
    },
    "tags": []
   },
   "source": [
    "library(ggpubr)"
   ],
   "outputs": []
  },
  {
   "cell_type": "code",
   "execution_count": 20,
   "id": "b0636401-ba1d-4a06-a52e-565cda53e1e2",
   "metadata": {
    "collapsed": true,
    "jupyter": {
     "outputs_hidden": true
    },
    "tags": []
   },
   "source": [
    "both_success_DF %>% select(-\"LLM Analysis\") %>% tail()"
   ],
   "outputs": []
  },
  {
   "cell_type": "code",
   "execution_count": 18,
   "id": "dd13c94f-9ef1-4eaa-aa86-be66b7cc1845",
   "metadata": {},
   "source": [
    "gghistogram(data = both_success_DF, x = \"LLM_name_GO_term_sim\", y = \"count\", bins = 100)"
   ],
   "outputs": []
  },
  {
   "cell_type": "raw",
   "id": "7c581f5c-e800-42d7-86e6-eb42cad0b63f",
   "metadata": {},
   "source": [
    "Result # 1: Table of failure and successes by enrichment and LLM. \n",
    "\n",
    "Q1: How many times did enrichment fail and LLM succeed\n",
    "\n",
    "- Results # 2: For cases with success from both LLM and enrichment, how often does LLM agree with the most enriched name?\n",
    "- Result # 3: Manual evaluation for cases where both LLM and JI succeed but are different from each other"
   ]
  },
  {
   "cell_type": "code",
   "execution_count": null,
   "id": "6a73def1-ce09-4d50-8556-d983e129b6c7",
   "metadata": {},
   "source": [
    "distribution of semantic similarty for both success"
   ],
   "outputs": []
  },
  {
   "cell_type": "code",
   "execution_count": null,
   "id": "41d3c799-e413-49f1-8765-0b7fbe579a34",
   "metadata": {},
   "source": [
    "similarity between LLM name and enrichr name for both success"
   ],
   "outputs": []
  }
 ],
 "metadata": {
  "kernelspec": {
   "display_name": "R",
   "language": "R",
   "name": "ir"
  },
  "language_info": {
   "codemirror_mode": "r",
   "file_extension": ".r",
   "mimetype": "text/x-r-source",
   "name": "R",
   "pygments_lexer": "r",
   "version": "4.3.2"
  }
 },
 "nbformat": 4,
 "nbformat_minor": 5
}
