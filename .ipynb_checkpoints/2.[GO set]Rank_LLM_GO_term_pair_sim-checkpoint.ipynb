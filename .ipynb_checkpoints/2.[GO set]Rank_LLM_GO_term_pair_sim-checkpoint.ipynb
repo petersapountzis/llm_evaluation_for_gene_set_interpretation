{
 "cells": [
  {
   "cell_type": "markdown",
   "metadata": {},
   "source": [
    "[This notebook showing example of toy GO terms]\n",
    "\n",
    "Rank all GO biological processes by the similarity with the LLM term. \n",
    "\n",
    "* % of other GO names have smaller semantic similarity with the GPT-4 name comparing to the assgined GO name\n",
    "\n"
   ]
  },
  {
   "cell_type": "code",
   "execution_count": 2,
   "metadata": {},
   "outputs": [
    {
     "data": {
      "text/plain": [
       "12214"
      ]
     },
     "execution_count": 2,
     "metadata": {},
     "output_type": "execute_result"
    }
   ],
   "source": [
    "import pandas as pd\n",
    "all_go = pd.read_csv('data/go_terms.csv', index_col=0)\n",
    "len(all_go)"
   ]
  },
  {
   "cell_type": "markdown",
   "metadata": {},
   "source": [
    "## Step 1 get the word embeddings for all the go terms (only need to run once for all)"
   ]
  },
  {
   "cell_type": "code",
   "execution_count": 3,
   "metadata": {},
   "outputs": [
    {
     "name": "stderr",
     "output_type": "stream",
     "text": [
      "Asking to truncate to max_length but no maximum length is provided and the model has no predefined maximum length. Default to no truncation.\n"
     ]
    }
   ],
   "source": [
    "## create embeddings for all GO Terms and save the embeddings \n",
    "from semanticSimFunctions import getSentenceEmbedding\n",
    "from transformers import AutoTokenizer, AutoModel\n",
    "import pandas as pd\n",
    "\n",
    "SapBERT_tokenizer = AutoTokenizer.from_pretrained('cambridgeltl/SapBERT-from-PubMedBERT-fulltext')\n",
    "SapBERT_model = AutoModel.from_pretrained('cambridgeltl/SapBERT-from-PubMedBERT-fulltext')\n",
    "\n",
    "all_go = pd.read_csv('data/go_terms.csv', index_col=0)\n",
    "all_go_terms = all_go['Term_Description'].tolist()\n",
    "\n",
    "all_go_terms_embeddings_dict = {}\n",
    "for i, go_term in enumerate(all_go_terms):\n",
    "    tensor = getSentenceEmbedding(go_term, SapBERT_tokenizer, SapBERT_model)\n",
    "    all_go_terms_embeddings_dict[go_term] = tensor.numpy()  # Convert to numpy array\n",
    "\n",
    "import pickle\n",
    "with open('data/all_go_terms_embeddings_dict.pkl', 'wb') as handle:  \n",
    "    pickle.dump(all_go_terms_embeddings_dict, handle, protocol=pickle.HIGHEST_PROTOCOL)\n"
   ]
  },
  {
   "cell_type": "code",
   "execution_count": null,
   "metadata": {},
   "outputs": [
    {
     "name": "stdout",
     "output_type": "stream",
     "text": [
      "12214\n"
     ]
    }
   ],
   "source": [
    "#check if embeddings are saved correctly\n",
    "import pickle\n",
    "with open('data/all_go_terms_embeddings_dict.pkl', 'rb') as handle:\n",
    "    all_go_terms_embeddings_dict = pickle.load(handle)\n",
    "print(len(all_go_terms_embeddings_dict))\n",
    "# all_go_terms_embeddings_dict['cellular response to DNA damage stimulus']"
   ]
  },
  {
   "cell_type": "markdown",
   "metadata": {},
   "source": [
    "## Step2: iterate through each GO term and its corresponsing LLM term, rank the similarity score of the LLM with all GO terms and fin where is the trueGO-LLM term is among the list\n",
    "\n",
    "\n",
    "When running for the 1000 gene set, used the python function rank_GOterm_LLM_sim.py to run at the background\n",
    "\n",
    " ```\n",
    " python rank_GOterm_LLM_sim_rand.py --input_file data/GO_term_analysis/LLM_processed_selected_1000_go_terms.tsv --emb_file data/all_go_terms_embeddings_dict.pkl --topn 50 --output_file data/GO_term_analysis/simrank_LLM_processed_selected_1000_go_terms.tsv --background_file data/GO_term_analysis/all_go_sim_scores.txt\n",
    " ```\n",
    "\n",
    "the code at the bottom is just an example"
   ]
  },
  {
   "cell_type": "code",
   "execution_count": 4,
   "metadata": {},
   "outputs": [
    {
     "name": "stderr",
     "output_type": "stream",
     "text": [
      "  0%|          | 0/10 [00:00<?, ?it/s]Asking to truncate to max_length but no maximum length is provided and the model has no predefined maximum length. Default to no truncation.\n"
     ]
    },
    {
     "name": "stdout",
     "output_type": "stream",
     "text": [
      "1673\n"
     ]
    },
    {
     "name": "stderr",
     "output_type": "stream",
     "text": [
      " 10%|█         | 1/10 [00:05<00:46,  5.19s/it]"
     ]
    },
    {
     "name": "stdout",
     "output_type": "stream",
     "text": [
      "2832\n",
      "12\n"
     ]
    },
    {
     "name": "stderr",
     "output_type": "stream",
     "text": [
      " 20%|██        | 2/10 [00:10<00:41,  5.18s/it]"
     ]
    },
    {
     "name": "stdout",
     "output_type": "stream",
     "text": [
      "3034\n",
      "26\n"
     ]
    },
    {
     "name": "stderr",
     "output_type": "stream",
     "text": [
      " 30%|███       | 3/10 [00:15<00:36,  5.17s/it]"
     ]
    },
    {
     "name": "stdout",
     "output_type": "stream",
     "text": [
      "3393\n",
      "639\n"
     ]
    },
    {
     "name": "stderr",
     "output_type": "stream",
     "text": [
      " 40%|████      | 4/10 [00:20<00:31,  5.18s/it]"
     ]
    },
    {
     "name": "stdout",
     "output_type": "stream",
     "text": [
      "7315\n",
      "29\n"
     ]
    },
    {
     "name": "stderr",
     "output_type": "stream",
     "text": [
      " 50%|█████     | 5/10 [00:25<00:25,  5.17s/it]"
     ]
    },
    {
     "name": "stdout",
     "output_type": "stream",
     "text": [
      "9349\n",
      "9425\n"
     ]
    },
    {
     "name": "stderr",
     "output_type": "stream",
     "text": [
      " 60%|██████    | 6/10 [00:31<00:20,  5.18s/it]"
     ]
    },
    {
     "name": "stdout",
     "output_type": "stream",
     "text": [
      "10753\n",
      "218\n"
     ]
    },
    {
     "name": "stderr",
     "output_type": "stream",
     "text": [
      " 70%|███████   | 7/10 [00:36<00:15,  5.17s/it]"
     ]
    },
    {
     "name": "stdout",
     "output_type": "stream",
     "text": [
      "8667\n",
      "19\n"
     ]
    },
    {
     "name": "stderr",
     "output_type": "stream",
     "text": [
      " 80%|████████  | 8/10 [00:41<00:10,  5.20s/it]"
     ]
    },
    {
     "name": "stdout",
     "output_type": "stream",
     "text": [
      "9837\n",
      "5107\n"
     ]
    },
    {
     "name": "stderr",
     "output_type": "stream",
     "text": [
      " 90%|█████████ | 9/10 [00:46<00:05,  5.19s/it]"
     ]
    },
    {
     "name": "stdout",
     "output_type": "stream",
     "text": [
      "8577\n",
      "343\n"
     ]
    },
    {
     "name": "stderr",
     "output_type": "stream",
     "text": [
      "100%|██████████| 10/10 [00:51<00:00,  5.19s/it]"
     ]
    },
    {
     "name": "stdout",
     "output_type": "stream",
     "text": [
      "11989\n",
      "Saved progress after 10 rows.\n",
      "DONE\n"
     ]
    },
    {
     "name": "stderr",
     "output_type": "stream",
     "text": [
      "\n"
     ]
    }
   ],
   "source": [
    "%run rank_GOterm_LLM_sim_rand.py --input_file data/GO_term_analysis/LLM_processed_toy_example.tsv --emb_file data/all_go_terms_embeddings_dict.pkl --topn 50 --output_file data/GO_term_analysis/simrank_LLM_processed_toy_example.tsv --background_file data/GO_term_analysis/toy_all_go_sim_scores.txt"
   ]
  },
  {
   "cell_type": "code",
   "execution_count": 6,
   "metadata": {},
   "outputs": [
    {
     "data": {
      "text/html": [
       "<div>\n",
       "<style scoped>\n",
       "    .dataframe tbody tr th:only-of-type {\n",
       "        vertical-align: middle;\n",
       "    }\n",
       "\n",
       "    .dataframe tbody tr th {\n",
       "        vertical-align: top;\n",
       "    }\n",
       "\n",
       "    .dataframe thead th {\n",
       "        text-align: right;\n",
       "    }\n",
       "</style>\n",
       "<table border=\"1\" class=\"dataframe\">\n",
       "  <thead>\n",
       "    <tr style=\"text-align: right;\">\n",
       "      <th></th>\n",
       "      <th>Genes</th>\n",
       "      <th>Gene_Count</th>\n",
       "      <th>Term_Description</th>\n",
       "      <th>LLM Name</th>\n",
       "      <th>LLM Analysis</th>\n",
       "      <th>LLM_name_GO_term_sim</th>\n",
       "      <th>sim_rank</th>\n",
       "      <th>true_GO_term_sim_percentile</th>\n",
       "      <th>random_GO_name</th>\n",
       "      <th>random_go_llm_sim</th>\n",
       "      <th>random_sim_rank</th>\n",
       "      <th>random_sim_percentile</th>\n",
       "      <th>top_50_hits</th>\n",
       "      <th>top_50_sim</th>\n",
       "    </tr>\n",
       "    <tr>\n",
       "      <th>GO</th>\n",
       "      <th></th>\n",
       "      <th></th>\n",
       "      <th></th>\n",
       "      <th></th>\n",
       "      <th></th>\n",
       "      <th></th>\n",
       "      <th></th>\n",
       "      <th></th>\n",
       "      <th></th>\n",
       "      <th></th>\n",
       "      <th></th>\n",
       "      <th></th>\n",
       "      <th></th>\n",
       "      <th></th>\n",
       "    </tr>\n",
       "  </thead>\n",
       "  <tbody>\n",
       "    <tr>\n",
       "      <th>GO:0032385</th>\n",
       "      <td>LDLRAP1 SCP2D1 ANXA2 SCP2</td>\n",
       "      <td>4</td>\n",
       "      <td>positive regulation of intracellular cholester...</td>\n",
       "      <td>Lipid Transport and Metabolism</td>\n",
       "      <td>Proteins: LDLRAP1, SCP2D1, ANXA2, SCP2\\n\\n1. L...</td>\n",
       "      <td>0.382285</td>\n",
       "      <td>1673</td>\n",
       "      <td>0.863026</td>\n",
       "      <td>Tie signaling pathway</td>\n",
       "      <td>0.344493</td>\n",
       "      <td>2832</td>\n",
       "      <td>0.768135</td>\n",
       "      <td>lipid metabolic process|lipid transport|cellul...</td>\n",
       "      <td>0.8934768|0.8777427|0.8366494|0.82344246|0.800...</td>\n",
       "    </tr>\n",
       "    <tr>\n",
       "      <th>GO:0002468</th>\n",
       "      <td>NOD1 HLA-DRA CLEC4A HLA-DRB1 CCL21 NOD2 CCL19 ...</td>\n",
       "      <td>15</td>\n",
       "      <td>dendritic cell antigen processing and presenta...</td>\n",
       "      <td>Antigen Presentation and Immune Response Modul...</td>\n",
       "      <td>The primary biological process performed by th...</td>\n",
       "      <td>0.725125</td>\n",
       "      <td>12</td>\n",
       "      <td>0.999018</td>\n",
       "      <td>positive regulation of reciprocal meiotic reco...</td>\n",
       "      <td>0.352192</td>\n",
       "      <td>3034</td>\n",
       "      <td>0.751597</td>\n",
       "      <td>regulation of antigen processing and presentat...</td>\n",
       "      <td>0.8205818|0.788555|0.77849185|0.7683631|0.7679...</td>\n",
       "    </tr>\n",
       "    <tr>\n",
       "      <th>GO:0033683</th>\n",
       "      <td>OGG1 ERCC5 XPA ERCC4 NTHL1</td>\n",
       "      <td>5</td>\n",
       "      <td>nucleotide-excision repair, DNA incision</td>\n",
       "      <td>DNA Repair</td>\n",
       "      <td>The system of interacting proteins OGG1, ERCC5...</td>\n",
       "      <td>0.688920</td>\n",
       "      <td>26</td>\n",
       "      <td>0.997871</td>\n",
       "      <td>Tie signaling pathway</td>\n",
       "      <td>0.342632</td>\n",
       "      <td>3393</td>\n",
       "      <td>0.722204</td>\n",
       "      <td>DNA repair|DNA synthesis involved in DNA repai...</td>\n",
       "      <td>0.9999999|0.8868111|0.80208004|0.7669432|0.763...</td>\n",
       "    </tr>\n",
       "    <tr>\n",
       "      <th>GO:0035672</th>\n",
       "      <td>SLC7A11 SLC25A39 SLC26A6 ABCB9 SLC15A4 ABCC5 C...</td>\n",
       "      <td>15</td>\n",
       "      <td>oligopeptide transmembrane transport</td>\n",
       "      <td>Ion and Nutrient Transport Regulation</td>\n",
       "      <td>The primary biological process performed by th...</td>\n",
       "      <td>0.495159</td>\n",
       "      <td>639</td>\n",
       "      <td>0.947683</td>\n",
       "      <td>hypomethylation of CpG island</td>\n",
       "      <td>0.294337</td>\n",
       "      <td>7315</td>\n",
       "      <td>0.401097</td>\n",
       "      <td>regulation of ion transport|regulation of ion ...</td>\n",
       "      <td>0.84507704|0.797101|0.77553225|0.7660217|0.749...</td>\n",
       "    </tr>\n",
       "    <tr>\n",
       "      <th>GO:0048023</th>\n",
       "      <td>OPN3 CDH3 ATP7A APPL1 ASIP RAB38 ZEB2 TYRP1 GIPC1</td>\n",
       "      <td>9</td>\n",
       "      <td>positive regulation of melanin biosynthetic pr...</td>\n",
       "      <td>Melanogenesis Regulation</td>\n",
       "      <td>Proteins: OPN3, CDH3, ATP7A, APPL1, ASIP, RAB3...</td>\n",
       "      <td>0.637935</td>\n",
       "      <td>29</td>\n",
       "      <td>0.997626</td>\n",
       "      <td>RNA (guanine-N7)-methylation</td>\n",
       "      <td>0.255608</td>\n",
       "      <td>9349</td>\n",
       "      <td>0.234567</td>\n",
       "      <td>regulation of melanocyte differentiation|regul...</td>\n",
       "      <td>0.8627623|0.8499877|0.82896507|0.80347717|0.79...</td>\n",
       "    </tr>\n",
       "  </tbody>\n",
       "</table>\n",
       "</div>"
      ],
      "text/plain": [
       "                                                        Genes  Gene_Count  \\\n",
       "GO                                                                          \n",
       "GO:0032385                          LDLRAP1 SCP2D1 ANXA2 SCP2           4   \n",
       "GO:0002468  NOD1 HLA-DRA CLEC4A HLA-DRB1 CCL21 NOD2 CCL19 ...          15   \n",
       "GO:0033683                         OGG1 ERCC5 XPA ERCC4 NTHL1           5   \n",
       "GO:0035672  SLC7A11 SLC25A39 SLC26A6 ABCB9 SLC15A4 ABCC5 C...          15   \n",
       "GO:0048023  OPN3 CDH3 ATP7A APPL1 ASIP RAB38 ZEB2 TYRP1 GIPC1           9   \n",
       "\n",
       "                                             Term_Description  \\\n",
       "GO                                                              \n",
       "GO:0032385  positive regulation of intracellular cholester...   \n",
       "GO:0002468  dendritic cell antigen processing and presenta...   \n",
       "GO:0033683           nucleotide-excision repair, DNA incision   \n",
       "GO:0035672               oligopeptide transmembrane transport   \n",
       "GO:0048023  positive regulation of melanin biosynthetic pr...   \n",
       "\n",
       "                                                     LLM Name  \\\n",
       "GO                                                              \n",
       "GO:0032385                     Lipid Transport and Metabolism   \n",
       "GO:0002468  Antigen Presentation and Immune Response Modul...   \n",
       "GO:0033683                                         DNA Repair   \n",
       "GO:0035672              Ion and Nutrient Transport Regulation   \n",
       "GO:0048023                           Melanogenesis Regulation   \n",
       "\n",
       "                                                 LLM Analysis  \\\n",
       "GO                                                              \n",
       "GO:0032385  Proteins: LDLRAP1, SCP2D1, ANXA2, SCP2\\n\\n1. L...   \n",
       "GO:0002468  The primary biological process performed by th...   \n",
       "GO:0033683  The system of interacting proteins OGG1, ERCC5...   \n",
       "GO:0035672  The primary biological process performed by th...   \n",
       "GO:0048023  Proteins: OPN3, CDH3, ATP7A, APPL1, ASIP, RAB3...   \n",
       "\n",
       "            LLM_name_GO_term_sim  sim_rank  true_GO_term_sim_percentile  \\\n",
       "GO                                                                        \n",
       "GO:0032385              0.382285      1673                     0.863026   \n",
       "GO:0002468              0.725125        12                     0.999018   \n",
       "GO:0033683              0.688920        26                     0.997871   \n",
       "GO:0035672              0.495159       639                     0.947683   \n",
       "GO:0048023              0.637935        29                     0.997626   \n",
       "\n",
       "                                               random_GO_name  \\\n",
       "GO                                                              \n",
       "GO:0032385                              Tie signaling pathway   \n",
       "GO:0002468  positive regulation of reciprocal meiotic reco...   \n",
       "GO:0033683                              Tie signaling pathway   \n",
       "GO:0035672                      hypomethylation of CpG island   \n",
       "GO:0048023                       RNA (guanine-N7)-methylation   \n",
       "\n",
       "            random_go_llm_sim  random_sim_rank  random_sim_percentile  \\\n",
       "GO                                                                      \n",
       "GO:0032385           0.344493             2832               0.768135   \n",
       "GO:0002468           0.352192             3034               0.751597   \n",
       "GO:0033683           0.342632             3393               0.722204   \n",
       "GO:0035672           0.294337             7315               0.401097   \n",
       "GO:0048023           0.255608             9349               0.234567   \n",
       "\n",
       "                                                  top_50_hits  \\\n",
       "GO                                                              \n",
       "GO:0032385  lipid metabolic process|lipid transport|cellul...   \n",
       "GO:0002468  regulation of antigen processing and presentat...   \n",
       "GO:0033683  DNA repair|DNA synthesis involved in DNA repai...   \n",
       "GO:0035672  regulation of ion transport|regulation of ion ...   \n",
       "GO:0048023  regulation of melanocyte differentiation|regul...   \n",
       "\n",
       "                                                   top_50_sim  \n",
       "GO                                                             \n",
       "GO:0032385  0.8934768|0.8777427|0.8366494|0.82344246|0.800...  \n",
       "GO:0002468  0.8205818|0.788555|0.77849185|0.7683631|0.7679...  \n",
       "GO:0033683  0.9999999|0.8868111|0.80208004|0.7669432|0.763...  \n",
       "GO:0035672  0.84507704|0.797101|0.77553225|0.7660217|0.749...  \n",
       "GO:0048023  0.8627623|0.8499877|0.82896507|0.80347717|0.79...  "
      ]
     },
     "execution_count": 6,
     "metadata": {},
     "output_type": "execute_result"
    }
   ],
   "source": [
    "# sanity check\n",
    "df = pd.read_csv('data/GO_term_analysis/simrank_LLM_processed_toy_example.tsv', sep='\\t', index_col=0)\n",
    "df.head()"
   ]
  },
  {
   "cell_type": "markdown",
   "metadata": {},
   "source": [
    "### Check the rank similarity result of the 1000 gene sets "
   ]
  },
  {
   "cell_type": "code",
   "execution_count": 11,
   "metadata": {},
   "outputs": [
    {
     "name": "stdout",
     "output_type": "stream",
     "text": [
      "0\n",
      "0\n",
      "half of the sample have the percentile score higher than:  0.9799410512526608\n",
      "number of GO terms in top 10%:  10\n",
      "number of GO terms ranked top 10:  151\n"
     ]
    }
   ],
   "source": [
    "import pandas as pd\n",
    "\n",
    "rank_sim_df = pd.read_csv('data/GO_term_analysis/simrank_LLM_processed_selected_1000_go_terms.tsv', sep='\\t')\n",
    "## if duplicate\n",
    "print(sum(rank_sim_df.duplicated(subset=['GO'])))\n",
    "print(sum(rank_sim_df.duplicated(subset=['LLM Analysis'])))\n",
    "\n",
    "## half point of the similarity distribution\n",
    "rank_sim_sorted = rank_sim_df.sort_values(by='true_GO_term_sim_percentile', ascending=False)\n",
    "print('half of the sample have the percentile score higher than: ',rank_sim_sorted.iloc[500-1]['true_GO_term_sim_percentile'])\n",
    "\n",
    "## number of GO terms in top 10% of similarities\n",
    "print('number of GO terms in top 10%: ', sum(rank_sim_df['true_GO_term_sim_percentile'] <= 0.1))\n",
    "\n",
    "## number of GO terms ranked top 10 of similarities\n",
    "\n",
    "print('number of GO terms ranked top 10: ', sum(rank_sim_df['sim_rank'] <= 10))"
   ]
  },
  {
   "cell_type": "code",
   "execution_count": null,
   "metadata": {},
   "outputs": [],
   "source": [
    "# rank the GO terms by the similarity of LLM name and GO term and pick top 25 and bottom 25 for manual evaluation\n",
    "rank_sim_df.sort_values(by=['LLM_name_GO_term_sim'], ascending=False, inplace=True)\n",
    "top = rank_sim_df.head(25)\n",
    "bottom = rank_sim_df.tail(25)\n",
    "combine_df = pd.concat([top,bottom], ignore_index=True)\n",
    "\n",
    "\n",
    "# # add a column to randomly assign number from 1-5, each has the same number of GO terms\n",
    "# team = [1,2,3,4,5]*10\n",
    "# import random\n",
    "# random.seed(2023)\n",
    "# random.shuffle(team)\n",
    "# combine_df['team'] = team\n",
    "\n",
    "\n",
    "\n",
    "combine_df.to_csv('data/GO_term_analysis/best_25_worst_25_similarity_among1000GO.tsv', sep='\\t', index=False)\n"
   ]
  },
  {
   "cell_type": "code",
   "execution_count": null,
   "metadata": {},
   "outputs": [],
   "source": []
  },
  {
   "cell_type": "code",
   "execution_count": null,
   "metadata": {},
   "outputs": [],
   "source": []
  },
  {
   "cell_type": "code",
   "execution_count": null,
   "metadata": {},
   "outputs": [],
   "source": []
  },
  {
   "cell_type": "code",
   "execution_count": null,
   "metadata": {},
   "outputs": [],
   "source": []
  }
 ],
 "metadata": {
  "kernelspec": {
   "display_name": "Python 3 (ipykernel)",
   "language": "python",
   "name": "python3"
  },
  "language_info": {
   "codemirror_mode": {
    "name": "ipython",
    "version": 3
   },
   "file_extension": ".py",
   "mimetype": "text/x-python",
   "name": "python",
   "nbconvert_exporter": "python",
   "pygments_lexer": "ipython3",
   "version": "3.9.10"
  }
 },
 "nbformat": 4,
 "nbformat_minor": 4
}
