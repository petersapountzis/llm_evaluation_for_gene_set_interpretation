{
 "cells": [
  {
   "cell_type": "markdown",
   "metadata": {},
   "source": [
    "[This notebook showing example of toy GO terms]\n",
    "\n",
    "Rank all GO biological processes by the similarity with the LLM term. \n",
    "\n",
    "* % of other GO names have smaller semantic similarity with the GPT-4 name comparing to the assgined GO name\n",
    "\n"
   ]
  },
  {
   "cell_type": "code",
   "execution_count": 2,
   "metadata": {},
   "source": [
    "import pandas as pd\n",
    "all_go = pd.read_csv('data/go_terms.csv', index_col=0)\n",
    "len(all_go)"
   ],
   "outputs": []
  },
  {
   "cell_type": "markdown",
   "metadata": {},
   "source": [
    "## Step 1 get the word embeddings for all the go terms (only need to run once for all)"
   ]
  },
  {
   "cell_type": "code",
   "execution_count": 3,
   "metadata": {},
   "source": [
    "## create embeddings for all GO Terms and save the embeddings \n",
    "from semanticSimFunctions import getSentenceEmbedding\n",
    "from transformers import AutoTokenizer, AutoModel\n",
    "import pandas as pd\n",
    "\n",
    "SapBERT_tokenizer = AutoTokenizer.from_pretrained('cambridgeltl/SapBERT-from-PubMedBERT-fulltext')\n",
    "SapBERT_model = AutoModel.from_pretrained('cambridgeltl/SapBERT-from-PubMedBERT-fulltext')\n",
    "\n",
    "all_go = pd.read_csv('data/go_terms.csv', index_col=0)\n",
    "all_go_terms = all_go['Term_Description'].tolist()\n",
    "\n",
    "all_go_terms_embeddings_dict = {}\n",
    "for i, go_term in enumerate(all_go_terms):\n",
    "    tensor = getSentenceEmbedding(go_term, SapBERT_tokenizer, SapBERT_model)\n",
    "    all_go_terms_embeddings_dict[go_term] = tensor.numpy()  # Convert to numpy array\n",
    "\n",
    "import pickle\n",
    "with open('data/all_go_terms_embeddings_dict.pkl', 'wb') as handle:  \n",
    "    pickle.dump(all_go_terms_embeddings_dict, handle, protocol=pickle.HIGHEST_PROTOCOL)\n"
   ],
   "outputs": []
  },
  {
   "cell_type": "code",
   "execution_count": null,
   "metadata": {},
   "source": [
    "#check if embeddings are saved correctly\n",
    "import pickle\n",
    "with open('data/all_go_terms_embeddings_dict.pkl', 'rb') as handle:\n",
    "    all_go_terms_embeddings_dict = pickle.load(handle)\n",
    "print(len(all_go_terms_embeddings_dict))\n",
    "# all_go_terms_embeddings_dict['cellular response to DNA damage stimulus']"
   ],
   "outputs": []
  },
  {
   "cell_type": "markdown",
   "metadata": {},
   "source": [
    "## Step2: iterate through each GO term and its corresponsing LLM term, rank the similarity score of the LLM with all GO terms and fin where is the trueGO-LLM term is among the list\n",
    "\n",
    "\n",
    "When running for the 1000 gene set, used the python function rank_GOterm_LLM_sim.py to run at the background\n",
    "\n",
    " ```\n",
    " python rank_GOterm_LLM_sim_rand.py --input_file data/GO_term_analysis/LLM_processed_selected_1000_go_terms.tsv --emb_file data/all_go_terms_embeddings_dict.pkl --topn 50 --output_file data/GO_term_analysis/simrank_LLM_processed_selected_1000_go_terms.tsv --background_file data/GO_term_analysis/all_go_sim_scores.txt\n",
    " ```\n",
    "\n",
    "the code at the bottom is just an example"
   ]
  },
  {
   "cell_type": "code",
   "execution_count": 4,
   "metadata": {},
   "source": [
    "%run rank_GOterm_LLM_sim_rand.py --input_file data/GO_term_analysis/LLM_processed_toy_example.tsv --emb_file data/all_go_terms_embeddings_dict.pkl --topn 50 --output_file data/GO_term_analysis/simrank_LLM_processed_toy_example.tsv --background_file data/GO_term_analysis/toy_all_go_sim_scores.txt"
   ],
   "outputs": []
  },
  {
   "cell_type": "code",
   "execution_count": 6,
   "metadata": {},
   "source": [
    "# sanity check\n",
    "df = pd.read_csv('data/GO_term_analysis/simrank_LLM_processed_toy_example.tsv', sep='\\t', index_col=0)\n",
    "df.head()"
   ],
   "outputs": []
  },
  {
   "cell_type": "markdown",
   "metadata": {},
   "source": [
    "### Check the rank similarity result of the 1000 gene sets "
   ]
  },
  {
   "cell_type": "code",
   "execution_count": 11,
   "metadata": {},
   "source": [
    "import pandas as pd\n",
    "\n",
    "rank_sim_df = pd.read_csv('data/GO_term_analysis/simrank_LLM_processed_selected_1000_go_terms.tsv', sep='\\t')\n",
    "## if duplicate\n",
    "print(sum(rank_sim_df.duplicated(subset=['GO'])))\n",
    "print(sum(rank_sim_df.duplicated(subset=['LLM Analysis'])))\n",
    "\n",
    "## half point of the similarity distribution\n",
    "rank_sim_sorted = rank_sim_df.sort_values(by='true_GO_term_sim_percentile', ascending=False)\n",
    "print('half of the sample have the percentile score higher than: ',rank_sim_sorted.iloc[500-1]['true_GO_term_sim_percentile'])\n",
    "\n",
    "## number of GO terms in top 10% of similarities\n",
    "print('number of GO terms in top 10%: ', sum(rank_sim_df['true_GO_term_sim_percentile'] <= 0.1))\n",
    "\n",
    "## number of GO terms ranked top 10 of similarities\n",
    "\n",
    "print('number of GO terms ranked top 10: ', sum(rank_sim_df['sim_rank'] <= 10))"
   ],
   "outputs": []
  },
  {
   "cell_type": "code",
   "execution_count": null,
   "metadata": {},
   "source": [
    "# rank the GO terms by the similarity of LLM name and GO term and pick top 25 and bottom 25 for manual evaluation\n",
    "rank_sim_df.sort_values(by=['LLM_name_GO_term_sim'], ascending=False, inplace=True)\n",
    "top = rank_sim_df.head(25)\n",
    "bottom = rank_sim_df.tail(25)\n",
    "combine_df = pd.concat([top,bottom], ignore_index=True)\n",
    "\n",
    "\n",
    "# # add a column to randomly assign number from 1-5, each has the same number of GO terms\n",
    "# team = [1,2,3,4,5]*10\n",
    "# import random\n",
    "# random.seed(2023)\n",
    "# random.shuffle(team)\n",
    "# combine_df['team'] = team\n",
    "\n",
    "\n",
    "\n",
    "combine_df.to_csv('data/GO_term_analysis/best_25_worst_25_similarity_among1000GO.tsv', sep='\\t', index=False)\n"
   ],
   "outputs": []
  },
  {
   "cell_type": "code",
   "execution_count": null,
   "metadata": {},
   "source": [],
   "outputs": []
  },
  {
   "cell_type": "code",
   "execution_count": null,
   "metadata": {},
   "source": [],
   "outputs": []
  },
  {
   "cell_type": "code",
   "execution_count": null,
   "metadata": {},
   "source": [],
   "outputs": []
  },
  {
   "cell_type": "code",
   "execution_count": null,
   "metadata": {},
   "source": [],
   "outputs": []
  }
 ],
 "metadata": {
  "kernelspec": {
   "display_name": "Python 3 (ipykernel)",
   "language": "python",
   "name": "python3"
  },
  "language_info": {
   "codemirror_mode": {
    "name": "ipython",
    "version": 3
   },
   "file_extension": ".py",
   "mimetype": "text/x-python",
   "name": "python",
   "nbconvert_exporter": "python",
   "pygments_lexer": "ipython3",
   "version": "3.9.10"
  }
 },
 "nbformat": 4,
 "nbformat_minor": 4
}
