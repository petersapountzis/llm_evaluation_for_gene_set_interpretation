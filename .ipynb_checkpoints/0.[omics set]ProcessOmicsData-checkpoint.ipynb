{
 "cells": [
  {
   "cell_type": "code",
   "execution_count": 61,
   "id": "9fa86f76-d230-4ce8-a385-ab8dfcc07406",
   "metadata": {
    "tags": []
   },
   "outputs": [],
   "source": [
    "library(plyr, quietly = TRUE)\n",
    "library(tidyverse,  quietly = TRUE)\n",
    "library(tidyjson,  quietly = TRUE)\n",
    "library(readxl)"
   ]
  },
  {
   "cell_type": "code",
   "execution_count": 2,
   "id": "fe317316-8b8b-4c91-b1de-330f3c9e5f6a",
   "metadata": {},
   "outputs": [],
   "source": [
    "# get name genes number  source"
   ]
  },
  {
   "cell_type": "code",
   "execution_count": 62,
   "id": "3f9b065c-eb80-437e-86ec-7c7e880fc4e9",
   "metadata": {
    "tags": []
   },
   "outputs": [],
   "source": [
    "genesets_colnames = c(\"Source\", \"GeneSetID\", \"GeneSetName\", \"GeneList\", \"n_Genes\")\n",
    "genesets_MAT = matrix(nrow = 0, ncol = length(genesets_colnames))\n",
    "colnames(genesets_MAT) = genesets_colnames\n",
    "genesets_DF = as_tibble(genesets_MAT) %>%\n",
    "  mutate(across(everything(), as.character))\n",
    "genesets_DF$n_Genes = as.integer(genesets_DF$n_Genes)"
   ]
  },
  {
   "cell_type": "code",
   "execution_count": 63,
   "id": "1e1d5b21-6289-4dc9-986d-9808aed54bad",
   "metadata": {},
   "outputs": [],
   "source": [
    "genesets_empty_DF = genesets_DF"
   ]
  },
  {
   "cell_type": "markdown",
   "id": "05d19b89-2fe7-4b6a-a3f2-8004c7c271e8",
   "metadata": {},
   "source": [
    "### MSigDB"
   ]
  },
  {
   "cell_type": "code",
   "execution_count": 64,
   "id": "dce7d8e8-5271-41f7-9491-973d7e49e240",
   "metadata": {},
   "outputs": [],
   "source": [
    "msigdb_path = \"data/human_geneSets/\""
   ]
  },
  {
   "cell_type": "code",
   "execution_count": 65,
   "id": "b0cf7bb3-ab8c-48df-93af-83f73870669d",
   "metadata": {},
   "outputs": [],
   "source": [
    "# read in the MSigDB .json file\n",
    "MSigDB_hallmark = read_json(\"data/h.all.v2023.1.Hs.json\", format = \"json\")[[2]][[1]]"
   ]
  },
  {
   "cell_type": "code",
   "execution_count": 66,
   "id": "48937e73-92c7-44fb-bc9d-1bce1fe5533d",
   "metadata": {},
   "outputs": [],
   "source": [
    "MSigDB_geneSets = names(MSigDB_hallmark)"
   ]
  },
  {
   "cell_type": "code",
   "execution_count": 67,
   "id": "17901b42-fd31-478a-b8cb-334d555ae77a",
   "metadata": {},
   "outputs": [],
   "source": [
    "for (MSigDB_geneSet in MSigDB_geneSets){\n",
    "    MSigDB_geneSet_genes = MSigDB_hallmark[[MSigDB_geneSet]]$geneSymbols %>% unlist()\n",
    "    MSigDB_geneSet_n_Genes = length(MSigDB_geneSet_genes)\n",
    "    genesets_DF = genesets_DF %>% \n",
    "    add_row(tibble_row(Source = \"MSigDB\",\n",
    "            GeneSetID = MSigDB_geneSet,           \n",
    "            GeneSetName = MSigDB_geneSet, \n",
    "            GeneList = str_c(MSigDB_geneSet_genes,  collapse = \" \"),\n",
    "            n_Genes = MSigDB_geneSet_n_Genes))\n",
    "    }"
   ]
  },
  {
   "cell_type": "code",
   "execution_count": 68,
   "id": "420739cb-9c1c-4ad2-8904-f77e2922fbf5",
   "metadata": {
    "tags": []
   },
   "outputs": [
    {
     "data": {
      "text/html": [
       "27"
      ],
      "text/latex": [
       "27"
      ],
      "text/markdown": [
       "27"
      ],
      "text/plain": [
       "[1] 27"
      ]
     },
     "metadata": {},
     "output_type": "display_data"
    }
   ],
   "source": [
    "genesets_DF %>% subset(n_Genes < 200) %>% nrow()"
   ]
  },
  {
   "cell_type": "code",
   "execution_count": 69,
   "id": "0410d45f-4616-4d26-b754-1311a1699652",
   "metadata": {},
   "outputs": [
    {
     "data": {
      "text/html": [
       "13"
      ],
      "text/latex": [
       "13"
      ],
      "text/markdown": [
       "13"
      ],
      "text/plain": [
       "[1] 13"
      ]
     },
     "metadata": {},
     "output_type": "display_data"
    }
   ],
   "source": [
    "genesets_DF %>% subset(n_Genes <= 100) %>% nrow()"
   ]
  },
  {
   "cell_type": "code",
   "execution_count": 70,
   "id": "119c7247-5d71-4fc6-94e2-a831945961b2",
   "metadata": {},
   "outputs": [
    {
     "data": {
      "text/html": [
       "<style>\n",
       ".list-inline {list-style: none; margin:0; padding: 0}\n",
       ".list-inline>li {display: inline-block}\n",
       ".list-inline>li:not(:last-child)::after {content: \"\\00b7\"; padding: 0 .5ex}\n",
       "</style>\n",
       "<ol class=list-inline><li>50</li><li>5</li></ol>\n"
      ],
      "text/latex": [
       "\\begin{enumerate*}\n",
       "\\item 50\n",
       "\\item 5\n",
       "\\end{enumerate*}\n"
      ],
      "text/markdown": [
       "1. 50\n",
       "2. 5\n",
       "\n",
       "\n"
      ],
      "text/plain": [
       "[1] 50  5"
      ]
     },
     "metadata": {},
     "output_type": "display_data"
    }
   ],
   "source": [
    "dim(genesets_DF)"
   ]
  },
  {
   "cell_type": "code",
   "execution_count": 71,
   "id": "c4ab5234-d241-4ab3-9837-d8c245443aff",
   "metadata": {},
   "outputs": [
    {
     "data": {
      "text/html": [
       "200"
      ],
      "text/latex": [
       "200"
      ],
      "text/markdown": [
       "200"
      ],
      "text/plain": [
       "[1] 200"
      ]
     },
     "metadata": {},
     "output_type": "display_data"
    }
   ],
   "source": [
    "genesets_DF$n_Genes %>% max()"
   ]
  },
  {
   "cell_type": "markdown",
   "id": "b8594e43-67bf-4fbd-9f15-cfe029c98096",
   "metadata": {},
   "source": [
    "### NeST"
   ]
  },
  {
   "cell_type": "code",
   "execution_count": 72,
   "id": "9c04a784-b991-44fb-85de-4886785bc2be",
   "metadata": {},
   "outputs": [
    {
     "name": "stderr",
     "output_type": "stream",
     "text": [
      "\u001b[1mRows: \u001b[22m\u001b[34m50\u001b[39m \u001b[1mColumns: \u001b[22m\u001b[34m3\u001b[39m\n",
      "\u001b[36m──\u001b[39m \u001b[1mColumn specification\u001b[22m \u001b[36m──────────────────────────────────────────────────────────────────────────────────────────────────────────\u001b[39m\n",
      "\u001b[1mDelimiter:\u001b[22m \"\\t\"\n",
      "\u001b[31mchr\u001b[39m (3): NEST ID, name_new, Genes\n",
      "\n",
      "\u001b[36mℹ\u001b[39m Use `spec()` to retrieve the full column specification for this data.\n",
      "\u001b[36mℹ\u001b[39m Specify the column types or set `show_col_types = FALSE` to quiet this message.\n"
     ]
    }
   ],
   "source": [
    "NeST_systems_Orig = read_delim(\"data/NeST_table.txt\", delim = \"\\t\") %>% pull(`NEST ID`)"
   ]
  },
  {
   "cell_type": "code",
   "execution_count": 73,
   "id": "86f5f50a-7193-418e-a093-661f48b3f39f",
   "metadata": {},
   "outputs": [
    {
     "name": "stderr",
     "output_type": "stream",
     "text": [
      "\u001b[1mRows: \u001b[22m\u001b[34m131\u001b[39m \u001b[1mColumns: \u001b[22m\u001b[34m24\u001b[39m\n",
      "\u001b[36m──\u001b[39m \u001b[1mColumn specification\u001b[22m \u001b[36m──────────────────────────────────────────────────────────────────────────────────────────────────────────\u001b[39m\n",
      "\u001b[1mDelimiter:\u001b[22m \",\"\n",
      "\u001b[31mchr\u001b[39m (12): All_Genes, name, name_new, name_position, NEST ID, Note, shared na...\n",
      "\u001b[32mdbl\u001b[39m (11): Camptothecin, CD437, Cisplatin, Etoposide, Gemcitabine, name_show,...\n",
      "\u001b[33mlgl\u001b[39m  (1): selected\n",
      "\n",
      "\u001b[36mℹ\u001b[39m Use `spec()` to retrieve the full column specification for this data.\n",
      "\u001b[36mℹ\u001b[39m Specify the column types or set `show_col_types = FALSE` to quiet this message.\n"
     ]
    }
   ],
   "source": [
    "NeST_All_DF = read_delim(file = \"data/NeST_table_All.csv\", delim = \",\" )"
   ]
  },
  {
   "cell_type": "code",
   "execution_count": 74,
   "id": "de6c6f8e-bf36-488d-aeaa-87d8008e4c38",
   "metadata": {},
   "outputs": [],
   "source": [
    "NeST_Orig_DF = NeST_All_DF %>%\n",
    "subset(`NEST ID` %in% NeST_systems_Orig) %>%\n",
    "subset(Size_All <= 200)"
   ]
  },
  {
   "cell_type": "code",
   "execution_count": 75,
   "id": "0502253b-ee1f-4401-9475-9a2d174b4ed0",
   "metadata": {},
   "outputs": [
    {
     "data": {
      "text/html": [
       "'NEST:3'"
      ],
      "text/latex": [
       "'NEST:3'"
      ],
      "text/markdown": [
       "'NEST:3'"
      ],
      "text/plain": [
       "[1] \"NEST:3\""
      ]
     },
     "metadata": {},
     "output_type": "display_data"
    }
   ],
   "source": [
    "setdiff(NeST_systems_Orig, NeST_Orig_DF$`NEST ID`)"
   ]
  },
  {
   "cell_type": "code",
   "execution_count": 76,
   "id": "68febf67-6a30-4eb6-9960-c96810718f7c",
   "metadata": {},
   "outputs": [],
   "source": [
    "n_toSample = 50 - nrow(NeST_Orig_DF)"
   ]
  },
  {
   "cell_type": "code",
   "execution_count": 77,
   "id": "f7a4b994-272b-44df-a8cf-6542ac0cf68f",
   "metadata": {},
   "outputs": [],
   "source": [
    "NeST_added_DF = NeST_All_DF %>%\n",
    "subset(Size_All <= 200) %>%\n",
    "subset(str_detect(name_new, \"NEST\", negate = TRUE)) %>%\n",
    "slice_sample(n = n_toSample) "
   ]
  },
  {
   "cell_type": "code",
   "execution_count": 78,
   "id": "30724ae6-e48a-4e39-8aeb-8f8352390854",
   "metadata": {},
   "outputs": [],
   "source": [
    "NeST_toUse_DF = rbind(NeST_Orig_DF, NeST_added_DF) %>%\n",
    "select(c(\"NEST ID\", \"name_new\", \"All_Genes\", \"Size_All\"))  %>%\n",
    "rowwise() %>%\n",
    "mutate(Source  = \"NeST\", \n",
    "       All_Genes = str_replace_all(string = All_Genes, pattern  = \",\", replacement =  \" \")) %>%\n",
    "rename(GeneSetID = `NEST ID`,\n",
    "       GeneSetName = name_new, \n",
    "       GeneList = All_Genes, \n",
    "       n_Genes = Size_All)"
   ]
  },
  {
   "cell_type": "code",
   "execution_count": 79,
   "id": "8af1700b-0fca-4c4e-b0fe-9cac02da342b",
   "metadata": {},
   "outputs": [],
   "source": [
    "genesets_DF = genesets_DF %>% rbind(NeST_toUse_DF)"
   ]
  },
  {
   "cell_type": "code",
   "execution_count": 80,
   "id": "cbec14ba-1a36-4b40-8566-d79627af9666",
   "metadata": {},
   "outputs": [
    {
     "data": {
      "text/html": [
       "<style>\n",
       ".list-inline {list-style: none; margin:0; padding: 0}\n",
       ".list-inline>li {display: inline-block}\n",
       ".list-inline>li:not(:last-child)::after {content: \"\\00b7\"; padding: 0 .5ex}\n",
       "</style>\n",
       "<ol class=list-inline><li>100</li><li>5</li></ol>\n"
      ],
      "text/latex": [
       "\\begin{enumerate*}\n",
       "\\item 100\n",
       "\\item 5\n",
       "\\end{enumerate*}\n"
      ],
      "text/markdown": [
       "1. 100\n",
       "2. 5\n",
       "\n",
       "\n"
      ],
      "text/plain": [
       "[1] 100   5"
      ]
     },
     "metadata": {},
     "output_type": "display_data"
    }
   ],
   "source": [
    "dim(genesets_DF)"
   ]
  },
  {
   "cell_type": "markdown",
   "id": "d2a5ee32-4bf6-4dc2-8aac-b5014579dcc4",
   "metadata": {},
   "source": [
    "### Gene expression"
   ]
  },
  {
   "cell_type": "code",
   "execution_count": 81,
   "id": "97f213ff-81cd-486d-bcb5-c12fea9489e5",
   "metadata": {},
   "outputs": [],
   "source": [
    "# https://doi.org/10.1016/j.cell.2022.05.013"
   ]
  },
  {
   "cell_type": "code",
   "execution_count": 82,
   "id": "25cd88c5-5091-418f-801b-e59a105d951f",
   "metadata": {},
   "outputs": [
    {
     "name": "stderr",
     "output_type": "stream",
     "text": [
      "\u001b[1m\u001b[22mNew names:\n",
      "\u001b[36m•\u001b[39m `` -> `...1`\n"
     ]
    }
   ],
   "source": [
    "geneExpression_DF = read_xlsx(path = \"data/1-s2.0-S0092867422005979-mmc3.xlsx\", sheet = \"gene expression clusters\")"
   ]
  },
  {
   "cell_type": "code",
   "execution_count": 83,
   "id": "05bde802-7cd5-40c4-b4c0-993947348e03",
   "metadata": {},
   "outputs": [
    {
     "name": "stderr",
     "output_type": "stream",
     "text": [
      "\u001b[1m\u001b[22mNew names:\n",
      "\u001b[36m•\u001b[39m `` -> `...1`\n"
     ]
    }
   ],
   "source": [
    "geneExpression_DF = read_xlsx(path = \"data/1-s2.0-S0092867422005979-mmc3.xlsx\", sheet = \"gene expression clusters\") %>%\n",
    "subset(!is.na(manual_annotation))  %>%\n",
    "select(c(\"members\", \"manual_annotation\")) %>%\n",
    "rowwise() %>%\n",
    "mutate(Source  = \"Gene Expression\", \n",
    "       members = str_replace_all(string = members, pattern  = \",\", replacement =  \" \"),\n",
    "       n_Genes = length(str_split(string = members, pattern = \" \")[[1]])) %>%\n",
    "rename(GeneSetName = manual_annotation, \n",
    "       GeneList = members) %>%\n",
    "mutate(GeneSetID =  GeneSetName) %>%\n",
    "subset(n_Genes <= 200)\n"
   ]
  },
  {
   "cell_type": "code",
   "execution_count": 84,
   "id": "13320cd9-f741-411e-aa09-4dbf444e8848",
   "metadata": {},
   "outputs": [
    {
     "data": {
      "text/html": [
       "<style>\n",
       ".list-inline {list-style: none; margin:0; padding: 0}\n",
       ".list-inline>li {display: inline-block}\n",
       ".list-inline>li:not(:last-child)::after {content: \"\\00b7\"; padding: 0 .5ex}\n",
       "</style>\n",
       "<ol class=list-inline><li>100</li><li>5</li></ol>\n"
      ],
      "text/latex": [
       "\\begin{enumerate*}\n",
       "\\item 100\n",
       "\\item 5\n",
       "\\end{enumerate*}\n"
      ],
      "text/markdown": [
       "1. 100\n",
       "2. 5\n",
       "\n",
       "\n"
      ],
      "text/plain": [
       "[1] 100   5"
      ]
     },
     "metadata": {},
     "output_type": "display_data"
    }
   ],
   "source": [
    "dim(genesets_DF)"
   ]
  },
  {
   "cell_type": "code",
   "execution_count": 85,
   "id": "bb7fdb0f-e9b0-47a2-bae2-058d6e7394df",
   "metadata": {},
   "outputs": [],
   "source": [
    "genesets_DF = genesets_DF %>% rbind(geneExpression_DF)"
   ]
  },
  {
   "cell_type": "code",
   "execution_count": 86,
   "id": "7b100e06-3ec4-4242-a620-d0050504af85",
   "metadata": {},
   "outputs": [
    {
     "data": {
      "text/html": [
       "<style>\n",
       ".list-inline {list-style: none; margin:0; padding: 0}\n",
       ".list-inline>li {display: inline-block}\n",
       ".list-inline>li:not(:last-child)::after {content: \"\\00b7\"; padding: 0 .5ex}\n",
       "</style>\n",
       "<ol class=list-inline><li>125</li><li>5</li></ol>\n"
      ],
      "text/latex": [
       "\\begin{enumerate*}\n",
       "\\item 125\n",
       "\\item 5\n",
       "\\end{enumerate*}\n"
      ],
      "text/markdown": [
       "1. 125\n",
       "2. 5\n",
       "\n",
       "\n"
      ],
      "text/plain": [
       "[1] 125   5"
      ]
     },
     "metadata": {},
     "output_type": "display_data"
    }
   ],
   "source": [
    "dim(genesets_DF)"
   ]
  },
  {
   "cell_type": "markdown",
   "id": "74798c84-2dc6-46ae-be89-26b39fd46f15",
   "metadata": {},
   "source": [
    "### Perturbation"
   ]
  },
  {
   "cell_type": "code",
   "execution_count": 87,
   "id": "5571b5dc-b76a-4db4-b1d8-cb36c5fd77e2",
   "metadata": {},
   "outputs": [
    {
     "name": "stderr",
     "output_type": "stream",
     "text": [
      "\u001b[1m\u001b[22mNew names:\n",
      "\u001b[36m•\u001b[39m `` -> `...1`\n"
     ]
    }
   ],
   "source": [
    "perturbation_DF = read_xlsx(path = \"data/1-s2.0-S0092867422005979-mmc3.xlsx\", sheet = \"perturbation clusters\") %>%\n",
    "subset(!is.na(manual_annotation))  %>%\n",
    "select(c(\"members\", \"manual_annotation\")) %>%\n",
    "rowwise() %>%\n",
    "mutate(Source  = \"Perturbation\", \n",
    "       members = str_replace_all(string = members, pattern  = \",\", replacement =  \" \"),\n",
    "       n_Genes = length(str_split(string = members, pattern = \" \")[[1]])) %>%\n",
    "rename(GeneSetName = manual_annotation, \n",
    "       GeneList = members)%>%\n",
    "mutate(GeneSetID =  GeneSetName) %>%\n",
    "subset(n_Genes <= 200)"
   ]
  },
  {
   "cell_type": "code",
   "execution_count": 88,
   "id": "c6885c9c-6818-4382-a8bd-8bec24f6a414",
   "metadata": {},
   "outputs": [
    {
     "data": {
      "text/html": [
       "<style>\n",
       ".list-inline {list-style: none; margin:0; padding: 0}\n",
       ".list-inline>li {display: inline-block}\n",
       ".list-inline>li:not(:last-child)::after {content: \"\\00b7\"; padding: 0 .5ex}\n",
       "</style>\n",
       "<ol class=list-inline><li>48</li><li>5</li></ol>\n"
      ],
      "text/latex": [
       "\\begin{enumerate*}\n",
       "\\item 48\n",
       "\\item 5\n",
       "\\end{enumerate*}\n"
      ],
      "text/markdown": [
       "1. 48\n",
       "2. 5\n",
       "\n",
       "\n"
      ],
      "text/plain": [
       "[1] 48  5"
      ]
     },
     "metadata": {},
     "output_type": "display_data"
    }
   ],
   "source": [
    "dim(perturbation_DF)"
   ]
  },
  {
   "cell_type": "code",
   "execution_count": 89,
   "id": "4766359b-cd88-400b-9c8c-ecff2ab70833",
   "metadata": {},
   "outputs": [],
   "source": [
    "genesets_DF = genesets_DF %>% rbind(perturbation_DF)"
   ]
  },
  {
   "cell_type": "code",
   "execution_count": 90,
   "id": "5c9ed194-6ff7-4aee-bfa5-9d1b0fe3173d",
   "metadata": {},
   "outputs": [
    {
     "data": {
      "text/html": [
       "<style>\n",
       ".list-inline {list-style: none; margin:0; padding: 0}\n",
       ".list-inline>li {display: inline-block}\n",
       ".list-inline>li:not(:last-child)::after {content: \"\\00b7\"; padding: 0 .5ex}\n",
       "</style>\n",
       "<ol class=list-inline><li>173</li><li>5</li></ol>\n"
      ],
      "text/latex": [
       "\\begin{enumerate*}\n",
       "\\item 173\n",
       "\\item 5\n",
       "\\end{enumerate*}\n"
      ],
      "text/markdown": [
       "1. 173\n",
       "2. 5\n",
       "\n",
       "\n"
      ],
      "text/plain": [
       "[1] 173   5"
      ]
     },
     "metadata": {},
     "output_type": "display_data"
    }
   ],
   "source": [
    "dim(genesets_DF)"
   ]
  },
  {
   "cell_type": "code",
   "execution_count": 91,
   "id": "6b6039a2-3083-4a12-beb8-b5b2c0418e64",
   "metadata": {},
   "outputs": [
    {
     "data": {
      "text/html": [
       "77"
      ],
      "text/latex": [
       "77"
      ],
      "text/markdown": [
       "77"
      ],
      "text/plain": [
       "[1] 77"
      ]
     },
     "metadata": {},
     "output_type": "display_data"
    }
   ],
   "source": [
    "250 - 173 "
   ]
  },
  {
   "cell_type": "markdown",
   "id": "4e149766-71c7-4f20-b9db-ea05a78cbd4f",
   "metadata": {},
   "source": [
    "### Disease"
   ]
  },
  {
   "cell_type": "code",
   "execution_count": 33,
   "id": "5965bda8-967e-43ff-bae9-f73f6618cd10",
   "metadata": {
    "tags": []
   },
   "outputs": [
    {
     "name": "stderr",
     "output_type": "stream",
     "text": [
      "\n",
      "Attaching package: ‘disgenet2r’\n",
      "\n",
      "\n",
      "The following object is masked from ‘package:tidyr’:\n",
      "\n",
      "    extract\n",
      "\n",
      "\n"
     ]
    }
   ],
   "source": [
    "library(disgenet2r)\n",
    "library(getPass)"
   ]
  },
  {
   "cell_type": "code",
   "execution_count": 34,
   "id": "54421556-c77f-479b-898e-c56d8e35ace9",
   "metadata": {},
   "outputs": [
    {
     "name": "stdin",
     "output_type": "stream",
     "text": [
      "Enter the password:  ········\n"
     ]
    }
   ],
   "source": [
    "pass = getPass::getPass(\"Enter the password: \")"
   ]
  },
  {
   "cell_type": "code",
   "execution_count": 35,
   "id": "7f5753a9-d0fb-4625-a82b-60d093c71c63",
   "metadata": {},
   "outputs": [],
   "source": [
    "disgenet_api_key <- get_disgenet_api_key(\n",
    "                  email = \"salkhairy@ucsd.edu\", \n",
    "                  password = pass )"
   ]
  },
  {
   "cell_type": "code",
   "execution_count": 36,
   "id": "bb67f98f-3539-48d8-b66c-003eb178674e",
   "metadata": {},
   "outputs": [],
   "source": [
    "Sys.setenv(DISGENET_API_KEY= disgenet_api_key)"
   ]
  },
  {
   "cell_type": "code",
   "execution_count": 37,
   "id": "2fe64f9c-0441-4b70-aaf4-1c61aa59c1ce",
   "metadata": {},
   "outputs": [
    {
     "name": "stderr",
     "output_type": "stream",
     "text": [
      "\u001b[1mRows: \u001b[22m\u001b[34m30170\u001b[39m \u001b[1mColumns: \u001b[22m\u001b[34m7\u001b[39m\n",
      "\u001b[36m──\u001b[39m \u001b[1mColumn specification\u001b[22m \u001b[36m──────────────────────────────────────────────────────────────────────────────────────────────────────────\u001b[39m\n",
      "\u001b[1mDelimiter:\u001b[22m \"\\t\"\n",
      "\u001b[31mchr\u001b[39m (5): diseaseId, diseaseName, diseaseType, diseaseClass, diseaseSemanticType\n",
      "\u001b[32mdbl\u001b[39m (2): NofGenes, NofPmids\n",
      "\n",
      "\u001b[36mℹ\u001b[39m Use `spec()` to retrieve the full column specification for this data.\n",
      "\u001b[36mℹ\u001b[39m Specify the column types or set `show_col_types = FALSE` to quiet this message.\n"
     ]
    }
   ],
   "source": [
    "diseaseId_All_DF = read_delim(\"data//disease_associations.tsv\", delim = \"\\t\")\n"
   ]
  },
  {
   "cell_type": "code",
   "execution_count": 38,
   "id": "67105c81-d236-46b3-9f94-a518545423fe",
   "metadata": {},
   "outputs": [],
   "source": [
    "diseaseId_All_list = diseaseId_All_DF$diseaseName\n",
    "names(diseaseId_All_list) = diseaseId_All_DF$diseaseId"
   ]
  },
  {
   "cell_type": "code",
   "execution_count": 39,
   "id": "e41b9dd2-791d-4282-8f72-387ceeacf3aa",
   "metadata": {},
   "outputs": [
    {
     "data": {
      "text/html": [
       "<style>\n",
       ".dl-inline {width: auto; margin:0; padding: 0}\n",
       ".dl-inline>dt, .dl-inline>dd {float: none; width: auto; display: inline-block}\n",
       ".dl-inline>dt::after {content: \":\\0020\"; padding-right: .5ex}\n",
       ".dl-inline>dt:not(:first-of-type) {padding-left: .5ex}\n",
       "</style><dl class=dl-inline><dt>C0000727</dt><dd>'Abdomen, Acute'</dd><dt>C0000729</dt><dd>'Abdominal Cramps'</dd><dt>C0000731</dt><dd>'Abdomen distended'</dd><dt>C0000734</dt><dd>'Abdominal mass'</dd></dl>\n"
      ],
      "text/latex": [
       "\\begin{description*}\n",
       "\\item[C0000727] 'Abdomen, Acute'\n",
       "\\item[C0000729] 'Abdominal Cramps'\n",
       "\\item[C0000731] 'Abdomen distended'\n",
       "\\item[C0000734] 'Abdominal mass'\n",
       "\\end{description*}\n"
      ],
      "text/markdown": [
       "C0000727\n",
       ":   'Abdomen, Acute'C0000729\n",
       ":   'Abdominal Cramps'C0000731\n",
       ":   'Abdomen distended'C0000734\n",
       ":   'Abdominal mass'\n",
       "\n"
      ],
      "text/plain": [
       "           C0000727            C0000729            C0000731            C0000734 \n",
       "   \"Abdomen, Acute\"  \"Abdominal Cramps\" \"Abdomen distended\"    \"Abdominal mass\" "
      ]
     },
     "metadata": {},
     "output_type": "display_data"
    }
   ],
   "source": [
    "diseaseId_All_list[1:4]"
   ]
  },
  {
   "cell_type": "code",
   "execution_count": 40,
   "id": "cf1b5857-4a57-44d8-8703-e5c958903bfa",
   "metadata": {},
   "outputs": [],
   "source": [
    "# Read disease list\n",
    "diseaseId_All_list = diseaseId_All_DF %>%\n",
    "subset(diseaseType == \"disease\") %>%\n",
    "subset(between(x = NofGenes, left = 5, right = 200)) %>%\n",
    "subset(NofPmids > 1) %>%\n",
    "pull(diseaseId)"
   ]
  },
  {
   "cell_type": "code",
   "execution_count": 53,
   "id": "debcc17e-95d0-453f-93a6-0dfcbfa60efe",
   "metadata": {},
   "outputs": [
    {
     "data": {
      "text/html": [
       "5"
      ],
      "text/latex": [
       "5"
      ],
      "text/markdown": [
       "5"
      ],
      "text/plain": [
       "[1] 5"
      ]
     },
     "metadata": {},
     "output_type": "display_data"
    }
   ],
   "source": [
    "diseaseId_All_DF %>% subset(diseaseId %in% diseaseId_All_list) %>% pull(\"NofGenes\") %>% min()"
   ]
  },
  {
   "cell_type": "code",
   "execution_count": 54,
   "id": "e4ea5767-4581-4910-8ddc-ca3e39c4e8a0",
   "metadata": {},
   "outputs": [],
   "source": [
    "# Sample \n",
    "diseaseId_list = sample(x = diseaseId_All_list, size = 500, replace = FALSE) # not all of them are successful in getting gene list"
   ]
  },
  {
   "cell_type": "code",
   "execution_count": 55,
   "id": "674a1fad-213f-47c1-8e3f-c50ed683a0ad",
   "metadata": {},
   "outputs": [],
   "source": [
    "disease_DF = genesets_empty_DF\n",
    "an.error.occured <- FALSE\n"
   ]
  },
  {
   "cell_type": "code",
   "execution_count": 56,
   "id": "b2854b5e-569f-41ad-aef9-b9509678017e",
   "metadata": {
    "collapsed": true,
    "jupyter": {
     "outputs_hidden": true
    },
    "tags": []
   },
   "outputs": [
    {
     "name": "stdout",
     "output_type": "stream",
     "text": [
      "[1] 1\n",
      "$category\n",
      "[1] \"Client error\"\n",
      "\n",
      "$reason\n",
      "[1] \"Not Found\"\n",
      "\n",
      "$message\n",
      "[1] \"Client error: (404) Not Found\"\n",
      "\n"
     ]
    },
    {
     "name": "stderr",
     "output_type": "stream",
     "text": [
      "No encoding supplied: defaulting to UTF-8.\n",
      "\n"
     ]
    },
    {
     "name": "stdout",
     "output_type": "stream",
     "text": [
      "[1] \"{\\\"detail\\\":\\\"The query didn't return any results\\\",\\\"status_code\\\":404}\"\n",
      "[1] \"no results for the query\"\n",
      "[1] 2\n",
      "$category\n",
      "[1] \"Client error\"\n",
      "\n",
      "$reason\n",
      "[1] \"Not Found\"\n",
      "\n",
      "$message\n",
      "[1] \"Client error: (404) Not Found\"\n",
      "\n"
     ]
    },
    {
     "name": "stderr",
     "output_type": "stream",
     "text": [
      "No encoding supplied: defaulting to UTF-8.\n",
      "\n"
     ]
    },
    {
     "name": "stdout",
     "output_type": "stream",
     "text": [
      "[1] \"{\\\"detail\\\":\\\"The query didn't return any results\\\",\\\"status_code\\\":404}\"\n",
      "[1] \"no results for the query\"\n",
      "[1] 3\n",
      "$category\n",
      "[1] \"Client error\"\n",
      "\n",
      "$reason\n",
      "[1] \"Not Found\"\n",
      "\n",
      "$message\n",
      "[1] \"Client error: (404) Not Found\"\n",
      "\n"
     ]
    },
    {
     "name": "stderr",
     "output_type": "stream",
     "text": [
      "No encoding supplied: defaulting to UTF-8.\n",
      "\n"
     ]
    },
    {
     "name": "stdout",
     "output_type": "stream",
     "text": [
      "[1] \"{\\\"detail\\\":\\\"The query didn't return any results\\\",\\\"status_code\\\":404}\"\n",
      "[1] \"no results for the query\"\n",
      "[1] 4\n",
      "$category\n",
      "[1] \"Client error\"\n",
      "\n",
      "$reason\n",
      "[1] \"Not Found\"\n",
      "\n",
      "$message\n",
      "[1] \"Client error: (404) Not Found\"\n",
      "\n"
     ]
    },
    {
     "name": "stderr",
     "output_type": "stream",
     "text": [
      "No encoding supplied: defaulting to UTF-8.\n",
      "\n"
     ]
    },
    {
     "name": "stdout",
     "output_type": "stream",
     "text": [
      "[1] \"{\\\"detail\\\":\\\"The query didn't return any results\\\",\\\"status_code\\\":404}\"\n",
      "[1] \"no results for the query\"\n",
      "[1] 5\n",
      "[1] 6\n",
      "$category\n",
      "[1] \"Client error\"\n",
      "\n",
      "$reason\n",
      "[1] \"Not Found\"\n",
      "\n",
      "$message\n",
      "[1] \"Client error: (404) Not Found\"\n",
      "\n"
     ]
    },
    {
     "name": "stderr",
     "output_type": "stream",
     "text": [
      "No encoding supplied: defaulting to UTF-8.\n",
      "\n"
     ]
    },
    {
     "name": "stdout",
     "output_type": "stream",
     "text": [
      "[1] \"{\\\"detail\\\":\\\"The query didn't return any results\\\",\\\"status_code\\\":404}\"\n",
      "[1] \"no results for the query\"\n",
      "[1] 7\n",
      "$category\n",
      "[1] \"Client error\"\n",
      "\n",
      "$reason\n",
      "[1] \"Not Found\"\n",
      "\n",
      "$message\n",
      "[1] \"Client error: (404) Not Found\"\n",
      "\n"
     ]
    },
    {
     "name": "stderr",
     "output_type": "stream",
     "text": [
      "No encoding supplied: defaulting to UTF-8.\n",
      "\n"
     ]
    },
    {
     "name": "stdout",
     "output_type": "stream",
     "text": [
      "[1] \"{\\\"detail\\\":\\\"The query didn't return any results\\\",\\\"status_code\\\":404}\"\n",
      "[1] \"no results for the query\"\n",
      "[1] 8\n",
      "$category\n",
      "[1] \"Client error\"\n",
      "\n",
      "$reason\n",
      "[1] \"Not Found\"\n",
      "\n",
      "$message\n",
      "[1] \"Client error: (404) Not Found\"\n",
      "\n"
     ]
    },
    {
     "name": "stderr",
     "output_type": "stream",
     "text": [
      "No encoding supplied: defaulting to UTF-8.\n",
      "\n"
     ]
    },
    {
     "name": "stdout",
     "output_type": "stream",
     "text": [
      "[1] \"{\\\"detail\\\":\\\"The query didn't return any results\\\",\\\"status_code\\\":404}\"\n",
      "[1] \"no results for the query\"\n",
      "[1] 9\n",
      "[1] 10\n",
      "[1] 11\n",
      "$category\n",
      "[1] \"Client error\"\n",
      "\n",
      "$reason\n",
      "[1] \"Not Found\"\n",
      "\n",
      "$message\n",
      "[1] \"Client error: (404) Not Found\"\n",
      "\n"
     ]
    },
    {
     "name": "stderr",
     "output_type": "stream",
     "text": [
      "No encoding supplied: defaulting to UTF-8.\n",
      "\n"
     ]
    },
    {
     "name": "stdout",
     "output_type": "stream",
     "text": [
      "[1] \"{\\\"detail\\\":\\\"The query didn't return any results\\\",\\\"status_code\\\":404}\"\n",
      "[1] \"no results for the query\"\n",
      "[1] 12\n",
      "[1] 13\n",
      "[1] 14\n",
      "$category\n",
      "[1] \"Client error\"\n",
      "\n",
      "$reason\n",
      "[1] \"Not Found\"\n",
      "\n",
      "$message\n",
      "[1] \"Client error: (404) Not Found\"\n",
      "\n"
     ]
    },
    {
     "name": "stderr",
     "output_type": "stream",
     "text": [
      "No encoding supplied: defaulting to UTF-8.\n",
      "\n"
     ]
    },
    {
     "name": "stdout",
     "output_type": "stream",
     "text": [
      "[1] \"{\\\"detail\\\":\\\"The query didn't return any results\\\",\\\"status_code\\\":404}\"\n",
      "[1] \"no results for the query\"\n",
      "[1] 15\n",
      "[1] 16\n",
      "[1] 17\n",
      "[1] 18\n",
      "$category\n",
      "[1] \"Client error\"\n",
      "\n",
      "$reason\n",
      "[1] \"Not Found\"\n",
      "\n",
      "$message\n",
      "[1] \"Client error: (404) Not Found\"\n",
      "\n"
     ]
    },
    {
     "name": "stderr",
     "output_type": "stream",
     "text": [
      "No encoding supplied: defaulting to UTF-8.\n",
      "\n"
     ]
    },
    {
     "name": "stdout",
     "output_type": "stream",
     "text": [
      "[1] \"{\\\"detail\\\":\\\"The query didn't return any results\\\",\\\"status_code\\\":404}\"\n",
      "[1] \"no results for the query\"\n",
      "[1] 19\n",
      "[1] 20\n",
      "$category\n",
      "[1] \"Client error\"\n",
      "\n",
      "$reason\n",
      "[1] \"Not Found\"\n",
      "\n",
      "$message\n",
      "[1] \"Client error: (404) Not Found\"\n",
      "\n"
     ]
    },
    {
     "name": "stderr",
     "output_type": "stream",
     "text": [
      "No encoding supplied: defaulting to UTF-8.\n",
      "\n"
     ]
    },
    {
     "name": "stdout",
     "output_type": "stream",
     "text": [
      "[1] \"{\\\"detail\\\":\\\"The query didn't return any results\\\",\\\"status_code\\\":404}\"\n",
      "[1] \"no results for the query\"\n",
      "[1] 21\n",
      "[1] 22\n",
      "[1] 23\n",
      "$category\n",
      "[1] \"Client error\"\n",
      "\n",
      "$reason\n",
      "[1] \"Not Found\"\n",
      "\n",
      "$message\n",
      "[1] \"Client error: (404) Not Found\"\n",
      "\n"
     ]
    },
    {
     "name": "stderr",
     "output_type": "stream",
     "text": [
      "No encoding supplied: defaulting to UTF-8.\n",
      "\n"
     ]
    },
    {
     "name": "stdout",
     "output_type": "stream",
     "text": [
      "[1] \"{\\\"detail\\\":\\\"The query didn't return any results\\\",\\\"status_code\\\":404}\"\n",
      "[1] \"no results for the query\"\n",
      "[1] 24\n",
      "[1] 25\n",
      "[1] 26\n",
      "$category\n",
      "[1] \"Client error\"\n",
      "\n",
      "$reason\n",
      "[1] \"Not Found\"\n",
      "\n",
      "$message\n",
      "[1] \"Client error: (404) Not Found\"\n",
      "\n"
     ]
    },
    {
     "name": "stderr",
     "output_type": "stream",
     "text": [
      "No encoding supplied: defaulting to UTF-8.\n",
      "\n"
     ]
    },
    {
     "name": "stdout",
     "output_type": "stream",
     "text": [
      "[1] \"{\\\"detail\\\":\\\"The query didn't return any results\\\",\\\"status_code\\\":404}\"\n",
      "[1] \"no results for the query\"\n",
      "[1] 27\n",
      "$category\n",
      "[1] \"Client error\"\n",
      "\n",
      "$reason\n",
      "[1] \"Not Found\"\n",
      "\n",
      "$message\n",
      "[1] \"Client error: (404) Not Found\"\n",
      "\n"
     ]
    },
    {
     "name": "stderr",
     "output_type": "stream",
     "text": [
      "No encoding supplied: defaulting to UTF-8.\n",
      "\n"
     ]
    },
    {
     "name": "stdout",
     "output_type": "stream",
     "text": [
      "[1] \"{\\\"detail\\\":\\\"The query didn't return any results\\\",\\\"status_code\\\":404}\"\n",
      "[1] \"no results for the query\"\n",
      "[1] 28\n",
      "[1] 29\n",
      "[1] 30\n",
      "$category\n",
      "[1] \"Client error\"\n",
      "\n",
      "$reason\n",
      "[1] \"Not Found\"\n",
      "\n",
      "$message\n",
      "[1] \"Client error: (404) Not Found\"\n",
      "\n"
     ]
    },
    {
     "name": "stderr",
     "output_type": "stream",
     "text": [
      "No encoding supplied: defaulting to UTF-8.\n",
      "\n"
     ]
    },
    {
     "name": "stdout",
     "output_type": "stream",
     "text": [
      "[1] \"{\\\"detail\\\":\\\"The query didn't return any results\\\",\\\"status_code\\\":404}\"\n",
      "[1] \"no results for the query\"\n",
      "[1] 31\n",
      "$category\n",
      "[1] \"Client error\"\n",
      "\n",
      "$reason\n",
      "[1] \"Not Found\"\n",
      "\n",
      "$message\n",
      "[1] \"Client error: (404) Not Found\"\n",
      "\n"
     ]
    },
    {
     "name": "stderr",
     "output_type": "stream",
     "text": [
      "No encoding supplied: defaulting to UTF-8.\n",
      "\n"
     ]
    },
    {
     "name": "stdout",
     "output_type": "stream",
     "text": [
      "[1] \"{\\\"detail\\\":\\\"The query didn't return any results\\\",\\\"status_code\\\":404}\"\n",
      "[1] \"no results for the query\"\n",
      "[1] 32\n",
      "[1] 33\n",
      "[1] 34\n",
      "[1] 35\n",
      "[1] 36\n",
      "$category\n",
      "[1] \"Client error\"\n",
      "\n",
      "$reason\n",
      "[1] \"Not Found\"\n",
      "\n",
      "$message\n",
      "[1] \"Client error: (404) Not Found\"\n",
      "\n"
     ]
    },
    {
     "name": "stderr",
     "output_type": "stream",
     "text": [
      "No encoding supplied: defaulting to UTF-8.\n",
      "\n"
     ]
    },
    {
     "name": "stdout",
     "output_type": "stream",
     "text": [
      "[1] \"{\\\"detail\\\":\\\"The query didn't return any results\\\",\\\"status_code\\\":404}\"\n",
      "[1] \"no results for the query\"\n",
      "[1] 37\n",
      "$category\n",
      "[1] \"Client error\"\n",
      "\n",
      "$reason\n",
      "[1] \"Not Found\"\n",
      "\n",
      "$message\n",
      "[1] \"Client error: (404) Not Found\"\n",
      "\n"
     ]
    },
    {
     "name": "stderr",
     "output_type": "stream",
     "text": [
      "No encoding supplied: defaulting to UTF-8.\n",
      "\n"
     ]
    },
    {
     "name": "stdout",
     "output_type": "stream",
     "text": [
      "[1] \"{\\\"detail\\\":\\\"The query didn't return any results\\\",\\\"status_code\\\":404}\"\n",
      "[1] \"no results for the query\"\n",
      "[1] 38\n",
      "[1] 39\n",
      "$category\n",
      "[1] \"Client error\"\n",
      "\n",
      "$reason\n",
      "[1] \"Not Found\"\n",
      "\n",
      "$message\n",
      "[1] \"Client error: (404) Not Found\"\n",
      "\n"
     ]
    },
    {
     "name": "stderr",
     "output_type": "stream",
     "text": [
      "No encoding supplied: defaulting to UTF-8.\n",
      "\n"
     ]
    },
    {
     "name": "stdout",
     "output_type": "stream",
     "text": [
      "[1] \"{\\\"detail\\\":\\\"The query didn't return any results\\\",\\\"status_code\\\":404}\"\n",
      "[1] \"no results for the query\"\n",
      "[1] 40\n",
      "$category\n",
      "[1] \"Client error\"\n",
      "\n",
      "$reason\n",
      "[1] \"Not Found\"\n",
      "\n",
      "$message\n",
      "[1] \"Client error: (404) Not Found\"\n",
      "\n"
     ]
    },
    {
     "name": "stderr",
     "output_type": "stream",
     "text": [
      "No encoding supplied: defaulting to UTF-8.\n",
      "\n"
     ]
    },
    {
     "name": "stdout",
     "output_type": "stream",
     "text": [
      "[1] \"{\\\"detail\\\":\\\"The query didn't return any results\\\",\\\"status_code\\\":404}\"\n",
      "[1] \"no results for the query\"\n",
      "[1] 41\n",
      "$category\n",
      "[1] \"Client error\"\n",
      "\n",
      "$reason\n",
      "[1] \"Not Found\"\n",
      "\n",
      "$message\n",
      "[1] \"Client error: (404) Not Found\"\n",
      "\n"
     ]
    },
    {
     "name": "stderr",
     "output_type": "stream",
     "text": [
      "No encoding supplied: defaulting to UTF-8.\n",
      "\n"
     ]
    },
    {
     "name": "stdout",
     "output_type": "stream",
     "text": [
      "[1] \"{\\\"detail\\\":\\\"The query didn't return any results\\\",\\\"status_code\\\":404}\"\n",
      "[1] \"no results for the query\"\n",
      "[1] 42\n",
      "[1] 43\n",
      "[1] 44\n",
      "$category\n",
      "[1] \"Client error\"\n",
      "\n",
      "$reason\n",
      "[1] \"Not Found\"\n",
      "\n",
      "$message\n",
      "[1] \"Client error: (404) Not Found\"\n",
      "\n"
     ]
    },
    {
     "name": "stderr",
     "output_type": "stream",
     "text": [
      "No encoding supplied: defaulting to UTF-8.\n",
      "\n"
     ]
    },
    {
     "name": "stdout",
     "output_type": "stream",
     "text": [
      "[1] \"{\\\"detail\\\":\\\"The query didn't return any results\\\",\\\"status_code\\\":404}\"\n",
      "[1] \"no results for the query\"\n",
      "[1] 45\n",
      "$category\n",
      "[1] \"Client error\"\n",
      "\n",
      "$reason\n",
      "[1] \"Not Found\"\n",
      "\n",
      "$message\n",
      "[1] \"Client error: (404) Not Found\"\n",
      "\n"
     ]
    },
    {
     "name": "stderr",
     "output_type": "stream",
     "text": [
      "No encoding supplied: defaulting to UTF-8.\n",
      "\n"
     ]
    },
    {
     "name": "stdout",
     "output_type": "stream",
     "text": [
      "[1] \"{\\\"detail\\\":\\\"The query didn't return any results\\\",\\\"status_code\\\":404}\"\n",
      "[1] \"no results for the query\"\n",
      "[1] 46\n",
      "$category\n",
      "[1] \"Client error\"\n",
      "\n",
      "$reason\n",
      "[1] \"Not Found\"\n",
      "\n",
      "$message\n",
      "[1] \"Client error: (404) Not Found\"\n",
      "\n"
     ]
    },
    {
     "name": "stderr",
     "output_type": "stream",
     "text": [
      "No encoding supplied: defaulting to UTF-8.\n",
      "\n"
     ]
    },
    {
     "name": "stdout",
     "output_type": "stream",
     "text": [
      "[1] \"{\\\"detail\\\":\\\"The query didn't return any results\\\",\\\"status_code\\\":404}\"\n",
      "[1] \"no results for the query\"\n",
      "[1] 47\n",
      "$category\n",
      "[1] \"Client error\"\n",
      "\n",
      "$reason\n",
      "[1] \"Not Found\"\n",
      "\n",
      "$message\n",
      "[1] \"Client error: (404) Not Found\"\n",
      "\n"
     ]
    },
    {
     "name": "stderr",
     "output_type": "stream",
     "text": [
      "No encoding supplied: defaulting to UTF-8.\n",
      "\n"
     ]
    },
    {
     "name": "stdout",
     "output_type": "stream",
     "text": [
      "[1] \"{\\\"detail\\\":\\\"The query didn't return any results\\\",\\\"status_code\\\":404}\"\n",
      "[1] \"no results for the query\"\n",
      "[1] 48\n",
      "$category\n",
      "[1] \"Client error\"\n",
      "\n",
      "$reason\n",
      "[1] \"Not Found\"\n",
      "\n",
      "$message\n",
      "[1] \"Client error: (404) Not Found\"\n",
      "\n"
     ]
    },
    {
     "name": "stderr",
     "output_type": "stream",
     "text": [
      "No encoding supplied: defaulting to UTF-8.\n",
      "\n"
     ]
    },
    {
     "name": "stdout",
     "output_type": "stream",
     "text": [
      "[1] \"{\\\"detail\\\":\\\"The query didn't return any results\\\",\\\"status_code\\\":404}\"\n",
      "[1] \"no results for the query\"\n",
      "[1] 49\n",
      "[1] 50\n",
      "$category\n",
      "[1] \"Client error\"\n",
      "\n",
      "$reason\n",
      "[1] \"Not Found\"\n",
      "\n",
      "$message\n",
      "[1] \"Client error: (404) Not Found\"\n",
      "\n"
     ]
    },
    {
     "name": "stderr",
     "output_type": "stream",
     "text": [
      "No encoding supplied: defaulting to UTF-8.\n",
      "\n"
     ]
    },
    {
     "name": "stdout",
     "output_type": "stream",
     "text": [
      "[1] \"{\\\"detail\\\":\\\"The query didn't return any results\\\",\\\"status_code\\\":404}\"\n",
      "[1] \"no results for the query\"\n",
      "[1] 51\n",
      "[1] 52\n",
      "[1] 53\n",
      "$category\n",
      "[1] \"Client error\"\n",
      "\n",
      "$reason\n",
      "[1] \"Not Found\"\n",
      "\n",
      "$message\n",
      "[1] \"Client error: (404) Not Found\"\n",
      "\n"
     ]
    },
    {
     "name": "stderr",
     "output_type": "stream",
     "text": [
      "No encoding supplied: defaulting to UTF-8.\n",
      "\n"
     ]
    },
    {
     "name": "stdout",
     "output_type": "stream",
     "text": [
      "[1] \"{\\\"detail\\\":\\\"The query didn't return any results\\\",\\\"status_code\\\":404}\"\n",
      "[1] \"no results for the query\"\n",
      "[1] 54\n",
      "[1] 55\n",
      "$category\n",
      "[1] \"Client error\"\n",
      "\n",
      "$reason\n",
      "[1] \"Not Found\"\n",
      "\n",
      "$message\n",
      "[1] \"Client error: (404) Not Found\"\n",
      "\n"
     ]
    },
    {
     "name": "stderr",
     "output_type": "stream",
     "text": [
      "No encoding supplied: defaulting to UTF-8.\n",
      "\n"
     ]
    },
    {
     "name": "stdout",
     "output_type": "stream",
     "text": [
      "[1] \"{\\\"detail\\\":\\\"The query didn't return any results\\\",\\\"status_code\\\":404}\"\n",
      "[1] \"no results for the query\"\n",
      "[1] 56\n",
      "[1] 57\n",
      "$category\n",
      "[1] \"Client error\"\n",
      "\n",
      "$reason\n",
      "[1] \"Not Found\"\n",
      "\n",
      "$message\n",
      "[1] \"Client error: (404) Not Found\"\n",
      "\n"
     ]
    },
    {
     "name": "stderr",
     "output_type": "stream",
     "text": [
      "No encoding supplied: defaulting to UTF-8.\n",
      "\n"
     ]
    },
    {
     "name": "stdout",
     "output_type": "stream",
     "text": [
      "[1] \"{\\\"detail\\\":\\\"The query didn't return any results\\\",\\\"status_code\\\":404}\"\n",
      "[1] \"no results for the query\"\n",
      "[1] 58\n",
      "$category\n",
      "[1] \"Client error\"\n",
      "\n",
      "$reason\n",
      "[1] \"Not Found\"\n",
      "\n",
      "$message\n",
      "[1] \"Client error: (404) Not Found\"\n",
      "\n"
     ]
    },
    {
     "name": "stderr",
     "output_type": "stream",
     "text": [
      "No encoding supplied: defaulting to UTF-8.\n",
      "\n"
     ]
    },
    {
     "name": "stdout",
     "output_type": "stream",
     "text": [
      "[1] \"{\\\"detail\\\":\\\"The query didn't return any results\\\",\\\"status_code\\\":404}\"\n",
      "[1] \"no results for the query\"\n",
      "[1] 59\n",
      "$category\n",
      "[1] \"Client error\"\n",
      "\n",
      "$reason\n",
      "[1] \"Not Found\"\n",
      "\n",
      "$message\n",
      "[1] \"Client error: (404) Not Found\"\n",
      "\n"
     ]
    },
    {
     "name": "stderr",
     "output_type": "stream",
     "text": [
      "No encoding supplied: defaulting to UTF-8.\n",
      "\n"
     ]
    },
    {
     "name": "stdout",
     "output_type": "stream",
     "text": [
      "[1] \"{\\\"detail\\\":\\\"The query didn't return any results\\\",\\\"status_code\\\":404}\"\n",
      "[1] \"no results for the query\"\n",
      "[1] 60\n",
      "$category\n",
      "[1] \"Client error\"\n",
      "\n",
      "$reason\n",
      "[1] \"Not Found\"\n",
      "\n",
      "$message\n",
      "[1] \"Client error: (404) Not Found\"\n",
      "\n"
     ]
    },
    {
     "name": "stderr",
     "output_type": "stream",
     "text": [
      "No encoding supplied: defaulting to UTF-8.\n",
      "\n"
     ]
    },
    {
     "name": "stdout",
     "output_type": "stream",
     "text": [
      "[1] \"{\\\"detail\\\":\\\"The query didn't return any results\\\",\\\"status_code\\\":404}\"\n",
      "[1] \"no results for the query\"\n",
      "[1] 61\n",
      "[1] 62\n",
      "$category\n",
      "[1] \"Client error\"\n",
      "\n",
      "$reason\n",
      "[1] \"Not Found\"\n",
      "\n",
      "$message\n",
      "[1] \"Client error: (404) Not Found\"\n",
      "\n"
     ]
    },
    {
     "name": "stderr",
     "output_type": "stream",
     "text": [
      "No encoding supplied: defaulting to UTF-8.\n",
      "\n"
     ]
    },
    {
     "name": "stdout",
     "output_type": "stream",
     "text": [
      "[1] \"{\\\"detail\\\":\\\"The query didn't return any results\\\",\\\"status_code\\\":404}\"\n",
      "[1] \"no results for the query\"\n",
      "[1] 63\n",
      "$category\n",
      "[1] \"Client error\"\n",
      "\n",
      "$reason\n",
      "[1] \"Not Found\"\n",
      "\n",
      "$message\n",
      "[1] \"Client error: (404) Not Found\"\n",
      "\n"
     ]
    },
    {
     "name": "stderr",
     "output_type": "stream",
     "text": [
      "No encoding supplied: defaulting to UTF-8.\n",
      "\n"
     ]
    },
    {
     "name": "stdout",
     "output_type": "stream",
     "text": [
      "[1] \"{\\\"detail\\\":\\\"The query didn't return any results\\\",\\\"status_code\\\":404}\"\n",
      "[1] \"no results for the query\"\n",
      "[1] 64\n",
      "$category\n",
      "[1] \"Client error\"\n",
      "\n",
      "$reason\n",
      "[1] \"Not Found\"\n",
      "\n",
      "$message\n",
      "[1] \"Client error: (404) Not Found\"\n",
      "\n"
     ]
    },
    {
     "name": "stderr",
     "output_type": "stream",
     "text": [
      "No encoding supplied: defaulting to UTF-8.\n",
      "\n"
     ]
    },
    {
     "name": "stdout",
     "output_type": "stream",
     "text": [
      "[1] \"{\\\"detail\\\":\\\"The query didn't return any results\\\",\\\"status_code\\\":404}\"\n",
      "[1] \"no results for the query\"\n",
      "[1] 65\n",
      "$category\n",
      "[1] \"Client error\"\n",
      "\n",
      "$reason\n",
      "[1] \"Not Found\"\n",
      "\n",
      "$message\n",
      "[1] \"Client error: (404) Not Found\"\n",
      "\n"
     ]
    },
    {
     "name": "stderr",
     "output_type": "stream",
     "text": [
      "No encoding supplied: defaulting to UTF-8.\n",
      "\n"
     ]
    },
    {
     "name": "stdout",
     "output_type": "stream",
     "text": [
      "[1] \"{\\\"detail\\\":\\\"The query didn't return any results\\\",\\\"status_code\\\":404}\"\n",
      "[1] \"no results for the query\"\n",
      "[1] 66\n",
      "[1] 67\n",
      "[1] 68\n",
      "[1] 69\n",
      "$category\n",
      "[1] \"Client error\"\n",
      "\n",
      "$reason\n",
      "[1] \"Not Found\"\n",
      "\n",
      "$message\n",
      "[1] \"Client error: (404) Not Found\"\n",
      "\n"
     ]
    },
    {
     "name": "stderr",
     "output_type": "stream",
     "text": [
      "No encoding supplied: defaulting to UTF-8.\n",
      "\n"
     ]
    },
    {
     "name": "stdout",
     "output_type": "stream",
     "text": [
      "[1] \"{\\\"detail\\\":\\\"The query didn't return any results\\\",\\\"status_code\\\":404}\"\n",
      "[1] \"no results for the query\"\n",
      "[1] 70\n",
      "[1] 71\n",
      "$category\n",
      "[1] \"Client error\"\n",
      "\n",
      "$reason\n",
      "[1] \"Not Found\"\n",
      "\n",
      "$message\n",
      "[1] \"Client error: (404) Not Found\"\n",
      "\n"
     ]
    },
    {
     "name": "stderr",
     "output_type": "stream",
     "text": [
      "No encoding supplied: defaulting to UTF-8.\n",
      "\n"
     ]
    },
    {
     "name": "stdout",
     "output_type": "stream",
     "text": [
      "[1] \"{\\\"detail\\\":\\\"The query didn't return any results\\\",\\\"status_code\\\":404}\"\n",
      "[1] \"no results for the query\"\n",
      "[1] 72\n",
      "[1] 73\n",
      "[1] 74\n",
      "[1] 75\n",
      "$category\n",
      "[1] \"Client error\"\n",
      "\n",
      "$reason\n",
      "[1] \"Not Found\"\n",
      "\n",
      "$message\n",
      "[1] \"Client error: (404) Not Found\"\n",
      "\n"
     ]
    },
    {
     "name": "stderr",
     "output_type": "stream",
     "text": [
      "No encoding supplied: defaulting to UTF-8.\n",
      "\n"
     ]
    },
    {
     "name": "stdout",
     "output_type": "stream",
     "text": [
      "[1] \"{\\\"detail\\\":\\\"The query didn't return any results\\\",\\\"status_code\\\":404}\"\n",
      "[1] \"no results for the query\"\n",
      "[1] 76\n",
      "[1] 77\n",
      "$category\n",
      "[1] \"Client error\"\n",
      "\n",
      "$reason\n",
      "[1] \"Not Found\"\n",
      "\n",
      "$message\n",
      "[1] \"Client error: (404) Not Found\"\n",
      "\n"
     ]
    },
    {
     "name": "stderr",
     "output_type": "stream",
     "text": [
      "No encoding supplied: defaulting to UTF-8.\n",
      "\n"
     ]
    },
    {
     "name": "stdout",
     "output_type": "stream",
     "text": [
      "[1] \"{\\\"detail\\\":\\\"The query didn't return any results\\\",\\\"status_code\\\":404}\"\n",
      "[1] \"no results for the query\"\n",
      "[1] 78\n",
      "$category\n",
      "[1] \"Client error\"\n",
      "\n",
      "$reason\n",
      "[1] \"Not Found\"\n",
      "\n",
      "$message\n",
      "[1] \"Client error: (404) Not Found\"\n",
      "\n"
     ]
    },
    {
     "name": "stderr",
     "output_type": "stream",
     "text": [
      "No encoding supplied: defaulting to UTF-8.\n",
      "\n"
     ]
    },
    {
     "name": "stdout",
     "output_type": "stream",
     "text": [
      "[1] \"{\\\"detail\\\":\\\"The query didn't return any results\\\",\\\"status_code\\\":404}\"\n",
      "[1] \"no results for the query\"\n",
      "[1] 79\n",
      "[1] 80\n",
      "[1] 81\n",
      "$category\n",
      "[1] \"Client error\"\n",
      "\n",
      "$reason\n",
      "[1] \"Not Found\"\n",
      "\n",
      "$message\n",
      "[1] \"Client error: (404) Not Found\"\n",
      "\n"
     ]
    },
    {
     "name": "stderr",
     "output_type": "stream",
     "text": [
      "No encoding supplied: defaulting to UTF-8.\n",
      "\n"
     ]
    },
    {
     "name": "stdout",
     "output_type": "stream",
     "text": [
      "[1] \"{\\\"detail\\\":\\\"The query didn't return any results\\\",\\\"status_code\\\":404}\"\n",
      "[1] \"no results for the query\"\n",
      "[1] 82\n",
      "$category\n",
      "[1] \"Client error\"\n",
      "\n",
      "$reason\n",
      "[1] \"Not Found\"\n",
      "\n",
      "$message\n",
      "[1] \"Client error: (404) Not Found\"\n",
      "\n"
     ]
    },
    {
     "name": "stderr",
     "output_type": "stream",
     "text": [
      "No encoding supplied: defaulting to UTF-8.\n",
      "\n"
     ]
    },
    {
     "name": "stdout",
     "output_type": "stream",
     "text": [
      "[1] \"{\\\"detail\\\":\\\"The query didn't return any results\\\",\\\"status_code\\\":404}\"\n",
      "[1] \"no results for the query\"\n",
      "[1] 83\n",
      "[1] 84\n",
      "$category\n",
      "[1] \"Client error\"\n",
      "\n",
      "$reason\n",
      "[1] \"Not Found\"\n",
      "\n",
      "$message\n",
      "[1] \"Client error: (404) Not Found\"\n",
      "\n"
     ]
    },
    {
     "name": "stderr",
     "output_type": "stream",
     "text": [
      "No encoding supplied: defaulting to UTF-8.\n",
      "\n"
     ]
    },
    {
     "name": "stdout",
     "output_type": "stream",
     "text": [
      "[1] \"{\\\"detail\\\":\\\"The query didn't return any results\\\",\\\"status_code\\\":404}\"\n",
      "[1] \"no results for the query\"\n",
      "[1] 85\n",
      "[1] 86\n",
      "[1] 87\n",
      "[1] 88\n",
      "[1] 89\n",
      "[1] 90\n",
      "[1] 91\n",
      "[1] 92\n",
      "$category\n",
      "[1] \"Client error\"\n",
      "\n",
      "$reason\n",
      "[1] \"Not Found\"\n",
      "\n",
      "$message\n",
      "[1] \"Client error: (404) Not Found\"\n",
      "\n"
     ]
    },
    {
     "name": "stderr",
     "output_type": "stream",
     "text": [
      "No encoding supplied: defaulting to UTF-8.\n",
      "\n"
     ]
    },
    {
     "name": "stdout",
     "output_type": "stream",
     "text": [
      "[1] \"{\\\"detail\\\":\\\"The query didn't return any results\\\",\\\"status_code\\\":404}\"\n",
      "[1] \"no results for the query\"\n",
      "[1] 93\n",
      "$category\n",
      "[1] \"Client error\"\n",
      "\n",
      "$reason\n",
      "[1] \"Not Found\"\n",
      "\n",
      "$message\n",
      "[1] \"Client error: (404) Not Found\"\n",
      "\n"
     ]
    },
    {
     "name": "stderr",
     "output_type": "stream",
     "text": [
      "No encoding supplied: defaulting to UTF-8.\n",
      "\n"
     ]
    },
    {
     "name": "stdout",
     "output_type": "stream",
     "text": [
      "[1] \"{\\\"detail\\\":\\\"The query didn't return any results\\\",\\\"status_code\\\":404}\"\n",
      "[1] \"no results for the query\"\n",
      "[1] 94\n",
      "[1] 95\n",
      "[1] 96\n",
      "$category\n",
      "[1] \"Client error\"\n",
      "\n",
      "$reason\n",
      "[1] \"Not Found\"\n",
      "\n",
      "$message\n",
      "[1] \"Client error: (404) Not Found\"\n",
      "\n"
     ]
    },
    {
     "name": "stderr",
     "output_type": "stream",
     "text": [
      "No encoding supplied: defaulting to UTF-8.\n",
      "\n"
     ]
    },
    {
     "name": "stdout",
     "output_type": "stream",
     "text": [
      "[1] \"{\\\"detail\\\":\\\"The query didn't return any results\\\",\\\"status_code\\\":404}\"\n",
      "[1] \"no results for the query\"\n",
      "[1] 97\n",
      "[1] 98\n",
      "[1] 99\n",
      "[1] 100\n",
      "$category\n",
      "[1] \"Client error\"\n",
      "\n",
      "$reason\n",
      "[1] \"Not Found\"\n",
      "\n",
      "$message\n",
      "[1] \"Client error: (404) Not Found\"\n",
      "\n"
     ]
    },
    {
     "name": "stderr",
     "output_type": "stream",
     "text": [
      "No encoding supplied: defaulting to UTF-8.\n",
      "\n"
     ]
    },
    {
     "name": "stdout",
     "output_type": "stream",
     "text": [
      "[1] \"{\\\"detail\\\":\\\"The query didn't return any results\\\",\\\"status_code\\\":404}\"\n",
      "[1] \"no results for the query\"\n",
      "[1] 101\n",
      "$category\n",
      "[1] \"Client error\"\n",
      "\n",
      "$reason\n",
      "[1] \"Not Found\"\n",
      "\n",
      "$message\n",
      "[1] \"Client error: (404) Not Found\"\n",
      "\n"
     ]
    },
    {
     "name": "stderr",
     "output_type": "stream",
     "text": [
      "No encoding supplied: defaulting to UTF-8.\n",
      "\n"
     ]
    },
    {
     "name": "stdout",
     "output_type": "stream",
     "text": [
      "[1] \"{\\\"detail\\\":\\\"The query didn't return any results\\\",\\\"status_code\\\":404}\"\n",
      "[1] \"no results for the query\"\n",
      "[1] 102\n",
      "[1] 103\n",
      "[1] 104\n",
      "[1] 105\n",
      "[1] 106\n",
      "[1] 107\n",
      "[1] 108\n",
      "[1] 109\n",
      "$category\n",
      "[1] \"Client error\"\n",
      "\n",
      "$reason\n",
      "[1] \"Not Found\"\n",
      "\n",
      "$message\n",
      "[1] \"Client error: (404) Not Found\"\n",
      "\n"
     ]
    },
    {
     "name": "stderr",
     "output_type": "stream",
     "text": [
      "No encoding supplied: defaulting to UTF-8.\n",
      "\n"
     ]
    },
    {
     "name": "stdout",
     "output_type": "stream",
     "text": [
      "[1] \"{\\\"detail\\\":\\\"The query didn't return any results\\\",\\\"status_code\\\":404}\"\n",
      "[1] \"no results for the query\"\n",
      "[1] 110\n",
      "[1] 111\n",
      "[1] 112\n",
      "[1] 113\n",
      "$category\n",
      "[1] \"Client error\"\n",
      "\n",
      "$reason\n",
      "[1] \"Not Found\"\n",
      "\n",
      "$message\n",
      "[1] \"Client error: (404) Not Found\"\n",
      "\n"
     ]
    },
    {
     "name": "stderr",
     "output_type": "stream",
     "text": [
      "No encoding supplied: defaulting to UTF-8.\n",
      "\n"
     ]
    },
    {
     "name": "stdout",
     "output_type": "stream",
     "text": [
      "[1] \"{\\\"detail\\\":\\\"The query didn't return any results\\\",\\\"status_code\\\":404}\"\n",
      "[1] \"no results for the query\"\n",
      "[1] 114\n",
      "[1] 115\n",
      "$category\n",
      "[1] \"Client error\"\n",
      "\n",
      "$reason\n",
      "[1] \"Not Found\"\n",
      "\n",
      "$message\n",
      "[1] \"Client error: (404) Not Found\"\n",
      "\n"
     ]
    },
    {
     "name": "stderr",
     "output_type": "stream",
     "text": [
      "No encoding supplied: defaulting to UTF-8.\n",
      "\n"
     ]
    },
    {
     "name": "stdout",
     "output_type": "stream",
     "text": [
      "[1] \"{\\\"detail\\\":\\\"The query didn't return any results\\\",\\\"status_code\\\":404}\"\n",
      "[1] \"no results for the query\"\n",
      "[1] 116\n",
      "[1] 117\n",
      "$category\n",
      "[1] \"Client error\"\n",
      "\n",
      "$reason\n",
      "[1] \"Not Found\"\n",
      "\n",
      "$message\n",
      "[1] \"Client error: (404) Not Found\"\n",
      "\n"
     ]
    },
    {
     "name": "stderr",
     "output_type": "stream",
     "text": [
      "No encoding supplied: defaulting to UTF-8.\n",
      "\n"
     ]
    },
    {
     "name": "stdout",
     "output_type": "stream",
     "text": [
      "[1] \"{\\\"detail\\\":\\\"The query didn't return any results\\\",\\\"status_code\\\":404}\"\n",
      "[1] \"no results for the query\"\n",
      "[1] 118\n",
      "$category\n",
      "[1] \"Client error\"\n",
      "\n",
      "$reason\n",
      "[1] \"Not Found\"\n",
      "\n",
      "$message\n",
      "[1] \"Client error: (404) Not Found\"\n",
      "\n"
     ]
    },
    {
     "name": "stderr",
     "output_type": "stream",
     "text": [
      "No encoding supplied: defaulting to UTF-8.\n",
      "\n"
     ]
    },
    {
     "name": "stdout",
     "output_type": "stream",
     "text": [
      "[1] \"{\\\"detail\\\":\\\"The query didn't return any results\\\",\\\"status_code\\\":404}\"\n",
      "[1] \"no results for the query\"\n",
      "[1] 119\n",
      "[1] 120\n",
      "[1] 121\n",
      "$category\n",
      "[1] \"Client error\"\n",
      "\n",
      "$reason\n",
      "[1] \"Not Found\"\n",
      "\n",
      "$message\n",
      "[1] \"Client error: (404) Not Found\"\n",
      "\n"
     ]
    },
    {
     "name": "stderr",
     "output_type": "stream",
     "text": [
      "No encoding supplied: defaulting to UTF-8.\n",
      "\n"
     ]
    },
    {
     "name": "stdout",
     "output_type": "stream",
     "text": [
      "[1] \"{\\\"detail\\\":\\\"The query didn't return any results\\\",\\\"status_code\\\":404}\"\n",
      "[1] \"no results for the query\"\n",
      "[1] 122\n",
      "$category\n",
      "[1] \"Client error\"\n",
      "\n",
      "$reason\n",
      "[1] \"Not Found\"\n",
      "\n",
      "$message\n",
      "[1] \"Client error: (404) Not Found\"\n",
      "\n"
     ]
    },
    {
     "name": "stderr",
     "output_type": "stream",
     "text": [
      "No encoding supplied: defaulting to UTF-8.\n",
      "\n"
     ]
    },
    {
     "name": "stdout",
     "output_type": "stream",
     "text": [
      "[1] \"{\\\"detail\\\":\\\"The query didn't return any results\\\",\\\"status_code\\\":404}\"\n",
      "[1] \"no results for the query\"\n",
      "[1] 123\n",
      "[1] 124\n",
      "$category\n",
      "[1] \"Client error\"\n",
      "\n",
      "$reason\n",
      "[1] \"Not Found\"\n",
      "\n",
      "$message\n",
      "[1] \"Client error: (404) Not Found\"\n",
      "\n"
     ]
    },
    {
     "name": "stderr",
     "output_type": "stream",
     "text": [
      "No encoding supplied: defaulting to UTF-8.\n",
      "\n"
     ]
    },
    {
     "name": "stdout",
     "output_type": "stream",
     "text": [
      "[1] \"{\\\"detail\\\":\\\"The query didn't return any results\\\",\\\"status_code\\\":404}\"\n",
      "[1] \"no results for the query\"\n",
      "[1] 125\n",
      "[1] 126\n",
      "[1] 127\n",
      "$category\n",
      "[1] \"Client error\"\n",
      "\n",
      "$reason\n",
      "[1] \"Not Found\"\n",
      "\n",
      "$message\n",
      "[1] \"Client error: (404) Not Found\"\n",
      "\n"
     ]
    },
    {
     "name": "stderr",
     "output_type": "stream",
     "text": [
      "No encoding supplied: defaulting to UTF-8.\n",
      "\n"
     ]
    },
    {
     "name": "stdout",
     "output_type": "stream",
     "text": [
      "[1] \"{\\\"detail\\\":\\\"The query didn't return any results\\\",\\\"status_code\\\":404}\"\n",
      "[1] \"no results for the query\"\n",
      "[1] 128\n",
      "[1] 129\n",
      "$category\n",
      "[1] \"Client error\"\n",
      "\n",
      "$reason\n",
      "[1] \"Not Found\"\n",
      "\n",
      "$message\n",
      "[1] \"Client error: (404) Not Found\"\n",
      "\n"
     ]
    },
    {
     "name": "stderr",
     "output_type": "stream",
     "text": [
      "No encoding supplied: defaulting to UTF-8.\n",
      "\n"
     ]
    },
    {
     "name": "stdout",
     "output_type": "stream",
     "text": [
      "[1] \"{\\\"detail\\\":\\\"The query didn't return any results\\\",\\\"status_code\\\":404}\"\n",
      "[1] \"no results for the query\"\n",
      "[1] 130\n",
      "[1] 131\n",
      "$category\n",
      "[1] \"Client error\"\n",
      "\n",
      "$reason\n",
      "[1] \"Not Found\"\n",
      "\n",
      "$message\n",
      "[1] \"Client error: (404) Not Found\"\n",
      "\n"
     ]
    },
    {
     "name": "stderr",
     "output_type": "stream",
     "text": [
      "No encoding supplied: defaulting to UTF-8.\n",
      "\n"
     ]
    },
    {
     "name": "stdout",
     "output_type": "stream",
     "text": [
      "[1] \"{\\\"detail\\\":\\\"The query didn't return any results\\\",\\\"status_code\\\":404}\"\n",
      "[1] \"no results for the query\"\n",
      "[1] 132\n",
      "$category\n",
      "[1] \"Client error\"\n",
      "\n",
      "$reason\n",
      "[1] \"Not Found\"\n",
      "\n",
      "$message\n",
      "[1] \"Client error: (404) Not Found\"\n",
      "\n"
     ]
    },
    {
     "name": "stderr",
     "output_type": "stream",
     "text": [
      "No encoding supplied: defaulting to UTF-8.\n",
      "\n"
     ]
    },
    {
     "name": "stdout",
     "output_type": "stream",
     "text": [
      "[1] \"{\\\"detail\\\":\\\"The query didn't return any results\\\",\\\"status_code\\\":404}\"\n",
      "[1] \"no results for the query\"\n",
      "[1] 133\n",
      "$category\n",
      "[1] \"Client error\"\n",
      "\n",
      "$reason\n",
      "[1] \"Not Found\"\n",
      "\n",
      "$message\n",
      "[1] \"Client error: (404) Not Found\"\n",
      "\n"
     ]
    },
    {
     "name": "stderr",
     "output_type": "stream",
     "text": [
      "No encoding supplied: defaulting to UTF-8.\n",
      "\n"
     ]
    },
    {
     "name": "stdout",
     "output_type": "stream",
     "text": [
      "[1] \"{\\\"detail\\\":\\\"The query didn't return any results\\\",\\\"status_code\\\":404}\"\n",
      "[1] \"no results for the query\"\n",
      "[1] 134\n",
      "$category\n",
      "[1] \"Client error\"\n",
      "\n",
      "$reason\n",
      "[1] \"Not Found\"\n",
      "\n",
      "$message\n",
      "[1] \"Client error: (404) Not Found\"\n",
      "\n"
     ]
    },
    {
     "name": "stderr",
     "output_type": "stream",
     "text": [
      "No encoding supplied: defaulting to UTF-8.\n",
      "\n"
     ]
    },
    {
     "name": "stdout",
     "output_type": "stream",
     "text": [
      "[1] \"{\\\"detail\\\":\\\"The query didn't return any results\\\",\\\"status_code\\\":404}\"\n",
      "[1] \"no results for the query\"\n",
      "[1] 135\n",
      "$category\n",
      "[1] \"Client error\"\n",
      "\n",
      "$reason\n",
      "[1] \"Not Found\"\n",
      "\n",
      "$message\n",
      "[1] \"Client error: (404) Not Found\"\n",
      "\n"
     ]
    },
    {
     "name": "stderr",
     "output_type": "stream",
     "text": [
      "No encoding supplied: defaulting to UTF-8.\n",
      "\n"
     ]
    },
    {
     "name": "stdout",
     "output_type": "stream",
     "text": [
      "[1] \"{\\\"detail\\\":\\\"The query didn't return any results\\\",\\\"status_code\\\":404}\"\n",
      "[1] \"no results for the query\"\n",
      "[1] 136\n",
      "[1] 137\n",
      "$category\n",
      "[1] \"Client error\"\n",
      "\n",
      "$reason\n",
      "[1] \"Not Found\"\n",
      "\n",
      "$message\n",
      "[1] \"Client error: (404) Not Found\"\n",
      "\n"
     ]
    },
    {
     "name": "stderr",
     "output_type": "stream",
     "text": [
      "No encoding supplied: defaulting to UTF-8.\n",
      "\n"
     ]
    },
    {
     "name": "stdout",
     "output_type": "stream",
     "text": [
      "[1] \"{\\\"detail\\\":\\\"The query didn't return any results\\\",\\\"status_code\\\":404}\"\n",
      "[1] \"no results for the query\"\n",
      "[1] 138\n",
      "[1] 139\n",
      "$category\n",
      "[1] \"Client error\"\n",
      "\n",
      "$reason\n",
      "[1] \"Not Found\"\n",
      "\n",
      "$message\n",
      "[1] \"Client error: (404) Not Found\"\n",
      "\n"
     ]
    },
    {
     "name": "stderr",
     "output_type": "stream",
     "text": [
      "No encoding supplied: defaulting to UTF-8.\n",
      "\n"
     ]
    },
    {
     "name": "stdout",
     "output_type": "stream",
     "text": [
      "[1] \"{\\\"detail\\\":\\\"The query didn't return any results\\\",\\\"status_code\\\":404}\"\n",
      "[1] \"no results for the query\"\n",
      "[1] 140\n",
      "[1] 141\n",
      "$category\n",
      "[1] \"Client error\"\n",
      "\n",
      "$reason\n",
      "[1] \"Not Found\"\n",
      "\n",
      "$message\n",
      "[1] \"Client error: (404) Not Found\"\n",
      "\n"
     ]
    },
    {
     "name": "stderr",
     "output_type": "stream",
     "text": [
      "No encoding supplied: defaulting to UTF-8.\n",
      "\n"
     ]
    },
    {
     "name": "stdout",
     "output_type": "stream",
     "text": [
      "[1] \"{\\\"detail\\\":\\\"The query didn't return any results\\\",\\\"status_code\\\":404}\"\n",
      "[1] \"no results for the query\"\n",
      "[1] 142\n",
      "$category\n",
      "[1] \"Client error\"\n",
      "\n",
      "$reason\n",
      "[1] \"Not Found\"\n",
      "\n",
      "$message\n",
      "[1] \"Client error: (404) Not Found\"\n",
      "\n"
     ]
    },
    {
     "name": "stderr",
     "output_type": "stream",
     "text": [
      "No encoding supplied: defaulting to UTF-8.\n",
      "\n"
     ]
    },
    {
     "name": "stdout",
     "output_type": "stream",
     "text": [
      "[1] \"{\\\"detail\\\":\\\"The query didn't return any results\\\",\\\"status_code\\\":404}\"\n",
      "[1] \"no results for the query\"\n",
      "[1] 143\n",
      "$category\n",
      "[1] \"Client error\"\n",
      "\n",
      "$reason\n",
      "[1] \"Not Found\"\n",
      "\n",
      "$message\n",
      "[1] \"Client error: (404) Not Found\"\n",
      "\n"
     ]
    },
    {
     "name": "stderr",
     "output_type": "stream",
     "text": [
      "No encoding supplied: defaulting to UTF-8.\n",
      "\n"
     ]
    },
    {
     "name": "stdout",
     "output_type": "stream",
     "text": [
      "[1] \"{\\\"detail\\\":\\\"The query didn't return any results\\\",\\\"status_code\\\":404}\"\n",
      "[1] \"no results for the query\"\n",
      "[1] 144\n",
      "$category\n",
      "[1] \"Client error\"\n",
      "\n",
      "$reason\n",
      "[1] \"Not Found\"\n",
      "\n",
      "$message\n",
      "[1] \"Client error: (404) Not Found\"\n",
      "\n"
     ]
    },
    {
     "name": "stderr",
     "output_type": "stream",
     "text": [
      "No encoding supplied: defaulting to UTF-8.\n",
      "\n"
     ]
    },
    {
     "name": "stdout",
     "output_type": "stream",
     "text": [
      "[1] \"{\\\"detail\\\":\\\"The query didn't return any results\\\",\\\"status_code\\\":404}\"\n",
      "[1] \"no results for the query\"\n",
      "[1] 145\n",
      "$category\n",
      "[1] \"Client error\"\n",
      "\n",
      "$reason\n",
      "[1] \"Not Found\"\n",
      "\n",
      "$message\n",
      "[1] \"Client error: (404) Not Found\"\n",
      "\n"
     ]
    },
    {
     "name": "stderr",
     "output_type": "stream",
     "text": [
      "No encoding supplied: defaulting to UTF-8.\n",
      "\n"
     ]
    },
    {
     "name": "stdout",
     "output_type": "stream",
     "text": [
      "[1] \"{\\\"detail\\\":\\\"The query didn't return any results\\\",\\\"status_code\\\":404}\"\n",
      "[1] \"no results for the query\"\n",
      "[1] 146\n",
      "[1] 147\n",
      "[1] 148\n",
      "$category\n",
      "[1] \"Client error\"\n",
      "\n",
      "$reason\n",
      "[1] \"Not Found\"\n",
      "\n",
      "$message\n",
      "[1] \"Client error: (404) Not Found\"\n",
      "\n"
     ]
    },
    {
     "name": "stderr",
     "output_type": "stream",
     "text": [
      "No encoding supplied: defaulting to UTF-8.\n",
      "\n"
     ]
    },
    {
     "name": "stdout",
     "output_type": "stream",
     "text": [
      "[1] \"{\\\"detail\\\":\\\"The query didn't return any results\\\",\\\"status_code\\\":404}\"\n",
      "[1] \"no results for the query\"\n",
      "[1] 149\n",
      "[1] 150\n",
      "$category\n",
      "[1] \"Client error\"\n",
      "\n",
      "$reason\n",
      "[1] \"Not Found\"\n",
      "\n",
      "$message\n",
      "[1] \"Client error: (404) Not Found\"\n",
      "\n"
     ]
    },
    {
     "name": "stderr",
     "output_type": "stream",
     "text": [
      "No encoding supplied: defaulting to UTF-8.\n",
      "\n"
     ]
    },
    {
     "name": "stdout",
     "output_type": "stream",
     "text": [
      "[1] \"{\\\"detail\\\":\\\"The query didn't return any results\\\",\\\"status_code\\\":404}\"\n",
      "[1] \"no results for the query\"\n",
      "[1] 151\n",
      "[1] 152\n",
      "[1] 153\n",
      "[1] 154\n",
      "[1] 155\n",
      "$category\n",
      "[1] \"Client error\"\n",
      "\n",
      "$reason\n",
      "[1] \"Not Found\"\n",
      "\n",
      "$message\n",
      "[1] \"Client error: (404) Not Found\"\n",
      "\n"
     ]
    },
    {
     "name": "stderr",
     "output_type": "stream",
     "text": [
      "No encoding supplied: defaulting to UTF-8.\n",
      "\n"
     ]
    },
    {
     "name": "stdout",
     "output_type": "stream",
     "text": [
      "[1] \"{\\\"detail\\\":\\\"The query didn't return any results\\\",\\\"status_code\\\":404}\"\n",
      "[1] \"no results for the query\"\n",
      "[1] 156\n",
      "$category\n",
      "[1] \"Client error\"\n",
      "\n",
      "$reason\n",
      "[1] \"Not Found\"\n",
      "\n",
      "$message\n",
      "[1] \"Client error: (404) Not Found\"\n",
      "\n"
     ]
    },
    {
     "name": "stderr",
     "output_type": "stream",
     "text": [
      "No encoding supplied: defaulting to UTF-8.\n",
      "\n"
     ]
    },
    {
     "name": "stdout",
     "output_type": "stream",
     "text": [
      "[1] \"{\\\"detail\\\":\\\"The query didn't return any results\\\",\\\"status_code\\\":404}\"\n",
      "[1] \"no results for the query\"\n",
      "[1] 157\n",
      "[1] 158\n",
      "[1] 159\n",
      "[1] 160\n",
      "[1] 161\n",
      "[1] 162\n",
      "$category\n",
      "[1] \"Client error\"\n",
      "\n",
      "$reason\n",
      "[1] \"Not Found\"\n",
      "\n",
      "$message\n",
      "[1] \"Client error: (404) Not Found\"\n",
      "\n"
     ]
    },
    {
     "name": "stderr",
     "output_type": "stream",
     "text": [
      "No encoding supplied: defaulting to UTF-8.\n",
      "\n"
     ]
    },
    {
     "name": "stdout",
     "output_type": "stream",
     "text": [
      "[1] \"{\\\"detail\\\":\\\"The query didn't return any results\\\",\\\"status_code\\\":404}\"\n",
      "[1] \"no results for the query\"\n",
      "[1] 163\n",
      "$category\n",
      "[1] \"Client error\"\n",
      "\n",
      "$reason\n",
      "[1] \"Not Found\"\n",
      "\n",
      "$message\n",
      "[1] \"Client error: (404) Not Found\"\n",
      "\n"
     ]
    },
    {
     "name": "stderr",
     "output_type": "stream",
     "text": [
      "No encoding supplied: defaulting to UTF-8.\n",
      "\n"
     ]
    },
    {
     "name": "stdout",
     "output_type": "stream",
     "text": [
      "[1] \"{\\\"detail\\\":\\\"The query didn't return any results\\\",\\\"status_code\\\":404}\"\n",
      "[1] \"no results for the query\"\n",
      "[1] 164\n",
      "$category\n",
      "[1] \"Client error\"\n",
      "\n",
      "$reason\n",
      "[1] \"Not Found\"\n",
      "\n",
      "$message\n",
      "[1] \"Client error: (404) Not Found\"\n",
      "\n"
     ]
    },
    {
     "name": "stderr",
     "output_type": "stream",
     "text": [
      "No encoding supplied: defaulting to UTF-8.\n",
      "\n"
     ]
    },
    {
     "name": "stdout",
     "output_type": "stream",
     "text": [
      "[1] \"{\\\"detail\\\":\\\"The query didn't return any results\\\",\\\"status_code\\\":404}\"\n",
      "[1] \"no results for the query\"\n",
      "[1] 165\n",
      "[1] 166\n",
      "[1] 167\n",
      "[1] 168\n",
      "[1] 169\n",
      "[1] 170\n",
      "$category\n",
      "[1] \"Client error\"\n",
      "\n",
      "$reason\n",
      "[1] \"Not Found\"\n",
      "\n",
      "$message\n",
      "[1] \"Client error: (404) Not Found\"\n",
      "\n"
     ]
    },
    {
     "name": "stderr",
     "output_type": "stream",
     "text": [
      "No encoding supplied: defaulting to UTF-8.\n",
      "\n"
     ]
    },
    {
     "name": "stdout",
     "output_type": "stream",
     "text": [
      "[1] \"{\\\"detail\\\":\\\"The query didn't return any results\\\",\\\"status_code\\\":404}\"\n",
      "[1] \"no results for the query\"\n",
      "[1] 171\n",
      "$category\n",
      "[1] \"Client error\"\n",
      "\n",
      "$reason\n",
      "[1] \"Not Found\"\n",
      "\n",
      "$message\n",
      "[1] \"Client error: (404) Not Found\"\n",
      "\n"
     ]
    },
    {
     "name": "stderr",
     "output_type": "stream",
     "text": [
      "No encoding supplied: defaulting to UTF-8.\n",
      "\n"
     ]
    },
    {
     "name": "stdout",
     "output_type": "stream",
     "text": [
      "[1] \"{\\\"detail\\\":\\\"The query didn't return any results\\\",\\\"status_code\\\":404}\"\n",
      "[1] \"no results for the query\"\n",
      "[1] 172\n",
      "$category\n",
      "[1] \"Client error\"\n",
      "\n",
      "$reason\n",
      "[1] \"Not Found\"\n",
      "\n",
      "$message\n",
      "[1] \"Client error: (404) Not Found\"\n",
      "\n"
     ]
    },
    {
     "name": "stderr",
     "output_type": "stream",
     "text": [
      "No encoding supplied: defaulting to UTF-8.\n",
      "\n"
     ]
    },
    {
     "name": "stdout",
     "output_type": "stream",
     "text": [
      "[1] \"{\\\"detail\\\":\\\"The query didn't return any results\\\",\\\"status_code\\\":404}\"\n",
      "[1] \"no results for the query\"\n",
      "[1] 173\n",
      "[1] 174\n",
      "$category\n",
      "[1] \"Client error\"\n",
      "\n",
      "$reason\n",
      "[1] \"Not Found\"\n",
      "\n",
      "$message\n",
      "[1] \"Client error: (404) Not Found\"\n",
      "\n"
     ]
    },
    {
     "name": "stderr",
     "output_type": "stream",
     "text": [
      "No encoding supplied: defaulting to UTF-8.\n",
      "\n"
     ]
    },
    {
     "name": "stdout",
     "output_type": "stream",
     "text": [
      "[1] \"{\\\"detail\\\":\\\"The query didn't return any results\\\",\\\"status_code\\\":404}\"\n",
      "[1] \"no results for the query\"\n",
      "[1] 175\n",
      "$category\n",
      "[1] \"Client error\"\n",
      "\n",
      "$reason\n",
      "[1] \"Not Found\"\n",
      "\n",
      "$message\n",
      "[1] \"Client error: (404) Not Found\"\n",
      "\n"
     ]
    },
    {
     "name": "stderr",
     "output_type": "stream",
     "text": [
      "No encoding supplied: defaulting to UTF-8.\n",
      "\n"
     ]
    },
    {
     "name": "stdout",
     "output_type": "stream",
     "text": [
      "[1] \"{\\\"detail\\\":\\\"The query didn't return any results\\\",\\\"status_code\\\":404}\"\n",
      "[1] \"no results for the query\"\n",
      "[1] 176\n",
      "[1] 177\n",
      "$category\n",
      "[1] \"Client error\"\n",
      "\n",
      "$reason\n",
      "[1] \"Not Found\"\n",
      "\n",
      "$message\n",
      "[1] \"Client error: (404) Not Found\"\n",
      "\n"
     ]
    },
    {
     "name": "stderr",
     "output_type": "stream",
     "text": [
      "No encoding supplied: defaulting to UTF-8.\n",
      "\n"
     ]
    },
    {
     "name": "stdout",
     "output_type": "stream",
     "text": [
      "[1] \"{\\\"detail\\\":\\\"The query didn't return any results\\\",\\\"status_code\\\":404}\"\n",
      "[1] \"no results for the query\"\n",
      "[1] 178\n",
      "[1] 179\n",
      "[1] 180\n",
      "$category\n",
      "[1] \"Client error\"\n",
      "\n",
      "$reason\n",
      "[1] \"Not Found\"\n",
      "\n",
      "$message\n",
      "[1] \"Client error: (404) Not Found\"\n",
      "\n"
     ]
    },
    {
     "name": "stderr",
     "output_type": "stream",
     "text": [
      "No encoding supplied: defaulting to UTF-8.\n",
      "\n"
     ]
    },
    {
     "name": "stdout",
     "output_type": "stream",
     "text": [
      "[1] \"{\\\"detail\\\":\\\"The query didn't return any results\\\",\\\"status_code\\\":404}\"\n",
      "[1] \"no results for the query\"\n",
      "[1] 181\n",
      "$category\n",
      "[1] \"Client error\"\n",
      "\n",
      "$reason\n",
      "[1] \"Not Found\"\n",
      "\n",
      "$message\n",
      "[1] \"Client error: (404) Not Found\"\n",
      "\n"
     ]
    },
    {
     "name": "stderr",
     "output_type": "stream",
     "text": [
      "No encoding supplied: defaulting to UTF-8.\n",
      "\n"
     ]
    },
    {
     "name": "stdout",
     "output_type": "stream",
     "text": [
      "[1] \"{\\\"detail\\\":\\\"The query didn't return any results\\\",\\\"status_code\\\":404}\"\n",
      "[1] \"no results for the query\"\n",
      "[1] 182\n",
      "$category\n",
      "[1] \"Client error\"\n",
      "\n",
      "$reason\n",
      "[1] \"Not Found\"\n",
      "\n",
      "$message\n",
      "[1] \"Client error: (404) Not Found\"\n",
      "\n"
     ]
    },
    {
     "name": "stderr",
     "output_type": "stream",
     "text": [
      "No encoding supplied: defaulting to UTF-8.\n",
      "\n"
     ]
    },
    {
     "name": "stdout",
     "output_type": "stream",
     "text": [
      "[1] \"{\\\"detail\\\":\\\"The query didn't return any results\\\",\\\"status_code\\\":404}\"\n",
      "[1] \"no results for the query\"\n",
      "[1] 183\n",
      "[1] 184\n",
      "$category\n",
      "[1] \"Client error\"\n",
      "\n",
      "$reason\n",
      "[1] \"Not Found\"\n",
      "\n",
      "$message\n",
      "[1] \"Client error: (404) Not Found\"\n",
      "\n"
     ]
    },
    {
     "name": "stderr",
     "output_type": "stream",
     "text": [
      "No encoding supplied: defaulting to UTF-8.\n",
      "\n"
     ]
    },
    {
     "name": "stdout",
     "output_type": "stream",
     "text": [
      "[1] \"{\\\"detail\\\":\\\"The query didn't return any results\\\",\\\"status_code\\\":404}\"\n",
      "[1] \"no results for the query\"\n",
      "[1] 185\n",
      "[1] 186\n",
      "[1] 187\n",
      "$category\n",
      "[1] \"Client error\"\n",
      "\n",
      "$reason\n",
      "[1] \"Not Found\"\n",
      "\n",
      "$message\n",
      "[1] \"Client error: (404) Not Found\"\n",
      "\n"
     ]
    },
    {
     "name": "stderr",
     "output_type": "stream",
     "text": [
      "No encoding supplied: defaulting to UTF-8.\n",
      "\n"
     ]
    },
    {
     "name": "stdout",
     "output_type": "stream",
     "text": [
      "[1] \"{\\\"detail\\\":\\\"The query didn't return any results\\\",\\\"status_code\\\":404}\"\n",
      "[1] \"no results for the query\"\n",
      "[1] 188\n",
      "$category\n",
      "[1] \"Client error\"\n",
      "\n",
      "$reason\n",
      "[1] \"Not Found\"\n",
      "\n",
      "$message\n",
      "[1] \"Client error: (404) Not Found\"\n",
      "\n"
     ]
    },
    {
     "name": "stderr",
     "output_type": "stream",
     "text": [
      "No encoding supplied: defaulting to UTF-8.\n",
      "\n"
     ]
    },
    {
     "name": "stdout",
     "output_type": "stream",
     "text": [
      "[1] \"{\\\"detail\\\":\\\"The query didn't return any results\\\",\\\"status_code\\\":404}\"\n",
      "[1] \"no results for the query\"\n",
      "[1] 189\n",
      "[1] 190\n",
      "$category\n",
      "[1] \"Client error\"\n",
      "\n",
      "$reason\n",
      "[1] \"Not Found\"\n",
      "\n",
      "$message\n",
      "[1] \"Client error: (404) Not Found\"\n",
      "\n"
     ]
    },
    {
     "name": "stderr",
     "output_type": "stream",
     "text": [
      "No encoding supplied: defaulting to UTF-8.\n",
      "\n"
     ]
    },
    {
     "name": "stdout",
     "output_type": "stream",
     "text": [
      "[1] \"{\\\"detail\\\":\\\"The query didn't return any results\\\",\\\"status_code\\\":404}\"\n",
      "[1] \"no results for the query\"\n",
      "[1] 191\n",
      "[1] 192\n",
      "[1] 193\n",
      "[1] 194\n",
      "[1] 195\n",
      "[1] 196\n",
      "[1] 197\n",
      "$category\n",
      "[1] \"Client error\"\n",
      "\n",
      "$reason\n",
      "[1] \"Not Found\"\n",
      "\n",
      "$message\n",
      "[1] \"Client error: (404) Not Found\"\n",
      "\n"
     ]
    },
    {
     "name": "stderr",
     "output_type": "stream",
     "text": [
      "No encoding supplied: defaulting to UTF-8.\n",
      "\n"
     ]
    },
    {
     "name": "stdout",
     "output_type": "stream",
     "text": [
      "[1] \"{\\\"detail\\\":\\\"The query didn't return any results\\\",\\\"status_code\\\":404}\"\n",
      "[1] \"no results for the query\"\n",
      "[1] 198\n",
      "$category\n",
      "[1] \"Client error\"\n",
      "\n",
      "$reason\n",
      "[1] \"Not Found\"\n",
      "\n",
      "$message\n",
      "[1] \"Client error: (404) Not Found\"\n",
      "\n"
     ]
    },
    {
     "name": "stderr",
     "output_type": "stream",
     "text": [
      "No encoding supplied: defaulting to UTF-8.\n",
      "\n"
     ]
    },
    {
     "name": "stdout",
     "output_type": "stream",
     "text": [
      "[1] \"{\\\"detail\\\":\\\"The query didn't return any results\\\",\\\"status_code\\\":404}\"\n",
      "[1] \"no results for the query\"\n",
      "[1] 199\n",
      "$category\n",
      "[1] \"Client error\"\n",
      "\n",
      "$reason\n",
      "[1] \"Not Found\"\n",
      "\n",
      "$message\n",
      "[1] \"Client error: (404) Not Found\"\n",
      "\n"
     ]
    },
    {
     "name": "stderr",
     "output_type": "stream",
     "text": [
      "No encoding supplied: defaulting to UTF-8.\n",
      "\n"
     ]
    },
    {
     "name": "stdout",
     "output_type": "stream",
     "text": [
      "[1] \"{\\\"detail\\\":\\\"The query didn't return any results\\\",\\\"status_code\\\":404}\"\n",
      "[1] \"no results for the query\"\n",
      "[1] 200\n",
      "$category\n",
      "[1] \"Client error\"\n",
      "\n",
      "$reason\n",
      "[1] \"Not Found\"\n",
      "\n",
      "$message\n",
      "[1] \"Client error: (404) Not Found\"\n",
      "\n"
     ]
    },
    {
     "name": "stderr",
     "output_type": "stream",
     "text": [
      "No encoding supplied: defaulting to UTF-8.\n",
      "\n"
     ]
    },
    {
     "name": "stdout",
     "output_type": "stream",
     "text": [
      "[1] \"{\\\"detail\\\":\\\"The query didn't return any results\\\",\\\"status_code\\\":404}\"\n",
      "[1] \"no results for the query\"\n",
      "[1] 201\n",
      "[1] 202\n",
      "$category\n",
      "[1] \"Client error\"\n",
      "\n",
      "$reason\n",
      "[1] \"Not Found\"\n",
      "\n",
      "$message\n",
      "[1] \"Client error: (404) Not Found\"\n",
      "\n"
     ]
    },
    {
     "name": "stderr",
     "output_type": "stream",
     "text": [
      "No encoding supplied: defaulting to UTF-8.\n",
      "\n"
     ]
    },
    {
     "name": "stdout",
     "output_type": "stream",
     "text": [
      "[1] \"{\\\"detail\\\":\\\"The query didn't return any results\\\",\\\"status_code\\\":404}\"\n",
      "[1] \"no results for the query\"\n",
      "[1] 203\n",
      "[1] 204\n",
      "[1] 205\n",
      "$category\n",
      "[1] \"Client error\"\n",
      "\n",
      "$reason\n",
      "[1] \"Not Found\"\n",
      "\n",
      "$message\n",
      "[1] \"Client error: (404) Not Found\"\n",
      "\n"
     ]
    },
    {
     "name": "stderr",
     "output_type": "stream",
     "text": [
      "No encoding supplied: defaulting to UTF-8.\n",
      "\n"
     ]
    },
    {
     "name": "stdout",
     "output_type": "stream",
     "text": [
      "[1] \"{\\\"detail\\\":\\\"The query didn't return any results\\\",\\\"status_code\\\":404}\"\n",
      "[1] \"no results for the query\"\n",
      "[1] 206\n",
      "[1] 207\n",
      "$category\n",
      "[1] \"Client error\"\n",
      "\n",
      "$reason\n",
      "[1] \"Not Found\"\n",
      "\n",
      "$message\n",
      "[1] \"Client error: (404) Not Found\"\n",
      "\n"
     ]
    },
    {
     "name": "stderr",
     "output_type": "stream",
     "text": [
      "No encoding supplied: defaulting to UTF-8.\n",
      "\n"
     ]
    },
    {
     "name": "stdout",
     "output_type": "stream",
     "text": [
      "[1] \"{\\\"detail\\\":\\\"The query didn't return any results\\\",\\\"status_code\\\":404}\"\n",
      "[1] \"no results for the query\"\n",
      "[1] 208\n",
      "$category\n",
      "[1] \"Client error\"\n",
      "\n",
      "$reason\n",
      "[1] \"Not Found\"\n",
      "\n",
      "$message\n",
      "[1] \"Client error: (404) Not Found\"\n",
      "\n"
     ]
    },
    {
     "name": "stderr",
     "output_type": "stream",
     "text": [
      "No encoding supplied: defaulting to UTF-8.\n",
      "\n"
     ]
    },
    {
     "name": "stdout",
     "output_type": "stream",
     "text": [
      "[1] \"{\\\"detail\\\":\\\"The query didn't return any results\\\",\\\"status_code\\\":404}\"\n",
      "[1] \"no results for the query\"\n",
      "[1] 209\n",
      "$category\n",
      "[1] \"Client error\"\n",
      "\n",
      "$reason\n",
      "[1] \"Not Found\"\n",
      "\n",
      "$message\n",
      "[1] \"Client error: (404) Not Found\"\n",
      "\n"
     ]
    },
    {
     "name": "stderr",
     "output_type": "stream",
     "text": [
      "No encoding supplied: defaulting to UTF-8.\n",
      "\n"
     ]
    },
    {
     "name": "stdout",
     "output_type": "stream",
     "text": [
      "[1] \"{\\\"detail\\\":\\\"The query didn't return any results\\\",\\\"status_code\\\":404}\"\n",
      "[1] \"no results for the query\"\n",
      "[1] 210\n",
      "[1] 211\n",
      "$category\n",
      "[1] \"Client error\"\n",
      "\n",
      "$reason\n",
      "[1] \"Not Found\"\n",
      "\n",
      "$message\n",
      "[1] \"Client error: (404) Not Found\"\n",
      "\n"
     ]
    },
    {
     "name": "stderr",
     "output_type": "stream",
     "text": [
      "No encoding supplied: defaulting to UTF-8.\n",
      "\n"
     ]
    },
    {
     "name": "stdout",
     "output_type": "stream",
     "text": [
      "[1] \"{\\\"detail\\\":\\\"The query didn't return any results\\\",\\\"status_code\\\":404}\"\n",
      "[1] \"no results for the query\"\n",
      "[1] 212\n",
      "[1] 213\n",
      "$category\n",
      "[1] \"Client error\"\n",
      "\n",
      "$reason\n",
      "[1] \"Not Found\"\n",
      "\n",
      "$message\n",
      "[1] \"Client error: (404) Not Found\"\n",
      "\n"
     ]
    },
    {
     "name": "stderr",
     "output_type": "stream",
     "text": [
      "No encoding supplied: defaulting to UTF-8.\n",
      "\n"
     ]
    },
    {
     "name": "stdout",
     "output_type": "stream",
     "text": [
      "[1] \"{\\\"detail\\\":\\\"The query didn't return any results\\\",\\\"status_code\\\":404}\"\n",
      "[1] \"no results for the query\"\n",
      "[1] 214\n",
      "[1] 215\n",
      "$category\n",
      "[1] \"Client error\"\n",
      "\n",
      "$reason\n",
      "[1] \"Not Found\"\n",
      "\n",
      "$message\n",
      "[1] \"Client error: (404) Not Found\"\n",
      "\n"
     ]
    },
    {
     "name": "stderr",
     "output_type": "stream",
     "text": [
      "No encoding supplied: defaulting to UTF-8.\n",
      "\n"
     ]
    },
    {
     "name": "stdout",
     "output_type": "stream",
     "text": [
      "[1] \"{\\\"detail\\\":\\\"The query didn't return any results\\\",\\\"status_code\\\":404}\"\n",
      "[1] \"no results for the query\"\n",
      "[1] 216\n",
      "$category\n",
      "[1] \"Client error\"\n",
      "\n",
      "$reason\n",
      "[1] \"Not Found\"\n",
      "\n",
      "$message\n",
      "[1] \"Client error: (404) Not Found\"\n",
      "\n"
     ]
    },
    {
     "name": "stderr",
     "output_type": "stream",
     "text": [
      "No encoding supplied: defaulting to UTF-8.\n",
      "\n"
     ]
    },
    {
     "name": "stdout",
     "output_type": "stream",
     "text": [
      "[1] \"{\\\"detail\\\":\\\"The query didn't return any results\\\",\\\"status_code\\\":404}\"\n",
      "[1] \"no results for the query\"\n",
      "[1] 217\n",
      "$category\n",
      "[1] \"Client error\"\n",
      "\n",
      "$reason\n",
      "[1] \"Not Found\"\n",
      "\n",
      "$message\n",
      "[1] \"Client error: (404) Not Found\"\n",
      "\n"
     ]
    },
    {
     "name": "stderr",
     "output_type": "stream",
     "text": [
      "No encoding supplied: defaulting to UTF-8.\n",
      "\n"
     ]
    },
    {
     "name": "stdout",
     "output_type": "stream",
     "text": [
      "[1] \"{\\\"detail\\\":\\\"The query didn't return any results\\\",\\\"status_code\\\":404}\"\n",
      "[1] \"no results for the query\"\n",
      "[1] 218\n",
      "[1] 219\n",
      "$category\n",
      "[1] \"Client error\"\n",
      "\n",
      "$reason\n",
      "[1] \"Not Found\"\n",
      "\n",
      "$message\n",
      "[1] \"Client error: (404) Not Found\"\n",
      "\n"
     ]
    },
    {
     "name": "stderr",
     "output_type": "stream",
     "text": [
      "No encoding supplied: defaulting to UTF-8.\n",
      "\n"
     ]
    },
    {
     "name": "stdout",
     "output_type": "stream",
     "text": [
      "[1] \"{\\\"detail\\\":\\\"The query didn't return any results\\\",\\\"status_code\\\":404}\"\n",
      "[1] \"no results for the query\"\n",
      "[1] 220\n",
      "[1] 221\n",
      "[1] 222\n",
      "[1] 223\n",
      "[1] 224\n",
      "[1] 225\n",
      "$category\n",
      "[1] \"Client error\"\n",
      "\n",
      "$reason\n",
      "[1] \"Not Found\"\n",
      "\n",
      "$message\n",
      "[1] \"Client error: (404) Not Found\"\n",
      "\n"
     ]
    },
    {
     "name": "stderr",
     "output_type": "stream",
     "text": [
      "No encoding supplied: defaulting to UTF-8.\n",
      "\n"
     ]
    },
    {
     "name": "stdout",
     "output_type": "stream",
     "text": [
      "[1] \"{\\\"detail\\\":\\\"The query didn't return any results\\\",\\\"status_code\\\":404}\"\n",
      "[1] \"no results for the query\"\n",
      "[1] 226\n",
      "$category\n",
      "[1] \"Client error\"\n",
      "\n",
      "$reason\n",
      "[1] \"Not Found\"\n",
      "\n",
      "$message\n",
      "[1] \"Client error: (404) Not Found\"\n",
      "\n"
     ]
    },
    {
     "name": "stderr",
     "output_type": "stream",
     "text": [
      "No encoding supplied: defaulting to UTF-8.\n",
      "\n"
     ]
    },
    {
     "name": "stdout",
     "output_type": "stream",
     "text": [
      "[1] \"{\\\"detail\\\":\\\"The query didn't return any results\\\",\\\"status_code\\\":404}\"\n",
      "[1] \"no results for the query\"\n",
      "[1] 227\n",
      "[1] 228\n",
      "[1] 229\n",
      "$category\n",
      "[1] \"Client error\"\n",
      "\n",
      "$reason\n",
      "[1] \"Not Found\"\n",
      "\n",
      "$message\n",
      "[1] \"Client error: (404) Not Found\"\n",
      "\n"
     ]
    },
    {
     "name": "stderr",
     "output_type": "stream",
     "text": [
      "No encoding supplied: defaulting to UTF-8.\n",
      "\n"
     ]
    },
    {
     "name": "stdout",
     "output_type": "stream",
     "text": [
      "[1] \"{\\\"detail\\\":\\\"The query didn't return any results\\\",\\\"status_code\\\":404}\"\n",
      "[1] \"no results for the query\"\n",
      "[1] 230\n",
      "[1] 231\n",
      "$category\n",
      "[1] \"Client error\"\n",
      "\n",
      "$reason\n",
      "[1] \"Not Found\"\n",
      "\n",
      "$message\n",
      "[1] \"Client error: (404) Not Found\"\n",
      "\n"
     ]
    },
    {
     "name": "stderr",
     "output_type": "stream",
     "text": [
      "No encoding supplied: defaulting to UTF-8.\n",
      "\n"
     ]
    },
    {
     "name": "stdout",
     "output_type": "stream",
     "text": [
      "[1] \"{\\\"detail\\\":\\\"The query didn't return any results\\\",\\\"status_code\\\":404}\"\n",
      "[1] \"no results for the query\"\n",
      "[1] 232\n",
      "[1] 233\n",
      "$category\n",
      "[1] \"Client error\"\n",
      "\n",
      "$reason\n",
      "[1] \"Not Found\"\n",
      "\n",
      "$message\n",
      "[1] \"Client error: (404) Not Found\"\n",
      "\n"
     ]
    },
    {
     "name": "stderr",
     "output_type": "stream",
     "text": [
      "No encoding supplied: defaulting to UTF-8.\n",
      "\n"
     ]
    },
    {
     "name": "stdout",
     "output_type": "stream",
     "text": [
      "[1] \"{\\\"detail\\\":\\\"The query didn't return any results\\\",\\\"status_code\\\":404}\"\n",
      "[1] \"no results for the query\"\n",
      "[1] 234\n",
      "$category\n",
      "[1] \"Client error\"\n",
      "\n",
      "$reason\n",
      "[1] \"Not Found\"\n",
      "\n",
      "$message\n",
      "[1] \"Client error: (404) Not Found\"\n",
      "\n"
     ]
    },
    {
     "name": "stderr",
     "output_type": "stream",
     "text": [
      "No encoding supplied: defaulting to UTF-8.\n",
      "\n"
     ]
    },
    {
     "name": "stdout",
     "output_type": "stream",
     "text": [
      "[1] \"{\\\"detail\\\":\\\"The query didn't return any results\\\",\\\"status_code\\\":404}\"\n",
      "[1] \"no results for the query\"\n",
      "[1] 235\n",
      "[1] 236\n",
      "$category\n",
      "[1] \"Client error\"\n",
      "\n",
      "$reason\n",
      "[1] \"Not Found\"\n",
      "\n",
      "$message\n",
      "[1] \"Client error: (404) Not Found\"\n",
      "\n"
     ]
    },
    {
     "name": "stderr",
     "output_type": "stream",
     "text": [
      "No encoding supplied: defaulting to UTF-8.\n",
      "\n"
     ]
    },
    {
     "name": "stdout",
     "output_type": "stream",
     "text": [
      "[1] \"{\\\"detail\\\":\\\"The query didn't return any results\\\",\\\"status_code\\\":404}\"\n",
      "[1] \"no results for the query\"\n",
      "[1] 237\n",
      "$category\n",
      "[1] \"Client error\"\n",
      "\n",
      "$reason\n",
      "[1] \"Not Found\"\n",
      "\n",
      "$message\n",
      "[1] \"Client error: (404) Not Found\"\n",
      "\n"
     ]
    },
    {
     "name": "stderr",
     "output_type": "stream",
     "text": [
      "No encoding supplied: defaulting to UTF-8.\n",
      "\n"
     ]
    },
    {
     "name": "stdout",
     "output_type": "stream",
     "text": [
      "[1] \"{\\\"detail\\\":\\\"The query didn't return any results\\\",\\\"status_code\\\":404}\"\n",
      "[1] \"no results for the query\"\n",
      "[1] 238\n",
      "$category\n",
      "[1] \"Client error\"\n",
      "\n",
      "$reason\n",
      "[1] \"Not Found\"\n",
      "\n",
      "$message\n",
      "[1] \"Client error: (404) Not Found\"\n",
      "\n"
     ]
    },
    {
     "name": "stderr",
     "output_type": "stream",
     "text": [
      "No encoding supplied: defaulting to UTF-8.\n",
      "\n"
     ]
    },
    {
     "name": "stdout",
     "output_type": "stream",
     "text": [
      "[1] \"{\\\"detail\\\":\\\"The query didn't return any results\\\",\\\"status_code\\\":404}\"\n",
      "[1] \"no results for the query\"\n",
      "[1] 239\n",
      "[1] 240\n",
      "[1] 241\n",
      "$category\n",
      "[1] \"Client error\"\n",
      "\n",
      "$reason\n",
      "[1] \"Not Found\"\n",
      "\n",
      "$message\n",
      "[1] \"Client error: (404) Not Found\"\n",
      "\n"
     ]
    },
    {
     "name": "stderr",
     "output_type": "stream",
     "text": [
      "No encoding supplied: defaulting to UTF-8.\n",
      "\n"
     ]
    },
    {
     "name": "stdout",
     "output_type": "stream",
     "text": [
      "[1] \"{\\\"detail\\\":\\\"The query didn't return any results\\\",\\\"status_code\\\":404}\"\n",
      "[1] \"no results for the query\"\n",
      "[1] 242\n",
      "[1] 243\n",
      "$category\n",
      "[1] \"Client error\"\n",
      "\n",
      "$reason\n",
      "[1] \"Not Found\"\n",
      "\n",
      "$message\n",
      "[1] \"Client error: (404) Not Found\"\n",
      "\n"
     ]
    },
    {
     "name": "stderr",
     "output_type": "stream",
     "text": [
      "No encoding supplied: defaulting to UTF-8.\n",
      "\n"
     ]
    },
    {
     "name": "stdout",
     "output_type": "stream",
     "text": [
      "[1] \"{\\\"detail\\\":\\\"The query didn't return any results\\\",\\\"status_code\\\":404}\"\n",
      "[1] \"no results for the query\"\n",
      "[1] 244\n",
      "$category\n",
      "[1] \"Client error\"\n",
      "\n",
      "$reason\n",
      "[1] \"Not Found\"\n",
      "\n",
      "$message\n",
      "[1] \"Client error: (404) Not Found\"\n",
      "\n"
     ]
    },
    {
     "name": "stderr",
     "output_type": "stream",
     "text": [
      "No encoding supplied: defaulting to UTF-8.\n",
      "\n"
     ]
    },
    {
     "name": "stdout",
     "output_type": "stream",
     "text": [
      "[1] \"{\\\"detail\\\":\\\"The query didn't return any results\\\",\\\"status_code\\\":404}\"\n",
      "[1] \"no results for the query\"\n",
      "[1] 245\n",
      "[1] 246\n",
      "[1] 247\n",
      "$category\n",
      "[1] \"Client error\"\n",
      "\n",
      "$reason\n",
      "[1] \"Not Found\"\n",
      "\n",
      "$message\n",
      "[1] \"Client error: (404) Not Found\"\n",
      "\n"
     ]
    },
    {
     "name": "stderr",
     "output_type": "stream",
     "text": [
      "No encoding supplied: defaulting to UTF-8.\n",
      "\n"
     ]
    },
    {
     "name": "stdout",
     "output_type": "stream",
     "text": [
      "[1] \"{\\\"detail\\\":\\\"The query didn't return any results\\\",\\\"status_code\\\":404}\"\n",
      "[1] \"no results for the query\"\n",
      "[1] 248\n",
      "$category\n",
      "[1] \"Client error\"\n",
      "\n",
      "$reason\n",
      "[1] \"Not Found\"\n",
      "\n",
      "$message\n",
      "[1] \"Client error: (404) Not Found\"\n",
      "\n"
     ]
    },
    {
     "name": "stderr",
     "output_type": "stream",
     "text": [
      "No encoding supplied: defaulting to UTF-8.\n",
      "\n"
     ]
    },
    {
     "name": "stdout",
     "output_type": "stream",
     "text": [
      "[1] \"{\\\"detail\\\":\\\"The query didn't return any results\\\",\\\"status_code\\\":404}\"\n",
      "[1] \"no results for the query\"\n",
      "[1] 249\n",
      "$category\n",
      "[1] \"Client error\"\n",
      "\n",
      "$reason\n",
      "[1] \"Not Found\"\n",
      "\n",
      "$message\n",
      "[1] \"Client error: (404) Not Found\"\n",
      "\n"
     ]
    },
    {
     "name": "stderr",
     "output_type": "stream",
     "text": [
      "No encoding supplied: defaulting to UTF-8.\n",
      "\n"
     ]
    },
    {
     "name": "stdout",
     "output_type": "stream",
     "text": [
      "[1] \"{\\\"detail\\\":\\\"The query didn't return any results\\\",\\\"status_code\\\":404}\"\n",
      "[1] \"no results for the query\"\n",
      "[1] 250\n",
      "$category\n",
      "[1] \"Client error\"\n",
      "\n",
      "$reason\n",
      "[1] \"Not Found\"\n",
      "\n",
      "$message\n",
      "[1] \"Client error: (404) Not Found\"\n",
      "\n"
     ]
    },
    {
     "name": "stderr",
     "output_type": "stream",
     "text": [
      "No encoding supplied: defaulting to UTF-8.\n",
      "\n"
     ]
    },
    {
     "name": "stdout",
     "output_type": "stream",
     "text": [
      "[1] \"{\\\"detail\\\":\\\"The query didn't return any results\\\",\\\"status_code\\\":404}\"\n",
      "[1] \"no results for the query\"\n",
      "[1] 251\n",
      "$category\n",
      "[1] \"Client error\"\n",
      "\n",
      "$reason\n",
      "[1] \"Not Found\"\n",
      "\n",
      "$message\n",
      "[1] \"Client error: (404) Not Found\"\n",
      "\n"
     ]
    },
    {
     "name": "stderr",
     "output_type": "stream",
     "text": [
      "No encoding supplied: defaulting to UTF-8.\n",
      "\n"
     ]
    },
    {
     "name": "stdout",
     "output_type": "stream",
     "text": [
      "[1] \"{\\\"detail\\\":\\\"The query didn't return any results\\\",\\\"status_code\\\":404}\"\n",
      "[1] \"no results for the query\"\n",
      "[1] 252\n",
      "[1] 253\n",
      "$category\n",
      "[1] \"Client error\"\n",
      "\n",
      "$reason\n",
      "[1] \"Not Found\"\n",
      "\n",
      "$message\n",
      "[1] \"Client error: (404) Not Found\"\n",
      "\n"
     ]
    },
    {
     "name": "stderr",
     "output_type": "stream",
     "text": [
      "No encoding supplied: defaulting to UTF-8.\n",
      "\n"
     ]
    },
    {
     "name": "stdout",
     "output_type": "stream",
     "text": [
      "[1] \"{\\\"detail\\\":\\\"The query didn't return any results\\\",\\\"status_code\\\":404}\"\n",
      "[1] \"no results for the query\"\n",
      "[1] 254\n",
      "$category\n",
      "[1] \"Client error\"\n",
      "\n",
      "$reason\n",
      "[1] \"Not Found\"\n",
      "\n",
      "$message\n",
      "[1] \"Client error: (404) Not Found\"\n",
      "\n"
     ]
    },
    {
     "name": "stderr",
     "output_type": "stream",
     "text": [
      "No encoding supplied: defaulting to UTF-8.\n",
      "\n"
     ]
    },
    {
     "name": "stdout",
     "output_type": "stream",
     "text": [
      "[1] \"{\\\"detail\\\":\\\"The query didn't return any results\\\",\\\"status_code\\\":404}\"\n",
      "[1] \"no results for the query\"\n",
      "[1] 255\n",
      "[1] 256\n",
      "$category\n",
      "[1] \"Client error\"\n",
      "\n",
      "$reason\n",
      "[1] \"Not Found\"\n",
      "\n",
      "$message\n",
      "[1] \"Client error: (404) Not Found\"\n",
      "\n"
     ]
    },
    {
     "name": "stderr",
     "output_type": "stream",
     "text": [
      "No encoding supplied: defaulting to UTF-8.\n",
      "\n"
     ]
    },
    {
     "name": "stdout",
     "output_type": "stream",
     "text": [
      "[1] \"{\\\"detail\\\":\\\"The query didn't return any results\\\",\\\"status_code\\\":404}\"\n",
      "[1] \"no results for the query\"\n",
      "[1] 257\n",
      "$category\n",
      "[1] \"Client error\"\n",
      "\n",
      "$reason\n",
      "[1] \"Not Found\"\n",
      "\n",
      "$message\n",
      "[1] \"Client error: (404) Not Found\"\n",
      "\n"
     ]
    },
    {
     "name": "stderr",
     "output_type": "stream",
     "text": [
      "No encoding supplied: defaulting to UTF-8.\n",
      "\n"
     ]
    },
    {
     "name": "stdout",
     "output_type": "stream",
     "text": [
      "[1] \"{\\\"detail\\\":\\\"The query didn't return any results\\\",\\\"status_code\\\":404}\"\n",
      "[1] \"no results for the query\"\n",
      "[1] 258\n",
      "[1] 259\n",
      "$category\n",
      "[1] \"Client error\"\n",
      "\n",
      "$reason\n",
      "[1] \"Not Found\"\n",
      "\n",
      "$message\n",
      "[1] \"Client error: (404) Not Found\"\n",
      "\n"
     ]
    },
    {
     "name": "stderr",
     "output_type": "stream",
     "text": [
      "No encoding supplied: defaulting to UTF-8.\n",
      "\n"
     ]
    },
    {
     "name": "stdout",
     "output_type": "stream",
     "text": [
      "[1] \"{\\\"detail\\\":\\\"The query didn't return any results\\\",\\\"status_code\\\":404}\"\n",
      "[1] \"no results for the query\"\n",
      "[1] 260\n",
      "[1] 261\n",
      "$category\n",
      "[1] \"Client error\"\n",
      "\n",
      "$reason\n",
      "[1] \"Not Found\"\n",
      "\n",
      "$message\n",
      "[1] \"Client error: (404) Not Found\"\n",
      "\n"
     ]
    },
    {
     "name": "stderr",
     "output_type": "stream",
     "text": [
      "No encoding supplied: defaulting to UTF-8.\n",
      "\n"
     ]
    },
    {
     "name": "stdout",
     "output_type": "stream",
     "text": [
      "[1] \"{\\\"detail\\\":\\\"The query didn't return any results\\\",\\\"status_code\\\":404}\"\n",
      "[1] \"no results for the query\"\n",
      "[1] 262\n",
      "$category\n",
      "[1] \"Client error\"\n",
      "\n",
      "$reason\n",
      "[1] \"Not Found\"\n",
      "\n",
      "$message\n",
      "[1] \"Client error: (404) Not Found\"\n",
      "\n"
     ]
    },
    {
     "name": "stderr",
     "output_type": "stream",
     "text": [
      "No encoding supplied: defaulting to UTF-8.\n",
      "\n"
     ]
    },
    {
     "name": "stdout",
     "output_type": "stream",
     "text": [
      "[1] \"{\\\"detail\\\":\\\"The query didn't return any results\\\",\\\"status_code\\\":404}\"\n",
      "[1] \"no results for the query\"\n",
      "[1] 263\n",
      "$category\n",
      "[1] \"Client error\"\n",
      "\n",
      "$reason\n",
      "[1] \"Not Found\"\n",
      "\n",
      "$message\n",
      "[1] \"Client error: (404) Not Found\"\n",
      "\n"
     ]
    },
    {
     "name": "stderr",
     "output_type": "stream",
     "text": [
      "No encoding supplied: defaulting to UTF-8.\n",
      "\n"
     ]
    },
    {
     "name": "stdout",
     "output_type": "stream",
     "text": [
      "[1] \"{\\\"detail\\\":\\\"The query didn't return any results\\\",\\\"status_code\\\":404}\"\n",
      "[1] \"no results for the query\"\n",
      "[1] 264\n",
      "[1] 265\n",
      "$category\n",
      "[1] \"Client error\"\n",
      "\n",
      "$reason\n",
      "[1] \"Not Found\"\n",
      "\n",
      "$message\n",
      "[1] \"Client error: (404) Not Found\"\n",
      "\n"
     ]
    },
    {
     "name": "stderr",
     "output_type": "stream",
     "text": [
      "No encoding supplied: defaulting to UTF-8.\n",
      "\n"
     ]
    },
    {
     "name": "stdout",
     "output_type": "stream",
     "text": [
      "[1] \"{\\\"detail\\\":\\\"The query didn't return any results\\\",\\\"status_code\\\":404}\"\n",
      "[1] \"no results for the query\"\n",
      "[1] 266\n",
      "[1] 267\n",
      "$category\n",
      "[1] \"Client error\"\n",
      "\n",
      "$reason\n",
      "[1] \"Not Found\"\n",
      "\n",
      "$message\n",
      "[1] \"Client error: (404) Not Found\"\n",
      "\n"
     ]
    },
    {
     "name": "stderr",
     "output_type": "stream",
     "text": [
      "No encoding supplied: defaulting to UTF-8.\n",
      "\n"
     ]
    },
    {
     "name": "stdout",
     "output_type": "stream",
     "text": [
      "[1] \"{\\\"detail\\\":\\\"The query didn't return any results\\\",\\\"status_code\\\":404}\"\n",
      "[1] \"no results for the query\"\n",
      "[1] 268\n",
      "$category\n",
      "[1] \"Client error\"\n",
      "\n",
      "$reason\n",
      "[1] \"Not Found\"\n",
      "\n",
      "$message\n",
      "[1] \"Client error: (404) Not Found\"\n",
      "\n"
     ]
    },
    {
     "name": "stderr",
     "output_type": "stream",
     "text": [
      "No encoding supplied: defaulting to UTF-8.\n",
      "\n"
     ]
    },
    {
     "name": "stdout",
     "output_type": "stream",
     "text": [
      "[1] \"{\\\"detail\\\":\\\"The query didn't return any results\\\",\\\"status_code\\\":404}\"\n",
      "[1] \"no results for the query\"\n",
      "[1] 269\n",
      "$category\n",
      "[1] \"Client error\"\n",
      "\n",
      "$reason\n",
      "[1] \"Not Found\"\n",
      "\n",
      "$message\n",
      "[1] \"Client error: (404) Not Found\"\n",
      "\n"
     ]
    },
    {
     "name": "stderr",
     "output_type": "stream",
     "text": [
      "No encoding supplied: defaulting to UTF-8.\n",
      "\n"
     ]
    },
    {
     "name": "stdout",
     "output_type": "stream",
     "text": [
      "[1] \"{\\\"detail\\\":\\\"The query didn't return any results\\\",\\\"status_code\\\":404}\"\n",
      "[1] \"no results for the query\"\n",
      "[1] 270\n",
      "$category\n",
      "[1] \"Client error\"\n",
      "\n",
      "$reason\n",
      "[1] \"Not Found\"\n",
      "\n",
      "$message\n",
      "[1] \"Client error: (404) Not Found\"\n",
      "\n"
     ]
    },
    {
     "name": "stderr",
     "output_type": "stream",
     "text": [
      "No encoding supplied: defaulting to UTF-8.\n",
      "\n"
     ]
    },
    {
     "name": "stdout",
     "output_type": "stream",
     "text": [
      "[1] \"{\\\"detail\\\":\\\"The query didn't return any results\\\",\\\"status_code\\\":404}\"\n",
      "[1] \"no results for the query\"\n",
      "[1] 271\n",
      "$category\n",
      "[1] \"Client error\"\n",
      "\n",
      "$reason\n",
      "[1] \"Not Found\"\n",
      "\n",
      "$message\n",
      "[1] \"Client error: (404) Not Found\"\n",
      "\n"
     ]
    },
    {
     "name": "stderr",
     "output_type": "stream",
     "text": [
      "No encoding supplied: defaulting to UTF-8.\n",
      "\n"
     ]
    },
    {
     "name": "stdout",
     "output_type": "stream",
     "text": [
      "[1] \"{\\\"detail\\\":\\\"The query didn't return any results\\\",\\\"status_code\\\":404}\"\n",
      "[1] \"no results for the query\"\n",
      "[1] 272\n",
      "$category\n",
      "[1] \"Client error\"\n",
      "\n",
      "$reason\n",
      "[1] \"Not Found\"\n",
      "\n",
      "$message\n",
      "[1] \"Client error: (404) Not Found\"\n",
      "\n"
     ]
    },
    {
     "name": "stderr",
     "output_type": "stream",
     "text": [
      "No encoding supplied: defaulting to UTF-8.\n",
      "\n"
     ]
    },
    {
     "name": "stdout",
     "output_type": "stream",
     "text": [
      "[1] \"{\\\"detail\\\":\\\"The query didn't return any results\\\",\\\"status_code\\\":404}\"\n",
      "[1] \"no results for the query\"\n",
      "[1] 273\n",
      "[1] 274\n",
      "$category\n",
      "[1] \"Client error\"\n",
      "\n",
      "$reason\n",
      "[1] \"Not Found\"\n",
      "\n",
      "$message\n",
      "[1] \"Client error: (404) Not Found\"\n",
      "\n"
     ]
    },
    {
     "name": "stderr",
     "output_type": "stream",
     "text": [
      "No encoding supplied: defaulting to UTF-8.\n",
      "\n"
     ]
    },
    {
     "name": "stdout",
     "output_type": "stream",
     "text": [
      "[1] \"{\\\"detail\\\":\\\"The query didn't return any results\\\",\\\"status_code\\\":404}\"\n",
      "[1] \"no results for the query\"\n",
      "[1] 275\n",
      "$category\n",
      "[1] \"Client error\"\n",
      "\n",
      "$reason\n",
      "[1] \"Not Found\"\n",
      "\n",
      "$message\n",
      "[1] \"Client error: (404) Not Found\"\n",
      "\n"
     ]
    },
    {
     "name": "stderr",
     "output_type": "stream",
     "text": [
      "No encoding supplied: defaulting to UTF-8.\n",
      "\n"
     ]
    },
    {
     "name": "stdout",
     "output_type": "stream",
     "text": [
      "[1] \"{\\\"detail\\\":\\\"The query didn't return any results\\\",\\\"status_code\\\":404}\"\n",
      "[1] \"no results for the query\"\n",
      "[1] 276\n",
      "$category\n",
      "[1] \"Client error\"\n",
      "\n",
      "$reason\n",
      "[1] \"Not Found\"\n",
      "\n",
      "$message\n",
      "[1] \"Client error: (404) Not Found\"\n",
      "\n"
     ]
    },
    {
     "name": "stderr",
     "output_type": "stream",
     "text": [
      "No encoding supplied: defaulting to UTF-8.\n",
      "\n"
     ]
    },
    {
     "name": "stdout",
     "output_type": "stream",
     "text": [
      "[1] \"{\\\"detail\\\":\\\"The query didn't return any results\\\",\\\"status_code\\\":404}\"\n",
      "[1] \"no results for the query\"\n",
      "[1] 277\n",
      "[1] 278\n",
      "[1] 279\n",
      "[1] 280\n",
      "$category\n",
      "[1] \"Client error\"\n",
      "\n",
      "$reason\n",
      "[1] \"Not Found\"\n",
      "\n",
      "$message\n",
      "[1] \"Client error: (404) Not Found\"\n",
      "\n"
     ]
    },
    {
     "name": "stderr",
     "output_type": "stream",
     "text": [
      "No encoding supplied: defaulting to UTF-8.\n",
      "\n"
     ]
    },
    {
     "name": "stdout",
     "output_type": "stream",
     "text": [
      "[1] \"{\\\"detail\\\":\\\"The query didn't return any results\\\",\\\"status_code\\\":404}\"\n",
      "[1] \"no results for the query\"\n",
      "[1] 281\n",
      "$category\n",
      "[1] \"Client error\"\n",
      "\n",
      "$reason\n",
      "[1] \"Not Found\"\n",
      "\n",
      "$message\n",
      "[1] \"Client error: (404) Not Found\"\n",
      "\n"
     ]
    },
    {
     "name": "stderr",
     "output_type": "stream",
     "text": [
      "No encoding supplied: defaulting to UTF-8.\n",
      "\n"
     ]
    },
    {
     "name": "stdout",
     "output_type": "stream",
     "text": [
      "[1] \"{\\\"detail\\\":\\\"The query didn't return any results\\\",\\\"status_code\\\":404}\"\n",
      "[1] \"no results for the query\"\n",
      "[1] 282\n",
      "$category\n",
      "[1] \"Client error\"\n",
      "\n",
      "$reason\n",
      "[1] \"Not Found\"\n",
      "\n",
      "$message\n",
      "[1] \"Client error: (404) Not Found\"\n",
      "\n"
     ]
    },
    {
     "name": "stderr",
     "output_type": "stream",
     "text": [
      "No encoding supplied: defaulting to UTF-8.\n",
      "\n"
     ]
    },
    {
     "name": "stdout",
     "output_type": "stream",
     "text": [
      "[1] \"{\\\"detail\\\":\\\"The query didn't return any results\\\",\\\"status_code\\\":404}\"\n",
      "[1] \"no results for the query\"\n",
      "[1] 283\n",
      "$category\n",
      "[1] \"Client error\"\n",
      "\n",
      "$reason\n",
      "[1] \"Not Found\"\n",
      "\n",
      "$message\n",
      "[1] \"Client error: (404) Not Found\"\n",
      "\n"
     ]
    },
    {
     "name": "stderr",
     "output_type": "stream",
     "text": [
      "No encoding supplied: defaulting to UTF-8.\n",
      "\n"
     ]
    },
    {
     "name": "stdout",
     "output_type": "stream",
     "text": [
      "[1] \"{\\\"detail\\\":\\\"The query didn't return any results\\\",\\\"status_code\\\":404}\"\n",
      "[1] \"no results for the query\"\n",
      "[1] 284\n",
      "$category\n",
      "[1] \"Client error\"\n",
      "\n",
      "$reason\n",
      "[1] \"Not Found\"\n",
      "\n",
      "$message\n",
      "[1] \"Client error: (404) Not Found\"\n",
      "\n"
     ]
    },
    {
     "name": "stderr",
     "output_type": "stream",
     "text": [
      "No encoding supplied: defaulting to UTF-8.\n",
      "\n"
     ]
    },
    {
     "name": "stdout",
     "output_type": "stream",
     "text": [
      "[1] \"{\\\"detail\\\":\\\"The query didn't return any results\\\",\\\"status_code\\\":404}\"\n",
      "[1] \"no results for the query\"\n",
      "[1] 285\n",
      "[1] 286\n",
      "$category\n",
      "[1] \"Client error\"\n",
      "\n",
      "$reason\n",
      "[1] \"Not Found\"\n",
      "\n",
      "$message\n",
      "[1] \"Client error: (404) Not Found\"\n",
      "\n"
     ]
    },
    {
     "name": "stderr",
     "output_type": "stream",
     "text": [
      "No encoding supplied: defaulting to UTF-8.\n",
      "\n"
     ]
    },
    {
     "name": "stdout",
     "output_type": "stream",
     "text": [
      "[1] \"{\\\"detail\\\":\\\"The query didn't return any results\\\",\\\"status_code\\\":404}\"\n",
      "[1] \"no results for the query\"\n",
      "[1] 287\n",
      "$category\n",
      "[1] \"Client error\"\n",
      "\n",
      "$reason\n",
      "[1] \"Not Found\"\n",
      "\n",
      "$message\n",
      "[1] \"Client error: (404) Not Found\"\n",
      "\n"
     ]
    },
    {
     "name": "stderr",
     "output_type": "stream",
     "text": [
      "No encoding supplied: defaulting to UTF-8.\n",
      "\n"
     ]
    },
    {
     "name": "stdout",
     "output_type": "stream",
     "text": [
      "[1] \"{\\\"detail\\\":\\\"The query didn't return any results\\\",\\\"status_code\\\":404}\"\n",
      "[1] \"no results for the query\"\n",
      "[1] 288\n",
      "$category\n",
      "[1] \"Client error\"\n",
      "\n",
      "$reason\n",
      "[1] \"Not Found\"\n",
      "\n",
      "$message\n",
      "[1] \"Client error: (404) Not Found\"\n",
      "\n"
     ]
    },
    {
     "name": "stderr",
     "output_type": "stream",
     "text": [
      "No encoding supplied: defaulting to UTF-8.\n",
      "\n"
     ]
    },
    {
     "name": "stdout",
     "output_type": "stream",
     "text": [
      "[1] \"{\\\"detail\\\":\\\"The query didn't return any results\\\",\\\"status_code\\\":404}\"\n",
      "[1] \"no results for the query\"\n",
      "[1] 289\n",
      "$category\n",
      "[1] \"Client error\"\n",
      "\n",
      "$reason\n",
      "[1] \"Not Found\"\n",
      "\n",
      "$message\n",
      "[1] \"Client error: (404) Not Found\"\n",
      "\n"
     ]
    },
    {
     "name": "stderr",
     "output_type": "stream",
     "text": [
      "No encoding supplied: defaulting to UTF-8.\n",
      "\n"
     ]
    },
    {
     "name": "stdout",
     "output_type": "stream",
     "text": [
      "[1] \"{\\\"detail\\\":\\\"The query didn't return any results\\\",\\\"status_code\\\":404}\"\n",
      "[1] \"no results for the query\"\n",
      "[1] 290\n",
      "[1] 291\n",
      "$category\n",
      "[1] \"Client error\"\n",
      "\n",
      "$reason\n",
      "[1] \"Not Found\"\n",
      "\n",
      "$message\n",
      "[1] \"Client error: (404) Not Found\"\n",
      "\n"
     ]
    },
    {
     "name": "stderr",
     "output_type": "stream",
     "text": [
      "No encoding supplied: defaulting to UTF-8.\n",
      "\n"
     ]
    },
    {
     "name": "stdout",
     "output_type": "stream",
     "text": [
      "[1] \"{\\\"detail\\\":\\\"The query didn't return any results\\\",\\\"status_code\\\":404}\"\n",
      "[1] \"no results for the query\"\n",
      "[1] 292\n",
      "[1] 293\n",
      "[1] 294\n",
      "$category\n",
      "[1] \"Client error\"\n",
      "\n",
      "$reason\n",
      "[1] \"Not Found\"\n",
      "\n",
      "$message\n",
      "[1] \"Client error: (404) Not Found\"\n",
      "\n"
     ]
    },
    {
     "name": "stderr",
     "output_type": "stream",
     "text": [
      "No encoding supplied: defaulting to UTF-8.\n",
      "\n"
     ]
    },
    {
     "name": "stdout",
     "output_type": "stream",
     "text": [
      "[1] \"{\\\"detail\\\":\\\"The query didn't return any results\\\",\\\"status_code\\\":404}\"\n",
      "[1] \"no results for the query\"\n",
      "[1] 295\n",
      "[1] 296\n",
      "$category\n",
      "[1] \"Client error\"\n",
      "\n",
      "$reason\n",
      "[1] \"Not Found\"\n",
      "\n",
      "$message\n",
      "[1] \"Client error: (404) Not Found\"\n",
      "\n"
     ]
    },
    {
     "name": "stderr",
     "output_type": "stream",
     "text": [
      "No encoding supplied: defaulting to UTF-8.\n",
      "\n"
     ]
    },
    {
     "name": "stdout",
     "output_type": "stream",
     "text": [
      "[1] \"{\\\"detail\\\":\\\"The query didn't return any results\\\",\\\"status_code\\\":404}\"\n",
      "[1] \"no results for the query\"\n",
      "[1] 297\n",
      "$category\n",
      "[1] \"Client error\"\n",
      "\n",
      "$reason\n",
      "[1] \"Not Found\"\n",
      "\n",
      "$message\n",
      "[1] \"Client error: (404) Not Found\"\n",
      "\n"
     ]
    },
    {
     "name": "stderr",
     "output_type": "stream",
     "text": [
      "No encoding supplied: defaulting to UTF-8.\n",
      "\n"
     ]
    },
    {
     "name": "stdout",
     "output_type": "stream",
     "text": [
      "[1] \"{\\\"detail\\\":\\\"The query didn't return any results\\\",\\\"status_code\\\":404}\"\n",
      "[1] \"no results for the query\"\n",
      "[1] 298\n",
      "[1] 299\n",
      "$category\n",
      "[1] \"Client error\"\n",
      "\n",
      "$reason\n",
      "[1] \"Not Found\"\n",
      "\n",
      "$message\n",
      "[1] \"Client error: (404) Not Found\"\n",
      "\n"
     ]
    },
    {
     "name": "stderr",
     "output_type": "stream",
     "text": [
      "No encoding supplied: defaulting to UTF-8.\n",
      "\n"
     ]
    },
    {
     "name": "stdout",
     "output_type": "stream",
     "text": [
      "[1] \"{\\\"detail\\\":\\\"The query didn't return any results\\\",\\\"status_code\\\":404}\"\n",
      "[1] \"no results for the query\"\n",
      "[1] 300\n",
      "$category\n",
      "[1] \"Client error\"\n",
      "\n",
      "$reason\n",
      "[1] \"Not Found\"\n",
      "\n",
      "$message\n",
      "[1] \"Client error: (404) Not Found\"\n",
      "\n"
     ]
    },
    {
     "name": "stderr",
     "output_type": "stream",
     "text": [
      "No encoding supplied: defaulting to UTF-8.\n",
      "\n"
     ]
    },
    {
     "name": "stdout",
     "output_type": "stream",
     "text": [
      "[1] \"{\\\"detail\\\":\\\"The query didn't return any results\\\",\\\"status_code\\\":404}\"\n",
      "[1] \"no results for the query\"\n",
      "[1] 301\n",
      "$category\n",
      "[1] \"Client error\"\n",
      "\n",
      "$reason\n",
      "[1] \"Not Found\"\n",
      "\n",
      "$message\n",
      "[1] \"Client error: (404) Not Found\"\n",
      "\n"
     ]
    },
    {
     "name": "stderr",
     "output_type": "stream",
     "text": [
      "No encoding supplied: defaulting to UTF-8.\n",
      "\n"
     ]
    },
    {
     "name": "stdout",
     "output_type": "stream",
     "text": [
      "[1] \"{\\\"detail\\\":\\\"The query didn't return any results\\\",\\\"status_code\\\":404}\"\n",
      "[1] \"no results for the query\"\n",
      "[1] 302\n",
      "$category\n",
      "[1] \"Client error\"\n",
      "\n",
      "$reason\n",
      "[1] \"Not Found\"\n",
      "\n",
      "$message\n",
      "[1] \"Client error: (404) Not Found\"\n",
      "\n"
     ]
    },
    {
     "name": "stderr",
     "output_type": "stream",
     "text": [
      "No encoding supplied: defaulting to UTF-8.\n",
      "\n"
     ]
    },
    {
     "name": "stdout",
     "output_type": "stream",
     "text": [
      "[1] \"{\\\"detail\\\":\\\"The query didn't return any results\\\",\\\"status_code\\\":404}\"\n",
      "[1] \"no results for the query\"\n",
      "[1] 303\n",
      "[1] 304\n",
      "$category\n",
      "[1] \"Client error\"\n",
      "\n",
      "$reason\n",
      "[1] \"Not Found\"\n",
      "\n",
      "$message\n",
      "[1] \"Client error: (404) Not Found\"\n",
      "\n"
     ]
    },
    {
     "name": "stderr",
     "output_type": "stream",
     "text": [
      "No encoding supplied: defaulting to UTF-8.\n",
      "\n"
     ]
    },
    {
     "name": "stdout",
     "output_type": "stream",
     "text": [
      "[1] \"{\\\"detail\\\":\\\"The query didn't return any results\\\",\\\"status_code\\\":404}\"\n",
      "[1] \"no results for the query\"\n",
      "[1] 305\n",
      "[1] 306\n",
      "[1] 307\n",
      "$category\n",
      "[1] \"Client error\"\n",
      "\n",
      "$reason\n",
      "[1] \"Not Found\"\n",
      "\n",
      "$message\n",
      "[1] \"Client error: (404) Not Found\"\n",
      "\n"
     ]
    },
    {
     "name": "stderr",
     "output_type": "stream",
     "text": [
      "No encoding supplied: defaulting to UTF-8.\n",
      "\n"
     ]
    },
    {
     "name": "stdout",
     "output_type": "stream",
     "text": [
      "[1] \"{\\\"detail\\\":\\\"The query didn't return any results\\\",\\\"status_code\\\":404}\"\n",
      "[1] \"no results for the query\"\n",
      "[1] 308\n",
      "$category\n",
      "[1] \"Client error\"\n",
      "\n",
      "$reason\n",
      "[1] \"Not Found\"\n",
      "\n",
      "$message\n",
      "[1] \"Client error: (404) Not Found\"\n",
      "\n"
     ]
    },
    {
     "name": "stderr",
     "output_type": "stream",
     "text": [
      "No encoding supplied: defaulting to UTF-8.\n",
      "\n"
     ]
    },
    {
     "name": "stdout",
     "output_type": "stream",
     "text": [
      "[1] \"{\\\"detail\\\":\\\"The query didn't return any results\\\",\\\"status_code\\\":404}\"\n",
      "[1] \"no results for the query\"\n",
      "[1] 309\n",
      "$category\n",
      "[1] \"Client error\"\n",
      "\n",
      "$reason\n",
      "[1] \"Not Found\"\n",
      "\n",
      "$message\n",
      "[1] \"Client error: (404) Not Found\"\n",
      "\n"
     ]
    },
    {
     "name": "stderr",
     "output_type": "stream",
     "text": [
      "No encoding supplied: defaulting to UTF-8.\n",
      "\n"
     ]
    },
    {
     "name": "stdout",
     "output_type": "stream",
     "text": [
      "[1] \"{\\\"detail\\\":\\\"The query didn't return any results\\\",\\\"status_code\\\":404}\"\n",
      "[1] \"no results for the query\"\n",
      "[1] 310\n",
      "[1] 311\n",
      "$category\n",
      "[1] \"Client error\"\n",
      "\n",
      "$reason\n",
      "[1] \"Not Found\"\n",
      "\n",
      "$message\n",
      "[1] \"Client error: (404) Not Found\"\n",
      "\n"
     ]
    },
    {
     "name": "stderr",
     "output_type": "stream",
     "text": [
      "No encoding supplied: defaulting to UTF-8.\n",
      "\n"
     ]
    },
    {
     "name": "stdout",
     "output_type": "stream",
     "text": [
      "[1] \"{\\\"detail\\\":\\\"The query didn't return any results\\\",\\\"status_code\\\":404}\"\n",
      "[1] \"no results for the query\"\n",
      "[1] 312\n",
      "[1] 313\n",
      "[1] 314\n",
      "$category\n",
      "[1] \"Client error\"\n",
      "\n",
      "$reason\n",
      "[1] \"Not Found\"\n",
      "\n",
      "$message\n",
      "[1] \"Client error: (404) Not Found\"\n",
      "\n"
     ]
    },
    {
     "name": "stderr",
     "output_type": "stream",
     "text": [
      "No encoding supplied: defaulting to UTF-8.\n",
      "\n"
     ]
    },
    {
     "name": "stdout",
     "output_type": "stream",
     "text": [
      "[1] \"{\\\"detail\\\":\\\"The query didn't return any results\\\",\\\"status_code\\\":404}\"\n",
      "[1] \"no results for the query\"\n",
      "[1] 315\n",
      "$category\n",
      "[1] \"Client error\"\n",
      "\n",
      "$reason\n",
      "[1] \"Not Found\"\n",
      "\n",
      "$message\n",
      "[1] \"Client error: (404) Not Found\"\n",
      "\n"
     ]
    },
    {
     "name": "stderr",
     "output_type": "stream",
     "text": [
      "No encoding supplied: defaulting to UTF-8.\n",
      "\n"
     ]
    },
    {
     "name": "stdout",
     "output_type": "stream",
     "text": [
      "[1] \"{\\\"detail\\\":\\\"The query didn't return any results\\\",\\\"status_code\\\":404}\"\n",
      "[1] \"no results for the query\"\n",
      "[1] 316\n",
      "$category\n",
      "[1] \"Client error\"\n",
      "\n",
      "$reason\n",
      "[1] \"Not Found\"\n",
      "\n",
      "$message\n",
      "[1] \"Client error: (404) Not Found\"\n",
      "\n"
     ]
    },
    {
     "name": "stderr",
     "output_type": "stream",
     "text": [
      "No encoding supplied: defaulting to UTF-8.\n",
      "\n"
     ]
    },
    {
     "name": "stdout",
     "output_type": "stream",
     "text": [
      "[1] \"{\\\"detail\\\":\\\"The query didn't return any results\\\",\\\"status_code\\\":404}\"\n",
      "[1] \"no results for the query\"\n",
      "[1] 317\n",
      "$category\n",
      "[1] \"Client error\"\n",
      "\n",
      "$reason\n",
      "[1] \"Not Found\"\n",
      "\n",
      "$message\n",
      "[1] \"Client error: (404) Not Found\"\n",
      "\n"
     ]
    },
    {
     "name": "stderr",
     "output_type": "stream",
     "text": [
      "No encoding supplied: defaulting to UTF-8.\n",
      "\n"
     ]
    },
    {
     "name": "stdout",
     "output_type": "stream",
     "text": [
      "[1] \"{\\\"detail\\\":\\\"The query didn't return any results\\\",\\\"status_code\\\":404}\"\n",
      "[1] \"no results for the query\"\n",
      "[1] 318\n",
      "[1] 319\n",
      "$category\n",
      "[1] \"Client error\"\n",
      "\n",
      "$reason\n",
      "[1] \"Not Found\"\n",
      "\n",
      "$message\n",
      "[1] \"Client error: (404) Not Found\"\n",
      "\n"
     ]
    },
    {
     "name": "stderr",
     "output_type": "stream",
     "text": [
      "No encoding supplied: defaulting to UTF-8.\n",
      "\n"
     ]
    },
    {
     "name": "stdout",
     "output_type": "stream",
     "text": [
      "[1] \"{\\\"detail\\\":\\\"The query didn't return any results\\\",\\\"status_code\\\":404}\"\n",
      "[1] \"no results for the query\"\n",
      "[1] 320\n",
      "$category\n",
      "[1] \"Client error\"\n",
      "\n",
      "$reason\n",
      "[1] \"Not Found\"\n",
      "\n",
      "$message\n",
      "[1] \"Client error: (404) Not Found\"\n",
      "\n"
     ]
    },
    {
     "name": "stderr",
     "output_type": "stream",
     "text": [
      "No encoding supplied: defaulting to UTF-8.\n",
      "\n"
     ]
    },
    {
     "name": "stdout",
     "output_type": "stream",
     "text": [
      "[1] \"{\\\"detail\\\":\\\"The query didn't return any results\\\",\\\"status_code\\\":404}\"\n",
      "[1] \"no results for the query\"\n",
      "[1] 321\n",
      "[1] 322\n",
      "[1] 323\n",
      "[1] 324\n",
      "$category\n",
      "[1] \"Client error\"\n",
      "\n",
      "$reason\n",
      "[1] \"Not Found\"\n",
      "\n",
      "$message\n",
      "[1] \"Client error: (404) Not Found\"\n",
      "\n"
     ]
    },
    {
     "name": "stderr",
     "output_type": "stream",
     "text": [
      "No encoding supplied: defaulting to UTF-8.\n",
      "\n"
     ]
    },
    {
     "name": "stdout",
     "output_type": "stream",
     "text": [
      "[1] \"{\\\"detail\\\":\\\"The query didn't return any results\\\",\\\"status_code\\\":404}\"\n",
      "[1] \"no results for the query\"\n",
      "[1] 325\n",
      "$category\n",
      "[1] \"Client error\"\n",
      "\n",
      "$reason\n",
      "[1] \"Not Found\"\n",
      "\n",
      "$message\n",
      "[1] \"Client error: (404) Not Found\"\n",
      "\n"
     ]
    },
    {
     "name": "stderr",
     "output_type": "stream",
     "text": [
      "No encoding supplied: defaulting to UTF-8.\n",
      "\n"
     ]
    },
    {
     "name": "stdout",
     "output_type": "stream",
     "text": [
      "[1] \"{\\\"detail\\\":\\\"The query didn't return any results\\\",\\\"status_code\\\":404}\"\n",
      "[1] \"no results for the query\"\n",
      "[1] 326\n",
      "[1] 327\n",
      "[1] 328\n",
      "$category\n",
      "[1] \"Client error\"\n",
      "\n",
      "$reason\n",
      "[1] \"Not Found\"\n",
      "\n",
      "$message\n",
      "[1] \"Client error: (404) Not Found\"\n",
      "\n"
     ]
    },
    {
     "name": "stderr",
     "output_type": "stream",
     "text": [
      "No encoding supplied: defaulting to UTF-8.\n",
      "\n"
     ]
    },
    {
     "name": "stdout",
     "output_type": "stream",
     "text": [
      "[1] \"{\\\"detail\\\":\\\"The query didn't return any results\\\",\\\"status_code\\\":404}\"\n",
      "[1] \"no results for the query\"\n",
      "[1] 329\n",
      "[1] 330\n",
      "[1] 331\n",
      "[1] 332\n",
      "[1] 333\n",
      "$category\n",
      "[1] \"Client error\"\n",
      "\n",
      "$reason\n",
      "[1] \"Not Found\"\n",
      "\n",
      "$message\n",
      "[1] \"Client error: (404) Not Found\"\n",
      "\n"
     ]
    },
    {
     "name": "stderr",
     "output_type": "stream",
     "text": [
      "No encoding supplied: defaulting to UTF-8.\n",
      "\n"
     ]
    },
    {
     "name": "stdout",
     "output_type": "stream",
     "text": [
      "[1] \"{\\\"detail\\\":\\\"The query didn't return any results\\\",\\\"status_code\\\":404}\"\n",
      "[1] \"no results for the query\"\n",
      "[1] 334\n",
      "[1] 335\n",
      "[1] 336\n",
      "$category\n",
      "[1] \"Client error\"\n",
      "\n",
      "$reason\n",
      "[1] \"Not Found\"\n",
      "\n",
      "$message\n",
      "[1] \"Client error: (404) Not Found\"\n",
      "\n"
     ]
    },
    {
     "name": "stderr",
     "output_type": "stream",
     "text": [
      "No encoding supplied: defaulting to UTF-8.\n",
      "\n"
     ]
    },
    {
     "name": "stdout",
     "output_type": "stream",
     "text": [
      "[1] \"{\\\"detail\\\":\\\"The query didn't return any results\\\",\\\"status_code\\\":404}\"\n",
      "[1] \"no results for the query\"\n",
      "[1] 337\n",
      "[1] 338\n",
      "$category\n",
      "[1] \"Client error\"\n",
      "\n",
      "$reason\n",
      "[1] \"Not Found\"\n",
      "\n",
      "$message\n",
      "[1] \"Client error: (404) Not Found\"\n",
      "\n"
     ]
    },
    {
     "name": "stderr",
     "output_type": "stream",
     "text": [
      "No encoding supplied: defaulting to UTF-8.\n",
      "\n"
     ]
    },
    {
     "name": "stdout",
     "output_type": "stream",
     "text": [
      "[1] \"{\\\"detail\\\":\\\"The query didn't return any results\\\",\\\"status_code\\\":404}\"\n",
      "[1] \"no results for the query\"\n",
      "[1] 339\n",
      "$category\n",
      "[1] \"Client error\"\n",
      "\n",
      "$reason\n",
      "[1] \"Not Found\"\n",
      "\n",
      "$message\n",
      "[1] \"Client error: (404) Not Found\"\n",
      "\n"
     ]
    },
    {
     "name": "stderr",
     "output_type": "stream",
     "text": [
      "No encoding supplied: defaulting to UTF-8.\n",
      "\n"
     ]
    },
    {
     "name": "stdout",
     "output_type": "stream",
     "text": [
      "[1] \"{\\\"detail\\\":\\\"The query didn't return any results\\\",\\\"status_code\\\":404}\"\n",
      "[1] \"no results for the query\"\n",
      "[1] 340\n",
      "[1] 341\n",
      "$category\n",
      "[1] \"Client error\"\n",
      "\n",
      "$reason\n",
      "[1] \"Not Found\"\n",
      "\n",
      "$message\n",
      "[1] \"Client error: (404) Not Found\"\n",
      "\n"
     ]
    },
    {
     "name": "stderr",
     "output_type": "stream",
     "text": [
      "No encoding supplied: defaulting to UTF-8.\n",
      "\n"
     ]
    },
    {
     "name": "stdout",
     "output_type": "stream",
     "text": [
      "[1] \"{\\\"detail\\\":\\\"The query didn't return any results\\\",\\\"status_code\\\":404}\"\n",
      "[1] \"no results for the query\"\n",
      "[1] 342\n",
      "[1] 343\n",
      "[1] 344\n",
      "[1] 345\n",
      "$category\n",
      "[1] \"Client error\"\n",
      "\n",
      "$reason\n",
      "[1] \"Not Found\"\n",
      "\n",
      "$message\n",
      "[1] \"Client error: (404) Not Found\"\n",
      "\n"
     ]
    },
    {
     "name": "stderr",
     "output_type": "stream",
     "text": [
      "No encoding supplied: defaulting to UTF-8.\n",
      "\n"
     ]
    },
    {
     "name": "stdout",
     "output_type": "stream",
     "text": [
      "[1] \"{\\\"detail\\\":\\\"The query didn't return any results\\\",\\\"status_code\\\":404}\"\n",
      "[1] \"no results for the query\"\n",
      "[1] 346\n",
      "$category\n",
      "[1] \"Client error\"\n",
      "\n",
      "$reason\n",
      "[1] \"Not Found\"\n",
      "\n",
      "$message\n",
      "[1] \"Client error: (404) Not Found\"\n",
      "\n"
     ]
    },
    {
     "name": "stderr",
     "output_type": "stream",
     "text": [
      "No encoding supplied: defaulting to UTF-8.\n",
      "\n"
     ]
    },
    {
     "name": "stdout",
     "output_type": "stream",
     "text": [
      "[1] \"{\\\"detail\\\":\\\"The query didn't return any results\\\",\\\"status_code\\\":404}\"\n",
      "[1] \"no results for the query\"\n",
      "[1] 347\n",
      "$category\n",
      "[1] \"Client error\"\n",
      "\n",
      "$reason\n",
      "[1] \"Not Found\"\n",
      "\n",
      "$message\n",
      "[1] \"Client error: (404) Not Found\"\n",
      "\n"
     ]
    },
    {
     "name": "stderr",
     "output_type": "stream",
     "text": [
      "No encoding supplied: defaulting to UTF-8.\n",
      "\n"
     ]
    },
    {
     "name": "stdout",
     "output_type": "stream",
     "text": [
      "[1] \"{\\\"detail\\\":\\\"The query didn't return any results\\\",\\\"status_code\\\":404}\"\n",
      "[1] \"no results for the query\"\n",
      "[1] 348\n",
      "$category\n",
      "[1] \"Client error\"\n",
      "\n",
      "$reason\n",
      "[1] \"Not Found\"\n",
      "\n",
      "$message\n",
      "[1] \"Client error: (404) Not Found\"\n",
      "\n"
     ]
    },
    {
     "name": "stderr",
     "output_type": "stream",
     "text": [
      "No encoding supplied: defaulting to UTF-8.\n",
      "\n"
     ]
    },
    {
     "name": "stdout",
     "output_type": "stream",
     "text": [
      "[1] \"{\\\"detail\\\":\\\"The query didn't return any results\\\",\\\"status_code\\\":404}\"\n",
      "[1] \"no results for the query\"\n",
      "[1] 349\n",
      "$category\n",
      "[1] \"Client error\"\n",
      "\n",
      "$reason\n",
      "[1] \"Not Found\"\n",
      "\n",
      "$message\n",
      "[1] \"Client error: (404) Not Found\"\n",
      "\n"
     ]
    },
    {
     "name": "stderr",
     "output_type": "stream",
     "text": [
      "No encoding supplied: defaulting to UTF-8.\n",
      "\n"
     ]
    },
    {
     "name": "stdout",
     "output_type": "stream",
     "text": [
      "[1] \"{\\\"detail\\\":\\\"The query didn't return any results\\\",\\\"status_code\\\":404}\"\n",
      "[1] \"no results for the query\"\n",
      "[1] 350\n",
      "$category\n",
      "[1] \"Client error\"\n",
      "\n",
      "$reason\n",
      "[1] \"Not Found\"\n",
      "\n",
      "$message\n",
      "[1] \"Client error: (404) Not Found\"\n",
      "\n"
     ]
    },
    {
     "name": "stderr",
     "output_type": "stream",
     "text": [
      "No encoding supplied: defaulting to UTF-8.\n",
      "\n"
     ]
    },
    {
     "name": "stdout",
     "output_type": "stream",
     "text": [
      "[1] \"{\\\"detail\\\":\\\"The query didn't return any results\\\",\\\"status_code\\\":404}\"\n",
      "[1] \"no results for the query\"\n",
      "[1] 351\n",
      "$category\n",
      "[1] \"Client error\"\n",
      "\n",
      "$reason\n",
      "[1] \"Not Found\"\n",
      "\n",
      "$message\n",
      "[1] \"Client error: (404) Not Found\"\n",
      "\n"
     ]
    },
    {
     "name": "stderr",
     "output_type": "stream",
     "text": [
      "No encoding supplied: defaulting to UTF-8.\n",
      "\n"
     ]
    },
    {
     "name": "stdout",
     "output_type": "stream",
     "text": [
      "[1] \"{\\\"detail\\\":\\\"The query didn't return any results\\\",\\\"status_code\\\":404}\"\n",
      "[1] \"no results for the query\"\n",
      "[1] 352\n",
      "[1] 353\n",
      "$category\n",
      "[1] \"Client error\"\n",
      "\n",
      "$reason\n",
      "[1] \"Not Found\"\n",
      "\n",
      "$message\n",
      "[1] \"Client error: (404) Not Found\"\n",
      "\n"
     ]
    },
    {
     "name": "stderr",
     "output_type": "stream",
     "text": [
      "No encoding supplied: defaulting to UTF-8.\n",
      "\n"
     ]
    },
    {
     "name": "stdout",
     "output_type": "stream",
     "text": [
      "[1] \"{\\\"detail\\\":\\\"The query didn't return any results\\\",\\\"status_code\\\":404}\"\n",
      "[1] \"no results for the query\"\n",
      "[1] 354\n",
      "$category\n",
      "[1] \"Client error\"\n",
      "\n",
      "$reason\n",
      "[1] \"Not Found\"\n",
      "\n",
      "$message\n",
      "[1] \"Client error: (404) Not Found\"\n",
      "\n"
     ]
    },
    {
     "name": "stderr",
     "output_type": "stream",
     "text": [
      "No encoding supplied: defaulting to UTF-8.\n",
      "\n"
     ]
    },
    {
     "name": "stdout",
     "output_type": "stream",
     "text": [
      "[1] \"{\\\"detail\\\":\\\"The query didn't return any results\\\",\\\"status_code\\\":404}\"\n",
      "[1] \"no results for the query\"\n",
      "[1] 355\n",
      "[1] 356\n",
      "$category\n",
      "[1] \"Client error\"\n",
      "\n",
      "$reason\n",
      "[1] \"Not Found\"\n",
      "\n",
      "$message\n",
      "[1] \"Client error: (404) Not Found\"\n",
      "\n"
     ]
    },
    {
     "name": "stderr",
     "output_type": "stream",
     "text": [
      "No encoding supplied: defaulting to UTF-8.\n",
      "\n"
     ]
    },
    {
     "name": "stdout",
     "output_type": "stream",
     "text": [
      "[1] \"{\\\"detail\\\":\\\"The query didn't return any results\\\",\\\"status_code\\\":404}\"\n",
      "[1] \"no results for the query\"\n",
      "[1] 357\n",
      "$category\n",
      "[1] \"Client error\"\n",
      "\n",
      "$reason\n",
      "[1] \"Not Found\"\n",
      "\n",
      "$message\n",
      "[1] \"Client error: (404) Not Found\"\n",
      "\n"
     ]
    },
    {
     "name": "stderr",
     "output_type": "stream",
     "text": [
      "No encoding supplied: defaulting to UTF-8.\n",
      "\n"
     ]
    },
    {
     "name": "stdout",
     "output_type": "stream",
     "text": [
      "[1] \"{\\\"detail\\\":\\\"The query didn't return any results\\\",\\\"status_code\\\":404}\"\n",
      "[1] \"no results for the query\"\n",
      "[1] 358\n",
      "$category\n",
      "[1] \"Client error\"\n",
      "\n",
      "$reason\n",
      "[1] \"Not Found\"\n",
      "\n",
      "$message\n",
      "[1] \"Client error: (404) Not Found\"\n",
      "\n"
     ]
    },
    {
     "name": "stderr",
     "output_type": "stream",
     "text": [
      "No encoding supplied: defaulting to UTF-8.\n",
      "\n"
     ]
    },
    {
     "name": "stdout",
     "output_type": "stream",
     "text": [
      "[1] \"{\\\"detail\\\":\\\"The query didn't return any results\\\",\\\"status_code\\\":404}\"\n",
      "[1] \"no results for the query\"\n",
      "[1] 359\n",
      "[1] 360\n",
      "[1] 361\n",
      "[1] 362\n",
      "[1] 363\n",
      "$category\n",
      "[1] \"Client error\"\n",
      "\n",
      "$reason\n",
      "[1] \"Not Found\"\n",
      "\n",
      "$message\n",
      "[1] \"Client error: (404) Not Found\"\n",
      "\n"
     ]
    },
    {
     "name": "stderr",
     "output_type": "stream",
     "text": [
      "No encoding supplied: defaulting to UTF-8.\n",
      "\n"
     ]
    },
    {
     "name": "stdout",
     "output_type": "stream",
     "text": [
      "[1] \"{\\\"detail\\\":\\\"The query didn't return any results\\\",\\\"status_code\\\":404}\"\n",
      "[1] \"no results for the query\"\n",
      "[1] 364\n",
      "[1] 365\n",
      "[1] 366\n",
      "$category\n",
      "[1] \"Client error\"\n",
      "\n",
      "$reason\n",
      "[1] \"Not Found\"\n",
      "\n",
      "$message\n",
      "[1] \"Client error: (404) Not Found\"\n",
      "\n"
     ]
    },
    {
     "name": "stderr",
     "output_type": "stream",
     "text": [
      "No encoding supplied: defaulting to UTF-8.\n",
      "\n"
     ]
    },
    {
     "name": "stdout",
     "output_type": "stream",
     "text": [
      "[1] \"{\\\"detail\\\":\\\"The query didn't return any results\\\",\\\"status_code\\\":404}\"\n",
      "[1] \"no results for the query\"\n",
      "[1] 367\n",
      "[1] 368\n",
      "[1] 369\n",
      "$category\n",
      "[1] \"Client error\"\n",
      "\n",
      "$reason\n",
      "[1] \"Not Found\"\n",
      "\n",
      "$message\n",
      "[1] \"Client error: (404) Not Found\"\n",
      "\n"
     ]
    },
    {
     "name": "stderr",
     "output_type": "stream",
     "text": [
      "No encoding supplied: defaulting to UTF-8.\n",
      "\n"
     ]
    },
    {
     "name": "stdout",
     "output_type": "stream",
     "text": [
      "[1] \"{\\\"detail\\\":\\\"The query didn't return any results\\\",\\\"status_code\\\":404}\"\n",
      "[1] \"no results for the query\"\n",
      "[1] 370\n",
      "[1] 371\n",
      "[1] 372\n",
      "[1] 373\n",
      "$category\n",
      "[1] \"Client error\"\n",
      "\n",
      "$reason\n",
      "[1] \"Not Found\"\n",
      "\n",
      "$message\n",
      "[1] \"Client error: (404) Not Found\"\n",
      "\n"
     ]
    },
    {
     "name": "stderr",
     "output_type": "stream",
     "text": [
      "No encoding supplied: defaulting to UTF-8.\n",
      "\n"
     ]
    },
    {
     "name": "stdout",
     "output_type": "stream",
     "text": [
      "[1] \"{\\\"detail\\\":\\\"The query didn't return any results\\\",\\\"status_code\\\":404}\"\n",
      "[1] \"no results for the query\"\n",
      "[1] 374\n",
      "$category\n",
      "[1] \"Client error\"\n",
      "\n",
      "$reason\n",
      "[1] \"Not Found\"\n",
      "\n",
      "$message\n",
      "[1] \"Client error: (404) Not Found\"\n",
      "\n"
     ]
    },
    {
     "name": "stderr",
     "output_type": "stream",
     "text": [
      "No encoding supplied: defaulting to UTF-8.\n",
      "\n"
     ]
    },
    {
     "name": "stdout",
     "output_type": "stream",
     "text": [
      "[1] \"{\\\"detail\\\":\\\"The query didn't return any results\\\",\\\"status_code\\\":404}\"\n",
      "[1] \"no results for the query\"\n",
      "[1] 375\n",
      "[1] 376\n",
      "$category\n",
      "[1] \"Client error\"\n",
      "\n",
      "$reason\n",
      "[1] \"Not Found\"\n",
      "\n",
      "$message\n",
      "[1] \"Client error: (404) Not Found\"\n",
      "\n"
     ]
    },
    {
     "name": "stderr",
     "output_type": "stream",
     "text": [
      "No encoding supplied: defaulting to UTF-8.\n",
      "\n"
     ]
    },
    {
     "name": "stdout",
     "output_type": "stream",
     "text": [
      "[1] \"{\\\"detail\\\":\\\"The query didn't return any results\\\",\\\"status_code\\\":404}\"\n",
      "[1] \"no results for the query\"\n",
      "[1] 377\n",
      "$category\n",
      "[1] \"Client error\"\n",
      "\n",
      "$reason\n",
      "[1] \"Not Found\"\n",
      "\n",
      "$message\n",
      "[1] \"Client error: (404) Not Found\"\n",
      "\n"
     ]
    },
    {
     "name": "stderr",
     "output_type": "stream",
     "text": [
      "No encoding supplied: defaulting to UTF-8.\n",
      "\n"
     ]
    },
    {
     "name": "stdout",
     "output_type": "stream",
     "text": [
      "[1] \"{\\\"detail\\\":\\\"The query didn't return any results\\\",\\\"status_code\\\":404}\"\n",
      "[1] \"no results for the query\"\n",
      "[1] 378\n",
      "$category\n",
      "[1] \"Client error\"\n",
      "\n",
      "$reason\n",
      "[1] \"Not Found\"\n",
      "\n",
      "$message\n",
      "[1] \"Client error: (404) Not Found\"\n",
      "\n"
     ]
    },
    {
     "name": "stderr",
     "output_type": "stream",
     "text": [
      "No encoding supplied: defaulting to UTF-8.\n",
      "\n"
     ]
    },
    {
     "name": "stdout",
     "output_type": "stream",
     "text": [
      "[1] \"{\\\"detail\\\":\\\"The query didn't return any results\\\",\\\"status_code\\\":404}\"\n",
      "[1] \"no results for the query\"\n",
      "[1] 379\n",
      "$category\n",
      "[1] \"Client error\"\n",
      "\n",
      "$reason\n",
      "[1] \"Not Found\"\n",
      "\n",
      "$message\n",
      "[1] \"Client error: (404) Not Found\"\n",
      "\n"
     ]
    },
    {
     "name": "stderr",
     "output_type": "stream",
     "text": [
      "No encoding supplied: defaulting to UTF-8.\n",
      "\n"
     ]
    },
    {
     "name": "stdout",
     "output_type": "stream",
     "text": [
      "[1] \"{\\\"detail\\\":\\\"The query didn't return any results\\\",\\\"status_code\\\":404}\"\n",
      "[1] \"no results for the query\"\n",
      "[1] 380\n",
      "$category\n",
      "[1] \"Client error\"\n",
      "\n",
      "$reason\n",
      "[1] \"Not Found\"\n",
      "\n",
      "$message\n",
      "[1] \"Client error: (404) Not Found\"\n",
      "\n"
     ]
    },
    {
     "name": "stderr",
     "output_type": "stream",
     "text": [
      "No encoding supplied: defaulting to UTF-8.\n",
      "\n"
     ]
    },
    {
     "name": "stdout",
     "output_type": "stream",
     "text": [
      "[1] \"{\\\"detail\\\":\\\"The query didn't return any results\\\",\\\"status_code\\\":404}\"\n",
      "[1] \"no results for the query\"\n",
      "[1] 381\n",
      "[1] 382\n",
      "[1] 383\n",
      "$category\n",
      "[1] \"Client error\"\n",
      "\n",
      "$reason\n",
      "[1] \"Not Found\"\n",
      "\n",
      "$message\n",
      "[1] \"Client error: (404) Not Found\"\n",
      "\n"
     ]
    },
    {
     "name": "stderr",
     "output_type": "stream",
     "text": [
      "No encoding supplied: defaulting to UTF-8.\n",
      "\n"
     ]
    },
    {
     "name": "stdout",
     "output_type": "stream",
     "text": [
      "[1] \"{\\\"detail\\\":\\\"The query didn't return any results\\\",\\\"status_code\\\":404}\"\n",
      "[1] \"no results for the query\"\n",
      "[1] 384\n",
      "[1] 385\n",
      "$category\n",
      "[1] \"Client error\"\n",
      "\n",
      "$reason\n",
      "[1] \"Not Found\"\n",
      "\n",
      "$message\n",
      "[1] \"Client error: (404) Not Found\"\n",
      "\n"
     ]
    },
    {
     "name": "stderr",
     "output_type": "stream",
     "text": [
      "No encoding supplied: defaulting to UTF-8.\n",
      "\n"
     ]
    },
    {
     "name": "stdout",
     "output_type": "stream",
     "text": [
      "[1] \"{\\\"detail\\\":\\\"The query didn't return any results\\\",\\\"status_code\\\":404}\"\n",
      "[1] \"no results for the query\"\n",
      "[1] 386\n",
      "$category\n",
      "[1] \"Client error\"\n",
      "\n",
      "$reason\n",
      "[1] \"Not Found\"\n",
      "\n",
      "$message\n",
      "[1] \"Client error: (404) Not Found\"\n",
      "\n"
     ]
    },
    {
     "name": "stderr",
     "output_type": "stream",
     "text": [
      "No encoding supplied: defaulting to UTF-8.\n",
      "\n"
     ]
    },
    {
     "name": "stdout",
     "output_type": "stream",
     "text": [
      "[1] \"{\\\"detail\\\":\\\"The query didn't return any results\\\",\\\"status_code\\\":404}\"\n",
      "[1] \"no results for the query\"\n",
      "[1] 387\n",
      "$category\n",
      "[1] \"Client error\"\n",
      "\n",
      "$reason\n",
      "[1] \"Not Found\"\n",
      "\n",
      "$message\n",
      "[1] \"Client error: (404) Not Found\"\n",
      "\n"
     ]
    },
    {
     "name": "stderr",
     "output_type": "stream",
     "text": [
      "No encoding supplied: defaulting to UTF-8.\n",
      "\n"
     ]
    },
    {
     "name": "stdout",
     "output_type": "stream",
     "text": [
      "[1] \"{\\\"detail\\\":\\\"The query didn't return any results\\\",\\\"status_code\\\":404}\"\n",
      "[1] \"no results for the query\"\n",
      "[1] 388\n",
      "$category\n",
      "[1] \"Client error\"\n",
      "\n",
      "$reason\n",
      "[1] \"Not Found\"\n",
      "\n",
      "$message\n",
      "[1] \"Client error: (404) Not Found\"\n",
      "\n"
     ]
    },
    {
     "name": "stderr",
     "output_type": "stream",
     "text": [
      "No encoding supplied: defaulting to UTF-8.\n",
      "\n"
     ]
    },
    {
     "name": "stdout",
     "output_type": "stream",
     "text": [
      "[1] \"{\\\"detail\\\":\\\"The query didn't return any results\\\",\\\"status_code\\\":404}\"\n",
      "[1] \"no results for the query\"\n",
      "[1] 389\n",
      "$category\n",
      "[1] \"Client error\"\n",
      "\n",
      "$reason\n",
      "[1] \"Not Found\"\n",
      "\n",
      "$message\n",
      "[1] \"Client error: (404) Not Found\"\n",
      "\n"
     ]
    },
    {
     "name": "stderr",
     "output_type": "stream",
     "text": [
      "No encoding supplied: defaulting to UTF-8.\n",
      "\n"
     ]
    },
    {
     "name": "stdout",
     "output_type": "stream",
     "text": [
      "[1] \"{\\\"detail\\\":\\\"The query didn't return any results\\\",\\\"status_code\\\":404}\"\n",
      "[1] \"no results for the query\"\n",
      "[1] 390\n",
      "$category\n",
      "[1] \"Client error\"\n",
      "\n",
      "$reason\n",
      "[1] \"Not Found\"\n",
      "\n",
      "$message\n",
      "[1] \"Client error: (404) Not Found\"\n",
      "\n"
     ]
    },
    {
     "name": "stderr",
     "output_type": "stream",
     "text": [
      "No encoding supplied: defaulting to UTF-8.\n",
      "\n"
     ]
    },
    {
     "name": "stdout",
     "output_type": "stream",
     "text": [
      "[1] \"{\\\"detail\\\":\\\"The query didn't return any results\\\",\\\"status_code\\\":404}\"\n",
      "[1] \"no results for the query\"\n",
      "[1] 391\n",
      "[1] 392\n",
      "[1] 393\n",
      "[1] 394\n",
      "[1] 395\n",
      "[1] 396\n",
      "$category\n",
      "[1] \"Client error\"\n",
      "\n",
      "$reason\n",
      "[1] \"Not Found\"\n",
      "\n",
      "$message\n",
      "[1] \"Client error: (404) Not Found\"\n",
      "\n"
     ]
    },
    {
     "name": "stderr",
     "output_type": "stream",
     "text": [
      "No encoding supplied: defaulting to UTF-8.\n",
      "\n"
     ]
    },
    {
     "name": "stdout",
     "output_type": "stream",
     "text": [
      "[1] \"{\\\"detail\\\":\\\"The query didn't return any results\\\",\\\"status_code\\\":404}\"\n",
      "[1] \"no results for the query\"\n",
      "[1] 397\n",
      "[1] 398\n",
      "$category\n",
      "[1] \"Client error\"\n",
      "\n",
      "$reason\n",
      "[1] \"Not Found\"\n",
      "\n",
      "$message\n",
      "[1] \"Client error: (404) Not Found\"\n",
      "\n"
     ]
    },
    {
     "name": "stderr",
     "output_type": "stream",
     "text": [
      "No encoding supplied: defaulting to UTF-8.\n",
      "\n"
     ]
    },
    {
     "name": "stdout",
     "output_type": "stream",
     "text": [
      "[1] \"{\\\"detail\\\":\\\"The query didn't return any results\\\",\\\"status_code\\\":404}\"\n",
      "[1] \"no results for the query\"\n",
      "[1] 399\n",
      "[1] 400\n",
      "$category\n",
      "[1] \"Client error\"\n",
      "\n",
      "$reason\n",
      "[1] \"Not Found\"\n",
      "\n",
      "$message\n",
      "[1] \"Client error: (404) Not Found\"\n",
      "\n"
     ]
    },
    {
     "name": "stderr",
     "output_type": "stream",
     "text": [
      "No encoding supplied: defaulting to UTF-8.\n",
      "\n"
     ]
    },
    {
     "name": "stdout",
     "output_type": "stream",
     "text": [
      "[1] \"{\\\"detail\\\":\\\"The query didn't return any results\\\",\\\"status_code\\\":404}\"\n",
      "[1] \"no results for the query\"\n",
      "[1] 401\n",
      "[1] 402\n",
      "[1] 403\n",
      "[1] 404\n",
      "[1] 405\n",
      "[1] 406\n",
      "[1] 407\n",
      "$category\n",
      "[1] \"Client error\"\n",
      "\n",
      "$reason\n",
      "[1] \"Not Found\"\n",
      "\n",
      "$message\n",
      "[1] \"Client error: (404) Not Found\"\n",
      "\n"
     ]
    },
    {
     "name": "stderr",
     "output_type": "stream",
     "text": [
      "No encoding supplied: defaulting to UTF-8.\n",
      "\n"
     ]
    },
    {
     "name": "stdout",
     "output_type": "stream",
     "text": [
      "[1] \"{\\\"detail\\\":\\\"The query didn't return any results\\\",\\\"status_code\\\":404}\"\n",
      "[1] \"no results for the query\"\n",
      "[1] 408\n",
      "$category\n",
      "[1] \"Client error\"\n",
      "\n",
      "$reason\n",
      "[1] \"Not Found\"\n",
      "\n",
      "$message\n",
      "[1] \"Client error: (404) Not Found\"\n",
      "\n"
     ]
    },
    {
     "name": "stderr",
     "output_type": "stream",
     "text": [
      "No encoding supplied: defaulting to UTF-8.\n",
      "\n"
     ]
    },
    {
     "name": "stdout",
     "output_type": "stream",
     "text": [
      "[1] \"{\\\"detail\\\":\\\"The query didn't return any results\\\",\\\"status_code\\\":404}\"\n",
      "[1] \"no results for the query\"\n",
      "[1] 409\n",
      "$category\n",
      "[1] \"Client error\"\n",
      "\n",
      "$reason\n",
      "[1] \"Not Found\"\n",
      "\n",
      "$message\n",
      "[1] \"Client error: (404) Not Found\"\n",
      "\n"
     ]
    },
    {
     "name": "stderr",
     "output_type": "stream",
     "text": [
      "No encoding supplied: defaulting to UTF-8.\n",
      "\n"
     ]
    },
    {
     "name": "stdout",
     "output_type": "stream",
     "text": [
      "[1] \"{\\\"detail\\\":\\\"The query didn't return any results\\\",\\\"status_code\\\":404}\"\n",
      "[1] \"no results for the query\"\n",
      "[1] 410\n",
      "$category\n",
      "[1] \"Client error\"\n",
      "\n",
      "$reason\n",
      "[1] \"Not Found\"\n",
      "\n",
      "$message\n",
      "[1] \"Client error: (404) Not Found\"\n",
      "\n"
     ]
    },
    {
     "name": "stderr",
     "output_type": "stream",
     "text": [
      "No encoding supplied: defaulting to UTF-8.\n",
      "\n"
     ]
    },
    {
     "name": "stdout",
     "output_type": "stream",
     "text": [
      "[1] \"{\\\"detail\\\":\\\"The query didn't return any results\\\",\\\"status_code\\\":404}\"\n",
      "[1] \"no results for the query\"\n",
      "[1] 411\n",
      "[1] 412\n",
      "[1] 413\n",
      "[1] 414\n",
      "$category\n",
      "[1] \"Client error\"\n",
      "\n",
      "$reason\n",
      "[1] \"Not Found\"\n",
      "\n",
      "$message\n",
      "[1] \"Client error: (404) Not Found\"\n",
      "\n"
     ]
    },
    {
     "name": "stderr",
     "output_type": "stream",
     "text": [
      "No encoding supplied: defaulting to UTF-8.\n",
      "\n"
     ]
    },
    {
     "name": "stdout",
     "output_type": "stream",
     "text": [
      "[1] \"{\\\"detail\\\":\\\"The query didn't return any results\\\",\\\"status_code\\\":404}\"\n",
      "[1] \"no results for the query\"\n",
      "[1] 415\n",
      "$category\n",
      "[1] \"Client error\"\n",
      "\n",
      "$reason\n",
      "[1] \"Not Found\"\n",
      "\n",
      "$message\n",
      "[1] \"Client error: (404) Not Found\"\n",
      "\n"
     ]
    },
    {
     "name": "stderr",
     "output_type": "stream",
     "text": [
      "No encoding supplied: defaulting to UTF-8.\n",
      "\n"
     ]
    },
    {
     "name": "stdout",
     "output_type": "stream",
     "text": [
      "[1] \"{\\\"detail\\\":\\\"The query didn't return any results\\\",\\\"status_code\\\":404}\"\n",
      "[1] \"no results for the query\"\n",
      "[1] 416\n",
      "[1] 417\n",
      "$category\n",
      "[1] \"Client error\"\n",
      "\n",
      "$reason\n",
      "[1] \"Not Found\"\n",
      "\n",
      "$message\n",
      "[1] \"Client error: (404) Not Found\"\n",
      "\n"
     ]
    },
    {
     "name": "stderr",
     "output_type": "stream",
     "text": [
      "No encoding supplied: defaulting to UTF-8.\n",
      "\n"
     ]
    },
    {
     "name": "stdout",
     "output_type": "stream",
     "text": [
      "[1] \"{\\\"detail\\\":\\\"The query didn't return any results\\\",\\\"status_code\\\":404}\"\n",
      "[1] \"no results for the query\"\n",
      "[1] 418\n",
      "$category\n",
      "[1] \"Client error\"\n",
      "\n",
      "$reason\n",
      "[1] \"Not Found\"\n",
      "\n",
      "$message\n",
      "[1] \"Client error: (404) Not Found\"\n",
      "\n"
     ]
    },
    {
     "name": "stderr",
     "output_type": "stream",
     "text": [
      "No encoding supplied: defaulting to UTF-8.\n",
      "\n"
     ]
    },
    {
     "name": "stdout",
     "output_type": "stream",
     "text": [
      "[1] \"{\\\"detail\\\":\\\"The query didn't return any results\\\",\\\"status_code\\\":404}\"\n",
      "[1] \"no results for the query\"\n",
      "[1] 419\n",
      "[1] 420\n",
      "[1] 421\n",
      "$category\n",
      "[1] \"Client error\"\n",
      "\n",
      "$reason\n",
      "[1] \"Not Found\"\n",
      "\n",
      "$message\n",
      "[1] \"Client error: (404) Not Found\"\n",
      "\n"
     ]
    },
    {
     "name": "stderr",
     "output_type": "stream",
     "text": [
      "No encoding supplied: defaulting to UTF-8.\n",
      "\n"
     ]
    },
    {
     "name": "stdout",
     "output_type": "stream",
     "text": [
      "[1] \"{\\\"detail\\\":\\\"The query didn't return any results\\\",\\\"status_code\\\":404}\"\n",
      "[1] \"no results for the query\"\n",
      "[1] 422\n",
      "[1] 423\n",
      "[1] 424\n",
      "[1] 425\n",
      "[1] 426\n",
      "[1] 427\n",
      "[1] 428\n",
      "$category\n",
      "[1] \"Client error\"\n",
      "\n",
      "$reason\n",
      "[1] \"Not Found\"\n",
      "\n",
      "$message\n",
      "[1] \"Client error: (404) Not Found\"\n",
      "\n"
     ]
    },
    {
     "name": "stderr",
     "output_type": "stream",
     "text": [
      "No encoding supplied: defaulting to UTF-8.\n",
      "\n"
     ]
    },
    {
     "name": "stdout",
     "output_type": "stream",
     "text": [
      "[1] \"{\\\"detail\\\":\\\"The query didn't return any results\\\",\\\"status_code\\\":404}\"\n",
      "[1] \"no results for the query\"\n",
      "[1] 429\n",
      "$category\n",
      "[1] \"Client error\"\n",
      "\n",
      "$reason\n",
      "[1] \"Not Found\"\n",
      "\n",
      "$message\n",
      "[1] \"Client error: (404) Not Found\"\n",
      "\n"
     ]
    },
    {
     "name": "stderr",
     "output_type": "stream",
     "text": [
      "No encoding supplied: defaulting to UTF-8.\n",
      "\n"
     ]
    },
    {
     "name": "stdout",
     "output_type": "stream",
     "text": [
      "[1] \"{\\\"detail\\\":\\\"The query didn't return any results\\\",\\\"status_code\\\":404}\"\n",
      "[1] \"no results for the query\"\n",
      "[1] 430\n",
      "$category\n",
      "[1] \"Client error\"\n",
      "\n",
      "$reason\n",
      "[1] \"Not Found\"\n",
      "\n",
      "$message\n",
      "[1] \"Client error: (404) Not Found\"\n",
      "\n"
     ]
    },
    {
     "name": "stderr",
     "output_type": "stream",
     "text": [
      "No encoding supplied: defaulting to UTF-8.\n",
      "\n"
     ]
    },
    {
     "name": "stdout",
     "output_type": "stream",
     "text": [
      "[1] \"{\\\"detail\\\":\\\"The query didn't return any results\\\",\\\"status_code\\\":404}\"\n",
      "[1] \"no results for the query\"\n",
      "[1] 431\n",
      "$category\n",
      "[1] \"Client error\"\n",
      "\n",
      "$reason\n",
      "[1] \"Not Found\"\n",
      "\n",
      "$message\n",
      "[1] \"Client error: (404) Not Found\"\n",
      "\n"
     ]
    },
    {
     "name": "stderr",
     "output_type": "stream",
     "text": [
      "No encoding supplied: defaulting to UTF-8.\n",
      "\n"
     ]
    },
    {
     "name": "stdout",
     "output_type": "stream",
     "text": [
      "[1] \"{\\\"detail\\\":\\\"The query didn't return any results\\\",\\\"status_code\\\":404}\"\n",
      "[1] \"no results for the query\"\n",
      "[1] 432\n",
      "[1] 433\n",
      "$category\n",
      "[1] \"Client error\"\n",
      "\n",
      "$reason\n",
      "[1] \"Not Found\"\n",
      "\n",
      "$message\n",
      "[1] \"Client error: (404) Not Found\"\n",
      "\n"
     ]
    },
    {
     "name": "stderr",
     "output_type": "stream",
     "text": [
      "No encoding supplied: defaulting to UTF-8.\n",
      "\n"
     ]
    },
    {
     "name": "stdout",
     "output_type": "stream",
     "text": [
      "[1] \"{\\\"detail\\\":\\\"The query didn't return any results\\\",\\\"status_code\\\":404}\"\n",
      "[1] \"no results for the query\"\n",
      "[1] 434\n",
      "$category\n",
      "[1] \"Client error\"\n",
      "\n",
      "$reason\n",
      "[1] \"Not Found\"\n",
      "\n",
      "$message\n",
      "[1] \"Client error: (404) Not Found\"\n",
      "\n"
     ]
    },
    {
     "name": "stderr",
     "output_type": "stream",
     "text": [
      "No encoding supplied: defaulting to UTF-8.\n",
      "\n"
     ]
    },
    {
     "name": "stdout",
     "output_type": "stream",
     "text": [
      "[1] \"{\\\"detail\\\":\\\"The query didn't return any results\\\",\\\"status_code\\\":404}\"\n",
      "[1] \"no results for the query\"\n",
      "[1] 435\n",
      "$category\n",
      "[1] \"Client error\"\n",
      "\n",
      "$reason\n",
      "[1] \"Not Found\"\n",
      "\n",
      "$message\n",
      "[1] \"Client error: (404) Not Found\"\n",
      "\n"
     ]
    },
    {
     "name": "stderr",
     "output_type": "stream",
     "text": [
      "No encoding supplied: defaulting to UTF-8.\n",
      "\n"
     ]
    },
    {
     "name": "stdout",
     "output_type": "stream",
     "text": [
      "[1] \"{\\\"detail\\\":\\\"The query didn't return any results\\\",\\\"status_code\\\":404}\"\n",
      "[1] \"no results for the query\"\n",
      "[1] 436\n",
      "[1] 437\n",
      "[1] 438\n",
      "$category\n",
      "[1] \"Client error\"\n",
      "\n",
      "$reason\n",
      "[1] \"Not Found\"\n",
      "\n",
      "$message\n",
      "[1] \"Client error: (404) Not Found\"\n",
      "\n"
     ]
    },
    {
     "name": "stderr",
     "output_type": "stream",
     "text": [
      "No encoding supplied: defaulting to UTF-8.\n",
      "\n"
     ]
    },
    {
     "name": "stdout",
     "output_type": "stream",
     "text": [
      "[1] \"{\\\"detail\\\":\\\"The query didn't return any results\\\",\\\"status_code\\\":404}\"\n",
      "[1] \"no results for the query\"\n",
      "[1] 439\n",
      "[1] 440\n",
      "$category\n",
      "[1] \"Client error\"\n",
      "\n",
      "$reason\n",
      "[1] \"Not Found\"\n",
      "\n",
      "$message\n",
      "[1] \"Client error: (404) Not Found\"\n",
      "\n"
     ]
    },
    {
     "name": "stderr",
     "output_type": "stream",
     "text": [
      "No encoding supplied: defaulting to UTF-8.\n",
      "\n"
     ]
    },
    {
     "name": "stdout",
     "output_type": "stream",
     "text": [
      "[1] \"{\\\"detail\\\":\\\"The query didn't return any results\\\",\\\"status_code\\\":404}\"\n",
      "[1] \"no results for the query\"\n",
      "[1] 441\n",
      "$category\n",
      "[1] \"Client error\"\n",
      "\n",
      "$reason\n",
      "[1] \"Not Found\"\n",
      "\n",
      "$message\n",
      "[1] \"Client error: (404) Not Found\"\n",
      "\n"
     ]
    },
    {
     "name": "stderr",
     "output_type": "stream",
     "text": [
      "No encoding supplied: defaulting to UTF-8.\n",
      "\n"
     ]
    },
    {
     "name": "stdout",
     "output_type": "stream",
     "text": [
      "[1] \"{\\\"detail\\\":\\\"The query didn't return any results\\\",\\\"status_code\\\":404}\"\n",
      "[1] \"no results for the query\"\n",
      "[1] 442\n",
      "[1] 443\n",
      "$category\n",
      "[1] \"Client error\"\n",
      "\n",
      "$reason\n",
      "[1] \"Not Found\"\n",
      "\n",
      "$message\n",
      "[1] \"Client error: (404) Not Found\"\n",
      "\n"
     ]
    },
    {
     "name": "stderr",
     "output_type": "stream",
     "text": [
      "No encoding supplied: defaulting to UTF-8.\n",
      "\n"
     ]
    },
    {
     "name": "stdout",
     "output_type": "stream",
     "text": [
      "[1] \"{\\\"detail\\\":\\\"The query didn't return any results\\\",\\\"status_code\\\":404}\"\n",
      "[1] \"no results for the query\"\n",
      "[1] 444\n",
      "$category\n",
      "[1] \"Client error\"\n",
      "\n",
      "$reason\n",
      "[1] \"Not Found\"\n",
      "\n",
      "$message\n",
      "[1] \"Client error: (404) Not Found\"\n",
      "\n"
     ]
    },
    {
     "name": "stderr",
     "output_type": "stream",
     "text": [
      "No encoding supplied: defaulting to UTF-8.\n",
      "\n"
     ]
    },
    {
     "name": "stdout",
     "output_type": "stream",
     "text": [
      "[1] \"{\\\"detail\\\":\\\"The query didn't return any results\\\",\\\"status_code\\\":404}\"\n",
      "[1] \"no results for the query\"\n",
      "[1] 445\n",
      "[1] 446\n",
      "[1] 447\n",
      "[1] 448\n",
      "[1] 449\n",
      "[1] 450\n",
      "$category\n",
      "[1] \"Client error\"\n",
      "\n",
      "$reason\n",
      "[1] \"Not Found\"\n",
      "\n",
      "$message\n",
      "[1] \"Client error: (404) Not Found\"\n",
      "\n"
     ]
    },
    {
     "name": "stderr",
     "output_type": "stream",
     "text": [
      "No encoding supplied: defaulting to UTF-8.\n",
      "\n"
     ]
    },
    {
     "name": "stdout",
     "output_type": "stream",
     "text": [
      "[1] \"{\\\"detail\\\":\\\"The query didn't return any results\\\",\\\"status_code\\\":404}\"\n",
      "[1] \"no results for the query\"\n",
      "[1] 451\n",
      "$category\n",
      "[1] \"Client error\"\n",
      "\n",
      "$reason\n",
      "[1] \"Not Found\"\n",
      "\n",
      "$message\n",
      "[1] \"Client error: (404) Not Found\"\n",
      "\n"
     ]
    },
    {
     "name": "stderr",
     "output_type": "stream",
     "text": [
      "No encoding supplied: defaulting to UTF-8.\n",
      "\n"
     ]
    },
    {
     "name": "stdout",
     "output_type": "stream",
     "text": [
      "[1] \"{\\\"detail\\\":\\\"The query didn't return any results\\\",\\\"status_code\\\":404}\"\n",
      "[1] \"no results for the query\"\n",
      "[1] 452\n",
      "$category\n",
      "[1] \"Client error\"\n",
      "\n",
      "$reason\n",
      "[1] \"Not Found\"\n",
      "\n",
      "$message\n",
      "[1] \"Client error: (404) Not Found\"\n",
      "\n"
     ]
    },
    {
     "name": "stderr",
     "output_type": "stream",
     "text": [
      "No encoding supplied: defaulting to UTF-8.\n",
      "\n"
     ]
    },
    {
     "name": "stdout",
     "output_type": "stream",
     "text": [
      "[1] \"{\\\"detail\\\":\\\"The query didn't return any results\\\",\\\"status_code\\\":404}\"\n",
      "[1] \"no results for the query\"\n",
      "[1] 453\n",
      "[1] 454\n",
      "$category\n",
      "[1] \"Client error\"\n",
      "\n",
      "$reason\n",
      "[1] \"Not Found\"\n",
      "\n",
      "$message\n",
      "[1] \"Client error: (404) Not Found\"\n",
      "\n"
     ]
    },
    {
     "name": "stderr",
     "output_type": "stream",
     "text": [
      "No encoding supplied: defaulting to UTF-8.\n",
      "\n"
     ]
    },
    {
     "name": "stdout",
     "output_type": "stream",
     "text": [
      "[1] \"{\\\"detail\\\":\\\"The query didn't return any results\\\",\\\"status_code\\\":404}\"\n",
      "[1] \"no results for the query\"\n",
      "[1] 455\n",
      "[1] 456\n",
      "[1] 457\n",
      "$category\n",
      "[1] \"Client error\"\n",
      "\n",
      "$reason\n",
      "[1] \"Not Found\"\n",
      "\n",
      "$message\n",
      "[1] \"Client error: (404) Not Found\"\n",
      "\n"
     ]
    },
    {
     "name": "stderr",
     "output_type": "stream",
     "text": [
      "No encoding supplied: defaulting to UTF-8.\n",
      "\n"
     ]
    },
    {
     "name": "stdout",
     "output_type": "stream",
     "text": [
      "[1] \"{\\\"detail\\\":\\\"The query didn't return any results\\\",\\\"status_code\\\":404}\"\n",
      "[1] \"no results for the query\"\n",
      "[1] 458\n",
      "[1] 459\n",
      "[1] 460\n",
      "$category\n",
      "[1] \"Client error\"\n",
      "\n",
      "$reason\n",
      "[1] \"Not Found\"\n",
      "\n",
      "$message\n",
      "[1] \"Client error: (404) Not Found\"\n",
      "\n"
     ]
    },
    {
     "name": "stderr",
     "output_type": "stream",
     "text": [
      "No encoding supplied: defaulting to UTF-8.\n",
      "\n"
     ]
    },
    {
     "name": "stdout",
     "output_type": "stream",
     "text": [
      "[1] \"{\\\"detail\\\":\\\"The query didn't return any results\\\",\\\"status_code\\\":404}\"\n",
      "[1] \"no results for the query\"\n",
      "[1] 461\n",
      "$category\n",
      "[1] \"Client error\"\n",
      "\n",
      "$reason\n",
      "[1] \"Not Found\"\n",
      "\n",
      "$message\n",
      "[1] \"Client error: (404) Not Found\"\n",
      "\n"
     ]
    },
    {
     "name": "stderr",
     "output_type": "stream",
     "text": [
      "No encoding supplied: defaulting to UTF-8.\n",
      "\n"
     ]
    },
    {
     "name": "stdout",
     "output_type": "stream",
     "text": [
      "[1] \"{\\\"detail\\\":\\\"The query didn't return any results\\\",\\\"status_code\\\":404}\"\n",
      "[1] \"no results for the query\"\n",
      "[1] 462\n",
      "$category\n",
      "[1] \"Client error\"\n",
      "\n",
      "$reason\n",
      "[1] \"Not Found\"\n",
      "\n",
      "$message\n",
      "[1] \"Client error: (404) Not Found\"\n",
      "\n"
     ]
    },
    {
     "name": "stderr",
     "output_type": "stream",
     "text": [
      "No encoding supplied: defaulting to UTF-8.\n",
      "\n"
     ]
    },
    {
     "name": "stdout",
     "output_type": "stream",
     "text": [
      "[1] \"{\\\"detail\\\":\\\"The query didn't return any results\\\",\\\"status_code\\\":404}\"\n",
      "[1] \"no results for the query\"\n",
      "[1] 463\n",
      "[1] 464\n",
      "$category\n",
      "[1] \"Client error\"\n",
      "\n",
      "$reason\n",
      "[1] \"Not Found\"\n",
      "\n",
      "$message\n",
      "[1] \"Client error: (404) Not Found\"\n",
      "\n"
     ]
    },
    {
     "name": "stderr",
     "output_type": "stream",
     "text": [
      "No encoding supplied: defaulting to UTF-8.\n",
      "\n"
     ]
    },
    {
     "name": "stdout",
     "output_type": "stream",
     "text": [
      "[1] \"{\\\"detail\\\":\\\"The query didn't return any results\\\",\\\"status_code\\\":404}\"\n",
      "[1] \"no results for the query\"\n",
      "[1] 465\n",
      "$category\n",
      "[1] \"Client error\"\n",
      "\n",
      "$reason\n",
      "[1] \"Not Found\"\n",
      "\n",
      "$message\n",
      "[1] \"Client error: (404) Not Found\"\n",
      "\n"
     ]
    },
    {
     "name": "stderr",
     "output_type": "stream",
     "text": [
      "No encoding supplied: defaulting to UTF-8.\n",
      "\n"
     ]
    },
    {
     "name": "stdout",
     "output_type": "stream",
     "text": [
      "[1] \"{\\\"detail\\\":\\\"The query didn't return any results\\\",\\\"status_code\\\":404}\"\n",
      "[1] \"no results for the query\"\n",
      "[1] 466\n",
      "[1] 467\n",
      "$category\n",
      "[1] \"Client error\"\n",
      "\n",
      "$reason\n",
      "[1] \"Not Found\"\n",
      "\n",
      "$message\n",
      "[1] \"Client error: (404) Not Found\"\n",
      "\n"
     ]
    },
    {
     "name": "stderr",
     "output_type": "stream",
     "text": [
      "No encoding supplied: defaulting to UTF-8.\n",
      "\n"
     ]
    },
    {
     "name": "stdout",
     "output_type": "stream",
     "text": [
      "[1] \"{\\\"detail\\\":\\\"The query didn't return any results\\\",\\\"status_code\\\":404}\"\n",
      "[1] \"no results for the query\"\n",
      "[1] 468\n",
      "$category\n",
      "[1] \"Client error\"\n",
      "\n",
      "$reason\n",
      "[1] \"Not Found\"\n",
      "\n",
      "$message\n",
      "[1] \"Client error: (404) Not Found\"\n",
      "\n"
     ]
    },
    {
     "name": "stderr",
     "output_type": "stream",
     "text": [
      "No encoding supplied: defaulting to UTF-8.\n",
      "\n"
     ]
    },
    {
     "name": "stdout",
     "output_type": "stream",
     "text": [
      "[1] \"{\\\"detail\\\":\\\"The query didn't return any results\\\",\\\"status_code\\\":404}\"\n",
      "[1] \"no results for the query\"\n",
      "[1] 469\n",
      "[1] 470\n",
      "[1] 471\n",
      "$category\n",
      "[1] \"Client error\"\n",
      "\n",
      "$reason\n",
      "[1] \"Not Found\"\n",
      "\n",
      "$message\n",
      "[1] \"Client error: (404) Not Found\"\n",
      "\n"
     ]
    },
    {
     "name": "stderr",
     "output_type": "stream",
     "text": [
      "No encoding supplied: defaulting to UTF-8.\n",
      "\n"
     ]
    },
    {
     "name": "stdout",
     "output_type": "stream",
     "text": [
      "[1] \"{\\\"detail\\\":\\\"The query didn't return any results\\\",\\\"status_code\\\":404}\"\n",
      "[1] \"no results for the query\"\n",
      "[1] 472\n",
      "[1] 473\n",
      "[1] 474\n",
      "$category\n",
      "[1] \"Client error\"\n",
      "\n",
      "$reason\n",
      "[1] \"Not Found\"\n",
      "\n",
      "$message\n",
      "[1] \"Client error: (404) Not Found\"\n",
      "\n"
     ]
    },
    {
     "name": "stderr",
     "output_type": "stream",
     "text": [
      "No encoding supplied: defaulting to UTF-8.\n",
      "\n"
     ]
    },
    {
     "name": "stdout",
     "output_type": "stream",
     "text": [
      "[1] \"{\\\"detail\\\":\\\"The query didn't return any results\\\",\\\"status_code\\\":404}\"\n",
      "[1] \"no results for the query\"\n",
      "[1] 475\n",
      "$category\n",
      "[1] \"Client error\"\n",
      "\n",
      "$reason\n",
      "[1] \"Not Found\"\n",
      "\n",
      "$message\n",
      "[1] \"Client error: (404) Not Found\"\n",
      "\n"
     ]
    },
    {
     "name": "stderr",
     "output_type": "stream",
     "text": [
      "No encoding supplied: defaulting to UTF-8.\n",
      "\n"
     ]
    },
    {
     "name": "stdout",
     "output_type": "stream",
     "text": [
      "[1] \"{\\\"detail\\\":\\\"The query didn't return any results\\\",\\\"status_code\\\":404}\"\n",
      "[1] \"no results for the query\"\n",
      "[1] 476\n",
      "[1] 477\n",
      "[1] 478\n",
      "$category\n",
      "[1] \"Client error\"\n",
      "\n",
      "$reason\n",
      "[1] \"Not Found\"\n",
      "\n",
      "$message\n",
      "[1] \"Client error: (404) Not Found\"\n",
      "\n"
     ]
    },
    {
     "name": "stderr",
     "output_type": "stream",
     "text": [
      "No encoding supplied: defaulting to UTF-8.\n",
      "\n"
     ]
    },
    {
     "name": "stdout",
     "output_type": "stream",
     "text": [
      "[1] \"{\\\"detail\\\":\\\"The query didn't return any results\\\",\\\"status_code\\\":404}\"\n",
      "[1] \"no results for the query\"\n",
      "[1] 479\n",
      "$category\n",
      "[1] \"Client error\"\n",
      "\n",
      "$reason\n",
      "[1] \"Not Found\"\n",
      "\n",
      "$message\n",
      "[1] \"Client error: (404) Not Found\"\n",
      "\n"
     ]
    },
    {
     "name": "stderr",
     "output_type": "stream",
     "text": [
      "No encoding supplied: defaulting to UTF-8.\n",
      "\n"
     ]
    },
    {
     "name": "stdout",
     "output_type": "stream",
     "text": [
      "[1] \"{\\\"detail\\\":\\\"The query didn't return any results\\\",\\\"status_code\\\":404}\"\n",
      "[1] \"no results for the query\"\n",
      "[1] 480\n",
      "[1] 481\n",
      "[1] 482\n",
      "$category\n",
      "[1] \"Client error\"\n",
      "\n",
      "$reason\n",
      "[1] \"Not Found\"\n",
      "\n",
      "$message\n",
      "[1] \"Client error: (404) Not Found\"\n",
      "\n"
     ]
    },
    {
     "name": "stderr",
     "output_type": "stream",
     "text": [
      "No encoding supplied: defaulting to UTF-8.\n",
      "\n"
     ]
    },
    {
     "name": "stdout",
     "output_type": "stream",
     "text": [
      "[1] \"{\\\"detail\\\":\\\"The query didn't return any results\\\",\\\"status_code\\\":404}\"\n",
      "[1] \"no results for the query\"\n",
      "[1] 483\n",
      "$category\n",
      "[1] \"Client error\"\n",
      "\n",
      "$reason\n",
      "[1] \"Not Found\"\n",
      "\n",
      "$message\n",
      "[1] \"Client error: (404) Not Found\"\n",
      "\n"
     ]
    },
    {
     "name": "stderr",
     "output_type": "stream",
     "text": [
      "No encoding supplied: defaulting to UTF-8.\n",
      "\n"
     ]
    },
    {
     "name": "stdout",
     "output_type": "stream",
     "text": [
      "[1] \"{\\\"detail\\\":\\\"The query didn't return any results\\\",\\\"status_code\\\":404}\"\n",
      "[1] \"no results for the query\"\n",
      "[1] 484\n",
      "[1] 485\n",
      "[1] 486\n",
      "$category\n",
      "[1] \"Client error\"\n",
      "\n",
      "$reason\n",
      "[1] \"Not Found\"\n",
      "\n",
      "$message\n",
      "[1] \"Client error: (404) Not Found\"\n",
      "\n"
     ]
    },
    {
     "name": "stderr",
     "output_type": "stream",
     "text": [
      "No encoding supplied: defaulting to UTF-8.\n",
      "\n"
     ]
    },
    {
     "name": "stdout",
     "output_type": "stream",
     "text": [
      "[1] \"{\\\"detail\\\":\\\"The query didn't return any results\\\",\\\"status_code\\\":404}\"\n",
      "[1] \"no results for the query\"\n",
      "[1] 487\n",
      "[1] 488\n",
      "$category\n",
      "[1] \"Client error\"\n",
      "\n",
      "$reason\n",
      "[1] \"Not Found\"\n",
      "\n",
      "$message\n",
      "[1] \"Client error: (404) Not Found\"\n",
      "\n"
     ]
    },
    {
     "name": "stderr",
     "output_type": "stream",
     "text": [
      "No encoding supplied: defaulting to UTF-8.\n",
      "\n"
     ]
    },
    {
     "name": "stdout",
     "output_type": "stream",
     "text": [
      "[1] \"{\\\"detail\\\":\\\"The query didn't return any results\\\",\\\"status_code\\\":404}\"\n",
      "[1] \"no results for the query\"\n",
      "[1] 489\n",
      "$category\n",
      "[1] \"Client error\"\n",
      "\n",
      "$reason\n",
      "[1] \"Not Found\"\n",
      "\n",
      "$message\n",
      "[1] \"Client error: (404) Not Found\"\n",
      "\n"
     ]
    },
    {
     "name": "stderr",
     "output_type": "stream",
     "text": [
      "No encoding supplied: defaulting to UTF-8.\n",
      "\n"
     ]
    },
    {
     "name": "stdout",
     "output_type": "stream",
     "text": [
      "[1] \"{\\\"detail\\\":\\\"The query didn't return any results\\\",\\\"status_code\\\":404}\"\n",
      "[1] \"no results for the query\"\n",
      "[1] 490\n",
      "[1] 491\n",
      "$category\n",
      "[1] \"Client error\"\n",
      "\n",
      "$reason\n",
      "[1] \"Not Found\"\n",
      "\n",
      "$message\n",
      "[1] \"Client error: (404) Not Found\"\n",
      "\n"
     ]
    },
    {
     "name": "stderr",
     "output_type": "stream",
     "text": [
      "No encoding supplied: defaulting to UTF-8.\n",
      "\n"
     ]
    },
    {
     "name": "stdout",
     "output_type": "stream",
     "text": [
      "[1] \"{\\\"detail\\\":\\\"The query didn't return any results\\\",\\\"status_code\\\":404}\"\n",
      "[1] \"no results for the query\"\n",
      "[1] 492\n",
      "$category\n",
      "[1] \"Client error\"\n",
      "\n",
      "$reason\n",
      "[1] \"Not Found\"\n",
      "\n",
      "$message\n",
      "[1] \"Client error: (404) Not Found\"\n",
      "\n"
     ]
    },
    {
     "name": "stderr",
     "output_type": "stream",
     "text": [
      "No encoding supplied: defaulting to UTF-8.\n",
      "\n"
     ]
    },
    {
     "name": "stdout",
     "output_type": "stream",
     "text": [
      "[1] \"{\\\"detail\\\":\\\"The query didn't return any results\\\",\\\"status_code\\\":404}\"\n",
      "[1] \"no results for the query\"\n",
      "[1] 493\n",
      "[1] 494\n",
      "[1] 495\n",
      "[1] 496\n",
      "[1] 497\n",
      "$category\n",
      "[1] \"Client error\"\n",
      "\n",
      "$reason\n",
      "[1] \"Not Found\"\n",
      "\n",
      "$message\n",
      "[1] \"Client error: (404) Not Found\"\n",
      "\n"
     ]
    },
    {
     "name": "stderr",
     "output_type": "stream",
     "text": [
      "No encoding supplied: defaulting to UTF-8.\n",
      "\n"
     ]
    },
    {
     "name": "stdout",
     "output_type": "stream",
     "text": [
      "[1] \"{\\\"detail\\\":\\\"The query didn't return any results\\\",\\\"status_code\\\":404}\"\n",
      "[1] \"no results for the query\"\n",
      "[1] 498\n",
      "[1] 499\n",
      "[1] 500\n",
      "$category\n",
      "[1] \"Client error\"\n",
      "\n",
      "$reason\n",
      "[1] \"Not Found\"\n",
      "\n",
      "$message\n",
      "[1] \"Client error: (404) Not Found\"\n",
      "\n"
     ]
    },
    {
     "name": "stderr",
     "output_type": "stream",
     "text": [
      "No encoding supplied: defaulting to UTF-8.\n",
      "\n"
     ]
    },
    {
     "name": "stdout",
     "output_type": "stream",
     "text": [
      "[1] \"{\\\"detail\\\":\\\"The query didn't return any results\\\",\\\"status_code\\\":404}\"\n",
      "[1] \"no results for the query\"\n"
     ]
    }
   ],
   "source": [
    "for (diseaseId_ind in c(1:length(diseaseId_list))){\n",
    "    print(diseaseId_ind)\n",
    "    diseaseId = diseaseId_list[diseaseId_ind]\n",
    "    diseaseName = diseaseId_All_list[diseaseId]\n",
    "    \n",
    "    tryCatch( { dis_res <- disease2gene( diseaseId_list[diseaseId_ind], database = \"CURATED\" ) }\n",
    "          , error = function(e) {an.error.occured <<- TRUE} )\n",
    "    \n",
    "    if (class(dis_res) == 'character'){next}\n",
    "        \n",
    "    geneList = dis_res@qresult %>% pull(gene_symbol)\n",
    "    \n",
    "    disease_DF = disease_DF %>% \n",
    "    add_row(tibble_row(Source = \"Disease\",\n",
    "            GeneSetID = diseaseId,\n",
    "            GeneSetName = diseaseName, \n",
    "            GeneList = str_c(geneList,  collapse = \" \"),\n",
    "            n_Genes = length(geneList)))\n",
    "    }"
   ]
  },
  {
   "cell_type": "code",
   "execution_count": 59,
   "id": "ba391f2e-117f-4e0d-823b-211e939c1102",
   "metadata": {},
   "outputs": [],
   "source": [
    "disease_toUse_DF = disease_DF %>% subset(n_Genes >=2) %>% head(n = 77)"
   ]
  },
  {
   "cell_type": "code",
   "execution_count": 60,
   "id": "13885508-61a9-4256-9cd5-9d5773026831",
   "metadata": {},
   "outputs": [
    {
     "data": {
      "text/html": [
       "<style>\n",
       ".list-inline {list-style: none; margin:0; padding: 0}\n",
       ".list-inline>li {display: inline-block}\n",
       ".list-inline>li:not(:last-child)::after {content: \"\\00b7\"; padding: 0 .5ex}\n",
       "</style>\n",
       "<ol class=list-inline><li>77</li><li>5</li></ol>\n"
      ],
      "text/latex": [
       "\\begin{enumerate*}\n",
       "\\item 77\n",
       "\\item 5\n",
       "\\end{enumerate*}\n"
      ],
      "text/markdown": [
       "1. 77\n",
       "2. 5\n",
       "\n",
       "\n"
      ],
      "text/plain": [
       "[1] 77  5"
      ]
     },
     "metadata": {},
     "output_type": "display_data"
    }
   ],
   "source": [
    "dim(disease_toUse_DF)"
   ]
  },
  {
   "cell_type": "code",
   "execution_count": 92,
   "id": "335c6bc6-457a-4392-a52f-175ca1b27062",
   "metadata": {},
   "outputs": [],
   "source": [
    "genesets_DF = genesets_DF %>% rbind(disease_toUse_DF)"
   ]
  },
  {
   "cell_type": "code",
   "execution_count": 95,
   "id": "534f0d7b-79c7-42d6-82f2-319914e5ba16",
   "metadata": {},
   "outputs": [
    {
     "data": {
      "text/html": [
       "<style>\n",
       ".list-inline {list-style: none; margin:0; padding: 0}\n",
       ".list-inline>li {display: inline-block}\n",
       ".list-inline>li:not(:last-child)::after {content: \"\\00b7\"; padding: 0 .5ex}\n",
       "</style>\n",
       "<ol class=list-inline><li>77</li><li>5</li></ol>\n"
      ],
      "text/latex": [
       "\\begin{enumerate*}\n",
       "\\item 77\n",
       "\\item 5\n",
       "\\end{enumerate*}\n"
      ],
      "text/markdown": [
       "1. 77\n",
       "2. 5\n",
       "\n",
       "\n"
      ],
      "text/plain": [
       "[1] 77  5"
      ]
     },
     "metadata": {},
     "output_type": "display_data"
    }
   ],
   "source": [
    "dim(disease_toUse_DF)"
   ]
  },
  {
   "cell_type": "code",
   "execution_count": 94,
   "id": "2533f5a5-fc5e-42ff-8517-0193b5cb1d3b",
   "metadata": {},
   "outputs": [
    {
     "data": {
      "text/html": [
       "<style>\n",
       ".list-inline {list-style: none; margin:0; padding: 0}\n",
       ".list-inline>li {display: inline-block}\n",
       ".list-inline>li:not(:last-child)::after {content: \"\\00b7\"; padding: 0 .5ex}\n",
       "</style>\n",
       "<ol class=list-inline><li>250</li><li>5</li></ol>\n"
      ],
      "text/latex": [
       "\\begin{enumerate*}\n",
       "\\item 250\n",
       "\\item 5\n",
       "\\end{enumerate*}\n"
      ],
      "text/markdown": [
       "1. 250\n",
       "2. 5\n",
       "\n",
       "\n"
      ],
      "text/plain": [
       "[1] 250   5"
      ]
     },
     "metadata": {},
     "output_type": "display_data"
    }
   ],
   "source": [
    "dim(genesets_DF)"
   ]
  },
  {
   "cell_type": "code",
   "execution_count": 96,
   "id": "a8436818-01c0-485b-92d5-fbf5518af3be",
   "metadata": {},
   "outputs": [],
   "source": [
    "write_delim(x = genesets_DF,file = \"data/omics.txt\" , delim = \"\\t\")"
   ]
  },
  {
   "cell_type": "code",
   "execution_count": null,
   "id": "c50d6c02-effe-47a3-befe-0859067b040e",
   "metadata": {},
   "outputs": [],
   "source": []
  }
 ],
 "metadata": {
  "kernelspec": {
   "display_name": "R",
   "language": "R",
   "name": "ir"
  },
  "language_info": {
   "codemirror_mode": "r",
   "file_extension": ".r",
   "mimetype": "text/x-r-source",
   "name": "R",
   "pygments_lexer": "r",
   "version": "4.2.2"
  }
 },
 "nbformat": 4,
 "nbformat_minor": 5
}
