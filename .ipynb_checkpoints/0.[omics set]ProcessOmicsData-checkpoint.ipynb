{
 "cells": [
  {
   "cell_type": "code",
   "execution_count": 1,
   "id": "9fa86f76-d230-4ce8-a385-ab8dfcc07406",
   "metadata": {
    "tags": []
   },
   "outputs": [
    {
     "name": "stderr",
     "output_type": "stream",
     "text": [
      "── \u001b[1mAttaching core tidyverse packages\u001b[22m ───────────────────────────────────────────── tidyverse 2.0.0 ──\n",
      "\u001b[32m✔\u001b[39m \u001b[34mdplyr    \u001b[39m 1.1.4     \u001b[32m✔\u001b[39m \u001b[34mreadr    \u001b[39m 2.1.4\n",
      "\u001b[32m✔\u001b[39m \u001b[34mforcats  \u001b[39m 1.0.0     \u001b[32m✔\u001b[39m \u001b[34mstringr  \u001b[39m 1.5.1\n",
      "\u001b[32m✔\u001b[39m \u001b[34mggplot2  \u001b[39m 3.4.4     \u001b[32m✔\u001b[39m \u001b[34mtibble   \u001b[39m 3.2.1\n",
      "\u001b[32m✔\u001b[39m \u001b[34mlubridate\u001b[39m 1.9.3     \u001b[32m✔\u001b[39m \u001b[34mtidyr    \u001b[39m 1.3.0\n",
      "\u001b[32m✔\u001b[39m \u001b[34mpurrr    \u001b[39m 1.0.2     \n",
      "── \u001b[1mConflicts\u001b[22m ─────────────────────────────────────────────────────────────── tidyverse_conflicts() ──\n",
      "\u001b[31m✖\u001b[39m \u001b[34mdplyr\u001b[39m::\u001b[32marrange()\u001b[39m   masks \u001b[34mplyr\u001b[39m::arrange()\n",
      "\u001b[31m✖\u001b[39m \u001b[34mpurrr\u001b[39m::\u001b[32mcompact()\u001b[39m   masks \u001b[34mplyr\u001b[39m::compact()\n",
      "\u001b[31m✖\u001b[39m \u001b[34mdplyr\u001b[39m::\u001b[32mcount()\u001b[39m     masks \u001b[34mplyr\u001b[39m::count()\n",
      "\u001b[31m✖\u001b[39m \u001b[34mdplyr\u001b[39m::\u001b[32mdesc()\u001b[39m      masks \u001b[34mplyr\u001b[39m::desc()\n",
      "\u001b[31m✖\u001b[39m \u001b[34mdplyr\u001b[39m::\u001b[32mfailwith()\u001b[39m  masks \u001b[34mplyr\u001b[39m::failwith()\n",
      "\u001b[31m✖\u001b[39m \u001b[34mdplyr\u001b[39m::\u001b[32mfilter()\u001b[39m    masks \u001b[34mstats\u001b[39m::filter()\n",
      "\u001b[31m✖\u001b[39m \u001b[34mdplyr\u001b[39m::\u001b[32mid()\u001b[39m        masks \u001b[34mplyr\u001b[39m::id()\n",
      "\u001b[31m✖\u001b[39m \u001b[34mdplyr\u001b[39m::\u001b[32mlag()\u001b[39m       masks \u001b[34mstats\u001b[39m::lag()\n",
      "\u001b[31m✖\u001b[39m \u001b[34mdplyr\u001b[39m::\u001b[32mmutate()\u001b[39m    masks \u001b[34mplyr\u001b[39m::mutate()\n",
      "\u001b[31m✖\u001b[39m \u001b[34mdplyr\u001b[39m::\u001b[32mrename()\u001b[39m    masks \u001b[34mplyr\u001b[39m::rename()\n",
      "\u001b[31m✖\u001b[39m \u001b[34mdplyr\u001b[39m::\u001b[32msummarise()\u001b[39m masks \u001b[34mplyr\u001b[39m::summarise()\n",
      "\u001b[31m✖\u001b[39m \u001b[34mdplyr\u001b[39m::\u001b[32msummarize()\u001b[39m masks \u001b[34mplyr\u001b[39m::summarize()\n",
      "\u001b[36mℹ\u001b[39m Use the conflicted package (\u001b[3m\u001b[34m<http://conflicted.r-lib.org/>\u001b[39m\u001b[23m) to force all conflicts to become errors\n",
      "\n",
      "Attaching package: ‘tidyjson’\n",
      "\n",
      "\n",
      "The following object is masked from ‘package:stats’:\n",
      "\n",
      "    filter\n",
      "\n",
      "\n"
     ]
    }
   ],
   "source": [
    "library(plyr, quietly = TRUE)\n",
    "library(tidyverse,  quietly = TRUE)\n",
    "library(tidyjson,  quietly = TRUE)\n",
    "library(readxl)"
   ]
  },
  {
   "cell_type": "code",
   "execution_count": 2,
   "id": "fe317316-8b8b-4c91-b1de-330f3c9e5f6a",
   "metadata": {},
   "outputs": [],
   "source": [
    "# get name genes number  source"
   ]
  },
  {
   "cell_type": "code",
   "execution_count": 3,
   "id": "3f9b065c-eb80-437e-86ec-7c7e880fc4e9",
   "metadata": {
    "tags": []
   },
   "outputs": [],
   "source": [
    "genesets_colnames = c(\"Source\", \"GeneSetName\", \"GeneList\", \"n_Genes\")\n",
    "genesets_MAT = matrix(nrow = 0, ncol = length(genesets_colnames))\n",
    "colnames(genesets_MAT) = genesets_colnames\n",
    "genesets_DF = as_tibble(genesets_MAT) %>%\n",
    "  mutate(across(everything(), as.character))\n",
    "genesets_DF$n_Genes = as.integer(genesets_DF$n_Genes)"
   ]
  },
  {
   "cell_type": "code",
   "execution_count": 4,
   "id": "1e1d5b21-6289-4dc9-986d-9808aed54bad",
   "metadata": {},
   "outputs": [],
   "source": [
    "genesets_empty_DF = genesets_DF"
   ]
  },
  {
   "cell_type": "markdown",
   "id": "05d19b89-2fe7-4b6a-a3f2-8004c7c271e8",
   "metadata": {},
   "source": [
    "### MSigDB"
   ]
  },
  {
   "cell_type": "code",
   "execution_count": 5,
   "id": "dce7d8e8-5271-41f7-9491-973d7e49e240",
   "metadata": {},
   "outputs": [],
   "source": [
    "msigdb_path = \"data/human_geneSets/\""
   ]
  },
  {
   "cell_type": "code",
   "execution_count": 6,
   "id": "b0cf7bb3-ab8c-48df-93af-83f73870669d",
   "metadata": {},
   "outputs": [],
   "source": [
    "# read in the MSigDB .json file\n",
    "MSigDB_hallmark = read_json(\"data/h.all.v2023.1.Hs.json\", format = \"json\")[[2]][[1]]"
   ]
  },
  {
   "cell_type": "code",
   "execution_count": 7,
   "id": "48937e73-92c7-44fb-bc9d-1bce1fe5533d",
   "metadata": {},
   "outputs": [],
   "source": [
    "MSigDB_geneSets = names(MSigDB_hallmark)"
   ]
  },
  {
   "cell_type": "code",
   "execution_count": 8,
   "id": "17901b42-fd31-478a-b8cb-334d555ae77a",
   "metadata": {},
   "outputs": [],
   "source": [
    "for (MSigDB_geneSet in MSigDB_geneSets){\n",
    "    MSigDB_geneSet_genes = MSigDB_hallmark[[MSigDB_geneSet]]$geneSymbols %>% unlist()\n",
    "    MSigDB_geneSet_n_Genes = length(MSigDB_geneSet_genes)\n",
    "    genesets_DF = genesets_DF %>% \n",
    "    add_row(tibble_row(Source = \"MSigDB\",\n",
    "            GeneSetName = MSigDB_geneSet, \n",
    "            GeneList = str_c(MSigDB_geneSet_genes,  collapse = \" \"),\n",
    "            n_Genes = MSigDB_geneSet_n_Genes))\n",
    "    }"
   ]
  },
  {
   "cell_type": "code",
   "execution_count": 9,
   "id": "420739cb-9c1c-4ad2-8904-f77e2922fbf5",
   "metadata": {
    "tags": []
   },
   "outputs": [
    {
     "data": {
      "text/html": [
       "13"
      ],
      "text/latex": [
       "13"
      ],
      "text/markdown": [
       "13"
      ],
      "text/plain": [
       "[1] 13"
      ]
     },
     "metadata": {},
     "output_type": "display_data"
    }
   ],
   "source": [
    "genesets_DF %>% subset(n_Genes <= 100) %>% nrow()"
   ]
  },
  {
   "cell_type": "code",
   "execution_count": 10,
   "id": "119c7247-5d71-4fc6-94e2-a831945961b2",
   "metadata": {},
   "outputs": [
    {
     "data": {
      "text/html": [
       "<style>\n",
       ".list-inline {list-style: none; margin:0; padding: 0}\n",
       ".list-inline>li {display: inline-block}\n",
       ".list-inline>li:not(:last-child)::after {content: \"\\00b7\"; padding: 0 .5ex}\n",
       "</style>\n",
       "<ol class=list-inline><li>50</li><li>4</li></ol>\n"
      ],
      "text/latex": [
       "\\begin{enumerate*}\n",
       "\\item 50\n",
       "\\item 4\n",
       "\\end{enumerate*}\n"
      ],
      "text/markdown": [
       "1. 50\n",
       "2. 4\n",
       "\n",
       "\n"
      ],
      "text/plain": [
       "[1] 50  4"
      ]
     },
     "metadata": {},
     "output_type": "display_data"
    }
   ],
   "source": [
    "dim(genesets_DF)"
   ]
  },
  {
   "cell_type": "code",
   "execution_count": 11,
   "id": "c4ab5234-d241-4ab3-9837-d8c245443aff",
   "metadata": {},
   "outputs": [
    {
     "data": {
      "text/html": [
       "200"
      ],
      "text/latex": [
       "200"
      ],
      "text/markdown": [
       "200"
      ],
      "text/plain": [
       "[1] 200"
      ]
     },
     "metadata": {},
     "output_type": "display_data"
    }
   ],
   "source": [
    "genesets_DF$n_Genes %>% max()"
   ]
  },
  {
   "cell_type": "markdown",
   "id": "b8594e43-67bf-4fbd-9f15-cfe029c98096",
   "metadata": {},
   "source": [
    "### NeST"
   ]
  },
  {
   "cell_type": "code",
   "execution_count": 55,
   "id": "15670e37-3d9c-4320-b8bf-c8210e1811b0",
   "metadata": {},
   "outputs": [
    {
     "name": "stderr",
     "output_type": "stream",
     "text": [
      "\u001b[1mRows: \u001b[22m\u001b[34m131\u001b[39m \u001b[1mColumns: \u001b[22m\u001b[34m24\u001b[39m\n",
      "\u001b[36m──\u001b[39m \u001b[1mColumn specification\u001b[22m \u001b[36m─────────────────────────────────────────────────────────────────────────────\u001b[39m\n",
      "\u001b[1mDelimiter:\u001b[22m \",\"\n",
      "\u001b[31mchr\u001b[39m (12): All_Genes, name, name_new, name_position, NEST ID, Note, shared na...\n",
      "\u001b[32mdbl\u001b[39m (11): Camptothecin, CD437, Cisplatin, Etoposide, Gemcitabine, name_show,...\n",
      "\u001b[33mlgl\u001b[39m  (1): selected\n",
      "\n",
      "\u001b[36mℹ\u001b[39m Use `spec()` to retrieve the full column specification for this data.\n",
      "\u001b[36mℹ\u001b[39m Specify the column types or set `show_col_types = FALSE` to quiet this message.\n"
     ]
    }
   ],
   "source": [
    "NeST_DF = read_delim(file = \"data//NeST_table_All.csv\", delim = \",\" ) %>%\n",
    "subset(Size_All <= 200) %>%\n",
    "subset(str_detect(name_new, \"NEST\", negate = TRUE)) %>%\n",
    "slice_sample(n = 50) %>%\n",
    "select(c(\"name_new\", \"All_Genes\", \"Size_All\")) %>%\n",
    "rowwise() %>%\n",
    "mutate(Source  = \"NeST\", \n",
    "       All_Genes = str_replace_all(string = All_Genes, pattern  = \",\", replacement =  \" \")) %>%\n",
    "rename(GeneSetName = name_new, \n",
    "       GeneList = All_Genes, \n",
    "       n_Genes = Size_All)"
   ]
  },
  {
   "cell_type": "code",
   "execution_count": 13,
   "id": "8af1700b-0fca-4c4e-b0fe-9cac02da342b",
   "metadata": {},
   "outputs": [],
   "source": [
    "genesets_DF = genesets_DF %>% rbind(NeST_DF)"
   ]
  },
  {
   "cell_type": "markdown",
   "id": "d2a5ee32-4bf6-4dc2-8aac-b5014579dcc4",
   "metadata": {},
   "source": [
    "### Gene expression"
   ]
  },
  {
   "cell_type": "code",
   "execution_count": 14,
   "id": "97f213ff-81cd-486d-bcb5-c12fea9489e5",
   "metadata": {},
   "outputs": [],
   "source": [
    "# https://doi.org/10.1016/j.cell.2022.05.013"
   ]
  },
  {
   "cell_type": "code",
   "execution_count": 15,
   "id": "05bde802-7cd5-40c4-b4c0-993947348e03",
   "metadata": {},
   "outputs": [
    {
     "name": "stderr",
     "output_type": "stream",
     "text": [
      "\u001b[1m\u001b[22mNew names:\n",
      "\u001b[36m•\u001b[39m `` -> `...1`\n"
     ]
    }
   ],
   "source": [
    "geneExpression_DF = read_xlsx(path = \"data/1-s2.0-S0092867422005979-mmc3.xlsx\", sheet = \"gene expression clusters\") %>%\n",
    "subset(!is.na(manual_annotation))  %>%\n",
    "select(c(\"members\", \"manual_annotation\")) %>%\n",
    "rowwise() %>%\n",
    "mutate(Source  = \"Gene Expression\", \n",
    "       members = str_replace_all(string = members, pattern  = \",\", replacement =  \" \"),\n",
    "       n_Genes = length(str_split(string = members, pattern = \" \")[[1]])) %>%\n",
    "rename(GeneSetName = manual_annotation, \n",
    "       GeneList = members) %>%\n",
    "subset(n_Genes <= 200)\n"
   ]
  },
  {
   "cell_type": "code",
   "execution_count": 16,
   "id": "7c2b2c08-4aab-4dd1-9bd5-2896b4590ee3",
   "metadata": {},
   "outputs": [
    {
     "data": {
      "text/html": [
       "<style>\n",
       ".list-inline {list-style: none; margin:0; padding: 0}\n",
       ".list-inline>li {display: inline-block}\n",
       ".list-inline>li:not(:last-child)::after {content: \"\\00b7\"; padding: 0 .5ex}\n",
       "</style>\n",
       "<ol class=list-inline><li>25</li><li>4</li></ol>\n"
      ],
      "text/latex": [
       "\\begin{enumerate*}\n",
       "\\item 25\n",
       "\\item 4\n",
       "\\end{enumerate*}\n"
      ],
      "text/markdown": [
       "1. 25\n",
       "2. 4\n",
       "\n",
       "\n"
      ],
      "text/plain": [
       "[1] 25  4"
      ]
     },
     "metadata": {},
     "output_type": "display_data"
    }
   ],
   "source": [
    "dim(geneExpression_DF)"
   ]
  },
  {
   "cell_type": "code",
   "execution_count": 17,
   "id": "bb7fdb0f-e9b0-47a2-bae2-058d6e7394df",
   "metadata": {},
   "outputs": [],
   "source": [
    "genesets_DF = genesets_DF %>% rbind(geneExpression_DF)"
   ]
  },
  {
   "cell_type": "markdown",
   "id": "74798c84-2dc6-46ae-be89-26b39fd46f15",
   "metadata": {},
   "source": [
    "### Perturbation"
   ]
  },
  {
   "cell_type": "code",
   "execution_count": 18,
   "id": "5571b5dc-b76a-4db4-b1d8-cb36c5fd77e2",
   "metadata": {},
   "outputs": [
    {
     "name": "stderr",
     "output_type": "stream",
     "text": [
      "\u001b[1m\u001b[22mNew names:\n",
      "\u001b[36m•\u001b[39m `` -> `...1`\n"
     ]
    }
   ],
   "source": [
    "perturbation_DF = read_xlsx(path = \"data/1-s2.0-S0092867422005979-mmc3.xlsx\", sheet = \"perturbation clusters\") %>%\n",
    "subset(!is.na(manual_annotation))  %>%\n",
    "select(c(\"members\", \"manual_annotation\")) %>%\n",
    "rowwise() %>%\n",
    "mutate(Source  = \"Perturbation\", \n",
    "       members = str_replace_all(string = members, pattern  = \",\", replacement =  \" \"),\n",
    "       n_Genes = length(str_split(string = members, pattern = \" \")[[1]])) %>%\n",
    "rename(GeneSetName = manual_annotation, \n",
    "       GeneList = members)%>%\n",
    "subset(n_Genes <= 200)"
   ]
  },
  {
   "cell_type": "code",
   "execution_count": 19,
   "id": "c6885c9c-6818-4382-a8bd-8bec24f6a414",
   "metadata": {},
   "outputs": [
    {
     "data": {
      "text/html": [
       "<style>\n",
       ".list-inline {list-style: none; margin:0; padding: 0}\n",
       ".list-inline>li {display: inline-block}\n",
       ".list-inline>li:not(:last-child)::after {content: \"\\00b7\"; padding: 0 .5ex}\n",
       "</style>\n",
       "<ol class=list-inline><li>48</li><li>4</li></ol>\n"
      ],
      "text/latex": [
       "\\begin{enumerate*}\n",
       "\\item 48\n",
       "\\item 4\n",
       "\\end{enumerate*}\n"
      ],
      "text/markdown": [
       "1. 48\n",
       "2. 4\n",
       "\n",
       "\n"
      ],
      "text/plain": [
       "[1] 48  4"
      ]
     },
     "metadata": {},
     "output_type": "display_data"
    }
   ],
   "source": [
    "dim(perturbation_DF)"
   ]
  },
  {
   "cell_type": "code",
   "execution_count": 20,
   "id": "4766359b-cd88-400b-9c8c-ecff2ab70833",
   "metadata": {},
   "outputs": [],
   "source": [
    "genesets_DF = genesets_DF %>% rbind(perturbation_DF)"
   ]
  },
  {
   "cell_type": "code",
   "execution_count": 21,
   "id": "5c9ed194-6ff7-4aee-bfa5-9d1b0fe3173d",
   "metadata": {},
   "outputs": [
    {
     "data": {
      "text/html": [
       "<style>\n",
       ".list-inline {list-style: none; margin:0; padding: 0}\n",
       ".list-inline>li {display: inline-block}\n",
       ".list-inline>li:not(:last-child)::after {content: \"\\00b7\"; padding: 0 .5ex}\n",
       "</style>\n",
       "<ol class=list-inline><li>173</li><li>4</li></ol>\n"
      ],
      "text/latex": [
       "\\begin{enumerate*}\n",
       "\\item 173\n",
       "\\item 4\n",
       "\\end{enumerate*}\n"
      ],
      "text/markdown": [
       "1. 173\n",
       "2. 4\n",
       "\n",
       "\n"
      ],
      "text/plain": [
       "[1] 173   4"
      ]
     },
     "metadata": {},
     "output_type": "display_data"
    }
   ],
   "source": [
    "dim(genesets_DF)"
   ]
  },
  {
   "cell_type": "code",
   "execution_count": 22,
   "id": "6b6039a2-3083-4a12-beb8-b5b2c0418e64",
   "metadata": {},
   "outputs": [
    {
     "data": {
      "text/html": [
       "225"
      ],
      "text/latex": [
       "225"
      ],
      "text/markdown": [
       "225"
      ],
      "text/plain": [
       "[1] 225"
      ]
     },
     "metadata": {},
     "output_type": "display_data"
    }
   ],
   "source": [
    "173 + 52"
   ]
  },
  {
   "cell_type": "markdown",
   "id": "4e149766-71c7-4f20-b9db-ea05a78cbd4f",
   "metadata": {},
   "source": [
    "### Disease"
   ]
  },
  {
   "cell_type": "code",
   "execution_count": 23,
   "id": "5965bda8-967e-43ff-bae9-f73f6618cd10",
   "metadata": {
    "tags": []
   },
   "outputs": [
    {
     "name": "stderr",
     "output_type": "stream",
     "text": [
      "\n",
      "Attaching package: ‘disgenet2r’\n",
      "\n",
      "\n",
      "The following object is masked from ‘package:tidyr’:\n",
      "\n",
      "    extract\n",
      "\n",
      "\n"
     ]
    }
   ],
   "source": [
    "library(disgenet2r)\n",
    "library(getPass)"
   ]
  },
  {
   "cell_type": "code",
   "execution_count": 24,
   "id": "54421556-c77f-479b-898e-c56d8e35ace9",
   "metadata": {},
   "outputs": [
    {
     "name": "stdin",
     "output_type": "stream",
     "text": [
      "Enter the password:  ········\n"
     ]
    }
   ],
   "source": [
    "pass = getPass::getPass(\"Enter the password: \")"
   ]
  },
  {
   "cell_type": "code",
   "execution_count": 25,
   "id": "7f5753a9-d0fb-4625-a82b-60d093c71c63",
   "metadata": {},
   "outputs": [],
   "source": [
    "disgenet_api_key <- get_disgenet_api_key(\n",
    "                  email = \"salkhairy@ucsd.edu\", \n",
    "                  password = pass )"
   ]
  },
  {
   "cell_type": "code",
   "execution_count": 26,
   "id": "bb67f98f-3539-48d8-b66c-003eb178674e",
   "metadata": {},
   "outputs": [],
   "source": [
    "Sys.setenv(DISGENET_API_KEY= disgenet_api_key)"
   ]
  },
  {
   "cell_type": "code",
   "execution_count": 27,
   "id": "2fe64f9c-0441-4b70-aaf4-1c61aa59c1ce",
   "metadata": {},
   "outputs": [
    {
     "name": "stderr",
     "output_type": "stream",
     "text": [
      "\u001b[1mRows: \u001b[22m\u001b[34m30170\u001b[39m \u001b[1mColumns: \u001b[22m\u001b[34m7\u001b[39m\n",
      "\u001b[36m──\u001b[39m \u001b[1mColumn specification\u001b[22m \u001b[36m─────────────────────────────────────────────────────────────────────────────\u001b[39m\n",
      "\u001b[1mDelimiter:\u001b[22m \"\\t\"\n",
      "\u001b[31mchr\u001b[39m (5): diseaseId, diseaseName, diseaseType, diseaseClass, diseaseSemanticType\n",
      "\u001b[32mdbl\u001b[39m (2): NofGenes, NofPmids\n",
      "\n",
      "\u001b[36mℹ\u001b[39m Use `spec()` to retrieve the full column specification for this data.\n",
      "\u001b[36mℹ\u001b[39m Specify the column types or set `show_col_types = FALSE` to quiet this message.\n"
     ]
    }
   ],
   "source": [
    "diseaseId_All_DF = read_delim(\"data//disease_associations.tsv\", delim = \"\\t\")\n"
   ]
  },
  {
   "cell_type": "code",
   "execution_count": 34,
   "id": "67105c81-d236-46b3-9f94-a518545423fe",
   "metadata": {},
   "outputs": [],
   "source": [
    "diseaseId_All_list = diseaseId_All_DF$diseaseName\n",
    "names(diseaseId_All_list) = diseaseId_All_DF$diseaseId"
   ]
  },
  {
   "cell_type": "code",
   "execution_count": 35,
   "id": "e41b9dd2-791d-4282-8f72-387ceeacf3aa",
   "metadata": {},
   "outputs": [
    {
     "data": {
      "text/html": [
       "<style>\n",
       ".dl-inline {width: auto; margin:0; padding: 0}\n",
       ".dl-inline>dt, .dl-inline>dd {float: none; width: auto; display: inline-block}\n",
       ".dl-inline>dt::after {content: \":\\0020\"; padding-right: .5ex}\n",
       ".dl-inline>dt:not(:first-of-type) {padding-left: .5ex}\n",
       "</style><dl class=dl-inline><dt>C0000727</dt><dd>'Abdomen, Acute'</dd><dt>C0000729</dt><dd>'Abdominal Cramps'</dd><dt>C0000731</dt><dd>'Abdomen distended'</dd><dt>C0000734</dt><dd>'Abdominal mass'</dd></dl>\n"
      ],
      "text/latex": [
       "\\begin{description*}\n",
       "\\item[C0000727] 'Abdomen, Acute'\n",
       "\\item[C0000729] 'Abdominal Cramps'\n",
       "\\item[C0000731] 'Abdomen distended'\n",
       "\\item[C0000734] 'Abdominal mass'\n",
       "\\end{description*}\n"
      ],
      "text/markdown": [
       "C0000727\n",
       ":   'Abdomen, Acute'C0000729\n",
       ":   'Abdominal Cramps'C0000731\n",
       ":   'Abdomen distended'C0000734\n",
       ":   'Abdominal mass'\n",
       "\n"
      ],
      "text/plain": [
       "           C0000727            C0000729            C0000731            C0000734 \n",
       "   \"Abdomen, Acute\"  \"Abdominal Cramps\" \"Abdomen distended\"    \"Abdominal mass\" "
      ]
     },
     "metadata": {},
     "output_type": "display_data"
    }
   ],
   "source": [
    "diseaseId_All_list[1:4]"
   ]
  },
  {
   "cell_type": "code",
   "execution_count": 29,
   "id": "cf1b5857-4a57-44d8-8703-e5c958903bfa",
   "metadata": {},
   "outputs": [],
   "source": [
    "# Read disease list\n",
    "diseaseId_All_list = diseaseId_All_DF %>%\n",
    "subset(diseaseType == \"disease\") %>%\n",
    "subset(between(x = NofGenes, left = 5, right = 200)) %>%\n",
    "subset(NofPmids > 1) %>%\n",
    "pull(diseaseId)"
   ]
  },
  {
   "cell_type": "code",
   "execution_count": 30,
   "id": "e4ea5767-4581-4910-8ddc-ca3e39c4e8a0",
   "metadata": {},
   "outputs": [],
   "source": [
    "# Sample 50 \n",
    "diseaseId_list = sample(x = diseaseId_All_list, size = 200, replace = FALSE) # not all of them are successful in getting gene list"
   ]
  },
  {
   "cell_type": "code",
   "execution_count": 36,
   "id": "674a1fad-213f-47c1-8e3f-c50ed683a0ad",
   "metadata": {},
   "outputs": [],
   "source": [
    "disease_DF = genesets_empty_DF\n",
    "an.error.occured <- FALSE\n"
   ]
  },
  {
   "cell_type": "code",
   "execution_count": 37,
   "id": "b2854b5e-569f-41ad-aef9-b9509678017e",
   "metadata": {
    "tags": []
   },
   "outputs": [
    {
     "name": "stdout",
     "output_type": "stream",
     "text": [
      "[1] 1\n",
      "$category\n",
      "[1] \"Client error\"\n",
      "\n",
      "$reason\n",
      "[1] \"Not Found\"\n",
      "\n",
      "$message\n",
      "[1] \"Client error: (404) Not Found\"\n",
      "\n"
     ]
    },
    {
     "name": "stderr",
     "output_type": "stream",
     "text": [
      "No encoding supplied: defaulting to UTF-8.\n",
      "\n"
     ]
    },
    {
     "name": "stdout",
     "output_type": "stream",
     "text": [
      "[1] \"{\\\"detail\\\":\\\"The query didn't return any results\\\",\\\"status_code\\\":404}\"\n",
      "[1] \"no results for the query\"\n",
      "[1] 2\n",
      "[1] 3\n",
      "[1] 4\n",
      "$category\n",
      "[1] \"Client error\"\n",
      "\n",
      "$reason\n",
      "[1] \"Not Found\"\n",
      "\n",
      "$message\n",
      "[1] \"Client error: (404) Not Found\"\n",
      "\n"
     ]
    },
    {
     "name": "stderr",
     "output_type": "stream",
     "text": [
      "No encoding supplied: defaulting to UTF-8.\n",
      "\n"
     ]
    },
    {
     "name": "stdout",
     "output_type": "stream",
     "text": [
      "[1] \"{\\\"detail\\\":\\\"The query didn't return any results\\\",\\\"status_code\\\":404}\"\n",
      "[1] \"no results for the query\"\n",
      "[1] 5\n",
      "$category\n",
      "[1] \"Client error\"\n",
      "\n",
      "$reason\n",
      "[1] \"Not Found\"\n",
      "\n",
      "$message\n",
      "[1] \"Client error: (404) Not Found\"\n",
      "\n"
     ]
    },
    {
     "name": "stderr",
     "output_type": "stream",
     "text": [
      "No encoding supplied: defaulting to UTF-8.\n",
      "\n"
     ]
    },
    {
     "name": "stdout",
     "output_type": "stream",
     "text": [
      "[1] \"{\\\"detail\\\":\\\"The query didn't return any results\\\",\\\"status_code\\\":404}\"\n",
      "[1] \"no results for the query\"\n",
      "[1] 6\n",
      "$category\n",
      "[1] \"Client error\"\n",
      "\n",
      "$reason\n",
      "[1] \"Not Found\"\n",
      "\n",
      "$message\n",
      "[1] \"Client error: (404) Not Found\"\n",
      "\n"
     ]
    },
    {
     "name": "stderr",
     "output_type": "stream",
     "text": [
      "No encoding supplied: defaulting to UTF-8.\n",
      "\n"
     ]
    },
    {
     "name": "stdout",
     "output_type": "stream",
     "text": [
      "[1] \"{\\\"detail\\\":\\\"The query didn't return any results\\\",\\\"status_code\\\":404}\"\n",
      "[1] \"no results for the query\"\n",
      "[1] 7\n",
      "$category\n",
      "[1] \"Client error\"\n",
      "\n",
      "$reason\n",
      "[1] \"Not Found\"\n",
      "\n",
      "$message\n",
      "[1] \"Client error: (404) Not Found\"\n",
      "\n"
     ]
    },
    {
     "name": "stderr",
     "output_type": "stream",
     "text": [
      "No encoding supplied: defaulting to UTF-8.\n",
      "\n"
     ]
    },
    {
     "name": "stdout",
     "output_type": "stream",
     "text": [
      "[1] \"{\\\"detail\\\":\\\"The query didn't return any results\\\",\\\"status_code\\\":404}\"\n",
      "[1] \"no results for the query\"\n",
      "[1] 8\n",
      "[1] 9\n",
      "[1] 10\n",
      "$category\n",
      "[1] \"Client error\"\n",
      "\n",
      "$reason\n",
      "[1] \"Not Found\"\n",
      "\n",
      "$message\n",
      "[1] \"Client error: (404) Not Found\"\n",
      "\n"
     ]
    },
    {
     "name": "stderr",
     "output_type": "stream",
     "text": [
      "No encoding supplied: defaulting to UTF-8.\n",
      "\n"
     ]
    },
    {
     "name": "stdout",
     "output_type": "stream",
     "text": [
      "[1] \"{\\\"detail\\\":\\\"The query didn't return any results\\\",\\\"status_code\\\":404}\"\n",
      "[1] \"no results for the query\"\n",
      "[1] 11\n",
      "$category\n",
      "[1] \"Client error\"\n",
      "\n",
      "$reason\n",
      "[1] \"Not Found\"\n",
      "\n",
      "$message\n",
      "[1] \"Client error: (404) Not Found\"\n",
      "\n"
     ]
    },
    {
     "name": "stderr",
     "output_type": "stream",
     "text": [
      "No encoding supplied: defaulting to UTF-8.\n",
      "\n"
     ]
    },
    {
     "name": "stdout",
     "output_type": "stream",
     "text": [
      "[1] \"{\\\"detail\\\":\\\"The query didn't return any results\\\",\\\"status_code\\\":404}\"\n",
      "[1] \"no results for the query\"\n",
      "[1] 12\n",
      "[1] 13\n",
      "[1] 14\n",
      "$category\n",
      "[1] \"Client error\"\n",
      "\n",
      "$reason\n",
      "[1] \"Not Found\"\n",
      "\n",
      "$message\n",
      "[1] \"Client error: (404) Not Found\"\n",
      "\n"
     ]
    },
    {
     "name": "stderr",
     "output_type": "stream",
     "text": [
      "No encoding supplied: defaulting to UTF-8.\n",
      "\n"
     ]
    },
    {
     "name": "stdout",
     "output_type": "stream",
     "text": [
      "[1] \"{\\\"detail\\\":\\\"The query didn't return any results\\\",\\\"status_code\\\":404}\"\n",
      "[1] \"no results for the query\"\n",
      "[1] 15\n",
      "$category\n",
      "[1] \"Client error\"\n",
      "\n",
      "$reason\n",
      "[1] \"Not Found\"\n",
      "\n",
      "$message\n",
      "[1] \"Client error: (404) Not Found\"\n",
      "\n"
     ]
    },
    {
     "name": "stderr",
     "output_type": "stream",
     "text": [
      "No encoding supplied: defaulting to UTF-8.\n",
      "\n"
     ]
    },
    {
     "name": "stdout",
     "output_type": "stream",
     "text": [
      "[1] \"{\\\"detail\\\":\\\"The query didn't return any results\\\",\\\"status_code\\\":404}\"\n",
      "[1] \"no results for the query\"\n",
      "[1] 16\n",
      "$category\n",
      "[1] \"Client error\"\n",
      "\n",
      "$reason\n",
      "[1] \"Not Found\"\n",
      "\n",
      "$message\n",
      "[1] \"Client error: (404) Not Found\"\n",
      "\n"
     ]
    },
    {
     "name": "stderr",
     "output_type": "stream",
     "text": [
      "No encoding supplied: defaulting to UTF-8.\n",
      "\n"
     ]
    },
    {
     "name": "stdout",
     "output_type": "stream",
     "text": [
      "[1] \"{\\\"detail\\\":\\\"The query didn't return any results\\\",\\\"status_code\\\":404}\"\n",
      "[1] \"no results for the query\"\n",
      "[1] 17\n",
      "[1] 18\n",
      "$category\n",
      "[1] \"Client error\"\n",
      "\n",
      "$reason\n",
      "[1] \"Not Found\"\n",
      "\n",
      "$message\n",
      "[1] \"Client error: (404) Not Found\"\n",
      "\n"
     ]
    },
    {
     "name": "stderr",
     "output_type": "stream",
     "text": [
      "No encoding supplied: defaulting to UTF-8.\n",
      "\n"
     ]
    },
    {
     "name": "stdout",
     "output_type": "stream",
     "text": [
      "[1] \"{\\\"detail\\\":\\\"The query didn't return any results\\\",\\\"status_code\\\":404}\"\n",
      "[1] \"no results for the query\"\n",
      "[1] 19\n",
      "$category\n",
      "[1] \"Client error\"\n",
      "\n",
      "$reason\n",
      "[1] \"Not Found\"\n",
      "\n",
      "$message\n",
      "[1] \"Client error: (404) Not Found\"\n",
      "\n"
     ]
    },
    {
     "name": "stderr",
     "output_type": "stream",
     "text": [
      "No encoding supplied: defaulting to UTF-8.\n",
      "\n"
     ]
    },
    {
     "name": "stdout",
     "output_type": "stream",
     "text": [
      "[1] \"{\\\"detail\\\":\\\"The query didn't return any results\\\",\\\"status_code\\\":404}\"\n",
      "[1] \"no results for the query\"\n",
      "[1] 20\n",
      "$category\n",
      "[1] \"Client error\"\n",
      "\n",
      "$reason\n",
      "[1] \"Not Found\"\n",
      "\n",
      "$message\n",
      "[1] \"Client error: (404) Not Found\"\n",
      "\n"
     ]
    },
    {
     "name": "stderr",
     "output_type": "stream",
     "text": [
      "No encoding supplied: defaulting to UTF-8.\n",
      "\n"
     ]
    },
    {
     "name": "stdout",
     "output_type": "stream",
     "text": [
      "[1] \"{\\\"detail\\\":\\\"The query didn't return any results\\\",\\\"status_code\\\":404}\"\n",
      "[1] \"no results for the query\"\n",
      "[1] 21\n",
      "$category\n",
      "[1] \"Client error\"\n",
      "\n",
      "$reason\n",
      "[1] \"Not Found\"\n",
      "\n",
      "$message\n",
      "[1] \"Client error: (404) Not Found\"\n",
      "\n"
     ]
    },
    {
     "name": "stderr",
     "output_type": "stream",
     "text": [
      "No encoding supplied: defaulting to UTF-8.\n",
      "\n"
     ]
    },
    {
     "name": "stdout",
     "output_type": "stream",
     "text": [
      "[1] \"{\\\"detail\\\":\\\"The query didn't return any results\\\",\\\"status_code\\\":404}\"\n",
      "[1] \"no results for the query\"\n",
      "[1] 22\n",
      "[1] 23\n",
      "[1] 24\n",
      "$category\n",
      "[1] \"Client error\"\n",
      "\n",
      "$reason\n",
      "[1] \"Not Found\"\n",
      "\n",
      "$message\n",
      "[1] \"Client error: (404) Not Found\"\n",
      "\n"
     ]
    },
    {
     "name": "stderr",
     "output_type": "stream",
     "text": [
      "No encoding supplied: defaulting to UTF-8.\n",
      "\n"
     ]
    },
    {
     "name": "stdout",
     "output_type": "stream",
     "text": [
      "[1] \"{\\\"detail\\\":\\\"The query didn't return any results\\\",\\\"status_code\\\":404}\"\n",
      "[1] \"no results for the query\"\n",
      "[1] 25\n",
      "[1] 26\n",
      "$category\n",
      "[1] \"Client error\"\n",
      "\n",
      "$reason\n",
      "[1] \"Not Found\"\n",
      "\n",
      "$message\n",
      "[1] \"Client error: (404) Not Found\"\n",
      "\n"
     ]
    },
    {
     "name": "stderr",
     "output_type": "stream",
     "text": [
      "No encoding supplied: defaulting to UTF-8.\n",
      "\n"
     ]
    },
    {
     "name": "stdout",
     "output_type": "stream",
     "text": [
      "[1] \"{\\\"detail\\\":\\\"The query didn't return any results\\\",\\\"status_code\\\":404}\"\n",
      "[1] \"no results for the query\"\n",
      "[1] 27\n",
      "$category\n",
      "[1] \"Client error\"\n",
      "\n",
      "$reason\n",
      "[1] \"Not Found\"\n",
      "\n",
      "$message\n",
      "[1] \"Client error: (404) Not Found\"\n",
      "\n"
     ]
    },
    {
     "name": "stderr",
     "output_type": "stream",
     "text": [
      "No encoding supplied: defaulting to UTF-8.\n",
      "\n"
     ]
    },
    {
     "name": "stdout",
     "output_type": "stream",
     "text": [
      "[1] \"{\\\"detail\\\":\\\"The query didn't return any results\\\",\\\"status_code\\\":404}\"\n",
      "[1] \"no results for the query\"\n",
      "[1] 28\n",
      "$category\n",
      "[1] \"Client error\"\n",
      "\n",
      "$reason\n",
      "[1] \"Not Found\"\n",
      "\n",
      "$message\n",
      "[1] \"Client error: (404) Not Found\"\n",
      "\n"
     ]
    },
    {
     "name": "stderr",
     "output_type": "stream",
     "text": [
      "No encoding supplied: defaulting to UTF-8.\n",
      "\n"
     ]
    },
    {
     "name": "stdout",
     "output_type": "stream",
     "text": [
      "[1] \"{\\\"detail\\\":\\\"The query didn't return any results\\\",\\\"status_code\\\":404}\"\n",
      "[1] \"no results for the query\"\n",
      "[1] 29\n",
      "[1] 30\n",
      "[1] 31\n",
      "$category\n",
      "[1] \"Client error\"\n",
      "\n",
      "$reason\n",
      "[1] \"Not Found\"\n",
      "\n",
      "$message\n",
      "[1] \"Client error: (404) Not Found\"\n",
      "\n"
     ]
    },
    {
     "name": "stderr",
     "output_type": "stream",
     "text": [
      "No encoding supplied: defaulting to UTF-8.\n",
      "\n"
     ]
    },
    {
     "name": "stdout",
     "output_type": "stream",
     "text": [
      "[1] \"{\\\"detail\\\":\\\"The query didn't return any results\\\",\\\"status_code\\\":404}\"\n",
      "[1] \"no results for the query\"\n",
      "[1] 32\n",
      "[1] 33\n",
      "$category\n",
      "[1] \"Client error\"\n",
      "\n",
      "$reason\n",
      "[1] \"Not Found\"\n",
      "\n",
      "$message\n",
      "[1] \"Client error: (404) Not Found\"\n",
      "\n"
     ]
    },
    {
     "name": "stderr",
     "output_type": "stream",
     "text": [
      "No encoding supplied: defaulting to UTF-8.\n",
      "\n"
     ]
    },
    {
     "name": "stdout",
     "output_type": "stream",
     "text": [
      "[1] \"{\\\"detail\\\":\\\"The query didn't return any results\\\",\\\"status_code\\\":404}\"\n",
      "[1] \"no results for the query\"\n",
      "[1] 34\n",
      "$category\n",
      "[1] \"Client error\"\n",
      "\n",
      "$reason\n",
      "[1] \"Not Found\"\n",
      "\n",
      "$message\n",
      "[1] \"Client error: (404) Not Found\"\n",
      "\n"
     ]
    },
    {
     "name": "stderr",
     "output_type": "stream",
     "text": [
      "No encoding supplied: defaulting to UTF-8.\n",
      "\n"
     ]
    },
    {
     "name": "stdout",
     "output_type": "stream",
     "text": [
      "[1] \"{\\\"detail\\\":\\\"The query didn't return any results\\\",\\\"status_code\\\":404}\"\n",
      "[1] \"no results for the query\"\n",
      "[1] 35\n",
      "$category\n",
      "[1] \"Client error\"\n",
      "\n",
      "$reason\n",
      "[1] \"Not Found\"\n",
      "\n",
      "$message\n",
      "[1] \"Client error: (404) Not Found\"\n",
      "\n"
     ]
    },
    {
     "name": "stderr",
     "output_type": "stream",
     "text": [
      "No encoding supplied: defaulting to UTF-8.\n",
      "\n"
     ]
    },
    {
     "name": "stdout",
     "output_type": "stream",
     "text": [
      "[1] \"{\\\"detail\\\":\\\"The query didn't return any results\\\",\\\"status_code\\\":404}\"\n",
      "[1] \"no results for the query\"\n",
      "[1] 36\n",
      "$category\n",
      "[1] \"Client error\"\n",
      "\n",
      "$reason\n",
      "[1] \"Not Found\"\n",
      "\n",
      "$message\n",
      "[1] \"Client error: (404) Not Found\"\n",
      "\n"
     ]
    },
    {
     "name": "stderr",
     "output_type": "stream",
     "text": [
      "No encoding supplied: defaulting to UTF-8.\n",
      "\n"
     ]
    },
    {
     "name": "stdout",
     "output_type": "stream",
     "text": [
      "[1] \"{\\\"detail\\\":\\\"The query didn't return any results\\\",\\\"status_code\\\":404}\"\n",
      "[1] \"no results for the query\"\n",
      "[1] 37\n",
      "[1] 38\n",
      "$category\n",
      "[1] \"Client error\"\n",
      "\n",
      "$reason\n",
      "[1] \"Not Found\"\n",
      "\n",
      "$message\n",
      "[1] \"Client error: (404) Not Found\"\n",
      "\n"
     ]
    },
    {
     "name": "stderr",
     "output_type": "stream",
     "text": [
      "No encoding supplied: defaulting to UTF-8.\n",
      "\n"
     ]
    },
    {
     "name": "stdout",
     "output_type": "stream",
     "text": [
      "[1] \"{\\\"detail\\\":\\\"The query didn't return any results\\\",\\\"status_code\\\":404}\"\n",
      "[1] \"no results for the query\"\n",
      "[1] 39\n",
      "$category\n",
      "[1] \"Client error\"\n",
      "\n",
      "$reason\n",
      "[1] \"Not Found\"\n",
      "\n",
      "$message\n",
      "[1] \"Client error: (404) Not Found\"\n",
      "\n"
     ]
    },
    {
     "name": "stderr",
     "output_type": "stream",
     "text": [
      "No encoding supplied: defaulting to UTF-8.\n",
      "\n"
     ]
    },
    {
     "name": "stdout",
     "output_type": "stream",
     "text": [
      "[1] \"{\\\"detail\\\":\\\"The query didn't return any results\\\",\\\"status_code\\\":404}\"\n",
      "[1] \"no results for the query\"\n",
      "[1] 40\n",
      "$category\n",
      "[1] \"Client error\"\n",
      "\n",
      "$reason\n",
      "[1] \"Not Found\"\n",
      "\n",
      "$message\n",
      "[1] \"Client error: (404) Not Found\"\n",
      "\n"
     ]
    },
    {
     "name": "stderr",
     "output_type": "stream",
     "text": [
      "No encoding supplied: defaulting to UTF-8.\n",
      "\n"
     ]
    },
    {
     "name": "stdout",
     "output_type": "stream",
     "text": [
      "[1] \"{\\\"detail\\\":\\\"The query didn't return any results\\\",\\\"status_code\\\":404}\"\n",
      "[1] \"no results for the query\"\n",
      "[1] 41\n",
      "[1] 42\n",
      "[1] 43\n",
      "$category\n",
      "[1] \"Client error\"\n",
      "\n",
      "$reason\n",
      "[1] \"Not Found\"\n",
      "\n",
      "$message\n",
      "[1] \"Client error: (404) Not Found\"\n",
      "\n"
     ]
    },
    {
     "name": "stderr",
     "output_type": "stream",
     "text": [
      "No encoding supplied: defaulting to UTF-8.\n",
      "\n"
     ]
    },
    {
     "name": "stdout",
     "output_type": "stream",
     "text": [
      "[1] \"{\\\"detail\\\":\\\"The query didn't return any results\\\",\\\"status_code\\\":404}\"\n",
      "[1] \"no results for the query\"\n",
      "[1] 44\n",
      "[1] 45\n",
      "$category\n",
      "[1] \"Client error\"\n",
      "\n",
      "$reason\n",
      "[1] \"Not Found\"\n",
      "\n",
      "$message\n",
      "[1] \"Client error: (404) Not Found\"\n",
      "\n"
     ]
    },
    {
     "name": "stderr",
     "output_type": "stream",
     "text": [
      "No encoding supplied: defaulting to UTF-8.\n",
      "\n"
     ]
    },
    {
     "name": "stdout",
     "output_type": "stream",
     "text": [
      "[1] \"{\\\"detail\\\":\\\"The query didn't return any results\\\",\\\"status_code\\\":404}\"\n",
      "[1] \"no results for the query\"\n",
      "[1] 46\n",
      "[1] 47\n",
      "$category\n",
      "[1] \"Client error\"\n",
      "\n",
      "$reason\n",
      "[1] \"Not Found\"\n",
      "\n",
      "$message\n",
      "[1] \"Client error: (404) Not Found\"\n",
      "\n"
     ]
    },
    {
     "name": "stderr",
     "output_type": "stream",
     "text": [
      "No encoding supplied: defaulting to UTF-8.\n",
      "\n"
     ]
    },
    {
     "name": "stdout",
     "output_type": "stream",
     "text": [
      "[1] \"{\\\"detail\\\":\\\"The query didn't return any results\\\",\\\"status_code\\\":404}\"\n",
      "[1] \"no results for the query\"\n",
      "[1] 48\n",
      "$category\n",
      "[1] \"Client error\"\n",
      "\n",
      "$reason\n",
      "[1] \"Not Found\"\n",
      "\n",
      "$message\n",
      "[1] \"Client error: (404) Not Found\"\n",
      "\n"
     ]
    },
    {
     "name": "stderr",
     "output_type": "stream",
     "text": [
      "No encoding supplied: defaulting to UTF-8.\n",
      "\n"
     ]
    },
    {
     "name": "stdout",
     "output_type": "stream",
     "text": [
      "[1] \"{\\\"detail\\\":\\\"The query didn't return any results\\\",\\\"status_code\\\":404}\"\n",
      "[1] \"no results for the query\"\n",
      "[1] 49\n",
      "[1] 50\n",
      "$category\n",
      "[1] \"Client error\"\n",
      "\n",
      "$reason\n",
      "[1] \"Not Found\"\n",
      "\n",
      "$message\n",
      "[1] \"Client error: (404) Not Found\"\n",
      "\n"
     ]
    },
    {
     "name": "stderr",
     "output_type": "stream",
     "text": [
      "No encoding supplied: defaulting to UTF-8.\n",
      "\n"
     ]
    },
    {
     "name": "stdout",
     "output_type": "stream",
     "text": [
      "[1] \"{\\\"detail\\\":\\\"The query didn't return any results\\\",\\\"status_code\\\":404}\"\n",
      "[1] \"no results for the query\"\n",
      "[1] 51\n",
      "$category\n",
      "[1] \"Client error\"\n",
      "\n",
      "$reason\n",
      "[1] \"Not Found\"\n",
      "\n",
      "$message\n",
      "[1] \"Client error: (404) Not Found\"\n",
      "\n"
     ]
    },
    {
     "name": "stderr",
     "output_type": "stream",
     "text": [
      "No encoding supplied: defaulting to UTF-8.\n",
      "\n"
     ]
    },
    {
     "name": "stdout",
     "output_type": "stream",
     "text": [
      "[1] \"{\\\"detail\\\":\\\"The query didn't return any results\\\",\\\"status_code\\\":404}\"\n",
      "[1] \"no results for the query\"\n",
      "[1] 52\n",
      "[1] 53\n",
      "[1] 54\n",
      "$category\n",
      "[1] \"Client error\"\n",
      "\n",
      "$reason\n",
      "[1] \"Not Found\"\n",
      "\n",
      "$message\n",
      "[1] \"Client error: (404) Not Found\"\n",
      "\n"
     ]
    },
    {
     "name": "stderr",
     "output_type": "stream",
     "text": [
      "No encoding supplied: defaulting to UTF-8.\n",
      "\n"
     ]
    },
    {
     "name": "stdout",
     "output_type": "stream",
     "text": [
      "[1] \"{\\\"detail\\\":\\\"The query didn't return any results\\\",\\\"status_code\\\":404}\"\n",
      "[1] \"no results for the query\"\n",
      "[1] 55\n",
      "$category\n",
      "[1] \"Client error\"\n",
      "\n",
      "$reason\n",
      "[1] \"Not Found\"\n",
      "\n",
      "$message\n",
      "[1] \"Client error: (404) Not Found\"\n",
      "\n"
     ]
    },
    {
     "name": "stderr",
     "output_type": "stream",
     "text": [
      "No encoding supplied: defaulting to UTF-8.\n",
      "\n"
     ]
    },
    {
     "name": "stdout",
     "output_type": "stream",
     "text": [
      "[1] \"{\\\"detail\\\":\\\"The query didn't return any results\\\",\\\"status_code\\\":404}\"\n",
      "[1] \"no results for the query\"\n",
      "[1] 56\n",
      "[1] 57\n",
      "$category\n",
      "[1] \"Client error\"\n",
      "\n",
      "$reason\n",
      "[1] \"Not Found\"\n",
      "\n",
      "$message\n",
      "[1] \"Client error: (404) Not Found\"\n",
      "\n"
     ]
    },
    {
     "name": "stderr",
     "output_type": "stream",
     "text": [
      "No encoding supplied: defaulting to UTF-8.\n",
      "\n"
     ]
    },
    {
     "name": "stdout",
     "output_type": "stream",
     "text": [
      "[1] \"{\\\"detail\\\":\\\"The query didn't return any results\\\",\\\"status_code\\\":404}\"\n",
      "[1] \"no results for the query\"\n",
      "[1] 58\n",
      "[1] 59\n",
      "$category\n",
      "[1] \"Client error\"\n",
      "\n",
      "$reason\n",
      "[1] \"Not Found\"\n",
      "\n",
      "$message\n",
      "[1] \"Client error: (404) Not Found\"\n",
      "\n"
     ]
    },
    {
     "name": "stderr",
     "output_type": "stream",
     "text": [
      "No encoding supplied: defaulting to UTF-8.\n",
      "\n"
     ]
    },
    {
     "name": "stdout",
     "output_type": "stream",
     "text": [
      "[1] \"{\\\"detail\\\":\\\"The query didn't return any results\\\",\\\"status_code\\\":404}\"\n",
      "[1] \"no results for the query\"\n",
      "[1] 60\n",
      "$category\n",
      "[1] \"Client error\"\n",
      "\n",
      "$reason\n",
      "[1] \"Not Found\"\n",
      "\n",
      "$message\n",
      "[1] \"Client error: (404) Not Found\"\n",
      "\n"
     ]
    },
    {
     "name": "stderr",
     "output_type": "stream",
     "text": [
      "No encoding supplied: defaulting to UTF-8.\n",
      "\n"
     ]
    },
    {
     "name": "stdout",
     "output_type": "stream",
     "text": [
      "[1] \"{\\\"detail\\\":\\\"The query didn't return any results\\\",\\\"status_code\\\":404}\"\n",
      "[1] \"no results for the query\"\n",
      "[1] 61\n",
      "$category\n",
      "[1] \"Client error\"\n",
      "\n",
      "$reason\n",
      "[1] \"Not Found\"\n",
      "\n",
      "$message\n",
      "[1] \"Client error: (404) Not Found\"\n",
      "\n"
     ]
    },
    {
     "name": "stderr",
     "output_type": "stream",
     "text": [
      "No encoding supplied: defaulting to UTF-8.\n",
      "\n"
     ]
    },
    {
     "name": "stdout",
     "output_type": "stream",
     "text": [
      "[1] \"{\\\"detail\\\":\\\"The query didn't return any results\\\",\\\"status_code\\\":404}\"\n",
      "[1] \"no results for the query\"\n",
      "[1] 62\n",
      "[1] 63\n",
      "$category\n",
      "[1] \"Client error\"\n",
      "\n",
      "$reason\n",
      "[1] \"Not Found\"\n",
      "\n",
      "$message\n",
      "[1] \"Client error: (404) Not Found\"\n",
      "\n"
     ]
    },
    {
     "name": "stderr",
     "output_type": "stream",
     "text": [
      "No encoding supplied: defaulting to UTF-8.\n",
      "\n"
     ]
    },
    {
     "name": "stdout",
     "output_type": "stream",
     "text": [
      "[1] \"{\\\"detail\\\":\\\"The query didn't return any results\\\",\\\"status_code\\\":404}\"\n",
      "[1] \"no results for the query\"\n",
      "[1] 64\n",
      "$category\n",
      "[1] \"Client error\"\n",
      "\n",
      "$reason\n",
      "[1] \"Not Found\"\n",
      "\n",
      "$message\n",
      "[1] \"Client error: (404) Not Found\"\n",
      "\n"
     ]
    },
    {
     "name": "stderr",
     "output_type": "stream",
     "text": [
      "No encoding supplied: defaulting to UTF-8.\n",
      "\n"
     ]
    },
    {
     "name": "stdout",
     "output_type": "stream",
     "text": [
      "[1] \"{\\\"detail\\\":\\\"The query didn't return any results\\\",\\\"status_code\\\":404}\"\n",
      "[1] \"no results for the query\"\n",
      "[1] 65\n",
      "$category\n",
      "[1] \"Client error\"\n",
      "\n",
      "$reason\n",
      "[1] \"Not Found\"\n",
      "\n",
      "$message\n",
      "[1] \"Client error: (404) Not Found\"\n",
      "\n"
     ]
    },
    {
     "name": "stderr",
     "output_type": "stream",
     "text": [
      "No encoding supplied: defaulting to UTF-8.\n",
      "\n"
     ]
    },
    {
     "name": "stdout",
     "output_type": "stream",
     "text": [
      "[1] \"{\\\"detail\\\":\\\"The query didn't return any results\\\",\\\"status_code\\\":404}\"\n",
      "[1] \"no results for the query\"\n",
      "[1] 66\n",
      "$category\n",
      "[1] \"Client error\"\n",
      "\n",
      "$reason\n",
      "[1] \"Not Found\"\n",
      "\n",
      "$message\n",
      "[1] \"Client error: (404) Not Found\"\n",
      "\n"
     ]
    },
    {
     "name": "stderr",
     "output_type": "stream",
     "text": [
      "No encoding supplied: defaulting to UTF-8.\n",
      "\n"
     ]
    },
    {
     "name": "stdout",
     "output_type": "stream",
     "text": [
      "[1] \"{\\\"detail\\\":\\\"The query didn't return any results\\\",\\\"status_code\\\":404}\"\n",
      "[1] \"no results for the query\"\n",
      "[1] 67\n",
      "[1] 68\n",
      "[1] 69\n",
      "$category\n",
      "[1] \"Client error\"\n",
      "\n",
      "$reason\n",
      "[1] \"Not Found\"\n",
      "\n",
      "$message\n",
      "[1] \"Client error: (404) Not Found\"\n",
      "\n"
     ]
    },
    {
     "name": "stderr",
     "output_type": "stream",
     "text": [
      "No encoding supplied: defaulting to UTF-8.\n",
      "\n"
     ]
    },
    {
     "name": "stdout",
     "output_type": "stream",
     "text": [
      "[1] \"{\\\"detail\\\":\\\"The query didn't return any results\\\",\\\"status_code\\\":404}\"\n",
      "[1] \"no results for the query\"\n",
      "[1] 70\n",
      "$category\n",
      "[1] \"Client error\"\n",
      "\n",
      "$reason\n",
      "[1] \"Not Found\"\n",
      "\n",
      "$message\n",
      "[1] \"Client error: (404) Not Found\"\n",
      "\n"
     ]
    },
    {
     "name": "stderr",
     "output_type": "stream",
     "text": [
      "No encoding supplied: defaulting to UTF-8.\n",
      "\n"
     ]
    },
    {
     "name": "stdout",
     "output_type": "stream",
     "text": [
      "[1] \"{\\\"detail\\\":\\\"The query didn't return any results\\\",\\\"status_code\\\":404}\"\n",
      "[1] \"no results for the query\"\n",
      "[1] 71\n",
      "$category\n",
      "[1] \"Client error\"\n",
      "\n",
      "$reason\n",
      "[1] \"Not Found\"\n",
      "\n",
      "$message\n",
      "[1] \"Client error: (404) Not Found\"\n",
      "\n"
     ]
    },
    {
     "name": "stderr",
     "output_type": "stream",
     "text": [
      "No encoding supplied: defaulting to UTF-8.\n",
      "\n"
     ]
    },
    {
     "name": "stdout",
     "output_type": "stream",
     "text": [
      "[1] \"{\\\"detail\\\":\\\"The query didn't return any results\\\",\\\"status_code\\\":404}\"\n",
      "[1] \"no results for the query\"\n",
      "[1] 72\n",
      "$category\n",
      "[1] \"Client error\"\n",
      "\n",
      "$reason\n",
      "[1] \"Not Found\"\n",
      "\n",
      "$message\n",
      "[1] \"Client error: (404) Not Found\"\n",
      "\n"
     ]
    },
    {
     "name": "stderr",
     "output_type": "stream",
     "text": [
      "No encoding supplied: defaulting to UTF-8.\n",
      "\n"
     ]
    },
    {
     "name": "stdout",
     "output_type": "stream",
     "text": [
      "[1] \"{\\\"detail\\\":\\\"The query didn't return any results\\\",\\\"status_code\\\":404}\"\n",
      "[1] \"no results for the query\"\n",
      "[1] 73\n",
      "$category\n",
      "[1] \"Client error\"\n",
      "\n",
      "$reason\n",
      "[1] \"Not Found\"\n",
      "\n",
      "$message\n",
      "[1] \"Client error: (404) Not Found\"\n",
      "\n"
     ]
    },
    {
     "name": "stderr",
     "output_type": "stream",
     "text": [
      "No encoding supplied: defaulting to UTF-8.\n",
      "\n"
     ]
    },
    {
     "name": "stdout",
     "output_type": "stream",
     "text": [
      "[1] \"{\\\"detail\\\":\\\"The query didn't return any results\\\",\\\"status_code\\\":404}\"\n",
      "[1] \"no results for the query\"\n",
      "[1] 74\n",
      "[1] 75\n",
      "$category\n",
      "[1] \"Client error\"\n",
      "\n",
      "$reason\n",
      "[1] \"Not Found\"\n",
      "\n",
      "$message\n",
      "[1] \"Client error: (404) Not Found\"\n",
      "\n"
     ]
    },
    {
     "name": "stderr",
     "output_type": "stream",
     "text": [
      "No encoding supplied: defaulting to UTF-8.\n",
      "\n"
     ]
    },
    {
     "name": "stdout",
     "output_type": "stream",
     "text": [
      "[1] \"{\\\"detail\\\":\\\"The query didn't return any results\\\",\\\"status_code\\\":404}\"\n",
      "[1] \"no results for the query\"\n",
      "[1] 76\n",
      "$category\n",
      "[1] \"Client error\"\n",
      "\n",
      "$reason\n",
      "[1] \"Not Found\"\n",
      "\n",
      "$message\n",
      "[1] \"Client error: (404) Not Found\"\n",
      "\n"
     ]
    },
    {
     "name": "stderr",
     "output_type": "stream",
     "text": [
      "No encoding supplied: defaulting to UTF-8.\n",
      "\n"
     ]
    },
    {
     "name": "stdout",
     "output_type": "stream",
     "text": [
      "[1] \"{\\\"detail\\\":\\\"The query didn't return any results\\\",\\\"status_code\\\":404}\"\n",
      "[1] \"no results for the query\"\n",
      "[1] 77\n",
      "$category\n",
      "[1] \"Client error\"\n",
      "\n",
      "$reason\n",
      "[1] \"Not Found\"\n",
      "\n",
      "$message\n",
      "[1] \"Client error: (404) Not Found\"\n",
      "\n"
     ]
    },
    {
     "name": "stderr",
     "output_type": "stream",
     "text": [
      "No encoding supplied: defaulting to UTF-8.\n",
      "\n"
     ]
    },
    {
     "name": "stdout",
     "output_type": "stream",
     "text": [
      "[1] \"{\\\"detail\\\":\\\"The query didn't return any results\\\",\\\"status_code\\\":404}\"\n",
      "[1] \"no results for the query\"\n",
      "[1] 78\n",
      "[1] 79\n",
      "[1] 80\n",
      "[1] 81\n",
      "[1] 82\n",
      "[1] 83\n",
      "[1] 84\n",
      "[1] 85\n",
      "[1] 86\n",
      "$category\n",
      "[1] \"Client error\"\n",
      "\n",
      "$reason\n",
      "[1] \"Not Found\"\n",
      "\n",
      "$message\n",
      "[1] \"Client error: (404) Not Found\"\n",
      "\n"
     ]
    },
    {
     "name": "stderr",
     "output_type": "stream",
     "text": [
      "No encoding supplied: defaulting to UTF-8.\n",
      "\n"
     ]
    },
    {
     "name": "stdout",
     "output_type": "stream",
     "text": [
      "[1] \"{\\\"detail\\\":\\\"The query didn't return any results\\\",\\\"status_code\\\":404}\"\n",
      "[1] \"no results for the query\"\n",
      "[1] 87\n",
      "$category\n",
      "[1] \"Client error\"\n",
      "\n",
      "$reason\n",
      "[1] \"Not Found\"\n",
      "\n",
      "$message\n",
      "[1] \"Client error: (404) Not Found\"\n",
      "\n"
     ]
    },
    {
     "name": "stderr",
     "output_type": "stream",
     "text": [
      "No encoding supplied: defaulting to UTF-8.\n",
      "\n"
     ]
    },
    {
     "name": "stdout",
     "output_type": "stream",
     "text": [
      "[1] \"{\\\"detail\\\":\\\"The query didn't return any results\\\",\\\"status_code\\\":404}\"\n",
      "[1] \"no results for the query\"\n",
      "[1] 88\n",
      "$category\n",
      "[1] \"Client error\"\n",
      "\n",
      "$reason\n",
      "[1] \"Not Found\"\n",
      "\n",
      "$message\n",
      "[1] \"Client error: (404) Not Found\"\n",
      "\n"
     ]
    },
    {
     "name": "stderr",
     "output_type": "stream",
     "text": [
      "No encoding supplied: defaulting to UTF-8.\n",
      "\n"
     ]
    },
    {
     "name": "stdout",
     "output_type": "stream",
     "text": [
      "[1] \"{\\\"detail\\\":\\\"The query didn't return any results\\\",\\\"status_code\\\":404}\"\n",
      "[1] \"no results for the query\"\n",
      "[1] 89\n",
      "[1] 90\n",
      "[1] 91\n",
      "$category\n",
      "[1] \"Client error\"\n",
      "\n",
      "$reason\n",
      "[1] \"Not Found\"\n",
      "\n",
      "$message\n",
      "[1] \"Client error: (404) Not Found\"\n",
      "\n"
     ]
    },
    {
     "name": "stderr",
     "output_type": "stream",
     "text": [
      "No encoding supplied: defaulting to UTF-8.\n",
      "\n"
     ]
    },
    {
     "name": "stdout",
     "output_type": "stream",
     "text": [
      "[1] \"{\\\"detail\\\":\\\"The query didn't return any results\\\",\\\"status_code\\\":404}\"\n",
      "[1] \"no results for the query\"\n",
      "[1] 92\n",
      "$category\n",
      "[1] \"Client error\"\n",
      "\n",
      "$reason\n",
      "[1] \"Not Found\"\n",
      "\n",
      "$message\n",
      "[1] \"Client error: (404) Not Found\"\n",
      "\n"
     ]
    },
    {
     "name": "stderr",
     "output_type": "stream",
     "text": [
      "No encoding supplied: defaulting to UTF-8.\n",
      "\n"
     ]
    },
    {
     "name": "stdout",
     "output_type": "stream",
     "text": [
      "[1] \"{\\\"detail\\\":\\\"The query didn't return any results\\\",\\\"status_code\\\":404}\"\n",
      "[1] \"no results for the query\"\n",
      "[1] 93\n",
      "$category\n",
      "[1] \"Client error\"\n",
      "\n",
      "$reason\n",
      "[1] \"Not Found\"\n",
      "\n",
      "$message\n",
      "[1] \"Client error: (404) Not Found\"\n",
      "\n"
     ]
    },
    {
     "name": "stderr",
     "output_type": "stream",
     "text": [
      "No encoding supplied: defaulting to UTF-8.\n",
      "\n"
     ]
    },
    {
     "name": "stdout",
     "output_type": "stream",
     "text": [
      "[1] \"{\\\"detail\\\":\\\"The query didn't return any results\\\",\\\"status_code\\\":404}\"\n",
      "[1] \"no results for the query\"\n",
      "[1] 94\n",
      "[1] 95\n",
      "$category\n",
      "[1] \"Client error\"\n",
      "\n",
      "$reason\n",
      "[1] \"Not Found\"\n",
      "\n",
      "$message\n",
      "[1] \"Client error: (404) Not Found\"\n",
      "\n"
     ]
    },
    {
     "name": "stderr",
     "output_type": "stream",
     "text": [
      "No encoding supplied: defaulting to UTF-8.\n",
      "\n"
     ]
    },
    {
     "name": "stdout",
     "output_type": "stream",
     "text": [
      "[1] \"{\\\"detail\\\":\\\"The query didn't return any results\\\",\\\"status_code\\\":404}\"\n",
      "[1] \"no results for the query\"\n",
      "[1] 96\n",
      "[1] 97\n",
      "[1] 98\n",
      "[1] 99\n",
      "$category\n",
      "[1] \"Client error\"\n",
      "\n",
      "$reason\n",
      "[1] \"Not Found\"\n",
      "\n",
      "$message\n",
      "[1] \"Client error: (404) Not Found\"\n",
      "\n"
     ]
    },
    {
     "name": "stderr",
     "output_type": "stream",
     "text": [
      "No encoding supplied: defaulting to UTF-8.\n",
      "\n"
     ]
    },
    {
     "name": "stdout",
     "output_type": "stream",
     "text": [
      "[1] \"{\\\"detail\\\":\\\"The query didn't return any results\\\",\\\"status_code\\\":404}\"\n",
      "[1] \"no results for the query\"\n",
      "[1] 100\n",
      "$category\n",
      "[1] \"Client error\"\n",
      "\n",
      "$reason\n",
      "[1] \"Not Found\"\n",
      "\n",
      "$message\n",
      "[1] \"Client error: (404) Not Found\"\n",
      "\n"
     ]
    },
    {
     "name": "stderr",
     "output_type": "stream",
     "text": [
      "No encoding supplied: defaulting to UTF-8.\n",
      "\n"
     ]
    },
    {
     "name": "stdout",
     "output_type": "stream",
     "text": [
      "[1] \"{\\\"detail\\\":\\\"The query didn't return any results\\\",\\\"status_code\\\":404}\"\n",
      "[1] \"no results for the query\"\n",
      "[1] 101\n",
      "$category\n",
      "[1] \"Client error\"\n",
      "\n",
      "$reason\n",
      "[1] \"Not Found\"\n",
      "\n",
      "$message\n",
      "[1] \"Client error: (404) Not Found\"\n",
      "\n"
     ]
    },
    {
     "name": "stderr",
     "output_type": "stream",
     "text": [
      "No encoding supplied: defaulting to UTF-8.\n",
      "\n"
     ]
    },
    {
     "name": "stdout",
     "output_type": "stream",
     "text": [
      "[1] \"{\\\"detail\\\":\\\"The query didn't return any results\\\",\\\"status_code\\\":404}\"\n",
      "[1] \"no results for the query\"\n",
      "[1] 102\n",
      "$category\n",
      "[1] \"Client error\"\n",
      "\n",
      "$reason\n",
      "[1] \"Not Found\"\n",
      "\n",
      "$message\n",
      "[1] \"Client error: (404) Not Found\"\n",
      "\n"
     ]
    },
    {
     "name": "stderr",
     "output_type": "stream",
     "text": [
      "No encoding supplied: defaulting to UTF-8.\n",
      "\n"
     ]
    },
    {
     "name": "stdout",
     "output_type": "stream",
     "text": [
      "[1] \"{\\\"detail\\\":\\\"The query didn't return any results\\\",\\\"status_code\\\":404}\"\n",
      "[1] \"no results for the query\"\n",
      "[1] 103\n",
      "$category\n",
      "[1] \"Client error\"\n",
      "\n",
      "$reason\n",
      "[1] \"Not Found\"\n",
      "\n",
      "$message\n",
      "[1] \"Client error: (404) Not Found\"\n",
      "\n"
     ]
    },
    {
     "name": "stderr",
     "output_type": "stream",
     "text": [
      "No encoding supplied: defaulting to UTF-8.\n",
      "\n"
     ]
    },
    {
     "name": "stdout",
     "output_type": "stream",
     "text": [
      "[1] \"{\\\"detail\\\":\\\"The query didn't return any results\\\",\\\"status_code\\\":404}\"\n",
      "[1] \"no results for the query\"\n",
      "[1] 104\n",
      "$category\n",
      "[1] \"Client error\"\n",
      "\n",
      "$reason\n",
      "[1] \"Not Found\"\n",
      "\n",
      "$message\n",
      "[1] \"Client error: (404) Not Found\"\n",
      "\n"
     ]
    },
    {
     "name": "stderr",
     "output_type": "stream",
     "text": [
      "No encoding supplied: defaulting to UTF-8.\n",
      "\n"
     ]
    },
    {
     "name": "stdout",
     "output_type": "stream",
     "text": [
      "[1] \"{\\\"detail\\\":\\\"The query didn't return any results\\\",\\\"status_code\\\":404}\"\n",
      "[1] \"no results for the query\"\n",
      "[1] 105\n",
      "[1] 106\n",
      "[1] 107\n",
      "[1] 108\n",
      "$category\n",
      "[1] \"Client error\"\n",
      "\n",
      "$reason\n",
      "[1] \"Not Found\"\n",
      "\n",
      "$message\n",
      "[1] \"Client error: (404) Not Found\"\n",
      "\n"
     ]
    },
    {
     "name": "stderr",
     "output_type": "stream",
     "text": [
      "No encoding supplied: defaulting to UTF-8.\n",
      "\n"
     ]
    },
    {
     "name": "stdout",
     "output_type": "stream",
     "text": [
      "[1] \"{\\\"detail\\\":\\\"The query didn't return any results\\\",\\\"status_code\\\":404}\"\n",
      "[1] \"no results for the query\"\n",
      "[1] 109\n",
      "[1] 110\n",
      "$category\n",
      "[1] \"Client error\"\n",
      "\n",
      "$reason\n",
      "[1] \"Not Found\"\n",
      "\n",
      "$message\n",
      "[1] \"Client error: (404) Not Found\"\n",
      "\n"
     ]
    },
    {
     "name": "stderr",
     "output_type": "stream",
     "text": [
      "No encoding supplied: defaulting to UTF-8.\n",
      "\n"
     ]
    },
    {
     "name": "stdout",
     "output_type": "stream",
     "text": [
      "[1] \"{\\\"detail\\\":\\\"The query didn't return any results\\\",\\\"status_code\\\":404}\"\n",
      "[1] \"no results for the query\"\n",
      "[1] 111\n",
      "[1] 112\n",
      "$category\n",
      "[1] \"Client error\"\n",
      "\n",
      "$reason\n",
      "[1] \"Not Found\"\n",
      "\n",
      "$message\n",
      "[1] \"Client error: (404) Not Found\"\n",
      "\n"
     ]
    },
    {
     "name": "stderr",
     "output_type": "stream",
     "text": [
      "No encoding supplied: defaulting to UTF-8.\n",
      "\n"
     ]
    },
    {
     "name": "stdout",
     "output_type": "stream",
     "text": [
      "[1] \"{\\\"detail\\\":\\\"The query didn't return any results\\\",\\\"status_code\\\":404}\"\n",
      "[1] \"no results for the query\"\n",
      "[1] 113\n",
      "$category\n",
      "[1] \"Client error\"\n",
      "\n",
      "$reason\n",
      "[1] \"Not Found\"\n",
      "\n",
      "$message\n",
      "[1] \"Client error: (404) Not Found\"\n",
      "\n"
     ]
    },
    {
     "name": "stderr",
     "output_type": "stream",
     "text": [
      "No encoding supplied: defaulting to UTF-8.\n",
      "\n"
     ]
    },
    {
     "name": "stdout",
     "output_type": "stream",
     "text": [
      "[1] \"{\\\"detail\\\":\\\"The query didn't return any results\\\",\\\"status_code\\\":404}\"\n",
      "[1] \"no results for the query\"\n",
      "[1] 114\n",
      "$category\n",
      "[1] \"Client error\"\n",
      "\n",
      "$reason\n",
      "[1] \"Not Found\"\n",
      "\n",
      "$message\n",
      "[1] \"Client error: (404) Not Found\"\n",
      "\n"
     ]
    },
    {
     "name": "stderr",
     "output_type": "stream",
     "text": [
      "No encoding supplied: defaulting to UTF-8.\n",
      "\n"
     ]
    },
    {
     "name": "stdout",
     "output_type": "stream",
     "text": [
      "[1] \"{\\\"detail\\\":\\\"The query didn't return any results\\\",\\\"status_code\\\":404}\"\n",
      "[1] \"no results for the query\"\n",
      "[1] 115\n",
      "$category\n",
      "[1] \"Client error\"\n",
      "\n",
      "$reason\n",
      "[1] \"Not Found\"\n",
      "\n",
      "$message\n",
      "[1] \"Client error: (404) Not Found\"\n",
      "\n"
     ]
    },
    {
     "name": "stderr",
     "output_type": "stream",
     "text": [
      "No encoding supplied: defaulting to UTF-8.\n",
      "\n"
     ]
    },
    {
     "name": "stdout",
     "output_type": "stream",
     "text": [
      "[1] \"{\\\"detail\\\":\\\"The query didn't return any results\\\",\\\"status_code\\\":404}\"\n",
      "[1] \"no results for the query\"\n",
      "[1] 116\n",
      "[1] 117\n",
      "[1] 118\n",
      "$category\n",
      "[1] \"Client error\"\n",
      "\n",
      "$reason\n",
      "[1] \"Not Found\"\n",
      "\n",
      "$message\n",
      "[1] \"Client error: (404) Not Found\"\n",
      "\n"
     ]
    },
    {
     "name": "stderr",
     "output_type": "stream",
     "text": [
      "No encoding supplied: defaulting to UTF-8.\n",
      "\n"
     ]
    },
    {
     "name": "stdout",
     "output_type": "stream",
     "text": [
      "[1] \"{\\\"detail\\\":\\\"The query didn't return any results\\\",\\\"status_code\\\":404}\"\n",
      "[1] \"no results for the query\"\n",
      "[1] 119\n",
      "$category\n",
      "[1] \"Client error\"\n",
      "\n",
      "$reason\n",
      "[1] \"Not Found\"\n",
      "\n",
      "$message\n",
      "[1] \"Client error: (404) Not Found\"\n",
      "\n"
     ]
    },
    {
     "name": "stderr",
     "output_type": "stream",
     "text": [
      "No encoding supplied: defaulting to UTF-8.\n",
      "\n"
     ]
    },
    {
     "name": "stdout",
     "output_type": "stream",
     "text": [
      "[1] \"{\\\"detail\\\":\\\"The query didn't return any results\\\",\\\"status_code\\\":404}\"\n",
      "[1] \"no results for the query\"\n",
      "[1] 120\n",
      "[1] 121\n",
      "[1] 122\n",
      "[1] 123\n",
      "[1] 124\n",
      "$category\n",
      "[1] \"Client error\"\n",
      "\n",
      "$reason\n",
      "[1] \"Not Found\"\n",
      "\n",
      "$message\n",
      "[1] \"Client error: (404) Not Found\"\n",
      "\n"
     ]
    },
    {
     "name": "stderr",
     "output_type": "stream",
     "text": [
      "No encoding supplied: defaulting to UTF-8.\n",
      "\n"
     ]
    },
    {
     "name": "stdout",
     "output_type": "stream",
     "text": [
      "[1] \"{\\\"detail\\\":\\\"The query didn't return any results\\\",\\\"status_code\\\":404}\"\n",
      "[1] \"no results for the query\"\n",
      "[1] 125\n",
      "$category\n",
      "[1] \"Client error\"\n",
      "\n",
      "$reason\n",
      "[1] \"Not Found\"\n",
      "\n",
      "$message\n",
      "[1] \"Client error: (404) Not Found\"\n",
      "\n"
     ]
    },
    {
     "name": "stderr",
     "output_type": "stream",
     "text": [
      "No encoding supplied: defaulting to UTF-8.\n",
      "\n"
     ]
    },
    {
     "name": "stdout",
     "output_type": "stream",
     "text": [
      "[1] \"{\\\"detail\\\":\\\"The query didn't return any results\\\",\\\"status_code\\\":404}\"\n",
      "[1] \"no results for the query\"\n",
      "[1] 126\n",
      "[1] 127\n",
      "[1] 128\n",
      "[1] 129\n",
      "$category\n",
      "[1] \"Client error\"\n",
      "\n",
      "$reason\n",
      "[1] \"Not Found\"\n",
      "\n",
      "$message\n",
      "[1] \"Client error: (404) Not Found\"\n",
      "\n"
     ]
    },
    {
     "name": "stderr",
     "output_type": "stream",
     "text": [
      "No encoding supplied: defaulting to UTF-8.\n",
      "\n"
     ]
    },
    {
     "name": "stdout",
     "output_type": "stream",
     "text": [
      "[1] \"{\\\"detail\\\":\\\"The query didn't return any results\\\",\\\"status_code\\\":404}\"\n",
      "[1] \"no results for the query\"\n",
      "[1] 130\n",
      "$category\n",
      "[1] \"Client error\"\n",
      "\n",
      "$reason\n",
      "[1] \"Not Found\"\n",
      "\n",
      "$message\n",
      "[1] \"Client error: (404) Not Found\"\n",
      "\n"
     ]
    },
    {
     "name": "stderr",
     "output_type": "stream",
     "text": [
      "No encoding supplied: defaulting to UTF-8.\n",
      "\n"
     ]
    },
    {
     "name": "stdout",
     "output_type": "stream",
     "text": [
      "[1] \"{\\\"detail\\\":\\\"The query didn't return any results\\\",\\\"status_code\\\":404}\"\n",
      "[1] \"no results for the query\"\n",
      "[1] 131\n",
      "[1] 132\n",
      "[1] 133\n",
      "[1] 134\n",
      "$category\n",
      "[1] \"Client error\"\n",
      "\n",
      "$reason\n",
      "[1] \"Not Found\"\n",
      "\n",
      "$message\n",
      "[1] \"Client error: (404) Not Found\"\n",
      "\n"
     ]
    },
    {
     "name": "stderr",
     "output_type": "stream",
     "text": [
      "No encoding supplied: defaulting to UTF-8.\n",
      "\n"
     ]
    },
    {
     "name": "stdout",
     "output_type": "stream",
     "text": [
      "[1] \"{\\\"detail\\\":\\\"The query didn't return any results\\\",\\\"status_code\\\":404}\"\n",
      "[1] \"no results for the query\"\n",
      "[1] 135\n",
      "$category\n",
      "[1] \"Client error\"\n",
      "\n",
      "$reason\n",
      "[1] \"Not Found\"\n",
      "\n",
      "$message\n",
      "[1] \"Client error: (404) Not Found\"\n",
      "\n"
     ]
    },
    {
     "name": "stderr",
     "output_type": "stream",
     "text": [
      "No encoding supplied: defaulting to UTF-8.\n",
      "\n"
     ]
    },
    {
     "name": "stdout",
     "output_type": "stream",
     "text": [
      "[1] \"{\\\"detail\\\":\\\"The query didn't return any results\\\",\\\"status_code\\\":404}\"\n",
      "[1] \"no results for the query\"\n",
      "[1] 136\n",
      "[1] 137\n",
      "$category\n",
      "[1] \"Client error\"\n",
      "\n",
      "$reason\n",
      "[1] \"Not Found\"\n",
      "\n",
      "$message\n",
      "[1] \"Client error: (404) Not Found\"\n",
      "\n"
     ]
    },
    {
     "name": "stderr",
     "output_type": "stream",
     "text": [
      "No encoding supplied: defaulting to UTF-8.\n",
      "\n"
     ]
    },
    {
     "name": "stdout",
     "output_type": "stream",
     "text": [
      "[1] \"{\\\"detail\\\":\\\"The query didn't return any results\\\",\\\"status_code\\\":404}\"\n",
      "[1] \"no results for the query\"\n",
      "[1] 138\n",
      "[1] 139\n",
      "[1] 140\n",
      "[1] 141\n",
      "[1] 142\n",
      "$category\n",
      "[1] \"Client error\"\n",
      "\n",
      "$reason\n",
      "[1] \"Not Found\"\n",
      "\n",
      "$message\n",
      "[1] \"Client error: (404) Not Found\"\n",
      "\n"
     ]
    },
    {
     "name": "stderr",
     "output_type": "stream",
     "text": [
      "No encoding supplied: defaulting to UTF-8.\n",
      "\n"
     ]
    },
    {
     "name": "stdout",
     "output_type": "stream",
     "text": [
      "[1] \"{\\\"detail\\\":\\\"The query didn't return any results\\\",\\\"status_code\\\":404}\"\n",
      "[1] \"no results for the query\"\n",
      "[1] 143\n",
      "[1] 144\n",
      "[1] 145\n",
      "$category\n",
      "[1] \"Client error\"\n",
      "\n",
      "$reason\n",
      "[1] \"Not Found\"\n",
      "\n",
      "$message\n",
      "[1] \"Client error: (404) Not Found\"\n",
      "\n"
     ]
    },
    {
     "name": "stderr",
     "output_type": "stream",
     "text": [
      "No encoding supplied: defaulting to UTF-8.\n",
      "\n"
     ]
    },
    {
     "name": "stdout",
     "output_type": "stream",
     "text": [
      "[1] \"{\\\"detail\\\":\\\"The query didn't return any results\\\",\\\"status_code\\\":404}\"\n",
      "[1] \"no results for the query\"\n",
      "[1] 146\n",
      "[1] 147\n",
      "$category\n",
      "[1] \"Client error\"\n",
      "\n",
      "$reason\n",
      "[1] \"Not Found\"\n",
      "\n",
      "$message\n",
      "[1] \"Client error: (404) Not Found\"\n",
      "\n"
     ]
    },
    {
     "name": "stderr",
     "output_type": "stream",
     "text": [
      "No encoding supplied: defaulting to UTF-8.\n",
      "\n"
     ]
    },
    {
     "name": "stdout",
     "output_type": "stream",
     "text": [
      "[1] \"{\\\"detail\\\":\\\"The query didn't return any results\\\",\\\"status_code\\\":404}\"\n",
      "[1] \"no results for the query\"\n",
      "[1] 148\n",
      "$category\n",
      "[1] \"Client error\"\n",
      "\n",
      "$reason\n",
      "[1] \"Not Found\"\n",
      "\n",
      "$message\n",
      "[1] \"Client error: (404) Not Found\"\n",
      "\n"
     ]
    },
    {
     "name": "stderr",
     "output_type": "stream",
     "text": [
      "No encoding supplied: defaulting to UTF-8.\n",
      "\n"
     ]
    },
    {
     "name": "stdout",
     "output_type": "stream",
     "text": [
      "[1] \"{\\\"detail\\\":\\\"The query didn't return any results\\\",\\\"status_code\\\":404}\"\n",
      "[1] \"no results for the query\"\n",
      "[1] 149\n",
      "[1] 150\n",
      "[1] 151\n",
      "[1] 152\n",
      "[1] 153\n",
      "[1] 154\n",
      "$category\n",
      "[1] \"Client error\"\n",
      "\n",
      "$reason\n",
      "[1] \"Not Found\"\n",
      "\n",
      "$message\n",
      "[1] \"Client error: (404) Not Found\"\n",
      "\n"
     ]
    },
    {
     "name": "stderr",
     "output_type": "stream",
     "text": [
      "No encoding supplied: defaulting to UTF-8.\n",
      "\n"
     ]
    },
    {
     "name": "stdout",
     "output_type": "stream",
     "text": [
      "[1] \"{\\\"detail\\\":\\\"The query didn't return any results\\\",\\\"status_code\\\":404}\"\n",
      "[1] \"no results for the query\"\n",
      "[1] 155\n",
      "[1] 156\n",
      "$category\n",
      "[1] \"Client error\"\n",
      "\n",
      "$reason\n",
      "[1] \"Not Found\"\n",
      "\n",
      "$message\n",
      "[1] \"Client error: (404) Not Found\"\n",
      "\n"
     ]
    },
    {
     "name": "stderr",
     "output_type": "stream",
     "text": [
      "No encoding supplied: defaulting to UTF-8.\n",
      "\n"
     ]
    },
    {
     "name": "stdout",
     "output_type": "stream",
     "text": [
      "[1] \"{\\\"detail\\\":\\\"The query didn't return any results\\\",\\\"status_code\\\":404}\"\n",
      "[1] \"no results for the query\"\n",
      "[1] 157\n",
      "$category\n",
      "[1] \"Client error\"\n",
      "\n",
      "$reason\n",
      "[1] \"Not Found\"\n",
      "\n",
      "$message\n",
      "[1] \"Client error: (404) Not Found\"\n",
      "\n"
     ]
    },
    {
     "name": "stderr",
     "output_type": "stream",
     "text": [
      "No encoding supplied: defaulting to UTF-8.\n",
      "\n"
     ]
    },
    {
     "name": "stdout",
     "output_type": "stream",
     "text": [
      "[1] \"{\\\"detail\\\":\\\"The query didn't return any results\\\",\\\"status_code\\\":404}\"\n",
      "[1] \"no results for the query\"\n",
      "[1] 158\n",
      "$category\n",
      "[1] \"Client error\"\n",
      "\n",
      "$reason\n",
      "[1] \"Not Found\"\n",
      "\n",
      "$message\n",
      "[1] \"Client error: (404) Not Found\"\n",
      "\n"
     ]
    },
    {
     "name": "stderr",
     "output_type": "stream",
     "text": [
      "No encoding supplied: defaulting to UTF-8.\n",
      "\n"
     ]
    },
    {
     "name": "stdout",
     "output_type": "stream",
     "text": [
      "[1] \"{\\\"detail\\\":\\\"The query didn't return any results\\\",\\\"status_code\\\":404}\"\n",
      "[1] \"no results for the query\"\n",
      "[1] 159\n",
      "$category\n",
      "[1] \"Client error\"\n",
      "\n",
      "$reason\n",
      "[1] \"Not Found\"\n",
      "\n",
      "$message\n",
      "[1] \"Client error: (404) Not Found\"\n",
      "\n"
     ]
    },
    {
     "name": "stderr",
     "output_type": "stream",
     "text": [
      "No encoding supplied: defaulting to UTF-8.\n",
      "\n"
     ]
    },
    {
     "name": "stdout",
     "output_type": "stream",
     "text": [
      "[1] \"{\\\"detail\\\":\\\"The query didn't return any results\\\",\\\"status_code\\\":404}\"\n",
      "[1] \"no results for the query\"\n",
      "[1] 160\n",
      "[1] 161\n",
      "$category\n",
      "[1] \"Client error\"\n",
      "\n",
      "$reason\n",
      "[1] \"Not Found\"\n",
      "\n",
      "$message\n",
      "[1] \"Client error: (404) Not Found\"\n",
      "\n"
     ]
    },
    {
     "name": "stderr",
     "output_type": "stream",
     "text": [
      "No encoding supplied: defaulting to UTF-8.\n",
      "\n"
     ]
    },
    {
     "name": "stdout",
     "output_type": "stream",
     "text": [
      "[1] \"{\\\"detail\\\":\\\"The query didn't return any results\\\",\\\"status_code\\\":404}\"\n",
      "[1] \"no results for the query\"\n",
      "[1] 162\n",
      "$category\n",
      "[1] \"Client error\"\n",
      "\n",
      "$reason\n",
      "[1] \"Not Found\"\n",
      "\n",
      "$message\n",
      "[1] \"Client error: (404) Not Found\"\n",
      "\n"
     ]
    },
    {
     "name": "stderr",
     "output_type": "stream",
     "text": [
      "No encoding supplied: defaulting to UTF-8.\n",
      "\n"
     ]
    },
    {
     "name": "stdout",
     "output_type": "stream",
     "text": [
      "[1] \"{\\\"detail\\\":\\\"The query didn't return any results\\\",\\\"status_code\\\":404}\"\n",
      "[1] \"no results for the query\"\n",
      "[1] 163\n",
      "[1] 164\n",
      "$category\n",
      "[1] \"Client error\"\n",
      "\n",
      "$reason\n",
      "[1] \"Not Found\"\n",
      "\n",
      "$message\n",
      "[1] \"Client error: (404) Not Found\"\n",
      "\n"
     ]
    },
    {
     "name": "stderr",
     "output_type": "stream",
     "text": [
      "No encoding supplied: defaulting to UTF-8.\n",
      "\n"
     ]
    },
    {
     "name": "stdout",
     "output_type": "stream",
     "text": [
      "[1] \"{\\\"detail\\\":\\\"The query didn't return any results\\\",\\\"status_code\\\":404}\"\n",
      "[1] \"no results for the query\"\n",
      "[1] 165\n",
      "[1] 166\n",
      "$category\n",
      "[1] \"Client error\"\n",
      "\n",
      "$reason\n",
      "[1] \"Not Found\"\n",
      "\n",
      "$message\n",
      "[1] \"Client error: (404) Not Found\"\n",
      "\n"
     ]
    },
    {
     "name": "stderr",
     "output_type": "stream",
     "text": [
      "No encoding supplied: defaulting to UTF-8.\n",
      "\n"
     ]
    },
    {
     "name": "stdout",
     "output_type": "stream",
     "text": [
      "[1] \"{\\\"detail\\\":\\\"The query didn't return any results\\\",\\\"status_code\\\":404}\"\n",
      "[1] \"no results for the query\"\n",
      "[1] 167\n",
      "$category\n",
      "[1] \"Client error\"\n",
      "\n",
      "$reason\n",
      "[1] \"Not Found\"\n",
      "\n",
      "$message\n",
      "[1] \"Client error: (404) Not Found\"\n",
      "\n"
     ]
    },
    {
     "name": "stderr",
     "output_type": "stream",
     "text": [
      "No encoding supplied: defaulting to UTF-8.\n",
      "\n"
     ]
    },
    {
     "name": "stdout",
     "output_type": "stream",
     "text": [
      "[1] \"{\\\"detail\\\":\\\"The query didn't return any results\\\",\\\"status_code\\\":404}\"\n",
      "[1] \"no results for the query\"\n",
      "[1] 168\n",
      "[1] 169\n",
      "$category\n",
      "[1] \"Client error\"\n",
      "\n",
      "$reason\n",
      "[1] \"Not Found\"\n",
      "\n",
      "$message\n",
      "[1] \"Client error: (404) Not Found\"\n",
      "\n"
     ]
    },
    {
     "name": "stderr",
     "output_type": "stream",
     "text": [
      "No encoding supplied: defaulting to UTF-8.\n",
      "\n"
     ]
    },
    {
     "name": "stdout",
     "output_type": "stream",
     "text": [
      "[1] \"{\\\"detail\\\":\\\"The query didn't return any results\\\",\\\"status_code\\\":404}\"\n",
      "[1] \"no results for the query\"\n",
      "[1] 170\n",
      "[1] 171\n",
      "[1] 172\n",
      "[1] 173\n",
      "$category\n",
      "[1] \"Client error\"\n",
      "\n",
      "$reason\n",
      "[1] \"Not Found\"\n",
      "\n",
      "$message\n",
      "[1] \"Client error: (404) Not Found\"\n",
      "\n"
     ]
    },
    {
     "name": "stderr",
     "output_type": "stream",
     "text": [
      "No encoding supplied: defaulting to UTF-8.\n",
      "\n"
     ]
    },
    {
     "name": "stdout",
     "output_type": "stream",
     "text": [
      "[1] \"{\\\"detail\\\":\\\"The query didn't return any results\\\",\\\"status_code\\\":404}\"\n",
      "[1] \"no results for the query\"\n",
      "[1] 174\n",
      "[1] 175\n",
      "[1] 176\n",
      "$category\n",
      "[1] \"Client error\"\n",
      "\n",
      "$reason\n",
      "[1] \"Not Found\"\n",
      "\n",
      "$message\n",
      "[1] \"Client error: (404) Not Found\"\n",
      "\n"
     ]
    },
    {
     "name": "stderr",
     "output_type": "stream",
     "text": [
      "No encoding supplied: defaulting to UTF-8.\n",
      "\n"
     ]
    },
    {
     "name": "stdout",
     "output_type": "stream",
     "text": [
      "[1] \"{\\\"detail\\\":\\\"The query didn't return any results\\\",\\\"status_code\\\":404}\"\n",
      "[1] \"no results for the query\"\n",
      "[1] 177\n",
      "$category\n",
      "[1] \"Client error\"\n",
      "\n",
      "$reason\n",
      "[1] \"Not Found\"\n",
      "\n",
      "$message\n",
      "[1] \"Client error: (404) Not Found\"\n",
      "\n"
     ]
    },
    {
     "name": "stderr",
     "output_type": "stream",
     "text": [
      "No encoding supplied: defaulting to UTF-8.\n",
      "\n"
     ]
    },
    {
     "name": "stdout",
     "output_type": "stream",
     "text": [
      "[1] \"{\\\"detail\\\":\\\"The query didn't return any results\\\",\\\"status_code\\\":404}\"\n",
      "[1] \"no results for the query\"\n",
      "[1] 178\n",
      "[1] 179\n",
      "[1] 180\n",
      "$category\n",
      "[1] \"Client error\"\n",
      "\n",
      "$reason\n",
      "[1] \"Not Found\"\n",
      "\n",
      "$message\n",
      "[1] \"Client error: (404) Not Found\"\n",
      "\n"
     ]
    },
    {
     "name": "stderr",
     "output_type": "stream",
     "text": [
      "No encoding supplied: defaulting to UTF-8.\n",
      "\n"
     ]
    },
    {
     "name": "stdout",
     "output_type": "stream",
     "text": [
      "[1] \"{\\\"detail\\\":\\\"The query didn't return any results\\\",\\\"status_code\\\":404}\"\n",
      "[1] \"no results for the query\"\n",
      "[1] 181\n",
      "[1] 182\n",
      "[1] 183\n",
      "[1] 184\n",
      "[1] 185\n",
      "$category\n",
      "[1] \"Client error\"\n",
      "\n",
      "$reason\n",
      "[1] \"Not Found\"\n",
      "\n",
      "$message\n",
      "[1] \"Client error: (404) Not Found\"\n",
      "\n"
     ]
    },
    {
     "name": "stderr",
     "output_type": "stream",
     "text": [
      "No encoding supplied: defaulting to UTF-8.\n",
      "\n"
     ]
    },
    {
     "name": "stdout",
     "output_type": "stream",
     "text": [
      "[1] \"{\\\"detail\\\":\\\"The query didn't return any results\\\",\\\"status_code\\\":404}\"\n",
      "[1] \"no results for the query\"\n",
      "[1] 186\n",
      "$category\n",
      "[1] \"Client error\"\n",
      "\n",
      "$reason\n",
      "[1] \"Not Found\"\n",
      "\n",
      "$message\n",
      "[1] \"Client error: (404) Not Found\"\n",
      "\n"
     ]
    },
    {
     "name": "stderr",
     "output_type": "stream",
     "text": [
      "No encoding supplied: defaulting to UTF-8.\n",
      "\n"
     ]
    },
    {
     "name": "stdout",
     "output_type": "stream",
     "text": [
      "[1] \"{\\\"detail\\\":\\\"The query didn't return any results\\\",\\\"status_code\\\":404}\"\n",
      "[1] \"no results for the query\"\n",
      "[1] 187\n",
      "[1] 188\n",
      "$category\n",
      "[1] \"Client error\"\n",
      "\n",
      "$reason\n",
      "[1] \"Not Found\"\n",
      "\n",
      "$message\n",
      "[1] \"Client error: (404) Not Found\"\n",
      "\n"
     ]
    },
    {
     "name": "stderr",
     "output_type": "stream",
     "text": [
      "No encoding supplied: defaulting to UTF-8.\n",
      "\n"
     ]
    },
    {
     "name": "stdout",
     "output_type": "stream",
     "text": [
      "[1] \"{\\\"detail\\\":\\\"The query didn't return any results\\\",\\\"status_code\\\":404}\"\n",
      "[1] \"no results for the query\"\n",
      "[1] 189\n",
      "$category\n",
      "[1] \"Client error\"\n",
      "\n",
      "$reason\n",
      "[1] \"Not Found\"\n",
      "\n",
      "$message\n",
      "[1] \"Client error: (404) Not Found\"\n",
      "\n"
     ]
    },
    {
     "name": "stderr",
     "output_type": "stream",
     "text": [
      "No encoding supplied: defaulting to UTF-8.\n",
      "\n"
     ]
    },
    {
     "name": "stdout",
     "output_type": "stream",
     "text": [
      "[1] \"{\\\"detail\\\":\\\"The query didn't return any results\\\",\\\"status_code\\\":404}\"\n",
      "[1] \"no results for the query\"\n",
      "[1] 190\n",
      "[1] 191\n",
      "[1] 192\n",
      "$category\n",
      "[1] \"Client error\"\n",
      "\n",
      "$reason\n",
      "[1] \"Not Found\"\n",
      "\n",
      "$message\n",
      "[1] \"Client error: (404) Not Found\"\n",
      "\n"
     ]
    },
    {
     "name": "stderr",
     "output_type": "stream",
     "text": [
      "No encoding supplied: defaulting to UTF-8.\n",
      "\n"
     ]
    },
    {
     "name": "stdout",
     "output_type": "stream",
     "text": [
      "[1] \"{\\\"detail\\\":\\\"The query didn't return any results\\\",\\\"status_code\\\":404}\"\n",
      "[1] \"no results for the query\"\n",
      "[1] 193\n",
      "$category\n",
      "[1] \"Client error\"\n",
      "\n",
      "$reason\n",
      "[1] \"Not Found\"\n",
      "\n",
      "$message\n",
      "[1] \"Client error: (404) Not Found\"\n",
      "\n"
     ]
    },
    {
     "name": "stderr",
     "output_type": "stream",
     "text": [
      "No encoding supplied: defaulting to UTF-8.\n",
      "\n"
     ]
    },
    {
     "name": "stdout",
     "output_type": "stream",
     "text": [
      "[1] \"{\\\"detail\\\":\\\"The query didn't return any results\\\",\\\"status_code\\\":404}\"\n",
      "[1] \"no results for the query\"\n",
      "[1] 194\n",
      "$category\n",
      "[1] \"Client error\"\n",
      "\n",
      "$reason\n",
      "[1] \"Not Found\"\n",
      "\n",
      "$message\n",
      "[1] \"Client error: (404) Not Found\"\n",
      "\n"
     ]
    },
    {
     "name": "stderr",
     "output_type": "stream",
     "text": [
      "No encoding supplied: defaulting to UTF-8.\n",
      "\n"
     ]
    },
    {
     "name": "stdout",
     "output_type": "stream",
     "text": [
      "[1] \"{\\\"detail\\\":\\\"The query didn't return any results\\\",\\\"status_code\\\":404}\"\n",
      "[1] \"no results for the query\"\n",
      "[1] 195\n",
      "[1] 196\n",
      "$category\n",
      "[1] \"Client error\"\n",
      "\n",
      "$reason\n",
      "[1] \"Not Found\"\n",
      "\n",
      "$message\n",
      "[1] \"Client error: (404) Not Found\"\n",
      "\n"
     ]
    },
    {
     "name": "stderr",
     "output_type": "stream",
     "text": [
      "No encoding supplied: defaulting to UTF-8.\n",
      "\n"
     ]
    },
    {
     "name": "stdout",
     "output_type": "stream",
     "text": [
      "[1] \"{\\\"detail\\\":\\\"The query didn't return any results\\\",\\\"status_code\\\":404}\"\n",
      "[1] \"no results for the query\"\n",
      "[1] 197\n",
      "[1] 198\n",
      "[1] 199\n",
      "$category\n",
      "[1] \"Client error\"\n",
      "\n",
      "$reason\n",
      "[1] \"Not Found\"\n",
      "\n",
      "$message\n",
      "[1] \"Client error: (404) Not Found\"\n",
      "\n"
     ]
    },
    {
     "name": "stderr",
     "output_type": "stream",
     "text": [
      "No encoding supplied: defaulting to UTF-8.\n",
      "\n"
     ]
    },
    {
     "name": "stdout",
     "output_type": "stream",
     "text": [
      "[1] \"{\\\"detail\\\":\\\"The query didn't return any results\\\",\\\"status_code\\\":404}\"\n",
      "[1] \"no results for the query\"\n",
      "[1] 200\n"
     ]
    }
   ],
   "source": [
    "for (diseaseId_ind in c(1:length(diseaseId_list))){\n",
    "    print(diseaseId_ind)\n",
    "    diseaseId = diseaseId_list[diseaseId_ind]\n",
    "    diseaseName = diseaseId_All_list[diseaseId]\n",
    "    \n",
    "    dis_res = tryCatch( { dis_res <- disease2gene( diseaseId_list[diseaseId_ind], database = \"CURATED\" ) }\n",
    "          , error = function(e) {an.error.occured <<- TRUE} )\n",
    "    \n",
    "    if (class(dis_res) == 'character'){next}\n",
    "        \n",
    "    geneList = dis_res@qresult %>% pull(gene_symbol)\n",
    "    \n",
    "    disease_DF = disease_DF %>% \n",
    "    add_row(tibble_row(Source = \"Disease\",\n",
    "            GeneSetName = diseaseName, \n",
    "            GeneList = str_c(geneList,  collapse = \" \"),\n",
    "            n_Genes = length(geneList)))\n",
    "    }"
   ]
  },
  {
   "cell_type": "code",
   "execution_count": 48,
   "id": "ba391f2e-117f-4e0d-823b-211e939c1102",
   "metadata": {},
   "outputs": [],
   "source": [
    "disease_52_DF = disease_DF %>% subset(n_Genes >=2) %>% head(n = 52)"
   ]
  },
  {
   "cell_type": "code",
   "execution_count": 51,
   "id": "335c6bc6-457a-4392-a52f-175ca1b27062",
   "metadata": {},
   "outputs": [],
   "source": [
    "genesets_DF = genesets_DF %>% rbind(disease_52_DF)"
   ]
  },
  {
   "cell_type": "code",
   "execution_count": null,
   "id": "534f0d7b-79c7-42d6-82f2-319914e5ba16",
   "metadata": {},
   "outputs": [],
   "source": []
  },
  {
   "cell_type": "code",
   "execution_count": 52,
   "id": "2533f5a5-fc5e-42ff-8517-0193b5cb1d3b",
   "metadata": {},
   "outputs": [
    {
     "data": {
      "text/html": [
       "<style>\n",
       ".list-inline {list-style: none; margin:0; padding: 0}\n",
       ".list-inline>li {display: inline-block}\n",
       ".list-inline>li:not(:last-child)::after {content: \"\\00b7\"; padding: 0 .5ex}\n",
       "</style>\n",
       "<ol class=list-inline><li>225</li><li>4</li></ol>\n"
      ],
      "text/latex": [
       "\\begin{enumerate*}\n",
       "\\item 225\n",
       "\\item 4\n",
       "\\end{enumerate*}\n"
      ],
      "text/markdown": [
       "1. 225\n",
       "2. 4\n",
       "\n",
       "\n"
      ],
      "text/plain": [
       "[1] 225   4"
      ]
     },
     "metadata": {},
     "output_type": "display_data"
    }
   ],
   "source": [
    "dim(genesets_DF)"
   ]
  },
  {
   "cell_type": "code",
   "execution_count": 53,
   "id": "a8436818-01c0-485b-92d5-fbf5518af3be",
   "metadata": {},
   "outputs": [],
   "source": [
    "write_delim(x = genesets_DF,file = \"data/omics.txt\" , delim = \"\\t\")"
   ]
  },
  {
   "cell_type": "code",
   "execution_count": null,
   "id": "f18ff7c3-a393-483b-8180-2b50d7eb0a82",
   "metadata": {},
   "outputs": [],
   "source": []
  }
 ],
 "metadata": {
  "kernelspec": {
   "display_name": "R",
   "language": "R",
   "name": "ir"
  },
  "language_info": {
   "codemirror_mode": "r",
   "file_extension": ".r",
   "mimetype": "text/x-r-source",
   "name": "R",
   "pygments_lexer": "r",
   "version": "4.2.2"
  }
 },
 "nbformat": 4,
 "nbformat_minor": 5
}
