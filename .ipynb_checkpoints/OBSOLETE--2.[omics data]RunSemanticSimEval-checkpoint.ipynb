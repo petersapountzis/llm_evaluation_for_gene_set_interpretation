{
 "cells": [
  {
   "cell_type": "markdown",
   "id": "868ff655-a99c-4ca3-a155-879408026cb6",
   "metadata": {},
   "source": [
    "This notebook takes in a table of GO term, LLM name, and human curated name and obtains a the semantic sentence similarity between each pair\n"
   ]
  },
  {
   "cell_type": "code",
   "execution_count": 1,
   "id": "349f771e-85d4-46d8-bb0d-e52d714ca0be",
   "metadata": {},
   "source": [
    "from transformers import AutoTokenizer, AutoModel\n",
    "from semanticSimFunctions import getSentenceEmbedding, getSentenceSimilarity, getNameSimilarities"
   ],
   "outputs": []
  },
  {
   "cell_type": "code",
   "execution_count": 2,
   "id": "85b50445-bb50-4468-a17d-2a921a377adb",
   "metadata": {},
   "source": [
    "SapBERT_tokenizer = AutoTokenizer.from_pretrained('cambridgeltl/SapBERT-from-PubMedBERT-fulltext')\n",
    "SapBERT_model = AutoModel.from_pretrained('cambridgeltl/SapBERT-from-PubMedBERT-fulltext')"
   ],
   "outputs": []
  },
  {
   "cell_type": "code",
   "execution_count": 3,
   "id": "476cd121-98be-40fe-b9ea-fe6ac946a694",
   "metadata": {},
   "source": [
    "import pandas as pd"
   ],
   "outputs": []
  },
  {
   "cell_type": "code",
   "execution_count": 17,
   "id": "5515ca27-dd01-49c2-b411-11f3caa216ff",
   "metadata": {},
   "source": [
    "import numpy as np"
   ],
   "outputs": []
  },
  {
   "cell_type": "code",
   "execution_count": 4,
   "id": "b7f2206c-5a53-4647-99a3-f69bad75605d",
   "metadata": {},
   "source": [
    "inputFile = 'data/omics_LLM_Enrichr_reduced_DF.tsv' "
   ],
   "outputs": []
  },
  {
   "cell_type": "code",
   "execution_count": 5,
   "id": "98bb6798-e581-49cf-a290-6d0a4c56df5d",
   "metadata": {
    "tags": []
   },
   "source": [
    "reduced_LLM_genes_DF = pd.read_csv(inputFile, sep = \"\\t\") "
   ],
   "outputs": []
  },
  {
   "cell_type": "code",
   "execution_count": 6,
   "id": "20588b21-5c14-42b5-a891-72a0c3cb5fd9",
   "metadata": {
    "tags": []
   },
   "source": [
    "reduced_LLM_genes_DF.shape"
   ],
   "outputs": []
  },
  {
   "cell_type": "code",
   "execution_count": 8,
   "id": "9a418a1f-65b4-442f-97f6-a021dc36e9b0",
   "metadata": {},
   "source": [
    "reduced_LLM_genes_DF.columns"
   ],
   "outputs": []
  },
  {
   "cell_type": "code",
   "execution_count": 9,
   "id": "2791b50a-20f9-4788-bc9a-012810685ada",
   "metadata": {},
   "source": [
    "humanNameCol = 'GeneSetName'"
   ],
   "outputs": []
  },
  {
   "cell_type": "code",
   "execution_count": 18,
   "id": "a34213bb-e612-4b3f-bfb5-36226719984b",
   "metadata": {},
   "source": [
    "reduced_LLM_genes_DF['GO term'] = reduced_LLM_genes_DF['GO term'].replace(np.nan, 'NaN')\n"
   ],
   "outputs": []
  },
  {
   "cell_type": "code",
   "execution_count": 19,
   "id": "3c5396d9-32e9-4340-b2d4-5a52a3b3ad8e",
   "metadata": {
    "collapsed": true,
    "jupyter": {
     "outputs_hidden": true
    },
    "tags": []
   },
   "source": [
    "names_DF = getNameSimilarities(reduced_LLM_genes_DF, 'LLM Name', 'GO term', humanNameCol, SapBERT_tokenizer, SapBERT_model, \"cosine_similarity\")"
   ],
   "outputs": []
  },
  {
   "cell_type": "code",
   "execution_count": 20,
   "id": "888fbe09-65d8-40c4-b7e5-3efe41bd1955",
   "metadata": {},
   "source": [
    "reduced_LLM_genes_DF.loc[87,['LLM Name', 'GO term', humanNameCol]]"
   ],
   "outputs": []
  },
  {
   "cell_type": "code",
   "execution_count": 21,
   "id": "b04c2ded-27a4-48f0-bf08-e64385d9b8e0",
   "metadata": {},
   "source": [
    "outputFile = 'data/omics_LLM_Enrichr_simVals_DF.tsv' "
   ],
   "outputs": []
  },
  {
   "cell_type": "code",
   "execution_count": 25,
   "id": "d8ae376c-0f61-4340-a103-1a929673efe9",
   "metadata": {},
   "source": [
    "names_DF.to_csv(outputFile, sep = \"\\t\")"
   ],
   "outputs": []
  },
  {
   "cell_type": "markdown",
   "id": "4ce14248-219e-416f-90fe-59338c538eed",
   "metadata": {},
   "source": [
    "## Get performance measure"
   ]
  },
  {
   "cell_type": "code",
   "execution_count": 23,
   "id": "740cd3e5-57df-4a62-b48b-d1c99fc9551f",
   "metadata": {},
   "source": [
    "# What percentage of systems have LLM_name_human_name_sim > GO_term_human_name_sim\n",
    "names_DF.winner.value_counts()"
   ],
   "outputs": []
  },
  {
   "cell_type": "code",
   "execution_count": 24,
   "id": "147b9ec5-01b9-451f-94e0-984e8386c5cc",
   "metadata": {},
   "source": [
    "names_DF.shape"
   ],
   "outputs": []
  },
  {
   "cell_type": "code",
   "execution_count": null,
   "id": "61b18f66-28a9-4c6f-a975-723189bd501a",
   "metadata": {},
   "source": [
    "93/225"
   ],
   "outputs": []
  },
  {
   "cell_type": "code",
   "execution_count": null,
   "id": "0490f613-df80-4fda-aabe-09f9b5df66f7",
   "metadata": {},
   "source": [
    "here : start on the reference finder"
   ],
   "outputs": []
  }
 ],
 "metadata": {
  "kernelspec": {
   "display_name": "llm_go_evaluation",
   "language": "python",
   "name": "llm_go_evaluation"
  },
  "language_info": {
   "codemirror_mode": {
    "name": "ipython",
    "version": 3
   },
   "file_extension": ".py",
   "mimetype": "text/x-python",
   "name": "python",
   "nbconvert_exporter": "python",
   "pygments_lexer": "ipython3",
   "version": "3.11.3"
  }
 },
 "nbformat": 4,
 "nbformat_minor": 5
}
