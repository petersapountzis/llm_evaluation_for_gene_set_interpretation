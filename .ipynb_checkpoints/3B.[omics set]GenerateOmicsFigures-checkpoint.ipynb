{
 "cells": [
  {
   "cell_type": "markdown",
   "id": "a3dc8e8d-e232-4d5f-81a8-0a5683e40e0a",
   "metadata": {
    "tags": []
   },
   "source": [
    "Generates Fig.3 and extended data fig. 3"
   ]
  },
  {
   "cell_type": "markdown",
   "id": "79311681-7ae9-48aa-b27a-1dde33d91dbc",
   "metadata": {},
   "source": [
    "#### Load Libraries"
   ]
  },
  {
   "cell_type": "code",
   "execution_count": 1,
   "id": "ad747381-3584-405f-9314-56005310243a",
   "metadata": {
    "collapsed": true,
    "jupyter": {
     "outputs_hidden": true
    },
    "tags": [],
    "vscode": {
     "languageId": "r"
    }
   },
   "outputs": [
    {
     "name": "stderr",
     "output_type": "stream",
     "text": [
      "── \u001b[1mAttaching core tidyverse packages\u001b[22m ────────────────────────────────────────────────────────────────────────── tidyverse 2.0.0 ──\n",
      "\u001b[32m✔\u001b[39m \u001b[34mdplyr    \u001b[39m 1.1.4     \u001b[32m✔\u001b[39m \u001b[34mreadr    \u001b[39m 2.1.4\n",
      "\u001b[32m✔\u001b[39m \u001b[34mforcats  \u001b[39m 1.0.0     \u001b[32m✔\u001b[39m \u001b[34mstringr  \u001b[39m 1.5.1\n",
      "\u001b[32m✔\u001b[39m \u001b[34mggplot2  \u001b[39m 3.4.4     \u001b[32m✔\u001b[39m \u001b[34mtibble   \u001b[39m 3.2.1\n",
      "\u001b[32m✔\u001b[39m \u001b[34mlubridate\u001b[39m 1.9.3     \u001b[32m✔\u001b[39m \u001b[34mtidyr    \u001b[39m 1.3.0\n",
      "\u001b[32m✔\u001b[39m \u001b[34mpurrr    \u001b[39m 1.0.2     \n",
      "── \u001b[1mConflicts\u001b[22m ──────────────────────────────────────────────────────────────────────────────────────────── tidyverse_conflicts() ──\n",
      "\u001b[31m✖\u001b[39m \u001b[34mdplyr\u001b[39m::\u001b[32marrange()\u001b[39m   masks \u001b[34mplyr\u001b[39m::arrange()\n",
      "\u001b[31m✖\u001b[39m \u001b[34mpurrr\u001b[39m::\u001b[32mcompact()\u001b[39m   masks \u001b[34mplyr\u001b[39m::compact()\n",
      "\u001b[31m✖\u001b[39m \u001b[34mdplyr\u001b[39m::\u001b[32mcount()\u001b[39m     masks \u001b[34mplyr\u001b[39m::count()\n",
      "\u001b[31m✖\u001b[39m \u001b[34mdplyr\u001b[39m::\u001b[32mdesc()\u001b[39m      masks \u001b[34mplyr\u001b[39m::desc()\n",
      "\u001b[31m✖\u001b[39m \u001b[34mdplyr\u001b[39m::\u001b[32mfailwith()\u001b[39m  masks \u001b[34mplyr\u001b[39m::failwith()\n",
      "\u001b[31m✖\u001b[39m \u001b[34mdplyr\u001b[39m::\u001b[32mfilter()\u001b[39m    masks \u001b[34mstats\u001b[39m::filter()\n",
      "\u001b[31m✖\u001b[39m \u001b[34mdplyr\u001b[39m::\u001b[32mid()\u001b[39m        masks \u001b[34mplyr\u001b[39m::id()\n",
      "\u001b[31m✖\u001b[39m \u001b[34mdplyr\u001b[39m::\u001b[32mlag()\u001b[39m       masks \u001b[34mstats\u001b[39m::lag()\n",
      "\u001b[31m✖\u001b[39m \u001b[34mdplyr\u001b[39m::\u001b[32mmutate()\u001b[39m    masks \u001b[34mplyr\u001b[39m::mutate()\n",
      "\u001b[31m✖\u001b[39m \u001b[34mdplyr\u001b[39m::\u001b[32mrename()\u001b[39m    masks \u001b[34mplyr\u001b[39m::rename()\n",
      "\u001b[31m✖\u001b[39m \u001b[34mdplyr\u001b[39m::\u001b[32msummarise()\u001b[39m masks \u001b[34mplyr\u001b[39m::summarise()\n",
      "\u001b[31m✖\u001b[39m \u001b[34mdplyr\u001b[39m::\u001b[32msummarize()\u001b[39m masks \u001b[34mplyr\u001b[39m::summarize()\n",
      "\u001b[36mℹ\u001b[39m Use the conflicted package (\u001b[3m\u001b[34m<http://conflicted.r-lib.org/>\u001b[39m\u001b[23m) to force all conflicts to become errors\n",
      "\n",
      "Attaching package: ‘ggpubr’\n",
      "\n",
      "\n",
      "The following object is masked from ‘package:plyr’:\n",
      "\n",
      "    mutate\n",
      "\n",
      "\n",
      "Loading required package: lattice\n",
      "\n",
      "\n",
      "Attaching package: ‘caret’\n",
      "\n",
      "\n",
      "The following object is masked from ‘package:purrr’:\n",
      "\n",
      "    lift\n",
      "\n",
      "\n",
      "\n",
      "Attaching package: ‘gridExtra’\n",
      "\n",
      "\n",
      "The following object is masked from ‘package:dplyr’:\n",
      "\n",
      "    combine\n",
      "\n",
      "\n",
      "Registering fonts with R\n",
      "\n"
     ]
    }
   ],
   "source": [
    "library(plyr)\n",
    "library(tidyverse)\n",
    "library(ggpubr)\n",
    "library(rcompanion)\n",
    "library(ggmosaic)\n",
    "library(caret)\n",
    "library(ggthemes)\n",
    "library(gridExtra)  \n",
    "library(extrafont)\n",
    "library(ggrepel)\n",
    "library(stringr)"
   ]
  },
  {
   "cell_type": "code",
   "execution_count": 2,
   "id": "d289e0d6-327e-465e-9420-52be0fb498f4",
   "metadata": {
    "tags": [],
    "vscode": {
     "languageId": "r"
    }
   },
   "outputs": [],
   "source": [
    "# loadfonts(device = \"all\")\n",
    "# loadfonts(device = \"postscript\")"
   ]
  },
  {
   "cell_type": "code",
   "execution_count": null,
   "id": "9a31e236-a481-4b31-a369-6e2583d2bbec",
   "metadata": {
    "vscode": {
     "languageId": "r"
    }
   },
   "outputs": [],
   "source": []
  },
  {
   "cell_type": "code",
   "execution_count": 3,
   "id": "f6588fa8-47f0-4c88-8690-5bfea7487cf8",
   "metadata": {
    "vscode": {
     "languageId": "r"
    }
   },
   "outputs": [],
   "source": [
    "# Using Arial in\n",
    "# R https://fromthebottomoftheheap.net/2013/09/09/preparing-figures-for-plos-one-with-r/"
   ]
  },
  {
   "cell_type": "code",
   "execution_count": 4,
   "id": "6b976ba5-d2dd-4ef8-992c-ba0c748223ad",
   "metadata": {
    "vscode": {
     "languageId": "r"
    }
   },
   "outputs": [],
   "source": [
    "source(\"utils/plot_theme.r\")"
   ]
  },
  {
   "cell_type": "markdown",
   "id": "4e629570-30c9-45e2-803e-02c191e5546b",
   "metadata": {},
   "source": [
    "### Read in merged data"
   ]
  },
  {
   "cell_type": "code",
   "execution_count": 5,
   "id": "8927e496-cc7a-44f7-9ae4-cb6cb80803c9",
   "metadata": {
    "tags": [],
    "vscode": {
     "languageId": "r"
    }
   },
   "outputs": [
    {
     "name": "stderr",
     "output_type": "stream",
     "text": [
      "\u001b[1mRows: \u001b[22m\u001b[34m250\u001b[39m \u001b[1mColumns: \u001b[22m\u001b[34m28\u001b[39m\n",
      "\u001b[36m──\u001b[39m \u001b[1mColumn specification\u001b[22m \u001b[36m──────────────────────────────────────────────────────────────────────────────────────────────────────────\u001b[39m\n",
      "\u001b[1mDelimiter:\u001b[22m \"\\t\"\n",
      "\u001b[31mchr\u001b[39m (11): Source, GeneSetID, GeneSetName, GeneList, LLM Name, LLM Analysis, ...\n",
      "\u001b[32mdbl\u001b[39m (17): ...1, index, n_Genes, Score, Rank, P-value, Adjusted P-value, Orig...\n",
      "\n",
      "\u001b[36mℹ\u001b[39m Use `spec()` to retrieve the full column specification for this data.\n",
      "\u001b[36mℹ\u001b[39m Specify the column types or set `show_col_types = FALSE` to quiet this message.\n"
     ]
    }
   ],
   "source": [
    "Omics_analysis_DF = read_delim(file = \"data/omics_LLM_Enrichr_simVals_analyses_DF.tsv\", delim = \"\\t\") "
   ]
  },
  {
   "cell_type": "code",
   "execution_count": 6,
   "id": "0bdf3cdc-50d5-499c-a33e-210e20943a3a",
   "metadata": {
    "vscode": {
     "languageId": "r"
    }
   },
   "outputs": [
    {
     "data": {
      "text/html": [
       "<style>\n",
       ".list-inline {list-style: none; margin:0; padding: 0}\n",
       ".list-inline>li {display: inline-block}\n",
       ".list-inline>li:not(:last-child)::after {content: \"\\00b7\"; padding: 0 .5ex}\n",
       "</style>\n",
       "<ol class=list-inline><li>250</li><li>28</li></ol>\n"
      ],
      "text/latex": [
       "\\begin{enumerate*}\n",
       "\\item 250\n",
       "\\item 28\n",
       "\\end{enumerate*}\n"
      ],
      "text/markdown": [
       "1. 250\n",
       "2. 28\n",
       "\n",
       "\n"
      ],
      "text/plain": [
       "[1] 250  28"
      ]
     },
     "metadata": {},
     "output_type": "display_data"
    }
   ],
   "source": [
    "dim(Omics_analysis_DF)"
   ]
  },
  {
   "cell_type": "code",
   "execution_count": 7,
   "id": "9d183e79-63ad-4079-b7d4-23910eba2861",
   "metadata": {
    "vscode": {
     "languageId": "r"
    }
   },
   "outputs": [],
   "source": [
    "geneSetsToLabel = c(\"Histone Modification\", \"Hedgehog Signaling\")\n",
    "#, \"Notch Signaling\",\n",
    "#                    \"Ubiquitin regulation of p53 activity\", \"p53 regulation of cell cycle\", \n",
    "#                   \"Pancreas Beta Cells\", \"Interferon Alpha Response\", \"RAS-RAF-MAPK\", \n",
    "#                    \"ATM-independent DNA repair\", \"Estrogen Response Early\", \"Nucleus\" )"
   ]
  },
  {
   "cell_type": "code",
   "execution_count": 8,
   "id": "931e88bf-9e85-444b-a7f0-7b1dbb92a5fe",
   "metadata": {
    "vscode": {
     "languageId": "r"
    }
   },
   "outputs": [],
   "source": [
    "bioAcronymsList = c(\"RAS-RAF-MAPK\") # based only in genesets to be labeled"
   ]
  },
  {
   "cell_type": "code",
   "execution_count": 11,
   "id": "d528ff3e-e83a-444b-ba61-8e174802b5ed",
   "metadata": {
    "vscode": {
     "languageId": "r"
    }
   },
   "outputs": [],
   "source": [
    "Omics_analysis_DF = Omics_analysis_DF %>%\n",
    "mutate(labelName = ifelse(tolower(`GeneSetName`) %in% tolower(geneSetsToLabel), \n",
    "                          ifelse(`GeneSetName` %in% bioAcronymsList,`GeneSetName`, str_to_sentence(`GeneSetName`)),\n",
    "                         \"\"))"
   ]
  },
  {
   "cell_type": "code",
   "execution_count": 61,
   "id": "efe77d00-b06f-451a-96ed-c589ca7ba6ee",
   "metadata": {},
   "outputs": [
    {
     "data": {
      "text/html": [
       "<style>\n",
       ".list-inline {list-style: none; margin:0; padding: 0}\n",
       ".list-inline>li {display: inline-block}\n",
       ".list-inline>li:not(:last-child)::after {content: \"\\00b7\"; padding: 0 .5ex}\n",
       "</style>\n",
       "<ol class=list-inline><li>''</li><li>''</li><li>''</li><li>''</li><li>''</li><li>''</li><li>''</li><li>''</li><li>''</li><li>''</li><li>''</li><li>''</li><li>''</li><li>''</li><li>''</li><li>''</li><li>''</li><li>''</li><li>''</li><li>''</li><li>''</li><li>''</li><li>''</li><li>''</li><li>''</li><li>''</li><li>''</li><li>''</li><li>''</li><li>''</li><li>''</li><li>''</li><li>''</li><li>''</li><li>''</li><li>''</li><li>''</li><li>''</li><li>''</li><li>''</li><li>''</li><li>''</li><li>''</li><li>''</li><li>''</li><li>''</li><li>''</li><li>''</li><li>''</li><li>''</li><li>''</li><li>''</li><li>''</li><li>''</li><li>''</li><li>''</li><li>''</li><li>''</li><li>''</li><li>''</li><li>''</li><li>''</li><li>''</li><li>''</li><li>''</li><li>''</li><li>''</li><li>''</li><li>''</li><li>''</li><li>''</li><li>''</li><li>''</li><li>''</li><li>''</li><li>''</li><li>''</li><li>''</li><li>''</li><li>''</li><li>''</li><li>''</li><li>''</li><li>''</li><li>''</li><li>''</li><li>''</li><li>''</li><li>''</li><li>''</li><li>''</li><li>''</li><li>''</li><li>''</li><li>''</li><li>''</li><li>''</li><li>''</li><li>''</li><li>''</li><li>''</li><li>''</li><li>''</li><li>''</li><li>''</li><li>''</li><li>''</li><li>''</li><li>''</li><li>''</li><li>''</li><li>''</li><li>''</li><li>''</li><li>''</li><li>''</li><li>''</li><li>''</li><li>''</li><li>''</li><li>''</li><li>'Hedgehog signaling'</li><li>''</li><li>''</li><li>''</li><li>''</li><li>''</li><li>''</li><li>''</li><li>''</li><li>''</li><li>''</li><li>''</li><li>''</li><li>''</li><li>''</li><li>''</li><li>''</li><li>''</li><li>''</li><li>''</li><li>''</li><li>''</li><li>''</li><li>''</li><li>''</li><li>''</li><li>''</li><li>''</li><li>''</li><li>''</li><li>''</li><li>''</li><li>''</li><li>''</li><li>''</li><li>''</li><li>''</li><li>''</li><li>''</li><li>''</li><li>''</li><li>''</li><li>''</li><li>''</li><li>''</li><li>''</li><li>''</li><li>''</li><li>''</li><li>''</li><li>''</li><li>''</li><li>''</li><li>''</li><li>''</li><li>''</li><li>''</li><li>'Histone modification'</li><li>''</li><li>''</li><li>''</li><li>''</li><li>''</li><li>''</li><li>''</li><li>''</li><li>''</li><li>''</li><li>''</li><li>''</li><li>''</li><li>''</li><li>''</li><li>''</li><li>''</li><li>''</li><li>''</li><li>''</li><li>''</li><li>''</li><li>''</li><li>''</li><li>''</li><li>''</li><li>''</li><li>''</li><li>''</li><li>''</li><li>''</li><li>''</li><li>''</li><li>''</li><li>''</li><li>''</li><li>''</li><li>''</li><li>''</li><li>''</li><li>''</li><li>''</li><li>''</li><li>''</li><li>''</li><li>''</li><li>''</li><li>''</li><li>''</li><li>''</li><li>''</li><li>''</li><li>''</li><li>''</li><li>''</li><li>''</li><li>''</li><li>''</li><li>''</li><li>''</li><li>''</li><li>''</li><li>''</li><li>''</li><li>''</li><li>''</li><li>''</li><li>''</li><li>''</li><li>''</li><li>''</li></ol>\n"
      ],
      "text/latex": [
       "\\begin{enumerate*}\n",
       "\\item ''\n",
       "\\item ''\n",
       "\\item ''\n",
       "\\item ''\n",
       "\\item ''\n",
       "\\item ''\n",
       "\\item ''\n",
       "\\item ''\n",
       "\\item ''\n",
       "\\item ''\n",
       "\\item ''\n",
       "\\item ''\n",
       "\\item ''\n",
       "\\item ''\n",
       "\\item ''\n",
       "\\item ''\n",
       "\\item ''\n",
       "\\item ''\n",
       "\\item ''\n",
       "\\item ''\n",
       "\\item ''\n",
       "\\item ''\n",
       "\\item ''\n",
       "\\item ''\n",
       "\\item ''\n",
       "\\item ''\n",
       "\\item ''\n",
       "\\item ''\n",
       "\\item ''\n",
       "\\item ''\n",
       "\\item ''\n",
       "\\item ''\n",
       "\\item ''\n",
       "\\item ''\n",
       "\\item ''\n",
       "\\item ''\n",
       "\\item ''\n",
       "\\item ''\n",
       "\\item ''\n",
       "\\item ''\n",
       "\\item ''\n",
       "\\item ''\n",
       "\\item ''\n",
       "\\item ''\n",
       "\\item ''\n",
       "\\item ''\n",
       "\\item ''\n",
       "\\item ''\n",
       "\\item ''\n",
       "\\item ''\n",
       "\\item ''\n",
       "\\item ''\n",
       "\\item ''\n",
       "\\item ''\n",
       "\\item ''\n",
       "\\item ''\n",
       "\\item ''\n",
       "\\item ''\n",
       "\\item ''\n",
       "\\item ''\n",
       "\\item ''\n",
       "\\item ''\n",
       "\\item ''\n",
       "\\item ''\n",
       "\\item ''\n",
       "\\item ''\n",
       "\\item ''\n",
       "\\item ''\n",
       "\\item ''\n",
       "\\item ''\n",
       "\\item ''\n",
       "\\item ''\n",
       "\\item ''\n",
       "\\item ''\n",
       "\\item ''\n",
       "\\item ''\n",
       "\\item ''\n",
       "\\item ''\n",
       "\\item ''\n",
       "\\item ''\n",
       "\\item ''\n",
       "\\item ''\n",
       "\\item ''\n",
       "\\item ''\n",
       "\\item ''\n",
       "\\item ''\n",
       "\\item ''\n",
       "\\item ''\n",
       "\\item ''\n",
       "\\item ''\n",
       "\\item ''\n",
       "\\item ''\n",
       "\\item ''\n",
       "\\item ''\n",
       "\\item ''\n",
       "\\item ''\n",
       "\\item ''\n",
       "\\item ''\n",
       "\\item ''\n",
       "\\item ''\n",
       "\\item ''\n",
       "\\item ''\n",
       "\\item ''\n",
       "\\item ''\n",
       "\\item ''\n",
       "\\item ''\n",
       "\\item ''\n",
       "\\item ''\n",
       "\\item ''\n",
       "\\item ''\n",
       "\\item ''\n",
       "\\item ''\n",
       "\\item ''\n",
       "\\item ''\n",
       "\\item ''\n",
       "\\item ''\n",
       "\\item ''\n",
       "\\item ''\n",
       "\\item ''\n",
       "\\item ''\n",
       "\\item ''\n",
       "\\item 'Hedgehog signaling'\n",
       "\\item ''\n",
       "\\item ''\n",
       "\\item ''\n",
       "\\item ''\n",
       "\\item ''\n",
       "\\item ''\n",
       "\\item ''\n",
       "\\item ''\n",
       "\\item ''\n",
       "\\item ''\n",
       "\\item ''\n",
       "\\item ''\n",
       "\\item ''\n",
       "\\item ''\n",
       "\\item ''\n",
       "\\item ''\n",
       "\\item ''\n",
       "\\item ''\n",
       "\\item ''\n",
       "\\item ''\n",
       "\\item ''\n",
       "\\item ''\n",
       "\\item ''\n",
       "\\item ''\n",
       "\\item ''\n",
       "\\item ''\n",
       "\\item ''\n",
       "\\item ''\n",
       "\\item ''\n",
       "\\item ''\n",
       "\\item ''\n",
       "\\item ''\n",
       "\\item ''\n",
       "\\item ''\n",
       "\\item ''\n",
       "\\item ''\n",
       "\\item ''\n",
       "\\item ''\n",
       "\\item ''\n",
       "\\item ''\n",
       "\\item ''\n",
       "\\item ''\n",
       "\\item ''\n",
       "\\item ''\n",
       "\\item ''\n",
       "\\item ''\n",
       "\\item ''\n",
       "\\item ''\n",
       "\\item ''\n",
       "\\item ''\n",
       "\\item ''\n",
       "\\item ''\n",
       "\\item ''\n",
       "\\item ''\n",
       "\\item ''\n",
       "\\item ''\n",
       "\\item 'Histone modification'\n",
       "\\item ''\n",
       "\\item ''\n",
       "\\item ''\n",
       "\\item ''\n",
       "\\item ''\n",
       "\\item ''\n",
       "\\item ''\n",
       "\\item ''\n",
       "\\item ''\n",
       "\\item ''\n",
       "\\item ''\n",
       "\\item ''\n",
       "\\item ''\n",
       "\\item ''\n",
       "\\item ''\n",
       "\\item ''\n",
       "\\item ''\n",
       "\\item ''\n",
       "\\item ''\n",
       "\\item ''\n",
       "\\item ''\n",
       "\\item ''\n",
       "\\item ''\n",
       "\\item ''\n",
       "\\item ''\n",
       "\\item ''\n",
       "\\item ''\n",
       "\\item ''\n",
       "\\item ''\n",
       "\\item ''\n",
       "\\item ''\n",
       "\\item ''\n",
       "\\item ''\n",
       "\\item ''\n",
       "\\item ''\n",
       "\\item ''\n",
       "\\item ''\n",
       "\\item ''\n",
       "\\item ''\n",
       "\\item ''\n",
       "\\item ''\n",
       "\\item ''\n",
       "\\item ''\n",
       "\\item ''\n",
       "\\item ''\n",
       "\\item ''\n",
       "\\item ''\n",
       "\\item ''\n",
       "\\item ''\n",
       "\\item ''\n",
       "\\item ''\n",
       "\\item ''\n",
       "\\item ''\n",
       "\\item ''\n",
       "\\item ''\n",
       "\\item ''\n",
       "\\item ''\n",
       "\\item ''\n",
       "\\item ''\n",
       "\\item ''\n",
       "\\item ''\n",
       "\\item ''\n",
       "\\item ''\n",
       "\\item ''\n",
       "\\item ''\n",
       "\\item ''\n",
       "\\item ''\n",
       "\\item ''\n",
       "\\item ''\n",
       "\\item ''\n",
       "\\item ''\n",
       "\\end{enumerate*}\n"
      ],
      "text/markdown": [
       "1. ''\n",
       "2. ''\n",
       "3. ''\n",
       "4. ''\n",
       "5. ''\n",
       "6. ''\n",
       "7. ''\n",
       "8. ''\n",
       "9. ''\n",
       "10. ''\n",
       "11. ''\n",
       "12. ''\n",
       "13. ''\n",
       "14. ''\n",
       "15. ''\n",
       "16. ''\n",
       "17. ''\n",
       "18. ''\n",
       "19. ''\n",
       "20. ''\n",
       "21. ''\n",
       "22. ''\n",
       "23. ''\n",
       "24. ''\n",
       "25. ''\n",
       "26. ''\n",
       "27. ''\n",
       "28. ''\n",
       "29. ''\n",
       "30. ''\n",
       "31. ''\n",
       "32. ''\n",
       "33. ''\n",
       "34. ''\n",
       "35. ''\n",
       "36. ''\n",
       "37. ''\n",
       "38. ''\n",
       "39. ''\n",
       "40. ''\n",
       "41. ''\n",
       "42. ''\n",
       "43. ''\n",
       "44. ''\n",
       "45. ''\n",
       "46. ''\n",
       "47. ''\n",
       "48. ''\n",
       "49. ''\n",
       "50. ''\n",
       "51. ''\n",
       "52. ''\n",
       "53. ''\n",
       "54. ''\n",
       "55. ''\n",
       "56. ''\n",
       "57. ''\n",
       "58. ''\n",
       "59. ''\n",
       "60. ''\n",
       "61. ''\n",
       "62. ''\n",
       "63. ''\n",
       "64. ''\n",
       "65. ''\n",
       "66. ''\n",
       "67. ''\n",
       "68. ''\n",
       "69. ''\n",
       "70. ''\n",
       "71. ''\n",
       "72. ''\n",
       "73. ''\n",
       "74. ''\n",
       "75. ''\n",
       "76. ''\n",
       "77. ''\n",
       "78. ''\n",
       "79. ''\n",
       "80. ''\n",
       "81. ''\n",
       "82. ''\n",
       "83. ''\n",
       "84. ''\n",
       "85. ''\n",
       "86. ''\n",
       "87. ''\n",
       "88. ''\n",
       "89. ''\n",
       "90. ''\n",
       "91. ''\n",
       "92. ''\n",
       "93. ''\n",
       "94. ''\n",
       "95. ''\n",
       "96. ''\n",
       "97. ''\n",
       "98. ''\n",
       "99. ''\n",
       "100. ''\n",
       "101. ''\n",
       "102. ''\n",
       "103. ''\n",
       "104. ''\n",
       "105. ''\n",
       "106. ''\n",
       "107. ''\n",
       "108. ''\n",
       "109. ''\n",
       "110. ''\n",
       "111. ''\n",
       "112. ''\n",
       "113. ''\n",
       "114. ''\n",
       "115. ''\n",
       "116. ''\n",
       "117. ''\n",
       "118. ''\n",
       "119. ''\n",
       "120. ''\n",
       "121. ''\n",
       "122. 'Hedgehog signaling'\n",
       "123. ''\n",
       "124. ''\n",
       "125. ''\n",
       "126. ''\n",
       "127. ''\n",
       "128. ''\n",
       "129. ''\n",
       "130. ''\n",
       "131. ''\n",
       "132. ''\n",
       "133. ''\n",
       "134. ''\n",
       "135. ''\n",
       "136. ''\n",
       "137. ''\n",
       "138. ''\n",
       "139. ''\n",
       "140. ''\n",
       "141. ''\n",
       "142. ''\n",
       "143. ''\n",
       "144. ''\n",
       "145. ''\n",
       "146. ''\n",
       "147. ''\n",
       "148. ''\n",
       "149. ''\n",
       "150. ''\n",
       "151. ''\n",
       "152. ''\n",
       "153. ''\n",
       "154. ''\n",
       "155. ''\n",
       "156. ''\n",
       "157. ''\n",
       "158. ''\n",
       "159. ''\n",
       "160. ''\n",
       "161. ''\n",
       "162. ''\n",
       "163. ''\n",
       "164. ''\n",
       "165. ''\n",
       "166. ''\n",
       "167. ''\n",
       "168. ''\n",
       "169. ''\n",
       "170. ''\n",
       "171. ''\n",
       "172. ''\n",
       "173. ''\n",
       "174. ''\n",
       "175. ''\n",
       "176. ''\n",
       "177. ''\n",
       "178. ''\n",
       "179. 'Histone modification'\n",
       "180. ''\n",
       "181. ''\n",
       "182. ''\n",
       "183. ''\n",
       "184. ''\n",
       "185. ''\n",
       "186. ''\n",
       "187. ''\n",
       "188. ''\n",
       "189. ''\n",
       "190. ''\n",
       "191. ''\n",
       "192. ''\n",
       "193. ''\n",
       "194. ''\n",
       "195. ''\n",
       "196. ''\n",
       "197. ''\n",
       "198. ''\n",
       "199. ''\n",
       "200. ''\n",
       "201. ''\n",
       "202. ''\n",
       "203. ''\n",
       "204. ''\n",
       "205. ''\n",
       "206. ''\n",
       "207. ''\n",
       "208. ''\n",
       "209. ''\n",
       "210. ''\n",
       "211. ''\n",
       "212. ''\n",
       "213. ''\n",
       "214. ''\n",
       "215. ''\n",
       "216. ''\n",
       "217. ''\n",
       "218. ''\n",
       "219. ''\n",
       "220. ''\n",
       "221. ''\n",
       "222. ''\n",
       "223. ''\n",
       "224. ''\n",
       "225. ''\n",
       "226. ''\n",
       "227. ''\n",
       "228. ''\n",
       "229. ''\n",
       "230. ''\n",
       "231. ''\n",
       "232. ''\n",
       "233. ''\n",
       "234. ''\n",
       "235. ''\n",
       "236. ''\n",
       "237. ''\n",
       "238. ''\n",
       "239. ''\n",
       "240. ''\n",
       "241. ''\n",
       "242. ''\n",
       "243. ''\n",
       "244. ''\n",
       "245. ''\n",
       "246. ''\n",
       "247. ''\n",
       "248. ''\n",
       "249. ''\n",
       "250. ''\n",
       "\n",
       "\n"
      ],
      "text/plain": [
       "  [1] \"\"                     \"\"                     \"\"                    \n",
       "  [4] \"\"                     \"\"                     \"\"                    \n",
       "  [7] \"\"                     \"\"                     \"\"                    \n",
       " [10] \"\"                     \"\"                     \"\"                    \n",
       " [13] \"\"                     \"\"                     \"\"                    \n",
       " [16] \"\"                     \"\"                     \"\"                    \n",
       " [19] \"\"                     \"\"                     \"\"                    \n",
       " [22] \"\"                     \"\"                     \"\"                    \n",
       " [25] \"\"                     \"\"                     \"\"                    \n",
       " [28] \"\"                     \"\"                     \"\"                    \n",
       " [31] \"\"                     \"\"                     \"\"                    \n",
       " [34] \"\"                     \"\"                     \"\"                    \n",
       " [37] \"\"                     \"\"                     \"\"                    \n",
       " [40] \"\"                     \"\"                     \"\"                    \n",
       " [43] \"\"                     \"\"                     \"\"                    \n",
       " [46] \"\"                     \"\"                     \"\"                    \n",
       " [49] \"\"                     \"\"                     \"\"                    \n",
       " [52] \"\"                     \"\"                     \"\"                    \n",
       " [55] \"\"                     \"\"                     \"\"                    \n",
       " [58] \"\"                     \"\"                     \"\"                    \n",
       " [61] \"\"                     \"\"                     \"\"                    \n",
       " [64] \"\"                     \"\"                     \"\"                    \n",
       " [67] \"\"                     \"\"                     \"\"                    \n",
       " [70] \"\"                     \"\"                     \"\"                    \n",
       " [73] \"\"                     \"\"                     \"\"                    \n",
       " [76] \"\"                     \"\"                     \"\"                    \n",
       " [79] \"\"                     \"\"                     \"\"                    \n",
       " [82] \"\"                     \"\"                     \"\"                    \n",
       " [85] \"\"                     \"\"                     \"\"                    \n",
       " [88] \"\"                     \"\"                     \"\"                    \n",
       " [91] \"\"                     \"\"                     \"\"                    \n",
       " [94] \"\"                     \"\"                     \"\"                    \n",
       " [97] \"\"                     \"\"                     \"\"                    \n",
       "[100] \"\"                     \"\"                     \"\"                    \n",
       "[103] \"\"                     \"\"                     \"\"                    \n",
       "[106] \"\"                     \"\"                     \"\"                    \n",
       "[109] \"\"                     \"\"                     \"\"                    \n",
       "[112] \"\"                     \"\"                     \"\"                    \n",
       "[115] \"\"                     \"\"                     \"\"                    \n",
       "[118] \"\"                     \"\"                     \"\"                    \n",
       "[121] \"\"                     \"Hedgehog signaling\"   \"\"                    \n",
       "[124] \"\"                     \"\"                     \"\"                    \n",
       "[127] \"\"                     \"\"                     \"\"                    \n",
       "[130] \"\"                     \"\"                     \"\"                    \n",
       "[133] \"\"                     \"\"                     \"\"                    \n",
       "[136] \"\"                     \"\"                     \"\"                    \n",
       "[139] \"\"                     \"\"                     \"\"                    \n",
       "[142] \"\"                     \"\"                     \"\"                    \n",
       "[145] \"\"                     \"\"                     \"\"                    \n",
       "[148] \"\"                     \"\"                     \"\"                    \n",
       "[151] \"\"                     \"\"                     \"\"                    \n",
       "[154] \"\"                     \"\"                     \"\"                    \n",
       "[157] \"\"                     \"\"                     \"\"                    \n",
       "[160] \"\"                     \"\"                     \"\"                    \n",
       "[163] \"\"                     \"\"                     \"\"                    \n",
       "[166] \"\"                     \"\"                     \"\"                    \n",
       "[169] \"\"                     \"\"                     \"\"                    \n",
       "[172] \"\"                     \"\"                     \"\"                    \n",
       "[175] \"\"                     \"\"                     \"\"                    \n",
       "[178] \"\"                     \"Histone modification\" \"\"                    \n",
       "[181] \"\"                     \"\"                     \"\"                    \n",
       "[184] \"\"                     \"\"                     \"\"                    \n",
       "[187] \"\"                     \"\"                     \"\"                    \n",
       "[190] \"\"                     \"\"                     \"\"                    \n",
       "[193] \"\"                     \"\"                     \"\"                    \n",
       "[196] \"\"                     \"\"                     \"\"                    \n",
       "[199] \"\"                     \"\"                     \"\"                    \n",
       "[202] \"\"                     \"\"                     \"\"                    \n",
       "[205] \"\"                     \"\"                     \"\"                    \n",
       "[208] \"\"                     \"\"                     \"\"                    \n",
       "[211] \"\"                     \"\"                     \"\"                    \n",
       "[214] \"\"                     \"\"                     \"\"                    \n",
       "[217] \"\"                     \"\"                     \"\"                    \n",
       "[220] \"\"                     \"\"                     \"\"                    \n",
       "[223] \"\"                     \"\"                     \"\"                    \n",
       "[226] \"\"                     \"\"                     \"\"                    \n",
       "[229] \"\"                     \"\"                     \"\"                    \n",
       "[232] \"\"                     \"\"                     \"\"                    \n",
       "[235] \"\"                     \"\"                     \"\"                    \n",
       "[238] \"\"                     \"\"                     \"\"                    \n",
       "[241] \"\"                     \"\"                     \"\"                    \n",
       "[244] \"\"                     \"\"                     \"\"                    \n",
       "[247] \"\"                     \"\"                     \"\"                    \n",
       "[250] \"\"                    "
      ]
     },
     "metadata": {},
     "output_type": "display_data"
    }
   ],
   "source": [
    "Omics_analysis_DF$labelName"
   ]
  },
  {
   "cell_type": "code",
   "execution_count": 63,
   "id": "023f9f8b-1456-46f3-87ab-c9509f2de338",
   "metadata": {},
   "outputs": [
    {
     "data": {
      "text/html": [
       "<table class=\"dataframe\">\n",
       "<caption>A tibble: 2 × 3</caption>\n",
       "<thead>\n",
       "\t<tr><th scope=col>labelName</th><th scope=col>LLM Name</th><th scope=col>GO term</th></tr>\n",
       "\t<tr><th scope=col>&lt;chr&gt;</th><th scope=col>&lt;chr&gt;</th><th scope=col>&lt;chr&gt;</th></tr>\n",
       "</thead>\n",
       "<tbody>\n",
       "\t<tr><td>Hedgehog signaling  </td><td>Neural Development and Axon Guidance                 </td><td>Nervous System Development                                </td></tr>\n",
       "\t<tr><td>Histone modification</td><td>Chromatin Modification and Transcriptional Regulation</td><td>Negative Regulation Of Transcription By RNA Polymerase II </td></tr>\n",
       "</tbody>\n",
       "</table>\n"
      ],
      "text/latex": [
       "A tibble: 2 × 3\n",
       "\\begin{tabular}{lll}\n",
       " labelName & LLM Name & GO term\\\\\n",
       " <chr> & <chr> & <chr>\\\\\n",
       "\\hline\n",
       "\t Hedgehog signaling   & Neural Development and Axon Guidance                  & Nervous System Development                                \\\\\n",
       "\t Histone modification & Chromatin Modification and Transcriptional Regulation & Negative Regulation Of Transcription By RNA Polymerase II \\\\\n",
       "\\end{tabular}\n"
      ],
      "text/markdown": [
       "\n",
       "A tibble: 2 × 3\n",
       "\n",
       "| labelName &lt;chr&gt; | LLM Name &lt;chr&gt; | GO term &lt;chr&gt; |\n",
       "|---|---|---|\n",
       "| Hedgehog signaling   | Neural Development and Axon Guidance                  | Nervous System Development                                 |\n",
       "| Histone modification | Chromatin Modification and Transcriptional Regulation | Negative Regulation Of Transcription By RNA Polymerase II  |\n",
       "\n"
      ],
      "text/plain": [
       "  labelName            LLM Name                                             \n",
       "1 Hedgehog signaling   Neural Development and Axon Guidance                 \n",
       "2 Histone modification Chromatin Modification and Transcriptional Regulation\n",
       "  GO term                                                   \n",
       "1 Nervous System Development                                \n",
       "2 Negative Regulation Of Transcription By RNA Polymerase II "
      ]
     },
     "metadata": {},
     "output_type": "display_data"
    }
   ],
   "source": [
    "Omics_analysis_DF %>%\n",
    "subset(tolower(labelName) %in% tolower(geneSetsToLabel)) %>%\n",
    "select(c(\"labelName\", \"LLM Name\", \"GO term\"))"
   ]
  },
  {
   "cell_type": "code",
   "execution_count": null,
   "id": "3e3a0228-1c04-4914-a7ea-ac565d891e5e",
   "metadata": {},
   "outputs": [],
   "source": []
  },
  {
   "cell_type": "code",
   "execution_count": 14,
   "id": "b2ad96f1-a07a-41ae-a34f-45513e8ba55c",
   "metadata": {
    "vscode": {
     "languageId": "r"
    }
   },
   "outputs": [],
   "source": [
    "Omics_analysis_long_DF = Omics_analysis_DF[,c(\"labelName\", \"GeneSetName\", \"LLM_name_human_name_sim\",\n",
    "                                              \"GO_term_human_name_sim\", \"log2_n_Genes\", \"Source\")] %>%\n",
    "pivot_longer(cols = c(\"LLM_name_human_name_sim\" ,\"GO_term_human_name_sim\"),\n",
    "             names_to = \"sim_option\",\n",
    "             values_to = \"sim_value\")"
   ]
  },
  {
   "cell_type": "code",
   "execution_count": null,
   "id": "53ba9c5c-cf13-4c9a-ae5d-407649bd61c6",
   "metadata": {
    "vscode": {
     "languageId": "r"
    }
   },
   "outputs": [],
   "source": [
    "if (!dir.exists(\"figures\")){\n",
    "    dir.create(\"figures\")}"
   ]
  },
  {
   "cell_type": "markdown",
   "id": "ba54526d-7eeb-4c35-8df3-f108b6e4681a",
   "metadata": {},
   "source": [
    "#### Genes captured figures"
   ]
  },
  {
   "cell_type": "code",
   "execution_count": 15,
   "id": "e1113464-8392-4ca0-9c8f-af6ff5d06f02",
   "metadata": {
    "vscode": {
     "languageId": "r"
    }
   },
   "outputs": [],
   "source": [
    "merged_analysis_long_percOverlap_DF = Omics_analysis_DF[,c(\"labelName\", \"GeneSetName\", \"log2_n_Genes\",\n",
    "                                                           \"perc_overlap_LLM\" ,\"perc_overlap_Enrichr\", \"Source\")] %>%\n",
    "pivot_longer(cols = c(\"perc_overlap_LLM\" ,\"perc_overlap_Enrichr\"),\n",
    "             names_to = \"analysisType\",\n",
    "             values_to = \"perc_overlap\")"
   ]
  },
  {
   "cell_type": "code",
   "execution_count": 16,
   "id": "9ed8b61b-e036-425d-b5a0-fd0d1f48db31",
   "metadata": {
    "vscode": {
     "languageId": "r"
    }
   },
   "outputs": [],
   "source": [
    "my_comparisonsOverlap <- list( c(\"perc_overlap_LLM\", \"perc_overlap_Enrichr\") )\n"
   ]
  },
  {
   "cell_type": "code",
   "execution_count": 17,
   "id": "f18bd89a-3601-4164-92f4-a208e827a8d5",
   "metadata": {
    "tags": [],
    "vscode": {
     "languageId": "r"
    }
   },
   "outputs": [],
   "source": [
    "pos <- position_jitter( seed = 1, width = 0.2)"
   ]
  },
  {
   "cell_type": "code",
   "execution_count": 18,
   "id": "598435f3-a270-4a53-ac52-8358c5ea21fe",
   "metadata": {
    "vscode": {
     "languageId": "r"
    }
   },
   "outputs": [],
   "source": [
    "labelNameStr =  merged_analysis_long_percOverlap_DF$labelName;"
   ]
  },
  {
   "cell_type": "code",
   "execution_count": 19,
   "id": "a97d1179-0077-44f2-987a-da17f90a9e2f",
   "metadata": {},
   "outputs": [
    {
     "data": {
      "text/html": [
       "<style>\n",
       ".list-inline {list-style: none; margin:0; padding: 0}\n",
       ".list-inline>li {display: inline-block}\n",
       ".list-inline>li:not(:last-child)::after {content: \"\\00b7\"; padding: 0 .5ex}\n",
       "</style>\n",
       "<ol class=list-inline><li>'Disease'</li><li>'Gene Expression'</li><li>'MSigDB'</li><li>'NeST'</li><li>'Perturbation'</li></ol>\n"
      ],
      "text/latex": [
       "\\begin{enumerate*}\n",
       "\\item 'Disease'\n",
       "\\item 'Gene Expression'\n",
       "\\item 'MSigDB'\n",
       "\\item 'NeST'\n",
       "\\item 'Perturbation'\n",
       "\\end{enumerate*}\n"
      ],
      "text/markdown": [
       "1. 'Disease'\n",
       "2. 'Gene Expression'\n",
       "3. 'MSigDB'\n",
       "4. 'NeST'\n",
       "5. 'Perturbation'\n",
       "\n",
       "\n"
      ],
      "text/plain": [
       "[1] \"Disease\"         \"Gene Expression\" \"MSigDB\"          \"NeST\"           \n",
       "[5] \"Perturbation\"   "
      ]
     },
     "metadata": {},
     "output_type": "display_data"
    }
   ],
   "source": [
    "merged_analysis_long_percOverlap_DF$Source %>% unique()"
   ]
  },
  {
   "cell_type": "code",
   "execution_count": 71,
   "id": "d1b65fba-ac23-4797-a314-f775784d5010",
   "metadata": {},
   "outputs": [
    {
     "name": "stdout",
     "output_type": "stream",
     "text": [
      "[1] \"MSigDB\"\n",
      "[1] \"LLM\"\n",
      "   Min. 1st Qu.  Median    Mean 3rd Qu.    Max. \n",
      "   4.00   15.10   21.75   29.67   38.51   96.88 \n",
      "[1] \"GO\"\n",
      "   Min. 1st Qu.  Median    Mean 3rd Qu.    Max. \n",
      "  2.963   8.375  17.000  18.174  26.522  49.425 \n",
      "[1] \"============\"\n",
      "[1] \"NeST\"\n",
      "[1] \"LLM\"\n",
      "   Min. 1st Qu.  Median    Mean 3rd Qu.    Max. \n",
      "  32.47  100.00  100.00   94.47  100.00  100.00 \n",
      "[1] \"GO\"\n",
      "   Min. 1st Qu.  Median    Mean 3rd Qu.    Max. \n",
      "  21.43   45.83   62.50   62.80   78.75  100.00 \n",
      "[1] \"============\"\n",
      "[1] \"Disease\"\n",
      "[1] \"LLM\"\n",
      "   Min. 1st Qu.  Median    Mean 3rd Qu.    Max. \n",
      "  13.91  100.00  100.00   92.84  100.00  100.00 \n",
      "[1] \"GO\"\n",
      "   Min. 1st Qu.  Median    Mean 3rd Qu.    Max. \n",
      "  4.348  28.571  50.000  46.776  66.667 100.000 \n",
      "[1] \"============\"\n",
      "[1] \"Gene Expression\"\n",
      "[1] \"LLM\"\n",
      "   Min. 1st Qu.  Median    Mean 3rd Qu.    Max. \n",
      "  34.09   93.33   96.67   87.72  100.00  100.00 \n",
      "[1] \"GO\"\n",
      "   Min. 1st Qu.  Median    Mean 3rd Qu.    Max. \n",
      "  0.000   8.333  13.636  24.327  31.250 100.000 \n",
      "[1] \"============\"\n",
      "[1] \"Perturbation\"\n",
      "[1] \"LLM\"\n",
      "   Min. 1st Qu.  Median    Mean 3rd Qu.    Max. \n",
      "  45.36  100.00  100.00   97.54  100.00  100.00 \n",
      "[1] \"GO\"\n",
      "   Min. 1st Qu.  Median    Mean 3rd Qu.    Max. \n",
      "  25.00   44.16   60.00   61.33   75.00  100.00 \n",
      "[1] \"============\"\n"
     ]
    }
   ],
   "source": [
    "for (sourceStr in c(\"MSigDB\", \"NeST\", \"Disease\", \"Gene Expression\", \"Perturbation\")){\n",
    "    \n",
    "    print(sourceStr)\n",
    "    \n",
    "    sourceSubset = merged_analysis_long_percOverlap_DF %>%\n",
    "    subset(Source == sourceStr)\n",
    "    \n",
    "    print(\"LLM\")\n",
    "    sourceSubset %>%\n",
    "    subset(analysisType == \"perc_overlap_LLM\") %>%\n",
    "    pull(perc_overlap) %>%\n",
    "    summary() %>% print()\n",
    "    \n",
    "    print(\"GO\")\n",
    "    sourceSubset %>%\n",
    "    subset(analysisType == \"perc_overlap_Enrichr\") %>%\n",
    "    pull(perc_overlap) %>%\n",
    "    summary() %>% print()\n",
    "    \n",
    "    print(\"============\")\n",
    "    }\n",
    " "
   ]
  },
  {
   "cell_type": "code",
   "execution_count": 57,
   "id": "1dfc624e-41a5-4278-918b-445f83a55488",
   "metadata": {
    "tags": [],
    "vscode": {
     "languageId": "r"
    }
   },
   "outputs": [
    {
     "data": {
      "image/png": "[encoded data removed]",
      "text/plain": [
       "plot without title"
      ]
     },
     "metadata": {
      "image/png": {
       "height": 420,
       "width": 420
      }
     },
     "output_type": "display_data"
    }
   ],
   "source": [
    "boxPlot_overlap_new_plot = merged_analysis_long_percOverlap_DF %>%\n",
    "    ggviolin(size = 0.3, x = \"analysisType\", y = \"perc_overlap\", \n",
    "            draw_quantiles = c(0.25, 0.5, 0.75),\n",
    "            ylab = \"Percentage of genes captured in analysis\" , xlab = \"Automated naming\",\n",
    "            trim  = TRUE, ylim = c(0, 105)) +\n",
    "    geom_jitter( aes(color = factor(Source)), size = 0.3, position = position_jitter(seed = 1, width = 0.2)) +\n",
    "    geom_text_repel(aes(color = factor(Source)), position = pos, label = labelNameStr, \n",
    "                    max.overlaps = 100, size = 2, min.segment.length = 0.01) +\n",
    "  scale_colour_manual(name=\"Source\", labels = c(\"MSigDB\", \"NeST\", \"Disease\", \"Gene Expression\", \"Perturbation\"), \n",
    "                      values=c(\"#1A85FF\", \"#D41159\", \"#5f8159\", \"#808080\", \"#8271ab\"))+\n",
    "scale_x_discrete(labels=c(\"perc_overlap_LLM\" = \"GPT-4 Analyses\", \"perc_overlap_Enrichr\" = \"Enrichr\")) + \n",
    "stat_compare_means(comparisons = my_comparisonsOverlap,label.y = 101, \n",
    "                   label = \"p.format\", size = 2)  +\n",
    "theme_pubr_SA(base_family = \"Arial\", legend = \"top\") \n",
    "   \n",
    "\n",
    "boxPlot_overlap_new_plot"
   ]
  },
  {
   "cell_type": "code",
   "execution_count": 23,
   "id": "07cc021b-c5ac-4de4-972d-ff79c3f122d7",
   "metadata": {
    "vscode": {
     "languageId": "r"
    }
   },
   "outputs": [
    {
     "data": {
      "text/plain": [
       "   Min. 1st Qu.  Median    Mean 3rd Qu.    Max. \n",
       "  32.47  100.00  100.00   94.47  100.00  100.00 "
      ]
     },
     "metadata": {},
     "output_type": "display_data"
    }
   ],
   "source": [
    "merged_analysis_long_percOverlap_DF %>%\n",
    "subset(analysisType == \"perc_overlap_LLM\") %>%\n",
    "subset(Source == \"NeST\") %>%\n",
    "pull(perc_overlap) %>%\n",
    "summary()"
   ]
  },
  {
   "cell_type": "code",
   "execution_count": 24,
   "id": "715f402e-1242-4d51-8369-e9f39c69f21f",
   "metadata": {
    "vscode": {
     "languageId": "r"
    }
   },
   "outputs": [],
   "source": [
    "ggsave(filename = \"figures/fig3_overlap_revision.png\", plot = boxPlot_overlap_new_plot, height = 7, width = 7)\n"
   ]
  },
  {
   "cell_type": "code",
   "execution_count": 25,
   "id": "29f47ecd-ba37-413d-b315-66603318430e",
   "metadata": {
    "vscode": {
     "languageId": "r"
    }
   },
   "outputs": [],
   "source": [
    "ggsave(file=\"figures/fig3_overlap_revision.svg\", plot=boxPlot_overlap_new_plot, height = 7, width = 7)\n"
   ]
  },
  {
   "cell_type": "code",
   "execution_count": null,
   "id": "ccea9779-3bfa-4540-a7a4-544161506377",
   "metadata": {
    "vscode": {
     "languageId": "r"
    }
   },
   "outputs": [],
   "source": [
    "colnames(merged_analysis_long_DF)"
   ]
  },
  {
   "cell_type": "markdown",
   "id": "1b159f4f-e5b6-4303-9e4f-8e0c2e7f4f10",
   "metadata": {},
   "source": [
    "### Semantic similarity plot"
   ]
  },
  {
   "cell_type": "code",
   "execution_count": 26,
   "id": "651649a3-a42e-4486-8f2f-03e5f13f604b",
   "metadata": {
    "vscode": {
     "languageId": "r"
    }
   },
   "outputs": [],
   "source": [
    "posSimSem <- position_jitter(seed = 1, width = 0.2)"
   ]
  },
  {
   "cell_type": "code",
   "execution_count": 27,
   "id": "0b6e6c4d-d2cf-401d-ad29-b23f3b8fe406",
   "metadata": {
    "vscode": {
     "languageId": "r"
    }
   },
   "outputs": [],
   "source": [
    "labelNameStrSimSem =  Omics_analysis_long_DF$labelName;"
   ]
  },
  {
   "cell_type": "code",
   "execution_count": 34,
   "id": "7c0e8f1c-3d58-4f41-b4d0-716d66ed7901",
   "metadata": {
    "vscode": {
     "languageId": "r"
    }
   },
   "outputs": [
    {
     "data": {
      "image/png": "[encoded data removed]",
      "text/plain": [
       "plot without title"
      ]
     },
     "metadata": {
      "image/png": {
       "height": 420,
       "width": 420
      }
     },
     "output_type": "display_data"
    }
   ],
   "source": [
    "my_comparisons_semsim = list(c(\"LLM_name_human_name_sim\", \"GO_term_human_name_sim\"))\n",
    "\n",
    "boxPlot_simplist_2_plot = Omics_analysis_long_DF %>%\n",
    "    ggviolin(size = 0.3, x = \"sim_option\", y = \"sim_value\",\n",
    "            draw_quantiles = c(0.25, 0.5, 0.75),\n",
    "            ylab  = \"Semantic similarity to names from human experts\",\n",
    "             xlab = \"Automated naming\", trim = TRUE, ylim = c(0, 1.03))+\n",
    "    geom_jitter(aes(color = factor(Source)),size = 0.3, position = position_jitter(seed = 1, width = 0.2)) +\n",
    "geom_text_repel(aes(color = factor(Source)), position = posSimSem, label = labelNameStrSimSem, \n",
    "                    max.overlaps = 100, size = 2, min.segment.length = 0.01)+\n",
    "scale_colour_manual(name=\"Source\", labels = c(\"MSigDB\", \"NeST\", \"Disease\", \"Gene Expression\", \"Perturbation\"), \n",
    "                     values=c(\"#1A85FF\", \"#D41159\", \"#5f8159\", \"#808080\", \"#8271ab\")) + \n",
    "scale_x_discrete(labels=c(\"LLM_name_human_name_sim\" = \"GPT-4 Analyses\", \"GO_term_human_name_sim\" = \"Enrichr\")) +\n",
    "stat_compare_means(comparisons = my_comparisons_semsim, \n",
    "                   label.y = 1, label = \"p.format\", size = 2) + \n",
    "theme_pubr_SA(base_family = \"Arial\", legend = \"top\")\n",
    "\n",
    "boxPlot_simplist_2_plot\n",
    "\n",
    "#"
   ]
  },
  {
   "cell_type": "code",
   "execution_count": 65,
   "id": "4bb9dbc8-e175-488d-96fd-b6fc2c808f5d",
   "metadata": {
    "tags": [],
    "vscode": {
     "languageId": "r"
    }
   },
   "outputs": [
    {
     "name": "stdout",
     "output_type": "stream",
     "text": [
      "[1] \"MSigDB\"\n",
      "[1] \"LLM_name_human_name_sim\"\n",
      "   Min. 1st Qu.  Median    Mean 3rd Qu.    Max. \n",
      " 0.2459  0.3954  0.5281  0.5387  0.6788  0.8730 \n",
      "[1] \"GO_term_human_name_sim\"\n",
      "   Min. 1st Qu.  Median    Mean 3rd Qu.    Max. \n",
      " 0.1445  0.2976  0.4646  0.4835  0.6431  1.0000 \n",
      "[1] \"============\"\n",
      "[1] \"NeST\"\n",
      "[1] \"LLM_name_human_name_sim\"\n",
      "   Min. 1st Qu.  Median    Mean 3rd Qu.    Max. \n",
      " 0.2487  0.4312  0.5070  0.5255  0.6157  0.9151 \n",
      "[1] \"GO_term_human_name_sim\"\n",
      "   Min. 1st Qu.  Median    Mean 3rd Qu.    Max. \n",
      " 0.2016  0.2591  0.3946  0.4400  0.5881  0.9233 \n",
      "[1] \"============\"\n",
      "[1] \"Disease\"\n",
      "[1] \"LLM_name_human_name_sim\"\n",
      "   Min. 1st Qu.  Median    Mean 3rd Qu.    Max. \n",
      " 0.1611  0.2892  0.3496  0.3732  0.4788  0.8048 \n",
      "[1] \"GO_term_human_name_sim\"\n",
      "   Min. 1st Qu.  Median    Mean 3rd Qu.    Max. \n",
      "0.06417 0.19154 0.25238 0.26519 0.32798 0.51177 \n",
      "[1] \"============\"\n",
      "[1] \"Gene Expression\"\n",
      "[1] \"LLM_name_human_name_sim\"\n",
      "   Min. 1st Qu.  Median    Mean 3rd Qu.    Max. \n",
      " 0.2731  0.4974  0.5507  0.5636  0.6558  0.8117 \n",
      "[1] \"GO_term_human_name_sim\"\n",
      "   Min. 1st Qu.  Median    Mean 3rd Qu.    Max. \n",
      " 0.1739  0.3223  0.4077  0.4892  0.6773  1.0000 \n",
      "[1] \"============\"\n",
      "[1] \"Perturbation\"\n",
      "[1] \"LLM_name_human_name_sim\"\n",
      "   Min. 1st Qu.  Median    Mean 3rd Qu.    Max. \n",
      " 0.1870  0.4945  0.6262  0.6324  0.7721  0.9218 \n",
      "[1] \"GO_term_human_name_sim\"\n",
      "   Min. 1st Qu.  Median    Mean 3rd Qu.    Max. \n",
      " 0.1976  0.3594  0.5240  0.5470  0.6993  1.0000 \n",
      "[1] \"============\"\n"
     ]
    }
   ],
   "source": [
    "for (sourceStr in c(\"MSigDB\", \"NeST\", \"Disease\", \"Gene Expression\", \"Perturbation\")){\n",
    "    \n",
    "    print(sourceStr)\n",
    "    \n",
    "    sourceSubset = Omics_analysis_long_DF %>%\n",
    "    subset(Source == sourceStr)\n",
    "    \n",
    "    print(\"LLM_name_human_name_sim\")\n",
    "    sourceSubset %>%\n",
    "    subset(sim_option == \"LLM_name_human_name_sim\") %>%\n",
    "    pull(sim_value) %>%\n",
    "    summary() %>% print()\n",
    "    \n",
    "    print(\"GO_term_human_name_sim\")\n",
    "    sourceSubset %>%\n",
    "    subset(sim_option == \"GO_term_human_name_sim\") %>%\n",
    "    pull(sim_value) %>%\n",
    "    summary() %>% print()\n",
    "    \n",
    "    print(\"============\")\n",
    "    }\n",
    " "
   ]
  },
  {
   "cell_type": "code",
   "execution_count": 67,
   "id": "1dcf6262-568d-4b01-aa31-8e5ff6bea70d",
   "metadata": {
    "collapsed": true,
    "jupyter": {
     "outputs_hidden": true
    },
    "tags": []
   },
   "outputs": [
    {
     "data": {
      "text/html": [
       "\n",
       "<table style=\"width: 100%;\"><tr><td>summary {base}</td><td style=\"text-align: right;\">R Documentation</td></tr></table>\n",
       "\n",
       "<h2>Object Summaries</h2>\n",
       "\n",
       "<h3>Description</h3>\n",
       "\n",
       "<p><code>summary</code> is a generic function used to produce result summaries\n",
       "of the results of various model fitting functions.  The function\n",
       "invokes particular <code>methods</code> which depend on the\n",
       "<code>class</code> of the first argument.\n",
       "</p>\n",
       "\n",
       "\n",
       "<h3>Usage</h3>\n",
       "\n",
       "<pre><code class='language-R'>summary(object, ...)\n",
       "\n",
       "## Default S3 method:\n",
       "summary(object, ..., digits, quantile.type = 7)\n",
       "## S3 method for class 'data.frame'\n",
       "summary(object, maxsum = 7,\n",
       "       digits = max(3, getOption(\"digits\")-3), ...)\n",
       "\n",
       "## S3 method for class 'factor'\n",
       "summary(object, maxsum = 100, ...)\n",
       "\n",
       "## S3 method for class 'matrix'\n",
       "summary(object, ...)\n",
       "\n",
       "## S3 method for class 'summaryDefault'\n",
       "format(x, digits = max(3L, getOption(\"digits\") - 3L), ...)\n",
       " ## S3 method for class 'summaryDefault'\n",
       "print(x, digits = max(3L, getOption(\"digits\") - 3L), ...)\n",
       "</code></pre>\n",
       "\n",
       "\n",
       "<h3>Arguments</h3>\n",
       "\n",
       "<table>\n",
       "<tr style=\"vertical-align: top;\"><td><code>object</code></td>\n",
       "<td>\n",
       "<p>an object for which a summary is desired.</p>\n",
       "</td></tr>\n",
       "<tr style=\"vertical-align: top;\"><td><code>x</code></td>\n",
       "<td>\n",
       "<p>a result of the <em>default</em> method of <code>summary()</code>.</p>\n",
       "</td></tr>\n",
       "<tr style=\"vertical-align: top;\"><td><code>maxsum</code></td>\n",
       "<td>\n",
       "<p>integer, indicating how many levels should be shown for\n",
       "<code>factor</code>s.</p>\n",
       "</td></tr>\n",
       "<tr style=\"vertical-align: top;\"><td><code>digits</code></td>\n",
       "<td>\n",
       "<p>integer, used for number formatting with\n",
       "<code>signif()</code> (for <code>summary.default</code>) or\n",
       "<code>format()</code> (for <code>summary.data.frame</code>).  In\n",
       "<code>summary.default</code>, if not specified (i.e.,\n",
       "<code>missing(.)</code>), <code>signif()</code> will <em>not</em> be called\n",
       "anymore (since <span style=\"font-family: Courier New, Courier; color: #666666;\"><b>R</b></span> &gt;= 3.4.0, where the default has been changed to\n",
       "only round in the <code>print</code> and <code>format</code> methods).</p>\n",
       "</td></tr></table>\n",
       "\n",
       "<table>\n",
       "<tr style=\"vertical-align: top;\"><td><code>quantile.type</code></td>\n",
       "<td>\n",
       "<p>integer code used in <code>quantile(*, type=quantile.type)</code>\n",
       "for the default method.</p>\n",
       "</td></tr>\n",
       "<tr style=\"vertical-align: top;\"><td><code>...</code></td>\n",
       "<td>\n",
       "<p>additional arguments affecting the summary produced.</p>\n",
       "</td></tr>\n",
       "</table>\n",
       "\n",
       "\n",
       "<h3>Details</h3>\n",
       "\n",
       "<p>For <code>factor</code>s, the frequency of the first <code>maxsum - 1</code>\n",
       "most frequent levels is shown, and the less frequent levels are\n",
       "summarized in <code>\"(Others)\"</code> (resulting in at most <code>maxsum</code>\n",
       "frequencies).\n",
       "</p>\n",
       "<p>The functions <code>summary.lm</code> and <code>summary.glm</code> are examples\n",
       "of particular methods which summarize the results produced by\n",
       "<code>lm</code> and <code>glm</code>.\n",
       "</p>\n",
       "\n",
       "\n",
       "<h3>Value</h3>\n",
       "\n",
       "<p>The form of the value returned by <code>summary</code> depends on the\n",
       "class of its argument.  See the documentation of the particular\n",
       "methods for details of what is produced by that method.\n",
       "</p>\n",
       "<p>The default method returns an object of class\n",
       "<code>c(\"summaryDefault\", \"table\")</code> which has specialized\n",
       "<code>format</code> and <code>print</code> methods.  The\n",
       "<code>factor</code> method returns an integer vector.\n",
       "</p>\n",
       "<p>The matrix and data frame methods return a matrix of class\n",
       "<code>\"table\"</code>, obtained by applying <code>summary</code> to each\n",
       "column and collating the results.\n",
       "</p>\n",
       "\n",
       "\n",
       "<h3>References</h3>\n",
       "\n",
       "<p>Chambers, J. M. and Hastie, T. J. (1992)\n",
       "<em>Statistical Models in S</em>.\n",
       "Wadsworth &amp; Brooks/Cole.\n",
       "</p>\n",
       "\n",
       "\n",
       "<h3>See Also</h3>\n",
       "\n",
       "<p><code>anova</code>,\n",
       "<code>summary.glm</code>,\n",
       "<code>summary.lm</code>.\n",
       "</p>\n",
       "\n",
       "\n",
       "<h3>Examples</h3>\n",
       "\n",
       "<pre><code class='language-R'>summary(attenu, digits = 4) #-&gt; summary.data.frame(...), default precision\n",
       "summary(attenu $ station, maxsum = 20) #-&gt; summary.factor(...)\n",
       "\n",
       "lst &lt;- unclass(attenu$station) &gt; 20 # logical with NAs\n",
       "## summary.default() for logicals -- different from *.factor:\n",
       "summary(lst)\n",
       "summary(as.factor(lst))\n",
       "</code></pre>\n",
       "\n",
       "<hr /><div style=\"text-align: center;\">[Package <em>base</em> version 4.2.2 ]</div>\n",
       "</div>"
      ],
      "text/latex": [
       "\\inputencoding{utf8}\n",
       "\\HeaderA{summary}{Object Summaries}{summary}\n",
       "\\aliasA{format.summaryDefault}{summary}{format.summaryDefault}\n",
       "\\aliasA{print.summaryDefault}{summary}{print.summaryDefault}\n",
       "\\methaliasA{summary.data.frame}{summary}{summary.data.frame}\n",
       "\\methaliasA{summary.default}{summary}{summary.default}\n",
       "\\methaliasA{summary.factor}{summary}{summary.factor}\n",
       "\\methaliasA{summary.matrix}{summary}{summary.matrix}\n",
       "\\keyword{methods}{summary}\n",
       "%\n",
       "\\begin{Description}\\relax\n",
       "\\code{summary} is a generic function used to produce result summaries\n",
       "of the results of various model fitting functions.  The function\n",
       "invokes particular \\code{\\LinkA{methods}{methods}} which depend on the\n",
       "\\code{\\LinkA{class}{class}} of the first argument.\n",
       "\\end{Description}\n",
       "%\n",
       "\\begin{Usage}\n",
       "\\begin{verbatim}\n",
       "summary(object, ...)\n",
       "\n",
       "## Default S3 method:\n",
       "summary(object, ..., digits, quantile.type = 7)\n",
       "## S3 method for class 'data.frame'\n",
       "summary(object, maxsum = 7,\n",
       "       digits = max(3, getOption(\"digits\")-3), ...)\n",
       "\n",
       "## S3 method for class 'factor'\n",
       "summary(object, maxsum = 100, ...)\n",
       "\n",
       "## S3 method for class 'matrix'\n",
       "summary(object, ...)\n",
       "\n",
       "## S3 method for class 'summaryDefault'\n",
       "format(x, digits = max(3L, getOption(\"digits\") - 3L), ...)\n",
       " ## S3 method for class 'summaryDefault'\n",
       "print(x, digits = max(3L, getOption(\"digits\") - 3L), ...)\n",
       "\\end{verbatim}\n",
       "\\end{Usage}\n",
       "%\n",
       "\\begin{Arguments}\n",
       "\\begin{ldescription}\n",
       "\\item[\\code{object}] an object for which a summary is desired.\n",
       "\\item[\\code{x}] a result of the \\emph{default} method of \\code{summary()}.\n",
       "\\item[\\code{maxsum}] integer, indicating how many levels should be shown for\n",
       "\\code{\\LinkA{factor}{factor}}s.\n",
       "\\item[\\code{digits}] integer, used for number formatting with\n",
       "\\code{\\LinkA{signif}{signif}()} (for \\code{summary.default}) or\n",
       "\\code{\\LinkA{format}{format}()} (for \\code{summary.data.frame}).  In\n",
       "\\code{summary.default}, if not specified (i.e.,\n",
       "\\code{\\LinkA{missing}{missing}(.)}), \\code{signif()} will \\emph{not} be called\n",
       "anymore (since \\R{} >= 3.4.0, where the default has been changed to\n",
       "only round in the \\code{print} and \\code{format} methods).\n",
       "\\item[\\code{quantile.type}] integer code used in \\code{quantile(*, type=quantile.type)}\n",
       "for the default method.\n",
       "\\item[\\code{...}] additional arguments affecting the summary produced.\n",
       "\\end{ldescription}\n",
       "\\end{Arguments}\n",
       "%\n",
       "\\begin{Details}\\relax\n",
       "For \\code{\\LinkA{factor}{factor}}s, the frequency of the first \\code{maxsum - 1}\n",
       "most frequent levels is shown, and the less frequent levels are\n",
       "summarized in \\code{\"(Others)\"} (resulting in at most \\code{maxsum}\n",
       "frequencies).\n",
       "\n",
       "The functions \\code{summary.lm} and \\code{summary.glm} are examples\n",
       "of particular methods which summarize the results produced by\n",
       "\\code{\\LinkA{lm}{lm}} and \\code{\\LinkA{glm}{glm}}.\n",
       "\\end{Details}\n",
       "%\n",
       "\\begin{Value}\n",
       "The form of the value returned by \\code{summary} depends on the\n",
       "class of its argument.  See the documentation of the particular\n",
       "methods for details of what is produced by that method.\n",
       "\n",
       "The default method returns an object of class\n",
       "\\code{c(\"summaryDefault\", \"\\LinkA{table}{table}\")} which has specialized\n",
       "\\code{\\LinkA{format}{format}} and \\code{\\LinkA{print}{print}} methods.  The\n",
       "\\code{\\LinkA{factor}{factor}} method returns an integer vector.\n",
       "\n",
       "The matrix and data frame methods return a matrix of class\n",
       "\\code{\"\\LinkA{table}{table}\"}, obtained by applying \\code{summary} to each\n",
       "column and collating the results.\n",
       "\\end{Value}\n",
       "%\n",
       "\\begin{References}\\relax\n",
       "Chambers, J. M. and Hastie, T. J. (1992)\n",
       "\\emph{Statistical Models in S}.\n",
       "Wadsworth \\& Brooks/Cole.\n",
       "\\end{References}\n",
       "%\n",
       "\\begin{SeeAlso}\\relax\n",
       "\\code{\\LinkA{anova}{anova}},\n",
       "\\code{\\LinkA{summary.glm}{summary.glm}},\n",
       "\\code{\\LinkA{summary.lm}{summary.lm}}.\n",
       "\\end{SeeAlso}\n",
       "%\n",
       "\\begin{Examples}\n",
       "\\begin{ExampleCode}\n",
       "summary(attenu, digits = 4) #-> summary.data.frame(...), default precision\n",
       "summary(attenu $ station, maxsum = 20) #-> summary.factor(...)\n",
       "\n",
       "lst <- unclass(attenu$station) > 20 # logical with NAs\n",
       "## summary.default() for logicals -- different from *.factor:\n",
       "summary(lst)\n",
       "summary(as.factor(lst))\n",
       "\\end{ExampleCode}\n",
       "\\end{Examples}"
      ],
      "text/plain": [
       "summary                  package:base                  R Documentation\n",
       "\n",
       "_\bO_\bb_\bj_\be_\bc_\bt _\bS_\bu_\bm_\bm_\ba_\br_\bi_\be_\bs\n",
       "\n",
       "_\bD_\be_\bs_\bc_\br_\bi_\bp_\bt_\bi_\bo_\bn:\n",
       "\n",
       "     ‘summary’ is a generic function used to produce result summaries\n",
       "     of the results of various model fitting functions.  The function\n",
       "     invokes particular ‘methods’ which depend on the ‘class’ of the\n",
       "     first argument.\n",
       "\n",
       "_\bU_\bs_\ba_\bg_\be:\n",
       "\n",
       "     summary(object, ...)\n",
       "     \n",
       "     ## Default S3 method:\n",
       "     summary(object, ..., digits, quantile.type = 7)\n",
       "     ## S3 method for class 'data.frame'\n",
       "     summary(object, maxsum = 7,\n",
       "            digits = max(3, getOption(\"digits\")-3), ...)\n",
       "     \n",
       "     ## S3 method for class 'factor'\n",
       "     summary(object, maxsum = 100, ...)\n",
       "     \n",
       "     ## S3 method for class 'matrix'\n",
       "     summary(object, ...)\n",
       "     \n",
       "     ## S3 method for class 'summaryDefault'\n",
       "     format(x, digits = max(3L, getOption(\"digits\") - 3L), ...)\n",
       "      ## S3 method for class 'summaryDefault'\n",
       "     print(x, digits = max(3L, getOption(\"digits\") - 3L), ...)\n",
       "     \n",
       "_\bA_\br_\bg_\bu_\bm_\be_\bn_\bt_\bs:\n",
       "\n",
       "  object: an object for which a summary is desired.\n",
       "\n",
       "       x: a result of the _default_ method of ‘summary()’.\n",
       "\n",
       "  maxsum: integer, indicating how many levels should be shown for\n",
       "          ‘factor’s.\n",
       "\n",
       "  digits: integer, used for number formatting with ‘signif()’ (for\n",
       "          ‘summary.default’) or ‘format()’ (for ‘summary.data.frame’).\n",
       "          In ‘summary.default’, if not specified (i.e., ‘missing(.)’),\n",
       "          ‘signif()’ will _not_ be called anymore (since R >= 3.4.0,\n",
       "          where the default has been changed to only round in the\n",
       "          ‘print’ and ‘format’ methods).\n",
       "\n",
       "quantile.type: integer code used in ‘quantile(*, type=quantile.type)’\n",
       "          for the default method.\n",
       "\n",
       "     ...: additional arguments affecting the summary produced.\n",
       "\n",
       "_\bD_\be_\bt_\ba_\bi_\bl_\bs:\n",
       "\n",
       "     For ‘factor’s, the frequency of the first ‘maxsum - 1’ most\n",
       "     frequent levels is shown, and the less frequent levels are\n",
       "     summarized in ‘\"(Others)\"’ (resulting in at most ‘maxsum’\n",
       "     frequencies).\n",
       "\n",
       "     The functions ‘summary.lm’ and ‘summary.glm’ are examples of\n",
       "     particular methods which summarize the results produced by ‘lm’\n",
       "     and ‘glm’.\n",
       "\n",
       "_\bV_\ba_\bl_\bu_\be:\n",
       "\n",
       "     The form of the value returned by ‘summary’ depends on the class\n",
       "     of its argument.  See the documentation of the particular methods\n",
       "     for details of what is produced by that method.\n",
       "\n",
       "     The default method returns an object of class ‘c(\"summaryDefault\",\n",
       "     \"table\")’ which has specialized ‘format’ and ‘print’ methods.  The\n",
       "     ‘factor’ method returns an integer vector.\n",
       "\n",
       "     The matrix and data frame methods return a matrix of class\n",
       "     ‘\"table\"’, obtained by applying ‘summary’ to each column and\n",
       "     collating the results.\n",
       "\n",
       "_\bR_\be_\bf_\be_\br_\be_\bn_\bc_\be_\bs:\n",
       "\n",
       "     Chambers, J. M. and Hastie, T. J. (1992) _Statistical Models in\n",
       "     S_.  Wadsworth & Brooks/Cole.\n",
       "\n",
       "_\bS_\be_\be _\bA_\bl_\bs_\bo:\n",
       "\n",
       "     ‘anova’, ‘summary.glm’, ‘summary.lm’.\n",
       "\n",
       "_\bE_\bx_\ba_\bm_\bp_\bl_\be_\bs:\n",
       "\n",
       "     summary(attenu, digits = 4) #-> summary.data.frame(...), default precision\n",
       "     summary(attenu $ station, maxsum = 20) #-> summary.factor(...)\n",
       "     \n",
       "     lst <- unclass(attenu$station) > 20 # logical with NAs\n",
       "     ## summary.default() for logicals -- different from *.factor:\n",
       "     summary(lst)\n",
       "     summary(as.factor(lst))\n",
       "     "
      ]
     },
     "metadata": {},
     "output_type": "display_data"
    }
   ],
   "source": [
    "?summary"
   ]
  },
  {
   "cell_type": "code",
   "execution_count": 37,
   "id": "5891c9ff-33c0-43cb-b614-90eb6d0d1ded",
   "metadata": {
    "vscode": {
     "languageId": "r"
    }
   },
   "outputs": [],
   "source": [
    "ggsave(filename = \"figures/fig3_semsim_revision.png\", plot = boxPlot_simplist_2_plot, height = 7, width = 7)\n",
    "ggsave(file=\"figures/fig3_semsim_revision.svg\", plot=boxPlot_simplist_2_plot, height = 7, width = 7)\n"
   ]
  },
  {
   "cell_type": "markdown",
   "id": "432ad773-a859-4166-b9aa-84693df9f53b",
   "metadata": {},
   "source": [
    "### Plot distribution of number of genes faceted by DataSet"
   ]
  },
  {
   "cell_type": "code",
   "execution_count": 38,
   "id": "31fb0e28-0f88-436a-90fb-ed7d3aae9f84",
   "metadata": {
    "vscode": {
     "languageId": "r"
    }
   },
   "outputs": [],
   "source": [
    "nGenes_count_Hist = gghistogram(data = Omics_analysis_DF, x = \"n_Genes\", \n",
    "                                y = \"count\", bins = 100) %>%\n",
    " ggpar(size = 0.3,\n",
    "     font.x = c(16),\n",
    "     font.y = c(16),\n",
    "     xlab = \"Number of genes\",\n",
    "     ylab = \"Count\") +\n",
    "theme_pubr_SA(base_family = \"Arial\", legend = \"none\")\n",
    "\n"
   ]
  },
  {
   "cell_type": "code",
   "execution_count": 39,
   "id": "4b8d48c1-e4c8-4223-8789-76ffdf9b0951",
   "metadata": {
    "vscode": {
     "languageId": "r"
    }
   },
   "outputs": [
    {
     "data": {
      "image/png": "[encoded data removed]",
      "text/plain": [
       "plot without title"
      ]
     },
     "metadata": {
      "image/png": {
       "height": 420,
       "width": 420
      }
     },
     "output_type": "display_data"
    }
   ],
   "source": [
    "nGenes_count_Hist"
   ]
  },
  {
   "cell_type": "code",
   "execution_count": 40,
   "id": "5a3054a3-b950-4df5-b1c8-92a39e5a6e4d",
   "metadata": {
    "vscode": {
     "languageId": "r"
    }
   },
   "outputs": [],
   "source": [
    "ggsave(filename = \"figures/Omics_geneSetSizes_revision.png\", plot = nGenes_count_Hist, units = \"in\", \n",
    "       width = 7, height = 5, dpi = 600)\n"
   ]
  },
  {
   "cell_type": "code",
   "execution_count": 41,
   "id": "e7835926-ccc1-46ad-8318-811d54542ee0",
   "metadata": {
    "vscode": {
     "languageId": "r"
    }
   },
   "outputs": [],
   "source": [
    "ggsave(filename = \"figures/Omics_geneSetSizes_revision.svg\", plot = nGenes_count_Hist, units = \"in\", \n",
    "       width = 7, height = 4, dpi = 600)\n"
   ]
  },
  {
   "cell_type": "code",
   "execution_count": null,
   "id": "d44b29bd-14e3-42c4-bee3-ba943421b1ee",
   "metadata": {
    "vscode": {
     "languageId": "r"
    }
   },
   "outputs": [],
   "source": []
  },
  {
   "cell_type": "code",
   "execution_count": null,
   "id": "0c0362d3-0d8c-4f73-a1b6-bcc23684e40d",
   "metadata": {
    "vscode": {
     "languageId": "r"
    }
   },
   "outputs": [],
   "source": []
  }
 ],
 "metadata": {
  "kernelspec": {
   "display_name": "R",
   "language": "R",
   "name": "ir"
  },
  "language_info": {
   "codemirror_mode": "r",
   "file_extension": ".r",
   "mimetype": "text/x-r-source",
   "name": "R",
   "pygments_lexer": "r",
   "version": "4.2.2"
  }
 },
 "nbformat": 4,
 "nbformat_minor": 5
}
