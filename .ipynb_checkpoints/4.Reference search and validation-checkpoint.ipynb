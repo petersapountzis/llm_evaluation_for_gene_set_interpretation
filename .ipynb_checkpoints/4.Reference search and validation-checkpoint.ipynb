{
 "cells": [
  {
   "cell_type": "markdown",
   "metadata": {},
   "source": [
    "# Notebook for running literature search and validation "
   ]
  },
  {
   "cell_type": "code",
   "execution_count": 1,
   "metadata": {},
   "outputs": [],
   "source": [
    "import os\n",
    "import pandas as pd\n",
    "import json \n",
    "from Bio import Entrez\n",
    "import openai\n",
    "from utils.reference_checker import get_references_for_paragraphs\n",
    "import pickle"
   ]
  },
  {
   "cell_type": "code",
   "execution_count": 2,
   "metadata": {},
   "outputs": [],
   "source": [
    "runVersion = 'initial'"
   ]
  },
  {
   "cell_type": "code",
   "execution_count": 3,
   "metadata": {},
   "outputs": [],
   "source": [
    "dataType = \"Omics\""
   ]
  },
  {
   "cell_type": "code",
   "execution_count": 4,
   "metadata": {},
   "outputs": [],
   "source": [
    "if dataType == \"Omics\":\n",
    "    LLM_analysisFilePath  = 'data/omics_LLM_Enrichr_simVals_DF.tsv'\n",
    "    toSaveFilePath = 'data/omics_LLM_Enrichr_simVals_refs_DF.tsv'\n",
    "    nameCol = 'GeneSetName'\n",
    "    \n",
    "\n",
    "elif dataType == \"GO_sets\":\n",
    "    LLM_analysisFilePath = 'data/GO_term_analysis/simrank_LLM_processed_selected_1000_go_terms.tsv'\n",
    "    toSaveFilePath = 'data/GO_term_analysis/simrank_LLM_processed_selected_1000_go_terms_refs.tsv'\n",
    "    jsonFilePath = 'reference_checking_task1.json'\n",
    "    examplesTORun = [\"GO:0019433\"] \n",
    "    nameCol = 'GO'\n",
    "    \n",
    "else:\n",
    "    print(\"Not implemented for dataType\")\n",
    "    "
   ]
  },
  {
   "cell_type": "code",
   "execution_count": 5,
   "metadata": {},
   "outputs": [],
   "source": [
    "jsonFilePath = 'jsonFiles/reference_checking_revision.json'"
   ]
  },
  {
   "cell_type": "code",
   "execution_count": 6,
   "metadata": {},
   "outputs": [],
   "source": [
    "with open(jsonFilePath) as json_file:\n",
    "    config = json.load(json_file)\n",
    "\n",
    "openai.api_key = os.environ[\"OPENAI_API_KEY\"]\n",
    "email = config['EMAIL']\n",
    "\n",
    " # save the paragraph with corresponding keywords and references to a json file \n",
    "savejsonPath = 'paragraph_ref_data_revision' #this is the default, change to your own json file name (no need to add '.json') \n",
    "\n",
    "openai.api_key = os.environ[\"OPENAI_API_KEY\"] # Environment variable"
   ]
  },
  {
   "cell_type": "code",
   "execution_count": 7,
   "metadata": {},
   "outputs": [],
   "source": [
    "MarkedParagraphs = []"
   ]
  },
  {
   "cell_type": "code",
   "execution_count": 8,
   "metadata": {
    "tags": []
   },
   "outputs": [],
   "source": [
    "## Read in the LLM analysis file\n",
    "df = pd.read_csv(LLM_analysisFilePath, sep='\\t', keep_default_na=False, na_values=['NaN'])\n",
    "df = df.replace({'None':None})"
   ]
  },
  {
   "cell_type": "code",
   "execution_count": 9,
   "metadata": {
    "tags": []
   },
   "outputs": [],
   "source": [
    "if (runVersion == \"initial\") or (runVersion == \"rerun\") or (runVersion == \"test\"):\n",
    "    df['References'] = None"
   ]
  },
  {
   "cell_type": "code",
   "execution_count": null,
   "metadata": {
    "tags": []
   },
   "outputs": [],
   "source": [
    "for i, row in df.iterrows():\n",
    "#for i in range(startRow, df.shape[0]):\n",
    "#    row = df.iloc[i]\n",
    "  #  if runOnlyExamples: # Only run examples\n",
    "  #      if df.iloc[i][nameCol] not in examplesTORun: \n",
    "  #          continue\n",
    "\n",
    "    \n",
    "    if runVersion == \"initial\":\n",
    "        if df.iloc[i]['References'] is not None:\n",
    "            continue\n",
    "    if runVersion == \"additional\":\n",
    "        if not (df.iloc[i]['References'] == ''):\n",
    "            continue # skip this row because already done\n",
    "\n",
    "    print(['dataframe row', i])\n",
    "    # check out the llm analysis \n",
    "    example_analysis = df.iloc[i]['LLM Analysis']\n",
    "    paragraphs = list(filter(lambda p: len(p.split()) > 5, example_analysis.split(\"\\n\")))\n",
    "    \n",
    "    try:\n",
    "        references = get_references_for_paragraphs(paragraphs, email = email, config =config, n=3, verbose=True, MarkedParagraphs = MarkedParagraphs, saveto=savejsonPath)\n",
    "        print(['Cannot get references for row', i])\n",
    "    except:\n",
    "        references = ''\n",
    "        \n",
    "    references.replace( '\\n', '')\n",
    "        \n",
    "    df.loc[i, 'References'] = references\n",
    "    if i%5==0:\n",
    "        df.to_csv(toSaveFilePath, sep = '\\t')\n",
    "        \n",
    "if not runOnlyExamples:\n",
    "    if MarkedParagraphs:\n",
    "        with open('data/marked_paragraph_reference.json', 'w') as fp:\n",
    "            json.dump(MarkedParagraphs, fp)\n",
    "if not runOnlyExamples: \n",
    "    df.to_csv(toSaveFilePath, sep = '\\t')"
   ]
  },
  {
   "cell_type": "code",
   "execution_count": null,
   "metadata": {},
   "outputs": [],
   "source": [
    "# save MarkedParagraphs\n",
    "with open('data/MarkedParagraphs.pickle', 'wb') as f:\n",
    "    pickle.dump(MarkedParagraphs, f)"
   ]
  },
  {
   "cell_type": "code",
   "execution_count": null,
   "metadata": {},
   "outputs": [],
   "source": [
    "df.to_csv(toSaveFilePath, sep = '\\t')"
   ]
  },
  {
   "cell_type": "code",
   "execution_count": 13,
   "metadata": {},
   "outputs": [],
   "source": [
    "i =0 "
   ]
  },
  {
   "cell_type": "code",
   "execution_count": 10,
   "metadata": {},
   "outputs": [],
   "source": [
    "row = df.iloc[0]"
   ]
  },
  {
   "cell_type": "code",
   "execution_count": 11,
   "metadata": {},
   "outputs": [
    {
     "data": {
      "text/plain": [
       "Unnamed: 0.1                                                               0\n",
       "index                                                                  97291\n",
       "Unnamed: 0                                                                 0\n",
       "Source                                                          Perturbation\n",
       "GeneSetName                             28S ribosomal subunit, mitochondrial\n",
       "GeneList                                         MRPS21 MRPS23 MRPS28 MRPS35\n",
       "n_Genes                                                                    4\n",
       "LLM Name                   Mitochondrial Ribosome Assembly and Protein Sy...\n",
       "LLM Analysis               1. MRPS21 (Mitochondrial Ribosomal Protein S21...\n",
       "Score                                                                   0.98\n",
       "Rank                                                                       0\n",
       "Overlap                                                               Mar-98\n",
       "P-value                                                                  0.0\n",
       "Adjusted P-value                                                    0.000002\n",
       "Genes                                                   MRPS28;MRPS23;MRPS21\n",
       "GO term                                           Mitochondrial Translation \n",
       "GO ID                                                             GO:0032543\n",
       "LLM_name_human_name_sim                                             0.566673\n",
       "GO_term_human_name_sim                                              0.498235\n",
       "winner                                                                   LLM\n",
       "References                                                              None\n",
       "Name: 0, dtype: object"
      ]
     },
     "execution_count": 11,
     "metadata": {},
     "output_type": "execute_result"
    }
   ],
   "source": [
    "row"
   ]
  },
  {
   "cell_type": "code",
   "execution_count": 14,
   "metadata": {},
   "outputs": [],
   "source": [
    "example_analysis = df.iloc[i]['LLM Analysis']\n"
   ]
  },
  {
   "cell_type": "code",
   "execution_count": 15,
   "metadata": {},
   "outputs": [],
   "source": [
    "paragraphs = list(filter(lambda p: len(p.split()) > 5, example_analysis.split(\"\\n\")))\n"
   ]
  },
  {
   "cell_type": "code",
   "execution_count": 17,
   "metadata": {
    "tags": []
   },
   "outputs": [
    {
     "name": "stdout",
     "output_type": "stream",
     "text": [
      "Extracting keywords from paragraph\n",
      "Paragraph:\n",
      "1. MRPS21 (Mitochondrial Ribosomal Protein S21) is a component of the small 28S subunit of the mitochondrial ribosome. It is involved in the assembly of the ribosomal subunit and is essential for mitochondrial protein synthesis, which is crucial for the production of proteins that are part of the oxidative phosphorylation (OXPHOS) system.\n",
      "===========================================================================\n",
      "210\n",
      "Query:\n",
      " \n",
      "I have a paragraph\n",
      "Paragraph:\n",
      "1. MRPS21 (Mitochondrial Ribosomal Protein S21) is a component of the small 28S subunit of the mitochondrial ribosome. It is involved in the assembly of the ribosomal subunit and is essential for mitochondrial protein synthesis, which is crucial for the production of proteins that are part of the oxidative phosphorylation (OXPHOS) system.\n",
      "\n",
      "I would like to search PubMed to find supporting evidence for the statements in this paragraph. Give me a list of gene symbols from the paragraph. Please only include genes. Return the genes as a comma separated list without spacing, if there are no genes in the statements, please return \"Unknown\" \n",
      "Result:\n",
      "MRPS21\n",
      "325\n",
      "Query:\n",
      "\n",
      "I would like to search PubMed to find supporting evidence for the statements in a paragraph. Give me a maximum of 3 keywords related to the protein functions or biological processes in the statements. \n",
      "\n",
      "Example paragraph:  Involvement of pattern recognition receptors: TLR1, TLR2, and TLR3 are part of the Toll-like receptor family, which recognize pathogen-associated molecular patterns and initiate innate immune responses. NOD2 and NLRP3 are intracellular sensors that also contribute to immune activation.\n",
      "Example response: immune response,receptors,pathogen\n",
      "\n",
      "Please don't include gene symbols. Please order keywords by their importance in the paragraph, from high importance to low importance. Return the keywords as a comma separated list without spaces. If there are no keywords matching the criteria, return \"Unknown\" \n",
      "\n",
      "Please find keywords for this paragraph:\n",
      "1. MRPS21 (Mitochondrial Ribosomal Protein S21) is a component of the small 28S subunit of the mitochondrial ribosome. It is involved in the assembly of the ribosomal subunit and is essential for mitochondrial protein synthesis, which is crucial for the production of proteins that are part of the oxidative phosphorylation (OXPHOS) system.\n",
      "    \n",
      "Result:\n",
      "mitochondrial protein synthesis,ribosomal assembly,oxidative phosphorylation\n",
      "PubMed Keywords:  (\"MRPS21\") AND (\"mitochondrial protein synthesis\" OR \"ribosomal assembly\" OR \"oxidative phosphorylation\") AND (hasabstract[text])\n",
      "Serching paper with keywords...\n",
      "In paragraph 1, 1 references are queried\n",
      "The number of title matching paper: 0\n",
      "In paragraph 1, 0 references are matched\n",
      "\n",
      "\n",
      "Extracting keywords from paragraph\n",
      "Paragraph:\n",
      "2. MRPS23 (Mitochondrial Ribosomal Protein S23) is another constituent of the small 28S subunit of the mitochondrial ribosome. Similar to MRPS21, it plays a role in the assembly and stability of the mitochondrial ribosome, facilitating the synthesis of mitochondrial-encoded proteins.\n",
      "===========================================================================\n",
      "200\n",
      "Query:\n",
      " \n",
      "I have a paragraph\n",
      "Paragraph:\n",
      "2. MRPS23 (Mitochondrial Ribosomal Protein S23) is another constituent of the small 28S subunit of the mitochondrial ribosome. Similar to MRPS21, it plays a role in the assembly and stability of the mitochondrial ribosome, facilitating the synthesis of mitochondrial-encoded proteins.\n",
      "\n",
      "I would like to search PubMed to find supporting evidence for the statements in this paragraph. Give me a list of gene symbols from the paragraph. Please only include genes. Return the genes as a comma separated list without spacing, if there are no genes in the statements, please return \"Unknown\" \n",
      "Result:\n",
      "MRPS23,MRPS21\n",
      "309\n",
      "Query:\n",
      "\n",
      "I would like to search PubMed to find supporting evidence for the statements in a paragraph. Give me a maximum of 3 keywords related to the protein functions or biological processes in the statements. \n",
      "\n",
      "Example paragraph:  Involvement of pattern recognition receptors: TLR1, TLR2, and TLR3 are part of the Toll-like receptor family, which recognize pathogen-associated molecular patterns and initiate innate immune responses. NOD2 and NLRP3 are intracellular sensors that also contribute to immune activation.\n",
      "Example response: immune response,receptors,pathogen\n",
      "\n",
      "Please don't include gene symbols. Please order keywords by their importance in the paragraph, from high importance to low importance. Return the keywords as a comma separated list without spaces. If there are no keywords matching the criteria, return \"Unknown\" \n",
      "\n",
      "Please find keywords for this paragraph:\n",
      "2. MRPS23 (Mitochondrial Ribosomal Protein S23) is another constituent of the small 28S subunit of the mitochondrial ribosome. Similar to MRPS21, it plays a role in the assembly and stability of the mitochondrial ribosome, facilitating the synthesis of mitochondrial-encoded proteins.\n",
      "    \n",
      "Result:\n",
      "mitochondrial ribosome,protein synthesis,ribosomal assembly\n",
      "PubMed Keywords:  (\"MRPS23\" OR \"MRPS21\") AND (\"mitochondrial ribosome\" OR \"protein synthesis\" OR \"ribosomal assembly\") AND (hasabstract[text])\n",
      "Serching paper with keywords...\n",
      "In paragraph 2, 1 references are queried\n",
      "The number of title matching paper: 0\n",
      "In paragraph 2, 0 references are matched\n",
      "\n",
      "\n",
      "Extracting keywords from paragraph\n",
      "Paragraph:\n",
      "3. MRPS28 (Mitochondrial Ribosomal Protein S28) is also a part of the small 28S subunit of the mitochondrial ribosome. It contributes to the proper assembly and function of the mitochondrial ribosome, which is necessary for the translation of the 13 proteins encoded by the mitochondrial genome that are integral to the OXPHOS system.\n",
      "===========================================================================\n",
      "209\n",
      "Query:\n",
      " \n",
      "I have a paragraph\n",
      "Paragraph:\n",
      "3. MRPS28 (Mitochondrial Ribosomal Protein S28) is also a part of the small 28S subunit of the mitochondrial ribosome. It contributes to the proper assembly and function of the mitochondrial ribosome, which is necessary for the translation of the 13 proteins encoded by the mitochondrial genome that are integral to the OXPHOS system.\n",
      "\n",
      "I would like to search PubMed to find supporting evidence for the statements in this paragraph. Give me a list of gene symbols from the paragraph. Please only include genes. Return the genes as a comma separated list without spacing, if there are no genes in the statements, please return \"Unknown\" \n",
      "Result:\n",
      "MRPS28\n",
      "321\n",
      "Query:\n",
      "\n",
      "I would like to search PubMed to find supporting evidence for the statements in a paragraph. Give me a maximum of 3 keywords related to the protein functions or biological processes in the statements. \n",
      "\n",
      "Example paragraph:  Involvement of pattern recognition receptors: TLR1, TLR2, and TLR3 are part of the Toll-like receptor family, which recognize pathogen-associated molecular patterns and initiate innate immune responses. NOD2 and NLRP3 are intracellular sensors that also contribute to immune activation.\n",
      "Example response: immune response,receptors,pathogen\n",
      "\n",
      "Please don't include gene symbols. Please order keywords by their importance in the paragraph, from high importance to low importance. Return the keywords as a comma separated list without spaces. If there are no keywords matching the criteria, return \"Unknown\" \n",
      "\n",
      "Please find keywords for this paragraph:\n",
      "3. MRPS28 (Mitochondrial Ribosomal Protein S28) is also a part of the small 28S subunit of the mitochondrial ribosome. It contributes to the proper assembly and function of the mitochondrial ribosome, which is necessary for the translation of the 13 proteins encoded by the mitochondrial genome that are integral to the OXPHOS system.\n",
      "    \n",
      "Result:\n",
      "mitochondrial ribosome,translation,OXPHOS\n",
      "PubMed Keywords:  (\"MRPS28\") AND (\"mitochondrial ribosome\" OR \"translation\" OR \"OXPHOS\") AND (hasabstract[text])\n",
      "Serching paper with keywords...\n",
      "In paragraph 3, 3 references are queried\n",
      "The number of title matching paper: 0\n",
      "In paragraph 3, 0 references are matched\n",
      "\n",
      "\n",
      "Extracting keywords from paragraph\n",
      "Paragraph:\n",
      "4. MRPS35 (Mitochondrial Ribosomal Protein S35) is a component of the small 28S subunit of the mitochondrial ribosome as well. It is implicated in the assembly of the ribosomal subunit and is involved in mitochondrial protein synthesis, particularly in the translation process of mitochondrial DNA-encoded proteins.\n",
      "===========================================================================\n",
      "200\n",
      "Query:\n",
      " \n",
      "I have a paragraph\n",
      "Paragraph:\n",
      "4. MRPS35 (Mitochondrial Ribosomal Protein S35) is a component of the small 28S subunit of the mitochondrial ribosome as well. It is implicated in the assembly of the ribosomal subunit and is involved in mitochondrial protein synthesis, particularly in the translation process of mitochondrial DNA-encoded proteins.\n",
      "\n",
      "I would like to search PubMed to find supporting evidence for the statements in this paragraph. Give me a list of gene symbols from the paragraph. Please only include genes. Return the genes as a comma separated list without spacing, if there are no genes in the statements, please return \"Unknown\" \n",
      "Result:\n",
      "MRPS35\n",
      "312\n",
      "Query:\n",
      "\n",
      "I would like to search PubMed to find supporting evidence for the statements in a paragraph. Give me a maximum of 3 keywords related to the protein functions or biological processes in the statements. \n",
      "\n",
      "Example paragraph:  Involvement of pattern recognition receptors: TLR1, TLR2, and TLR3 are part of the Toll-like receptor family, which recognize pathogen-associated molecular patterns and initiate innate immune responses. NOD2 and NLRP3 are intracellular sensors that also contribute to immune activation.\n",
      "Example response: immune response,receptors,pathogen\n",
      "\n",
      "Please don't include gene symbols. Please order keywords by their importance in the paragraph, from high importance to low importance. Return the keywords as a comma separated list without spaces. If there are no keywords matching the criteria, return \"Unknown\" \n",
      "\n",
      "Please find keywords for this paragraph:\n",
      "4. MRPS35 (Mitochondrial Ribosomal Protein S35) is a component of the small 28S subunit of the mitochondrial ribosome as well. It is implicated in the assembly of the ribosomal subunit and is involved in mitochondrial protein synthesis, particularly in the translation process of mitochondrial DNA-encoded proteins.\n",
      "    \n",
      "Result:\n",
      "mitochondrial protein synthesis,ribosomal assembly,translation\n",
      "PubMed Keywords:  (\"MRPS35\") AND (\"mitochondrial protein synthesis\" OR \"ribosomal assembly\" OR \"translation\") AND (hasabstract[text])\n",
      "Serching paper with keywords...\n",
      "In paragraph 4, 1 references are queried\n",
      "The number of title matching paper: 0\n",
      "In paragraph 4, 0 references are matched\n",
      "\n",
      "\n",
      "Extracting keywords from paragraph\n",
      "Paragraph:\n",
      "In summary, the proteins in this system are all components of the small subunit of the mitochondrial ribosome. They are collectively involved in the assembly of the mitochondrial ribosome and the subsequent synthesis of mitochondrial proteins, which are essential for mitochondrial function and cellular energy metabolism. The high degree of involvement of these proteins in a specific and critical cellular process justifies the high confidence score.\n",
      "===========================================================================\n",
      "208\n",
      "Query:\n",
      " \n",
      "I have a paragraph\n",
      "Paragraph:\n",
      "In summary, the proteins in this system are all components of the small subunit of the mitochondrial ribosome. They are collectively involved in the assembly of the mitochondrial ribosome and the subsequent synthesis of mitochondrial proteins, which are essential for mitochondrial function and cellular energy metabolism. The high degree of involvement of these proteins in a specific and critical cellular process justifies the high confidence score.\n",
      "\n",
      "I would like to search PubMed to find supporting evidence for the statements in this paragraph. Give me a list of gene symbols from the paragraph. Please only include genes. Return the genes as a comma separated list without spacing, if there are no genes in the statements, please return \"Unknown\" \n",
      "Result:\n",
      "Unknown\n",
      "322\n",
      "Query:\n",
      "\n",
      "I would like to search PubMed to find supporting evidence for the statements in a paragraph. Give me a maximum of 3 keywords related to the protein functions or biological processes in the statements. \n",
      "\n",
      "Example paragraph:  Involvement of pattern recognition receptors: TLR1, TLR2, and TLR3 are part of the Toll-like receptor family, which recognize pathogen-associated molecular patterns and initiate innate immune responses. NOD2 and NLRP3 are intracellular sensors that also contribute to immune activation.\n",
      "Example response: immune response,receptors,pathogen\n",
      "\n",
      "Please don't include gene symbols. Please order keywords by their importance in the paragraph, from high importance to low importance. Return the keywords as a comma separated list without spaces. If there are no keywords matching the criteria, return \"Unknown\" \n",
      "\n",
      "Please find keywords for this paragraph:\n",
      "In summary, the proteins in this system are all components of the small subunit of the mitochondrial ribosome. They are collectively involved in the assembly of the mitochondrial ribosome and the subsequent synthesis of mitochondrial proteins, which are essential for mitochondrial function and cellular energy metabolism. The high degree of involvement of these proteins in a specific and critical cellular process justifies the high confidence score.\n",
      "    \n",
      "Result:\n",
      "mitochondrial ribosome,protein synthesis,energy metabolism\n"
     ]
    },
    {
     "ename": "ValueError",
     "evalue": "not enough values to unpack (expected 4, got 2)",
     "output_type": "error",
     "traceback": [
      "\u001b[0;31m---------------------------------------------------------------------------\u001b[0m",
      "\u001b[0;31mValueError\u001b[0m                                Traceback (most recent call last)",
      "Cell \u001b[0;32mIn[17], line 1\u001b[0m\n\u001b[0;32m----> 1\u001b[0m references \u001b[38;5;241m=\u001b[39m get_references_for_paragraphs(paragraphs, email \u001b[38;5;241m=\u001b[39m email, config \u001b[38;5;241m=\u001b[39mconfig, n\u001b[38;5;241m=\u001b[39m\u001b[38;5;241m3\u001b[39m, verbose\u001b[38;5;241m=\u001b[39m\u001b[38;5;28;01mTrue\u001b[39;00m, MarkedParagraphs \u001b[38;5;241m=\u001b[39m MarkedParagraphs, saveto\u001b[38;5;241m=\u001b[39msavejsonPath)\n",
      "File \u001b[0;32m~/Desktop/projects/llm_evaluation_for_gene_set_interpretation/utils/reference_checker.py:402\u001b[0m, in \u001b[0;36mget_references_for_paragraphs\u001b[0;34m(paragraphs, email, config, n, verbose, MarkedParagraphs, saveto)\u001b[0m\n\u001b[1;32m    400\u001b[0m     \u001b[38;5;28mprint\u001b[39m(\u001b[38;5;124m\"\"\"\u001b[39m\u001b[38;5;124mExtracting keywords from paragraph\u001b[39m\u001b[38;5;130;01m\\n\u001b[39;00m\u001b[38;5;124mParagraph:\u001b[39m\u001b[38;5;130;01m\\n\u001b[39;00m\u001b[38;5;132;01m%s\u001b[39;00m\u001b[38;5;124m\"\"\"\u001b[39m\u001b[38;5;241m%\u001b[39mparagraph)\n\u001b[1;32m    401\u001b[0m     \u001b[38;5;28mprint\u001b[39m(\u001b[38;5;124m\"\u001b[39m\u001b[38;5;124m=\u001b[39m\u001b[38;5;124m\"\u001b[39m\u001b[38;5;241m*\u001b[39m\u001b[38;5;241m75\u001b[39m)\n\u001b[0;32m--> 402\u001b[0m keywords, genes, functions, flag_working \u001b[38;5;241m=\u001b[39m get_keywords_combinations(paragraph, config\u001b[38;5;241m=\u001b[39mconfig, verbose\u001b[38;5;241m=\u001b[39mverbose) \u001b[38;5;66;03m# SA: modified\u001b[39;00m\n\u001b[1;32m    403\u001b[0m \u001b[38;5;28;01mif\u001b[39;00m verbose:\n\u001b[1;32m    404\u001b[0m     \u001b[38;5;28mprint\u001b[39m(\u001b[38;5;124m\"\u001b[39m\u001b[38;5;124mPubMed Keywords: \u001b[39m\u001b[38;5;124m\"\u001b[39m, keywords)\n",
      "\u001b[0;31mValueError\u001b[0m: not enough values to unpack (expected 4, got 2)"
     ]
    }
   ],
   "source": [
    "references = get_references_for_paragraphs(paragraphs, email = email, config =config, n=3, verbose=True, MarkedParagraphs = MarkedParagraphs, saveto=savejsonPath)\n"
   ]
  },
  {
   "cell_type": "code",
   "execution_count": 18,
   "metadata": {},
   "outputs": [
    {
     "ename": "NameError",
     "evalue": "name 'references' is not defined",
     "output_type": "error",
     "traceback": [
      "\u001b[0;31m---------------------------------------------------------------------------\u001b[0m",
      "\u001b[0;31mNameError\u001b[0m                                 Traceback (most recent call last)",
      "Cell \u001b[0;32mIn[18], line 1\u001b[0m\n\u001b[0;32m----> 1\u001b[0m references\n",
      "\u001b[0;31mNameError\u001b[0m: name 'references' is not defined"
     ]
    }
   ],
   "source": [
    "references"
   ]
  },
  {
   "cell_type": "code",
   "execution_count": null,
   "metadata": {},
   "outputs": [],
   "source": [
    "\n",
    "    references.replace( '\\n', '')\n",
    "        \n",
    "    df.loc[i, 'References'] = references\n",
    "    if i%5==0:\n",
    "        df.to_csv(toSaveFilePath, sep = '\\t')"
   ]
  }
 ],
 "metadata": {
  "kernelspec": {
   "display_name": "llm_go_evaluation",
   "language": "python",
   "name": "llm_go_evaluation"
  },
  "language_info": {
   "codemirror_mode": {
    "name": "ipython",
    "version": 3
   },
   "file_extension": ".py",
   "mimetype": "text/x-python",
   "name": "python",
   "nbconvert_exporter": "python",
   "pygments_lexer": "ipython3",
   "version": "3.11.3"
  }
 },
 "nbformat": 4,
 "nbformat_minor": 4
}
