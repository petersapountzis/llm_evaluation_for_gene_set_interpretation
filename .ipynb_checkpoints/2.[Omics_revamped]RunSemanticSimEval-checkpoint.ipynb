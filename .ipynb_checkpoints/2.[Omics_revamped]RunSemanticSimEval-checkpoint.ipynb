{
 "cells": [
  {
   "cell_type": "markdown",
   "id": "868ff655-a99c-4ca3-a155-879408026cb6",
   "metadata": {},
   "source": [
    "Run sem similarity between LLM name and enrichr go term name"
   ]
  },
  {
   "cell_type": "code",
   "execution_count": 16,
   "id": "349f771e-85d4-46d8-bb0d-e52d714ca0be",
   "metadata": {},
   "source": [
    "from transformers import AutoTokenizer, AutoModel\n",
    "from semanticSimFunctions import getSentenceEmbedding, getSentenceSimilarity, getNameSimilarities, getNameSimilarities_noExpertName"
   ],
   "outputs": []
  },
  {
   "cell_type": "code",
   "execution_count": 17,
   "id": "85b50445-bb50-4468-a17d-2a921a377adb",
   "metadata": {},
   "source": [
    "SapBERT_tokenizer = AutoTokenizer.from_pretrained('cambridgeltl/SapBERT-from-PubMedBERT-fulltext')\n",
    "SapBERT_model = AutoModel.from_pretrained('cambridgeltl/SapBERT-from-PubMedBERT-fulltext')"
   ],
   "outputs": []
  },
  {
   "cell_type": "code",
   "execution_count": 18,
   "id": "476cd121-98be-40fe-b9ea-fe6ac946a694",
   "metadata": {},
   "source": [
    "import pandas as pd"
   ],
   "outputs": []
  },
  {
   "cell_type": "code",
   "execution_count": 19,
   "id": "5515ca27-dd01-49c2-b411-11f3caa216ff",
   "metadata": {},
   "source": [
    "import numpy as np"
   ],
   "outputs": []
  },
  {
   "cell_type": "code",
   "execution_count": 20,
   "id": "b7f2206c-5a53-4647-99a3-f69bad75605d",
   "metadata": {},
   "source": [
    "inputFile = 'data/omics_revamped_LLM_Enrichr_DF.tsv' "
   ],
   "outputs": []
  },
  {
   "cell_type": "code",
   "execution_count": 21,
   "id": "98bb6798-e581-49cf-a290-6d0a4c56df5d",
   "metadata": {
    "tags": []
   },
   "source": [
    "reduced_LLM_genes_DF = pd.read_csv(inputFile, sep = \"\\t\") "
   ],
   "outputs": []
  },
  {
   "cell_type": "code",
   "execution_count": 24,
   "id": "a34213bb-e612-4b3f-bfb5-36226719984b",
   "metadata": {},
   "source": [
    "reduced_LLM_genes_DF['GO term'] = reduced_LLM_genes_DF['GO term'].replace(np.nan, 'NaN')\n"
   ],
   "outputs": []
  },
  {
   "cell_type": "code",
   "execution_count": 25,
   "id": "68b65f99-0b05-41e0-961c-0033be442819",
   "metadata": {
    "collapsed": true,
    "jupyter": {
     "outputs_hidden": true
    },
    "tags": []
   },
   "source": [
    "names_DF  = getNameSimilarities_noExpertName(reduced_LLM_genes_DF, 'LLM Name', 'GO term', SapBERT_tokenizer, SapBERT_model, \"cosine_similarity\")"
   ],
   "outputs": []
  },
  {
   "cell_type": "code",
   "execution_count": 29,
   "id": "b04c2ded-27a4-48f0-bf08-e64385d9b8e0",
   "metadata": {},
   "source": [
    "outputFile = 'data/omics_revamped_LLM_Enrichr_simVals_DF.tsv' "
   ],
   "outputs": []
  },
  {
   "cell_type": "code",
   "execution_count": 30,
   "id": "d8ae376c-0f61-4340-a103-1a929673efe9",
   "metadata": {},
   "source": [
    "names_DF.to_csv(outputFile, sep = \"\\t\")"
   ],
   "outputs": []
  },
  {
   "cell_type": "code",
   "execution_count": null,
   "id": "597e31b4-d568-43fa-bb6d-524116abf941",
   "metadata": {},
   "source": [],
   "outputs": []
  },
  {
   "cell_type": "code",
   "execution_count": null,
   "id": "b9457103-ac65-4a78-9f92-f7631cb67ffb",
   "metadata": {},
   "source": [],
   "outputs": []
  }
 ],
 "metadata": {
  "kernelspec": {
   "display_name": "llm_eval",
   "language": "python",
   "name": "llm_eval"
  },
  "language_info": {
   "codemirror_mode": {
    "name": "ipython",
    "version": 3
   },
   "file_extension": ".py",
   "mimetype": "text/x-python",
   "name": "python",
   "nbconvert_exporter": "python",
   "pygments_lexer": "ipython3",
   "version": "3.11.5"
  }
 },
 "nbformat": 4,
 "nbformat_minor": 5
}
