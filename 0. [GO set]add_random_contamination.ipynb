{
 "cells": [
  {
   "cell_type": "code",
   "execution_count": 1,
   "metadata": {},
   "outputs": [],
   "source": [
    "import pandas as pd \n",
    "import numpy as np \n",
    "import networkx as nx\n",
    "\n",
    "np.random.seed(42)"
   ]
  },
  {
   "cell_type": "markdown",
   "metadata": {},
   "source": [
    "## Create random gene sets and contaminated ones \n",
    "\n",
    "* random: same size as the selected term, draw genes from the pool that is not in the systems with direct connection with the real gene set \n",
    "\n",
    "* contaimnated: same size as the selected term, randomly perserve 50% of them (roof) and the rest 50% randomly select from the random gene set. "
   ]
  },
  {
   "cell_type": "code",
   "execution_count": 2,
   "metadata": {},
   "outputs": [],
   "source": [
    "full_GO = pd.read_csv('data/go_terms.csv', index_col=0)\n",
    "toy_example = pd.read_csv('data/GO_term_analysis/toy_example.csv')\n",
    "go_edges = pd.read_csv('./data/GO_BP/collapsed_go.symbol', sep='\\t', header=None, names=['parent', 'child', 'edge_type'])\n",
    "go_edges = go_edges[go_edges['edge_type'] == 'default']"
   ]
  },
  {
   "cell_type": "code",
   "execution_count": 3,
   "metadata": {},
   "outputs": [],
   "source": [
    "def find_direct_connections(go_id, edge_list):\n",
    "    direct_connections = edge_list.loc[(edge_list['parent'] == go_id), 'child'].tolist()\n",
    "    # print(len(direct_connections))\n",
    "    direct_connections.extend(edge_list.loc[(edge_list['child'] == go_id), 'parent'].tolist())\n",
    "    direct_connections = list(set(direct_connections))\n",
    "    return direct_connections\n",
    "\n",
    "# find_direct_connections(go_id, go_edges)\n"
   ]
  },
  {
   "cell_type": "code",
   "execution_count": 4,
   "metadata": {},
   "outputs": [],
   "source": [
    "def get_gene_pool(go_id, edge_list, go_terms):\n",
    "    '''\n",
    "    go_id: the go term id\n",
    "    edge_list: the edge list of the go terms\n",
    "    go_terms: the full go terms dataframe\n",
    "    '''\n",
    "    gene_pool = set(gene for genes in go_terms['Genes'].apply(lambda x: x.split(' ')) for gene in genes)\n",
    "    # print(len(gene_pool))\n",
    "    direct_connections = find_direct_connections(go_id, edge_list)\n",
    "    # exclude genes from direct connection terms\n",
    "    direct_connection_pool = go_terms[go_terms['GO'].isin(direct_connections+ [go_id])]\n",
    "    direct_connection_genes = set(gene for genes in direct_connection_pool['Genes'].apply(lambda x: x.split(' ')) for gene in genes)\n",
    "    # print(len(direct_connection_genes))\n",
    "    \n",
    "    filtered_gene_pool = gene_pool - direct_connection_genes\n",
    "    \n",
    "    current_genes = go_terms.loc[go_terms['GO'] == go_id, 'Genes'].tolist()[0].split(' ')\n",
    "    # print(len(current_genes))\n",
    "    \n",
    "    # check if theres any genes in the pool overlaps with the ones in go_id\n",
    "    # print(len(filtered_gene_pool))\n",
    "    assert len(set(current_genes).intersection(filtered_gene_pool)) == 0, 'Warning: genes in the pool overlaps with the ones in this real set'\n",
    "    return filtered_gene_pool\n",
    "\n",
    "\n",
    "def add_contamination(go_id, edge_list, go_terms, contamination_rate=0.5):\n",
    "    '''\n",
    "    contamination_rate: the percentage of genes to be contaminated\n",
    "    '''\n",
    "    random_pool = get_gene_pool(go_id, edge_list, go_terms)\n",
    "    current_genes = go_terms.loc[go_terms['GO'] == go_id, 'Genes'].tolist()[0].split(' ')\n",
    "    # print(current_genes)\n",
    "    contamination_size = int(np.ceil(len(current_genes) * contamination_rate))\n",
    "    contamination_genes = np.random.choice(list(random_pool), size=contamination_size, replace=False)\n",
    "    perserve_genes = np.random.choice(current_genes, size=len(current_genes) - contamination_size, replace=False)\n",
    "    new_set = list(perserve_genes) + list(contamination_genes)\n",
    "    assert len(new_set) == len(current_genes), 'length of new set is not the same as the original set'\n",
    "    return new_set\n"
   ]
  },
  {
   "cell_type": "code",
   "execution_count": 5,
   "metadata": {},
   "outputs": [],
   "source": [
    "# add contamination to the toy example\n",
    "toy_example['50perc_contaminated_Genes'] = toy_example.apply(lambda x: ' '.join(add_contamination(x['GO'], go_edges, full_GO, contamination_rate=0.5)), axis=1)\n",
    "toy_example['100perc_contaminated_Genes'] = toy_example.apply(lambda x: ' '.join(add_contamination(x['GO'], go_edges, full_GO, contamination_rate=1)), axis=1)\n",
    "toy_example.to_csv('data/GO_term_analysis/toy_example_contaminated.csv', index=False)"
   ]
  },
  {
   "cell_type": "code",
   "execution_count": 6,
   "metadata": {},
   "outputs": [
    {
     "data": {
      "text/html": [
       "<div>\n",
       "<style scoped>\n",
       "    .dataframe tbody tr th:only-of-type {\n",
       "        vertical-align: middle;\n",
       "    }\n",
       "\n",
       "    .dataframe tbody tr th {\n",
       "        vertical-align: top;\n",
       "    }\n",
       "\n",
       "    .dataframe thead th {\n",
       "        text-align: right;\n",
       "    }\n",
       "</style>\n",
       "<table border=\"1\" class=\"dataframe\">\n",
       "  <thead>\n",
       "    <tr style=\"text-align: right;\">\n",
       "      <th></th>\n",
       "      <th>GO</th>\n",
       "      <th>Genes</th>\n",
       "      <th>Gene_Count</th>\n",
       "      <th>Term_Description</th>\n",
       "      <th>50perc_contaminated_Genes</th>\n",
       "      <th>100perc_contaminated_Genes</th>\n",
       "    </tr>\n",
       "  </thead>\n",
       "  <tbody>\n",
       "    <tr>\n",
       "      <th>0</th>\n",
       "      <td>GO:0070350</td>\n",
       "      <td>FGF10 FTO VSTM2A</td>\n",
       "      <td>3</td>\n",
       "      <td>regulation of white fat cell proliferation</td>\n",
       "      <td>FGF10 INPP5J STXBP5</td>\n",
       "      <td>BCORL1 DEFB1 SS18L2</td>\n",
       "    </tr>\n",
       "    <tr>\n",
       "      <th>1</th>\n",
       "      <td>GO:0051936</td>\n",
       "      <td>SLC6A12 SLC6A11 SLC6A1 SLC6A13</td>\n",
       "      <td>4</td>\n",
       "      <td>gamma-aminobutyric acid reuptake</td>\n",
       "      <td>SLC6A11 SLC6A1 ENDOD1 LGALS7B</td>\n",
       "      <td>CSRNP3 ZNF572 RPL10 EXOSC4</td>\n",
       "    </tr>\n",
       "    <tr>\n",
       "      <th>2</th>\n",
       "      <td>GO:0070646</td>\n",
       "      <td>USP17L10 USP29 TNIP1 USP17L3 USP20 USP5 USP18 ...</td>\n",
       "      <td>135</td>\n",
       "      <td>protein modification by small protein removal</td>\n",
       "      <td>TNIP1 USP17L20 ABRAXAS1 USP38 USP17L21 USP14 U...</td>\n",
       "      <td>RPS27 PSMA3 EDC3 KLK13 TRIB2 PLA2G4E SLU7 UBLC...</td>\n",
       "    </tr>\n",
       "    <tr>\n",
       "      <th>3</th>\n",
       "      <td>GO:0071318</td>\n",
       "      <td>P2RY2 P2RY4 CIB2 PTGS2 P2RX7 TRPM4 SSH1 TAF1 P...</td>\n",
       "      <td>18</td>\n",
       "      <td>cellular response to ATP</td>\n",
       "      <td>PDXP P2RY4 TRPM4 TOP2B RYR3 P2RY1 HSP90B1 P2RY...</td>\n",
       "      <td>TDRP NAA30 SEPTIN6 HVCN1 SLC24A2 ZNF397 OR6C65...</td>\n",
       "    </tr>\n",
       "    <tr>\n",
       "      <th>4</th>\n",
       "      <td>GO:0038183</td>\n",
       "      <td>ABCB11 ABCG5 CYP8B1 ABCG8 NR1H4 PRKAA1 CIDEB V...</td>\n",
       "      <td>11</td>\n",
       "      <td>bile acid signaling pathway</td>\n",
       "      <td>CYP8B1 GPBAR1 VDR ABCG8 CYP7A1 CMTR1 SNX1 SLC2...</td>\n",
       "      <td>SYT10 NOPCHAP1 CLIP4 P3R3URF MAGOH SLC43A2 GLI...</td>\n",
       "    </tr>\n",
       "  </tbody>\n",
       "</table>\n",
       "</div>"
      ],
      "text/plain": [
       "           GO                                              Genes  Gene_Count  \\\n",
       "0  GO:0070350                                   FGF10 FTO VSTM2A           3   \n",
       "1  GO:0051936                     SLC6A12 SLC6A11 SLC6A1 SLC6A13           4   \n",
       "2  GO:0070646  USP17L10 USP29 TNIP1 USP17L3 USP20 USP5 USP18 ...         135   \n",
       "3  GO:0071318  P2RY2 P2RY4 CIB2 PTGS2 P2RX7 TRPM4 SSH1 TAF1 P...          18   \n",
       "4  GO:0038183  ABCB11 ABCG5 CYP8B1 ABCG8 NR1H4 PRKAA1 CIDEB V...          11   \n",
       "\n",
       "                                Term_Description  \\\n",
       "0     regulation of white fat cell proliferation   \n",
       "1               gamma-aminobutyric acid reuptake   \n",
       "2  protein modification by small protein removal   \n",
       "3                       cellular response to ATP   \n",
       "4                    bile acid signaling pathway   \n",
       "\n",
       "                           50perc_contaminated_Genes  \\\n",
       "0                                FGF10 INPP5J STXBP5   \n",
       "1                      SLC6A11 SLC6A1 ENDOD1 LGALS7B   \n",
       "2  TNIP1 USP17L20 ABRAXAS1 USP38 USP17L21 USP14 U...   \n",
       "3  PDXP P2RY4 TRPM4 TOP2B RYR3 P2RY1 HSP90B1 P2RY...   \n",
       "4  CYP8B1 GPBAR1 VDR ABCG8 CYP7A1 CMTR1 SNX1 SLC2...   \n",
       "\n",
       "                          100perc_contaminated_Genes  \n",
       "0                                BCORL1 DEFB1 SS18L2  \n",
       "1                         CSRNP3 ZNF572 RPL10 EXOSC4  \n",
       "2  RPS27 PSMA3 EDC3 KLK13 TRIB2 PLA2G4E SLU7 UBLC...  \n",
       "3  TDRP NAA30 SEPTIN6 HVCN1 SLC24A2 ZNF397 OR6C65...  \n",
       "4  SYT10 NOPCHAP1 CLIP4 P3R3URF MAGOH SLC43A2 GLI...  "
      ]
     },
     "execution_count": 6,
     "metadata": {},
     "output_type": "execute_result"
    }
   ],
   "source": [
    "toy_example.head()"
   ]
  },
  {
   "cell_type": "code",
   "execution_count": null,
   "metadata": {},
   "outputs": [],
   "source": []
  }
 ],
 "metadata": {
  "kernelspec": {
   "display_name": "llm_eval",
   "language": "python",
   "name": "python3"
  },
  "language_info": {
   "codemirror_mode": {
    "name": "ipython",
    "version": 3
   },
   "file_extension": ".py",
   "mimetype": "text/x-python",
   "name": "python",
   "nbconvert_exporter": "python",
   "pygments_lexer": "ipython3",
   "version": "3.11.5"
  }
 },
 "nbformat": 4,
 "nbformat_minor": 2
}
