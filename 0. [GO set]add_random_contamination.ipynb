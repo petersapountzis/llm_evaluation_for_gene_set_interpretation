{
 "cells": [
  {
   "cell_type": "code",
   "execution_count": 61,
   "metadata": {},
   "outputs": [],
   "source": [
    "import pandas as pd \n",
    "import numpy as np \n",
    "import networkx as nx\n",
    "\n",
    "np.random.seed(42)"
   ]
  },
  {
   "cell_type": "markdown",
   "metadata": {},
   "source": [
    "## Create random gene sets and contaminated ones \n",
    "\n",
    "* random: same size as the selected term, draw genes from the pool that is not in the systems with direct connection with the real gene set \n",
    "\n",
    "* contaimnated: same size as the selected term, randomly perserve 50% of them (roof) and the rest 50% randomly select from the random gene set. "
   ]
  },
  {
   "cell_type": "code",
   "execution_count": 62,
   "metadata": {},
   "outputs": [],
   "source": [
    "full_GO = pd.read_csv('data/go_terms.csv', index_col=0)\n",
    "toy_example = pd.read_csv('data/GO_term_analysis/toy_example.csv')\n",
    "go_edges = pd.read_csv('./data/GO_BP/collapsed_go.symbol', sep='\\t', header=None, names=['parent', 'child', 'edge_type'])\n",
    "go_edges = go_edges[go_edges['edge_type'] == 'default']"
   ]
  },
  {
   "cell_type": "code",
   "execution_count": 45,
   "metadata": {},
   "outputs": [],
   "source": [
    "# check with an example\n",
    "go_id = 'GO:0033683'"
   ]
  },
  {
   "cell_type": "code",
   "execution_count": 63,
   "metadata": {},
   "outputs": [],
   "source": [
    "def find_direct_connections(go_id, edge_list):\n",
    "    direct_connections = edge_list.loc[(edge_list['parent'] == go_id), 'child'].tolist()\n",
    "    # print(len(direct_connections))\n",
    "    direct_connections.extend(edge_list.loc[(edge_list['child'] == go_id), 'parent'].tolist())\n",
    "    direct_connections = list(set(direct_connections))\n",
    "    return direct_connections\n",
    "\n",
    "# find_direct_connections(go_id, go_edges)\n"
   ]
  },
  {
   "cell_type": "code",
   "execution_count": 64,
   "metadata": {},
   "outputs": [
    {
     "data": {
      "text/plain": [
       "['XPA', 'ERCC4', 'LRP1', 'IGSF3', 'POGZ']"
      ]
     },
     "execution_count": 64,
     "metadata": {},
     "output_type": "execute_result"
    }
   ],
   "source": [
    "def get_gene_pool(go_id, edge_list, go_terms):\n",
    "    '''\n",
    "    go_id: the go term id\n",
    "    edge_list: the edge list of the go terms\n",
    "    go_terms: the full go terms dataframe\n",
    "    '''\n",
    "    gene_pool = set(gene for genes in go_terms['Genes'].apply(lambda x: x.split(' ')) for gene in genes)\n",
    "    # print(len(gene_pool))\n",
    "    direct_connections = find_direct_connections(go_id, edge_list)\n",
    "    # exclude genes from direct connection terms\n",
    "    direct_connection_pool = go_terms[go_terms['GO'].isin(direct_connections+ [go_id])]\n",
    "    direct_connection_genes = set(gene for genes in direct_connection_pool['Genes'].apply(lambda x: x.split(' ')) for gene in genes)\n",
    "    # print(len(direct_connection_genes))\n",
    "    \n",
    "    filtered_gene_pool = gene_pool - direct_connection_genes\n",
    "    \n",
    "    current_genes = go_terms.loc[go_terms['GO'] == go_id, 'Genes'].tolist()[0].split(' ')\n",
    "    # print(len(current_genes))\n",
    "    \n",
    "    # check if theres any genes in the pool overlaps with the ones in go_id\n",
    "    # print(len(filtered_gene_pool))\n",
    "    assert len(set(current_genes).intersection(filtered_gene_pool)) == 0, 'Warning: genes in the pool overlaps with the ones in this real set'\n",
    "    return filtered_gene_pool\n",
    "    \n",
    "random_pool = get_gene_pool(go_id, go_edges, full_GO)\n",
    "\n",
    "def add_contamination(go_id, edge_list, go_terms, contamination_rate=0.5):\n",
    "    '''\n",
    "    contamination_rate: the percentage of genes to be contaminated\n",
    "    '''\n",
    "    random_pool = get_gene_pool(go_id, edge_list, go_terms)\n",
    "    current_genes = go_terms.loc[go_terms['GO'] == go_id, 'Genes'].tolist()[0].split(' ')\n",
    "    # print(current_genes)\n",
    "    contamination_size = int(np.ceil(len(current_genes) * contamination_rate))\n",
    "    contamination_genes = np.random.choice(list(random_pool), size=contamination_size, replace=False)\n",
    "    perserve_genes = np.random.choice(current_genes, size=len(current_genes) - contamination_size, replace=False)\n",
    "    new_set = list(perserve_genes) + list(contamination_genes)\n",
    "    assert len(new_set) == len(current_genes), 'length of new set is not the same as the original set'\n",
    "    return new_set\n",
    "\n",
    "add_contamination(go_id,  go_edges, full_GO, contamination_rate=0.5)"
   ]
  },
  {
   "cell_type": "code",
   "execution_count": 65,
   "metadata": {},
   "outputs": [],
   "source": [
    "# add contamination to the toy example\n",
    "toy_example['50perc_contaminated_Genes'] = toy_example.apply(lambda x: ' '.join(add_contamination(x['GO'], go_edges, full_GO, contamination_rate=0.5)), axis=1)\n",
    "toy_example['100perc_contaminated_Genes'] = toy_example.apply(lambda x: ' '.join(add_contamination(x['GO'], go_edges, full_GO, contamination_rate=1)), axis=1)\n",
    "toy_example.to_csv('data/GO_term_analysis/toy_example_contaminated.csv', index=False)"
   ]
  },
  {
   "cell_type": "code",
   "execution_count": 66,
   "metadata": {},
   "outputs": [
    {
     "data": {
      "text/html": [
       "<div>\n",
       "<style scoped>\n",
       "    .dataframe tbody tr th:only-of-type {\n",
       "        vertical-align: middle;\n",
       "    }\n",
       "\n",
       "    .dataframe tbody tr th {\n",
       "        vertical-align: top;\n",
       "    }\n",
       "\n",
       "    .dataframe thead th {\n",
       "        text-align: right;\n",
       "    }\n",
       "</style>\n",
       "<table border=\"1\" class=\"dataframe\">\n",
       "  <thead>\n",
       "    <tr style=\"text-align: right;\">\n",
       "      <th></th>\n",
       "      <th>GO</th>\n",
       "      <th>Genes</th>\n",
       "      <th>Gene_Count</th>\n",
       "      <th>Term_Description</th>\n",
       "      <th>50perc_contaminated_Genes</th>\n",
       "      <th>100perc_contaminated_Genes</th>\n",
       "    </tr>\n",
       "  </thead>\n",
       "  <tbody>\n",
       "    <tr>\n",
       "      <th>0</th>\n",
       "      <td>GO:0032385</td>\n",
       "      <td>LDLRAP1 SCP2D1 ANXA2 SCP2</td>\n",
       "      <td>4</td>\n",
       "      <td>positive regulation of intracellular cholester...</td>\n",
       "      <td>LDLRAP1 SCP2 TRIM45 NME5</td>\n",
       "      <td>HMGA2 MID2 HSFX2 FOXP4</td>\n",
       "    </tr>\n",
       "    <tr>\n",
       "      <th>1</th>\n",
       "      <td>GO:0002468</td>\n",
       "      <td>NOD1 HLA-DRA CLEC4A HLA-DRB1 CCL21 NOD2 CCL19 ...</td>\n",
       "      <td>15</td>\n",
       "      <td>dendritic cell antigen processing and presenta...</td>\n",
       "      <td>CD68 HLA-DRB3 CCL19 CCL21 HLA-DRA NOD2 THBS1 T...</td>\n",
       "      <td>JAG1 LTK ARL17A SLCO4A1 PLEKHO2 NDUFS5 ZC3H12D...</td>\n",
       "    </tr>\n",
       "    <tr>\n",
       "      <th>2</th>\n",
       "      <td>GO:0033683</td>\n",
       "      <td>OGG1 ERCC5 XPA ERCC4 NTHL1</td>\n",
       "      <td>5</td>\n",
       "      <td>nucleotide-excision repair, DNA incision</td>\n",
       "      <td>XPA NTHL1 NAA11 SCD5 CDCA8</td>\n",
       "      <td>MBTPS2 PRCD BUB3 SLC13A1 FADS2</td>\n",
       "    </tr>\n",
       "    <tr>\n",
       "      <th>3</th>\n",
       "      <td>GO:0035672</td>\n",
       "      <td>SLC7A11 SLC25A39 SLC26A6 ABCB9 SLC15A4 ABCC5 C...</td>\n",
       "      <td>15</td>\n",
       "      <td>oligopeptide transmembrane transport</td>\n",
       "      <td>GJA1 SLC15A4 SLC15A1 CDH17 SLC25A39 SLC26A6 SL...</td>\n",
       "      <td>DEFB113 GLMN CELA2B SIGLEC7 RIGI CCL3L3 DEFB11...</td>\n",
       "    </tr>\n",
       "    <tr>\n",
       "      <th>4</th>\n",
       "      <td>GO:0048023</td>\n",
       "      <td>OPN3 CDH3 ATP7A APPL1 ASIP RAB38 ZEB2 TYRP1 GIPC1</td>\n",
       "      <td>9</td>\n",
       "      <td>positive regulation of melanin biosynthetic pr...</td>\n",
       "      <td>TYRP1 CDH3 OPN3 RAB38 FGFRL1 ZNF429 DUS3L CTSK...</td>\n",
       "      <td>WEE2 STIM1 EXOC4 MYO15A GLIPR1L1 ATAD3A CDCA5 ...</td>\n",
       "    </tr>\n",
       "  </tbody>\n",
       "</table>\n",
       "</div>"
      ],
      "text/plain": [
       "           GO                                              Genes  Gene_Count  \\\n",
       "0  GO:0032385                          LDLRAP1 SCP2D1 ANXA2 SCP2           4   \n",
       "1  GO:0002468  NOD1 HLA-DRA CLEC4A HLA-DRB1 CCL21 NOD2 CCL19 ...          15   \n",
       "2  GO:0033683                         OGG1 ERCC5 XPA ERCC4 NTHL1           5   \n",
       "3  GO:0035672  SLC7A11 SLC25A39 SLC26A6 ABCB9 SLC15A4 ABCC5 C...          15   \n",
       "4  GO:0048023  OPN3 CDH3 ATP7A APPL1 ASIP RAB38 ZEB2 TYRP1 GIPC1           9   \n",
       "\n",
       "                                    Term_Description  \\\n",
       "0  positive regulation of intracellular cholester...   \n",
       "1  dendritic cell antigen processing and presenta...   \n",
       "2           nucleotide-excision repair, DNA incision   \n",
       "3               oligopeptide transmembrane transport   \n",
       "4  positive regulation of melanin biosynthetic pr...   \n",
       "\n",
       "                           50perc_contaminated_Genes  \\\n",
       "0                           LDLRAP1 SCP2 TRIM45 NME5   \n",
       "1  CD68 HLA-DRB3 CCL19 CCL21 HLA-DRA NOD2 THBS1 T...   \n",
       "2                         XPA NTHL1 NAA11 SCD5 CDCA8   \n",
       "3  GJA1 SLC15A4 SLC15A1 CDH17 SLC25A39 SLC26A6 SL...   \n",
       "4  TYRP1 CDH3 OPN3 RAB38 FGFRL1 ZNF429 DUS3L CTSK...   \n",
       "\n",
       "                          100perc_contaminated_Genes  \n",
       "0                             HMGA2 MID2 HSFX2 FOXP4  \n",
       "1  JAG1 LTK ARL17A SLCO4A1 PLEKHO2 NDUFS5 ZC3H12D...  \n",
       "2                     MBTPS2 PRCD BUB3 SLC13A1 FADS2  \n",
       "3  DEFB113 GLMN CELA2B SIGLEC7 RIGI CCL3L3 DEFB11...  \n",
       "4  WEE2 STIM1 EXOC4 MYO15A GLIPR1L1 ATAD3A CDCA5 ...  "
      ]
     },
     "execution_count": 66,
     "metadata": {},
     "output_type": "execute_result"
    }
   ],
   "source": [
    "toy_example.head()"
   ]
  },
  {
   "cell_type": "code",
   "execution_count": null,
   "metadata": {},
   "outputs": [],
   "source": []
  }
 ],
 "metadata": {
  "kernelspec": {
   "display_name": "llm_eval",
   "language": "python",
   "name": "python3"
  },
  "language_info": {
   "codemirror_mode": {
    "name": "ipython",
    "version": 3
   },
   "file_extension": ".py",
   "mimetype": "text/x-python",
   "name": "python",
   "nbconvert_exporter": "python",
   "pygments_lexer": "ipython3",
   "version": "3.11.5"
  }
 },
 "nbformat": 4,
 "nbformat_minor": 2
}
