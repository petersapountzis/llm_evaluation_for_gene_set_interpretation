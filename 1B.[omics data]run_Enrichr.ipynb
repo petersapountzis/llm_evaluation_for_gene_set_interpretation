{
 "cells": [
  {
   "cell_type": "raw",
   "id": "c64a0bfd-4de3-44dd-a77c-a72c7b47f645",
   "metadata": {},
   "source": [
    "runs Enrichr for 'omics gene set"
   ]
  },
  {
   "cell_type": "code",
   "execution_count": null,
   "id": "c155029f-b60c-44f3-a7a0-b64253493a2c",
   "metadata": {},
   "outputs": [],
   "source": [
    "# https://gseapy.readthedocs.io/en/latest/gseapy_example.html"
   ]
  },
  {
   "cell_type": "code",
   "execution_count": 1,
   "id": "96571de6-823d-4010-9b5c-949615ba060a",
   "metadata": {},
   "outputs": [],
   "source": [
    "%load_ext autoreload\n",
    "%autoreload 2\n",
    "import pandas as pd\n",
    "import gseapy as gp"
   ]
  },
  {
   "cell_type": "code",
   "execution_count": 2,
   "id": "5467d3a5-6097-4a81-a0cd-a58b609bf5fb",
   "metadata": {},
   "outputs": [],
   "source": [
    "pd.set_option('display.max_columns', None)"
   ]
  },
  {
   "cell_type": "code",
   "execution_count": 3,
   "id": "08f1ef55-04a1-4ba9-9331-34ace90805c1",
   "metadata": {},
   "outputs": [],
   "source": [
    "dbs = gp.get_library_name()\n"
   ]
  },
  {
   "cell_type": "markdown",
   "id": "c4006f12-345b-48b7-8880-4b54e8d9f8b5",
   "metadata": {},
   "source": [
    "## Read in naming file"
   ]
  },
  {
   "cell_type": "code",
   "execution_count": 4,
   "id": "7111f86e-d3b5-4424-ab64-926e4a707e5d",
   "metadata": {},
   "outputs": [],
   "source": [
    "inputFile = 'data/omics_LLM_DF.tsv'"
   ]
  },
  {
   "cell_type": "code",
   "execution_count": 5,
   "id": "671d9293-4553-4ed4-9799-114961eb5cbf",
   "metadata": {},
   "outputs": [],
   "source": [
    "genesets_LLM = pd.read_csv(inputFile, sep = \"\\t\") "
   ]
  },
  {
   "cell_type": "code",
   "execution_count": 6,
   "id": "b0a289a3-3eb3-44db-b8d4-b4bdd281d136",
   "metadata": {
    "tags": []
   },
   "outputs": [],
   "source": [
    "# genesets_LLM.GeneSetID.unique()"
   ]
  },
  {
   "cell_type": "code",
   "execution_count": 7,
   "id": "6f4be3c8-0fdc-4b59-895b-d1016ba7db52",
   "metadata": {},
   "outputs": [],
   "source": [
    "# Remove \"HALLMARK_\" prefix for MSigDB gene sets\n",
    "genesets_LLM['GeneSetName'] = genesets_LLM['GeneSetName'].str.removeprefix(\"HALLMARK_\").str.replace('_', ' ')\n"
   ]
  },
  {
   "cell_type": "code",
   "execution_count": 8,
   "id": "81f8bf60-6404-49e6-85d0-b92122add457",
   "metadata": {},
   "outputs": [
    {
     "data": {
      "text/plain": [
       "Index(['Source', 'GeneSetID', 'GeneSetName', 'GeneList', 'n_Genes', 'LLM Name',\n",
       "       'LLM Analysis', 'Score'],\n",
       "      dtype='object')"
      ]
     },
     "execution_count": 8,
     "metadata": {},
     "output_type": "execute_result"
    }
   ],
   "source": [
    "genesets_LLM.columns"
   ]
  },
  {
   "cell_type": "code",
   "execution_count": 9,
   "id": "c5663eb2-4ebe-45ef-8d58-bbf155d8a9e8",
   "metadata": {},
   "outputs": [],
   "source": [
    "columnsToKeep = ['Source', 'GeneSetID', 'GeneSetName', 'GeneList', 'n_Genes', 'LLM Name',\n",
    "       'LLM Analysis', 'Score']\n",
    "geneSeparator = \" \""
   ]
  },
  {
   "cell_type": "code",
   "execution_count": 10,
   "id": "44cbc132-9812-4652-a2d4-ad2c313fcfeb",
   "metadata": {},
   "outputs": [],
   "source": [
    "LLM_DF = genesets_LLM"
   ]
  },
  {
   "cell_type": "code",
   "execution_count": 11,
   "id": "aaaf87a1-171f-4b94-a7f1-70a75b3cea17",
   "metadata": {},
   "outputs": [],
   "source": [
    "nGeneSets = LLM_DF.shape[0]"
   ]
  },
  {
   "cell_type": "code",
   "execution_count": 12,
   "id": "952674b2-20ec-4231-860b-dfd713dad935",
   "metadata": {},
   "outputs": [
    {
     "data": {
      "text/plain": [
       "250"
      ]
     },
     "execution_count": 12,
     "metadata": {},
     "output_type": "execute_result"
    }
   ],
   "source": [
    "nGeneSets"
   ]
  },
  {
   "cell_type": "code",
   "execution_count": 13,
   "id": "75409c4f-0bfd-48de-afc1-292a0fce9da1",
   "metadata": {},
   "outputs": [],
   "source": [
    "LLM_repeated_DF = LLM_DF[LLM_DF[['Source', 'GeneSetID', 'GeneSetName', 'GeneList']].duplicated() == True]\n"
   ]
  },
  {
   "cell_type": "code",
   "execution_count": 14,
   "id": "54a6e2b2-9aa1-4aae-bba3-e1cae87c5f16",
   "metadata": {
    "tags": []
   },
   "outputs": [
    {
     "data": {
      "text/plain": [
       "(250, 8)"
      ]
     },
     "execution_count": 14,
     "metadata": {},
     "output_type": "execute_result"
    }
   ],
   "source": [
    "LLM_DF.shape"
   ]
  },
  {
   "cell_type": "markdown",
   "id": "f66485e2-8b7e-4feb-b638-d5c893b92f46",
   "metadata": {
    "tags": []
   },
   "source": [
    "## Go through each system and run Enrichr "
   ]
  },
  {
   "cell_type": "code",
   "execution_count": null,
   "id": "ea2d86be-1de9-4019-8e4f-a5269a4b851f",
   "metadata": {},
   "outputs": [],
   "source": [
    "# Each system will have multiple rows"
   ]
  },
  {
   "cell_type": "code",
   "execution_count": 15,
   "id": "4536e230-bab3-433d-a0d1-33969a9d4e3e",
   "metadata": {},
   "outputs": [],
   "source": [
    "additionalCols = ['Rank', 'Overlap', 'P-value', 'Adjusted P-value', 'Genes', 'GO term', 'GO ID' ]"
   ]
  },
  {
   "cell_type": "code",
   "execution_count": 16,
   "id": "f8897f4d-be79-401d-826c-63173909dba9",
   "metadata": {},
   "outputs": [],
   "source": [
    "expandedColumnsToKeep =columnsToKeep;\n",
    "expandedColumnsToKeep.extend(additionalCols)"
   ]
  },
  {
   "cell_type": "code",
   "execution_count": 17,
   "id": "63805a5e-982a-4ff4-8011-1cec7684452f",
   "metadata": {},
   "outputs": [],
   "source": [
    "expanded_LLM_genes_DF = pd.DataFrame(columns=expandedColumnsToKeep)"
   ]
  },
  {
   "cell_type": "code",
   "execution_count": 18,
   "id": "1bcc2bdc-42f9-44fa-bca3-9c39076e1c8f",
   "metadata": {},
   "outputs": [],
   "source": [
    "genesCol = 'GeneList'"
   ]
  },
  {
   "cell_type": "code",
   "execution_count": 19,
   "id": "9368f41a-5b50-461a-8f2d-10214e61d92f",
   "metadata": {
    "tags": []
   },
   "outputs": [
    {
     "name": "stdout",
     "output_type": "stream",
     "text": [
      "0\n",
      "1\n",
      "2\n",
      "3\n",
      "4\n",
      "5\n",
      "6\n",
      "7\n",
      "8\n",
      "9\n"
     ]
    }
   ],
   "source": [
    "for geneSetInd in range(10): #range(nGeneSets):\n",
    "    print(geneSetInd)\n",
    "    geneSetRow = LLM_DF.iloc[geneSetInd]\n",
    "    geneSetGenes = geneSetRow[genesCol].split(geneSeparator)\n",
    "\n",
    "    # Perform enrichment analysis\n",
    "    enr = gp.enrichr(gene_list=geneSetGenes, # or \"./tests/data/gene_list.txt\",\n",
    "                 gene_sets=['GO_Biological_Process_2023'],\n",
    "                 organism='human', # don't forget to set organism to the one you desired! e.g. Yeast\n",
    "                 outdir=None, # don't write to disk\n",
    "                )\n",
    "    \n",
    "    # threshold\n",
    "    # sigRes_DF =  enr.results.loc[enr.results['Adjusted P-value'] <=0.1]\n",
    "    sigRes_DF = enr.results # remove thresholding, because want a name for each one\n",
    "    sigRes_DF = sigRes_DF.sort_values('Adjusted P-value')\n",
    "    if sigRes_DF.shape[0] == 0:\n",
    "        \n",
    "        print([geneSetInd, ' has not enirchment'])\n",
    "        #continue # skip to next gene set\n",
    "        sigRes_DF.loc[0, ['GO term', 'GO ID', 'nothing']] = 'NaN'\n",
    "        sigRes_DF.loc[0, ['Rank']]  = 1\n",
    "        sigRes_DF.loc[0, ['Overlap']]  = 0\n",
    "        sigRes_DF.loc[0, ['P-value']]  = 1\n",
    "        sigRes_DF.loc[0, ['Adjusted P-value']]  = 1\n",
    "        sigRes_DF.loc[0, ['Genes']]  = ''\n",
    "        \n",
    "    else:\n",
    "        expandedCols = sigRes_DF[\"Term\"].str.split('(', expand = True)\n",
    "        \n",
    "        if expandedCols.shape[1] == 3:\n",
    "            sigRes_DF[['GO term', 'GO ID', 'nothing']] = expandedCols\n",
    "        else: # ==2\n",
    "            sigRes_DF[['GO term', 'GO ID']] = expandedCols\n",
    "\n",
    "        sigRes_DF[['GO ID', 'nothing']] = sigRes_DF[\"GO ID\"].str.split(')', expand = True)\n",
    "\n",
    "        # Get ranking of enriched GO terms\n",
    "        sigRes_DF['Rank'] = sigRes_DF.reset_index().index\n",
    "\n",
    "    \n",
    "    # Doing what should be a simple colbind \n",
    "    geneSetRow_DF = geneSetRow.to_frame().T\n",
    "    geneSetRow_repeated_DF = geneSetRow_DF.loc[geneSetRow_DF.index.repeat(sigRes_DF.shape[0])]\n",
    "    geneSetRow_repeated_DF = geneSetRow_repeated_DF.reset_index()\n",
    "    \n",
    "    # system_Row_sigRes = systemRow_repeated_DF.join(sigRes_DF)\n",
    "    geneSetRowRow_sigRes = pd.concat([geneSetRow_repeated_DF, sigRes_DF],axis=1)\n",
    "    \n",
    "    # Doing what should be a simple  rowbind\n",
    "    if expanded_LLM_genes_DF.shape[0] == 0:\n",
    "        expanded_LLM_genes_DF = geneSetRowRow_sigRes[expandedColumnsToKeep]\n",
    "    else:\n",
    "        expanded_LLM_genes_DF =  pd.concat([expanded_LLM_genes_DF, geneSetRowRow_sigRes[expandedColumnsToKeep]],axis=0)\n",
    "    "
   ]
  },
  {
   "cell_type": "code",
   "execution_count": 20,
   "id": "191f0505-f379-4bd5-8198-b37de839d12d",
   "metadata": {},
   "outputs": [],
   "source": [
    "outputFile = 'data/omics_LLM_Enrichr_subset_DF.tsv' "
   ]
  },
  {
   "cell_type": "code",
   "execution_count": 21,
   "id": "0390f34d-f3c1-4957-a556-7c7c4525d616",
   "metadata": {},
   "outputs": [],
   "source": [
    "expanded_LLM_genes_DF.to_csv(outputFile, sep = \"\\t\") # Too large "
   ]
  },
  {
   "cell_type": "code",
   "execution_count": 22,
   "id": "207bcd68-2cfd-4c8c-a4e2-6199a6b4cd12",
   "metadata": {},
   "outputs": [
    {
     "data": {
      "text/plain": [
       "(12838, 15)"
      ]
     },
     "execution_count": 22,
     "metadata": {},
     "output_type": "execute_result"
    }
   ],
   "source": [
    "expanded_LLM_genes_DF.shape"
   ]
  },
  {
   "cell_type": "code",
   "execution_count": null,
   "id": "12154ae0-e980-441c-a755-807a2d50d215",
   "metadata": {},
   "outputs": [],
   "source": []
  },
  {
   "cell_type": "code",
   "execution_count": 23,
   "id": "2afd5906-0933-499e-bd0c-4d9d885d455e",
   "metadata": {},
   "outputs": [
    {
     "ename": "KeyError",
     "evalue": "'[3451, 4450, 5167, 6886, 7731, 9840, 10593, 11473] not in index'",
     "output_type": "error",
     "traceback": [
      "\u001b[0;31m---------------------------------------------------------------------------\u001b[0m",
      "\u001b[0;31mKeyError\u001b[0m                                  Traceback (most recent call last)",
      "Cell \u001b[0;32mIn[23], line 1\u001b[0m\n\u001b[0;32m----> 1\u001b[0m reduced_LLM_genes_DF \u001b[38;5;241m=\u001b[39m expanded_LLM_genes_DF\u001b[38;5;241m.\u001b[39mloc[expanded_LLM_genes_DF\u001b[38;5;241m.\u001b[39mreset_index()\u001b[38;5;241m.\u001b[39mgroupby([\u001b[38;5;124m'\u001b[39m\u001b[38;5;124mSource\u001b[39m\u001b[38;5;124m'\u001b[39m, \u001b[38;5;124m'\u001b[39m\u001b[38;5;124mGeneSetID\u001b[39m\u001b[38;5;124m'\u001b[39m, \u001b[38;5;124m'\u001b[39m\u001b[38;5;124mGeneSetName\u001b[39m\u001b[38;5;124m'\u001b[39m, \u001b[38;5;124m'\u001b[39m\u001b[38;5;124mGeneList\u001b[39m\u001b[38;5;124m'\u001b[39m])[\u001b[38;5;124m'\u001b[39m\u001b[38;5;124mAdjusted P-value\u001b[39m\u001b[38;5;124m'\u001b[39m]\u001b[38;5;241m.\u001b[39midxmin()]\n",
      "File \u001b[0;32m~/opt/miniconda3/envs/llm_go_evaluation/lib/python3.11/site-packages/pandas/core/indexing.py:1073\u001b[0m, in \u001b[0;36m_LocationIndexer.__getitem__\u001b[0;34m(self, key)\u001b[0m\n\u001b[1;32m   1070\u001b[0m axis \u001b[38;5;241m=\u001b[39m \u001b[38;5;28mself\u001b[39m\u001b[38;5;241m.\u001b[39maxis \u001b[38;5;129;01mor\u001b[39;00m \u001b[38;5;241m0\u001b[39m\n\u001b[1;32m   1072\u001b[0m maybe_callable \u001b[38;5;241m=\u001b[39m com\u001b[38;5;241m.\u001b[39mapply_if_callable(key, \u001b[38;5;28mself\u001b[39m\u001b[38;5;241m.\u001b[39mobj)\n\u001b[0;32m-> 1073\u001b[0m \u001b[38;5;28;01mreturn\u001b[39;00m \u001b[38;5;28mself\u001b[39m\u001b[38;5;241m.\u001b[39m_getitem_axis(maybe_callable, axis\u001b[38;5;241m=\u001b[39maxis)\n",
      "File \u001b[0;32m~/opt/miniconda3/envs/llm_go_evaluation/lib/python3.11/site-packages/pandas/core/indexing.py:1301\u001b[0m, in \u001b[0;36m_LocIndexer._getitem_axis\u001b[0;34m(self, key, axis)\u001b[0m\n\u001b[1;32m   1298\u001b[0m     \u001b[38;5;28;01mif\u001b[39;00m \u001b[38;5;28mhasattr\u001b[39m(key, \u001b[38;5;124m\"\u001b[39m\u001b[38;5;124mndim\u001b[39m\u001b[38;5;124m\"\u001b[39m) \u001b[38;5;129;01mand\u001b[39;00m key\u001b[38;5;241m.\u001b[39mndim \u001b[38;5;241m>\u001b[39m \u001b[38;5;241m1\u001b[39m:\n\u001b[1;32m   1299\u001b[0m         \u001b[38;5;28;01mraise\u001b[39;00m \u001b[38;5;167;01mValueError\u001b[39;00m(\u001b[38;5;124m\"\u001b[39m\u001b[38;5;124mCannot index with multidimensional key\u001b[39m\u001b[38;5;124m\"\u001b[39m)\n\u001b[0;32m-> 1301\u001b[0m     \u001b[38;5;28;01mreturn\u001b[39;00m \u001b[38;5;28mself\u001b[39m\u001b[38;5;241m.\u001b[39m_getitem_iterable(key, axis\u001b[38;5;241m=\u001b[39maxis)\n\u001b[1;32m   1303\u001b[0m \u001b[38;5;66;03m# nested tuple slicing\u001b[39;00m\n\u001b[1;32m   1304\u001b[0m \u001b[38;5;28;01mif\u001b[39;00m is_nested_tuple(key, labels):\n",
      "File \u001b[0;32m~/opt/miniconda3/envs/llm_go_evaluation/lib/python3.11/site-packages/pandas/core/indexing.py:1239\u001b[0m, in \u001b[0;36m_LocIndexer._getitem_iterable\u001b[0;34m(self, key, axis)\u001b[0m\n\u001b[1;32m   1236\u001b[0m \u001b[38;5;28mself\u001b[39m\u001b[38;5;241m.\u001b[39m_validate_key(key, axis)\n\u001b[1;32m   1238\u001b[0m \u001b[38;5;66;03m# A collection of keys\u001b[39;00m\n\u001b[0;32m-> 1239\u001b[0m keyarr, indexer \u001b[38;5;241m=\u001b[39m \u001b[38;5;28mself\u001b[39m\u001b[38;5;241m.\u001b[39m_get_listlike_indexer(key, axis)\n\u001b[1;32m   1240\u001b[0m \u001b[38;5;28;01mreturn\u001b[39;00m \u001b[38;5;28mself\u001b[39m\u001b[38;5;241m.\u001b[39mobj\u001b[38;5;241m.\u001b[39m_reindex_with_indexers(\n\u001b[1;32m   1241\u001b[0m     {axis: [keyarr, indexer]}, copy\u001b[38;5;241m=\u001b[39m\u001b[38;5;28;01mTrue\u001b[39;00m, allow_dups\u001b[38;5;241m=\u001b[39m\u001b[38;5;28;01mTrue\u001b[39;00m\n\u001b[1;32m   1242\u001b[0m )\n",
      "File \u001b[0;32m~/opt/miniconda3/envs/llm_go_evaluation/lib/python3.11/site-packages/pandas/core/indexing.py:1432\u001b[0m, in \u001b[0;36m_LocIndexer._get_listlike_indexer\u001b[0;34m(self, key, axis)\u001b[0m\n\u001b[1;32m   1429\u001b[0m ax \u001b[38;5;241m=\u001b[39m \u001b[38;5;28mself\u001b[39m\u001b[38;5;241m.\u001b[39mobj\u001b[38;5;241m.\u001b[39m_get_axis(axis)\n\u001b[1;32m   1430\u001b[0m axis_name \u001b[38;5;241m=\u001b[39m \u001b[38;5;28mself\u001b[39m\u001b[38;5;241m.\u001b[39mobj\u001b[38;5;241m.\u001b[39m_get_axis_name(axis)\n\u001b[0;32m-> 1432\u001b[0m keyarr, indexer \u001b[38;5;241m=\u001b[39m ax\u001b[38;5;241m.\u001b[39m_get_indexer_strict(key, axis_name)\n\u001b[1;32m   1434\u001b[0m \u001b[38;5;28;01mreturn\u001b[39;00m keyarr, indexer\n",
      "File \u001b[0;32m~/opt/miniconda3/envs/llm_go_evaluation/lib/python3.11/site-packages/pandas/core/indexes/base.py:6070\u001b[0m, in \u001b[0;36mIndex._get_indexer_strict\u001b[0;34m(self, key, axis_name)\u001b[0m\n\u001b[1;32m   6067\u001b[0m \u001b[38;5;28;01melse\u001b[39;00m:\n\u001b[1;32m   6068\u001b[0m     keyarr, indexer, new_indexer \u001b[38;5;241m=\u001b[39m \u001b[38;5;28mself\u001b[39m\u001b[38;5;241m.\u001b[39m_reindex_non_unique(keyarr)\n\u001b[0;32m-> 6070\u001b[0m \u001b[38;5;28mself\u001b[39m\u001b[38;5;241m.\u001b[39m_raise_if_missing(keyarr, indexer, axis_name)\n\u001b[1;32m   6072\u001b[0m keyarr \u001b[38;5;241m=\u001b[39m \u001b[38;5;28mself\u001b[39m\u001b[38;5;241m.\u001b[39mtake(indexer)\n\u001b[1;32m   6073\u001b[0m \u001b[38;5;28;01mif\u001b[39;00m \u001b[38;5;28misinstance\u001b[39m(key, Index):\n\u001b[1;32m   6074\u001b[0m     \u001b[38;5;66;03m# GH 42790 - Preserve name from an Index\u001b[39;00m\n",
      "File \u001b[0;32m~/opt/miniconda3/envs/llm_go_evaluation/lib/python3.11/site-packages/pandas/core/indexes/base.py:6133\u001b[0m, in \u001b[0;36mIndex._raise_if_missing\u001b[0;34m(self, key, indexer, axis_name)\u001b[0m\n\u001b[1;32m   6130\u001b[0m     \u001b[38;5;28;01mraise\u001b[39;00m \u001b[38;5;167;01mKeyError\u001b[39;00m(\u001b[38;5;124mf\u001b[39m\u001b[38;5;124m\"\u001b[39m\u001b[38;5;124mNone of [\u001b[39m\u001b[38;5;132;01m{\u001b[39;00mkey\u001b[38;5;132;01m}\u001b[39;00m\u001b[38;5;124m] are in the [\u001b[39m\u001b[38;5;132;01m{\u001b[39;00maxis_name\u001b[38;5;132;01m}\u001b[39;00m\u001b[38;5;124m]\u001b[39m\u001b[38;5;124m\"\u001b[39m)\n\u001b[1;32m   6132\u001b[0m not_found \u001b[38;5;241m=\u001b[39m \u001b[38;5;28mlist\u001b[39m(ensure_index(key)[missing_mask\u001b[38;5;241m.\u001b[39mnonzero()[\u001b[38;5;241m0\u001b[39m]]\u001b[38;5;241m.\u001b[39munique())\n\u001b[0;32m-> 6133\u001b[0m \u001b[38;5;28;01mraise\u001b[39;00m \u001b[38;5;167;01mKeyError\u001b[39;00m(\u001b[38;5;124mf\u001b[39m\u001b[38;5;124m\"\u001b[39m\u001b[38;5;132;01m{\u001b[39;00mnot_found\u001b[38;5;132;01m}\u001b[39;00m\u001b[38;5;124m not in index\u001b[39m\u001b[38;5;124m\"\u001b[39m)\n",
      "\u001b[0;31mKeyError\u001b[0m: '[3451, 4450, 5167, 6886, 7731, 9840, 10593, 11473] not in index'"
     ]
    }
   ],
   "source": [
    "reduced_LLM_genes_DF = expanded_LLM_genes_DF.loc[expanded_LLM_genes_DF.reset_index().groupby(['Source', 'GeneSetID', 'GeneSetName', 'GeneList'])['Adjusted P-value'].idxmin()]"
   ]
  },
  {
   "cell_type": "code",
   "execution_count": null,
   "id": "617d69a3-2817-49b2-993e-0bb3c4cf8480",
   "metadata": {},
   "outputs": [],
   "source": []
  },
  {
   "cell_type": "code",
   "execution_count": null,
   "id": "39e33b14-6ab1-482c-a40a-e4c52b96047d",
   "metadata": {},
   "outputs": [],
   "source": []
  },
  {
   "cell_type": "code",
   "execution_count": null,
   "id": "b93deb58-09c2-4f2e-b123-330c9fa4bbdb",
   "metadata": {},
   "outputs": [],
   "source": []
  },
  {
   "cell_type": "code",
   "execution_count": null,
   "id": "047f8520-0341-4669-a76a-1ec0099410f3",
   "metadata": {
    "tags": []
   },
   "outputs": [],
   "source": [
    "# Convert 'Adjusted P-value' to numeric and replace NaNs with 1\n",
    "expanded_LLM_genes_DF['Adjusted P-value'] = pd.to_numeric(expanded_LLM_genes_DF['Adjusted P-value'], errors='coerce').fillna(1)\n",
    "\n",
    "# Reset the index of the DataFrame and store it\n",
    "reset_df = expanded_LLM_genes_DF.reset_index()\n",
    "\n",
    "# Find the indices of the minimum 'Adjusted P-value' for each group in the reset DataFrame\n",
    "min_indices = reset_df.groupby(['Source', 'GeneSetID', 'GeneSetName', 'GeneList'])['Adjusted P-value'].idxmin()\n",
    "\n",
    "# Use these indices to select rows from the reset DataFrame\n",
    "selected_rows = reset_df.loc[min_indices]\n",
    "\n",
    "# Use the original index from the selected rows to get rows from the original DataFrame\n",
    "reduced_LLM_genes_DF = expanded_LLM_genes_DF.loc[selected_rows['index']]\n",
    "\n",
    "# Now the reduced_LLM_genes_DF should have the rows based on minimum 'Adjusted P-value'\n"
   ]
  },
  {
   "cell_type": "code",
   "execution_count": null,
   "id": "89308a78-4d96-4216-b0fb-019ffc9d4b6f",
   "metadata": {},
   "outputs": [],
   "source": [
    "reduced_LLM_genes_DF = expanded_LLM_genes_DF.loc[selected_rows['index']]\n"
   ]
  },
  {
   "cell_type": "code",
   "execution_count": null,
   "id": "729faefb-0ddc-451b-a04c-e77567e83493",
   "metadata": {},
   "outputs": [],
   "source": [
    "reduced_LLM_genes_DF.shape"
   ]
  },
  {
   "cell_type": "code",
   "execution_count": null,
   "id": "378a746c-44f2-4f6d-885a-4e704251a0e7",
   "metadata": {},
   "outputs": [],
   "source": [
    "reduced_LLM_genes_DF.to_csv('data/omics_LLM_Enrichr_reduced_DF.tsv' , sep = \"\\t\")"
   ]
  },
  {
   "cell_type": "code",
   "execution_count": null,
   "id": "6baac4ca-be7e-405c-ad71-21352906dfe7",
   "metadata": {},
   "outputs": [],
   "source": [
    "set(LLM_DF.GeneSetID.to_list()).difference(set(reduced_LLM_genes_DF.GeneSetID.to_list()))"
   ]
  },
  {
   "cell_type": "code",
   "execution_count": null,
   "id": "59d6b599-2906-4d63-935f-6cf364c38840",
   "metadata": {},
   "outputs": [],
   "source": [
    " "
   ]
  },
  {
   "cell_type": "code",
   "execution_count": null,
   "id": "353a7170-61a2-40ef-9dee-c0b20480e930",
   "metadata": {},
   "outputs": [],
   "source": []
  },
  {
   "cell_type": "code",
   "execution_count": null,
   "id": "9c186bb5-db7e-45f7-afda-821153d9fcb7",
   "metadata": {},
   "outputs": [],
   "source": [
    "reduced_LLM_genes_DF = expanded_LLM_genes_DF.loc[expanded_LLM_genes_DF.reset_index().groupby(['Source', 'GeneSetID', 'GeneSetName', 'GeneList'])['Adjusted P-value'].idxmin()]"
   ]
  }
 ],
 "metadata": {
  "kernelspec": {
   "display_name": "llm_go_evaluation",
   "language": "python",
   "name": "llm_go_evaluation"
  },
  "language_info": {
   "codemirror_mode": {
    "name": "ipython",
    "version": 3
   },
   "file_extension": ".py",
   "mimetype": "text/x-python",
   "name": "python",
   "nbconvert_exporter": "python",
   "pygments_lexer": "ipython3",
   "version": "3.11.3"
  }
 },
 "nbformat": 4,
 "nbformat_minor": 5
}
