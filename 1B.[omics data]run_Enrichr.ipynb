{
 "cells": [
  {
   "cell_type": "raw",
   "id": "c64a0bfd-4de3-44dd-a77c-a72c7b47f645",
   "metadata": {},
   "source": [
    "runs Enrichr for each 'omics gene set\n",
    "\n",
    "run separately for NeST and MSigDB by editing \"dataType\""
   ]
  },
  {
   "cell_type": "code",
   "execution_count": null,
   "id": "c155029f-b60c-44f3-a7a0-b64253493a2c",
   "metadata": {},
   "outputs": [],
   "source": [
    "# https://gseapy.readthedocs.io/en/latest/gseapy_example.html"
   ]
  },
  {
   "cell_type": "code",
   "execution_count": 1,
   "id": "96571de6-823d-4010-9b5c-949615ba060a",
   "metadata": {},
   "outputs": [],
   "source": [
    "%load_ext autoreload\n",
    "%autoreload 2\n",
    "import pandas as pd\n",
    "import gseapy as gp"
   ]
  },
  {
   "cell_type": "code",
   "execution_count": 2,
   "id": "5467d3a5-6097-4a81-a0cd-a58b609bf5fb",
   "metadata": {},
   "outputs": [],
   "source": [
    "pd.set_option('display.max_columns', None)"
   ]
  },
  {
   "cell_type": "code",
   "execution_count": 3,
   "id": "08f1ef55-04a1-4ba9-9331-34ace90805c1",
   "metadata": {},
   "outputs": [],
   "source": [
    "dbs = gp.get_library_name()\n"
   ]
  },
  {
   "cell_type": "code",
   "execution_count": 4,
   "id": "7d9911db-1302-486e-9388-5fce5cb976aa",
   "metadata": {
    "tags": []
   },
   "outputs": [],
   "source": [
    "#dbs"
   ]
  },
  {
   "cell_type": "code",
   "execution_count": 5,
   "id": "2125e0a4-24da-4951-9ffe-8981d311f4b8",
   "metadata": {},
   "outputs": [],
   "source": [
    "# Edit these parameters\n",
    "dataType = \"MSigDB\"; # \"NeST\", \"MSigDB\"\n",
    "runVersion = \"test\""
   ]
  },
  {
   "cell_type": "code",
   "execution_count": null,
   "id": "ed3830a6-ccf6-48f6-bafc-19e6db21a5e5",
   "metadata": {},
   "outputs": [],
   "source": []
  },
  {
   "cell_type": "markdown",
   "id": "c4006f12-345b-48b7-8880-4b54e8d9f8b5",
   "metadata": {},
   "source": [
    "## Read in naming file"
   ]
  },
  {
   "cell_type": "code",
   "execution_count": 6,
   "id": "76ff5702-2598-47f2-b7a8-6641ffcf7424",
   "metadata": {},
   "outputs": [],
   "source": [
    "if runVersion == \"test\":\n",
    "    infix = '_subset'\n",
    "else: \n",
    "    infix = ''"
   ]
  },
  {
   "cell_type": "code",
   "execution_count": 7,
   "id": "3cf1c8fa-6a80-4f6d-909d-159e9d4297f8",
   "metadata": {},
   "outputs": [],
   "source": [
    "inputFile = 'data/' + dataType + '_table' + infix + '_LLM_DF.tsv' "
   ]
  },
  {
   "cell_type": "code",
   "execution_count": 8,
   "id": "751d9ea4-6d4b-4b76-ae1b-6622176ddf78",
   "metadata": {},
   "outputs": [
    {
     "data": {
      "text/plain": [
       "'data/MSigDB_table_subset_LLM_DF.tsv'"
      ]
     },
     "execution_count": 8,
     "metadata": {},
     "output_type": "execute_result"
    }
   ],
   "source": [
    "inputFile"
   ]
  },
  {
   "cell_type": "code",
   "execution_count": 9,
   "id": "671d9293-4553-4ed4-9799-114961eb5cbf",
   "metadata": {},
   "outputs": [],
   "source": [
    "genesets_LLM = pd.read_csv(inputFile, sep = \"\\t\") "
   ]
  },
  {
   "cell_type": "code",
   "execution_count": 10,
   "id": "6f4be3c8-0fdc-4b59-895b-d1016ba7db52",
   "metadata": {},
   "outputs": [],
   "source": [
    "# Remove \"HALLMARK_\" prefix for MSigDB gene sets\n",
    "if dataType == \"MSigDB\":\n",
    "    genesets_LLM['Name'] = genesets_LLM['Name'].str.removeprefix(\"HALLMARK_\").str.replace('_', ' ')\n"
   ]
  },
  {
   "cell_type": "code",
   "execution_count": 11,
   "id": "81f8bf60-6404-49e6-85d0-b92122add457",
   "metadata": {},
   "outputs": [
    {
     "data": {
      "text/plain": [
       "Index(['Unnamed: 0', 'Name', 'Genes', 'LLM Name', 'LLM Analysis'], dtype='object')"
      ]
     },
     "execution_count": 11,
     "metadata": {},
     "output_type": "execute_result"
    }
   ],
   "source": [
    "genesets_LLM.columns"
   ]
  },
  {
   "cell_type": "code",
   "execution_count": 12,
   "id": "69720ca3-b443-4ac9-90cb-28b1e17bd61e",
   "metadata": {},
   "outputs": [],
   "source": [
    "### NeST Specific\n",
    "# NeST_LLM_genes_raw_DF = pd.read_excel('data/Test_NeST_Nodes_LLM_enhanced.xlsx', sheet_name='Test_NeST_Nodes')\n",
    "## remove  rows with missing values\n",
    "#NeST_LLM_genes_DF=NeST_LLM_genes_raw_DF.dropna(subset=['NEST ID'])\n",
    "#columnsToKeep = ['NEST ID','Size_All', 'All_Genes', 'name_new', 'LLM_name', 'LLM_description']\n",
    "#NeST_LLM_genes_DF = NeST_LLM_genes_DF[columnsToKeep]"
   ]
  },
  {
   "cell_type": "code",
   "execution_count": 13,
   "id": "a99e4405-5e1d-4661-ab79-c27f1b48d787",
   "metadata": {},
   "outputs": [],
   "source": [
    "if dataType == \"MSigDB\":\n",
    "    columnsToKeep = ['Name', 'Genes', 'LLM Name', 'LLM Analysis']\n",
    "    geneSeparator = \" \"\n",
    "elif dataType == \"NeST\":\n",
    "    columnsToKeep = ['NEST ID', 'name_new', 'Genes', 'LLM Name', 'LLM Analysis']\n",
    "    geneSeparator = \",\"\n",
    "else:\n",
    "    print(\"Data type not implemented yet\")"
   ]
  },
  {
   "cell_type": "code",
   "execution_count": 14,
   "id": "0926998e-24d5-41b0-8f28-513a36783c4c",
   "metadata": {},
   "outputs": [
    {
     "data": {
      "text/plain": [
       "' '"
      ]
     },
     "execution_count": 14,
     "metadata": {},
     "output_type": "execute_result"
    }
   ],
   "source": [
    "geneSeparator"
   ]
  },
  {
   "cell_type": "code",
   "execution_count": 15,
   "id": "44cbc132-9812-4652-a2d4-ad2c313fcfeb",
   "metadata": {},
   "outputs": [],
   "source": [
    "LLM_DF = genesets_LLM # or = NeST_LLM_genes_DF"
   ]
  },
  {
   "cell_type": "code",
   "execution_count": 16,
   "id": "aaaf87a1-171f-4b94-a7f1-70a75b3cea17",
   "metadata": {},
   "outputs": [],
   "source": [
    "nSystems = LLM_DF.shape[0]"
   ]
  },
  {
   "cell_type": "code",
   "execution_count": 17,
   "id": "952674b2-20ec-4231-860b-dfd713dad935",
   "metadata": {},
   "outputs": [
    {
     "data": {
      "text/plain": [
       "3"
      ]
     },
     "execution_count": 17,
     "metadata": {},
     "output_type": "execute_result"
    }
   ],
   "source": [
    "nSystems"
   ]
  },
  {
   "cell_type": "markdown",
   "id": "f66485e2-8b7e-4feb-b638-d5c893b92f46",
   "metadata": {},
   "source": [
    "## Go through each system and run Enrichr "
   ]
  },
  {
   "cell_type": "code",
   "execution_count": 18,
   "id": "ea2d86be-1de9-4019-8e4f-a5269a4b851f",
   "metadata": {},
   "outputs": [],
   "source": [
    "# Each system will have multiple rows"
   ]
  },
  {
   "cell_type": "code",
   "execution_count": 19,
   "id": "4536e230-bab3-433d-a0d1-33969a9d4e3e",
   "metadata": {},
   "outputs": [],
   "source": [
    "additionalCols = ['Rank', 'Overlap', 'P-value', 'Adjusted P-value', 'Genes', 'GO term', 'GO ID' ]"
   ]
  },
  {
   "cell_type": "code",
   "execution_count": 20,
   "id": "f8897f4d-be79-401d-826c-63173909dba9",
   "metadata": {},
   "outputs": [],
   "source": [
    "expandedColumnsToKeep =columnsToKeep;\n",
    "expandedColumnsToKeep.extend(additionalCols)"
   ]
  },
  {
   "cell_type": "code",
   "execution_count": 21,
   "id": "63805a5e-982a-4ff4-8011-1cec7684452f",
   "metadata": {},
   "outputs": [],
   "source": [
    "expanded_LLM_genes_DF = pd.DataFrame(columns=expandedColumnsToKeep)"
   ]
  },
  {
   "cell_type": "code",
   "execution_count": 22,
   "id": "1bcc2bdc-42f9-44fa-bca3-9c39076e1c8f",
   "metadata": {},
   "outputs": [],
   "source": [
    "genesCol = 'Genes'"
   ]
  },
  {
   "cell_type": "code",
   "execution_count": 23,
   "id": "9368f41a-5b50-461a-8f2d-10214e61d92f",
   "metadata": {
    "tags": []
   },
   "outputs": [
    {
     "name": "stdout",
     "output_type": "stream",
     "text": [
      "0\n",
      "1\n",
      "2\n"
     ]
    }
   ],
   "source": [
    "for systemInd in range(nSystems):\n",
    "    print(systemInd)\n",
    "    systemRow = LLM_DF.iloc[systemInd]\n",
    "    systemGenes = systemRow[genesCol].split(geneSeparator)\n",
    "\n",
    "    # Perform enrichment analysis\n",
    "    enr = gp.enrichr(gene_list=systemGenes, # or \"./tests/data/gene_list.txt\",\n",
    "                 gene_sets=['GO_Biological_Process_2023'],\n",
    "                 organism='human', # don't forget to set organism to the one you desired! e.g. Yeast\n",
    "                 outdir=None, # don't write to disk\n",
    "                )\n",
    "    \n",
    "    # threshold\n",
    "    # sigRes_DF =  enr.results.loc[enr.results['Adjusted P-value'] <=0.1]\n",
    "    sigRes_DF = enr.results # remove thresholding, because want a name for each one\n",
    "    sigRes_DF = sigRes_DF.sort_values('Adjusted P-value')\n",
    "    if sigRes_DF.shape[0] == 0:\n",
    "        \n",
    "        print(['skipping ', systemInd])\n",
    "        continue # skip to next gene set\n",
    "        \n",
    "        ## add something \n",
    "        \n",
    "    \n",
    "        \n",
    "    expandedCols = sigRes_DF[\"Term\"].str.split('(', expand = True)\n",
    "    if expandedCols.shape[1] == 3:\n",
    "        sigRes_DF[['GO term', 'GO ID', 'nothing']] = expandedCols\n",
    "    else: # ==2\n",
    "        sigRes_DF[['GO term', 'GO ID']] = expandedCols\n",
    "\n",
    "    sigRes_DF[['GO ID', 'nothing']] = sigRes_DF[\"GO ID\"].str.split(')', expand = True)\n",
    "\n",
    "    # Get ranking of enriched GO terms\n",
    "    sigRes_DF['Rank'] = sigRes_DF.reset_index().index\n",
    "\n",
    "    \n",
    "    # Doing what should be a simple colbind \n",
    "    systemRow_DF = systemRow.to_frame().T\n",
    "    systemRow_repeated_DF = systemRow_DF.loc[systemRow_DF.index.repeat(sigRes_DF.shape[0])]\n",
    "    systemRow_repeated_DF = systemRow_repeated_DF.reset_index()\n",
    "    \n",
    "    # system_Row_sigRes = systemRow_repeated_DF.join(sigRes_DF)\n",
    "    system_Row_sigRes = pd.concat([systemRow_repeated_DF, sigRes_DF],axis=1)\n",
    "    \n",
    "    # Doing what should be a simple  rowbind\n",
    "    if expanded_LLM_genes_DF.shape[0] == 0:\n",
    "        expanded_LLM_genes_DF = system_Row_sigRes[expandedColumnsToKeep]\n",
    "    else:\n",
    "        expanded_LLM_genes_DF =  pd.concat([expanded_LLM_genes_DF, system_Row_sigRes[expandedColumnsToKeep]],axis=0)\n",
    "    "
   ]
  },
  {
   "cell_type": "code",
   "execution_count": 24,
   "id": "23f8099f-1f7a-4b85-bdee-59f92d4014e4",
   "metadata": {
    "collapsed": true,
    "jupyter": {
     "outputs_hidden": true
    },
    "tags": []
   },
   "outputs": [
    {
     "data": {
      "text/html": [
       "<div>\n",
       "<style scoped>\n",
       "    .dataframe tbody tr th:only-of-type {\n",
       "        vertical-align: middle;\n",
       "    }\n",
       "\n",
       "    .dataframe tbody tr th {\n",
       "        vertical-align: top;\n",
       "    }\n",
       "\n",
       "    .dataframe thead th {\n",
       "        text-align: right;\n",
       "    }\n",
       "</style>\n",
       "<table border=\"1\" class=\"dataframe\">\n",
       "  <thead>\n",
       "    <tr style=\"text-align: right;\">\n",
       "      <th></th>\n",
       "      <th>Name</th>\n",
       "      <th>Genes</th>\n",
       "      <th>Genes</th>\n",
       "      <th>LLM Name</th>\n",
       "      <th>LLM Analysis</th>\n",
       "      <th>Rank</th>\n",
       "      <th>Overlap</th>\n",
       "      <th>P-value</th>\n",
       "      <th>Adjusted P-value</th>\n",
       "      <th>Genes</th>\n",
       "      <th>Genes</th>\n",
       "      <th>GO term</th>\n",
       "      <th>GO ID</th>\n",
       "    </tr>\n",
       "  </thead>\n",
       "  <tbody>\n",
       "    <tr>\n",
       "      <th>0</th>\n",
       "      <td>ALLOGRAFT REJECTION</td>\n",
       "      <td>AARS1 ABCE1 ABI1 ACHE ACVR2A AKT1 APBB1 B2M BC...</td>\n",
       "      <td>CD86;ITK;CD40;CD80;BRCA1;TNF;IL12B;IL12A;JAK2;...</td>\n",
       "      <td>Immune Response Regulation</td>\n",
       "      <td>The system of interacting proteins primarily p...</td>\n",
       "      <td>0</td>\n",
       "      <td>55/320</td>\n",
       "      <td>1.489019e-52</td>\n",
       "      <td>3.091203e-49</td>\n",
       "      <td>AARS1 ABCE1 ABI1 ACHE ACVR2A AKT1 APBB1 B2M BC...</td>\n",
       "      <td>CD86;ITK;CD40;CD80;BRCA1;TNF;IL12B;IL12A;JAK2;...</td>\n",
       "      <td>Positive Regulation Of Cytokine Production</td>\n",
       "      <td>GO:0001819</td>\n",
       "    </tr>\n",
       "    <tr>\n",
       "      <th>1</th>\n",
       "      <td>ALLOGRAFT REJECTION</td>\n",
       "      <td>AARS1 ABCE1 ABI1 ACHE ACVR2A AKT1 APBB1 B2M BC...</td>\n",
       "      <td>CCL13;CXCL9;SPI1;CCL11;IL2RG;CXCL13;TNF;IL27RA...</td>\n",
       "      <td>Immune Response Regulation</td>\n",
       "      <td>The system of interacting proteins primarily p...</td>\n",
       "      <td>1</td>\n",
       "      <td>46/257</td>\n",
       "      <td>1.366750e-44</td>\n",
       "      <td>1.418686e-41</td>\n",
       "      <td>AARS1 ABCE1 ABI1 ACHE ACVR2A AKT1 APBB1 B2M BC...</td>\n",
       "      <td>CCL13;CXCL9;SPI1;CCL11;IL2RG;CXCL13;TNF;IL27RA...</td>\n",
       "      <td>Cytokine-Mediated Signaling Pathway</td>\n",
       "      <td>GO:0019221</td>\n",
       "    </tr>\n",
       "    <tr>\n",
       "      <th>2</th>\n",
       "      <td>ALLOGRAFT REJECTION</td>\n",
       "      <td>AARS1 ABCE1 ABI1 ACHE ACVR2A AKT1 APBB1 B2M BC...</td>\n",
       "      <td>CCL13;CD40;CXCL9;CCL11;ITGB2;LY75;CXCL13;ITGAL...</td>\n",
       "      <td>Immune Response Regulation</td>\n",
       "      <td>The system of interacting proteins primarily p...</td>\n",
       "      <td>2</td>\n",
       "      <td>42/236</td>\n",
       "      <td>1.492656e-40</td>\n",
       "      <td>1.032918e-37</td>\n",
       "      <td>AARS1 ABCE1 ABI1 ACHE ACVR2A AKT1 APBB1 B2M BC...</td>\n",
       "      <td>CCL13;CD40;CXCL9;CCL11;ITGB2;LY75;CXCL13;ITGAL...</td>\n",
       "      <td>Inflammatory Response</td>\n",
       "      <td>GO:0006954</td>\n",
       "    </tr>\n",
       "    <tr>\n",
       "      <th>3</th>\n",
       "      <td>ALLOGRAFT REJECTION</td>\n",
       "      <td>AARS1 ABCE1 ABI1 ACHE ACVR2A AKT1 APBB1 B2M BC...</td>\n",
       "      <td>CD86;CD80;CD1D;THY1;CD3E;HLA-DMA;HLA-DMB;CCL5;...</td>\n",
       "      <td>Immune Response Regulation</td>\n",
       "      <td>The system of interacting proteins primarily p...</td>\n",
       "      <td>3</td>\n",
       "      <td>31/107</td>\n",
       "      <td>3.709867e-37</td>\n",
       "      <td>1.925421e-34</td>\n",
       "      <td>AARS1 ABCE1 ABI1 ACHE ACVR2A AKT1 APBB1 B2M BC...</td>\n",
       "      <td>CD86;CD80;CD1D;THY1;CD3E;HLA-DMA;HLA-DMB;CCL5;...</td>\n",
       "      <td>Positive Regulation Of T Cell Activation</td>\n",
       "      <td>GO:0050870</td>\n",
       "    </tr>\n",
       "    <tr>\n",
       "      <th>4</th>\n",
       "      <td>ALLOGRAFT REJECTION</td>\n",
       "      <td>AARS1 ABCE1 ABI1 ACHE ACVR2A AKT1 APBB1 B2M BC...</td>\n",
       "      <td>CCL13;CD40;CCL11;BRCA1;IL2RG;HIF1A;IL27RA;IKBK...</td>\n",
       "      <td>Immune Response Regulation</td>\n",
       "      <td>The system of interacting proteins primarily p...</td>\n",
       "      <td>4</td>\n",
       "      <td>39/308</td>\n",
       "      <td>1.038071e-31</td>\n",
       "      <td>4.310071e-29</td>\n",
       "      <td>AARS1 ABCE1 ABI1 ACHE ACVR2A AKT1 APBB1 B2M BC...</td>\n",
       "      <td>CCL13;CD40;CCL11;BRCA1;IL2RG;HIF1A;IL27RA;IKBK...</td>\n",
       "      <td>Cellular Response To Cytokine Stimulus</td>\n",
       "      <td>GO:0071345</td>\n",
       "    </tr>\n",
       "    <tr>\n",
       "      <th>...</th>\n",
       "      <td>...</td>\n",
       "      <td>...</td>\n",
       "      <td>...</td>\n",
       "      <td>...</td>\n",
       "      <td>...</td>\n",
       "      <td>...</td>\n",
       "      <td>...</td>\n",
       "      <td>...</td>\n",
       "      <td>...</td>\n",
       "      <td>...</td>\n",
       "      <td>...</td>\n",
       "      <td>...</td>\n",
       "      <td>...</td>\n",
       "    </tr>\n",
       "    <tr>\n",
       "      <th>1370</th>\n",
       "      <td>ADIPOGENESIS</td>\n",
       "      <td>ABCA1 ABCB8 ACAA2 ACADL ACADM ACADS ACLY ACO2 ...</td>\n",
       "      <td>UBQLN1</td>\n",
       "      <td>Fatty Acid Metabolism and Oxidative Phosphoryl...</td>\n",
       "      <td>The most prominent biological process performe...</td>\n",
       "      <td>1370</td>\n",
       "      <td>1/322</td>\n",
       "      <td>9.617092e-01</td>\n",
       "      <td>9.645151e-01</td>\n",
       "      <td>ABCA1 ABCB8 ACAA2 ACADL ACADM ACADS ACLY ACO2 ...</td>\n",
       "      <td>UBQLN1</td>\n",
       "      <td>Organelle Assembly</td>\n",
       "      <td>GO:0070925</td>\n",
       "    </tr>\n",
       "    <tr>\n",
       "      <th>1371</th>\n",
       "      <td>ADIPOGENESIS</td>\n",
       "      <td>ABCA1 ABCB8 ACAA2 ACADL ACADM ACADS ACLY ACO2 ...</td>\n",
       "      <td>STAT5A;ESRRA;BCL6;CHUK;FZD4;ADIPOQ;PDCD4;BAZ2A...</td>\n",
       "      <td>Fatty Acid Metabolism and Oxidative Phosphoryl...</td>\n",
       "      <td>The most prominent biological process performe...</td>\n",
       "      <td>1371</td>\n",
       "      <td>12/1922</td>\n",
       "      <td>9.750666e-01</td>\n",
       "      <td>9.771987e-01</td>\n",
       "      <td>ABCA1 ABCB8 ACAA2 ACADL ACADM ACADS ACLY ACO2 ...</td>\n",
       "      <td>STAT5A;ESRRA;BCL6;CHUK;FZD4;ADIPOQ;PDCD4;BAZ2A...</td>\n",
       "      <td>Regulation Of DNA-templated Transcription</td>\n",
       "      <td>GO:0006355</td>\n",
       "    </tr>\n",
       "    <tr>\n",
       "      <th>1372</th>\n",
       "      <td>ADIPOGENESIS</td>\n",
       "      <td>ABCA1 ABCB8 ACAA2 ACADL ACADM ACADS ACLY ACO2 ...</td>\n",
       "      <td>RNF11</td>\n",
       "      <td>Fatty Acid Metabolism and Oxidative Phosphoryl...</td>\n",
       "      <td>The most prominent biological process performe...</td>\n",
       "      <td>1372</td>\n",
       "      <td>1/367</td>\n",
       "      <td>9.758321e-01</td>\n",
       "      <td>9.772536e-01</td>\n",
       "      <td>ABCA1 ABCB8 ACAA2 ACADL ACADM ACADS ACLY ACO2 ...</td>\n",
       "      <td>RNF11</td>\n",
       "      <td>Ubiquitin-Dependent Protein Catabolic Process</td>\n",
       "      <td>GO:0006511</td>\n",
       "    </tr>\n",
       "    <tr>\n",
       "      <th>1373</th>\n",
       "      <td>ADIPOGENESIS</td>\n",
       "      <td>ABCA1 ABCB8 ACAA2 ACADL ACADM ACADS ACLY ACO2 ...</td>\n",
       "      <td>RNF11</td>\n",
       "      <td>Fatty Acid Metabolism and Oxidative Phosphoryl...</td>\n",
       "      <td>The most prominent biological process performe...</td>\n",
       "      <td>1373</td>\n",
       "      <td>1/434</td>\n",
       "      <td>9.878426e-01</td>\n",
       "      <td>9.885615e-01</td>\n",
       "      <td>ABCA1 ABCB8 ACAA2 ACADL ACADM ACADS ACLY ACO2 ...</td>\n",
       "      <td>RNF11</td>\n",
       "      <td>Protein Ubiquitination</td>\n",
       "      <td>GO:0016567</td>\n",
       "    </tr>\n",
       "    <tr>\n",
       "      <th>1374</th>\n",
       "      <td>ADIPOGENESIS</td>\n",
       "      <td>ABCA1 ABCB8 ACAA2 ACADL ACADM ACADS ACLY ACO2 ...</td>\n",
       "      <td>STAT5A;ESRRA;BCL6;CHUK;GADD45A;PPARG;RREB1</td>\n",
       "      <td>Fatty Acid Metabolism and Oxidative Phosphoryl...</td>\n",
       "      <td>The most prominent biological process performe...</td>\n",
       "      <td>1374</td>\n",
       "      <td>7/2028</td>\n",
       "      <td>9.998840e-01</td>\n",
       "      <td>9.998840e-01</td>\n",
       "      <td>ABCA1 ABCB8 ACAA2 ACADL ACADM ACADS ACLY ACO2 ...</td>\n",
       "      <td>STAT5A;ESRRA;BCL6;CHUK;GADD45A;PPARG;RREB1</td>\n",
       "      <td>Regulation Of Transcription By RNA Polymerase II</td>\n",
       "      <td>GO:0006357</td>\n",
       "    </tr>\n",
       "  </tbody>\n",
       "</table>\n",
       "<p>4450 rows × 13 columns</p>\n",
       "</div>"
      ],
      "text/plain": [
       "                     Name                                              Genes  \\\n",
       "0     ALLOGRAFT REJECTION  AARS1 ABCE1 ABI1 ACHE ACVR2A AKT1 APBB1 B2M BC...   \n",
       "1     ALLOGRAFT REJECTION  AARS1 ABCE1 ABI1 ACHE ACVR2A AKT1 APBB1 B2M BC...   \n",
       "2     ALLOGRAFT REJECTION  AARS1 ABCE1 ABI1 ACHE ACVR2A AKT1 APBB1 B2M BC...   \n",
       "3     ALLOGRAFT REJECTION  AARS1 ABCE1 ABI1 ACHE ACVR2A AKT1 APBB1 B2M BC...   \n",
       "4     ALLOGRAFT REJECTION  AARS1 ABCE1 ABI1 ACHE ACVR2A AKT1 APBB1 B2M BC...   \n",
       "...                   ...                                                ...   \n",
       "1370         ADIPOGENESIS  ABCA1 ABCB8 ACAA2 ACADL ACADM ACADS ACLY ACO2 ...   \n",
       "1371         ADIPOGENESIS  ABCA1 ABCB8 ACAA2 ACADL ACADM ACADS ACLY ACO2 ...   \n",
       "1372         ADIPOGENESIS  ABCA1 ABCB8 ACAA2 ACADL ACADM ACADS ACLY ACO2 ...   \n",
       "1373         ADIPOGENESIS  ABCA1 ABCB8 ACAA2 ACADL ACADM ACADS ACLY ACO2 ...   \n",
       "1374         ADIPOGENESIS  ABCA1 ABCB8 ACAA2 ACADL ACADM ACADS ACLY ACO2 ...   \n",
       "\n",
       "                                                  Genes  \\\n",
       "0     CD86;ITK;CD40;CD80;BRCA1;TNF;IL12B;IL12A;JAK2;...   \n",
       "1     CCL13;CXCL9;SPI1;CCL11;IL2RG;CXCL13;TNF;IL27RA...   \n",
       "2     CCL13;CD40;CXCL9;CCL11;ITGB2;LY75;CXCL13;ITGAL...   \n",
       "3     CD86;CD80;CD1D;THY1;CD3E;HLA-DMA;HLA-DMB;CCL5;...   \n",
       "4     CCL13;CD40;CCL11;BRCA1;IL2RG;HIF1A;IL27RA;IKBK...   \n",
       "...                                                 ...   \n",
       "1370                                             UBQLN1   \n",
       "1371  STAT5A;ESRRA;BCL6;CHUK;FZD4;ADIPOQ;PDCD4;BAZ2A...   \n",
       "1372                                              RNF11   \n",
       "1373                                              RNF11   \n",
       "1374         STAT5A;ESRRA;BCL6;CHUK;GADD45A;PPARG;RREB1   \n",
       "\n",
       "                                               LLM Name  \\\n",
       "0                            Immune Response Regulation   \n",
       "1                            Immune Response Regulation   \n",
       "2                            Immune Response Regulation   \n",
       "3                            Immune Response Regulation   \n",
       "4                            Immune Response Regulation   \n",
       "...                                                 ...   \n",
       "1370  Fatty Acid Metabolism and Oxidative Phosphoryl...   \n",
       "1371  Fatty Acid Metabolism and Oxidative Phosphoryl...   \n",
       "1372  Fatty Acid Metabolism and Oxidative Phosphoryl...   \n",
       "1373  Fatty Acid Metabolism and Oxidative Phosphoryl...   \n",
       "1374  Fatty Acid Metabolism and Oxidative Phosphoryl...   \n",
       "\n",
       "                                           LLM Analysis  Rank  Overlap  \\\n",
       "0     The system of interacting proteins primarily p...     0   55/320   \n",
       "1     The system of interacting proteins primarily p...     1   46/257   \n",
       "2     The system of interacting proteins primarily p...     2   42/236   \n",
       "3     The system of interacting proteins primarily p...     3   31/107   \n",
       "4     The system of interacting proteins primarily p...     4   39/308   \n",
       "...                                                 ...   ...      ...   \n",
       "1370  The most prominent biological process performe...  1370    1/322   \n",
       "1371  The most prominent biological process performe...  1371  12/1922   \n",
       "1372  The most prominent biological process performe...  1372    1/367   \n",
       "1373  The most prominent biological process performe...  1373    1/434   \n",
       "1374  The most prominent biological process performe...  1374   7/2028   \n",
       "\n",
       "           P-value  Adjusted P-value  \\\n",
       "0     1.489019e-52      3.091203e-49   \n",
       "1     1.366750e-44      1.418686e-41   \n",
       "2     1.492656e-40      1.032918e-37   \n",
       "3     3.709867e-37      1.925421e-34   \n",
       "4     1.038071e-31      4.310071e-29   \n",
       "...            ...               ...   \n",
       "1370  9.617092e-01      9.645151e-01   \n",
       "1371  9.750666e-01      9.771987e-01   \n",
       "1372  9.758321e-01      9.772536e-01   \n",
       "1373  9.878426e-01      9.885615e-01   \n",
       "1374  9.998840e-01      9.998840e-01   \n",
       "\n",
       "                                                  Genes  \\\n",
       "0     AARS1 ABCE1 ABI1 ACHE ACVR2A AKT1 APBB1 B2M BC...   \n",
       "1     AARS1 ABCE1 ABI1 ACHE ACVR2A AKT1 APBB1 B2M BC...   \n",
       "2     AARS1 ABCE1 ABI1 ACHE ACVR2A AKT1 APBB1 B2M BC...   \n",
       "3     AARS1 ABCE1 ABI1 ACHE ACVR2A AKT1 APBB1 B2M BC...   \n",
       "4     AARS1 ABCE1 ABI1 ACHE ACVR2A AKT1 APBB1 B2M BC...   \n",
       "...                                                 ...   \n",
       "1370  ABCA1 ABCB8 ACAA2 ACADL ACADM ACADS ACLY ACO2 ...   \n",
       "1371  ABCA1 ABCB8 ACAA2 ACADL ACADM ACADS ACLY ACO2 ...   \n",
       "1372  ABCA1 ABCB8 ACAA2 ACADL ACADM ACADS ACLY ACO2 ...   \n",
       "1373  ABCA1 ABCB8 ACAA2 ACADL ACADM ACADS ACLY ACO2 ...   \n",
       "1374  ABCA1 ABCB8 ACAA2 ACADL ACADM ACADS ACLY ACO2 ...   \n",
       "\n",
       "                                                  Genes  \\\n",
       "0     CD86;ITK;CD40;CD80;BRCA1;TNF;IL12B;IL12A;JAK2;...   \n",
       "1     CCL13;CXCL9;SPI1;CCL11;IL2RG;CXCL13;TNF;IL27RA...   \n",
       "2     CCL13;CD40;CXCL9;CCL11;ITGB2;LY75;CXCL13;ITGAL...   \n",
       "3     CD86;CD80;CD1D;THY1;CD3E;HLA-DMA;HLA-DMB;CCL5;...   \n",
       "4     CCL13;CD40;CCL11;BRCA1;IL2RG;HIF1A;IL27RA;IKBK...   \n",
       "...                                                 ...   \n",
       "1370                                             UBQLN1   \n",
       "1371  STAT5A;ESRRA;BCL6;CHUK;FZD4;ADIPOQ;PDCD4;BAZ2A...   \n",
       "1372                                              RNF11   \n",
       "1373                                              RNF11   \n",
       "1374         STAT5A;ESRRA;BCL6;CHUK;GADD45A;PPARG;RREB1   \n",
       "\n",
       "                                                GO term       GO ID  \n",
       "0           Positive Regulation Of Cytokine Production   GO:0001819  \n",
       "1                  Cytokine-Mediated Signaling Pathway   GO:0019221  \n",
       "2                                Inflammatory Response   GO:0006954  \n",
       "3             Positive Regulation Of T Cell Activation   GO:0050870  \n",
       "4               Cellular Response To Cytokine Stimulus   GO:0071345  \n",
       "...                                                 ...         ...  \n",
       "1370                                Organelle Assembly   GO:0070925  \n",
       "1371         Regulation Of DNA-templated Transcription   GO:0006355  \n",
       "1372     Ubiquitin-Dependent Protein Catabolic Process   GO:0006511  \n",
       "1373                            Protein Ubiquitination   GO:0016567  \n",
       "1374  Regulation Of Transcription By RNA Polymerase II   GO:0006357  \n",
       "\n",
       "[4450 rows x 13 columns]"
      ]
     },
     "execution_count": 24,
     "metadata": {},
     "output_type": "execute_result"
    }
   ],
   "source": [
    "expanded_LLM_genes_DF"
   ]
  },
  {
   "cell_type": "code",
   "execution_count": 25,
   "id": "ecd6e098-8c7b-4a76-a48b-c1c5238b7c0f",
   "metadata": {
    "tags": []
   },
   "outputs": [
    {
     "data": {
      "text/plain": [
       "(4450, 13)"
      ]
     },
     "execution_count": 25,
     "metadata": {},
     "output_type": "execute_result"
    }
   ],
   "source": [
    "expanded_LLM_genes_DF.shape"
   ]
  },
  {
   "cell_type": "code",
   "execution_count": null,
   "id": "f89714ff-036d-4fde-9a47-e3bde374b947",
   "metadata": {},
   "outputs": [],
   "source": []
  },
  {
   "cell_type": "code",
   "execution_count": 29,
   "id": "191f0505-f379-4bd5-8198-b37de839d12d",
   "metadata": {},
   "outputs": [],
   "source": [
    "outputFile = 'data/' + dataType + '_table' + infix + '_LLM_Enrichr_DF.tsv' "
   ]
  },
  {
   "cell_type": "code",
   "execution_count": 31,
   "id": "0390f34d-f3c1-4957-a556-7c7c4525d616",
   "metadata": {},
   "outputs": [],
   "source": [
    "expanded_LLM_genes_DF.to_csv(outputFile, sep = \"\\t\")"
   ]
  },
  {
   "cell_type": "code",
   "execution_count": null,
   "id": "2bdcdb67-6f3b-4fee-8812-39b59db36daf",
   "metadata": {},
   "outputs": [],
   "source": []
  },
  {
   "cell_type": "code",
   "execution_count": null,
   "id": "055328b7-83dc-490b-953e-0200cde0338b",
   "metadata": {},
   "outputs": [],
   "source": []
  },
  {
   "cell_type": "code",
   "execution_count": null,
   "id": "4a483633-6e89-4d47-a1ea-ea9274bee330",
   "metadata": {},
   "outputs": [],
   "source": []
  }
 ],
 "metadata": {
  "kernelspec": {
   "display_name": "llm_go_evaluation",
   "language": "python",
   "name": "llm_go_evaluation"
  },
  "language_info": {
   "codemirror_mode": {
    "name": "ipython",
    "version": 3
   },
   "file_extension": ".py",
   "mimetype": "text/x-python",
   "name": "python",
   "nbconvert_exporter": "python",
   "pygments_lexer": "ipython3",
   "version": "3.11.3"
  }
 },
 "nbformat": 4,
 "nbformat_minor": 5
}
