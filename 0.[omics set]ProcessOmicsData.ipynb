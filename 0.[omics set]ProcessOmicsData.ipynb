{
 "cells": [
  {
   "cell_type": "code",
   "execution_count": 61,
   "id": "9fa86f76-d230-4ce8-a385-ab8dfcc07406",
   "metadata": {
    "tags": []
   },
   "outputs": [],
   "source": [
    "library(plyr, quietly = TRUE)\n",
    "library(tidyverse,  quietly = TRUE)\n",
    "library(tidyjson,  quietly = TRUE)\n",
    "library(readxl)"
   ]
  },
  {
   "cell_type": "code",
   "execution_count": 2,
   "id": "fe317316-8b8b-4c91-b1de-330f3c9e5f6a",
   "metadata": {},
   "outputs": [],
   "source": [
    "# get name genes number  source"
   ]
  },
  {
   "cell_type": "code",
   "execution_count": 62,
   "id": "3f9b065c-eb80-437e-86ec-7c7e880fc4e9",
   "metadata": {
    "tags": []
   },
   "outputs": [],
   "source": [
    "genesets_colnames = c(\"Source\", \"GeneSetID\", \"GeneSetName\", \"GeneList\", \"n_Genes\")\n",
    "genesets_MAT = matrix(nrow = 0, ncol = length(genesets_colnames))\n",
    "colnames(genesets_MAT) = genesets_colnames\n",
    "genesets_DF = as_tibble(genesets_MAT) %>%\n",
    "  mutate(across(everything(), as.character))\n",
    "genesets_DF$n_Genes = as.integer(genesets_DF$n_Genes)"
   ]
  },
  {
   "cell_type": "code",
   "execution_count": 63,
   "id": "1e1d5b21-6289-4dc9-986d-9808aed54bad",
   "metadata": {},
   "outputs": [],
   "source": [
    "genesets_empty_DF = genesets_DF"
   ]
  },
  {
   "cell_type": "markdown",
   "id": "05d19b89-2fe7-4b6a-a3f2-8004c7c271e8",
   "metadata": {},
   "source": [
    "### MSigDB"
   ]
  },
  {
   "cell_type": "code",
   "execution_count": 64,
   "id": "dce7d8e8-5271-41f7-9491-973d7e49e240",
   "metadata": {},
   "outputs": [],
   "source": [
    "msigdb_path = \"data/human_geneSets/\""
   ]
  },
  {
   "cell_type": "code",
   "execution_count": 65,
   "id": "b0cf7bb3-ab8c-48df-93af-83f73870669d",
   "metadata": {},
   "outputs": [],
   "source": [
    "# read in the MSigDB .json file\n",
    "MSigDB_hallmark = read_json(\"data/h.all.v2023.1.Hs.json\", format = \"json\")[[2]][[1]]"
   ]
  },
  {
   "cell_type": "code",
   "execution_count": 66,
   "id": "48937e73-92c7-44fb-bc9d-1bce1fe5533d",
   "metadata": {},
   "outputs": [],
   "source": [
    "MSigDB_geneSets = names(MSigDB_hallmark)"
   ]
  },
  {
   "cell_type": "code",
   "execution_count": 67,
   "id": "17901b42-fd31-478a-b8cb-334d555ae77a",
   "metadata": {},
   "outputs": [],
   "source": [
    "for (MSigDB_geneSet in MSigDB_geneSets){\n",
    "    MSigDB_geneSet_genes = MSigDB_hallmark[[MSigDB_geneSet]]$geneSymbols %>% unlist()\n",
    "    MSigDB_geneSet_n_Genes = length(MSigDB_geneSet_genes)\n",
    "    genesets_DF = genesets_DF %>% \n",
    "    add_row(tibble_row(Source = \"MSigDB\",\n",
    "            GeneSetID = MSigDB_geneSet,           \n",
    "            GeneSetName = MSigDB_geneSet, \n",
    "            GeneList = str_c(MSigDB_geneSet_genes,  collapse = \" \"),\n",
    "            n_Genes = MSigDB_geneSet_n_Genes))\n",
    "    }"
   ]
  },
  {
   "cell_type": "code",
   "execution_count": 68,
   "id": "420739cb-9c1c-4ad2-8904-f77e2922fbf5",
   "metadata": {
    "tags": []
   },
   "outputs": [
    {
     "data": {
      "text/html": [
       "27"
      ],
      "text/latex": [
       "27"
      ],
      "text/markdown": [
       "27"
      ],
      "text/plain": [
       "[1] 27"
      ]
     },
     "metadata": {},
     "output_type": "display_data"
    }
   ],
   "source": [
    "genesets_DF %>% subset(n_Genes < 200) %>% nrow()"
   ]
  },
  {
   "cell_type": "code",
   "execution_count": 69,
   "id": "0410d45f-4616-4d26-b754-1311a1699652",
   "metadata": {},
   "outputs": [
    {
     "data": {
      "text/html": [
       "13"
      ],
      "text/latex": [
       "13"
      ],
      "text/markdown": [
       "13"
      ],
      "text/plain": [
       "[1] 13"
      ]
     },
     "metadata": {},
     "output_type": "display_data"
    }
   ],
   "source": [
    "genesets_DF %>% subset(n_Genes <= 100) %>% nrow()"
   ]
  },
  {
   "cell_type": "code",
   "execution_count": 70,
   "id": "119c7247-5d71-4fc6-94e2-a831945961b2",
   "metadata": {},
   "outputs": [
    {
     "data": {
      "text/html": [
       "<style>\n",
       ".list-inline {list-style: none; margin:0; padding: 0}\n",
       ".list-inline>li {display: inline-block}\n",
       ".list-inline>li:not(:last-child)::after {content: \"\\00b7\"; padding: 0 .5ex}\n",
       "</style>\n",
       "<ol class=list-inline><li>50</li><li>5</li></ol>\n"
      ],
      "text/latex": [
       "\\begin{enumerate*}\n",
       "\\item 50\n",
       "\\item 5\n",
       "\\end{enumerate*}\n"
      ],
      "text/markdown": [
       "1. 50\n",
       "2. 5\n",
       "\n",
       "\n"
      ],
      "text/plain": [
       "[1] 50  5"
      ]
     },
     "metadata": {},
     "output_type": "display_data"
    }
   ],
   "source": [
    "dim(genesets_DF)"
   ]
  },
  {
   "cell_type": "code",
   "execution_count": 71,
   "id": "c4ab5234-d241-4ab3-9837-d8c245443aff",
   "metadata": {},
   "outputs": [
    {
     "data": {
      "text/html": [
       "200"
      ],
      "text/latex": [
       "200"
      ],
      "text/markdown": [
       "200"
      ],
      "text/plain": [
       "[1] 200"
      ]
     },
     "metadata": {},
     "output_type": "display_data"
    }
   ],
   "source": [
    "genesets_DF$n_Genes %>% max()"
   ]
  },
  {
   "cell_type": "markdown",
   "id": "b8594e43-67bf-4fbd-9f15-cfe029c98096",
   "metadata": {},
   "source": [
    "### NeST"
   ]
  },
  {
   "cell_type": "code",
   "execution_count": 72,
   "id": "9c04a784-b991-44fb-85de-4886785bc2be",
   "metadata": {},
   "outputs": [
    {
     "name": "stderr",
     "output_type": "stream",
     "text": [
      "\u001b[1mRows: \u001b[22m\u001b[34m50\u001b[39m \u001b[1mColumns: \u001b[22m\u001b[34m3\u001b[39m\n",
      "\u001b[36m──\u001b[39m \u001b[1mColumn specification\u001b[22m \u001b[36m──────────────────────────────────────────────────────────────────────────────────────────────────────────\u001b[39m\n",
      "\u001b[1mDelimiter:\u001b[22m \"\\t\"\n",
      "\u001b[31mchr\u001b[39m (3): NEST ID, name_new, Genes\n",
      "\n",
      "\u001b[36mℹ\u001b[39m Use `spec()` to retrieve the full column specification for this data.\n",
      "\u001b[36mℹ\u001b[39m Specify the column types or set `show_col_types = FALSE` to quiet this message.\n"
     ]
    }
   ],
   "source": [
    "NeST_systems_Orig = read_delim(\"data/NeST_table.txt\", delim = \"\\t\") %>% pull(`NEST ID`)"
   ]
  },
  {
   "cell_type": "code",
   "execution_count": 73,
   "id": "86f5f50a-7193-418e-a093-661f48b3f39f",
   "metadata": {},
   "outputs": [
    {
     "name": "stderr",
     "output_type": "stream",
     "text": [
      "\u001b[1mRows: \u001b[22m\u001b[34m131\u001b[39m \u001b[1mColumns: \u001b[22m\u001b[34m24\u001b[39m\n",
      "\u001b[36m──\u001b[39m \u001b[1mColumn specification\u001b[22m \u001b[36m──────────────────────────────────────────────────────────────────────────────────────────────────────────\u001b[39m\n",
      "\u001b[1mDelimiter:\u001b[22m \",\"\n",
      "\u001b[31mchr\u001b[39m (12): All_Genes, name, name_new, name_position, NEST ID, Note, shared na...\n",
      "\u001b[32mdbl\u001b[39m (11): Camptothecin, CD437, Cisplatin, Etoposide, Gemcitabine, name_show,...\n",
      "\u001b[33mlgl\u001b[39m  (1): selected\n",
      "\n",
      "\u001b[36mℹ\u001b[39m Use `spec()` to retrieve the full column specification for this data.\n",
      "\u001b[36mℹ\u001b[39m Specify the column types or set `show_col_types = FALSE` to quiet this message.\n"
     ]
    }
   ],
   "source": [
    "NeST_All_DF = read_delim(file = \"data/NeST_table_All.csv\", delim = \",\" )"
   ]
  },
  {
   "cell_type": "code",
   "execution_count": 74,
   "id": "de6c6f8e-bf36-488d-aeaa-87d8008e4c38",
   "metadata": {},
   "outputs": [],
   "source": [
    "NeST_Orig_DF = NeST_All_DF %>%\n",
    "subset(`NEST ID` %in% NeST_systems_Orig) %>%\n",
    "subset(Size_All <= 200)"
   ]
  },
  {
   "cell_type": "code",
   "execution_count": 75,
   "id": "0502253b-ee1f-4401-9475-9a2d174b4ed0",
   "metadata": {},
   "outputs": [
    {
     "data": {
      "text/html": [
       "'NEST:3'"
      ],
      "text/latex": [
       "'NEST:3'"
      ],
      "text/markdown": [
       "'NEST:3'"
      ],
      "text/plain": [
       "[1] \"NEST:3\""
      ]
     },
     "metadata": {},
     "output_type": "display_data"
    }
   ],
   "source": [
    "setdiff(NeST_systems_Orig, NeST_Orig_DF$`NEST ID`)"
   ]
  },
  {
   "cell_type": "code",
   "execution_count": 76,
   "id": "68febf67-6a30-4eb6-9960-c96810718f7c",
   "metadata": {},
   "outputs": [],
   "source": [
    "n_toSample = 50 - nrow(NeST_Orig_DF)"
   ]
  },
  {
   "cell_type": "code",
   "execution_count": 77,
   "id": "f7a4b994-272b-44df-a8cf-6542ac0cf68f",
   "metadata": {},
   "outputs": [],
   "source": [
    "NeST_added_DF = NeST_All_DF %>%\n",
    "subset(Size_All <= 200) %>%\n",
    "subset(str_detect(name_new, \"NEST\", negate = TRUE)) %>%\n",
    "slice_sample(n = n_toSample) "
   ]
  },
  {
   "cell_type": "code",
   "execution_count": 78,
   "id": "30724ae6-e48a-4e39-8aeb-8f8352390854",
   "metadata": {},
   "outputs": [],
   "source": [
    "NeST_toUse_DF = rbind(NeST_Orig_DF, NeST_added_DF) %>%\n",
    "select(c(\"NEST ID\", \"name_new\", \"All_Genes\", \"Size_All\"))  %>%\n",
    "rowwise() %>%\n",
    "mutate(Source  = \"NeST\", \n",
    "       All_Genes = str_replace_all(string = All_Genes, pattern  = \",\", replacement =  \" \")) %>%\n",
    "rename(GeneSetID = `NEST ID`,\n",
    "       GeneSetName = name_new, \n",
    "       GeneList = All_Genes, \n",
    "       n_Genes = Size_All)"
   ]
  },
  {
   "cell_type": "code",
   "execution_count": 79,
   "id": "8af1700b-0fca-4c4e-b0fe-9cac02da342b",
   "metadata": {},
   "outputs": [],
   "source": [
    "genesets_DF = genesets_DF %>% rbind(NeST_toUse_DF)"
   ]
  },
  {
   "cell_type": "code",
   "execution_count": 80,
   "id": "cbec14ba-1a36-4b40-8566-d79627af9666",
   "metadata": {},
   "outputs": [
    {
     "data": {
      "text/html": [
       "<style>\n",
       ".list-inline {list-style: none; margin:0; padding: 0}\n",
       ".list-inline>li {display: inline-block}\n",
       ".list-inline>li:not(:last-child)::after {content: \"\\00b7\"; padding: 0 .5ex}\n",
       "</style>\n",
       "<ol class=list-inline><li>100</li><li>5</li></ol>\n"
      ],
      "text/latex": [
       "\\begin{enumerate*}\n",
       "\\item 100\n",
       "\\item 5\n",
       "\\end{enumerate*}\n"
      ],
      "text/markdown": [
       "1. 100\n",
       "2. 5\n",
       "\n",
       "\n"
      ],
      "text/plain": [
       "[1] 100   5"
      ]
     },
     "metadata": {},
     "output_type": "display_data"
    }
   ],
   "source": [
    "dim(genesets_DF)"
   ]
  },
  {
   "cell_type": "markdown",
   "id": "d2a5ee32-4bf6-4dc2-8aac-b5014579dcc4",
   "metadata": {},
   "source": [
    "### Gene expression"
   ]
  },
  {
   "cell_type": "code",
   "execution_count": 81,
   "id": "97f213ff-81cd-486d-bcb5-c12fea9489e5",
   "metadata": {},
   "outputs": [],
   "source": [
    "# https://doi.org/10.1016/j.cell.2022.05.013"
   ]
  },
  {
   "cell_type": "code",
   "execution_count": 82,
   "id": "25cd88c5-5091-418f-801b-e59a105d951f",
   "metadata": {},
   "outputs": [
    {
     "name": "stderr",
     "output_type": "stream",
     "text": [
      "\u001b[1m\u001b[22mNew names:\n",
      "\u001b[36m•\u001b[39m `` -> `...1`\n"
     ]
    }
   ],
   "source": [
    "geneExpression_DF = read_xlsx(path = \"data/1-s2.0-S0092867422005979-mmc3.xlsx\", sheet = \"gene expression clusters\")"
   ]
  },
  {
   "cell_type": "code",
   "execution_count": 83,
   "id": "05bde802-7cd5-40c4-b4c0-993947348e03",
   "metadata": {},
   "outputs": [
    {
     "name": "stderr",
     "output_type": "stream",
     "text": [
      "\u001b[1m\u001b[22mNew names:\n",
      "\u001b[36m•\u001b[39m `` -> `...1`\n"
     ]
    }
   ],
   "source": [
    "geneExpression_DF = read_xlsx(path = \"data/1-s2.0-S0092867422005979-mmc3.xlsx\", sheet = \"gene expression clusters\") %>%\n",
    "subset(!is.na(manual_annotation))  %>%\n",
    "select(c(\"members\", \"manual_annotation\")) %>%\n",
    "rowwise() %>%\n",
    "mutate(Source  = \"Gene Expression\", \n",
    "       members = str_replace_all(string = members, pattern  = \",\", replacement =  \" \"),\n",
    "       n_Genes = length(str_split(string = members, pattern = \" \")[[1]])) %>%\n",
    "rename(GeneSetName = manual_annotation, \n",
    "       GeneList = members) %>%\n",
    "mutate(GeneSetID =  GeneSetName) %>%\n",
    "subset(n_Genes <= 200)\n"
   ]
  },
  {
   "cell_type": "code",
   "execution_count": 84,
   "id": "13320cd9-f741-411e-aa09-4dbf444e8848",
   "metadata": {},
   "outputs": [
    {
     "data": {
      "text/html": [
       "<style>\n",
       ".list-inline {list-style: none; margin:0; padding: 0}\n",
       ".list-inline>li {display: inline-block}\n",
       ".list-inline>li:not(:last-child)::after {content: \"\\00b7\"; padding: 0 .5ex}\n",
       "</style>\n",
       "<ol class=list-inline><li>100</li><li>5</li></ol>\n"
      ],
      "text/latex": [
       "\\begin{enumerate*}\n",
       "\\item 100\n",
       "\\item 5\n",
       "\\end{enumerate*}\n"
      ],
      "text/markdown": [
       "1. 100\n",
       "2. 5\n",
       "\n",
       "\n"
      ],
      "text/plain": [
       "[1] 100   5"
      ]
     },
     "metadata": {},
     "output_type": "display_data"
    }
   ],
   "source": [
    "dim(genesets_DF)"
   ]
  },
  {
   "cell_type": "code",
   "execution_count": 85,
   "id": "bb7fdb0f-e9b0-47a2-bae2-058d6e7394df",
   "metadata": {},
   "outputs": [],
   "source": [
    "genesets_DF = genesets_DF %>% rbind(geneExpression_DF)"
   ]
  },
  {
   "cell_type": "code",
   "execution_count": 86,
   "id": "7b100e06-3ec4-4242-a620-d0050504af85",
   "metadata": {},
   "outputs": [
    {
     "data": {
      "text/html": [
       "<style>\n",
       ".list-inline {list-style: none; margin:0; padding: 0}\n",
       ".list-inline>li {display: inline-block}\n",
       ".list-inline>li:not(:last-child)::after {content: \"\\00b7\"; padding: 0 .5ex}\n",
       "</style>\n",
       "<ol class=list-inline><li>125</li><li>5</li></ol>\n"
      ],
      "text/latex": [
       "\\begin{enumerate*}\n",
       "\\item 125\n",
       "\\item 5\n",
       "\\end{enumerate*}\n"
      ],
      "text/markdown": [
       "1. 125\n",
       "2. 5\n",
       "\n",
       "\n"
      ],
      "text/plain": [
       "[1] 125   5"
      ]
     },
     "metadata": {},
     "output_type": "display_data"
    }
   ],
   "source": [
    "dim(genesets_DF)"
   ]
  },
  {
   "cell_type": "markdown",
   "id": "74798c84-2dc6-46ae-be89-26b39fd46f15",
   "metadata": {},
   "source": [
    "### Perturbation"
   ]
  },
  {
   "cell_type": "code",
   "execution_count": 87,
   "id": "5571b5dc-b76a-4db4-b1d8-cb36c5fd77e2",
   "metadata": {},
   "outputs": [
    {
     "name": "stderr",
     "output_type": "stream",
     "text": [
      "\u001b[1m\u001b[22mNew names:\n",
      "\u001b[36m•\u001b[39m `` -> `...1`\n"
     ]
    }
   ],
   "source": [
    "perturbation_DF = read_xlsx(path = \"data/1-s2.0-S0092867422005979-mmc3.xlsx\", sheet = \"perturbation clusters\") %>%\n",
    "subset(!is.na(manual_annotation))  %>%\n",
    "select(c(\"members\", \"manual_annotation\")) %>%\n",
    "rowwise() %>%\n",
    "mutate(Source  = \"Perturbation\", \n",
    "       members = str_replace_all(string = members, pattern  = \",\", replacement =  \" \"),\n",
    "       n_Genes = length(str_split(string = members, pattern = \" \")[[1]])) %>%\n",
    "rename(GeneSetName = manual_annotation, \n",
    "       GeneList = members)%>%\n",
    "mutate(GeneSetID =  GeneSetName) %>%\n",
    "subset(n_Genes <= 200)"
   ]
  },
  {
   "cell_type": "code",
   "execution_count": 88,
   "id": "c6885c9c-6818-4382-a8bd-8bec24f6a414",
   "metadata": {},
   "outputs": [
    {
     "data": {
      "text/html": [
       "<style>\n",
       ".list-inline {list-style: none; margin:0; padding: 0}\n",
       ".list-inline>li {display: inline-block}\n",
       ".list-inline>li:not(:last-child)::after {content: \"\\00b7\"; padding: 0 .5ex}\n",
       "</style>\n",
       "<ol class=list-inline><li>48</li><li>5</li></ol>\n"
      ],
      "text/latex": [
       "\\begin{enumerate*}\n",
       "\\item 48\n",
       "\\item 5\n",
       "\\end{enumerate*}\n"
      ],
      "text/markdown": [
       "1. 48\n",
       "2. 5\n",
       "\n",
       "\n"
      ],
      "text/plain": [
       "[1] 48  5"
      ]
     },
     "metadata": {},
     "output_type": "display_data"
    }
   ],
   "source": [
    "dim(perturbation_DF)"
   ]
  },
  {
   "cell_type": "code",
   "execution_count": 89,
   "id": "4766359b-cd88-400b-9c8c-ecff2ab70833",
   "metadata": {},
   "outputs": [],
   "source": [
    "genesets_DF = genesets_DF %>% rbind(perturbation_DF)"
   ]
  },
  {
   "cell_type": "code",
   "execution_count": 90,
   "id": "5c9ed194-6ff7-4aee-bfa5-9d1b0fe3173d",
   "metadata": {},
   "outputs": [
    {
     "data": {
      "text/html": [
       "<style>\n",
       ".list-inline {list-style: none; margin:0; padding: 0}\n",
       ".list-inline>li {display: inline-block}\n",
       ".list-inline>li:not(:last-child)::after {content: \"\\00b7\"; padding: 0 .5ex}\n",
       "</style>\n",
       "<ol class=list-inline><li>173</li><li>5</li></ol>\n"
      ],
      "text/latex": [
       "\\begin{enumerate*}\n",
       "\\item 173\n",
       "\\item 5\n",
       "\\end{enumerate*}\n"
      ],
      "text/markdown": [
       "1. 173\n",
       "2. 5\n",
       "\n",
       "\n"
      ],
      "text/plain": [
       "[1] 173   5"
      ]
     },
     "metadata": {},
     "output_type": "display_data"
    }
   ],
   "source": [
    "dim(genesets_DF)"
   ]
  },
  {
   "cell_type": "code",
   "execution_count": 91,
   "id": "6b6039a2-3083-4a12-beb8-b5b2c0418e64",
   "metadata": {},
   "outputs": [
    {
     "data": {
      "text/html": [
       "77"
      ],
      "text/latex": [
       "77"
      ],
      "text/markdown": [
       "77"
      ],
      "text/plain": [
       "[1] 77"
      ]
     },
     "metadata": {},
     "output_type": "display_data"
    }
   ],
   "source": [
    "250 - 173 "
   ]
  },
  {
   "cell_type": "markdown",
   "id": "4e149766-71c7-4f20-b9db-ea05a78cbd4f",
   "metadata": {},
   "source": [
    "### Disease"
   ]
  },
  {
   "cell_type": "code",
   "execution_count": 33,
   "id": "5965bda8-967e-43ff-bae9-f73f6618cd10",
   "metadata": {
    "tags": []
   },
   "outputs": [
    {
     "name": "stderr",
     "output_type": "stream",
     "text": [
      "\n",
      "Attaching package: ‘disgenet2r’\n",
      "\n",
      "\n",
      "The following object is masked from ‘package:tidyr’:\n",
      "\n",
      "    extract\n",
      "\n",
      "\n"
     ]
    }
   ],
   "source": [
    "library(disgenet2r)\n",
    "library(getPass)"
   ]
  },
  {
   "cell_type": "code",
   "execution_count": 34,
   "id": "54421556-c77f-479b-898e-c56d8e35ace9",
   "metadata": {},
   "outputs": [
    {
     "name": "stdin",
     "output_type": "stream",
     "text": [
      "Enter the password:  ········\n"
     ]
    }
   ],
   "source": [
    "pass = getPass::getPass(\"Enter the password: \")"
   ]
  },
  {
   "cell_type": "code",
   "execution_count": 35,
   "id": "7f5753a9-d0fb-4625-a82b-60d093c71c63",
   "metadata": {},
   "outputs": [],
   "source": [
    "disgenet_api_key <- get_disgenet_api_key(\n",
    "                  email = \"salkhairy@ucsd.edu\", \n",
    "                  password = pass )"
   ]
  },
  {
   "cell_type": "code",
   "execution_count": 36,
   "id": "bb67f98f-3539-48d8-b66c-003eb178674e",
   "metadata": {},
   "outputs": [],
   "source": [
    "Sys.setenv(DISGENET_API_KEY= disgenet_api_key)"
   ]
  },
  {
   "cell_type": "code",
   "execution_count": 37,
   "id": "2fe64f9c-0441-4b70-aaf4-1c61aa59c1ce",
   "metadata": {},
   "outputs": [
    {
     "name": "stderr",
     "output_type": "stream",
     "text": [
      "\u001b[1mRows: \u001b[22m\u001b[34m30170\u001b[39m \u001b[1mColumns: \u001b[22m\u001b[34m7\u001b[39m\n",
      "\u001b[36m──\u001b[39m \u001b[1mColumn specification\u001b[22m \u001b[36m──────────────────────────────────────────────────────────────────────────────────────────────────────────\u001b[39m\n",
      "\u001b[1mDelimiter:\u001b[22m \"\\t\"\n",
      "\u001b[31mchr\u001b[39m (5): diseaseId, diseaseName, diseaseType, diseaseClass, diseaseSemanticType\n",
      "\u001b[32mdbl\u001b[39m (2): NofGenes, NofPmids\n",
      "\n",
      "\u001b[36mℹ\u001b[39m Use `spec()` to retrieve the full column specification for this data.\n",
      "\u001b[36mℹ\u001b[39m Specify the column types or set `show_col_types = FALSE` to quiet this message.\n"
     ]
    }
   ],
   "source": [
    "diseaseId_All_DF = read_delim(\"data/disease_associations.tsv\", delim = \"\\t\")\n"
   ]
  },
  {
   "cell_type": "code",
   "execution_count": 105,
   "id": "67105c81-d236-46b3-9f94-a518545423fe",
   "metadata": {},
   "outputs": [],
   "source": [
    "diseaseId_All_list_names = diseaseId_All_DF$diseaseName\n",
    "names(diseaseId_All_list_names) = diseaseId_All_DF$diseaseId"
   ]
  },
  {
   "cell_type": "code",
   "execution_count": 39,
   "id": "e41b9dd2-791d-4282-8f72-387ceeacf3aa",
   "metadata": {},
   "outputs": [
    {
     "data": {
      "text/html": [
       "<style>\n",
       ".dl-inline {width: auto; margin:0; padding: 0}\n",
       ".dl-inline>dt, .dl-inline>dd {float: none; width: auto; display: inline-block}\n",
       ".dl-inline>dt::after {content: \":\\0020\"; padding-right: .5ex}\n",
       ".dl-inline>dt:not(:first-of-type) {padding-left: .5ex}\n",
       "</style><dl class=dl-inline><dt>C0000727</dt><dd>'Abdomen, Acute'</dd><dt>C0000729</dt><dd>'Abdominal Cramps'</dd><dt>C0000731</dt><dd>'Abdomen distended'</dd><dt>C0000734</dt><dd>'Abdominal mass'</dd></dl>\n"
      ],
      "text/latex": [
       "\\begin{description*}\n",
       "\\item[C0000727] 'Abdomen, Acute'\n",
       "\\item[C0000729] 'Abdominal Cramps'\n",
       "\\item[C0000731] 'Abdomen distended'\n",
       "\\item[C0000734] 'Abdominal mass'\n",
       "\\end{description*}\n"
      ],
      "text/markdown": [
       "C0000727\n",
       ":   'Abdomen, Acute'C0000729\n",
       ":   'Abdominal Cramps'C0000731\n",
       ":   'Abdomen distended'C0000734\n",
       ":   'Abdominal mass'\n",
       "\n"
      ],
      "text/plain": [
       "           C0000727            C0000729            C0000731            C0000734 \n",
       "   \"Abdomen, Acute\"  \"Abdominal Cramps\" \"Abdomen distended\"    \"Abdominal mass\" "
      ]
     },
     "metadata": {},
     "output_type": "display_data"
    }
   ],
   "source": [
    "diseaseId_All_list[1:4]"
   ]
  },
  {
   "cell_type": "code",
   "execution_count": 104,
   "id": "13d2cd6c-ed66-4e83-9c2f-854379296a1e",
   "metadata": {
    "collapsed": true,
    "jupyter": {
     "outputs_hidden": true
    },
    "tags": []
   },
   "outputs": [
    {
     "data": {
      "text/html": [
       "<style>\n",
       ".list-inline {list-style: none; margin:0; padding: 0}\n",
       ".list-inline>li {display: inline-block}\n",
       ".list-inline>li:not(:last-child)::after {content: \"\\00b7\"; padding: 0 .5ex}\n",
       "</style>\n",
       "<ol class=list-inline><li>'C0000744'</li><li>'C0000809'</li><li>'C0000846'</li><li>'C0000880'</li><li>'C0000889'</li><li>'C0001080'</li><li>'C0001144'</li><li>'C0001193'</li><li>'C0001197'</li><li>'C0001206'</li><li>'C0001231'</li><li>'C0001306'</li><li>'C0001308'</li><li>'C0001311'</li><li>'C0001342'</li><li>'C0001344'</li><li>'C0001363'</li><li>'C0001403'</li><li>'C0001420'</li><li>'C0001422'</li><li>'C0001429'</li><li>'C0001442'</li><li>'C0001627'</li><li>'C0001733'</li><li>'C0001768'</li><li>'C0001787'</li><li>'C0001818'</li><li>'C0001824'</li><li>'C0001849'</li><li>'C0001857'</li><li>'C0001890'</li><li>'C0001916'</li><li>'C0001957'</li><li>'C0001969'</li><li>'C0002066'</li><li>'C0002103'</li><li>'C0002152'</li><li>'C0002171'</li><li>'C0002312'</li><li>'C0002382'</li><li>'C0002438'</li><li>'C0002448'</li><li>'C0002452'</li><li>'C0002622'</li><li>'C0002623'</li><li>'C0002624'</li><li>'C0002625'</li><li>'C0002690'</li><li>'C0002768'</li><li>'C0002875'</li><li>'C0002876'</li><li>'C0002878'</li><li>'C0002879'</li><li>'C0002880'</li><li>'C0002881'</li><li>'C0002882'</li><li>'C0002884'</li><li>'C0002886'</li><li>'C0002888'</li><li>'C0002889'</li><li>'C0002891'</li><li>'C0002892'</li><li>'C0002894'</li><li>'C0002896'</li><li>'C0002902'</li><li>'C0002940'</li><li>'C0002949'</li><li>'C0002963'</li><li>'C0002965'</li><li>'C0002982'</li><li>'C0002986'</li><li>'C0002989'</li><li>'C0002991'</li><li>'C0003028'</li><li>'C0003076'</li><li>'C0003081'</li><li>'C0003113'</li><li>'C0003119'</li><li>'C0003164'</li><li>'C0003165'</li><li>'C0003175'</li><li>'C0003257'</li><li>'C0003431'</li><li>'C0003466'</li><li>'C0003477'</li><li>'C0003492'</li><li>'C0003496'</li><li>'C0003499'</li><li>'C0003509'</li><li>'C0003534'</li><li>'C0003537'</li><li>'C0003550'</li><li>'C0003615'</li><li>'C0003706'</li><li>'C0003803'</li><li>'C0003810'</li><li>'C0003851'</li><li>'C0003857'</li><li>'C0003865'</li><li>'C0003886'</li><li>'C0003892'</li><li>'C0003907'</li><li>'C0003949'</li><li>'C0003969'</li><li>'C0004030'</li><li>'C0004031'</li><li>'C0004045'</li><li>'C0004099'</li><li>'C0004106'</li><li>'C0004138'</li><li>'C0004245'</li><li>'C0004269'</li><li>'C0004277'</li><li>'C0004565'</li><li>'C0004576'</li><li>'C0004606'</li><li>'C0004681'</li><li>'C0004698'</li><li>'C0004712'</li><li>'C0004775'</li><li>'C0004779'</li><li>'C0004903'</li><li>'C0004997'</li><li>'C0005122'</li><li>'C0005129'</li><li>'C0005138'</li><li>'C0005283'</li><li>'C0005398'</li><li>'C0005403'</li><li>'C0005411'</li><li>'C0005426'</li><li>'C0005587'</li><li>'C0005683'</li><li>'C0005689'</li><li>'C0005694'</li><li>'C0005697'</li><li>'C0005716'</li><li>'C0005741'</li><li>'C0005744'</li><li>'C0005747'</li><li>'C0005750'</li><li>'C0005754'</li><li>'C0005806'</li><li>'C0005859'</li><li>'C0005866'</li><li>'C0005937'</li><li>'C0006009'</li><li>'C0006023'</li><li>'C0006060'</li><li>'C0006079'</li><li>'C0006105'</li><li>'C0006131'</li><li>'C0006144'</li><li>'C0006160'</li><li>'C0006266'</li><li>'C0006267'</li><li>'C0006271'</li><li>'C0006272'</li><li>'C0006274'</li><li>'C0006277'</li><li>'C0006285'</li><li>'C0006288'</li><li>'C0006309'</li><li>'C0006370'</li><li>'C0006430'</li><li>'C0006444'</li><li>'C0006635'</li><li>'C0006664'</li><li>'C0006666'</li><li>'C0006818'</li><li>'C0006840'</li><li>'C0006845'</li><li>'C0006846'</li><li>'C0006848'</li><li>'C0006849'</li><li>'C0006852'</li><li>'C0006868'</li><li>'C0006870'</li><li>'C0007104'</li><li>'C0007117'</li><li>'C0007118'</li><li>'C0007120'</li><li>'C0007121'</li><li>'C0007125'</li><li>'C0007130'</li><li>'C0007135'</li><li>'C0007140'</li><li>'C0007177'</li><li>'C0007192'</li><li>'C0007196'</li><li>'C0007274'</li><li>'C0007279'</li><li>'C0007282'</li><li>'C0007286'</li><li>'C0007361'</li><li>'C0007370'</li><li>'C0007384'</li><li>'C0007398'</li><li>'C0007659'</li><li>'C0007688'</li><li>⋯</li><li>'C4551647'</li><li>'C4551649'</li><li>'C4551650'</li><li>'C4551675'</li><li>'C4551680'</li><li>'C4551689'</li><li>'C4551691'</li><li>'C4551693'</li><li>'C4551702'</li><li>'C4551714'</li><li>'C4551715'</li><li>'C4551720'</li><li>'C4551722'</li><li>'C4551771'</li><li>'C4551804'</li><li>'C4551825'</li><li>'C4551835'</li><li>'C4551851'</li><li>'C4551854'</li><li>'C4551856'</li><li>'C4551858'</li><li>'C4551860'</li><li>'C4551861'</li><li>'C4551862'</li><li>'C4551863'</li><li>'C4551893'</li><li>'C4551898'</li><li>'C4551902'</li><li>'C4551903'</li><li>'C4551906'</li><li>'C4551910'</li><li>'C4551951'</li><li>'C4551952'</li><li>'C4551955'</li><li>'C4551957'</li><li>'C4551961'</li><li>'C4551969'</li><li>'C4551972'</li><li>'C4551973'</li><li>'C4551976'</li><li>'C4551977'</li><li>'C4551979'</li><li>'C4551984'</li><li>'C4551993'</li><li>'C4552000'</li><li>'C4552003'</li><li>'C4552011'</li><li>'C4552070'</li><li>'C4552072'</li><li>'C4552079'</li><li>'C4552089'</li><li>'C4552091'</li><li>'C4552097'</li><li>'C4552100'</li><li>'C4552122'</li><li>'C4552213'</li><li>'C4552224'</li><li>'C4552318'</li><li>'C4552332'</li><li>'C4552482'</li><li>'C4552513'</li><li>'C4552543'</li><li>'C4552765'</li><li>'C4553088'</li><li>'C4553297'</li><li>'C4553569'</li><li>'C4553705'</li><li>'C4554007'</li><li>'C4554010'</li><li>'C4554117'</li><li>'C4554215'</li><li>'C4554344'</li><li>'C4554601'</li><li>'C4684861'</li><li>'C4684865'</li><li>'C4684879'</li><li>'C4684880'</li><li>'C4684942'</li><li>'C4687396'</li><li>'C4687446'</li><li>'C4688007'</li><li>'C4688308'</li><li>'C4688316'</li><li>'C4688318'</li><li>'C4692625'</li><li>'C4694057'</li><li>'C4698656'</li><li>'C4698657'</li><li>'C4699152'</li><li>'C4699184'</li><li>'C4699508'</li><li>'C4699512'</li><li>'C4700045'</li><li>'C4700085'</li><li>'C4704767'</li><li>'C4704862'</li><li>'C4706503'</li><li>'C4706552'</li><li>'C4707057'</li><li>'C4707237'</li><li>'C4707243'</li><li>'C4707658'</li><li>'C4708599'</li><li>'C4721208'</li><li>'C4721209'</li><li>'C4721412'</li><li>'C4721413'</li><li>'C4721421'</li><li>'C4721438'</li><li>'C4721444'</li><li>'C4721452'</li><li>'C4721505'</li><li>'C4721507'</li><li>'C4721508'</li><li>'C4721509'</li><li>'C4721530'</li><li>'C4721541'</li><li>'C4721555'</li><li>'C4721567'</li><li>'C4721666'</li><li>'C4721698'</li><li>'C4721766'</li><li>'C4721769'</li><li>'C4721779'</li><li>'C4721845'</li><li>'C4721859'</li><li>'C4721893'</li><li>'C4721916'</li><li>'C4721919'</li><li>'C4721952'</li><li>'C4722099'</li><li>'C4722172'</li><li>'C4722277'</li><li>'C4722306'</li><li>'C4722327'</li><li>'C4722328'</li><li>'C4722330'</li><li>'C4722419'</li><li>'C4722446'</li><li>'C4723619'</li><li>'C4723838'</li><li>'C4725024'</li><li>'C4725076'</li><li>'C4725091'</li><li>'C4725092'</li><li>'C4725093'</li><li>'C4725671'</li><li>'C4725861'</li><li>'C4726566'</li><li>'C4726609'</li><li>'C4727002'</li><li>'C4727069'</li><li>'C4727070'</li><li>'C4727087'</li><li>'C4727169'</li><li>'C4727179'</li><li>'C4727182'</li><li>'C4727578'</li><li>'C4727687'</li><li>'C4727838'</li><li>'C4727916'</li><li>'C4727981'</li><li>'C4727985'</li><li>'C4728019'</li><li>'C4728035'</li><li>'C4728046'</li><li>'C4728047'</li><li>'C4728082'</li><li>'C4728213'</li><li>'C4728219'</li><li>'C4728223'</li><li>'C4732730'</li><li>'C4732796'</li><li>'C4733093'</li><li>'C4733094'</li><li>'C4733095'</li><li>'C4733227'</li><li>'C4733331'</li><li>'C4733333'</li><li>'C4733538'</li><li>'C4739246'</li><li>'C4743661'</li><li>'C4744444'</li><li>'C4744564'</li><li>'C4744565'</li><li>'C4744712'</li><li>'C4744720'</li><li>'C4745063'</li><li>'C4745160'</li><li>'C4749274'</li><li>'C4749304'</li><li>'C4749333'</li><li>'C4749367'</li><li>'C4750288'</li><li>'C4750718'</li><li>'C4755264'</li><li>'C4755296'</li><li>'C4755308'</li><li>'C4757950'</li><li>'C4759295'</li></ol>\n"
      ],
      "text/latex": [
       "\\begin{enumerate*}\n",
       "\\item 'C0000744'\n",
       "\\item 'C0000809'\n",
       "\\item 'C0000846'\n",
       "\\item 'C0000880'\n",
       "\\item 'C0000889'\n",
       "\\item 'C0001080'\n",
       "\\item 'C0001144'\n",
       "\\item 'C0001193'\n",
       "\\item 'C0001197'\n",
       "\\item 'C0001206'\n",
       "\\item 'C0001231'\n",
       "\\item 'C0001306'\n",
       "\\item 'C0001308'\n",
       "\\item 'C0001311'\n",
       "\\item 'C0001342'\n",
       "\\item 'C0001344'\n",
       "\\item 'C0001363'\n",
       "\\item 'C0001403'\n",
       "\\item 'C0001420'\n",
       "\\item 'C0001422'\n",
       "\\item 'C0001429'\n",
       "\\item 'C0001442'\n",
       "\\item 'C0001627'\n",
       "\\item 'C0001733'\n",
       "\\item 'C0001768'\n",
       "\\item 'C0001787'\n",
       "\\item 'C0001818'\n",
       "\\item 'C0001824'\n",
       "\\item 'C0001849'\n",
       "\\item 'C0001857'\n",
       "\\item 'C0001890'\n",
       "\\item 'C0001916'\n",
       "\\item 'C0001957'\n",
       "\\item 'C0001969'\n",
       "\\item 'C0002066'\n",
       "\\item 'C0002103'\n",
       "\\item 'C0002152'\n",
       "\\item 'C0002171'\n",
       "\\item 'C0002312'\n",
       "\\item 'C0002382'\n",
       "\\item 'C0002438'\n",
       "\\item 'C0002448'\n",
       "\\item 'C0002452'\n",
       "\\item 'C0002622'\n",
       "\\item 'C0002623'\n",
       "\\item 'C0002624'\n",
       "\\item 'C0002625'\n",
       "\\item 'C0002690'\n",
       "\\item 'C0002768'\n",
       "\\item 'C0002875'\n",
       "\\item 'C0002876'\n",
       "\\item 'C0002878'\n",
       "\\item 'C0002879'\n",
       "\\item 'C0002880'\n",
       "\\item 'C0002881'\n",
       "\\item 'C0002882'\n",
       "\\item 'C0002884'\n",
       "\\item 'C0002886'\n",
       "\\item 'C0002888'\n",
       "\\item 'C0002889'\n",
       "\\item 'C0002891'\n",
       "\\item 'C0002892'\n",
       "\\item 'C0002894'\n",
       "\\item 'C0002896'\n",
       "\\item 'C0002902'\n",
       "\\item 'C0002940'\n",
       "\\item 'C0002949'\n",
       "\\item 'C0002963'\n",
       "\\item 'C0002965'\n",
       "\\item 'C0002982'\n",
       "\\item 'C0002986'\n",
       "\\item 'C0002989'\n",
       "\\item 'C0002991'\n",
       "\\item 'C0003028'\n",
       "\\item 'C0003076'\n",
       "\\item 'C0003081'\n",
       "\\item 'C0003113'\n",
       "\\item 'C0003119'\n",
       "\\item 'C0003164'\n",
       "\\item 'C0003165'\n",
       "\\item 'C0003175'\n",
       "\\item 'C0003257'\n",
       "\\item 'C0003431'\n",
       "\\item 'C0003466'\n",
       "\\item 'C0003477'\n",
       "\\item 'C0003492'\n",
       "\\item 'C0003496'\n",
       "\\item 'C0003499'\n",
       "\\item 'C0003509'\n",
       "\\item 'C0003534'\n",
       "\\item 'C0003537'\n",
       "\\item 'C0003550'\n",
       "\\item 'C0003615'\n",
       "\\item 'C0003706'\n",
       "\\item 'C0003803'\n",
       "\\item 'C0003810'\n",
       "\\item 'C0003851'\n",
       "\\item 'C0003857'\n",
       "\\item 'C0003865'\n",
       "\\item 'C0003886'\n",
       "\\item 'C0003892'\n",
       "\\item 'C0003907'\n",
       "\\item 'C0003949'\n",
       "\\item 'C0003969'\n",
       "\\item 'C0004030'\n",
       "\\item 'C0004031'\n",
       "\\item 'C0004045'\n",
       "\\item 'C0004099'\n",
       "\\item 'C0004106'\n",
       "\\item 'C0004138'\n",
       "\\item 'C0004245'\n",
       "\\item 'C0004269'\n",
       "\\item 'C0004277'\n",
       "\\item 'C0004565'\n",
       "\\item 'C0004576'\n",
       "\\item 'C0004606'\n",
       "\\item 'C0004681'\n",
       "\\item 'C0004698'\n",
       "\\item 'C0004712'\n",
       "\\item 'C0004775'\n",
       "\\item 'C0004779'\n",
       "\\item 'C0004903'\n",
       "\\item 'C0004997'\n",
       "\\item 'C0005122'\n",
       "\\item 'C0005129'\n",
       "\\item 'C0005138'\n",
       "\\item 'C0005283'\n",
       "\\item 'C0005398'\n",
       "\\item 'C0005403'\n",
       "\\item 'C0005411'\n",
       "\\item 'C0005426'\n",
       "\\item 'C0005587'\n",
       "\\item 'C0005683'\n",
       "\\item 'C0005689'\n",
       "\\item 'C0005694'\n",
       "\\item 'C0005697'\n",
       "\\item 'C0005716'\n",
       "\\item 'C0005741'\n",
       "\\item 'C0005744'\n",
       "\\item 'C0005747'\n",
       "\\item 'C0005750'\n",
       "\\item 'C0005754'\n",
       "\\item 'C0005806'\n",
       "\\item 'C0005859'\n",
       "\\item 'C0005866'\n",
       "\\item 'C0005937'\n",
       "\\item 'C0006009'\n",
       "\\item 'C0006023'\n",
       "\\item 'C0006060'\n",
       "\\item 'C0006079'\n",
       "\\item 'C0006105'\n",
       "\\item 'C0006131'\n",
       "\\item 'C0006144'\n",
       "\\item 'C0006160'\n",
       "\\item 'C0006266'\n",
       "\\item 'C0006267'\n",
       "\\item 'C0006271'\n",
       "\\item 'C0006272'\n",
       "\\item 'C0006274'\n",
       "\\item 'C0006277'\n",
       "\\item 'C0006285'\n",
       "\\item 'C0006288'\n",
       "\\item 'C0006309'\n",
       "\\item 'C0006370'\n",
       "\\item 'C0006430'\n",
       "\\item 'C0006444'\n",
       "\\item 'C0006635'\n",
       "\\item 'C0006664'\n",
       "\\item 'C0006666'\n",
       "\\item 'C0006818'\n",
       "\\item 'C0006840'\n",
       "\\item 'C0006845'\n",
       "\\item 'C0006846'\n",
       "\\item 'C0006848'\n",
       "\\item 'C0006849'\n",
       "\\item 'C0006852'\n",
       "\\item 'C0006868'\n",
       "\\item 'C0006870'\n",
       "\\item 'C0007104'\n",
       "\\item 'C0007117'\n",
       "\\item 'C0007118'\n",
       "\\item 'C0007120'\n",
       "\\item 'C0007121'\n",
       "\\item 'C0007125'\n",
       "\\item 'C0007130'\n",
       "\\item 'C0007135'\n",
       "\\item 'C0007140'\n",
       "\\item 'C0007177'\n",
       "\\item 'C0007192'\n",
       "\\item 'C0007196'\n",
       "\\item 'C0007274'\n",
       "\\item 'C0007279'\n",
       "\\item 'C0007282'\n",
       "\\item 'C0007286'\n",
       "\\item 'C0007361'\n",
       "\\item 'C0007370'\n",
       "\\item 'C0007384'\n",
       "\\item 'C0007398'\n",
       "\\item 'C0007659'\n",
       "\\item 'C0007688'\n",
       "\\item ⋯\n",
       "\\item 'C4551647'\n",
       "\\item 'C4551649'\n",
       "\\item 'C4551650'\n",
       "\\item 'C4551675'\n",
       "\\item 'C4551680'\n",
       "\\item 'C4551689'\n",
       "\\item 'C4551691'\n",
       "\\item 'C4551693'\n",
       "\\item 'C4551702'\n",
       "\\item 'C4551714'\n",
       "\\item 'C4551715'\n",
       "\\item 'C4551720'\n",
       "\\item 'C4551722'\n",
       "\\item 'C4551771'\n",
       "\\item 'C4551804'\n",
       "\\item 'C4551825'\n",
       "\\item 'C4551835'\n",
       "\\item 'C4551851'\n",
       "\\item 'C4551854'\n",
       "\\item 'C4551856'\n",
       "\\item 'C4551858'\n",
       "\\item 'C4551860'\n",
       "\\item 'C4551861'\n",
       "\\item 'C4551862'\n",
       "\\item 'C4551863'\n",
       "\\item 'C4551893'\n",
       "\\item 'C4551898'\n",
       "\\item 'C4551902'\n",
       "\\item 'C4551903'\n",
       "\\item 'C4551906'\n",
       "\\item 'C4551910'\n",
       "\\item 'C4551951'\n",
       "\\item 'C4551952'\n",
       "\\item 'C4551955'\n",
       "\\item 'C4551957'\n",
       "\\item 'C4551961'\n",
       "\\item 'C4551969'\n",
       "\\item 'C4551972'\n",
       "\\item 'C4551973'\n",
       "\\item 'C4551976'\n",
       "\\item 'C4551977'\n",
       "\\item 'C4551979'\n",
       "\\item 'C4551984'\n",
       "\\item 'C4551993'\n",
       "\\item 'C4552000'\n",
       "\\item 'C4552003'\n",
       "\\item 'C4552011'\n",
       "\\item 'C4552070'\n",
       "\\item 'C4552072'\n",
       "\\item 'C4552079'\n",
       "\\item 'C4552089'\n",
       "\\item 'C4552091'\n",
       "\\item 'C4552097'\n",
       "\\item 'C4552100'\n",
       "\\item 'C4552122'\n",
       "\\item 'C4552213'\n",
       "\\item 'C4552224'\n",
       "\\item 'C4552318'\n",
       "\\item 'C4552332'\n",
       "\\item 'C4552482'\n",
       "\\item 'C4552513'\n",
       "\\item 'C4552543'\n",
       "\\item 'C4552765'\n",
       "\\item 'C4553088'\n",
       "\\item 'C4553297'\n",
       "\\item 'C4553569'\n",
       "\\item 'C4553705'\n",
       "\\item 'C4554007'\n",
       "\\item 'C4554010'\n",
       "\\item 'C4554117'\n",
       "\\item 'C4554215'\n",
       "\\item 'C4554344'\n",
       "\\item 'C4554601'\n",
       "\\item 'C4684861'\n",
       "\\item 'C4684865'\n",
       "\\item 'C4684879'\n",
       "\\item 'C4684880'\n",
       "\\item 'C4684942'\n",
       "\\item 'C4687396'\n",
       "\\item 'C4687446'\n",
       "\\item 'C4688007'\n",
       "\\item 'C4688308'\n",
       "\\item 'C4688316'\n",
       "\\item 'C4688318'\n",
       "\\item 'C4692625'\n",
       "\\item 'C4694057'\n",
       "\\item 'C4698656'\n",
       "\\item 'C4698657'\n",
       "\\item 'C4699152'\n",
       "\\item 'C4699184'\n",
       "\\item 'C4699508'\n",
       "\\item 'C4699512'\n",
       "\\item 'C4700045'\n",
       "\\item 'C4700085'\n",
       "\\item 'C4704767'\n",
       "\\item 'C4704862'\n",
       "\\item 'C4706503'\n",
       "\\item 'C4706552'\n",
       "\\item 'C4707057'\n",
       "\\item 'C4707237'\n",
       "\\item 'C4707243'\n",
       "\\item 'C4707658'\n",
       "\\item 'C4708599'\n",
       "\\item 'C4721208'\n",
       "\\item 'C4721209'\n",
       "\\item 'C4721412'\n",
       "\\item 'C4721413'\n",
       "\\item 'C4721421'\n",
       "\\item 'C4721438'\n",
       "\\item 'C4721444'\n",
       "\\item 'C4721452'\n",
       "\\item 'C4721505'\n",
       "\\item 'C4721507'\n",
       "\\item 'C4721508'\n",
       "\\item 'C4721509'\n",
       "\\item 'C4721530'\n",
       "\\item 'C4721541'\n",
       "\\item 'C4721555'\n",
       "\\item 'C4721567'\n",
       "\\item 'C4721666'\n",
       "\\item 'C4721698'\n",
       "\\item 'C4721766'\n",
       "\\item 'C4721769'\n",
       "\\item 'C4721779'\n",
       "\\item 'C4721845'\n",
       "\\item 'C4721859'\n",
       "\\item 'C4721893'\n",
       "\\item 'C4721916'\n",
       "\\item 'C4721919'\n",
       "\\item 'C4721952'\n",
       "\\item 'C4722099'\n",
       "\\item 'C4722172'\n",
       "\\item 'C4722277'\n",
       "\\item 'C4722306'\n",
       "\\item 'C4722327'\n",
       "\\item 'C4722328'\n",
       "\\item 'C4722330'\n",
       "\\item 'C4722419'\n",
       "\\item 'C4722446'\n",
       "\\item 'C4723619'\n",
       "\\item 'C4723838'\n",
       "\\item 'C4725024'\n",
       "\\item 'C4725076'\n",
       "\\item 'C4725091'\n",
       "\\item 'C4725092'\n",
       "\\item 'C4725093'\n",
       "\\item 'C4725671'\n",
       "\\item 'C4725861'\n",
       "\\item 'C4726566'\n",
       "\\item 'C4726609'\n",
       "\\item 'C4727002'\n",
       "\\item 'C4727069'\n",
       "\\item 'C4727070'\n",
       "\\item 'C4727087'\n",
       "\\item 'C4727169'\n",
       "\\item 'C4727179'\n",
       "\\item 'C4727182'\n",
       "\\item 'C4727578'\n",
       "\\item 'C4727687'\n",
       "\\item 'C4727838'\n",
       "\\item 'C4727916'\n",
       "\\item 'C4727981'\n",
       "\\item 'C4727985'\n",
       "\\item 'C4728019'\n",
       "\\item 'C4728035'\n",
       "\\item 'C4728046'\n",
       "\\item 'C4728047'\n",
       "\\item 'C4728082'\n",
       "\\item 'C4728213'\n",
       "\\item 'C4728219'\n",
       "\\item 'C4728223'\n",
       "\\item 'C4732730'\n",
       "\\item 'C4732796'\n",
       "\\item 'C4733093'\n",
       "\\item 'C4733094'\n",
       "\\item 'C4733095'\n",
       "\\item 'C4733227'\n",
       "\\item 'C4733331'\n",
       "\\item 'C4733333'\n",
       "\\item 'C4733538'\n",
       "\\item 'C4739246'\n",
       "\\item 'C4743661'\n",
       "\\item 'C4744444'\n",
       "\\item 'C4744564'\n",
       "\\item 'C4744565'\n",
       "\\item 'C4744712'\n",
       "\\item 'C4744720'\n",
       "\\item 'C4745063'\n",
       "\\item 'C4745160'\n",
       "\\item 'C4749274'\n",
       "\\item 'C4749304'\n",
       "\\item 'C4749333'\n",
       "\\item 'C4749367'\n",
       "\\item 'C4750288'\n",
       "\\item 'C4750718'\n",
       "\\item 'C4755264'\n",
       "\\item 'C4755296'\n",
       "\\item 'C4755308'\n",
       "\\item 'C4757950'\n",
       "\\item 'C4759295'\n",
       "\\end{enumerate*}\n"
      ],
      "text/markdown": [
       "1. 'C0000744'\n",
       "2. 'C0000809'\n",
       "3. 'C0000846'\n",
       "4. 'C0000880'\n",
       "5. 'C0000889'\n",
       "6. 'C0001080'\n",
       "7. 'C0001144'\n",
       "8. 'C0001193'\n",
       "9. 'C0001197'\n",
       "10. 'C0001206'\n",
       "11. 'C0001231'\n",
       "12. 'C0001306'\n",
       "13. 'C0001308'\n",
       "14. 'C0001311'\n",
       "15. 'C0001342'\n",
       "16. 'C0001344'\n",
       "17. 'C0001363'\n",
       "18. 'C0001403'\n",
       "19. 'C0001420'\n",
       "20. 'C0001422'\n",
       "21. 'C0001429'\n",
       "22. 'C0001442'\n",
       "23. 'C0001627'\n",
       "24. 'C0001733'\n",
       "25. 'C0001768'\n",
       "26. 'C0001787'\n",
       "27. 'C0001818'\n",
       "28. 'C0001824'\n",
       "29. 'C0001849'\n",
       "30. 'C0001857'\n",
       "31. 'C0001890'\n",
       "32. 'C0001916'\n",
       "33. 'C0001957'\n",
       "34. 'C0001969'\n",
       "35. 'C0002066'\n",
       "36. 'C0002103'\n",
       "37. 'C0002152'\n",
       "38. 'C0002171'\n",
       "39. 'C0002312'\n",
       "40. 'C0002382'\n",
       "41. 'C0002438'\n",
       "42. 'C0002448'\n",
       "43. 'C0002452'\n",
       "44. 'C0002622'\n",
       "45. 'C0002623'\n",
       "46. 'C0002624'\n",
       "47. 'C0002625'\n",
       "48. 'C0002690'\n",
       "49. 'C0002768'\n",
       "50. 'C0002875'\n",
       "51. 'C0002876'\n",
       "52. 'C0002878'\n",
       "53. 'C0002879'\n",
       "54. 'C0002880'\n",
       "55. 'C0002881'\n",
       "56. 'C0002882'\n",
       "57. 'C0002884'\n",
       "58. 'C0002886'\n",
       "59. 'C0002888'\n",
       "60. 'C0002889'\n",
       "61. 'C0002891'\n",
       "62. 'C0002892'\n",
       "63. 'C0002894'\n",
       "64. 'C0002896'\n",
       "65. 'C0002902'\n",
       "66. 'C0002940'\n",
       "67. 'C0002949'\n",
       "68. 'C0002963'\n",
       "69. 'C0002965'\n",
       "70. 'C0002982'\n",
       "71. 'C0002986'\n",
       "72. 'C0002989'\n",
       "73. 'C0002991'\n",
       "74. 'C0003028'\n",
       "75. 'C0003076'\n",
       "76. 'C0003081'\n",
       "77. 'C0003113'\n",
       "78. 'C0003119'\n",
       "79. 'C0003164'\n",
       "80. 'C0003165'\n",
       "81. 'C0003175'\n",
       "82. 'C0003257'\n",
       "83. 'C0003431'\n",
       "84. 'C0003466'\n",
       "85. 'C0003477'\n",
       "86. 'C0003492'\n",
       "87. 'C0003496'\n",
       "88. 'C0003499'\n",
       "89. 'C0003509'\n",
       "90. 'C0003534'\n",
       "91. 'C0003537'\n",
       "92. 'C0003550'\n",
       "93. 'C0003615'\n",
       "94. 'C0003706'\n",
       "95. 'C0003803'\n",
       "96. 'C0003810'\n",
       "97. 'C0003851'\n",
       "98. 'C0003857'\n",
       "99. 'C0003865'\n",
       "100. 'C0003886'\n",
       "101. 'C0003892'\n",
       "102. 'C0003907'\n",
       "103. 'C0003949'\n",
       "104. 'C0003969'\n",
       "105. 'C0004030'\n",
       "106. 'C0004031'\n",
       "107. 'C0004045'\n",
       "108. 'C0004099'\n",
       "109. 'C0004106'\n",
       "110. 'C0004138'\n",
       "111. 'C0004245'\n",
       "112. 'C0004269'\n",
       "113. 'C0004277'\n",
       "114. 'C0004565'\n",
       "115. 'C0004576'\n",
       "116. 'C0004606'\n",
       "117. 'C0004681'\n",
       "118. 'C0004698'\n",
       "119. 'C0004712'\n",
       "120. 'C0004775'\n",
       "121. 'C0004779'\n",
       "122. 'C0004903'\n",
       "123. 'C0004997'\n",
       "124. 'C0005122'\n",
       "125. 'C0005129'\n",
       "126. 'C0005138'\n",
       "127. 'C0005283'\n",
       "128. 'C0005398'\n",
       "129. 'C0005403'\n",
       "130. 'C0005411'\n",
       "131. 'C0005426'\n",
       "132. 'C0005587'\n",
       "133. 'C0005683'\n",
       "134. 'C0005689'\n",
       "135. 'C0005694'\n",
       "136. 'C0005697'\n",
       "137. 'C0005716'\n",
       "138. 'C0005741'\n",
       "139. 'C0005744'\n",
       "140. 'C0005747'\n",
       "141. 'C0005750'\n",
       "142. 'C0005754'\n",
       "143. 'C0005806'\n",
       "144. 'C0005859'\n",
       "145. 'C0005866'\n",
       "146. 'C0005937'\n",
       "147. 'C0006009'\n",
       "148. 'C0006023'\n",
       "149. 'C0006060'\n",
       "150. 'C0006079'\n",
       "151. 'C0006105'\n",
       "152. 'C0006131'\n",
       "153. 'C0006144'\n",
       "154. 'C0006160'\n",
       "155. 'C0006266'\n",
       "156. 'C0006267'\n",
       "157. 'C0006271'\n",
       "158. 'C0006272'\n",
       "159. 'C0006274'\n",
       "160. 'C0006277'\n",
       "161. 'C0006285'\n",
       "162. 'C0006288'\n",
       "163. 'C0006309'\n",
       "164. 'C0006370'\n",
       "165. 'C0006430'\n",
       "166. 'C0006444'\n",
       "167. 'C0006635'\n",
       "168. 'C0006664'\n",
       "169. 'C0006666'\n",
       "170. 'C0006818'\n",
       "171. 'C0006840'\n",
       "172. 'C0006845'\n",
       "173. 'C0006846'\n",
       "174. 'C0006848'\n",
       "175. 'C0006849'\n",
       "176. 'C0006852'\n",
       "177. 'C0006868'\n",
       "178. 'C0006870'\n",
       "179. 'C0007104'\n",
       "180. 'C0007117'\n",
       "181. 'C0007118'\n",
       "182. 'C0007120'\n",
       "183. 'C0007121'\n",
       "184. 'C0007125'\n",
       "185. 'C0007130'\n",
       "186. 'C0007135'\n",
       "187. 'C0007140'\n",
       "188. 'C0007177'\n",
       "189. 'C0007192'\n",
       "190. 'C0007196'\n",
       "191. 'C0007274'\n",
       "192. 'C0007279'\n",
       "193. 'C0007282'\n",
       "194. 'C0007286'\n",
       "195. 'C0007361'\n",
       "196. 'C0007370'\n",
       "197. 'C0007384'\n",
       "198. 'C0007398'\n",
       "199. 'C0007659'\n",
       "200. 'C0007688'\n",
       "201. ⋯\n",
       "202. 'C4551647'\n",
       "203. 'C4551649'\n",
       "204. 'C4551650'\n",
       "205. 'C4551675'\n",
       "206. 'C4551680'\n",
       "207. 'C4551689'\n",
       "208. 'C4551691'\n",
       "209. 'C4551693'\n",
       "210. 'C4551702'\n",
       "211. 'C4551714'\n",
       "212. 'C4551715'\n",
       "213. 'C4551720'\n",
       "214. 'C4551722'\n",
       "215. 'C4551771'\n",
       "216. 'C4551804'\n",
       "217. 'C4551825'\n",
       "218. 'C4551835'\n",
       "219. 'C4551851'\n",
       "220. 'C4551854'\n",
       "221. 'C4551856'\n",
       "222. 'C4551858'\n",
       "223. 'C4551860'\n",
       "224. 'C4551861'\n",
       "225. 'C4551862'\n",
       "226. 'C4551863'\n",
       "227. 'C4551893'\n",
       "228. 'C4551898'\n",
       "229. 'C4551902'\n",
       "230. 'C4551903'\n",
       "231. 'C4551906'\n",
       "232. 'C4551910'\n",
       "233. 'C4551951'\n",
       "234. 'C4551952'\n",
       "235. 'C4551955'\n",
       "236. 'C4551957'\n",
       "237. 'C4551961'\n",
       "238. 'C4551969'\n",
       "239. 'C4551972'\n",
       "240. 'C4551973'\n",
       "241. 'C4551976'\n",
       "242. 'C4551977'\n",
       "243. 'C4551979'\n",
       "244. 'C4551984'\n",
       "245. 'C4551993'\n",
       "246. 'C4552000'\n",
       "247. 'C4552003'\n",
       "248. 'C4552011'\n",
       "249. 'C4552070'\n",
       "250. 'C4552072'\n",
       "251. 'C4552079'\n",
       "252. 'C4552089'\n",
       "253. 'C4552091'\n",
       "254. 'C4552097'\n",
       "255. 'C4552100'\n",
       "256. 'C4552122'\n",
       "257. 'C4552213'\n",
       "258. 'C4552224'\n",
       "259. 'C4552318'\n",
       "260. 'C4552332'\n",
       "261. 'C4552482'\n",
       "262. 'C4552513'\n",
       "263. 'C4552543'\n",
       "264. 'C4552765'\n",
       "265. 'C4553088'\n",
       "266. 'C4553297'\n",
       "267. 'C4553569'\n",
       "268. 'C4553705'\n",
       "269. 'C4554007'\n",
       "270. 'C4554010'\n",
       "271. 'C4554117'\n",
       "272. 'C4554215'\n",
       "273. 'C4554344'\n",
       "274. 'C4554601'\n",
       "275. 'C4684861'\n",
       "276. 'C4684865'\n",
       "277. 'C4684879'\n",
       "278. 'C4684880'\n",
       "279. 'C4684942'\n",
       "280. 'C4687396'\n",
       "281. 'C4687446'\n",
       "282. 'C4688007'\n",
       "283. 'C4688308'\n",
       "284. 'C4688316'\n",
       "285. 'C4688318'\n",
       "286. 'C4692625'\n",
       "287. 'C4694057'\n",
       "288. 'C4698656'\n",
       "289. 'C4698657'\n",
       "290. 'C4699152'\n",
       "291. 'C4699184'\n",
       "292. 'C4699508'\n",
       "293. 'C4699512'\n",
       "294. 'C4700045'\n",
       "295. 'C4700085'\n",
       "296. 'C4704767'\n",
       "297. 'C4704862'\n",
       "298. 'C4706503'\n",
       "299. 'C4706552'\n",
       "300. 'C4707057'\n",
       "301. 'C4707237'\n",
       "302. 'C4707243'\n",
       "303. 'C4707658'\n",
       "304. 'C4708599'\n",
       "305. 'C4721208'\n",
       "306. 'C4721209'\n",
       "307. 'C4721412'\n",
       "308. 'C4721413'\n",
       "309. 'C4721421'\n",
       "310. 'C4721438'\n",
       "311. 'C4721444'\n",
       "312. 'C4721452'\n",
       "313. 'C4721505'\n",
       "314. 'C4721507'\n",
       "315. 'C4721508'\n",
       "316. 'C4721509'\n",
       "317. 'C4721530'\n",
       "318. 'C4721541'\n",
       "319. 'C4721555'\n",
       "320. 'C4721567'\n",
       "321. 'C4721666'\n",
       "322. 'C4721698'\n",
       "323. 'C4721766'\n",
       "324. 'C4721769'\n",
       "325. 'C4721779'\n",
       "326. 'C4721845'\n",
       "327. 'C4721859'\n",
       "328. 'C4721893'\n",
       "329. 'C4721916'\n",
       "330. 'C4721919'\n",
       "331. 'C4721952'\n",
       "332. 'C4722099'\n",
       "333. 'C4722172'\n",
       "334. 'C4722277'\n",
       "335. 'C4722306'\n",
       "336. 'C4722327'\n",
       "337. 'C4722328'\n",
       "338. 'C4722330'\n",
       "339. 'C4722419'\n",
       "340. 'C4722446'\n",
       "341. 'C4723619'\n",
       "342. 'C4723838'\n",
       "343. 'C4725024'\n",
       "344. 'C4725076'\n",
       "345. 'C4725091'\n",
       "346. 'C4725092'\n",
       "347. 'C4725093'\n",
       "348. 'C4725671'\n",
       "349. 'C4725861'\n",
       "350. 'C4726566'\n",
       "351. 'C4726609'\n",
       "352. 'C4727002'\n",
       "353. 'C4727069'\n",
       "354. 'C4727070'\n",
       "355. 'C4727087'\n",
       "356. 'C4727169'\n",
       "357. 'C4727179'\n",
       "358. 'C4727182'\n",
       "359. 'C4727578'\n",
       "360. 'C4727687'\n",
       "361. 'C4727838'\n",
       "362. 'C4727916'\n",
       "363. 'C4727981'\n",
       "364. 'C4727985'\n",
       "365. 'C4728019'\n",
       "366. 'C4728035'\n",
       "367. 'C4728046'\n",
       "368. 'C4728047'\n",
       "369. 'C4728082'\n",
       "370. 'C4728213'\n",
       "371. 'C4728219'\n",
       "372. 'C4728223'\n",
       "373. 'C4732730'\n",
       "374. 'C4732796'\n",
       "375. 'C4733093'\n",
       "376. 'C4733094'\n",
       "377. 'C4733095'\n",
       "378. 'C4733227'\n",
       "379. 'C4733331'\n",
       "380. 'C4733333'\n",
       "381. 'C4733538'\n",
       "382. 'C4739246'\n",
       "383. 'C4743661'\n",
       "384. 'C4744444'\n",
       "385. 'C4744564'\n",
       "386. 'C4744565'\n",
       "387. 'C4744712'\n",
       "388. 'C4744720'\n",
       "389. 'C4745063'\n",
       "390. 'C4745160'\n",
       "391. 'C4749274'\n",
       "392. 'C4749304'\n",
       "393. 'C4749333'\n",
       "394. 'C4749367'\n",
       "395. 'C4750288'\n",
       "396. 'C4750718'\n",
       "397. 'C4755264'\n",
       "398. 'C4755296'\n",
       "399. 'C4755308'\n",
       "400. 'C4757950'\n",
       "401. 'C4759295'\n",
       "\n",
       "\n"
      ],
      "text/plain": [
       "   [1] \"C0000744\" \"C0000809\" \"C0000846\" \"C0000880\" \"C0000889\" \"C0001080\"\n",
       "   [7] \"C0001144\" \"C0001193\" \"C0001197\" \"C0001206\" \"C0001231\" \"C0001306\"\n",
       "  [13] \"C0001308\" \"C0001311\" \"C0001342\" \"C0001344\" \"C0001363\" \"C0001403\"\n",
       "  [19] \"C0001420\" \"C0001422\" \"C0001429\" \"C0001442\" \"C0001627\" \"C0001733\"\n",
       "  [25] \"C0001768\" \"C0001787\" \"C0001818\" \"C0001824\" \"C0001849\" \"C0001857\"\n",
       "  [31] \"C0001890\" \"C0001916\" \"C0001957\" \"C0001969\" \"C0002066\" \"C0002103\"\n",
       "  [37] \"C0002152\" \"C0002171\" \"C0002312\" \"C0002382\" \"C0002438\" \"C0002448\"\n",
       "  [43] \"C0002452\" \"C0002622\" \"C0002623\" \"C0002624\" \"C0002625\" \"C0002690\"\n",
       "  [49] \"C0002768\" \"C0002875\" \"C0002876\" \"C0002878\" \"C0002879\" \"C0002880\"\n",
       "  [55] \"C0002881\" \"C0002882\" \"C0002884\" \"C0002886\" \"C0002888\" \"C0002889\"\n",
       "  [61] \"C0002891\" \"C0002892\" \"C0002894\" \"C0002896\" \"C0002902\" \"C0002940\"\n",
       "  [67] \"C0002949\" \"C0002963\" \"C0002965\" \"C0002982\" \"C0002986\" \"C0002989\"\n",
       "  [73] \"C0002991\" \"C0003028\" \"C0003076\" \"C0003081\" \"C0003113\" \"C0003119\"\n",
       "  [79] \"C0003164\" \"C0003165\" \"C0003175\" \"C0003257\" \"C0003431\" \"C0003466\"\n",
       "  [85] \"C0003477\" \"C0003492\" \"C0003496\" \"C0003499\" \"C0003509\" \"C0003534\"\n",
       "  [91] \"C0003537\" \"C0003550\" \"C0003615\" \"C0003706\" \"C0003803\" \"C0003810\"\n",
       "  [97] \"C0003851\" \"C0003857\" \"C0003865\" \"C0003886\" \"C0003892\" \"C0003907\"\n",
       " [103] \"C0003949\" \"C0003969\" \"C0004030\" \"C0004031\" \"C0004045\" \"C0004099\"\n",
       " [109] \"C0004106\" \"C0004138\" \"C0004245\" \"C0004269\" \"C0004277\" \"C0004565\"\n",
       " [115] \"C0004576\" \"C0004606\" \"C0004681\" \"C0004698\" \"C0004712\" \"C0004775\"\n",
       " [121] \"C0004779\" \"C0004903\" \"C0004997\" \"C0005122\" \"C0005129\" \"C0005138\"\n",
       " [127] \"C0005283\" \"C0005398\" \"C0005403\" \"C0005411\" \"C0005426\" \"C0005587\"\n",
       " [133] \"C0005683\" \"C0005689\" \"C0005694\" \"C0005697\" \"C0005716\" \"C0005741\"\n",
       " [139] \"C0005744\" \"C0005747\" \"C0005750\" \"C0005754\" \"C0005806\" \"C0005859\"\n",
       " [145] \"C0005866\" \"C0005937\" \"C0006009\" \"C0006023\" \"C0006060\" \"C0006079\"\n",
       " [151] \"C0006105\" \"C0006131\" \"C0006144\" \"C0006160\" \"C0006266\" \"C0006267\"\n",
       " [157] \"C0006271\" \"C0006272\" \"C0006274\" \"C0006277\" \"C0006285\" \"C0006288\"\n",
       " [163] \"C0006309\" \"C0006370\" \"C0006430\" \"C0006444\" \"C0006635\" \"C0006664\"\n",
       " [169] \"C0006666\" \"C0006818\" \"C0006840\" \"C0006845\" \"C0006846\" \"C0006848\"\n",
       " [175] \"C0006849\" \"C0006852\" \"C0006868\" \"C0006870\" \"C0007104\" \"C0007117\"\n",
       " [181] \"C0007118\" \"C0007120\" \"C0007121\" \"C0007125\" \"C0007130\" \"C0007135\"\n",
       " [187] \"C0007140\" \"C0007177\" \"C0007192\" \"C0007196\" \"C0007274\" \"C0007279\"\n",
       " [193] \"C0007282\" \"C0007286\" \"C0007361\" \"C0007370\" \"C0007384\" \"C0007398\"\n",
       " [199] \"C0007659\" \"C0007688\" \"C0007772\" \"C0007775\" \"C0007780\" \"C0007852\"\n",
       " [205] \"C0007860\" \"C0007868\" \"C0007873\" \"C0007930\" \"C0007932\" \"C0007965\"\n",
       " [211] \"C0007971\" \"C0008029\" \"C0008043\" \"C0008055\" \"C0008058\" \"C0008272\"\n",
       " [217] \"C0008297\" \"C0008309\" \"C0008311\" \"C0008313\" \"C0008325\" \"C0008340\"\n",
       " [223] \"C0008372\" \"C0008373\" \"C0008412\" \"C0008439\" \"C0008441\" \"C0008445\"\n",
       " [229] \"C0008476\" \"C0008487\" \"C0008493\" \"C0008513\" \"C0008525\" \"C0008533\"\n",
       " [235] \"C0008582\" \"C0008677\" \"C0008707\" \"C0008728\" \"C0008732\" \"C0008733\"\n",
       " [241] \"C0008928\" \"C0009021\" \"C0009075\" \"C0009080\" \"C0009088\" \"C0009171\"\n",
       " [247] \"C0009178\" \"C0009186\" \"C0009207\" \"C0009363\" \"C0009443\" \"C0009451\"\n",
       " [253] \"C0009595\" \"C0009663\" \"C0009677\" \"C0009691\" \"C0009714\" \"C0009730\"\n",
       " [259] \"C0009763\" \"C0009766\" \"C0009777\" \"C0009917\" \"C0009918\" \"C0009952\"\n",
       " [265] \"C0010036\" \"C0010043\" \"C0010051\" \"C0010072\" \"C0010073\" \"C0010093\"\n",
       " [271] \"C0010232\" \"C0010273\" \"C0010276\" \"C0010308\" \"C0010314\" \"C0010324\"\n",
       " [277] \"C0010380\" \"C0010403\" \"C0010414\" \"C0010418\" \"C0010474\" \"C0010481\"\n",
       " [283] \"C0010495\" \"C0010631\" \"C0010633\" \"C0010635\" \"C0010668\" \"C0010673\"\n",
       " [289] \"C0010678\" \"C0010691\" \"C0010692\" \"C0010701\" \"C0010930\" \"C0010964\"\n",
       " [295] \"C0011052\" \"C0011119\" \"C0011127\" \"C0011195\" \"C0011206\" \"C0011226\"\n",
       " [301] \"C0011253\" \"C0011263\" \"C0011268\" \"C0011302\" \"C0011351\" \"C0011406\"\n",
       " [307] \"C0011407\" \"C0011428\" \"C0011430\" \"C0011432\" \"C0011434\" \"C0011436\"\n",
       " [313] \"C0011573\" \"C0011574\" \"C0011606\" \"C0011608\" \"C0011616\" \"C0011620\"\n",
       " [319] \"C0011636\" \"C0011649\" \"C0011757\" \"C0011813\" \"C0011848\" \"C0011859\"\n",
       " [325] \"C0011875\" \"C0011876\" \"C0011880\" \"C0011981\" \"C0011989\" \"C0011993\"\n",
       " [331] \"C0011999\" \"C0012236\" \"C0012546\" \"C0012619\" \"C0012734\" \"C0012736\"\n",
       " [337] \"C0012739\" \"C0012754\" \"C0012813\" \"C0012819\" \"C0013069\" \"C0013124\"\n",
       " [343] \"C0013238\" \"C0013261\" \"C0013295\" \"C0013298\" \"C0013312\" \"C0013338\"\n",
       " [349] \"C0013363\" \"C0013364\" \"C0013369\" \"C0013370\" \"C0013374\" \"C0013377\"\n",
       " [355] \"C0013386\" \"C0013393\" \"C0013394\" \"C0013403\" \"C0013415\" \"C0013423\"\n",
       " [361] \"C0013481\" \"C0013502\" \"C0013575\" \"C0013581\" \"C0013589\" \"C0013592\"\n",
       " [367] \"C0013720\" \"C0013743\" \"C0013882\" \"C0013884\" \"C0013902\" \"C0013903\"\n",
       " [373] \"C0013930\" \"C0013949\" \"C0014009\" \"C0014057\" \"C0014059\" \"C0014061\"\n",
       " [379] \"C0014065\" \"C0014067\" \"C0014068\" \"C0014072\" \"C0014077\" \"C0014078\"\n",
       " [385] \"C0014084\" \"C0014117\" \"C0014118\" \"C0014121\" \"C0014122\" \"C0014145\"\n",
       " [391] \"C0014173\" \"C0014179\" \"C0014236\" \"C0014335\" \"C0014356\" \"C0014458\"\n",
       " [397] \"C0014493\" \"C0014518\" \"C0014522\" \"C0014527\" \"C0014534\" \"C0014547\"\n",
       " [403] \"C0014548\" \"C0014549\" \"C0014550\" \"C0014553\" \"C0014558\" \"C0014583\"\n",
       " [409] \"C0014599\" \"C0014647\" \"C0014733\" \"C0014740\" \"C0014742\" \"C0014743\"\n",
       " [415] \"C0014761\" \"C0014800\" \"C0014804\" \"C0014805\" \"C0014848\" \"C0014850\"\n",
       " [421] \"C0014856\" \"C0014863\" \"C0014866\" \"C0014867\" \"C0014868\" \"C0014869\"\n",
       " [427] \"C0014877\" \"C0015190\" \"C0015302\" \"C0015306\" \"C0015310\" \"C0015469\"\n",
       " [433] \"C0015499\" \"C0015503\" \"C0015519\" \"C0015523\" \"C0015526\" \"C0015530\"\n",
       " [439] \"C0015624\" \"C0015652\" \"C0015674\" \"C0015696\" \"C0015702\" \"C0015732\"\n",
       " [445] \"C0015773\" \"C0015814\" \"C0015826\" \"C0015923\" \"C0015930\" \"C0015951\"\n",
       " [451] \"C0015974\" \"C0016033\" \"C0016034\" \"C0016037\" \"C0016038\" \"C0016045\"\n",
       " [457] \"C0016048\" \"C0016049\" \"C0016052\" \"C0016053\" \"C0016063\" \"C0016065\"\n",
       " [463] \"C0016085\" \"C0016325\" \"C0016395\" \"C0016397\" \"C0016412\" \"C0016436\"\n",
       " [469] \"C0016508\" \"C0016522\" \"C0016629\" \"C0016667\" \"C0016719\" \"C0016722\"\n",
       " [475] \"C0016751\" \"C0016781\" \"C0016782\" \"C0016867\" \"C0016952\" \"C0016978\"\n",
       " [481] \"C0017075\" \"C0017083\" \"C0017086\" \"C0017097\" \"C0017145\" \"C0017150\"\n",
       " [487] \"C0017155\" \"C0017160\" \"C0017205\" \"C0017495\" \"C0017531\" \"C0017536\"\n",
       " [493] \"C0017547\" \"C0017551\" \"C0017567\" \"C0017572\" \"C0017574\" \"C0017605\"\n",
       " [499] \"C0017606\" \"C0017609\" \"C0017612\" \"C0017614\" \"C0017653\" \"C0017657\"\n",
       " [505] \"C0017662\" \"C0017665\" \"C0017667\" \"C0017671\" \"C0017677\" \"C0017689\"\n",
       " [511] \"C0017920\" \"C0017921\" \"C0017922\" \"C0017923\" \"C0017924\" \"C0017925\"\n",
       " [517] \"C0017926\" \"C0017927\" \"C0017980\" \"C0018013\" \"C0018023\" \"C0018051\"\n",
       " [523] \"C0018054\" \"C0018055\" \"C0018179\" \"C0018202\" \"C0018206\" \"C0018378\"\n",
       " [529] \"C0018418\" \"C0018425\" \"C0018522\" \"C0018523\" \"C0018524\" \"C0018536\"\n",
       " [535] \"C0018552\" \"C0018572\" \"C0018598\" \"C0018609\" \"C0018614\" \"C0018621\"\n",
       " [541] \"C0018776\" \"C0018780\" \"C0018781\" \"C0018794\" \"C0018809\" \"C0018813\"\n",
       " [547] \"C0018889\" \"C0018915\" \"C0018920\" \"C0018922\" \"C0018923\" \"C0018975\"\n",
       " [553] \"C0018979\" \"C0018984\" \"C0018995\" \"C0019025\" \"C0019034\" \"C0019050\"\n",
       " [559] \"C0019061\" \"C0019069\" \"C0019097\" \"C0019099\" \"C0019100\" \"C0019101\"\n",
       " [565] \"C0019104\" \"C0019112\" \"C0019114\" \"C0019147\" \"C0019151\" \"C0019154\"\n",
       " [571] \"C0019156\" \"C0019187\" \"C0019188\" \"C0019202\" \"C0019207\" \"C0019208\"\n",
       " [577] \"C0019212\" \"C0019243\" \"C0019269\" \"C0019296\" \"C0019337\" \"C0019340\"\n",
       " [583] \"C0019342\" \"C0019345\" \"C0019357\" \"C0019385\" \"C0019522\" \"C0019555\"\n",
       " [589] \"C0019562\" \"C0019618\" \"C0019621\" \"C0019623\" \"C0019624\" \"C0019625\"\n",
       " [595] \"C0019655\" \"C0019816\" \"C0019880\" \"C0020071\" \"C0020072\" \"C0020074\"\n",
       " [601] \"C0020075\" \"C0020192\" \"C0020217\" \"C0020225\" \"C0020256\" \"C0020258\"\n",
       " [607] \"C0020302\" \"C0020305\" \"C0020312\" \"C0020428\" \"C0020433\" \"C0020435\"\n",
       " [613] \"C0020437\" \"C0020452\" \"C0020455\" \"C0020474\" \"C0020476\" \"C0020479\"\n",
       " [619] \"C0020480\" \"C0020490\" \"C0020492\" \"C0020497\" \"C0020498\" \"C0020500\"\n",
       " [625] \"C0020501\" \"C0020502\" \"C0020503\" \"C0020514\" \"C0020532\" \"C0020540\"\n",
       " [631] \"C0020541\" \"C0020544\" \"C0020545\" \"C0020551\" \"C0020555\" \"C0020594\"\n",
       " [637] \"C0020595\" \"C0020597\" \"C0020617\" \"C0020620\" \"C0020626\" \"C0020630\"\n",
       " [643] \"C0020635\" \"C0020636\" \"C0020639\" \"C0020678\" \"C0020725\" \"C0020757\"\n",
       " [649] \"C0020758\" \"C0020796\" \"C0020877\" \"C0020981\" \"C0021071\" \"C0021099\"\n",
       " [655] \"C0021100\" \"C0021167\" \"C0021171\" \"C0021342\" \"C0021345\" \"C0021367\"\n",
       " [661] \"C0021603\" \"C0021818\" \"C0021828\" \"C0021843\" \"C0021845\" \"C0021847\"\n",
       " [667] \"C0021933\" \"C0022073\" \"C0022118\" \"C0022283\" \"C0022333\" \"C0022336\"\n",
       " [673] \"C0022340\" \"C0022350\" \"C0022354\" \"C0022387\" \"C0022415\" \"C0022521\"\n",
       " [679] \"C0022541\" \"C0022548\" \"C0022568\" \"C0022572\" \"C0022573\" \"C0022575\"\n",
       " [685] \"C0022577\" \"C0022579\" \"C0022584\" \"C0022593\" \"C0022594\" \"C0022595\"\n",
       " [691] \"C0022596\" \"C0022602\" \"C0022603\" \"C0022610\" \"C0022638\" \"C0022650\"\n",
       " [697] \"C0022672\" \"C0022679\" \"C0022681\" \"C0022716\" \"C0022735\" \"C0022738\"\n",
       " [703] \"C0022739\" \"C0022783\" \"C0022790\" \"C0022797\" \"C0022806\" \"C0022810\"\n",
       " [709] \"C0022951\" \"C0022972\" \"C0023003\" \"C0023055\" \"C0023066\" \"C0023076\"\n",
       " [715] \"C0023092\" \"C0023176\" \"C0023195\" \"C0023211\" \"C0023212\" \"C0023223\"\n",
       " [721] \"C0023234\" \"C0023240\" \"C0023241\" \"C0023264\" \"C0023281\" \"C0023283\"\n",
       " [727] \"C0023288\" \"C0023290\" \"C0023316\" \"C0023321\" \"C0023343\" \"C0023346\"\n",
       " [733] \"C0023348\" \"C0023351\" \"C0023364\" \"C0023374\" \"C0023437\" \"C0023443\"\n",
       " [739] \"C0023453\" \"C0023461\" \"C0023462\" \"C0023464\" \"C0023466\" \"C0023472\"\n",
       " [745] \"C0023474\" \"C0023479\" \"C0023480\" \"C0023481\" \"C0023484\" \"C0023485\"\n",
       " [751] \"C0023486\" \"C0023488\" \"C0023520\" \"C0023521\" \"C0023522\" \"C0023529\"\n",
       " [757] \"C0023531\" \"C0023532\" \"C0023600\" \"C0023601\" \"C0023643\" \"C0023645\"\n",
       " [763] \"C0023646\" \"C0023652\" \"C0023786\" \"C0023788\" \"C0023794\" \"C0023795\"\n",
       " [769] \"C0023798\" \"C0023801\" \"C0023804\" \"C0023817\" \"C0023827\" \"C0023860\"\n",
       " [775] \"C0023882\" \"C0023885\" \"C0023886\" \"C0023891\" \"C0023892\" \"C0023931\"\n",
       " [781] \"C0023976\" \"C0024054\" \"C0024106\" \"C0024137\" \"C0024140\" \"C0024145\"\n",
       " [787] \"C0024198\" \"C0024205\" \"C0024214\" \"C0024215\" \"C0024221\" \"C0024236\"\n",
       " [793] \"C0024248\" \"C0024266\" \"C0024282\" \"C0024291\" \"C0024302\" \"C0024303\"\n",
       " [799] \"C0024304\" \"C0024306\" \"C0024307\" \"C0024408\" \"C0024419\" \"C0024421\"\n",
       " [805] \"C0024433\" \"C0024437\" \"C0024439\" \"C0024440\" \"C0024441\" \"C0024449\"\n",
       " [811] \"C0024454\" \"C0024473\" \"C0024507\" \"C0024517\" \"C0024534\" \"C0024535\"\n",
       " [817] \"C0024537\" \"C0024586\" \"C0024591\" \"C0024620\" \"C0024624\" \"C0024636\"\n",
       " [823] \"C0024713\" \"C0024776\" \"C0024790\" \"C0024793\" \"C0024796\" \"C0024809\"\n",
       " [829] \"C0024814\" \"C0024894\" \"C0024897\" \"C0024899\" \"C0024904\" \"C0024959\"\n",
       " [835] \"C0025007\" \"C0025037\" \"C0025064\" \"C0025164\" \"C0025167\" \"C0025193\"\n",
       " [841] \"C0025205\" \"C0025209\" \"C0025218\" \"C0025221\" \"C0025229\" \"C0025237\"\n",
       " [847] \"C0025261\" \"C0025267\" \"C0025268\" \"C0025269\" \"C0025281\" \"C0025289\"\n",
       " [853] \"C0025290\" \"C0025294\" \"C0025295\" \"C0025297\" \"C0025299\" \"C0025306\"\n",
       " [859] \"C0025309\" \"C0025312\" \"C0025319\" \"C0025637\" \"C0025945\" \"C0025988\"\n",
       " [865] \"C0025995\" \"C0026034\" \"C0026141\" \"C0026205\" \"C0026267\" \"C0026269\"\n",
       " [871] \"C0026272\" \"C0026277\" \"C0026363\" \"C0026393\" \"C0026552\" \"C0026603\"\n",
       " [877] \"C0026618\" \"C0026654\" \"C0026697\" \"C0026703\" \"C0026705\" \"C0026706\"\n",
       " [883] \"C0026707\" \"C0026709\" \"C0026718\" \"C0026760\" \"C0026780\" \"C0026916\"\n",
       " [889] \"C0026975\" \"C0026976\" \"C0026985\" \"C0026987\" \"C0026996\" \"C0026998\"\n",
       " [895] \"C0027019\" \"C0027070\" \"C0027073\" \"C0027086\" \"C0027122\" \"C0027126\"\n",
       " [901] \"C0027127\" \"C0027149\" \"C0027333\" \"C0027341\" \"C0027441\" \"C0027609\"\n",
       " [907] \"C0027613\" \"C0027654\" \"C0027662\" \"C0027706\" \"C0027707\" \"C0027709\"\n",
       " [913] \"C0027719\" \"C0027720\" \"C0027721\" \"C0027743\" \"C0027773\" \"C0027806\"\n",
       " [919] \"C0027809\" \"C0027813\" \"C0027814\" \"C0027822\" \"C0027830\" \"C0027832\"\n",
       " [925] \"C0027849\" \"C0027858\" \"C0027859\" \"C0027873\" \"C0027877\" \"C0027927\"\n",
       " [931] \"C0027960\" \"C0028043\" \"C0028047\" \"C0028077\" \"C0028326\" \"C0028734\"\n",
       " [937] \"C0028768\" \"C0028790\" \"C0028796\" \"C0028840\" \"C0028841\" \"C0028860\"\n",
       " [943] \"C0028866\" \"C0028879\" \"C0029001\" \"C0029077\" \"C0029095\" \"C0029104\"\n",
       " [949] \"C0029121\" \"C0029128\" \"C0029134\" \"C0029172\" \"C0029231\" \"C0029261\"\n",
       " [955] \"C0029294\" \"C0029400\" \"C0029401\" \"C0029405\" \"C0029410\" \"C0029411\"\n",
       " [961] \"C0029417\" \"C0029421\" \"C0029423\" \"C0029427\" \"C0029429\" \"C0029434\"\n",
       " [967] \"C0029438\" \"C0029440\" \"C0029441\" \"C0029442\" \"C0029443\" \"C0029454\"\n",
       " [973] \"C0029455\" \"C0029458\" \"C0029459\" \"C0029464\" \"C0029531\" \"C0029799\"\n",
       " [979] \"C0029810\" \"C0029823\" \"C0029877\" \"C0029882\" \"C0029883\" \"C0029899\"\n",
       " [985] \"C0029927\" \"C0030044\" \"C0030185\" \"C0030186\" \"C0030246\" \"C0030283\"\n",
       " [991] \"C0030290\" \"C0030293\" \"C0030299\" \"C0030319\" \"C0030326\" \"C0030327\"\n",
       " [997] \"C0030343\" \"C0030353\" \"C0030360\" \"C0030389\" \"C0030409\" \"C0030421\"\n",
       "[1003] \"C0030422\" \"C0030436\" \"C0030442\" \"C0030443\" \"C0030481\" \"C0030486\"\n",
       "[1009] \"C0030489\" \"C0030491\" \"C0030524\" \"C0030569\" \"C0030578\" \"C0030583\"\n",
       "[1015] \"C0030662\" \"C0030757\" \"C0030779\" \"C0030804\" \"C0030805\" \"C0030807\"\n",
       "[1021] \"C0030809\" \"C0030848\" \"C0030920\" \"C0031019\" \"C0031022\" \"C0031024\"\n",
       "[1027] \"C0031029\" \"C0031030\" \"C0031036\" \"C0031039\" \"C0031046\" \"C0031048\"\n",
       "[1033] \"C0031069\" \"C0031094\" \"C0031106\" \"C0031111\" \"C0031144\" \"C0031154\"\n",
       "[1039] \"C0031157\" \"C0031190\" \"C0031256\" \"C0031269\" \"C0031306\" \"C0031350\"\n",
       "[1045] \"C0031572\" \"C0031575\" \"C0031736\" \"C0031873\" \"C0031900\" \"C0031903\"\n",
       "[1051] \"C0031941\" \"C0032000\" \"C0032026\" \"C0032027\" \"C0032051\" \"C0032109\"\n",
       "[1057] \"C0032131\" \"C0032197\" \"C0032231\" \"C0032241\" \"C0032268\" \"C0032273\"\n",
       "[1063] \"C0032290\" \"C0032300\" \"C0032302\" \"C0032310\" \"C0032320\" \"C0032339\"\n",
       "[1069] \"C0032371\" \"C0032453\" \"C0032461\" \"C0032533\" \"C0032587\" \"C0032749\"\n",
       "[1075] \"C0032768\" \"C0032827\" \"C0032897\" \"C0032915\" \"C0033027\" \"C0033036\"\n",
       "[1081] \"C0033046\" \"C0033054\" \"C0033117\" \"C0033129\" \"C0033138\" \"C0033139\"\n",
       "[1087] \"C0033246\" \"C0033300\" \"C0033375\" \"C0033581\" \"C0033587\" \"C0033626\"\n",
       "[1093] \"C0033770\" \"C0033788\" \"C0033802\" \"C0033804\" \"C0033805\" \"C0033806\"\n",
       "[1099] \"C0033822\" \"C0033835\" \"C0033838\" \"C0033839\" \"C0033844\" \"C0033845\"\n",
       "[1105] \"C0033847\" \"C0033893\" \"C0033937\" \"C0033941\" \"C0033958\" \"C0034013\"\n",
       "[1111] \"C0034050\" \"C0034065\" \"C0034068\" \"C0034072\" \"C0034089\" \"C0034091\"\n",
       "[1117] \"C0034103\" \"C0034150\" \"C0034152\" \"C0034155\" \"C0034186\" \"C0034212\"\n",
       "[1123] \"C0034215\" \"C0034341\" \"C0034345\" \"C0034362\" \"C0034372\" \"C0034494\"\n",
       "[1129] \"C0034535\" \"C0034543\" \"C0034734\" \"C0034735\" \"C0034887\" \"C0034888\"\n",
       "[1135] \"C0034902\" \"C0034931\" \"C0034960\" \"C0035012\" \"C0035021\" \"C0035022\"\n",
       "[1141] \"C0035067\" \"C0035086\" \"C0035220\" \"C0035258\" \"C0035288\" \"C0035302\"\n",
       "[1147] \"C0035305\" \"C0035312\" \"C0035313\" \"C0035328\" \"C0035333\" \"C0035411\"\n",
       "[1153] \"C0035435\" \"C0035436\" \"C0035439\" \"C0035450\" \"C0035455\" \"C0035457\"\n",
       "[1159] \"C0035528\" \"C0035579\" \"C0035613\" \"C0035828\" \"C0035851\" \"C0035854\"\n",
       "[1165] \"C0035920\" \"C0035934\" \"C0036069\" \"C0036091\" \"C0036130\" \"C0036161\"\n",
       "[1171] \"C0036205\" \"C0036211\" \"C0036216\" \"C0036221\" \"C0036224\" \"C0036280\"\n",
       "[1177] \"C0036310\" \"C0036323\" \"C0036329\" \"C0036330\" \"C0036337\" \"C0036344\"\n",
       "[1183] \"C0036346\" \"C0036349\" \"C0036363\" \"C0036391\" \"C0036416\" \"C0036420\"\n",
       "[1189] \"C0036457\" \"C0036472\" \"C0036489\" \"C0036508\" \"C0036646\" \"C0036651\"\n",
       "[1195] \"C0036689\" \"C0036769\" \"C0036830\" \"C0036902\" \"C0036920\" \"C0036939\"\n",
       "[1201] \"C0036992\" \"C0036996\" \"C0037019\" \"C0037023\" \"C0037036\" \"C0037052\"\n",
       "[1207] \"C0037054\" \"C0037061\" \"C0037116\" \"C0037198\" \"C0037199\" \"C0037205\"\n",
       "[1213] \"C0037221\" \"C0037231\" \"C0037315\" \"C0037354\" \"C0037661\" \"C0037769\"\n",
       "[1219] \"C0037772\" \"C0037773\" \"C0037856\" \"C0037889\" \"C0037899\" \"C0037917\"\n",
       "[1225] \"C0037926\" \"C0037944\" \"C0038012\" \"C0038015\" \"C0038016\" \"C0038017\"\n",
       "[1231] \"C0038018\" \"C0038019\" \"C0038034\" \"C0038041\" \"C0038165\" \"C0038219\"\n",
       "[1237] \"C0038325\" \"C0038358\" \"C0038362\" \"C0038363\" \"C0038433\" \"C0038443\"\n",
       "[1243] \"C0038463\" \"C0038476\" \"C0038478\" \"C0038505\" \"C0038522\" \"C0038580\"\n",
       "[1249] \"C0038587\" \"C0038644\" \"C0038868\" \"C0039075\" \"C0039093\" \"C0039103\"\n",
       "[1255] \"C0039106\" \"C0039128\" \"C0039144\" \"C0039147\" \"C0039239\" \"C0039240\"\n",
       "[1261] \"C0039254\" \"C0039263\" \"C0039292\" \"C0039373\" \"C0039445\" \"C0039446\"\n",
       "[1267] \"C0039496\" \"C0039503\" \"C0039520\" \"C0039538\" \"C0039621\" \"C0039743\"\n",
       "[1273] \"C0039747\" \"C0039841\" \"C0040015\" \"C0040021\" \"C0040115\" \"C0040124\"\n",
       "[1279] \"C0040137\" \"C0040147\" \"C0040149\" \"C0040156\" \"C0040188\" \"C0040247\"\n",
       "[1285] \"C0040250\" \"C0040253\" \"C0040261\" \"C0040332\" \"C0040412\" \"C0040425\"\n",
       "[1291] \"C0040479\" \"C0040517\" \"C0040558\" \"C0040560\" \"C0040561\" \"C0040583\"\n",
       "[1297] \"C0040588\" \"C0040592\" \"C0040761\" \"C0040896\" \"C0040953\" \"C0040954\"\n",
       "[1303] \"C0040961\" \"C0040963\" \"C0040997\" \"C0041105\" \"C0041207\" \"C0041227\"\n",
       "[1309] \"C0041228\" \"C0041295\" \"C0041309\" \"C0041312\" \"C0041316\" \"C0041318\"\n",
       "[1315] \"C0041321\" \"C0041324\" \"C0041325\" \"C0041326\" \"C0041330\" \"C0041349\"\n",
       "[1321] \"C0041351\" \"C0041364\" \"C0041408\" \"C0041409\" \"C0041466\" \"C0041471\"\n",
       "[1327] \"C0041671\" \"C0041948\" \"C0041960\" \"C0041972\" \"C0041976\" \"C0042025\"\n",
       "[1333] \"C0042109\" \"C0042111\" \"C0042165\" \"C0042166\" \"C0042167\" \"C0042170\"\n",
       "[1339] \"C0042237\" \"C0042267\" \"C0042341\" \"C0042344\" \"C0042345\" \"C0042420\"\n",
       "[1345] \"C0042454\" \"C0042485\" \"C0042510\" \"C0042514\" \"C0042580\" \"C0042749\"\n",
       "[1351] \"C0042781\" \"C0042798\" \"C0042842\" \"C0042847\" \"C0042870\" \"C0042875\"\n",
       "[1357] \"C0042880\" \"C0042928\" \"C0042929\" \"C0042961\" \"C0042974\" \"C0042998\"\n",
       "[1363] \"C0043037\" \"C0043046\" \"C0043049\" \"C0043116\" \"C0043119\" \"C0043121\"\n",
       "[1369] \"C0043124\" \"C0043154\" \"C0043167\" \"C0043168\" \"C0043194\" \"C0043202\"\n",
       "[1375] \"C0043207\" \"C0043208\" \"C0043325\" \"C0043345\" \"C0043346\" \"C0043395\"\n",
       "[1381] \"C0043459\" \"C0043515\" \"C0043528\" \"C0043541\" \"C0078911\" \"C0078917\"\n",
       "[1387] \"C0078918\" \"C0078981\" \"C0078982\" \"C0079035\" \"C0079102\" \"C0079153\"\n",
       "[1393] \"C0079154\" \"C0079218\" \"C0079293\" \"C0079294\" \"C0079298\" \"C0079299\"\n",
       "[1399] \"C0079301\" \"C0079352\" \"C0079474\" \"C0079504\" \"C0079541\" \"C0079583\"\n",
       "[1405] \"C0079584\" \"C0079588\" \"C0079683\" \"C0079740\" \"C0079741\" \"C0079745\"\n",
       "[1411] \"C0079746\" \"C0079747\" \"C0079748\" \"C0079757\" \"C0079758\" \"C0079765\"\n",
       "[1417] \"C0079770\" \"C0079774\" \"C0080024\" \"C0080032\" \"C0080174\" \"C0080178\"\n",
       "[1423] \"C0080218\" \"C0080233\" \"C0085074\" \"C0085077\" \"C0085082\" \"C0085083\"\n",
       "[1429] \"C0085084\" \"C0085090\" \"C0085106\" \"C0085109\" \"C0085119\" \"C0085129\"\n",
       "[1435] \"C0085131\" \"C0085132\" \"C0085159\" \"C0085166\" \"C0085167\" \"C0085179\"\n",
       "[1441] \"C0085220\" \"C0085253\" \"C0085261\" \"C0085270\" \"C0085273\" \"C0085278\"\n",
       "[1447] \"C0085280\" \"C0085292\" \"C0085293\" \"C0085311\" \"C0085315\" \"C0085390\"\n",
       "[1453] \"C0085399\" \"C0085404\" \"C0085411\" \"C0085435\" \"C0085436\" \"C0085541\"\n",
       "[1459] \"C0085543\" \"C0085547\" \"C0085548\" \"C0085568\" \"C0085570\" \"C0085574\"\n",
       "[1465] \"C0085576\" \"C0085577\" \"C0085578\" \"C0085581\" \"C0085583\" \"C0085606\"\n",
       "[1471] \"C0085612\" \"C0085615\" \"C0085623\" \"C0085633\" \"C0085642\" \"C0085648\"\n",
       "[1477] \"C0085650\" \"C0085652\" \"C0085653\" \"C0085655\" \"C0085662\" \"C0085663\"\n",
       "[1483] \"C0085677\" \"C0085679\" \"C0085681\" \"C0085692\" \"C0085693\" \"C0085694\"\n",
       "[1489] \"C0085695\" \"C0085696\" \"C0085700\" \"C0085702\" \"C0085750\" \"C0085758\"\n",
       "[1495] \"C0085762\" \"C0085786\" \"C0085808\" \"C0085859\" \"C0085860\" \"C0085996\"\n",
       "[1501] \"C0085997\" \"C0086025\" \"C0086103\" \"C0086133\" \"C0086181\" \"C0086196\"\n",
       "[1507] \"C0086237\" \"C0086367\" \"C0086404\" \"C0086405\" \"C0086431\" \"C0086432\"\n",
       "[1513] \"C0086438\" \"C0086445\" \"C0086447\" \"C0086457\" \"C0086501\" \"C0086540\"\n",
       "[1519] \"C0086541\" \"C0086647\" \"C0086648\" \"C0086649\" \"C0086651\" \"C0086664\"\n",
       "[1525] \"C0086743\" \"C0086768\" \"C0086769\" \"C0086795\" \"C0086873\" \"C0086942\"\n",
       "[1531] \"C0086981\" \"C0087012\" \"C0087031\" \"C0149504\" \"C0149517\" \"C0149519\"\n",
       "[1537] \"C0149520\" \"C0149523\" \"C0149530\" \"C0149614\" \"C0149630\" \"C0149637\"\n",
       "[1543] \"C0149642\" \"C0149645\" \"C0149654\" \"C0149696\" \"C0149722\" \"C0149745\"\n",
       "[1549] \"C0149779\" \"C0149781\" \"C0149801\" \"C0149825\" \"C0149826\" \"C0149841\"\n",
       "[1555] \"C0149875\" \"C0149886\" \"C0149887\" \"C0149893\" \"C0149896\" \"C0149904\"\n",
       "[1561] \"C0149911\" \"C0149922\" \"C0149937\" \"C0149939\" \"C0149940\" \"C0149951\"\n",
       "[1567] \"C0149955\" \"C0149958\" \"C0149978\" \"C0149983\" \"C0149985\" \"C0150080\"\n",
       "[1573] \"C0150988\" \"C0151281\" \"C0151311\" \"C0151313\" \"C0151332\" \"C0151436\"\n",
       "[1579] \"C0151445\" \"C0151450\" \"C0151516\" \"C0151544\" \"C0151546\" \"C0151559\"\n",
       "[1585] \"C0151565\" \"C0151594\" \"C0151664\" \"C0151714\" \"C0151718\" \"C0151721\"\n",
       "[1591] \"C0151740\" \"C0151747\" \"C0151773\" \"C0151814\" \"C0151846\" \"C0151857\"\n",
       "[1597] \"C0151860\" \"C0151945\" \"C0151950\" \"C0151970\" \"C0151971\" \"C0152002\"\n",
       "[1603] \"C0152014\" \"C0152020\" \"C0152025\" \"C0152026\" \"C0152066\" \"C0152068\"\n",
       "[1609] \"C0152069\" \"C0152081\" \"C0152095\" \"C0152096\" \"C0152101\" \"C0152105\"\n",
       "[1615] \"C0152109\" \"C0152113\" \"C0152115\" \"C0152132\" \"C0152136\" \"C0152138\"\n",
       "[1621] \"C0152164\" \"C0152171\" \"C0152200\" \"C0152227\" \"C0152233\" \"C0152234\"\n",
       "[1627] \"C0152237\" \"C0152240\" \"C0152244\" \"C0152256\" \"C0152259\" \"C0152264\"\n",
       "[1633] \"C0152266\" \"C0152267\" \"C0152268\" \"C0152276\" \"C0152415\" \"C0152417\"\n",
       "[1639] \"C0152419\" \"C0152421\" \"C0152423\" \"C0152424\" \"C0152426\" \"C0152427\"\n",
       "[1645] \"C0152439\" \"C0152441\" \"C0152451\" \"C0152459\" \"C0152915\" \"C0153014\"\n",
       "[1651] \"C0153252\" \"C0153257\" \"C0153340\" \"C0153349\" \"C0153368\" \"C0153373\"\n",
       "[1657] \"C0153382\" \"C0153392\" \"C0153398\" \"C0153405\" \"C0153413\" \"C0153414\"\n",
       "[1663] \"C0153415\" \"C0153416\" \"C0153425\" \"C0153426\" \"C0153436\" \"C0153446\"\n",
       "[1669] \"C0153453\" \"C0153458\" \"C0153459\" \"C0153460\" \"C0153463\" \"C0153467\"\n",
       "[1675] \"C0153491\" \"C0153492\" \"C0153493\" \"C0153535\" \"C0153536\" \"C0153567\"\n",
       "[1681] \"C0153601\" \"C0153653\" \"C0153658\" \"C0153685\" \"C0153687\" \"C0154038\"\n",
       "[1687] \"C0154060\" \"C0154084\" \"C0154088\" \"C0154091\" \"C0154143\" \"C0154209\"\n",
       "[1693] \"C0154307\" \"C0154319\" \"C0154409\" \"C0154437\" \"C0154652\" \"C0154659\"\n",
       "[1699] \"C0154676\" \"C0154681\" \"C0154682\" \"C0154723\" \"C0154748\" \"C0154778\"\n",
       "[1705] \"C0154822\" \"C0154830\" \"C0154832\" \"C0154835\" \"C0154841\" \"C0154946\"\n",
       "[1711] \"C0154947\" \"C0154971\" \"C0155015\" \"C0155016\" \"C0155017\" \"C0155018\"\n",
       "[1717] \"C0155072\" \"C0155094\" \"C0155119\" \"C0155120\" \"C0155127\" \"C0155158\"\n",
       "[1723] \"C0155164\" \"C0155210\" \"C0155223\" \"C0155299\" \"C0155305\" \"C0155490\"\n",
       "[1729] \"C0155502\" \"C0155550\" \"C0155552\" \"C0155567\" \"C0155601\" \"C0155616\"\n",
       "[1735] \"C0155675\" \"C0155686\" \"C0155760\" \"C0155773\" \"C0155826\" \"C0155862\"\n",
       "[1741] \"C0155870\" \"C0155880\" \"C0156147\" \"C0156149\" \"C0156181\" \"C0156221\"\n",
       "[1747] \"C0156259\" \"C0156273\" \"C0156312\" \"C0156344\" \"C0156369\" \"C0156372\"\n",
       "[1753] \"C0156394\" \"C0156409\" \"C0157738\" \"C0157743\" \"C0157749\" \"C0157917\"\n",
       "[1759] \"C0157946\" \"C0158026\" \"C0158113\" \"C0158288\" \"C0158300\" \"C0158353\"\n",
       "[1765] \"C0158447\" \"C0158458\" \"C0158551\" \"C0158629\" \"C0158646\" \"C0158683\"\n",
       "[1771] \"C0158731\" \"C0158734\" \"C0158761\" \"C0158850\" \"C0158940\" \"C0158945\"\n",
       "[1777] \"C0158981\" \"C0158986\" \"C0158995\" \"C0159020\" \"C0160390\" \"C0162275\"\n",
       "[1783] \"C0162283\" \"C0162291\" \"C0162292\" \"C0162296\" \"C0162311\" \"C0162316\"\n",
       "[1789] \"C0162323\" \"C0162359\" \"C0162361\" \"C0162375\" \"C0162442\" \"C0162510\"\n",
       "[1795] \"C0162529\" \"C0162530\" \"C0162531\" \"C0162532\" \"C0162538\" \"C0162539\"\n",
       "[1801] \"C0162565\" \"C0162566\" \"C0162568\" \"C0162635\" \"C0162666\" \"C0162668\"\n",
       "[1807] \"C0162669\" \"C0162671\" \"C0162672\" \"C0162674\" \"C0162739\" \"C0162770\"\n",
       "[1813] \"C0162809\" \"C0162810\" \"C0162820\" \"C0162823\" \"C0162830\" \"C0162835\"\n",
       "[1819] \"C0162836\" \"C0162839\" \"C0162869\" \"C0162872\" \"C0175683\" \"C0175691\"\n",
       "[1825] \"C0175692\" \"C0175693\" \"C0175694\" \"C0175695\" \"C0175697\" \"C0175699\"\n",
       "[1831] \"C0175700\" \"C0175701\" \"C0175702\" \"C0175703\" \"C0175704\" \"C0175707\"\n",
       "[1837] \"C0175708\" \"C0175709\" \"C0175713\" \"C0175778\" \"C0178416\" \"C0178417\"\n",
       "[1843] \"C0178468\" \"C0178540\" \"C0178879\" \"C0205204\" \"C0205622\" \"C0205641\"\n",
       "[1849] \"C0205642\" \"C0205643\" \"C0205644\" \"C0205645\" \"C0205646\" \"C0205647\"\n",
       "[1855] \"C0205648\" \"C0205649\" \"C0205650\" \"C0205651\" \"C0205695\" \"C0205700\"\n",
       "[1861] \"C0205710\" \"C0205711\" \"C0205713\" \"C0205734\" \"C0205747\" \"C0205748\"\n",
       "[1867] \"C0205766\" \"C0205768\" \"C0205769\" \"C0205770\" \"C0205788\" \"C0205789\"\n",
       "[1873] \"C0205815\" \"C0205816\" \"C0205822\" \"C0205823\" \"C0205824\" \"C0205825\"\n",
       "[1879] \"C0205833\" \"C0205834\" \"C0205852\" \"C0205854\" \"C0205858\" \"C0205874\"\n",
       "[1885] \"C0205875\" \"C0205898\" \"C0205944\" \"C0205945\" \"C0205969\" \"C0206019\"\n",
       "[1891] \"C0206042\" \"C0206061\" \"C0206064\" \"C0206081\" \"C0206085\" \"C0206093\"\n",
       "[1897] \"C0206094\" \"C0206115\" \"C0206138\" \"C0206141\" \"C0206142\" \"C0206145\"\n",
       "[1903] \"C0206146\" \"C0206157\" \"C0206172\" \"C0206178\" \"C0206182\" \"C0206186\"\n",
       "[1909] \"C0206307\" \"C0206368\" \"C0206525\" \"C0206526\" \"C0206586\" \"C0206620\"\n",
       "[1915] \"C0206622\" \"C0206623\" \"C0206627\" \"C0206628\" \"C0206629\" \"C0206630\"\n",
       "[1921] \"C0206631\" \"C0206633\" \"C0206634\" \"C0206635\" \"C0206637\" \"C0206638\"\n",
       "[1927] \"C0206640\" \"C0206641\" \"C0206642\" \"C0206644\" \"C0206645\" \"C0206647\"\n",
       "[1933] \"C0206648\" \"C0206650\" \"C0206651\" \"C0206653\" \"C0206654\" \"C0206655\"\n",
       "[1939] \"C0206656\" \"C0206657\" \"C0206658\" \"C0206659\" \"C0206660\" \"C0206661\"\n",
       "[1945] \"C0206663\" \"C0206664\" \"C0206666\" \"C0206667\" \"C0206669\" \"C0206674\"\n",
       "[1951] \"C0206675\" \"C0206677\" \"C0206681\" \"C0206683\" \"C0206684\" \"C0206685\"\n",
       "[1957] \"C0206692\" \"C0206693\" \"C0206694\" \"C0206695\" \"C0206696\" \"C0206699\"\n",
       "[1963] \"C0206700\" \"C0206701\" \"C0206702\" \"C0206703\" \"C0206704\" \"C0206706\"\n",
       "[1969] \"C0206709\" \"C0206710\" \"C0206711\" \"C0206713\" \"C0206716\" \"C0206717\"\n",
       "[1975] \"C0206718\" \"C0206719\" \"C0206721\" \"C0206723\" \"C0206724\" \"C0206725\"\n",
       "[1981] \"C0206726\" \"C0206728\" \"C0206729\" \"C0206731\" \"C0206732\" \"C0206733\"\n",
       "[1987] \"C0206734\" \"C0206735\" \"C0206736\" \"C0206739\" \"C0206740\" \"C0206743\"\n",
       "[1993] \"C0220603\" \"C0220613\" \"C0220615\" \"C0220624\" \"C0220636\" \"C0220645\"\n",
       "[1999] \"C0220647\" \"C0220654\" \"C0220656\" \"C0220658\" \"C0220659\" \"C0220662\"\n",
       "[2005] \"C0220663\" \"C0220664\" \"C0220666\" \"C0220669\" \"C0220697\" \"C0220701\"\n",
       "[2011] \"C0220702\" \"C0220704\" \"C0220708\" \"C0220710\" \"C0220722\" \"C0220724\"\n",
       "[2017] \"C0220726\" \"C0220744\" \"C0220748\" \"C0220754\" \"C0220766\" \"C0220767\"\n",
       "[2023] \"C0220769\" \"C0220983\" \"C0220989\" \"C0220998\" \"C0221002\" \"C0221013\"\n",
       "[2029] \"C0221014\" \"C0221018\" \"C0221019\" \"C0221021\" \"C0221023\" \"C0221025\"\n",
       "[2035] \"C0221026\" \"C0221028\" \"C0221032\" \"C0221033\" \"C0221036\" \"C0221043\"\n",
       "[2041] \"C0221045\" \"C0221052\" \"C0221054\" \"C0221055\" \"C0221060\" \"C0221074\"\n",
       "[2047] \"C0221106\" \"C0221155\" \"C0221169\" \"C0221199\" \"C0221210\" \"C0221214\"\n",
       "[2053] \"C0221227\" \"C0221228\" \"C0221238\" \"C0221239\" \"C0221248\" \"C0221253\"\n",
       "[2059] \"C0221259\" \"C0221260\" \"C0221268\" \"C0221269\" \"C0221271\" \"C0221273\"\n",
       "[2065] \"C0221287\" \"C0221290\" \"C0221292\" \"C0221352\" \"C0221353\" \"C0221356\"\n",
       "[2071] \"C0221358\" \"C0221363\" \"C0221365\" \"C0221369\" \"C0221373\" \"C0221376\"\n",
       "[2077] \"C0221391\" \"C0221392\" \"C0221405\" \"C0221406\" \"C0221409\" \"C0221468\"\n",
       "[2083] \"C0221480\" \"C0221715\" \"C0221725\" \"C0221757\" \"C0221760\" \"C0221763\"\n",
       "[2089] \"C0221765\" \"C0221773\" \"C0221775\" \"C0221777\" \"C0231311\" \"C0231341\"\n",
       "[2095] \"C0231557\" \"C0232197\" \"C0232939\" \"C0232940\" \"C0233477\" \"C0233697\"\n",
       "[2101] \"C0233702\" \"C0233705\" \"C0234119\" \"C0234398\" \"C0234507\" \"C0234535\"\n",
       "[2107] \"C0234935\" \"C0234958\" \"C0235013\" \"C0235025\" \"C0235222\" \"C0235259\"\n",
       "[2113] \"C0235270\" \"C0235369\" \"C0235394\" \"C0235419\" \"C0235527\" \"C0235574\"\n",
       "[2119] \"C0235592\" \"C0235598\" \"C0235618\" \"C0235653\" \"C0235752\" \"C0235753\"\n",
       "[2125] \"C0235820\" \"C0235831\" \"C0235842\" \"C0235864\" \"C0235889\" \"C0235950\"\n",
       "[2131] \"C0235982\" \"C0235989\" \"C0236048\" \"C0236053\" \"C0236663\" \"C0236780\"\n",
       "[2137] \"C0236788\" \"C0236792\" \"C0236800\" \"C0236804\" \"C0236807\" \"C0236848\"\n",
       "[2143] \"C0237123\" \"C0237938\" \"C0237967\" \"C0238003\" \"C0238013\" \"C0238015\"\n",
       "[2149] \"C0238019\" \"C0238029\" \"C0238031\" \"C0238033\" \"C0238051\" \"C0238052\"\n",
       "[2155] \"C0238062\" \"C0238065\" \"C0238067\" \"C0238096\" \"C0238097\" \"C0238104\"\n",
       "[2161] \"C0238111\" \"C0238113\" \"C0238122\" \"C0238124\" \"C0238158\" \"C0238159\"\n",
       "[2167] \"C0238190\" \"C0238196\" \"C0238207\" \"C0238239\" \"C0238246\" \"C0238258\"\n",
       "[2173] \"C0238261\" \"C0238284\" \"C0238286\" \"C0238288\" \"C0238301\" \"C0238304\"\n",
       "[2179] \"C0238305\" \"C0238324\" \"C0238339\" \"C0238348\" \"C0238358\" \"C0238374\"\n",
       "[2185] \"C0238378\" \"C0238394\" \"C0238395\" \"C0238397\" \"C0238402\" \"C0238421\"\n",
       "[2191] \"C0238441\" \"C0238448\" \"C0238472\" \"C0238478\" \"C0238506\" \"C0238621\"\n",
       "[2197] \"C0238644\" \"C0238650\" \"C0238669\" \"C0238694\" \"C0238707\" \"C0238990\"\n",
       "[2203] \"C0239161\" \"C0239211\" \"C0239295\" \"C0239816\" \"C0239849\" \"C0239981\"\n",
       "[2209] \"C0240063\" \"C0240066\" \"C0240164\" \"C0240310\" \"C0240340\" \"C0240595\"\n",
       "[2215] \"C0240602\" \"C0240765\" \"C0240803\" \"C0240896\" \"C0240903\" \"C0240912\"\n",
       "[2221] \"C0241210\" \"C0241397\" \"C0241423\" \"C0241868\" \"C0241880\" \"C0241908\"\n",
       "[2227] \"C0241961\" \"C0241982\" \"C0242006\" \"C0242073\" \"C0242084\" \"C0242129\"\n",
       "[2233] \"C0242225\" \"C0242231\" \"C0242287\" \"C0242292\" \"C0242342\" \"C0242343\"\n",
       "[2239] \"C0242362\" \"C0242363\" \"C0242380\" \"C0242381\" \"C0242387\" \"C0242404\"\n",
       "[2245] \"C0242423\" \"C0242459\" \"C0242488\" \"C0242490\" \"C0242497\" \"C0242526\"\n",
       "[2251] \"C0242528\" \"C0242583\" \"C0242584\" \"C0242597\" \"C0242666\" \"C0242670\"\n",
       "[2257] \"C0242723\" \"C0242770\" \"C0242787\" \"C0242852\" \"C0242855\" \"C0242917\"\n",
       "[2263] \"C0242966\" \"C0242993\" \"C0243002\" \"C0243038\" \"C0243066\" \"C0259749\"\n",
       "[2269] \"C0259770\" \"C0259779\" \"C0259783\" \"C0259785\" \"C0262376\" \"C0262380\"\n",
       "[2275] \"C0262385\" \"C0262401\" \"C0262404\" \"C0262405\" \"C0262417\" \"C0262428\"\n",
       "[2281] \"C0262469\" \"C0262534\" \"C0262584\" \"C0262586\" \"C0262587\" \"C0262659\"\n",
       "[2287] \"C0262929\" \"C0262975\" \"C0262985\" \"C0262988\" \"C0263009\" \"C0263218\"\n",
       "[2293] \"C0263313\" \"C0263314\" \"C0263338\" \"C0263353\" \"C0263367\" \"C0263374\"\n",
       "[2299] \"C0263383\" \"C0263385\" \"C0263401\" \"C0263409\" \"C0263420\" \"C0263428\"\n",
       "[2305] \"C0263454\" \"C0263485\" \"C0263490\" \"C0263504\" \"C0263505\" \"C0263537\"\n",
       "[2311] \"C0263628\" \"C0263641\" \"C0263662\" \"C0263666\" \"C0263678\" \"C0263680\"\n",
       "[2317] \"C0263725\" \"C0263746\" \"C0263859\" \"C0263874\" \"C0263912\" \"C0263984\"\n",
       "[2323] \"C0264005\" \"C0264009\" \"C0264010\" \"C0264122\" \"C0264162\" \"C0264184\"\n",
       "[2329] \"C0264303\" \"C0264383\" \"C0264393\" \"C0264413\" \"C0264423\" \"C0264480\"\n",
       "[2335] \"C0264490\" \"C0264492\" \"C0264511\" \"C0264544\" \"C0264545\" \"C0264550\"\n",
       "[2341] \"C0264611\" \"C0264652\" \"C0264657\" \"C0264683\" \"C0264684\" \"C0264694\"\n",
       "[2347] \"C0264714\" \"C0264722\" \"C0264733\" \"C0264734\" \"C0264757\" \"C0264766\"\n",
       "[2353] \"C0264789\" \"C0264802\" \"C0264936\" \"C0265008\" \"C0265010\" \"C0265012\"\n",
       "[2359] \"C0265110\" \"C0265116\" \"C0265191\" \"C0265202\" \"C0265205\" \"C0265210\"\n",
       "[2365] \"C0265213\" \"C0265215\" \"C0265216\" \"C0265218\" \"C0265219\" \"C0265220\"\n",
       "[2371] \"C0265221\" \"C0265223\" \"C0265224\" \"C0265226\" \"C0265227\" \"C0265233\"\n",
       "[2377] \"C0265234\" \"C0265240\" \"C0265245\" \"C0265252\" \"C0265253\" \"C0265255\"\n",
       "[2383] \"C0265259\" \"C0265261\" \"C0265264\" \"C0265267\" \"C0265268\" \"C0265269\"\n",
       "[2389] \"C0265274\" \"C0265275\" \"C0265286\" \"C0265287\" \"C0265289\" \"C0265290\"\n",
       "[2395] \"C0265291\" \"C0265294\" \"C0265295\" \"C0265301\" \"C0265306\" \"C0265309\"\n",
       "[2401] \"C0265313\" \"C0265316\" \"C0265319\" \"C0265325\" \"C0265326\" \"C0265329\"\n",
       "[2407] \"C0265333\" \"C0265334\" \"C0265338\" \"C0265339\" \"C0265341\" \"C0265343\"\n",
       "[2413] \"C0265344\" \"C0265345\" \"C0265354\" \"C0265357\" \"C0265372\" \"C0265449\"\n",
       "[2419] \"C0265490\" \"C0265493\" \"C0265514\" \"C0265529\" \"C0265534\" \"C0265535\"\n",
       "[2425] \"C0265541\" \"C0265552\" \"C0265553\" \"C0265554\" \"C0265610\" \"C0265633\"\n",
       "[2431] \"C0265654\" \"C0265656\" \"C0265660\" \"C0265673\" \"C0265677\" \"C0265695\"\n",
       "[2437] \"C0265699\" \"C0265700\" \"C0265706\" \"C0265747\" \"C0265780\" \"C0265783\"\n",
       "[2443] \"C0265797\" \"C0265807\" \"C0265808\" \"C0265886\" \"C0265908\" \"C0265950\"\n",
       "[2449] \"C0265961\" \"C0265962\" \"C0265964\" \"C0265965\" \"C0265970\" \"C0265985\"\n",
       "[2455] \"C0265987\" \"C0265998\" \"C0266006\" \"C0266011\" \"C0266013\" \"C0266036\"\n",
       "[2461] \"C0266039\" \"C0266060\" \"C0266159\" \"C0266174\" \"C0266184\" \"C0266200\"\n",
       "[2467] \"C0266251\" \"C0266258\" \"C0266267\" \"C0266294\" \"C0266295\" \"C0266304\"\n",
       "[2473] \"C0266313\" \"C0266316\" \"C0266360\" \"C0266361\" \"C0266362\" \"C0266427\"\n",
       "[2479] \"C0266432\" \"C0266444\" \"C0266453\" \"C0266463\" \"C0266464\" \"C0266468\"\n",
       "[2485] \"C0266476\" \"C0266483\" \"C0266484\" \"C0266487\" \"C0266491\" \"C0266508\"\n",
       "[2491] \"C0266525\" \"C0266526\" \"C0266537\" \"C0266539\" \"C0266544\" \"C0266548\"\n",
       "[2497] \"C0266551\" \"C0266568\" \"C0266573\" \"C0266574\" \"C0266631\" \"C0266642\"\n",
       "[2503] \"C0266667\" \"C0266798\" \"C0266999\" \"C0267008\" \"C0267026\" \"C0267048\"\n",
       "[2509] \"C0267055\" \"C0267071\" \"C0267111\" \"C0267159\" \"C0267176\" \"C0267187\"\n",
       "[2515] \"C0267211\" \"C0267370\" \"C0267375\" \"C0267380\" \"C0267446\" \"C0267454\"\n",
       "[2521] \"C0267465\" \"C0267557\" \"C0267561\" \"C0267663\" \"C0267750\" \"C0267771\"\n",
       "[2527] \"C0267778\" \"C0267792\" \"C0267797\" \"C0267809\" \"C0267818\" \"C0267834\"\n",
       "[2533] \"C0267878\" \"C0267917\" \"C0267937\" \"C0267941\" \"C0267952\" \"C0267953\"\n",
       "[2539] \"C0267963\" \"C0267990\" \"C0268009\" \"C0268059\" \"C0268060\" \"C0268070\"\n",
       "[2545] \"C0268074\" \"C0268095\" \"C0268118\" \"C0268119\" \"C0268124\" \"C0268135\"\n",
       "[2551] \"C0268136\" \"C0268138\" \"C0268140\" \"C0268141\" \"C0268146\" \"C0268147\"\n",
       "[2557] \"C0268151\" \"C0268155\" \"C0268164\" \"C0268181\" \"C0268186\" \"C0268193\"\n",
       "[2563] \"C0268226\" \"C0268233\" \"C0268237\" \"C0268238\" \"C0268242\" \"C0268243\"\n",
       "[2569] \"C0268250\" \"C0268251\" \"C0268255\" \"C0268263\" \"C0268274\" \"C0268275\"\n",
       "[2575] \"C0268281\" \"C0268285\" \"C0268287\" \"C0268292\" \"C0268296\" \"C0268297\"\n",
       "[2581] \"C0268301\" \"C0268306\" \"C0268307\" \"C0268312\" \"C0268314\" \"C0268318\"\n",
       "[2587] \"C0268328\" \"C0268338\" \"C0268344\" \"C0268353\" \"C0268358\" \"C0268362\"\n",
       "[2593] \"C0268363\" \"C0268374\" \"C0268380\" \"C0268381\" \"C0268382\" \"C0268384\"\n",
       "[2599] \"C0268389\" \"C0268390\" \"C0268392\" \"C0268393\" \"C0268397\" \"C0268406\"\n",
       "[2605] \"C0268407\" \"C0268412\" \"C0268413\" \"C0268414\" \"C0268425\" \"C0268435\"\n",
       "[2611] \"C0268436\" \"C0268446\" \"C0268450\" \"C0268464\" \"C0268465\" \"C0268468\"\n",
       "[2617] \"C0268483\" \"C0268487\" \"C0268490\" \"C0268495\" \"C0268505\" \"C0268540\"\n",
       "[2623] \"C0268542\" \"C0268547\" \"C0268553\" \"C0268568\" \"C0268575\" \"C0268579\"\n",
       "[2629] \"C0268595\" \"C0268596\" \"C0268600\" \"C0268601\" \"C0268615\" \"C0268616\"\n",
       "[2635] \"C0268621\" \"C0268631\" \"C0268647\" \"C0268689\" \"C0268707\" \"C0268732\"\n",
       "[2641] \"C0268742\" \"C0268743\" \"C0268747\" \"C0268800\" \"C0268837\" \"C0268855\"\n",
       "[2647] \"C0269062\" \"C0269084\" \"C0269106\" \"C0269209\" \"C0269972\" \"C0270210\"\n",
       "[2653] \"C0270327\" \"C0270458\" \"C0270496\" \"C0270500\" \"C0270549\" \"C0270707\"\n",
       "[2659] \"C0270720\" \"C0270724\" \"C0270726\" \"C0270733\" \"C0270736\" \"C0270742\"\n",
       "[2665] \"C0270749\" \"C0270763\" \"C0270764\" \"C0270765\" \"C0270780\" \"C0270814\"\n",
       "[2671] \"C0270816\" \"C0270823\" \"C0270834\" \"C0270846\" \"C0270850\" \"C0270851\"\n",
       "[2677] \"C0270853\" \"C0270854\" \"C0270855\" \"C0270858\" \"C0270862\" \"C0270911\"\n",
       "[2683] \"C0270912\" \"C0270913\" \"C0270914\" \"C0270921\" \"C0270922\" \"C0270933\"\n",
       "[2689] \"C0270952\" \"C0270962\" \"C0270968\" \"C0270970\" \"C0270971\" \"C0270972\"\n",
       "[2695] \"C0270985\" \"C0271051\" \"C0271055\" \"C0271073\" \"C0271084\" \"C0271091\"\n",
       "[2701] \"C0271092\" \"C0271097\" \"C0271148\" \"C0271160\" \"C0271183\" \"C0271214\"\n",
       "[2707] \"C0271215\" \"C0271240\" \"C0271270\" \"C0271287\" \"C0271288\" \"C0271375\"\n",
       "[2713] \"C0271386\" \"C0271388\" \"C0271429\" \"C0271441\" \"C0271454\" \"C0271514\"\n",
       "[2719] \"C0271560\" \"C0271561\" \"C0271568\" \"C0271577\" \"C0271582\" \"C0271583\"\n",
       "[2725] \"C0271623\" \"C0271638\" \"C0271642\" \"C0271673\" \"C0271674\" \"C0271678\"\n",
       "[2731] \"C0271682\" \"C0271683\" \"C0271685\" \"C0271686\" \"C0271694\" \"C0271710\"\n",
       "[2737] \"C0271737\" \"C0271738\" \"C0271742\" \"C0271790\" \"C0271791\" \"C0271795\"\n",
       "[2743] \"C0271801\" \"C0271815\" \"C0271826\" \"C0271829\" \"C0271844\" \"C0271846\"\n",
       "[2749] \"C0271858\" \"C0271885\" \"C0271901\" \"C0271907\" \"C0271933\" \"C0271934\"\n",
       "[2755] \"C0271979\" \"C0271980\" \"C0271985\" \"C0271986\" \"C0271990\" \"C0271994\"\n",
       "[2761] \"C0272002\" \"C0272024\" \"C0272027\" \"C0272048\" \"C0272051\" \"C0272087\"\n",
       "[2767] \"C0272126\" \"C0272138\" \"C0272139\" \"C0272170\" \"C0272173\" \"C0272178\"\n",
       "[2773] \"C0272183\" \"C0272187\" \"C0272192\" \"C0272203\" \"C0272236\" \"C0272238\"\n",
       "[2779] \"C0272278\" \"C0272285\" \"C0272286\" \"C0272296\" \"C0272302\" \"C0272322\"\n",
       "[2785] \"C0272324\" \"C0272325\" \"C0272339\" \"C0272350\" \"C0272362\" \"C0272375\"\n",
       "[2791] \"C0272386\" \"C0272398\" \"C0272401\" \"C0273115\" \"C0274294\" \"C0274306\"\n",
       "[2797] \"C0274861\" \"C0274862\" \"C0275551\" \"C0275708\" \"C0275814\" \"C0275904\"\n",
       "[2803] \"C0275911\" \"C0275982\" \"C0276041\" \"C0276089\" \"C0276096\" \"C0276138\"\n",
       "[2809] \"C0276199\" \"C0276226\" \"C0276231\" \"C0276240\" \"C0276253\" \"C0276275\"\n",
       "[2815] \"C0276289\" \"C0276340\" \"C0276430\" \"C0276434\" \"C0276501\" \"C0276535\"\n",
       "[2821] \"C0276548\" \"C0276609\" \"C0276622\" \"C0276623\" \"C0276640\" \"C0276653\"\n",
       "[2827] \"C0276655\" \"C0276665\" \"C0276680\" \"C0276721\" \"C0276883\" \"C0276926\"\n",
       "[2833] \"C0277302\" \"C0277355\" \"C0277524\" \"C0277527\" \"C0277528\" \"C0278076\"\n",
       "[2839] \"C0278080\" \"C0278110\" \"C0278479\" \"C0278480\" \"C0278484\" \"C0278485\"\n",
       "[2845] \"C0278486\" \"C0278487\" \"C0278493\" \"C0278497\" \"C0278498\" \"C0278502\"\n",
       "[2851] \"C0278504\" \"C0278505\" \"C0278506\" \"C0278511\" \"C0278512\" \"C0278517\"\n",
       "[2857] \"C0278519\" \"C0278554\" \"C0278579\" \"C0278584\" \"C0278592\" \"C0278601\"\n",
       "[2863] \"C0278607\" \"C0278608\" \"C0278619\" \"C0278622\" \"C0278649\" \"C0278650\"\n",
       "[2869] \"C0278652\" \"C0278660\" \"C0278678\" \"C0278687\" \"C0278688\" \"C0278689\"\n",
       "[2875] \"C0278694\" \"C0278695\" \"C0278704\" \"C0278721\" \"C0278725\" \"C0278726\"\n",
       "[2881] \"C0278727\" \"C0278762\" \"C0278763\" \"C0278787\" \"C0278791\" \"C0278801\"\n",
       "[2887] \"C0278802\" \"C0278803\" \"C0278804\" \"C0278827\" \"C0278838\" \"C0278840\"\n",
       "[2893] \"C0278844\" \"C0278846\" \"C0278851\" \"C0278864\" \"C0278874\" \"C0278875\"\n",
       "[2899] \"C0278882\" \"C0278952\" \"C0278983\" \"C0278984\" \"C0278987\" \"C0279014\"\n",
       "[2905] \"C0279070\" \"C0279084\" \"C0279525\" \"C0279530\" \"C0279543\" \"C0279544\"\n",
       "[2911] \"C0279545\" \"C0279546\" \"C0279549\" \"C0279557\" \"C0279563\" \"C0279565\"\n",
       "[2917] \"C0279582\" \"C0279583\" \"C0279584\" \"C0279591\" \"C0279592\" \"C0279593\"\n",
       "[2923] \"C0279606\" \"C0279607\" \"C0279612\" \"C0279613\" \"C0279619\" \"C0279622\"\n",
       "[2929] \"C0279627\" \"C0279629\" \"C0279631\" \"C0279632\" \"C0279637\" \"C0279641\"\n",
       "[2935] \"C0279644\" \"C0279645\" \"C0279646\" \"C0279649\" \"C0279650\" \"C0279651\"\n",
       "[2941] \"C0279661\" \"C0279663\" \"C0279672\" \"C0279674\" \"C0279681\" \"C0279682\"\n",
       "[2947] \"C0279698\" \"C0279705\" \"C0279746\" \"C0279748\" \"C0279751\" \"C0279763\"\n",
       "[2953] \"C0279765\" \"C0279821\" \"C0279980\" \"C0279982\" \"C0279984\" \"C0279985\"\n",
       "[2959] \"C0279986\" \"C0279987\" \"C0279988\" \"C0279989\" \"C0280028\" \"C0280089\"\n",
       "[2965] \"C0280131\" \"C0280141\" \"C0280216\" \"C0280217\" \"C0280220\" \"C0280257\"\n",
       "[2971] \"C0280280\" \"C0280299\" \"C0280302\" \"C0280313\" \"C0280317\" \"C0280321\"\n",
       "[2977] \"C0280401\" \"C0280449\" \"C0280451\" \"C0280475\" \"C0280483\" \"C0280630\"\n",
       "[2983] \"C0280631\" \"C0280634\" \"C0280725\" \"C0280745\" \"C0280781\" \"C0280783\"\n",
       "[2989] \"C0280785\" \"C0280787\" \"C0280788\" \"C0280790\" \"C0280793\" \"C0280803\"\n",
       "[2995] \"C0280856\" \"C0280962\" \"C0281267\" \"C0281328\" \"C0281332\" \"C0281479\"\n",
       "[3001] \"C0281508\" \"C0281658\" \"C0281710\" \"C0281773\" \"C0281782\" \"C0281784\"\n",
       "[3007] \"C0281788\" \"C0281899\" \"C0282102\" \"C0282126\" \"C0282201\" \"C0282313\"\n",
       "[3013] \"C0282488\" \"C0282513\" \"C0282525\" \"C0282527\" \"C0282529\" \"C0282548\"\n",
       "[3019] \"C0282550\" \"C0282606\" \"C0282667\" \"C0282687\" \"C0300948\" \"C0302129\"\n",
       "[3025] \"C0302180\" \"C0302254\" \"C0302314\" \"C0302332\" \"C0302358\" \"C0302360\"\n",
       "[3031] \"C0302361\" \"C0302362\" \"C0302465\" \"C0302486\" \"C0302809\" \"C0302810\"\n",
       "[3037] \"C0302859\" \"C0302885\" \"C0302892\" \"C0311220\" \"C0311237\" \"C0311245\"\n",
       "[3043] \"C0311249\" \"C0311276\" \"C0311334\" \"C0311335\" \"C0311338\" \"C0311361\"\n",
       "[3049] \"C0311370\" \"C0311375\" \"C0312420\" \"C0312854\" \"C0332790\" \"C0332853\"\n",
       "[3055] \"C0332877\" \"C0332886\" \"C0332890\" \"C0332915\" \"C0333047\" \"C0333101\"\n",
       "[3061] \"C0333113\" \"C0333133\" \"C0333161\" \"C0333205\" \"C0333209\" \"C0333227\"\n",
       "[3067] \"C0333291\" \"C0333293\" \"C0333297\" \"C0333440\" \"C0333497\" \"C0333519\"\n",
       "[3073] \"C0333559\" \"C0333693\" \"C0333980\" \"C0333997\" \"C0333998\" \"C0334013\"\n",
       "[3079] \"C0334036\" \"C0334050\" \"C0334054\" \"C0334082\" \"C0334083\" \"C0334102\"\n",
       "[3085] \"C0334108\" \"C0334121\" \"C0334166\" \"C0334233\" \"C0334245\" \"C0334246\"\n",
       "[3091] \"C0334247\" \"C0334254\" \"C0334263\" \"C0334265\" \"C0334267\" \"C0334268\"\n",
       "[3097] \"C0334274\" \"C0334277\" \"C0334279\" \"C0334281\" \"C0334287\" \"C0334292\"\n",
       "[3103] \"C0334294\" \"C0334302\" \"C0334307\" \"C0334317\" \"C0334331\" \"C0334342\"\n",
       "[3109] \"C0334344\" \"C0334347\" \"C0334348\" \"C0334355\" \"C0334357\" \"C0334359\"\n",
       "[3115] \"C0334361\" \"C0334371\" \"C0334381\" \"C0334384\" \"C0334403\" \"C0334409\"\n",
       "[3121] \"C0334419\" \"C0334424\" \"C0334431\" \"C0334438\" \"C0334439\" \"C0334447\"\n",
       "[3127] \"C0334448\" \"C0334459\" \"C0334460\" \"C0334463\" \"C0334471\" \"C0334474\"\n",
       "[3133] \"C0334477\" \"C0334486\" \"C0334488\" \"C0334489\" \"C0334507\" \"C0334511\"\n",
       "[3139] \"C0334513\" \"C0334515\" \"C0334517\" \"C0334520\" \"C0334524\" \"C0334529\"\n",
       "[3145] \"C0334533\" \"C0334538\" \"C0334551\" \"C0334565\" \"C0334569\" \"C0334576\"\n",
       "[3151] \"C0334578\" \"C0334580\" \"C0334581\" \"C0334582\" \"C0334583\" \"C0334584\"\n",
       "[3157] \"C0334586\" \"C0334587\" \"C0334588\" \"C0334590\" \"C0334595\" \"C0334596\"\n",
       "[3163] \"C0334605\" \"C0334606\" \"C0334607\" \"C0334608\" \"C0334609\" \"C0334610\"\n",
       "[3169] \"C0334611\" \"C0334619\" \"C0334633\" \"C0334660\" \"C0334663\" \"C0334664\"\n",
       "[3175] \"C0334674\" \"C0334695\" \"C0334699\" \"C0338070\" \"C0338078\" \"C0338113\"\n",
       "[3181] \"C0338430\" \"C0338437\" \"C0338445\" \"C0338455\" \"C0338457\" \"C0338460\"\n",
       "[3187] \"C0338462\" \"C0338474\" \"C0338478\" \"C0338479\" \"C0338480\" \"C0338484\"\n",
       "[3193] \"C0338488\" \"C0338489\" \"C0338502\" \"C0338503\" \"C0338507\" \"C0338508\"\n",
       "[3199] \"C0338573\" \"C0338575\" \"C0338582\" \"C0338591\" \"C0338596\" \"C0338614\"\n",
       "[3205] \"C0338630\" \"C0338657\" \"C0338715\" \"C0338831\" \"C0338908\" \"C0339002\"\n",
       "[3211] \"C0339084\" \"C0339164\" \"C0339182\" \"C0339229\" \"C0339263\" \"C0339273\"\n",
       "[3217] \"C0339277\" \"C0339284\" \"C0339296\" \"C0339303\" \"C0339315\" \"C0339358\"\n",
       "[3223] \"C0339383\" \"C0339467\" \"C0339470\" \"C0339471\" \"C0339505\" \"C0339508\"\n",
       "[3229] \"C0339510\" \"C0339525\" \"C0339526\" \"C0339527\" \"C0339528\" \"C0339530\"\n",
       "[3235] \"C0339534\" \"C0339535\" \"C0339537\" \"C0339539\" \"C0339543\" \"C0339546\"\n",
       "[3241] \"C0339555\" \"C0339578\" \"C0339682\" \"C0339789\" \"C0339864\" \"C0339952\"\n",
       "[3247] \"C0339961\" \"C0339985\" \"C0340014\" \"C0340030\" \"C0340076\" \"C0340100\"\n",
       "[3253] \"C0340164\" \"C0340170\" \"C0340194\" \"C0340231\" \"C0340278\" \"C0340279\"\n",
       "[3259] \"C0340288\" \"C0340291\" \"C0340293\" \"C0340364\" \"C0340375\" \"C0340427\"\n",
       "[3265] \"C0340434\" \"C0340485\" \"C0340489\" \"C0340493\" \"C0340517\" \"C0340537\"\n",
       "[3271] \"C0340543\" \"C0340548\" \"C0340552\" \"C0340557\" \"C0340569\" \"C0340613\"\n",
       "[3277] \"C0340629\" \"C0340630\" \"C0340643\" \"C0340647\" \"C0340766\" \"C0340782\"\n",
       "[3283] \"C0340803\" \"C0340834\" \"C0340896\" \"C0340968\" \"C0340970\" \"C0340971\"\n",
       "[3289] \"C0340992\" \"C0341038\" \"C0341047\" \"C0341059\" \"C0341106\" \"C0341299\"\n",
       "[3295] \"C0341306\" \"C0341318\" \"C0341332\" \"C0341335\" \"C0341395\" \"C0341471\"\n",
       "[3301] \"C0341486\" \"C0341503\" \"C0341698\" \"C0341703\" \"C0341747\" \"C0341787\"\n",
       "[3307] \"C0341823\" \"C0341858\" \"C0341862\" \"C0341869\" \"C0342138\" \"C0342158\"\n",
       "[3313] \"C0342162\" \"C0342185\" \"C0342190\" \"C0342191\" \"C0342199\" \"C0342200\"\n",
       "[3319] \"C0342208\" \"C0342273\" \"C0342276\" \"C0342277\" \"C0342283\" \"C0342286\"\n",
       "[3325] \"C0342288\" \"C0342289\" \"C0342302\" \"C0342335\" \"C0342336\" \"C0342342\"\n",
       "[3331] \"C0342345\" \"C0342381\" \"C0342384\" \"C0342386\" \"C0342388\" \"C0342396\"\n",
       "[3337] \"C0342409\" \"C0342410\" \"C0342418\" \"C0342443\" \"C0342471\" \"C0342474\"\n",
       "[3343] \"C0342482\" \"C0342488\" \"C0342494\" \"C0342500\" \"C0342510\" \"C0342527\"\n",
       "[3349] \"C0342538\" \"C0342541\" \"C0342543\" \"C0342544\" \"C0342546\" \"C0342549\"\n",
       "[3355] \"C0342573\" \"C0342637\" \"C0342642\" \"C0342643\" \"C0342684\" \"C0342686\"\n",
       "[3361] \"C0342687\" \"C0342701\" \"C0342731\" \"C0342749\" \"C0342751\" \"C0342753\"\n",
       "[3367] \"C0342770\" \"C0342776\" \"C0342777\" \"C0342778\" \"C0342782\" \"C0342783\"\n",
       "[3373] \"C0342784\" \"C0342788\" \"C0342790\" \"C0342791\" \"C0342853\" \"C0342879\"\n",
       "[3379] \"C0342880\" \"C0342881\" \"C0342882\" \"C0342883\" \"C0342895\" \"C0342907\"\n",
       "[3385] \"C0342942\" \"C0342953\" \"C0343052\" \"C0343055\" \"C0343065\" \"C0343068\"\n",
       "[3391] \"C0343082\" \"C0343084\" \"C0343239\" \"C0343284\" \"C0343363\" \"C0343378\"\n",
       "[3397] \"C0343386\" \"C0343458\" \"C0343466\" \"C0343640\" \"C0343723\" \"C0343751\"\n",
       "[3403] \"C0343752\" \"C0343755\" \"C0343757\" \"C0343758\" \"C0343800\" \"C0343804\"\n",
       "[3409] \"C0344191\" \"C0344290\" \"C0344432\" \"C0344453\" \"C0344460\" \"C0344461\"\n",
       "[3415] \"C0344479\" \"C0344490\" \"C0344505\" \"C0344516\" \"C0344523\" \"C0344529\"\n",
       "[3421] \"C0344530\" \"C0344539\" \"C0344559\" \"C0344720\" \"C0344724\" \"C0344735\"\n",
       "[3427] \"C0344893\" \"C0344911\" \"C0344917\" \"C0344925\" \"C0344955\" \"C0345030\"\n",
       "[3433] \"C0345049\" \"C0345050\" \"C0345237\" \"C0345244\" \"C0345288\" \"C0345326\"\n",
       "[3439] \"C0345354\" \"C0345392\" \"C0345407\" \"C0345427\" \"C0345893\" \"C0345907\"\n",
       "[3445] \"C0345958\" \"C0345960\" \"C0345963\" \"C0345964\" \"C0345996\" \"C0346010\"\n",
       "[3451] \"C0346011\" \"C0346013\" \"C0346027\" \"C0346037\" \"C0346040\" \"C0346053\"\n",
       "[3457] \"C0346057\" \"C0346109\" \"C0346153\" \"C0346156\" \"C0346163\" \"C0346167\"\n",
       "[3463] \"C0346170\" \"C0346185\" \"C0346200\" \"C0346208\" \"C0346210\" \"C0346251\"\n",
       "[3469] \"C0346255\" \"C0346300\" \"C0346302\" \"C0346303\" \"C0346304\" \"C0346326\"\n",
       "[3475] \"C0346340\" \"C0346359\" \"C0346360\" \"C0346373\" \"C0346388\" \"C0346396\"\n",
       "[3481] \"C0346398\" \"C0346402\" \"C0346421\" \"C0346619\" \"C0346627\" \"C0346629\"\n",
       "[3487] \"C0346648\" \"C0346976\" \"C0346979\" \"C0346989\" \"C0346990\" \"C0346991\"\n",
       "[3493] \"C0346993\" \"C0347073\" \"C0347129\" \"C0347180\" \"C0347390\" \"C0347515\"\n",
       "[3499] \"C0347915\" \"C0347950\" \"C0348374\" \"C0348489\" \"C0348616\" \"C0348801\"\n",
       "[3505] \"C0348890\" \"C0348893\" \"C0348944\" \"C0349081\" \"C0349208\" \"C0349217\"\n",
       "[3511] \"C0349218\" \"C0349231\" \"C0349251\" \"C0349411\" \"C0349458\" \"C0349459\"\n",
       "[3517] \"C0349464\" \"C0349476\" \"C0349489\" \"C0349515\" \"C0349530\" \"C0349532\"\n",
       "[3523] \"C0349534\" \"C0349557\" \"C0349571\" \"C0349578\" \"C0349579\" \"C0349604\"\n",
       "[3529] \"C0349631\" \"C0349632\" \"C0349633\" \"C0349636\" \"C0349637\" \"C0349639\"\n",
       "[3535] \"C0349649\" \"C0349653\" \"C0349658\" \"C0349672\" \"C0349782\" \"C0349788\"\n",
       "[3541] \"C0362030\" \"C0375019\" \"C0375021\" \"C0375024\" \"C0375071\" \"C0375359\"\n",
       "[3547] \"C0375381\" \"C0375530\" \"C0376154\" \"C0376175\" \"C0376280\" \"C0376286\"\n",
       "[3553] \"C0376300\" \"C0376329\" \"C0376338\" \"C0376356\" \"C0376407\" \"C0376524\"\n",
       "[3559] \"C0376532\" \"C0376620\" \"C0376670\" \"C0391820\" \"C0391826\" \"C0391861\"\n",
       "[3565] \"C0391957\" \"C0391958\" \"C0391976\" \"C0392006\" \"C0392077\" \"C0392164\"\n",
       "[3571] \"C0392400\" \"C0392475\" \"C0392476\" \"C0392485\" \"C0392492\" \"C0392553\"\n",
       "[3577] \"C0392557\" \"C0392607\" \"C0392622\" \"C0392663\" \"C0392666\" \"C0392702\"\n",
       "[3583] \"C0392777\" \"C0392784\" \"C0392788\" \"C0392998\" \"C0393484\" \"C0393485\"\n",
       "[3589] \"C0393519\" \"C0393524\" \"C0393525\" \"C0393534\" \"C0393538\" \"C0393541\"\n",
       "[3595] \"C0393547\" \"C0393554\" \"C0393555\" \"C0393556\" \"C0393559\" \"C0393561\"\n",
       "[3601] \"C0393570\" \"C0393574\" \"C0393576\" \"C0393584\" \"C0393590\" \"C0393591\"\n",
       "[3607] \"C0393598\" \"C0393615\" \"C0393626\" \"C0393639\" \"C0393642\" \"C0393665\"\n",
       "[3613] \"C0393672\" \"C0393682\" \"C0393695\" \"C0393698\" \"C0393699\" \"C0393702\"\n",
       "[3619] \"C0393703\" \"C0393706\" \"C0393720\" \"C0393734\" \"C0393739\" \"C0393761\"\n",
       "[3625] \"C0393770\" \"C0393786\" \"C0393807\" \"C0393808\" \"C0393814\" \"C0393818\"\n",
       "[3631] \"C0393819\" \"C0393835\" \"C0393847\" \"C0393907\" \"C0393911\" \"C0393934\"\n",
       "[3637] \"C0394005\" \"C0394006\" \"C0394996\" \"C0395866\" \"C0395886\" \"C0395887\"\n",
       "[3643] \"C0395920\" \"C0395971\" \"C0396060\" \"C0396072\" \"C0398350\" \"C0398367\"\n",
       "[3649] \"C0398568\" \"C0398593\" \"C0398597\" \"C0398621\" \"C0398623\" \"C0398625\"\n",
       "[3655] \"C0398639\" \"C0398642\" \"C0398677\" \"C0398689\" \"C0398691\" \"C0398738\"\n",
       "[3661] \"C0398739\" \"C0398777\" \"C0398791\" \"C0398794\" \"C0399352\" \"C0399367\"\n",
       "[3667] \"C0399368\" \"C0399372\" \"C0399379\" \"C0399406\" \"C0399440\" \"C0399447\"\n",
       "[3673] \"C0399451\" \"C0399452\" \"C0399526\" \"C0400807\" \"C0400821\" \"C0400822\"\n",
       "[3679] \"C0400877\" \"C0400914\" \"C0400936\" \"C0400979\" \"C0401146\" \"C0401151\"\n",
       "[3685] \"C0403367\" \"C0403396\" \"C0403397\" \"C0403398\" \"C0403399\" \"C0403414\"\n",
       "[3691] \"C0403416\" \"C0403440\" \"C0403447\" \"C0403477\" \"C0403518\" \"C0403528\"\n",
       "[3697] \"C0403529\" \"C0403553\" \"C0403555\" \"C0403592\" \"C0403601\" \"C0403622\"\n",
       "[3703] \"C0403654\" \"C0403719\" \"C0403720\" \"C0403766\" \"C0403814\" \"C0403823\"\n",
       "[3709] \"C0403824\" \"C0404521\" \"C0404572\" \"C0405578\" \"C0405580\" \"C0405581\"\n",
       "[3715] \"C0406191\" \"C0406305\" \"C0406317\" \"C0406322\" \"C0406484\" \"C0406486\"\n",
       "[3721] \"C0406500\" \"C0406537\" \"C0406557\" \"C0406612\" \"C0406632\" \"C0406645\"\n",
       "[3727] \"C0406670\" \"C0406704\" \"C0406709\" \"C0406740\" \"C0406775\" \"C0406803\"\n",
       "[3733] \"C0406810\" \"C0406811\" \"C0409338\" \"C0409651\" \"C0409652\" \"C0409676\"\n",
       "[3739] \"C0409818\" \"C0409931\" \"C0409952\" \"C0409979\" \"C0409980\" \"C0409983\"\n",
       "[3745] \"C0409999\" \"C0410000\" \"C0410005\" \"C0410173\" \"C0410174\" \"C0410179\"\n",
       "[3751] \"C0410180\" \"C0410189\" \"C0410190\" \"C0410198\" \"C0410203\" \"C0410204\"\n",
       "[3757] \"C0410207\" \"C0410226\" \"C0410422\" \"C0410438\" \"C0410528\" \"C0410529\"\n",
       "[3763] \"C0410530\" \"C0410533\" \"C0410538\" \"C0410539\" \"C0410574\" \"C0410606\"\n",
       "[3769] \"C0410632\" \"C0410653\" \"C0410698\" \"C0410808\" \"C0410959\" \"C0423062\"\n",
       "[3775] \"C0423063\" \"C0423319\" \"C0423361\" \"C0423848\" \"C0424139\" \"C0424166\"\n",
       "[3781] \"C0424290\" \"C0424296\" \"C0426799\" \"C0426970\" \"C0428791\" \"C0428796\"\n",
       "[3787] \"C0428908\" \"C0429468\" \"C0431108\" \"C0431109\" \"C0431121\" \"C0431122\"\n",
       "[3793] \"C0431128\" \"C0431129\" \"C0431350\" \"C0431352\" \"C0431362\" \"C0431363\"\n",
       "[3799] \"C0431366\" \"C0431368\" \"C0431369\" \"C0431370\" \"C0431375\" \"C0431376\"\n",
       "[3805] \"C0431380\" \"C0431388\" \"C0431391\" \"C0431399\" \"C0431406\" \"C0431420\"\n",
       "[3811] \"C0431447\" \"C0431478\" \"C0431637\" \"C0431663\" \"C0431664\" \"C0431692\"\n",
       "[3817] \"C0431693\" \"C0431718\" \"C0431890\" \"C0432028\" \"C0432098\" \"C0432103\"\n",
       "[3823] \"C0432106\" \"C0432122\" \"C0432123\" \"C0432163\" \"C0432185\" \"C0432195\"\n",
       "[3829] \"C0432197\" \"C0432198\" \"C0432211\" \"C0432215\" \"C0432217\" \"C0432230\"\n",
       "[3835] \"C0432235\" \"C0432242\" \"C0432252\" \"C0432253\" \"C0432254\" \"C0432255\"\n",
       "[3841] \"C0432262\" \"C0432272\" \"C0432283\" \"C0432284\" \"C0432291\" \"C0432292\"\n",
       "[3847] \"C0432306\" \"C0432316\" \"C0432330\" \"C0432333\" \"C0432347\" \"C0432365\"\n",
       "[3853] \"C0432409\" \"C0432411\" \"C0432416\" \"C0432417\" \"C0432443\" \"C0432470\"\n",
       "[3859] \"C0432474\" \"C0432475\" \"C0432487\" \"C0432593\" \"C0438414\" \"C0438696\"\n",
       "[3865] \"C0442833\" \"C0442871\" \"C0442887\" \"C0443306\" \"C0451641\" \"C0451718\"\n",
       "[3871] \"C0451819\" \"C0452138\" \"C0452147\" \"C0452148\" \"C0454455\" \"C0454595\"\n",
       "[3877] \"C0454606\" \"C0454651\" \"C0455731\" \"C0455988\" \"C0456103\" \"C0456107\"\n",
       "[3883] \"C0456483\" \"C0456511\" \"C0456861\" \"C0456863\" \"C0456889\" \"C0457133\"\n",
       "[3889] \"C0457179\" \"C0457190\" \"C0457334\" \"C0457506\" \"C0457521\" \"C0457522\"\n",
       "[3895] \"C0457533\" \"C0457949\" \"C0458219\" \"C0472381\" \"C0472390\" \"C0472761\"\n",
       "[3901] \"C0472762\" \"C0472767\" \"C0472803\" \"C0472813\" \"C0472817\" \"C0473527\"\n",
       "[3907] \"C0473574\" \"C0473583\" \"C0474808\" \"C0474824\" \"C0474855\" \"C0475801\"\n",
       "[3913] \"C0475802\" \"C0476073\" \"C0476147\" \"C0476254\" \"C0476486\" \"C0477432\"\n",
       "[3919] \"C0477474\" \"C0478019\" \"C0483368\" \"C0494261\" \"C0494410\" \"C0495107\"\n",
       "[3925] \"C0496775\" \"C0496779\" \"C0496836\" \"C0496870\" \"C0496892\" \"C0496899\"\n",
       "[3931] \"C0497169\" \"C0497249\" \"C0497299\" \"C0497391\" \"C0497397\" \"C0518948\"\n",
       "[3937] \"C0518989\" \"C0519030\" \"C0519066\" \"C0519097\" \"C0520459\" \"C0520463\"\n",
       "[3943] \"C0520477\" \"C0520571\" \"C0520575\" \"C0520676\" \"C0520678\" \"C0520680\"\n",
       "[3949] \"C0520739\" \"C0520743\" \"C0520788\" \"C0521173\" \"C0521175\" \"C0521533\"\n",
       "[3955] \"C0521585\" \"C0521607\" \"C0521620\" \"C0521622\" \"C0521626\" \"C0521648\"\n",
       "[3961] \"C0521659\" \"C0521664\" \"C0521691\" \"C0521694\" \"C0521707\" \"C0521719\"\n",
       "[3967] \"C0521720\" \"C0521839\" \"C0522254\" \"C0522624\" \"C0522631\" \"C0524524\"\n",
       "[3973] \"C0524582\" \"C0524610\" \"C0524611\" \"C0524661\" \"C0524662\" \"C0524688\"\n",
       "[3979] \"C0524702\" \"C0524730\" \"C0524812\" \"C0524911\" \"C0524988\" \"C0541912\"\n",
       "[3985] \"C0542035\" \"C0542037\" \"C0542519\" \"C0543541\" \"C0543687\" \"C0543697\"\n",
       "[3991] \"C0543698\" \"C0543699\" \"C0543800\" \"C0543822\" \"C0543859\" \"C0543874\"\n",
       "[3997] \"C0543888\" \"C0543891\" \"C0543918\" \"C0543968\" \"C0543982\" \"C0543991\"\n",
       "[4003] \"C0544008\" \"C0544015\" \"C0544796\" \"C0545074\" \"C0545080\" \"C0546125\"\n",
       "[4009] \"C0546126\" \"C0546264\" \"C0546275\" \"C0546476\" \"C0546483\" \"C0546878\"\n",
       "[4015] \"C0546952\" \"C0546953\" \"C0546964\" \"C0546966\" \"C0546967\" \"C0546983\"\n",
       "[4021] \"C0547065\" \"C0548923\" \"C0549175\" \"C0549225\" \"C0549306\" \"C0549357\"\n",
       "[4027] \"C0549379\" \"C0549410\" \"C0549423\" \"C0549463\" \"C0549493\" \"C0549523\"\n",
       "[4033] \"C0553558\" \"C0553573\" \"C0553581\" \"C0553642\" \"C0553647\" \"C0553665\"\n",
       "[4039] \"C0553681\" \"C0553707\" \"C0553730\" \"C0554309\" \"C0554591\" \"C0554628\"\n",
       "[4045] \"C0555202\" \"C0555206\" \"C0555232\" \"C0555278\" \"C0558066\" \"C0558116\"\n",
       "[4051] \"C0558353\" \"C0558355\" \"C0558356\" \"C0558916\" \"C0559031\" \"C0559106\"\n",
       "[4057] \"C0559260\" \"C0559459\" \"C0559483\" \"C0563312\" \"C0565599\" \"C0574083\"\n",
       "[4063] \"C0574084\" \"C0574143\" \"C0574960\" \"C0575059\" \"C0575157\" \"C0575158\"\n",
       "[4069] \"C0576093\" \"C0577620\" \"C0578159\" \"C0578575\" \"C0578870\" \"C0580174\"\n",
       "[4075] \"C0581377\" \"C0581381\" \"C0581384\" \"C0582415\" \"C0584960\" \"C0584984\"\n",
       "[4081] \"C0585129\" \"C0585186\" \"C0585213\" \"C0585274\" \"C0585362\" \"C0585474\"\n",
       "[4087] \"C0585539\" \"C0585955\" \"C0585984\" \"C0586323\" \"C0586354\" \"C0586358\"\n",
       "[4093] \"C0586364\" \"C0587248\" \"C0588006\" \"C0588008\" \"C0588125\" \"C0595905\"\n",
       "[4099] \"C0595936\" \"C0595948\" \"C0595995\" \"C0596032\" \"C0596298\" \"C0596452\"\n",
       "[4105] \"C0597048\" \"C0597124\" \"C0597854\" \"C0597984\" \"C0598226\" \"C0598428\"\n",
       "[4111] \"C0598589\" \"C0598790\" \"C0598798\" \"C0598894\" \"C0599973\" \"C0600031\"\n",
       "[4117] \"C0600033\" \"C0600040\" \"C0600041\" \"C0600066\" \"C0600079\" \"C0600104\"\n",
       "[4123] \"C0600113\" \"C0600241\" \"C0600272\" \"C0600298\" \"C0600327\" \"C0600427\"\n",
       "[4129] \"C0600433\" \"C0600452\" \"C0600467\" \"C0677050\" \"C0677055\" \"C0677483\"\n",
       "[4135] \"C0677501\" \"C0677608\" \"C0677659\" \"C0677728\" \"C0677730\" \"C0677776\"\n",
       "[4141] \"C0677779\" \"C0677865\" \"C0677944\" \"C0677948\" \"C0677949\" \"C0677950\"\n",
       "[4147] \"C0677984\" \"C0678128\" \"C0678199\" \"C0678202\" \"C0678213\" \"C0678255\"\n",
       "[4153] \"C0678329\" \"C0679362\" \"C0679395\" \"C0679403\" \"C0679408\" \"C0679427\"\n",
       "[4159] \"C0680458\" \"C0683322\" \"C0683381\" \"C0684256\" \"C0684275\" \"C0684337\"\n",
       "[4165] \"C0684354\" \"C0684550\" \"C0684743\" \"C0684830\" \"C0684913\" \"C0685381\"\n",
       "[4171] \"C0685409\" \"C0685707\" \"C0685775\" \"C0685787\" \"C0685837\" \"C0685838\"\n",
       "[4177] \"C0685869\" \"C0685889\" \"C0685891\" \"C0685894\" \"C0685898\" \"C0686347\"\n",
       "[4183] \"C0687120\" \"C0687131\" \"C0687132\" \"C0687140\" \"C0687150\" \"C0687720\"\n",
       "[4189] \"C0687751\" \"C0694533\" \"C0694539\" \"C0694549\" \"C0694571\" \"C0699739\"\n",
       "[4195] \"C0699743\" \"C0699753\" \"C0699757\" \"C0699889\" \"C0699893\" \"C0699949\"\n",
       "[4201] \"C0700053\" \"C0700345\" \"C0700359\" \"C0700367\" \"C0700438\" \"C0700501\"\n",
       "[4207] \"C0700502\" \"C0700594\" \"C0700595\" \"C0700613\" \"C0700635\" \"C0700636\"\n",
       "[4213] \"C0700639\" \"C0701807\" \"C0701811\" \"C0701818\" \"C0702157\" \"C0702159\"\n",
       "[4219] \"C0702166\" \"C0702167\" \"C0702169\" \"C0702266\" \"C0728829\" \"C0729233\"\n",
       "[4225] \"C0729353\" \"C0729665\" \"C0729777\" \"C0730276\" \"C0730278\" \"C0730281\"\n",
       "[4231] \"C0730285\" \"C0730290\" \"C0730292\" \"C0730294\" \"C0730295\" \"C0730307\"\n",
       "[4237] \"C0730308\" \"C0730314\" \"C0730315\" \"C0730321\" \"C0730322\" \"C0730607\"\n",
       "[4243] \"C0733682\" \"C0740277\" \"C0740302\" \"C0740304\" \"C0740340\" \"C0740345\"\n",
       "[4249] \"C0740372\" \"C0740376\" \"C0740380\" \"C0740392\" \"C0740394\" \"C0740421\"\n",
       "[4255] \"C0740447\" \"C0740749\" \"C0740766\" \"C0740830\" \"C0740842\" \"C0740852\"\n",
       "[4261] \"C0740858\" \"C0740898\" \"C0740919\" \"C0740985\" \"C0740992\" \"C0741160\"\n",
       "[4267] \"C0741237\" \"C0741260\" \"C0741276\" \"C0741281\" \"C0741682\" \"C0741796\"\n",
       "[4273] \"C0741949\" \"C0741975\" \"C0742034\" \"C0742035\" \"C0742078\" \"C0742132\"\n",
       "[4279] \"C0742395\" \"C0742468\" \"C0742558\" \"C0742597\" \"C0742960\" \"C0743072\"\n",
       "[4285] \"C0743178\" \"C0743332\" \"C0743479\" \"C0743841\" \"C0744130\" \"C0744301\"\n",
       "[4291] \"C0744310\" \"C0744421\" \"C0744471\" \"C0744483\" \"C0744619\" \"C0744620\"\n",
       "[4297] \"C0744669\" \"C0744673\" \"C0744869\" \"C0745091\" \"C0745106\" \"C0745130\"\n",
       "[4303] \"C0745133\" \"C0745153\" \"C0745242\" \"C0745287\" \"C0745730\" \"C0745744\"\n",
       "[4309] \"C0745754\" \"C0746102\" \"C0746306\" \"C0746495\" \"C0746556\" \"C0746731\"\n",
       "[4315] \"C0746787\" \"C0746882\" \"C0746883\" \"C0747085\" \"C0747102\" \"C0747198\"\n",
       "[4321] \"C0747249\" \"C0747479\" \"C0747548\" \"C0747742\" \"C0747820\" \"C0748035\"\n",
       "[4327] \"C0748052\" \"C0748061\" \"C0748073\" \"C0748168\" \"C0748199\" \"C0748351\"\n",
       "[4333] \"C0748355\" \"C0748505\" \"C0748540\" \"C0748607\" \"C0748903\" \"C0748968\"\n",
       "[4339] \"C0749163\" \"C0749420\" \"C0749424\" \"C0750046\" \"C0750145\" \"C0750151\"\n",
       "[4345] \"C0750194\" \"C0750197\" \"C0750887\" \"C0750900\" \"C0750901\" \"C0750905\"\n",
       "[4351] \"C0750927\" \"C0750929\" \"C0750935\" \"C0750936\" \"C0750940\" \"C0750951\"\n",
       "[4357] \"C0750952\" \"C0750974\" \"C0750977\" \"C0750979\" \"C0750987\" \"C0750992\"\n",
       "[4363] \"C0751007\" \"C0751014\" \"C0751019\" \"C0751020\" \"C0751021\" \"C0751022\"\n",
       "[4369] \"C0751036\" \"C0751038\" \"C0751039\" \"C0751042\" \"C0751057\" \"C0751068\"\n",
       "[4375] \"C0751071\" \"C0751072\" \"C0751074\" \"C0751075\" \"C0751081\" \"C0751110\"\n",
       "[4381] \"C0751111\" \"C0751117\" \"C0751118\" \"C0751119\" \"C0751120\" \"C0751122\"\n",
       "[4387] \"C0751124\" \"C0751156\" \"C0751157\" \"C0751177\" \"C0751197\" \"C0751198\"\n",
       "[4393] \"C0751202\" \"C0751207\" \"C0751208\" \"C0751230\" \"C0751249\" \"C0751250\"\n",
       "[4399] \"C0751254\" \"C0751257\" \"C0751263\" \"C0751265\" \"C0751267\" \"C0751268\"\n",
       "[4405] \"C0751285\" \"C0751291\" \"C0751297\" \"C0751303\" \"C0751304\" \"C0751324\"\n",
       "[4411] \"C0751337\" \"C0751339\" \"C0751340\" \"C0751356\" \"C0751357\" \"C0751362\"\n",
       "[4417] \"C0751365\" \"C0751366\" \"C0751374\" \"C0751383\" \"C0751395\" \"C0751406\"\n",
       "[4423] \"C0751414\" \"C0751415\" \"C0751434\" \"C0751435\" \"C0751436\" \"C0751448\"\n",
       "[4429] \"C0751466\" \"C0751483\" \"C0751484\" \"C0751509\" \"C0751522\" \"C0751523\"\n",
       "[4435] \"C0751552\" \"C0751559\" \"C0751560\" \"C0751569\" \"C0751571\" \"C0751576\"\n",
       "[4441] \"C0751587\" \"C0751594\" \"C0751602\" \"C0751603\" \"C0751604\" \"C0751605\"\n",
       "[4447] \"C0751617\" \"C0751633\" \"C0751635\" \"C0751636\" \"C0751657\" \"C0751674\"\n",
       "[4453] \"C0751675\" \"C0751676\" \"C0751688\" \"C0751689\" \"C0751691\" \"C0751699\"\n",
       "[4459] \"C0751706\" \"C0751713\" \"C0751748\" \"C0751753\" \"C0751757\" \"C0751758\"\n",
       "[4465] \"C0751759\" \"C0751760\" \"C0751771\" \"C0751772\" \"C0751776\" \"C0751777\"\n",
       "[4471] \"C0751778\" \"C0751779\" \"C0751780\" \"C0751781\" \"C0751782\" \"C0751783\"\n",
       "[4477] \"C0751785\" \"C0751791\" \"C0751851\" \"C0751852\" \"C0751882\" \"C0751883\"\n",
       "[4483] \"C0751884\" \"C0751885\" \"C0751887\" \"C0751895\" \"C0751908\" \"C0751912\"\n",
       "[4489] \"C0751951\" \"C0751955\" \"C0751956\" \"C0751958\" \"C0751964\" \"C0751965\"\n",
       "[4495] \"C0752097\" \"C0752098\" \"C0752100\" \"C0752101\" \"C0752104\" \"C0752105\"\n",
       "[4501] \"C0752120\" \"C0752121\" \"C0752122\" \"C0752123\" \"C0752124\" \"C0752125\"\n",
       "[4507] \"C0752130\" \"C0752143\" \"C0752156\" \"C0752166\" \"C0752196\" \"C0752197\"\n",
       "[4513] \"C0752198\" \"C0752199\" \"C0752200\" \"C0752201\" \"C0752202\" \"C0752203\"\n",
       "[4519] \"C0752205\" \"C0752206\" \"C0752207\" \"C0752208\" \"C0752210\" \"C0752235\"\n",
       "[4525] \"C0752244\" \"C0752282\" \"C0752304\" \"C0752305\" \"C0752306\" \"C0752307\"\n",
       "[4531] \"C0752308\" \"C0752323\" \"C0752332\" \"C0752335\" \"C0752355\" \"C0795687\"\n",
       "[4537] \"C0795690\" \"C0795692\" \"C0795693\" \"C0795796\" \"C0795801\" \"C0795809\"\n",
       "[4543] \"C0795816\" \"C0795825\" \"C0795830\" \"C0795833\" \"C0795839\" \"C0795841\"\n",
       "[4549] \"C0795845\" \"C0795856\" \"C0795858\" \"C0795864\" \"C0795875\" \"C0795878\"\n",
       "[4555] \"C0795889\" \"C0795898\" \"C0795907\" \"C0795940\" \"C0795949\" \"C0795953\"\n",
       "[4561] \"C0795956\" \"C0795996\" \"C0796004\" \"C0796012\" \"C0796013\" \"C0796016\"\n",
       "[4567] \"C0796022\" \"C0796033\" \"C0796037\" \"C0796068\" \"C0796070\" \"C0796074\"\n",
       "[4573] \"C0796085\" \"C0796113\" \"C0796117\" \"C0796126\" \"C0796135\" \"C0796147\"\n",
       "[4579] \"C0796149\" \"C0796154\" \"C0796160\" \"C0796176\" \"C0796195\" \"C0796206\"\n",
       "[4585] \"C0796215\" \"C0796225\" \"C0796232\" \"C0796250\" \"C0796418\" \"C0796466\"\n",
       "[4591] \"C0796611\" \"C0796663\" \"C0809935\" \"C0810031\" \"C0810330\" \"C0810364\"\n",
       "[4597] \"C0812437\" \"C0813142\" \"C0813147\" \"C0813148\" \"C0814152\" \"C0814154\"\n",
       "[4603] \"C0815107\" \"C0836924\" \"C0846967\" \"C0848548\" \"C0848765\" \"C0849748\"\n",
       "[4609] \"C0850024\" \"C0850572\" \"C0850673\" \"C0850741\" \"C0850918\" \"C0851140\"\n",
       "[4615] \"C0851409\" \"C0851971\" \"C0852262\" \"C0852283\" \"C0852451\" \"C0852654\"\n",
       "[4621] \"C0852711\" \"C0852920\" \"C0852950\" \"C0852975\" \"C0852996\" \"C0853105\"\n",
       "[4627] \"C0853112\" \"C0853193\" \"C0853602\" \"C0853662\" \"C0853888\" \"C0854078\"\n",
       "[4633] \"C0854094\" \"C0854107\" \"C0854110\" \"C0854119\" \"C0854135\" \"C0854178\"\n",
       "[4639] \"C0854193\" \"C0854211\" \"C0854359\" \"C0854530\" \"C0854706\" \"C0854740\"\n",
       "[4645] \"C0854750\" \"C0854776\" \"C0854778\" \"C0854802\" \"C0854867\" \"C0854868\"\n",
       "[4651] \"C0854889\" \"C0854912\" \"C0854914\" \"C0854917\" \"C0854924\" \"C0854985\"\n",
       "[4657] \"C0854988\" \"C0855002\" \"C0855005\" \"C0855052\" \"C0855069\" \"C0855070\"\n",
       "[4663] \"C0855071\" \"C0855073\" \"C0855082\" \"C0855090\" \"C0855095\" \"C0855111\"\n",
       "[4669] \"C0855112\" \"C0855138\" \"C0855139\" \"C0855146\" \"C0855173\" \"C0855197\"\n",
       "[4675] \"C0856053\" \"C0856120\" \"C0856716\" \"C0856727\" \"C0856737\" \"C0856738\"\n",
       "[4681] \"C0856761\" \"C0856830\" \"C0857002\" \"C0857007\" \"C0857070\" \"C0857094\"\n",
       "[4687] \"C0857122\" \"C0857175\" \"C0857305\" \"C0857306\" \"C0857493\" \"C0857501\"\n",
       "[4693] \"C0857836\" \"C0857841\" \"C0857862\" \"C0858004\" \"C0858005\" \"C0858009\"\n",
       "[4699] \"C0858213\" \"C0858321\" \"C0858617\" \"C0858618\" \"C0858681\" \"C0858734\"\n",
       "[4705] \"C0858762\" \"C0858853\" \"C0858864\" \"C0859021\" \"C0859886\" \"C0859976\"\n",
       "[4711] \"C0860027\" \"C0860040\" \"C0860168\" \"C0860197\" \"C0860204\" \"C0860218\"\n",
       "[4717] \"C0860236\" \"C0860451\" \"C0860564\" \"C0860580\" \"C0860594\" \"C0860659\"\n",
       "[4723] \"C0861154\" \"C0861155\" \"C0861352\" \"C0861353\" \"C0861727\" \"C0861748\"\n",
       "[4729] \"C0861876\" \"C0862030\" \"C0862196\" \"C0862312\" \"C0862506\" \"C0862636\"\n",
       "[4735] \"C0862802\" \"C0862878\" \"C0862889\" \"C0863094\" \"C0863106\" \"C0863129\"\n",
       "[4741] \"C0863183\" \"C0863194\" \"C0865214\" \"C0865424\" \"C0865440\" \"C0865800\"\n",
       "[4747] \"C0866588\" \"C0868908\" \"C0869083\" \"C0869220\" \"C0869474\" \"C0869523\"\n",
       "[4753] \"C0869532\" \"C0870082\" \"C0871215\" \"C0871388\" \"C0871610\" \"C0876991\"\n",
       "[4759] \"C0876994\" \"C0877015\" \"C0877017\" \"C0877024\" \"C0877055\" \"C0877104\"\n",
       "[4765] \"C0877173\" \"C0877430\" \"C0877438\" \"C0877445\" \"C0877578\" \"C0877635\"\n",
       "[4771] \"C0877849\" \"C0877854\" \"C0878486\" \"C0878500\" \"C0878520\" \"C0878521\"\n",
       "[4777] \"C0878552\" \"C0878555\" \"C0878631\" \"C0878649\" \"C0878675\" \"C0878676\"\n",
       "[4783] \"C0878677\" \"C0878681\" \"C0878682\" \"C0878684\" \"C0878693\" \"C0878773\"\n",
       "[4789] \"C0879257\" \"C0879615\" \"C0887833\" \"C0887850\" \"C0887866\" \"C0887898\"\n",
       "[4795] \"C0917713\" \"C0917715\" \"C0917796\" \"C0917798\" \"C0917799\" \"C0917800\"\n",
       "[4801] \"C0917805\" \"C0917813\" \"C0917814\" \"C0917816\" \"C0917817\" \"C0917981\"\n",
       "[4807] \"C0917990\" \"C0917996\" \"C0919645\" \"C0919659\" \"C0919715\" \"C0919718\"\n",
       "[4813] \"C0919746\" \"C0919747\" \"C0919890\" \"C0919907\" \"C0919976\" \"C0919989\"\n",
       "[4819] \"C0920028\" \"C0920184\" \"C0920235\" \"C0920296\" \"C0920299\" \"C0920350\"\n",
       "[4825] \"C0920506\" \"C0920646\" \"C0920715\" \"C0936016\" \"C0936215\" \"C0936248\"\n",
       "[4831] \"C0936250\" \"C0936261\" \"C0936282\" \"C0947622\" \"C0947912\" \"C0948120\"\n",
       "[4837] \"C0948168\" \"C0948187\" \"C0948192\" \"C0948201\" \"C0948209\" \"C0948216\"\n",
       "[4843] \"C0948242\" \"C0948245\" \"C0948249\" \"C0948264\" \"C0948268\" \"C0948303\"\n",
       "[4849] \"C0948343\" \"C0948368\" \"C0948379\" \"C0948387\" \"C0948402\" \"C0948444\"\n",
       "[4855] \"C0948480\" \"C0948588\" \"C0948627\" \"C0948740\" \"C0948750\" \"C0948780\"\n",
       "[4861] \"C0948802\" \"C0948853\" \"C0948896\" \"C0948908\" \"C0948976\" \"C0949059\"\n",
       "[4867] \"C0949083\" \"C0949116\" \"C0949272\" \"C0949496\" \"C0949506\" \"C0949541\"\n",
       "[4873] \"C0949570\" \"C0949595\" \"C0949658\" \"C0949690\" \"C0949855\" \"C0949856\"\n",
       "[4879] \"C0949857\" \"C0950121\" \"C0950122\" \"C0971858\" \"C0973461\" \"C0993582\"\n",
       "[4885] \"C1095979\" \"C1096063\" \"C1096116\" \"C1096155\" \"C1096168\" \"C1096184\"\n",
       "[4891] \"C1096197\" \"C1096274\" \"C1096293\" \"C1096452\" \"C1096458\" \"C1096582\"\n",
       "[4897] \"C1096584\" \"C1096616\" \"C1096666\" \"C1096903\" \"C1112155\" \"C1112157\"\n",
       "[4903] \"C1112160\" \"C1112211\" \"C1112213\" \"C1112256\" \"C1112324\" \"C1112338\"\n",
       "[4909] \"C1112356\" \"C1112433\" \"C1112442\" \"C1112459\" \"C1112472\" \"C1112474\"\n",
       "[4915] \"C1112486\" \"C1112570\" \"C1112705\" \"C1112709\" \"C1112734\" \"C1112746\"\n",
       "[4921] \"C1112768\" \"C1135161\" \"C1135188\" \"C1135191\" \"C1135194\" \"C1135196\"\n",
       "[4927] \"C1135361\" \"C1135869\" \"C1136033\" \"C1136084\" \"C1136135\" \"C1136249\"\n",
       "[4933] \"C1136321\" \"C1136382\" \"C1141890\" \"C1141920\" \"C1141926\" \"C1141957\"\n",
       "[4939] \"C1142127\" \"C1142152\" \"C1142166\" \"C1142253\" \"C1142272\" \"C1142276\"\n",
       "[4945] \"C1142339\" \"C1142423\" \"C1142536\" \"C1142553\" \"C1148551\" \"C1167664\"\n",
       "[4951] \"C1167791\" \"C1168198\" \"C1168250\" \"C1168327\" \"C1168328\" \"C1168330\"\n",
       "[4957] \"C1175175\" \"C1184923\" \"C1257840\" \"C1257877\" \"C1257915\" \"C1257925\"\n",
       "[4963] \"C1257963\" \"C1257964\" \"C1257965\" \"C1258085\" \"C1258104\" \"C1258215\"\n",
       "[4969] \"C1258666\" \"C1260325\" \"C1260326\" \"C1260386\" \"C1260710\" \"C1260873\"\n",
       "[4975] \"C1260881\" \"C1260883\" \"C1260894\" \"C1260899\" \"C1260903\" \"C1260954\"\n",
       "[4981] \"C1260959\" \"C1260965\" \"C1261175\" \"C1261470\" \"C1262005\" \"C1262020\"\n",
       "[4987] \"C1262037\" \"C1262091\" \"C1262113\" \"C1262117\" \"C1262147\" \"C1262211\"\n",
       "[4993] \"C1262481\" \"C1262483\" \"C1263666\" \"C1263762\" \"C1263857\" \"C1263858\"\n",
       "[4999] \"C1263988\" \"C1264039\" \"C1264040\" \"C1264041\" \"C1264195\" \"C1264610\"\n",
       "[5005] \"C1265713\" \"C1265996\" \"C1266002\" \"C1266005\" \"C1266010\" \"C1266025\"\n",
       "[5011] \"C1266029\" \"C1266032\" \"C1266042\" \"C1266043\" \"C1266044\" \"C1266045\"\n",
       "[5017] \"C1266050\" \"C1266051\" \"C1266063\" \"C1266065\" \"C1266071\" \"C1266086\"\n",
       "[5023] \"C1266089\" \"C1266090\" \"C1266091\" \"C1266109\" \"C1266119\" \"C1266121\"\n",
       "[5029] \"C1266127\" \"C1266128\" \"C1266129\" \"C1266134\" \"C1266144\" \"C1266146\"\n",
       "[5035] \"C1266157\" \"C1266158\" \"C1266166\" \"C1266177\" \"C1266184\" \"C1266186\"\n",
       "[5041] \"C1266194\" \"C1268935\" \"C1268936\" \"C1271398\" \"C1272352\" \"C1273070\"\n",
       "[5047] \"C1273976\" \"C1274103\" \"C1274224\" \"C1274233\" \"C1274310\" \"C1274323\"\n",
       "[5053] \"C1274648\" \"C1274700\" \"C1274728\" \"C1274788\" \"C1274795\" \"C1274933\"\n",
       "[5059] \"C1274999\" \"C1275078\" \"C1275081\" \"C1275126\" \"C1275217\" \"C1275277\"\n",
       "[5065] \"C1275278\" \"C1275282\" \"C1275321\" \"C1275465\" \"C1275592\" \"C1275661\"\n",
       "[5071] \"C1275668\" \"C1275684\" \"C1275685\" \"C1275808\" \"C1275859\" \"C1276035\"\n",
       "[5077] \"C1276071\" \"C1276072\" \"C1276092\" \"C1276146\" \"C1277187\" \"C1278797\"\n",
       "[5083] \"C1279296\" \"C1279386\" \"C1279412\" \"C1279420\" \"C1279945\" \"C1280433\"\n",
       "[5089] \"C1280798\" \"C1281300\" \"C1281373\" \"C1281914\" \"C1282209\" \"C1282359\"\n",
       "[5095] \"C1282609\" \"C1282952\" \"C1282971\" \"C1282975\" \"C1282979\" \"C1282983\"\n",
       "[5101] \"C1283397\" \"C1285498\" \"C1288283\" \"C1290344\" \"C1290638\" \"C1290645\"\n",
       "[5107] \"C1290807\" \"C1291245\" \"C1291311\" \"C1291312\" \"C1291314\" \"C1291316\"\n",
       "[5113] \"C1291390\" \"C1291557\" \"C1291564\" \"C1292753\" \"C1292754\" \"C1292758\"\n",
       "[5119] \"C1292772\" \"C1292773\" \"C1292775\" \"C1292776\" \"C1292777\" \"C1292779\"\n",
       "[5125] \"C1292780\" \"C1297882\" \"C1297883\" \"C1298681\" \"C1298685\" \"C1298820\"\n",
       "[5131] \"C1299237\" \"C1299240\" \"C1299247\" \"C1299433\" \"C1299493\" \"C1299567\"\n",
       "[5137] \"C1299579\" \"C1299624\" \"C1300257\" \"C1300346\" \"C1300347\" \"C1300585\"\n",
       "[5143] \"C1300682\" \"C1301034\" \"C1301194\" \"C1301359\" \"C1301361\" \"C1301362\"\n",
       "[5149] \"C1301363\" \"C1301509\" \"C1301721\" \"C1301752\" \"C1301937\" \"C1302363\"\n",
       "[5155] \"C1302547\" \"C1302652\" \"C1302772\" \"C1302773\" \"C1302790\" \"C1302808\"\n",
       "[5161] \"C1302995\" \"C1303073\" \"C1303258\" \"C1304140\" \"C1304469\" \"C1304470\"\n",
       "[5167] \"C1304508\" \"C1305122\" \"C1305409\" \"C1305740\" \"C1305904\" \"C1305968\"\n",
       "[5173] \"C1306050\" \"C1306068\" \"C1306122\" \"C1306214\" \"C1306242\" \"C1306341\"\n",
       "[5179] \"C1306557\" \"C1306587\" \"C1306589\" \"C1306726\" \"C1306762\" \"C1306889\"\n",
       "[5185] \"C1314678\" \"C1314694\" \"C1318020\" \"C1318500\" \"C1318518\" \"C1318533\"\n",
       "[5191] \"C1318541\" \"C1318543\" \"C1318544\" \"C1318558\" \"C1318711\" \"C1318881\"\n",
       "[5197] \"C1318973\" \"C1319296\" \"C1319317\" \"C1319466\" \"C1319853\" \"C1319860\"\n",
       "[5203] \"C1320214\" \"C1320453\" \"C1320468\" \"C1320638\" \"C1321422\" \"C1321489\"\n",
       "[5209] \"C1321546\" \"C1321547\" \"C1321551\" \"C1321756\" \"C1321809\" \"C1321865\"\n",
       "[5215] \"C1321872\" \"C1321878\" \"C1321884\" \"C1321905\" \"C1323099\" \"C1327915\"\n",
       "[5221] \"C1327920\" \"C1328252\" \"C1328349\" \"C1328402\" \"C1328407\" \"C1328479\"\n",
       "[5227] \"C1328577\" \"C1328840\" \"C1328843\" \"C1328931\" \"C1332051\" \"C1332078\"\n",
       "[5233] \"C1332079\" \"C1332140\" \"C1332153\" \"C1332166\" \"C1332167\" \"C1332182\"\n",
       "[5239] \"C1332183\" \"C1332184\" \"C1332198\" \"C1332199\" \"C1332200\" \"C1332210\"\n",
       "[5245] \"C1332212\" \"C1332213\" \"C1332214\" \"C1332216\" \"C1332218\" \"C1332221\"\n",
       "[5251] \"C1332225\" \"C1332243\" \"C1332271\" \"C1332309\" \"C1332347\" \"C1332355\"\n",
       "[5257] \"C1332460\" \"C1332562\" \"C1332629\" \"C1332655\" \"C1332833\" \"C1332852\"\n",
       "[5263] \"C1332884\" \"C1332899\" \"C1332900\" \"C1332922\" \"C1332937\" \"C1332942\"\n",
       "[5269] \"C1332943\" \"C1332964\" \"C1332965\" \"C1332966\" \"C1332969\" \"C1332970\"\n",
       "[5275] \"C1332982\" \"C1332985\" \"C1332995\" \"C1332996\" \"C1332998\" \"C1333001\"\n",
       "[5281] \"C1333046\" \"C1333112\" \"C1333116\" \"C1333125\" \"C1333171\" \"C1333172\"\n",
       "[5287] \"C1333177\" \"C1333190\" \"C1333280\" \"C1333292\" \"C1333294\" \"C1333295\"\n",
       "[5293] \"C1333296\" \"C1333324\" \"C1333394\" \"C1333419\" \"C1333431\" \"C1333468\"\n",
       "[5299] \"C1333500\" \"C1333600\" \"C1333620\" \"C1333762\" \"C1333763\" \"C1333768\"\n",
       "[5305] \"C1333782\" \"C1333791\" \"C1333869\" \"C1333878\" \"C1333944\" \"C1333964\"\n",
       "[5311] \"C1333976\" \"C1333977\" \"C1333978\" \"C1333984\" \"C1333985\" \"C1333989\"\n",
       "[5317] \"C1333990\" \"C1333991\" \"C1333992\" \"C1333993\" \"C1334003\" \"C1334008\"\n",
       "[5323] \"C1334011\" \"C1334015\" \"C1334170\" \"C1334177\" \"C1334228\" \"C1334240\"\n",
       "[5329] \"C1334260\" \"C1334261\" \"C1334271\" \"C1334281\" \"C1334363\" \"C1334386\"\n",
       "[5335] \"C1334407\" \"C1334411\" \"C1334455\" \"C1334603\" \"C1334633\" \"C1334634\"\n",
       "[5341] \"C1334647\" \"C1334655\" \"C1334657\" \"C1334699\" \"C1334708\" \"C1334807\"\n",
       "[5347] \"C1334811\" \"C1334815\" \"C1334953\" \"C1334968\" \"C1334978\" \"C1335059\"\n",
       "[5353] \"C1335060\" \"C1335103\" \"C1335107\" \"C1335110\" \"C1335113\" \"C1335146\"\n",
       "[5359] \"C1335167\" \"C1335168\" \"C1335177\" \"C1335299\" \"C1335377\" \"C1335392\"\n",
       "[5365] \"C1335473\" \"C1335483\" \"C1335563\" \"C1335713\" \"C1335723\" \"C1335729\"\n",
       "[5371] \"C1335903\" \"C1335929\" \"C1335965\" \"C1335968\" \"C1335975\" \"C1335976\"\n",
       "[5377] \"C1336030\" \"C1336052\" \"C1336076\" \"C1336077\" \"C1336078\" \"C1336082\"\n",
       "[5383] \"C1336084\" \"C1336117\" \"C1336257\" \"C1336527\" \"C1336538\" \"C1336548\"\n",
       "[5389] \"C1336554\" \"C1336735\" \"C1336745\" \"C1336746\" \"C1336750\" \"C1336751\"\n",
       "[5395] \"C1336753\" \"C1336820\" \"C1336840\" \"C1336861\" \"C1336899\" \"C1336905\"\n",
       "[5401] \"C1337011\" \"C1337012\" \"C1337014\" \"C1337035\" \"C1337036\" \"C1366911\"\n",
       "[5407] \"C1367420\" \"C1367536\" \"C1367554\" \"C1367654\" \"C1368019\" \"C1368107\"\n",
       "[5413] \"C1368237\" \"C1368275\" \"C1368404\" \"C1368771\" \"C1368816\" \"C1368898\"\n",
       "[5419] \"C1368910\" \"C1368911\" \"C1368920\" \"C1370419\" \"C1370723\" \"C1370868\"\n",
       "[5425] \"C1370889\" \"C1377610\" \"C1377843\" \"C1377913\" \"C1377919\" \"C1378050\"\n",
       "[5431] \"C1378511\" \"C1384403\" \"C1384406\" \"C1384408\" \"C1384514\" \"C1384583\"\n",
       "[5437] \"C1384584\" \"C1384589\" \"C1384600\" \"C1384670\" \"C1387164\" \"C1387532\"\n",
       "[5443] \"C1389016\" \"C1389018\" \"C1389102\" \"C1391732\" \"C1392224\" \"C1394891\"\n",
       "[5449] \"C1395512\" \"C1395852\" \"C1398522\" \"C1398786\" \"C1399793\" \"C1399819\"\n",
       "[5455] \"C1399930\" \"C1401084\" \"C1402291\" \"C1402315\" \"C1404837\" \"C1404931\"\n",
       "[5461] \"C1405854\" \"C1406921\" \"C1408174\" \"C1408182\" \"C1409792\" \"C1411934\"\n",
       "[5467] \"C1411966\" \"C1411980\" \"C1412000\" \"C1412014\" \"C1412016\" \"C1412036\"\n",
       "[5473] \"C1415817\" \"C1442786\" \"C1442826\" \"C1442837\" \"C1442965\" \"C1442981\"\n",
       "[5479] \"C1443296\" \"C1443892\" \"C1444680\" \"C1449647\" \"C1449842\" \"C1449843\"\n",
       "[5485] \"C1449844\" \"C1450051\" \"C1455705\" \"C1455718\" \"C1455728\" \"C1455734\"\n",
       "[5491] \"C1455780\" \"C1456145\" \"C1456246\" \"C1456276\" \"C1456418\" \"C1456624\"\n",
       "[5497] \"C1456687\" \"C1456781\" \"C1456784\" \"C1456865\" \"C1456868\" \"C1456873\"\n",
       "[5503] \"C1504336\" \"C1504375\" \"C1504404\" \"C1504412\" \"C1504431\" \"C1504532\"\n",
       "[5509] \"C1509147\" \"C1509148\" \"C1510420\" \"C1510428\" \"C1510431\" \"C1510446\"\n",
       "[5515] \"C1510449\" \"C1510460\" \"C1510475\" \"C1510489\" \"C1510502\" \"C1510885\"\n",
       "[5521] \"C1511306\" \"C1511566\" \"C1511789\" \"C1511934\" \"C1512127\" \"C1512260\"\n",
       "[5527] \"C1512419\" \"C1512433\" \"C1512508\" \"C1512694\" \"C1512709\" \"C1513269\"\n",
       "[5533] \"C1513734\" \"C1514225\" \"C1514422\" \"C1514428\" \"C1515091\" \"C1516061\"\n",
       "[5539] \"C1516490\" \"C1516857\" \"C1518005\" \"C1518693\" \"C1518736\" \"C1519086\"\n",
       "[5545] \"C1519176\" \"C1519214\" \"C1519346\" \"C1519653\" \"C1519666\" \"C1519787\"\n",
       "[5551] \"C1521897\" \"C1522378\" \"C1524032\" \"C1527168\" \"C1527197\" \"C1527231\"\n",
       "[5557] \"C1527303\" \"C1527306\" \"C1527310\" \"C1527335\" \"C1527349\" \"C1527352\"\n",
       "[5563] \"C1527358\" \"C1527366\" \"C1527383\" \"C1527396\" \"C1527402\" \"C1527404\"\n",
       "[5569] \"C1527407\" \"C1527424\" \"C1531553\" \"C1531608\" \"C1531624\" \"C1531773\"\n",
       "[5575] \"C1533022\" \"C1533041\" \"C1533060\" \"C1533161\" \"C1533172\" \"C1533217\"\n",
       "[5581] \"C1533592\" \"C1535939\" \"C1535942\" \"C1535950\" \"C1535953\" \"C1536010\"\n",
       "[5587] \"C1536075\" \"C1536085\" \"C1536148\" \"C1536221\" \"C1536222\" \"C1536451\"\n",
       "[5593] \"C1536500\" \"C1540912\" \"C1541316\" \"C1541317\" \"C1541567\" \"C1541923\"\n",
       "[5599] \"C1542647\" \"C1557335\" \"C1561826\" \"C1561921\" \"C1561989\" \"C1562061\"\n",
       "[5605] \"C1562113\" \"C1562585\" \"C1562689\" \"C1562894\" \"C1562908\" \"C1563697\"\n",
       "[5611] \"C1563705\" \"C1563715\" \"C1563716\" \"C1563719\" \"C1563720\" \"C1563730\"\n",
       "[5617] \"C1565321\" \"C1565662\" \"C1565950\" \"C1565951\" \"C1566302\" \"C1567257\"\n",
       "[5623] \"C1567435\" \"C1567741\" \"C1567742\" \"C1567743\" \"C1567744\" \"C1568247\"\n",
       "[5629] \"C1568248\" \"C1568249\" \"C1568272\" \"C1568363\" \"C1568868\" \"C1569637\"\n",
       "[5635] \"C1571983\" \"C1571984\" \"C1579029\" \"C1579665\" \"C1608389\" \"C1608393\"\n",
       "[5641] \"C1608426\" \"C1608955\" \"C1609433\" \"C1609524\" \"C1609535\" \"C1609538\"\n",
       "[5647] \"C1619692\" \"C1619700\" \"C1619738\" \"C1621719\" \"C1621895\" \"C1621920\"\n",
       "[5653] \"C1622510\" \"C1622814\" \"C1631597\" \"C1632842\" \"C1636149\" \"C1654637\"\n",
       "[5659] \"C1656427\" \"C1689817\" \"C1690006\" \"C1691215\" \"C1691779\" \"C1692871\"\n",
       "[5665] \"C1695689\" \"C1695782\" \"C1696701\" \"C1696708\" \"C1696946\" \"C1697846\"\n",
       "[5671] \"C1697878\" \"C1698259\" \"C1698398\" \"C1698484\" \"C1698581\" \"C1699634\"\n",
       "[5677] \"C1701919\" \"C1701938\" \"C1701939\" \"C1701940\" \"C1704214\" \"C1704230\"\n",
       "[5683] \"C1704231\" \"C1704273\" \"C1704274\" \"C1704320\" \"C1704321\" \"C1704328\"\n",
       "[5689] \"C1704356\" \"C1704374\" \"C1704375\" \"C1704376\" \"C1704377\" \"C1704378\"\n",
       "[5695] \"C1704380\" \"C1704417\" \"C1704423\" \"C1704429\" \"C1704430\" \"C1704431\"\n",
       "[5701] \"C1704981\" \"C1705254\" \"C1706004\" \"C1706595\" \"C1706731\" \"C1706827\"\n",
       "[5707] \"C1707291\" \"C1707439\" \"C1707440\" \"C1707446\" \"C1707544\" \"C1707758\"\n",
       "[5713] \"C1708272\" \"C1708350\" \"C1708353\" \"C1708371\" \"C1708397\" \"C1708502\"\n",
       "[5719] \"C1708550\" \"C1708565\" \"C1708566\" \"C1708604\" \"C1708747\" \"C1708751\"\n",
       "[5725] \"C1708773\" \"C1708781\" \"C1708998\" \"C1709103\" \"C1709246\" \"C1709286\"\n",
       "[5731] \"C1709353\" \"C1709457\" \"C1709527\" \"C1709569\" \"C1709656\" \"C1709661\"\n",
       "[5737] \"C1709735\" \"C1709781\" \"C1710016\" \"C1710026\" \"C1710095\" \"C1710096\"\n",
       "[5743] \"C1710547\" \"C1719494\" \"C1719495\" \"C1719497\" \"C1719498\" \"C1719672\"\n",
       "[5749] \"C1719788\" \"C1720189\" \"C1720251\" \"C1720275\" \"C1720416\" \"C1720452\"\n",
       "[5755] \"C1720505\" \"C1720771\" \"C1720775\" \"C1720811\" \"C1720821\" \"C1720830\"\n",
       "[5761] \"C1720859\" \"C1720860\" \"C1720861\" \"C1720862\" \"C1720863\" \"C1720983\"\n",
       "[5767] \"C1721006\" \"C1721007\" \"C1723764\" \"C1735378\" \"C1735591\" \"C1735608\"\n",
       "[5773] \"C1736154\" \"C1737225\" \"C1737250\" \"C1737261\" \"C1737329\" \"C1739108\"\n",
       "[5779] \"C1739363\" \"C1739382\" \"C1739388\" \"C1739395\" \"C1739405\" \"C1740787\"\n",
       "[5785] \"C1740827\" \"C1740836\" \"C1744558\" \"C1761609\" \"C1785148\" \"C1801950\"\n",
       "[5791] \"C1802395\" \"C1802398\" \"C1809471\" \"C1812607\" \"C1827377\" \"C1827820\"\n",
       "[5797] \"C1827849\" \"C1831619\" \"C1832033\" \"C1832034\" \"C1832097\" \"C1832174\"\n",
       "[5803] \"C1832232\" \"C1832241\" \"C1832274\" \"C1832370\" \"C1832386\" \"C1832399\"\n",
       "[5809] \"C1832409\" \"C1832525\" \"C1832567\" \"C1832588\" \"C1832615\" \"C1832648\"\n",
       "[5815] \"C1832702\" \"C1832708\" \"C1832828\" \"C1832845\" \"C1832884\" \"C1832916\"\n",
       "[5821] \"C1832931\" \"C1832932\" \"C1833030\" \"C1833104\" \"C1833118\" \"C1833213\"\n",
       "[5827] \"C1833219\" \"C1833296\" \"C1833308\" \"C1833321\" \"C1833340\" \"C1833372\"\n",
       "[5833] \"C1833429\" \"C1833561\" \"C1833661\" \"C1833662\" \"C1833683\" \"C1833736\"\n",
       "[5839] \"C1833921\" \"C1833929\" \"C1834120\" \"C1834207\" \"C1834304\" \"C1834405\"\n",
       "[5845] \"C1834481\" \"C1834523\" \"C1834558\" \"C1834570\" \"C1834582\" \"C1834671\"\n",
       "[5851] \"C1834673\" \"C1834674\" \"C1834846\" \"C1834931\" \"C1835121\" \"C1835171\"\n",
       "[5857] \"C1835265\" \"C1835614\" \"C1835664\" \"C1836230\" \"C1836373\" \"C1836438\"\n",
       "[5863] \"C1836635\" \"C1836672\" \"C1836876\" \"C1836906\" \"C1836929\" \"C1837091\"\n",
       "[5869] \"C1837217\" \"C1837249\" \"C1837315\" \"C1837341\" \"C1837454\" \"C1837475\"\n",
       "[5875] \"C1837549\" \"C1837610\" \"C1837658\" \"C1837873\" \"C1838062\" \"C1838100\"\n",
       "[5881] \"C1838114\" \"C1838163\" \"C1838244\" \"C1838261\" \"C1838539\" \"C1838570\"\n",
       "[5887] \"C1838577\" \"C1838604\" \"C1838625\" \"C1838652\" \"C1838701\" \"C1838702\"\n",
       "[5893] \"C1838703\" \"C1838951\" \"C1838979\" \"C1839130\" \"C1839163\" \"C1839259\"\n",
       "[5899] \"C1839264\" \"C1839333\" \"C1839454\" \"C1839615\" \"C1839730\" \"C1839735\"\n",
       "[5905] \"C1839780\" \"C1839832\" \"C1839839\" \"C1840061\" \"C1840235\" \"C1840283\"\n",
       "[5911] \"C1840311\" \"C1840333\" \"C1840348\" \"C1840452\" \"C1840560\" \"C1840572\"\n",
       "[5917] \"C1841972\" \"C1841984\" \"C1842036\" \"C1842083\" \"C1842090\" \"C1842160\"\n",
       "[5923] \"C1842180\" \"C1842247\" \"C1842362\" \"C1842402\" \"C1842466\" \"C1842475\"\n",
       "[5929] \"C1842534\" \"C1842675\" \"C1842836\" \"C1842870\" \"C1842914\" \"C1842937\"\n",
       "[5935] \"C1842981\" \"C1843156\" \"C1843181\" \"C1843256\" \"C1843273\" \"C1843366\"\n",
       "[5941] \"C1843369\" \"C1843463\" \"C1843477\" \"C1843496\" \"C1843504\" \"C1843687\"\n",
       "[5947] \"C1843792\" \"C1843920\" \"C1844020\" \"C1844376\" \"C1844680\" \"C1844830\"\n",
       "[5953] \"C1844853\" \"C1844917\" \"C1845026\" \"C1845027\" \"C1845052\" \"C1845055\"\n",
       "[5959] \"C1845076\" \"C1845118\" \"C1845202\" \"C1845526\" \"C1845667\" \"C1845668\"\n",
       "[5965] \"C1845862\" \"C1846006\" \"C1846009\" \"C1846058\" \"C1846142\" \"C1846265\"\n",
       "[5971] \"C1846343\" \"C1846385\" \"C1846534\" \"C1846545\" \"C1846564\" \"C1846574\"\n",
       "[5977] \"C1846582\" \"C1846647\" \"C1846707\" \"C1847319\" \"C1847352\" \"C1847501\"\n",
       "[5983] \"C1847540\" \"C1847640\" \"C1847651\" \"C1847800\" \"C1847823\" \"C1847967\"\n",
       "[5989] \"C1847973\" \"C1847987\" \"C1848030\" \"C1848172\" \"C1848199\" \"C1848200\"\n",
       "[5995] \"C1848201\" \"C1848296\" \"C1848411\" \"C1848519\" \"C1848533\" \"C1848534\"\n",
       "[6001] \"C1848587\" \"C1848599\" \"C1848638\" \"C1848639\" \"C1848640\" \"C1848641\"\n",
       "[6007] \"C1848736\" \"C1848805\" \"C1848862\" \"C1848934\" \"C1849075\" \"C1849096\"\n",
       "[6013] \"C1849140\" \"C1849156\" \"C1849157\" \"C1849193\" \"C1849236\" \"C1849394\"\n",
       "[6019] \"C1849437\" \"C1849452\" \"C1849508\" \"C1849699\" \"C1849718\" \"C1849792\"\n",
       "[6025] \"C1849930\" \"C1850055\" \"C1850100\" \"C1850343\" \"C1850362\" \"C1850380\"\n",
       "[6031] \"C1850383\" \"C1850386\" \"C1850442\" \"C1850554\" \"C1850597\" \"C1850598\"\n",
       "[6037] \"C1850599\" \"C1850600\" \"C1850625\" \"C1850674\" \"C1850765\" \"C1850808\"\n",
       "[6043] \"C1850889\" \"C1850900\" \"C1850938\" \"C1850959\" \"C1851085\" \"C1851100\"\n",
       "[6049] \"C1851286\" \"C1851402\" \"C1851584\" \"C1851585\" \"C1851710\" \"C1851841\"\n",
       "[6055] \"C1851920\" \"C1851945\" \"C1852020\" \"C1852085\" \"C1852197\" \"C1852242\"\n",
       "[6061] \"C1852271\" \"C1852372\" \"C1852373\" \"C1852438\" \"C1852467\" \"C1852502\"\n",
       "[6067] \"C1852540\" \"C1852551\" \"C1852555\" \"C1852581\" \"C1852759\" \"C1852767\"\n",
       "[6073] \"C1853099\" \"C1853136\" \"C1853195\" \"C1853205\" \"C1853230\" \"C1853235\"\n",
       "[6079] \"C1853238\" \"C1853296\" \"C1853438\" \"C1853444\" \"C1853490\" \"C1853578\"\n",
       "[6085] \"C1853666\" \"C1853698\" \"C1853710\" \"C1853761\" \"C1853833\" \"C1853926\"\n",
       "[6091] \"C1853942\" \"C1853959\" \"C1854021\" \"C1854023\" \"C1854065\" \"C1854107\"\n",
       "[6097] \"C1854150\" \"C1854310\" \"C1854369\" \"C1854442\" \"C1854465\" \"C1854510\"\n",
       "[6103] \"C1854520\" \"C1854678\" \"C1854776\" \"C1854978\" \"C1855008\" \"C1855020\"\n",
       "[6109] \"C1855052\" \"C1855081\" \"C1855119\" \"C1855179\" \"C1855229\" \"C1855263\"\n",
       "[6115] \"C1855304\" \"C1855418\" \"C1855465\" \"C1855472\" \"C1855496\" \"C1855645\"\n",
       "[6121] \"C1855663\" \"C1855675\" \"C1855681\" \"C1855739\" \"C1855794\" \"C1855841\"\n",
       "[6127] \"C1855900\" \"C1855923\" \"C1856058\" \"C1856061\" \"C1856113\" \"C1856184\"\n",
       "[6133] \"C1856266\" \"C1856659\" \"C1856689\" \"C1856883\" \"C1856934\" \"C1857299\"\n",
       "[6139] \"C1857355\" \"C1857395\" \"C1857451\" \"C1857569\" \"C1857586\" \"C1857624\"\n",
       "[6145] \"C1857627\" \"C1857800\" \"C1857941\" \"C1858028\" \"C1858051\" \"C1858080\"\n",
       "[6151] \"C1858085\" \"C1858160\" \"C1858266\" \"C1858361\" \"C1858391\" \"C1858392\"\n",
       "[6157] \"C1858424\" \"C1858477\" \"C1858479\" \"C1858496\" \"C1858501\" \"C1858517\"\n",
       "[6163] \"C1858556\" \"C1858558\" \"C1858565\" \"C1858592\" \"C1858593\" \"C1858679\"\n",
       "[6169] \"C1858680\" \"C1858695\" \"C1858712\" \"C1858723\" \"C1858854\" \"C1858991\"\n",
       "[6175] \"C1859040\" \"C1859047\" \"C1859049\" \"C1859062\" \"C1859101\" \"C1859305\"\n",
       "[6181] \"C1859308\" \"C1859317\" \"C1859486\" \"C1859569\" \"C1859592\" \"C1859598\"\n",
       "[6187] \"C1859648\" \"C1859690\" \"C1859722\" \"C1859726\" \"C1859773\" \"C1859807\"\n",
       "[6193] \"C1859844\" \"C1859972\" \"C1860042\" \"C1860224\" \"C1860339\" \"C1860405\"\n",
       "[6199] \"C1860450\" \"C1860707\" \"C1860787\" \"C1860819\" \"C1860823\" \"C1860991\"\n",
       "[6205] \"C1861028\" \"C1861101\" \"C1861185\" \"C1861303\" \"C1861329\" \"C1861455\"\n",
       "[6211] \"C1861457\" \"C1861537\" \"C1861689\" \"C1861735\" \"C1861736\" \"C1861821\"\n",
       "[6217] \"C1861829\" \"C1861861\" \"C1861906\" \"C1861922\" \"C1861975\" \"C1862103\"\n",
       "[6223] \"C1862112\" \"C1862151\" \"C1862322\" \"C1862324\" \"C1862382\" \"C1862389\"\n",
       "[6229] \"C1862596\" \"C1862839\" \"C1862932\" \"C1862939\" \"C1862941\" \"C1863051\"\n",
       "[6235] \"C1863204\" \"C1863416\" \"C1863512\" \"C1863634\" \"C1863727\" \"C1863753\"\n",
       "[6241] \"C1863843\" \"C1863844\" \"C1863924\" \"C1863999\" \"C1864040\" \"C1864100\"\n",
       "[6247] \"C1864172\" \"C1864205\" \"C1864233\" \"C1864356\" \"C1864389\" \"C1864445\"\n",
       "[6253] \"C1864446\" \"C1864498\" \"C1864723\" \"C1864873\" \"C1864877\" \"C1864903\"\n",
       "[6259] \"C1864923\" \"C1864997\" \"C1865145\" \"C1865285\" \"C1865322\" \"C1865343\"\n",
       "[6265] \"C1865349\" \"C1865384\" \"C1865409\" \"C1865866\" \"C1865868\" \"C1865871\"\n",
       "[6271] \"C1865872\" \"C1865974\" \"C1866095\" \"C1866174\" \"C1866190\" \"C1866260\"\n",
       "[6277] \"C1866282\" \"C1866423\" \"C1866558\" \"C1866559\" \"C1866636\" \"C1866730\"\n",
       "[6283] \"C1866751\" \"C1866855\" \"C1866956\" \"C1866994\" \"C1867300\" \"C1867326\"\n",
       "[6289] \"C1867403\" \"C1867441\" \"C1867773\" \"C1868081\" \"C1868112\" \"C1868117\"\n",
       "[6295] \"C1868139\" \"C1868193\" \"C1868251\" \"C1868594\" \"C1868596\" \"C1868598\"\n",
       "[6301] \"C1868672\" \"C1868675\" \"C1868678\" \"C1868681\" \"C1868682\" \"C1868684\"\n",
       "[6307] \"C1868702\" \"C1868717\" \"C1868720\" \"C1868773\" \"C1868833\" \"C1868851\"\n",
       "[6313] \"C1868885\" \"C1868938\" \"C1868950\" \"C1869117\" \"C1869123\" \"C1876161\"\n",
       "[6319] \"C1876187\" \"C1876203\" \"C1876214\" \"C1879286\" \"C1879312\" \"C1879321\"\n",
       "[6325] \"C1879344\" \"C1879362\" \"C1879641\" \"C1879828\" \"C1881254\" \"C1881600\"\n",
       "[6331] \"C1883018\" \"C1883486\" \"C1947968\" \"C1954751\" \"C1955634\" \"C1955690\"\n",
       "[6337] \"C1955741\" \"C1955743\" \"C1955760\" \"C1955860\" \"C1955861\" \"C1955869\"\n",
       "[6343] \"C1955906\" \"C1955934\" \"C1956089\" \"C1956097\" \"C1956130\" \"C1956131\"\n",
       "[6349] \"C1956132\" \"C1956147\" \"C1956257\" \"C1956258\" \"C1956391\" \"C1959582\"\n",
       "[6355] \"C1959583\" \"C1959584\" \"C1959588\" \"C1959589\" \"C1959620\" \"C1959632\"\n",
       "[6361] \"C1959635\" \"C1960047\" \"C1960048\" \"C1960272\" \"C1960273\" \"C1960443\"\n",
       "[6367] \"C1960458\" \"C1960469\" \"C1960539\" \"C1960546\" \"C1960636\" \"C1960870\"\n",
       "[6373] \"C1960883\" \"C1961835\" \"C1962942\" \"C1963674\" \"C1963763\" \"C1963788\"\n",
       "[6379] \"C1963943\" \"C1963946\" \"C1963961\" \"C1968949\" \"C1969084\" \"C1969342\"\n",
       "[6385] \"C1969343\" \"C1969443\" \"C1969623\" \"C1969653\" \"C1969697\" \"C1970028\"\n",
       "[6391] \"C1970109\" \"C1970209\" \"C1970269\" \"C1970431\" \"C1970712\" \"C1970827\"\n",
       "[6397] \"C1970943\" \"C1970945\" \"C1971021\" \"C1997092\" \"C1997217\" \"C1997740\"\n",
       "[6403] \"C1997910\" \"C1998028\" \"C1998045\" \"C1998083\" \"C2004345\" \"C2004435\"\n",
       "[6409] \"C2004461\" \"C2020284\" \"C2020625\" \"C2025392\" \"C2026186\" \"C2047520\"\n",
       "[6415] \"C2047886\" \"C2051831\" \"C2062372\" \"C2062416\" \"C2062593\" \"C2063326\"\n",
       "[6421] \"C2063389\" \"C2063407\" \"C2063866\" \"C2074900\" \"C2076596\" \"C2076602\"\n",
       "[6427] \"C2079538\" \"C2103602\" \"C2112532\" \"C2118460\" \"C2188153\" \"C2211694\"\n",
       "[6433] \"C2215101\" \"C2216695\" \"C2216702\" \"C2217035\" \"C2237660\" \"C2239246\"\n",
       "[6439] \"C2242472\" \"C2242482\" \"C2242528\" \"C2242539\" \"C2242635\" \"C2242656\"\n",
       "[6445] \"C2242703\" \"C2242704\" \"C2242710\" \"C2242712\" \"C2242728\" \"C2242776\"\n",
       "[6451] \"C2242816\" \"C2242826\" \"C2242987\" \"C2243080\" \"C2243086\" \"C2266788\"\n",
       "[6457] \"C2267227\" \"C2267231\" \"C2267233\" \"C2314882\" \"C2314896\" \"C2314994\"\n",
       "[6463] \"C2315100\" \"C2315209\" \"C2316212\" \"C2316401\" \"C2316786\" \"C2316787\"\n",
       "[6469] \"C2317473\" \"C2347126\" \"C2347613\" \"C2347751\" \"C2347753\" \"C2347760\"\n",
       "[6475] \"C2347762\" \"C2348101\" \"C2348199\" \"C2349453\" \"C2349595\" \"C2349952\"\n",
       "[6481] \"C2350019\" \"C2350037\" \"C2350038\" \"C2350168\" \"C2350234\" \"C2350236\"\n",
       "[6487] \"C2350242\" \"C2350344\" \"C2350529\" \"C2350530\" \"C2350621\" \"C2350873\"\n",
       "[6493] \"C2350878\" \"C2362324\" \"C2362914\" \"C2363065\" \"C2363129\" \"C2363142\"\n",
       "[6499] \"C2363774\" \"C2363819\" \"C2363866\" \"C2363955\" \"C2363973\" \"C2364016\"\n",
       "[6505] \"C2584409\" \"C2584620\" \"C2584774\" \"C2584778\" \"C2585317\" \"C2608055\"\n",
       "[6511] \"C2608084\" \"C2609046\" \"C2609059\" \"C2609071\" \"C2609093\" \"C2609107\"\n",
       "[6517] \"C2609129\" \"C2609247\" \"C2609253\" \"C2609259\" \"C2609268\" \"C2609282\"\n",
       "[6523] \"C2609289\" \"C2609315\" \"C2609414\" \"C2613439\" \"C2673196\" \"C2673431\"\n",
       "[6529] \"C2673609\" \"C2674218\" \"C2674219\" \"C2674616\" \"C2674723\" \"C2675014\"\n",
       "[6535] \"C2675080\" \"C2675481\" \"C2675518\" \"C2675519\" \"C2675746\" \"C2676033\"\n",
       "[6541] \"C2676137\" \"C2676191\" \"C2676272\" \"C2676500\" \"C2676767\" \"C2677092\"\n",
       "[6547] \"C2677180\" \"C2677299\" \"C2677362\" \"C2677504\" \"C2677567\" \"C2677590\"\n",
       "[6553] \"C2677792\" \"C2677794\" \"C2678038\" \"C2678045\" \"C2678061\" \"C2678065\"\n",
       "[6559] \"C2678194\" \"C2678439\" \"C2681923\" \"C2697636\" \"C2697932\" \"C2698045\"\n",
       "[6565] \"C2698259\" \"C2698294\" \"C2698750\" \"C2699510\" \"C2699746\" \"C2700265\"\n",
       "[6571] \"C2700425\" \"C2700438\" \"C2700439\" \"C2700440\" \"C2700553\" \"C2711110\"\n",
       "[6577] \"C2711630\" \"C2712360\" \"C2712711\" \"C2712907\" \"C2712971\" \"C2713442\"\n",
       "[6583] \"C2713443\" \"C2713447\" \"C2717750\" \"C2717759\" \"C2717836\" \"C2717860\"\n",
       "[6589] \"C2717865\" \"C2717866\" \"C2717981\" \"C2718001\" \"C2718017\" \"C2718067\"\n",
       "[6595] \"C2718068\" \"C2718092\" \"C2720163\" \"C2720434\" \"C2720436\" \"C2721566\"\n",
       "[6601] \"C2721603\" \"C2721670\" \"C2721734\" \"C2732267\" \"C2732473\" \"C2732618\"\n",
       "[6607] \"C2732697\" \"C2732890\" \"C2732979\" \"C2733564\" \"C2733623\" \"C2739810\"\n",
       "[6613] \"C2741638\" \"C2745948\" \"C2745959\" \"C2745963\" \"C2745997\" \"C2746066\"\n",
       "[6619] \"C2747802\" \"C2747816\" \"C2747905\" \"C2748055\" \"C2748208\" \"C2748361\"\n",
       "[6625] \"C2748518\" \"C2748536\" \"C2748542\" \"C2748572\" \"C2748884\" \"C2748895\"\n",
       "[6631] \"C2748910\" \"C2749515\" \"C2750440\" \"C2750737\" \"C2750787\" \"C2751052\"\n",
       "[6637] \"C2751067\" \"C2751260\" \"C2751306\" \"C2751492\" \"C2751532\" \"C2751608\"\n",
       "[6643] \"C2751898\" \"C2752089\" \"C2752147\" \"C2825139\" \"C2825149\" \"C2825306\"\n",
       "[6649] \"C2825741\" \"C2826025\" \"C2826177\" \"C2826321\" \"C2826330\" \"C2827362\"\n",
       "[6655] \"C2827407\" \"C2827469\" \"C2827503\" \"C2828150\" \"C2861580\" \"C2861614\"\n",
       "[6661] \"C2873756\" \"C2874188\" \"C2874190\" \"C2875300\" \"C2875316\" \"C2880562\"\n",
       "[6667] \"C2882221\" \"C2887821\" \"C2894027\" \"C2895206\" \"C2900450\" \"C2910340\"\n",
       "[6673] \"C2919166\" \"C2919365\" \"C2919502\" \"C2919755\" \"C2919796\" \"C2919828\"\n",
       "[6679] \"C2919945\" \"C2921125\" \"C2921627\" \"C2930471\" \"C2930617\" \"C2930618\"\n",
       "[6685] \"C2930826\" \"C2930835\" \"C2930839\" \"C2930868\" \"C2930930\" \"C2930967\"\n",
       "[6691] \"C2930970\" \"C2930974\" \"C2930995\" \"C2931019\" \"C2931027\" \"C2931035\"\n",
       "[6697] \"C2931038\" \"C2931071\" \"C2931073\" \"C2931092\" \"C2931104\" \"C2931117\"\n",
       "[6703] \"C2931132\" \"C2931133\" \"C2931150\" \"C2931171\" \"C2931173\" \"C2931187\"\n",
       "[6709] \"C2931189\" \"C2931196\" \"C2931202\" \"C2931205\" \"C2931206\" \"C2931230\"\n",
       "[6715] \"C2931245\" \"C2931246\" \"C2931258\" \"C2931276\" \"C2931352\" \"C2931356\"\n",
       "[6721] \"C2931367\" \"C2931384\" \"C2931404\" \"C2931418\" \"C2931456\" \"C2931480\"\n",
       "[6727] \"C2931488\" \"C2931498\" \"C2931500\" \"C2931618\" \"C2931672\" \"C2931673\"\n",
       "[6733] \"C2931687\" \"C2931689\" \"C2931783\" \"C2931784\" \"C2931788\" \"C2931817\"\n",
       "[6739] \"C2931826\" \"C2931829\" \"C2931838\" \"C2931845\" \"C2931850\" \"C2931862\"\n",
       "[6745] \"C2931875\" \"C2931891\" \"C2931923\" \"C2932678\" \"C2932714\" \"C2932715\"\n",
       "[6751] \"C2936170\" \"C2936258\" \"C2936331\" \"C2936332\" \"C2936346\" \"C2936349\"\n",
       "[6757] \"C2936351\" \"C2936380\" \"C2936406\" \"C2936419\" \"C2936476\" \"C2936664\"\n",
       "[6763] \"C2936694\" \"C2936702\" \"C2936718\" \"C2936739\" \"C2936781\" \"C2936783\"\n",
       "[6769] \"C2936786\" \"C2936791\" \"C2936797\" \"C2936812\" \"C2936846\" \"C2936858\"\n",
       "[6775] \"C2936862\" \"C2936904\" \"C2937224\" \"C2937365\" \"C2937421\" \"C2938905\"\n",
       "[6781] \"C2938940\" \"C2938983\" \"C2939094\" \"C2939174\" \"C2939175\" \"C2939186\"\n",
       "[6787] \"C2939447\" \"C2939461\" \"C2939462\" \"C2939465\" \"C2940785\" \"C2940786\"\n",
       "[6793] \"C2945552\" \"C2945695\" \"C2945767\" \"C2955673\" \"C2959467\" \"C2959547\"\n",
       "[6799] \"C2960127\" \"C2960129\" \"C2960725\" \"C2973529\" \"C2973787\" \"C2976853\"\n",
       "[6805] \"C2981132\" \"C2981140\" \"C2981142\" \"C2981150\" \"C2981344\" \"C2981352\"\n",
       "[6811] \"C2981712\" \"C2985219\" \"C2986536\" \"C2986550\" \"C2986561\" \"C2986622\"\n",
       "[6817] \"C2986658\" \"C2986662\" \"C2986665\" \"C2986682\" \"C2986691\" \"C2986703\"\n",
       "[6823] \"C2986717\" \"C2987120\" \"C2987129\" \"C2987142\" \"C2987143\" \"C2987145\"\n",
       "[6829] \"C2987191\" \"C2987252\" \"C2987516\" \"C3146244\" \"C3146250\" \"C3146251\"\n",
       "[6835] \"C3146252\" \"C3146254\" \"C3146257\" \"C3146271\" \"C3149462\" \"C3149631\"\n",
       "[6841] \"C3149841\" \"C3150275\" \"C3150412\" \"C3150415\" \"C3150416\" \"C3150705\"\n",
       "[6847] \"C3150773\" \"C3150797\" \"C3150852\" \"C3150902\" \"C3150911\" \"C3150943\"\n",
       "[6853] \"C3151057\" \"C3151085\" \"C3151088\" \"C3151140\" \"C3151466\" \"C3151867\"\n",
       "[6859] \"C3159311\" \"C3160738\" \"C3160761\" \"C3160814\" \"C3160815\" \"C3160821\"\n",
       "[6865] \"C3160844\" \"C3160845\" \"C3160847\" \"C3160854\" \"C3160858\" \"C3160886\"\n",
       "[6871] \"C3160887\" \"C3160889\" \"C3160891\" \"C3160901\" \"C3160909\" \"C3160917\"\n",
       "[6877] \"C3161105\" \"C3161174\" \"C3161330\" \"C3161650\" \"C3163622\" \"C3163961\"\n",
       "[6883] \"C3164344\" \"C3164407\" \"C3178789\" \"C3178801\" \"C3178803\" \"C3178805\"\n",
       "[6889] \"C3178806\" \"C3178807\" \"C3179349\" \"C3179455\" \"C3179502\" \"C3203501\"\n",
       "[6895] \"C3203509\" \"C3203533\" \"C3203547\" \"C3203653\" \"C3203657\" \"C3203671\"\n",
       "[6901] \"C3203672\" \"C3250443\" \"C3258293\" \"C3264382\" \"C3266076\" \"C3266101\"\n",
       "[6907] \"C3266102\" \"C3266123\" \"C3266843\" \"C3266898\" \"C3266959\" \"C3267003\"\n",
       "[6913] \"C3267007\" \"C3267047\" \"C3267073\" \"C3267126\" \"C3272265\" \"C3272399\"\n",
       "[6919] \"C3272525\" \"C3272528\" \"C3272607\" \"C3272802\" \"C3272820\" \"C3272841\"\n",
       "[6925] \"C3273010\" \"C3273016\" \"C3273019\" \"C3273033\" \"C3273035\" \"C3273225\"\n",
       "[6931] \"C3273239\" \"C3273254\" \"C3274515\" \"C3274516\" \"C3274592\" \"C3274639\"\n",
       "[6937] \"C3275069\" \"C3275124\" \"C3275445\" \"C3275447\" \"C3276549\" \"C3276706\"\n",
       "[6943] \"C3277059\" \"C3277671\" \"C3278509\" \"C3278811\" \"C3279470\" \"C3279947\"\n",
       "[6949] \"C3280030\" \"C3280392\" \"C3280428\" \"C3280492\" \"C3280586\" \"C3280641\"\n",
       "[6955] \"C3280642\" \"C3280742\" \"C3280795\" \"C3281029\" \"C3281160\" \"C3281200\"\n",
       "[6961] \"C3281201\" \"C3463897\" \"C3463916\" \"C3463992\" \"C3468041\" \"C3468114\"\n",
       "[6967] \"C3469186\" \"C3469526\" \"C3469605\" \"C3472600\" \"C3472608\" \"C3472614\"\n",
       "[6973] \"C3472623\" \"C3489393\" \"C3489396\" \"C3489398\" \"C3489413\" \"C3489529\"\n",
       "[6979] \"C3489576\" \"C3489628\" \"C3489630\" \"C3489704\" \"C3489724\" \"C3489725\"\n",
       "[6985] \"C3489726\" \"C3489733\" \"C3489791\" \"C3489856\" \"C3493776\" \"C3494187\"\n",
       "[6991] \"C3494422\" \"C3494489\" \"C3494506\" \"C3494522\" \"C3494609\" \"C3494623\"\n",
       "[6997] \"C3494652\" \"C3494976\" \"C3495417\" \"C3495426\" \"C3495427\" \"C3495436\"\n",
       "[7003] \"C3495488\" \"C3495489\" \"C3495498\" \"C3495549\" \"C3495566\" \"C3495587\"\n",
       "[7009] \"C3495721\" \"C3495798\" \"C3495801\" \"C3495814\" \"C3495831\" \"C3495917\"\n",
       "[7015] \"C3495919\" \"C3495928\" \"C3495949\" \"C3496069\" \"C3496228\" \"C3496337\"\n",
       "[7021] \"C3501611\" \"C3501843\" \"C3501844\" \"C3501846\" \"C3501847\" \"C3501848\"\n",
       "[7027] \"C3502075\" \"C3502809\" \"C3532222\" \"C3532239\" \"C3532942\" \"C3536572\"\n",
       "[7033] \"C3536593\" \"C3536663\" \"C3536714\" \"C3536715\" \"C3536741\" \"C3536797\"\n",
       "[7039] \"C3536893\" \"C3536983\" \"C3536984\" \"C3538946\" \"C3539063\" \"C3539168\"\n",
       "[7045] \"C3539920\" \"C3540662\" \"C3540764\" \"C3540852\" \"C3541456\" \"C3541517\"\n",
       "[7051] \"C3541994\" \"C3542021\" \"C3542025\" \"C3542501\" \"C3543005\" \"C3544205\"\n",
       "[7057] \"C3544214\" \"C3544266\" \"C3544321\" \"C3549742\" \"C3550234\" \"C3550693\"\n",
       "[7063] \"C3550973\" \"C3551052\" \"C3553264\" \"C3553449\" \"C3553450\" \"C3553517\"\n",
       "[7069] \"C3553676\" \"C3553774\" \"C3553943\" \"C3554224\" \"C3554225\" \"C3554460\"\n",
       "[7075] \"C3642345\" \"C3642346\" \"C3645536\" \"C3647143\" \"C3647902\" \"C3658266\"\n",
       "[7081] \"C3658267\" \"C3658299\" \"C3658301\" \"C3658302\" \"C3661483\" \"C3661489\"\n",
       "[7087] \"C3661519\" \"C3661523\" \"C3661525\" \"C3662483\" \"C3665333\" \"C3665335\"\n",
       "[7093] \"C3665339\" \"C3665342\" \"C3665349\" \"C3665365\" \"C3665382\" \"C3665419\"\n",
       "[7099] \"C3665425\" \"C3665444\" \"C3665464\" \"C3665488\" \"C3665593\" \"C3665596\"\n",
       "[7105] \"C3665628\" \"C3665629\" \"C3665732\" \"C3665858\" \"C3665926\" \"C3665951\"\n",
       "[7111] \"C3666003\" \"C3666017\" \"C3669048\" \"C3669121\" \"C3669122\" \"C3669212\"\n",
       "[7117] \"C3669246\" \"C3671887\" \"C3672440\" \"C3693482\" \"C3694279\" \"C3695086\"\n",
       "[7123] \"C3695127\" \"C3695318\" \"C3696376\" \"C3696898\" \"C3696962\" \"C3697010\"\n",
       "[7129] \"C3697119\" \"C3697269\" \"C3697776\" \"C3698239\" \"C3698407\" \"C3699402\"\n",
       "[7135] \"C3710589\" \"C3711368\" \"C3711370\" \"C3711371\" \"C3711374\" \"C3711376\"\n",
       "[7141] \"C3711380\" \"C3711381\" \"C3711383\" \"C3711384\" \"C3711387\" \"C3711543\"\n",
       "[7147] \"C3711645\" \"C3711850\" \"C3713420\" \"C3714506\" \"C3714524\" \"C3714534\"\n",
       "[7153] \"C3714535\" \"C3714542\" \"C3714580\" \"C3714581\" \"C3714602\" \"C3714618\"\n",
       "[7159] \"C3714619\" \"C3714651\" \"C3714731\" \"C3714753\" \"C3714757\" \"C3714758\"\n",
       "[7165] \"C3714760\" \"C3714796\" \"C3714844\" \"C3714873\" \"C3714899\" \"C3714934\"\n",
       "[7171] \"C3714941\" \"C3714976\" \"C3715128\" \"C3715197\" \"C3805040\" \"C3805043\"\n",
       "[7177] \"C3805054\" \"C3805089\" \"C3805092\" \"C3805143\" \"C3805156\" \"C3805247\"\n",
       "[7183] \"C3805278\" \"C3806403\" \"C3809221\" \"C3809250\" \"C3809768\" \"C3809874\"\n",
       "[7189] \"C3809877\" \"C3810365\" \"C3811918\" \"C3812396\" \"C3812874\" \"C3824872\"\n",
       "[7195] \"C3825276\" \"C3825570\" \"C3825816\" \"C3825879\" \"C3825926\" \"C3825986\"\n",
       "[7201] \"C3826044\" \"C3826128\" \"C3826157\" \"C3826394\" \"C3826457\" \"C3826462\"\n",
       "[7207] \"C3826476\" \"C3826604\" \"C3826743\" \"C3826758\" \"C3827253\" \"C3827793\"\n",
       "[7213] \"C3828416\" \"C3828464\" \"C3828492\" \"C3829122\" \"C3830467\" \"C3830518\"\n",
       "[7219] \"C3831078\" \"C3831784\" \"C3837958\" \"C3838731\" \"C3838965\" \"C3839184\"\n",
       "[7225] \"C3839280\" \"C3839507\" \"C3839589\" \"C3839741\" \"C3839747\" \"C3839868\"\n",
       "[7231] \"C3840049\" \"C3840085\" \"C3840214\" \"C3840252\" \"C3840565\" \"C3841459\"\n",
       "[7237] \"C3841475\" \"C3843756\" \"C3845502\" \"C3850141\" \"C3853041\" \"C3853540\"\n",
       "[7243] \"C3853779\" \"C3853962\" \"C3854173\" \"C3854181\" \"C3854333\" \"C3854388\"\n",
       "[7249] \"C3854434\" \"C3854437\" \"C3854603\" \"C3860213\" \"C3872662\" \"C3873363\"\n",
       "[7255] \"C3873482\" \"C3873491\" \"C3873567\" \"C3874346\" \"C3874381\" \"C3874414\"\n",
       "[7261] \"C3875007\" \"C3875011\" \"C3875265\" \"C3875492\" \"C3887487\" \"C3887494\"\n",
       "[7267] \"C3887514\" \"C3887520\" \"C3887523\" \"C3887527\" \"C3887547\" \"C3887548\"\n",
       "[7273] \"C3887551\" \"C3887558\" \"C3887608\" \"C3887638\" \"C3887639\" \"C3887641\"\n",
       "[7279] \"C3887645\" \"C3887650\" \"C3887654\" \"C3887658\" \"C3887662\" \"C3887668\"\n",
       "[7285] \"C3887678\" \"C3887709\" \"C3887892\" \"C3887896\" \"C3887898\" \"C3887938\"\n",
       "[7291] \"C3887949\" \"C3887964\" \"C3887980\" \"C3888001\" \"C3888004\" \"C3888018\"\n",
       "[7297] \"C3888044\" \"C3888065\" \"C3888088\" \"C3888090\" \"C3888099\" \"C3888102\"\n",
       "[7303] \"C3888104\" \"C3888198\" \"C3888239\" \"C3888317\" \"C3888318\" \"C3888391\"\n",
       "[7309] \"C3888506\" \"C3888521\" \"C3888523\" \"C3888552\" \"C3888570\" \"C3888631\"\n",
       "[7315] \"C3888788\" \"C3888789\" \"C3888864\" \"C3888896\" \"C3888924\" \"C3889038\"\n",
       "[7321] \"C3889136\" \"C3889476\" \"C3889636\" \"C3889979\" \"C3890205\" \"C3890429\"\n",
       "[7327] \"C3890737\" \"C3890941\" \"C3891448\" \"C3891556\" \"C3891815\" \"C3892044\"\n",
       "[7333] \"C3896578\" \"C3896643\" \"C3896673\" \"C3896960\" \"C3896961\" \"C3897045\"\n",
       "[7339] \"C3897070\" \"C3897729\" \"C3897752\" \"C3897877\" \"C3898105\" \"C3898127\"\n",
       "[7345] \"C3898147\" \"C3898222\" \"C3898352\" \"C3898709\" \"C3898765\" \"C3898877\"\n",
       "[7351] \"C3899155\" \"C3899278\" \"C3899281\" \"C3899503\" \"C3899638\" \"C3899645\"\n",
       "[7357] \"C3899646\" \"C3899649\" \"C3899655\" \"C3899658\" \"C3899659\" \"C3899662\"\n",
       "[7363] \"C3899665\" \"C3899668\" \"C3899676\" \"C3899764\" \"C3899844\" \"C3900097\"\n",
       "[7369] \"C3900100\" \"C3900101\" \"C3900104\" \"C4011788\" \"C4012790\" \"C4013425\"\n",
       "[7375] \"C4013426\" \"C4014261\" \"C4014430\" \"C4014795\" \"C4015184\" \"C4015214\"\n",
       "[7381] \"C4015286\" \"C4015558\" \"C4015779\" \"C4018871\" \"C4018978\" \"C4019039\"\n",
       "[7387] \"C4019167\" \"C4020705\" \"C4020732\" \"C4020778\" \"C4020848\" \"C4020898\"\n",
       "[7393] \"C4020969\" \"C4021107\" \"C4021133\" \"C4021164\" \"C4021533\" \"C4021534\"\n",
       "[7399] \"C4021626\" \"C4021759\" \"C4021790\" \"C4021806\" \"C4021812\" \"C4021813\"\n",
       "[7405] \"C4021821\" \"C4021885\" \"C4021985\" \"C4022560\" \"C4022698\" \"C4022735\"\n",
       "[7411] \"C4022739\" \"C4022756\" \"C4022810\" \"C4022873\" \"C4023028\" \"C4023106\"\n",
       "[7417] \"C4023113\" \"C4023190\" \"C4023338\" \"C4023418\" \"C4023560\" \"C4023710\"\n",
       "[7423] \"C4023734\" \"C4024608\" \"C4024795\" \"C4024809\" \"C4024896\" \"C4024900\"\n",
       "[7429] \"C4024934\" \"C4024942\" \"C4024957\" \"C4024981\" \"C4024989\" \"C4025208\"\n",
       "[7435] \"C4025218\" \"C4025231\" \"C4025272\" \"C4025276\" \"C4025320\" \"C4025327\"\n",
       "[7441] \"C4025630\" \"C4025701\" \"C4025735\" \"C4025751\" \"C4025787\" \"C4025790\"\n",
       "[7447] \"C4025823\" \"C4025843\" \"C4025845\" \"C4025846\" \"C4025860\" \"C4025886\"\n",
       "[7453] \"C4038730\" \"C4039764\" \"C4040349\" \"C4041089\" \"C4041147\" \"C4041558\"\n",
       "[7459] \"C4042906\" \"C4042945\" \"C4045968\" \"C4045991\" \"C4046029\" \"C4048195\"\n",
       "[7465] \"C4048228\" \"C4048234\" \"C4048273\" \"C4048297\" \"C4048304\" \"C4048305\"\n",
       "[7471] \"C4048306\" \"C4048549\" \"C4048700\" \"C4048798\" \"C4049005\" \"C4049006\"\n",
       "[7477] \"C4049090\" \"C4049259\" \"C4049262\" \"C4049272\" \"C4049273\" \"C4049279\"\n",
       "[7483] \"C4049328\" \"C4049342\" \"C4049343\" \"C4049381\" \"C4049392\" \"C4049394\"\n",
       "[7489] \"C4049431\" \"C4049446\" \"C4049579\" \"C4049615\" \"C4049636\" \"C4049650\"\n",
       "[7495] \"C4049701\" \"C4049702\" \"C4049711\" \"C4049796\" \"C4049883\" \"C4049993\"\n",
       "[7501] \"C4050064\" \"C4050313\" \"C4050407\" \"C4053506\" \"C4053775\" \"C4054043\"\n",
       "[7507] \"C4054044\" \"C4054085\" \"C4054188\" \"C4054325\" \"C4054543\" \"C4054695\"\n",
       "[7513] \"C4054726\" \"C4054727\" \"C4054891\" \"C4054911\" \"C4055018\" \"C4055183\"\n",
       "[7519] \"C4055342\" \"C4068743\" \"C4068858\" \"C4072872\" \"C4072980\" \"C4073145\"\n",
       "[7525] \"C4075512\" \"C4075603\" \"C4075851\" \"C4076240\" \"C4076533\" \"C4080064\"\n",
       "[7531] \"C4081731\" \"C4082167\" \"C4082173\" \"C4082197\" \"C4082299\" \"C4082304\"\n",
       "[7537] \"C4082305\" \"C4082764\" \"C4082769\" \"C4082974\" \"C4083008\" \"C4083048\"\n",
       "[7543] \"C4083212\" \"C4085238\" \"C4085370\" \"C4085590\" \"C4085595\" \"C4085873\"\n",
       "[7549] \"C4086151\" \"C4086158\" \"C4086159\" \"C4087124\" \"C4087141\" \"C4087273\"\n",
       "[7555] \"C4087347\" \"C4087397\" \"C4087411\" \"C4087436\" \"C4087498\" \"C4087504\"\n",
       "[7561] \"C4087506\" \"C4225202\" \"C4225270\" \"C4225275\" \"C4225380\" \"C4225412\"\n",
       "[7567] \"C4225426\" \"C4225671\" \"C4255010\" \"C4255043\" \"C4255088\" \"C4255193\"\n",
       "[7573] \"C4255374\" \"C4255450\" \"C4264447\" \"C4268599\" \"C4268639\" \"C4268691\"\n",
       "[7579] \"C4268741\" \"C4272578\" \"C4272579\" \"C4273131\" \"C4273988\" \"C4274084\"\n",
       "[7585] \"C4274118\" \"C4274355\" \"C4274391\" \"C4274414\" \"C4275079\" \"C4275170\"\n",
       "[7591] \"C4275179\" \"C4275242\" \"C4281559\" \"C4281785\" \"C4281802\" \"C4282180\"\n",
       "[7597] \"C4283858\" \"C4283978\" \"C4284120\" \"C4284413\" \"C4284586\" \"C4284594\"\n",
       "[7603] \"C4284790\" \"C4285066\" \"C4285693\" \"C4285706\" \"C4285709\" \"C4285716\"\n",
       "[7609] \"C4285730\" \"C4285778\" \"C4285782\" \"C4285789\" \"C4285890\" \"C4285910\"\n",
       "[7615] \"C4285911\" \"C4285937\" \"C4285959\" \"C4287589\" \"C4287590\" \"C4287594\"\n",
       "[7621] \"C4287997\" \"C4288302\" \"C4288305\" \"C4288538\" \"C4288754\" \"C4288891\"\n",
       "[7627] \"C4288892\" \"C4288893\" \"C4288936\" \"C4289580\" \"C4289581\" \"C4289690\"\n",
       "[7633] \"C4289709\" \"C4289792\" \"C4289946\" \"C4289980\" \"C4290000\" \"C4290046\"\n",
       "[7639] \"C4290140\" \"C4296683\" \"C4296893\" \"C4296896\" \"C4302109\" \"C4302185\"\n",
       "[7645] \"C4302200\" \"C4302455\" \"C4302896\" \"C4303163\" \"C4303164\" \"C4303510\"\n",
       "[7651] \"C4303761\" \"C4304021\" \"C4304411\" \"C4304832\" \"C4310512\" \"C4310620\"\n",
       "[7657] \"C4310638\" \"C4310768\" \"C4310809\" \"C4316789\" \"C4316791\" \"C4316810\"\n",
       "[7663] \"C4316812\" \"C4316899\" \"C4316906\" \"C4316909\" \"C4316985\" \"C4316995\"\n",
       "[7669] \"C4317045\" \"C4317089\" \"C4317091\" \"C4317112\" \"C4317124\" \"C4317126\"\n",
       "[7675] \"C4317224\" \"C4317295\" \"C4317320\" \"C4317339\" \"C4321305\" \"C4321324\"\n",
       "[7681] \"C4321358\" \"C4321446\" \"C4321477\" \"C4321502\" \"C4324298\" \"C4324314\"\n",
       "[7687] \"C4324336\" \"C4324374\" \"C4324396\" \"C4324477\" \"C4324548\" \"C4324549\"\n",
       "[7693] \"C4324563\" \"C4324584\" \"C4324621\" \"C4324656\" \"C4324685\" \"C4324721\"\n",
       "[7699] \"C4329280\" \"C4329281\" \"C4329780\" \"C4329988\" \"C4330043\" \"C4330050\"\n",
       "[7705] \"C4330265\" \"C4330695\" \"C4331029\" \"C4331229\" \"C4331269\" \"C4331824\"\n",
       "[7711] \"C4331921\" \"C4476477\" \"C4476767\" \"C4476786\" \"C4478701\" \"C4479344\"\n",
       "[7717] \"C4479708\" \"C4479709\" \"C4505072\" \"C4505163\" \"C4505353\" \"C4505390\"\n",
       "[7723] \"C4505432\" \"C4505456\" \"C4509017\" \"C4509223\" \"C4509226\" \"C4509816\"\n",
       "[7729] \"C4510744\" \"C4510788\" \"C4511035\" \"C4511237\" \"C4511452\" \"C4511595\"\n",
       "[7735] \"C4511620\" \"C4511622\" \"C4511687\" \"C4517098\" \"C4517377\" \"C4518194\"\n",
       "[7741] \"C4518333\" \"C4518356\" \"C4518375\" \"C4518436\" \"C4518562\" \"C4518639\"\n",
       "[7747] \"C4520714\" \"C4520732\" \"C4520764\" \"C4520821\" \"C4520841\" \"C4520843\"\n",
       "[7753] \"C4520898\" \"C4520983\" \"C4521004\" \"C4521228\" \"C4521591\" \"C4521966\"\n",
       "[7759] \"C4522181\" \"C4522245\" \"C4523846\" \"C4523989\" \"C4524040\" \"C4524092\"\n",
       "[7765] \"C4524188\" \"C4524257\" \"C4524264\" \"C4524268\" \"C4524517\" \"C4524839\"\n",
       "[7771] \"C4524856\" \"C4525059\" \"C4525060\" \"C4525062\" \"C4525119\" \"C4525122\"\n",
       "[7777] \"C4525124\" \"C4525405\" \"C4525496\" \"C4525546\" \"C4526713\" \"C4526725\"\n",
       "[7783] \"C4528176\" \"C4528210\" \"C4528408\" \"C4528551\" \"C4528554\" \"C4528557\"\n",
       "[7789] \"C4528561\" \"C4528571\" \"C4528580\" \"C4528588\" \"C4528592\" \"C4528668\"\n",
       "[7795] \"C4531083\" \"C4531100\" \"C4534309\" \"C4534351\" \"C4543702\" \"C4543758\"\n",
       "[7801] \"C4543807\" \"C4543811\" \"C4543822\" \"C4543926\" \"C4543929\" \"C4543948\"\n",
       "[7807] \"C4544822\" \"C4546431\" \"C4551463\" \"C4551479\" \"C4551482\" \"C4551484\"\n",
       "[7813] \"C4551485\" \"C4551487\" \"C4551488\" \"C4551490\" \"C4551492\" \"C4551493\"\n",
       "[7819] \"C4551496\" \"C4551504\" \"C4551505\" \"C4551506\" \"C4551508\" \"C4551511\"\n",
       "[7825] \"C4551514\" \"C4551515\" \"C4551538\" \"C4551548\" \"C4551551\" \"C4551552\"\n",
       "[7831] \"C4551559\" \"C4551568\" \"C4551570\" \"C4551571\" \"C4551584\" \"C4551593\"\n",
       "[7837] \"C4551595\" \"C4551596\" \"C4551602\" \"C4551624\" \"C4551627\" \"C4551628\"\n",
       "[7843] \"C4551630\" \"C4551631\" \"C4551632\" \"C4551633\" \"C4551637\" \"C4551647\"\n",
       "[7849] \"C4551649\" \"C4551650\" \"C4551675\" \"C4551680\" \"C4551689\" \"C4551691\"\n",
       "[7855] \"C4551693\" \"C4551702\" \"C4551714\" \"C4551715\" \"C4551720\" \"C4551722\"\n",
       "[7861] \"C4551771\" \"C4551804\" \"C4551825\" \"C4551835\" \"C4551851\" \"C4551854\"\n",
       "[7867] \"C4551856\" \"C4551858\" \"C4551860\" \"C4551861\" \"C4551862\" \"C4551863\"\n",
       "[7873] \"C4551893\" \"C4551898\" \"C4551902\" \"C4551903\" \"C4551906\" \"C4551910\"\n",
       "[7879] \"C4551951\" \"C4551952\" \"C4551955\" \"C4551957\" \"C4551961\" \"C4551969\"\n",
       "[7885] \"C4551972\" \"C4551973\" \"C4551976\" \"C4551977\" \"C4551979\" \"C4551984\"\n",
       "[7891] \"C4551993\" \"C4552000\" \"C4552003\" \"C4552011\" \"C4552070\" \"C4552072\"\n",
       "[7897] \"C4552079\" \"C4552089\" \"C4552091\" \"C4552097\" \"C4552100\" \"C4552122\"\n",
       "[7903] \"C4552213\" \"C4552224\" \"C4552318\" \"C4552332\" \"C4552482\" \"C4552513\"\n",
       "[7909] \"C4552543\" \"C4552765\" \"C4553088\" \"C4553297\" \"C4553569\" \"C4553705\"\n",
       "[7915] \"C4554007\" \"C4554010\" \"C4554117\" \"C4554215\" \"C4554344\" \"C4554601\"\n",
       "[7921] \"C4684861\" \"C4684865\" \"C4684879\" \"C4684880\" \"C4684942\" \"C4687396\"\n",
       "[7927] \"C4687446\" \"C4688007\" \"C4688308\" \"C4688316\" \"C4688318\" \"C4692625\"\n",
       "[7933] \"C4694057\" \"C4698656\" \"C4698657\" \"C4699152\" \"C4699184\" \"C4699508\"\n",
       "[7939] \"C4699512\" \"C4700045\" \"C4700085\" \"C4704767\" \"C4704862\" \"C4706503\"\n",
       "[7945] \"C4706552\" \"C4707057\" \"C4707237\" \"C4707243\" \"C4707658\" \"C4708599\"\n",
       "[7951] \"C4721208\" \"C4721209\" \"C4721412\" \"C4721413\" \"C4721421\" \"C4721438\"\n",
       "[7957] \"C4721444\" \"C4721452\" \"C4721505\" \"C4721507\" \"C4721508\" \"C4721509\"\n",
       "[7963] \"C4721530\" \"C4721541\" \"C4721555\" \"C4721567\" \"C4721666\" \"C4721698\"\n",
       "[7969] \"C4721766\" \"C4721769\" \"C4721779\" \"C4721845\" \"C4721859\" \"C4721893\"\n",
       "[7975] \"C4721916\" \"C4721919\" \"C4721952\" \"C4722099\" \"C4722172\" \"C4722277\"\n",
       "[7981] \"C4722306\" \"C4722327\" \"C4722328\" \"C4722330\" \"C4722419\" \"C4722446\"\n",
       "[7987] \"C4723619\" \"C4723838\" \"C4725024\" \"C4725076\" \"C4725091\" \"C4725092\"\n",
       "[7993] \"C4725093\" \"C4725671\" \"C4725861\" \"C4726566\" \"C4726609\" \"C4727002\"\n",
       "[7999] \"C4727069\" \"C4727070\" \"C4727087\" \"C4727169\" \"C4727179\" \"C4727182\"\n",
       "[8005] \"C4727578\" \"C4727687\" \"C4727838\" \"C4727916\" \"C4727981\" \"C4727985\"\n",
       "[8011] \"C4728019\" \"C4728035\" \"C4728046\" \"C4728047\" \"C4728082\" \"C4728213\"\n",
       "[8017] \"C4728219\" \"C4728223\" \"C4732730\" \"C4732796\" \"C4733093\" \"C4733094\"\n",
       "[8023] \"C4733095\" \"C4733227\" \"C4733331\" \"C4733333\" \"C4733538\" \"C4739246\"\n",
       "[8029] \"C4743661\" \"C4744444\" \"C4744564\" \"C4744565\" \"C4744712\" \"C4744720\"\n",
       "[8035] \"C4745063\" \"C4745160\" \"C4749274\" \"C4749304\" \"C4749333\" \"C4749367\"\n",
       "[8041] \"C4750288\" \"C4750718\" \"C4755264\" \"C4755296\" \"C4755308\" \"C4757950\"\n",
       "[8047] \"C4759295\""
      ]
     },
     "metadata": {},
     "output_type": "display_data"
    }
   ],
   "source": [
    "diseaseId_All_list"
   ]
  },
  {
   "cell_type": "code",
   "execution_count": 40,
   "id": "cf1b5857-4a57-44d8-8703-e5c958903bfa",
   "metadata": {},
   "outputs": [],
   "source": [
    "# Read disease list\n",
    "diseaseId_All_list = diseaseId_All_DF %>%\n",
    "subset(diseaseType == \"disease\") %>%\n",
    "subset(between(x = NofGenes, left = 5, right = 200)) %>%\n",
    "subset(NofPmids > 1) %>%\n",
    "pull(diseaseId)"
   ]
  },
  {
   "cell_type": "code",
   "execution_count": 53,
   "id": "debcc17e-95d0-453f-93a6-0dfcbfa60efe",
   "metadata": {},
   "outputs": [
    {
     "data": {
      "text/html": [
       "5"
      ],
      "text/latex": [
       "5"
      ],
      "text/markdown": [
       "5"
      ],
      "text/plain": [
       "[1] 5"
      ]
     },
     "metadata": {},
     "output_type": "display_data"
    }
   ],
   "source": [
    "diseaseId_All_DF %>% subset(diseaseId %in% diseaseId_All_list) %>% pull(\"NofGenes\") %>% min()"
   ]
  },
  {
   "cell_type": "code",
   "execution_count": 54,
   "id": "e4ea5767-4581-4910-8ddc-ca3e39c4e8a0",
   "metadata": {},
   "outputs": [],
   "source": [
    "# Sample \n",
    "diseaseId_list = sample(x = diseaseId_All_list, size = 500, replace = FALSE) # not all of them are successful in getting gene list"
   ]
  },
  {
   "cell_type": "code",
   "execution_count": 55,
   "id": "674a1fad-213f-47c1-8e3f-c50ed683a0ad",
   "metadata": {},
   "outputs": [],
   "source": [
    "disease_DF = genesets_empty_DF\n",
    "an.error.occured <- FALSE\n"
   ]
  },
  {
   "cell_type": "code",
   "execution_count": 56,
   "id": "b2854b5e-569f-41ad-aef9-b9509678017e",
   "metadata": {
    "collapsed": true,
    "jupyter": {
     "outputs_hidden": true
    },
    "tags": []
   },
   "outputs": [
    {
     "name": "stdout",
     "output_type": "stream",
     "text": [
      "[1] 1\n",
      "$category\n",
      "[1] \"Client error\"\n",
      "\n",
      "$reason\n",
      "[1] \"Not Found\"\n",
      "\n",
      "$message\n",
      "[1] \"Client error: (404) Not Found\"\n",
      "\n"
     ]
    },
    {
     "name": "stderr",
     "output_type": "stream",
     "text": [
      "No encoding supplied: defaulting to UTF-8.\n",
      "\n"
     ]
    },
    {
     "name": "stdout",
     "output_type": "stream",
     "text": [
      "[1] \"{\\\"detail\\\":\\\"The query didn't return any results\\\",\\\"status_code\\\":404}\"\n",
      "[1] \"no results for the query\"\n",
      "[1] 2\n",
      "$category\n",
      "[1] \"Client error\"\n",
      "\n",
      "$reason\n",
      "[1] \"Not Found\"\n",
      "\n",
      "$message\n",
      "[1] \"Client error: (404) Not Found\"\n",
      "\n"
     ]
    },
    {
     "name": "stderr",
     "output_type": "stream",
     "text": [
      "No encoding supplied: defaulting to UTF-8.\n",
      "\n"
     ]
    },
    {
     "name": "stdout",
     "output_type": "stream",
     "text": [
      "[1] \"{\\\"detail\\\":\\\"The query didn't return any results\\\",\\\"status_code\\\":404}\"\n",
      "[1] \"no results for the query\"\n",
      "[1] 3\n",
      "$category\n",
      "[1] \"Client error\"\n",
      "\n",
      "$reason\n",
      "[1] \"Not Found\"\n",
      "\n",
      "$message\n",
      "[1] \"Client error: (404) Not Found\"\n",
      "\n"
     ]
    },
    {
     "name": "stderr",
     "output_type": "stream",
     "text": [
      "No encoding supplied: defaulting to UTF-8.\n",
      "\n"
     ]
    },
    {
     "name": "stdout",
     "output_type": "stream",
     "text": [
      "[1] \"{\\\"detail\\\":\\\"The query didn't return any results\\\",\\\"status_code\\\":404}\"\n",
      "[1] \"no results for the query\"\n",
      "[1] 4\n",
      "$category\n",
      "[1] \"Client error\"\n",
      "\n",
      "$reason\n",
      "[1] \"Not Found\"\n",
      "\n",
      "$message\n",
      "[1] \"Client error: (404) Not Found\"\n",
      "\n"
     ]
    },
    {
     "name": "stderr",
     "output_type": "stream",
     "text": [
      "No encoding supplied: defaulting to UTF-8.\n",
      "\n"
     ]
    },
    {
     "name": "stdout",
     "output_type": "stream",
     "text": [
      "[1] \"{\\\"detail\\\":\\\"The query didn't return any results\\\",\\\"status_code\\\":404}\"\n",
      "[1] \"no results for the query\"\n",
      "[1] 5\n",
      "[1] 6\n",
      "$category\n",
      "[1] \"Client error\"\n",
      "\n",
      "$reason\n",
      "[1] \"Not Found\"\n",
      "\n",
      "$message\n",
      "[1] \"Client error: (404) Not Found\"\n",
      "\n"
     ]
    },
    {
     "name": "stderr",
     "output_type": "stream",
     "text": [
      "No encoding supplied: defaulting to UTF-8.\n",
      "\n"
     ]
    },
    {
     "name": "stdout",
     "output_type": "stream",
     "text": [
      "[1] \"{\\\"detail\\\":\\\"The query didn't return any results\\\",\\\"status_code\\\":404}\"\n",
      "[1] \"no results for the query\"\n",
      "[1] 7\n",
      "$category\n",
      "[1] \"Client error\"\n",
      "\n",
      "$reason\n",
      "[1] \"Not Found\"\n",
      "\n",
      "$message\n",
      "[1] \"Client error: (404) Not Found\"\n",
      "\n"
     ]
    },
    {
     "name": "stderr",
     "output_type": "stream",
     "text": [
      "No encoding supplied: defaulting to UTF-8.\n",
      "\n"
     ]
    },
    {
     "name": "stdout",
     "output_type": "stream",
     "text": [
      "[1] \"{\\\"detail\\\":\\\"The query didn't return any results\\\",\\\"status_code\\\":404}\"\n",
      "[1] \"no results for the query\"\n",
      "[1] 8\n",
      "$category\n",
      "[1] \"Client error\"\n",
      "\n",
      "$reason\n",
      "[1] \"Not Found\"\n",
      "\n",
      "$message\n",
      "[1] \"Client error: (404) Not Found\"\n",
      "\n"
     ]
    },
    {
     "name": "stderr",
     "output_type": "stream",
     "text": [
      "No encoding supplied: defaulting to UTF-8.\n",
      "\n"
     ]
    },
    {
     "name": "stdout",
     "output_type": "stream",
     "text": [
      "[1] \"{\\\"detail\\\":\\\"The query didn't return any results\\\",\\\"status_code\\\":404}\"\n",
      "[1] \"no results for the query\"\n",
      "[1] 9\n",
      "[1] 10\n",
      "[1] 11\n",
      "$category\n",
      "[1] \"Client error\"\n",
      "\n",
      "$reason\n",
      "[1] \"Not Found\"\n",
      "\n",
      "$message\n",
      "[1] \"Client error: (404) Not Found\"\n",
      "\n"
     ]
    },
    {
     "name": "stderr",
     "output_type": "stream",
     "text": [
      "No encoding supplied: defaulting to UTF-8.\n",
      "\n"
     ]
    },
    {
     "name": "stdout",
     "output_type": "stream",
     "text": [
      "[1] \"{\\\"detail\\\":\\\"The query didn't return any results\\\",\\\"status_code\\\":404}\"\n",
      "[1] \"no results for the query\"\n",
      "[1] 12\n",
      "[1] 13\n",
      "[1] 14\n",
      "$category\n",
      "[1] \"Client error\"\n",
      "\n",
      "$reason\n",
      "[1] \"Not Found\"\n",
      "\n",
      "$message\n",
      "[1] \"Client error: (404) Not Found\"\n",
      "\n"
     ]
    },
    {
     "name": "stderr",
     "output_type": "stream",
     "text": [
      "No encoding supplied: defaulting to UTF-8.\n",
      "\n"
     ]
    },
    {
     "name": "stdout",
     "output_type": "stream",
     "text": [
      "[1] \"{\\\"detail\\\":\\\"The query didn't return any results\\\",\\\"status_code\\\":404}\"\n",
      "[1] \"no results for the query\"\n",
      "[1] 15\n",
      "[1] 16\n",
      "[1] 17\n",
      "[1] 18\n",
      "$category\n",
      "[1] \"Client error\"\n",
      "\n",
      "$reason\n",
      "[1] \"Not Found\"\n",
      "\n",
      "$message\n",
      "[1] \"Client error: (404) Not Found\"\n",
      "\n"
     ]
    },
    {
     "name": "stderr",
     "output_type": "stream",
     "text": [
      "No encoding supplied: defaulting to UTF-8.\n",
      "\n"
     ]
    },
    {
     "name": "stdout",
     "output_type": "stream",
     "text": [
      "[1] \"{\\\"detail\\\":\\\"The query didn't return any results\\\",\\\"status_code\\\":404}\"\n",
      "[1] \"no results for the query\"\n",
      "[1] 19\n",
      "[1] 20\n",
      "$category\n",
      "[1] \"Client error\"\n",
      "\n",
      "$reason\n",
      "[1] \"Not Found\"\n",
      "\n",
      "$message\n",
      "[1] \"Client error: (404) Not Found\"\n",
      "\n"
     ]
    },
    {
     "name": "stderr",
     "output_type": "stream",
     "text": [
      "No encoding supplied: defaulting to UTF-8.\n",
      "\n"
     ]
    },
    {
     "name": "stdout",
     "output_type": "stream",
     "text": [
      "[1] \"{\\\"detail\\\":\\\"The query didn't return any results\\\",\\\"status_code\\\":404}\"\n",
      "[1] \"no results for the query\"\n",
      "[1] 21\n",
      "[1] 22\n",
      "[1] 23\n",
      "$category\n",
      "[1] \"Client error\"\n",
      "\n",
      "$reason\n",
      "[1] \"Not Found\"\n",
      "\n",
      "$message\n",
      "[1] \"Client error: (404) Not Found\"\n",
      "\n"
     ]
    },
    {
     "name": "stderr",
     "output_type": "stream",
     "text": [
      "No encoding supplied: defaulting to UTF-8.\n",
      "\n"
     ]
    },
    {
     "name": "stdout",
     "output_type": "stream",
     "text": [
      "[1] \"{\\\"detail\\\":\\\"The query didn't return any results\\\",\\\"status_code\\\":404}\"\n",
      "[1] \"no results for the query\"\n",
      "[1] 24\n",
      "[1] 25\n",
      "[1] 26\n",
      "$category\n",
      "[1] \"Client error\"\n",
      "\n",
      "$reason\n",
      "[1] \"Not Found\"\n",
      "\n",
      "$message\n",
      "[1] \"Client error: (404) Not Found\"\n",
      "\n"
     ]
    },
    {
     "name": "stderr",
     "output_type": "stream",
     "text": [
      "No encoding supplied: defaulting to UTF-8.\n",
      "\n"
     ]
    },
    {
     "name": "stdout",
     "output_type": "stream",
     "text": [
      "[1] \"{\\\"detail\\\":\\\"The query didn't return any results\\\",\\\"status_code\\\":404}\"\n",
      "[1] \"no results for the query\"\n",
      "[1] 27\n",
      "$category\n",
      "[1] \"Client error\"\n",
      "\n",
      "$reason\n",
      "[1] \"Not Found\"\n",
      "\n",
      "$message\n",
      "[1] \"Client error: (404) Not Found\"\n",
      "\n"
     ]
    },
    {
     "name": "stderr",
     "output_type": "stream",
     "text": [
      "No encoding supplied: defaulting to UTF-8.\n",
      "\n"
     ]
    },
    {
     "name": "stdout",
     "output_type": "stream",
     "text": [
      "[1] \"{\\\"detail\\\":\\\"The query didn't return any results\\\",\\\"status_code\\\":404}\"\n",
      "[1] \"no results for the query\"\n",
      "[1] 28\n",
      "[1] 29\n",
      "[1] 30\n",
      "$category\n",
      "[1] \"Client error\"\n",
      "\n",
      "$reason\n",
      "[1] \"Not Found\"\n",
      "\n",
      "$message\n",
      "[1] \"Client error: (404) Not Found\"\n",
      "\n"
     ]
    },
    {
     "name": "stderr",
     "output_type": "stream",
     "text": [
      "No encoding supplied: defaulting to UTF-8.\n",
      "\n"
     ]
    },
    {
     "name": "stdout",
     "output_type": "stream",
     "text": [
      "[1] \"{\\\"detail\\\":\\\"The query didn't return any results\\\",\\\"status_code\\\":404}\"\n",
      "[1] \"no results for the query\"\n",
      "[1] 31\n",
      "$category\n",
      "[1] \"Client error\"\n",
      "\n",
      "$reason\n",
      "[1] \"Not Found\"\n",
      "\n",
      "$message\n",
      "[1] \"Client error: (404) Not Found\"\n",
      "\n"
     ]
    },
    {
     "name": "stderr",
     "output_type": "stream",
     "text": [
      "No encoding supplied: defaulting to UTF-8.\n",
      "\n"
     ]
    },
    {
     "name": "stdout",
     "output_type": "stream",
     "text": [
      "[1] \"{\\\"detail\\\":\\\"The query didn't return any results\\\",\\\"status_code\\\":404}\"\n",
      "[1] \"no results for the query\"\n",
      "[1] 32\n",
      "[1] 33\n",
      "[1] 34\n",
      "[1] 35\n",
      "[1] 36\n",
      "$category\n",
      "[1] \"Client error\"\n",
      "\n",
      "$reason\n",
      "[1] \"Not Found\"\n",
      "\n",
      "$message\n",
      "[1] \"Client error: (404) Not Found\"\n",
      "\n"
     ]
    },
    {
     "name": "stderr",
     "output_type": "stream",
     "text": [
      "No encoding supplied: defaulting to UTF-8.\n",
      "\n"
     ]
    },
    {
     "name": "stdout",
     "output_type": "stream",
     "text": [
      "[1] \"{\\\"detail\\\":\\\"The query didn't return any results\\\",\\\"status_code\\\":404}\"\n",
      "[1] \"no results for the query\"\n",
      "[1] 37\n",
      "$category\n",
      "[1] \"Client error\"\n",
      "\n",
      "$reason\n",
      "[1] \"Not Found\"\n",
      "\n",
      "$message\n",
      "[1] \"Client error: (404) Not Found\"\n",
      "\n"
     ]
    },
    {
     "name": "stderr",
     "output_type": "stream",
     "text": [
      "No encoding supplied: defaulting to UTF-8.\n",
      "\n"
     ]
    },
    {
     "name": "stdout",
     "output_type": "stream",
     "text": [
      "[1] \"{\\\"detail\\\":\\\"The query didn't return any results\\\",\\\"status_code\\\":404}\"\n",
      "[1] \"no results for the query\"\n",
      "[1] 38\n",
      "[1] 39\n",
      "$category\n",
      "[1] \"Client error\"\n",
      "\n",
      "$reason\n",
      "[1] \"Not Found\"\n",
      "\n",
      "$message\n",
      "[1] \"Client error: (404) Not Found\"\n",
      "\n"
     ]
    },
    {
     "name": "stderr",
     "output_type": "stream",
     "text": [
      "No encoding supplied: defaulting to UTF-8.\n",
      "\n"
     ]
    },
    {
     "name": "stdout",
     "output_type": "stream",
     "text": [
      "[1] \"{\\\"detail\\\":\\\"The query didn't return any results\\\",\\\"status_code\\\":404}\"\n",
      "[1] \"no results for the query\"\n",
      "[1] 40\n",
      "$category\n",
      "[1] \"Client error\"\n",
      "\n",
      "$reason\n",
      "[1] \"Not Found\"\n",
      "\n",
      "$message\n",
      "[1] \"Client error: (404) Not Found\"\n",
      "\n"
     ]
    },
    {
     "name": "stderr",
     "output_type": "stream",
     "text": [
      "No encoding supplied: defaulting to UTF-8.\n",
      "\n"
     ]
    },
    {
     "name": "stdout",
     "output_type": "stream",
     "text": [
      "[1] \"{\\\"detail\\\":\\\"The query didn't return any results\\\",\\\"status_code\\\":404}\"\n",
      "[1] \"no results for the query\"\n",
      "[1] 41\n",
      "$category\n",
      "[1] \"Client error\"\n",
      "\n",
      "$reason\n",
      "[1] \"Not Found\"\n",
      "\n",
      "$message\n",
      "[1] \"Client error: (404) Not Found\"\n",
      "\n"
     ]
    },
    {
     "name": "stderr",
     "output_type": "stream",
     "text": [
      "No encoding supplied: defaulting to UTF-8.\n",
      "\n"
     ]
    },
    {
     "name": "stdout",
     "output_type": "stream",
     "text": [
      "[1] \"{\\\"detail\\\":\\\"The query didn't return any results\\\",\\\"status_code\\\":404}\"\n",
      "[1] \"no results for the query\"\n",
      "[1] 42\n",
      "[1] 43\n",
      "[1] 44\n",
      "$category\n",
      "[1] \"Client error\"\n",
      "\n",
      "$reason\n",
      "[1] \"Not Found\"\n",
      "\n",
      "$message\n",
      "[1] \"Client error: (404) Not Found\"\n",
      "\n"
     ]
    },
    {
     "name": "stderr",
     "output_type": "stream",
     "text": [
      "No encoding supplied: defaulting to UTF-8.\n",
      "\n"
     ]
    },
    {
     "name": "stdout",
     "output_type": "stream",
     "text": [
      "[1] \"{\\\"detail\\\":\\\"The query didn't return any results\\\",\\\"status_code\\\":404}\"\n",
      "[1] \"no results for the query\"\n",
      "[1] 45\n",
      "$category\n",
      "[1] \"Client error\"\n",
      "\n",
      "$reason\n",
      "[1] \"Not Found\"\n",
      "\n",
      "$message\n",
      "[1] \"Client error: (404) Not Found\"\n",
      "\n"
     ]
    },
    {
     "name": "stderr",
     "output_type": "stream",
     "text": [
      "No encoding supplied: defaulting to UTF-8.\n",
      "\n"
     ]
    },
    {
     "name": "stdout",
     "output_type": "stream",
     "text": [
      "[1] \"{\\\"detail\\\":\\\"The query didn't return any results\\\",\\\"status_code\\\":404}\"\n",
      "[1] \"no results for the query\"\n",
      "[1] 46\n",
      "$category\n",
      "[1] \"Client error\"\n",
      "\n",
      "$reason\n",
      "[1] \"Not Found\"\n",
      "\n",
      "$message\n",
      "[1] \"Client error: (404) Not Found\"\n",
      "\n"
     ]
    },
    {
     "name": "stderr",
     "output_type": "stream",
     "text": [
      "No encoding supplied: defaulting to UTF-8.\n",
      "\n"
     ]
    },
    {
     "name": "stdout",
     "output_type": "stream",
     "text": [
      "[1] \"{\\\"detail\\\":\\\"The query didn't return any results\\\",\\\"status_code\\\":404}\"\n",
      "[1] \"no results for the query\"\n",
      "[1] 47\n",
      "$category\n",
      "[1] \"Client error\"\n",
      "\n",
      "$reason\n",
      "[1] \"Not Found\"\n",
      "\n",
      "$message\n",
      "[1] \"Client error: (404) Not Found\"\n",
      "\n"
     ]
    },
    {
     "name": "stderr",
     "output_type": "stream",
     "text": [
      "No encoding supplied: defaulting to UTF-8.\n",
      "\n"
     ]
    },
    {
     "name": "stdout",
     "output_type": "stream",
     "text": [
      "[1] \"{\\\"detail\\\":\\\"The query didn't return any results\\\",\\\"status_code\\\":404}\"\n",
      "[1] \"no results for the query\"\n",
      "[1] 48\n",
      "$category\n",
      "[1] \"Client error\"\n",
      "\n",
      "$reason\n",
      "[1] \"Not Found\"\n",
      "\n",
      "$message\n",
      "[1] \"Client error: (404) Not Found\"\n",
      "\n"
     ]
    },
    {
     "name": "stderr",
     "output_type": "stream",
     "text": [
      "No encoding supplied: defaulting to UTF-8.\n",
      "\n"
     ]
    },
    {
     "name": "stdout",
     "output_type": "stream",
     "text": [
      "[1] \"{\\\"detail\\\":\\\"The query didn't return any results\\\",\\\"status_code\\\":404}\"\n",
      "[1] \"no results for the query\"\n",
      "[1] 49\n",
      "[1] 50\n",
      "$category\n",
      "[1] \"Client error\"\n",
      "\n",
      "$reason\n",
      "[1] \"Not Found\"\n",
      "\n",
      "$message\n",
      "[1] \"Client error: (404) Not Found\"\n",
      "\n"
     ]
    },
    {
     "name": "stderr",
     "output_type": "stream",
     "text": [
      "No encoding supplied: defaulting to UTF-8.\n",
      "\n"
     ]
    },
    {
     "name": "stdout",
     "output_type": "stream",
     "text": [
      "[1] \"{\\\"detail\\\":\\\"The query didn't return any results\\\",\\\"status_code\\\":404}\"\n",
      "[1] \"no results for the query\"\n",
      "[1] 51\n",
      "[1] 52\n",
      "[1] 53\n",
      "$category\n",
      "[1] \"Client error\"\n",
      "\n",
      "$reason\n",
      "[1] \"Not Found\"\n",
      "\n",
      "$message\n",
      "[1] \"Client error: (404) Not Found\"\n",
      "\n"
     ]
    },
    {
     "name": "stderr",
     "output_type": "stream",
     "text": [
      "No encoding supplied: defaulting to UTF-8.\n",
      "\n"
     ]
    },
    {
     "name": "stdout",
     "output_type": "stream",
     "text": [
      "[1] \"{\\\"detail\\\":\\\"The query didn't return any results\\\",\\\"status_code\\\":404}\"\n",
      "[1] \"no results for the query\"\n",
      "[1] 54\n",
      "[1] 55\n",
      "$category\n",
      "[1] \"Client error\"\n",
      "\n",
      "$reason\n",
      "[1] \"Not Found\"\n",
      "\n",
      "$message\n",
      "[1] \"Client error: (404) Not Found\"\n",
      "\n"
     ]
    },
    {
     "name": "stderr",
     "output_type": "stream",
     "text": [
      "No encoding supplied: defaulting to UTF-8.\n",
      "\n"
     ]
    },
    {
     "name": "stdout",
     "output_type": "stream",
     "text": [
      "[1] \"{\\\"detail\\\":\\\"The query didn't return any results\\\",\\\"status_code\\\":404}\"\n",
      "[1] \"no results for the query\"\n",
      "[1] 56\n",
      "[1] 57\n",
      "$category\n",
      "[1] \"Client error\"\n",
      "\n",
      "$reason\n",
      "[1] \"Not Found\"\n",
      "\n",
      "$message\n",
      "[1] \"Client error: (404) Not Found\"\n",
      "\n"
     ]
    },
    {
     "name": "stderr",
     "output_type": "stream",
     "text": [
      "No encoding supplied: defaulting to UTF-8.\n",
      "\n"
     ]
    },
    {
     "name": "stdout",
     "output_type": "stream",
     "text": [
      "[1] \"{\\\"detail\\\":\\\"The query didn't return any results\\\",\\\"status_code\\\":404}\"\n",
      "[1] \"no results for the query\"\n",
      "[1] 58\n",
      "$category\n",
      "[1] \"Client error\"\n",
      "\n",
      "$reason\n",
      "[1] \"Not Found\"\n",
      "\n",
      "$message\n",
      "[1] \"Client error: (404) Not Found\"\n",
      "\n"
     ]
    },
    {
     "name": "stderr",
     "output_type": "stream",
     "text": [
      "No encoding supplied: defaulting to UTF-8.\n",
      "\n"
     ]
    },
    {
     "name": "stdout",
     "output_type": "stream",
     "text": [
      "[1] \"{\\\"detail\\\":\\\"The query didn't return any results\\\",\\\"status_code\\\":404}\"\n",
      "[1] \"no results for the query\"\n",
      "[1] 59\n",
      "$category\n",
      "[1] \"Client error\"\n",
      "\n",
      "$reason\n",
      "[1] \"Not Found\"\n",
      "\n",
      "$message\n",
      "[1] \"Client error: (404) Not Found\"\n",
      "\n"
     ]
    },
    {
     "name": "stderr",
     "output_type": "stream",
     "text": [
      "No encoding supplied: defaulting to UTF-8.\n",
      "\n"
     ]
    },
    {
     "name": "stdout",
     "output_type": "stream",
     "text": [
      "[1] \"{\\\"detail\\\":\\\"The query didn't return any results\\\",\\\"status_code\\\":404}\"\n",
      "[1] \"no results for the query\"\n",
      "[1] 60\n",
      "$category\n",
      "[1] \"Client error\"\n",
      "\n",
      "$reason\n",
      "[1] \"Not Found\"\n",
      "\n",
      "$message\n",
      "[1] \"Client error: (404) Not Found\"\n",
      "\n"
     ]
    },
    {
     "name": "stderr",
     "output_type": "stream",
     "text": [
      "No encoding supplied: defaulting to UTF-8.\n",
      "\n"
     ]
    },
    {
     "name": "stdout",
     "output_type": "stream",
     "text": [
      "[1] \"{\\\"detail\\\":\\\"The query didn't return any results\\\",\\\"status_code\\\":404}\"\n",
      "[1] \"no results for the query\"\n",
      "[1] 61\n",
      "[1] 62\n",
      "$category\n",
      "[1] \"Client error\"\n",
      "\n",
      "$reason\n",
      "[1] \"Not Found\"\n",
      "\n",
      "$message\n",
      "[1] \"Client error: (404) Not Found\"\n",
      "\n"
     ]
    },
    {
     "name": "stderr",
     "output_type": "stream",
     "text": [
      "No encoding supplied: defaulting to UTF-8.\n",
      "\n"
     ]
    },
    {
     "name": "stdout",
     "output_type": "stream",
     "text": [
      "[1] \"{\\\"detail\\\":\\\"The query didn't return any results\\\",\\\"status_code\\\":404}\"\n",
      "[1] \"no results for the query\"\n",
      "[1] 63\n",
      "$category\n",
      "[1] \"Client error\"\n",
      "\n",
      "$reason\n",
      "[1] \"Not Found\"\n",
      "\n",
      "$message\n",
      "[1] \"Client error: (404) Not Found\"\n",
      "\n"
     ]
    },
    {
     "name": "stderr",
     "output_type": "stream",
     "text": [
      "No encoding supplied: defaulting to UTF-8.\n",
      "\n"
     ]
    },
    {
     "name": "stdout",
     "output_type": "stream",
     "text": [
      "[1] \"{\\\"detail\\\":\\\"The query didn't return any results\\\",\\\"status_code\\\":404}\"\n",
      "[1] \"no results for the query\"\n",
      "[1] 64\n",
      "$category\n",
      "[1] \"Client error\"\n",
      "\n",
      "$reason\n",
      "[1] \"Not Found\"\n",
      "\n",
      "$message\n",
      "[1] \"Client error: (404) Not Found\"\n",
      "\n"
     ]
    },
    {
     "name": "stderr",
     "output_type": "stream",
     "text": [
      "No encoding supplied: defaulting to UTF-8.\n",
      "\n"
     ]
    },
    {
     "name": "stdout",
     "output_type": "stream",
     "text": [
      "[1] \"{\\\"detail\\\":\\\"The query didn't return any results\\\",\\\"status_code\\\":404}\"\n",
      "[1] \"no results for the query\"\n",
      "[1] 65\n",
      "$category\n",
      "[1] \"Client error\"\n",
      "\n",
      "$reason\n",
      "[1] \"Not Found\"\n",
      "\n",
      "$message\n",
      "[1] \"Client error: (404) Not Found\"\n",
      "\n"
     ]
    },
    {
     "name": "stderr",
     "output_type": "stream",
     "text": [
      "No encoding supplied: defaulting to UTF-8.\n",
      "\n"
     ]
    },
    {
     "name": "stdout",
     "output_type": "stream",
     "text": [
      "[1] \"{\\\"detail\\\":\\\"The query didn't return any results\\\",\\\"status_code\\\":404}\"\n",
      "[1] \"no results for the query\"\n",
      "[1] 66\n",
      "[1] 67\n",
      "[1] 68\n",
      "[1] 69\n",
      "$category\n",
      "[1] \"Client error\"\n",
      "\n",
      "$reason\n",
      "[1] \"Not Found\"\n",
      "\n",
      "$message\n",
      "[1] \"Client error: (404) Not Found\"\n",
      "\n"
     ]
    },
    {
     "name": "stderr",
     "output_type": "stream",
     "text": [
      "No encoding supplied: defaulting to UTF-8.\n",
      "\n"
     ]
    },
    {
     "name": "stdout",
     "output_type": "stream",
     "text": [
      "[1] \"{\\\"detail\\\":\\\"The query didn't return any results\\\",\\\"status_code\\\":404}\"\n",
      "[1] \"no results for the query\"\n",
      "[1] 70\n",
      "[1] 71\n",
      "$category\n",
      "[1] \"Client error\"\n",
      "\n",
      "$reason\n",
      "[1] \"Not Found\"\n",
      "\n",
      "$message\n",
      "[1] \"Client error: (404) Not Found\"\n",
      "\n"
     ]
    },
    {
     "name": "stderr",
     "output_type": "stream",
     "text": [
      "No encoding supplied: defaulting to UTF-8.\n",
      "\n"
     ]
    },
    {
     "name": "stdout",
     "output_type": "stream",
     "text": [
      "[1] \"{\\\"detail\\\":\\\"The query didn't return any results\\\",\\\"status_code\\\":404}\"\n",
      "[1] \"no results for the query\"\n",
      "[1] 72\n",
      "[1] 73\n",
      "[1] 74\n",
      "[1] 75\n",
      "$category\n",
      "[1] \"Client error\"\n",
      "\n",
      "$reason\n",
      "[1] \"Not Found\"\n",
      "\n",
      "$message\n",
      "[1] \"Client error: (404) Not Found\"\n",
      "\n"
     ]
    },
    {
     "name": "stderr",
     "output_type": "stream",
     "text": [
      "No encoding supplied: defaulting to UTF-8.\n",
      "\n"
     ]
    },
    {
     "name": "stdout",
     "output_type": "stream",
     "text": [
      "[1] \"{\\\"detail\\\":\\\"The query didn't return any results\\\",\\\"status_code\\\":404}\"\n",
      "[1] \"no results for the query\"\n",
      "[1] 76\n",
      "[1] 77\n",
      "$category\n",
      "[1] \"Client error\"\n",
      "\n",
      "$reason\n",
      "[1] \"Not Found\"\n",
      "\n",
      "$message\n",
      "[1] \"Client error: (404) Not Found\"\n",
      "\n"
     ]
    },
    {
     "name": "stderr",
     "output_type": "stream",
     "text": [
      "No encoding supplied: defaulting to UTF-8.\n",
      "\n"
     ]
    },
    {
     "name": "stdout",
     "output_type": "stream",
     "text": [
      "[1] \"{\\\"detail\\\":\\\"The query didn't return any results\\\",\\\"status_code\\\":404}\"\n",
      "[1] \"no results for the query\"\n",
      "[1] 78\n",
      "$category\n",
      "[1] \"Client error\"\n",
      "\n",
      "$reason\n",
      "[1] \"Not Found\"\n",
      "\n",
      "$message\n",
      "[1] \"Client error: (404) Not Found\"\n",
      "\n"
     ]
    },
    {
     "name": "stderr",
     "output_type": "stream",
     "text": [
      "No encoding supplied: defaulting to UTF-8.\n",
      "\n"
     ]
    },
    {
     "name": "stdout",
     "output_type": "stream",
     "text": [
      "[1] \"{\\\"detail\\\":\\\"The query didn't return any results\\\",\\\"status_code\\\":404}\"\n",
      "[1] \"no results for the query\"\n",
      "[1] 79\n",
      "[1] 80\n",
      "[1] 81\n",
      "$category\n",
      "[1] \"Client error\"\n",
      "\n",
      "$reason\n",
      "[1] \"Not Found\"\n",
      "\n",
      "$message\n",
      "[1] \"Client error: (404) Not Found\"\n",
      "\n"
     ]
    },
    {
     "name": "stderr",
     "output_type": "stream",
     "text": [
      "No encoding supplied: defaulting to UTF-8.\n",
      "\n"
     ]
    },
    {
     "name": "stdout",
     "output_type": "stream",
     "text": [
      "[1] \"{\\\"detail\\\":\\\"The query didn't return any results\\\",\\\"status_code\\\":404}\"\n",
      "[1] \"no results for the query\"\n",
      "[1] 82\n",
      "$category\n",
      "[1] \"Client error\"\n",
      "\n",
      "$reason\n",
      "[1] \"Not Found\"\n",
      "\n",
      "$message\n",
      "[1] \"Client error: (404) Not Found\"\n",
      "\n"
     ]
    },
    {
     "name": "stderr",
     "output_type": "stream",
     "text": [
      "No encoding supplied: defaulting to UTF-8.\n",
      "\n"
     ]
    },
    {
     "name": "stdout",
     "output_type": "stream",
     "text": [
      "[1] \"{\\\"detail\\\":\\\"The query didn't return any results\\\",\\\"status_code\\\":404}\"\n",
      "[1] \"no results for the query\"\n",
      "[1] 83\n",
      "[1] 84\n",
      "$category\n",
      "[1] \"Client error\"\n",
      "\n",
      "$reason\n",
      "[1] \"Not Found\"\n",
      "\n",
      "$message\n",
      "[1] \"Client error: (404) Not Found\"\n",
      "\n"
     ]
    },
    {
     "name": "stderr",
     "output_type": "stream",
     "text": [
      "No encoding supplied: defaulting to UTF-8.\n",
      "\n"
     ]
    },
    {
     "name": "stdout",
     "output_type": "stream",
     "text": [
      "[1] \"{\\\"detail\\\":\\\"The query didn't return any results\\\",\\\"status_code\\\":404}\"\n",
      "[1] \"no results for the query\"\n",
      "[1] 85\n",
      "[1] 86\n",
      "[1] 87\n",
      "[1] 88\n",
      "[1] 89\n",
      "[1] 90\n",
      "[1] 91\n",
      "[1] 92\n",
      "$category\n",
      "[1] \"Client error\"\n",
      "\n",
      "$reason\n",
      "[1] \"Not Found\"\n",
      "\n",
      "$message\n",
      "[1] \"Client error: (404) Not Found\"\n",
      "\n"
     ]
    },
    {
     "name": "stderr",
     "output_type": "stream",
     "text": [
      "No encoding supplied: defaulting to UTF-8.\n",
      "\n"
     ]
    },
    {
     "name": "stdout",
     "output_type": "stream",
     "text": [
      "[1] \"{\\\"detail\\\":\\\"The query didn't return any results\\\",\\\"status_code\\\":404}\"\n",
      "[1] \"no results for the query\"\n",
      "[1] 93\n",
      "$category\n",
      "[1] \"Client error\"\n",
      "\n",
      "$reason\n",
      "[1] \"Not Found\"\n",
      "\n",
      "$message\n",
      "[1] \"Client error: (404) Not Found\"\n",
      "\n"
     ]
    },
    {
     "name": "stderr",
     "output_type": "stream",
     "text": [
      "No encoding supplied: defaulting to UTF-8.\n",
      "\n"
     ]
    },
    {
     "name": "stdout",
     "output_type": "stream",
     "text": [
      "[1] \"{\\\"detail\\\":\\\"The query didn't return any results\\\",\\\"status_code\\\":404}\"\n",
      "[1] \"no results for the query\"\n",
      "[1] 94\n",
      "[1] 95\n",
      "[1] 96\n",
      "$category\n",
      "[1] \"Client error\"\n",
      "\n",
      "$reason\n",
      "[1] \"Not Found\"\n",
      "\n",
      "$message\n",
      "[1] \"Client error: (404) Not Found\"\n",
      "\n"
     ]
    },
    {
     "name": "stderr",
     "output_type": "stream",
     "text": [
      "No encoding supplied: defaulting to UTF-8.\n",
      "\n"
     ]
    },
    {
     "name": "stdout",
     "output_type": "stream",
     "text": [
      "[1] \"{\\\"detail\\\":\\\"The query didn't return any results\\\",\\\"status_code\\\":404}\"\n",
      "[1] \"no results for the query\"\n",
      "[1] 97\n",
      "[1] 98\n",
      "[1] 99\n",
      "[1] 100\n",
      "$category\n",
      "[1] \"Client error\"\n",
      "\n",
      "$reason\n",
      "[1] \"Not Found\"\n",
      "\n",
      "$message\n",
      "[1] \"Client error: (404) Not Found\"\n",
      "\n"
     ]
    },
    {
     "name": "stderr",
     "output_type": "stream",
     "text": [
      "No encoding supplied: defaulting to UTF-8.\n",
      "\n"
     ]
    },
    {
     "name": "stdout",
     "output_type": "stream",
     "text": [
      "[1] \"{\\\"detail\\\":\\\"The query didn't return any results\\\",\\\"status_code\\\":404}\"\n",
      "[1] \"no results for the query\"\n",
      "[1] 101\n",
      "$category\n",
      "[1] \"Client error\"\n",
      "\n",
      "$reason\n",
      "[1] \"Not Found\"\n",
      "\n",
      "$message\n",
      "[1] \"Client error: (404) Not Found\"\n",
      "\n"
     ]
    },
    {
     "name": "stderr",
     "output_type": "stream",
     "text": [
      "No encoding supplied: defaulting to UTF-8.\n",
      "\n"
     ]
    },
    {
     "name": "stdout",
     "output_type": "stream",
     "text": [
      "[1] \"{\\\"detail\\\":\\\"The query didn't return any results\\\",\\\"status_code\\\":404}\"\n",
      "[1] \"no results for the query\"\n",
      "[1] 102\n",
      "[1] 103\n",
      "[1] 104\n",
      "[1] 105\n",
      "[1] 106\n",
      "[1] 107\n",
      "[1] 108\n",
      "[1] 109\n",
      "$category\n",
      "[1] \"Client error\"\n",
      "\n",
      "$reason\n",
      "[1] \"Not Found\"\n",
      "\n",
      "$message\n",
      "[1] \"Client error: (404) Not Found\"\n",
      "\n"
     ]
    },
    {
     "name": "stderr",
     "output_type": "stream",
     "text": [
      "No encoding supplied: defaulting to UTF-8.\n",
      "\n"
     ]
    },
    {
     "name": "stdout",
     "output_type": "stream",
     "text": [
      "[1] \"{\\\"detail\\\":\\\"The query didn't return any results\\\",\\\"status_code\\\":404}\"\n",
      "[1] \"no results for the query\"\n",
      "[1] 110\n",
      "[1] 111\n",
      "[1] 112\n",
      "[1] 113\n",
      "$category\n",
      "[1] \"Client error\"\n",
      "\n",
      "$reason\n",
      "[1] \"Not Found\"\n",
      "\n",
      "$message\n",
      "[1] \"Client error: (404) Not Found\"\n",
      "\n"
     ]
    },
    {
     "name": "stderr",
     "output_type": "stream",
     "text": [
      "No encoding supplied: defaulting to UTF-8.\n",
      "\n"
     ]
    },
    {
     "name": "stdout",
     "output_type": "stream",
     "text": [
      "[1] \"{\\\"detail\\\":\\\"The query didn't return any results\\\",\\\"status_code\\\":404}\"\n",
      "[1] \"no results for the query\"\n",
      "[1] 114\n",
      "[1] 115\n",
      "$category\n",
      "[1] \"Client error\"\n",
      "\n",
      "$reason\n",
      "[1] \"Not Found\"\n",
      "\n",
      "$message\n",
      "[1] \"Client error: (404) Not Found\"\n",
      "\n"
     ]
    },
    {
     "name": "stderr",
     "output_type": "stream",
     "text": [
      "No encoding supplied: defaulting to UTF-8.\n",
      "\n"
     ]
    },
    {
     "name": "stdout",
     "output_type": "stream",
     "text": [
      "[1] \"{\\\"detail\\\":\\\"The query didn't return any results\\\",\\\"status_code\\\":404}\"\n",
      "[1] \"no results for the query\"\n",
      "[1] 116\n",
      "[1] 117\n",
      "$category\n",
      "[1] \"Client error\"\n",
      "\n",
      "$reason\n",
      "[1] \"Not Found\"\n",
      "\n",
      "$message\n",
      "[1] \"Client error: (404) Not Found\"\n",
      "\n"
     ]
    },
    {
     "name": "stderr",
     "output_type": "stream",
     "text": [
      "No encoding supplied: defaulting to UTF-8.\n",
      "\n"
     ]
    },
    {
     "name": "stdout",
     "output_type": "stream",
     "text": [
      "[1] \"{\\\"detail\\\":\\\"The query didn't return any results\\\",\\\"status_code\\\":404}\"\n",
      "[1] \"no results for the query\"\n",
      "[1] 118\n",
      "$category\n",
      "[1] \"Client error\"\n",
      "\n",
      "$reason\n",
      "[1] \"Not Found\"\n",
      "\n",
      "$message\n",
      "[1] \"Client error: (404) Not Found\"\n",
      "\n"
     ]
    },
    {
     "name": "stderr",
     "output_type": "stream",
     "text": [
      "No encoding supplied: defaulting to UTF-8.\n",
      "\n"
     ]
    },
    {
     "name": "stdout",
     "output_type": "stream",
     "text": [
      "[1] \"{\\\"detail\\\":\\\"The query didn't return any results\\\",\\\"status_code\\\":404}\"\n",
      "[1] \"no results for the query\"\n",
      "[1] 119\n",
      "[1] 120\n",
      "[1] 121\n",
      "$category\n",
      "[1] \"Client error\"\n",
      "\n",
      "$reason\n",
      "[1] \"Not Found\"\n",
      "\n",
      "$message\n",
      "[1] \"Client error: (404) Not Found\"\n",
      "\n"
     ]
    },
    {
     "name": "stderr",
     "output_type": "stream",
     "text": [
      "No encoding supplied: defaulting to UTF-8.\n",
      "\n"
     ]
    },
    {
     "name": "stdout",
     "output_type": "stream",
     "text": [
      "[1] \"{\\\"detail\\\":\\\"The query didn't return any results\\\",\\\"status_code\\\":404}\"\n",
      "[1] \"no results for the query\"\n",
      "[1] 122\n",
      "$category\n",
      "[1] \"Client error\"\n",
      "\n",
      "$reason\n",
      "[1] \"Not Found\"\n",
      "\n",
      "$message\n",
      "[1] \"Client error: (404) Not Found\"\n",
      "\n"
     ]
    },
    {
     "name": "stderr",
     "output_type": "stream",
     "text": [
      "No encoding supplied: defaulting to UTF-8.\n",
      "\n"
     ]
    },
    {
     "name": "stdout",
     "output_type": "stream",
     "text": [
      "[1] \"{\\\"detail\\\":\\\"The query didn't return any results\\\",\\\"status_code\\\":404}\"\n",
      "[1] \"no results for the query\"\n",
      "[1] 123\n",
      "[1] 124\n",
      "$category\n",
      "[1] \"Client error\"\n",
      "\n",
      "$reason\n",
      "[1] \"Not Found\"\n",
      "\n",
      "$message\n",
      "[1] \"Client error: (404) Not Found\"\n",
      "\n"
     ]
    },
    {
     "name": "stderr",
     "output_type": "stream",
     "text": [
      "No encoding supplied: defaulting to UTF-8.\n",
      "\n"
     ]
    },
    {
     "name": "stdout",
     "output_type": "stream",
     "text": [
      "[1] \"{\\\"detail\\\":\\\"The query didn't return any results\\\",\\\"status_code\\\":404}\"\n",
      "[1] \"no results for the query\"\n",
      "[1] 125\n",
      "[1] 126\n",
      "[1] 127\n",
      "$category\n",
      "[1] \"Client error\"\n",
      "\n",
      "$reason\n",
      "[1] \"Not Found\"\n",
      "\n",
      "$message\n",
      "[1] \"Client error: (404) Not Found\"\n",
      "\n"
     ]
    },
    {
     "name": "stderr",
     "output_type": "stream",
     "text": [
      "No encoding supplied: defaulting to UTF-8.\n",
      "\n"
     ]
    },
    {
     "name": "stdout",
     "output_type": "stream",
     "text": [
      "[1] \"{\\\"detail\\\":\\\"The query didn't return any results\\\",\\\"status_code\\\":404}\"\n",
      "[1] \"no results for the query\"\n",
      "[1] 128\n",
      "[1] 129\n",
      "$category\n",
      "[1] \"Client error\"\n",
      "\n",
      "$reason\n",
      "[1] \"Not Found\"\n",
      "\n",
      "$message\n",
      "[1] \"Client error: (404) Not Found\"\n",
      "\n"
     ]
    },
    {
     "name": "stderr",
     "output_type": "stream",
     "text": [
      "No encoding supplied: defaulting to UTF-8.\n",
      "\n"
     ]
    },
    {
     "name": "stdout",
     "output_type": "stream",
     "text": [
      "[1] \"{\\\"detail\\\":\\\"The query didn't return any results\\\",\\\"status_code\\\":404}\"\n",
      "[1] \"no results for the query\"\n",
      "[1] 130\n",
      "[1] 131\n",
      "$category\n",
      "[1] \"Client error\"\n",
      "\n",
      "$reason\n",
      "[1] \"Not Found\"\n",
      "\n",
      "$message\n",
      "[1] \"Client error: (404) Not Found\"\n",
      "\n"
     ]
    },
    {
     "name": "stderr",
     "output_type": "stream",
     "text": [
      "No encoding supplied: defaulting to UTF-8.\n",
      "\n"
     ]
    },
    {
     "name": "stdout",
     "output_type": "stream",
     "text": [
      "[1] \"{\\\"detail\\\":\\\"The query didn't return any results\\\",\\\"status_code\\\":404}\"\n",
      "[1] \"no results for the query\"\n",
      "[1] 132\n",
      "$category\n",
      "[1] \"Client error\"\n",
      "\n",
      "$reason\n",
      "[1] \"Not Found\"\n",
      "\n",
      "$message\n",
      "[1] \"Client error: (404) Not Found\"\n",
      "\n"
     ]
    },
    {
     "name": "stderr",
     "output_type": "stream",
     "text": [
      "No encoding supplied: defaulting to UTF-8.\n",
      "\n"
     ]
    },
    {
     "name": "stdout",
     "output_type": "stream",
     "text": [
      "[1] \"{\\\"detail\\\":\\\"The query didn't return any results\\\",\\\"status_code\\\":404}\"\n",
      "[1] \"no results for the query\"\n",
      "[1] 133\n",
      "$category\n",
      "[1] \"Client error\"\n",
      "\n",
      "$reason\n",
      "[1] \"Not Found\"\n",
      "\n",
      "$message\n",
      "[1] \"Client error: (404) Not Found\"\n",
      "\n"
     ]
    },
    {
     "name": "stderr",
     "output_type": "stream",
     "text": [
      "No encoding supplied: defaulting to UTF-8.\n",
      "\n"
     ]
    },
    {
     "name": "stdout",
     "output_type": "stream",
     "text": [
      "[1] \"{\\\"detail\\\":\\\"The query didn't return any results\\\",\\\"status_code\\\":404}\"\n",
      "[1] \"no results for the query\"\n",
      "[1] 134\n",
      "$category\n",
      "[1] \"Client error\"\n",
      "\n",
      "$reason\n",
      "[1] \"Not Found\"\n",
      "\n",
      "$message\n",
      "[1] \"Client error: (404) Not Found\"\n",
      "\n"
     ]
    },
    {
     "name": "stderr",
     "output_type": "stream",
     "text": [
      "No encoding supplied: defaulting to UTF-8.\n",
      "\n"
     ]
    },
    {
     "name": "stdout",
     "output_type": "stream",
     "text": [
      "[1] \"{\\\"detail\\\":\\\"The query didn't return any results\\\",\\\"status_code\\\":404}\"\n",
      "[1] \"no results for the query\"\n",
      "[1] 135\n",
      "$category\n",
      "[1] \"Client error\"\n",
      "\n",
      "$reason\n",
      "[1] \"Not Found\"\n",
      "\n",
      "$message\n",
      "[1] \"Client error: (404) Not Found\"\n",
      "\n"
     ]
    },
    {
     "name": "stderr",
     "output_type": "stream",
     "text": [
      "No encoding supplied: defaulting to UTF-8.\n",
      "\n"
     ]
    },
    {
     "name": "stdout",
     "output_type": "stream",
     "text": [
      "[1] \"{\\\"detail\\\":\\\"The query didn't return any results\\\",\\\"status_code\\\":404}\"\n",
      "[1] \"no results for the query\"\n",
      "[1] 136\n",
      "[1] 137\n",
      "$category\n",
      "[1] \"Client error\"\n",
      "\n",
      "$reason\n",
      "[1] \"Not Found\"\n",
      "\n",
      "$message\n",
      "[1] \"Client error: (404) Not Found\"\n",
      "\n"
     ]
    },
    {
     "name": "stderr",
     "output_type": "stream",
     "text": [
      "No encoding supplied: defaulting to UTF-8.\n",
      "\n"
     ]
    },
    {
     "name": "stdout",
     "output_type": "stream",
     "text": [
      "[1] \"{\\\"detail\\\":\\\"The query didn't return any results\\\",\\\"status_code\\\":404}\"\n",
      "[1] \"no results for the query\"\n",
      "[1] 138\n",
      "[1] 139\n",
      "$category\n",
      "[1] \"Client error\"\n",
      "\n",
      "$reason\n",
      "[1] \"Not Found\"\n",
      "\n",
      "$message\n",
      "[1] \"Client error: (404) Not Found\"\n",
      "\n"
     ]
    },
    {
     "name": "stderr",
     "output_type": "stream",
     "text": [
      "No encoding supplied: defaulting to UTF-8.\n",
      "\n"
     ]
    },
    {
     "name": "stdout",
     "output_type": "stream",
     "text": [
      "[1] \"{\\\"detail\\\":\\\"The query didn't return any results\\\",\\\"status_code\\\":404}\"\n",
      "[1] \"no results for the query\"\n",
      "[1] 140\n",
      "[1] 141\n",
      "$category\n",
      "[1] \"Client error\"\n",
      "\n",
      "$reason\n",
      "[1] \"Not Found\"\n",
      "\n",
      "$message\n",
      "[1] \"Client error: (404) Not Found\"\n",
      "\n"
     ]
    },
    {
     "name": "stderr",
     "output_type": "stream",
     "text": [
      "No encoding supplied: defaulting to UTF-8.\n",
      "\n"
     ]
    },
    {
     "name": "stdout",
     "output_type": "stream",
     "text": [
      "[1] \"{\\\"detail\\\":\\\"The query didn't return any results\\\",\\\"status_code\\\":404}\"\n",
      "[1] \"no results for the query\"\n",
      "[1] 142\n",
      "$category\n",
      "[1] \"Client error\"\n",
      "\n",
      "$reason\n",
      "[1] \"Not Found\"\n",
      "\n",
      "$message\n",
      "[1] \"Client error: (404) Not Found\"\n",
      "\n"
     ]
    },
    {
     "name": "stderr",
     "output_type": "stream",
     "text": [
      "No encoding supplied: defaulting to UTF-8.\n",
      "\n"
     ]
    },
    {
     "name": "stdout",
     "output_type": "stream",
     "text": [
      "[1] \"{\\\"detail\\\":\\\"The query didn't return any results\\\",\\\"status_code\\\":404}\"\n",
      "[1] \"no results for the query\"\n",
      "[1] 143\n",
      "$category\n",
      "[1] \"Client error\"\n",
      "\n",
      "$reason\n",
      "[1] \"Not Found\"\n",
      "\n",
      "$message\n",
      "[1] \"Client error: (404) Not Found\"\n",
      "\n"
     ]
    },
    {
     "name": "stderr",
     "output_type": "stream",
     "text": [
      "No encoding supplied: defaulting to UTF-8.\n",
      "\n"
     ]
    },
    {
     "name": "stdout",
     "output_type": "stream",
     "text": [
      "[1] \"{\\\"detail\\\":\\\"The query didn't return any results\\\",\\\"status_code\\\":404}\"\n",
      "[1] \"no results for the query\"\n",
      "[1] 144\n",
      "$category\n",
      "[1] \"Client error\"\n",
      "\n",
      "$reason\n",
      "[1] \"Not Found\"\n",
      "\n",
      "$message\n",
      "[1] \"Client error: (404) Not Found\"\n",
      "\n"
     ]
    },
    {
     "name": "stderr",
     "output_type": "stream",
     "text": [
      "No encoding supplied: defaulting to UTF-8.\n",
      "\n"
     ]
    },
    {
     "name": "stdout",
     "output_type": "stream",
     "text": [
      "[1] \"{\\\"detail\\\":\\\"The query didn't return any results\\\",\\\"status_code\\\":404}\"\n",
      "[1] \"no results for the query\"\n",
      "[1] 145\n",
      "$category\n",
      "[1] \"Client error\"\n",
      "\n",
      "$reason\n",
      "[1] \"Not Found\"\n",
      "\n",
      "$message\n",
      "[1] \"Client error: (404) Not Found\"\n",
      "\n"
     ]
    },
    {
     "name": "stderr",
     "output_type": "stream",
     "text": [
      "No encoding supplied: defaulting to UTF-8.\n",
      "\n"
     ]
    },
    {
     "name": "stdout",
     "output_type": "stream",
     "text": [
      "[1] \"{\\\"detail\\\":\\\"The query didn't return any results\\\",\\\"status_code\\\":404}\"\n",
      "[1] \"no results for the query\"\n",
      "[1] 146\n",
      "[1] 147\n",
      "[1] 148\n",
      "$category\n",
      "[1] \"Client error\"\n",
      "\n",
      "$reason\n",
      "[1] \"Not Found\"\n",
      "\n",
      "$message\n",
      "[1] \"Client error: (404) Not Found\"\n",
      "\n"
     ]
    },
    {
     "name": "stderr",
     "output_type": "stream",
     "text": [
      "No encoding supplied: defaulting to UTF-8.\n",
      "\n"
     ]
    },
    {
     "name": "stdout",
     "output_type": "stream",
     "text": [
      "[1] \"{\\\"detail\\\":\\\"The query didn't return any results\\\",\\\"status_code\\\":404}\"\n",
      "[1] \"no results for the query\"\n",
      "[1] 149\n",
      "[1] 150\n",
      "$category\n",
      "[1] \"Client error\"\n",
      "\n",
      "$reason\n",
      "[1] \"Not Found\"\n",
      "\n",
      "$message\n",
      "[1] \"Client error: (404) Not Found\"\n",
      "\n"
     ]
    },
    {
     "name": "stderr",
     "output_type": "stream",
     "text": [
      "No encoding supplied: defaulting to UTF-8.\n",
      "\n"
     ]
    },
    {
     "name": "stdout",
     "output_type": "stream",
     "text": [
      "[1] \"{\\\"detail\\\":\\\"The query didn't return any results\\\",\\\"status_code\\\":404}\"\n",
      "[1] \"no results for the query\"\n",
      "[1] 151\n",
      "[1] 152\n",
      "[1] 153\n",
      "[1] 154\n",
      "[1] 155\n",
      "$category\n",
      "[1] \"Client error\"\n",
      "\n",
      "$reason\n",
      "[1] \"Not Found\"\n",
      "\n",
      "$message\n",
      "[1] \"Client error: (404) Not Found\"\n",
      "\n"
     ]
    },
    {
     "name": "stderr",
     "output_type": "stream",
     "text": [
      "No encoding supplied: defaulting to UTF-8.\n",
      "\n"
     ]
    },
    {
     "name": "stdout",
     "output_type": "stream",
     "text": [
      "[1] \"{\\\"detail\\\":\\\"The query didn't return any results\\\",\\\"status_code\\\":404}\"\n",
      "[1] \"no results for the query\"\n",
      "[1] 156\n",
      "$category\n",
      "[1] \"Client error\"\n",
      "\n",
      "$reason\n",
      "[1] \"Not Found\"\n",
      "\n",
      "$message\n",
      "[1] \"Client error: (404) Not Found\"\n",
      "\n"
     ]
    },
    {
     "name": "stderr",
     "output_type": "stream",
     "text": [
      "No encoding supplied: defaulting to UTF-8.\n",
      "\n"
     ]
    },
    {
     "name": "stdout",
     "output_type": "stream",
     "text": [
      "[1] \"{\\\"detail\\\":\\\"The query didn't return any results\\\",\\\"status_code\\\":404}\"\n",
      "[1] \"no results for the query\"\n",
      "[1] 157\n",
      "[1] 158\n",
      "[1] 159\n",
      "[1] 160\n",
      "[1] 161\n",
      "[1] 162\n",
      "$category\n",
      "[1] \"Client error\"\n",
      "\n",
      "$reason\n",
      "[1] \"Not Found\"\n",
      "\n",
      "$message\n",
      "[1] \"Client error: (404) Not Found\"\n",
      "\n"
     ]
    },
    {
     "name": "stderr",
     "output_type": "stream",
     "text": [
      "No encoding supplied: defaulting to UTF-8.\n",
      "\n"
     ]
    },
    {
     "name": "stdout",
     "output_type": "stream",
     "text": [
      "[1] \"{\\\"detail\\\":\\\"The query didn't return any results\\\",\\\"status_code\\\":404}\"\n",
      "[1] \"no results for the query\"\n",
      "[1] 163\n",
      "$category\n",
      "[1] \"Client error\"\n",
      "\n",
      "$reason\n",
      "[1] \"Not Found\"\n",
      "\n",
      "$message\n",
      "[1] \"Client error: (404) Not Found\"\n",
      "\n"
     ]
    },
    {
     "name": "stderr",
     "output_type": "stream",
     "text": [
      "No encoding supplied: defaulting to UTF-8.\n",
      "\n"
     ]
    },
    {
     "name": "stdout",
     "output_type": "stream",
     "text": [
      "[1] \"{\\\"detail\\\":\\\"The query didn't return any results\\\",\\\"status_code\\\":404}\"\n",
      "[1] \"no results for the query\"\n",
      "[1] 164\n",
      "$category\n",
      "[1] \"Client error\"\n",
      "\n",
      "$reason\n",
      "[1] \"Not Found\"\n",
      "\n",
      "$message\n",
      "[1] \"Client error: (404) Not Found\"\n",
      "\n"
     ]
    },
    {
     "name": "stderr",
     "output_type": "stream",
     "text": [
      "No encoding supplied: defaulting to UTF-8.\n",
      "\n"
     ]
    },
    {
     "name": "stdout",
     "output_type": "stream",
     "text": [
      "[1] \"{\\\"detail\\\":\\\"The query didn't return any results\\\",\\\"status_code\\\":404}\"\n",
      "[1] \"no results for the query\"\n",
      "[1] 165\n",
      "[1] 166\n",
      "[1] 167\n",
      "[1] 168\n",
      "[1] 169\n",
      "[1] 170\n",
      "$category\n",
      "[1] \"Client error\"\n",
      "\n",
      "$reason\n",
      "[1] \"Not Found\"\n",
      "\n",
      "$message\n",
      "[1] \"Client error: (404) Not Found\"\n",
      "\n"
     ]
    },
    {
     "name": "stderr",
     "output_type": "stream",
     "text": [
      "No encoding supplied: defaulting to UTF-8.\n",
      "\n"
     ]
    },
    {
     "name": "stdout",
     "output_type": "stream",
     "text": [
      "[1] \"{\\\"detail\\\":\\\"The query didn't return any results\\\",\\\"status_code\\\":404}\"\n",
      "[1] \"no results for the query\"\n",
      "[1] 171\n",
      "$category\n",
      "[1] \"Client error\"\n",
      "\n",
      "$reason\n",
      "[1] \"Not Found\"\n",
      "\n",
      "$message\n",
      "[1] \"Client error: (404) Not Found\"\n",
      "\n"
     ]
    },
    {
     "name": "stderr",
     "output_type": "stream",
     "text": [
      "No encoding supplied: defaulting to UTF-8.\n",
      "\n"
     ]
    },
    {
     "name": "stdout",
     "output_type": "stream",
     "text": [
      "[1] \"{\\\"detail\\\":\\\"The query didn't return any results\\\",\\\"status_code\\\":404}\"\n",
      "[1] \"no results for the query\"\n",
      "[1] 172\n",
      "$category\n",
      "[1] \"Client error\"\n",
      "\n",
      "$reason\n",
      "[1] \"Not Found\"\n",
      "\n",
      "$message\n",
      "[1] \"Client error: (404) Not Found\"\n",
      "\n"
     ]
    },
    {
     "name": "stderr",
     "output_type": "stream",
     "text": [
      "No encoding supplied: defaulting to UTF-8.\n",
      "\n"
     ]
    },
    {
     "name": "stdout",
     "output_type": "stream",
     "text": [
      "[1] \"{\\\"detail\\\":\\\"The query didn't return any results\\\",\\\"status_code\\\":404}\"\n",
      "[1] \"no results for the query\"\n",
      "[1] 173\n",
      "[1] 174\n",
      "$category\n",
      "[1] \"Client error\"\n",
      "\n",
      "$reason\n",
      "[1] \"Not Found\"\n",
      "\n",
      "$message\n",
      "[1] \"Client error: (404) Not Found\"\n",
      "\n"
     ]
    },
    {
     "name": "stderr",
     "output_type": "stream",
     "text": [
      "No encoding supplied: defaulting to UTF-8.\n",
      "\n"
     ]
    },
    {
     "name": "stdout",
     "output_type": "stream",
     "text": [
      "[1] \"{\\\"detail\\\":\\\"The query didn't return any results\\\",\\\"status_code\\\":404}\"\n",
      "[1] \"no results for the query\"\n",
      "[1] 175\n",
      "$category\n",
      "[1] \"Client error\"\n",
      "\n",
      "$reason\n",
      "[1] \"Not Found\"\n",
      "\n",
      "$message\n",
      "[1] \"Client error: (404) Not Found\"\n",
      "\n"
     ]
    },
    {
     "name": "stderr",
     "output_type": "stream",
     "text": [
      "No encoding supplied: defaulting to UTF-8.\n",
      "\n"
     ]
    },
    {
     "name": "stdout",
     "output_type": "stream",
     "text": [
      "[1] \"{\\\"detail\\\":\\\"The query didn't return any results\\\",\\\"status_code\\\":404}\"\n",
      "[1] \"no results for the query\"\n",
      "[1] 176\n",
      "[1] 177\n",
      "$category\n",
      "[1] \"Client error\"\n",
      "\n",
      "$reason\n",
      "[1] \"Not Found\"\n",
      "\n",
      "$message\n",
      "[1] \"Client error: (404) Not Found\"\n",
      "\n"
     ]
    },
    {
     "name": "stderr",
     "output_type": "stream",
     "text": [
      "No encoding supplied: defaulting to UTF-8.\n",
      "\n"
     ]
    },
    {
     "name": "stdout",
     "output_type": "stream",
     "text": [
      "[1] \"{\\\"detail\\\":\\\"The query didn't return any results\\\",\\\"status_code\\\":404}\"\n",
      "[1] \"no results for the query\"\n",
      "[1] 178\n",
      "[1] 179\n",
      "[1] 180\n",
      "$category\n",
      "[1] \"Client error\"\n",
      "\n",
      "$reason\n",
      "[1] \"Not Found\"\n",
      "\n",
      "$message\n",
      "[1] \"Client error: (404) Not Found\"\n",
      "\n"
     ]
    },
    {
     "name": "stderr",
     "output_type": "stream",
     "text": [
      "No encoding supplied: defaulting to UTF-8.\n",
      "\n"
     ]
    },
    {
     "name": "stdout",
     "output_type": "stream",
     "text": [
      "[1] \"{\\\"detail\\\":\\\"The query didn't return any results\\\",\\\"status_code\\\":404}\"\n",
      "[1] \"no results for the query\"\n",
      "[1] 181\n",
      "$category\n",
      "[1] \"Client error\"\n",
      "\n",
      "$reason\n",
      "[1] \"Not Found\"\n",
      "\n",
      "$message\n",
      "[1] \"Client error: (404) Not Found\"\n",
      "\n"
     ]
    },
    {
     "name": "stderr",
     "output_type": "stream",
     "text": [
      "No encoding supplied: defaulting to UTF-8.\n",
      "\n"
     ]
    },
    {
     "name": "stdout",
     "output_type": "stream",
     "text": [
      "[1] \"{\\\"detail\\\":\\\"The query didn't return any results\\\",\\\"status_code\\\":404}\"\n",
      "[1] \"no results for the query\"\n",
      "[1] 182\n",
      "$category\n",
      "[1] \"Client error\"\n",
      "\n",
      "$reason\n",
      "[1] \"Not Found\"\n",
      "\n",
      "$message\n",
      "[1] \"Client error: (404) Not Found\"\n",
      "\n"
     ]
    },
    {
     "name": "stderr",
     "output_type": "stream",
     "text": [
      "No encoding supplied: defaulting to UTF-8.\n",
      "\n"
     ]
    },
    {
     "name": "stdout",
     "output_type": "stream",
     "text": [
      "[1] \"{\\\"detail\\\":\\\"The query didn't return any results\\\",\\\"status_code\\\":404}\"\n",
      "[1] \"no results for the query\"\n",
      "[1] 183\n",
      "[1] 184\n",
      "$category\n",
      "[1] \"Client error\"\n",
      "\n",
      "$reason\n",
      "[1] \"Not Found\"\n",
      "\n",
      "$message\n",
      "[1] \"Client error: (404) Not Found\"\n",
      "\n"
     ]
    },
    {
     "name": "stderr",
     "output_type": "stream",
     "text": [
      "No encoding supplied: defaulting to UTF-8.\n",
      "\n"
     ]
    },
    {
     "name": "stdout",
     "output_type": "stream",
     "text": [
      "[1] \"{\\\"detail\\\":\\\"The query didn't return any results\\\",\\\"status_code\\\":404}\"\n",
      "[1] \"no results for the query\"\n",
      "[1] 185\n",
      "[1] 186\n",
      "[1] 187\n",
      "$category\n",
      "[1] \"Client error\"\n",
      "\n",
      "$reason\n",
      "[1] \"Not Found\"\n",
      "\n",
      "$message\n",
      "[1] \"Client error: (404) Not Found\"\n",
      "\n"
     ]
    },
    {
     "name": "stderr",
     "output_type": "stream",
     "text": [
      "No encoding supplied: defaulting to UTF-8.\n",
      "\n"
     ]
    },
    {
     "name": "stdout",
     "output_type": "stream",
     "text": [
      "[1] \"{\\\"detail\\\":\\\"The query didn't return any results\\\",\\\"status_code\\\":404}\"\n",
      "[1] \"no results for the query\"\n",
      "[1] 188\n",
      "$category\n",
      "[1] \"Client error\"\n",
      "\n",
      "$reason\n",
      "[1] \"Not Found\"\n",
      "\n",
      "$message\n",
      "[1] \"Client error: (404) Not Found\"\n",
      "\n"
     ]
    },
    {
     "name": "stderr",
     "output_type": "stream",
     "text": [
      "No encoding supplied: defaulting to UTF-8.\n",
      "\n"
     ]
    },
    {
     "name": "stdout",
     "output_type": "stream",
     "text": [
      "[1] \"{\\\"detail\\\":\\\"The query didn't return any results\\\",\\\"status_code\\\":404}\"\n",
      "[1] \"no results for the query\"\n",
      "[1] 189\n",
      "[1] 190\n",
      "$category\n",
      "[1] \"Client error\"\n",
      "\n",
      "$reason\n",
      "[1] \"Not Found\"\n",
      "\n",
      "$message\n",
      "[1] \"Client error: (404) Not Found\"\n",
      "\n"
     ]
    },
    {
     "name": "stderr",
     "output_type": "stream",
     "text": [
      "No encoding supplied: defaulting to UTF-8.\n",
      "\n"
     ]
    },
    {
     "name": "stdout",
     "output_type": "stream",
     "text": [
      "[1] \"{\\\"detail\\\":\\\"The query didn't return any results\\\",\\\"status_code\\\":404}\"\n",
      "[1] \"no results for the query\"\n",
      "[1] 191\n",
      "[1] 192\n",
      "[1] 193\n",
      "[1] 194\n",
      "[1] 195\n",
      "[1] 196\n",
      "[1] 197\n",
      "$category\n",
      "[1] \"Client error\"\n",
      "\n",
      "$reason\n",
      "[1] \"Not Found\"\n",
      "\n",
      "$message\n",
      "[1] \"Client error: (404) Not Found\"\n",
      "\n"
     ]
    },
    {
     "name": "stderr",
     "output_type": "stream",
     "text": [
      "No encoding supplied: defaulting to UTF-8.\n",
      "\n"
     ]
    },
    {
     "name": "stdout",
     "output_type": "stream",
     "text": [
      "[1] \"{\\\"detail\\\":\\\"The query didn't return any results\\\",\\\"status_code\\\":404}\"\n",
      "[1] \"no results for the query\"\n",
      "[1] 198\n",
      "$category\n",
      "[1] \"Client error\"\n",
      "\n",
      "$reason\n",
      "[1] \"Not Found\"\n",
      "\n",
      "$message\n",
      "[1] \"Client error: (404) Not Found\"\n",
      "\n"
     ]
    },
    {
     "name": "stderr",
     "output_type": "stream",
     "text": [
      "No encoding supplied: defaulting to UTF-8.\n",
      "\n"
     ]
    },
    {
     "name": "stdout",
     "output_type": "stream",
     "text": [
      "[1] \"{\\\"detail\\\":\\\"The query didn't return any results\\\",\\\"status_code\\\":404}\"\n",
      "[1] \"no results for the query\"\n",
      "[1] 199\n",
      "$category\n",
      "[1] \"Client error\"\n",
      "\n",
      "$reason\n",
      "[1] \"Not Found\"\n",
      "\n",
      "$message\n",
      "[1] \"Client error: (404) Not Found\"\n",
      "\n"
     ]
    },
    {
     "name": "stderr",
     "output_type": "stream",
     "text": [
      "No encoding supplied: defaulting to UTF-8.\n",
      "\n"
     ]
    },
    {
     "name": "stdout",
     "output_type": "stream",
     "text": [
      "[1] \"{\\\"detail\\\":\\\"The query didn't return any results\\\",\\\"status_code\\\":404}\"\n",
      "[1] \"no results for the query\"\n",
      "[1] 200\n",
      "$category\n",
      "[1] \"Client error\"\n",
      "\n",
      "$reason\n",
      "[1] \"Not Found\"\n",
      "\n",
      "$message\n",
      "[1] \"Client error: (404) Not Found\"\n",
      "\n"
     ]
    },
    {
     "name": "stderr",
     "output_type": "stream",
     "text": [
      "No encoding supplied: defaulting to UTF-8.\n",
      "\n"
     ]
    },
    {
     "name": "stdout",
     "output_type": "stream",
     "text": [
      "[1] \"{\\\"detail\\\":\\\"The query didn't return any results\\\",\\\"status_code\\\":404}\"\n",
      "[1] \"no results for the query\"\n",
      "[1] 201\n",
      "[1] 202\n",
      "$category\n",
      "[1] \"Client error\"\n",
      "\n",
      "$reason\n",
      "[1] \"Not Found\"\n",
      "\n",
      "$message\n",
      "[1] \"Client error: (404) Not Found\"\n",
      "\n"
     ]
    },
    {
     "name": "stderr",
     "output_type": "stream",
     "text": [
      "No encoding supplied: defaulting to UTF-8.\n",
      "\n"
     ]
    },
    {
     "name": "stdout",
     "output_type": "stream",
     "text": [
      "[1] \"{\\\"detail\\\":\\\"The query didn't return any results\\\",\\\"status_code\\\":404}\"\n",
      "[1] \"no results for the query\"\n",
      "[1] 203\n",
      "[1] 204\n",
      "[1] 205\n",
      "$category\n",
      "[1] \"Client error\"\n",
      "\n",
      "$reason\n",
      "[1] \"Not Found\"\n",
      "\n",
      "$message\n",
      "[1] \"Client error: (404) Not Found\"\n",
      "\n"
     ]
    },
    {
     "name": "stderr",
     "output_type": "stream",
     "text": [
      "No encoding supplied: defaulting to UTF-8.\n",
      "\n"
     ]
    },
    {
     "name": "stdout",
     "output_type": "stream",
     "text": [
      "[1] \"{\\\"detail\\\":\\\"The query didn't return any results\\\",\\\"status_code\\\":404}\"\n",
      "[1] \"no results for the query\"\n",
      "[1] 206\n",
      "[1] 207\n",
      "$category\n",
      "[1] \"Client error\"\n",
      "\n",
      "$reason\n",
      "[1] \"Not Found\"\n",
      "\n",
      "$message\n",
      "[1] \"Client error: (404) Not Found\"\n",
      "\n"
     ]
    },
    {
     "name": "stderr",
     "output_type": "stream",
     "text": [
      "No encoding supplied: defaulting to UTF-8.\n",
      "\n"
     ]
    },
    {
     "name": "stdout",
     "output_type": "stream",
     "text": [
      "[1] \"{\\\"detail\\\":\\\"The query didn't return any results\\\",\\\"status_code\\\":404}\"\n",
      "[1] \"no results for the query\"\n",
      "[1] 208\n",
      "$category\n",
      "[1] \"Client error\"\n",
      "\n",
      "$reason\n",
      "[1] \"Not Found\"\n",
      "\n",
      "$message\n",
      "[1] \"Client error: (404) Not Found\"\n",
      "\n"
     ]
    },
    {
     "name": "stderr",
     "output_type": "stream",
     "text": [
      "No encoding supplied: defaulting to UTF-8.\n",
      "\n"
     ]
    },
    {
     "name": "stdout",
     "output_type": "stream",
     "text": [
      "[1] \"{\\\"detail\\\":\\\"The query didn't return any results\\\",\\\"status_code\\\":404}\"\n",
      "[1] \"no results for the query\"\n",
      "[1] 209\n",
      "$category\n",
      "[1] \"Client error\"\n",
      "\n",
      "$reason\n",
      "[1] \"Not Found\"\n",
      "\n",
      "$message\n",
      "[1] \"Client error: (404) Not Found\"\n",
      "\n"
     ]
    },
    {
     "name": "stderr",
     "output_type": "stream",
     "text": [
      "No encoding supplied: defaulting to UTF-8.\n",
      "\n"
     ]
    },
    {
     "name": "stdout",
     "output_type": "stream",
     "text": [
      "[1] \"{\\\"detail\\\":\\\"The query didn't return any results\\\",\\\"status_code\\\":404}\"\n",
      "[1] \"no results for the query\"\n",
      "[1] 210\n",
      "[1] 211\n",
      "$category\n",
      "[1] \"Client error\"\n",
      "\n",
      "$reason\n",
      "[1] \"Not Found\"\n",
      "\n",
      "$message\n",
      "[1] \"Client error: (404) Not Found\"\n",
      "\n"
     ]
    },
    {
     "name": "stderr",
     "output_type": "stream",
     "text": [
      "No encoding supplied: defaulting to UTF-8.\n",
      "\n"
     ]
    },
    {
     "name": "stdout",
     "output_type": "stream",
     "text": [
      "[1] \"{\\\"detail\\\":\\\"The query didn't return any results\\\",\\\"status_code\\\":404}\"\n",
      "[1] \"no results for the query\"\n",
      "[1] 212\n",
      "[1] 213\n",
      "$category\n",
      "[1] \"Client error\"\n",
      "\n",
      "$reason\n",
      "[1] \"Not Found\"\n",
      "\n",
      "$message\n",
      "[1] \"Client error: (404) Not Found\"\n",
      "\n"
     ]
    },
    {
     "name": "stderr",
     "output_type": "stream",
     "text": [
      "No encoding supplied: defaulting to UTF-8.\n",
      "\n"
     ]
    },
    {
     "name": "stdout",
     "output_type": "stream",
     "text": [
      "[1] \"{\\\"detail\\\":\\\"The query didn't return any results\\\",\\\"status_code\\\":404}\"\n",
      "[1] \"no results for the query\"\n",
      "[1] 214\n",
      "[1] 215\n",
      "$category\n",
      "[1] \"Client error\"\n",
      "\n",
      "$reason\n",
      "[1] \"Not Found\"\n",
      "\n",
      "$message\n",
      "[1] \"Client error: (404) Not Found\"\n",
      "\n"
     ]
    },
    {
     "name": "stderr",
     "output_type": "stream",
     "text": [
      "No encoding supplied: defaulting to UTF-8.\n",
      "\n"
     ]
    },
    {
     "name": "stdout",
     "output_type": "stream",
     "text": [
      "[1] \"{\\\"detail\\\":\\\"The query didn't return any results\\\",\\\"status_code\\\":404}\"\n",
      "[1] \"no results for the query\"\n",
      "[1] 216\n",
      "$category\n",
      "[1] \"Client error\"\n",
      "\n",
      "$reason\n",
      "[1] \"Not Found\"\n",
      "\n",
      "$message\n",
      "[1] \"Client error: (404) Not Found\"\n",
      "\n"
     ]
    },
    {
     "name": "stderr",
     "output_type": "stream",
     "text": [
      "No encoding supplied: defaulting to UTF-8.\n",
      "\n"
     ]
    },
    {
     "name": "stdout",
     "output_type": "stream",
     "text": [
      "[1] \"{\\\"detail\\\":\\\"The query didn't return any results\\\",\\\"status_code\\\":404}\"\n",
      "[1] \"no results for the query\"\n",
      "[1] 217\n",
      "$category\n",
      "[1] \"Client error\"\n",
      "\n",
      "$reason\n",
      "[1] \"Not Found\"\n",
      "\n",
      "$message\n",
      "[1] \"Client error: (404) Not Found\"\n",
      "\n"
     ]
    },
    {
     "name": "stderr",
     "output_type": "stream",
     "text": [
      "No encoding supplied: defaulting to UTF-8.\n",
      "\n"
     ]
    },
    {
     "name": "stdout",
     "output_type": "stream",
     "text": [
      "[1] \"{\\\"detail\\\":\\\"The query didn't return any results\\\",\\\"status_code\\\":404}\"\n",
      "[1] \"no results for the query\"\n",
      "[1] 218\n",
      "[1] 219\n",
      "$category\n",
      "[1] \"Client error\"\n",
      "\n",
      "$reason\n",
      "[1] \"Not Found\"\n",
      "\n",
      "$message\n",
      "[1] \"Client error: (404) Not Found\"\n",
      "\n"
     ]
    },
    {
     "name": "stderr",
     "output_type": "stream",
     "text": [
      "No encoding supplied: defaulting to UTF-8.\n",
      "\n"
     ]
    },
    {
     "name": "stdout",
     "output_type": "stream",
     "text": [
      "[1] \"{\\\"detail\\\":\\\"The query didn't return any results\\\",\\\"status_code\\\":404}\"\n",
      "[1] \"no results for the query\"\n",
      "[1] 220\n",
      "[1] 221\n",
      "[1] 222\n",
      "[1] 223\n",
      "[1] 224\n",
      "[1] 225\n",
      "$category\n",
      "[1] \"Client error\"\n",
      "\n",
      "$reason\n",
      "[1] \"Not Found\"\n",
      "\n",
      "$message\n",
      "[1] \"Client error: (404) Not Found\"\n",
      "\n"
     ]
    },
    {
     "name": "stderr",
     "output_type": "stream",
     "text": [
      "No encoding supplied: defaulting to UTF-8.\n",
      "\n"
     ]
    },
    {
     "name": "stdout",
     "output_type": "stream",
     "text": [
      "[1] \"{\\\"detail\\\":\\\"The query didn't return any results\\\",\\\"status_code\\\":404}\"\n",
      "[1] \"no results for the query\"\n",
      "[1] 226\n",
      "$category\n",
      "[1] \"Client error\"\n",
      "\n",
      "$reason\n",
      "[1] \"Not Found\"\n",
      "\n",
      "$message\n",
      "[1] \"Client error: (404) Not Found\"\n",
      "\n"
     ]
    },
    {
     "name": "stderr",
     "output_type": "stream",
     "text": [
      "No encoding supplied: defaulting to UTF-8.\n",
      "\n"
     ]
    },
    {
     "name": "stdout",
     "output_type": "stream",
     "text": [
      "[1] \"{\\\"detail\\\":\\\"The query didn't return any results\\\",\\\"status_code\\\":404}\"\n",
      "[1] \"no results for the query\"\n",
      "[1] 227\n",
      "[1] 228\n",
      "[1] 229\n",
      "$category\n",
      "[1] \"Client error\"\n",
      "\n",
      "$reason\n",
      "[1] \"Not Found\"\n",
      "\n",
      "$message\n",
      "[1] \"Client error: (404) Not Found\"\n",
      "\n"
     ]
    },
    {
     "name": "stderr",
     "output_type": "stream",
     "text": [
      "No encoding supplied: defaulting to UTF-8.\n",
      "\n"
     ]
    },
    {
     "name": "stdout",
     "output_type": "stream",
     "text": [
      "[1] \"{\\\"detail\\\":\\\"The query didn't return any results\\\",\\\"status_code\\\":404}\"\n",
      "[1] \"no results for the query\"\n",
      "[1] 230\n",
      "[1] 231\n",
      "$category\n",
      "[1] \"Client error\"\n",
      "\n",
      "$reason\n",
      "[1] \"Not Found\"\n",
      "\n",
      "$message\n",
      "[1] \"Client error: (404) Not Found\"\n",
      "\n"
     ]
    },
    {
     "name": "stderr",
     "output_type": "stream",
     "text": [
      "No encoding supplied: defaulting to UTF-8.\n",
      "\n"
     ]
    },
    {
     "name": "stdout",
     "output_type": "stream",
     "text": [
      "[1] \"{\\\"detail\\\":\\\"The query didn't return any results\\\",\\\"status_code\\\":404}\"\n",
      "[1] \"no results for the query\"\n",
      "[1] 232\n",
      "[1] 233\n",
      "$category\n",
      "[1] \"Client error\"\n",
      "\n",
      "$reason\n",
      "[1] \"Not Found\"\n",
      "\n",
      "$message\n",
      "[1] \"Client error: (404) Not Found\"\n",
      "\n"
     ]
    },
    {
     "name": "stderr",
     "output_type": "stream",
     "text": [
      "No encoding supplied: defaulting to UTF-8.\n",
      "\n"
     ]
    },
    {
     "name": "stdout",
     "output_type": "stream",
     "text": [
      "[1] \"{\\\"detail\\\":\\\"The query didn't return any results\\\",\\\"status_code\\\":404}\"\n",
      "[1] \"no results for the query\"\n",
      "[1] 234\n",
      "$category\n",
      "[1] \"Client error\"\n",
      "\n",
      "$reason\n",
      "[1] \"Not Found\"\n",
      "\n",
      "$message\n",
      "[1] \"Client error: (404) Not Found\"\n",
      "\n"
     ]
    },
    {
     "name": "stderr",
     "output_type": "stream",
     "text": [
      "No encoding supplied: defaulting to UTF-8.\n",
      "\n"
     ]
    },
    {
     "name": "stdout",
     "output_type": "stream",
     "text": [
      "[1] \"{\\\"detail\\\":\\\"The query didn't return any results\\\",\\\"status_code\\\":404}\"\n",
      "[1] \"no results for the query\"\n",
      "[1] 235\n",
      "[1] 236\n",
      "$category\n",
      "[1] \"Client error\"\n",
      "\n",
      "$reason\n",
      "[1] \"Not Found\"\n",
      "\n",
      "$message\n",
      "[1] \"Client error: (404) Not Found\"\n",
      "\n"
     ]
    },
    {
     "name": "stderr",
     "output_type": "stream",
     "text": [
      "No encoding supplied: defaulting to UTF-8.\n",
      "\n"
     ]
    },
    {
     "name": "stdout",
     "output_type": "stream",
     "text": [
      "[1] \"{\\\"detail\\\":\\\"The query didn't return any results\\\",\\\"status_code\\\":404}\"\n",
      "[1] \"no results for the query\"\n",
      "[1] 237\n",
      "$category\n",
      "[1] \"Client error\"\n",
      "\n",
      "$reason\n",
      "[1] \"Not Found\"\n",
      "\n",
      "$message\n",
      "[1] \"Client error: (404) Not Found\"\n",
      "\n"
     ]
    },
    {
     "name": "stderr",
     "output_type": "stream",
     "text": [
      "No encoding supplied: defaulting to UTF-8.\n",
      "\n"
     ]
    },
    {
     "name": "stdout",
     "output_type": "stream",
     "text": [
      "[1] \"{\\\"detail\\\":\\\"The query didn't return any results\\\",\\\"status_code\\\":404}\"\n",
      "[1] \"no results for the query\"\n",
      "[1] 238\n",
      "$category\n",
      "[1] \"Client error\"\n",
      "\n",
      "$reason\n",
      "[1] \"Not Found\"\n",
      "\n",
      "$message\n",
      "[1] \"Client error: (404) Not Found\"\n",
      "\n"
     ]
    },
    {
     "name": "stderr",
     "output_type": "stream",
     "text": [
      "No encoding supplied: defaulting to UTF-8.\n",
      "\n"
     ]
    },
    {
     "name": "stdout",
     "output_type": "stream",
     "text": [
      "[1] \"{\\\"detail\\\":\\\"The query didn't return any results\\\",\\\"status_code\\\":404}\"\n",
      "[1] \"no results for the query\"\n",
      "[1] 239\n",
      "[1] 240\n",
      "[1] 241\n",
      "$category\n",
      "[1] \"Client error\"\n",
      "\n",
      "$reason\n",
      "[1] \"Not Found\"\n",
      "\n",
      "$message\n",
      "[1] \"Client error: (404) Not Found\"\n",
      "\n"
     ]
    },
    {
     "name": "stderr",
     "output_type": "stream",
     "text": [
      "No encoding supplied: defaulting to UTF-8.\n",
      "\n"
     ]
    },
    {
     "name": "stdout",
     "output_type": "stream",
     "text": [
      "[1] \"{\\\"detail\\\":\\\"The query didn't return any results\\\",\\\"status_code\\\":404}\"\n",
      "[1] \"no results for the query\"\n",
      "[1] 242\n",
      "[1] 243\n",
      "$category\n",
      "[1] \"Client error\"\n",
      "\n",
      "$reason\n",
      "[1] \"Not Found\"\n",
      "\n",
      "$message\n",
      "[1] \"Client error: (404) Not Found\"\n",
      "\n"
     ]
    },
    {
     "name": "stderr",
     "output_type": "stream",
     "text": [
      "No encoding supplied: defaulting to UTF-8.\n",
      "\n"
     ]
    },
    {
     "name": "stdout",
     "output_type": "stream",
     "text": [
      "[1] \"{\\\"detail\\\":\\\"The query didn't return any results\\\",\\\"status_code\\\":404}\"\n",
      "[1] \"no results for the query\"\n",
      "[1] 244\n",
      "$category\n",
      "[1] \"Client error\"\n",
      "\n",
      "$reason\n",
      "[1] \"Not Found\"\n",
      "\n",
      "$message\n",
      "[1] \"Client error: (404) Not Found\"\n",
      "\n"
     ]
    },
    {
     "name": "stderr",
     "output_type": "stream",
     "text": [
      "No encoding supplied: defaulting to UTF-8.\n",
      "\n"
     ]
    },
    {
     "name": "stdout",
     "output_type": "stream",
     "text": [
      "[1] \"{\\\"detail\\\":\\\"The query didn't return any results\\\",\\\"status_code\\\":404}\"\n",
      "[1] \"no results for the query\"\n",
      "[1] 245\n",
      "[1] 246\n",
      "[1] 247\n",
      "$category\n",
      "[1] \"Client error\"\n",
      "\n",
      "$reason\n",
      "[1] \"Not Found\"\n",
      "\n",
      "$message\n",
      "[1] \"Client error: (404) Not Found\"\n",
      "\n"
     ]
    },
    {
     "name": "stderr",
     "output_type": "stream",
     "text": [
      "No encoding supplied: defaulting to UTF-8.\n",
      "\n"
     ]
    },
    {
     "name": "stdout",
     "output_type": "stream",
     "text": [
      "[1] \"{\\\"detail\\\":\\\"The query didn't return any results\\\",\\\"status_code\\\":404}\"\n",
      "[1] \"no results for the query\"\n",
      "[1] 248\n",
      "$category\n",
      "[1] \"Client error\"\n",
      "\n",
      "$reason\n",
      "[1] \"Not Found\"\n",
      "\n",
      "$message\n",
      "[1] \"Client error: (404) Not Found\"\n",
      "\n"
     ]
    },
    {
     "name": "stderr",
     "output_type": "stream",
     "text": [
      "No encoding supplied: defaulting to UTF-8.\n",
      "\n"
     ]
    },
    {
     "name": "stdout",
     "output_type": "stream",
     "text": [
      "[1] \"{\\\"detail\\\":\\\"The query didn't return any results\\\",\\\"status_code\\\":404}\"\n",
      "[1] \"no results for the query\"\n",
      "[1] 249\n",
      "$category\n",
      "[1] \"Client error\"\n",
      "\n",
      "$reason\n",
      "[1] \"Not Found\"\n",
      "\n",
      "$message\n",
      "[1] \"Client error: (404) Not Found\"\n",
      "\n"
     ]
    },
    {
     "name": "stderr",
     "output_type": "stream",
     "text": [
      "No encoding supplied: defaulting to UTF-8.\n",
      "\n"
     ]
    },
    {
     "name": "stdout",
     "output_type": "stream",
     "text": [
      "[1] \"{\\\"detail\\\":\\\"The query didn't return any results\\\",\\\"status_code\\\":404}\"\n",
      "[1] \"no results for the query\"\n",
      "[1] 250\n",
      "$category\n",
      "[1] \"Client error\"\n",
      "\n",
      "$reason\n",
      "[1] \"Not Found\"\n",
      "\n",
      "$message\n",
      "[1] \"Client error: (404) Not Found\"\n",
      "\n"
     ]
    },
    {
     "name": "stderr",
     "output_type": "stream",
     "text": [
      "No encoding supplied: defaulting to UTF-8.\n",
      "\n"
     ]
    },
    {
     "name": "stdout",
     "output_type": "stream",
     "text": [
      "[1] \"{\\\"detail\\\":\\\"The query didn't return any results\\\",\\\"status_code\\\":404}\"\n",
      "[1] \"no results for the query\"\n",
      "[1] 251\n",
      "$category\n",
      "[1] \"Client error\"\n",
      "\n",
      "$reason\n",
      "[1] \"Not Found\"\n",
      "\n",
      "$message\n",
      "[1] \"Client error: (404) Not Found\"\n",
      "\n"
     ]
    },
    {
     "name": "stderr",
     "output_type": "stream",
     "text": [
      "No encoding supplied: defaulting to UTF-8.\n",
      "\n"
     ]
    },
    {
     "name": "stdout",
     "output_type": "stream",
     "text": [
      "[1] \"{\\\"detail\\\":\\\"The query didn't return any results\\\",\\\"status_code\\\":404}\"\n",
      "[1] \"no results for the query\"\n",
      "[1] 252\n",
      "[1] 253\n",
      "$category\n",
      "[1] \"Client error\"\n",
      "\n",
      "$reason\n",
      "[1] \"Not Found\"\n",
      "\n",
      "$message\n",
      "[1] \"Client error: (404) Not Found\"\n",
      "\n"
     ]
    },
    {
     "name": "stderr",
     "output_type": "stream",
     "text": [
      "No encoding supplied: defaulting to UTF-8.\n",
      "\n"
     ]
    },
    {
     "name": "stdout",
     "output_type": "stream",
     "text": [
      "[1] \"{\\\"detail\\\":\\\"The query didn't return any results\\\",\\\"status_code\\\":404}\"\n",
      "[1] \"no results for the query\"\n",
      "[1] 254\n",
      "$category\n",
      "[1] \"Client error\"\n",
      "\n",
      "$reason\n",
      "[1] \"Not Found\"\n",
      "\n",
      "$message\n",
      "[1] \"Client error: (404) Not Found\"\n",
      "\n"
     ]
    },
    {
     "name": "stderr",
     "output_type": "stream",
     "text": [
      "No encoding supplied: defaulting to UTF-8.\n",
      "\n"
     ]
    },
    {
     "name": "stdout",
     "output_type": "stream",
     "text": [
      "[1] \"{\\\"detail\\\":\\\"The query didn't return any results\\\",\\\"status_code\\\":404}\"\n",
      "[1] \"no results for the query\"\n",
      "[1] 255\n",
      "[1] 256\n",
      "$category\n",
      "[1] \"Client error\"\n",
      "\n",
      "$reason\n",
      "[1] \"Not Found\"\n",
      "\n",
      "$message\n",
      "[1] \"Client error: (404) Not Found\"\n",
      "\n"
     ]
    },
    {
     "name": "stderr",
     "output_type": "stream",
     "text": [
      "No encoding supplied: defaulting to UTF-8.\n",
      "\n"
     ]
    },
    {
     "name": "stdout",
     "output_type": "stream",
     "text": [
      "[1] \"{\\\"detail\\\":\\\"The query didn't return any results\\\",\\\"status_code\\\":404}\"\n",
      "[1] \"no results for the query\"\n",
      "[1] 257\n",
      "$category\n",
      "[1] \"Client error\"\n",
      "\n",
      "$reason\n",
      "[1] \"Not Found\"\n",
      "\n",
      "$message\n",
      "[1] \"Client error: (404) Not Found\"\n",
      "\n"
     ]
    },
    {
     "name": "stderr",
     "output_type": "stream",
     "text": [
      "No encoding supplied: defaulting to UTF-8.\n",
      "\n"
     ]
    },
    {
     "name": "stdout",
     "output_type": "stream",
     "text": [
      "[1] \"{\\\"detail\\\":\\\"The query didn't return any results\\\",\\\"status_code\\\":404}\"\n",
      "[1] \"no results for the query\"\n",
      "[1] 258\n",
      "[1] 259\n",
      "$category\n",
      "[1] \"Client error\"\n",
      "\n",
      "$reason\n",
      "[1] \"Not Found\"\n",
      "\n",
      "$message\n",
      "[1] \"Client error: (404) Not Found\"\n",
      "\n"
     ]
    },
    {
     "name": "stderr",
     "output_type": "stream",
     "text": [
      "No encoding supplied: defaulting to UTF-8.\n",
      "\n"
     ]
    },
    {
     "name": "stdout",
     "output_type": "stream",
     "text": [
      "[1] \"{\\\"detail\\\":\\\"The query didn't return any results\\\",\\\"status_code\\\":404}\"\n",
      "[1] \"no results for the query\"\n",
      "[1] 260\n",
      "[1] 261\n",
      "$category\n",
      "[1] \"Client error\"\n",
      "\n",
      "$reason\n",
      "[1] \"Not Found\"\n",
      "\n",
      "$message\n",
      "[1] \"Client error: (404) Not Found\"\n",
      "\n"
     ]
    },
    {
     "name": "stderr",
     "output_type": "stream",
     "text": [
      "No encoding supplied: defaulting to UTF-8.\n",
      "\n"
     ]
    },
    {
     "name": "stdout",
     "output_type": "stream",
     "text": [
      "[1] \"{\\\"detail\\\":\\\"The query didn't return any results\\\",\\\"status_code\\\":404}\"\n",
      "[1] \"no results for the query\"\n",
      "[1] 262\n",
      "$category\n",
      "[1] \"Client error\"\n",
      "\n",
      "$reason\n",
      "[1] \"Not Found\"\n",
      "\n",
      "$message\n",
      "[1] \"Client error: (404) Not Found\"\n",
      "\n"
     ]
    },
    {
     "name": "stderr",
     "output_type": "stream",
     "text": [
      "No encoding supplied: defaulting to UTF-8.\n",
      "\n"
     ]
    },
    {
     "name": "stdout",
     "output_type": "stream",
     "text": [
      "[1] \"{\\\"detail\\\":\\\"The query didn't return any results\\\",\\\"status_code\\\":404}\"\n",
      "[1] \"no results for the query\"\n",
      "[1] 263\n",
      "$category\n",
      "[1] \"Client error\"\n",
      "\n",
      "$reason\n",
      "[1] \"Not Found\"\n",
      "\n",
      "$message\n",
      "[1] \"Client error: (404) Not Found\"\n",
      "\n"
     ]
    },
    {
     "name": "stderr",
     "output_type": "stream",
     "text": [
      "No encoding supplied: defaulting to UTF-8.\n",
      "\n"
     ]
    },
    {
     "name": "stdout",
     "output_type": "stream",
     "text": [
      "[1] \"{\\\"detail\\\":\\\"The query didn't return any results\\\",\\\"status_code\\\":404}\"\n",
      "[1] \"no results for the query\"\n",
      "[1] 264\n",
      "[1] 265\n",
      "$category\n",
      "[1] \"Client error\"\n",
      "\n",
      "$reason\n",
      "[1] \"Not Found\"\n",
      "\n",
      "$message\n",
      "[1] \"Client error: (404) Not Found\"\n",
      "\n"
     ]
    },
    {
     "name": "stderr",
     "output_type": "stream",
     "text": [
      "No encoding supplied: defaulting to UTF-8.\n",
      "\n"
     ]
    },
    {
     "name": "stdout",
     "output_type": "stream",
     "text": [
      "[1] \"{\\\"detail\\\":\\\"The query didn't return any results\\\",\\\"status_code\\\":404}\"\n",
      "[1] \"no results for the query\"\n",
      "[1] 266\n",
      "[1] 267\n",
      "$category\n",
      "[1] \"Client error\"\n",
      "\n",
      "$reason\n",
      "[1] \"Not Found\"\n",
      "\n",
      "$message\n",
      "[1] \"Client error: (404) Not Found\"\n",
      "\n"
     ]
    },
    {
     "name": "stderr",
     "output_type": "stream",
     "text": [
      "No encoding supplied: defaulting to UTF-8.\n",
      "\n"
     ]
    },
    {
     "name": "stdout",
     "output_type": "stream",
     "text": [
      "[1] \"{\\\"detail\\\":\\\"The query didn't return any results\\\",\\\"status_code\\\":404}\"\n",
      "[1] \"no results for the query\"\n",
      "[1] 268\n",
      "$category\n",
      "[1] \"Client error\"\n",
      "\n",
      "$reason\n",
      "[1] \"Not Found\"\n",
      "\n",
      "$message\n",
      "[1] \"Client error: (404) Not Found\"\n",
      "\n"
     ]
    },
    {
     "name": "stderr",
     "output_type": "stream",
     "text": [
      "No encoding supplied: defaulting to UTF-8.\n",
      "\n"
     ]
    },
    {
     "name": "stdout",
     "output_type": "stream",
     "text": [
      "[1] \"{\\\"detail\\\":\\\"The query didn't return any results\\\",\\\"status_code\\\":404}\"\n",
      "[1] \"no results for the query\"\n",
      "[1] 269\n",
      "$category\n",
      "[1] \"Client error\"\n",
      "\n",
      "$reason\n",
      "[1] \"Not Found\"\n",
      "\n",
      "$message\n",
      "[1] \"Client error: (404) Not Found\"\n",
      "\n"
     ]
    },
    {
     "name": "stderr",
     "output_type": "stream",
     "text": [
      "No encoding supplied: defaulting to UTF-8.\n",
      "\n"
     ]
    },
    {
     "name": "stdout",
     "output_type": "stream",
     "text": [
      "[1] \"{\\\"detail\\\":\\\"The query didn't return any results\\\",\\\"status_code\\\":404}\"\n",
      "[1] \"no results for the query\"\n",
      "[1] 270\n",
      "$category\n",
      "[1] \"Client error\"\n",
      "\n",
      "$reason\n",
      "[1] \"Not Found\"\n",
      "\n",
      "$message\n",
      "[1] \"Client error: (404) Not Found\"\n",
      "\n"
     ]
    },
    {
     "name": "stderr",
     "output_type": "stream",
     "text": [
      "No encoding supplied: defaulting to UTF-8.\n",
      "\n"
     ]
    },
    {
     "name": "stdout",
     "output_type": "stream",
     "text": [
      "[1] \"{\\\"detail\\\":\\\"The query didn't return any results\\\",\\\"status_code\\\":404}\"\n",
      "[1] \"no results for the query\"\n",
      "[1] 271\n",
      "$category\n",
      "[1] \"Client error\"\n",
      "\n",
      "$reason\n",
      "[1] \"Not Found\"\n",
      "\n",
      "$message\n",
      "[1] \"Client error: (404) Not Found\"\n",
      "\n"
     ]
    },
    {
     "name": "stderr",
     "output_type": "stream",
     "text": [
      "No encoding supplied: defaulting to UTF-8.\n",
      "\n"
     ]
    },
    {
     "name": "stdout",
     "output_type": "stream",
     "text": [
      "[1] \"{\\\"detail\\\":\\\"The query didn't return any results\\\",\\\"status_code\\\":404}\"\n",
      "[1] \"no results for the query\"\n",
      "[1] 272\n",
      "$category\n",
      "[1] \"Client error\"\n",
      "\n",
      "$reason\n",
      "[1] \"Not Found\"\n",
      "\n",
      "$message\n",
      "[1] \"Client error: (404) Not Found\"\n",
      "\n"
     ]
    },
    {
     "name": "stderr",
     "output_type": "stream",
     "text": [
      "No encoding supplied: defaulting to UTF-8.\n",
      "\n"
     ]
    },
    {
     "name": "stdout",
     "output_type": "stream",
     "text": [
      "[1] \"{\\\"detail\\\":\\\"The query didn't return any results\\\",\\\"status_code\\\":404}\"\n",
      "[1] \"no results for the query\"\n",
      "[1] 273\n",
      "[1] 274\n",
      "$category\n",
      "[1] \"Client error\"\n",
      "\n",
      "$reason\n",
      "[1] \"Not Found\"\n",
      "\n",
      "$message\n",
      "[1] \"Client error: (404) Not Found\"\n",
      "\n"
     ]
    },
    {
     "name": "stderr",
     "output_type": "stream",
     "text": [
      "No encoding supplied: defaulting to UTF-8.\n",
      "\n"
     ]
    },
    {
     "name": "stdout",
     "output_type": "stream",
     "text": [
      "[1] \"{\\\"detail\\\":\\\"The query didn't return any results\\\",\\\"status_code\\\":404}\"\n",
      "[1] \"no results for the query\"\n",
      "[1] 275\n",
      "$category\n",
      "[1] \"Client error\"\n",
      "\n",
      "$reason\n",
      "[1] \"Not Found\"\n",
      "\n",
      "$message\n",
      "[1] \"Client error: (404) Not Found\"\n",
      "\n"
     ]
    },
    {
     "name": "stderr",
     "output_type": "stream",
     "text": [
      "No encoding supplied: defaulting to UTF-8.\n",
      "\n"
     ]
    },
    {
     "name": "stdout",
     "output_type": "stream",
     "text": [
      "[1] \"{\\\"detail\\\":\\\"The query didn't return any results\\\",\\\"status_code\\\":404}\"\n",
      "[1] \"no results for the query\"\n",
      "[1] 276\n",
      "$category\n",
      "[1] \"Client error\"\n",
      "\n",
      "$reason\n",
      "[1] \"Not Found\"\n",
      "\n",
      "$message\n",
      "[1] \"Client error: (404) Not Found\"\n",
      "\n"
     ]
    },
    {
     "name": "stderr",
     "output_type": "stream",
     "text": [
      "No encoding supplied: defaulting to UTF-8.\n",
      "\n"
     ]
    },
    {
     "name": "stdout",
     "output_type": "stream",
     "text": [
      "[1] \"{\\\"detail\\\":\\\"The query didn't return any results\\\",\\\"status_code\\\":404}\"\n",
      "[1] \"no results for the query\"\n",
      "[1] 277\n",
      "[1] 278\n",
      "[1] 279\n",
      "[1] 280\n",
      "$category\n",
      "[1] \"Client error\"\n",
      "\n",
      "$reason\n",
      "[1] \"Not Found\"\n",
      "\n",
      "$message\n",
      "[1] \"Client error: (404) Not Found\"\n",
      "\n"
     ]
    },
    {
     "name": "stderr",
     "output_type": "stream",
     "text": [
      "No encoding supplied: defaulting to UTF-8.\n",
      "\n"
     ]
    },
    {
     "name": "stdout",
     "output_type": "stream",
     "text": [
      "[1] \"{\\\"detail\\\":\\\"The query didn't return any results\\\",\\\"status_code\\\":404}\"\n",
      "[1] \"no results for the query\"\n",
      "[1] 281\n",
      "$category\n",
      "[1] \"Client error\"\n",
      "\n",
      "$reason\n",
      "[1] \"Not Found\"\n",
      "\n",
      "$message\n",
      "[1] \"Client error: (404) Not Found\"\n",
      "\n"
     ]
    },
    {
     "name": "stderr",
     "output_type": "stream",
     "text": [
      "No encoding supplied: defaulting to UTF-8.\n",
      "\n"
     ]
    },
    {
     "name": "stdout",
     "output_type": "stream",
     "text": [
      "[1] \"{\\\"detail\\\":\\\"The query didn't return any results\\\",\\\"status_code\\\":404}\"\n",
      "[1] \"no results for the query\"\n",
      "[1] 282\n",
      "$category\n",
      "[1] \"Client error\"\n",
      "\n",
      "$reason\n",
      "[1] \"Not Found\"\n",
      "\n",
      "$message\n",
      "[1] \"Client error: (404) Not Found\"\n",
      "\n"
     ]
    },
    {
     "name": "stderr",
     "output_type": "stream",
     "text": [
      "No encoding supplied: defaulting to UTF-8.\n",
      "\n"
     ]
    },
    {
     "name": "stdout",
     "output_type": "stream",
     "text": [
      "[1] \"{\\\"detail\\\":\\\"The query didn't return any results\\\",\\\"status_code\\\":404}\"\n",
      "[1] \"no results for the query\"\n",
      "[1] 283\n",
      "$category\n",
      "[1] \"Client error\"\n",
      "\n",
      "$reason\n",
      "[1] \"Not Found\"\n",
      "\n",
      "$message\n",
      "[1] \"Client error: (404) Not Found\"\n",
      "\n"
     ]
    },
    {
     "name": "stderr",
     "output_type": "stream",
     "text": [
      "No encoding supplied: defaulting to UTF-8.\n",
      "\n"
     ]
    },
    {
     "name": "stdout",
     "output_type": "stream",
     "text": [
      "[1] \"{\\\"detail\\\":\\\"The query didn't return any results\\\",\\\"status_code\\\":404}\"\n",
      "[1] \"no results for the query\"\n",
      "[1] 284\n",
      "$category\n",
      "[1] \"Client error\"\n",
      "\n",
      "$reason\n",
      "[1] \"Not Found\"\n",
      "\n",
      "$message\n",
      "[1] \"Client error: (404) Not Found\"\n",
      "\n"
     ]
    },
    {
     "name": "stderr",
     "output_type": "stream",
     "text": [
      "No encoding supplied: defaulting to UTF-8.\n",
      "\n"
     ]
    },
    {
     "name": "stdout",
     "output_type": "stream",
     "text": [
      "[1] \"{\\\"detail\\\":\\\"The query didn't return any results\\\",\\\"status_code\\\":404}\"\n",
      "[1] \"no results for the query\"\n",
      "[1] 285\n",
      "[1] 286\n",
      "$category\n",
      "[1] \"Client error\"\n",
      "\n",
      "$reason\n",
      "[1] \"Not Found\"\n",
      "\n",
      "$message\n",
      "[1] \"Client error: (404) Not Found\"\n",
      "\n"
     ]
    },
    {
     "name": "stderr",
     "output_type": "stream",
     "text": [
      "No encoding supplied: defaulting to UTF-8.\n",
      "\n"
     ]
    },
    {
     "name": "stdout",
     "output_type": "stream",
     "text": [
      "[1] \"{\\\"detail\\\":\\\"The query didn't return any results\\\",\\\"status_code\\\":404}\"\n",
      "[1] \"no results for the query\"\n",
      "[1] 287\n",
      "$category\n",
      "[1] \"Client error\"\n",
      "\n",
      "$reason\n",
      "[1] \"Not Found\"\n",
      "\n",
      "$message\n",
      "[1] \"Client error: (404) Not Found\"\n",
      "\n"
     ]
    },
    {
     "name": "stderr",
     "output_type": "stream",
     "text": [
      "No encoding supplied: defaulting to UTF-8.\n",
      "\n"
     ]
    },
    {
     "name": "stdout",
     "output_type": "stream",
     "text": [
      "[1] \"{\\\"detail\\\":\\\"The query didn't return any results\\\",\\\"status_code\\\":404}\"\n",
      "[1] \"no results for the query\"\n",
      "[1] 288\n",
      "$category\n",
      "[1] \"Client error\"\n",
      "\n",
      "$reason\n",
      "[1] \"Not Found\"\n",
      "\n",
      "$message\n",
      "[1] \"Client error: (404) Not Found\"\n",
      "\n"
     ]
    },
    {
     "name": "stderr",
     "output_type": "stream",
     "text": [
      "No encoding supplied: defaulting to UTF-8.\n",
      "\n"
     ]
    },
    {
     "name": "stdout",
     "output_type": "stream",
     "text": [
      "[1] \"{\\\"detail\\\":\\\"The query didn't return any results\\\",\\\"status_code\\\":404}\"\n",
      "[1] \"no results for the query\"\n",
      "[1] 289\n",
      "$category\n",
      "[1] \"Client error\"\n",
      "\n",
      "$reason\n",
      "[1] \"Not Found\"\n",
      "\n",
      "$message\n",
      "[1] \"Client error: (404) Not Found\"\n",
      "\n"
     ]
    },
    {
     "name": "stderr",
     "output_type": "stream",
     "text": [
      "No encoding supplied: defaulting to UTF-8.\n",
      "\n"
     ]
    },
    {
     "name": "stdout",
     "output_type": "stream",
     "text": [
      "[1] \"{\\\"detail\\\":\\\"The query didn't return any results\\\",\\\"status_code\\\":404}\"\n",
      "[1] \"no results for the query\"\n",
      "[1] 290\n",
      "[1] 291\n",
      "$category\n",
      "[1] \"Client error\"\n",
      "\n",
      "$reason\n",
      "[1] \"Not Found\"\n",
      "\n",
      "$message\n",
      "[1] \"Client error: (404) Not Found\"\n",
      "\n"
     ]
    },
    {
     "name": "stderr",
     "output_type": "stream",
     "text": [
      "No encoding supplied: defaulting to UTF-8.\n",
      "\n"
     ]
    },
    {
     "name": "stdout",
     "output_type": "stream",
     "text": [
      "[1] \"{\\\"detail\\\":\\\"The query didn't return any results\\\",\\\"status_code\\\":404}\"\n",
      "[1] \"no results for the query\"\n",
      "[1] 292\n",
      "[1] 293\n",
      "[1] 294\n",
      "$category\n",
      "[1] \"Client error\"\n",
      "\n",
      "$reason\n",
      "[1] \"Not Found\"\n",
      "\n",
      "$message\n",
      "[1] \"Client error: (404) Not Found\"\n",
      "\n"
     ]
    },
    {
     "name": "stderr",
     "output_type": "stream",
     "text": [
      "No encoding supplied: defaulting to UTF-8.\n",
      "\n"
     ]
    },
    {
     "name": "stdout",
     "output_type": "stream",
     "text": [
      "[1] \"{\\\"detail\\\":\\\"The query didn't return any results\\\",\\\"status_code\\\":404}\"\n",
      "[1] \"no results for the query\"\n",
      "[1] 295\n",
      "[1] 296\n",
      "$category\n",
      "[1] \"Client error\"\n",
      "\n",
      "$reason\n",
      "[1] \"Not Found\"\n",
      "\n",
      "$message\n",
      "[1] \"Client error: (404) Not Found\"\n",
      "\n"
     ]
    },
    {
     "name": "stderr",
     "output_type": "stream",
     "text": [
      "No encoding supplied: defaulting to UTF-8.\n",
      "\n"
     ]
    },
    {
     "name": "stdout",
     "output_type": "stream",
     "text": [
      "[1] \"{\\\"detail\\\":\\\"The query didn't return any results\\\",\\\"status_code\\\":404}\"\n",
      "[1] \"no results for the query\"\n",
      "[1] 297\n",
      "$category\n",
      "[1] \"Client error\"\n",
      "\n",
      "$reason\n",
      "[1] \"Not Found\"\n",
      "\n",
      "$message\n",
      "[1] \"Client error: (404) Not Found\"\n",
      "\n"
     ]
    },
    {
     "name": "stderr",
     "output_type": "stream",
     "text": [
      "No encoding supplied: defaulting to UTF-8.\n",
      "\n"
     ]
    },
    {
     "name": "stdout",
     "output_type": "stream",
     "text": [
      "[1] \"{\\\"detail\\\":\\\"The query didn't return any results\\\",\\\"status_code\\\":404}\"\n",
      "[1] \"no results for the query\"\n",
      "[1] 298\n",
      "[1] 299\n",
      "$category\n",
      "[1] \"Client error\"\n",
      "\n",
      "$reason\n",
      "[1] \"Not Found\"\n",
      "\n",
      "$message\n",
      "[1] \"Client error: (404) Not Found\"\n",
      "\n"
     ]
    },
    {
     "name": "stderr",
     "output_type": "stream",
     "text": [
      "No encoding supplied: defaulting to UTF-8.\n",
      "\n"
     ]
    },
    {
     "name": "stdout",
     "output_type": "stream",
     "text": [
      "[1] \"{\\\"detail\\\":\\\"The query didn't return any results\\\",\\\"status_code\\\":404}\"\n",
      "[1] \"no results for the query\"\n",
      "[1] 300\n",
      "$category\n",
      "[1] \"Client error\"\n",
      "\n",
      "$reason\n",
      "[1] \"Not Found\"\n",
      "\n",
      "$message\n",
      "[1] \"Client error: (404) Not Found\"\n",
      "\n"
     ]
    },
    {
     "name": "stderr",
     "output_type": "stream",
     "text": [
      "No encoding supplied: defaulting to UTF-8.\n",
      "\n"
     ]
    },
    {
     "name": "stdout",
     "output_type": "stream",
     "text": [
      "[1] \"{\\\"detail\\\":\\\"The query didn't return any results\\\",\\\"status_code\\\":404}\"\n",
      "[1] \"no results for the query\"\n",
      "[1] 301\n",
      "$category\n",
      "[1] \"Client error\"\n",
      "\n",
      "$reason\n",
      "[1] \"Not Found\"\n",
      "\n",
      "$message\n",
      "[1] \"Client error: (404) Not Found\"\n",
      "\n"
     ]
    },
    {
     "name": "stderr",
     "output_type": "stream",
     "text": [
      "No encoding supplied: defaulting to UTF-8.\n",
      "\n"
     ]
    },
    {
     "name": "stdout",
     "output_type": "stream",
     "text": [
      "[1] \"{\\\"detail\\\":\\\"The query didn't return any results\\\",\\\"status_code\\\":404}\"\n",
      "[1] \"no results for the query\"\n",
      "[1] 302\n",
      "$category\n",
      "[1] \"Client error\"\n",
      "\n",
      "$reason\n",
      "[1] \"Not Found\"\n",
      "\n",
      "$message\n",
      "[1] \"Client error: (404) Not Found\"\n",
      "\n"
     ]
    },
    {
     "name": "stderr",
     "output_type": "stream",
     "text": [
      "No encoding supplied: defaulting to UTF-8.\n",
      "\n"
     ]
    },
    {
     "name": "stdout",
     "output_type": "stream",
     "text": [
      "[1] \"{\\\"detail\\\":\\\"The query didn't return any results\\\",\\\"status_code\\\":404}\"\n",
      "[1] \"no results for the query\"\n",
      "[1] 303\n",
      "[1] 304\n",
      "$category\n",
      "[1] \"Client error\"\n",
      "\n",
      "$reason\n",
      "[1] \"Not Found\"\n",
      "\n",
      "$message\n",
      "[1] \"Client error: (404) Not Found\"\n",
      "\n"
     ]
    },
    {
     "name": "stderr",
     "output_type": "stream",
     "text": [
      "No encoding supplied: defaulting to UTF-8.\n",
      "\n"
     ]
    },
    {
     "name": "stdout",
     "output_type": "stream",
     "text": [
      "[1] \"{\\\"detail\\\":\\\"The query didn't return any results\\\",\\\"status_code\\\":404}\"\n",
      "[1] \"no results for the query\"\n",
      "[1] 305\n",
      "[1] 306\n",
      "[1] 307\n",
      "$category\n",
      "[1] \"Client error\"\n",
      "\n",
      "$reason\n",
      "[1] \"Not Found\"\n",
      "\n",
      "$message\n",
      "[1] \"Client error: (404) Not Found\"\n",
      "\n"
     ]
    },
    {
     "name": "stderr",
     "output_type": "stream",
     "text": [
      "No encoding supplied: defaulting to UTF-8.\n",
      "\n"
     ]
    },
    {
     "name": "stdout",
     "output_type": "stream",
     "text": [
      "[1] \"{\\\"detail\\\":\\\"The query didn't return any results\\\",\\\"status_code\\\":404}\"\n",
      "[1] \"no results for the query\"\n",
      "[1] 308\n",
      "$category\n",
      "[1] \"Client error\"\n",
      "\n",
      "$reason\n",
      "[1] \"Not Found\"\n",
      "\n",
      "$message\n",
      "[1] \"Client error: (404) Not Found\"\n",
      "\n"
     ]
    },
    {
     "name": "stderr",
     "output_type": "stream",
     "text": [
      "No encoding supplied: defaulting to UTF-8.\n",
      "\n"
     ]
    },
    {
     "name": "stdout",
     "output_type": "stream",
     "text": [
      "[1] \"{\\\"detail\\\":\\\"The query didn't return any results\\\",\\\"status_code\\\":404}\"\n",
      "[1] \"no results for the query\"\n",
      "[1] 309\n",
      "$category\n",
      "[1] \"Client error\"\n",
      "\n",
      "$reason\n",
      "[1] \"Not Found\"\n",
      "\n",
      "$message\n",
      "[1] \"Client error: (404) Not Found\"\n",
      "\n"
     ]
    },
    {
     "name": "stderr",
     "output_type": "stream",
     "text": [
      "No encoding supplied: defaulting to UTF-8.\n",
      "\n"
     ]
    },
    {
     "name": "stdout",
     "output_type": "stream",
     "text": [
      "[1] \"{\\\"detail\\\":\\\"The query didn't return any results\\\",\\\"status_code\\\":404}\"\n",
      "[1] \"no results for the query\"\n",
      "[1] 310\n",
      "[1] 311\n",
      "$category\n",
      "[1] \"Client error\"\n",
      "\n",
      "$reason\n",
      "[1] \"Not Found\"\n",
      "\n",
      "$message\n",
      "[1] \"Client error: (404) Not Found\"\n",
      "\n"
     ]
    },
    {
     "name": "stderr",
     "output_type": "stream",
     "text": [
      "No encoding supplied: defaulting to UTF-8.\n",
      "\n"
     ]
    },
    {
     "name": "stdout",
     "output_type": "stream",
     "text": [
      "[1] \"{\\\"detail\\\":\\\"The query didn't return any results\\\",\\\"status_code\\\":404}\"\n",
      "[1] \"no results for the query\"\n",
      "[1] 312\n",
      "[1] 313\n",
      "[1] 314\n",
      "$category\n",
      "[1] \"Client error\"\n",
      "\n",
      "$reason\n",
      "[1] \"Not Found\"\n",
      "\n",
      "$message\n",
      "[1] \"Client error: (404) Not Found\"\n",
      "\n"
     ]
    },
    {
     "name": "stderr",
     "output_type": "stream",
     "text": [
      "No encoding supplied: defaulting to UTF-8.\n",
      "\n"
     ]
    },
    {
     "name": "stdout",
     "output_type": "stream",
     "text": [
      "[1] \"{\\\"detail\\\":\\\"The query didn't return any results\\\",\\\"status_code\\\":404}\"\n",
      "[1] \"no results for the query\"\n",
      "[1] 315\n",
      "$category\n",
      "[1] \"Client error\"\n",
      "\n",
      "$reason\n",
      "[1] \"Not Found\"\n",
      "\n",
      "$message\n",
      "[1] \"Client error: (404) Not Found\"\n",
      "\n"
     ]
    },
    {
     "name": "stderr",
     "output_type": "stream",
     "text": [
      "No encoding supplied: defaulting to UTF-8.\n",
      "\n"
     ]
    },
    {
     "name": "stdout",
     "output_type": "stream",
     "text": [
      "[1] \"{\\\"detail\\\":\\\"The query didn't return any results\\\",\\\"status_code\\\":404}\"\n",
      "[1] \"no results for the query\"\n",
      "[1] 316\n",
      "$category\n",
      "[1] \"Client error\"\n",
      "\n",
      "$reason\n",
      "[1] \"Not Found\"\n",
      "\n",
      "$message\n",
      "[1] \"Client error: (404) Not Found\"\n",
      "\n"
     ]
    },
    {
     "name": "stderr",
     "output_type": "stream",
     "text": [
      "No encoding supplied: defaulting to UTF-8.\n",
      "\n"
     ]
    },
    {
     "name": "stdout",
     "output_type": "stream",
     "text": [
      "[1] \"{\\\"detail\\\":\\\"The query didn't return any results\\\",\\\"status_code\\\":404}\"\n",
      "[1] \"no results for the query\"\n",
      "[1] 317\n",
      "$category\n",
      "[1] \"Client error\"\n",
      "\n",
      "$reason\n",
      "[1] \"Not Found\"\n",
      "\n",
      "$message\n",
      "[1] \"Client error: (404) Not Found\"\n",
      "\n"
     ]
    },
    {
     "name": "stderr",
     "output_type": "stream",
     "text": [
      "No encoding supplied: defaulting to UTF-8.\n",
      "\n"
     ]
    },
    {
     "name": "stdout",
     "output_type": "stream",
     "text": [
      "[1] \"{\\\"detail\\\":\\\"The query didn't return any results\\\",\\\"status_code\\\":404}\"\n",
      "[1] \"no results for the query\"\n",
      "[1] 318\n",
      "[1] 319\n",
      "$category\n",
      "[1] \"Client error\"\n",
      "\n",
      "$reason\n",
      "[1] \"Not Found\"\n",
      "\n",
      "$message\n",
      "[1] \"Client error: (404) Not Found\"\n",
      "\n"
     ]
    },
    {
     "name": "stderr",
     "output_type": "stream",
     "text": [
      "No encoding supplied: defaulting to UTF-8.\n",
      "\n"
     ]
    },
    {
     "name": "stdout",
     "output_type": "stream",
     "text": [
      "[1] \"{\\\"detail\\\":\\\"The query didn't return any results\\\",\\\"status_code\\\":404}\"\n",
      "[1] \"no results for the query\"\n",
      "[1] 320\n",
      "$category\n",
      "[1] \"Client error\"\n",
      "\n",
      "$reason\n",
      "[1] \"Not Found\"\n",
      "\n",
      "$message\n",
      "[1] \"Client error: (404) Not Found\"\n",
      "\n"
     ]
    },
    {
     "name": "stderr",
     "output_type": "stream",
     "text": [
      "No encoding supplied: defaulting to UTF-8.\n",
      "\n"
     ]
    },
    {
     "name": "stdout",
     "output_type": "stream",
     "text": [
      "[1] \"{\\\"detail\\\":\\\"The query didn't return any results\\\",\\\"status_code\\\":404}\"\n",
      "[1] \"no results for the query\"\n",
      "[1] 321\n",
      "[1] 322\n",
      "[1] 323\n",
      "[1] 324\n",
      "$category\n",
      "[1] \"Client error\"\n",
      "\n",
      "$reason\n",
      "[1] \"Not Found\"\n",
      "\n",
      "$message\n",
      "[1] \"Client error: (404) Not Found\"\n",
      "\n"
     ]
    },
    {
     "name": "stderr",
     "output_type": "stream",
     "text": [
      "No encoding supplied: defaulting to UTF-8.\n",
      "\n"
     ]
    },
    {
     "name": "stdout",
     "output_type": "stream",
     "text": [
      "[1] \"{\\\"detail\\\":\\\"The query didn't return any results\\\",\\\"status_code\\\":404}\"\n",
      "[1] \"no results for the query\"\n",
      "[1] 325\n",
      "$category\n",
      "[1] \"Client error\"\n",
      "\n",
      "$reason\n",
      "[1] \"Not Found\"\n",
      "\n",
      "$message\n",
      "[1] \"Client error: (404) Not Found\"\n",
      "\n"
     ]
    },
    {
     "name": "stderr",
     "output_type": "stream",
     "text": [
      "No encoding supplied: defaulting to UTF-8.\n",
      "\n"
     ]
    },
    {
     "name": "stdout",
     "output_type": "stream",
     "text": [
      "[1] \"{\\\"detail\\\":\\\"The query didn't return any results\\\",\\\"status_code\\\":404}\"\n",
      "[1] \"no results for the query\"\n",
      "[1] 326\n",
      "[1] 327\n",
      "[1] 328\n",
      "$category\n",
      "[1] \"Client error\"\n",
      "\n",
      "$reason\n",
      "[1] \"Not Found\"\n",
      "\n",
      "$message\n",
      "[1] \"Client error: (404) Not Found\"\n",
      "\n"
     ]
    },
    {
     "name": "stderr",
     "output_type": "stream",
     "text": [
      "No encoding supplied: defaulting to UTF-8.\n",
      "\n"
     ]
    },
    {
     "name": "stdout",
     "output_type": "stream",
     "text": [
      "[1] \"{\\\"detail\\\":\\\"The query didn't return any results\\\",\\\"status_code\\\":404}\"\n",
      "[1] \"no results for the query\"\n",
      "[1] 329\n",
      "[1] 330\n",
      "[1] 331\n",
      "[1] 332\n",
      "[1] 333\n",
      "$category\n",
      "[1] \"Client error\"\n",
      "\n",
      "$reason\n",
      "[1] \"Not Found\"\n",
      "\n",
      "$message\n",
      "[1] \"Client error: (404) Not Found\"\n",
      "\n"
     ]
    },
    {
     "name": "stderr",
     "output_type": "stream",
     "text": [
      "No encoding supplied: defaulting to UTF-8.\n",
      "\n"
     ]
    },
    {
     "name": "stdout",
     "output_type": "stream",
     "text": [
      "[1] \"{\\\"detail\\\":\\\"The query didn't return any results\\\",\\\"status_code\\\":404}\"\n",
      "[1] \"no results for the query\"\n",
      "[1] 334\n",
      "[1] 335\n",
      "[1] 336\n",
      "$category\n",
      "[1] \"Client error\"\n",
      "\n",
      "$reason\n",
      "[1] \"Not Found\"\n",
      "\n",
      "$message\n",
      "[1] \"Client error: (404) Not Found\"\n",
      "\n"
     ]
    },
    {
     "name": "stderr",
     "output_type": "stream",
     "text": [
      "No encoding supplied: defaulting to UTF-8.\n",
      "\n"
     ]
    },
    {
     "name": "stdout",
     "output_type": "stream",
     "text": [
      "[1] \"{\\\"detail\\\":\\\"The query didn't return any results\\\",\\\"status_code\\\":404}\"\n",
      "[1] \"no results for the query\"\n",
      "[1] 337\n",
      "[1] 338\n",
      "$category\n",
      "[1] \"Client error\"\n",
      "\n",
      "$reason\n",
      "[1] \"Not Found\"\n",
      "\n",
      "$message\n",
      "[1] \"Client error: (404) Not Found\"\n",
      "\n"
     ]
    },
    {
     "name": "stderr",
     "output_type": "stream",
     "text": [
      "No encoding supplied: defaulting to UTF-8.\n",
      "\n"
     ]
    },
    {
     "name": "stdout",
     "output_type": "stream",
     "text": [
      "[1] \"{\\\"detail\\\":\\\"The query didn't return any results\\\",\\\"status_code\\\":404}\"\n",
      "[1] \"no results for the query\"\n",
      "[1] 339\n",
      "$category\n",
      "[1] \"Client error\"\n",
      "\n",
      "$reason\n",
      "[1] \"Not Found\"\n",
      "\n",
      "$message\n",
      "[1] \"Client error: (404) Not Found\"\n",
      "\n"
     ]
    },
    {
     "name": "stderr",
     "output_type": "stream",
     "text": [
      "No encoding supplied: defaulting to UTF-8.\n",
      "\n"
     ]
    },
    {
     "name": "stdout",
     "output_type": "stream",
     "text": [
      "[1] \"{\\\"detail\\\":\\\"The query didn't return any results\\\",\\\"status_code\\\":404}\"\n",
      "[1] \"no results for the query\"\n",
      "[1] 340\n",
      "[1] 341\n",
      "$category\n",
      "[1] \"Client error\"\n",
      "\n",
      "$reason\n",
      "[1] \"Not Found\"\n",
      "\n",
      "$message\n",
      "[1] \"Client error: (404) Not Found\"\n",
      "\n"
     ]
    },
    {
     "name": "stderr",
     "output_type": "stream",
     "text": [
      "No encoding supplied: defaulting to UTF-8.\n",
      "\n"
     ]
    },
    {
     "name": "stdout",
     "output_type": "stream",
     "text": [
      "[1] \"{\\\"detail\\\":\\\"The query didn't return any results\\\",\\\"status_code\\\":404}\"\n",
      "[1] \"no results for the query\"\n",
      "[1] 342\n",
      "[1] 343\n",
      "[1] 344\n",
      "[1] 345\n",
      "$category\n",
      "[1] \"Client error\"\n",
      "\n",
      "$reason\n",
      "[1] \"Not Found\"\n",
      "\n",
      "$message\n",
      "[1] \"Client error: (404) Not Found\"\n",
      "\n"
     ]
    },
    {
     "name": "stderr",
     "output_type": "stream",
     "text": [
      "No encoding supplied: defaulting to UTF-8.\n",
      "\n"
     ]
    },
    {
     "name": "stdout",
     "output_type": "stream",
     "text": [
      "[1] \"{\\\"detail\\\":\\\"The query didn't return any results\\\",\\\"status_code\\\":404}\"\n",
      "[1] \"no results for the query\"\n",
      "[1] 346\n",
      "$category\n",
      "[1] \"Client error\"\n",
      "\n",
      "$reason\n",
      "[1] \"Not Found\"\n",
      "\n",
      "$message\n",
      "[1] \"Client error: (404) Not Found\"\n",
      "\n"
     ]
    },
    {
     "name": "stderr",
     "output_type": "stream",
     "text": [
      "No encoding supplied: defaulting to UTF-8.\n",
      "\n"
     ]
    },
    {
     "name": "stdout",
     "output_type": "stream",
     "text": [
      "[1] \"{\\\"detail\\\":\\\"The query didn't return any results\\\",\\\"status_code\\\":404}\"\n",
      "[1] \"no results for the query\"\n",
      "[1] 347\n",
      "$category\n",
      "[1] \"Client error\"\n",
      "\n",
      "$reason\n",
      "[1] \"Not Found\"\n",
      "\n",
      "$message\n",
      "[1] \"Client error: (404) Not Found\"\n",
      "\n"
     ]
    },
    {
     "name": "stderr",
     "output_type": "stream",
     "text": [
      "No encoding supplied: defaulting to UTF-8.\n",
      "\n"
     ]
    },
    {
     "name": "stdout",
     "output_type": "stream",
     "text": [
      "[1] \"{\\\"detail\\\":\\\"The query didn't return any results\\\",\\\"status_code\\\":404}\"\n",
      "[1] \"no results for the query\"\n",
      "[1] 348\n",
      "$category\n",
      "[1] \"Client error\"\n",
      "\n",
      "$reason\n",
      "[1] \"Not Found\"\n",
      "\n",
      "$message\n",
      "[1] \"Client error: (404) Not Found\"\n",
      "\n"
     ]
    },
    {
     "name": "stderr",
     "output_type": "stream",
     "text": [
      "No encoding supplied: defaulting to UTF-8.\n",
      "\n"
     ]
    },
    {
     "name": "stdout",
     "output_type": "stream",
     "text": [
      "[1] \"{\\\"detail\\\":\\\"The query didn't return any results\\\",\\\"status_code\\\":404}\"\n",
      "[1] \"no results for the query\"\n",
      "[1] 349\n",
      "$category\n",
      "[1] \"Client error\"\n",
      "\n",
      "$reason\n",
      "[1] \"Not Found\"\n",
      "\n",
      "$message\n",
      "[1] \"Client error: (404) Not Found\"\n",
      "\n"
     ]
    },
    {
     "name": "stderr",
     "output_type": "stream",
     "text": [
      "No encoding supplied: defaulting to UTF-8.\n",
      "\n"
     ]
    },
    {
     "name": "stdout",
     "output_type": "stream",
     "text": [
      "[1] \"{\\\"detail\\\":\\\"The query didn't return any results\\\",\\\"status_code\\\":404}\"\n",
      "[1] \"no results for the query\"\n",
      "[1] 350\n",
      "$category\n",
      "[1] \"Client error\"\n",
      "\n",
      "$reason\n",
      "[1] \"Not Found\"\n",
      "\n",
      "$message\n",
      "[1] \"Client error: (404) Not Found\"\n",
      "\n"
     ]
    },
    {
     "name": "stderr",
     "output_type": "stream",
     "text": [
      "No encoding supplied: defaulting to UTF-8.\n",
      "\n"
     ]
    },
    {
     "name": "stdout",
     "output_type": "stream",
     "text": [
      "[1] \"{\\\"detail\\\":\\\"The query didn't return any results\\\",\\\"status_code\\\":404}\"\n",
      "[1] \"no results for the query\"\n",
      "[1] 351\n",
      "$category\n",
      "[1] \"Client error\"\n",
      "\n",
      "$reason\n",
      "[1] \"Not Found\"\n",
      "\n",
      "$message\n",
      "[1] \"Client error: (404) Not Found\"\n",
      "\n"
     ]
    },
    {
     "name": "stderr",
     "output_type": "stream",
     "text": [
      "No encoding supplied: defaulting to UTF-8.\n",
      "\n"
     ]
    },
    {
     "name": "stdout",
     "output_type": "stream",
     "text": [
      "[1] \"{\\\"detail\\\":\\\"The query didn't return any results\\\",\\\"status_code\\\":404}\"\n",
      "[1] \"no results for the query\"\n",
      "[1] 352\n",
      "[1] 353\n",
      "$category\n",
      "[1] \"Client error\"\n",
      "\n",
      "$reason\n",
      "[1] \"Not Found\"\n",
      "\n",
      "$message\n",
      "[1] \"Client error: (404) Not Found\"\n",
      "\n"
     ]
    },
    {
     "name": "stderr",
     "output_type": "stream",
     "text": [
      "No encoding supplied: defaulting to UTF-8.\n",
      "\n"
     ]
    },
    {
     "name": "stdout",
     "output_type": "stream",
     "text": [
      "[1] \"{\\\"detail\\\":\\\"The query didn't return any results\\\",\\\"status_code\\\":404}\"\n",
      "[1] \"no results for the query\"\n",
      "[1] 354\n",
      "$category\n",
      "[1] \"Client error\"\n",
      "\n",
      "$reason\n",
      "[1] \"Not Found\"\n",
      "\n",
      "$message\n",
      "[1] \"Client error: (404) Not Found\"\n",
      "\n"
     ]
    },
    {
     "name": "stderr",
     "output_type": "stream",
     "text": [
      "No encoding supplied: defaulting to UTF-8.\n",
      "\n"
     ]
    },
    {
     "name": "stdout",
     "output_type": "stream",
     "text": [
      "[1] \"{\\\"detail\\\":\\\"The query didn't return any results\\\",\\\"status_code\\\":404}\"\n",
      "[1] \"no results for the query\"\n",
      "[1] 355\n",
      "[1] 356\n",
      "$category\n",
      "[1] \"Client error\"\n",
      "\n",
      "$reason\n",
      "[1] \"Not Found\"\n",
      "\n",
      "$message\n",
      "[1] \"Client error: (404) Not Found\"\n",
      "\n"
     ]
    },
    {
     "name": "stderr",
     "output_type": "stream",
     "text": [
      "No encoding supplied: defaulting to UTF-8.\n",
      "\n"
     ]
    },
    {
     "name": "stdout",
     "output_type": "stream",
     "text": [
      "[1] \"{\\\"detail\\\":\\\"The query didn't return any results\\\",\\\"status_code\\\":404}\"\n",
      "[1] \"no results for the query\"\n",
      "[1] 357\n",
      "$category\n",
      "[1] \"Client error\"\n",
      "\n",
      "$reason\n",
      "[1] \"Not Found\"\n",
      "\n",
      "$message\n",
      "[1] \"Client error: (404) Not Found\"\n",
      "\n"
     ]
    },
    {
     "name": "stderr",
     "output_type": "stream",
     "text": [
      "No encoding supplied: defaulting to UTF-8.\n",
      "\n"
     ]
    },
    {
     "name": "stdout",
     "output_type": "stream",
     "text": [
      "[1] \"{\\\"detail\\\":\\\"The query didn't return any results\\\",\\\"status_code\\\":404}\"\n",
      "[1] \"no results for the query\"\n",
      "[1] 358\n",
      "$category\n",
      "[1] \"Client error\"\n",
      "\n",
      "$reason\n",
      "[1] \"Not Found\"\n",
      "\n",
      "$message\n",
      "[1] \"Client error: (404) Not Found\"\n",
      "\n"
     ]
    },
    {
     "name": "stderr",
     "output_type": "stream",
     "text": [
      "No encoding supplied: defaulting to UTF-8.\n",
      "\n"
     ]
    },
    {
     "name": "stdout",
     "output_type": "stream",
     "text": [
      "[1] \"{\\\"detail\\\":\\\"The query didn't return any results\\\",\\\"status_code\\\":404}\"\n",
      "[1] \"no results for the query\"\n",
      "[1] 359\n",
      "[1] 360\n",
      "[1] 361\n",
      "[1] 362\n",
      "[1] 363\n",
      "$category\n",
      "[1] \"Client error\"\n",
      "\n",
      "$reason\n",
      "[1] \"Not Found\"\n",
      "\n",
      "$message\n",
      "[1] \"Client error: (404) Not Found\"\n",
      "\n"
     ]
    },
    {
     "name": "stderr",
     "output_type": "stream",
     "text": [
      "No encoding supplied: defaulting to UTF-8.\n",
      "\n"
     ]
    },
    {
     "name": "stdout",
     "output_type": "stream",
     "text": [
      "[1] \"{\\\"detail\\\":\\\"The query didn't return any results\\\",\\\"status_code\\\":404}\"\n",
      "[1] \"no results for the query\"\n",
      "[1] 364\n",
      "[1] 365\n",
      "[1] 366\n",
      "$category\n",
      "[1] \"Client error\"\n",
      "\n",
      "$reason\n",
      "[1] \"Not Found\"\n",
      "\n",
      "$message\n",
      "[1] \"Client error: (404) Not Found\"\n",
      "\n"
     ]
    },
    {
     "name": "stderr",
     "output_type": "stream",
     "text": [
      "No encoding supplied: defaulting to UTF-8.\n",
      "\n"
     ]
    },
    {
     "name": "stdout",
     "output_type": "stream",
     "text": [
      "[1] \"{\\\"detail\\\":\\\"The query didn't return any results\\\",\\\"status_code\\\":404}\"\n",
      "[1] \"no results for the query\"\n",
      "[1] 367\n",
      "[1] 368\n",
      "[1] 369\n",
      "$category\n",
      "[1] \"Client error\"\n",
      "\n",
      "$reason\n",
      "[1] \"Not Found\"\n",
      "\n",
      "$message\n",
      "[1] \"Client error: (404) Not Found\"\n",
      "\n"
     ]
    },
    {
     "name": "stderr",
     "output_type": "stream",
     "text": [
      "No encoding supplied: defaulting to UTF-8.\n",
      "\n"
     ]
    },
    {
     "name": "stdout",
     "output_type": "stream",
     "text": [
      "[1] \"{\\\"detail\\\":\\\"The query didn't return any results\\\",\\\"status_code\\\":404}\"\n",
      "[1] \"no results for the query\"\n",
      "[1] 370\n",
      "[1] 371\n",
      "[1] 372\n",
      "[1] 373\n",
      "$category\n",
      "[1] \"Client error\"\n",
      "\n",
      "$reason\n",
      "[1] \"Not Found\"\n",
      "\n",
      "$message\n",
      "[1] \"Client error: (404) Not Found\"\n",
      "\n"
     ]
    },
    {
     "name": "stderr",
     "output_type": "stream",
     "text": [
      "No encoding supplied: defaulting to UTF-8.\n",
      "\n"
     ]
    },
    {
     "name": "stdout",
     "output_type": "stream",
     "text": [
      "[1] \"{\\\"detail\\\":\\\"The query didn't return any results\\\",\\\"status_code\\\":404}\"\n",
      "[1] \"no results for the query\"\n",
      "[1] 374\n",
      "$category\n",
      "[1] \"Client error\"\n",
      "\n",
      "$reason\n",
      "[1] \"Not Found\"\n",
      "\n",
      "$message\n",
      "[1] \"Client error: (404) Not Found\"\n",
      "\n"
     ]
    },
    {
     "name": "stderr",
     "output_type": "stream",
     "text": [
      "No encoding supplied: defaulting to UTF-8.\n",
      "\n"
     ]
    },
    {
     "name": "stdout",
     "output_type": "stream",
     "text": [
      "[1] \"{\\\"detail\\\":\\\"The query didn't return any results\\\",\\\"status_code\\\":404}\"\n",
      "[1] \"no results for the query\"\n",
      "[1] 375\n",
      "[1] 376\n",
      "$category\n",
      "[1] \"Client error\"\n",
      "\n",
      "$reason\n",
      "[1] \"Not Found\"\n",
      "\n",
      "$message\n",
      "[1] \"Client error: (404) Not Found\"\n",
      "\n"
     ]
    },
    {
     "name": "stderr",
     "output_type": "stream",
     "text": [
      "No encoding supplied: defaulting to UTF-8.\n",
      "\n"
     ]
    },
    {
     "name": "stdout",
     "output_type": "stream",
     "text": [
      "[1] \"{\\\"detail\\\":\\\"The query didn't return any results\\\",\\\"status_code\\\":404}\"\n",
      "[1] \"no results for the query\"\n",
      "[1] 377\n",
      "$category\n",
      "[1] \"Client error\"\n",
      "\n",
      "$reason\n",
      "[1] \"Not Found\"\n",
      "\n",
      "$message\n",
      "[1] \"Client error: (404) Not Found\"\n",
      "\n"
     ]
    },
    {
     "name": "stderr",
     "output_type": "stream",
     "text": [
      "No encoding supplied: defaulting to UTF-8.\n",
      "\n"
     ]
    },
    {
     "name": "stdout",
     "output_type": "stream",
     "text": [
      "[1] \"{\\\"detail\\\":\\\"The query didn't return any results\\\",\\\"status_code\\\":404}\"\n",
      "[1] \"no results for the query\"\n",
      "[1] 378\n",
      "$category\n",
      "[1] \"Client error\"\n",
      "\n",
      "$reason\n",
      "[1] \"Not Found\"\n",
      "\n",
      "$message\n",
      "[1] \"Client error: (404) Not Found\"\n",
      "\n"
     ]
    },
    {
     "name": "stderr",
     "output_type": "stream",
     "text": [
      "No encoding supplied: defaulting to UTF-8.\n",
      "\n"
     ]
    },
    {
     "name": "stdout",
     "output_type": "stream",
     "text": [
      "[1] \"{\\\"detail\\\":\\\"The query didn't return any results\\\",\\\"status_code\\\":404}\"\n",
      "[1] \"no results for the query\"\n",
      "[1] 379\n",
      "$category\n",
      "[1] \"Client error\"\n",
      "\n",
      "$reason\n",
      "[1] \"Not Found\"\n",
      "\n",
      "$message\n",
      "[1] \"Client error: (404) Not Found\"\n",
      "\n"
     ]
    },
    {
     "name": "stderr",
     "output_type": "stream",
     "text": [
      "No encoding supplied: defaulting to UTF-8.\n",
      "\n"
     ]
    },
    {
     "name": "stdout",
     "output_type": "stream",
     "text": [
      "[1] \"{\\\"detail\\\":\\\"The query didn't return any results\\\",\\\"status_code\\\":404}\"\n",
      "[1] \"no results for the query\"\n",
      "[1] 380\n",
      "$category\n",
      "[1] \"Client error\"\n",
      "\n",
      "$reason\n",
      "[1] \"Not Found\"\n",
      "\n",
      "$message\n",
      "[1] \"Client error: (404) Not Found\"\n",
      "\n"
     ]
    },
    {
     "name": "stderr",
     "output_type": "stream",
     "text": [
      "No encoding supplied: defaulting to UTF-8.\n",
      "\n"
     ]
    },
    {
     "name": "stdout",
     "output_type": "stream",
     "text": [
      "[1] \"{\\\"detail\\\":\\\"The query didn't return any results\\\",\\\"status_code\\\":404}\"\n",
      "[1] \"no results for the query\"\n",
      "[1] 381\n",
      "[1] 382\n",
      "[1] 383\n",
      "$category\n",
      "[1] \"Client error\"\n",
      "\n",
      "$reason\n",
      "[1] \"Not Found\"\n",
      "\n",
      "$message\n",
      "[1] \"Client error: (404) Not Found\"\n",
      "\n"
     ]
    },
    {
     "name": "stderr",
     "output_type": "stream",
     "text": [
      "No encoding supplied: defaulting to UTF-8.\n",
      "\n"
     ]
    },
    {
     "name": "stdout",
     "output_type": "stream",
     "text": [
      "[1] \"{\\\"detail\\\":\\\"The query didn't return any results\\\",\\\"status_code\\\":404}\"\n",
      "[1] \"no results for the query\"\n",
      "[1] 384\n",
      "[1] 385\n",
      "$category\n",
      "[1] \"Client error\"\n",
      "\n",
      "$reason\n",
      "[1] \"Not Found\"\n",
      "\n",
      "$message\n",
      "[1] \"Client error: (404) Not Found\"\n",
      "\n"
     ]
    },
    {
     "name": "stderr",
     "output_type": "stream",
     "text": [
      "No encoding supplied: defaulting to UTF-8.\n",
      "\n"
     ]
    },
    {
     "name": "stdout",
     "output_type": "stream",
     "text": [
      "[1] \"{\\\"detail\\\":\\\"The query didn't return any results\\\",\\\"status_code\\\":404}\"\n",
      "[1] \"no results for the query\"\n",
      "[1] 386\n",
      "$category\n",
      "[1] \"Client error\"\n",
      "\n",
      "$reason\n",
      "[1] \"Not Found\"\n",
      "\n",
      "$message\n",
      "[1] \"Client error: (404) Not Found\"\n",
      "\n"
     ]
    },
    {
     "name": "stderr",
     "output_type": "stream",
     "text": [
      "No encoding supplied: defaulting to UTF-8.\n",
      "\n"
     ]
    },
    {
     "name": "stdout",
     "output_type": "stream",
     "text": [
      "[1] \"{\\\"detail\\\":\\\"The query didn't return any results\\\",\\\"status_code\\\":404}\"\n",
      "[1] \"no results for the query\"\n",
      "[1] 387\n",
      "$category\n",
      "[1] \"Client error\"\n",
      "\n",
      "$reason\n",
      "[1] \"Not Found\"\n",
      "\n",
      "$message\n",
      "[1] \"Client error: (404) Not Found\"\n",
      "\n"
     ]
    },
    {
     "name": "stderr",
     "output_type": "stream",
     "text": [
      "No encoding supplied: defaulting to UTF-8.\n",
      "\n"
     ]
    },
    {
     "name": "stdout",
     "output_type": "stream",
     "text": [
      "[1] \"{\\\"detail\\\":\\\"The query didn't return any results\\\",\\\"status_code\\\":404}\"\n",
      "[1] \"no results for the query\"\n",
      "[1] 388\n",
      "$category\n",
      "[1] \"Client error\"\n",
      "\n",
      "$reason\n",
      "[1] \"Not Found\"\n",
      "\n",
      "$message\n",
      "[1] \"Client error: (404) Not Found\"\n",
      "\n"
     ]
    },
    {
     "name": "stderr",
     "output_type": "stream",
     "text": [
      "No encoding supplied: defaulting to UTF-8.\n",
      "\n"
     ]
    },
    {
     "name": "stdout",
     "output_type": "stream",
     "text": [
      "[1] \"{\\\"detail\\\":\\\"The query didn't return any results\\\",\\\"status_code\\\":404}\"\n",
      "[1] \"no results for the query\"\n",
      "[1] 389\n",
      "$category\n",
      "[1] \"Client error\"\n",
      "\n",
      "$reason\n",
      "[1] \"Not Found\"\n",
      "\n",
      "$message\n",
      "[1] \"Client error: (404) Not Found\"\n",
      "\n"
     ]
    },
    {
     "name": "stderr",
     "output_type": "stream",
     "text": [
      "No encoding supplied: defaulting to UTF-8.\n",
      "\n"
     ]
    },
    {
     "name": "stdout",
     "output_type": "stream",
     "text": [
      "[1] \"{\\\"detail\\\":\\\"The query didn't return any results\\\",\\\"status_code\\\":404}\"\n",
      "[1] \"no results for the query\"\n",
      "[1] 390\n",
      "$category\n",
      "[1] \"Client error\"\n",
      "\n",
      "$reason\n",
      "[1] \"Not Found\"\n",
      "\n",
      "$message\n",
      "[1] \"Client error: (404) Not Found\"\n",
      "\n"
     ]
    },
    {
     "name": "stderr",
     "output_type": "stream",
     "text": [
      "No encoding supplied: defaulting to UTF-8.\n",
      "\n"
     ]
    },
    {
     "name": "stdout",
     "output_type": "stream",
     "text": [
      "[1] \"{\\\"detail\\\":\\\"The query didn't return any results\\\",\\\"status_code\\\":404}\"\n",
      "[1] \"no results for the query\"\n",
      "[1] 391\n",
      "[1] 392\n",
      "[1] 393\n",
      "[1] 394\n",
      "[1] 395\n",
      "[1] 396\n",
      "$category\n",
      "[1] \"Client error\"\n",
      "\n",
      "$reason\n",
      "[1] \"Not Found\"\n",
      "\n",
      "$message\n",
      "[1] \"Client error: (404) Not Found\"\n",
      "\n"
     ]
    },
    {
     "name": "stderr",
     "output_type": "stream",
     "text": [
      "No encoding supplied: defaulting to UTF-8.\n",
      "\n"
     ]
    },
    {
     "name": "stdout",
     "output_type": "stream",
     "text": [
      "[1] \"{\\\"detail\\\":\\\"The query didn't return any results\\\",\\\"status_code\\\":404}\"\n",
      "[1] \"no results for the query\"\n",
      "[1] 397\n",
      "[1] 398\n",
      "$category\n",
      "[1] \"Client error\"\n",
      "\n",
      "$reason\n",
      "[1] \"Not Found\"\n",
      "\n",
      "$message\n",
      "[1] \"Client error: (404) Not Found\"\n",
      "\n"
     ]
    },
    {
     "name": "stderr",
     "output_type": "stream",
     "text": [
      "No encoding supplied: defaulting to UTF-8.\n",
      "\n"
     ]
    },
    {
     "name": "stdout",
     "output_type": "stream",
     "text": [
      "[1] \"{\\\"detail\\\":\\\"The query didn't return any results\\\",\\\"status_code\\\":404}\"\n",
      "[1] \"no results for the query\"\n",
      "[1] 399\n",
      "[1] 400\n",
      "$category\n",
      "[1] \"Client error\"\n",
      "\n",
      "$reason\n",
      "[1] \"Not Found\"\n",
      "\n",
      "$message\n",
      "[1] \"Client error: (404) Not Found\"\n",
      "\n"
     ]
    },
    {
     "name": "stderr",
     "output_type": "stream",
     "text": [
      "No encoding supplied: defaulting to UTF-8.\n",
      "\n"
     ]
    },
    {
     "name": "stdout",
     "output_type": "stream",
     "text": [
      "[1] \"{\\\"detail\\\":\\\"The query didn't return any results\\\",\\\"status_code\\\":404}\"\n",
      "[1] \"no results for the query\"\n",
      "[1] 401\n",
      "[1] 402\n",
      "[1] 403\n",
      "[1] 404\n",
      "[1] 405\n",
      "[1] 406\n",
      "[1] 407\n",
      "$category\n",
      "[1] \"Client error\"\n",
      "\n",
      "$reason\n",
      "[1] \"Not Found\"\n",
      "\n",
      "$message\n",
      "[1] \"Client error: (404) Not Found\"\n",
      "\n"
     ]
    },
    {
     "name": "stderr",
     "output_type": "stream",
     "text": [
      "No encoding supplied: defaulting to UTF-8.\n",
      "\n"
     ]
    },
    {
     "name": "stdout",
     "output_type": "stream",
     "text": [
      "[1] \"{\\\"detail\\\":\\\"The query didn't return any results\\\",\\\"status_code\\\":404}\"\n",
      "[1] \"no results for the query\"\n",
      "[1] 408\n",
      "$category\n",
      "[1] \"Client error\"\n",
      "\n",
      "$reason\n",
      "[1] \"Not Found\"\n",
      "\n",
      "$message\n",
      "[1] \"Client error: (404) Not Found\"\n",
      "\n"
     ]
    },
    {
     "name": "stderr",
     "output_type": "stream",
     "text": [
      "No encoding supplied: defaulting to UTF-8.\n",
      "\n"
     ]
    },
    {
     "name": "stdout",
     "output_type": "stream",
     "text": [
      "[1] \"{\\\"detail\\\":\\\"The query didn't return any results\\\",\\\"status_code\\\":404}\"\n",
      "[1] \"no results for the query\"\n",
      "[1] 409\n",
      "$category\n",
      "[1] \"Client error\"\n",
      "\n",
      "$reason\n",
      "[1] \"Not Found\"\n",
      "\n",
      "$message\n",
      "[1] \"Client error: (404) Not Found\"\n",
      "\n"
     ]
    },
    {
     "name": "stderr",
     "output_type": "stream",
     "text": [
      "No encoding supplied: defaulting to UTF-8.\n",
      "\n"
     ]
    },
    {
     "name": "stdout",
     "output_type": "stream",
     "text": [
      "[1] \"{\\\"detail\\\":\\\"The query didn't return any results\\\",\\\"status_code\\\":404}\"\n",
      "[1] \"no results for the query\"\n",
      "[1] 410\n",
      "$category\n",
      "[1] \"Client error\"\n",
      "\n",
      "$reason\n",
      "[1] \"Not Found\"\n",
      "\n",
      "$message\n",
      "[1] \"Client error: (404) Not Found\"\n",
      "\n"
     ]
    },
    {
     "name": "stderr",
     "output_type": "stream",
     "text": [
      "No encoding supplied: defaulting to UTF-8.\n",
      "\n"
     ]
    },
    {
     "name": "stdout",
     "output_type": "stream",
     "text": [
      "[1] \"{\\\"detail\\\":\\\"The query didn't return any results\\\",\\\"status_code\\\":404}\"\n",
      "[1] \"no results for the query\"\n",
      "[1] 411\n",
      "[1] 412\n",
      "[1] 413\n",
      "[1] 414\n",
      "$category\n",
      "[1] \"Client error\"\n",
      "\n",
      "$reason\n",
      "[1] \"Not Found\"\n",
      "\n",
      "$message\n",
      "[1] \"Client error: (404) Not Found\"\n",
      "\n"
     ]
    },
    {
     "name": "stderr",
     "output_type": "stream",
     "text": [
      "No encoding supplied: defaulting to UTF-8.\n",
      "\n"
     ]
    },
    {
     "name": "stdout",
     "output_type": "stream",
     "text": [
      "[1] \"{\\\"detail\\\":\\\"The query didn't return any results\\\",\\\"status_code\\\":404}\"\n",
      "[1] \"no results for the query\"\n",
      "[1] 415\n",
      "$category\n",
      "[1] \"Client error\"\n",
      "\n",
      "$reason\n",
      "[1] \"Not Found\"\n",
      "\n",
      "$message\n",
      "[1] \"Client error: (404) Not Found\"\n",
      "\n"
     ]
    },
    {
     "name": "stderr",
     "output_type": "stream",
     "text": [
      "No encoding supplied: defaulting to UTF-8.\n",
      "\n"
     ]
    },
    {
     "name": "stdout",
     "output_type": "stream",
     "text": [
      "[1] \"{\\\"detail\\\":\\\"The query didn't return any results\\\",\\\"status_code\\\":404}\"\n",
      "[1] \"no results for the query\"\n",
      "[1] 416\n",
      "[1] 417\n",
      "$category\n",
      "[1] \"Client error\"\n",
      "\n",
      "$reason\n",
      "[1] \"Not Found\"\n",
      "\n",
      "$message\n",
      "[1] \"Client error: (404) Not Found\"\n",
      "\n"
     ]
    },
    {
     "name": "stderr",
     "output_type": "stream",
     "text": [
      "No encoding supplied: defaulting to UTF-8.\n",
      "\n"
     ]
    },
    {
     "name": "stdout",
     "output_type": "stream",
     "text": [
      "[1] \"{\\\"detail\\\":\\\"The query didn't return any results\\\",\\\"status_code\\\":404}\"\n",
      "[1] \"no results for the query\"\n",
      "[1] 418\n",
      "$category\n",
      "[1] \"Client error\"\n",
      "\n",
      "$reason\n",
      "[1] \"Not Found\"\n",
      "\n",
      "$message\n",
      "[1] \"Client error: (404) Not Found\"\n",
      "\n"
     ]
    },
    {
     "name": "stderr",
     "output_type": "stream",
     "text": [
      "No encoding supplied: defaulting to UTF-8.\n",
      "\n"
     ]
    },
    {
     "name": "stdout",
     "output_type": "stream",
     "text": [
      "[1] \"{\\\"detail\\\":\\\"The query didn't return any results\\\",\\\"status_code\\\":404}\"\n",
      "[1] \"no results for the query\"\n",
      "[1] 419\n",
      "[1] 420\n",
      "[1] 421\n",
      "$category\n",
      "[1] \"Client error\"\n",
      "\n",
      "$reason\n",
      "[1] \"Not Found\"\n",
      "\n",
      "$message\n",
      "[1] \"Client error: (404) Not Found\"\n",
      "\n"
     ]
    },
    {
     "name": "stderr",
     "output_type": "stream",
     "text": [
      "No encoding supplied: defaulting to UTF-8.\n",
      "\n"
     ]
    },
    {
     "name": "stdout",
     "output_type": "stream",
     "text": [
      "[1] \"{\\\"detail\\\":\\\"The query didn't return any results\\\",\\\"status_code\\\":404}\"\n",
      "[1] \"no results for the query\"\n",
      "[1] 422\n",
      "[1] 423\n",
      "[1] 424\n",
      "[1] 425\n",
      "[1] 426\n",
      "[1] 427\n",
      "[1] 428\n",
      "$category\n",
      "[1] \"Client error\"\n",
      "\n",
      "$reason\n",
      "[1] \"Not Found\"\n",
      "\n",
      "$message\n",
      "[1] \"Client error: (404) Not Found\"\n",
      "\n"
     ]
    },
    {
     "name": "stderr",
     "output_type": "stream",
     "text": [
      "No encoding supplied: defaulting to UTF-8.\n",
      "\n"
     ]
    },
    {
     "name": "stdout",
     "output_type": "stream",
     "text": [
      "[1] \"{\\\"detail\\\":\\\"The query didn't return any results\\\",\\\"status_code\\\":404}\"\n",
      "[1] \"no results for the query\"\n",
      "[1] 429\n",
      "$category\n",
      "[1] \"Client error\"\n",
      "\n",
      "$reason\n",
      "[1] \"Not Found\"\n",
      "\n",
      "$message\n",
      "[1] \"Client error: (404) Not Found\"\n",
      "\n"
     ]
    },
    {
     "name": "stderr",
     "output_type": "stream",
     "text": [
      "No encoding supplied: defaulting to UTF-8.\n",
      "\n"
     ]
    },
    {
     "name": "stdout",
     "output_type": "stream",
     "text": [
      "[1] \"{\\\"detail\\\":\\\"The query didn't return any results\\\",\\\"status_code\\\":404}\"\n",
      "[1] \"no results for the query\"\n",
      "[1] 430\n",
      "$category\n",
      "[1] \"Client error\"\n",
      "\n",
      "$reason\n",
      "[1] \"Not Found\"\n",
      "\n",
      "$message\n",
      "[1] \"Client error: (404) Not Found\"\n",
      "\n"
     ]
    },
    {
     "name": "stderr",
     "output_type": "stream",
     "text": [
      "No encoding supplied: defaulting to UTF-8.\n",
      "\n"
     ]
    },
    {
     "name": "stdout",
     "output_type": "stream",
     "text": [
      "[1] \"{\\\"detail\\\":\\\"The query didn't return any results\\\",\\\"status_code\\\":404}\"\n",
      "[1] \"no results for the query\"\n",
      "[1] 431\n",
      "$category\n",
      "[1] \"Client error\"\n",
      "\n",
      "$reason\n",
      "[1] \"Not Found\"\n",
      "\n",
      "$message\n",
      "[1] \"Client error: (404) Not Found\"\n",
      "\n"
     ]
    },
    {
     "name": "stderr",
     "output_type": "stream",
     "text": [
      "No encoding supplied: defaulting to UTF-8.\n",
      "\n"
     ]
    },
    {
     "name": "stdout",
     "output_type": "stream",
     "text": [
      "[1] \"{\\\"detail\\\":\\\"The query didn't return any results\\\",\\\"status_code\\\":404}\"\n",
      "[1] \"no results for the query\"\n",
      "[1] 432\n",
      "[1] 433\n",
      "$category\n",
      "[1] \"Client error\"\n",
      "\n",
      "$reason\n",
      "[1] \"Not Found\"\n",
      "\n",
      "$message\n",
      "[1] \"Client error: (404) Not Found\"\n",
      "\n"
     ]
    },
    {
     "name": "stderr",
     "output_type": "stream",
     "text": [
      "No encoding supplied: defaulting to UTF-8.\n",
      "\n"
     ]
    },
    {
     "name": "stdout",
     "output_type": "stream",
     "text": [
      "[1] \"{\\\"detail\\\":\\\"The query didn't return any results\\\",\\\"status_code\\\":404}\"\n",
      "[1] \"no results for the query\"\n",
      "[1] 434\n",
      "$category\n",
      "[1] \"Client error\"\n",
      "\n",
      "$reason\n",
      "[1] \"Not Found\"\n",
      "\n",
      "$message\n",
      "[1] \"Client error: (404) Not Found\"\n",
      "\n"
     ]
    },
    {
     "name": "stderr",
     "output_type": "stream",
     "text": [
      "No encoding supplied: defaulting to UTF-8.\n",
      "\n"
     ]
    },
    {
     "name": "stdout",
     "output_type": "stream",
     "text": [
      "[1] \"{\\\"detail\\\":\\\"The query didn't return any results\\\",\\\"status_code\\\":404}\"\n",
      "[1] \"no results for the query\"\n",
      "[1] 435\n",
      "$category\n",
      "[1] \"Client error\"\n",
      "\n",
      "$reason\n",
      "[1] \"Not Found\"\n",
      "\n",
      "$message\n",
      "[1] \"Client error: (404) Not Found\"\n",
      "\n"
     ]
    },
    {
     "name": "stderr",
     "output_type": "stream",
     "text": [
      "No encoding supplied: defaulting to UTF-8.\n",
      "\n"
     ]
    },
    {
     "name": "stdout",
     "output_type": "stream",
     "text": [
      "[1] \"{\\\"detail\\\":\\\"The query didn't return any results\\\",\\\"status_code\\\":404}\"\n",
      "[1] \"no results for the query\"\n",
      "[1] 436\n",
      "[1] 437\n",
      "[1] 438\n",
      "$category\n",
      "[1] \"Client error\"\n",
      "\n",
      "$reason\n",
      "[1] \"Not Found\"\n",
      "\n",
      "$message\n",
      "[1] \"Client error: (404) Not Found\"\n",
      "\n"
     ]
    },
    {
     "name": "stderr",
     "output_type": "stream",
     "text": [
      "No encoding supplied: defaulting to UTF-8.\n",
      "\n"
     ]
    },
    {
     "name": "stdout",
     "output_type": "stream",
     "text": [
      "[1] \"{\\\"detail\\\":\\\"The query didn't return any results\\\",\\\"status_code\\\":404}\"\n",
      "[1] \"no results for the query\"\n",
      "[1] 439\n",
      "[1] 440\n",
      "$category\n",
      "[1] \"Client error\"\n",
      "\n",
      "$reason\n",
      "[1] \"Not Found\"\n",
      "\n",
      "$message\n",
      "[1] \"Client error: (404) Not Found\"\n",
      "\n"
     ]
    },
    {
     "name": "stderr",
     "output_type": "stream",
     "text": [
      "No encoding supplied: defaulting to UTF-8.\n",
      "\n"
     ]
    },
    {
     "name": "stdout",
     "output_type": "stream",
     "text": [
      "[1] \"{\\\"detail\\\":\\\"The query didn't return any results\\\",\\\"status_code\\\":404}\"\n",
      "[1] \"no results for the query\"\n",
      "[1] 441\n",
      "$category\n",
      "[1] \"Client error\"\n",
      "\n",
      "$reason\n",
      "[1] \"Not Found\"\n",
      "\n",
      "$message\n",
      "[1] \"Client error: (404) Not Found\"\n",
      "\n"
     ]
    },
    {
     "name": "stderr",
     "output_type": "stream",
     "text": [
      "No encoding supplied: defaulting to UTF-8.\n",
      "\n"
     ]
    },
    {
     "name": "stdout",
     "output_type": "stream",
     "text": [
      "[1] \"{\\\"detail\\\":\\\"The query didn't return any results\\\",\\\"status_code\\\":404}\"\n",
      "[1] \"no results for the query\"\n",
      "[1] 442\n",
      "[1] 443\n",
      "$category\n",
      "[1] \"Client error\"\n",
      "\n",
      "$reason\n",
      "[1] \"Not Found\"\n",
      "\n",
      "$message\n",
      "[1] \"Client error: (404) Not Found\"\n",
      "\n"
     ]
    },
    {
     "name": "stderr",
     "output_type": "stream",
     "text": [
      "No encoding supplied: defaulting to UTF-8.\n",
      "\n"
     ]
    },
    {
     "name": "stdout",
     "output_type": "stream",
     "text": [
      "[1] \"{\\\"detail\\\":\\\"The query didn't return any results\\\",\\\"status_code\\\":404}\"\n",
      "[1] \"no results for the query\"\n",
      "[1] 444\n",
      "$category\n",
      "[1] \"Client error\"\n",
      "\n",
      "$reason\n",
      "[1] \"Not Found\"\n",
      "\n",
      "$message\n",
      "[1] \"Client error: (404) Not Found\"\n",
      "\n"
     ]
    },
    {
     "name": "stderr",
     "output_type": "stream",
     "text": [
      "No encoding supplied: defaulting to UTF-8.\n",
      "\n"
     ]
    },
    {
     "name": "stdout",
     "output_type": "stream",
     "text": [
      "[1] \"{\\\"detail\\\":\\\"The query didn't return any results\\\",\\\"status_code\\\":404}\"\n",
      "[1] \"no results for the query\"\n",
      "[1] 445\n",
      "[1] 446\n",
      "[1] 447\n",
      "[1] 448\n",
      "[1] 449\n",
      "[1] 450\n",
      "$category\n",
      "[1] \"Client error\"\n",
      "\n",
      "$reason\n",
      "[1] \"Not Found\"\n",
      "\n",
      "$message\n",
      "[1] \"Client error: (404) Not Found\"\n",
      "\n"
     ]
    },
    {
     "name": "stderr",
     "output_type": "stream",
     "text": [
      "No encoding supplied: defaulting to UTF-8.\n",
      "\n"
     ]
    },
    {
     "name": "stdout",
     "output_type": "stream",
     "text": [
      "[1] \"{\\\"detail\\\":\\\"The query didn't return any results\\\",\\\"status_code\\\":404}\"\n",
      "[1] \"no results for the query\"\n",
      "[1] 451\n",
      "$category\n",
      "[1] \"Client error\"\n",
      "\n",
      "$reason\n",
      "[1] \"Not Found\"\n",
      "\n",
      "$message\n",
      "[1] \"Client error: (404) Not Found\"\n",
      "\n"
     ]
    },
    {
     "name": "stderr",
     "output_type": "stream",
     "text": [
      "No encoding supplied: defaulting to UTF-8.\n",
      "\n"
     ]
    },
    {
     "name": "stdout",
     "output_type": "stream",
     "text": [
      "[1] \"{\\\"detail\\\":\\\"The query didn't return any results\\\",\\\"status_code\\\":404}\"\n",
      "[1] \"no results for the query\"\n",
      "[1] 452\n",
      "$category\n",
      "[1] \"Client error\"\n",
      "\n",
      "$reason\n",
      "[1] \"Not Found\"\n",
      "\n",
      "$message\n",
      "[1] \"Client error: (404) Not Found\"\n",
      "\n"
     ]
    },
    {
     "name": "stderr",
     "output_type": "stream",
     "text": [
      "No encoding supplied: defaulting to UTF-8.\n",
      "\n"
     ]
    },
    {
     "name": "stdout",
     "output_type": "stream",
     "text": [
      "[1] \"{\\\"detail\\\":\\\"The query didn't return any results\\\",\\\"status_code\\\":404}\"\n",
      "[1] \"no results for the query\"\n",
      "[1] 453\n",
      "[1] 454\n",
      "$category\n",
      "[1] \"Client error\"\n",
      "\n",
      "$reason\n",
      "[1] \"Not Found\"\n",
      "\n",
      "$message\n",
      "[1] \"Client error: (404) Not Found\"\n",
      "\n"
     ]
    },
    {
     "name": "stderr",
     "output_type": "stream",
     "text": [
      "No encoding supplied: defaulting to UTF-8.\n",
      "\n"
     ]
    },
    {
     "name": "stdout",
     "output_type": "stream",
     "text": [
      "[1] \"{\\\"detail\\\":\\\"The query didn't return any results\\\",\\\"status_code\\\":404}\"\n",
      "[1] \"no results for the query\"\n",
      "[1] 455\n",
      "[1] 456\n",
      "[1] 457\n",
      "$category\n",
      "[1] \"Client error\"\n",
      "\n",
      "$reason\n",
      "[1] \"Not Found\"\n",
      "\n",
      "$message\n",
      "[1] \"Client error: (404) Not Found\"\n",
      "\n"
     ]
    },
    {
     "name": "stderr",
     "output_type": "stream",
     "text": [
      "No encoding supplied: defaulting to UTF-8.\n",
      "\n"
     ]
    },
    {
     "name": "stdout",
     "output_type": "stream",
     "text": [
      "[1] \"{\\\"detail\\\":\\\"The query didn't return any results\\\",\\\"status_code\\\":404}\"\n",
      "[1] \"no results for the query\"\n",
      "[1] 458\n",
      "[1] 459\n",
      "[1] 460\n",
      "$category\n",
      "[1] \"Client error\"\n",
      "\n",
      "$reason\n",
      "[1] \"Not Found\"\n",
      "\n",
      "$message\n",
      "[1] \"Client error: (404) Not Found\"\n",
      "\n"
     ]
    },
    {
     "name": "stderr",
     "output_type": "stream",
     "text": [
      "No encoding supplied: defaulting to UTF-8.\n",
      "\n"
     ]
    },
    {
     "name": "stdout",
     "output_type": "stream",
     "text": [
      "[1] \"{\\\"detail\\\":\\\"The query didn't return any results\\\",\\\"status_code\\\":404}\"\n",
      "[1] \"no results for the query\"\n",
      "[1] 461\n",
      "$category\n",
      "[1] \"Client error\"\n",
      "\n",
      "$reason\n",
      "[1] \"Not Found\"\n",
      "\n",
      "$message\n",
      "[1] \"Client error: (404) Not Found\"\n",
      "\n"
     ]
    },
    {
     "name": "stderr",
     "output_type": "stream",
     "text": [
      "No encoding supplied: defaulting to UTF-8.\n",
      "\n"
     ]
    },
    {
     "name": "stdout",
     "output_type": "stream",
     "text": [
      "[1] \"{\\\"detail\\\":\\\"The query didn't return any results\\\",\\\"status_code\\\":404}\"\n",
      "[1] \"no results for the query\"\n",
      "[1] 462\n",
      "$category\n",
      "[1] \"Client error\"\n",
      "\n",
      "$reason\n",
      "[1] \"Not Found\"\n",
      "\n",
      "$message\n",
      "[1] \"Client error: (404) Not Found\"\n",
      "\n"
     ]
    },
    {
     "name": "stderr",
     "output_type": "stream",
     "text": [
      "No encoding supplied: defaulting to UTF-8.\n",
      "\n"
     ]
    },
    {
     "name": "stdout",
     "output_type": "stream",
     "text": [
      "[1] \"{\\\"detail\\\":\\\"The query didn't return any results\\\",\\\"status_code\\\":404}\"\n",
      "[1] \"no results for the query\"\n",
      "[1] 463\n",
      "[1] 464\n",
      "$category\n",
      "[1] \"Client error\"\n",
      "\n",
      "$reason\n",
      "[1] \"Not Found\"\n",
      "\n",
      "$message\n",
      "[1] \"Client error: (404) Not Found\"\n",
      "\n"
     ]
    },
    {
     "name": "stderr",
     "output_type": "stream",
     "text": [
      "No encoding supplied: defaulting to UTF-8.\n",
      "\n"
     ]
    },
    {
     "name": "stdout",
     "output_type": "stream",
     "text": [
      "[1] \"{\\\"detail\\\":\\\"The query didn't return any results\\\",\\\"status_code\\\":404}\"\n",
      "[1] \"no results for the query\"\n",
      "[1] 465\n",
      "$category\n",
      "[1] \"Client error\"\n",
      "\n",
      "$reason\n",
      "[1] \"Not Found\"\n",
      "\n",
      "$message\n",
      "[1] \"Client error: (404) Not Found\"\n",
      "\n"
     ]
    },
    {
     "name": "stderr",
     "output_type": "stream",
     "text": [
      "No encoding supplied: defaulting to UTF-8.\n",
      "\n"
     ]
    },
    {
     "name": "stdout",
     "output_type": "stream",
     "text": [
      "[1] \"{\\\"detail\\\":\\\"The query didn't return any results\\\",\\\"status_code\\\":404}\"\n",
      "[1] \"no results for the query\"\n",
      "[1] 466\n",
      "[1] 467\n",
      "$category\n",
      "[1] \"Client error\"\n",
      "\n",
      "$reason\n",
      "[1] \"Not Found\"\n",
      "\n",
      "$message\n",
      "[1] \"Client error: (404) Not Found\"\n",
      "\n"
     ]
    },
    {
     "name": "stderr",
     "output_type": "stream",
     "text": [
      "No encoding supplied: defaulting to UTF-8.\n",
      "\n"
     ]
    },
    {
     "name": "stdout",
     "output_type": "stream",
     "text": [
      "[1] \"{\\\"detail\\\":\\\"The query didn't return any results\\\",\\\"status_code\\\":404}\"\n",
      "[1] \"no results for the query\"\n",
      "[1] 468\n",
      "$category\n",
      "[1] \"Client error\"\n",
      "\n",
      "$reason\n",
      "[1] \"Not Found\"\n",
      "\n",
      "$message\n",
      "[1] \"Client error: (404) Not Found\"\n",
      "\n"
     ]
    },
    {
     "name": "stderr",
     "output_type": "stream",
     "text": [
      "No encoding supplied: defaulting to UTF-8.\n",
      "\n"
     ]
    },
    {
     "name": "stdout",
     "output_type": "stream",
     "text": [
      "[1] \"{\\\"detail\\\":\\\"The query didn't return any results\\\",\\\"status_code\\\":404}\"\n",
      "[1] \"no results for the query\"\n",
      "[1] 469\n",
      "[1] 470\n",
      "[1] 471\n",
      "$category\n",
      "[1] \"Client error\"\n",
      "\n",
      "$reason\n",
      "[1] \"Not Found\"\n",
      "\n",
      "$message\n",
      "[1] \"Client error: (404) Not Found\"\n",
      "\n"
     ]
    },
    {
     "name": "stderr",
     "output_type": "stream",
     "text": [
      "No encoding supplied: defaulting to UTF-8.\n",
      "\n"
     ]
    },
    {
     "name": "stdout",
     "output_type": "stream",
     "text": [
      "[1] \"{\\\"detail\\\":\\\"The query didn't return any results\\\",\\\"status_code\\\":404}\"\n",
      "[1] \"no results for the query\"\n",
      "[1] 472\n",
      "[1] 473\n",
      "[1] 474\n",
      "$category\n",
      "[1] \"Client error\"\n",
      "\n",
      "$reason\n",
      "[1] \"Not Found\"\n",
      "\n",
      "$message\n",
      "[1] \"Client error: (404) Not Found\"\n",
      "\n"
     ]
    },
    {
     "name": "stderr",
     "output_type": "stream",
     "text": [
      "No encoding supplied: defaulting to UTF-8.\n",
      "\n"
     ]
    },
    {
     "name": "stdout",
     "output_type": "stream",
     "text": [
      "[1] \"{\\\"detail\\\":\\\"The query didn't return any results\\\",\\\"status_code\\\":404}\"\n",
      "[1] \"no results for the query\"\n",
      "[1] 475\n",
      "$category\n",
      "[1] \"Client error\"\n",
      "\n",
      "$reason\n",
      "[1] \"Not Found\"\n",
      "\n",
      "$message\n",
      "[1] \"Client error: (404) Not Found\"\n",
      "\n"
     ]
    },
    {
     "name": "stderr",
     "output_type": "stream",
     "text": [
      "No encoding supplied: defaulting to UTF-8.\n",
      "\n"
     ]
    },
    {
     "name": "stdout",
     "output_type": "stream",
     "text": [
      "[1] \"{\\\"detail\\\":\\\"The query didn't return any results\\\",\\\"status_code\\\":404}\"\n",
      "[1] \"no results for the query\"\n",
      "[1] 476\n",
      "[1] 477\n",
      "[1] 478\n",
      "$category\n",
      "[1] \"Client error\"\n",
      "\n",
      "$reason\n",
      "[1] \"Not Found\"\n",
      "\n",
      "$message\n",
      "[1] \"Client error: (404) Not Found\"\n",
      "\n"
     ]
    },
    {
     "name": "stderr",
     "output_type": "stream",
     "text": [
      "No encoding supplied: defaulting to UTF-8.\n",
      "\n"
     ]
    },
    {
     "name": "stdout",
     "output_type": "stream",
     "text": [
      "[1] \"{\\\"detail\\\":\\\"The query didn't return any results\\\",\\\"status_code\\\":404}\"\n",
      "[1] \"no results for the query\"\n",
      "[1] 479\n",
      "$category\n",
      "[1] \"Client error\"\n",
      "\n",
      "$reason\n",
      "[1] \"Not Found\"\n",
      "\n",
      "$message\n",
      "[1] \"Client error: (404) Not Found\"\n",
      "\n"
     ]
    },
    {
     "name": "stderr",
     "output_type": "stream",
     "text": [
      "No encoding supplied: defaulting to UTF-8.\n",
      "\n"
     ]
    },
    {
     "name": "stdout",
     "output_type": "stream",
     "text": [
      "[1] \"{\\\"detail\\\":\\\"The query didn't return any results\\\",\\\"status_code\\\":404}\"\n",
      "[1] \"no results for the query\"\n",
      "[1] 480\n",
      "[1] 481\n",
      "[1] 482\n",
      "$category\n",
      "[1] \"Client error\"\n",
      "\n",
      "$reason\n",
      "[1] \"Not Found\"\n",
      "\n",
      "$message\n",
      "[1] \"Client error: (404) Not Found\"\n",
      "\n"
     ]
    },
    {
     "name": "stderr",
     "output_type": "stream",
     "text": [
      "No encoding supplied: defaulting to UTF-8.\n",
      "\n"
     ]
    },
    {
     "name": "stdout",
     "output_type": "stream",
     "text": [
      "[1] \"{\\\"detail\\\":\\\"The query didn't return any results\\\",\\\"status_code\\\":404}\"\n",
      "[1] \"no results for the query\"\n",
      "[1] 483\n",
      "$category\n",
      "[1] \"Client error\"\n",
      "\n",
      "$reason\n",
      "[1] \"Not Found\"\n",
      "\n",
      "$message\n",
      "[1] \"Client error: (404) Not Found\"\n",
      "\n"
     ]
    },
    {
     "name": "stderr",
     "output_type": "stream",
     "text": [
      "No encoding supplied: defaulting to UTF-8.\n",
      "\n"
     ]
    },
    {
     "name": "stdout",
     "output_type": "stream",
     "text": [
      "[1] \"{\\\"detail\\\":\\\"The query didn't return any results\\\",\\\"status_code\\\":404}\"\n",
      "[1] \"no results for the query\"\n",
      "[1] 484\n",
      "[1] 485\n",
      "[1] 486\n",
      "$category\n",
      "[1] \"Client error\"\n",
      "\n",
      "$reason\n",
      "[1] \"Not Found\"\n",
      "\n",
      "$message\n",
      "[1] \"Client error: (404) Not Found\"\n",
      "\n"
     ]
    },
    {
     "name": "stderr",
     "output_type": "stream",
     "text": [
      "No encoding supplied: defaulting to UTF-8.\n",
      "\n"
     ]
    },
    {
     "name": "stdout",
     "output_type": "stream",
     "text": [
      "[1] \"{\\\"detail\\\":\\\"The query didn't return any results\\\",\\\"status_code\\\":404}\"\n",
      "[1] \"no results for the query\"\n",
      "[1] 487\n",
      "[1] 488\n",
      "$category\n",
      "[1] \"Client error\"\n",
      "\n",
      "$reason\n",
      "[1] \"Not Found\"\n",
      "\n",
      "$message\n",
      "[1] \"Client error: (404) Not Found\"\n",
      "\n"
     ]
    },
    {
     "name": "stderr",
     "output_type": "stream",
     "text": [
      "No encoding supplied: defaulting to UTF-8.\n",
      "\n"
     ]
    },
    {
     "name": "stdout",
     "output_type": "stream",
     "text": [
      "[1] \"{\\\"detail\\\":\\\"The query didn't return any results\\\",\\\"status_code\\\":404}\"\n",
      "[1] \"no results for the query\"\n",
      "[1] 489\n",
      "$category\n",
      "[1] \"Client error\"\n",
      "\n",
      "$reason\n",
      "[1] \"Not Found\"\n",
      "\n",
      "$message\n",
      "[1] \"Client error: (404) Not Found\"\n",
      "\n"
     ]
    },
    {
     "name": "stderr",
     "output_type": "stream",
     "text": [
      "No encoding supplied: defaulting to UTF-8.\n",
      "\n"
     ]
    },
    {
     "name": "stdout",
     "output_type": "stream",
     "text": [
      "[1] \"{\\\"detail\\\":\\\"The query didn't return any results\\\",\\\"status_code\\\":404}\"\n",
      "[1] \"no results for the query\"\n",
      "[1] 490\n",
      "[1] 491\n",
      "$category\n",
      "[1] \"Client error\"\n",
      "\n",
      "$reason\n",
      "[1] \"Not Found\"\n",
      "\n",
      "$message\n",
      "[1] \"Client error: (404) Not Found\"\n",
      "\n"
     ]
    },
    {
     "name": "stderr",
     "output_type": "stream",
     "text": [
      "No encoding supplied: defaulting to UTF-8.\n",
      "\n"
     ]
    },
    {
     "name": "stdout",
     "output_type": "stream",
     "text": [
      "[1] \"{\\\"detail\\\":\\\"The query didn't return any results\\\",\\\"status_code\\\":404}\"\n",
      "[1] \"no results for the query\"\n",
      "[1] 492\n",
      "$category\n",
      "[1] \"Client error\"\n",
      "\n",
      "$reason\n",
      "[1] \"Not Found\"\n",
      "\n",
      "$message\n",
      "[1] \"Client error: (404) Not Found\"\n",
      "\n"
     ]
    },
    {
     "name": "stderr",
     "output_type": "stream",
     "text": [
      "No encoding supplied: defaulting to UTF-8.\n",
      "\n"
     ]
    },
    {
     "name": "stdout",
     "output_type": "stream",
     "text": [
      "[1] \"{\\\"detail\\\":\\\"The query didn't return any results\\\",\\\"status_code\\\":404}\"\n",
      "[1] \"no results for the query\"\n",
      "[1] 493\n",
      "[1] 494\n",
      "[1] 495\n",
      "[1] 496\n",
      "[1] 497\n",
      "$category\n",
      "[1] \"Client error\"\n",
      "\n",
      "$reason\n",
      "[1] \"Not Found\"\n",
      "\n",
      "$message\n",
      "[1] \"Client error: (404) Not Found\"\n",
      "\n"
     ]
    },
    {
     "name": "stderr",
     "output_type": "stream",
     "text": [
      "No encoding supplied: defaulting to UTF-8.\n",
      "\n"
     ]
    },
    {
     "name": "stdout",
     "output_type": "stream",
     "text": [
      "[1] \"{\\\"detail\\\":\\\"The query didn't return any results\\\",\\\"status_code\\\":404}\"\n",
      "[1] \"no results for the query\"\n",
      "[1] 498\n",
      "[1] 499\n",
      "[1] 500\n",
      "$category\n",
      "[1] \"Client error\"\n",
      "\n",
      "$reason\n",
      "[1] \"Not Found\"\n",
      "\n",
      "$message\n",
      "[1] \"Client error: (404) Not Found\"\n",
      "\n"
     ]
    },
    {
     "name": "stderr",
     "output_type": "stream",
     "text": [
      "No encoding supplied: defaulting to UTF-8.\n",
      "\n"
     ]
    },
    {
     "name": "stdout",
     "output_type": "stream",
     "text": [
      "[1] \"{\\\"detail\\\":\\\"The query didn't return any results\\\",\\\"status_code\\\":404}\"\n",
      "[1] \"no results for the query\"\n"
     ]
    }
   ],
   "source": [
    "for (diseaseId_ind in c(1:length(diseaseId_list))){\n",
    "    print(diseaseId_ind)\n",
    "    diseaseId = diseaseId_list[diseaseId_ind]\n",
    "    diseaseName = diseaseId_All_list_names[diseaseId]\n",
    "    \n",
    "    tryCatch( { dis_res <- disease2gene( diseaseId_list[diseaseId_ind], database = \"CURATED\" ) }\n",
    "          , error = function(e) {an.error.occured <<- TRUE} )\n",
    "    \n",
    "    if (class(dis_res) == 'character'){next}\n",
    "        \n",
    "    geneList = dis_res@qresult %>% pull(gene_symbol)\n",
    "    \n",
    "    disease_DF = disease_DF %>% \n",
    "    add_row(tibble_row(Source = \"Disease\",\n",
    "            GeneSetID = diseaseId,\n",
    "            GeneSetName = diseaseName, \n",
    "            GeneList = str_c(geneList,  collapse = \" \"),\n",
    "            n_Genes = length(geneList)))\n",
    "    }"
   ]
  },
  {
   "cell_type": "code",
   "execution_count": 111,
   "id": "073b57d8-b716-4aa5-8a14-10b4a4705a4d",
   "metadata": {
    "tags": []
   },
   "outputs": [
    {
     "data": {
      "text/html": [
       "<strong>C0268306:</strong> 'Unconjugated hyperbilirubinemia'"
      ],
      "text/latex": [
       "\\textbf{C0268306:} 'Unconjugated hyperbilirubinemia'"
      ],
      "text/markdown": [
       "**C0268306:** 'Unconjugated hyperbilirubinemia'"
      ],
      "text/plain": [
       "                         C0268306 \n",
       "\"Unconjugated hyperbilirubinemia\" "
      ]
     },
     "metadata": {},
     "output_type": "display_data"
    }
   ],
   "source": [
    "diseaseId_All_list_names['C0268306']"
   ]
  },
  {
   "cell_type": "code",
   "execution_count": 99,
   "id": "f8368b01-ec5c-4df6-9c5a-aca2d2f52901",
   "metadata": {},
   "outputs": [
    {
     "data": {
      "text/html": [
       "'C0268306'"
      ],
      "text/latex": [
       "'C0268306'"
      ],
      "text/markdown": [
       "'C0268306'"
      ],
      "text/plain": [
       "[1] \"C0268306\""
      ]
     },
     "metadata": {},
     "output_type": "display_data"
    }
   ],
   "source": [
    "diseaseId"
   ]
  },
  {
   "cell_type": "code",
   "execution_count": 59,
   "id": "ba391f2e-117f-4e0d-823b-211e939c1102",
   "metadata": {},
   "outputs": [],
   "source": [
    "disease_toUse_DF = disease_DF %>% subset(n_Genes >=2) %>% head(n = 77)"
   ]
  },
  {
   "cell_type": "code",
   "execution_count": 60,
   "id": "13885508-61a9-4256-9cd5-9d5773026831",
   "metadata": {},
   "outputs": [
    {
     "data": {
      "text/html": [
       "<style>\n",
       ".list-inline {list-style: none; margin:0; padding: 0}\n",
       ".list-inline>li {display: inline-block}\n",
       ".list-inline>li:not(:last-child)::after {content: \"\\00b7\"; padding: 0 .5ex}\n",
       "</style>\n",
       "<ol class=list-inline><li>77</li><li>5</li></ol>\n"
      ],
      "text/latex": [
       "\\begin{enumerate*}\n",
       "\\item 77\n",
       "\\item 5\n",
       "\\end{enumerate*}\n"
      ],
      "text/markdown": [
       "1. 77\n",
       "2. 5\n",
       "\n",
       "\n"
      ],
      "text/plain": [
       "[1] 77  5"
      ]
     },
     "metadata": {},
     "output_type": "display_data"
    }
   ],
   "source": [
    "dim(disease_toUse_DF)"
   ]
  },
  {
   "cell_type": "code",
   "execution_count": 92,
   "id": "335c6bc6-457a-4392-a52f-175ca1b27062",
   "metadata": {},
   "outputs": [],
   "source": [
    "genesets_DF = genesets_DF %>% rbind(disease_toUse_DF)"
   ]
  },
  {
   "cell_type": "code",
   "execution_count": 95,
   "id": "534f0d7b-79c7-42d6-82f2-319914e5ba16",
   "metadata": {},
   "outputs": [
    {
     "data": {
      "text/html": [
       "<style>\n",
       ".list-inline {list-style: none; margin:0; padding: 0}\n",
       ".list-inline>li {display: inline-block}\n",
       ".list-inline>li:not(:last-child)::after {content: \"\\00b7\"; padding: 0 .5ex}\n",
       "</style>\n",
       "<ol class=list-inline><li>77</li><li>5</li></ol>\n"
      ],
      "text/latex": [
       "\\begin{enumerate*}\n",
       "\\item 77\n",
       "\\item 5\n",
       "\\end{enumerate*}\n"
      ],
      "text/markdown": [
       "1. 77\n",
       "2. 5\n",
       "\n",
       "\n"
      ],
      "text/plain": [
       "[1] 77  5"
      ]
     },
     "metadata": {},
     "output_type": "display_data"
    }
   ],
   "source": [
    "dim(disease_toUse_DF)"
   ]
  },
  {
   "cell_type": "code",
   "execution_count": 94,
   "id": "2533f5a5-fc5e-42ff-8517-0193b5cb1d3b",
   "metadata": {},
   "outputs": [
    {
     "data": {
      "text/html": [
       "<style>\n",
       ".list-inline {list-style: none; margin:0; padding: 0}\n",
       ".list-inline>li {display: inline-block}\n",
       ".list-inline>li:not(:last-child)::after {content: \"\\00b7\"; padding: 0 .5ex}\n",
       "</style>\n",
       "<ol class=list-inline><li>250</li><li>5</li></ol>\n"
      ],
      "text/latex": [
       "\\begin{enumerate*}\n",
       "\\item 250\n",
       "\\item 5\n",
       "\\end{enumerate*}\n"
      ],
      "text/markdown": [
       "1. 250\n",
       "2. 5\n",
       "\n",
       "\n"
      ],
      "text/plain": [
       "[1] 250   5"
      ]
     },
     "metadata": {},
     "output_type": "display_data"
    }
   ],
   "source": [
    "dim(genesets_DF)"
   ]
  },
  {
   "cell_type": "code",
   "execution_count": 96,
   "id": "a8436818-01c0-485b-92d5-fbf5518af3be",
   "metadata": {},
   "outputs": [],
   "source": [
    "write_delim(x = genesets_DF,file = \"data/omics.txt\" , delim = \"\\t\")"
   ]
  },
  {
   "cell_type": "markdown",
   "id": "d5c40a1a-3a62-4127-a920-bc40ed7052db",
   "metadata": {},
   "source": [
    "## Fixing disease names"
   ]
  },
  {
   "cell_type": "code",
   "execution_count": 108,
   "id": "7e79b486-f731-4210-b974-05d3839210cc",
   "metadata": {},
   "outputs": [
    {
     "name": "stderr",
     "output_type": "stream",
     "text": [
      "\u001b[1mRows: \u001b[22m\u001b[34m250\u001b[39m \u001b[1mColumns: \u001b[22m\u001b[34m5\u001b[39m\n",
      "\u001b[36m──\u001b[39m \u001b[1mColumn specification\u001b[22m \u001b[36m──────────────────────────────────────────────────────────────────────────────────────────────────────────\u001b[39m\n",
      "\u001b[1mDelimiter:\u001b[22m \"\\t\"\n",
      "\u001b[31mchr\u001b[39m (4): Source, GeneSetID, GeneSetName, GeneList\n",
      "\u001b[32mdbl\u001b[39m (1): n_Genes\n",
      "\n",
      "\u001b[36mℹ\u001b[39m Use `spec()` to retrieve the full column specification for this data.\n",
      "\u001b[36mℹ\u001b[39m Specify the column types or set `show_col_types = FALSE` to quiet this message.\n"
     ]
    }
   ],
   "source": [
    "genesets_fixed_DF  = read_delim(file = \"data/omics.txt\" , delim = \"\\t\")"
   ]
  },
  {
   "cell_type": "code",
   "execution_count": 113,
   "id": "efe9a3ac-fc0c-448d-843a-93ca85de5eef",
   "metadata": {},
   "outputs": [],
   "source": [
    "genesets_fixed_DF = genesets_fixed_DF %>%\n",
    "rowwise() %>%\n",
    "mutate(GeneSetName = ifelse(Source == \"Disease\", diseaseId_All_list_names[GeneSetID], GeneSetName))"
   ]
  },
  {
   "cell_type": "code",
   "execution_count": 116,
   "id": "68b98b16-520d-4764-ab60-ac51bf5727d0",
   "metadata": {},
   "outputs": [],
   "source": [
    "write_delim(x = genesets_fixed_DF,file = \"data/omics.txt\" , delim = \"\\t\")"
   ]
  },
  {
   "cell_type": "code",
   "execution_count": null,
   "id": "6d5fcb51-1608-4ec6-87ec-8b1b3c1bb455",
   "metadata": {},
   "outputs": [],
   "source": []
  },
  {
   "cell_type": "code",
   "execution_count": 118,
   "id": "c6d45936-c367-40f7-be14-dc6d24f07ffe",
   "metadata": {},
   "outputs": [
    {
     "name": "stderr",
     "output_type": "stream",
     "text": [
      "\u001b[1mRows: \u001b[22m\u001b[34m250\u001b[39m \u001b[1mColumns: \u001b[22m\u001b[34m8\u001b[39m\n",
      "\u001b[36m──\u001b[39m \u001b[1mColumn specification\u001b[22m \u001b[36m──────────────────────────────────────────────────────────────────────────────────────────────────────────\u001b[39m\n",
      "\u001b[1mDelimiter:\u001b[22m \"\\t\"\n",
      "\u001b[31mchr\u001b[39m (6): Source, GeneSetID, GeneSetName, GeneList, LLM Name, LLM Analysis\n",
      "\u001b[32mdbl\u001b[39m (2): n_Genes, Score\n",
      "\n",
      "\u001b[36mℹ\u001b[39m Use `spec()` to retrieve the full column specification for this data.\n",
      "\u001b[36mℹ\u001b[39m Specify the column types or set `show_col_types = FALSE` to quiet this message.\n"
     ]
    }
   ],
   "source": [
    "genesets_LLM_fixed_DF  = read_delim(file = \"data/omics_LLM_DF.tsv\" , delim = \"\\t\")"
   ]
  },
  {
   "cell_type": "code",
   "execution_count": 121,
   "id": "7f287ecc-880e-49b3-92b7-cf448dcc5a4e",
   "metadata": {},
   "outputs": [],
   "source": [
    "genesets_LLM_fixed_DF = genesets_LLM_fixed_DF %>%\n",
    "rowwise() %>%\n",
    "mutate(GeneSetName = ifelse(Source == \"Disease\", diseaseId_All_list_names[GeneSetID], GeneSetName))"
   ]
  },
  {
   "cell_type": "code",
   "execution_count": 123,
   "id": "3460f08a-5c13-4410-90bc-ef1de6aa1aba",
   "metadata": {},
   "outputs": [],
   "source": [
    "write_delim(x = genesets_LLM_fixed_DF,file = \"data/omics_LLM_DF.tsv\" , delim = \"\\t\")"
   ]
  },
  {
   "cell_type": "code",
   "execution_count": null,
   "id": "fc91d644-31d7-453d-ae86-f48b29ad2f75",
   "metadata": {},
   "outputs": [],
   "source": []
  }
 ],
 "metadata": {
  "kernelspec": {
   "display_name": "R",
   "language": "R",
   "name": "ir"
  },
  "language_info": {
   "codemirror_mode": "r",
   "file_extension": ".r",
   "mimetype": "text/x-r-source",
   "name": "R",
   "pygments_lexer": "r",
   "version": "4.2.2"
  }
 },
 "nbformat": 4,
 "nbformat_minor": 5
}
