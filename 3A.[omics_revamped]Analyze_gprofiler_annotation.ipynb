{
 "cells": [
  {
   "cell_type": "markdown",
   "metadata": {},
   "source": [
    "## g:profiler enrichment analysis evaluation \n",
    "\n",
    "updated the gene name. \n",
    "    \n",
    "1. pick the smallest p val\n",
    "    * pick the smallest p , then add JI requirement\n",
    "    \n"
   ]
  },
  {
   "cell_type": "code",
   "execution_count": 10,
   "metadata": {},
   "source": [
    "LLM_score_thresh = 0.01 # only drop the ones LLM does not assign a name \n",
    "adj_pval_thresh = 0.05\n",
    "JI_thresh = 0.05"
   ],
   "outputs": []
  },
  {
   "cell_type": "code",
   "execution_count": 11,
   "metadata": {},
   "source": [
    "import pandas as pd\n",
    "import matplotlib.pyplot as plt\n",
    "import seaborn as sns\n",
    "plt.rcParams['svg.fonttype'] = 'none'\n",
    "plt.rcParams.update({'font.size': 7, 'font.family': 'sans-serif'})\n",
    "plt.rcParams['xtick.labelsize'] = 7\n",
    "plt.rcParams['ytick.labelsize'] = 7\n",
    "plt.rcParams['axes.labelsize'] = 7\n",
    "plt.rcParams['axes.titlesize'] = 7\n",
    "\n",
    "from utils.analyze_enrichment_utils import *\n",
    "%load_ext autoreload\n",
    "%autoreload 2"
   ],
   "outputs": []
  },
  {
   "cell_type": "markdown",
   "metadata": {},
   "source": [
    "### Data files from other analyses:\n",
    " - inputfile: LLM analyzed + gProfiler enrichment analysis on updated gene symbols\n",
    " - LLM coverage analysis - used GPT-4 to review the analysis text to determine which genes met the criteria that they are \"definite\" supports, not conjecture.\n",
    " - Best matching GO terms to LLM names, used to estimate how many genes match the name, enabling the computation of a JI"
   ]
  },
  {
   "cell_type": "code",
   "execution_count": 12,
   "metadata": {},
   "source": [
    "\n",
    "import pandas as pd\n",
    "from utils.analyze_enrichment_utils import cal_JI_coverage\n",
    "\n",
    "group_col = [\"Source\", \"GeneSetID\", \"GeneSetName\", \"GeneList\"] # group by these columns in future steps\n",
    "\n",
    "## input file: LLM analyzed + gProfiler enrichment\n",
    "updated_name_llm_file = 'data/omics_revamped_LLM_gprofiler_new_gene_name_DF.tsv'\n",
    "\n",
    "# Read the TSV file into a Pandas DataFrame\n",
    "LLM_genes_DF = pd.read_csv(updated_name_llm_file, delimiter=\"\\t\")\n",
    "# make sure intersection_size, term_size, query_size are integers\n",
    "LLM_genes_DF['intersection_size'] = LLM_genes_DF['intersection_size'].apply(lambda x: int(x))\n",
    "LLM_genes_DF['term_size'] = LLM_genes_DF['term_size'].apply(lambda x: int(x))\n",
    "LLM_genes_DF['query_size'] = LLM_genes_DF['query_size'].apply(lambda x: int(x))\n",
    "#LLM_genes_DF.shape\n",
    "LLM_genes_DF = cal_JI_coverage(LLM_genes_DF)\n",
    "LLM_genes_DF.head(1)"
   ],
   "outputs": []
  },
  {
   "cell_type": "code",
   "execution_count": 13,
   "metadata": {},
   "source": [
    "## load the LLM coverage data as a common df to merge\n",
    "llm_coverage_df = pd.read_csv(\"data/omics_revamped_LLM_genecounts_DF.tsv\", sep=\"\\t\")\n",
    "\n",
    "llm_JI_file = 'data/omics_revamped_LLM_w_best_matching_GO_terms_for_JI.tsv'\n",
    "llm_ji_df = pd.read_csv(llm_JI_file, sep=\"\\t\")"
   ],
   "outputs": []
  },
  {
   "cell_type": "code",
   "execution_count": 14,
   "metadata": {},
   "source": [
    "# merge with the LLM coverage data\n",
    "merged_genes_DF = pd.merge(LLM_genes_DF, llm_coverage_df, on=['Source','GeneSetID','GeneSetName', 'GeneList', 'n_Genes'], how='left')\n",
    "print(merged_genes_DF.shape)\n",
    "# print(merged_genes_DF.columns)\n",
    "\n",
    "\n",
    "# merge with the LLM JI data\n",
    "\n",
    "merged_genes_DF = pd.merge(merged_genes_DF, llm_ji_df, on=['Source','GeneSetID','GeneList','n_Genes', 'LLM Name','Supporting Count'], how='left')\n",
    "print(merged_genes_DF.shape)\n",
    "print(merged_genes_DF.columns)"
   ],
   "outputs": []
  },
  {
   "cell_type": "markdown",
   "metadata": {},
   "source": [
    "# Pick Best APV\n",
    "\n",
    " - Select the best GO by the smallest p-value\n",
    " - Filter by p-value. \n",
    "\n",
    "If we later apply a coverage threshold to generate this curve, the curve will not change if the threshold is changed because the enriched term is not picked based on the coverage threshold"
   ]
  },
  {
   "cell_type": "code",
   "execution_count": 15,
   "metadata": {},
   "source": [
    "from utils.analyze_enrichment_utils import get_min_adj_p_value\n",
    "%reload_ext autoreload\n",
    "%autoreload 2\n",
    "\n",
    "coverage_thresh = 0.2\n",
    "\n",
    "# Grouping the DataFrame by the specified columns\n",
    "grouped = merged_genes_DF.groupby(group_col)\n",
    "\n",
    "# Apply the function to each group and reset the index\n",
    "reduced_LLM_genes_APV_only_DF = grouped.apply(lambda x: get_min_adj_p_value(x, sortCol='gprofiler_JI')).reset_index(drop=True)\n",
    "\n",
    "# Add the 'LLM_success_TF' and 'gprofiler_success_TF' columns\n",
    "reduced_LLM_genes_APV_only_DF['LLM_success_TF'] = ((reduced_LLM_genes_APV_only_DF['Score'] >= LLM_score_thresh))\n",
    "reduced_LLM_genes_APV_only_DF['gprofiler_success_TF'] = ~((reduced_LLM_genes_APV_only_DF['Adjusted P-value'] > adj_pval_thresh)) # enrichment criteria\n",
    "\n",
    "print(create_success_contingency_table(reduced_LLM_genes_APV_only_DF))\n",
    "\n",
    "result_df = select_rows_and_columns(reduced_LLM_genes_APV_only_DF, 5)\n",
    "result_df\n"
   ],
   "outputs": []
  },
  {
   "cell_type": "code",
   "execution_count": 7,
   "metadata": {},
   "source": [
    "# save the DataFrame to a TSV file\n",
    "reduced_LLM_genes_APV_only_DF.to_csv(\"data/omics_revamped_LLM_gprofiler_new_gene_name_DF_APV_only.tsv\", sep=\"\\t\", index=False)"
   ],
   "outputs": []
  },
  {
   "cell_type": "code",
   "execution_count": 16,
   "metadata": {},
   "source": [
    "from utils.analyze_enrichment_utils import plot_thresholding_res\n",
    "%reload_ext autoreload\n",
    "%autoreload 2\n",
    "\n",
    "plot_thresholding_res(reduced_LLM_genes_APV_only_DF, 'gprofiler_JI', 'LLM_JI',coverage_thresh_list = np.arange(0.0, 1.1, 0.05), enrich_adj_pval_thresh = adj_pval_thresh, LLM_score_thresh = LLM_score_thresh, highlight_coverage = [0.0, 0.05, 0.1, 0.2],figsize=(3,3), ax_label_keyword= 'JI', log_scale=True)"
   ],
   "outputs": []
  },
  {
   "cell_type": "markdown",
   "metadata": {},
   "source": [
    "# Pick GO term with best APV then filter by JI thresholds \n",
    " - Select the best GO term by the smallest p-value\n",
    "      - If there are multiple GO terms with the same smallest p-value, then pick the term with the highest JI.\n",
    " - Filter by both the p-value and JI thresholds.\n"
   ]
  },
  {
   "cell_type": "code",
   "execution_count": 17,
   "metadata": {},
   "source": [
    "from utils.analyze_enrichment_utils import get_min_adj_p_value\n",
    "%reload_ext autoreload\n",
    "%autoreload 2\n",
    "\n",
    "JI_thresh_list = [0.0, 0.05, 0.1, 0.2]\n",
    "for JI_thresh in JI_thresh_list:\n",
    "    print(f\"JI threshold: {JI_thresh}\")\n",
    "    # Grouping the DataFrame by the specified columns\n",
    "    grouped = merged_genes_DF.groupby(group_col)\n",
    "\n",
    "    # Apply the function to each group and reset the index\n",
    "    reduced_LLM_genes_APV_thred_JI_DF = grouped.apply(lambda x: get_min_adj_p_value(x, sortCol='gprofiler_JI')).reset_index(drop=True)\n",
    "\n",
    "\n",
    "    # Add the 'LLM_success_TF' and 'gprofiler_success_TF' columns\n",
    "    reduced_LLM_genes_APV_thred_JI_DF['LLM_success_TF'] = ((reduced_LLM_genes_APV_thred_JI_DF ['Score'] >= LLM_score_thresh)& (reduced_LLM_genes_APV_thred_JI_DF ['LLM_JI'] >= JI_thresh)) # LLM creteria\n",
    "    reduced_LLM_genes_APV_thred_JI_DF['gprofiler_success_TF'] = ~((reduced_LLM_genes_APV_thred_JI_DF ['Adjusted P-value'] > adj_pval_thresh) | (reduced_LLM_genes_APV_thred_JI_DF['gprofiler_JI'] < JI_thresh)) # enrichment criteria\n",
    "\n",
    "\n",
    "    print(create_success_contingency_table(reduced_LLM_genes_APV_thred_JI_DF))\n",
    "\n"
   ],
   "outputs": []
  },
  {
   "cell_type": "code",
   "execution_count": null,
   "metadata": {},
   "source": [],
   "outputs": []
  },
  {
   "cell_type": "markdown",
   "metadata": {},
   "source": [
    "# Heatmap for example"
   ]
  },
  {
   "cell_type": "code",
   "execution_count": 18,
   "metadata": {},
   "source": [
    "# find the GeneSetID: Cluster2-105 from the full table\n",
    "example = merged_genes_DF.loc[\n",
    "merged_genes_DF['GeneSetID'] == 'Cluster2-105'].iloc[[0,2]] # one is the most significant, one is more similar name\n",
    "# example\n",
    "geneList = example['GeneList'].values[0].split(' ')\n",
    "\n",
    "new_cols = ['Name', 'Supporting Genes','Named by']\n",
    "new_df = pd.DataFrame(columns=new_cols)\n",
    "\n",
    "# LLM supporting genes\n",
    "llm_supporting_genes = example['Supporting Genes'].values[0].split(' ')\n",
    "# Join the LLM supporting genes list into a single string\n",
    "llm_supporting_genes_str = ', '.join(llm_supporting_genes)\n",
    "llm_name_row = pd.DataFrame({'Name': [example['LLM Name'].values[0]], 'Supporting Genes': llm_supporting_genes_str, 'Named by': ['GPT-4']})\n",
    "new_df = pd.concat([new_df, llm_name_row], ignore_index=True)\n",
    "\n",
    "for go_term in example['Term'].values:\n",
    "    intersection = example.loc[example['Term'] == go_term, 'intersections'].values[0].split(',')\n",
    "    # Join the intersection list into a single string\n",
    "    intersection_str = ', '.join(intersection)\n",
    "    new_row = pd.DataFrame({'Name': [go_term], 'Supporting Genes': intersection_str, 'Named by': ['g:Profiler']})\n",
    "    new_df = pd.concat([new_df, new_row], ignore_index=True)\n",
    "\n",
    "\n",
    "new_df = new_df.reset_index(drop=True)\n",
    "# new_df\n",
    "# geneList\n",
    "# plot a heatmap, where columns are the genes and rows are the gene sets, heat at the intersections\n",
    "\n",
    "# column is all the genes in the target gene set \n",
    "genes = set(geneList)\n",
    "genes = sorted(genes)\n",
    "\n",
    "# Create a binary matrix\n",
    "matrix = pd.DataFrame(0, index=new_df['Name'], columns=genes)\n",
    "for idx, row in new_df.iterrows():\n",
    "    supporting_genes = row['Supporting Genes'].split(', ')\n",
    "    matrix.loc[row['Name'], supporting_genes] = 1\n",
    "\n",
    "# Calculate appropriate figure size based on the number of genes and gene sets\n",
    "fig_height =len(new_df['Name']) * 0.2\n",
    "fig_width= len(genes) * 0.2\n",
    "\n",
    "# Plot the heatmap with square cells and adjusted figure size\n",
    "plt.figure(figsize=(fig_width, fig_height))\n",
    "ax = sns.heatmap(matrix, cmap=['#c0c0c0', '#ffbd00'], cbar=False, linewidths=.5, annot=False, square=True)\n",
    "# Move the x-axis labels to the top\n",
    "ax.xaxis.set_ticks_position('top')\n",
    "ax.xaxis.set_label_position('top')\n",
    "\n",
    "# Adjust the font size of the labels\n",
    "ax.set_xticklabels(ax.get_xticklabels(), rotation=45, ha='left')\n",
    "ax.set_yticklabels(ax.get_yticklabels(), rotation=0, ha='right')\n",
    "\n",
    "\n",
    "plt.xlabel('')\n",
    "plt.ylabel('')\n",
    "plt.savefig('figures/omics_LLM_gprofiler_CULLIN_example_gene_intersection_heatmap.svg', dpi=300)\n",
    "plt.show()"
   ],
   "outputs": []
  },
  {
   "cell_type": "code",
   "execution_count": null,
   "metadata": {},
   "source": [],
   "outputs": []
  }
 ],
 "metadata": {
  "kernelspec": {
   "display_name": "llm_eval",
   "language": "python",
   "name": "python3"
  },
  "language_info": {
   "codemirror_mode": {
    "name": "ipython",
    "version": 3
   },
   "file_extension": ".py",
   "mimetype": "text/x-python",
   "name": "python",
   "nbconvert_exporter": "python",
   "pygments_lexer": "ipython3",
   "version": "3.11.5"
  }
 },
 "nbformat": 4,
 "nbformat_minor": 2
}
