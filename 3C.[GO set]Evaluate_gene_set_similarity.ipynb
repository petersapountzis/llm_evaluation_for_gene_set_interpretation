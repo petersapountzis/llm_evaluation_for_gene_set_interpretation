{
 "cells": [
  {
   "cell_type": "markdown",
   "metadata": {},
   "source": [
    "# Notebook for analyze the gene set similarity with hypergeometric test"
   ]
  },
  {
   "cell_type": "code",
   "metadata": {
    "ExecuteTime": {
     "end_time": "2025-02-27T05:25:17.919574Z",
     "start_time": "2025-02-27T05:24:50.610724Z"
    }
   },
   "source": [
    "%run hypergeometric_GO.py --input_file data/GO_term_analysis/simrank_LLM_processed_selected_1000_go_terms.tsv --topn 3 --output_file data/GO_term_analysis/simrank_pval_LLM_processed_selected_1000_go_terms.tsv"
   ],
   "outputs": [
    {
     "name": "stderr",
     "output_type": "stream",
     "text": [
      "100%|██████████| 1000/1000 [00:01<00:00, 578.60it/s]\n"
     ]
    }
   ],
   "execution_count": 1
  },
  {
   "cell_type": "code",
   "metadata": {
    "ExecuteTime": {
     "end_time": "2025-02-27T05:32:17.379309Z",
     "start_time": "2025-02-27T05:32:16.878314Z"
    }
   },
   "source": [
    "import pandas as pd\n",
    "import numpy as np\n",
    "import matplotlib.pyplot as plt\n",
    "\n",
    "import seaborn as sns\n",
    "from glob import glob\n",
    "import re\n",
    "from scipy.stats import wilcoxon, mannwhitneyu\n",
    "\n",
    "# Set default configuration for all plots\n",
    "plt.rcParams['svg.fonttype'] = 'none'\n",
    "plt.rcParams['pdf.fonttype'] = 42\n",
    "plt.rcParams.update({'font.size': 7, 'font.family': 'sans-serif'})\n",
    "plt.rcParams['xtick.labelsize'] = 6\n",
    "plt.rcParams['ytick.labelsize'] = 6\n",
    "plt.rcParams['axes.labelsize'] = 7\n",
    "plt.rcParams['axes.titlesize'] = 7\n",
    "plt.rcParams['axes.linewidth'] = 0.5\n",
    "plt.rcParams['hatch.linewidth'] = 0.5\n",
    "plt.rcParams['xtick.major.width'] = 0.4\n",
    "plt.rcParams['ytick.major.width'] = 0.4\n",
    "plt.rcParams['xtick.minor.width'] = 0.3\n",
    "plt.rcParams['ytick.minor.width'] = 0.3\n",
    "plt.rcParams['legend.frameon'] = False\n",
    "plt.rcParams['xtick.major.size'] = 3\n",
    "plt.rcParams['ytick.major.size'] = 3\n",
    "plt.rcParams['xtick.minor.size'] = 2\n",
    "plt.rcParams['ytick.minor.size'] = 2\n",
    "plt.rcParams['xtick.major.pad'] = 1\n",
    "plt.rcParams['ytick.major.pad'] = 1\n",
    "plt.rcParams['axes.labelpad'] = 1\n",
    "plt.rcParams['patch.linewidth'] = 0.25\n",
    "plt.rcParams[\"axes.unicode_minus\"] = True\n",
    "plt.figsize = (2,2)    \n",
    "\n",
    "%load_ext autoreload\n",
    "%autoreload 2\n",
    "%matplotlib inline"
   ],
   "outputs": [],
   "execution_count": 2
  },
  {
   "cell_type": "code",
   "metadata": {
    "ExecuteTime": {
     "end_time": "2025-02-27T05:32:18.936413Z",
     "start_time": "2025-02-27T05:32:18.879692Z"
    }
   },
   "source": [
    "import pandas as pd \n",
    "df = pd.read_csv('data/GO_term_analysis/simrank_pval_LLM_processed_selected_1000_go_terms.tsv', sep='\\t')"
   ],
   "outputs": [],
   "execution_count": 3
  },
  {
   "cell_type": "code",
   "metadata": {
    "ExecuteTime": {
     "end_time": "2025-02-27T05:32:21.298981Z",
     "start_time": "2025-02-27T05:32:21.283400Z"
    }
   },
   "source": "df.columns",
   "outputs": [
    {
     "data": {
      "text/plain": [
       "Index(['GO', 'Genes', 'Gene_Count', 'Term_Description', 'gpt_4_default Name',\n",
       "       'gpt_4_default Analysis', 'gpt_4_default Score',\n",
       "       'gpt_4_default Score Bin', 'LLM_name_GO_term_sim', 'sim_rank',\n",
       "       'true_GO_term_sim_percentile', 'random_GO_name', 'random_go_llm_sim',\n",
       "       'random_sim_rank', 'random_sim_percentile', 'top_3_hits', 'top_3_sim',\n",
       "       'pvals', 'adj_pvals', 'random_pvals', 'random_adj_pvals', 'JI',\n",
       "       'random JI'],\n",
       "      dtype='object')"
      ]
     },
     "execution_count": 4,
     "metadata": {},
     "output_type": "execute_result"
    }
   ],
   "execution_count": 4
  },
  {
   "cell_type": "code",
   "metadata": {
    "ExecuteTime": {
     "end_time": "2025-02-27T05:32:22.637397Z",
     "start_time": "2025-02-27T05:32:22.626855Z"
    }
   },
   "source": [
    "def genes_coverage(genes, all_genes):\n",
    "    return len(set(genes).intersection(set(all_genes))) / len(genes)\n"
   ],
   "outputs": [],
   "execution_count": 5
  },
  {
   "cell_type": "code",
   "metadata": {
    "ExecuteTime": {
     "end_time": "2025-02-27T05:32:23.552753Z",
     "start_time": "2025-02-27T05:32:23.531325Z"
    }
   },
   "source": [
    "# number of terms that the best match term is the query term \n",
    "exact_match = 0\n",
    "match_in_top_3 = 0\n",
    "for i, row in df.iterrows():\n",
    "    if row['Term_Description'] in row['top_3_hits'].split('|'):\n",
    "        match_in_top_3 += 1\n",
    "        if row['Term_Description'] == row['top_3_hits'].split('|')[0]:\n",
    "            exact_match += 1\n",
    "print('Exact match: ', exact_match) \n",
    "print('Match in top 3: ', match_in_top_3)"
   ],
   "outputs": [
    {
     "name": "stdout",
     "output_type": "stream",
     "text": [
      "Exact match:  33\n",
      "Match in top 3:  64\n"
     ]
    }
   ],
   "execution_count": 6
  },
  {
   "attachments": {},
   "cell_type": "markdown",
   "metadata": {},
   "source": [
    "## calculate the coverage of broader concept \n",
    "in the cases where GO names are not semantically similar GPT 4 name\n",
    "\n",
    "Calculate if the best matching name is associated to a term that is more general concept"
   ]
  },
  {
   "cell_type": "code",
   "metadata": {
    "ExecuteTime": {
     "end_time": "2025-02-27T05:32:27.668297Z",
     "start_time": "2025-02-27T05:32:27.414634Z"
    }
   },
   "source": [
    "from tqdm import tqdm\n",
    "import  pandas as pd\n",
    "import numpy as np\n",
    "\n",
    "\n",
    "def genes_coverage(genes, all_genes):\n",
    "    return len(set(genes).intersection(set(all_genes))) / len(genes)\n",
    "\n",
    "df = pd.read_csv('data/GO_term_analysis/simrank_pval_LLM_processed_selected_1000_go_terms.tsv', sep='\\t')\n",
    "df.set_index('GO', inplace=True)\n",
    "all_go = pd.read_csv('data/go_terms.csv', index_col=0)\n",
    "\n",
    "# filter the list by ranking the percentile and keep terms with true_GO_term_sim_percentile < 0.95\n",
    "\n",
    "df_sorted = df.sort_values(by='true_GO_term_sim_percentile', ascending=True)\n",
    "df_filtered = df_sorted[df_sorted['true_GO_term_sim_percentile'] < 0.95]\n",
    "\n",
    "# because System of unrelated proteins will not have a best name that covers>50% of the genes\n",
    "df_filtered = df_filtered[df_filtered['gpt_4_default Name']!= 'System of unrelated proteins']\n",
    "print(df_filtered.shape)\n",
    "new_df = df_filtered.loc[:,['Genes', 'Gene_Count', 'Term_Description','gpt_4_default Name',\n",
    "       'gpt_4_default Analysis', 'gpt_4_default Score','gpt_4_default Score Bin', 'LLM_name_GO_term_sim','top_3_hits']]\n",
    "\n",
    "new_df['covered_by_best_match'] = False\n",
    "\n",
    "genes_coverage_list = []\n",
    "genes_overlap_list = []\n",
    "for i, row in tqdm(new_df.iterrows(), total=new_df.shape[0]):\n",
    "    current_gene_set = row['Genes'].split(' ')\n",
    "    top_n_hits = row[f'top_3_hits'].split('|')\n",
    "    top_match = top_n_hits[0]\n",
    "    genes = all_go[all_go['Term_Description'] == top_match]['Genes'].tolist()[0].split(' ')\n",
    "    \n",
    "    if len(genes)>len(current_gene_set):\n",
    "        coverage = genes_coverage(current_gene_set, genes)\n",
    "        genes_coverage_list.append(coverage)\n",
    "    else:\n",
    "        coverage = genes_coverage(current_gene_set, genes)\n",
    "        genes_overlap_list.append(coverage)\n",
    "    new_df.loc[i, 'best_match_coverage'] = coverage\n",
    "    if coverage >= 0.5:\n",
    "        new_df.loc[i, 'covered_by_best_match'] = True\n",
    "        \n",
    "\n",
    "# check how many are giving a general term coverage >=50%, how many are giving a specific term coverage >=50%\n",
    "print(len(genes_coverage_list), len(genes_overlap_list))\n",
    "high_coverage = np.sum(np.array(genes_coverage_list)>=0.5)\n",
    "high_overlap = np.sum(np.array(genes_overlap_list)>=0.5)\n",
    "print(f'Coverage >=50%: {high_coverage}')\n",
    "print(f'Overlap >=50%: {high_overlap}')   \n",
    "print(f'Coverage >=50%: {(high_coverage/len(new_df))*100}%')\n",
    "print(f'Overlap >=50%: {(high_overlap/len(new_df))*100}%')\n",
    "\n",
    "print(f'Coverage >=30%: {np.sum(np.array(genes_coverage_list)>=0.3)}')\n",
    "print(f'Overlap >=30%: {np.sum(np.array(genes_overlap_list)>=0.3)}')\n",
    "print(f'Coverage >=30%: {(np.sum(np.array(genes_coverage_list)>=0.3)/len(new_df))*100}%')\n"
   ],
   "outputs": [
    {
     "name": "stdout",
     "output_type": "stream",
     "text": [
      "(371, 22)\n"
     ]
    },
    {
     "name": "stderr",
     "output_type": "stream",
     "text": [
      "100%|██████████| 371/371 [00:00<00:00, 2536.41it/s]"
     ]
    },
    {
     "name": "stdout",
     "output_type": "stream",
     "text": [
      "316 55\n",
      "Coverage >=50%: 131\n",
      "Overlap >=50%: 1\n",
      "Coverage >=50%: 35.309973045822105%\n",
      "Overlap >=50%: 0.2695417789757413%\n",
      "Coverage >=30%: 177\n",
      "Overlap >=30%: 3\n",
      "Coverage >=30%: 47.7088948787062%\n"
     ]
    },
    {
     "name": "stderr",
     "output_type": "stream",
     "text": [
      "\n"
     ]
    }
   ],
   "execution_count": 7
  },
  {
   "cell_type": "code",
   "metadata": {
    "ExecuteTime": {
     "end_time": "2025-02-27T05:32:29.601724Z",
     "start_time": "2025-02-27T05:32:29.343339Z"
    }
   },
   "source": [
    "import matplotlib.pyplot as plt\n",
    "\n",
    "# Initialize lists to store the number of terms at each cutoff\n",
    "coverage_cutoffs = np.arange(0.1, 1.1, 0.1)\n",
    "covered_terms = []\n",
    "\n",
    "\n",
    "# Calculate how many terms have coverage above each cutoff\n",
    "for cutoff in coverage_cutoffs:\n",
    "    high_coverage = np.sum(np.array(genes_coverage_list) >= cutoff)\n",
    "    covered_terms.append(high_coverage)\n",
    "\n",
    "# Plot the results\n",
    "plt.figure(figsize=(3, 3))\n",
    "plt.plot(coverage_cutoffs, covered_terms, marker='o', markersize=5)\n",
    "plt.xlabel('Coverage cutoff')\n",
    "plt.ylabel('Number of broader concepts')\n",
    "# plot vertical line at 0.5\n",
    "plt.axvline(x=0.5, color='r', linestyle='--')\n",
    "sns.despine()\n",
    "\n",
    "plt.show()\n",
    "\n"
   ],
   "outputs": [
    {
     "data": {
      "text/plain": [
       "<Figure size 300x300 with 1 Axes>"
      ],
      "image/png": "[encoded data removed]"
     },
     "metadata": {},
     "output_type": "display_data"
    }
   ],
   "execution_count": 8
  },
  {
   "cell_type": "code",
   "metadata": {
    "ExecuteTime": {
     "end_time": "2025-02-27T05:32:31.254596Z",
     "start_time": "2025-02-27T05:32:31.184704Z"
    }
   },
   "source": [
    "# plot a pie chart  \n",
    "### Figure 2d\n",
    "\n",
    "hits = sum(df_sorted['true_GO_term_sim_percentile'] >= 0.95)\n",
    "# high_coverage\n",
    "\n",
    "mismatches = len(df_sorted) - hits - high_coverage\n",
    "labels = ['High similarity', 'Mismatches', 'Matching a broarder concept']\n",
    "sizes = [hits, mismatches, high_coverage]\n",
    "colors = ['#3a5a40','#dad7cd','#a3b18a']\n",
    "fig, ax = plt.subplots(figsize=(3,3))\n",
    "ax.pie(sizes, labels=labels, colors=colors, autopct='%1.1f%%', startangle=90)\n",
    "fig.savefig('figures/GPT4_GO_compare_stats_pie_chart.svg', bbox_inches='tight')\n"
   ],
   "outputs": [
    {
     "data": {
      "text/plain": [
       "<Figure size 300x300 with 1 Axes>"
      ],
      "image/png": "[encoded data removed]"
     },
     "metadata": {},
     "output_type": "display_data"
    }
   ],
   "execution_count": 9
  },
  {
   "cell_type": "code",
   "metadata": {
    "ExecuteTime": {
     "end_time": "2025-02-27T05:32:32.768516Z",
     "start_time": "2025-02-27T05:32:32.703002Z"
    }
   },
   "source": [
    "plt.figure(figsize=(3,3))\n",
    "plt.hist(new_df['best_match_coverage'])\n",
    "\n",
    "sns.despine()"
   ],
   "outputs": [
    {
     "data": {
      "text/plain": [
       "<Figure size 300x300 with 1 Axes>"
      ],
      "image/png": "[encoded data removed]"
     },
     "metadata": {},
     "output_type": "display_data"
    }
   ],
   "execution_count": 10
  },
  {
   "cell_type": "code",
   "metadata": {
    "ExecuteTime": {
     "end_time": "2025-02-27T05:32:34.990902Z",
     "start_time": "2025-02-27T05:32:34.964755Z"
    }
   },
   "source": [
    "# save the dataframe where the coverage is < 50%\n",
    "mismatch_res = new_df[new_df['covered_by_best_match'] == False]\n",
    "\n",
    "print(mismatch_res[mismatch_res['gpt_4_default Score Bin'] == 'High Confidence'].shape[0])\n",
    "\n",
    "print(mismatch_res.shape)\n",
    "mismatch_res.to_csv('data/GO_term_analysis/LLM_processed_selected_1000_go_terms_mismatch_subset.tsv', sep='\\t')\n"
   ],
   "outputs": [
    {
     "name": "stdout",
     "output_type": "stream",
     "text": [
      "112\n",
      "(239, 11)\n"
     ]
    }
   ],
   "execution_count": 11
  },
  {
   "cell_type": "code",
   "metadata": {
    "ExecuteTime": {
     "end_time": "2025-02-27T05:32:36.781163Z",
     "start_time": "2025-02-27T05:32:36.741034Z"
    }
   },
   "source": [
    "import pandas as pd\n",
    "mismatch_res = pd.read_csv('data/GO_term_analysis/LLM_processed_selected_1000_go_terms_mismatch_subset.tsv', sep='\\t')\n",
    "mismatch_res['gpt_4_default Score Bin'].value_counts()"
   ],
   "outputs": [
    {
     "data": {
      "text/plain": [
       "Medium Confidence    120\n",
       "High Confidence      112\n",
       "Low Confidence         6\n",
       "Name not assigned      1\n",
       "Name: gpt_4_default Score Bin, dtype: int64"
      ]
     },
     "execution_count": 12,
     "metadata": {},
     "output_type": "execute_result"
    }
   ],
   "execution_count": 12
  },
  {
   "cell_type": "code",
   "execution_count": null,
   "metadata": {},
   "outputs": [],
   "source": []
  },
  {
   "cell_type": "markdown",
   "metadata": {},
   "source": [
    "## hypergeometric test res of all cases with best matching GO"
   ]
  },
  {
   "cell_type": "code",
   "metadata": {
    "ExecuteTime": {
     "end_time": "2025-02-27T05:32:40.010529Z",
     "start_time": "2025-02-27T05:32:39.539713Z"
    }
   },
   "source": [
    "import numpy as np\n",
    "import matplotlib.pyplot as plt\n",
    "import seaborn as sns \n",
    "from scipy.stats import mannwhitneyu\n",
    "from matplotlib.ticker import FuncFormatter, MultipleLocator\n",
    "\n",
    "cutoff = 0.05\n",
    "df = pd.read_csv('data/GO_term_analysis/simrank_pval_LLM_processed_selected_1000_go_terms.tsv', sep='\\t')\n",
    "# I need to remove rows that names are 'System of unrelated proteins'\n",
    "df = df[df['gpt_4_default Name'] != 'System of unrelated proteins']\n",
    "print(len(df))\n",
    "\n",
    "top1_q = df['adj_pvals'].str.split('|').apply(lambda x: float(x[0]))\n",
    "random_q = df['random_adj_pvals'].apply(lambda x: float(x))\n",
    "\n",
    "# -log signifiance\n",
    "# calculate -log(q)\n",
    "eps = 1e-10\n",
    "top1_q_log = -np.log10(top1_q+eps)\n",
    "random_q_log = -np.log10(random_q+eps)\n",
    "print(len(top1_q_log), len(random_q_log))\n",
    "print('Median of top1_q_log: ', top1_q_log.median(), 'raw: ', top1_q.median())\n",
    "print('Median of random_q_log: ', random_q_log.median(), 'raw: ', random_q.median())\n",
    "significant = -np.log10(cutoff+eps)\n",
    "print(significant)\n",
    "\n",
    "fig, ax = plt.subplots(figsize=(3,3))\n",
    "\n",
    "# add statistical test \n",
    "\n",
    "diff_p = mannwhitneyu(top1_q_log, random_q_log)[1]\n",
    "print('p-value of Mann-Whitney U test: ', diff_p)\n",
    "\n",
    "sns.violinplot(data=[top1_q_log, random_q_log], ax=ax, palette=['#FBF49C', '#B3B3B3'], inner='quartile', cut=0, split=True, width=1, linewidth=0.5)\n",
    "\n",
    "\n",
    "\n",
    "def format_func(value, tick_number):\n",
    "    if value >= 0:\n",
    "        return f'$10^{{-{int(value)}}}$'\n",
    "    else:\n",
    "        return f'$10^{{{-int(value)}}}$'\n",
    "\n",
    "ax.yaxis.set_major_formatter(FuncFormatter(format_func))\n",
    "ax.yaxis.set_major_locator(MultipleLocator(1))\n",
    "\n",
    "ax.set_ylabel(\"Significance of overlap (q-value)\\nwith gene set query\")\n",
    "\n",
    "ax.axhline(significant, ls='--', color='red', alpha=0.5, label=f'q={cutoff}')\n",
    "ax.legend(loc='upper right', fontsize = 6)\n",
    "ax.set_xticklabels([\"Best match GO name\", \"Random GO name\"])\n",
    "# Get the current x-limits\n",
    "x_min, x_max = ax.get_xlim()\n",
    "\n",
    "# Set new x-limits with more space on the left\n",
    "ax.set_xlim(x_min - 0.005, x_max)\n",
    "\n",
    "# Calculate the number of significant best match GOs\n",
    "n_significant = (top1_q < cutoff).sum()\n",
    "\n",
    "# Add text above the line showing the number of significant best match GOs\n",
    "ax.text(0.5, significant + 0.5, f'N significant = {n_significant}', color='red', ha='center')\n",
    "\n",
    "# add significance bar\n",
    "\n",
    "max_y = max(max(top1_q_log), max(random_q_log))+0.03  # find the maximum y value with some gap\n",
    "bar_height = max_y * 0.08  # set height of the bar to be 8% of the maximum y value\n",
    "bar_start = 0 \n",
    "bar_end = 1 \n",
    "\n",
    "plt.plot([bar_start, bar_end], [max_y + bar_height, max_y + bar_height], color='black', linewidth = 0.5)  # plot horizontal line\n",
    "# plt.plot([bar_start, bar_start], [max_y, max_y + bar_height], color='black')  # plot vertical line at start of the bar\n",
    "# plt.plot([bar_end, bar_end], [max_y, max_y + bar_height], color='black')  # plot vertical line at end of the bar\n",
    "\n",
    "# add asterisks or other text to indicate the level of significance\n",
    "if diff_p < 0.0001:\n",
    "    plt.text((bar_start + bar_end) / 2, max_y + bar_height, \"****\", ha='center')\n",
    "elif diff_p < 0.001:\n",
    "    plt.text((bar_start + bar_end) / 2, max_y + bar_height, \"***\", ha='center')\n",
    "elif diff_p < 0.01:\n",
    "    plt.text((bar_start + bar_end) / 2, max_y + bar_height, \"**\", ha='center')\n",
    "elif diff_p < 0.05:\n",
    "    plt.text((bar_start + bar_end) / 2, max_y + bar_height, \"*\", ha='center')\n",
    "else:\n",
    "    plt.text((bar_start + bar_end) / 2, max_y + bar_height, \"ns\", ha='center')\n",
    "\n",
    "\n",
    "sns.despine()\n",
    "\n",
    "plt.savefig(\"figures/LLM_name_GO_term_bestmatch_logq_violin_cutoff005.svg\", bbox_inches='tight')\n",
    "plt.show()\n"
   ],
   "outputs": [
    {
     "name": "stdout",
     "output_type": "stream",
     "text": [
      "974\n",
      "974 974\n",
      "Median of top1_q_log:  4.647558643515264 raw:  2.2514511002206778e-05\n",
      "Median of random_q_log:  -4.342945178152237e-11 raw:  1.0\n",
      "1.3010299947953923\n",
      "p-value of Mann-Whitney U test:  3.1736034117009394e-245\n"
     ]
    },
    {
     "data": {
      "text/plain": [
       "<Figure size 300x300 with 1 Axes>"
      ],
      "image/png": "[encoded data removed]"
     },
     "metadata": {},
     "output_type": "display_data"
    }
   ],
   "execution_count": 13
  },
  {
   "cell_type": "code",
   "metadata": {
    "ExecuteTime": {
     "end_time": "2025-02-27T05:32:47.063341Z",
     "start_time": "2025-02-27T05:32:46.874095Z"
    }
   },
   "source": [
    "\n",
    "import numpy as np\n",
    "import matplotlib.pyplot as plt\n",
    "import seaborn as sns \n",
    "from scipy.stats import mannwhitneyu\n",
    "from matplotlib.ticker import FuncFormatter, MultipleLocator\n",
    "\n",
    "cutoff = 0.05\n",
    "df = pd.read_csv('data/GO_term_analysis/simrank_pval_LLM_processed_selected_1000_go_terms.tsv', sep='\\t')\n",
    "\n",
    "# also filter out thing with true_GO_term_sim_percentile >=0.95\n",
    "df_filtered = df[df['true_GO_term_sim_percentile'] < 0.95]\n",
    "print(len(df_filtered))\n",
    "# for the bottom 500, how many have name 'System of unrelated proteins', remove\n",
    "# because System of unrelated proteins will not have a best name that covers>50% of the genes\n",
    "df_filtered = df_filtered[df_filtered['gpt_4_default Name']!= 'System of unrelated proteins']\n",
    "\n",
    "df = df_filtered\n",
    "\n",
    "top1_q = df['adj_pvals'].str.split('|').apply(lambda x: float(x[0]))\n",
    "random_q = df['random_adj_pvals'].apply(lambda x: float(x))\n",
    "\n",
    "# -log signifiance\n",
    "# calculate -log(q)\n",
    "eps = 1e-10\n",
    "top1_q_log = -np.log10(top1_q+eps)\n",
    "random_q_log = -np.log10(random_q+eps)\n",
    "print(len(top1_q_log), len(random_q_log))\n",
    "print('Median of top1_q_log: ', top1_q_log.median(), 'raw: ', top1_q.median())\n",
    "print('Median of random_q_log: ', random_q_log.median(), 'raw: ', random_q.median())\n",
    "significant = -np.log10(cutoff+eps)\n",
    "print(significant)\n",
    "\n",
    "fig, ax = plt.subplots(figsize=(3,3))\n",
    "\n",
    "# add statistical test \n",
    "\n",
    "diff_p = mannwhitneyu(top1_q_log, random_q_log)[1]\n",
    "print('p-value of Mann-Whitney U test: ', diff_p)\n",
    "\n",
    "sns.violinplot(data=[top1_q_log, random_q_log], ax=ax, palette=['#FBF49C', '#B3B3B3'], inner='quartile', cut=0, split=True, width=1, linewidth=0.5)\n",
    "\n",
    "\n",
    "\n",
    "def format_func(value, tick_number):\n",
    "    if value >= 0:\n",
    "        return f'$10^{{-{int(value)}}}$'\n",
    "    else:\n",
    "        return f'$10^{{{-int(value)}}}$'\n",
    "\n",
    "ax.yaxis.set_major_formatter(FuncFormatter(format_func))\n",
    "ax.yaxis.set_major_locator(MultipleLocator(1))\n",
    "\n",
    "ax.set_ylabel(\"Significance of overlap (q-value)\\nwith gene set query\")\n",
    "\n",
    "ax.axhline(significant, ls='--', color='red', alpha=0.5, label=f'q={cutoff}')\n",
    "ax.legend(loc='upper right', fontsize = 6)\n",
    "ax.set_xticklabels([\"Best match GO name\", \"Random GO name\"])\n",
    "# Get the current x-limits\n",
    "x_min, x_max = ax.get_xlim()\n",
    "\n",
    "# Set new x-limits with more space on the left\n",
    "ax.set_xlim(x_min - 0.005, x_max)\n",
    "\n",
    "# Calculate the number of significant best match GOs\n",
    "n_significant = (top1_q < cutoff).sum()\n",
    "\n",
    "# Add text above the line showing the number of significant best match GOs\n",
    "ax.text(0.5, significant + 0.5, f'N significant = {n_significant}', color='red', ha='center')\n",
    "\n",
    "# add significance bar\n",
    "\n",
    "max_y = max(max(top1_q_log), max(random_q_log))+0.03  # find the maximum y value with some gap\n",
    "bar_height = max_y * 0.08  # set height of the bar to be 8% of the maximum y value\n",
    "bar_start = 0 \n",
    "bar_end = 1 \n",
    "\n",
    "plt.plot([bar_start, bar_end], [max_y + bar_height, max_y + bar_height], color='black', linewidth = 0.5)  # plot horizontal line\n",
    "# plt.plot([bar_start, bar_start], [max_y, max_y + bar_height], color='black')  # plot vertical line at start of the bar\n",
    "# plt.plot([bar_end, bar_end], [max_y, max_y + bar_height], color='black')  # plot vertical line at end of the bar\n",
    "\n",
    "# add asterisks or other text to indicate the level of significance\n",
    "if diff_p < 0.0001:\n",
    "    plt.text((bar_start + bar_end) / 2, max_y + bar_height, \"****\", ha='center')\n",
    "elif diff_p < 0.001:\n",
    "    plt.text((bar_start + bar_end) / 2, max_y + bar_height, \"***\", ha='center')\n",
    "elif diff_p < 0.01:\n",
    "    plt.text((bar_start + bar_end) / 2, max_y + bar_height, \"**\", ha='center')\n",
    "elif diff_p < 0.05:\n",
    "    plt.text((bar_start + bar_end) / 2, max_y + bar_height, \"*\", ha='center')\n",
    "else:\n",
    "    plt.text((bar_start + bar_end) / 2, max_y + bar_height, \"ns\", ha='center')\n",
    "\n",
    "\n",
    "sns.despine()\n",
    "\n",
    "# plt.savefig(\"figures/LLM_name_GO_term_bestmatch_logq_violin_cutoff005.svg\", bbox_inches='tight')\n",
    "plt.show()"
   ],
   "outputs": [
    {
     "name": "stdout",
     "output_type": "stream",
     "text": [
      "397\n",
      "371 371\n",
      "Median of top1_q_log:  2.3254709181280475 raw:  0.004726384753587277\n",
      "Median of random_q_log:  -4.342945178152237e-11 raw:  1.0\n",
      "1.3010299947953923\n",
      "p-value of Mann-Whitney U test:  3.5596288978746666e-81\n"
     ]
    },
    {
     "data": {
      "text/plain": [
       "<Figure size 300x300 with 1 Axes>"
      ],
      "image/png": "[encoded data removed]"
     },
     "metadata": {},
     "output_type": "display_data"
    }
   ],
   "execution_count": 14
  },
  {
   "metadata": {},
   "cell_type": "code",
   "outputs": [],
   "execution_count": null,
   "source": ""
  }
 ],
 "metadata": {
  "kernelspec": {
   "display_name": "llm",
   "language": "python",
   "name": "python3"
  },
  "language_info": {
   "codemirror_mode": {
    "name": "ipython",
    "version": 3
   },
   "file_extension": ".py",
   "mimetype": "text/x-python",
   "name": "python",
   "nbconvert_exporter": "python",
   "pygments_lexer": "ipython3",
   "version": "3.11.5"
  },
  "orig_nbformat": 4
 },
 "nbformat": 4,
 "nbformat_minor": 2
}
