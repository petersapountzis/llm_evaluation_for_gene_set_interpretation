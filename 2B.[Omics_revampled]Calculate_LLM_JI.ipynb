{
 "cells": [
  {
   "cell_type": "code",
   "execution_count": 1,
   "metadata": {},
   "source": [
    "## create embeddings for all GO Terms and save the embeddings \n",
    "from semanticSimFunctions import getSentenceEmbedding\n",
    "from transformers import AutoTokenizer, AutoModel\n",
    "from sklearn.metrics.pairwise import cosine_similarity\n",
    "import pandas as pd\n",
    "from tqdm import tqdm\n",
    "\n",
    "SapBERT_tokenizer = AutoTokenizer.from_pretrained('cambridgeltl/SapBERT-from-PubMedBERT-fulltext')\n",
    "SapBERT_model = AutoModel.from_pretrained('cambridgeltl/SapBERT-from-PubMedBERT-fulltext')\n",
    "\n",
    "import pickle\n",
    "# get the embeddings for the go terms we made in TASK1\n",
    "with open('data/all_go_terms_embeddings_dict.pkl', 'rb') as handle:\n",
    "    all_go_terms_embeddings_dict = pickle.load(handle)\n",
    "print(len(all_go_terms_embeddings_dict))\n"
   ],
   "outputs": []
  },
  {
   "cell_type": "code",
   "execution_count": 2,
   "metadata": {},
   "source": [
    "# load our GO term table \n",
    "go_terms = pd.read_csv('data/go_terms.csv', index_col=0)\n",
    "print(go_terms.head())"
   ],
   "outputs": []
  },
  {
   "cell_type": "code",
   "execution_count": 4,
   "metadata": {},
   "source": [
    "inputFile = \"data/omics_revamped_LLM_genecounts_DF.tsv\"\n",
    "data = pd.read_csv(inputFile, sep='\\t')\n",
    "data.head()"
   ],
   "outputs": []
  },
  {
   "cell_type": "code",
   "execution_count": 2,
   "metadata": {},
   "source": [
    "# def calc_LLM_JI(supporting_count, query_gene_list, GO_gene_list):\n",
    "    \n",
    "#     union = len(set(query_gene_list).union(set(GO_gene_list)))\n",
    "#     return supporting_count/union if union != 0 else 0\n",
    "def calc_LLM_JI(supporting_count, query_size, GO_size):\n",
    "    # if the best matching GO term size is smaller than the supporting count, then make the size be the same as the supporting count\n",
    "    if GO_size < supporting_count:\n",
    "         GO_size = supporting_count\n",
    "    union = query_size + GO_size - supporting_count\n",
    "    return supporting_count/union if union != 0 else 0\n",
    "\n",
    "\n",
    "def get_closest_GO(LLM_name, all_go_terms_embeddings_dict):\n",
    "        # get llm name embedding\n",
    "        LLM_name_emb = getSentenceEmbedding(LLM_name, SapBERT_tokenizer, SapBERT_model)\n",
    "        # get the cosine similarity between the LLM name and all GO terms\n",
    "        LLM_GO_sim = {}\n",
    "        for term, emb in all_go_terms_embeddings_dict.items():\n",
    "            GO_emb = emb\n",
    "            GO_llm_sim = cosine_similarity(LLM_name_emb, GO_emb)[0][0]\n",
    "            LLM_GO_sim[term] = GO_llm_sim\n",
    "        # get the best matching GO term\n",
    "        best_matching_GO = max(LLM_GO_sim, key=LLM_GO_sim.get)\n",
    "        return best_matching_GO"
   ],
   "outputs": []
  },
  {
   "cell_type": "code",
   "execution_count": 54,
   "metadata": {},
   "source": [
    "col_keep = ['Source','GeneSetID','GeneList','n_Genes', 'LLM Name', 'LLM_best_matching_GO','best_matching_GO_ID', 'best_matching_GO_term_genes', 'best_matching_GO_term_size', 'Supporting Count', 'LLM_JI']\n",
    "\n",
    "# initialize the data frame \n",
    "df = data.copy()\n",
    "df['LLM_best_matching_GO'] = None\n",
    "df['best_matching_GO_ID'] = None\n",
    "df['best_matching_GO_term_genes'] = None\n",
    "df['best_matching_GO_term_size'] = None\n",
    "df['LLM_JI'] = None\n",
    "\n",
    "for ind, row in tqdm(df.iterrows(), total=df.shape[0]):\n",
    "    # if not pd.isna(row['LLM_best_matching_GO']):\n",
    "    #     # no need to calculate the embeddings again\n",
    "    #     continue\n",
    "    LLM_name = row['LLM Name'] \n",
    "    if LLM_name == 'System of unrelated proteins':\n",
    "        # dont find best matching GO term for the one does not named\n",
    "        continue\n",
    "    else:\n",
    "        best_matching_GO = get_closest_GO(LLM_name, all_go_terms_embeddings_dict)\n",
    "        df.loc[ind, 'LLM_best_matching_GO'] = best_matching_GO\n",
    "        df.loc[ind, 'best_matching_GO_ID'] = go_terms.loc[go_terms['Term_Description'] == best_matching_GO, 'GO'].values[0]\n",
    "        # get GO gene list \n",
    "        gene_list = go_terms.loc[go_terms['Term_Description'] == best_matching_GO, 'Genes'].values[0].split(' ')\n",
    "        df.loc[ind, 'best_matching_GO_term_genes'] = ' '.join(gene_list)\n",
    "        # get the GO term size \n",
    "        term_size = go_terms.loc[go_terms['Term_Description'] == best_matching_GO, 'Gene_Count'].values[0]\n",
    "        assert len(gene_list) == term_size, f'{best_matching_GO}: GO gene list and term size does not match'\n",
    "        df.loc[ind, 'best_matching_GO_term_size'] = term_size\n",
    "        # # get intersections \n",
    "       \n",
    "        # intersection = list(set(gene_list).intersection(LLM_genes))\n",
    "        # df.loc[ind, 'best_matching_GO_term_intersection'] = ' '.join(intersection)\n",
    "\n",
    "        # calculate JI \n",
    "        LLM_genes = row['updated GeneList'].split(' ')\n",
    "        supporting_count = row['Supporting Count']\n",
    "        JI = calc_LLM_JI(supporting_count,LLM_genes, gene_list)\n",
    "        df.loc[ind, 'LLM_JI'] = JI\n",
    "\n",
    "    df.loc[:, col_keep].to_csv('data/omics_revamped_LLM_w_best_matching_GO_terms_for_JI.tsv', sep='\\t', index=False)\n",
    "\n",
    "print('DONE')\n",
    "df.loc[:, col_keep].to_csv('data/omics_revamped_LLM_w_best_matching_GO_terms_for_JI.tsv', sep='\\t', index=False)"
   ],
   "outputs": []
  },
  {
   "cell_type": "code",
   "execution_count": 3,
   "metadata": {},
   "source": [
    "llm_JI_df = pd.read_csv('data/omics_revamped_LLM_w_best_matching_GO_terms_for_JI.tsv', sep='\\t')\n",
    "llm_JI_df"
   ],
   "outputs": []
  },
  {
   "cell_type": "code",
   "execution_count": null,
   "metadata": {},
   "source": [],
   "outputs": []
  }
 ],
 "metadata": {
  "kernelspec": {
   "display_name": "llm_eval",
   "language": "python",
   "name": "python3"
  },
  "language_info": {
   "codemirror_mode": {
    "name": "ipython",
    "version": 3
   },
   "file_extension": ".py",
   "mimetype": "text/x-python",
   "name": "python",
   "nbconvert_exporter": "python",
   "pygments_lexer": "ipython3",
   "version": "3.11.5"
  }
 },
 "nbformat": 4,
 "nbformat_minor": 2
}
