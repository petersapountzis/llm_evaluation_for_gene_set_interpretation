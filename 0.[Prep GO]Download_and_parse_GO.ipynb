{
 "cells": [
  {
   "cell_type": "markdown",
   "metadata": {},
   "source": [
    "# Notebook for download GO and select 1000 terms for the analysis "
   ]
  },
  {
   "attachments": {},
   "cell_type": "markdown",
   "metadata": {},
   "source": [
    "## Step1: Dowload and process GO_BP terms "
   ]
  },
  {
   "cell_type": "code",
   "execution_count": null,
   "metadata": {},
   "outputs": [],
   "source": [
    "### this function will download go-basic.obo and parse it filtering for biological process branch\n",
    "# it will output these two files that will be used in the next step:\n",
    "# collapsed_go.symbol (a network format of GO terms)\n",
    "# goID_2_name.tab (a mapping of GO terms to their names)\n",
    "\n",
    "outdir = 'data/GO_BP/'\n",
    "namespace = 'biological_process'\n",
    "\n",
    "%run process_the_gene_ontology.py $outdir --namespace $namespace "
   ]
  },
  {
   "cell_type": "code",
   "execution_count": 1,
   "metadata": {},
   "outputs": [],
   "source": [
    "import networkx as nx\n",
    "import pandas as pd\n",
    "# function specific to loading the collapsed_go.symbol type file\n",
    "def load_go(filename): \n",
    "    # Create an empty directed graph\n",
    "    G = nx.DiGraph()\n",
    "\n",
    "    with open(filename, 'r') as f:\n",
    "        for line in f:\n",
    "            columns = line.strip().split('\\t')  # tab-separated values\n",
    "            if len(columns) >= 3:\n",
    "                parent = columns[0] # based on collapsed_go.symbol, the first column is parent\n",
    "                child = columns[1] # second column is child\n",
    "                interaction = columns[2] # third column is interaction type\n",
    "                # Add an edge to the graph\n",
    "                G.add_edge(parent, child, interaction=interaction)\n",
    "\n",
    "    # Get the set of all genes\n",
    "    hiergeneset = set(n for n in G.nodes() if not n.startswith('GO:'))\n",
    "\n",
    "    # Get term statistics\n",
    "    df = get_termStats(G, hiergeneset)\n",
    "\n",
    "    return df\n",
    "\n",
    "def get_termStats(G, hiergeneset):\n",
    "    clusters = list(set(list(G.nodes())) - hiergeneset) #\n",
    "    tsize_list = []\n",
    "    cgene_list = []\n",
    "    for c in clusters:\n",
    "        infoset = nx.descendants(G, c) # get all the descendants of the cluster\n",
    "        cgeneset = infoset.intersection(hiergeneset) # get the genes that are in the cluster\n",
    "        tsize_list.append(len(cgeneset)) \n",
    "        cgene_list.append(list(cgeneset))\n",
    "\n",
    "    df = pd.DataFrame(index=clusters)\n",
    "    df['Genes'] = [' '.join(genes) for genes in cgene_list] # convert list to string separated by space\n",
    "    df['Gene_Count'] = tsize_list # number of genes in the cluster\n",
    "    return df\n"
   ]
  },
  {
   "cell_type": "code",
   "execution_count": 4,
   "metadata": {},
   "outputs": [
    {
     "name": "stdout",
     "output_type": "stream",
     "text": [
      "(12214, 3)\n",
      "GO                  0\n",
      "Genes               0\n",
      "Gene_Count          0\n",
      "Term_Description    0\n",
      "dtype: int64\n"
     ]
    },
    {
     "data": {
      "text/html": [
       "<div>\n",
       "<style scoped>\n",
       "    .dataframe tbody tr th:only-of-type {\n",
       "        vertical-align: middle;\n",
       "    }\n",
       "\n",
       "    .dataframe tbody tr th {\n",
       "        vertical-align: top;\n",
       "    }\n",
       "\n",
       "    .dataframe thead th {\n",
       "        text-align: right;\n",
       "    }\n",
       "</style>\n",
       "<table border=\"1\" class=\"dataframe\">\n",
       "  <thead>\n",
       "    <tr style=\"text-align: right;\">\n",
       "      <th></th>\n",
       "      <th>GO</th>\n",
       "      <th>Genes</th>\n",
       "      <th>Gene_Count</th>\n",
       "      <th>Term_Description</th>\n",
       "    </tr>\n",
       "  </thead>\n",
       "  <tbody>\n",
       "    <tr>\n",
       "      <th>0</th>\n",
       "      <td>GO:0042157</td>\n",
       "      <td>MPPE1 ZDHHC21 GOLGA7 NMT1 CWH43 PIGH ZDHHC7 PI...</td>\n",
       "      <td>140</td>\n",
       "      <td>lipoprotein metabolic process</td>\n",
       "    </tr>\n",
       "    <tr>\n",
       "      <th>1</th>\n",
       "      <td>GO:1901621</td>\n",
       "      <td>CDK20 PRKACA SUFU GPR161 TULP3 PRKACB</td>\n",
       "      <td>6</td>\n",
       "      <td>negative regulation of smoothened signaling pa...</td>\n",
       "    </tr>\n",
       "    <tr>\n",
       "      <th>2</th>\n",
       "      <td>GO:0007440</td>\n",
       "      <td>SMAD3 CTNNB1 NOTCH1 SOX17 FOXF1 SHH GATA4 SMAD...</td>\n",
       "      <td>10</td>\n",
       "      <td>foregut morphogenesis</td>\n",
       "    </tr>\n",
       "    <tr>\n",
       "      <th>3</th>\n",
       "      <td>GO:0051154</td>\n",
       "      <td>XBP1 TOMM70 BHLHE41 PI16 EZH2 TMEM119 GSK3A CC...</td>\n",
       "      <td>37</td>\n",
       "      <td>negative regulation of striated muscle cell di...</td>\n",
       "    </tr>\n",
       "    <tr>\n",
       "      <th>4</th>\n",
       "      <td>GO:0090181</td>\n",
       "      <td>DGAT2 NR1H4 CYP7A1 LPCAT3 ABCA2 SOD1 SEC14L2 C...</td>\n",
       "      <td>35</td>\n",
       "      <td>regulation of cholesterol metabolic process</td>\n",
       "    </tr>\n",
       "  </tbody>\n",
       "</table>\n",
       "</div>"
      ],
      "text/plain": [
       "           GO                                              Genes  Gene_Count  \\\n",
       "0  GO:0042157  MPPE1 ZDHHC21 GOLGA7 NMT1 CWH43 PIGH ZDHHC7 PI...         140   \n",
       "1  GO:1901621              CDK20 PRKACA SUFU GPR161 TULP3 PRKACB           6   \n",
       "2  GO:0007440  SMAD3 CTNNB1 NOTCH1 SOX17 FOXF1 SHH GATA4 SMAD...          10   \n",
       "3  GO:0051154  XBP1 TOMM70 BHLHE41 PI16 EZH2 TMEM119 GSK3A CC...          37   \n",
       "4  GO:0090181  DGAT2 NR1H4 CYP7A1 LPCAT3 ABCA2 SOD1 SEC14L2 C...          35   \n",
       "\n",
       "                                    Term_Description  \n",
       "0                      lipoprotein metabolic process  \n",
       "1  negative regulation of smoothened signaling pa...  \n",
       "2                              foregut morphogenesis  \n",
       "3  negative regulation of striated muscle cell di...  \n",
       "4        regulation of cholesterol metabolic process  "
      ]
     },
     "execution_count": 4,
     "metadata": {},
     "output_type": "execute_result"
    }
   ],
   "source": [
    "## use case\n",
    "## GO version: Oct 07 2022\n",
    "\n",
    "go_terms = load_go('./data/GO_BP/collapsed_go.symbol')\n",
    "go_terms = go_terms.reset_index().rename(columns={'index': 'GO'}) # rename the index column to column name GO\n",
    "print(go_terms.shape)\n",
    "\n",
    "# add the go term description\n",
    "term_des = pd.read_table('./data/GO_BP/goID_2_name.tab',\n",
    "                                        header=None,\n",
    "                                        names=['Term', 'Term_Description'],\n",
    "                                        index_col=0)\n",
    "go_terms_des = go_terms.merge(term_des, left_on='GO', right_index=True, how='left')\n",
    "\n",
    "# check if there are any missing values\n",
    "print(go_terms_des.isnull().sum())\n",
    "\n",
    "go_terms_des.to_csv('data/go_terms.csv')\n",
    "go_terms_des.head()"
   ]
  },
  {
   "cell_type": "markdown",
   "metadata": {},
   "source": [
    "## Step 2: Understand GO size distribution and select 1000 GO "
   ]
  },
  {
   "cell_type": "code",
   "execution_count": 5,
   "metadata": {},
   "outputs": [
    {
     "data": {
      "image/png": "[encoded data removed]",
      "text/plain": [
       "<Figure size 1152x576 with 2 Axes>"
      ]
     },
     "metadata": {
      "needs_background": "light"
     },
     "output_type": "display_data"
    }
   ],
   "source": [
    "import matplotlib.pyplot as plt\n",
    "import pandas as pd\n",
    "go_terms = pd.read_csv('data/go_terms.csv', sep = ',',index_col=0)\n",
    "\n",
    "# subplots\n",
    "fig, (ax1, ax2) = plt.subplots(1,2, figsize=(16,8))\n",
    "ax1.hist(go_terms[(go_terms['Gene_Count'] <= 150)]['Gene_Count'], bins=50)\n",
    "ax2.hist(go_terms[(go_terms['Gene_Count'] > 150)]['Gene_Count'], bins=50)\n",
    "plt.show()\n"
   ]
  },
  {
   "cell_type": "code",
   "execution_count": 6,
   "metadata": {},
   "outputs": [
    {
     "data": {
      "text/plain": [
       "count    10850.000000\n",
       "mean       127.219171\n",
       "std        598.015701\n",
       "min          3.000000\n",
       "25%          6.000000\n",
       "50%         15.000000\n",
       "75%         53.000000\n",
       "max      17145.000000\n",
       "Name: Gene_Count, dtype: float64"
      ]
     },
     "execution_count": 6,
     "metadata": {},
     "output_type": "execute_result"
    }
   ],
   "source": [
    "# consider GO terms with gene counts >=3, check stats\n",
    "go_filtered = go_terms[(go_terms['Gene_Count'] >= 3)]\n",
    "\n",
    "go_filtered['Gene_Count'].describe()"
   ]
  },
  {
   "cell_type": "code",
   "execution_count": null,
   "metadata": {},
   "outputs": [],
   "source": [
    "# Based on the distribution of GO terms, randomly pick 500 from the 3-15 bin (15 is the 50% quantile), 250 from the 16-53 bin (around 75% quantile), and another 250 from the 54-500 bin (avoiding large gene sets)\n",
    "## avoid picking the same gene set twice and avoid the ones already in the 25 gene sets\n",
    "import pandas as pd\n",
    "\n",
    "go_terms = pd.read_csv('data/go_terms.csv', sep = ',',index_col=0)\n",
    "\n",
    "# chosen_go_terms = pd.read_csv('data/genesets-subset/0530_selected_go_terms_within100.csv', sep = ',',index_col=0)\n",
    "\n",
    "\n",
    "def select_go_terms(go_terms, low, high, n, skip_terms = []):\n",
    "    go_terms_range = go_terms[(go_terms['Gene_Count'] >= low) & (go_terms['Gene_Count'] < high)]\n",
    "    if skip_terms:\n",
    "        go_terms_range = go_terms_range[~go_terms_range['GO'].isin(skip_terms)]\n",
    "        # print(len(go_terms_range))\n",
    "        n_new = n - len(skip_terms)\n",
    "        # print(n_new)\n",
    "        selected_go = go_terms_range.sample(n=n_new, random_state=1)\n",
    "    else:\n",
    "        selected_go = go_terms_range.sample(n=n, random_state=1)\n",
    "    return selected_go\n",
    "\n",
    "selected_go_terms = []\n",
    "# skip_less20 = chosen_go_terms[chosen_go_terms['Gene_Count'] < 20]['GO'].tolist()\n",
    "# skip_20to100 = chosen_go_terms[(chosen_go_terms['Gene_Count'] >= 20) & (chosen_go_terms['Gene_Count'] < 100)]['GO'].tolist()\n",
    "# print(len(skip_20to100), len(skip_less20))\n",
    "selected_go_terms.append(select_go_terms(go_terms, 3, 16, 500))\n",
    "selected_go_terms.append(select_go_terms(go_terms, 16, 54, 250))\n",
    "selected_go_terms.append(select_go_terms(go_terms, 54, 501, 250))\n",
    "\n",
    "\n",
    "\n",
    "df_selected_go_terms = pd.concat(selected_go_terms)\n",
    "print(len(df_selected_go_terms))\n",
    "df_selected_go_terms.to_csv('data/GO_term_analysis/1000_selected_go_terms.csv', index=False)\n",
    "\n",
    "# df_selected_go_terms.to_csv('data/GO_term_analysis/0531_selected_go_terms.csv', index=False)\n",
    "# ##combine with the 25 gene sets\n",
    "# df_selected_go_terms_all = pd.concat([df_selected_go_terms, chosen_go_terms])\n",
    "# print(len(df_selected_go_terms_all))\n",
    "# df_selected_go_terms_all.to_csv('data/GO_term_analysis/1000_selected_go_terms.csv', index=False)\n"
   ]
  },
  {
   "cell_type": "code",
   "execution_count": null,
   "metadata": {},
   "outputs": [
    {
     "data": {
      "text/html": [
       "<div>\n",
       "<style scoped>\n",
       "    .dataframe tbody tr th:only-of-type {\n",
       "        vertical-align: middle;\n",
       "    }\n",
       "\n",
       "    .dataframe tbody tr th {\n",
       "        vertical-align: top;\n",
       "    }\n",
       "\n",
       "    .dataframe thead th {\n",
       "        text-align: right;\n",
       "    }\n",
       "</style>\n",
       "<table border=\"1\" class=\"dataframe\">\n",
       "  <thead>\n",
       "    <tr style=\"text-align: right;\">\n",
       "      <th></th>\n",
       "      <th>GO</th>\n",
       "      <th>Genes</th>\n",
       "      <th>Gene_Count</th>\n",
       "      <th>Term_Description</th>\n",
       "    </tr>\n",
       "  </thead>\n",
       "  <tbody>\n",
       "    <tr>\n",
       "      <th>5700</th>\n",
       "      <td>GO:0032385</td>\n",
       "      <td>LDLRAP1 SCP2D1 ANXA2 SCP2</td>\n",
       "      <td>4</td>\n",
       "      <td>positive regulation of intracellular cholester...</td>\n",
       "    </tr>\n",
       "    <tr>\n",
       "      <th>12149</th>\n",
       "      <td>GO:0002468</td>\n",
       "      <td>NOD1 HLA-DRA CLEC4A HLA-DRB1 CCL21 NOD2 CCL19 ...</td>\n",
       "      <td>15</td>\n",
       "      <td>dendritic cell antigen processing and presenta...</td>\n",
       "    </tr>\n",
       "    <tr>\n",
       "      <th>1314</th>\n",
       "      <td>GO:0033683</td>\n",
       "      <td>OGG1 ERCC5 XPA ERCC4 NTHL1</td>\n",
       "      <td>5</td>\n",
       "      <td>nucleotide-excision repair, DNA incision</td>\n",
       "    </tr>\n",
       "    <tr>\n",
       "      <th>11210</th>\n",
       "      <td>GO:0035672</td>\n",
       "      <td>SLC7A11 SLC25A39 SLC26A6 ABCB9 SLC15A4 ABCC5 C...</td>\n",
       "      <td>15</td>\n",
       "      <td>oligopeptide transmembrane transport</td>\n",
       "    </tr>\n",
       "    <tr>\n",
       "      <th>8889</th>\n",
       "      <td>GO:0048023</td>\n",
       "      <td>OPN3 CDH3 ATP7A APPL1 ASIP RAB38 ZEB2 TYRP1 GIPC1</td>\n",
       "      <td>9</td>\n",
       "      <td>positive regulation of melanin biosynthetic pr...</td>\n",
       "    </tr>\n",
       "  </tbody>\n",
       "</table>\n",
       "</div>"
      ],
      "text/plain": [
       "               GO                                              Genes  \\\n",
       "5700   GO:0032385                          LDLRAP1 SCP2D1 ANXA2 SCP2   \n",
       "12149  GO:0002468  NOD1 HLA-DRA CLEC4A HLA-DRB1 CCL21 NOD2 CCL19 ...   \n",
       "1314   GO:0033683                         OGG1 ERCC5 XPA ERCC4 NTHL1   \n",
       "11210  GO:0035672  SLC7A11 SLC25A39 SLC26A6 ABCB9 SLC15A4 ABCC5 C...   \n",
       "8889   GO:0048023  OPN3 CDH3 ATP7A APPL1 ASIP RAB38 ZEB2 TYRP1 GIPC1   \n",
       "\n",
       "       Gene_Count                                   Term_Description  \n",
       "5700            4  positive regulation of intracellular cholester...  \n",
       "12149          15  dendritic cell antigen processing and presenta...  \n",
       "1314            5           nucleotide-excision repair, DNA incision  \n",
       "11210          15               oligopeptide transmembrane transport  \n",
       "8889            9  positive regulation of melanin biosynthetic pr...  "
      ]
     },
     "metadata": {},
     "output_type": "display_data"
    }
   ],
   "source": [
    "df_selected_go_terms.head()"
   ]
  },
  {
   "cell_type": "code",
   "execution_count": 2,
   "metadata": {},
   "outputs": [],
   "source": [
    "# extract a subset of 10 GO terms as a toy example\n",
    "import pandas as pd\n",
    "df = pd.read_csv('data/GO_term_analysis/1000_selected_go_terms.csv')\n",
    "# take first 10 as a toy example\n",
    "df = df.iloc[:10]\n",
    "df.to_csv('data/GO_term_analysis/toy_example.csv', index=False)\n"
   ]
  },
  {
   "cell_type": "code",
   "execution_count": null,
   "metadata": {},
   "outputs": [],
   "source": []
  }
 ],
 "metadata": {
  "kernelspec": {
   "display_name": "llm",
   "language": "python",
   "name": "python3"
  },
  "language_info": {
   "codemirror_mode": {
    "name": "ipython",
    "version": 3
   },
   "file_extension": ".py",
   "mimetype": "text/x-python",
   "name": "python",
   "nbconvert_exporter": "python",
   "pygments_lexer": "ipython3",
   "version": "3.7.10"
  },
  "orig_nbformat": 4
 },
 "nbformat": 4,
 "nbformat_minor": 2
}
