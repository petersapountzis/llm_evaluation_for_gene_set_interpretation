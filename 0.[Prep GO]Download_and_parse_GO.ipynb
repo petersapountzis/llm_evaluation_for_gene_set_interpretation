{
 "cells": [
  {
   "cell_type": "markdown",
   "metadata": {},
   "source": [
    "# Notebook for download GO and select 1000 terms for the analysis "
   ]
  },
  {
   "attachments": {},
   "cell_type": "markdown",
   "metadata": {},
   "source": [
    "## Step1: Dowload and process GO_BP terms "
   ]
  },
  {
   "cell_type": "code",
   "execution_count": 1,
   "metadata": {},
   "outputs": [
    {
     "name": "stderr",
     "output_type": "stream",
     "text": [
      "/cellar/users/mhu/miniconda3/envs/llm_eval/lib/python3.11/site-packages/ddot/Ontology.py:420: DtypeWarning: Columns (15) have mixed types. Specify dtype option on import or set low_memory=False.\n",
      "  df = pd.read_table(gaf, header=None, comment='!', names=gaf_columns)\n"
     ]
    },
    {
     "name": "stdout",
     "output_type": "stream",
     "text": [
      "Number of entries in goa_human.gaf.gz before cleanup: 635268\n",
      "\n",
      "Number of entries in goa_human.gaf.gz after cleanup: 161332\n",
      "\n",
      "WARNING: Dropping 26729 duplicate gene-term connections\n",
      "Unifying 2 roots into one super-root\n",
      "17795 genes, 11944 terms, 113457 gene-term relations, 27733 term-term relations\n",
      "node_attributes: []\n",
      "edge_attributes: []\n"
     ]
    },
    {
     "name": "stderr",
     "output_type": "stream",
     "text": [
      "/cellar/users/mhu/miniconda3/envs/llm_eval/lib/python3.11/site-packages/ddot/Ontology.py:2345: FutureWarning: The frame.append method is deprecated and will be removed from pandas in a future version. Use pandas.concat instead.\n",
      "  df = df.append(self._hierarchy_to_pandas(), ignore_index=True)\n",
      "/cellar/users/mhu/miniconda3/envs/llm_eval/lib/python3.11/site-packages/ddot/Ontology.py:2347: FutureWarning: The frame.append method is deprecated and will be removed from pandas in a future version. Use pandas.concat instead.\n",
      "  df = df.append(self._mapping_to_pandas(), ignore_index=True)\n",
      "154 input query terms found dup hits:\t[('A0A075B759', 2), ('A5PLL7', 2), ('A6NGN4', 2), ('B7ZAQ6', 2), ('C9J1S8', 2), ('O14598', 2), ('O14\n",
      "906 input query terms found no hit:\t['A0A075B6H5', 'A0A075B6H7', 'A0A075B6H8', 'A0A075B6H9', 'A0A075B6I0', 'A0A075B6I1', 'A0A075B6I3', '\n",
      "/cellar/users/mhu/miniconda3/envs/llm_eval/lib/python3.11/site-packages/ddot/Ontology.py:2244: FutureWarning: inplace is deprecated and will be removed in a future version.\n",
      "  idx.set_levels([idx.levels[0].map(f), idx.levels[1].map(f)], inplace=True)\n",
      "/cellar/users/mhu/miniconda3/envs/llm_eval/lib/python3.11/site-packages/ddot/Ontology.py:2345: FutureWarning: The frame.append method is deprecated and will be removed from pandas in a future version. Use pandas.concat instead.\n",
      "  df = df.append(self._hierarchy_to_pandas(), ignore_index=True)\n",
      "/cellar/users/mhu/miniconda3/envs/llm_eval/lib/python3.11/site-packages/ddot/Ontology.py:2347: FutureWarning: The frame.append method is deprecated and will be removed from pandas in a future version. Use pandas.concat instead.\n",
      "  df = df.append(self._mapping_to_pandas(), ignore_index=True)\n"
     ]
    },
    {
     "name": "stdout",
     "output_type": "stream",
     "text": [
      "17023 genes, 11944 terms, 112230 gene-term relations, 27733 term-term relations\n",
      "node_attributes: ['Term_Description', 'Branch']\n",
      "edge_attributes: []\n"
     ]
    },
    {
     "name": "stderr",
     "output_type": "stream",
     "text": [
      "154 input query terms found dup hits:\t[('A0A075B759', 2), ('A5PLL7', 2), ('A6NGN4', 2), ('B7ZAQ6', 2), ('C9J1S8', 2), ('O14598', 2), ('O14\n",
      "906 input query terms found no hit:\t['A0A075B6H5', 'A0A075B6H7', 'A0A075B6H8', 'A0A075B6H9', 'A0A075B6I0', 'A0A075B6I1', 'A0A075B6I3', '\n",
      "/cellar/users/mhu/miniconda3/envs/llm_eval/lib/python3.11/site-packages/ddot/Ontology.py:2244: FutureWarning: inplace is deprecated and will be removed in a future version.\n",
      "  idx.set_levels([idx.levels[0].map(f), idx.levels[1].map(f)], inplace=True)\n",
      "/cellar/users/mhu/miniconda3/envs/llm_eval/lib/python3.11/site-packages/ddot/Ontology.py:2345: FutureWarning: The frame.append method is deprecated and will be removed from pandas in a future version. Use pandas.concat instead.\n",
      "  df = df.append(self._hierarchy_to_pandas(), ignore_index=True)\n",
      "/cellar/users/mhu/miniconda3/envs/llm_eval/lib/python3.11/site-packages/ddot/Ontology.py:2347: FutureWarning: The frame.append method is deprecated and will be removed from pandas in a future version. Use pandas.concat instead.\n",
      "  df = df.append(self._mapping_to_pandas(), ignore_index=True)\n"
     ]
    },
    {
     "name": "stdout",
     "output_type": "stream",
     "text": [
      "17023 genes, 11944 terms, 112230 gene-term relations, 27733 term-term relations\n",
      "node_attributes: ['Term_Description', 'Branch']\n",
      "edge_attributes: []\n"
     ]
    }
   ],
   "source": [
    "### this function will download go-basic.obo and parse it filtering for biological process branch\n",
    "# it will output these two files that will be used in the next step:\n",
    "# collapsed_go.symbol (a network format of GO terms)\n",
    "# goID_2_name.tab (a mapping of GO terms to their names)\n",
    "\n",
    "outdir = 'data/GO_BP/'\n",
    "namespace = 'biological_process'\n",
    "\n",
    "%run process_the_gene_ontology.py $outdir --namespace $namespace "
   ]
  },
  {
   "cell_type": "code",
   "execution_count": 2,
   "metadata": {},
   "outputs": [],
   "source": [
    "import networkx as nx\n",
    "import pandas as pd\n",
    "# function specific to loading the collapsed_go.symbol type file\n",
    "def load_go(filename): \n",
    "    # Create an empty directed graph\n",
    "    G = nx.DiGraph()\n",
    "\n",
    "    with open(filename, 'r') as f:\n",
    "        for line in f:\n",
    "            columns = line.strip().split('\\t')  # tab-separated values\n",
    "            if len(columns) >= 3:\n",
    "                parent = columns[0] # based on collapsed_go.symbol, the first column is parent\n",
    "                child = columns[1] # second column is child\n",
    "                interaction = columns[2] # third column is interaction type\n",
    "                # Add an edge to the graph\n",
    "                G.add_edge(parent, child, interaction=interaction)\n",
    "\n",
    "    # Get the set of all genes\n",
    "    hiergeneset = set(n for n in G.nodes() if not n.startswith('GO:'))\n",
    "\n",
    "    # Get term statistics\n",
    "    df = get_termStats(G, hiergeneset)\n",
    "\n",
    "    return df\n",
    "\n",
    "def get_termStats(G, hiergeneset):\n",
    "    clusters = list(set(list(G.nodes())) - hiergeneset) #\n",
    "    tsize_list = []\n",
    "    cgene_list = []\n",
    "    for c in clusters:\n",
    "        infoset = nx.descendants(G, c) # get all the descendants of the cluster\n",
    "        cgeneset = infoset.intersection(hiergeneset) # get the genes that are in the cluster\n",
    "        tsize_list.append(len(cgeneset)) \n",
    "        cgene_list.append(list(cgeneset))\n",
    "\n",
    "    df = pd.DataFrame(index=clusters)\n",
    "    df['Genes'] = [' '.join(genes) for genes in cgene_list] # convert list to string separated by space\n",
    "    df['Gene_Count'] = tsize_list # number of genes in the cluster\n",
    "    return df\n"
   ]
  },
  {
   "cell_type": "code",
   "execution_count": 3,
   "metadata": {},
   "outputs": [
    {
     "name": "stdout",
     "output_type": "stream",
     "text": [
      "(11943, 3)\n",
      "GO                  0\n",
      "Genes               0\n",
      "Gene_Count          0\n",
      "Term_Description    0\n",
      "dtype: int64\n"
     ]
    },
    {
     "data": {
      "text/html": [
       "<div>\n",
       "<style scoped>\n",
       "    .dataframe tbody tr th:only-of-type {\n",
       "        vertical-align: middle;\n",
       "    }\n",
       "\n",
       "    .dataframe tbody tr th {\n",
       "        vertical-align: top;\n",
       "    }\n",
       "\n",
       "    .dataframe thead th {\n",
       "        text-align: right;\n",
       "    }\n",
       "</style>\n",
       "<table border=\"1\" class=\"dataframe\">\n",
       "  <thead>\n",
       "    <tr style=\"text-align: right;\">\n",
       "      <th></th>\n",
       "      <th>GO</th>\n",
       "      <th>Genes</th>\n",
       "      <th>Gene_Count</th>\n",
       "      <th>Term_Description</th>\n",
       "    </tr>\n",
       "  </thead>\n",
       "  <tbody>\n",
       "    <tr>\n",
       "      <th>0</th>\n",
       "      <td>GO:0006311</td>\n",
       "      <td>TEX11 PRDM9 RNF212</td>\n",
       "      <td>3</td>\n",
       "      <td>meiotic gene conversion</td>\n",
       "    </tr>\n",
       "    <tr>\n",
       "      <th>1</th>\n",
       "      <td>GO:0006855</td>\n",
       "      <td>ABCB11 ABCC4 ABCC3 SLC29A2 SLC37A3 SLC19A1 SLC...</td>\n",
       "      <td>16</td>\n",
       "      <td>xenobiotic transmembrane transport</td>\n",
       "    </tr>\n",
       "    <tr>\n",
       "      <th>2</th>\n",
       "      <td>GO:0006890</td>\n",
       "      <td>GOLPH3L ARCN1 GBF1 KDELR1 BET1L PICK1 COPZ2 SC...</td>\n",
       "      <td>52</td>\n",
       "      <td>retrograde vesicle-mediated transport, Golgi t...</td>\n",
       "    </tr>\n",
       "    <tr>\n",
       "      <th>3</th>\n",
       "      <td>GO:1900372</td>\n",
       "      <td>PARP1 FLCN RD3 PID1</td>\n",
       "      <td>4</td>\n",
       "      <td>negative regulation of purine nucleotide biosy...</td>\n",
       "    </tr>\n",
       "    <tr>\n",
       "      <th>4</th>\n",
       "      <td>GO:0031645</td>\n",
       "      <td>LPIN1 HCRT GPR35 EIF2AK3 GLRA1 MTNR1B CCN3 MTM...</td>\n",
       "      <td>16</td>\n",
       "      <td>negative regulation of nervous system process</td>\n",
       "    </tr>\n",
       "  </tbody>\n",
       "</table>\n",
       "</div>"
      ],
      "text/plain": [
       "           GO                                              Genes  Gene_Count  \\\n",
       "0  GO:0006311                                 TEX11 PRDM9 RNF212           3   \n",
       "1  GO:0006855  ABCB11 ABCC4 ABCC3 SLC29A2 SLC37A3 SLC19A1 SLC...          16   \n",
       "2  GO:0006890  GOLPH3L ARCN1 GBF1 KDELR1 BET1L PICK1 COPZ2 SC...          52   \n",
       "3  GO:1900372                                PARP1 FLCN RD3 PID1           4   \n",
       "4  GO:0031645  LPIN1 HCRT GPR35 EIF2AK3 GLRA1 MTNR1B CCN3 MTM...          16   \n",
       "\n",
       "                                    Term_Description  \n",
       "0                            meiotic gene conversion  \n",
       "1                 xenobiotic transmembrane transport  \n",
       "2  retrograde vesicle-mediated transport, Golgi t...  \n",
       "3  negative regulation of purine nucleotide biosy...  \n",
       "4      negative regulation of nervous system process  "
      ]
     },
     "execution_count": 3,
     "metadata": {},
     "output_type": "execute_result"
    }
   ],
   "source": [
    "## use case\n",
    "## GO version: latest 2023-11-15\n",
    "\n",
    "go_terms = load_go('./data/GO_BP/collapsed_go.symbol')\n",
    "go_terms = go_terms.reset_index().rename(columns={'index': 'GO'}) # rename the index column to column name GO\n",
    "print(go_terms.shape)\n",
    "\n",
    "# add the go term description\n",
    "term_des = pd.read_table('./data/GO_BP/goID_2_name.tab',\n",
    "                                        header=None,\n",
    "                                        names=['Term', 'Term_Description'],\n",
    "                                        index_col=0)\n",
    "go_terms_des = go_terms.merge(term_des, left_on='GO', right_index=True, how='left')\n",
    "\n",
    "# check if there are any missing values\n",
    "print(go_terms_des.isnull().sum())\n",
    "\n",
    "go_terms_des.to_csv('data/go_terms.csv')\n",
    "go_terms_des.head()"
   ]
  },
  {
   "cell_type": "markdown",
   "metadata": {},
   "source": [
    "## Step 2: Understand GO size distribution and select 1000 GO "
   ]
  },
  {
   "cell_type": "code",
   "execution_count": 6,
   "metadata": {},
   "outputs": [
    {
     "data": {
      "image/png": "[encoded data removed]",
      "text/plain": [
       "<Figure size 800x800 with 1 Axes>"
      ]
     },
     "metadata": {},
     "output_type": "display_data"
    },
    {
     "data": {
      "image/png": "[encoded data removed]",
      "text/plain": [
       "<Figure size 1600x800 with 2 Axes>"
      ]
     },
     "metadata": {},
     "output_type": "display_data"
    }
   ],
   "source": [
    "import matplotlib.pyplot as plt\n",
    "import pandas as pd\n",
    "go_terms = pd.read_csv('data/go_terms.csv', sep = ',',index_col=0)\n",
    "\n",
    "plt.figure(figsize=(8,8))\n",
    "plt.hist(go_terms['Gene_Count'], bins=50)\n",
    "\n",
    "# subplots\n",
    "fig, (ax1, ax2) = plt.subplots(1,2, figsize=(16,8))\n",
    "ax1.hist(go_terms[(go_terms['Gene_Count'] <= 150)]['Gene_Count'], bins=50)\n",
    "ax2.hist(go_terms[(go_terms['Gene_Count'] > 150)]['Gene_Count'], bins=50)\n",
    "plt.show()\n"
   ]
  },
  {
   "cell_type": "code",
   "execution_count": 14,
   "metadata": {},
   "outputs": [
    {
     "data": {
      "text/plain": [
       "0.8071673783806413"
      ]
     },
     "execution_count": 14,
     "metadata": {},
     "output_type": "execute_result"
    }
   ],
   "source": [
    "# if we randomly select GO terms between 3-200, what percentage of terms will be in the pool?\n",
    "go_terms[(go_terms['Gene_Count'] >= 3) & (go_terms['Gene_Count'] <= 200)].shape[0]/go_terms.shape[0]\n",
    "\n"
   ]
  },
  {
   "cell_type": "code",
   "execution_count": 22,
   "metadata": {},
   "outputs": [
    {
     "name": "stdout",
     "output_type": "stream",
     "text": [
      "        Gene_Count\n",
      "count  9640.000000\n",
      "mean     29.252075\n",
      "std      38.846752\n",
      "min       3.000000\n",
      "25%       6.000000\n",
      "50%      12.000000\n",
      "75%      34.000000\n",
      "max     200.000000\n",
      "(9640, 4)\n"
     ]
    },
    {
     "data": {
      "text/plain": [
       "(array([297., 154.,  86.,  68.,  41.,  45.,  28.,  29.,  24.,  16.,  17.,\n",
       "         17.,  13.,  10.,  15.,   9.,   7.,  13.,  10.,   4.,   7.,   8.,\n",
       "          5.,   7.,   3.,   5.,   6.,   7.,   5.,   3.,   1.,   5.,   0.,\n",
       "          7.,   2.,   1.,   2.,   5.,   1.,   1.,   1.,   1.,   2.,   4.,\n",
       "          3.,   1.,   1.,   1.,   0.,   2.]),\n",
       " array([  3. ,   6.9,  10.8,  14.7,  18.6,  22.5,  26.4,  30.3,  34.2,\n",
       "         38.1,  42. ,  45.9,  49.8,  53.7,  57.6,  61.5,  65.4,  69.3,\n",
       "         73.2,  77.1,  81. ,  84.9,  88.8,  92.7,  96.6, 100.5, 104.4,\n",
       "        108.3, 112.2, 116.1, 120. , 123.9, 127.8, 131.7, 135.6, 139.5,\n",
       "        143.4, 147.3, 151.2, 155.1, 159. , 162.9, 166.8, 170.7, 174.6,\n",
       "        178.5, 182.4, 186.3, 190.2, 194.1, 198. ]),\n",
       " <BarContainer object of 50 artists>)"
      ]
     },
     "execution_count": 22,
     "metadata": {},
     "output_type": "execute_result"
    },
    {
     "data": {
      "image/png": "[encoded data removed]",
      "text/plain": [
       "<Figure size 1600x800 with 2 Axes>"
      ]
     },
     "metadata": {},
     "output_type": "display_data"
    }
   ],
   "source": [
    "## randomly select 1000 GO terms from the pool between 3-200\n",
    "import random\n",
    "import pandas as pd\n",
    "import numpy as np\n",
    "\n",
    "SEED = 42\n",
    "min = 3\n",
    "max = 200\n",
    "\n",
    "go_terms = pd.read_csv('data/go_terms.csv', sep = ',',index_col=0)\n",
    "go_filtered = go_terms[(go_terms['Gene_Count'] >= min) & (go_terms['Gene_Count'] <= max)]\n",
    "print(go_filtered.describe())\n",
    "print(go_filtered.shape)\n",
    "\n",
    "# randomly select 1000 GO terms from the pool between min and max\n",
    "\n",
    "selected_go = go_filtered.sample(n=1000, random_state=SEED)\n",
    "\n",
    "selected_go.to_csv('data/GO_term_analysis/1000_selected_go_terms.csv', index=False)\n",
    "\n",
    "fig, (ax1, ax2) = plt.subplots(1,2, figsize=(16,8))\n",
    "ax1.hist(go_filtered['Gene_Count'], bins=50)\n",
    "ax2.hist(selected_go['Gene_Count'], bins=50)"
   ]
  },
  {
   "cell_type": "code",
   "execution_count": 23,
   "metadata": {},
   "outputs": [
    {
     "name": "stdout",
     "output_type": "stream",
     "text": [
      "        Gene_Count\n",
      "count  1000.000000\n",
      "mean     28.360000\n",
      "std      36.547395\n",
      "min       3.000000\n",
      "25%       6.000000\n",
      "50%      12.000000\n",
      "75%      35.000000\n",
      "max     198.000000\n"
     ]
    },
    {
     "data": {
      "text/html": [
       "<div>\n",
       "<style scoped>\n",
       "    .dataframe tbody tr th:only-of-type {\n",
       "        vertical-align: middle;\n",
       "    }\n",
       "\n",
       "    .dataframe tbody tr th {\n",
       "        vertical-align: top;\n",
       "    }\n",
       "\n",
       "    .dataframe thead th {\n",
       "        text-align: right;\n",
       "    }\n",
       "</style>\n",
       "<table border=\"1\" class=\"dataframe\">\n",
       "  <thead>\n",
       "    <tr style=\"text-align: right;\">\n",
       "      <th></th>\n",
       "      <th>GO</th>\n",
       "      <th>Genes</th>\n",
       "      <th>Gene_Count</th>\n",
       "      <th>Term_Description</th>\n",
       "    </tr>\n",
       "  </thead>\n",
       "  <tbody>\n",
       "    <tr>\n",
       "      <th>8057</th>\n",
       "      <td>GO:0006667</td>\n",
       "      <td>DEGS2 SPTLC1 SPTLC2</td>\n",
       "      <td>3</td>\n",
       "      <td>sphinganine metabolic process</td>\n",
       "    </tr>\n",
       "    <tr>\n",
       "      <th>808</th>\n",
       "      <td>GO:0035519</td>\n",
       "      <td>UBE2T PRKN RNF167 ITCH UBE3C RNF186 TRAF7 UBE2...</td>\n",
       "      <td>9</td>\n",
       "      <td>protein K29-linked ubiquitination</td>\n",
       "    </tr>\n",
       "    <tr>\n",
       "      <th>4548</th>\n",
       "      <td>GO:0002885</td>\n",
       "      <td>HLA-E C3 CCR7 BTK FCGR1A ZP3</td>\n",
       "      <td>6</td>\n",
       "      <td>positive regulation of hypersensitivity</td>\n",
       "    </tr>\n",
       "    <tr>\n",
       "      <th>1706</th>\n",
       "      <td>GO:1900625</td>\n",
       "      <td>CD44 NR4A3 HAS2</td>\n",
       "      <td>3</td>\n",
       "      <td>positive regulation of monocyte aggregation</td>\n",
       "    </tr>\n",
       "    <tr>\n",
       "      <th>7689</th>\n",
       "      <td>GO:1990806</td>\n",
       "      <td>PLCB1 GRIN1 GRIN2A GRIK5 GRIN2C GRIK1 GRID1 GR...</td>\n",
       "      <td>33</td>\n",
       "      <td>ligand-gated ion channel signaling pathway</td>\n",
       "    </tr>\n",
       "  </tbody>\n",
       "</table>\n",
       "</div>"
      ],
      "text/plain": [
       "              GO                                              Genes  \\\n",
       "8057  GO:0006667                                DEGS2 SPTLC1 SPTLC2   \n",
       "808   GO:0035519  UBE2T PRKN RNF167 ITCH UBE3C RNF186 TRAF7 UBE2...   \n",
       "4548  GO:0002885                       HLA-E C3 CCR7 BTK FCGR1A ZP3   \n",
       "1706  GO:1900625                                    CD44 NR4A3 HAS2   \n",
       "7689  GO:1990806  PLCB1 GRIN1 GRIN2A GRIK5 GRIN2C GRIK1 GRID1 GR...   \n",
       "\n",
       "      Gene_Count                             Term_Description  \n",
       "8057           3                sphinganine metabolic process  \n",
       "808            9            protein K29-linked ubiquitination  \n",
       "4548           6      positive regulation of hypersensitivity  \n",
       "1706           3  positive regulation of monocyte aggregation  \n",
       "7689          33   ligand-gated ion channel signaling pathway  "
      ]
     },
     "execution_count": 23,
     "metadata": {},
     "output_type": "execute_result"
    }
   ],
   "source": [
    "print(selected_go.describe())\n",
    "selected_go.head()"
   ]
  },
  {
   "cell_type": "code",
   "execution_count": 26,
   "metadata": {},
   "outputs": [],
   "source": [
    "# extract a subset of 10 GO terms as a toy example\n",
    "import pandas as pd\n",
    "df = pd.read_csv('data/GO_term_analysis/1000_selected_go_terms.csv')\n",
    "# take random 10 GO terms \n",
    "SEED = 42\n",
    "toy = df.sample(n=10, random_state=SEED)\n",
    "toy.to_csv('data/GO_term_analysis/toy_example.csv', index=False)\n"
   ]
  },
  {
   "cell_type": "code",
   "execution_count": null,
   "metadata": {},
   "outputs": [],
   "source": []
  }
 ],
 "metadata": {
  "kernelspec": {
   "display_name": "llm",
   "language": "python",
   "name": "python3"
  },
  "language_info": {
   "codemirror_mode": {
    "name": "ipython",
    "version": 3
   },
   "file_extension": ".py",
   "mimetype": "text/x-python",
   "name": "python",
   "nbconvert_exporter": "python",
   "pygments_lexer": "ipython3",
   "version": "3.11.5"
  },
  "orig_nbformat": 4
 },
 "nbformat": 4,
 "nbformat_minor": 2
}
