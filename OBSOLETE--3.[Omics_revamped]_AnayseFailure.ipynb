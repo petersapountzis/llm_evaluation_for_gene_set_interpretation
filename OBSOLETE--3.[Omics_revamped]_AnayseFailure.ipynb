{
 "cells": [
  {
   "cell_type": "code",
   "execution_count": 1,
   "id": "fa27e593-6e05-43b5-af14-5cdcbd477fc7",
   "metadata": {
    "collapsed": true,
    "jupyter": {
     "outputs_hidden": true
    },
    "tags": []
   },
   "outputs": [
    {
     "name": "stderr",
     "output_type": "stream",
     "text": [
      "── \u001b[1mAttaching core tidyverse packages\u001b[22m ──────────────────────── tidyverse 2.0.0 ──\n",
      "\u001b[32m✔\u001b[39m \u001b[34mdplyr    \u001b[39m 1.1.4     \u001b[32m✔\u001b[39m \u001b[34mreadr    \u001b[39m 2.1.5\n",
      "\u001b[32m✔\u001b[39m \u001b[34mforcats  \u001b[39m 1.0.0     \u001b[32m✔\u001b[39m \u001b[34mstringr  \u001b[39m 1.5.1\n",
      "\u001b[32m✔\u001b[39m \u001b[34mggplot2  \u001b[39m 3.4.4     \u001b[32m✔\u001b[39m \u001b[34mtibble   \u001b[39m 3.2.1\n",
      "\u001b[32m✔\u001b[39m \u001b[34mlubridate\u001b[39m 1.9.3     \u001b[32m✔\u001b[39m \u001b[34mtidyr    \u001b[39m 1.3.0\n",
      "\u001b[32m✔\u001b[39m \u001b[34mpurrr    \u001b[39m 1.0.2     \n",
      "── \u001b[1mConflicts\u001b[22m ────────────────────────────────────────── tidyverse_conflicts() ──\n",
      "\u001b[31m✖\u001b[39m \u001b[34mdplyr\u001b[39m::\u001b[32marrange()\u001b[39m   masks \u001b[34mplyr\u001b[39m::arrange()\n",
      "\u001b[31m✖\u001b[39m \u001b[34mpurrr\u001b[39m::\u001b[32mcompact()\u001b[39m   masks \u001b[34mplyr\u001b[39m::compact()\n",
      "\u001b[31m✖\u001b[39m \u001b[34mdplyr\u001b[39m::\u001b[32mcount()\u001b[39m     masks \u001b[34mplyr\u001b[39m::count()\n",
      "\u001b[31m✖\u001b[39m \u001b[34mdplyr\u001b[39m::\u001b[32mdesc()\u001b[39m      masks \u001b[34mplyr\u001b[39m::desc()\n",
      "\u001b[31m✖\u001b[39m \u001b[34mdplyr\u001b[39m::\u001b[32mfailwith()\u001b[39m  masks \u001b[34mplyr\u001b[39m::failwith()\n",
      "\u001b[31m✖\u001b[39m \u001b[34mdplyr\u001b[39m::\u001b[32mfilter()\u001b[39m    masks \u001b[34mstats\u001b[39m::filter()\n",
      "\u001b[31m✖\u001b[39m \u001b[34mdplyr\u001b[39m::\u001b[32mid()\u001b[39m        masks \u001b[34mplyr\u001b[39m::id()\n",
      "\u001b[31m✖\u001b[39m \u001b[34mdplyr\u001b[39m::\u001b[32mlag()\u001b[39m       masks \u001b[34mstats\u001b[39m::lag()\n",
      "\u001b[31m✖\u001b[39m \u001b[34mdplyr\u001b[39m::\u001b[32mmutate()\u001b[39m    masks \u001b[34mplyr\u001b[39m::mutate()\n",
      "\u001b[31m✖\u001b[39m \u001b[34mdplyr\u001b[39m::\u001b[32mrename()\u001b[39m    masks \u001b[34mplyr\u001b[39m::rename()\n",
      "\u001b[31m✖\u001b[39m \u001b[34mdplyr\u001b[39m::\u001b[32msummarise()\u001b[39m masks \u001b[34mplyr\u001b[39m::summarise()\n",
      "\u001b[31m✖\u001b[39m \u001b[34mdplyr\u001b[39m::\u001b[32msummarize()\u001b[39m masks \u001b[34mplyr\u001b[39m::summarize()\n",
      "\u001b[36mℹ\u001b[39m Use the conflicted package (\u001b[3m\u001b[34m<http://conflicted.r-lib.org/>\u001b[39m\u001b[23m) to force all conflicts to become errors\n"
     ]
    }
   ],
   "source": [
    "library(plyr, quietly = TRUE)\n",
    "library(tidyverse, quietly = TRUE)"
   ]
  },
  {
   "cell_type": "code",
   "execution_count": 2,
   "id": "ad6b72ff-10d3-4929-ae41-7177f4952a9c",
   "metadata": {},
   "outputs": [],
   "source": [
    "LLM_score_thresh = 0.8\n",
    "enrichr_adj_pval_thresh = 0.05\n",
    "enrichr_JI_thresh = 0.2"
   ]
  },
  {
   "cell_type": "code",
   "execution_count": 3,
   "id": "ca5c0967-332d-4a2a-85c6-a8c93df69014",
   "metadata": {},
   "outputs": [
    {
     "name": "stderr",
     "output_type": "stream",
     "text": [
      "\u001b[1m\u001b[22mNew names:\n",
      "\u001b[36m•\u001b[39m `` -> `...1`\n",
      "\u001b[1mRows: \u001b[22m\u001b[34m40\u001b[39m \u001b[1mColumns: \u001b[22m\u001b[34m18\u001b[39m\n",
      "\u001b[36m──\u001b[39m \u001b[1mColumn specification\u001b[22m \u001b[36m────────────────────────────────────────────────────────\u001b[39m\n",
      "\u001b[1mDelimiter:\u001b[22m \"\\t\"\n",
      "\u001b[31mchr\u001b[39m (10): Source, GeneSetID, GeneSetName, GeneList, LLM Name, LLM Analysis, ...\n",
      "\u001b[32mdbl\u001b[39m  (8): ...1, index, n_Genes, Score, Rank, P-value, Adjusted P-value, LLM_...\n",
      "\n",
      "\u001b[36mℹ\u001b[39m Use `spec()` to retrieve the full column specification for this data.\n",
      "\u001b[36mℹ\u001b[39m Specify the column types or set `show_col_types = FALSE` to quiet this message.\n"
     ]
    }
   ],
   "source": [
    "reduced_LLM_genes_DF = read_delim(file = \"data/omics_test_revamped_LLM_Enrichr_simVals_DF.tsv\", delim = \"\\t\")"
   ]
  },
  {
   "cell_type": "code",
   "execution_count": 4,
   "id": "de7fa0db-9bd5-4a98-b787-cfcc47c8248b",
   "metadata": {},
   "outputs": [],
   "source": [
    "get_JI = function(GeneList, enrichr_genes){\n",
    "    # assume separation is the same\n",
    "    geneSetGenes = str_split(string = GeneList, pattern = \" \")[[1]]\n",
    "    enrichRGenes =  str_split(string = enrichr_genes, pattern = \";\")[[1]]\n",
    "    JI = length(intersect(geneSetGenes, enrichRGenes))/ length(union(geneSetGenes, enrichRGenes))\n",
    "    \n",
    "    return(JI)\n",
    "    }\n",
    "    "
   ]
  },
  {
   "cell_type": "code",
   "execution_count": 5,
   "id": "37bddf44-5cee-4122-a002-a94cb79cb001",
   "metadata": {},
   "outputs": [],
   "source": [
    "reduced_LLM_genes_DF = reduced_LLM_genes_DF %>%\n",
    "rowwise() %>%\n",
    "mutate(enrichr_JI = get_JI(GeneList, Genes)) %>%\n",
    "mutate(LLM_success_TF = ifelse(Score < 0.8, FALSE, TRUE),\n",
    "       enrichr_success_TF = ifelse(((`Adjusted P-value` > enrichr_adj_pval_thresh) | (enrichr_JI < enrichr_JI_thresh)), FALSE, TRUE))"
   ]
  },
  {
   "cell_type": "code",
   "execution_count": 6,
   "id": "4ced32b0-687e-4c4a-8956-c11ef3954faf",
   "metadata": {},
   "outputs": [
    {
     "data": {
      "text/plain": [
       "              enrichr_success_TF\n",
       "LLM_success_TF FALSE TRUE\n",
       "         FALSE    11    2\n",
       "         TRUE     15   12"
      ]
     },
     "metadata": {},
     "output_type": "display_data"
    }
   ],
   "source": [
    "table(reduced_LLM_genes_DF[,c(\"LLM_success_TF\", \"enrichr_success_TF\")])"
   ]
  },
  {
   "cell_type": "code",
   "execution_count": 7,
   "id": "18b58612-2d04-4dab-90e6-27e66a66c9fd",
   "metadata": {},
   "outputs": [
    {
     "data": {
      "text/html": [
       "0.576923076923077"
      ],
      "text/latex": [
       "0.576923076923077"
      ],
      "text/markdown": [
       "0.576923076923077"
      ],
      "text/plain": [
       "[1] 0.5769231"
      ]
     },
     "metadata": {},
     "output_type": "display_data"
    }
   ],
   "source": [
    "15/26"
   ]
  },
  {
   "cell_type": "code",
   "execution_count": 10,
   "id": "b70ac5af-2fa9-4393-872c-45a17254bd87",
   "metadata": {},
   "outputs": [],
   "source": [
    "a = reduced_LLM_genes_DF %>%\n",
    "subset((LLM_success_TF == FALSE) & (enrichr_success_TF == TRUE))"
   ]
  },
  {
   "cell_type": "code",
   "execution_count": 23,
   "id": "4e0d8d6e-f1ec-4242-8b6e-f66013d5d3d9",
   "metadata": {},
   "outputs": [],
   "source": [
    "a %>% select(-\"LLM Analysis\") %>% select(c(\"GeneSetName\", \"GeneList\", \"LLM Name\", \"Adjusted P-value\", \"GO term\", \"enrichr_JI\")) %>%\n",
    "write_delim(file = \"data/failure.txt\", delim = \"\\t\")"
   ]
  },
  {
   "cell_type": "code",
   "execution_count": null,
   "id": "2138ea58-704e-4d1c-8a8a-fd152886d6c0",
   "metadata": {
    "tags": []
   },
   "outputs": [],
   "source": [
    "colnames(reduced_LLM_genes_DF)"
   ]
  },
  {
   "cell_type": "code",
   "execution_count": 13,
   "id": "bc344cc8-33b0-4b89-90b0-78d6232aa059",
   "metadata": {},
   "outputs": [],
   "source": [
    "both_success_DF = reduced_LLM_genes_DF %>%\n",
    "subset((LLM_success_TF == TRUE) & (enrichr_success_TF == TRUE))"
   ]
  },
  {
   "cell_type": "code",
   "execution_count": 14,
   "id": "bdfea45c-1f5c-4bc8-bf1d-adc09aa805fc",
   "metadata": {
    "collapsed": true,
    "jupyter": {
     "outputs_hidden": true
    },
    "tags": []
   },
   "outputs": [
    {
     "name": "stderr",
     "output_type": "stream",
     "text": [
      "\n",
      "Attaching package: ‘ggpubr’\n",
      "\n",
      "\n",
      "The following object is masked from ‘package:plyr’:\n",
      "\n",
      "    mutate\n",
      "\n",
      "\n"
     ]
    }
   ],
   "source": [
    "library(ggpubr)"
   ]
  },
  {
   "cell_type": "code",
   "execution_count": 20,
   "id": "b0636401-ba1d-4a06-a52e-565cda53e1e2",
   "metadata": {
    "collapsed": true,
    "jupyter": {
     "outputs_hidden": true
    },
    "tags": []
   },
   "outputs": [
    {
     "data": {
      "text/html": [
       "<table class=\"dataframe\">\n",
       "<caption>A rowwise_df: 6 × 20</caption>\n",
       "<thead>\n",
       "\t<tr><th scope=col>...1</th><th scope=col>index</th><th scope=col>Source</th><th scope=col>GeneSetID</th><th scope=col>GeneSetName</th><th scope=col>GeneList</th><th scope=col>n_Genes</th><th scope=col>LLM Name</th><th scope=col>Score</th><th scope=col>Rank</th><th scope=col>Overlap</th><th scope=col>P-value</th><th scope=col>Adjusted P-value</th><th scope=col>Genes</th><th scope=col>GO term</th><th scope=col>GO ID</th><th scope=col>LLM_name_GO_term_sim</th><th scope=col>enrichr_JI</th><th scope=col>LLM_success_TF</th><th scope=col>enrichr_success_TF</th></tr>\n",
       "\t<tr><th scope=col>&lt;dbl&gt;</th><th scope=col>&lt;dbl&gt;</th><th scope=col>&lt;chr&gt;</th><th scope=col>&lt;chr&gt;</th><th scope=col>&lt;chr&gt;</th><th scope=col>&lt;chr&gt;</th><th scope=col>&lt;dbl&gt;</th><th scope=col>&lt;chr&gt;</th><th scope=col>&lt;dbl&gt;</th><th scope=col>&lt;dbl&gt;</th><th scope=col>&lt;chr&gt;</th><th scope=col>&lt;dbl&gt;</th><th scope=col>&lt;dbl&gt;</th><th scope=col>&lt;chr&gt;</th><th scope=col>&lt;chr&gt;</th><th scope=col>&lt;chr&gt;</th><th scope=col>&lt;dbl&gt;</th><th scope=col>&lt;dbl&gt;</th><th scope=col>&lt;lgl&gt;</th><th scope=col>&lt;lgl&gt;</th></tr>\n",
       "</thead>\n",
       "<tbody>\n",
       "\t<tr><td>26</td><td>0</td><td>NeST           </td><td>Cluster1-16                              </td><td>Cluster1-16                              </td><td>DPP6 KCND2 KCND3 KCNE4 KCNIP1 KCNIP2 KCNIP4 SRSF3 SUGP2 TARDBP TRNAU1AP                                                                                                                                                                                                                                                                                                                                                                                                                                                                                                                                                 </td><td> 11</td><td>Regulation of Cardiac and Neuronal Excitability               </td><td>0.92</td><td>0</td><td>4/30 </td><td>1.346836e-09</td><td>7.836523e-08</td><td>DPP6;KCNIP1;KCNIP2;KCNIP4                                                                                                 </td><td>Regulation Of Potassium Ion Transport                 </td><td>GO:0043266</td><td>0.4910333</td><td>0.3636364</td><td>TRUE</td><td>TRUE</td></tr>\n",
       "\t<tr><td>27</td><td>0</td><td>NeST           </td><td>Cluster1-17                              </td><td>Cluster1-17                              </td><td>ATAD5 FANCI PHLPP1 RAD51AP1 USP1 USP12 WDR48                                                                                                                                                                                                                                                                                                                                                                                                                                                                                                                                                                            </td><td>  7</td><td>DNA Damage Response and Repair                                </td><td>0.92</td><td>0</td><td>2/36 </td><td>6.577641e-05</td><td>1.381305e-03</td><td>FANCI;RAD51AP1                                                                                                            </td><td>Interstrand Cross-Link Repair                         </td><td>GO:0036297</td><td>0.6352661</td><td>0.2857143</td><td>TRUE</td><td>TRUE</td></tr>\n",
       "\t<tr><td>28</td><td>0</td><td>NeST           </td><td>Cluster1-18                              </td><td>Cluster1-18                              </td><td>AK2 CDH1 HADHA HADHB MT-ATP8 MT-ND4L SQSTM1                                                                                                                                                                                                                                                                                                                                                                                                                                                                                                                                                                             </td><td>  7</td><td>Mitochondrial Energy Metabolism and Cellular Homeostasis      </td><td>0.88</td><td>0</td><td>2/49 </td><td>1.225173e-04</td><td>6.215530e-03</td><td>HADHB;HADHA                                                                                                               </td><td>Fatty Acid Beta-Oxidation                             </td><td>GO:0006635</td><td>0.4247301</td><td>0.2857143</td><td>TRUE</td><td>TRUE</td></tr>\n",
       "\t<tr><td>29</td><td>0</td><td>NeST           </td><td>Cluster1-19                              </td><td>Cluster1-19                              </td><td>EGFR NR3C1 PRDX1 PRDX2 PRDX5 TXN                                                                                                                                                                                                                                                                                                                                                                                                                                                                                                                                                                                        </td><td>  6</td><td>Redox Regulation and Signal Transduction                      </td><td>0.92</td><td>0</td><td>3/20 </td><td>1.706727e-08</td><td>2.662494e-06</td><td>PRDX2;PRDX5;PRDX1                                                                                                         </td><td>Hydrogen Peroxide Catabolic Process                   </td><td>GO:0042744</td><td>0.3988067</td><td>0.5000000</td><td>TRUE</td><td>TRUE</td></tr>\n",
       "\t<tr><td>37</td><td>0</td><td>Small Molecules</td><td>doxorubicin_homo sapiens_gpl7168_gse12450</td><td>doxorubicin homo sapiens gpl7168 gse12450</td><td>CD3D ANKRD33B IL1B ABHD1                                                                                                                                                                                                                                                                                                                                                                                                                                                                                                                                                                                                </td><td>  4</td><td>Immune Response Modulation                                    </td><td>0.85</td><td>0</td><td>1/5  </td><td>9.996772e-04</td><td>1.497744e-02</td><td>IL1B                                                                                                                      </td><td>Regulation Of Immature T Cell Proliferation In Thymus </td><td>GO:0033084</td><td>0.4898155</td><td>0.2500000</td><td>TRUE</td><td>TRUE</td></tr>\n",
       "\t<tr><td>39</td><td>0</td><td>Small Molecules</td><td>estradiol_homo sapiens_gpl91_gds884      </td><td>estradiol homo sapiens gpl91 gds884      </td><td>AURKA CFL1 TUBB UBC HSP90AB1 ENO1 HSPB1 ACTB ACTG1 B2M GAPDH RPL10 HLA-C CLU RPL24 RPS15 RPS2 RPS17 RPS9 RPS3 RPL9 RPS12 RPS23 RPS3A RPLP1 RPS19 RPL8 RPL32 RPL17 RPS16 RPS21 HMGN2 RPL37A RPS20 TMSB4X GNAS ANXA2P3 RPSAP19 ANKRD12 FOXJ2 RHOBTB1 DDX5 ARF1 CANX SYPL1 HIF1A VEGFC TXNRD2 SERTAD2 KIF3B SEC16A COPB1 EIF2AK2 CAPN2 JAG1 HSPG2 AHNAK SND1 FEZ2 PLK2 DSTN CSRP1 OAT KIF2C NDUFS6 SFI1 NUDC PTP4A1 ILF3 EIF4G1 RPS6KA1 RND3 SAMD4A MACF1 MCL1 YIF1A SSR2 ZBTB5 AP1S1 TXNRD1 MYL12B HSPA8 ALDOA DDIT4 PLIN2 SFN CRIM1 COX7A2 APP RPL35 RPL13A RPL23 TOMM20 CDK2AP2 KDELR1 CITED2 MAGEA5 MT1P3 LRP3 RPL21P80</td><td>100</td><td>Cellular Structural Integrity and Protein Synthesis Regulation</td><td>0.88</td><td>0</td><td>21/93</td><td>1.412132e-29</td><td>1.436138e-26</td><td>RPS9;RPL32;RPL10;RPLP1;RPL13A;RPS3A;RPL8;RPL9;RPS15;RPS17;RPS16;RPS19;RPL37A;RPS3;RPL35;RPL24;RPS20;RPS2;RPL17;RPS21;RPS23</td><td>Cytoplasmic Translation                               </td><td>GO:0002181</td><td>0.4613842</td><td>0.2100000</td><td>TRUE</td><td>TRUE</td></tr>\n",
       "</tbody>\n",
       "</table>\n"
      ],
      "text/latex": [
       "A rowwise\\_df: 6 × 20\n",
       "\\begin{tabular}{llllllllllllllllllll}\n",
       " ...1 & index & Source & GeneSetID & GeneSetName & GeneList & n\\_Genes & LLM Name & Score & Rank & Overlap & P-value & Adjusted P-value & Genes & GO term & GO ID & LLM\\_name\\_GO\\_term\\_sim & enrichr\\_JI & LLM\\_success\\_TF & enrichr\\_success\\_TF\\\\\n",
       " <dbl> & <dbl> & <chr> & <chr> & <chr> & <chr> & <dbl> & <chr> & <dbl> & <dbl> & <chr> & <dbl> & <dbl> & <chr> & <chr> & <chr> & <dbl> & <dbl> & <lgl> & <lgl>\\\\\n",
       "\\hline\n",
       "\t 26 & 0 & NeST            & Cluster1-16                               & Cluster1-16                               & DPP6 KCND2 KCND3 KCNE4 KCNIP1 KCNIP2 KCNIP4 SRSF3 SUGP2 TARDBP TRNAU1AP                                                                                                                                                                                                                                                                                                                                                                                                                                                                                                                                                  &  11 & Regulation of Cardiac and Neuronal Excitability                & 0.92 & 0 & 4/30  & 1.346836e-09 & 7.836523e-08 & DPP6;KCNIP1;KCNIP2;KCNIP4                                                                                                  & Regulation Of Potassium Ion Transport                  & GO:0043266 & 0.4910333 & 0.3636364 & TRUE & TRUE\\\\\n",
       "\t 27 & 0 & NeST            & Cluster1-17                               & Cluster1-17                               & ATAD5 FANCI PHLPP1 RAD51AP1 USP1 USP12 WDR48                                                                                                                                                                                                                                                                                                                                                                                                                                                                                                                                                                             &   7 & DNA Damage Response and Repair                                 & 0.92 & 0 & 2/36  & 6.577641e-05 & 1.381305e-03 & FANCI;RAD51AP1                                                                                                             & Interstrand Cross-Link Repair                          & GO:0036297 & 0.6352661 & 0.2857143 & TRUE & TRUE\\\\\n",
       "\t 28 & 0 & NeST            & Cluster1-18                               & Cluster1-18                               & AK2 CDH1 HADHA HADHB MT-ATP8 MT-ND4L SQSTM1                                                                                                                                                                                                                                                                                                                                                                                                                                                                                                                                                                              &   7 & Mitochondrial Energy Metabolism and Cellular Homeostasis       & 0.88 & 0 & 2/49  & 1.225173e-04 & 6.215530e-03 & HADHB;HADHA                                                                                                                & Fatty Acid Beta-Oxidation                              & GO:0006635 & 0.4247301 & 0.2857143 & TRUE & TRUE\\\\\n",
       "\t 29 & 0 & NeST            & Cluster1-19                               & Cluster1-19                               & EGFR NR3C1 PRDX1 PRDX2 PRDX5 TXN                                                                                                                                                                                                                                                                                                                                                                                                                                                                                                                                                                                         &   6 & Redox Regulation and Signal Transduction                       & 0.92 & 0 & 3/20  & 1.706727e-08 & 2.662494e-06 & PRDX2;PRDX5;PRDX1                                                                                                          & Hydrogen Peroxide Catabolic Process                    & GO:0042744 & 0.3988067 & 0.5000000 & TRUE & TRUE\\\\\n",
       "\t 37 & 0 & Small Molecules & doxorubicin\\_homo sapiens\\_gpl7168\\_gse12450 & doxorubicin homo sapiens gpl7168 gse12450 & CD3D ANKRD33B IL1B ABHD1                                                                                                                                                                                                                                                                                                                                                                                                                                                                                                                                                                                                 &   4 & Immune Response Modulation                                     & 0.85 & 0 & 1/5   & 9.996772e-04 & 1.497744e-02 & IL1B                                                                                                                       & Regulation Of Immature T Cell Proliferation In Thymus  & GO:0033084 & 0.4898155 & 0.2500000 & TRUE & TRUE\\\\\n",
       "\t 39 & 0 & Small Molecules & estradiol\\_homo sapiens\\_gpl91\\_gds884       & estradiol homo sapiens gpl91 gds884       & AURKA CFL1 TUBB UBC HSP90AB1 ENO1 HSPB1 ACTB ACTG1 B2M GAPDH RPL10 HLA-C CLU RPL24 RPS15 RPS2 RPS17 RPS9 RPS3 RPL9 RPS12 RPS23 RPS3A RPLP1 RPS19 RPL8 RPL32 RPL17 RPS16 RPS21 HMGN2 RPL37A RPS20 TMSB4X GNAS ANXA2P3 RPSAP19 ANKRD12 FOXJ2 RHOBTB1 DDX5 ARF1 CANX SYPL1 HIF1A VEGFC TXNRD2 SERTAD2 KIF3B SEC16A COPB1 EIF2AK2 CAPN2 JAG1 HSPG2 AHNAK SND1 FEZ2 PLK2 DSTN CSRP1 OAT KIF2C NDUFS6 SFI1 NUDC PTP4A1 ILF3 EIF4G1 RPS6KA1 RND3 SAMD4A MACF1 MCL1 YIF1A SSR2 ZBTB5 AP1S1 TXNRD1 MYL12B HSPA8 ALDOA DDIT4 PLIN2 SFN CRIM1 COX7A2 APP RPL35 RPL13A RPL23 TOMM20 CDK2AP2 KDELR1 CITED2 MAGEA5 MT1P3 LRP3 RPL21P80 & 100 & Cellular Structural Integrity and Protein Synthesis Regulation & 0.88 & 0 & 21/93 & 1.412132e-29 & 1.436138e-26 & RPS9;RPL32;RPL10;RPLP1;RPL13A;RPS3A;RPL8;RPL9;RPS15;RPS17;RPS16;RPS19;RPL37A;RPS3;RPL35;RPL24;RPS20;RPS2;RPL17;RPS21;RPS23 & Cytoplasmic Translation                                & GO:0002181 & 0.4613842 & 0.2100000 & TRUE & TRUE\\\\\n",
       "\\end{tabular}\n"
      ],
      "text/markdown": [
       "\n",
       "A rowwise_df: 6 × 20\n",
       "\n",
       "| ...1 &lt;dbl&gt; | index &lt;dbl&gt; | Source &lt;chr&gt; | GeneSetID &lt;chr&gt; | GeneSetName &lt;chr&gt; | GeneList &lt;chr&gt; | n_Genes &lt;dbl&gt; | LLM Name &lt;chr&gt; | Score &lt;dbl&gt; | Rank &lt;dbl&gt; | Overlap &lt;chr&gt; | P-value &lt;dbl&gt; | Adjusted P-value &lt;dbl&gt; | Genes &lt;chr&gt; | GO term &lt;chr&gt; | GO ID &lt;chr&gt; | LLM_name_GO_term_sim &lt;dbl&gt; | enrichr_JI &lt;dbl&gt; | LLM_success_TF &lt;lgl&gt; | enrichr_success_TF &lt;lgl&gt; |\n",
       "|---|---|---|---|---|---|---|---|---|---|---|---|---|---|---|---|---|---|---|---|\n",
       "| 26 | 0 | NeST            | Cluster1-16                               | Cluster1-16                               | DPP6 KCND2 KCND3 KCNE4 KCNIP1 KCNIP2 KCNIP4 SRSF3 SUGP2 TARDBP TRNAU1AP                                                                                                                                                                                                                                                                                                                                                                                                                                                                                                                                                  |  11 | Regulation of Cardiac and Neuronal Excitability                | 0.92 | 0 | 4/30  | 1.346836e-09 | 7.836523e-08 | DPP6;KCNIP1;KCNIP2;KCNIP4                                                                                                  | Regulation Of Potassium Ion Transport                  | GO:0043266 | 0.4910333 | 0.3636364 | TRUE | TRUE |\n",
       "| 27 | 0 | NeST            | Cluster1-17                               | Cluster1-17                               | ATAD5 FANCI PHLPP1 RAD51AP1 USP1 USP12 WDR48                                                                                                                                                                                                                                                                                                                                                                                                                                                                                                                                                                             |   7 | DNA Damage Response and Repair                                 | 0.92 | 0 | 2/36  | 6.577641e-05 | 1.381305e-03 | FANCI;RAD51AP1                                                                                                             | Interstrand Cross-Link Repair                          | GO:0036297 | 0.6352661 | 0.2857143 | TRUE | TRUE |\n",
       "| 28 | 0 | NeST            | Cluster1-18                               | Cluster1-18                               | AK2 CDH1 HADHA HADHB MT-ATP8 MT-ND4L SQSTM1                                                                                                                                                                                                                                                                                                                                                                                                                                                                                                                                                                              |   7 | Mitochondrial Energy Metabolism and Cellular Homeostasis       | 0.88 | 0 | 2/49  | 1.225173e-04 | 6.215530e-03 | HADHB;HADHA                                                                                                                | Fatty Acid Beta-Oxidation                              | GO:0006635 | 0.4247301 | 0.2857143 | TRUE | TRUE |\n",
       "| 29 | 0 | NeST            | Cluster1-19                               | Cluster1-19                               | EGFR NR3C1 PRDX1 PRDX2 PRDX5 TXN                                                                                                                                                                                                                                                                                                                                                                                                                                                                                                                                                                                         |   6 | Redox Regulation and Signal Transduction                       | 0.92 | 0 | 3/20  | 1.706727e-08 | 2.662494e-06 | PRDX2;PRDX5;PRDX1                                                                                                          | Hydrogen Peroxide Catabolic Process                    | GO:0042744 | 0.3988067 | 0.5000000 | TRUE | TRUE |\n",
       "| 37 | 0 | Small Molecules | doxorubicin_homo sapiens_gpl7168_gse12450 | doxorubicin homo sapiens gpl7168 gse12450 | CD3D ANKRD33B IL1B ABHD1                                                                                                                                                                                                                                                                                                                                                                                                                                                                                                                                                                                                 |   4 | Immune Response Modulation                                     | 0.85 | 0 | 1/5   | 9.996772e-04 | 1.497744e-02 | IL1B                                                                                                                       | Regulation Of Immature T Cell Proliferation In Thymus  | GO:0033084 | 0.4898155 | 0.2500000 | TRUE | TRUE |\n",
       "| 39 | 0 | Small Molecules | estradiol_homo sapiens_gpl91_gds884       | estradiol homo sapiens gpl91 gds884       | AURKA CFL1 TUBB UBC HSP90AB1 ENO1 HSPB1 ACTB ACTG1 B2M GAPDH RPL10 HLA-C CLU RPL24 RPS15 RPS2 RPS17 RPS9 RPS3 RPL9 RPS12 RPS23 RPS3A RPLP1 RPS19 RPL8 RPL32 RPL17 RPS16 RPS21 HMGN2 RPL37A RPS20 TMSB4X GNAS ANXA2P3 RPSAP19 ANKRD12 FOXJ2 RHOBTB1 DDX5 ARF1 CANX SYPL1 HIF1A VEGFC TXNRD2 SERTAD2 KIF3B SEC16A COPB1 EIF2AK2 CAPN2 JAG1 HSPG2 AHNAK SND1 FEZ2 PLK2 DSTN CSRP1 OAT KIF2C NDUFS6 SFI1 NUDC PTP4A1 ILF3 EIF4G1 RPS6KA1 RND3 SAMD4A MACF1 MCL1 YIF1A SSR2 ZBTB5 AP1S1 TXNRD1 MYL12B HSPA8 ALDOA DDIT4 PLIN2 SFN CRIM1 COX7A2 APP RPL35 RPL13A RPL23 TOMM20 CDK2AP2 KDELR1 CITED2 MAGEA5 MT1P3 LRP3 RPL21P80 | 100 | Cellular Structural Integrity and Protein Synthesis Regulation | 0.88 | 0 | 21/93 | 1.412132e-29 | 1.436138e-26 | RPS9;RPL32;RPL10;RPLP1;RPL13A;RPS3A;RPL8;RPL9;RPS15;RPS17;RPS16;RPS19;RPL37A;RPS3;RPL35;RPL24;RPS20;RPS2;RPL17;RPS21;RPS23 | Cytoplasmic Translation                                | GO:0002181 | 0.4613842 | 0.2100000 | TRUE | TRUE |\n",
       "\n"
      ],
      "text/plain": [
       "  ...1 index Source          GeneSetID                                \n",
       "1 26   0     NeST            Cluster1-16                              \n",
       "2 27   0     NeST            Cluster1-17                              \n",
       "3 28   0     NeST            Cluster1-18                              \n",
       "4 29   0     NeST            Cluster1-19                              \n",
       "5 37   0     Small Molecules doxorubicin_homo sapiens_gpl7168_gse12450\n",
       "6 39   0     Small Molecules estradiol_homo sapiens_gpl91_gds884      \n",
       "  GeneSetName                              \n",
       "1 Cluster1-16                              \n",
       "2 Cluster1-17                              \n",
       "3 Cluster1-18                              \n",
       "4 Cluster1-19                              \n",
       "5 doxorubicin homo sapiens gpl7168 gse12450\n",
       "6 estradiol homo sapiens gpl91 gds884      \n",
       "  GeneList                                                                                                                                                                                                                                                                                                                                                                                                                                                                                                                                                                                                                \n",
       "1 DPP6 KCND2 KCND3 KCNE4 KCNIP1 KCNIP2 KCNIP4 SRSF3 SUGP2 TARDBP TRNAU1AP                                                                                                                                                                                                                                                                                                                                                                                                                                                                                                                                                 \n",
       "2 ATAD5 FANCI PHLPP1 RAD51AP1 USP1 USP12 WDR48                                                                                                                                                                                                                                                                                                                                                                                                                                                                                                                                                                            \n",
       "3 AK2 CDH1 HADHA HADHB MT-ATP8 MT-ND4L SQSTM1                                                                                                                                                                                                                                                                                                                                                                                                                                                                                                                                                                             \n",
       "4 EGFR NR3C1 PRDX1 PRDX2 PRDX5 TXN                                                                                                                                                                                                                                                                                                                                                                                                                                                                                                                                                                                        \n",
       "5 CD3D ANKRD33B IL1B ABHD1                                                                                                                                                                                                                                                                                                                                                                                                                                                                                                                                                                                                \n",
       "6 AURKA CFL1 TUBB UBC HSP90AB1 ENO1 HSPB1 ACTB ACTG1 B2M GAPDH RPL10 HLA-C CLU RPL24 RPS15 RPS2 RPS17 RPS9 RPS3 RPL9 RPS12 RPS23 RPS3A RPLP1 RPS19 RPL8 RPL32 RPL17 RPS16 RPS21 HMGN2 RPL37A RPS20 TMSB4X GNAS ANXA2P3 RPSAP19 ANKRD12 FOXJ2 RHOBTB1 DDX5 ARF1 CANX SYPL1 HIF1A VEGFC TXNRD2 SERTAD2 KIF3B SEC16A COPB1 EIF2AK2 CAPN2 JAG1 HSPG2 AHNAK SND1 FEZ2 PLK2 DSTN CSRP1 OAT KIF2C NDUFS6 SFI1 NUDC PTP4A1 ILF3 EIF4G1 RPS6KA1 RND3 SAMD4A MACF1 MCL1 YIF1A SSR2 ZBTB5 AP1S1 TXNRD1 MYL12B HSPA8 ALDOA DDIT4 PLIN2 SFN CRIM1 COX7A2 APP RPL35 RPL13A RPL23 TOMM20 CDK2AP2 KDELR1 CITED2 MAGEA5 MT1P3 LRP3 RPL21P80\n",
       "  n_Genes LLM Name                                                       Score\n",
       "1  11     Regulation of Cardiac and Neuronal Excitability                0.92 \n",
       "2   7     DNA Damage Response and Repair                                 0.92 \n",
       "3   7     Mitochondrial Energy Metabolism and Cellular Homeostasis       0.88 \n",
       "4   6     Redox Regulation and Signal Transduction                       0.92 \n",
       "5   4     Immune Response Modulation                                     0.85 \n",
       "6 100     Cellular Structural Integrity and Protein Synthesis Regulation 0.88 \n",
       "  Rank Overlap P-value      Adjusted P-value\n",
       "1 0    4/30    1.346836e-09 7.836523e-08    \n",
       "2 0    2/36    6.577641e-05 1.381305e-03    \n",
       "3 0    2/49    1.225173e-04 6.215530e-03    \n",
       "4 0    3/20    1.706727e-08 2.662494e-06    \n",
       "5 0    1/5     9.996772e-04 1.497744e-02    \n",
       "6 0    21/93   1.412132e-29 1.436138e-26    \n",
       "  Genes                                                                                                                     \n",
       "1 DPP6;KCNIP1;KCNIP2;KCNIP4                                                                                                 \n",
       "2 FANCI;RAD51AP1                                                                                                            \n",
       "3 HADHB;HADHA                                                                                                               \n",
       "4 PRDX2;PRDX5;PRDX1                                                                                                         \n",
       "5 IL1B                                                                                                                      \n",
       "6 RPS9;RPL32;RPL10;RPLP1;RPL13A;RPS3A;RPL8;RPL9;RPS15;RPS17;RPS16;RPS19;RPL37A;RPS3;RPL35;RPL24;RPS20;RPS2;RPL17;RPS21;RPS23\n",
       "  GO term                                                GO ID     \n",
       "1 Regulation Of Potassium Ion Transport                  GO:0043266\n",
       "2 Interstrand Cross-Link Repair                          GO:0036297\n",
       "3 Fatty Acid Beta-Oxidation                              GO:0006635\n",
       "4 Hydrogen Peroxide Catabolic Process                    GO:0042744\n",
       "5 Regulation Of Immature T Cell Proliferation In Thymus  GO:0033084\n",
       "6 Cytoplasmic Translation                                GO:0002181\n",
       "  LLM_name_GO_term_sim enrichr_JI LLM_success_TF enrichr_success_TF\n",
       "1 0.4910333            0.3636364  TRUE           TRUE              \n",
       "2 0.6352661            0.2857143  TRUE           TRUE              \n",
       "3 0.4247301            0.2857143  TRUE           TRUE              \n",
       "4 0.3988067            0.5000000  TRUE           TRUE              \n",
       "5 0.4898155            0.2500000  TRUE           TRUE              \n",
       "6 0.4613842            0.2100000  TRUE           TRUE              "
      ]
     },
     "metadata": {},
     "output_type": "display_data"
    }
   ],
   "source": [
    "both_success_DF %>% select(-\"LLM Analysis\") %>% tail()"
   ]
  },
  {
   "cell_type": "code",
   "execution_count": 24,
   "id": "dd13c94f-9ef1-4eaa-aa86-be66b7cc1845",
   "metadata": {},
   "outputs": [],
   "source": [
    "hist_plot = gghistogram(data = both_success_DF, x = \"LLM_name_GO_term_sim\", y = \"count\", bins = 100)"
   ]
  },
  {
   "cell_type": "code",
   "execution_count": 25,
   "id": "3eba8e0e-7ea9-4f61-b6ef-cd2a6a6eae63",
   "metadata": {},
   "outputs": [],
   "source": [
    "ggsave(filename = \"figures/omics_revamped_test_hist_sim_LLM_GO_success.png\", width = 5, height = 2)"
   ]
  },
  {
   "cell_type": "code",
   "execution_count": 30,
   "id": "178f54dc-76c6-4bb2-97ed-6258240abd9d",
   "metadata": {},
   "outputs": [],
   "source": [
    "both_success_DF %>% subset(LLM_name_GO_term_sim > 0.8) %>% select(-\"LLM Analysis\") %>%\n",
    "select(c(\"GeneSetName\", \"GeneList\", \"LLM Name\", \"Adjusted P-value\", \"GO term\", \"enrichr_JI\"))  %>%\n",
    "write_delim(file = \"data/both_success_high_sim.txt\", delim = \"\\t\")"
   ]
  },
  {
   "cell_type": "code",
   "execution_count": 31,
   "id": "c63f5260-8438-4363-9fea-1e3857c88987",
   "metadata": {},
   "outputs": [],
   "source": [
    "both_success_DF %>% subset(LLM_name_GO_term_sim < 0.3) %>% select(-\"LLM Analysis\") %>%\n",
    "select(c(\"GeneSetName\", \"GeneList\", \"LLM Name\", \"Adjusted P-value\", \"GO term\", \"enrichr_JI\"))  %>%\n",
    "write_delim(file = \"data/both_success_low_sim.txt\", delim = \"\\t\")"
   ]
  },
  {
   "cell_type": "raw",
   "id": "7c581f5c-e800-42d7-86e6-eb42cad0b63f",
   "metadata": {},
   "source": [
    "Result # 1: Table of failure and successes by enrichment and LLM. \n",
    "\n",
    "Q1: How many times did enrichment fail and LLM succeed\n",
    "\n",
    "- Results # 2: For cases with success from both LLM and enrichment, how often does LLM agree with the most enriched name?\n",
    "- Result # 3: Manual evaluation for cases where both LLM and JI succeed but are different from each other"
   ]
  },
  {
   "cell_type": "code",
   "execution_count": null,
   "id": "6a73def1-ce09-4d50-8556-d983e129b6c7",
   "metadata": {},
   "outputs": [],
   "source": [
    "distribution of semantic similarty for both success"
   ]
  },
  {
   "cell_type": "code",
   "execution_count": null,
   "id": "41d3c799-e413-49f1-8765-0b7fbe579a34",
   "metadata": {},
   "outputs": [],
   "source": [
    "similarity between LLM name and enrichr name for both success"
   ]
  }
 ],
 "metadata": {
  "kernelspec": {
   "display_name": "R",
   "language": "R",
   "name": "ir"
  },
  "language_info": {
   "codemirror_mode": "r",
   "file_extension": ".r",
   "mimetype": "text/x-r-source",
   "name": "R",
   "pygments_lexer": "r",
   "version": "4.3.2"
  }
 },
 "nbformat": 4,
 "nbformat_minor": 5
}
